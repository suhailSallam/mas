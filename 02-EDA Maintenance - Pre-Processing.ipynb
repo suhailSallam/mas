{
 "cells": [
  {
   "cell_type": "code",
   "execution_count": 1,
   "id": "89e190c9",
   "metadata": {},
   "outputs": [],
   "source": [
    "# Import Libraries"
   ]
  },
  {
   "cell_type": "code",
   "execution_count": 2,
   "id": "5b2cb035",
   "metadata": {},
   "outputs": [
    {
     "data": {
      "text/plain": [
       "'module://matplotlib_inline.backend_inline'"
      ]
     },
     "execution_count": 2,
     "metadata": {},
     "output_type": "execute_result"
    }
   ],
   "source": [
    "import pandas as pd\n",
    "import numpy as np\n",
    "import matplotlib.pyplot as plt\n",
    "import matplotlib\n",
    "import seaborn as sns\n",
    "import plotly.express as px\n",
    "import plotly.io as pio\n",
    "import plotly\n",
    "from ydata_profiling import  ProfileReport\n",
    "import PyQt5 as qt\n",
    "from IPython.display import display, Markdown\n",
    "#Enable graphing inside jupytor\n",
    "#pip install PyQt5 #Install it if not installed\n",
    "get_ipython().run_line_magic('matplotlib', 'inline')\n",
    "matplotlib.get_backend()"
   ]
  },
  {
   "cell_type": "code",
   "execution_count": 3,
   "id": "96a63b4a",
   "metadata": {},
   "outputs": [],
   "source": [
    "# Load Data"
   ]
  },
  {
   "cell_type": "code",
   "execution_count": 4,
   "id": "475f5e06",
   "metadata": {},
   "outputs": [],
   "source": [
    "df = pd.read_excel('maintenance_cleaned.xlsx')"
   ]
  },
  {
   "cell_type": "code",
   "execution_count": 5,
   "id": "4af36fa6",
   "metadata": {},
   "outputs": [],
   "source": [
    "# Analyze DataSet function"
   ]
  },
  {
   "cell_type": "code",
   "execution_count": 6,
   "id": "3692684e",
   "metadata": {},
   "outputs": [],
   "source": [
    "def analyzeDataSet(DataSet,state):\n",
    "    print('Display data')\n",
    "    print(DataSet.head(3))\n",
    "    print('Data Info')\n",
    "    print(DataSet.info())\n",
    "    print('Describe Data')\n",
    "    print(DataSet.describe().round(2))\n",
    "    print('DataFrame for Information about Dataset')\n",
    "    information_DataSet = pd.DataFrame({\"name\": DataSet.columns,\n",
    "                     \"non-nulls\": len(DataSet)-DataSet.isnull().sum().values,\n",
    "                     \"nulls\": DataSet.isnull().sum().values,\n",
    "                     \"type\": DataSet.dtypes.values})\n",
    "    display(Markdown(information_DataSet.to_markdown()))\n",
    "    print(information_DataSet)\n",
    "    # Construct rows\n",
    "    info_list=[]\n",
    "    for column in DataSet.columns:\n",
    "        row = [column,\n",
    "               min(df[column]),\n",
    "               max(df[column]),\n",
    "               df[column].nunique(),\n",
    "               df[column].isna().sum(),\n",
    "               df.duplicated().sum()\n",
    "              ]\n",
    "        info_list.append(row)\n",
    "    print('DataFrame for information about Dataset Values') \n",
    "    # Convert List to DataFrame\n",
    "    info_df = pd.DataFrame(data = info_list,\n",
    "                            columns=['Column_name',\n",
    "                                     'Minimum_value',\n",
    "                                     'Maximum_value',\n",
    "                                     'Number_of_unique_records',\n",
    "                                     'Number_of_null_records',\n",
    "                                     'Number_of_duplicated_records'\n",
    "                                    ])\n",
    "    display(Markdown(info_df.to_markdown()))\n",
    "    print(info_df)\n",
    "    print('show data types')\n",
    "    print(info_df.dtypes)\n",
    "    print('Remove comment character if you want to proceed Running Ydata Report')\n",
    "    #pf = ProfileReport(df)\n",
    "    #if state == 'pre':\n",
    "    #    pf.to_file('maintenance_BEFORE_pre_process.html')\n",
    "    #elif state == 'post':\n",
    "    #    pf.to_file('maintenance_AFTER_pre_process.html')\n",
    "    #else :\n",
    "    #    print('for state of analysis, use \"pre\" or \"post\"')"
   ]
  },
  {
   "cell_type": "code",
   "execution_count": 7,
   "id": "cb8cc21d",
   "metadata": {},
   "outputs": [],
   "source": [
    "# Data pre processing"
   ]
  },
  {
   "cell_type": "code",
   "execution_count": 8,
   "id": "dfa92c10",
   "metadata": {},
   "outputs": [],
   "source": [
    "## Date Processing"
   ]
  },
  {
   "cell_type": "code",
   "execution_count": 9,
   "id": "93dc7234",
   "metadata": {},
   "outputs": [],
   "source": [
    "### Extract yearIn, monthIn, monthNIn, dayIn, dayNIn from 'Date in' field"
   ]
  },
  {
   "cell_type": "code",
   "execution_count": 10,
   "id": "1bb132a7",
   "metadata": {},
   "outputs": [],
   "source": [
    "df['yearIn'] = df['date in'].dt.year\n",
    "df['monthIn'] = df['date in'].dt.month\n",
    "df['monthNIn'] = df['date in'].dt.month_name()\n",
    "df['dayIn'] = df['date in'].dt.day\n",
    "df['dayNIn'] = df['date in'].dt.day_name()\n"
   ]
  },
  {
   "cell_type": "code",
   "execution_count": 11,
   "id": "8962c000",
   "metadata": {},
   "outputs": [],
   "source": [
    "### Extract yearReady, monthReady, monthNReady, dayReady, dayNReady from 'date ready' field"
   ]
  },
  {
   "cell_type": "code",
   "execution_count": 12,
   "id": "8e80643f",
   "metadata": {},
   "outputs": [],
   "source": [
    "df['yearReady'] = df['date ready'].dt.year\n",
    "df['monthReady'] = df['date ready'].dt.month\n",
    "df['monthNReady'] = df['date ready'].dt.month_name()\n",
    "df['dayReady'] = df['date ready'].dt.day\n",
    "df['dayNReady'] = df['date ready'].dt.day_name()"
   ]
  },
  {
   "cell_type": "code",
   "execution_count": 13,
   "id": "da4c7816",
   "metadata": {},
   "outputs": [],
   "source": [
    "### Calculate service duration"
   ]
  },
  {
   "cell_type": "code",
   "execution_count": 14,
   "id": "e9014003",
   "metadata": {},
   "outputs": [],
   "source": [
    "df['service_duration'] = (df['date ready'] - df['date in']).dt.days + 1"
   ]
  },
  {
   "cell_type": "code",
   "execution_count": 15,
   "id": "be433f76",
   "metadata": {},
   "outputs": [],
   "source": [
    "## Categorization"
   ]
  },
  {
   "cell_type": "code",
   "execution_count": 16,
   "id": "e1b436a5",
   "metadata": {},
   "outputs": [],
   "source": [
    "### Cost Category"
   ]
  },
  {
   "cell_type": "code",
   "execution_count": 17,
   "id": "0a0ff0dc",
   "metadata": {},
   "outputs": [],
   "source": [
    "cost_dict = {\n",
    "    range(1,50,1)     :'0001:0050',\n",
    "    range(50,100,1)   :'0050:0100',\n",
    "    range(100,150,1)  :'0100:0150',\n",
    "    range(150,200,1)  :'0150:0200',\n",
    "    range(200,300,1)  :'0200:0300',\n",
    "    range(300,400,1)  :'0300:0400',\n",
    "    range(400,500,1)  :'0400:0500',\n",
    "    range(500,600,1)  :'0500:0600',\n",
    "    range(600,700,1)  :'0600:0700',\n",
    "    range(700,800,1)  :'0700:0800',\n",
    "    range(800,900,1)  :'0800:0900',\n",
    "    range(900,1000,1) :'0900:1000',\n",
    "    range(1000,1500,1):'1000:1500',\n",
    "    range(1500,2000,1):'1500:2000',\n",
    "    range(2000,3000,1):'2000:3000'\n",
    "}\n",
    "df['cost_category'] = df['cost'].replace(cost_dict)"
   ]
  },
  {
   "cell_type": "code",
   "execution_count": 18,
   "id": "2d1d7dc8",
   "metadata": {},
   "outputs": [],
   "source": [
    "# Analyze DataSet Post processing"
   ]
  },
  {
   "cell_type": "code",
   "execution_count": 19,
   "id": "628f2a28",
   "metadata": {
    "scrolled": false
   },
   "outputs": [
    {
     "name": "stdout",
     "output_type": "stream",
     "text": [
      "Display data\n",
      "   # plate number      car    damage type    date in  KMs IN  Fuel in  \\\n",
      "0  1     70-29280   TUCSAN     اصلاح بودي 2015-01-14   23015     0.13   \n",
      "1  2     70-26587  ELANTRA     اصلاح بودي 2015-01-14   43638     0.38   \n",
      "2  3     70-25180   AVANZA  اصلاح مكانيك  2015-01-14   39880     0.38   \n",
      "\n",
      "  date ready  KMs out  KMs Diff  ...  monthNIn  dayIn     dayNIn yearReady  \\\n",
      "0 2015-01-18    23030        15  ...   January     14  Wednesday      2015   \n",
      "1 2015-01-18    43638         0  ...   January     14  Wednesday      2015   \n",
      "2 2015-01-24    39889         9  ...   January     14  Wednesday      2015   \n",
      "\n",
      "  monthReady monthNReady dayReady dayNReady  service_duration  cost_category  \n",
      "0          1     January       18    Sunday                 5      0150:0200  \n",
      "1          1     January       18    Sunday                 5      0200:0300  \n",
      "2          1     January       24  Saturday                11      0050:0100  \n",
      "\n",
      "[3 rows x 30 columns]\n",
      "Data Info\n",
      "<class 'pandas.core.frame.DataFrame'>\n",
      "RangeIndex: 1499 entries, 0 to 1498\n",
      "Data columns (total 30 columns):\n",
      " #   Column            Non-Null Count  Dtype         \n",
      "---  ------            --------------  -----         \n",
      " 0   #                 1499 non-null   int64         \n",
      " 1   plate number      1499 non-null   object        \n",
      " 2   car               1499 non-null   object        \n",
      " 3   damage type       1499 non-null   object        \n",
      " 4   date in           1499 non-null   datetime64[ns]\n",
      " 5   KMs IN            1499 non-null   int64         \n",
      " 6   Fuel in           1499 non-null   float64       \n",
      " 7   date ready        1499 non-null   datetime64[ns]\n",
      " 8   KMs out           1499 non-null   int64         \n",
      " 9   KMs Diff          1499 non-null   int64         \n",
      " 10  Fuel out          1499 non-null   float64       \n",
      " 11  Fuel Diff         1499 non-null   float64       \n",
      " 12  cost              1499 non-null   int64         \n",
      " 13  location          1499 non-null   object        \n",
      " 14  corporate         1499 non-null   object        \n",
      " 15  delivered by      1499 non-null   object        \n",
      " 16  returned by       1499 non-null   object        \n",
      " 17  notes             1499 non-null   object        \n",
      " 18  yearIn            1499 non-null   int64         \n",
      " 19  monthIn           1499 non-null   int64         \n",
      " 20  monthNIn          1499 non-null   object        \n",
      " 21  dayIn             1499 non-null   int64         \n",
      " 22  dayNIn            1499 non-null   object        \n",
      " 23  yearReady         1499 non-null   int64         \n",
      " 24  monthReady        1499 non-null   int64         \n",
      " 25  monthNReady       1499 non-null   object        \n",
      " 26  dayReady          1499 non-null   int64         \n",
      " 27  dayNReady         1499 non-null   object        \n",
      " 28  service_duration  1499 non-null   int64         \n",
      " 29  cost_category     1499 non-null   object        \n",
      "dtypes: datetime64[ns](2), float64(3), int64(12), object(13)\n",
      "memory usage: 351.5+ KB\n",
      "None\n",
      "Describe Data\n",
      "             #     KMs IN  Fuel in    KMs out  KMs Diff  Fuel out  Fuel Diff  \\\n",
      "count  1499.00    1499.00  1499.00    1499.00   1499.00   1499.00    1499.00   \n",
      "mean    750.00   63581.83     0.31   63590.73      8.90      0.31       0.01   \n",
      "std     432.87   40221.63     0.11   40221.53      4.84      0.12       0.04   \n",
      "min       1.00     390.00     0.00     400.00      0.00      0.00      -0.38   \n",
      "25%     375.50   43710.50     0.25   43724.50      6.00      0.25       0.00   \n",
      "50%     750.00   65890.00     0.25   65897.00      9.00      0.25       0.00   \n",
      "75%    1124.50   82080.00     0.38   82088.00     10.00      0.38       0.00   \n",
      "max    1499.00  754935.00     1.00  754945.00     71.00      1.00       0.38   \n",
      "\n",
      "          cost   yearIn  monthIn    dayIn  yearReady  monthReady  dayReady  \\\n",
      "count  1499.00  1499.00  1499.00  1499.00    1499.00     1499.00   1499.00   \n",
      "mean    107.95  2015.08     6.37    14.87    2015.08        6.39     15.16   \n",
      "std     166.28     0.27     3.44     8.88       0.27        3.43      8.88   \n",
      "min       2.00  2015.00     1.00     1.00    2015.00        1.00      1.00   \n",
      "25%      21.00  2015.00     4.00     8.00    2015.00        4.00      8.00   \n",
      "50%      50.00  2015.00     6.00    15.00    2015.00        6.00     15.00   \n",
      "75%     102.00  2015.00     9.00    22.00    2015.00        9.00     23.00   \n",
      "max    2500.00  2016.00    12.00    31.00    2016.00       12.00     31.00   \n",
      "\n",
      "       service_duration  \n",
      "count           1499.00  \n",
      "mean               1.88  \n",
      "std                3.29  \n",
      "min                1.00  \n",
      "25%                1.00  \n",
      "50%                1.00  \n",
      "75%                1.00  \n",
      "max               70.00  \n",
      "DataFrame for Information about Dataset\n"
     ]
    },
    {
     "data": {
      "text/markdown": [
       "|    | name             |   non-nulls |   nulls | type           |\n",
       "|---:|:-----------------|------------:|--------:|:---------------|\n",
       "|  0 | #                |        1499 |       0 | int64          |\n",
       "|  1 | plate number     |        1499 |       0 | object         |\n",
       "|  2 | car              |        1499 |       0 | object         |\n",
       "|  3 | damage type      |        1499 |       0 | object         |\n",
       "|  4 | date in          |        1499 |       0 | datetime64[ns] |\n",
       "|  5 | KMs IN           |        1499 |       0 | int64          |\n",
       "|  6 | Fuel in          |        1499 |       0 | float64        |\n",
       "|  7 | date ready       |        1499 |       0 | datetime64[ns] |\n",
       "|  8 | KMs out          |        1499 |       0 | int64          |\n",
       "|  9 | KMs Diff         |        1499 |       0 | int64          |\n",
       "| 10 | Fuel out         |        1499 |       0 | float64        |\n",
       "| 11 | Fuel Diff        |        1499 |       0 | float64        |\n",
       "| 12 | cost             |        1499 |       0 | int64          |\n",
       "| 13 | location         |        1499 |       0 | object         |\n",
       "| 14 | corporate        |        1499 |       0 | object         |\n",
       "| 15 | delivered by     |        1499 |       0 | object         |\n",
       "| 16 | returned by      |        1499 |       0 | object         |\n",
       "| 17 | notes            |        1499 |       0 | object         |\n",
       "| 18 | yearIn           |        1499 |       0 | int64          |\n",
       "| 19 | monthIn          |        1499 |       0 | int64          |\n",
       "| 20 | monthNIn         |        1499 |       0 | object         |\n",
       "| 21 | dayIn            |        1499 |       0 | int64          |\n",
       "| 22 | dayNIn           |        1499 |       0 | object         |\n",
       "| 23 | yearReady        |        1499 |       0 | int64          |\n",
       "| 24 | monthReady       |        1499 |       0 | int64          |\n",
       "| 25 | monthNReady      |        1499 |       0 | object         |\n",
       "| 26 | dayReady         |        1499 |       0 | int64          |\n",
       "| 27 | dayNReady        |        1499 |       0 | object         |\n",
       "| 28 | service_duration |        1499 |       0 | int64          |\n",
       "| 29 | cost_category    |        1499 |       0 | object         |"
      ],
      "text/plain": [
       "<IPython.core.display.Markdown object>"
      ]
     },
     "metadata": {},
     "output_type": "display_data"
    },
    {
     "name": "stdout",
     "output_type": "stream",
     "text": [
      "                name  non-nulls  nulls            type\n",
      "0                  #       1499      0           int64\n",
      "1       plate number       1499      0          object\n",
      "2                car       1499      0          object\n",
      "3        damage type       1499      0          object\n",
      "4            date in       1499      0  datetime64[ns]\n",
      "5             KMs IN       1499      0           int64\n",
      "6            Fuel in       1499      0         float64\n",
      "7         date ready       1499      0  datetime64[ns]\n",
      "8            KMs out       1499      0           int64\n",
      "9           KMs Diff       1499      0           int64\n",
      "10          Fuel out       1499      0         float64\n",
      "11         Fuel Diff       1499      0         float64\n",
      "12              cost       1499      0           int64\n",
      "13          location       1499      0          object\n",
      "14         corporate       1499      0          object\n",
      "15      delivered by       1499      0          object\n",
      "16       returned by       1499      0          object\n",
      "17             notes       1499      0          object\n",
      "18            yearIn       1499      0           int64\n",
      "19           monthIn       1499      0           int64\n",
      "20          monthNIn       1499      0          object\n",
      "21             dayIn       1499      0           int64\n",
      "22            dayNIn       1499      0          object\n",
      "23         yearReady       1499      0           int64\n",
      "24        monthReady       1499      0           int64\n",
      "25       monthNReady       1499      0          object\n",
      "26          dayReady       1499      0           int64\n",
      "27         dayNReady       1499      0          object\n",
      "28  service_duration       1499      0           int64\n",
      "29     cost_category       1499      0          object\n",
      "DataFrame for information about Dataset Values\n"
     ]
    },
    {
     "data": {
      "text/markdown": [
       "|    | Column_name      | Minimum_value                        | Maximum_value       |   Number_of_unique_records |   Number_of_null_records |   Number_of_duplicated_records |\n",
       "|---:|:-----------------|:-------------------------------------|:--------------------|---------------------------:|-------------------------:|-------------------------------:|\n",
       "|  0 | #                | 1                                    | 1499                |                       1499 |                        0 |                              0 |\n",
       "|  1 | plate number     | 70-24337                             | 70-91371            |                        337 |                        0 |                              0 |\n",
       "|  2 | car              | GUNSAYIL                             | YARIS               |                         25 |                        0 |                              0 |\n",
       "|  3 | damage type      | اصلاح بودي                           | غيار زيت            |                          7 |                        0 |                              0 |\n",
       "|  4 | date in          | 2015-01-01 00:00:00                  | 2016-02-03 00:00:00 |                        301 |                        0 |                              0 |\n",
       "|  5 | KMs IN           | 390                                  | 754935              |                       1423 |                        0 |                              0 |\n",
       "|  6 | Fuel in          | 0.0                                  | 1.0                 |                         10 |                        0 |                              0 |\n",
       "|  7 | date ready       | 2015-01-01 00:00:00                  | 2016-02-03 00:00:00 |                        320 |                        0 |                              0 |\n",
       "|  8 | KMs out          | 400                                  | 754945              |                       1427 |                        0 |                              0 |\n",
       "|  9 | KMs Diff         | 0                                    | 71                  |                         39 |                        0 |                              0 |\n",
       "| 10 | Fuel out         | 0.0                                  | 1.0                 |                          9 |                        0 |                              0 |\n",
       "| 11 | Fuel Diff        | -0.38                                | 0.38                |                         11 |                        0 |                              0 |\n",
       "| 12 | cost             | 2                                    | 2500                |                        166 |                        0 |                              0 |\n",
       "| 13 | location         | 4 جيد                                | هانكونك             |                         32 |                        0 |                              0 |\n",
       "| 14 | corporate        | Aig                                  | مؤجر سنوي           |                         55 |                        0 |                              0 |\n",
       "| 15 | delivered by     | Abdalla                              | Yousif              |                         30 |                        0 |                              0 |\n",
       "| 16 | returned by      | Abdalla                              | Yousif              |                         30 |                        0 |                              0 |\n",
       "| 17 | notes            | غيار زيت +فلتر هواء +فلتر كندشن+بريك | ويل بلنس / ترصيص    |                        666 |                        0 |                              0 |\n",
       "| 18 | yearIn           | 2015                                 | 2016                |                          2 |                        0 |                              0 |\n",
       "| 19 | monthIn          | 1                                    | 12                  |                         12 |                        0 |                              0 |\n",
       "| 20 | monthNIn         | April                                | September           |                         12 |                        0 |                              0 |\n",
       "| 21 | dayIn            | 1                                    | 31                  |                         31 |                        0 |                              0 |\n",
       "| 22 | dayNIn           | Friday                               | Wednesday           |                          7 |                        0 |                              0 |\n",
       "| 23 | yearReady        | 2015                                 | 2016                |                          2 |                        0 |                              0 |\n",
       "| 24 | monthReady       | 1                                    | 12                  |                         12 |                        0 |                              0 |\n",
       "| 25 | monthNReady      | April                                | September           |                         12 |                        0 |                              0 |\n",
       "| 26 | dayReady         | 1                                    | 31                  |                         31 |                        0 |                              0 |\n",
       "| 27 | dayNReady        | Friday                               | Wednesday           |                          7 |                        0 |                              0 |\n",
       "| 28 | service_duration | 1                                    | 70                  |                         21 |                        0 |                              0 |\n",
       "| 29 | cost_category    | 0001:0050                            | 2000:3000           |                         15 |                        0 |                              0 |"
      ],
      "text/plain": [
       "<IPython.core.display.Markdown object>"
      ]
     },
     "metadata": {},
     "output_type": "display_data"
    },
    {
     "name": "stdout",
     "output_type": "stream",
     "text": [
      "         Column_name                                      Minimum_value  \\\n",
      "0                  #                                                  1   \n",
      "1       plate number                                         70-24337     \n",
      "2                car                                          GUNSAYIL    \n",
      "3        damage type                                         اصلاح بودي   \n",
      "4            date in                                2015-01-01 00:00:00   \n",
      "5             KMs IN                                                390   \n",
      "6            Fuel in                                                0.0   \n",
      "7         date ready                                2015-01-01 00:00:00   \n",
      "8            KMs out                                                400   \n",
      "9           KMs Diff                                                  0   \n",
      "10          Fuel out                                                0.0   \n",
      "11         Fuel Diff                                              -0.38   \n",
      "12              cost                                                  2   \n",
      "13          location                                              4 جيد   \n",
      "14         corporate                                                Aig   \n",
      "15      delivered by                                            Abdalla   \n",
      "16       returned by                                            Abdalla   \n",
      "17             notes                                                ...   \n",
      "18            yearIn                                               2015   \n",
      "19           monthIn                                                  1   \n",
      "20          monthNIn                                              April   \n",
      "21             dayIn                                                  1   \n",
      "22            dayNIn                                             Friday   \n",
      "23         yearReady                                               2015   \n",
      "24        monthReady                                                  1   \n",
      "25       monthNReady                                              April   \n",
      "26          dayReady                                                  1   \n",
      "27         dayNReady                                             Friday   \n",
      "28  service_duration                                                  1   \n",
      "29     cost_category                                          0001:0050   \n",
      "\n",
      "          Maximum_value  Number_of_unique_records  Number_of_null_records  \\\n",
      "0                  1499                      1499                       0   \n",
      "1              70-91371                       337                       0   \n",
      "2                 YARIS                        25                       0   \n",
      "3              غيار زيت                         7                       0   \n",
      "4   2016-02-03 00:00:00                       301                       0   \n",
      "5                754935                      1423                       0   \n",
      "6                   1.0                        10                       0   \n",
      "7   2016-02-03 00:00:00                       320                       0   \n",
      "8                754945                      1427                       0   \n",
      "9                    71                        39                       0   \n",
      "10                  1.0                         9                       0   \n",
      "11                 0.38                        11                       0   \n",
      "12                 2500                       166                       0   \n",
      "13              هانكونك                        32                       0   \n",
      "14            مؤجر سنوي                        55                       0   \n",
      "15               Yousif                        30                       0   \n",
      "16               Yousif                        30                       0   \n",
      "17     ويل بلنس / ترصيص                       666                       0   \n",
      "18                 2016                         2                       0   \n",
      "19                   12                        12                       0   \n",
      "20            September                        12                       0   \n",
      "21                   31                        31                       0   \n",
      "22            Wednesday                         7                       0   \n",
      "23                 2016                         2                       0   \n",
      "24                   12                        12                       0   \n",
      "25            September                        12                       0   \n",
      "26                   31                        31                       0   \n",
      "27            Wednesday                         7                       0   \n",
      "28                   70                        21                       0   \n",
      "29            2000:3000                        15                       0   \n",
      "\n",
      "    Number_of_duplicated_records  \n",
      "0                              0  \n",
      "1                              0  \n",
      "2                              0  \n",
      "3                              0  \n",
      "4                              0  \n",
      "5                              0  \n",
      "6                              0  \n",
      "7                              0  \n",
      "8                              0  \n",
      "9                              0  \n",
      "10                             0  \n",
      "11                             0  \n",
      "12                             0  \n",
      "13                             0  \n",
      "14                             0  \n",
      "15                             0  \n",
      "16                             0  \n",
      "17                             0  \n",
      "18                             0  \n",
      "19                             0  \n",
      "20                             0  \n",
      "21                             0  \n",
      "22                             0  \n",
      "23                             0  \n",
      "24                             0  \n",
      "25                             0  \n",
      "26                             0  \n",
      "27                             0  \n",
      "28                             0  \n",
      "29                             0  \n",
      "show data types\n",
      "Column_name                     object\n",
      "Minimum_value                   object\n",
      "Maximum_value                   object\n",
      "Number_of_unique_records         int64\n",
      "Number_of_null_records           int64\n",
      "Number_of_duplicated_records     int64\n",
      "dtype: object\n",
      "Remove comment character if you want to proceed Running Ydata Report\n"
     ]
    }
   ],
   "source": [
    "analyzeDataSet(df,'post')"
   ]
  },
  {
   "cell_type": "code",
   "execution_count": 20,
   "id": "477c2204",
   "metadata": {},
   "outputs": [],
   "source": [
    "# Save DataSet post processing to new Excel file"
   ]
  },
  {
   "cell_type": "code",
   "execution_count": 21,
   "id": "2aaefb20",
   "metadata": {},
   "outputs": [],
   "source": [
    "df.to_excel('maintenance_cleaned_extended.xlsx')"
   ]
  }
 ],
 "metadata": {
  "kernelspec": {
   "display_name": "Python 3 (ipykernel)",
   "language": "python",
   "name": "python3"
  },
  "language_info": {
   "codemirror_mode": {
    "name": "ipython",
    "version": 3
   },
   "file_extension": ".py",
   "mimetype": "text/x-python",
   "name": "python",
   "nbconvert_exporter": "python",
   "pygments_lexer": "ipython3",
   "version": "3.7.9"
  }
 },
 "nbformat": 4,
 "nbformat_minor": 5
}
