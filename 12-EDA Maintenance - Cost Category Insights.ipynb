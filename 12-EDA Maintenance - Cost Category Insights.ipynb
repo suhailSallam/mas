{
 "cells": [
  {
   "cell_type": "code",
   "execution_count": 1,
   "id": "861f804f",
   "metadata": {},
   "outputs": [],
   "source": [
    "# Import Libraries"
   ]
  },
  {
   "cell_type": "code",
   "execution_count": 2,
   "id": "6dc68dd5",
   "metadata": {},
   "outputs": [
    {
     "data": {
      "text/plain": [
       "'module://matplotlib_inline.backend_inline'"
      ]
     },
     "execution_count": 2,
     "metadata": {},
     "output_type": "execute_result"
    }
   ],
   "source": [
    "import pandas as pd\n",
    "import numpy as np\n",
    "import matplotlib.pyplot as plt\n",
    "import matplotlib\n",
    "import seaborn as sns\n",
    "import plotly.express as px\n",
    "import plotly.io as pio\n",
    "import plotly\n",
    "from ydata_profiling import  ProfileReport\n",
    "import PyQt5 as qt\n",
    "from IPython.display import display, Markdown\n",
    "#Enable graphing inside jupytor\n",
    "#pip install PyQt5 #Install it if not installed\n",
    "get_ipython().run_line_magic('matplotlib', 'inline')\n",
    "matplotlib.get_backend()"
   ]
  },
  {
   "cell_type": "code",
   "execution_count": 3,
   "id": "39a6fdd2",
   "metadata": {},
   "outputs": [],
   "source": [
    "# Load Data"
   ]
  },
  {
   "cell_type": "code",
   "execution_count": 4,
   "id": "41cba117",
   "metadata": {},
   "outputs": [],
   "source": [
    "df = pd.read_excel('maintenance_cleaned_extended.xlsx')"
   ]
  },
  {
   "cell_type": "code",
   "execution_count": 5,
   "id": "eab8cdb0",
   "metadata": {},
   "outputs": [],
   "source": [
    "# Visualization Functions"
   ]
  },
  {
   "cell_type": "code",
   "execution_count": 6,
   "id": "9b603a66",
   "metadata": {},
   "outputs": [],
   "source": [
    "## Bar, Scatter, Line charts"
   ]
  },
  {
   "cell_type": "code",
   "execution_count": 7,
   "id": "da59ec40",
   "metadata": {},
   "outputs": [],
   "source": [
    "def myPlot(data,plotType,title):\n",
    "    data = data.sort_values(ascending=True)\n",
    "    xs = data.index.astype(str)  \n",
    "    ys = data.values\n",
    "    if plotType == 'bar':\n",
    "        fig = px.bar(data_frame=data, x = xs, y = ys,color=ys,title=title+' Analysis')\n",
    "    elif plotType == 'scatter':\n",
    "        fig = px.scatter(data_frame=data, x = xs, y = ys,color=ys,title=title+' Analysis')\n",
    "    elif plotType == 'line':\n",
    "        fig = px.line(data_frame=data, x = xs, y = ys,title=title+' Analysis')\n",
    "    fig.update_layout(title_x=0.45)\n",
    "    fig.show()"
   ]
  },
  {
   "cell_type": "code",
   "execution_count": 8,
   "id": "d0bc1235",
   "metadata": {},
   "outputs": [],
   "source": [
    "def myPlot1(data, xs, ys, clr, plotType, title, sort_by=None, ascending=True):\n",
    "    if sort_by is not None:\n",
    "        data_sorted = data.sort_values(by=sort_by, ascending=ascending)\n",
    "    else:\n",
    "        data_sorted = data\n",
    "    xt = str(xs)\n",
    "    yt = str(ys)\n",
    "    xs = data_sorted[xs]\n",
    "    ys = data_sorted[ys]\n",
    "    clr = data_sorted[clr].astype(str) if clr else None\n",
    "    if plotType == 'bar':\n",
    "        fig = px.bar(x=xs, y=ys, color=clr, title=title + ' Analysis')\n",
    "    elif plotType == 'scatter':\n",
    "        fig = px.scatter(x=xs, y=ys, color=clr, title=title + ' Analysis')\n",
    "    elif plotType == 'line':\n",
    "        fig = px.line(x=xs, y=ys, color=clr, title=title + ' Analysis')\n",
    "    fig.update_layout(title_x=0.5)\n",
    "    fig.update_layout(xaxis_title=xt, yaxis_title=yt)\n",
    "    fig.show()"
   ]
  },
  {
   "cell_type": "code",
   "execution_count": 9,
   "id": "a013ee33",
   "metadata": {},
   "outputs": [],
   "source": [
    "def myPlot2(data, plotType, title):\n",
    "    xs = data.index.astype(str)  # Index (x-axis)\n",
    "    ys = data.values             # Values (y-axis)\n",
    "    # Plot based on the plotType\n",
    "    if plotType == 'bar':\n",
    "        fig = px.bar(x=xs, y=ys, color=ys, title=title + ' Analysis')\n",
    "    elif plotType == 'scatter':\n",
    "        fig = px.scatter(x=xs, y=ys, color=ys, title=title + ' Analysis')\n",
    "    elif plotType == 'line':\n",
    "        fig = px.line(x=xs, y=ys, title=title + ' Analysis')\n",
    "    # Center the title\n",
    "    fig.update_layout(title_x=0.5)\n",
    "    fig.show()"
   ]
  },
  {
   "cell_type": "code",
   "execution_count": 10,
   "id": "50aab377",
   "metadata": {},
   "outputs": [],
   "source": [
    "def myBoxPlot(data,x,y,color,title):\n",
    "    fig = px.box(data, x=x, y=y, color=color, title=title)\n",
    "    fig.update_layout(\n",
    "        title_x=0.5,\n",
    "        xaxis_title=str(x),\n",
    "        yaxis_title=str(y)\n",
    "    )\n",
    "    fig.show()"
   ]
  },
  {
   "cell_type": "code",
   "execution_count": 11,
   "id": "c3aff5bd",
   "metadata": {},
   "outputs": [],
   "source": [
    "## Sunburst chart"
   ]
  },
  {
   "cell_type": "code",
   "execution_count": 12,
   "id": "822f8364",
   "metadata": {},
   "outputs": [],
   "source": [
    "def mySunBurst(data, name, value, title):\n",
    "    fig = px.sunburst(\n",
    "        data_frame=data,\n",
    "        #path=['cost_category', 'damage type'],   # Add both cost_category and damage type to the hierarchy\n",
    "        path=name,\n",
    "        values=value,  # Define the values (damage_count)\n",
    "        title=title+' Analysis'\n",
    "    )\n",
    "    fig.update_layout(title_x=0.45)\n",
    "    fig.show()"
   ]
  },
  {
   "cell_type": "code",
   "execution_count": 13,
   "id": "f0612a04",
   "metadata": {},
   "outputs": [],
   "source": [
    "## Pie chart"
   ]
  },
  {
   "cell_type": "code",
   "execution_count": 14,
   "id": "4d908bb3",
   "metadata": {},
   "outputs": [],
   "source": [
    "def myPie(data,title_prefix):\n",
    "    name  = data.index\n",
    "    value = data.values\n",
    "    fig = px.pie(data_frame=data,\n",
    "                 names = name, \n",
    "                 values = value,\n",
    "                 title ='Top 5 '+ title_prefix +' Analysis'\n",
    "                )\n",
    "    fig.update_layout(title_x=0.5)\n",
    "\n",
    "    fig.show()"
   ]
  },
  {
   "cell_type": "code",
   "execution_count": 15,
   "id": "c7983e8c",
   "metadata": {},
   "outputs": [],
   "source": [
    "## Combine DataFrames"
   ]
  },
  {
   "cell_type": "code",
   "execution_count": 16,
   "id": "e2dbb00d",
   "metadata": {},
   "outputs": [],
   "source": [
    "def combine(data,first_field,first_field_count,field_grouped_on,resulting_field_value):\n",
    "    data_first_cat = data[first_field].value_counts().reset_index()\n",
    "    data_first_cat.columns = [first_field,first_field_count]\n",
    "    data_merged = data.groupby([first_field])[field_grouped_on].sum().reset_index(name=resulting_field_value)\n",
    "    data_merged = data_merged.merge(data_first_cat,on=first_field)\n",
    "    return first_field_count, resulting_field_value, data_merged"
   ]
  },
  {
   "cell_type": "code",
   "execution_count": 17,
   "id": "bcd4cbec",
   "metadata": {},
   "outputs": [],
   "source": [
    "## Bi - Variance Analysis"
   ]
  },
  {
   "cell_type": "code",
   "execution_count": 18,
   "id": "fe162242",
   "metadata": {},
   "outputs": [],
   "source": [
    "### Cost Category Insights"
   ]
  },
  {
   "cell_type": "code",
   "execution_count": 19,
   "id": "39f7bc7e",
   "metadata": {},
   "outputs": [],
   "source": [
    "#### Distribution of damage types across different cost categories"
   ]
  },
  {
   "cell_type": "code",
   "execution_count": 67,
   "id": "2b921b15",
   "metadata": {
    "scrolled": false
   },
   "outputs": [
    {
     "data": {
      "application/vnd.plotly.v1+json": {
       "config": {
        "plotlyServerURL": "https://plot.ly"
       },
       "data": [
        {
         "alignmentgroup": "True",
         "hovertemplate": "color=0200:0300<br>x=%{x}<br>y=%{y}<extra></extra>",
         "legendgroup": "0200:0300",
         "marker": {
          "color": "#636efa",
          "pattern": {
           "shape": ""
          }
         },
         "name": "0200:0300",
         "offsetgroup": "0200:0300",
         "orientation": "v",
         "showlegend": true,
         "textposition": "auto",
         "type": "bar",
         "x": [
          "اصلاح كهرباء",
          "غيار زيت",
          "اصلاح مكانيك ",
          "اصلاح كوشوك",
          "اصلاح بودي"
         ],
         "xaxis": "x",
         "y": [
          1,
          2,
          18,
          31,
          105
         ],
         "yaxis": "y"
        },
        {
         "alignmentgroup": "True",
         "hovertemplate": "color=2000:3000<br>x=%{x}<br>y=%{y}<extra></extra>",
         "legendgroup": "2000:3000",
         "marker": {
          "color": "#EF553B",
          "pattern": {
           "shape": ""
          }
         },
         "name": "2000:3000",
         "offsetgroup": "2000:3000",
         "orientation": "v",
         "showlegend": true,
         "textposition": "auto",
         "type": "bar",
         "x": [
          "اصلاح مكانيك ",
          "اصلاح بودي"
         ],
         "xaxis": "x",
         "y": [
          1,
          1
         ],
         "yaxis": "y"
        },
        {
         "alignmentgroup": "True",
         "hovertemplate": "color=1000:1500<br>x=%{x}<br>y=%{y}<extra></extra>",
         "legendgroup": "1000:1500",
         "marker": {
          "color": "#00cc96",
          "pattern": {
           "shape": ""
          }
         },
         "name": "1000:1500",
         "offsetgroup": "1000:1500",
         "orientation": "v",
         "showlegend": true,
         "textposition": "auto",
         "type": "bar",
         "x": [
          "اصلاح مكانيك ",
          "اصلاح بودي"
         ],
         "xaxis": "x",
         "y": [
          1,
          5
         ],
         "yaxis": "y"
        },
        {
         "alignmentgroup": "True",
         "hovertemplate": "color=0600:0700<br>x=%{x}<br>y=%{y}<extra></extra>",
         "legendgroup": "0600:0700",
         "marker": {
          "color": "#ab63fa",
          "pattern": {
           "shape": ""
          }
         },
         "name": "0600:0700",
         "offsetgroup": "0600:0700",
         "orientation": "v",
         "showlegend": true,
         "textposition": "auto",
         "type": "bar",
         "x": [
          "اصلاح كوشوك",
          "اصلاح مكانيك ",
          "اصلاح بودي"
         ],
         "xaxis": "x",
         "y": [
          1,
          3,
          6
         ],
         "yaxis": "y"
        },
        {
         "alignmentgroup": "True",
         "hovertemplate": "color=0100:0150<br>x=%{x}<br>y=%{y}<extra></extra>",
         "legendgroup": "0100:0150",
         "marker": {
          "color": "#FFA15A",
          "pattern": {
           "shape": ""
          }
         },
         "name": "0100:0150",
         "offsetgroup": "0100:0150",
         "orientation": "v",
         "showlegend": true,
         "textposition": "auto",
         "type": "bar",
         "x": [
          "اصلاح كهرباء",
          "اصلاح فرش",
          "اصلاح زجاج",
          "اصلاح كوشوك",
          "اصلاح بودي",
          "اصلاح مكانيك ",
          "غيار زيت"
         ],
         "xaxis": "x",
         "y": [
          1,
          2,
          7,
          19,
          21,
          35,
          79
         ],
         "yaxis": "y"
        },
        {
         "alignmentgroup": "True",
         "hovertemplate": "color=1500:2000<br>x=%{x}<br>y=%{y}<extra></extra>",
         "legendgroup": "1500:2000",
         "marker": {
          "color": "#19d3f3",
          "pattern": {
           "shape": ""
          }
         },
         "name": "1500:2000",
         "offsetgroup": "1500:2000",
         "orientation": "v",
         "showlegend": true,
         "textposition": "auto",
         "type": "bar",
         "x": [
          "اصلاح بودي"
         ],
         "xaxis": "x",
         "y": [
          1
         ],
         "yaxis": "y"
        },
        {
         "alignmentgroup": "True",
         "hovertemplate": "color=0900:1000<br>x=%{x}<br>y=%{y}<extra></extra>",
         "legendgroup": "0900:1000",
         "marker": {
          "color": "#FF6692",
          "pattern": {
           "shape": ""
          }
         },
         "name": "0900:1000",
         "offsetgroup": "0900:1000",
         "orientation": "v",
         "showlegend": true,
         "textposition": "auto",
         "type": "bar",
         "x": [
          "اصلاح بودي"
         ],
         "xaxis": "x",
         "y": [
          1
         ],
         "yaxis": "y"
        },
        {
         "alignmentgroup": "True",
         "hovertemplate": "color=0800:0900<br>x=%{x}<br>y=%{y}<extra></extra>",
         "legendgroup": "0800:0900",
         "marker": {
          "color": "#B6E880",
          "pattern": {
           "shape": ""
          }
         },
         "name": "0800:0900",
         "offsetgroup": "0800:0900",
         "orientation": "v",
         "showlegend": true,
         "textposition": "auto",
         "type": "bar",
         "x": [
          "اصلاح بودي"
         ],
         "xaxis": "x",
         "y": [
          1
         ],
         "yaxis": "y"
        },
        {
         "alignmentgroup": "True",
         "hovertemplate": "color=0050:0100<br>x=%{x}<br>y=%{y}<extra></extra>",
         "legendgroup": "0050:0100",
         "marker": {
          "color": "#FF97FF",
          "pattern": {
           "shape": ""
          }
         },
         "name": "0050:0100",
         "offsetgroup": "0050:0100",
         "orientation": "v",
         "showlegend": true,
         "textposition": "auto",
         "type": "bar",
         "x": [
          "اصلاح فرش",
          "اصلاح زجاج",
          "اصلاح كوشوك",
          "غيار زيت",
          "اصلاح بودي",
          "اصلاح كهرباء",
          "اصلاح مكانيك "
         ],
         "xaxis": "x",
         "y": [
          3,
          9,
          15,
          17,
          30,
          38,
          196
         ],
         "yaxis": "y"
        },
        {
         "alignmentgroup": "True",
         "hovertemplate": "color=0400:0500<br>x=%{x}<br>y=%{y}<extra></extra>",
         "legendgroup": "0400:0500",
         "marker": {
          "color": "#FECB52",
          "pattern": {
           "shape": ""
          }
         },
         "name": "0400:0500",
         "offsetgroup": "0400:0500",
         "orientation": "v",
         "showlegend": true,
         "textposition": "auto",
         "type": "bar",
         "x": [
          "اصلاح بودي",
          "اصلاح مكانيك ",
          "اصلاح كوشوك"
         ],
         "xaxis": "x",
         "y": [
          4,
          5,
          17
         ],
         "yaxis": "y"
        },
        {
         "alignmentgroup": "True",
         "hovertemplate": "color=0500:0600<br>x=%{x}<br>y=%{y}<extra></extra>",
         "legendgroup": "0500:0600",
         "marker": {
          "color": "#636efa",
          "pattern": {
           "shape": ""
          }
         },
         "name": "0500:0600",
         "offsetgroup": "0500:0600",
         "orientation": "v",
         "showlegend": true,
         "textposition": "auto",
         "type": "bar",
         "x": [
          "اصلاح بودي",
          "اصلاح مكانيك ",
          "اصلاح كوشوك"
         ],
         "xaxis": "x",
         "y": [
          5,
          7,
          8
         ],
         "yaxis": "y"
        },
        {
         "alignmentgroup": "True",
         "hovertemplate": "color=0001:0050<br>x=%{x}<br>y=%{y}<extra></extra>",
         "legendgroup": "0001:0050",
         "marker": {
          "color": "#EF553B",
          "pattern": {
           "shape": ""
          }
         },
         "name": "0001:0050",
         "offsetgroup": "0001:0050",
         "orientation": "v",
         "showlegend": true,
         "textposition": "auto",
         "type": "bar",
         "x": [
          "اصلاح زجاج",
          "اصلاح كهرباء",
          "اصلاح كوشوك",
          "اصلاح بودي",
          "اصلاح فرش",
          "اصلاح مكانيك ",
          "غيار زيت"
         ],
         "xaxis": "x",
         "y": [
          5,
          6,
          13,
          14,
          14,
          183,
          496
         ],
         "yaxis": "y"
        },
        {
         "alignmentgroup": "True",
         "hovertemplate": "color=0300:0400<br>x=%{x}<br>y=%{y}<extra></extra>",
         "legendgroup": "0300:0400",
         "marker": {
          "color": "#00cc96",
          "pattern": {
           "shape": ""
          }
         },
         "name": "0300:0400",
         "offsetgroup": "0300:0400",
         "orientation": "v",
         "showlegend": true,
         "textposition": "auto",
         "type": "bar",
         "x": [
          "اصلاح مكانيك ",
          "اصلاح كوشوك",
          "اصلاح بودي"
         ],
         "xaxis": "x",
         "y": [
          5,
          13,
          19
         ],
         "yaxis": "y"
        },
        {
         "alignmentgroup": "True",
         "hovertemplate": "color=0700:0800<br>x=%{x}<br>y=%{y}<extra></extra>",
         "legendgroup": "0700:0800",
         "marker": {
          "color": "#ab63fa",
          "pattern": {
           "shape": ""
          }
         },
         "name": "0700:0800",
         "offsetgroup": "0700:0800",
         "orientation": "v",
         "showlegend": true,
         "textposition": "auto",
         "type": "bar",
         "x": [
          "اصلاح بودي"
         ],
         "xaxis": "x",
         "y": [
          5
         ],
         "yaxis": "y"
        },
        {
         "alignmentgroup": "True",
         "hovertemplate": "color=0150:0200<br>x=%{x}<br>y=%{y}<extra></extra>",
         "legendgroup": "0150:0200",
         "marker": {
          "color": "#FFA15A",
          "pattern": {
           "shape": ""
          }
         },
         "name": "0150:0200",
         "offsetgroup": "0150:0200",
         "orientation": "v",
         "showlegend": true,
         "textposition": "auto",
         "type": "bar",
         "x": [
          "اصلاح كوشوك",
          "اصلاح بودي",
          "اصلاح مكانيك "
         ],
         "xaxis": "x",
         "y": [
          7,
          11,
          12
         ],
         "yaxis": "y"
        }
       ],
       "layout": {
        "barmode": "relative",
        "legend": {
         "title": {
          "text": "color"
         },
         "tracegroupgap": 0
        },
        "template": {
         "data": {
          "bar": [
           {
            "error_x": {
             "color": "#2a3f5f"
            },
            "error_y": {
             "color": "#2a3f5f"
            },
            "marker": {
             "line": {
              "color": "#E5ECF6",
              "width": 0.5
             },
             "pattern": {
              "fillmode": "overlay",
              "size": 10,
              "solidity": 0.2
             }
            },
            "type": "bar"
           }
          ],
          "barpolar": [
           {
            "marker": {
             "line": {
              "color": "#E5ECF6",
              "width": 0.5
             },
             "pattern": {
              "fillmode": "overlay",
              "size": 10,
              "solidity": 0.2
             }
            },
            "type": "barpolar"
           }
          ],
          "carpet": [
           {
            "aaxis": {
             "endlinecolor": "#2a3f5f",
             "gridcolor": "white",
             "linecolor": "white",
             "minorgridcolor": "white",
             "startlinecolor": "#2a3f5f"
            },
            "baxis": {
             "endlinecolor": "#2a3f5f",
             "gridcolor": "white",
             "linecolor": "white",
             "minorgridcolor": "white",
             "startlinecolor": "#2a3f5f"
            },
            "type": "carpet"
           }
          ],
          "choropleth": [
           {
            "colorbar": {
             "outlinewidth": 0,
             "ticks": ""
            },
            "type": "choropleth"
           }
          ],
          "contour": [
           {
            "colorbar": {
             "outlinewidth": 0,
             "ticks": ""
            },
            "colorscale": [
             [
              0,
              "#0d0887"
             ],
             [
              0.1111111111111111,
              "#46039f"
             ],
             [
              0.2222222222222222,
              "#7201a8"
             ],
             [
              0.3333333333333333,
              "#9c179e"
             ],
             [
              0.4444444444444444,
              "#bd3786"
             ],
             [
              0.5555555555555556,
              "#d8576b"
             ],
             [
              0.6666666666666666,
              "#ed7953"
             ],
             [
              0.7777777777777778,
              "#fb9f3a"
             ],
             [
              0.8888888888888888,
              "#fdca26"
             ],
             [
              1,
              "#f0f921"
             ]
            ],
            "type": "contour"
           }
          ],
          "contourcarpet": [
           {
            "colorbar": {
             "outlinewidth": 0,
             "ticks": ""
            },
            "type": "contourcarpet"
           }
          ],
          "heatmap": [
           {
            "colorbar": {
             "outlinewidth": 0,
             "ticks": ""
            },
            "colorscale": [
             [
              0,
              "#0d0887"
             ],
             [
              0.1111111111111111,
              "#46039f"
             ],
             [
              0.2222222222222222,
              "#7201a8"
             ],
             [
              0.3333333333333333,
              "#9c179e"
             ],
             [
              0.4444444444444444,
              "#bd3786"
             ],
             [
              0.5555555555555556,
              "#d8576b"
             ],
             [
              0.6666666666666666,
              "#ed7953"
             ],
             [
              0.7777777777777778,
              "#fb9f3a"
             ],
             [
              0.8888888888888888,
              "#fdca26"
             ],
             [
              1,
              "#f0f921"
             ]
            ],
            "type": "heatmap"
           }
          ],
          "heatmapgl": [
           {
            "colorbar": {
             "outlinewidth": 0,
             "ticks": ""
            },
            "colorscale": [
             [
              0,
              "#0d0887"
             ],
             [
              0.1111111111111111,
              "#46039f"
             ],
             [
              0.2222222222222222,
              "#7201a8"
             ],
             [
              0.3333333333333333,
              "#9c179e"
             ],
             [
              0.4444444444444444,
              "#bd3786"
             ],
             [
              0.5555555555555556,
              "#d8576b"
             ],
             [
              0.6666666666666666,
              "#ed7953"
             ],
             [
              0.7777777777777778,
              "#fb9f3a"
             ],
             [
              0.8888888888888888,
              "#fdca26"
             ],
             [
              1,
              "#f0f921"
             ]
            ],
            "type": "heatmapgl"
           }
          ],
          "histogram": [
           {
            "marker": {
             "pattern": {
              "fillmode": "overlay",
              "size": 10,
              "solidity": 0.2
             }
            },
            "type": "histogram"
           }
          ],
          "histogram2d": [
           {
            "colorbar": {
             "outlinewidth": 0,
             "ticks": ""
            },
            "colorscale": [
             [
              0,
              "#0d0887"
             ],
             [
              0.1111111111111111,
              "#46039f"
             ],
             [
              0.2222222222222222,
              "#7201a8"
             ],
             [
              0.3333333333333333,
              "#9c179e"
             ],
             [
              0.4444444444444444,
              "#bd3786"
             ],
             [
              0.5555555555555556,
              "#d8576b"
             ],
             [
              0.6666666666666666,
              "#ed7953"
             ],
             [
              0.7777777777777778,
              "#fb9f3a"
             ],
             [
              0.8888888888888888,
              "#fdca26"
             ],
             [
              1,
              "#f0f921"
             ]
            ],
            "type": "histogram2d"
           }
          ],
          "histogram2dcontour": [
           {
            "colorbar": {
             "outlinewidth": 0,
             "ticks": ""
            },
            "colorscale": [
             [
              0,
              "#0d0887"
             ],
             [
              0.1111111111111111,
              "#46039f"
             ],
             [
              0.2222222222222222,
              "#7201a8"
             ],
             [
              0.3333333333333333,
              "#9c179e"
             ],
             [
              0.4444444444444444,
              "#bd3786"
             ],
             [
              0.5555555555555556,
              "#d8576b"
             ],
             [
              0.6666666666666666,
              "#ed7953"
             ],
             [
              0.7777777777777778,
              "#fb9f3a"
             ],
             [
              0.8888888888888888,
              "#fdca26"
             ],
             [
              1,
              "#f0f921"
             ]
            ],
            "type": "histogram2dcontour"
           }
          ],
          "mesh3d": [
           {
            "colorbar": {
             "outlinewidth": 0,
             "ticks": ""
            },
            "type": "mesh3d"
           }
          ],
          "parcoords": [
           {
            "line": {
             "colorbar": {
              "outlinewidth": 0,
              "ticks": ""
             }
            },
            "type": "parcoords"
           }
          ],
          "pie": [
           {
            "automargin": true,
            "type": "pie"
           }
          ],
          "scatter": [
           {
            "fillpattern": {
             "fillmode": "overlay",
             "size": 10,
             "solidity": 0.2
            },
            "type": "scatter"
           }
          ],
          "scatter3d": [
           {
            "line": {
             "colorbar": {
              "outlinewidth": 0,
              "ticks": ""
             }
            },
            "marker": {
             "colorbar": {
              "outlinewidth": 0,
              "ticks": ""
             }
            },
            "type": "scatter3d"
           }
          ],
          "scattercarpet": [
           {
            "marker": {
             "colorbar": {
              "outlinewidth": 0,
              "ticks": ""
             }
            },
            "type": "scattercarpet"
           }
          ],
          "scattergeo": [
           {
            "marker": {
             "colorbar": {
              "outlinewidth": 0,
              "ticks": ""
             }
            },
            "type": "scattergeo"
           }
          ],
          "scattergl": [
           {
            "marker": {
             "colorbar": {
              "outlinewidth": 0,
              "ticks": ""
             }
            },
            "type": "scattergl"
           }
          ],
          "scattermapbox": [
           {
            "marker": {
             "colorbar": {
              "outlinewidth": 0,
              "ticks": ""
             }
            },
            "type": "scattermapbox"
           }
          ],
          "scatterpolar": [
           {
            "marker": {
             "colorbar": {
              "outlinewidth": 0,
              "ticks": ""
             }
            },
            "type": "scatterpolar"
           }
          ],
          "scatterpolargl": [
           {
            "marker": {
             "colorbar": {
              "outlinewidth": 0,
              "ticks": ""
             }
            },
            "type": "scatterpolargl"
           }
          ],
          "scatterternary": [
           {
            "marker": {
             "colorbar": {
              "outlinewidth": 0,
              "ticks": ""
             }
            },
            "type": "scatterternary"
           }
          ],
          "surface": [
           {
            "colorbar": {
             "outlinewidth": 0,
             "ticks": ""
            },
            "colorscale": [
             [
              0,
              "#0d0887"
             ],
             [
              0.1111111111111111,
              "#46039f"
             ],
             [
              0.2222222222222222,
              "#7201a8"
             ],
             [
              0.3333333333333333,
              "#9c179e"
             ],
             [
              0.4444444444444444,
              "#bd3786"
             ],
             [
              0.5555555555555556,
              "#d8576b"
             ],
             [
              0.6666666666666666,
              "#ed7953"
             ],
             [
              0.7777777777777778,
              "#fb9f3a"
             ],
             [
              0.8888888888888888,
              "#fdca26"
             ],
             [
              1,
              "#f0f921"
             ]
            ],
            "type": "surface"
           }
          ],
          "table": [
           {
            "cells": {
             "fill": {
              "color": "#EBF0F8"
             },
             "line": {
              "color": "white"
             }
            },
            "header": {
             "fill": {
              "color": "#C8D4E3"
             },
             "line": {
              "color": "white"
             }
            },
            "type": "table"
           }
          ]
         },
         "layout": {
          "annotationdefaults": {
           "arrowcolor": "#2a3f5f",
           "arrowhead": 0,
           "arrowwidth": 1
          },
          "autotypenumbers": "strict",
          "coloraxis": {
           "colorbar": {
            "outlinewidth": 0,
            "ticks": ""
           }
          },
          "colorscale": {
           "diverging": [
            [
             0,
             "#8e0152"
            ],
            [
             0.1,
             "#c51b7d"
            ],
            [
             0.2,
             "#de77ae"
            ],
            [
             0.3,
             "#f1b6da"
            ],
            [
             0.4,
             "#fde0ef"
            ],
            [
             0.5,
             "#f7f7f7"
            ],
            [
             0.6,
             "#e6f5d0"
            ],
            [
             0.7,
             "#b8e186"
            ],
            [
             0.8,
             "#7fbc41"
            ],
            [
             0.9,
             "#4d9221"
            ],
            [
             1,
             "#276419"
            ]
           ],
           "sequential": [
            [
             0,
             "#0d0887"
            ],
            [
             0.1111111111111111,
             "#46039f"
            ],
            [
             0.2222222222222222,
             "#7201a8"
            ],
            [
             0.3333333333333333,
             "#9c179e"
            ],
            [
             0.4444444444444444,
             "#bd3786"
            ],
            [
             0.5555555555555556,
             "#d8576b"
            ],
            [
             0.6666666666666666,
             "#ed7953"
            ],
            [
             0.7777777777777778,
             "#fb9f3a"
            ],
            [
             0.8888888888888888,
             "#fdca26"
            ],
            [
             1,
             "#f0f921"
            ]
           ],
           "sequentialminus": [
            [
             0,
             "#0d0887"
            ],
            [
             0.1111111111111111,
             "#46039f"
            ],
            [
             0.2222222222222222,
             "#7201a8"
            ],
            [
             0.3333333333333333,
             "#9c179e"
            ],
            [
             0.4444444444444444,
             "#bd3786"
            ],
            [
             0.5555555555555556,
             "#d8576b"
            ],
            [
             0.6666666666666666,
             "#ed7953"
            ],
            [
             0.7777777777777778,
             "#fb9f3a"
            ],
            [
             0.8888888888888888,
             "#fdca26"
            ],
            [
             1,
             "#f0f921"
            ]
           ]
          },
          "colorway": [
           "#636efa",
           "#EF553B",
           "#00cc96",
           "#ab63fa",
           "#FFA15A",
           "#19d3f3",
           "#FF6692",
           "#B6E880",
           "#FF97FF",
           "#FECB52"
          ],
          "font": {
           "color": "#2a3f5f"
          },
          "geo": {
           "bgcolor": "white",
           "lakecolor": "white",
           "landcolor": "#E5ECF6",
           "showlakes": true,
           "showland": true,
           "subunitcolor": "white"
          },
          "hoverlabel": {
           "align": "left"
          },
          "hovermode": "closest",
          "mapbox": {
           "style": "light"
          },
          "paper_bgcolor": "white",
          "plot_bgcolor": "#E5ECF6",
          "polar": {
           "angularaxis": {
            "gridcolor": "white",
            "linecolor": "white",
            "ticks": ""
           },
           "bgcolor": "#E5ECF6",
           "radialaxis": {
            "gridcolor": "white",
            "linecolor": "white",
            "ticks": ""
           }
          },
          "scene": {
           "xaxis": {
            "backgroundcolor": "#E5ECF6",
            "gridcolor": "white",
            "gridwidth": 2,
            "linecolor": "white",
            "showbackground": true,
            "ticks": "",
            "zerolinecolor": "white"
           },
           "yaxis": {
            "backgroundcolor": "#E5ECF6",
            "gridcolor": "white",
            "gridwidth": 2,
            "linecolor": "white",
            "showbackground": true,
            "ticks": "",
            "zerolinecolor": "white"
           },
           "zaxis": {
            "backgroundcolor": "#E5ECF6",
            "gridcolor": "white",
            "gridwidth": 2,
            "linecolor": "white",
            "showbackground": true,
            "ticks": "",
            "zerolinecolor": "white"
           }
          },
          "shapedefaults": {
           "line": {
            "color": "#2a3f5f"
           }
          },
          "ternary": {
           "aaxis": {
            "gridcolor": "white",
            "linecolor": "white",
            "ticks": ""
           },
           "baxis": {
            "gridcolor": "white",
            "linecolor": "white",
            "ticks": ""
           },
           "bgcolor": "#E5ECF6",
           "caxis": {
            "gridcolor": "white",
            "linecolor": "white",
            "ticks": ""
           }
          },
          "title": {
           "x": 0.05
          },
          "xaxis": {
           "automargin": true,
           "gridcolor": "white",
           "linecolor": "white",
           "ticks": "",
           "title": {
            "standoff": 15
           },
           "zerolinecolor": "white",
           "zerolinewidth": 2
          },
          "yaxis": {
           "automargin": true,
           "gridcolor": "white",
           "linecolor": "white",
           "ticks": "",
           "title": {
            "standoff": 15
           },
           "zerolinecolor": "white",
           "zerolinewidth": 2
          }
         }
        },
        "title": {
         "text": "Distribution of damage types across different cost categories Analysis",
         "x": 0.5
        },
        "xaxis": {
         "anchor": "y",
         "domain": [
          0,
          1
         ],
         "title": {
          "text": "damage type"
         }
        },
        "yaxis": {
         "anchor": "x",
         "domain": [
          0,
          1
         ],
         "title": {
          "text": "Count"
         }
        }
       }
      },
      "text/html": [
       "<div>                            <div id=\"413e01c8-144f-4d87-bb6b-577b83e56f51\" class=\"plotly-graph-div\" style=\"height:525px; width:100%;\"></div>            <script type=\"text/javascript\">                require([\"plotly\"], function(Plotly) {                    window.PLOTLYENV=window.PLOTLYENV || {};                                    if (document.getElementById(\"413e01c8-144f-4d87-bb6b-577b83e56f51\")) {                    Plotly.newPlot(                        \"413e01c8-144f-4d87-bb6b-577b83e56f51\",                        [{\"alignmentgroup\":\"True\",\"hovertemplate\":\"color=0200:0300\\u003cbr\\u003ex=%{x}\\u003cbr\\u003ey=%{y}\\u003cextra\\u003e\\u003c\\u002fextra\\u003e\",\"legendgroup\":\"0200:0300\",\"marker\":{\"color\":\"#636efa\",\"pattern\":{\"shape\":\"\"}},\"name\":\"0200:0300\",\"offsetgroup\":\"0200:0300\",\"orientation\":\"v\",\"showlegend\":true,\"textposition\":\"auto\",\"x\":[\"اصلاح كهرباء\",\"غيار زيت\",\"اصلاح مكانيك \",\"اصلاح كوشوك\",\"اصلاح بودي\"],\"xaxis\":\"x\",\"y\":[1,2,18,31,105],\"yaxis\":\"y\",\"type\":\"bar\"},{\"alignmentgroup\":\"True\",\"hovertemplate\":\"color=2000:3000\\u003cbr\\u003ex=%{x}\\u003cbr\\u003ey=%{y}\\u003cextra\\u003e\\u003c\\u002fextra\\u003e\",\"legendgroup\":\"2000:3000\",\"marker\":{\"color\":\"#EF553B\",\"pattern\":{\"shape\":\"\"}},\"name\":\"2000:3000\",\"offsetgroup\":\"2000:3000\",\"orientation\":\"v\",\"showlegend\":true,\"textposition\":\"auto\",\"x\":[\"اصلاح مكانيك \",\"اصلاح بودي\"],\"xaxis\":\"x\",\"y\":[1,1],\"yaxis\":\"y\",\"type\":\"bar\"},{\"alignmentgroup\":\"True\",\"hovertemplate\":\"color=1000:1500\\u003cbr\\u003ex=%{x}\\u003cbr\\u003ey=%{y}\\u003cextra\\u003e\\u003c\\u002fextra\\u003e\",\"legendgroup\":\"1000:1500\",\"marker\":{\"color\":\"#00cc96\",\"pattern\":{\"shape\":\"\"}},\"name\":\"1000:1500\",\"offsetgroup\":\"1000:1500\",\"orientation\":\"v\",\"showlegend\":true,\"textposition\":\"auto\",\"x\":[\"اصلاح مكانيك \",\"اصلاح بودي\"],\"xaxis\":\"x\",\"y\":[1,5],\"yaxis\":\"y\",\"type\":\"bar\"},{\"alignmentgroup\":\"True\",\"hovertemplate\":\"color=0600:0700\\u003cbr\\u003ex=%{x}\\u003cbr\\u003ey=%{y}\\u003cextra\\u003e\\u003c\\u002fextra\\u003e\",\"legendgroup\":\"0600:0700\",\"marker\":{\"color\":\"#ab63fa\",\"pattern\":{\"shape\":\"\"}},\"name\":\"0600:0700\",\"offsetgroup\":\"0600:0700\",\"orientation\":\"v\",\"showlegend\":true,\"textposition\":\"auto\",\"x\":[\"اصلاح كوشوك\",\"اصلاح مكانيك \",\"اصلاح بودي\"],\"xaxis\":\"x\",\"y\":[1,3,6],\"yaxis\":\"y\",\"type\":\"bar\"},{\"alignmentgroup\":\"True\",\"hovertemplate\":\"color=0100:0150\\u003cbr\\u003ex=%{x}\\u003cbr\\u003ey=%{y}\\u003cextra\\u003e\\u003c\\u002fextra\\u003e\",\"legendgroup\":\"0100:0150\",\"marker\":{\"color\":\"#FFA15A\",\"pattern\":{\"shape\":\"\"}},\"name\":\"0100:0150\",\"offsetgroup\":\"0100:0150\",\"orientation\":\"v\",\"showlegend\":true,\"textposition\":\"auto\",\"x\":[\"اصلاح كهرباء\",\"اصلاح فرش\",\"اصلاح زجاج\",\"اصلاح كوشوك\",\"اصلاح بودي\",\"اصلاح مكانيك \",\"غيار زيت\"],\"xaxis\":\"x\",\"y\":[1,2,7,19,21,35,79],\"yaxis\":\"y\",\"type\":\"bar\"},{\"alignmentgroup\":\"True\",\"hovertemplate\":\"color=1500:2000\\u003cbr\\u003ex=%{x}\\u003cbr\\u003ey=%{y}\\u003cextra\\u003e\\u003c\\u002fextra\\u003e\",\"legendgroup\":\"1500:2000\",\"marker\":{\"color\":\"#19d3f3\",\"pattern\":{\"shape\":\"\"}},\"name\":\"1500:2000\",\"offsetgroup\":\"1500:2000\",\"orientation\":\"v\",\"showlegend\":true,\"textposition\":\"auto\",\"x\":[\"اصلاح بودي\"],\"xaxis\":\"x\",\"y\":[1],\"yaxis\":\"y\",\"type\":\"bar\"},{\"alignmentgroup\":\"True\",\"hovertemplate\":\"color=0900:1000\\u003cbr\\u003ex=%{x}\\u003cbr\\u003ey=%{y}\\u003cextra\\u003e\\u003c\\u002fextra\\u003e\",\"legendgroup\":\"0900:1000\",\"marker\":{\"color\":\"#FF6692\",\"pattern\":{\"shape\":\"\"}},\"name\":\"0900:1000\",\"offsetgroup\":\"0900:1000\",\"orientation\":\"v\",\"showlegend\":true,\"textposition\":\"auto\",\"x\":[\"اصلاح بودي\"],\"xaxis\":\"x\",\"y\":[1],\"yaxis\":\"y\",\"type\":\"bar\"},{\"alignmentgroup\":\"True\",\"hovertemplate\":\"color=0800:0900\\u003cbr\\u003ex=%{x}\\u003cbr\\u003ey=%{y}\\u003cextra\\u003e\\u003c\\u002fextra\\u003e\",\"legendgroup\":\"0800:0900\",\"marker\":{\"color\":\"#B6E880\",\"pattern\":{\"shape\":\"\"}},\"name\":\"0800:0900\",\"offsetgroup\":\"0800:0900\",\"orientation\":\"v\",\"showlegend\":true,\"textposition\":\"auto\",\"x\":[\"اصلاح بودي\"],\"xaxis\":\"x\",\"y\":[1],\"yaxis\":\"y\",\"type\":\"bar\"},{\"alignmentgroup\":\"True\",\"hovertemplate\":\"color=0050:0100\\u003cbr\\u003ex=%{x}\\u003cbr\\u003ey=%{y}\\u003cextra\\u003e\\u003c\\u002fextra\\u003e\",\"legendgroup\":\"0050:0100\",\"marker\":{\"color\":\"#FF97FF\",\"pattern\":{\"shape\":\"\"}},\"name\":\"0050:0100\",\"offsetgroup\":\"0050:0100\",\"orientation\":\"v\",\"showlegend\":true,\"textposition\":\"auto\",\"x\":[\"اصلاح فرش\",\"اصلاح زجاج\",\"اصلاح كوشوك\",\"غيار زيت\",\"اصلاح بودي\",\"اصلاح كهرباء\",\"اصلاح مكانيك \"],\"xaxis\":\"x\",\"y\":[3,9,15,17,30,38,196],\"yaxis\":\"y\",\"type\":\"bar\"},{\"alignmentgroup\":\"True\",\"hovertemplate\":\"color=0400:0500\\u003cbr\\u003ex=%{x}\\u003cbr\\u003ey=%{y}\\u003cextra\\u003e\\u003c\\u002fextra\\u003e\",\"legendgroup\":\"0400:0500\",\"marker\":{\"color\":\"#FECB52\",\"pattern\":{\"shape\":\"\"}},\"name\":\"0400:0500\",\"offsetgroup\":\"0400:0500\",\"orientation\":\"v\",\"showlegend\":true,\"textposition\":\"auto\",\"x\":[\"اصلاح بودي\",\"اصلاح مكانيك \",\"اصلاح كوشوك\"],\"xaxis\":\"x\",\"y\":[4,5,17],\"yaxis\":\"y\",\"type\":\"bar\"},{\"alignmentgroup\":\"True\",\"hovertemplate\":\"color=0500:0600\\u003cbr\\u003ex=%{x}\\u003cbr\\u003ey=%{y}\\u003cextra\\u003e\\u003c\\u002fextra\\u003e\",\"legendgroup\":\"0500:0600\",\"marker\":{\"color\":\"#636efa\",\"pattern\":{\"shape\":\"\"}},\"name\":\"0500:0600\",\"offsetgroup\":\"0500:0600\",\"orientation\":\"v\",\"showlegend\":true,\"textposition\":\"auto\",\"x\":[\"اصلاح بودي\",\"اصلاح مكانيك \",\"اصلاح كوشوك\"],\"xaxis\":\"x\",\"y\":[5,7,8],\"yaxis\":\"y\",\"type\":\"bar\"},{\"alignmentgroup\":\"True\",\"hovertemplate\":\"color=0001:0050\\u003cbr\\u003ex=%{x}\\u003cbr\\u003ey=%{y}\\u003cextra\\u003e\\u003c\\u002fextra\\u003e\",\"legendgroup\":\"0001:0050\",\"marker\":{\"color\":\"#EF553B\",\"pattern\":{\"shape\":\"\"}},\"name\":\"0001:0050\",\"offsetgroup\":\"0001:0050\",\"orientation\":\"v\",\"showlegend\":true,\"textposition\":\"auto\",\"x\":[\"اصلاح زجاج\",\"اصلاح كهرباء\",\"اصلاح كوشوك\",\"اصلاح بودي\",\"اصلاح فرش\",\"اصلاح مكانيك \",\"غيار زيت\"],\"xaxis\":\"x\",\"y\":[5,6,13,14,14,183,496],\"yaxis\":\"y\",\"type\":\"bar\"},{\"alignmentgroup\":\"True\",\"hovertemplate\":\"color=0300:0400\\u003cbr\\u003ex=%{x}\\u003cbr\\u003ey=%{y}\\u003cextra\\u003e\\u003c\\u002fextra\\u003e\",\"legendgroup\":\"0300:0400\",\"marker\":{\"color\":\"#00cc96\",\"pattern\":{\"shape\":\"\"}},\"name\":\"0300:0400\",\"offsetgroup\":\"0300:0400\",\"orientation\":\"v\",\"showlegend\":true,\"textposition\":\"auto\",\"x\":[\"اصلاح مكانيك \",\"اصلاح كوشوك\",\"اصلاح بودي\"],\"xaxis\":\"x\",\"y\":[5,13,19],\"yaxis\":\"y\",\"type\":\"bar\"},{\"alignmentgroup\":\"True\",\"hovertemplate\":\"color=0700:0800\\u003cbr\\u003ex=%{x}\\u003cbr\\u003ey=%{y}\\u003cextra\\u003e\\u003c\\u002fextra\\u003e\",\"legendgroup\":\"0700:0800\",\"marker\":{\"color\":\"#ab63fa\",\"pattern\":{\"shape\":\"\"}},\"name\":\"0700:0800\",\"offsetgroup\":\"0700:0800\",\"orientation\":\"v\",\"showlegend\":true,\"textposition\":\"auto\",\"x\":[\"اصلاح بودي\"],\"xaxis\":\"x\",\"y\":[5],\"yaxis\":\"y\",\"type\":\"bar\"},{\"alignmentgroup\":\"True\",\"hovertemplate\":\"color=0150:0200\\u003cbr\\u003ex=%{x}\\u003cbr\\u003ey=%{y}\\u003cextra\\u003e\\u003c\\u002fextra\\u003e\",\"legendgroup\":\"0150:0200\",\"marker\":{\"color\":\"#FFA15A\",\"pattern\":{\"shape\":\"\"}},\"name\":\"0150:0200\",\"offsetgroup\":\"0150:0200\",\"orientation\":\"v\",\"showlegend\":true,\"textposition\":\"auto\",\"x\":[\"اصلاح كوشوك\",\"اصلاح بودي\",\"اصلاح مكانيك \"],\"xaxis\":\"x\",\"y\":[7,11,12],\"yaxis\":\"y\",\"type\":\"bar\"}],                        {\"template\":{\"data\":{\"histogram2dcontour\":[{\"type\":\"histogram2dcontour\",\"colorbar\":{\"outlinewidth\":0,\"ticks\":\"\"},\"colorscale\":[[0.0,\"#0d0887\"],[0.1111111111111111,\"#46039f\"],[0.2222222222222222,\"#7201a8\"],[0.3333333333333333,\"#9c179e\"],[0.4444444444444444,\"#bd3786\"],[0.5555555555555556,\"#d8576b\"],[0.6666666666666666,\"#ed7953\"],[0.7777777777777778,\"#fb9f3a\"],[0.8888888888888888,\"#fdca26\"],[1.0,\"#f0f921\"]]}],\"choropleth\":[{\"type\":\"choropleth\",\"colorbar\":{\"outlinewidth\":0,\"ticks\":\"\"}}],\"histogram2d\":[{\"type\":\"histogram2d\",\"colorbar\":{\"outlinewidth\":0,\"ticks\":\"\"},\"colorscale\":[[0.0,\"#0d0887\"],[0.1111111111111111,\"#46039f\"],[0.2222222222222222,\"#7201a8\"],[0.3333333333333333,\"#9c179e\"],[0.4444444444444444,\"#bd3786\"],[0.5555555555555556,\"#d8576b\"],[0.6666666666666666,\"#ed7953\"],[0.7777777777777778,\"#fb9f3a\"],[0.8888888888888888,\"#fdca26\"],[1.0,\"#f0f921\"]]}],\"heatmap\":[{\"type\":\"heatmap\",\"colorbar\":{\"outlinewidth\":0,\"ticks\":\"\"},\"colorscale\":[[0.0,\"#0d0887\"],[0.1111111111111111,\"#46039f\"],[0.2222222222222222,\"#7201a8\"],[0.3333333333333333,\"#9c179e\"],[0.4444444444444444,\"#bd3786\"],[0.5555555555555556,\"#d8576b\"],[0.6666666666666666,\"#ed7953\"],[0.7777777777777778,\"#fb9f3a\"],[0.8888888888888888,\"#fdca26\"],[1.0,\"#f0f921\"]]}],\"heatmapgl\":[{\"type\":\"heatmapgl\",\"colorbar\":{\"outlinewidth\":0,\"ticks\":\"\"},\"colorscale\":[[0.0,\"#0d0887\"],[0.1111111111111111,\"#46039f\"],[0.2222222222222222,\"#7201a8\"],[0.3333333333333333,\"#9c179e\"],[0.4444444444444444,\"#bd3786\"],[0.5555555555555556,\"#d8576b\"],[0.6666666666666666,\"#ed7953\"],[0.7777777777777778,\"#fb9f3a\"],[0.8888888888888888,\"#fdca26\"],[1.0,\"#f0f921\"]]}],\"contourcarpet\":[{\"type\":\"contourcarpet\",\"colorbar\":{\"outlinewidth\":0,\"ticks\":\"\"}}],\"contour\":[{\"type\":\"contour\",\"colorbar\":{\"outlinewidth\":0,\"ticks\":\"\"},\"colorscale\":[[0.0,\"#0d0887\"],[0.1111111111111111,\"#46039f\"],[0.2222222222222222,\"#7201a8\"],[0.3333333333333333,\"#9c179e\"],[0.4444444444444444,\"#bd3786\"],[0.5555555555555556,\"#d8576b\"],[0.6666666666666666,\"#ed7953\"],[0.7777777777777778,\"#fb9f3a\"],[0.8888888888888888,\"#fdca26\"],[1.0,\"#f0f921\"]]}],\"surface\":[{\"type\":\"surface\",\"colorbar\":{\"outlinewidth\":0,\"ticks\":\"\"},\"colorscale\":[[0.0,\"#0d0887\"],[0.1111111111111111,\"#46039f\"],[0.2222222222222222,\"#7201a8\"],[0.3333333333333333,\"#9c179e\"],[0.4444444444444444,\"#bd3786\"],[0.5555555555555556,\"#d8576b\"],[0.6666666666666666,\"#ed7953\"],[0.7777777777777778,\"#fb9f3a\"],[0.8888888888888888,\"#fdca26\"],[1.0,\"#f0f921\"]]}],\"mesh3d\":[{\"type\":\"mesh3d\",\"colorbar\":{\"outlinewidth\":0,\"ticks\":\"\"}}],\"scatter\":[{\"fillpattern\":{\"fillmode\":\"overlay\",\"size\":10,\"solidity\":0.2},\"type\":\"scatter\"}],\"parcoords\":[{\"type\":\"parcoords\",\"line\":{\"colorbar\":{\"outlinewidth\":0,\"ticks\":\"\"}}}],\"scatterpolargl\":[{\"type\":\"scatterpolargl\",\"marker\":{\"colorbar\":{\"outlinewidth\":0,\"ticks\":\"\"}}}],\"bar\":[{\"error_x\":{\"color\":\"#2a3f5f\"},\"error_y\":{\"color\":\"#2a3f5f\"},\"marker\":{\"line\":{\"color\":\"#E5ECF6\",\"width\":0.5},\"pattern\":{\"fillmode\":\"overlay\",\"size\":10,\"solidity\":0.2}},\"type\":\"bar\"}],\"scattergeo\":[{\"type\":\"scattergeo\",\"marker\":{\"colorbar\":{\"outlinewidth\":0,\"ticks\":\"\"}}}],\"scatterpolar\":[{\"type\":\"scatterpolar\",\"marker\":{\"colorbar\":{\"outlinewidth\":0,\"ticks\":\"\"}}}],\"histogram\":[{\"marker\":{\"pattern\":{\"fillmode\":\"overlay\",\"size\":10,\"solidity\":0.2}},\"type\":\"histogram\"}],\"scattergl\":[{\"type\":\"scattergl\",\"marker\":{\"colorbar\":{\"outlinewidth\":0,\"ticks\":\"\"}}}],\"scatter3d\":[{\"type\":\"scatter3d\",\"line\":{\"colorbar\":{\"outlinewidth\":0,\"ticks\":\"\"}},\"marker\":{\"colorbar\":{\"outlinewidth\":0,\"ticks\":\"\"}}}],\"scattermapbox\":[{\"type\":\"scattermapbox\",\"marker\":{\"colorbar\":{\"outlinewidth\":0,\"ticks\":\"\"}}}],\"scatterternary\":[{\"type\":\"scatterternary\",\"marker\":{\"colorbar\":{\"outlinewidth\":0,\"ticks\":\"\"}}}],\"scattercarpet\":[{\"type\":\"scattercarpet\",\"marker\":{\"colorbar\":{\"outlinewidth\":0,\"ticks\":\"\"}}}],\"carpet\":[{\"aaxis\":{\"endlinecolor\":\"#2a3f5f\",\"gridcolor\":\"white\",\"linecolor\":\"white\",\"minorgridcolor\":\"white\",\"startlinecolor\":\"#2a3f5f\"},\"baxis\":{\"endlinecolor\":\"#2a3f5f\",\"gridcolor\":\"white\",\"linecolor\":\"white\",\"minorgridcolor\":\"white\",\"startlinecolor\":\"#2a3f5f\"},\"type\":\"carpet\"}],\"table\":[{\"cells\":{\"fill\":{\"color\":\"#EBF0F8\"},\"line\":{\"color\":\"white\"}},\"header\":{\"fill\":{\"color\":\"#C8D4E3\"},\"line\":{\"color\":\"white\"}},\"type\":\"table\"}],\"barpolar\":[{\"marker\":{\"line\":{\"color\":\"#E5ECF6\",\"width\":0.5},\"pattern\":{\"fillmode\":\"overlay\",\"size\":10,\"solidity\":0.2}},\"type\":\"barpolar\"}],\"pie\":[{\"automargin\":true,\"type\":\"pie\"}]},\"layout\":{\"autotypenumbers\":\"strict\",\"colorway\":[\"#636efa\",\"#EF553B\",\"#00cc96\",\"#ab63fa\",\"#FFA15A\",\"#19d3f3\",\"#FF6692\",\"#B6E880\",\"#FF97FF\",\"#FECB52\"],\"font\":{\"color\":\"#2a3f5f\"},\"hovermode\":\"closest\",\"hoverlabel\":{\"align\":\"left\"},\"paper_bgcolor\":\"white\",\"plot_bgcolor\":\"#E5ECF6\",\"polar\":{\"bgcolor\":\"#E5ECF6\",\"angularaxis\":{\"gridcolor\":\"white\",\"linecolor\":\"white\",\"ticks\":\"\"},\"radialaxis\":{\"gridcolor\":\"white\",\"linecolor\":\"white\",\"ticks\":\"\"}},\"ternary\":{\"bgcolor\":\"#E5ECF6\",\"aaxis\":{\"gridcolor\":\"white\",\"linecolor\":\"white\",\"ticks\":\"\"},\"baxis\":{\"gridcolor\":\"white\",\"linecolor\":\"white\",\"ticks\":\"\"},\"caxis\":{\"gridcolor\":\"white\",\"linecolor\":\"white\",\"ticks\":\"\"}},\"coloraxis\":{\"colorbar\":{\"outlinewidth\":0,\"ticks\":\"\"}},\"colorscale\":{\"sequential\":[[0.0,\"#0d0887\"],[0.1111111111111111,\"#46039f\"],[0.2222222222222222,\"#7201a8\"],[0.3333333333333333,\"#9c179e\"],[0.4444444444444444,\"#bd3786\"],[0.5555555555555556,\"#d8576b\"],[0.6666666666666666,\"#ed7953\"],[0.7777777777777778,\"#fb9f3a\"],[0.8888888888888888,\"#fdca26\"],[1.0,\"#f0f921\"]],\"sequentialminus\":[[0.0,\"#0d0887\"],[0.1111111111111111,\"#46039f\"],[0.2222222222222222,\"#7201a8\"],[0.3333333333333333,\"#9c179e\"],[0.4444444444444444,\"#bd3786\"],[0.5555555555555556,\"#d8576b\"],[0.6666666666666666,\"#ed7953\"],[0.7777777777777778,\"#fb9f3a\"],[0.8888888888888888,\"#fdca26\"],[1.0,\"#f0f921\"]],\"diverging\":[[0,\"#8e0152\"],[0.1,\"#c51b7d\"],[0.2,\"#de77ae\"],[0.3,\"#f1b6da\"],[0.4,\"#fde0ef\"],[0.5,\"#f7f7f7\"],[0.6,\"#e6f5d0\"],[0.7,\"#b8e186\"],[0.8,\"#7fbc41\"],[0.9,\"#4d9221\"],[1,\"#276419\"]]},\"xaxis\":{\"gridcolor\":\"white\",\"linecolor\":\"white\",\"ticks\":\"\",\"title\":{\"standoff\":15},\"zerolinecolor\":\"white\",\"automargin\":true,\"zerolinewidth\":2},\"yaxis\":{\"gridcolor\":\"white\",\"linecolor\":\"white\",\"ticks\":\"\",\"title\":{\"standoff\":15},\"zerolinecolor\":\"white\",\"automargin\":true,\"zerolinewidth\":2},\"scene\":{\"xaxis\":{\"backgroundcolor\":\"#E5ECF6\",\"gridcolor\":\"white\",\"linecolor\":\"white\",\"showbackground\":true,\"ticks\":\"\",\"zerolinecolor\":\"white\",\"gridwidth\":2},\"yaxis\":{\"backgroundcolor\":\"#E5ECF6\",\"gridcolor\":\"white\",\"linecolor\":\"white\",\"showbackground\":true,\"ticks\":\"\",\"zerolinecolor\":\"white\",\"gridwidth\":2},\"zaxis\":{\"backgroundcolor\":\"#E5ECF6\",\"gridcolor\":\"white\",\"linecolor\":\"white\",\"showbackground\":true,\"ticks\":\"\",\"zerolinecolor\":\"white\",\"gridwidth\":2}},\"shapedefaults\":{\"line\":{\"color\":\"#2a3f5f\"}},\"annotationdefaults\":{\"arrowcolor\":\"#2a3f5f\",\"arrowhead\":0,\"arrowwidth\":1},\"geo\":{\"bgcolor\":\"white\",\"landcolor\":\"#E5ECF6\",\"subunitcolor\":\"white\",\"showland\":true,\"showlakes\":true,\"lakecolor\":\"white\"},\"title\":{\"x\":0.05},\"mapbox\":{\"style\":\"light\"}}},\"xaxis\":{\"anchor\":\"y\",\"domain\":[0.0,1.0],\"title\":{\"text\":\"damage type\"}},\"yaxis\":{\"anchor\":\"x\",\"domain\":[0.0,1.0],\"title\":{\"text\":\"Count\"}},\"legend\":{\"title\":{\"text\":\"color\"},\"tracegroupgap\":0},\"title\":{\"text\":\"Distribution of damage types across different cost categories Analysis\",\"x\":0.5},\"barmode\":\"relative\"},                        {\"responsive\": true}                    ).then(function(){\n",
       "                            \n",
       "var gd = document.getElementById('413e01c8-144f-4d87-bb6b-577b83e56f51');\n",
       "var x = new MutationObserver(function (mutations, observer) {{\n",
       "        var display = window.getComputedStyle(gd).display;\n",
       "        if (!display || display === 'none') {{\n",
       "            console.log([gd, 'removed!']);\n",
       "            Plotly.purge(gd);\n",
       "            observer.disconnect();\n",
       "        }}\n",
       "}});\n",
       "\n",
       "// Listen for the removal of the full notebook cells\n",
       "var notebookContainer = gd.closest('#notebook-container');\n",
       "if (notebookContainer) {{\n",
       "    x.observe(notebookContainer, {childList: true});\n",
       "}}\n",
       "\n",
       "// Listen for the clearing of the current output cell\n",
       "var outputEl = gd.closest('.output');\n",
       "if (outputEl) {{\n",
       "    x.observe(outputEl, {childList: true});\n",
       "}}\n",
       "\n",
       "                        })                };                });            </script>        </div>"
      ]
     },
     "metadata": {},
     "output_type": "display_data"
    },
    {
     "name": "stdout",
     "output_type": "stream",
     "text": [
      "The damage type that has maximum service count is : غيار زيت\n",
      "The Cost Category that has maximum service count is : 0001:0050\n",
      "The maximum service count is : 496\n"
     ]
    }
   ],
   "source": [
    "damageType_costCategory = df.groupby(['damage type','cost_category']).size().reset_index(name='Count').sort_values(by='Count')\n",
    "myPlot1(damageType_costCategory,'damage type','Count','cost_category','bar','Distribution of damage types across different cost categories', sort_by=None, ascending=True)\n",
    "Maximum_row = damageType_costCategory.loc[damageType_costCategory['Count'].idxmax()]\n",
    "print('The damage type that has maximum service count is :',Maximum_row['damage type'])\n",
    "print('The Cost Category that has maximum service count is :',Maximum_row['cost_category'])\n",
    "print('The maximum service count is :',Maximum_row['Count'])"
   ]
  },
  {
   "cell_type": "code",
   "execution_count": 21,
   "id": "716c354d",
   "metadata": {},
   "outputs": [],
   "source": [
    "#### Relationship between cost categories and car models"
   ]
  },
  {
   "cell_type": "code",
   "execution_count": 66,
   "id": "a0827af6",
   "metadata": {},
   "outputs": [
    {
     "data": {
      "application/vnd.plotly.v1+json": {
       "config": {
        "plotlyServerURL": "https://plot.ly"
       },
       "data": [
        {
         "alignmentgroup": "True",
         "hovertemplate": "color=0100:0150<br>x=%{x}<br>y=%{y}<extra></extra>",
         "legendgroup": "0100:0150",
         "marker": {
          "color": "#636efa",
          "pattern": {
           "shape": ""
          }
         },
         "name": "0100:0150",
         "offsetgroup": "0100:0150",
         "orientation": "v",
         "showlegend": true,
         "textposition": "auto",
         "type": "bar",
         "x": [
          " GUNSAYIL ",
          "AVANZA",
          "CAMRY",
          "CERATO",
          "COROLLA",
          "CRUZE",
          "ELANTRA",
          "FORTUNER",
          "H 1",
          "HILUX",
          "I 10",
          "OPTIMA",
          "PRADO",
          "PRIUS",
          "RAV 4 ",
          "RIO",
          "SONIC",
          "SPARK",
          "SPORTAGE",
          "TUCSAN",
          "YARIS"
         ],
         "xaxis": "x",
         "y": [
          1,
          7,
          11,
          22,
          20,
          1,
          10,
          21,
          11,
          21,
          2,
          4,
          3,
          2,
          2,
          3,
          2,
          1,
          9,
          2,
          9
         ],
         "yaxis": "y"
        },
        {
         "alignmentgroup": "True",
         "hovertemplate": "color=0001:0050<br>x=%{x}<br>y=%{y}<extra></extra>",
         "legendgroup": "0001:0050",
         "marker": {
          "color": "#EF553B",
          "pattern": {
           "shape": ""
          }
         },
         "name": "0001:0050",
         "offsetgroup": "0001:0050",
         "orientation": "v",
         "showlegend": true,
         "textposition": "auto",
         "type": "bar",
         "x": [
          "ACCENT",
          "AVANZA",
          "CAMRY",
          "CERATO",
          "COROLLA",
          "COROLLA ",
          "CRUZE",
          "ELANTRA",
          "FLUENCE",
          "FORTUNER",
          "H 1",
          "HILUX",
          "I 10",
          "OPTIMA",
          "PRADO",
          "PRIUS",
          "RAV 4 ",
          "RIO",
          "SONIC",
          "SPARK",
          "SPORTAGE",
          "TUCSAN",
          "YARIS"
         ],
         "xaxis": "x",
         "y": [
          3,
          31,
          35,
          88,
          80,
          3,
          18,
          39,
          36,
          101,
          39,
          50,
          22,
          5,
          7,
          3,
          2,
          47,
          15,
          46,
          33,
          5,
          23
         ],
         "yaxis": "y"
        },
        {
         "alignmentgroup": "True",
         "hovertemplate": "color=0050:0100<br>x=%{x}<br>y=%{y}<extra></extra>",
         "legendgroup": "0050:0100",
         "marker": {
          "color": "#00cc96",
          "pattern": {
           "shape": ""
          }
         },
         "name": "0050:0100",
         "offsetgroup": "0050:0100",
         "orientation": "v",
         "showlegend": true,
         "textposition": "auto",
         "type": "bar",
         "x": [
          "AVANZA",
          "CAMRY",
          "CERATO",
          "COROLLA",
          "CRUZE",
          "ELANTRA",
          "FLUENCE",
          "FORTUNER",
          "H 1",
          "HILUX",
          "I 10",
          "OPTIMA",
          "PRADO",
          "PRIUS",
          "RAV 4 ",
          "RIO",
          "SONIC",
          "SPARK",
          "SPORTAGE",
          "TUCSAN",
          "YARIS"
         ],
         "xaxis": "x",
         "y": [
          12,
          13,
          36,
          23,
          17,
          18,
          5,
          58,
          18,
          12,
          10,
          4,
          6,
          1,
          1,
          15,
          9,
          20,
          13,
          2,
          15
         ],
         "yaxis": "y"
        },
        {
         "alignmentgroup": "True",
         "hovertemplate": "color=0200:0300<br>x=%{x}<br>y=%{y}<extra></extra>",
         "legendgroup": "0200:0300",
         "marker": {
          "color": "#ab63fa",
          "pattern": {
           "shape": ""
          }
         },
         "name": "0200:0300",
         "offsetgroup": "0200:0300",
         "orientation": "v",
         "showlegend": true,
         "textposition": "auto",
         "type": "bar",
         "x": [
          "AVANZA",
          "CAMRY",
          "CERATO",
          "CITROEN",
          "COROLLA",
          "CRUZE",
          "ELANTRA",
          "FLUENCE",
          "FORTUNER",
          "H 1",
          "HILUX",
          "I 10",
          "OPTIMA",
          "PRADO",
          "RAV 4 ",
          "RIO",
          "SONIC",
          "SPARK",
          "SPORTAGE",
          "TUCSAN",
          "YARIS"
         ],
         "xaxis": "x",
         "y": [
          9,
          5,
          25,
          1,
          23,
          5,
          11,
          8,
          22,
          13,
          2,
          2,
          3,
          2,
          2,
          4,
          5,
          6,
          1,
          2,
          6
         ],
         "yaxis": "y"
        },
        {
         "alignmentgroup": "True",
         "hovertemplate": "color=0500:0600<br>x=%{x}<br>y=%{y}<extra></extra>",
         "legendgroup": "0500:0600",
         "marker": {
          "color": "#FFA15A",
          "pattern": {
           "shape": ""
          }
         },
         "name": "0500:0600",
         "offsetgroup": "0500:0600",
         "orientation": "v",
         "showlegend": true,
         "textposition": "auto",
         "type": "bar",
         "x": [
          "AVANZA",
          "CAMRY",
          "CERATO",
          "ELANTRA",
          "FORTUNER",
          "H 1",
          "RIO",
          "SPARK",
          "SPORTAGE"
         ],
         "xaxis": "x",
         "y": [
          1,
          2,
          2,
          1,
          7,
          2,
          1,
          1,
          3
         ],
         "yaxis": "y"
        },
        {
         "alignmentgroup": "True",
         "hovertemplate": "color=0600:0700<br>x=%{x}<br>y=%{y}<extra></extra>",
         "legendgroup": "0600:0700",
         "marker": {
          "color": "#19d3f3",
          "pattern": {
           "shape": ""
          }
         },
         "name": "0600:0700",
         "offsetgroup": "0600:0700",
         "orientation": "v",
         "showlegend": true,
         "textposition": "auto",
         "type": "bar",
         "x": [
          "AVANZA",
          "COROLLA",
          "ELANTRA",
          "FLUENCE",
          "FORTUNER",
          "H 1"
         ],
         "xaxis": "x",
         "y": [
          1,
          1,
          2,
          1,
          3,
          2
         ],
         "yaxis": "y"
        },
        {
         "alignmentgroup": "True",
         "hovertemplate": "color=1000:1500<br>x=%{x}<br>y=%{y}<extra></extra>",
         "legendgroup": "1000:1500",
         "marker": {
          "color": "#FF6692",
          "pattern": {
           "shape": ""
          }
         },
         "name": "1000:1500",
         "offsetgroup": "1000:1500",
         "orientation": "v",
         "showlegend": true,
         "textposition": "auto",
         "type": "bar",
         "x": [
          "AVANZA",
          "FORTUNER",
          "H 1",
          "HILUX"
         ],
         "xaxis": "x",
         "y": [
          1,
          2,
          1,
          2
         ],
         "yaxis": "y"
        },
        {
         "alignmentgroup": "True",
         "hovertemplate": "color=0800:0900<br>x=%{x}<br>y=%{y}<extra></extra>",
         "legendgroup": "0800:0900",
         "marker": {
          "color": "#B6E880",
          "pattern": {
           "shape": ""
          }
         },
         "name": "0800:0900",
         "offsetgroup": "0800:0900",
         "orientation": "v",
         "showlegend": true,
         "textposition": "auto",
         "type": "bar",
         "x": [
          "CAMRY"
         ],
         "xaxis": "x",
         "y": [
          1
         ],
         "yaxis": "y"
        },
        {
         "alignmentgroup": "True",
         "hovertemplate": "color=0700:0800<br>x=%{x}<br>y=%{y}<extra></extra>",
         "legendgroup": "0700:0800",
         "marker": {
          "color": "#FF97FF",
          "pattern": {
           "shape": ""
          }
         },
         "name": "0700:0800",
         "offsetgroup": "0700:0800",
         "orientation": "v",
         "showlegend": true,
         "textposition": "auto",
         "type": "bar",
         "x": [
          "CAMRY",
          "ELANTRA",
          "YARIS"
         ],
         "xaxis": "x",
         "y": [
          3,
          1,
          1
         ],
         "yaxis": "y"
        },
        {
         "alignmentgroup": "True",
         "hovertemplate": "color=0400:0500<br>x=%{x}<br>y=%{y}<extra></extra>",
         "legendgroup": "0400:0500",
         "marker": {
          "color": "#FECB52",
          "pattern": {
           "shape": ""
          }
         },
         "name": "0400:0500",
         "offsetgroup": "0400:0500",
         "orientation": "v",
         "showlegend": true,
         "textposition": "auto",
         "type": "bar",
         "x": [
          "CAMRY",
          "CERATO",
          "FORTUNER",
          "H 1",
          "HILUX",
          "PRIUS"
         ],
         "xaxis": "x",
         "y": [
          3,
          1,
          10,
          4,
          7,
          1
         ],
         "yaxis": "y"
        },
        {
         "alignmentgroup": "True",
         "hovertemplate": "color=0300:0400<br>x=%{x}<br>y=%{y}<extra></extra>",
         "legendgroup": "0300:0400",
         "marker": {
          "color": "#636efa",
          "pattern": {
           "shape": ""
          }
         },
         "name": "0300:0400",
         "offsetgroup": "0300:0400",
         "orientation": "v",
         "showlegend": true,
         "textposition": "auto",
         "type": "bar",
         "x": [
          "CAMRY",
          "COROLLA",
          "CRUZE",
          "ELANTRA",
          "FLUENCE",
          "FORTUNER",
          "H 1",
          "HILUX",
          "RAV 4 ",
          "SPARK",
          "SPORTAGE",
          "TUCSAN"
         ],
         "xaxis": "x",
         "y": [
          8,
          4,
          2,
          2,
          3,
          3,
          8,
          3,
          1,
          1,
          1,
          1
         ],
         "yaxis": "y"
        },
        {
         "alignmentgroup": "True",
         "hovertemplate": "color=0150:0200<br>x=%{x}<br>y=%{y}<extra></extra>",
         "legendgroup": "0150:0200",
         "marker": {
          "color": "#EF553B",
          "pattern": {
           "shape": ""
          }
         },
         "name": "0150:0200",
         "offsetgroup": "0150:0200",
         "orientation": "v",
         "showlegend": true,
         "textposition": "auto",
         "type": "bar",
         "x": [
          "CAMRY",
          "CERATO",
          "COROLLA",
          "CRUZE",
          "ELANTRA",
          "FLUENCE",
          "FORTUNER",
          "H 1",
          "I 10",
          "OPTIMA",
          "PRADO",
          "SPARK",
          "SPORTAGE",
          "TUCSAN",
          "YARIS"
         ],
         "xaxis": "x",
         "y": [
          5,
          3,
          2,
          1,
          3,
          1,
          3,
          3,
          1,
          1,
          1,
          3,
          1,
          1,
          1
         ],
         "yaxis": "y"
        },
        {
         "alignmentgroup": "True",
         "hovertemplate": "color=1500:2000<br>x=%{x}<br>y=%{y}<extra></extra>",
         "legendgroup": "1500:2000",
         "marker": {
          "color": "#00cc96",
          "pattern": {
           "shape": ""
          }
         },
         "name": "1500:2000",
         "offsetgroup": "1500:2000",
         "orientation": "v",
         "showlegend": true,
         "textposition": "auto",
         "type": "bar",
         "x": [
          "CERATO"
         ],
         "xaxis": "x",
         "y": [
          1
         ],
         "yaxis": "y"
        },
        {
         "alignmentgroup": "True",
         "hovertemplate": "color=2000:3000<br>x=%{x}<br>y=%{y}<extra></extra>",
         "legendgroup": "2000:3000",
         "marker": {
          "color": "#ab63fa",
          "pattern": {
           "shape": ""
          }
         },
         "name": "2000:3000",
         "offsetgroup": "2000:3000",
         "orientation": "v",
         "showlegend": true,
         "textposition": "auto",
         "type": "bar",
         "x": [
          "FORTUNER"
         ],
         "xaxis": "x",
         "y": [
          2
         ],
         "yaxis": "y"
        },
        {
         "alignmentgroup": "True",
         "hovertemplate": "color=0900:1000<br>x=%{x}<br>y=%{y}<extra></extra>",
         "legendgroup": "0900:1000",
         "marker": {
          "color": "#FFA15A",
          "pattern": {
           "shape": ""
          }
         },
         "name": "0900:1000",
         "offsetgroup": "0900:1000",
         "orientation": "v",
         "showlegend": true,
         "textposition": "auto",
         "type": "bar",
         "x": [
          "YARIS"
         ],
         "xaxis": "x",
         "y": [
          1
         ],
         "yaxis": "y"
        }
       ],
       "layout": {
        "barmode": "relative",
        "legend": {
         "title": {
          "text": "color"
         },
         "tracegroupgap": 0
        },
        "template": {
         "data": {
          "bar": [
           {
            "error_x": {
             "color": "#2a3f5f"
            },
            "error_y": {
             "color": "#2a3f5f"
            },
            "marker": {
             "line": {
              "color": "#E5ECF6",
              "width": 0.5
             },
             "pattern": {
              "fillmode": "overlay",
              "size": 10,
              "solidity": 0.2
             }
            },
            "type": "bar"
           }
          ],
          "barpolar": [
           {
            "marker": {
             "line": {
              "color": "#E5ECF6",
              "width": 0.5
             },
             "pattern": {
              "fillmode": "overlay",
              "size": 10,
              "solidity": 0.2
             }
            },
            "type": "barpolar"
           }
          ],
          "carpet": [
           {
            "aaxis": {
             "endlinecolor": "#2a3f5f",
             "gridcolor": "white",
             "linecolor": "white",
             "minorgridcolor": "white",
             "startlinecolor": "#2a3f5f"
            },
            "baxis": {
             "endlinecolor": "#2a3f5f",
             "gridcolor": "white",
             "linecolor": "white",
             "minorgridcolor": "white",
             "startlinecolor": "#2a3f5f"
            },
            "type": "carpet"
           }
          ],
          "choropleth": [
           {
            "colorbar": {
             "outlinewidth": 0,
             "ticks": ""
            },
            "type": "choropleth"
           }
          ],
          "contour": [
           {
            "colorbar": {
             "outlinewidth": 0,
             "ticks": ""
            },
            "colorscale": [
             [
              0,
              "#0d0887"
             ],
             [
              0.1111111111111111,
              "#46039f"
             ],
             [
              0.2222222222222222,
              "#7201a8"
             ],
             [
              0.3333333333333333,
              "#9c179e"
             ],
             [
              0.4444444444444444,
              "#bd3786"
             ],
             [
              0.5555555555555556,
              "#d8576b"
             ],
             [
              0.6666666666666666,
              "#ed7953"
             ],
             [
              0.7777777777777778,
              "#fb9f3a"
             ],
             [
              0.8888888888888888,
              "#fdca26"
             ],
             [
              1,
              "#f0f921"
             ]
            ],
            "type": "contour"
           }
          ],
          "contourcarpet": [
           {
            "colorbar": {
             "outlinewidth": 0,
             "ticks": ""
            },
            "type": "contourcarpet"
           }
          ],
          "heatmap": [
           {
            "colorbar": {
             "outlinewidth": 0,
             "ticks": ""
            },
            "colorscale": [
             [
              0,
              "#0d0887"
             ],
             [
              0.1111111111111111,
              "#46039f"
             ],
             [
              0.2222222222222222,
              "#7201a8"
             ],
             [
              0.3333333333333333,
              "#9c179e"
             ],
             [
              0.4444444444444444,
              "#bd3786"
             ],
             [
              0.5555555555555556,
              "#d8576b"
             ],
             [
              0.6666666666666666,
              "#ed7953"
             ],
             [
              0.7777777777777778,
              "#fb9f3a"
             ],
             [
              0.8888888888888888,
              "#fdca26"
             ],
             [
              1,
              "#f0f921"
             ]
            ],
            "type": "heatmap"
           }
          ],
          "heatmapgl": [
           {
            "colorbar": {
             "outlinewidth": 0,
             "ticks": ""
            },
            "colorscale": [
             [
              0,
              "#0d0887"
             ],
             [
              0.1111111111111111,
              "#46039f"
             ],
             [
              0.2222222222222222,
              "#7201a8"
             ],
             [
              0.3333333333333333,
              "#9c179e"
             ],
             [
              0.4444444444444444,
              "#bd3786"
             ],
             [
              0.5555555555555556,
              "#d8576b"
             ],
             [
              0.6666666666666666,
              "#ed7953"
             ],
             [
              0.7777777777777778,
              "#fb9f3a"
             ],
             [
              0.8888888888888888,
              "#fdca26"
             ],
             [
              1,
              "#f0f921"
             ]
            ],
            "type": "heatmapgl"
           }
          ],
          "histogram": [
           {
            "marker": {
             "pattern": {
              "fillmode": "overlay",
              "size": 10,
              "solidity": 0.2
             }
            },
            "type": "histogram"
           }
          ],
          "histogram2d": [
           {
            "colorbar": {
             "outlinewidth": 0,
             "ticks": ""
            },
            "colorscale": [
             [
              0,
              "#0d0887"
             ],
             [
              0.1111111111111111,
              "#46039f"
             ],
             [
              0.2222222222222222,
              "#7201a8"
             ],
             [
              0.3333333333333333,
              "#9c179e"
             ],
             [
              0.4444444444444444,
              "#bd3786"
             ],
             [
              0.5555555555555556,
              "#d8576b"
             ],
             [
              0.6666666666666666,
              "#ed7953"
             ],
             [
              0.7777777777777778,
              "#fb9f3a"
             ],
             [
              0.8888888888888888,
              "#fdca26"
             ],
             [
              1,
              "#f0f921"
             ]
            ],
            "type": "histogram2d"
           }
          ],
          "histogram2dcontour": [
           {
            "colorbar": {
             "outlinewidth": 0,
             "ticks": ""
            },
            "colorscale": [
             [
              0,
              "#0d0887"
             ],
             [
              0.1111111111111111,
              "#46039f"
             ],
             [
              0.2222222222222222,
              "#7201a8"
             ],
             [
              0.3333333333333333,
              "#9c179e"
             ],
             [
              0.4444444444444444,
              "#bd3786"
             ],
             [
              0.5555555555555556,
              "#d8576b"
             ],
             [
              0.6666666666666666,
              "#ed7953"
             ],
             [
              0.7777777777777778,
              "#fb9f3a"
             ],
             [
              0.8888888888888888,
              "#fdca26"
             ],
             [
              1,
              "#f0f921"
             ]
            ],
            "type": "histogram2dcontour"
           }
          ],
          "mesh3d": [
           {
            "colorbar": {
             "outlinewidth": 0,
             "ticks": ""
            },
            "type": "mesh3d"
           }
          ],
          "parcoords": [
           {
            "line": {
             "colorbar": {
              "outlinewidth": 0,
              "ticks": ""
             }
            },
            "type": "parcoords"
           }
          ],
          "pie": [
           {
            "automargin": true,
            "type": "pie"
           }
          ],
          "scatter": [
           {
            "fillpattern": {
             "fillmode": "overlay",
             "size": 10,
             "solidity": 0.2
            },
            "type": "scatter"
           }
          ],
          "scatter3d": [
           {
            "line": {
             "colorbar": {
              "outlinewidth": 0,
              "ticks": ""
             }
            },
            "marker": {
             "colorbar": {
              "outlinewidth": 0,
              "ticks": ""
             }
            },
            "type": "scatter3d"
           }
          ],
          "scattercarpet": [
           {
            "marker": {
             "colorbar": {
              "outlinewidth": 0,
              "ticks": ""
             }
            },
            "type": "scattercarpet"
           }
          ],
          "scattergeo": [
           {
            "marker": {
             "colorbar": {
              "outlinewidth": 0,
              "ticks": ""
             }
            },
            "type": "scattergeo"
           }
          ],
          "scattergl": [
           {
            "marker": {
             "colorbar": {
              "outlinewidth": 0,
              "ticks": ""
             }
            },
            "type": "scattergl"
           }
          ],
          "scattermapbox": [
           {
            "marker": {
             "colorbar": {
              "outlinewidth": 0,
              "ticks": ""
             }
            },
            "type": "scattermapbox"
           }
          ],
          "scatterpolar": [
           {
            "marker": {
             "colorbar": {
              "outlinewidth": 0,
              "ticks": ""
             }
            },
            "type": "scatterpolar"
           }
          ],
          "scatterpolargl": [
           {
            "marker": {
             "colorbar": {
              "outlinewidth": 0,
              "ticks": ""
             }
            },
            "type": "scatterpolargl"
           }
          ],
          "scatterternary": [
           {
            "marker": {
             "colorbar": {
              "outlinewidth": 0,
              "ticks": ""
             }
            },
            "type": "scatterternary"
           }
          ],
          "surface": [
           {
            "colorbar": {
             "outlinewidth": 0,
             "ticks": ""
            },
            "colorscale": [
             [
              0,
              "#0d0887"
             ],
             [
              0.1111111111111111,
              "#46039f"
             ],
             [
              0.2222222222222222,
              "#7201a8"
             ],
             [
              0.3333333333333333,
              "#9c179e"
             ],
             [
              0.4444444444444444,
              "#bd3786"
             ],
             [
              0.5555555555555556,
              "#d8576b"
             ],
             [
              0.6666666666666666,
              "#ed7953"
             ],
             [
              0.7777777777777778,
              "#fb9f3a"
             ],
             [
              0.8888888888888888,
              "#fdca26"
             ],
             [
              1,
              "#f0f921"
             ]
            ],
            "type": "surface"
           }
          ],
          "table": [
           {
            "cells": {
             "fill": {
              "color": "#EBF0F8"
             },
             "line": {
              "color": "white"
             }
            },
            "header": {
             "fill": {
              "color": "#C8D4E3"
             },
             "line": {
              "color": "white"
             }
            },
            "type": "table"
           }
          ]
         },
         "layout": {
          "annotationdefaults": {
           "arrowcolor": "#2a3f5f",
           "arrowhead": 0,
           "arrowwidth": 1
          },
          "autotypenumbers": "strict",
          "coloraxis": {
           "colorbar": {
            "outlinewidth": 0,
            "ticks": ""
           }
          },
          "colorscale": {
           "diverging": [
            [
             0,
             "#8e0152"
            ],
            [
             0.1,
             "#c51b7d"
            ],
            [
             0.2,
             "#de77ae"
            ],
            [
             0.3,
             "#f1b6da"
            ],
            [
             0.4,
             "#fde0ef"
            ],
            [
             0.5,
             "#f7f7f7"
            ],
            [
             0.6,
             "#e6f5d0"
            ],
            [
             0.7,
             "#b8e186"
            ],
            [
             0.8,
             "#7fbc41"
            ],
            [
             0.9,
             "#4d9221"
            ],
            [
             1,
             "#276419"
            ]
           ],
           "sequential": [
            [
             0,
             "#0d0887"
            ],
            [
             0.1111111111111111,
             "#46039f"
            ],
            [
             0.2222222222222222,
             "#7201a8"
            ],
            [
             0.3333333333333333,
             "#9c179e"
            ],
            [
             0.4444444444444444,
             "#bd3786"
            ],
            [
             0.5555555555555556,
             "#d8576b"
            ],
            [
             0.6666666666666666,
             "#ed7953"
            ],
            [
             0.7777777777777778,
             "#fb9f3a"
            ],
            [
             0.8888888888888888,
             "#fdca26"
            ],
            [
             1,
             "#f0f921"
            ]
           ],
           "sequentialminus": [
            [
             0,
             "#0d0887"
            ],
            [
             0.1111111111111111,
             "#46039f"
            ],
            [
             0.2222222222222222,
             "#7201a8"
            ],
            [
             0.3333333333333333,
             "#9c179e"
            ],
            [
             0.4444444444444444,
             "#bd3786"
            ],
            [
             0.5555555555555556,
             "#d8576b"
            ],
            [
             0.6666666666666666,
             "#ed7953"
            ],
            [
             0.7777777777777778,
             "#fb9f3a"
            ],
            [
             0.8888888888888888,
             "#fdca26"
            ],
            [
             1,
             "#f0f921"
            ]
           ]
          },
          "colorway": [
           "#636efa",
           "#EF553B",
           "#00cc96",
           "#ab63fa",
           "#FFA15A",
           "#19d3f3",
           "#FF6692",
           "#B6E880",
           "#FF97FF",
           "#FECB52"
          ],
          "font": {
           "color": "#2a3f5f"
          },
          "geo": {
           "bgcolor": "white",
           "lakecolor": "white",
           "landcolor": "#E5ECF6",
           "showlakes": true,
           "showland": true,
           "subunitcolor": "white"
          },
          "hoverlabel": {
           "align": "left"
          },
          "hovermode": "closest",
          "mapbox": {
           "style": "light"
          },
          "paper_bgcolor": "white",
          "plot_bgcolor": "#E5ECF6",
          "polar": {
           "angularaxis": {
            "gridcolor": "white",
            "linecolor": "white",
            "ticks": ""
           },
           "bgcolor": "#E5ECF6",
           "radialaxis": {
            "gridcolor": "white",
            "linecolor": "white",
            "ticks": ""
           }
          },
          "scene": {
           "xaxis": {
            "backgroundcolor": "#E5ECF6",
            "gridcolor": "white",
            "gridwidth": 2,
            "linecolor": "white",
            "showbackground": true,
            "ticks": "",
            "zerolinecolor": "white"
           },
           "yaxis": {
            "backgroundcolor": "#E5ECF6",
            "gridcolor": "white",
            "gridwidth": 2,
            "linecolor": "white",
            "showbackground": true,
            "ticks": "",
            "zerolinecolor": "white"
           },
           "zaxis": {
            "backgroundcolor": "#E5ECF6",
            "gridcolor": "white",
            "gridwidth": 2,
            "linecolor": "white",
            "showbackground": true,
            "ticks": "",
            "zerolinecolor": "white"
           }
          },
          "shapedefaults": {
           "line": {
            "color": "#2a3f5f"
           }
          },
          "ternary": {
           "aaxis": {
            "gridcolor": "white",
            "linecolor": "white",
            "ticks": ""
           },
           "baxis": {
            "gridcolor": "white",
            "linecolor": "white",
            "ticks": ""
           },
           "bgcolor": "#E5ECF6",
           "caxis": {
            "gridcolor": "white",
            "linecolor": "white",
            "ticks": ""
           }
          },
          "title": {
           "x": 0.05
          },
          "xaxis": {
           "automargin": true,
           "gridcolor": "white",
           "linecolor": "white",
           "ticks": "",
           "title": {
            "standoff": 15
           },
           "zerolinecolor": "white",
           "zerolinewidth": 2
          },
          "yaxis": {
           "automargin": true,
           "gridcolor": "white",
           "linecolor": "white",
           "ticks": "",
           "title": {
            "standoff": 15
           },
           "zerolinecolor": "white",
           "zerolinewidth": 2
          }
         }
        },
        "title": {
         "text": "Relationship between cost categories and car models Analysis",
         "x": 0.5
        },
        "xaxis": {
         "anchor": "y",
         "domain": [
          0,
          1
         ],
         "title": {
          "text": "car"
         }
        },
        "yaxis": {
         "anchor": "x",
         "domain": [
          0,
          1
         ],
         "title": {
          "text": "Count"
         }
        }
       }
      },
      "text/html": [
       "<div>                            <div id=\"1659f938-1351-420b-8840-41853bde2364\" class=\"plotly-graph-div\" style=\"height:525px; width:100%;\"></div>            <script type=\"text/javascript\">                require([\"plotly\"], function(Plotly) {                    window.PLOTLYENV=window.PLOTLYENV || {};                                    if (document.getElementById(\"1659f938-1351-420b-8840-41853bde2364\")) {                    Plotly.newPlot(                        \"1659f938-1351-420b-8840-41853bde2364\",                        [{\"alignmentgroup\":\"True\",\"hovertemplate\":\"color=0100:0150\\u003cbr\\u003ex=%{x}\\u003cbr\\u003ey=%{y}\\u003cextra\\u003e\\u003c\\u002fextra\\u003e\",\"legendgroup\":\"0100:0150\",\"marker\":{\"color\":\"#636efa\",\"pattern\":{\"shape\":\"\"}},\"name\":\"0100:0150\",\"offsetgroup\":\"0100:0150\",\"orientation\":\"v\",\"showlegend\":true,\"textposition\":\"auto\",\"x\":[\" GUNSAYIL \",\"AVANZA\",\"CAMRY\",\"CERATO\",\"COROLLA\",\"CRUZE\",\"ELANTRA\",\"FORTUNER\",\"H 1\",\"HILUX\",\"I 10\",\"OPTIMA\",\"PRADO\",\"PRIUS\",\"RAV 4 \",\"RIO\",\"SONIC\",\"SPARK\",\"SPORTAGE\",\"TUCSAN\",\"YARIS\"],\"xaxis\":\"x\",\"y\":[1,7,11,22,20,1,10,21,11,21,2,4,3,2,2,3,2,1,9,2,9],\"yaxis\":\"y\",\"type\":\"bar\"},{\"alignmentgroup\":\"True\",\"hovertemplate\":\"color=0001:0050\\u003cbr\\u003ex=%{x}\\u003cbr\\u003ey=%{y}\\u003cextra\\u003e\\u003c\\u002fextra\\u003e\",\"legendgroup\":\"0001:0050\",\"marker\":{\"color\":\"#EF553B\",\"pattern\":{\"shape\":\"\"}},\"name\":\"0001:0050\",\"offsetgroup\":\"0001:0050\",\"orientation\":\"v\",\"showlegend\":true,\"textposition\":\"auto\",\"x\":[\"ACCENT\",\"AVANZA\",\"CAMRY\",\"CERATO\",\"COROLLA\",\"COROLLA \",\"CRUZE\",\"ELANTRA\",\"FLUENCE\",\"FORTUNER\",\"H 1\",\"HILUX\",\"I 10\",\"OPTIMA\",\"PRADO\",\"PRIUS\",\"RAV 4 \",\"RIO\",\"SONIC\",\"SPARK\",\"SPORTAGE\",\"TUCSAN\",\"YARIS\"],\"xaxis\":\"x\",\"y\":[3,31,35,88,80,3,18,39,36,101,39,50,22,5,7,3,2,47,15,46,33,5,23],\"yaxis\":\"y\",\"type\":\"bar\"},{\"alignmentgroup\":\"True\",\"hovertemplate\":\"color=0050:0100\\u003cbr\\u003ex=%{x}\\u003cbr\\u003ey=%{y}\\u003cextra\\u003e\\u003c\\u002fextra\\u003e\",\"legendgroup\":\"0050:0100\",\"marker\":{\"color\":\"#00cc96\",\"pattern\":{\"shape\":\"\"}},\"name\":\"0050:0100\",\"offsetgroup\":\"0050:0100\",\"orientation\":\"v\",\"showlegend\":true,\"textposition\":\"auto\",\"x\":[\"AVANZA\",\"CAMRY\",\"CERATO\",\"COROLLA\",\"CRUZE\",\"ELANTRA\",\"FLUENCE\",\"FORTUNER\",\"H 1\",\"HILUX\",\"I 10\",\"OPTIMA\",\"PRADO\",\"PRIUS\",\"RAV 4 \",\"RIO\",\"SONIC\",\"SPARK\",\"SPORTAGE\",\"TUCSAN\",\"YARIS\"],\"xaxis\":\"x\",\"y\":[12,13,36,23,17,18,5,58,18,12,10,4,6,1,1,15,9,20,13,2,15],\"yaxis\":\"y\",\"type\":\"bar\"},{\"alignmentgroup\":\"True\",\"hovertemplate\":\"color=0200:0300\\u003cbr\\u003ex=%{x}\\u003cbr\\u003ey=%{y}\\u003cextra\\u003e\\u003c\\u002fextra\\u003e\",\"legendgroup\":\"0200:0300\",\"marker\":{\"color\":\"#ab63fa\",\"pattern\":{\"shape\":\"\"}},\"name\":\"0200:0300\",\"offsetgroup\":\"0200:0300\",\"orientation\":\"v\",\"showlegend\":true,\"textposition\":\"auto\",\"x\":[\"AVANZA\",\"CAMRY\",\"CERATO\",\"CITROEN\",\"COROLLA\",\"CRUZE\",\"ELANTRA\",\"FLUENCE\",\"FORTUNER\",\"H 1\",\"HILUX\",\"I 10\",\"OPTIMA\",\"PRADO\",\"RAV 4 \",\"RIO\",\"SONIC\",\"SPARK\",\"SPORTAGE\",\"TUCSAN\",\"YARIS\"],\"xaxis\":\"x\",\"y\":[9,5,25,1,23,5,11,8,22,13,2,2,3,2,2,4,5,6,1,2,6],\"yaxis\":\"y\",\"type\":\"bar\"},{\"alignmentgroup\":\"True\",\"hovertemplate\":\"color=0500:0600\\u003cbr\\u003ex=%{x}\\u003cbr\\u003ey=%{y}\\u003cextra\\u003e\\u003c\\u002fextra\\u003e\",\"legendgroup\":\"0500:0600\",\"marker\":{\"color\":\"#FFA15A\",\"pattern\":{\"shape\":\"\"}},\"name\":\"0500:0600\",\"offsetgroup\":\"0500:0600\",\"orientation\":\"v\",\"showlegend\":true,\"textposition\":\"auto\",\"x\":[\"AVANZA\",\"CAMRY\",\"CERATO\",\"ELANTRA\",\"FORTUNER\",\"H 1\",\"RIO\",\"SPARK\",\"SPORTAGE\"],\"xaxis\":\"x\",\"y\":[1,2,2,1,7,2,1,1,3],\"yaxis\":\"y\",\"type\":\"bar\"},{\"alignmentgroup\":\"True\",\"hovertemplate\":\"color=0600:0700\\u003cbr\\u003ex=%{x}\\u003cbr\\u003ey=%{y}\\u003cextra\\u003e\\u003c\\u002fextra\\u003e\",\"legendgroup\":\"0600:0700\",\"marker\":{\"color\":\"#19d3f3\",\"pattern\":{\"shape\":\"\"}},\"name\":\"0600:0700\",\"offsetgroup\":\"0600:0700\",\"orientation\":\"v\",\"showlegend\":true,\"textposition\":\"auto\",\"x\":[\"AVANZA\",\"COROLLA\",\"ELANTRA\",\"FLUENCE\",\"FORTUNER\",\"H 1\"],\"xaxis\":\"x\",\"y\":[1,1,2,1,3,2],\"yaxis\":\"y\",\"type\":\"bar\"},{\"alignmentgroup\":\"True\",\"hovertemplate\":\"color=1000:1500\\u003cbr\\u003ex=%{x}\\u003cbr\\u003ey=%{y}\\u003cextra\\u003e\\u003c\\u002fextra\\u003e\",\"legendgroup\":\"1000:1500\",\"marker\":{\"color\":\"#FF6692\",\"pattern\":{\"shape\":\"\"}},\"name\":\"1000:1500\",\"offsetgroup\":\"1000:1500\",\"orientation\":\"v\",\"showlegend\":true,\"textposition\":\"auto\",\"x\":[\"AVANZA\",\"FORTUNER\",\"H 1\",\"HILUX\"],\"xaxis\":\"x\",\"y\":[1,2,1,2],\"yaxis\":\"y\",\"type\":\"bar\"},{\"alignmentgroup\":\"True\",\"hovertemplate\":\"color=0800:0900\\u003cbr\\u003ex=%{x}\\u003cbr\\u003ey=%{y}\\u003cextra\\u003e\\u003c\\u002fextra\\u003e\",\"legendgroup\":\"0800:0900\",\"marker\":{\"color\":\"#B6E880\",\"pattern\":{\"shape\":\"\"}},\"name\":\"0800:0900\",\"offsetgroup\":\"0800:0900\",\"orientation\":\"v\",\"showlegend\":true,\"textposition\":\"auto\",\"x\":[\"CAMRY\"],\"xaxis\":\"x\",\"y\":[1],\"yaxis\":\"y\",\"type\":\"bar\"},{\"alignmentgroup\":\"True\",\"hovertemplate\":\"color=0700:0800\\u003cbr\\u003ex=%{x}\\u003cbr\\u003ey=%{y}\\u003cextra\\u003e\\u003c\\u002fextra\\u003e\",\"legendgroup\":\"0700:0800\",\"marker\":{\"color\":\"#FF97FF\",\"pattern\":{\"shape\":\"\"}},\"name\":\"0700:0800\",\"offsetgroup\":\"0700:0800\",\"orientation\":\"v\",\"showlegend\":true,\"textposition\":\"auto\",\"x\":[\"CAMRY\",\"ELANTRA\",\"YARIS\"],\"xaxis\":\"x\",\"y\":[3,1,1],\"yaxis\":\"y\",\"type\":\"bar\"},{\"alignmentgroup\":\"True\",\"hovertemplate\":\"color=0400:0500\\u003cbr\\u003ex=%{x}\\u003cbr\\u003ey=%{y}\\u003cextra\\u003e\\u003c\\u002fextra\\u003e\",\"legendgroup\":\"0400:0500\",\"marker\":{\"color\":\"#FECB52\",\"pattern\":{\"shape\":\"\"}},\"name\":\"0400:0500\",\"offsetgroup\":\"0400:0500\",\"orientation\":\"v\",\"showlegend\":true,\"textposition\":\"auto\",\"x\":[\"CAMRY\",\"CERATO\",\"FORTUNER\",\"H 1\",\"HILUX\",\"PRIUS\"],\"xaxis\":\"x\",\"y\":[3,1,10,4,7,1],\"yaxis\":\"y\",\"type\":\"bar\"},{\"alignmentgroup\":\"True\",\"hovertemplate\":\"color=0300:0400\\u003cbr\\u003ex=%{x}\\u003cbr\\u003ey=%{y}\\u003cextra\\u003e\\u003c\\u002fextra\\u003e\",\"legendgroup\":\"0300:0400\",\"marker\":{\"color\":\"#636efa\",\"pattern\":{\"shape\":\"\"}},\"name\":\"0300:0400\",\"offsetgroup\":\"0300:0400\",\"orientation\":\"v\",\"showlegend\":true,\"textposition\":\"auto\",\"x\":[\"CAMRY\",\"COROLLA\",\"CRUZE\",\"ELANTRA\",\"FLUENCE\",\"FORTUNER\",\"H 1\",\"HILUX\",\"RAV 4 \",\"SPARK\",\"SPORTAGE\",\"TUCSAN\"],\"xaxis\":\"x\",\"y\":[8,4,2,2,3,3,8,3,1,1,1,1],\"yaxis\":\"y\",\"type\":\"bar\"},{\"alignmentgroup\":\"True\",\"hovertemplate\":\"color=0150:0200\\u003cbr\\u003ex=%{x}\\u003cbr\\u003ey=%{y}\\u003cextra\\u003e\\u003c\\u002fextra\\u003e\",\"legendgroup\":\"0150:0200\",\"marker\":{\"color\":\"#EF553B\",\"pattern\":{\"shape\":\"\"}},\"name\":\"0150:0200\",\"offsetgroup\":\"0150:0200\",\"orientation\":\"v\",\"showlegend\":true,\"textposition\":\"auto\",\"x\":[\"CAMRY\",\"CERATO\",\"COROLLA\",\"CRUZE\",\"ELANTRA\",\"FLUENCE\",\"FORTUNER\",\"H 1\",\"I 10\",\"OPTIMA\",\"PRADO\",\"SPARK\",\"SPORTAGE\",\"TUCSAN\",\"YARIS\"],\"xaxis\":\"x\",\"y\":[5,3,2,1,3,1,3,3,1,1,1,3,1,1,1],\"yaxis\":\"y\",\"type\":\"bar\"},{\"alignmentgroup\":\"True\",\"hovertemplate\":\"color=1500:2000\\u003cbr\\u003ex=%{x}\\u003cbr\\u003ey=%{y}\\u003cextra\\u003e\\u003c\\u002fextra\\u003e\",\"legendgroup\":\"1500:2000\",\"marker\":{\"color\":\"#00cc96\",\"pattern\":{\"shape\":\"\"}},\"name\":\"1500:2000\",\"offsetgroup\":\"1500:2000\",\"orientation\":\"v\",\"showlegend\":true,\"textposition\":\"auto\",\"x\":[\"CERATO\"],\"xaxis\":\"x\",\"y\":[1],\"yaxis\":\"y\",\"type\":\"bar\"},{\"alignmentgroup\":\"True\",\"hovertemplate\":\"color=2000:3000\\u003cbr\\u003ex=%{x}\\u003cbr\\u003ey=%{y}\\u003cextra\\u003e\\u003c\\u002fextra\\u003e\",\"legendgroup\":\"2000:3000\",\"marker\":{\"color\":\"#ab63fa\",\"pattern\":{\"shape\":\"\"}},\"name\":\"2000:3000\",\"offsetgroup\":\"2000:3000\",\"orientation\":\"v\",\"showlegend\":true,\"textposition\":\"auto\",\"x\":[\"FORTUNER\"],\"xaxis\":\"x\",\"y\":[2],\"yaxis\":\"y\",\"type\":\"bar\"},{\"alignmentgroup\":\"True\",\"hovertemplate\":\"color=0900:1000\\u003cbr\\u003ex=%{x}\\u003cbr\\u003ey=%{y}\\u003cextra\\u003e\\u003c\\u002fextra\\u003e\",\"legendgroup\":\"0900:1000\",\"marker\":{\"color\":\"#FFA15A\",\"pattern\":{\"shape\":\"\"}},\"name\":\"0900:1000\",\"offsetgroup\":\"0900:1000\",\"orientation\":\"v\",\"showlegend\":true,\"textposition\":\"auto\",\"x\":[\"YARIS\"],\"xaxis\":\"x\",\"y\":[1],\"yaxis\":\"y\",\"type\":\"bar\"}],                        {\"template\":{\"data\":{\"histogram2dcontour\":[{\"type\":\"histogram2dcontour\",\"colorbar\":{\"outlinewidth\":0,\"ticks\":\"\"},\"colorscale\":[[0.0,\"#0d0887\"],[0.1111111111111111,\"#46039f\"],[0.2222222222222222,\"#7201a8\"],[0.3333333333333333,\"#9c179e\"],[0.4444444444444444,\"#bd3786\"],[0.5555555555555556,\"#d8576b\"],[0.6666666666666666,\"#ed7953\"],[0.7777777777777778,\"#fb9f3a\"],[0.8888888888888888,\"#fdca26\"],[1.0,\"#f0f921\"]]}],\"choropleth\":[{\"type\":\"choropleth\",\"colorbar\":{\"outlinewidth\":0,\"ticks\":\"\"}}],\"histogram2d\":[{\"type\":\"histogram2d\",\"colorbar\":{\"outlinewidth\":0,\"ticks\":\"\"},\"colorscale\":[[0.0,\"#0d0887\"],[0.1111111111111111,\"#46039f\"],[0.2222222222222222,\"#7201a8\"],[0.3333333333333333,\"#9c179e\"],[0.4444444444444444,\"#bd3786\"],[0.5555555555555556,\"#d8576b\"],[0.6666666666666666,\"#ed7953\"],[0.7777777777777778,\"#fb9f3a\"],[0.8888888888888888,\"#fdca26\"],[1.0,\"#f0f921\"]]}],\"heatmap\":[{\"type\":\"heatmap\",\"colorbar\":{\"outlinewidth\":0,\"ticks\":\"\"},\"colorscale\":[[0.0,\"#0d0887\"],[0.1111111111111111,\"#46039f\"],[0.2222222222222222,\"#7201a8\"],[0.3333333333333333,\"#9c179e\"],[0.4444444444444444,\"#bd3786\"],[0.5555555555555556,\"#d8576b\"],[0.6666666666666666,\"#ed7953\"],[0.7777777777777778,\"#fb9f3a\"],[0.8888888888888888,\"#fdca26\"],[1.0,\"#f0f921\"]]}],\"heatmapgl\":[{\"type\":\"heatmapgl\",\"colorbar\":{\"outlinewidth\":0,\"ticks\":\"\"},\"colorscale\":[[0.0,\"#0d0887\"],[0.1111111111111111,\"#46039f\"],[0.2222222222222222,\"#7201a8\"],[0.3333333333333333,\"#9c179e\"],[0.4444444444444444,\"#bd3786\"],[0.5555555555555556,\"#d8576b\"],[0.6666666666666666,\"#ed7953\"],[0.7777777777777778,\"#fb9f3a\"],[0.8888888888888888,\"#fdca26\"],[1.0,\"#f0f921\"]]}],\"contourcarpet\":[{\"type\":\"contourcarpet\",\"colorbar\":{\"outlinewidth\":0,\"ticks\":\"\"}}],\"contour\":[{\"type\":\"contour\",\"colorbar\":{\"outlinewidth\":0,\"ticks\":\"\"},\"colorscale\":[[0.0,\"#0d0887\"],[0.1111111111111111,\"#46039f\"],[0.2222222222222222,\"#7201a8\"],[0.3333333333333333,\"#9c179e\"],[0.4444444444444444,\"#bd3786\"],[0.5555555555555556,\"#d8576b\"],[0.6666666666666666,\"#ed7953\"],[0.7777777777777778,\"#fb9f3a\"],[0.8888888888888888,\"#fdca26\"],[1.0,\"#f0f921\"]]}],\"surface\":[{\"type\":\"surface\",\"colorbar\":{\"outlinewidth\":0,\"ticks\":\"\"},\"colorscale\":[[0.0,\"#0d0887\"],[0.1111111111111111,\"#46039f\"],[0.2222222222222222,\"#7201a8\"],[0.3333333333333333,\"#9c179e\"],[0.4444444444444444,\"#bd3786\"],[0.5555555555555556,\"#d8576b\"],[0.6666666666666666,\"#ed7953\"],[0.7777777777777778,\"#fb9f3a\"],[0.8888888888888888,\"#fdca26\"],[1.0,\"#f0f921\"]]}],\"mesh3d\":[{\"type\":\"mesh3d\",\"colorbar\":{\"outlinewidth\":0,\"ticks\":\"\"}}],\"scatter\":[{\"fillpattern\":{\"fillmode\":\"overlay\",\"size\":10,\"solidity\":0.2},\"type\":\"scatter\"}],\"parcoords\":[{\"type\":\"parcoords\",\"line\":{\"colorbar\":{\"outlinewidth\":0,\"ticks\":\"\"}}}],\"scatterpolargl\":[{\"type\":\"scatterpolargl\",\"marker\":{\"colorbar\":{\"outlinewidth\":0,\"ticks\":\"\"}}}],\"bar\":[{\"error_x\":{\"color\":\"#2a3f5f\"},\"error_y\":{\"color\":\"#2a3f5f\"},\"marker\":{\"line\":{\"color\":\"#E5ECF6\",\"width\":0.5},\"pattern\":{\"fillmode\":\"overlay\",\"size\":10,\"solidity\":0.2}},\"type\":\"bar\"}],\"scattergeo\":[{\"type\":\"scattergeo\",\"marker\":{\"colorbar\":{\"outlinewidth\":0,\"ticks\":\"\"}}}],\"scatterpolar\":[{\"type\":\"scatterpolar\",\"marker\":{\"colorbar\":{\"outlinewidth\":0,\"ticks\":\"\"}}}],\"histogram\":[{\"marker\":{\"pattern\":{\"fillmode\":\"overlay\",\"size\":10,\"solidity\":0.2}},\"type\":\"histogram\"}],\"scattergl\":[{\"type\":\"scattergl\",\"marker\":{\"colorbar\":{\"outlinewidth\":0,\"ticks\":\"\"}}}],\"scatter3d\":[{\"type\":\"scatter3d\",\"line\":{\"colorbar\":{\"outlinewidth\":0,\"ticks\":\"\"}},\"marker\":{\"colorbar\":{\"outlinewidth\":0,\"ticks\":\"\"}}}],\"scattermapbox\":[{\"type\":\"scattermapbox\",\"marker\":{\"colorbar\":{\"outlinewidth\":0,\"ticks\":\"\"}}}],\"scatterternary\":[{\"type\":\"scatterternary\",\"marker\":{\"colorbar\":{\"outlinewidth\":0,\"ticks\":\"\"}}}],\"scattercarpet\":[{\"type\":\"scattercarpet\",\"marker\":{\"colorbar\":{\"outlinewidth\":0,\"ticks\":\"\"}}}],\"carpet\":[{\"aaxis\":{\"endlinecolor\":\"#2a3f5f\",\"gridcolor\":\"white\",\"linecolor\":\"white\",\"minorgridcolor\":\"white\",\"startlinecolor\":\"#2a3f5f\"},\"baxis\":{\"endlinecolor\":\"#2a3f5f\",\"gridcolor\":\"white\",\"linecolor\":\"white\",\"minorgridcolor\":\"white\",\"startlinecolor\":\"#2a3f5f\"},\"type\":\"carpet\"}],\"table\":[{\"cells\":{\"fill\":{\"color\":\"#EBF0F8\"},\"line\":{\"color\":\"white\"}},\"header\":{\"fill\":{\"color\":\"#C8D4E3\"},\"line\":{\"color\":\"white\"}},\"type\":\"table\"}],\"barpolar\":[{\"marker\":{\"line\":{\"color\":\"#E5ECF6\",\"width\":0.5},\"pattern\":{\"fillmode\":\"overlay\",\"size\":10,\"solidity\":0.2}},\"type\":\"barpolar\"}],\"pie\":[{\"automargin\":true,\"type\":\"pie\"}]},\"layout\":{\"autotypenumbers\":\"strict\",\"colorway\":[\"#636efa\",\"#EF553B\",\"#00cc96\",\"#ab63fa\",\"#FFA15A\",\"#19d3f3\",\"#FF6692\",\"#B6E880\",\"#FF97FF\",\"#FECB52\"],\"font\":{\"color\":\"#2a3f5f\"},\"hovermode\":\"closest\",\"hoverlabel\":{\"align\":\"left\"},\"paper_bgcolor\":\"white\",\"plot_bgcolor\":\"#E5ECF6\",\"polar\":{\"bgcolor\":\"#E5ECF6\",\"angularaxis\":{\"gridcolor\":\"white\",\"linecolor\":\"white\",\"ticks\":\"\"},\"radialaxis\":{\"gridcolor\":\"white\",\"linecolor\":\"white\",\"ticks\":\"\"}},\"ternary\":{\"bgcolor\":\"#E5ECF6\",\"aaxis\":{\"gridcolor\":\"white\",\"linecolor\":\"white\",\"ticks\":\"\"},\"baxis\":{\"gridcolor\":\"white\",\"linecolor\":\"white\",\"ticks\":\"\"},\"caxis\":{\"gridcolor\":\"white\",\"linecolor\":\"white\",\"ticks\":\"\"}},\"coloraxis\":{\"colorbar\":{\"outlinewidth\":0,\"ticks\":\"\"}},\"colorscale\":{\"sequential\":[[0.0,\"#0d0887\"],[0.1111111111111111,\"#46039f\"],[0.2222222222222222,\"#7201a8\"],[0.3333333333333333,\"#9c179e\"],[0.4444444444444444,\"#bd3786\"],[0.5555555555555556,\"#d8576b\"],[0.6666666666666666,\"#ed7953\"],[0.7777777777777778,\"#fb9f3a\"],[0.8888888888888888,\"#fdca26\"],[1.0,\"#f0f921\"]],\"sequentialminus\":[[0.0,\"#0d0887\"],[0.1111111111111111,\"#46039f\"],[0.2222222222222222,\"#7201a8\"],[0.3333333333333333,\"#9c179e\"],[0.4444444444444444,\"#bd3786\"],[0.5555555555555556,\"#d8576b\"],[0.6666666666666666,\"#ed7953\"],[0.7777777777777778,\"#fb9f3a\"],[0.8888888888888888,\"#fdca26\"],[1.0,\"#f0f921\"]],\"diverging\":[[0,\"#8e0152\"],[0.1,\"#c51b7d\"],[0.2,\"#de77ae\"],[0.3,\"#f1b6da\"],[0.4,\"#fde0ef\"],[0.5,\"#f7f7f7\"],[0.6,\"#e6f5d0\"],[0.7,\"#b8e186\"],[0.8,\"#7fbc41\"],[0.9,\"#4d9221\"],[1,\"#276419\"]]},\"xaxis\":{\"gridcolor\":\"white\",\"linecolor\":\"white\",\"ticks\":\"\",\"title\":{\"standoff\":15},\"zerolinecolor\":\"white\",\"automargin\":true,\"zerolinewidth\":2},\"yaxis\":{\"gridcolor\":\"white\",\"linecolor\":\"white\",\"ticks\":\"\",\"title\":{\"standoff\":15},\"zerolinecolor\":\"white\",\"automargin\":true,\"zerolinewidth\":2},\"scene\":{\"xaxis\":{\"backgroundcolor\":\"#E5ECF6\",\"gridcolor\":\"white\",\"linecolor\":\"white\",\"showbackground\":true,\"ticks\":\"\",\"zerolinecolor\":\"white\",\"gridwidth\":2},\"yaxis\":{\"backgroundcolor\":\"#E5ECF6\",\"gridcolor\":\"white\",\"linecolor\":\"white\",\"showbackground\":true,\"ticks\":\"\",\"zerolinecolor\":\"white\",\"gridwidth\":2},\"zaxis\":{\"backgroundcolor\":\"#E5ECF6\",\"gridcolor\":\"white\",\"linecolor\":\"white\",\"showbackground\":true,\"ticks\":\"\",\"zerolinecolor\":\"white\",\"gridwidth\":2}},\"shapedefaults\":{\"line\":{\"color\":\"#2a3f5f\"}},\"annotationdefaults\":{\"arrowcolor\":\"#2a3f5f\",\"arrowhead\":0,\"arrowwidth\":1},\"geo\":{\"bgcolor\":\"white\",\"landcolor\":\"#E5ECF6\",\"subunitcolor\":\"white\",\"showland\":true,\"showlakes\":true,\"lakecolor\":\"white\"},\"title\":{\"x\":0.05},\"mapbox\":{\"style\":\"light\"}}},\"xaxis\":{\"anchor\":\"y\",\"domain\":[0.0,1.0],\"title\":{\"text\":\"car\"}},\"yaxis\":{\"anchor\":\"x\",\"domain\":[0.0,1.0],\"title\":{\"text\":\"Count\"}},\"legend\":{\"title\":{\"text\":\"color\"},\"tracegroupgap\":0},\"title\":{\"text\":\"Relationship between cost categories and car models Analysis\",\"x\":0.5},\"barmode\":\"relative\"},                        {\"responsive\": true}                    ).then(function(){\n",
       "                            \n",
       "var gd = document.getElementById('1659f938-1351-420b-8840-41853bde2364');\n",
       "var x = new MutationObserver(function (mutations, observer) {{\n",
       "        var display = window.getComputedStyle(gd).display;\n",
       "        if (!display || display === 'none') {{\n",
       "            console.log([gd, 'removed!']);\n",
       "            Plotly.purge(gd);\n",
       "            observer.disconnect();\n",
       "        }}\n",
       "}});\n",
       "\n",
       "// Listen for the removal of the full notebook cells\n",
       "var notebookContainer = gd.closest('#notebook-container');\n",
       "if (notebookContainer) {{\n",
       "    x.observe(notebookContainer, {childList: true});\n",
       "}}\n",
       "\n",
       "// Listen for the clearing of the current output cell\n",
       "var outputEl = gd.closest('.output');\n",
       "if (outputEl) {{\n",
       "    x.observe(outputEl, {childList: true});\n",
       "}}\n",
       "\n",
       "                        })                };                });            </script>        </div>"
      ]
     },
     "metadata": {},
     "output_type": "display_data"
    },
    {
     "name": "stdout",
     "output_type": "stream",
     "text": [
      "The car that has maximum service count is : FORTUNER\n",
      "The Cost Category that has maximum service count is : 0001:0050\n",
      "The maximum service count is : 101\n"
     ]
    }
   ],
   "source": [
    "car_costCategory = df.groupby(['car','cost_category']).size().reset_index(name='Count').sort_values(by=['car'])\n",
    "myPlot1(car_costCategory,'car','Count','cost_category','bar','Relationship between cost categories and car models', sort_by=None, ascending=True)\n",
    "car_costCategoryMax = df.groupby(['car','cost_category']).size().reset_index(name='Count').sort_values(by=['car'])\n",
    "Maximum_row = car_costCategory.loc[car_costCategory['Count'].idxmax()]\n",
    "print('The car that has maximum service count is :',Maximum_row['car'])\n",
    "print('The Cost Category that has maximum service count is :',Maximum_row['cost_category'])\n",
    "print('The maximum service count is :',Maximum_row['Count'])"
   ]
  },
  {
   "cell_type": "code",
   "execution_count": 23,
   "id": "c10bc476",
   "metadata": {},
   "outputs": [],
   "source": [
    "#### Comparison of service duration across different cost categories"
   ]
  },
  {
   "cell_type": "code",
   "execution_count": 68,
   "id": "9a14a8c2",
   "metadata": {},
   "outputs": [
    {
     "data": {
      "application/vnd.plotly.v1+json": {
       "config": {
        "plotlyServerURL": "https://plot.ly"
       },
       "data": [
        {
         "alignmentgroup": "True",
         "hovertemplate": "cost_category=%{x}<br>service_duration=%{y}<extra></extra>",
         "legendgroup": "0150:0200",
         "marker": {
          "color": "#636efa"
         },
         "name": "0150:0200",
         "notched": false,
         "offsetgroup": "0150:0200",
         "orientation": "v",
         "showlegend": true,
         "type": "box",
         "x": [
          "0150:0200",
          "0150:0200",
          "0150:0200",
          "0150:0200",
          "0150:0200",
          "0150:0200",
          "0150:0200",
          "0150:0200",
          "0150:0200",
          "0150:0200",
          "0150:0200",
          "0150:0200",
          "0150:0200",
          "0150:0200",
          "0150:0200",
          "0150:0200",
          "0150:0200",
          "0150:0200",
          "0150:0200",
          "0150:0200",
          "0150:0200",
          "0150:0200",
          "0150:0200",
          "0150:0200",
          "0150:0200",
          "0150:0200",
          "0150:0200",
          "0150:0200",
          "0150:0200",
          "0150:0200"
         ],
         "x0": " ",
         "xaxis": "x",
         "y": [
          5,
          1,
          4,
          1,
          1,
          4,
          3,
          4,
          1,
          1,
          1,
          1,
          4,
          4,
          7,
          8,
          2,
          6,
          6,
          5,
          4,
          24,
          1,
          1,
          1,
          1,
          1,
          1,
          5,
          1
         ],
         "y0": " ",
         "yaxis": "y"
        },
        {
         "alignmentgroup": "True",
         "hovertemplate": "cost_category=%{x}<br>service_duration=%{y}<extra></extra>",
         "legendgroup": "0200:0300",
         "marker": {
          "color": "#EF553B"
         },
         "name": "0200:0300",
         "notched": false,
         "offsetgroup": "0200:0300",
         "orientation": "v",
         "showlegend": true,
         "type": "box",
         "x": [
          "0200:0300",
          "0200:0300",
          "0200:0300",
          "0200:0300",
          "0200:0300",
          "0200:0300",
          "0200:0300",
          "0200:0300",
          "0200:0300",
          "0200:0300",
          "0200:0300",
          "0200:0300",
          "0200:0300",
          "0200:0300",
          "0200:0300",
          "0200:0300",
          "0200:0300",
          "0200:0300",
          "0200:0300",
          "0200:0300",
          "0200:0300",
          "0200:0300",
          "0200:0300",
          "0200:0300",
          "0200:0300",
          "0200:0300",
          "0200:0300",
          "0200:0300",
          "0200:0300",
          "0200:0300",
          "0200:0300",
          "0200:0300",
          "0200:0300",
          "0200:0300",
          "0200:0300",
          "0200:0300",
          "0200:0300",
          "0200:0300",
          "0200:0300",
          "0200:0300",
          "0200:0300",
          "0200:0300",
          "0200:0300",
          "0200:0300",
          "0200:0300",
          "0200:0300",
          "0200:0300",
          "0200:0300",
          "0200:0300",
          "0200:0300",
          "0200:0300",
          "0200:0300",
          "0200:0300",
          "0200:0300",
          "0200:0300",
          "0200:0300",
          "0200:0300",
          "0200:0300",
          "0200:0300",
          "0200:0300",
          "0200:0300",
          "0200:0300",
          "0200:0300",
          "0200:0300",
          "0200:0300",
          "0200:0300",
          "0200:0300",
          "0200:0300",
          "0200:0300",
          "0200:0300",
          "0200:0300",
          "0200:0300",
          "0200:0300",
          "0200:0300",
          "0200:0300",
          "0200:0300",
          "0200:0300",
          "0200:0300",
          "0200:0300",
          "0200:0300",
          "0200:0300",
          "0200:0300",
          "0200:0300",
          "0200:0300",
          "0200:0300",
          "0200:0300",
          "0200:0300",
          "0200:0300",
          "0200:0300",
          "0200:0300",
          "0200:0300",
          "0200:0300",
          "0200:0300",
          "0200:0300",
          "0200:0300",
          "0200:0300",
          "0200:0300",
          "0200:0300",
          "0200:0300",
          "0200:0300",
          "0200:0300",
          "0200:0300",
          "0200:0300",
          "0200:0300",
          "0200:0300",
          "0200:0300",
          "0200:0300",
          "0200:0300",
          "0200:0300",
          "0200:0300",
          "0200:0300",
          "0200:0300",
          "0200:0300",
          "0200:0300",
          "0200:0300",
          "0200:0300",
          "0200:0300",
          "0200:0300",
          "0200:0300",
          "0200:0300",
          "0200:0300",
          "0200:0300",
          "0200:0300",
          "0200:0300",
          "0200:0300",
          "0200:0300",
          "0200:0300",
          "0200:0300",
          "0200:0300",
          "0200:0300",
          "0200:0300",
          "0200:0300",
          "0200:0300",
          "0200:0300",
          "0200:0300",
          "0200:0300",
          "0200:0300",
          "0200:0300",
          "0200:0300",
          "0200:0300",
          "0200:0300",
          "0200:0300",
          "0200:0300",
          "0200:0300",
          "0200:0300",
          "0200:0300",
          "0200:0300",
          "0200:0300",
          "0200:0300",
          "0200:0300",
          "0200:0300",
          "0200:0300",
          "0200:0300",
          "0200:0300",
          "0200:0300",
          "0200:0300",
          "0200:0300"
         ],
         "x0": " ",
         "xaxis": "x",
         "y": [
          5,
          6,
          6,
          4,
          13,
          1,
          1,
          6,
          4,
          12,
          1,
          11,
          5,
          18,
          5,
          2,
          3,
          6,
          4,
          3,
          7,
          8,
          4,
          5,
          3,
          11,
          9,
          3,
          7,
          1,
          1,
          1,
          1,
          2,
          1,
          3,
          7,
          11,
          6,
          7,
          5,
          5,
          6,
          7,
          4,
          7,
          3,
          8,
          1,
          1,
          1,
          1,
          1,
          6,
          1,
          4,
          5,
          5,
          1,
          1,
          7,
          6,
          7,
          1,
          1,
          1,
          1,
          1,
          9,
          8,
          1,
          1,
          1,
          4,
          4,
          5,
          6,
          1,
          7,
          7,
          1,
          1,
          8,
          1,
          5,
          4,
          1,
          1,
          4,
          1,
          1,
          1,
          1,
          1,
          1,
          1,
          1,
          1,
          1,
          1,
          5,
          5,
          1,
          4,
          4,
          5,
          1,
          1,
          1,
          6,
          1,
          1,
          5,
          1,
          1,
          4,
          3,
          5,
          5,
          6,
          4,
          4,
          3,
          4,
          5,
          4,
          4,
          5,
          4,
          5,
          4,
          4,
          5,
          3,
          1,
          1,
          1,
          7,
          7,
          8,
          6,
          1,
          5,
          5,
          4,
          5,
          5,
          4,
          6,
          7,
          1,
          6,
          1,
          5,
          6,
          1,
          8
         ],
         "y0": " ",
         "yaxis": "y"
        },
        {
         "alignmentgroup": "True",
         "hovertemplate": "cost_category=%{x}<br>service_duration=%{y}<extra></extra>",
         "legendgroup": "0050:0100",
         "marker": {
          "color": "#00cc96"
         },
         "name": "0050:0100",
         "notched": false,
         "offsetgroup": "0050:0100",
         "orientation": "v",
         "showlegend": true,
         "type": "box",
         "x": [
          "0050:0100",
          "0050:0100",
          "0050:0100",
          "0050:0100",
          "0050:0100",
          "0050:0100",
          "0050:0100",
          "0050:0100",
          "0050:0100",
          "0050:0100",
          "0050:0100",
          "0050:0100",
          "0050:0100",
          "0050:0100",
          "0050:0100",
          "0050:0100",
          "0050:0100",
          "0050:0100",
          "0050:0100",
          "0050:0100",
          "0050:0100",
          "0050:0100",
          "0050:0100",
          "0050:0100",
          "0050:0100",
          "0050:0100",
          "0050:0100",
          "0050:0100",
          "0050:0100",
          "0050:0100",
          "0050:0100",
          "0050:0100",
          "0050:0100",
          "0050:0100",
          "0050:0100",
          "0050:0100",
          "0050:0100",
          "0050:0100",
          "0050:0100",
          "0050:0100",
          "0050:0100",
          "0050:0100",
          "0050:0100",
          "0050:0100",
          "0050:0100",
          "0050:0100",
          "0050:0100",
          "0050:0100",
          "0050:0100",
          "0050:0100",
          "0050:0100",
          "0050:0100",
          "0050:0100",
          "0050:0100",
          "0050:0100",
          "0050:0100",
          "0050:0100",
          "0050:0100",
          "0050:0100",
          "0050:0100",
          "0050:0100",
          "0050:0100",
          "0050:0100",
          "0050:0100",
          "0050:0100",
          "0050:0100",
          "0050:0100",
          "0050:0100",
          "0050:0100",
          "0050:0100",
          "0050:0100",
          "0050:0100",
          "0050:0100",
          "0050:0100",
          "0050:0100",
          "0050:0100",
          "0050:0100",
          "0050:0100",
          "0050:0100",
          "0050:0100",
          "0050:0100",
          "0050:0100",
          "0050:0100",
          "0050:0100",
          "0050:0100",
          "0050:0100",
          "0050:0100",
          "0050:0100",
          "0050:0100",
          "0050:0100",
          "0050:0100",
          "0050:0100",
          "0050:0100",
          "0050:0100",
          "0050:0100",
          "0050:0100",
          "0050:0100",
          "0050:0100",
          "0050:0100",
          "0050:0100",
          "0050:0100",
          "0050:0100",
          "0050:0100",
          "0050:0100",
          "0050:0100",
          "0050:0100",
          "0050:0100",
          "0050:0100",
          "0050:0100",
          "0050:0100",
          "0050:0100",
          "0050:0100",
          "0050:0100",
          "0050:0100",
          "0050:0100",
          "0050:0100",
          "0050:0100",
          "0050:0100",
          "0050:0100",
          "0050:0100",
          "0050:0100",
          "0050:0100",
          "0050:0100",
          "0050:0100",
          "0050:0100",
          "0050:0100",
          "0050:0100",
          "0050:0100",
          "0050:0100",
          "0050:0100",
          "0050:0100",
          "0050:0100",
          "0050:0100",
          "0050:0100",
          "0050:0100",
          "0050:0100",
          "0050:0100",
          "0050:0100",
          "0050:0100",
          "0050:0100",
          "0050:0100",
          "0050:0100",
          "0050:0100",
          "0050:0100",
          "0050:0100",
          "0050:0100",
          "0050:0100",
          "0050:0100",
          "0050:0100",
          "0050:0100",
          "0050:0100",
          "0050:0100",
          "0050:0100",
          "0050:0100",
          "0050:0100",
          "0050:0100",
          "0050:0100",
          "0050:0100",
          "0050:0100",
          "0050:0100",
          "0050:0100",
          "0050:0100",
          "0050:0100",
          "0050:0100",
          "0050:0100",
          "0050:0100",
          "0050:0100",
          "0050:0100",
          "0050:0100",
          "0050:0100",
          "0050:0100",
          "0050:0100",
          "0050:0100",
          "0050:0100",
          "0050:0100",
          "0050:0100",
          "0050:0100",
          "0050:0100",
          "0050:0100",
          "0050:0100",
          "0050:0100",
          "0050:0100",
          "0050:0100",
          "0050:0100",
          "0050:0100",
          "0050:0100",
          "0050:0100",
          "0050:0100",
          "0050:0100",
          "0050:0100",
          "0050:0100",
          "0050:0100",
          "0050:0100",
          "0050:0100",
          "0050:0100",
          "0050:0100",
          "0050:0100",
          "0050:0100",
          "0050:0100",
          "0050:0100",
          "0050:0100",
          "0050:0100",
          "0050:0100",
          "0050:0100",
          "0050:0100",
          "0050:0100",
          "0050:0100",
          "0050:0100",
          "0050:0100",
          "0050:0100",
          "0050:0100",
          "0050:0100",
          "0050:0100",
          "0050:0100",
          "0050:0100",
          "0050:0100",
          "0050:0100",
          "0050:0100",
          "0050:0100",
          "0050:0100",
          "0050:0100",
          "0050:0100",
          "0050:0100",
          "0050:0100",
          "0050:0100",
          "0050:0100",
          "0050:0100",
          "0050:0100",
          "0050:0100",
          "0050:0100",
          "0050:0100",
          "0050:0100",
          "0050:0100",
          "0050:0100",
          "0050:0100",
          "0050:0100",
          "0050:0100",
          "0050:0100",
          "0050:0100",
          "0050:0100",
          "0050:0100",
          "0050:0100",
          "0050:0100",
          "0050:0100",
          "0050:0100",
          "0050:0100",
          "0050:0100",
          "0050:0100",
          "0050:0100",
          "0050:0100",
          "0050:0100",
          "0050:0100",
          "0050:0100",
          "0050:0100",
          "0050:0100",
          "0050:0100",
          "0050:0100",
          "0050:0100",
          "0050:0100",
          "0050:0100",
          "0050:0100",
          "0050:0100",
          "0050:0100",
          "0050:0100",
          "0050:0100",
          "0050:0100",
          "0050:0100",
          "0050:0100",
          "0050:0100",
          "0050:0100",
          "0050:0100",
          "0050:0100",
          "0050:0100",
          "0050:0100",
          "0050:0100",
          "0050:0100",
          "0050:0100",
          "0050:0100",
          "0050:0100",
          "0050:0100",
          "0050:0100",
          "0050:0100",
          "0050:0100",
          "0050:0100",
          "0050:0100",
          "0050:0100",
          "0050:0100",
          "0050:0100",
          "0050:0100",
          "0050:0100",
          "0050:0100",
          "0050:0100",
          "0050:0100",
          "0050:0100",
          "0050:0100",
          "0050:0100",
          "0050:0100",
          "0050:0100",
          "0050:0100",
          "0050:0100",
          "0050:0100",
          "0050:0100",
          "0050:0100",
          "0050:0100",
          "0050:0100",
          "0050:0100",
          "0050:0100",
          "0050:0100"
         ],
         "x0": " ",
         "xaxis": "x",
         "y": [
          11,
          2,
          1,
          1,
          1,
          1,
          1,
          2,
          4,
          1,
          1,
          1,
          1,
          1,
          1,
          1,
          1,
          1,
          3,
          4,
          1,
          8,
          1,
          1,
          1,
          1,
          1,
          1,
          1,
          1,
          1,
          1,
          1,
          1,
          1,
          1,
          1,
          1,
          1,
          3,
          2,
          1,
          1,
          1,
          1,
          1,
          1,
          3,
          1,
          2,
          2,
          1,
          3,
          1,
          1,
          1,
          1,
          1,
          2,
          1,
          1,
          1,
          1,
          2,
          1,
          1,
          1,
          2,
          1,
          2,
          2,
          2,
          3,
          1,
          1,
          2,
          1,
          1,
          2,
          1,
          1,
          1,
          2,
          1,
          1,
          1,
          1,
          5,
          1,
          6,
          1,
          1,
          1,
          2,
          2,
          1,
          1,
          1,
          2,
          1,
          1,
          3,
          1,
          1,
          1,
          7,
          1,
          1,
          1,
          4,
          1,
          1,
          1,
          1,
          5,
          1,
          1,
          1,
          1,
          1,
          1,
          1,
          1,
          1,
          5,
          1,
          4,
          1,
          3,
          1,
          1,
          1,
          1,
          5,
          1,
          1,
          1,
          1,
          1,
          1,
          1,
          1,
          1,
          1,
          1,
          1,
          1,
          1,
          1,
          1,
          1,
          1,
          1,
          1,
          1,
          1,
          1,
          1,
          4,
          1,
          1,
          1,
          1,
          1,
          1,
          1,
          1,
          1,
          5,
          1,
          1,
          1,
          1,
          1,
          1,
          1,
          1,
          1,
          1,
          1,
          1,
          6,
          1,
          1,
          1,
          1,
          5,
          2,
          1,
          1,
          1,
          1,
          1,
          1,
          1,
          1,
          1,
          1,
          1,
          1,
          1,
          1,
          1,
          1,
          1,
          1,
          1,
          1,
          1,
          1,
          1,
          1,
          1,
          1,
          1,
          1,
          1,
          1,
          1,
          1,
          1,
          1,
          1,
          1,
          1,
          1,
          1,
          1,
          1,
          1,
          1,
          1,
          1,
          1,
          1,
          1,
          1,
          1,
          1,
          1,
          1,
          1,
          1,
          1,
          1,
          1,
          1,
          1,
          1,
          1,
          1,
          1,
          1,
          1,
          1,
          1,
          1,
          1,
          1,
          1,
          1,
          1,
          1,
          1,
          1,
          1,
          1,
          1,
          1,
          1,
          1,
          1,
          1,
          1,
          1,
          1,
          1,
          1,
          1,
          1,
          1,
          1,
          1,
          1,
          1,
          1,
          1,
          1,
          1,
          1,
          1,
          1,
          1,
          17,
          1,
          1,
          1,
          8,
          1,
          2,
          7,
          1,
          1,
          1,
          8,
          7,
          8,
          4
         ],
         "y0": " ",
         "yaxis": "y"
        },
        {
         "alignmentgroup": "True",
         "hovertemplate": "cost_category=%{x}<br>service_duration=%{y}<extra></extra>",
         "legendgroup": "0600:0700",
         "marker": {
          "color": "#ab63fa"
         },
         "name": "0600:0700",
         "notched": false,
         "offsetgroup": "0600:0700",
         "orientation": "v",
         "showlegend": true,
         "type": "box",
         "x": [
          "0600:0700",
          "0600:0700",
          "0600:0700",
          "0600:0700",
          "0600:0700",
          "0600:0700",
          "0600:0700",
          "0600:0700",
          "0600:0700",
          "0600:0700"
         ],
         "x0": " ",
         "xaxis": "x",
         "y": [
          8,
          1,
          9,
          1,
          1,
          7,
          1,
          1,
          4,
          5
         ],
         "y0": " ",
         "yaxis": "y"
        },
        {
         "alignmentgroup": "True",
         "hovertemplate": "cost_category=%{x}<br>service_duration=%{y}<extra></extra>",
         "legendgroup": "0300:0400",
         "marker": {
          "color": "#FFA15A"
         },
         "name": "0300:0400",
         "notched": false,
         "offsetgroup": "0300:0400",
         "orientation": "v",
         "showlegend": true,
         "type": "box",
         "x": [
          "0300:0400",
          "0300:0400",
          "0300:0400",
          "0300:0400",
          "0300:0400",
          "0300:0400",
          "0300:0400",
          "0300:0400",
          "0300:0400",
          "0300:0400",
          "0300:0400",
          "0300:0400",
          "0300:0400",
          "0300:0400",
          "0300:0400",
          "0300:0400",
          "0300:0400",
          "0300:0400",
          "0300:0400",
          "0300:0400",
          "0300:0400",
          "0300:0400",
          "0300:0400",
          "0300:0400",
          "0300:0400",
          "0300:0400",
          "0300:0400",
          "0300:0400",
          "0300:0400",
          "0300:0400",
          "0300:0400",
          "0300:0400",
          "0300:0400",
          "0300:0400",
          "0300:0400",
          "0300:0400",
          "0300:0400"
         ],
         "x0": " ",
         "xaxis": "x",
         "y": [
          1,
          11,
          5,
          1,
          1,
          1,
          1,
          1,
          1,
          14,
          1,
          1,
          2,
          11,
          6,
          1,
          1,
          1,
          1,
          7,
          1,
          1,
          6,
          9,
          1,
          1,
          1,
          1,
          1,
          1,
          5,
          1,
          1,
          9,
          11,
          8,
          7
         ],
         "y0": " ",
         "yaxis": "y"
        },
        {
         "alignmentgroup": "True",
         "hovertemplate": "cost_category=%{x}<br>service_duration=%{y}<extra></extra>",
         "legendgroup": "0001:0050",
         "marker": {
          "color": "#19d3f3"
         },
         "name": "0001:0050",
         "notched": false,
         "offsetgroup": "0001:0050",
         "orientation": "v",
         "showlegend": true,
         "type": "box",
         "x": [
          "0001:0050",
          "0001:0050",
          "0001:0050",
          "0001:0050",
          "0001:0050",
          "0001:0050",
          "0001:0050",
          "0001:0050",
          "0001:0050",
          "0001:0050",
          "0001:0050",
          "0001:0050",
          "0001:0050",
          "0001:0050",
          "0001:0050",
          "0001:0050",
          "0001:0050",
          "0001:0050",
          "0001:0050",
          "0001:0050",
          "0001:0050",
          "0001:0050",
          "0001:0050",
          "0001:0050",
          "0001:0050",
          "0001:0050",
          "0001:0050",
          "0001:0050",
          "0001:0050",
          "0001:0050",
          "0001:0050",
          "0001:0050",
          "0001:0050",
          "0001:0050",
          "0001:0050",
          "0001:0050",
          "0001:0050",
          "0001:0050",
          "0001:0050",
          "0001:0050",
          "0001:0050",
          "0001:0050",
          "0001:0050",
          "0001:0050",
          "0001:0050",
          "0001:0050",
          "0001:0050",
          "0001:0050",
          "0001:0050",
          "0001:0050",
          "0001:0050",
          "0001:0050",
          "0001:0050",
          "0001:0050",
          "0001:0050",
          "0001:0050",
          "0001:0050",
          "0001:0050",
          "0001:0050",
          "0001:0050",
          "0001:0050",
          "0001:0050",
          "0001:0050",
          "0001:0050",
          "0001:0050",
          "0001:0050",
          "0001:0050",
          "0001:0050",
          "0001:0050",
          "0001:0050",
          "0001:0050",
          "0001:0050",
          "0001:0050",
          "0001:0050",
          "0001:0050",
          "0001:0050",
          "0001:0050",
          "0001:0050",
          "0001:0050",
          "0001:0050",
          "0001:0050",
          "0001:0050",
          "0001:0050",
          "0001:0050",
          "0001:0050",
          "0001:0050",
          "0001:0050",
          "0001:0050",
          "0001:0050",
          "0001:0050",
          "0001:0050",
          "0001:0050",
          "0001:0050",
          "0001:0050",
          "0001:0050",
          "0001:0050",
          "0001:0050",
          "0001:0050",
          "0001:0050",
          "0001:0050",
          "0001:0050",
          "0001:0050",
          "0001:0050",
          "0001:0050",
          "0001:0050",
          "0001:0050",
          "0001:0050",
          "0001:0050",
          "0001:0050",
          "0001:0050",
          "0001:0050",
          "0001:0050",
          "0001:0050",
          "0001:0050",
          "0001:0050",
          "0001:0050",
          "0001:0050",
          "0001:0050",
          "0001:0050",
          "0001:0050",
          "0001:0050",
          "0001:0050",
          "0001:0050",
          "0001:0050",
          "0001:0050",
          "0001:0050",
          "0001:0050",
          "0001:0050",
          "0001:0050",
          "0001:0050",
          "0001:0050",
          "0001:0050",
          "0001:0050",
          "0001:0050",
          "0001:0050",
          "0001:0050",
          "0001:0050",
          "0001:0050",
          "0001:0050",
          "0001:0050",
          "0001:0050",
          "0001:0050",
          "0001:0050",
          "0001:0050",
          "0001:0050",
          "0001:0050",
          "0001:0050",
          "0001:0050",
          "0001:0050",
          "0001:0050",
          "0001:0050",
          "0001:0050",
          "0001:0050",
          "0001:0050",
          "0001:0050",
          "0001:0050",
          "0001:0050",
          "0001:0050",
          "0001:0050",
          "0001:0050",
          "0001:0050",
          "0001:0050",
          "0001:0050",
          "0001:0050",
          "0001:0050",
          "0001:0050",
          "0001:0050",
          "0001:0050",
          "0001:0050",
          "0001:0050",
          "0001:0050",
          "0001:0050",
          "0001:0050",
          "0001:0050",
          "0001:0050",
          "0001:0050",
          "0001:0050",
          "0001:0050",
          "0001:0050",
          "0001:0050",
          "0001:0050",
          "0001:0050",
          "0001:0050",
          "0001:0050",
          "0001:0050",
          "0001:0050",
          "0001:0050",
          "0001:0050",
          "0001:0050",
          "0001:0050",
          "0001:0050",
          "0001:0050",
          "0001:0050",
          "0001:0050",
          "0001:0050",
          "0001:0050",
          "0001:0050",
          "0001:0050",
          "0001:0050",
          "0001:0050",
          "0001:0050",
          "0001:0050",
          "0001:0050",
          "0001:0050",
          "0001:0050",
          "0001:0050",
          "0001:0050",
          "0001:0050",
          "0001:0050",
          "0001:0050",
          "0001:0050",
          "0001:0050",
          "0001:0050",
          "0001:0050",
          "0001:0050",
          "0001:0050",
          "0001:0050",
          "0001:0050",
          "0001:0050",
          "0001:0050",
          "0001:0050",
          "0001:0050",
          "0001:0050",
          "0001:0050",
          "0001:0050",
          "0001:0050",
          "0001:0050",
          "0001:0050",
          "0001:0050",
          "0001:0050",
          "0001:0050",
          "0001:0050",
          "0001:0050",
          "0001:0050",
          "0001:0050",
          "0001:0050",
          "0001:0050",
          "0001:0050",
          "0001:0050",
          "0001:0050",
          "0001:0050",
          "0001:0050",
          "0001:0050",
          "0001:0050",
          "0001:0050",
          "0001:0050",
          "0001:0050",
          "0001:0050",
          "0001:0050",
          "0001:0050",
          "0001:0050",
          "0001:0050",
          "0001:0050",
          "0001:0050",
          "0001:0050",
          "0001:0050",
          "0001:0050",
          "0001:0050",
          "0001:0050",
          "0001:0050",
          "0001:0050",
          "0001:0050",
          "0001:0050",
          "0001:0050",
          "0001:0050",
          "0001:0050",
          "0001:0050",
          "0001:0050",
          "0001:0050",
          "0001:0050",
          "0001:0050",
          "0001:0050",
          "0001:0050",
          "0001:0050",
          "0001:0050",
          "0001:0050",
          "0001:0050",
          "0001:0050",
          "0001:0050",
          "0001:0050",
          "0001:0050",
          "0001:0050",
          "0001:0050",
          "0001:0050",
          "0001:0050",
          "0001:0050",
          "0001:0050",
          "0001:0050",
          "0001:0050",
          "0001:0050",
          "0001:0050",
          "0001:0050",
          "0001:0050",
          "0001:0050",
          "0001:0050",
          "0001:0050",
          "0001:0050",
          "0001:0050",
          "0001:0050",
          "0001:0050",
          "0001:0050",
          "0001:0050",
          "0001:0050",
          "0001:0050",
          "0001:0050",
          "0001:0050",
          "0001:0050",
          "0001:0050",
          "0001:0050",
          "0001:0050",
          "0001:0050",
          "0001:0050",
          "0001:0050",
          "0001:0050",
          "0001:0050",
          "0001:0050",
          "0001:0050",
          "0001:0050",
          "0001:0050",
          "0001:0050",
          "0001:0050",
          "0001:0050",
          "0001:0050",
          "0001:0050",
          "0001:0050",
          "0001:0050",
          "0001:0050",
          "0001:0050",
          "0001:0050",
          "0001:0050",
          "0001:0050",
          "0001:0050",
          "0001:0050",
          "0001:0050",
          "0001:0050",
          "0001:0050",
          "0001:0050",
          "0001:0050",
          "0001:0050",
          "0001:0050",
          "0001:0050",
          "0001:0050",
          "0001:0050",
          "0001:0050",
          "0001:0050",
          "0001:0050",
          "0001:0050",
          "0001:0050",
          "0001:0050",
          "0001:0050",
          "0001:0050",
          "0001:0050",
          "0001:0050",
          "0001:0050",
          "0001:0050",
          "0001:0050",
          "0001:0050",
          "0001:0050",
          "0001:0050",
          "0001:0050",
          "0001:0050",
          "0001:0050",
          "0001:0050",
          "0001:0050",
          "0001:0050",
          "0001:0050",
          "0001:0050",
          "0001:0050",
          "0001:0050",
          "0001:0050",
          "0001:0050",
          "0001:0050",
          "0001:0050",
          "0001:0050",
          "0001:0050",
          "0001:0050",
          "0001:0050",
          "0001:0050",
          "0001:0050",
          "0001:0050",
          "0001:0050",
          "0001:0050",
          "0001:0050",
          "0001:0050",
          "0001:0050",
          "0001:0050",
          "0001:0050",
          "0001:0050",
          "0001:0050",
          "0001:0050",
          "0001:0050",
          "0001:0050",
          "0001:0050",
          "0001:0050",
          "0001:0050",
          "0001:0050",
          "0001:0050",
          "0001:0050",
          "0001:0050",
          "0001:0050",
          "0001:0050",
          "0001:0050",
          "0001:0050",
          "0001:0050",
          "0001:0050",
          "0001:0050",
          "0001:0050",
          "0001:0050",
          "0001:0050",
          "0001:0050",
          "0001:0050",
          "0001:0050",
          "0001:0050",
          "0001:0050",
          "0001:0050",
          "0001:0050",
          "0001:0050",
          "0001:0050",
          "0001:0050",
          "0001:0050",
          "0001:0050",
          "0001:0050",
          "0001:0050",
          "0001:0050",
          "0001:0050",
          "0001:0050",
          "0001:0050",
          "0001:0050",
          "0001:0050",
          "0001:0050",
          "0001:0050",
          "0001:0050",
          "0001:0050",
          "0001:0050",
          "0001:0050",
          "0001:0050",
          "0001:0050",
          "0001:0050",
          "0001:0050",
          "0001:0050",
          "0001:0050",
          "0001:0050",
          "0001:0050",
          "0001:0050",
          "0001:0050",
          "0001:0050",
          "0001:0050",
          "0001:0050",
          "0001:0050",
          "0001:0050",
          "0001:0050",
          "0001:0050",
          "0001:0050",
          "0001:0050",
          "0001:0050",
          "0001:0050",
          "0001:0050",
          "0001:0050",
          "0001:0050",
          "0001:0050",
          "0001:0050",
          "0001:0050",
          "0001:0050",
          "0001:0050",
          "0001:0050",
          "0001:0050",
          "0001:0050",
          "0001:0050",
          "0001:0050",
          "0001:0050",
          "0001:0050",
          "0001:0050",
          "0001:0050",
          "0001:0050",
          "0001:0050",
          "0001:0050",
          "0001:0050",
          "0001:0050",
          "0001:0050",
          "0001:0050",
          "0001:0050",
          "0001:0050",
          "0001:0050",
          "0001:0050",
          "0001:0050",
          "0001:0050",
          "0001:0050",
          "0001:0050",
          "0001:0050",
          "0001:0050",
          "0001:0050",
          "0001:0050",
          "0001:0050",
          "0001:0050",
          "0001:0050",
          "0001:0050",
          "0001:0050",
          "0001:0050",
          "0001:0050",
          "0001:0050",
          "0001:0050",
          "0001:0050",
          "0001:0050",
          "0001:0050",
          "0001:0050",
          "0001:0050",
          "0001:0050",
          "0001:0050",
          "0001:0050",
          "0001:0050",
          "0001:0050",
          "0001:0050",
          "0001:0050",
          "0001:0050",
          "0001:0050",
          "0001:0050",
          "0001:0050",
          "0001:0050",
          "0001:0050",
          "0001:0050",
          "0001:0050",
          "0001:0050",
          "0001:0050",
          "0001:0050",
          "0001:0050",
          "0001:0050",
          "0001:0050",
          "0001:0050",
          "0001:0050",
          "0001:0050",
          "0001:0050",
          "0001:0050",
          "0001:0050",
          "0001:0050",
          "0001:0050",
          "0001:0050",
          "0001:0050",
          "0001:0050",
          "0001:0050",
          "0001:0050",
          "0001:0050",
          "0001:0050",
          "0001:0050",
          "0001:0050",
          "0001:0050",
          "0001:0050",
          "0001:0050",
          "0001:0050",
          "0001:0050",
          "0001:0050",
          "0001:0050",
          "0001:0050",
          "0001:0050",
          "0001:0050",
          "0001:0050",
          "0001:0050",
          "0001:0050",
          "0001:0050",
          "0001:0050",
          "0001:0050",
          "0001:0050",
          "0001:0050",
          "0001:0050",
          "0001:0050",
          "0001:0050",
          "0001:0050",
          "0001:0050",
          "0001:0050",
          "0001:0050",
          "0001:0050",
          "0001:0050",
          "0001:0050",
          "0001:0050",
          "0001:0050",
          "0001:0050",
          "0001:0050",
          "0001:0050",
          "0001:0050",
          "0001:0050",
          "0001:0050",
          "0001:0050",
          "0001:0050",
          "0001:0050",
          "0001:0050",
          "0001:0050",
          "0001:0050",
          "0001:0050",
          "0001:0050",
          "0001:0050",
          "0001:0050",
          "0001:0050",
          "0001:0050",
          "0001:0050",
          "0001:0050",
          "0001:0050",
          "0001:0050",
          "0001:0050",
          "0001:0050",
          "0001:0050",
          "0001:0050",
          "0001:0050",
          "0001:0050",
          "0001:0050",
          "0001:0050",
          "0001:0050",
          "0001:0050",
          "0001:0050",
          "0001:0050",
          "0001:0050",
          "0001:0050",
          "0001:0050",
          "0001:0050",
          "0001:0050",
          "0001:0050",
          "0001:0050",
          "0001:0050",
          "0001:0050",
          "0001:0050",
          "0001:0050",
          "0001:0050",
          "0001:0050",
          "0001:0050",
          "0001:0050",
          "0001:0050",
          "0001:0050",
          "0001:0050",
          "0001:0050",
          "0001:0050",
          "0001:0050",
          "0001:0050",
          "0001:0050",
          "0001:0050",
          "0001:0050",
          "0001:0050",
          "0001:0050",
          "0001:0050",
          "0001:0050",
          "0001:0050",
          "0001:0050",
          "0001:0050",
          "0001:0050",
          "0001:0050",
          "0001:0050",
          "0001:0050",
          "0001:0050",
          "0001:0050",
          "0001:0050",
          "0001:0050",
          "0001:0050",
          "0001:0050",
          "0001:0050",
          "0001:0050",
          "0001:0050",
          "0001:0050",
          "0001:0050",
          "0001:0050",
          "0001:0050",
          "0001:0050",
          "0001:0050",
          "0001:0050",
          "0001:0050",
          "0001:0050",
          "0001:0050",
          "0001:0050",
          "0001:0050",
          "0001:0050",
          "0001:0050",
          "0001:0050",
          "0001:0050",
          "0001:0050",
          "0001:0050",
          "0001:0050",
          "0001:0050",
          "0001:0050",
          "0001:0050",
          "0001:0050",
          "0001:0050",
          "0001:0050",
          "0001:0050",
          "0001:0050",
          "0001:0050",
          "0001:0050",
          "0001:0050",
          "0001:0050",
          "0001:0050",
          "0001:0050",
          "0001:0050",
          "0001:0050",
          "0001:0050",
          "0001:0050",
          "0001:0050",
          "0001:0050",
          "0001:0050",
          "0001:0050",
          "0001:0050",
          "0001:0050",
          "0001:0050",
          "0001:0050",
          "0001:0050",
          "0001:0050",
          "0001:0050",
          "0001:0050",
          "0001:0050",
          "0001:0050",
          "0001:0050",
          "0001:0050",
          "0001:0050",
          "0001:0050",
          "0001:0050",
          "0001:0050",
          "0001:0050",
          "0001:0050",
          "0001:0050",
          "0001:0050",
          "0001:0050",
          "0001:0050",
          "0001:0050",
          "0001:0050",
          "0001:0050",
          "0001:0050",
          "0001:0050",
          "0001:0050",
          "0001:0050",
          "0001:0050",
          "0001:0050",
          "0001:0050",
          "0001:0050",
          "0001:0050",
          "0001:0050",
          "0001:0050",
          "0001:0050"
         ],
         "x0": " ",
         "xaxis": "x",
         "y": [
          1,
          1,
          1,
          1,
          10,
          1,
          1,
          1,
          1,
          1,
          1,
          1,
          1,
          1,
          1,
          1,
          1,
          1,
          1,
          1,
          1,
          1,
          1,
          1,
          1,
          1,
          1,
          1,
          1,
          1,
          1,
          1,
          1,
          1,
          1,
          1,
          1,
          1,
          1,
          1,
          1,
          1,
          1,
          1,
          1,
          1,
          2,
          1,
          1,
          1,
          1,
          1,
          1,
          1,
          1,
          1,
          1,
          1,
          1,
          1,
          1,
          1,
          1,
          1,
          1,
          1,
          1,
          1,
          1,
          1,
          1,
          1,
          1,
          1,
          1,
          1,
          1,
          1,
          1,
          1,
          1,
          1,
          1,
          1,
          1,
          1,
          1,
          1,
          1,
          1,
          1,
          1,
          1,
          1,
          1,
          1,
          1,
          1,
          1,
          1,
          1,
          1,
          1,
          1,
          1,
          1,
          1,
          1,
          14,
          1,
          1,
          2,
          1,
          1,
          1,
          1,
          1,
          1,
          1,
          1,
          1,
          1,
          1,
          1,
          1,
          1,
          1,
          1,
          1,
          1,
          1,
          1,
          1,
          1,
          2,
          1,
          2,
          1,
          2,
          1,
          1,
          1,
          1,
          1,
          1,
          1,
          1,
          1,
          1,
          1,
          1,
          3,
          1,
          1,
          2,
          1,
          1,
          1,
          1,
          1,
          1,
          1,
          1,
          1,
          1,
          1,
          1,
          1,
          1,
          1,
          1,
          1,
          1,
          1,
          1,
          1,
          1,
          1,
          1,
          1,
          1,
          1,
          1,
          1,
          1,
          1,
          1,
          1,
          1,
          1,
          1,
          1,
          1,
          1,
          1,
          1,
          1,
          1,
          1,
          1,
          1,
          1,
          1,
          1,
          1,
          1,
          1,
          1,
          1,
          1,
          1,
          1,
          1,
          1,
          1,
          1,
          1,
          1,
          1,
          1,
          1,
          1,
          1,
          1,
          1,
          1,
          1,
          1,
          1,
          1,
          1,
          1,
          1,
          1,
          1,
          1,
          1,
          1,
          1,
          1,
          1,
          1,
          1,
          1,
          1,
          1,
          1,
          1,
          1,
          1,
          1,
          1,
          1,
          1,
          1,
          1,
          1,
          1,
          1,
          1,
          1,
          1,
          1,
          1,
          1,
          1,
          1,
          1,
          1,
          1,
          1,
          1,
          1,
          1,
          1,
          1,
          1,
          1,
          1,
          1,
          1,
          1,
          1,
          1,
          1,
          1,
          1,
          1,
          1,
          1,
          1,
          1,
          1,
          1,
          1,
          1,
          1,
          1,
          1,
          3,
          1,
          1,
          1,
          1,
          2,
          1,
          1,
          1,
          1,
          1,
          1,
          1,
          2,
          1,
          1,
          1,
          1,
          1,
          1,
          1,
          1,
          1,
          1,
          1,
          1,
          1,
          1,
          1,
          1,
          1,
          1,
          1,
          1,
          1,
          1,
          2,
          1,
          1,
          1,
          1,
          3,
          1,
          1,
          1,
          1,
          1,
          1,
          1,
          1,
          1,
          1,
          1,
          1,
          1,
          1,
          1,
          1,
          1,
          1,
          1,
          1,
          1,
          1,
          1,
          1,
          1,
          1,
          1,
          1,
          1,
          1,
          1,
          1,
          1,
          1,
          1,
          1,
          1,
          1,
          1,
          1,
          1,
          1,
          1,
          1,
          1,
          1,
          1,
          1,
          1,
          1,
          1,
          1,
          1,
          1,
          1,
          1,
          1,
          1,
          1,
          1,
          1,
          1,
          1,
          1,
          1,
          1,
          1,
          1,
          1,
          1,
          1,
          1,
          1,
          1,
          1,
          1,
          1,
          1,
          1,
          1,
          1,
          1,
          1,
          1,
          1,
          1,
          1,
          1,
          1,
          1,
          1,
          1,
          1,
          1,
          1,
          1,
          1,
          1,
          1,
          1,
          1,
          1,
          1,
          1,
          1,
          1,
          1,
          1,
          1,
          1,
          1,
          1,
          1,
          1,
          1,
          1,
          1,
          1,
          1,
          1,
          1,
          1,
          1,
          1,
          1,
          1,
          1,
          1,
          1,
          1,
          1,
          1,
          1,
          1,
          1,
          1,
          1,
          1,
          1,
          1,
          1,
          1,
          1,
          1,
          1,
          1,
          1,
          1,
          1,
          1,
          1,
          1,
          1,
          1,
          1,
          1,
          1,
          1,
          1,
          1,
          1,
          1,
          1,
          1,
          1,
          7,
          1,
          1,
          1,
          1,
          1,
          1,
          1,
          1,
          1,
          1,
          1,
          1,
          1,
          1,
          1,
          1,
          1,
          1,
          1,
          1,
          1,
          1,
          1,
          1,
          1,
          1,
          1,
          1,
          1,
          1,
          1,
          1,
          1,
          1,
          1,
          1,
          1,
          1,
          1,
          1,
          1,
          1,
          1,
          1,
          1,
          1,
          1,
          1,
          1,
          1,
          1,
          1,
          1,
          1,
          1,
          1,
          1,
          1,
          1,
          1,
          1,
          1,
          1,
          1,
          1,
          1,
          1,
          1,
          1,
          1,
          1,
          1,
          1,
          1,
          1,
          1,
          1,
          1,
          1,
          1,
          1,
          1,
          1,
          1,
          1,
          1,
          1,
          1,
          1,
          1,
          1,
          1,
          1,
          1,
          1,
          1,
          1,
          1,
          1,
          1,
          1,
          1,
          1,
          1,
          1,
          1,
          1,
          1,
          5,
          1,
          1,
          1,
          1,
          1,
          1,
          1,
          1,
          1,
          1,
          1,
          1,
          1,
          1,
          1,
          1,
          1,
          1,
          1,
          1,
          1,
          1,
          1,
          1,
          1,
          1,
          1,
          1,
          1,
          5,
          1,
          1,
          1,
          1,
          1,
          1,
          1,
          1,
          1,
          1,
          1,
          1,
          1,
          1,
          1,
          1,
          1,
          1,
          1,
          1,
          1,
          1,
          1,
          4,
          1,
          1,
          1,
          1,
          1,
          1,
          1,
          1,
          1,
          1,
          1,
          1,
          1,
          1,
          1,
          1,
          1,
          1,
          1,
          1,
          1,
          1,
          1,
          1,
          1,
          1,
          1,
          1,
          1,
          1,
          1,
          1,
          1,
          1,
          1,
          1,
          1,
          1,
          1,
          1,
          1,
          1,
          1,
          1,
          1,
          1,
          1,
          1,
          1,
          1,
          1,
          1,
          1,
          1,
          1,
          1,
          1,
          1,
          1,
          1,
          1
         ],
         "y0": " ",
         "yaxis": "y"
        },
        {
         "alignmentgroup": "True",
         "hovertemplate": "cost_category=%{x}<br>service_duration=%{y}<extra></extra>",
         "legendgroup": "0100:0150",
         "marker": {
          "color": "#FF6692"
         },
         "name": "0100:0150",
         "notched": false,
         "offsetgroup": "0100:0150",
         "orientation": "v",
         "showlegend": true,
         "type": "box",
         "x": [
          "0100:0150",
          "0100:0150",
          "0100:0150",
          "0100:0150",
          "0100:0150",
          "0100:0150",
          "0100:0150",
          "0100:0150",
          "0100:0150",
          "0100:0150",
          "0100:0150",
          "0100:0150",
          "0100:0150",
          "0100:0150",
          "0100:0150",
          "0100:0150",
          "0100:0150",
          "0100:0150",
          "0100:0150",
          "0100:0150",
          "0100:0150",
          "0100:0150",
          "0100:0150",
          "0100:0150",
          "0100:0150",
          "0100:0150",
          "0100:0150",
          "0100:0150",
          "0100:0150",
          "0100:0150",
          "0100:0150",
          "0100:0150",
          "0100:0150",
          "0100:0150",
          "0100:0150",
          "0100:0150",
          "0100:0150",
          "0100:0150",
          "0100:0150",
          "0100:0150",
          "0100:0150",
          "0100:0150",
          "0100:0150",
          "0100:0150",
          "0100:0150",
          "0100:0150",
          "0100:0150",
          "0100:0150",
          "0100:0150",
          "0100:0150",
          "0100:0150",
          "0100:0150",
          "0100:0150",
          "0100:0150",
          "0100:0150",
          "0100:0150",
          "0100:0150",
          "0100:0150",
          "0100:0150",
          "0100:0150",
          "0100:0150",
          "0100:0150",
          "0100:0150",
          "0100:0150",
          "0100:0150",
          "0100:0150",
          "0100:0150",
          "0100:0150",
          "0100:0150",
          "0100:0150",
          "0100:0150",
          "0100:0150",
          "0100:0150",
          "0100:0150",
          "0100:0150",
          "0100:0150",
          "0100:0150",
          "0100:0150",
          "0100:0150",
          "0100:0150",
          "0100:0150",
          "0100:0150",
          "0100:0150",
          "0100:0150",
          "0100:0150",
          "0100:0150",
          "0100:0150",
          "0100:0150",
          "0100:0150",
          "0100:0150",
          "0100:0150",
          "0100:0150",
          "0100:0150",
          "0100:0150",
          "0100:0150",
          "0100:0150",
          "0100:0150",
          "0100:0150",
          "0100:0150",
          "0100:0150",
          "0100:0150",
          "0100:0150",
          "0100:0150",
          "0100:0150",
          "0100:0150",
          "0100:0150",
          "0100:0150",
          "0100:0150",
          "0100:0150",
          "0100:0150",
          "0100:0150",
          "0100:0150",
          "0100:0150",
          "0100:0150",
          "0100:0150",
          "0100:0150",
          "0100:0150",
          "0100:0150",
          "0100:0150",
          "0100:0150",
          "0100:0150",
          "0100:0150",
          "0100:0150",
          "0100:0150",
          "0100:0150",
          "0100:0150",
          "0100:0150",
          "0100:0150",
          "0100:0150",
          "0100:0150",
          "0100:0150",
          "0100:0150",
          "0100:0150",
          "0100:0150",
          "0100:0150",
          "0100:0150",
          "0100:0150",
          "0100:0150",
          "0100:0150",
          "0100:0150",
          "0100:0150",
          "0100:0150",
          "0100:0150",
          "0100:0150",
          "0100:0150",
          "0100:0150",
          "0100:0150",
          "0100:0150",
          "0100:0150",
          "0100:0150",
          "0100:0150",
          "0100:0150",
          "0100:0150",
          "0100:0150",
          "0100:0150",
          "0100:0150",
          "0100:0150",
          "0100:0150",
          "0100:0150",
          "0100:0150",
          "0100:0150",
          "0100:0150",
          "0100:0150",
          "0100:0150"
         ],
         "x0": " ",
         "xaxis": "x",
         "y": [
          6,
          1,
          1,
          1,
          1,
          1,
          1,
          1,
          1,
          1,
          1,
          4,
          3,
          1,
          1,
          1,
          1,
          1,
          3,
          1,
          1,
          1,
          1,
          7,
          1,
          1,
          8,
          4,
          2,
          1,
          2,
          1,
          1,
          1,
          1,
          6,
          1,
          1,
          1,
          3,
          2,
          5,
          1,
          1,
          1,
          1,
          1,
          7,
          6,
          4,
          2,
          4,
          7,
          1,
          1,
          1,
          1,
          6,
          6,
          1,
          1,
          1,
          1,
          1,
          1,
          1,
          1,
          3,
          1,
          1,
          1,
          1,
          1,
          1,
          1,
          1,
          5,
          1,
          1,
          1,
          1,
          1,
          1,
          1,
          1,
          1,
          1,
          1,
          1,
          1,
          1,
          1,
          1,
          1,
          1,
          1,
          1,
          1,
          1,
          1,
          1,
          1,
          1,
          1,
          1,
          1,
          1,
          1,
          1,
          1,
          1,
          1,
          1,
          1,
          1,
          1,
          1,
          1,
          1,
          1,
          1,
          1,
          1,
          1,
          1,
          1,
          1,
          1,
          1,
          1,
          1,
          1,
          1,
          1,
          1,
          1,
          1,
          1,
          1,
          1,
          1,
          1,
          1,
          1,
          1,
          1,
          1,
          1,
          1,
          1,
          1,
          1,
          1,
          1,
          1,
          1,
          1,
          1,
          6,
          1,
          1,
          1,
          8,
          6
         ],
         "y0": " ",
         "yaxis": "y"
        },
        {
         "alignmentgroup": "True",
         "hovertemplate": "cost_category=%{x}<br>service_duration=%{y}<extra></extra>",
         "legendgroup": "0500:0600",
         "marker": {
          "color": "#B6E880"
         },
         "name": "0500:0600",
         "notched": false,
         "offsetgroup": "0500:0600",
         "orientation": "v",
         "showlegend": true,
         "type": "box",
         "x": [
          "0500:0600",
          "0500:0600",
          "0500:0600",
          "0500:0600",
          "0500:0600",
          "0500:0600",
          "0500:0600",
          "0500:0600",
          "0500:0600",
          "0500:0600",
          "0500:0600",
          "0500:0600",
          "0500:0600",
          "0500:0600",
          "0500:0600",
          "0500:0600",
          "0500:0600",
          "0500:0600",
          "0500:0600",
          "0500:0600"
         ],
         "x0": " ",
         "xaxis": "x",
         "y": [
          3,
          17,
          1,
          1,
          57,
          2,
          32,
          1,
          1,
          2,
          1,
          1,
          1,
          1,
          1,
          1,
          1,
          1,
          9,
          7
         ],
         "y0": " ",
         "yaxis": "y"
        },
        {
         "alignmentgroup": "True",
         "hovertemplate": "cost_category=%{x}<br>service_duration=%{y}<extra></extra>",
         "legendgroup": "0400:0500",
         "marker": {
          "color": "#FF97FF"
         },
         "name": "0400:0500",
         "notched": false,
         "offsetgroup": "0400:0500",
         "orientation": "v",
         "showlegend": true,
         "type": "box",
         "x": [
          "0400:0500",
          "0400:0500",
          "0400:0500",
          "0400:0500",
          "0400:0500",
          "0400:0500",
          "0400:0500",
          "0400:0500",
          "0400:0500",
          "0400:0500",
          "0400:0500",
          "0400:0500",
          "0400:0500",
          "0400:0500",
          "0400:0500",
          "0400:0500",
          "0400:0500",
          "0400:0500",
          "0400:0500",
          "0400:0500",
          "0400:0500",
          "0400:0500",
          "0400:0500",
          "0400:0500",
          "0400:0500",
          "0400:0500"
         ],
         "x0": " ",
         "xaxis": "x",
         "y": [
          1,
          1,
          5,
          1,
          1,
          1,
          1,
          1,
          11,
          1,
          1,
          1,
          1,
          1,
          8,
          1,
          1,
          1,
          1,
          1,
          6,
          1,
          1,
          1,
          1,
          1
         ],
         "y0": " ",
         "yaxis": "y"
        },
        {
         "alignmentgroup": "True",
         "hovertemplate": "cost_category=%{x}<br>service_duration=%{y}<extra></extra>",
         "legendgroup": "1000:1500",
         "marker": {
          "color": "#FECB52"
         },
         "name": "1000:1500",
         "notched": false,
         "offsetgroup": "1000:1500",
         "orientation": "v",
         "showlegend": true,
         "type": "box",
         "x": [
          "1000:1500",
          "1000:1500",
          "1000:1500",
          "1000:1500",
          "1000:1500",
          "1000:1500"
         ],
         "x0": " ",
         "xaxis": "x",
         "y": [
          1,
          2,
          1,
          11,
          11,
          4
         ],
         "y0": " ",
         "yaxis": "y"
        },
        {
         "alignmentgroup": "True",
         "hovertemplate": "cost_category=%{x}<br>service_duration=%{y}<extra></extra>",
         "legendgroup": "2000:3000",
         "marker": {
          "color": "#636efa"
         },
         "name": "2000:3000",
         "notched": false,
         "offsetgroup": "2000:3000",
         "orientation": "v",
         "showlegend": true,
         "type": "box",
         "x": [
          "2000:3000",
          "2000:3000"
         ],
         "x0": " ",
         "xaxis": "x",
         "y": [
          30,
          70
         ],
         "y0": " ",
         "yaxis": "y"
        },
        {
         "alignmentgroup": "True",
         "hovertemplate": "cost_category=%{x}<br>service_duration=%{y}<extra></extra>",
         "legendgroup": "0800:0900",
         "marker": {
          "color": "#EF553B"
         },
         "name": "0800:0900",
         "notched": false,
         "offsetgroup": "0800:0900",
         "orientation": "v",
         "showlegend": true,
         "type": "box",
         "x": [
          "0800:0900"
         ],
         "x0": " ",
         "xaxis": "x",
         "y": [
          10
         ],
         "y0": " ",
         "yaxis": "y"
        },
        {
         "alignmentgroup": "True",
         "hovertemplate": "cost_category=%{x}<br>service_duration=%{y}<extra></extra>",
         "legendgroup": "0900:1000",
         "marker": {
          "color": "#00cc96"
         },
         "name": "0900:1000",
         "notched": false,
         "offsetgroup": "0900:1000",
         "orientation": "v",
         "showlegend": true,
         "type": "box",
         "x": [
          "0900:1000"
         ],
         "x0": " ",
         "xaxis": "x",
         "y": [
          14
         ],
         "y0": " ",
         "yaxis": "y"
        },
        {
         "alignmentgroup": "True",
         "hovertemplate": "cost_category=%{x}<br>service_duration=%{y}<extra></extra>",
         "legendgroup": "0700:0800",
         "marker": {
          "color": "#ab63fa"
         },
         "name": "0700:0800",
         "notched": false,
         "offsetgroup": "0700:0800",
         "orientation": "v",
         "showlegend": true,
         "type": "box",
         "x": [
          "0700:0800",
          "0700:0800",
          "0700:0800",
          "0700:0800",
          "0700:0800"
         ],
         "x0": " ",
         "xaxis": "x",
         "y": [
          11,
          12,
          6,
          8,
          9
         ],
         "y0": " ",
         "yaxis": "y"
        },
        {
         "alignmentgroup": "True",
         "hovertemplate": "cost_category=%{x}<br>service_duration=%{y}<extra></extra>",
         "legendgroup": "1500:2000",
         "marker": {
          "color": "#FFA15A"
         },
         "name": "1500:2000",
         "notched": false,
         "offsetgroup": "1500:2000",
         "orientation": "v",
         "showlegend": true,
         "type": "box",
         "x": [
          "1500:2000"
         ],
         "x0": " ",
         "xaxis": "x",
         "y": [
          7
         ],
         "y0": " ",
         "yaxis": "y"
        }
       ],
       "layout": {
        "boxmode": "overlay",
        "legend": {
         "title": {
          "text": "cost_category"
         },
         "tracegroupgap": 0
        },
        "template": {
         "data": {
          "bar": [
           {
            "error_x": {
             "color": "#2a3f5f"
            },
            "error_y": {
             "color": "#2a3f5f"
            },
            "marker": {
             "line": {
              "color": "#E5ECF6",
              "width": 0.5
             },
             "pattern": {
              "fillmode": "overlay",
              "size": 10,
              "solidity": 0.2
             }
            },
            "type": "bar"
           }
          ],
          "barpolar": [
           {
            "marker": {
             "line": {
              "color": "#E5ECF6",
              "width": 0.5
             },
             "pattern": {
              "fillmode": "overlay",
              "size": 10,
              "solidity": 0.2
             }
            },
            "type": "barpolar"
           }
          ],
          "carpet": [
           {
            "aaxis": {
             "endlinecolor": "#2a3f5f",
             "gridcolor": "white",
             "linecolor": "white",
             "minorgridcolor": "white",
             "startlinecolor": "#2a3f5f"
            },
            "baxis": {
             "endlinecolor": "#2a3f5f",
             "gridcolor": "white",
             "linecolor": "white",
             "minorgridcolor": "white",
             "startlinecolor": "#2a3f5f"
            },
            "type": "carpet"
           }
          ],
          "choropleth": [
           {
            "colorbar": {
             "outlinewidth": 0,
             "ticks": ""
            },
            "type": "choropleth"
           }
          ],
          "contour": [
           {
            "colorbar": {
             "outlinewidth": 0,
             "ticks": ""
            },
            "colorscale": [
             [
              0,
              "#0d0887"
             ],
             [
              0.1111111111111111,
              "#46039f"
             ],
             [
              0.2222222222222222,
              "#7201a8"
             ],
             [
              0.3333333333333333,
              "#9c179e"
             ],
             [
              0.4444444444444444,
              "#bd3786"
             ],
             [
              0.5555555555555556,
              "#d8576b"
             ],
             [
              0.6666666666666666,
              "#ed7953"
             ],
             [
              0.7777777777777778,
              "#fb9f3a"
             ],
             [
              0.8888888888888888,
              "#fdca26"
             ],
             [
              1,
              "#f0f921"
             ]
            ],
            "type": "contour"
           }
          ],
          "contourcarpet": [
           {
            "colorbar": {
             "outlinewidth": 0,
             "ticks": ""
            },
            "type": "contourcarpet"
           }
          ],
          "heatmap": [
           {
            "colorbar": {
             "outlinewidth": 0,
             "ticks": ""
            },
            "colorscale": [
             [
              0,
              "#0d0887"
             ],
             [
              0.1111111111111111,
              "#46039f"
             ],
             [
              0.2222222222222222,
              "#7201a8"
             ],
             [
              0.3333333333333333,
              "#9c179e"
             ],
             [
              0.4444444444444444,
              "#bd3786"
             ],
             [
              0.5555555555555556,
              "#d8576b"
             ],
             [
              0.6666666666666666,
              "#ed7953"
             ],
             [
              0.7777777777777778,
              "#fb9f3a"
             ],
             [
              0.8888888888888888,
              "#fdca26"
             ],
             [
              1,
              "#f0f921"
             ]
            ],
            "type": "heatmap"
           }
          ],
          "heatmapgl": [
           {
            "colorbar": {
             "outlinewidth": 0,
             "ticks": ""
            },
            "colorscale": [
             [
              0,
              "#0d0887"
             ],
             [
              0.1111111111111111,
              "#46039f"
             ],
             [
              0.2222222222222222,
              "#7201a8"
             ],
             [
              0.3333333333333333,
              "#9c179e"
             ],
             [
              0.4444444444444444,
              "#bd3786"
             ],
             [
              0.5555555555555556,
              "#d8576b"
             ],
             [
              0.6666666666666666,
              "#ed7953"
             ],
             [
              0.7777777777777778,
              "#fb9f3a"
             ],
             [
              0.8888888888888888,
              "#fdca26"
             ],
             [
              1,
              "#f0f921"
             ]
            ],
            "type": "heatmapgl"
           }
          ],
          "histogram": [
           {
            "marker": {
             "pattern": {
              "fillmode": "overlay",
              "size": 10,
              "solidity": 0.2
             }
            },
            "type": "histogram"
           }
          ],
          "histogram2d": [
           {
            "colorbar": {
             "outlinewidth": 0,
             "ticks": ""
            },
            "colorscale": [
             [
              0,
              "#0d0887"
             ],
             [
              0.1111111111111111,
              "#46039f"
             ],
             [
              0.2222222222222222,
              "#7201a8"
             ],
             [
              0.3333333333333333,
              "#9c179e"
             ],
             [
              0.4444444444444444,
              "#bd3786"
             ],
             [
              0.5555555555555556,
              "#d8576b"
             ],
             [
              0.6666666666666666,
              "#ed7953"
             ],
             [
              0.7777777777777778,
              "#fb9f3a"
             ],
             [
              0.8888888888888888,
              "#fdca26"
             ],
             [
              1,
              "#f0f921"
             ]
            ],
            "type": "histogram2d"
           }
          ],
          "histogram2dcontour": [
           {
            "colorbar": {
             "outlinewidth": 0,
             "ticks": ""
            },
            "colorscale": [
             [
              0,
              "#0d0887"
             ],
             [
              0.1111111111111111,
              "#46039f"
             ],
             [
              0.2222222222222222,
              "#7201a8"
             ],
             [
              0.3333333333333333,
              "#9c179e"
             ],
             [
              0.4444444444444444,
              "#bd3786"
             ],
             [
              0.5555555555555556,
              "#d8576b"
             ],
             [
              0.6666666666666666,
              "#ed7953"
             ],
             [
              0.7777777777777778,
              "#fb9f3a"
             ],
             [
              0.8888888888888888,
              "#fdca26"
             ],
             [
              1,
              "#f0f921"
             ]
            ],
            "type": "histogram2dcontour"
           }
          ],
          "mesh3d": [
           {
            "colorbar": {
             "outlinewidth": 0,
             "ticks": ""
            },
            "type": "mesh3d"
           }
          ],
          "parcoords": [
           {
            "line": {
             "colorbar": {
              "outlinewidth": 0,
              "ticks": ""
             }
            },
            "type": "parcoords"
           }
          ],
          "pie": [
           {
            "automargin": true,
            "type": "pie"
           }
          ],
          "scatter": [
           {
            "fillpattern": {
             "fillmode": "overlay",
             "size": 10,
             "solidity": 0.2
            },
            "type": "scatter"
           }
          ],
          "scatter3d": [
           {
            "line": {
             "colorbar": {
              "outlinewidth": 0,
              "ticks": ""
             }
            },
            "marker": {
             "colorbar": {
              "outlinewidth": 0,
              "ticks": ""
             }
            },
            "type": "scatter3d"
           }
          ],
          "scattercarpet": [
           {
            "marker": {
             "colorbar": {
              "outlinewidth": 0,
              "ticks": ""
             }
            },
            "type": "scattercarpet"
           }
          ],
          "scattergeo": [
           {
            "marker": {
             "colorbar": {
              "outlinewidth": 0,
              "ticks": ""
             }
            },
            "type": "scattergeo"
           }
          ],
          "scattergl": [
           {
            "marker": {
             "colorbar": {
              "outlinewidth": 0,
              "ticks": ""
             }
            },
            "type": "scattergl"
           }
          ],
          "scattermapbox": [
           {
            "marker": {
             "colorbar": {
              "outlinewidth": 0,
              "ticks": ""
             }
            },
            "type": "scattermapbox"
           }
          ],
          "scatterpolar": [
           {
            "marker": {
             "colorbar": {
              "outlinewidth": 0,
              "ticks": ""
             }
            },
            "type": "scatterpolar"
           }
          ],
          "scatterpolargl": [
           {
            "marker": {
             "colorbar": {
              "outlinewidth": 0,
              "ticks": ""
             }
            },
            "type": "scatterpolargl"
           }
          ],
          "scatterternary": [
           {
            "marker": {
             "colorbar": {
              "outlinewidth": 0,
              "ticks": ""
             }
            },
            "type": "scatterternary"
           }
          ],
          "surface": [
           {
            "colorbar": {
             "outlinewidth": 0,
             "ticks": ""
            },
            "colorscale": [
             [
              0,
              "#0d0887"
             ],
             [
              0.1111111111111111,
              "#46039f"
             ],
             [
              0.2222222222222222,
              "#7201a8"
             ],
             [
              0.3333333333333333,
              "#9c179e"
             ],
             [
              0.4444444444444444,
              "#bd3786"
             ],
             [
              0.5555555555555556,
              "#d8576b"
             ],
             [
              0.6666666666666666,
              "#ed7953"
             ],
             [
              0.7777777777777778,
              "#fb9f3a"
             ],
             [
              0.8888888888888888,
              "#fdca26"
             ],
             [
              1,
              "#f0f921"
             ]
            ],
            "type": "surface"
           }
          ],
          "table": [
           {
            "cells": {
             "fill": {
              "color": "#EBF0F8"
             },
             "line": {
              "color": "white"
             }
            },
            "header": {
             "fill": {
              "color": "#C8D4E3"
             },
             "line": {
              "color": "white"
             }
            },
            "type": "table"
           }
          ]
         },
         "layout": {
          "annotationdefaults": {
           "arrowcolor": "#2a3f5f",
           "arrowhead": 0,
           "arrowwidth": 1
          },
          "autotypenumbers": "strict",
          "coloraxis": {
           "colorbar": {
            "outlinewidth": 0,
            "ticks": ""
           }
          },
          "colorscale": {
           "diverging": [
            [
             0,
             "#8e0152"
            ],
            [
             0.1,
             "#c51b7d"
            ],
            [
             0.2,
             "#de77ae"
            ],
            [
             0.3,
             "#f1b6da"
            ],
            [
             0.4,
             "#fde0ef"
            ],
            [
             0.5,
             "#f7f7f7"
            ],
            [
             0.6,
             "#e6f5d0"
            ],
            [
             0.7,
             "#b8e186"
            ],
            [
             0.8,
             "#7fbc41"
            ],
            [
             0.9,
             "#4d9221"
            ],
            [
             1,
             "#276419"
            ]
           ],
           "sequential": [
            [
             0,
             "#0d0887"
            ],
            [
             0.1111111111111111,
             "#46039f"
            ],
            [
             0.2222222222222222,
             "#7201a8"
            ],
            [
             0.3333333333333333,
             "#9c179e"
            ],
            [
             0.4444444444444444,
             "#bd3786"
            ],
            [
             0.5555555555555556,
             "#d8576b"
            ],
            [
             0.6666666666666666,
             "#ed7953"
            ],
            [
             0.7777777777777778,
             "#fb9f3a"
            ],
            [
             0.8888888888888888,
             "#fdca26"
            ],
            [
             1,
             "#f0f921"
            ]
           ],
           "sequentialminus": [
            [
             0,
             "#0d0887"
            ],
            [
             0.1111111111111111,
             "#46039f"
            ],
            [
             0.2222222222222222,
             "#7201a8"
            ],
            [
             0.3333333333333333,
             "#9c179e"
            ],
            [
             0.4444444444444444,
             "#bd3786"
            ],
            [
             0.5555555555555556,
             "#d8576b"
            ],
            [
             0.6666666666666666,
             "#ed7953"
            ],
            [
             0.7777777777777778,
             "#fb9f3a"
            ],
            [
             0.8888888888888888,
             "#fdca26"
            ],
            [
             1,
             "#f0f921"
            ]
           ]
          },
          "colorway": [
           "#636efa",
           "#EF553B",
           "#00cc96",
           "#ab63fa",
           "#FFA15A",
           "#19d3f3",
           "#FF6692",
           "#B6E880",
           "#FF97FF",
           "#FECB52"
          ],
          "font": {
           "color": "#2a3f5f"
          },
          "geo": {
           "bgcolor": "white",
           "lakecolor": "white",
           "landcolor": "#E5ECF6",
           "showlakes": true,
           "showland": true,
           "subunitcolor": "white"
          },
          "hoverlabel": {
           "align": "left"
          },
          "hovermode": "closest",
          "mapbox": {
           "style": "light"
          },
          "paper_bgcolor": "white",
          "plot_bgcolor": "#E5ECF6",
          "polar": {
           "angularaxis": {
            "gridcolor": "white",
            "linecolor": "white",
            "ticks": ""
           },
           "bgcolor": "#E5ECF6",
           "radialaxis": {
            "gridcolor": "white",
            "linecolor": "white",
            "ticks": ""
           }
          },
          "scene": {
           "xaxis": {
            "backgroundcolor": "#E5ECF6",
            "gridcolor": "white",
            "gridwidth": 2,
            "linecolor": "white",
            "showbackground": true,
            "ticks": "",
            "zerolinecolor": "white"
           },
           "yaxis": {
            "backgroundcolor": "#E5ECF6",
            "gridcolor": "white",
            "gridwidth": 2,
            "linecolor": "white",
            "showbackground": true,
            "ticks": "",
            "zerolinecolor": "white"
           },
           "zaxis": {
            "backgroundcolor": "#E5ECF6",
            "gridcolor": "white",
            "gridwidth": 2,
            "linecolor": "white",
            "showbackground": true,
            "ticks": "",
            "zerolinecolor": "white"
           }
          },
          "shapedefaults": {
           "line": {
            "color": "#2a3f5f"
           }
          },
          "ternary": {
           "aaxis": {
            "gridcolor": "white",
            "linecolor": "white",
            "ticks": ""
           },
           "baxis": {
            "gridcolor": "white",
            "linecolor": "white",
            "ticks": ""
           },
           "bgcolor": "#E5ECF6",
           "caxis": {
            "gridcolor": "white",
            "linecolor": "white",
            "ticks": ""
           }
          },
          "title": {
           "x": 0.05
          },
          "xaxis": {
           "automargin": true,
           "gridcolor": "white",
           "linecolor": "white",
           "ticks": "",
           "title": {
            "standoff": 15
           },
           "zerolinecolor": "white",
           "zerolinewidth": 2
          },
          "yaxis": {
           "automargin": true,
           "gridcolor": "white",
           "linecolor": "white",
           "ticks": "",
           "title": {
            "standoff": 15
           },
           "zerolinecolor": "white",
           "zerolinewidth": 2
          }
         }
        },
        "title": {
         "text": "Comparison of service duration across different cost categories",
         "x": 0.5
        },
        "xaxis": {
         "anchor": "y",
         "categoryarray": [
          "0150:0200",
          "0200:0300",
          "0050:0100",
          "0600:0700",
          "0300:0400",
          "0001:0050",
          "0100:0150",
          "0500:0600",
          "0400:0500",
          "1000:1500",
          "2000:3000",
          "0800:0900",
          "0900:1000",
          "0700:0800",
          "1500:2000"
         ],
         "categoryorder": "array",
         "domain": [
          0,
          1
         ],
         "title": {
          "text": "cost_category"
         }
        },
        "yaxis": {
         "anchor": "x",
         "domain": [
          0,
          1
         ],
         "title": {
          "text": "service_duration"
         }
        }
       }
      },
      "text/html": [
       "<div>                            <div id=\"37fa1dd7-3e96-4bcb-b32f-94c2a35d79b9\" class=\"plotly-graph-div\" style=\"height:525px; width:100%;\"></div>            <script type=\"text/javascript\">                require([\"plotly\"], function(Plotly) {                    window.PLOTLYENV=window.PLOTLYENV || {};                                    if (document.getElementById(\"37fa1dd7-3e96-4bcb-b32f-94c2a35d79b9\")) {                    Plotly.newPlot(                        \"37fa1dd7-3e96-4bcb-b32f-94c2a35d79b9\",                        [{\"alignmentgroup\":\"True\",\"hovertemplate\":\"cost_category=%{x}\\u003cbr\\u003eservice_duration=%{y}\\u003cextra\\u003e\\u003c\\u002fextra\\u003e\",\"legendgroup\":\"0150:0200\",\"marker\":{\"color\":\"#636efa\"},\"name\":\"0150:0200\",\"notched\":false,\"offsetgroup\":\"0150:0200\",\"orientation\":\"v\",\"showlegend\":true,\"x\":[\"0150:0200\",\"0150:0200\",\"0150:0200\",\"0150:0200\",\"0150:0200\",\"0150:0200\",\"0150:0200\",\"0150:0200\",\"0150:0200\",\"0150:0200\",\"0150:0200\",\"0150:0200\",\"0150:0200\",\"0150:0200\",\"0150:0200\",\"0150:0200\",\"0150:0200\",\"0150:0200\",\"0150:0200\",\"0150:0200\",\"0150:0200\",\"0150:0200\",\"0150:0200\",\"0150:0200\",\"0150:0200\",\"0150:0200\",\"0150:0200\",\"0150:0200\",\"0150:0200\",\"0150:0200\"],\"x0\":\" \",\"xaxis\":\"x\",\"y\":[5,1,4,1,1,4,3,4,1,1,1,1,4,4,7,8,2,6,6,5,4,24,1,1,1,1,1,1,5,1],\"y0\":\" \",\"yaxis\":\"y\",\"type\":\"box\"},{\"alignmentgroup\":\"True\",\"hovertemplate\":\"cost_category=%{x}\\u003cbr\\u003eservice_duration=%{y}\\u003cextra\\u003e\\u003c\\u002fextra\\u003e\",\"legendgroup\":\"0200:0300\",\"marker\":{\"color\":\"#EF553B\"},\"name\":\"0200:0300\",\"notched\":false,\"offsetgroup\":\"0200:0300\",\"orientation\":\"v\",\"showlegend\":true,\"x\":[\"0200:0300\",\"0200:0300\",\"0200:0300\",\"0200:0300\",\"0200:0300\",\"0200:0300\",\"0200:0300\",\"0200:0300\",\"0200:0300\",\"0200:0300\",\"0200:0300\",\"0200:0300\",\"0200:0300\",\"0200:0300\",\"0200:0300\",\"0200:0300\",\"0200:0300\",\"0200:0300\",\"0200:0300\",\"0200:0300\",\"0200:0300\",\"0200:0300\",\"0200:0300\",\"0200:0300\",\"0200:0300\",\"0200:0300\",\"0200:0300\",\"0200:0300\",\"0200:0300\",\"0200:0300\",\"0200:0300\",\"0200:0300\",\"0200:0300\",\"0200:0300\",\"0200:0300\",\"0200:0300\",\"0200:0300\",\"0200:0300\",\"0200:0300\",\"0200:0300\",\"0200:0300\",\"0200:0300\",\"0200:0300\",\"0200:0300\",\"0200:0300\",\"0200:0300\",\"0200:0300\",\"0200:0300\",\"0200:0300\",\"0200:0300\",\"0200:0300\",\"0200:0300\",\"0200:0300\",\"0200:0300\",\"0200:0300\",\"0200:0300\",\"0200:0300\",\"0200:0300\",\"0200:0300\",\"0200:0300\",\"0200:0300\",\"0200:0300\",\"0200:0300\",\"0200:0300\",\"0200:0300\",\"0200:0300\",\"0200:0300\",\"0200:0300\",\"0200:0300\",\"0200:0300\",\"0200:0300\",\"0200:0300\",\"0200:0300\",\"0200:0300\",\"0200:0300\",\"0200:0300\",\"0200:0300\",\"0200:0300\",\"0200:0300\",\"0200:0300\",\"0200:0300\",\"0200:0300\",\"0200:0300\",\"0200:0300\",\"0200:0300\",\"0200:0300\",\"0200:0300\",\"0200:0300\",\"0200:0300\",\"0200:0300\",\"0200:0300\",\"0200:0300\",\"0200:0300\",\"0200:0300\",\"0200:0300\",\"0200:0300\",\"0200:0300\",\"0200:0300\",\"0200:0300\",\"0200:0300\",\"0200:0300\",\"0200:0300\",\"0200:0300\",\"0200:0300\",\"0200:0300\",\"0200:0300\",\"0200:0300\",\"0200:0300\",\"0200:0300\",\"0200:0300\",\"0200:0300\",\"0200:0300\",\"0200:0300\",\"0200:0300\",\"0200:0300\",\"0200:0300\",\"0200:0300\",\"0200:0300\",\"0200:0300\",\"0200:0300\",\"0200:0300\",\"0200:0300\",\"0200:0300\",\"0200:0300\",\"0200:0300\",\"0200:0300\",\"0200:0300\",\"0200:0300\",\"0200:0300\",\"0200:0300\",\"0200:0300\",\"0200:0300\",\"0200:0300\",\"0200:0300\",\"0200:0300\",\"0200:0300\",\"0200:0300\",\"0200:0300\",\"0200:0300\",\"0200:0300\",\"0200:0300\",\"0200:0300\",\"0200:0300\",\"0200:0300\",\"0200:0300\",\"0200:0300\",\"0200:0300\",\"0200:0300\",\"0200:0300\",\"0200:0300\",\"0200:0300\",\"0200:0300\",\"0200:0300\",\"0200:0300\",\"0200:0300\",\"0200:0300\",\"0200:0300\"],\"x0\":\" \",\"xaxis\":\"x\",\"y\":[5,6,6,4,13,1,1,6,4,12,1,11,5,18,5,2,3,6,4,3,7,8,4,5,3,11,9,3,7,1,1,1,1,2,1,3,7,11,6,7,5,5,6,7,4,7,3,8,1,1,1,1,1,6,1,4,5,5,1,1,7,6,7,1,1,1,1,1,9,8,1,1,1,4,4,5,6,1,7,7,1,1,8,1,5,4,1,1,4,1,1,1,1,1,1,1,1,1,1,1,5,5,1,4,4,5,1,1,1,6,1,1,5,1,1,4,3,5,5,6,4,4,3,4,5,4,4,5,4,5,4,4,5,3,1,1,1,7,7,8,6,1,5,5,4,5,5,4,6,7,1,6,1,5,6,1,8],\"y0\":\" \",\"yaxis\":\"y\",\"type\":\"box\"},{\"alignmentgroup\":\"True\",\"hovertemplate\":\"cost_category=%{x}\\u003cbr\\u003eservice_duration=%{y}\\u003cextra\\u003e\\u003c\\u002fextra\\u003e\",\"legendgroup\":\"0050:0100\",\"marker\":{\"color\":\"#00cc96\"},\"name\":\"0050:0100\",\"notched\":false,\"offsetgroup\":\"0050:0100\",\"orientation\":\"v\",\"showlegend\":true,\"x\":[\"0050:0100\",\"0050:0100\",\"0050:0100\",\"0050:0100\",\"0050:0100\",\"0050:0100\",\"0050:0100\",\"0050:0100\",\"0050:0100\",\"0050:0100\",\"0050:0100\",\"0050:0100\",\"0050:0100\",\"0050:0100\",\"0050:0100\",\"0050:0100\",\"0050:0100\",\"0050:0100\",\"0050:0100\",\"0050:0100\",\"0050:0100\",\"0050:0100\",\"0050:0100\",\"0050:0100\",\"0050:0100\",\"0050:0100\",\"0050:0100\",\"0050:0100\",\"0050:0100\",\"0050:0100\",\"0050:0100\",\"0050:0100\",\"0050:0100\",\"0050:0100\",\"0050:0100\",\"0050:0100\",\"0050:0100\",\"0050:0100\",\"0050:0100\",\"0050:0100\",\"0050:0100\",\"0050:0100\",\"0050:0100\",\"0050:0100\",\"0050:0100\",\"0050:0100\",\"0050:0100\",\"0050:0100\",\"0050:0100\",\"0050:0100\",\"0050:0100\",\"0050:0100\",\"0050:0100\",\"0050:0100\",\"0050:0100\",\"0050:0100\",\"0050:0100\",\"0050:0100\",\"0050:0100\",\"0050:0100\",\"0050:0100\",\"0050:0100\",\"0050:0100\",\"0050:0100\",\"0050:0100\",\"0050:0100\",\"0050:0100\",\"0050:0100\",\"0050:0100\",\"0050:0100\",\"0050:0100\",\"0050:0100\",\"0050:0100\",\"0050:0100\",\"0050:0100\",\"0050:0100\",\"0050:0100\",\"0050:0100\",\"0050:0100\",\"0050:0100\",\"0050:0100\",\"0050:0100\",\"0050:0100\",\"0050:0100\",\"0050:0100\",\"0050:0100\",\"0050:0100\",\"0050:0100\",\"0050:0100\",\"0050:0100\",\"0050:0100\",\"0050:0100\",\"0050:0100\",\"0050:0100\",\"0050:0100\",\"0050:0100\",\"0050:0100\",\"0050:0100\",\"0050:0100\",\"0050:0100\",\"0050:0100\",\"0050:0100\",\"0050:0100\",\"0050:0100\",\"0050:0100\",\"0050:0100\",\"0050:0100\",\"0050:0100\",\"0050:0100\",\"0050:0100\",\"0050:0100\",\"0050:0100\",\"0050:0100\",\"0050:0100\",\"0050:0100\",\"0050:0100\",\"0050:0100\",\"0050:0100\",\"0050:0100\",\"0050:0100\",\"0050:0100\",\"0050:0100\",\"0050:0100\",\"0050:0100\",\"0050:0100\",\"0050:0100\",\"0050:0100\",\"0050:0100\",\"0050:0100\",\"0050:0100\",\"0050:0100\",\"0050:0100\",\"0050:0100\",\"0050:0100\",\"0050:0100\",\"0050:0100\",\"0050:0100\",\"0050:0100\",\"0050:0100\",\"0050:0100\",\"0050:0100\",\"0050:0100\",\"0050:0100\",\"0050:0100\",\"0050:0100\",\"0050:0100\",\"0050:0100\",\"0050:0100\",\"0050:0100\",\"0050:0100\",\"0050:0100\",\"0050:0100\",\"0050:0100\",\"0050:0100\",\"0050:0100\",\"0050:0100\",\"0050:0100\",\"0050:0100\",\"0050:0100\",\"0050:0100\",\"0050:0100\",\"0050:0100\",\"0050:0100\",\"0050:0100\",\"0050:0100\",\"0050:0100\",\"0050:0100\",\"0050:0100\",\"0050:0100\",\"0050:0100\",\"0050:0100\",\"0050:0100\",\"0050:0100\",\"0050:0100\",\"0050:0100\",\"0050:0100\",\"0050:0100\",\"0050:0100\",\"0050:0100\",\"0050:0100\",\"0050:0100\",\"0050:0100\",\"0050:0100\",\"0050:0100\",\"0050:0100\",\"0050:0100\",\"0050:0100\",\"0050:0100\",\"0050:0100\",\"0050:0100\",\"0050:0100\",\"0050:0100\",\"0050:0100\",\"0050:0100\",\"0050:0100\",\"0050:0100\",\"0050:0100\",\"0050:0100\",\"0050:0100\",\"0050:0100\",\"0050:0100\",\"0050:0100\",\"0050:0100\",\"0050:0100\",\"0050:0100\",\"0050:0100\",\"0050:0100\",\"0050:0100\",\"0050:0100\",\"0050:0100\",\"0050:0100\",\"0050:0100\",\"0050:0100\",\"0050:0100\",\"0050:0100\",\"0050:0100\",\"0050:0100\",\"0050:0100\",\"0050:0100\",\"0050:0100\",\"0050:0100\",\"0050:0100\",\"0050:0100\",\"0050:0100\",\"0050:0100\",\"0050:0100\",\"0050:0100\",\"0050:0100\",\"0050:0100\",\"0050:0100\",\"0050:0100\",\"0050:0100\",\"0050:0100\",\"0050:0100\",\"0050:0100\",\"0050:0100\",\"0050:0100\",\"0050:0100\",\"0050:0100\",\"0050:0100\",\"0050:0100\",\"0050:0100\",\"0050:0100\",\"0050:0100\",\"0050:0100\",\"0050:0100\",\"0050:0100\",\"0050:0100\",\"0050:0100\",\"0050:0100\",\"0050:0100\",\"0050:0100\",\"0050:0100\",\"0050:0100\",\"0050:0100\",\"0050:0100\",\"0050:0100\",\"0050:0100\",\"0050:0100\",\"0050:0100\",\"0050:0100\",\"0050:0100\",\"0050:0100\",\"0050:0100\",\"0050:0100\",\"0050:0100\",\"0050:0100\",\"0050:0100\",\"0050:0100\",\"0050:0100\",\"0050:0100\",\"0050:0100\",\"0050:0100\",\"0050:0100\",\"0050:0100\",\"0050:0100\",\"0050:0100\",\"0050:0100\",\"0050:0100\",\"0050:0100\",\"0050:0100\",\"0050:0100\",\"0050:0100\",\"0050:0100\",\"0050:0100\",\"0050:0100\",\"0050:0100\",\"0050:0100\",\"0050:0100\",\"0050:0100\",\"0050:0100\",\"0050:0100\",\"0050:0100\",\"0050:0100\",\"0050:0100\",\"0050:0100\",\"0050:0100\",\"0050:0100\",\"0050:0100\",\"0050:0100\",\"0050:0100\",\"0050:0100\",\"0050:0100\",\"0050:0100\",\"0050:0100\",\"0050:0100\",\"0050:0100\",\"0050:0100\"],\"x0\":\" \",\"xaxis\":\"x\",\"y\":[11,2,1,1,1,1,1,2,4,1,1,1,1,1,1,1,1,1,3,4,1,8,1,1,1,1,1,1,1,1,1,1,1,1,1,1,1,1,1,3,2,1,1,1,1,1,1,3,1,2,2,1,3,1,1,1,1,1,2,1,1,1,1,2,1,1,1,2,1,2,2,2,3,1,1,2,1,1,2,1,1,1,2,1,1,1,1,5,1,6,1,1,1,2,2,1,1,1,2,1,1,3,1,1,1,7,1,1,1,4,1,1,1,1,5,1,1,1,1,1,1,1,1,1,5,1,4,1,3,1,1,1,1,5,1,1,1,1,1,1,1,1,1,1,1,1,1,1,1,1,1,1,1,1,1,1,1,1,4,1,1,1,1,1,1,1,1,1,5,1,1,1,1,1,1,1,1,1,1,1,1,6,1,1,1,1,5,2,1,1,1,1,1,1,1,1,1,1,1,1,1,1,1,1,1,1,1,1,1,1,1,1,1,1,1,1,1,1,1,1,1,1,1,1,1,1,1,1,1,1,1,1,1,1,1,1,1,1,1,1,1,1,1,1,1,1,1,1,1,1,1,1,1,1,1,1,1,1,1,1,1,1,1,1,1,1,1,1,1,1,1,1,1,1,1,1,1,1,1,1,1,1,1,1,1,1,1,1,1,1,1,1,1,17,1,1,1,8,1,2,7,1,1,1,8,7,8,4],\"y0\":\" \",\"yaxis\":\"y\",\"type\":\"box\"},{\"alignmentgroup\":\"True\",\"hovertemplate\":\"cost_category=%{x}\\u003cbr\\u003eservice_duration=%{y}\\u003cextra\\u003e\\u003c\\u002fextra\\u003e\",\"legendgroup\":\"0600:0700\",\"marker\":{\"color\":\"#ab63fa\"},\"name\":\"0600:0700\",\"notched\":false,\"offsetgroup\":\"0600:0700\",\"orientation\":\"v\",\"showlegend\":true,\"x\":[\"0600:0700\",\"0600:0700\",\"0600:0700\",\"0600:0700\",\"0600:0700\",\"0600:0700\",\"0600:0700\",\"0600:0700\",\"0600:0700\",\"0600:0700\"],\"x0\":\" \",\"xaxis\":\"x\",\"y\":[8,1,9,1,1,7,1,1,4,5],\"y0\":\" \",\"yaxis\":\"y\",\"type\":\"box\"},{\"alignmentgroup\":\"True\",\"hovertemplate\":\"cost_category=%{x}\\u003cbr\\u003eservice_duration=%{y}\\u003cextra\\u003e\\u003c\\u002fextra\\u003e\",\"legendgroup\":\"0300:0400\",\"marker\":{\"color\":\"#FFA15A\"},\"name\":\"0300:0400\",\"notched\":false,\"offsetgroup\":\"0300:0400\",\"orientation\":\"v\",\"showlegend\":true,\"x\":[\"0300:0400\",\"0300:0400\",\"0300:0400\",\"0300:0400\",\"0300:0400\",\"0300:0400\",\"0300:0400\",\"0300:0400\",\"0300:0400\",\"0300:0400\",\"0300:0400\",\"0300:0400\",\"0300:0400\",\"0300:0400\",\"0300:0400\",\"0300:0400\",\"0300:0400\",\"0300:0400\",\"0300:0400\",\"0300:0400\",\"0300:0400\",\"0300:0400\",\"0300:0400\",\"0300:0400\",\"0300:0400\",\"0300:0400\",\"0300:0400\",\"0300:0400\",\"0300:0400\",\"0300:0400\",\"0300:0400\",\"0300:0400\",\"0300:0400\",\"0300:0400\",\"0300:0400\",\"0300:0400\",\"0300:0400\"],\"x0\":\" \",\"xaxis\":\"x\",\"y\":[1,11,5,1,1,1,1,1,1,14,1,1,2,11,6,1,1,1,1,7,1,1,6,9,1,1,1,1,1,1,5,1,1,9,11,8,7],\"y0\":\" \",\"yaxis\":\"y\",\"type\":\"box\"},{\"alignmentgroup\":\"True\",\"hovertemplate\":\"cost_category=%{x}\\u003cbr\\u003eservice_duration=%{y}\\u003cextra\\u003e\\u003c\\u002fextra\\u003e\",\"legendgroup\":\"0001:0050\",\"marker\":{\"color\":\"#19d3f3\"},\"name\":\"0001:0050\",\"notched\":false,\"offsetgroup\":\"0001:0050\",\"orientation\":\"v\",\"showlegend\":true,\"x\":[\"0001:0050\",\"0001:0050\",\"0001:0050\",\"0001:0050\",\"0001:0050\",\"0001:0050\",\"0001:0050\",\"0001:0050\",\"0001:0050\",\"0001:0050\",\"0001:0050\",\"0001:0050\",\"0001:0050\",\"0001:0050\",\"0001:0050\",\"0001:0050\",\"0001:0050\",\"0001:0050\",\"0001:0050\",\"0001:0050\",\"0001:0050\",\"0001:0050\",\"0001:0050\",\"0001:0050\",\"0001:0050\",\"0001:0050\",\"0001:0050\",\"0001:0050\",\"0001:0050\",\"0001:0050\",\"0001:0050\",\"0001:0050\",\"0001:0050\",\"0001:0050\",\"0001:0050\",\"0001:0050\",\"0001:0050\",\"0001:0050\",\"0001:0050\",\"0001:0050\",\"0001:0050\",\"0001:0050\",\"0001:0050\",\"0001:0050\",\"0001:0050\",\"0001:0050\",\"0001:0050\",\"0001:0050\",\"0001:0050\",\"0001:0050\",\"0001:0050\",\"0001:0050\",\"0001:0050\",\"0001:0050\",\"0001:0050\",\"0001:0050\",\"0001:0050\",\"0001:0050\",\"0001:0050\",\"0001:0050\",\"0001:0050\",\"0001:0050\",\"0001:0050\",\"0001:0050\",\"0001:0050\",\"0001:0050\",\"0001:0050\",\"0001:0050\",\"0001:0050\",\"0001:0050\",\"0001:0050\",\"0001:0050\",\"0001:0050\",\"0001:0050\",\"0001:0050\",\"0001:0050\",\"0001:0050\",\"0001:0050\",\"0001:0050\",\"0001:0050\",\"0001:0050\",\"0001:0050\",\"0001:0050\",\"0001:0050\",\"0001:0050\",\"0001:0050\",\"0001:0050\",\"0001:0050\",\"0001:0050\",\"0001:0050\",\"0001:0050\",\"0001:0050\",\"0001:0050\",\"0001:0050\",\"0001:0050\",\"0001:0050\",\"0001:0050\",\"0001:0050\",\"0001:0050\",\"0001:0050\",\"0001:0050\",\"0001:0050\",\"0001:0050\",\"0001:0050\",\"0001:0050\",\"0001:0050\",\"0001:0050\",\"0001:0050\",\"0001:0050\",\"0001:0050\",\"0001:0050\",\"0001:0050\",\"0001:0050\",\"0001:0050\",\"0001:0050\",\"0001:0050\",\"0001:0050\",\"0001:0050\",\"0001:0050\",\"0001:0050\",\"0001:0050\",\"0001:0050\",\"0001:0050\",\"0001:0050\",\"0001:0050\",\"0001:0050\",\"0001:0050\",\"0001:0050\",\"0001:0050\",\"0001:0050\",\"0001:0050\",\"0001:0050\",\"0001:0050\",\"0001:0050\",\"0001:0050\",\"0001:0050\",\"0001:0050\",\"0001:0050\",\"0001:0050\",\"0001:0050\",\"0001:0050\",\"0001:0050\",\"0001:0050\",\"0001:0050\",\"0001:0050\",\"0001:0050\",\"0001:0050\",\"0001:0050\",\"0001:0050\",\"0001:0050\",\"0001:0050\",\"0001:0050\",\"0001:0050\",\"0001:0050\",\"0001:0050\",\"0001:0050\",\"0001:0050\",\"0001:0050\",\"0001:0050\",\"0001:0050\",\"0001:0050\",\"0001:0050\",\"0001:0050\",\"0001:0050\",\"0001:0050\",\"0001:0050\",\"0001:0050\",\"0001:0050\",\"0001:0050\",\"0001:0050\",\"0001:0050\",\"0001:0050\",\"0001:0050\",\"0001:0050\",\"0001:0050\",\"0001:0050\",\"0001:0050\",\"0001:0050\",\"0001:0050\",\"0001:0050\",\"0001:0050\",\"0001:0050\",\"0001:0050\",\"0001:0050\",\"0001:0050\",\"0001:0050\",\"0001:0050\",\"0001:0050\",\"0001:0050\",\"0001:0050\",\"0001:0050\",\"0001:0050\",\"0001:0050\",\"0001:0050\",\"0001:0050\",\"0001:0050\",\"0001:0050\",\"0001:0050\",\"0001:0050\",\"0001:0050\",\"0001:0050\",\"0001:0050\",\"0001:0050\",\"0001:0050\",\"0001:0050\",\"0001:0050\",\"0001:0050\",\"0001:0050\",\"0001:0050\",\"0001:0050\",\"0001:0050\",\"0001:0050\",\"0001:0050\",\"0001:0050\",\"0001:0050\",\"0001:0050\",\"0001:0050\",\"0001:0050\",\"0001:0050\",\"0001:0050\",\"0001:0050\",\"0001:0050\",\"0001:0050\",\"0001:0050\",\"0001:0050\",\"0001:0050\",\"0001:0050\",\"0001:0050\",\"0001:0050\",\"0001:0050\",\"0001:0050\",\"0001:0050\",\"0001:0050\",\"0001:0050\",\"0001:0050\",\"0001:0050\",\"0001:0050\",\"0001:0050\",\"0001:0050\",\"0001:0050\",\"0001:0050\",\"0001:0050\",\"0001:0050\",\"0001:0050\",\"0001:0050\",\"0001:0050\",\"0001:0050\",\"0001:0050\",\"0001:0050\",\"0001:0050\",\"0001:0050\",\"0001:0050\",\"0001:0050\",\"0001:0050\",\"0001:0050\",\"0001:0050\",\"0001:0050\",\"0001:0050\",\"0001:0050\",\"0001:0050\",\"0001:0050\",\"0001:0050\",\"0001:0050\",\"0001:0050\",\"0001:0050\",\"0001:0050\",\"0001:0050\",\"0001:0050\",\"0001:0050\",\"0001:0050\",\"0001:0050\",\"0001:0050\",\"0001:0050\",\"0001:0050\",\"0001:0050\",\"0001:0050\",\"0001:0050\",\"0001:0050\",\"0001:0050\",\"0001:0050\",\"0001:0050\",\"0001:0050\",\"0001:0050\",\"0001:0050\",\"0001:0050\",\"0001:0050\",\"0001:0050\",\"0001:0050\",\"0001:0050\",\"0001:0050\",\"0001:0050\",\"0001:0050\",\"0001:0050\",\"0001:0050\",\"0001:0050\",\"0001:0050\",\"0001:0050\",\"0001:0050\",\"0001:0050\",\"0001:0050\",\"0001:0050\",\"0001:0050\",\"0001:0050\",\"0001:0050\",\"0001:0050\",\"0001:0050\",\"0001:0050\",\"0001:0050\",\"0001:0050\",\"0001:0050\",\"0001:0050\",\"0001:0050\",\"0001:0050\",\"0001:0050\",\"0001:0050\",\"0001:0050\",\"0001:0050\",\"0001:0050\",\"0001:0050\",\"0001:0050\",\"0001:0050\",\"0001:0050\",\"0001:0050\",\"0001:0050\",\"0001:0050\",\"0001:0050\",\"0001:0050\",\"0001:0050\",\"0001:0050\",\"0001:0050\",\"0001:0050\",\"0001:0050\",\"0001:0050\",\"0001:0050\",\"0001:0050\",\"0001:0050\",\"0001:0050\",\"0001:0050\",\"0001:0050\",\"0001:0050\",\"0001:0050\",\"0001:0050\",\"0001:0050\",\"0001:0050\",\"0001:0050\",\"0001:0050\",\"0001:0050\",\"0001:0050\",\"0001:0050\",\"0001:0050\",\"0001:0050\",\"0001:0050\",\"0001:0050\",\"0001:0050\",\"0001:0050\",\"0001:0050\",\"0001:0050\",\"0001:0050\",\"0001:0050\",\"0001:0050\",\"0001:0050\",\"0001:0050\",\"0001:0050\",\"0001:0050\",\"0001:0050\",\"0001:0050\",\"0001:0050\",\"0001:0050\",\"0001:0050\",\"0001:0050\",\"0001:0050\",\"0001:0050\",\"0001:0050\",\"0001:0050\",\"0001:0050\",\"0001:0050\",\"0001:0050\",\"0001:0050\",\"0001:0050\",\"0001:0050\",\"0001:0050\",\"0001:0050\",\"0001:0050\",\"0001:0050\",\"0001:0050\",\"0001:0050\",\"0001:0050\",\"0001:0050\",\"0001:0050\",\"0001:0050\",\"0001:0050\",\"0001:0050\",\"0001:0050\",\"0001:0050\",\"0001:0050\",\"0001:0050\",\"0001:0050\",\"0001:0050\",\"0001:0050\",\"0001:0050\",\"0001:0050\",\"0001:0050\",\"0001:0050\",\"0001:0050\",\"0001:0050\",\"0001:0050\",\"0001:0050\",\"0001:0050\",\"0001:0050\",\"0001:0050\",\"0001:0050\",\"0001:0050\",\"0001:0050\",\"0001:0050\",\"0001:0050\",\"0001:0050\",\"0001:0050\",\"0001:0050\",\"0001:0050\",\"0001:0050\",\"0001:0050\",\"0001:0050\",\"0001:0050\",\"0001:0050\",\"0001:0050\",\"0001:0050\",\"0001:0050\",\"0001:0050\",\"0001:0050\",\"0001:0050\",\"0001:0050\",\"0001:0050\",\"0001:0050\",\"0001:0050\",\"0001:0050\",\"0001:0050\",\"0001:0050\",\"0001:0050\",\"0001:0050\",\"0001:0050\",\"0001:0050\",\"0001:0050\",\"0001:0050\",\"0001:0050\",\"0001:0050\",\"0001:0050\",\"0001:0050\",\"0001:0050\",\"0001:0050\",\"0001:0050\",\"0001:0050\",\"0001:0050\",\"0001:0050\",\"0001:0050\",\"0001:0050\",\"0001:0050\",\"0001:0050\",\"0001:0050\",\"0001:0050\",\"0001:0050\",\"0001:0050\",\"0001:0050\",\"0001:0050\",\"0001:0050\",\"0001:0050\",\"0001:0050\",\"0001:0050\",\"0001:0050\",\"0001:0050\",\"0001:0050\",\"0001:0050\",\"0001:0050\",\"0001:0050\",\"0001:0050\",\"0001:0050\",\"0001:0050\",\"0001:0050\",\"0001:0050\",\"0001:0050\",\"0001:0050\",\"0001:0050\",\"0001:0050\",\"0001:0050\",\"0001:0050\",\"0001:0050\",\"0001:0050\",\"0001:0050\",\"0001:0050\",\"0001:0050\",\"0001:0050\",\"0001:0050\",\"0001:0050\",\"0001:0050\",\"0001:0050\",\"0001:0050\",\"0001:0050\",\"0001:0050\",\"0001:0050\",\"0001:0050\",\"0001:0050\",\"0001:0050\",\"0001:0050\",\"0001:0050\",\"0001:0050\",\"0001:0050\",\"0001:0050\",\"0001:0050\",\"0001:0050\",\"0001:0050\",\"0001:0050\",\"0001:0050\",\"0001:0050\",\"0001:0050\",\"0001:0050\",\"0001:0050\",\"0001:0050\",\"0001:0050\",\"0001:0050\",\"0001:0050\",\"0001:0050\",\"0001:0050\",\"0001:0050\",\"0001:0050\",\"0001:0050\",\"0001:0050\",\"0001:0050\",\"0001:0050\",\"0001:0050\",\"0001:0050\",\"0001:0050\",\"0001:0050\",\"0001:0050\",\"0001:0050\",\"0001:0050\",\"0001:0050\",\"0001:0050\",\"0001:0050\",\"0001:0050\",\"0001:0050\",\"0001:0050\",\"0001:0050\",\"0001:0050\",\"0001:0050\",\"0001:0050\",\"0001:0050\",\"0001:0050\",\"0001:0050\",\"0001:0050\",\"0001:0050\",\"0001:0050\",\"0001:0050\",\"0001:0050\",\"0001:0050\",\"0001:0050\",\"0001:0050\",\"0001:0050\",\"0001:0050\",\"0001:0050\",\"0001:0050\",\"0001:0050\",\"0001:0050\",\"0001:0050\",\"0001:0050\",\"0001:0050\",\"0001:0050\",\"0001:0050\",\"0001:0050\",\"0001:0050\",\"0001:0050\",\"0001:0050\",\"0001:0050\",\"0001:0050\",\"0001:0050\",\"0001:0050\",\"0001:0050\",\"0001:0050\",\"0001:0050\",\"0001:0050\",\"0001:0050\",\"0001:0050\",\"0001:0050\",\"0001:0050\",\"0001:0050\",\"0001:0050\",\"0001:0050\",\"0001:0050\",\"0001:0050\",\"0001:0050\",\"0001:0050\",\"0001:0050\",\"0001:0050\",\"0001:0050\",\"0001:0050\",\"0001:0050\",\"0001:0050\",\"0001:0050\",\"0001:0050\",\"0001:0050\",\"0001:0050\",\"0001:0050\",\"0001:0050\",\"0001:0050\",\"0001:0050\",\"0001:0050\",\"0001:0050\",\"0001:0050\",\"0001:0050\",\"0001:0050\",\"0001:0050\",\"0001:0050\",\"0001:0050\",\"0001:0050\",\"0001:0050\",\"0001:0050\",\"0001:0050\",\"0001:0050\",\"0001:0050\",\"0001:0050\",\"0001:0050\",\"0001:0050\",\"0001:0050\",\"0001:0050\",\"0001:0050\",\"0001:0050\",\"0001:0050\",\"0001:0050\",\"0001:0050\",\"0001:0050\",\"0001:0050\",\"0001:0050\",\"0001:0050\",\"0001:0050\",\"0001:0050\",\"0001:0050\",\"0001:0050\",\"0001:0050\",\"0001:0050\",\"0001:0050\",\"0001:0050\",\"0001:0050\",\"0001:0050\",\"0001:0050\",\"0001:0050\",\"0001:0050\",\"0001:0050\",\"0001:0050\",\"0001:0050\",\"0001:0050\",\"0001:0050\",\"0001:0050\",\"0001:0050\",\"0001:0050\",\"0001:0050\",\"0001:0050\",\"0001:0050\",\"0001:0050\",\"0001:0050\",\"0001:0050\",\"0001:0050\",\"0001:0050\",\"0001:0050\",\"0001:0050\",\"0001:0050\",\"0001:0050\",\"0001:0050\",\"0001:0050\",\"0001:0050\",\"0001:0050\",\"0001:0050\",\"0001:0050\",\"0001:0050\",\"0001:0050\",\"0001:0050\",\"0001:0050\",\"0001:0050\",\"0001:0050\",\"0001:0050\",\"0001:0050\",\"0001:0050\",\"0001:0050\",\"0001:0050\",\"0001:0050\",\"0001:0050\",\"0001:0050\",\"0001:0050\",\"0001:0050\",\"0001:0050\",\"0001:0050\",\"0001:0050\",\"0001:0050\",\"0001:0050\",\"0001:0050\",\"0001:0050\",\"0001:0050\",\"0001:0050\",\"0001:0050\",\"0001:0050\",\"0001:0050\",\"0001:0050\",\"0001:0050\",\"0001:0050\",\"0001:0050\",\"0001:0050\",\"0001:0050\",\"0001:0050\",\"0001:0050\",\"0001:0050\",\"0001:0050\",\"0001:0050\",\"0001:0050\",\"0001:0050\",\"0001:0050\",\"0001:0050\",\"0001:0050\",\"0001:0050\",\"0001:0050\",\"0001:0050\",\"0001:0050\",\"0001:0050\",\"0001:0050\",\"0001:0050\",\"0001:0050\",\"0001:0050\",\"0001:0050\",\"0001:0050\",\"0001:0050\",\"0001:0050\",\"0001:0050\",\"0001:0050\",\"0001:0050\",\"0001:0050\"],\"x0\":\" \",\"xaxis\":\"x\",\"y\":[1,1,1,1,10,1,1,1,1,1,1,1,1,1,1,1,1,1,1,1,1,1,1,1,1,1,1,1,1,1,1,1,1,1,1,1,1,1,1,1,1,1,1,1,1,1,2,1,1,1,1,1,1,1,1,1,1,1,1,1,1,1,1,1,1,1,1,1,1,1,1,1,1,1,1,1,1,1,1,1,1,1,1,1,1,1,1,1,1,1,1,1,1,1,1,1,1,1,1,1,1,1,1,1,1,1,1,1,14,1,1,2,1,1,1,1,1,1,1,1,1,1,1,1,1,1,1,1,1,1,1,1,1,1,2,1,2,1,2,1,1,1,1,1,1,1,1,1,1,1,1,3,1,1,2,1,1,1,1,1,1,1,1,1,1,1,1,1,1,1,1,1,1,1,1,1,1,1,1,1,1,1,1,1,1,1,1,1,1,1,1,1,1,1,1,1,1,1,1,1,1,1,1,1,1,1,1,1,1,1,1,1,1,1,1,1,1,1,1,1,1,1,1,1,1,1,1,1,1,1,1,1,1,1,1,1,1,1,1,1,1,1,1,1,1,1,1,1,1,1,1,1,1,1,1,1,1,1,1,1,1,1,1,1,1,1,1,1,1,1,1,1,1,1,1,1,1,1,1,1,1,1,1,1,1,1,1,1,1,1,1,1,1,1,1,1,1,1,1,3,1,1,1,1,2,1,1,1,1,1,1,1,2,1,1,1,1,1,1,1,1,1,1,1,1,1,1,1,1,1,1,1,1,1,1,2,1,1,1,1,3,1,1,1,1,1,1,1,1,1,1,1,1,1,1,1,1,1,1,1,1,1,1,1,1,1,1,1,1,1,1,1,1,1,1,1,1,1,1,1,1,1,1,1,1,1,1,1,1,1,1,1,1,1,1,1,1,1,1,1,1,1,1,1,1,1,1,1,1,1,1,1,1,1,1,1,1,1,1,1,1,1,1,1,1,1,1,1,1,1,1,1,1,1,1,1,1,1,1,1,1,1,1,1,1,1,1,1,1,1,1,1,1,1,1,1,1,1,1,1,1,1,1,1,1,1,1,1,1,1,1,1,1,1,1,1,1,1,1,1,1,1,1,1,1,1,1,1,1,1,1,1,1,1,1,1,1,1,1,1,1,1,1,1,1,1,7,1,1,1,1,1,1,1,1,1,1,1,1,1,1,1,1,1,1,1,1,1,1,1,1,1,1,1,1,1,1,1,1,1,1,1,1,1,1,1,1,1,1,1,1,1,1,1,1,1,1,1,1,1,1,1,1,1,1,1,1,1,1,1,1,1,1,1,1,1,1,1,1,1,1,1,1,1,1,1,1,1,1,1,1,1,1,1,1,1,1,1,1,1,1,1,1,1,1,1,1,1,1,1,1,1,1,1,1,5,1,1,1,1,1,1,1,1,1,1,1,1,1,1,1,1,1,1,1,1,1,1,1,1,1,1,1,1,1,5,1,1,1,1,1,1,1,1,1,1,1,1,1,1,1,1,1,1,1,1,1,1,1,4,1,1,1,1,1,1,1,1,1,1,1,1,1,1,1,1,1,1,1,1,1,1,1,1,1,1,1,1,1,1,1,1,1,1,1,1,1,1,1,1,1,1,1,1,1,1,1,1,1,1,1,1,1,1,1,1,1,1,1,1,1],\"y0\":\" \",\"yaxis\":\"y\",\"type\":\"box\"},{\"alignmentgroup\":\"True\",\"hovertemplate\":\"cost_category=%{x}\\u003cbr\\u003eservice_duration=%{y}\\u003cextra\\u003e\\u003c\\u002fextra\\u003e\",\"legendgroup\":\"0100:0150\",\"marker\":{\"color\":\"#FF6692\"},\"name\":\"0100:0150\",\"notched\":false,\"offsetgroup\":\"0100:0150\",\"orientation\":\"v\",\"showlegend\":true,\"x\":[\"0100:0150\",\"0100:0150\",\"0100:0150\",\"0100:0150\",\"0100:0150\",\"0100:0150\",\"0100:0150\",\"0100:0150\",\"0100:0150\",\"0100:0150\",\"0100:0150\",\"0100:0150\",\"0100:0150\",\"0100:0150\",\"0100:0150\",\"0100:0150\",\"0100:0150\",\"0100:0150\",\"0100:0150\",\"0100:0150\",\"0100:0150\",\"0100:0150\",\"0100:0150\",\"0100:0150\",\"0100:0150\",\"0100:0150\",\"0100:0150\",\"0100:0150\",\"0100:0150\",\"0100:0150\",\"0100:0150\",\"0100:0150\",\"0100:0150\",\"0100:0150\",\"0100:0150\",\"0100:0150\",\"0100:0150\",\"0100:0150\",\"0100:0150\",\"0100:0150\",\"0100:0150\",\"0100:0150\",\"0100:0150\",\"0100:0150\",\"0100:0150\",\"0100:0150\",\"0100:0150\",\"0100:0150\",\"0100:0150\",\"0100:0150\",\"0100:0150\",\"0100:0150\",\"0100:0150\",\"0100:0150\",\"0100:0150\",\"0100:0150\",\"0100:0150\",\"0100:0150\",\"0100:0150\",\"0100:0150\",\"0100:0150\",\"0100:0150\",\"0100:0150\",\"0100:0150\",\"0100:0150\",\"0100:0150\",\"0100:0150\",\"0100:0150\",\"0100:0150\",\"0100:0150\",\"0100:0150\",\"0100:0150\",\"0100:0150\",\"0100:0150\",\"0100:0150\",\"0100:0150\",\"0100:0150\",\"0100:0150\",\"0100:0150\",\"0100:0150\",\"0100:0150\",\"0100:0150\",\"0100:0150\",\"0100:0150\",\"0100:0150\",\"0100:0150\",\"0100:0150\",\"0100:0150\",\"0100:0150\",\"0100:0150\",\"0100:0150\",\"0100:0150\",\"0100:0150\",\"0100:0150\",\"0100:0150\",\"0100:0150\",\"0100:0150\",\"0100:0150\",\"0100:0150\",\"0100:0150\",\"0100:0150\",\"0100:0150\",\"0100:0150\",\"0100:0150\",\"0100:0150\",\"0100:0150\",\"0100:0150\",\"0100:0150\",\"0100:0150\",\"0100:0150\",\"0100:0150\",\"0100:0150\",\"0100:0150\",\"0100:0150\",\"0100:0150\",\"0100:0150\",\"0100:0150\",\"0100:0150\",\"0100:0150\",\"0100:0150\",\"0100:0150\",\"0100:0150\",\"0100:0150\",\"0100:0150\",\"0100:0150\",\"0100:0150\",\"0100:0150\",\"0100:0150\",\"0100:0150\",\"0100:0150\",\"0100:0150\",\"0100:0150\",\"0100:0150\",\"0100:0150\",\"0100:0150\",\"0100:0150\",\"0100:0150\",\"0100:0150\",\"0100:0150\",\"0100:0150\",\"0100:0150\",\"0100:0150\",\"0100:0150\",\"0100:0150\",\"0100:0150\",\"0100:0150\",\"0100:0150\",\"0100:0150\",\"0100:0150\",\"0100:0150\",\"0100:0150\",\"0100:0150\",\"0100:0150\",\"0100:0150\",\"0100:0150\",\"0100:0150\",\"0100:0150\",\"0100:0150\",\"0100:0150\",\"0100:0150\",\"0100:0150\",\"0100:0150\",\"0100:0150\",\"0100:0150\"],\"x0\":\" \",\"xaxis\":\"x\",\"y\":[6,1,1,1,1,1,1,1,1,1,1,4,3,1,1,1,1,1,3,1,1,1,1,7,1,1,8,4,2,1,2,1,1,1,1,6,1,1,1,3,2,5,1,1,1,1,1,7,6,4,2,4,7,1,1,1,1,6,6,1,1,1,1,1,1,1,1,3,1,1,1,1,1,1,1,1,5,1,1,1,1,1,1,1,1,1,1,1,1,1,1,1,1,1,1,1,1,1,1,1,1,1,1,1,1,1,1,1,1,1,1,1,1,1,1,1,1,1,1,1,1,1,1,1,1,1,1,1,1,1,1,1,1,1,1,1,1,1,1,1,1,1,1,1,1,1,1,1,1,1,1,1,1,1,1,1,1,1,6,1,1,1,8,6],\"y0\":\" \",\"yaxis\":\"y\",\"type\":\"box\"},{\"alignmentgroup\":\"True\",\"hovertemplate\":\"cost_category=%{x}\\u003cbr\\u003eservice_duration=%{y}\\u003cextra\\u003e\\u003c\\u002fextra\\u003e\",\"legendgroup\":\"0500:0600\",\"marker\":{\"color\":\"#B6E880\"},\"name\":\"0500:0600\",\"notched\":false,\"offsetgroup\":\"0500:0600\",\"orientation\":\"v\",\"showlegend\":true,\"x\":[\"0500:0600\",\"0500:0600\",\"0500:0600\",\"0500:0600\",\"0500:0600\",\"0500:0600\",\"0500:0600\",\"0500:0600\",\"0500:0600\",\"0500:0600\",\"0500:0600\",\"0500:0600\",\"0500:0600\",\"0500:0600\",\"0500:0600\",\"0500:0600\",\"0500:0600\",\"0500:0600\",\"0500:0600\",\"0500:0600\"],\"x0\":\" \",\"xaxis\":\"x\",\"y\":[3,17,1,1,57,2,32,1,1,2,1,1,1,1,1,1,1,1,9,7],\"y0\":\" \",\"yaxis\":\"y\",\"type\":\"box\"},{\"alignmentgroup\":\"True\",\"hovertemplate\":\"cost_category=%{x}\\u003cbr\\u003eservice_duration=%{y}\\u003cextra\\u003e\\u003c\\u002fextra\\u003e\",\"legendgroup\":\"0400:0500\",\"marker\":{\"color\":\"#FF97FF\"},\"name\":\"0400:0500\",\"notched\":false,\"offsetgroup\":\"0400:0500\",\"orientation\":\"v\",\"showlegend\":true,\"x\":[\"0400:0500\",\"0400:0500\",\"0400:0500\",\"0400:0500\",\"0400:0500\",\"0400:0500\",\"0400:0500\",\"0400:0500\",\"0400:0500\",\"0400:0500\",\"0400:0500\",\"0400:0500\",\"0400:0500\",\"0400:0500\",\"0400:0500\",\"0400:0500\",\"0400:0500\",\"0400:0500\",\"0400:0500\",\"0400:0500\",\"0400:0500\",\"0400:0500\",\"0400:0500\",\"0400:0500\",\"0400:0500\",\"0400:0500\"],\"x0\":\" \",\"xaxis\":\"x\",\"y\":[1,1,5,1,1,1,1,1,11,1,1,1,1,1,8,1,1,1,1,1,6,1,1,1,1,1],\"y0\":\" \",\"yaxis\":\"y\",\"type\":\"box\"},{\"alignmentgroup\":\"True\",\"hovertemplate\":\"cost_category=%{x}\\u003cbr\\u003eservice_duration=%{y}\\u003cextra\\u003e\\u003c\\u002fextra\\u003e\",\"legendgroup\":\"1000:1500\",\"marker\":{\"color\":\"#FECB52\"},\"name\":\"1000:1500\",\"notched\":false,\"offsetgroup\":\"1000:1500\",\"orientation\":\"v\",\"showlegend\":true,\"x\":[\"1000:1500\",\"1000:1500\",\"1000:1500\",\"1000:1500\",\"1000:1500\",\"1000:1500\"],\"x0\":\" \",\"xaxis\":\"x\",\"y\":[1,2,1,11,11,4],\"y0\":\" \",\"yaxis\":\"y\",\"type\":\"box\"},{\"alignmentgroup\":\"True\",\"hovertemplate\":\"cost_category=%{x}\\u003cbr\\u003eservice_duration=%{y}\\u003cextra\\u003e\\u003c\\u002fextra\\u003e\",\"legendgroup\":\"2000:3000\",\"marker\":{\"color\":\"#636efa\"},\"name\":\"2000:3000\",\"notched\":false,\"offsetgroup\":\"2000:3000\",\"orientation\":\"v\",\"showlegend\":true,\"x\":[\"2000:3000\",\"2000:3000\"],\"x0\":\" \",\"xaxis\":\"x\",\"y\":[30,70],\"y0\":\" \",\"yaxis\":\"y\",\"type\":\"box\"},{\"alignmentgroup\":\"True\",\"hovertemplate\":\"cost_category=%{x}\\u003cbr\\u003eservice_duration=%{y}\\u003cextra\\u003e\\u003c\\u002fextra\\u003e\",\"legendgroup\":\"0800:0900\",\"marker\":{\"color\":\"#EF553B\"},\"name\":\"0800:0900\",\"notched\":false,\"offsetgroup\":\"0800:0900\",\"orientation\":\"v\",\"showlegend\":true,\"x\":[\"0800:0900\"],\"x0\":\" \",\"xaxis\":\"x\",\"y\":[10],\"y0\":\" \",\"yaxis\":\"y\",\"type\":\"box\"},{\"alignmentgroup\":\"True\",\"hovertemplate\":\"cost_category=%{x}\\u003cbr\\u003eservice_duration=%{y}\\u003cextra\\u003e\\u003c\\u002fextra\\u003e\",\"legendgroup\":\"0900:1000\",\"marker\":{\"color\":\"#00cc96\"},\"name\":\"0900:1000\",\"notched\":false,\"offsetgroup\":\"0900:1000\",\"orientation\":\"v\",\"showlegend\":true,\"x\":[\"0900:1000\"],\"x0\":\" \",\"xaxis\":\"x\",\"y\":[14],\"y0\":\" \",\"yaxis\":\"y\",\"type\":\"box\"},{\"alignmentgroup\":\"True\",\"hovertemplate\":\"cost_category=%{x}\\u003cbr\\u003eservice_duration=%{y}\\u003cextra\\u003e\\u003c\\u002fextra\\u003e\",\"legendgroup\":\"0700:0800\",\"marker\":{\"color\":\"#ab63fa\"},\"name\":\"0700:0800\",\"notched\":false,\"offsetgroup\":\"0700:0800\",\"orientation\":\"v\",\"showlegend\":true,\"x\":[\"0700:0800\",\"0700:0800\",\"0700:0800\",\"0700:0800\",\"0700:0800\"],\"x0\":\" \",\"xaxis\":\"x\",\"y\":[11,12,6,8,9],\"y0\":\" \",\"yaxis\":\"y\",\"type\":\"box\"},{\"alignmentgroup\":\"True\",\"hovertemplate\":\"cost_category=%{x}\\u003cbr\\u003eservice_duration=%{y}\\u003cextra\\u003e\\u003c\\u002fextra\\u003e\",\"legendgroup\":\"1500:2000\",\"marker\":{\"color\":\"#FFA15A\"},\"name\":\"1500:2000\",\"notched\":false,\"offsetgroup\":\"1500:2000\",\"orientation\":\"v\",\"showlegend\":true,\"x\":[\"1500:2000\"],\"x0\":\" \",\"xaxis\":\"x\",\"y\":[7],\"y0\":\" \",\"yaxis\":\"y\",\"type\":\"box\"}],                        {\"template\":{\"data\":{\"histogram2dcontour\":[{\"type\":\"histogram2dcontour\",\"colorbar\":{\"outlinewidth\":0,\"ticks\":\"\"},\"colorscale\":[[0.0,\"#0d0887\"],[0.1111111111111111,\"#46039f\"],[0.2222222222222222,\"#7201a8\"],[0.3333333333333333,\"#9c179e\"],[0.4444444444444444,\"#bd3786\"],[0.5555555555555556,\"#d8576b\"],[0.6666666666666666,\"#ed7953\"],[0.7777777777777778,\"#fb9f3a\"],[0.8888888888888888,\"#fdca26\"],[1.0,\"#f0f921\"]]}],\"choropleth\":[{\"type\":\"choropleth\",\"colorbar\":{\"outlinewidth\":0,\"ticks\":\"\"}}],\"histogram2d\":[{\"type\":\"histogram2d\",\"colorbar\":{\"outlinewidth\":0,\"ticks\":\"\"},\"colorscale\":[[0.0,\"#0d0887\"],[0.1111111111111111,\"#46039f\"],[0.2222222222222222,\"#7201a8\"],[0.3333333333333333,\"#9c179e\"],[0.4444444444444444,\"#bd3786\"],[0.5555555555555556,\"#d8576b\"],[0.6666666666666666,\"#ed7953\"],[0.7777777777777778,\"#fb9f3a\"],[0.8888888888888888,\"#fdca26\"],[1.0,\"#f0f921\"]]}],\"heatmap\":[{\"type\":\"heatmap\",\"colorbar\":{\"outlinewidth\":0,\"ticks\":\"\"},\"colorscale\":[[0.0,\"#0d0887\"],[0.1111111111111111,\"#46039f\"],[0.2222222222222222,\"#7201a8\"],[0.3333333333333333,\"#9c179e\"],[0.4444444444444444,\"#bd3786\"],[0.5555555555555556,\"#d8576b\"],[0.6666666666666666,\"#ed7953\"],[0.7777777777777778,\"#fb9f3a\"],[0.8888888888888888,\"#fdca26\"],[1.0,\"#f0f921\"]]}],\"heatmapgl\":[{\"type\":\"heatmapgl\",\"colorbar\":{\"outlinewidth\":0,\"ticks\":\"\"},\"colorscale\":[[0.0,\"#0d0887\"],[0.1111111111111111,\"#46039f\"],[0.2222222222222222,\"#7201a8\"],[0.3333333333333333,\"#9c179e\"],[0.4444444444444444,\"#bd3786\"],[0.5555555555555556,\"#d8576b\"],[0.6666666666666666,\"#ed7953\"],[0.7777777777777778,\"#fb9f3a\"],[0.8888888888888888,\"#fdca26\"],[1.0,\"#f0f921\"]]}],\"contourcarpet\":[{\"type\":\"contourcarpet\",\"colorbar\":{\"outlinewidth\":0,\"ticks\":\"\"}}],\"contour\":[{\"type\":\"contour\",\"colorbar\":{\"outlinewidth\":0,\"ticks\":\"\"},\"colorscale\":[[0.0,\"#0d0887\"],[0.1111111111111111,\"#46039f\"],[0.2222222222222222,\"#7201a8\"],[0.3333333333333333,\"#9c179e\"],[0.4444444444444444,\"#bd3786\"],[0.5555555555555556,\"#d8576b\"],[0.6666666666666666,\"#ed7953\"],[0.7777777777777778,\"#fb9f3a\"],[0.8888888888888888,\"#fdca26\"],[1.0,\"#f0f921\"]]}],\"surface\":[{\"type\":\"surface\",\"colorbar\":{\"outlinewidth\":0,\"ticks\":\"\"},\"colorscale\":[[0.0,\"#0d0887\"],[0.1111111111111111,\"#46039f\"],[0.2222222222222222,\"#7201a8\"],[0.3333333333333333,\"#9c179e\"],[0.4444444444444444,\"#bd3786\"],[0.5555555555555556,\"#d8576b\"],[0.6666666666666666,\"#ed7953\"],[0.7777777777777778,\"#fb9f3a\"],[0.8888888888888888,\"#fdca26\"],[1.0,\"#f0f921\"]]}],\"mesh3d\":[{\"type\":\"mesh3d\",\"colorbar\":{\"outlinewidth\":0,\"ticks\":\"\"}}],\"scatter\":[{\"fillpattern\":{\"fillmode\":\"overlay\",\"size\":10,\"solidity\":0.2},\"type\":\"scatter\"}],\"parcoords\":[{\"type\":\"parcoords\",\"line\":{\"colorbar\":{\"outlinewidth\":0,\"ticks\":\"\"}}}],\"scatterpolargl\":[{\"type\":\"scatterpolargl\",\"marker\":{\"colorbar\":{\"outlinewidth\":0,\"ticks\":\"\"}}}],\"bar\":[{\"error_x\":{\"color\":\"#2a3f5f\"},\"error_y\":{\"color\":\"#2a3f5f\"},\"marker\":{\"line\":{\"color\":\"#E5ECF6\",\"width\":0.5},\"pattern\":{\"fillmode\":\"overlay\",\"size\":10,\"solidity\":0.2}},\"type\":\"bar\"}],\"scattergeo\":[{\"type\":\"scattergeo\",\"marker\":{\"colorbar\":{\"outlinewidth\":0,\"ticks\":\"\"}}}],\"scatterpolar\":[{\"type\":\"scatterpolar\",\"marker\":{\"colorbar\":{\"outlinewidth\":0,\"ticks\":\"\"}}}],\"histogram\":[{\"marker\":{\"pattern\":{\"fillmode\":\"overlay\",\"size\":10,\"solidity\":0.2}},\"type\":\"histogram\"}],\"scattergl\":[{\"type\":\"scattergl\",\"marker\":{\"colorbar\":{\"outlinewidth\":0,\"ticks\":\"\"}}}],\"scatter3d\":[{\"type\":\"scatter3d\",\"line\":{\"colorbar\":{\"outlinewidth\":0,\"ticks\":\"\"}},\"marker\":{\"colorbar\":{\"outlinewidth\":0,\"ticks\":\"\"}}}],\"scattermapbox\":[{\"type\":\"scattermapbox\",\"marker\":{\"colorbar\":{\"outlinewidth\":0,\"ticks\":\"\"}}}],\"scatterternary\":[{\"type\":\"scatterternary\",\"marker\":{\"colorbar\":{\"outlinewidth\":0,\"ticks\":\"\"}}}],\"scattercarpet\":[{\"type\":\"scattercarpet\",\"marker\":{\"colorbar\":{\"outlinewidth\":0,\"ticks\":\"\"}}}],\"carpet\":[{\"aaxis\":{\"endlinecolor\":\"#2a3f5f\",\"gridcolor\":\"white\",\"linecolor\":\"white\",\"minorgridcolor\":\"white\",\"startlinecolor\":\"#2a3f5f\"},\"baxis\":{\"endlinecolor\":\"#2a3f5f\",\"gridcolor\":\"white\",\"linecolor\":\"white\",\"minorgridcolor\":\"white\",\"startlinecolor\":\"#2a3f5f\"},\"type\":\"carpet\"}],\"table\":[{\"cells\":{\"fill\":{\"color\":\"#EBF0F8\"},\"line\":{\"color\":\"white\"}},\"header\":{\"fill\":{\"color\":\"#C8D4E3\"},\"line\":{\"color\":\"white\"}},\"type\":\"table\"}],\"barpolar\":[{\"marker\":{\"line\":{\"color\":\"#E5ECF6\",\"width\":0.5},\"pattern\":{\"fillmode\":\"overlay\",\"size\":10,\"solidity\":0.2}},\"type\":\"barpolar\"}],\"pie\":[{\"automargin\":true,\"type\":\"pie\"}]},\"layout\":{\"autotypenumbers\":\"strict\",\"colorway\":[\"#636efa\",\"#EF553B\",\"#00cc96\",\"#ab63fa\",\"#FFA15A\",\"#19d3f3\",\"#FF6692\",\"#B6E880\",\"#FF97FF\",\"#FECB52\"],\"font\":{\"color\":\"#2a3f5f\"},\"hovermode\":\"closest\",\"hoverlabel\":{\"align\":\"left\"},\"paper_bgcolor\":\"white\",\"plot_bgcolor\":\"#E5ECF6\",\"polar\":{\"bgcolor\":\"#E5ECF6\",\"angularaxis\":{\"gridcolor\":\"white\",\"linecolor\":\"white\",\"ticks\":\"\"},\"radialaxis\":{\"gridcolor\":\"white\",\"linecolor\":\"white\",\"ticks\":\"\"}},\"ternary\":{\"bgcolor\":\"#E5ECF6\",\"aaxis\":{\"gridcolor\":\"white\",\"linecolor\":\"white\",\"ticks\":\"\"},\"baxis\":{\"gridcolor\":\"white\",\"linecolor\":\"white\",\"ticks\":\"\"},\"caxis\":{\"gridcolor\":\"white\",\"linecolor\":\"white\",\"ticks\":\"\"}},\"coloraxis\":{\"colorbar\":{\"outlinewidth\":0,\"ticks\":\"\"}},\"colorscale\":{\"sequential\":[[0.0,\"#0d0887\"],[0.1111111111111111,\"#46039f\"],[0.2222222222222222,\"#7201a8\"],[0.3333333333333333,\"#9c179e\"],[0.4444444444444444,\"#bd3786\"],[0.5555555555555556,\"#d8576b\"],[0.6666666666666666,\"#ed7953\"],[0.7777777777777778,\"#fb9f3a\"],[0.8888888888888888,\"#fdca26\"],[1.0,\"#f0f921\"]],\"sequentialminus\":[[0.0,\"#0d0887\"],[0.1111111111111111,\"#46039f\"],[0.2222222222222222,\"#7201a8\"],[0.3333333333333333,\"#9c179e\"],[0.4444444444444444,\"#bd3786\"],[0.5555555555555556,\"#d8576b\"],[0.6666666666666666,\"#ed7953\"],[0.7777777777777778,\"#fb9f3a\"],[0.8888888888888888,\"#fdca26\"],[1.0,\"#f0f921\"]],\"diverging\":[[0,\"#8e0152\"],[0.1,\"#c51b7d\"],[0.2,\"#de77ae\"],[0.3,\"#f1b6da\"],[0.4,\"#fde0ef\"],[0.5,\"#f7f7f7\"],[0.6,\"#e6f5d0\"],[0.7,\"#b8e186\"],[0.8,\"#7fbc41\"],[0.9,\"#4d9221\"],[1,\"#276419\"]]},\"xaxis\":{\"gridcolor\":\"white\",\"linecolor\":\"white\",\"ticks\":\"\",\"title\":{\"standoff\":15},\"zerolinecolor\":\"white\",\"automargin\":true,\"zerolinewidth\":2},\"yaxis\":{\"gridcolor\":\"white\",\"linecolor\":\"white\",\"ticks\":\"\",\"title\":{\"standoff\":15},\"zerolinecolor\":\"white\",\"automargin\":true,\"zerolinewidth\":2},\"scene\":{\"xaxis\":{\"backgroundcolor\":\"#E5ECF6\",\"gridcolor\":\"white\",\"linecolor\":\"white\",\"showbackground\":true,\"ticks\":\"\",\"zerolinecolor\":\"white\",\"gridwidth\":2},\"yaxis\":{\"backgroundcolor\":\"#E5ECF6\",\"gridcolor\":\"white\",\"linecolor\":\"white\",\"showbackground\":true,\"ticks\":\"\",\"zerolinecolor\":\"white\",\"gridwidth\":2},\"zaxis\":{\"backgroundcolor\":\"#E5ECF6\",\"gridcolor\":\"white\",\"linecolor\":\"white\",\"showbackground\":true,\"ticks\":\"\",\"zerolinecolor\":\"white\",\"gridwidth\":2}},\"shapedefaults\":{\"line\":{\"color\":\"#2a3f5f\"}},\"annotationdefaults\":{\"arrowcolor\":\"#2a3f5f\",\"arrowhead\":0,\"arrowwidth\":1},\"geo\":{\"bgcolor\":\"white\",\"landcolor\":\"#E5ECF6\",\"subunitcolor\":\"white\",\"showland\":true,\"showlakes\":true,\"lakecolor\":\"white\"},\"title\":{\"x\":0.05},\"mapbox\":{\"style\":\"light\"}}},\"xaxis\":{\"anchor\":\"y\",\"domain\":[0.0,1.0],\"title\":{\"text\":\"cost_category\"},\"categoryorder\":\"array\",\"categoryarray\":[\"0150:0200\",\"0200:0300\",\"0050:0100\",\"0600:0700\",\"0300:0400\",\"0001:0050\",\"0100:0150\",\"0500:0600\",\"0400:0500\",\"1000:1500\",\"2000:3000\",\"0800:0900\",\"0900:1000\",\"0700:0800\",\"1500:2000\"]},\"yaxis\":{\"anchor\":\"x\",\"domain\":[0.0,1.0],\"title\":{\"text\":\"service_duration\"}},\"legend\":{\"title\":{\"text\":\"cost_category\"},\"tracegroupgap\":0},\"title\":{\"text\":\"Comparison of service duration across different cost categories\",\"x\":0.5},\"boxmode\":\"overlay\"},                        {\"responsive\": true}                    ).then(function(){\n",
       "                            \n",
       "var gd = document.getElementById('37fa1dd7-3e96-4bcb-b32f-94c2a35d79b9');\n",
       "var x = new MutationObserver(function (mutations, observer) {{\n",
       "        var display = window.getComputedStyle(gd).display;\n",
       "        if (!display || display === 'none') {{\n",
       "            console.log([gd, 'removed!']);\n",
       "            Plotly.purge(gd);\n",
       "            observer.disconnect();\n",
       "        }}\n",
       "}});\n",
       "\n",
       "// Listen for the removal of the full notebook cells\n",
       "var notebookContainer = gd.closest('#notebook-container');\n",
       "if (notebookContainer) {{\n",
       "    x.observe(notebookContainer, {childList: true});\n",
       "}}\n",
       "\n",
       "// Listen for the clearing of the current output cell\n",
       "var outputEl = gd.closest('.output');\n",
       "if (outputEl) {{\n",
       "    x.observe(outputEl, {childList: true});\n",
       "}}\n",
       "\n",
       "                        })                };                });            </script>        </div>"
      ]
     },
     "metadata": {},
     "output_type": "display_data"
    },
    {
     "name": "stdout",
     "output_type": "stream",
     "text": [
      "The cost category that has maximum service duration is : 2000:3000\n",
      "The maximum service duration is : 70\n"
     ]
    }
   ],
   "source": [
    "myBoxPlot(data=df,x='cost_category',y='service_duration',color='cost_category',title='Comparison of service duration across different cost categories')\n",
    "Maximum_row = df.loc[df['service_duration'].idxmax()]\n",
    "print('The cost category that has maximum service duration is :',Maximum_row['cost_category'])\n",
    "print('The maximum service duration is :',Maximum_row['service_duration'])"
   ]
  },
  {
   "cell_type": "code",
   "execution_count": 25,
   "id": "4c89c842",
   "metadata": {},
   "outputs": [],
   "source": [
    "#### Cost category breakdown by location"
   ]
  },
  {
   "cell_type": "code",
   "execution_count": 69,
   "id": "9753d3a7",
   "metadata": {},
   "outputs": [
    {
     "data": {
      "application/vnd.plotly.v1+json": {
       "config": {
        "plotlyServerURL": "https://plot.ly"
       },
       "data": [
        {
         "alignmentgroup": "True",
         "hovertemplate": "color=0001:0050<br>x=%{x}<br>y=%{y}<extra></extra>",
         "legendgroup": "0001:0050",
         "marker": {
          "color": "#636efa",
          "pattern": {
           "shape": ""
          }
         },
         "name": "0001:0050",
         "offsetgroup": "0001:0050",
         "orientation": "v",
         "showlegend": true,
         "textposition": "auto",
         "type": "bar",
         "x": [
          "4 جيد",
          "ابو خضر",
          "ابو نعمه",
          "الصالحي",
          "العبدلي",
          "العمله",
          "الغزاوي",
          "الغزاوي+معاذ",
          "القسطل",
          "الماسيه زجاج سيارات",
          "المحطه",
          "المركزية",
          "المركزيه+زكي",
          "المسة الذهبية",
          "المفرق",
          "المكتب",
          "اليادودة",
          "امجد العطاري",
          "تم التركيب ف صويلح",
          "جلاسكو",
          "ريمان",
          "زكي البهو",
          "شارلي",
          "فهر",
          "في الطفيله",
          "قسطل",
          "قفيشة",
          "كيا",
          "محطة الرشاد",
          "مشربش",
          "معاذ عليان",
          "هانكونك"
         ],
         "xaxis": "x",
         "y": [
          20,
          2,
          5,
          1,
          2,
          1,
          385,
          7,
          202,
          1,
          1,
          15,
          2,
          3,
          2,
          3,
          2,
          1,
          3,
          4,
          5,
          8,
          7,
          1,
          3,
          15,
          4,
          1,
          3,
          4,
          11,
          7
         ],
         "yaxis": "y"
        },
        {
         "alignmentgroup": "True",
         "hovertemplate": "color=0050:0100<br>x=%{x}<br>y=%{y}<extra></extra>",
         "legendgroup": "0050:0100",
         "marker": {
          "color": "#EF553B",
          "pattern": {
           "shape": ""
          }
         },
         "name": "0050:0100",
         "offsetgroup": "0050:0100",
         "orientation": "v",
         "showlegend": true,
         "textposition": "auto",
         "type": "bar",
         "x": [
          "4 جيد",
          "ابو خضر",
          "ابو نعمه",
          "الصالحي",
          "العبدلي",
          "العمله",
          "الغزاوي",
          "الغزاوي+معاذ",
          "الماسيه زجاج سيارات",
          "المركزية",
          "المكتب",
          "اليادودة",
          "امجد العطاري",
          "تم التركيب ف صويلح",
          "جلاسكو",
          "زكي البهو",
          "شارلي",
          "فهر",
          "قسطل",
          "كيا",
          "مشربش",
          "معاذ عليان",
          "هانكونك"
         ],
         "xaxis": "x",
         "y": [
          15,
          2,
          17,
          2,
          2,
          2,
          169,
          5,
          1,
          23,
          1,
          2,
          21,
          1,
          1,
          2,
          14,
          1,
          2,
          1,
          6,
          16,
          2
         ],
         "yaxis": "y"
        },
        {
         "alignmentgroup": "True",
         "hovertemplate": "color=0100:0150<br>x=%{x}<br>y=%{y}<extra></extra>",
         "legendgroup": "0100:0150",
         "marker": {
          "color": "#00cc96",
          "pattern": {
           "shape": ""
          }
         },
         "name": "0100:0150",
         "offsetgroup": "0100:0150",
         "orientation": "v",
         "showlegend": true,
         "textposition": "auto",
         "type": "bar",
         "x": [
          "4 جيد",
          "الغزاوي",
          "الماسيه زجاج سيارات",
          "المحطه",
          "المركزية",
          "المكتب",
          "امجد العطاري",
          "جلاسكو",
          "شارلي",
          "في الطفيله",
          "قسطل",
          "كيا",
          "مشربش",
          "معاذ عليان",
          "هانكونك"
         ],
         "xaxis": "x",
         "y": [
          13,
          81,
          1,
          2,
          8,
          1,
          23,
          2,
          2,
          3,
          6,
          1,
          4,
          14,
          3
         ],
         "yaxis": "y"
        },
        {
         "alignmentgroup": "True",
         "hovertemplate": "color=0150:0200<br>x=%{x}<br>y=%{y}<extra></extra>",
         "legendgroup": "0150:0200",
         "marker": {
          "color": "#ab63fa",
          "pattern": {
           "shape": ""
          }
         },
         "name": "0150:0200",
         "offsetgroup": "0150:0200",
         "orientation": "v",
         "showlegend": true,
         "textposition": "auto",
         "type": "bar",
         "x": [
          "4 جيد",
          "العبدلي",
          "الغزاوي",
          "المركزية",
          "معاذ عليان",
          "هانكونك"
         ],
         "xaxis": "x",
         "y": [
          6,
          2,
          8,
          7,
          6,
          1
         ],
         "yaxis": "y"
        },
        {
         "alignmentgroup": "True",
         "hovertemplate": "color=0200:0300<br>x=%{x}<br>y=%{y}<extra></extra>",
         "legendgroup": "0200:0300",
         "marker": {
          "color": "#FFA15A",
          "pattern": {
           "shape": ""
          }
         },
         "name": "0200:0300",
         "offsetgroup": "0200:0300",
         "orientation": "v",
         "showlegend": true,
         "textposition": "auto",
         "type": "bar",
         "x": [
          "4 جيد",
          "ابو خضر",
          "العمله",
          "الغزاوي",
          "الغزاوي+معاذ",
          "المركزية",
          "المركزيه+زكي",
          "المفرق",
          "اليادودة",
          "امجد العطاري",
          "شارلي",
          "فهر",
          "مشربش",
          "معاذ عليان",
          "هانكونك"
         ],
         "xaxis": "x",
         "y": [
          12,
          3,
          1,
          16,
          1,
          77,
          11,
          1,
          1,
          1,
          1,
          1,
          1,
          27,
          3
         ],
         "yaxis": "y"
        },
        {
         "alignmentgroup": "True",
         "hovertemplate": "color=0300:0400<br>x=%{x}<br>y=%{y}<extra></extra>",
         "legendgroup": "0300:0400",
         "marker": {
          "color": "#19d3f3",
          "pattern": {
           "shape": ""
          }
         },
         "name": "0300:0400",
         "offsetgroup": "0300:0400",
         "orientation": "v",
         "showlegend": true,
         "textposition": "auto",
         "type": "bar",
         "x": [
          "4 جيد",
          "الغزاوي",
          "المركزية",
          "المركزيه+زكي",
          "زكي البهو",
          "شارلي",
          "معاذ عليان",
          "هانكونك"
         ],
         "xaxis": "x",
         "y": [
          6,
          6,
          9,
          1,
          1,
          1,
          12,
          1
         ],
         "yaxis": "y"
        },
        {
         "alignmentgroup": "True",
         "hovertemplate": "color=0400:0500<br>x=%{x}<br>y=%{y}<extra></extra>",
         "legendgroup": "0400:0500",
         "marker": {
          "color": "#FF6692",
          "pattern": {
           "shape": ""
          }
         },
         "name": "0400:0500",
         "offsetgroup": "0400:0500",
         "orientation": "v",
         "showlegend": true,
         "textposition": "auto",
         "type": "bar",
         "x": [
          "4 جيد",
          "الغزاوي",
          "المركزية",
          "المفرق",
          "معاذ عليان"
         ],
         "xaxis": "x",
         "y": [
          2,
          5,
          2,
          1,
          16
         ],
         "yaxis": "y"
        },
        {
         "alignmentgroup": "True",
         "hovertemplate": "color=0500:0600<br>x=%{x}<br>y=%{y}<extra></extra>",
         "legendgroup": "0500:0600",
         "marker": {
          "color": "#B6E880",
          "pattern": {
           "shape": ""
          }
         },
         "name": "0500:0600",
         "offsetgroup": "0500:0600",
         "orientation": "v",
         "showlegend": true,
         "textposition": "auto",
         "type": "bar",
         "x": [
          "4 جيد",
          "الصالحي",
          "الغزاوي",
          "المسة الذهبية",
          "شارلي",
          "معاذ عليان",
          "هانكونك"
         ],
         "xaxis": "x",
         "y": [
          2,
          1,
          7,
          1,
          1,
          6,
          2
         ],
         "yaxis": "y"
        },
        {
         "alignmentgroup": "True",
         "hovertemplate": "color=0600:0700<br>x=%{x}<br>y=%{y}<extra></extra>",
         "legendgroup": "0600:0700",
         "marker": {
          "color": "#FF97FF",
          "pattern": {
           "shape": ""
          }
         },
         "name": "0600:0700",
         "offsetgroup": "0600:0700",
         "orientation": "v",
         "showlegend": true,
         "textposition": "auto",
         "type": "bar",
         "x": [
          "4 جيد",
          "الغزاوي",
          "الماسيه زجاج سيارات",
          "المركزية",
          "معاذ عليان"
         ],
         "xaxis": "x",
         "y": [
          2,
          3,
          1,
          3,
          1
         ],
         "yaxis": "y"
        },
        {
         "alignmentgroup": "True",
         "hovertemplate": "color=0700:0800<br>x=%{x}<br>y=%{y}<extra></extra>",
         "legendgroup": "0700:0800",
         "marker": {
          "color": "#FECB52",
          "pattern": {
           "shape": ""
          }
         },
         "name": "0700:0800",
         "offsetgroup": "0700:0800",
         "orientation": "v",
         "showlegend": true,
         "textposition": "auto",
         "type": "bar",
         "x": [
          "4 جيد",
          "الغزاوي+معاذ",
          "المحطه",
          "المركزية",
          "كيا"
         ],
         "xaxis": "x",
         "y": [
          1,
          1,
          1,
          1,
          1
         ],
         "yaxis": "y"
        },
        {
         "alignmentgroup": "True",
         "hovertemplate": "color=0800:0900<br>x=%{x}<br>y=%{y}<extra></extra>",
         "legendgroup": "0800:0900",
         "marker": {
          "color": "#636efa",
          "pattern": {
           "shape": ""
          }
         },
         "name": "0800:0900",
         "offsetgroup": "0800:0900",
         "orientation": "v",
         "showlegend": true,
         "textposition": "auto",
         "type": "bar",
         "x": [
          "4 جيد"
         ],
         "xaxis": "x",
         "y": [
          1
         ],
         "yaxis": "y"
        },
        {
         "alignmentgroup": "True",
         "hovertemplate": "color=1000:1500<br>x=%{x}<br>y=%{y}<extra></extra>",
         "legendgroup": "1000:1500",
         "marker": {
          "color": "#EF553B",
          "pattern": {
           "shape": ""
          }
         },
         "name": "1000:1500",
         "offsetgroup": "1000:1500",
         "orientation": "v",
         "showlegend": true,
         "textposition": "auto",
         "type": "bar",
         "x": [
          "4 جيد",
          "ابو خضر",
          "المحطه",
          "المركزية",
          "فهر",
          "هانكونك"
         ],
         "xaxis": "x",
         "y": [
          1,
          1,
          1,
          1,
          1,
          1
         ],
         "yaxis": "y"
        },
        {
         "alignmentgroup": "True",
         "hovertemplate": "color=0900:1000<br>x=%{x}<br>y=%{y}<extra></extra>",
         "legendgroup": "0900:1000",
         "marker": {
          "color": "#00cc96",
          "pattern": {
           "shape": ""
          }
         },
         "name": "0900:1000",
         "offsetgroup": "0900:1000",
         "orientation": "v",
         "showlegend": true,
         "textposition": "auto",
         "type": "bar",
         "x": [
          "المركزية"
         ],
         "xaxis": "x",
         "y": [
          1
         ],
         "yaxis": "y"
        },
        {
         "alignmentgroup": "True",
         "hovertemplate": "color=2000:3000<br>x=%{x}<br>y=%{y}<extra></extra>",
         "legendgroup": "2000:3000",
         "marker": {
          "color": "#ab63fa",
          "pattern": {
           "shape": ""
          }
         },
         "name": "2000:3000",
         "offsetgroup": "2000:3000",
         "orientation": "v",
         "showlegend": true,
         "textposition": "auto",
         "type": "bar",
         "x": [
          "المركزية"
         ],
         "xaxis": "x",
         "y": [
          2
         ],
         "yaxis": "y"
        },
        {
         "alignmentgroup": "True",
         "hovertemplate": "color=1500:2000<br>x=%{x}<br>y=%{y}<extra></extra>",
         "legendgroup": "1500:2000",
         "marker": {
          "color": "#FFA15A",
          "pattern": {
           "shape": ""
          }
         },
         "name": "1500:2000",
         "offsetgroup": "1500:2000",
         "orientation": "v",
         "showlegend": true,
         "textposition": "auto",
         "type": "bar",
         "x": [
          "محطة الرشاد"
         ],
         "xaxis": "x",
         "y": [
          1
         ],
         "yaxis": "y"
        }
       ],
       "layout": {
        "barmode": "relative",
        "legend": {
         "title": {
          "text": "color"
         },
         "tracegroupgap": 0
        },
        "template": {
         "data": {
          "bar": [
           {
            "error_x": {
             "color": "#2a3f5f"
            },
            "error_y": {
             "color": "#2a3f5f"
            },
            "marker": {
             "line": {
              "color": "#E5ECF6",
              "width": 0.5
             },
             "pattern": {
              "fillmode": "overlay",
              "size": 10,
              "solidity": 0.2
             }
            },
            "type": "bar"
           }
          ],
          "barpolar": [
           {
            "marker": {
             "line": {
              "color": "#E5ECF6",
              "width": 0.5
             },
             "pattern": {
              "fillmode": "overlay",
              "size": 10,
              "solidity": 0.2
             }
            },
            "type": "barpolar"
           }
          ],
          "carpet": [
           {
            "aaxis": {
             "endlinecolor": "#2a3f5f",
             "gridcolor": "white",
             "linecolor": "white",
             "minorgridcolor": "white",
             "startlinecolor": "#2a3f5f"
            },
            "baxis": {
             "endlinecolor": "#2a3f5f",
             "gridcolor": "white",
             "linecolor": "white",
             "minorgridcolor": "white",
             "startlinecolor": "#2a3f5f"
            },
            "type": "carpet"
           }
          ],
          "choropleth": [
           {
            "colorbar": {
             "outlinewidth": 0,
             "ticks": ""
            },
            "type": "choropleth"
           }
          ],
          "contour": [
           {
            "colorbar": {
             "outlinewidth": 0,
             "ticks": ""
            },
            "colorscale": [
             [
              0,
              "#0d0887"
             ],
             [
              0.1111111111111111,
              "#46039f"
             ],
             [
              0.2222222222222222,
              "#7201a8"
             ],
             [
              0.3333333333333333,
              "#9c179e"
             ],
             [
              0.4444444444444444,
              "#bd3786"
             ],
             [
              0.5555555555555556,
              "#d8576b"
             ],
             [
              0.6666666666666666,
              "#ed7953"
             ],
             [
              0.7777777777777778,
              "#fb9f3a"
             ],
             [
              0.8888888888888888,
              "#fdca26"
             ],
             [
              1,
              "#f0f921"
             ]
            ],
            "type": "contour"
           }
          ],
          "contourcarpet": [
           {
            "colorbar": {
             "outlinewidth": 0,
             "ticks": ""
            },
            "type": "contourcarpet"
           }
          ],
          "heatmap": [
           {
            "colorbar": {
             "outlinewidth": 0,
             "ticks": ""
            },
            "colorscale": [
             [
              0,
              "#0d0887"
             ],
             [
              0.1111111111111111,
              "#46039f"
             ],
             [
              0.2222222222222222,
              "#7201a8"
             ],
             [
              0.3333333333333333,
              "#9c179e"
             ],
             [
              0.4444444444444444,
              "#bd3786"
             ],
             [
              0.5555555555555556,
              "#d8576b"
             ],
             [
              0.6666666666666666,
              "#ed7953"
             ],
             [
              0.7777777777777778,
              "#fb9f3a"
             ],
             [
              0.8888888888888888,
              "#fdca26"
             ],
             [
              1,
              "#f0f921"
             ]
            ],
            "type": "heatmap"
           }
          ],
          "heatmapgl": [
           {
            "colorbar": {
             "outlinewidth": 0,
             "ticks": ""
            },
            "colorscale": [
             [
              0,
              "#0d0887"
             ],
             [
              0.1111111111111111,
              "#46039f"
             ],
             [
              0.2222222222222222,
              "#7201a8"
             ],
             [
              0.3333333333333333,
              "#9c179e"
             ],
             [
              0.4444444444444444,
              "#bd3786"
             ],
             [
              0.5555555555555556,
              "#d8576b"
             ],
             [
              0.6666666666666666,
              "#ed7953"
             ],
             [
              0.7777777777777778,
              "#fb9f3a"
             ],
             [
              0.8888888888888888,
              "#fdca26"
             ],
             [
              1,
              "#f0f921"
             ]
            ],
            "type": "heatmapgl"
           }
          ],
          "histogram": [
           {
            "marker": {
             "pattern": {
              "fillmode": "overlay",
              "size": 10,
              "solidity": 0.2
             }
            },
            "type": "histogram"
           }
          ],
          "histogram2d": [
           {
            "colorbar": {
             "outlinewidth": 0,
             "ticks": ""
            },
            "colorscale": [
             [
              0,
              "#0d0887"
             ],
             [
              0.1111111111111111,
              "#46039f"
             ],
             [
              0.2222222222222222,
              "#7201a8"
             ],
             [
              0.3333333333333333,
              "#9c179e"
             ],
             [
              0.4444444444444444,
              "#bd3786"
             ],
             [
              0.5555555555555556,
              "#d8576b"
             ],
             [
              0.6666666666666666,
              "#ed7953"
             ],
             [
              0.7777777777777778,
              "#fb9f3a"
             ],
             [
              0.8888888888888888,
              "#fdca26"
             ],
             [
              1,
              "#f0f921"
             ]
            ],
            "type": "histogram2d"
           }
          ],
          "histogram2dcontour": [
           {
            "colorbar": {
             "outlinewidth": 0,
             "ticks": ""
            },
            "colorscale": [
             [
              0,
              "#0d0887"
             ],
             [
              0.1111111111111111,
              "#46039f"
             ],
             [
              0.2222222222222222,
              "#7201a8"
             ],
             [
              0.3333333333333333,
              "#9c179e"
             ],
             [
              0.4444444444444444,
              "#bd3786"
             ],
             [
              0.5555555555555556,
              "#d8576b"
             ],
             [
              0.6666666666666666,
              "#ed7953"
             ],
             [
              0.7777777777777778,
              "#fb9f3a"
             ],
             [
              0.8888888888888888,
              "#fdca26"
             ],
             [
              1,
              "#f0f921"
             ]
            ],
            "type": "histogram2dcontour"
           }
          ],
          "mesh3d": [
           {
            "colorbar": {
             "outlinewidth": 0,
             "ticks": ""
            },
            "type": "mesh3d"
           }
          ],
          "parcoords": [
           {
            "line": {
             "colorbar": {
              "outlinewidth": 0,
              "ticks": ""
             }
            },
            "type": "parcoords"
           }
          ],
          "pie": [
           {
            "automargin": true,
            "type": "pie"
           }
          ],
          "scatter": [
           {
            "fillpattern": {
             "fillmode": "overlay",
             "size": 10,
             "solidity": 0.2
            },
            "type": "scatter"
           }
          ],
          "scatter3d": [
           {
            "line": {
             "colorbar": {
              "outlinewidth": 0,
              "ticks": ""
             }
            },
            "marker": {
             "colorbar": {
              "outlinewidth": 0,
              "ticks": ""
             }
            },
            "type": "scatter3d"
           }
          ],
          "scattercarpet": [
           {
            "marker": {
             "colorbar": {
              "outlinewidth": 0,
              "ticks": ""
             }
            },
            "type": "scattercarpet"
           }
          ],
          "scattergeo": [
           {
            "marker": {
             "colorbar": {
              "outlinewidth": 0,
              "ticks": ""
             }
            },
            "type": "scattergeo"
           }
          ],
          "scattergl": [
           {
            "marker": {
             "colorbar": {
              "outlinewidth": 0,
              "ticks": ""
             }
            },
            "type": "scattergl"
           }
          ],
          "scattermapbox": [
           {
            "marker": {
             "colorbar": {
              "outlinewidth": 0,
              "ticks": ""
             }
            },
            "type": "scattermapbox"
           }
          ],
          "scatterpolar": [
           {
            "marker": {
             "colorbar": {
              "outlinewidth": 0,
              "ticks": ""
             }
            },
            "type": "scatterpolar"
           }
          ],
          "scatterpolargl": [
           {
            "marker": {
             "colorbar": {
              "outlinewidth": 0,
              "ticks": ""
             }
            },
            "type": "scatterpolargl"
           }
          ],
          "scatterternary": [
           {
            "marker": {
             "colorbar": {
              "outlinewidth": 0,
              "ticks": ""
             }
            },
            "type": "scatterternary"
           }
          ],
          "surface": [
           {
            "colorbar": {
             "outlinewidth": 0,
             "ticks": ""
            },
            "colorscale": [
             [
              0,
              "#0d0887"
             ],
             [
              0.1111111111111111,
              "#46039f"
             ],
             [
              0.2222222222222222,
              "#7201a8"
             ],
             [
              0.3333333333333333,
              "#9c179e"
             ],
             [
              0.4444444444444444,
              "#bd3786"
             ],
             [
              0.5555555555555556,
              "#d8576b"
             ],
             [
              0.6666666666666666,
              "#ed7953"
             ],
             [
              0.7777777777777778,
              "#fb9f3a"
             ],
             [
              0.8888888888888888,
              "#fdca26"
             ],
             [
              1,
              "#f0f921"
             ]
            ],
            "type": "surface"
           }
          ],
          "table": [
           {
            "cells": {
             "fill": {
              "color": "#EBF0F8"
             },
             "line": {
              "color": "white"
             }
            },
            "header": {
             "fill": {
              "color": "#C8D4E3"
             },
             "line": {
              "color": "white"
             }
            },
            "type": "table"
           }
          ]
         },
         "layout": {
          "annotationdefaults": {
           "arrowcolor": "#2a3f5f",
           "arrowhead": 0,
           "arrowwidth": 1
          },
          "autotypenumbers": "strict",
          "coloraxis": {
           "colorbar": {
            "outlinewidth": 0,
            "ticks": ""
           }
          },
          "colorscale": {
           "diverging": [
            [
             0,
             "#8e0152"
            ],
            [
             0.1,
             "#c51b7d"
            ],
            [
             0.2,
             "#de77ae"
            ],
            [
             0.3,
             "#f1b6da"
            ],
            [
             0.4,
             "#fde0ef"
            ],
            [
             0.5,
             "#f7f7f7"
            ],
            [
             0.6,
             "#e6f5d0"
            ],
            [
             0.7,
             "#b8e186"
            ],
            [
             0.8,
             "#7fbc41"
            ],
            [
             0.9,
             "#4d9221"
            ],
            [
             1,
             "#276419"
            ]
           ],
           "sequential": [
            [
             0,
             "#0d0887"
            ],
            [
             0.1111111111111111,
             "#46039f"
            ],
            [
             0.2222222222222222,
             "#7201a8"
            ],
            [
             0.3333333333333333,
             "#9c179e"
            ],
            [
             0.4444444444444444,
             "#bd3786"
            ],
            [
             0.5555555555555556,
             "#d8576b"
            ],
            [
             0.6666666666666666,
             "#ed7953"
            ],
            [
             0.7777777777777778,
             "#fb9f3a"
            ],
            [
             0.8888888888888888,
             "#fdca26"
            ],
            [
             1,
             "#f0f921"
            ]
           ],
           "sequentialminus": [
            [
             0,
             "#0d0887"
            ],
            [
             0.1111111111111111,
             "#46039f"
            ],
            [
             0.2222222222222222,
             "#7201a8"
            ],
            [
             0.3333333333333333,
             "#9c179e"
            ],
            [
             0.4444444444444444,
             "#bd3786"
            ],
            [
             0.5555555555555556,
             "#d8576b"
            ],
            [
             0.6666666666666666,
             "#ed7953"
            ],
            [
             0.7777777777777778,
             "#fb9f3a"
            ],
            [
             0.8888888888888888,
             "#fdca26"
            ],
            [
             1,
             "#f0f921"
            ]
           ]
          },
          "colorway": [
           "#636efa",
           "#EF553B",
           "#00cc96",
           "#ab63fa",
           "#FFA15A",
           "#19d3f3",
           "#FF6692",
           "#B6E880",
           "#FF97FF",
           "#FECB52"
          ],
          "font": {
           "color": "#2a3f5f"
          },
          "geo": {
           "bgcolor": "white",
           "lakecolor": "white",
           "landcolor": "#E5ECF6",
           "showlakes": true,
           "showland": true,
           "subunitcolor": "white"
          },
          "hoverlabel": {
           "align": "left"
          },
          "hovermode": "closest",
          "mapbox": {
           "style": "light"
          },
          "paper_bgcolor": "white",
          "plot_bgcolor": "#E5ECF6",
          "polar": {
           "angularaxis": {
            "gridcolor": "white",
            "linecolor": "white",
            "ticks": ""
           },
           "bgcolor": "#E5ECF6",
           "radialaxis": {
            "gridcolor": "white",
            "linecolor": "white",
            "ticks": ""
           }
          },
          "scene": {
           "xaxis": {
            "backgroundcolor": "#E5ECF6",
            "gridcolor": "white",
            "gridwidth": 2,
            "linecolor": "white",
            "showbackground": true,
            "ticks": "",
            "zerolinecolor": "white"
           },
           "yaxis": {
            "backgroundcolor": "#E5ECF6",
            "gridcolor": "white",
            "gridwidth": 2,
            "linecolor": "white",
            "showbackground": true,
            "ticks": "",
            "zerolinecolor": "white"
           },
           "zaxis": {
            "backgroundcolor": "#E5ECF6",
            "gridcolor": "white",
            "gridwidth": 2,
            "linecolor": "white",
            "showbackground": true,
            "ticks": "",
            "zerolinecolor": "white"
           }
          },
          "shapedefaults": {
           "line": {
            "color": "#2a3f5f"
           }
          },
          "ternary": {
           "aaxis": {
            "gridcolor": "white",
            "linecolor": "white",
            "ticks": ""
           },
           "baxis": {
            "gridcolor": "white",
            "linecolor": "white",
            "ticks": ""
           },
           "bgcolor": "#E5ECF6",
           "caxis": {
            "gridcolor": "white",
            "linecolor": "white",
            "ticks": ""
           }
          },
          "title": {
           "x": 0.05
          },
          "xaxis": {
           "automargin": true,
           "gridcolor": "white",
           "linecolor": "white",
           "ticks": "",
           "title": {
            "standoff": 15
           },
           "zerolinecolor": "white",
           "zerolinewidth": 2
          },
          "yaxis": {
           "automargin": true,
           "gridcolor": "white",
           "linecolor": "white",
           "ticks": "",
           "title": {
            "standoff": 15
           },
           "zerolinecolor": "white",
           "zerolinewidth": 2
          }
         }
        },
        "title": {
         "text": "Cost category breakdown by location Analysis",
         "x": 0.5
        },
        "xaxis": {
         "anchor": "y",
         "domain": [
          0,
          1
         ],
         "title": {
          "text": "location"
         }
        },
        "yaxis": {
         "anchor": "x",
         "domain": [
          0,
          1
         ],
         "title": {
          "text": "Count"
         }
        }
       }
      },
      "text/html": [
       "<div>                            <div id=\"c8e9ea94-986e-4750-92ed-385afca2078e\" class=\"plotly-graph-div\" style=\"height:525px; width:100%;\"></div>            <script type=\"text/javascript\">                require([\"plotly\"], function(Plotly) {                    window.PLOTLYENV=window.PLOTLYENV || {};                                    if (document.getElementById(\"c8e9ea94-986e-4750-92ed-385afca2078e\")) {                    Plotly.newPlot(                        \"c8e9ea94-986e-4750-92ed-385afca2078e\",                        [{\"alignmentgroup\":\"True\",\"hovertemplate\":\"color=0001:0050\\u003cbr\\u003ex=%{x}\\u003cbr\\u003ey=%{y}\\u003cextra\\u003e\\u003c\\u002fextra\\u003e\",\"legendgroup\":\"0001:0050\",\"marker\":{\"color\":\"#636efa\",\"pattern\":{\"shape\":\"\"}},\"name\":\"0001:0050\",\"offsetgroup\":\"0001:0050\",\"orientation\":\"v\",\"showlegend\":true,\"textposition\":\"auto\",\"x\":[\"4 جيد\",\"ابو خضر\",\"ابو نعمه\",\"الصالحي\",\"العبدلي\",\"العمله\",\"الغزاوي\",\"الغزاوي+معاذ\",\"القسطل\",\"الماسيه زجاج سيارات\",\"المحطه\",\"المركزية\",\"المركزيه+زكي\",\"المسة الذهبية\",\"المفرق\",\"المكتب\",\"اليادودة\",\"امجد العطاري\",\"تم التركيب ف صويلح\",\"جلاسكو\",\"ريمان\",\"زكي البهو\",\"شارلي\",\"فهر\",\"في الطفيله\",\"قسطل\",\"قفيشة\",\"كيا\",\"محطة الرشاد\",\"مشربش\",\"معاذ عليان\",\"هانكونك\"],\"xaxis\":\"x\",\"y\":[20,2,5,1,2,1,385,7,202,1,1,15,2,3,2,3,2,1,3,4,5,8,7,1,3,15,4,1,3,4,11,7],\"yaxis\":\"y\",\"type\":\"bar\"},{\"alignmentgroup\":\"True\",\"hovertemplate\":\"color=0050:0100\\u003cbr\\u003ex=%{x}\\u003cbr\\u003ey=%{y}\\u003cextra\\u003e\\u003c\\u002fextra\\u003e\",\"legendgroup\":\"0050:0100\",\"marker\":{\"color\":\"#EF553B\",\"pattern\":{\"shape\":\"\"}},\"name\":\"0050:0100\",\"offsetgroup\":\"0050:0100\",\"orientation\":\"v\",\"showlegend\":true,\"textposition\":\"auto\",\"x\":[\"4 جيد\",\"ابو خضر\",\"ابو نعمه\",\"الصالحي\",\"العبدلي\",\"العمله\",\"الغزاوي\",\"الغزاوي+معاذ\",\"الماسيه زجاج سيارات\",\"المركزية\",\"المكتب\",\"اليادودة\",\"امجد العطاري\",\"تم التركيب ف صويلح\",\"جلاسكو\",\"زكي البهو\",\"شارلي\",\"فهر\",\"قسطل\",\"كيا\",\"مشربش\",\"معاذ عليان\",\"هانكونك\"],\"xaxis\":\"x\",\"y\":[15,2,17,2,2,2,169,5,1,23,1,2,21,1,1,2,14,1,2,1,6,16,2],\"yaxis\":\"y\",\"type\":\"bar\"},{\"alignmentgroup\":\"True\",\"hovertemplate\":\"color=0100:0150\\u003cbr\\u003ex=%{x}\\u003cbr\\u003ey=%{y}\\u003cextra\\u003e\\u003c\\u002fextra\\u003e\",\"legendgroup\":\"0100:0150\",\"marker\":{\"color\":\"#00cc96\",\"pattern\":{\"shape\":\"\"}},\"name\":\"0100:0150\",\"offsetgroup\":\"0100:0150\",\"orientation\":\"v\",\"showlegend\":true,\"textposition\":\"auto\",\"x\":[\"4 جيد\",\"الغزاوي\",\"الماسيه زجاج سيارات\",\"المحطه\",\"المركزية\",\"المكتب\",\"امجد العطاري\",\"جلاسكو\",\"شارلي\",\"في الطفيله\",\"قسطل\",\"كيا\",\"مشربش\",\"معاذ عليان\",\"هانكونك\"],\"xaxis\":\"x\",\"y\":[13,81,1,2,8,1,23,2,2,3,6,1,4,14,3],\"yaxis\":\"y\",\"type\":\"bar\"},{\"alignmentgroup\":\"True\",\"hovertemplate\":\"color=0150:0200\\u003cbr\\u003ex=%{x}\\u003cbr\\u003ey=%{y}\\u003cextra\\u003e\\u003c\\u002fextra\\u003e\",\"legendgroup\":\"0150:0200\",\"marker\":{\"color\":\"#ab63fa\",\"pattern\":{\"shape\":\"\"}},\"name\":\"0150:0200\",\"offsetgroup\":\"0150:0200\",\"orientation\":\"v\",\"showlegend\":true,\"textposition\":\"auto\",\"x\":[\"4 جيد\",\"العبدلي\",\"الغزاوي\",\"المركزية\",\"معاذ عليان\",\"هانكونك\"],\"xaxis\":\"x\",\"y\":[6,2,8,7,6,1],\"yaxis\":\"y\",\"type\":\"bar\"},{\"alignmentgroup\":\"True\",\"hovertemplate\":\"color=0200:0300\\u003cbr\\u003ex=%{x}\\u003cbr\\u003ey=%{y}\\u003cextra\\u003e\\u003c\\u002fextra\\u003e\",\"legendgroup\":\"0200:0300\",\"marker\":{\"color\":\"#FFA15A\",\"pattern\":{\"shape\":\"\"}},\"name\":\"0200:0300\",\"offsetgroup\":\"0200:0300\",\"orientation\":\"v\",\"showlegend\":true,\"textposition\":\"auto\",\"x\":[\"4 جيد\",\"ابو خضر\",\"العمله\",\"الغزاوي\",\"الغزاوي+معاذ\",\"المركزية\",\"المركزيه+زكي\",\"المفرق\",\"اليادودة\",\"امجد العطاري\",\"شارلي\",\"فهر\",\"مشربش\",\"معاذ عليان\",\"هانكونك\"],\"xaxis\":\"x\",\"y\":[12,3,1,16,1,77,11,1,1,1,1,1,1,27,3],\"yaxis\":\"y\",\"type\":\"bar\"},{\"alignmentgroup\":\"True\",\"hovertemplate\":\"color=0300:0400\\u003cbr\\u003ex=%{x}\\u003cbr\\u003ey=%{y}\\u003cextra\\u003e\\u003c\\u002fextra\\u003e\",\"legendgroup\":\"0300:0400\",\"marker\":{\"color\":\"#19d3f3\",\"pattern\":{\"shape\":\"\"}},\"name\":\"0300:0400\",\"offsetgroup\":\"0300:0400\",\"orientation\":\"v\",\"showlegend\":true,\"textposition\":\"auto\",\"x\":[\"4 جيد\",\"الغزاوي\",\"المركزية\",\"المركزيه+زكي\",\"زكي البهو\",\"شارلي\",\"معاذ عليان\",\"هانكونك\"],\"xaxis\":\"x\",\"y\":[6,6,9,1,1,1,12,1],\"yaxis\":\"y\",\"type\":\"bar\"},{\"alignmentgroup\":\"True\",\"hovertemplate\":\"color=0400:0500\\u003cbr\\u003ex=%{x}\\u003cbr\\u003ey=%{y}\\u003cextra\\u003e\\u003c\\u002fextra\\u003e\",\"legendgroup\":\"0400:0500\",\"marker\":{\"color\":\"#FF6692\",\"pattern\":{\"shape\":\"\"}},\"name\":\"0400:0500\",\"offsetgroup\":\"0400:0500\",\"orientation\":\"v\",\"showlegend\":true,\"textposition\":\"auto\",\"x\":[\"4 جيد\",\"الغزاوي\",\"المركزية\",\"المفرق\",\"معاذ عليان\"],\"xaxis\":\"x\",\"y\":[2,5,2,1,16],\"yaxis\":\"y\",\"type\":\"bar\"},{\"alignmentgroup\":\"True\",\"hovertemplate\":\"color=0500:0600\\u003cbr\\u003ex=%{x}\\u003cbr\\u003ey=%{y}\\u003cextra\\u003e\\u003c\\u002fextra\\u003e\",\"legendgroup\":\"0500:0600\",\"marker\":{\"color\":\"#B6E880\",\"pattern\":{\"shape\":\"\"}},\"name\":\"0500:0600\",\"offsetgroup\":\"0500:0600\",\"orientation\":\"v\",\"showlegend\":true,\"textposition\":\"auto\",\"x\":[\"4 جيد\",\"الصالحي\",\"الغزاوي\",\"المسة الذهبية\",\"شارلي\",\"معاذ عليان\",\"هانكونك\"],\"xaxis\":\"x\",\"y\":[2,1,7,1,1,6,2],\"yaxis\":\"y\",\"type\":\"bar\"},{\"alignmentgroup\":\"True\",\"hovertemplate\":\"color=0600:0700\\u003cbr\\u003ex=%{x}\\u003cbr\\u003ey=%{y}\\u003cextra\\u003e\\u003c\\u002fextra\\u003e\",\"legendgroup\":\"0600:0700\",\"marker\":{\"color\":\"#FF97FF\",\"pattern\":{\"shape\":\"\"}},\"name\":\"0600:0700\",\"offsetgroup\":\"0600:0700\",\"orientation\":\"v\",\"showlegend\":true,\"textposition\":\"auto\",\"x\":[\"4 جيد\",\"الغزاوي\",\"الماسيه زجاج سيارات\",\"المركزية\",\"معاذ عليان\"],\"xaxis\":\"x\",\"y\":[2,3,1,3,1],\"yaxis\":\"y\",\"type\":\"bar\"},{\"alignmentgroup\":\"True\",\"hovertemplate\":\"color=0700:0800\\u003cbr\\u003ex=%{x}\\u003cbr\\u003ey=%{y}\\u003cextra\\u003e\\u003c\\u002fextra\\u003e\",\"legendgroup\":\"0700:0800\",\"marker\":{\"color\":\"#FECB52\",\"pattern\":{\"shape\":\"\"}},\"name\":\"0700:0800\",\"offsetgroup\":\"0700:0800\",\"orientation\":\"v\",\"showlegend\":true,\"textposition\":\"auto\",\"x\":[\"4 جيد\",\"الغزاوي+معاذ\",\"المحطه\",\"المركزية\",\"كيا\"],\"xaxis\":\"x\",\"y\":[1,1,1,1,1],\"yaxis\":\"y\",\"type\":\"bar\"},{\"alignmentgroup\":\"True\",\"hovertemplate\":\"color=0800:0900\\u003cbr\\u003ex=%{x}\\u003cbr\\u003ey=%{y}\\u003cextra\\u003e\\u003c\\u002fextra\\u003e\",\"legendgroup\":\"0800:0900\",\"marker\":{\"color\":\"#636efa\",\"pattern\":{\"shape\":\"\"}},\"name\":\"0800:0900\",\"offsetgroup\":\"0800:0900\",\"orientation\":\"v\",\"showlegend\":true,\"textposition\":\"auto\",\"x\":[\"4 جيد\"],\"xaxis\":\"x\",\"y\":[1],\"yaxis\":\"y\",\"type\":\"bar\"},{\"alignmentgroup\":\"True\",\"hovertemplate\":\"color=1000:1500\\u003cbr\\u003ex=%{x}\\u003cbr\\u003ey=%{y}\\u003cextra\\u003e\\u003c\\u002fextra\\u003e\",\"legendgroup\":\"1000:1500\",\"marker\":{\"color\":\"#EF553B\",\"pattern\":{\"shape\":\"\"}},\"name\":\"1000:1500\",\"offsetgroup\":\"1000:1500\",\"orientation\":\"v\",\"showlegend\":true,\"textposition\":\"auto\",\"x\":[\"4 جيد\",\"ابو خضر\",\"المحطه\",\"المركزية\",\"فهر\",\"هانكونك\"],\"xaxis\":\"x\",\"y\":[1,1,1,1,1,1],\"yaxis\":\"y\",\"type\":\"bar\"},{\"alignmentgroup\":\"True\",\"hovertemplate\":\"color=0900:1000\\u003cbr\\u003ex=%{x}\\u003cbr\\u003ey=%{y}\\u003cextra\\u003e\\u003c\\u002fextra\\u003e\",\"legendgroup\":\"0900:1000\",\"marker\":{\"color\":\"#00cc96\",\"pattern\":{\"shape\":\"\"}},\"name\":\"0900:1000\",\"offsetgroup\":\"0900:1000\",\"orientation\":\"v\",\"showlegend\":true,\"textposition\":\"auto\",\"x\":[\"المركزية\"],\"xaxis\":\"x\",\"y\":[1],\"yaxis\":\"y\",\"type\":\"bar\"},{\"alignmentgroup\":\"True\",\"hovertemplate\":\"color=2000:3000\\u003cbr\\u003ex=%{x}\\u003cbr\\u003ey=%{y}\\u003cextra\\u003e\\u003c\\u002fextra\\u003e\",\"legendgroup\":\"2000:3000\",\"marker\":{\"color\":\"#ab63fa\",\"pattern\":{\"shape\":\"\"}},\"name\":\"2000:3000\",\"offsetgroup\":\"2000:3000\",\"orientation\":\"v\",\"showlegend\":true,\"textposition\":\"auto\",\"x\":[\"المركزية\"],\"xaxis\":\"x\",\"y\":[2],\"yaxis\":\"y\",\"type\":\"bar\"},{\"alignmentgroup\":\"True\",\"hovertemplate\":\"color=1500:2000\\u003cbr\\u003ex=%{x}\\u003cbr\\u003ey=%{y}\\u003cextra\\u003e\\u003c\\u002fextra\\u003e\",\"legendgroup\":\"1500:2000\",\"marker\":{\"color\":\"#FFA15A\",\"pattern\":{\"shape\":\"\"}},\"name\":\"1500:2000\",\"offsetgroup\":\"1500:2000\",\"orientation\":\"v\",\"showlegend\":true,\"textposition\":\"auto\",\"x\":[\"محطة الرشاد\"],\"xaxis\":\"x\",\"y\":[1],\"yaxis\":\"y\",\"type\":\"bar\"}],                        {\"template\":{\"data\":{\"histogram2dcontour\":[{\"type\":\"histogram2dcontour\",\"colorbar\":{\"outlinewidth\":0,\"ticks\":\"\"},\"colorscale\":[[0.0,\"#0d0887\"],[0.1111111111111111,\"#46039f\"],[0.2222222222222222,\"#7201a8\"],[0.3333333333333333,\"#9c179e\"],[0.4444444444444444,\"#bd3786\"],[0.5555555555555556,\"#d8576b\"],[0.6666666666666666,\"#ed7953\"],[0.7777777777777778,\"#fb9f3a\"],[0.8888888888888888,\"#fdca26\"],[1.0,\"#f0f921\"]]}],\"choropleth\":[{\"type\":\"choropleth\",\"colorbar\":{\"outlinewidth\":0,\"ticks\":\"\"}}],\"histogram2d\":[{\"type\":\"histogram2d\",\"colorbar\":{\"outlinewidth\":0,\"ticks\":\"\"},\"colorscale\":[[0.0,\"#0d0887\"],[0.1111111111111111,\"#46039f\"],[0.2222222222222222,\"#7201a8\"],[0.3333333333333333,\"#9c179e\"],[0.4444444444444444,\"#bd3786\"],[0.5555555555555556,\"#d8576b\"],[0.6666666666666666,\"#ed7953\"],[0.7777777777777778,\"#fb9f3a\"],[0.8888888888888888,\"#fdca26\"],[1.0,\"#f0f921\"]]}],\"heatmap\":[{\"type\":\"heatmap\",\"colorbar\":{\"outlinewidth\":0,\"ticks\":\"\"},\"colorscale\":[[0.0,\"#0d0887\"],[0.1111111111111111,\"#46039f\"],[0.2222222222222222,\"#7201a8\"],[0.3333333333333333,\"#9c179e\"],[0.4444444444444444,\"#bd3786\"],[0.5555555555555556,\"#d8576b\"],[0.6666666666666666,\"#ed7953\"],[0.7777777777777778,\"#fb9f3a\"],[0.8888888888888888,\"#fdca26\"],[1.0,\"#f0f921\"]]}],\"heatmapgl\":[{\"type\":\"heatmapgl\",\"colorbar\":{\"outlinewidth\":0,\"ticks\":\"\"},\"colorscale\":[[0.0,\"#0d0887\"],[0.1111111111111111,\"#46039f\"],[0.2222222222222222,\"#7201a8\"],[0.3333333333333333,\"#9c179e\"],[0.4444444444444444,\"#bd3786\"],[0.5555555555555556,\"#d8576b\"],[0.6666666666666666,\"#ed7953\"],[0.7777777777777778,\"#fb9f3a\"],[0.8888888888888888,\"#fdca26\"],[1.0,\"#f0f921\"]]}],\"contourcarpet\":[{\"type\":\"contourcarpet\",\"colorbar\":{\"outlinewidth\":0,\"ticks\":\"\"}}],\"contour\":[{\"type\":\"contour\",\"colorbar\":{\"outlinewidth\":0,\"ticks\":\"\"},\"colorscale\":[[0.0,\"#0d0887\"],[0.1111111111111111,\"#46039f\"],[0.2222222222222222,\"#7201a8\"],[0.3333333333333333,\"#9c179e\"],[0.4444444444444444,\"#bd3786\"],[0.5555555555555556,\"#d8576b\"],[0.6666666666666666,\"#ed7953\"],[0.7777777777777778,\"#fb9f3a\"],[0.8888888888888888,\"#fdca26\"],[1.0,\"#f0f921\"]]}],\"surface\":[{\"type\":\"surface\",\"colorbar\":{\"outlinewidth\":0,\"ticks\":\"\"},\"colorscale\":[[0.0,\"#0d0887\"],[0.1111111111111111,\"#46039f\"],[0.2222222222222222,\"#7201a8\"],[0.3333333333333333,\"#9c179e\"],[0.4444444444444444,\"#bd3786\"],[0.5555555555555556,\"#d8576b\"],[0.6666666666666666,\"#ed7953\"],[0.7777777777777778,\"#fb9f3a\"],[0.8888888888888888,\"#fdca26\"],[1.0,\"#f0f921\"]]}],\"mesh3d\":[{\"type\":\"mesh3d\",\"colorbar\":{\"outlinewidth\":0,\"ticks\":\"\"}}],\"scatter\":[{\"fillpattern\":{\"fillmode\":\"overlay\",\"size\":10,\"solidity\":0.2},\"type\":\"scatter\"}],\"parcoords\":[{\"type\":\"parcoords\",\"line\":{\"colorbar\":{\"outlinewidth\":0,\"ticks\":\"\"}}}],\"scatterpolargl\":[{\"type\":\"scatterpolargl\",\"marker\":{\"colorbar\":{\"outlinewidth\":0,\"ticks\":\"\"}}}],\"bar\":[{\"error_x\":{\"color\":\"#2a3f5f\"},\"error_y\":{\"color\":\"#2a3f5f\"},\"marker\":{\"line\":{\"color\":\"#E5ECF6\",\"width\":0.5},\"pattern\":{\"fillmode\":\"overlay\",\"size\":10,\"solidity\":0.2}},\"type\":\"bar\"}],\"scattergeo\":[{\"type\":\"scattergeo\",\"marker\":{\"colorbar\":{\"outlinewidth\":0,\"ticks\":\"\"}}}],\"scatterpolar\":[{\"type\":\"scatterpolar\",\"marker\":{\"colorbar\":{\"outlinewidth\":0,\"ticks\":\"\"}}}],\"histogram\":[{\"marker\":{\"pattern\":{\"fillmode\":\"overlay\",\"size\":10,\"solidity\":0.2}},\"type\":\"histogram\"}],\"scattergl\":[{\"type\":\"scattergl\",\"marker\":{\"colorbar\":{\"outlinewidth\":0,\"ticks\":\"\"}}}],\"scatter3d\":[{\"type\":\"scatter3d\",\"line\":{\"colorbar\":{\"outlinewidth\":0,\"ticks\":\"\"}},\"marker\":{\"colorbar\":{\"outlinewidth\":0,\"ticks\":\"\"}}}],\"scattermapbox\":[{\"type\":\"scattermapbox\",\"marker\":{\"colorbar\":{\"outlinewidth\":0,\"ticks\":\"\"}}}],\"scatterternary\":[{\"type\":\"scatterternary\",\"marker\":{\"colorbar\":{\"outlinewidth\":0,\"ticks\":\"\"}}}],\"scattercarpet\":[{\"type\":\"scattercarpet\",\"marker\":{\"colorbar\":{\"outlinewidth\":0,\"ticks\":\"\"}}}],\"carpet\":[{\"aaxis\":{\"endlinecolor\":\"#2a3f5f\",\"gridcolor\":\"white\",\"linecolor\":\"white\",\"minorgridcolor\":\"white\",\"startlinecolor\":\"#2a3f5f\"},\"baxis\":{\"endlinecolor\":\"#2a3f5f\",\"gridcolor\":\"white\",\"linecolor\":\"white\",\"minorgridcolor\":\"white\",\"startlinecolor\":\"#2a3f5f\"},\"type\":\"carpet\"}],\"table\":[{\"cells\":{\"fill\":{\"color\":\"#EBF0F8\"},\"line\":{\"color\":\"white\"}},\"header\":{\"fill\":{\"color\":\"#C8D4E3\"},\"line\":{\"color\":\"white\"}},\"type\":\"table\"}],\"barpolar\":[{\"marker\":{\"line\":{\"color\":\"#E5ECF6\",\"width\":0.5},\"pattern\":{\"fillmode\":\"overlay\",\"size\":10,\"solidity\":0.2}},\"type\":\"barpolar\"}],\"pie\":[{\"automargin\":true,\"type\":\"pie\"}]},\"layout\":{\"autotypenumbers\":\"strict\",\"colorway\":[\"#636efa\",\"#EF553B\",\"#00cc96\",\"#ab63fa\",\"#FFA15A\",\"#19d3f3\",\"#FF6692\",\"#B6E880\",\"#FF97FF\",\"#FECB52\"],\"font\":{\"color\":\"#2a3f5f\"},\"hovermode\":\"closest\",\"hoverlabel\":{\"align\":\"left\"},\"paper_bgcolor\":\"white\",\"plot_bgcolor\":\"#E5ECF6\",\"polar\":{\"bgcolor\":\"#E5ECF6\",\"angularaxis\":{\"gridcolor\":\"white\",\"linecolor\":\"white\",\"ticks\":\"\"},\"radialaxis\":{\"gridcolor\":\"white\",\"linecolor\":\"white\",\"ticks\":\"\"}},\"ternary\":{\"bgcolor\":\"#E5ECF6\",\"aaxis\":{\"gridcolor\":\"white\",\"linecolor\":\"white\",\"ticks\":\"\"},\"baxis\":{\"gridcolor\":\"white\",\"linecolor\":\"white\",\"ticks\":\"\"},\"caxis\":{\"gridcolor\":\"white\",\"linecolor\":\"white\",\"ticks\":\"\"}},\"coloraxis\":{\"colorbar\":{\"outlinewidth\":0,\"ticks\":\"\"}},\"colorscale\":{\"sequential\":[[0.0,\"#0d0887\"],[0.1111111111111111,\"#46039f\"],[0.2222222222222222,\"#7201a8\"],[0.3333333333333333,\"#9c179e\"],[0.4444444444444444,\"#bd3786\"],[0.5555555555555556,\"#d8576b\"],[0.6666666666666666,\"#ed7953\"],[0.7777777777777778,\"#fb9f3a\"],[0.8888888888888888,\"#fdca26\"],[1.0,\"#f0f921\"]],\"sequentialminus\":[[0.0,\"#0d0887\"],[0.1111111111111111,\"#46039f\"],[0.2222222222222222,\"#7201a8\"],[0.3333333333333333,\"#9c179e\"],[0.4444444444444444,\"#bd3786\"],[0.5555555555555556,\"#d8576b\"],[0.6666666666666666,\"#ed7953\"],[0.7777777777777778,\"#fb9f3a\"],[0.8888888888888888,\"#fdca26\"],[1.0,\"#f0f921\"]],\"diverging\":[[0,\"#8e0152\"],[0.1,\"#c51b7d\"],[0.2,\"#de77ae\"],[0.3,\"#f1b6da\"],[0.4,\"#fde0ef\"],[0.5,\"#f7f7f7\"],[0.6,\"#e6f5d0\"],[0.7,\"#b8e186\"],[0.8,\"#7fbc41\"],[0.9,\"#4d9221\"],[1,\"#276419\"]]},\"xaxis\":{\"gridcolor\":\"white\",\"linecolor\":\"white\",\"ticks\":\"\",\"title\":{\"standoff\":15},\"zerolinecolor\":\"white\",\"automargin\":true,\"zerolinewidth\":2},\"yaxis\":{\"gridcolor\":\"white\",\"linecolor\":\"white\",\"ticks\":\"\",\"title\":{\"standoff\":15},\"zerolinecolor\":\"white\",\"automargin\":true,\"zerolinewidth\":2},\"scene\":{\"xaxis\":{\"backgroundcolor\":\"#E5ECF6\",\"gridcolor\":\"white\",\"linecolor\":\"white\",\"showbackground\":true,\"ticks\":\"\",\"zerolinecolor\":\"white\",\"gridwidth\":2},\"yaxis\":{\"backgroundcolor\":\"#E5ECF6\",\"gridcolor\":\"white\",\"linecolor\":\"white\",\"showbackground\":true,\"ticks\":\"\",\"zerolinecolor\":\"white\",\"gridwidth\":2},\"zaxis\":{\"backgroundcolor\":\"#E5ECF6\",\"gridcolor\":\"white\",\"linecolor\":\"white\",\"showbackground\":true,\"ticks\":\"\",\"zerolinecolor\":\"white\",\"gridwidth\":2}},\"shapedefaults\":{\"line\":{\"color\":\"#2a3f5f\"}},\"annotationdefaults\":{\"arrowcolor\":\"#2a3f5f\",\"arrowhead\":0,\"arrowwidth\":1},\"geo\":{\"bgcolor\":\"white\",\"landcolor\":\"#E5ECF6\",\"subunitcolor\":\"white\",\"showland\":true,\"showlakes\":true,\"lakecolor\":\"white\"},\"title\":{\"x\":0.05},\"mapbox\":{\"style\":\"light\"}}},\"xaxis\":{\"anchor\":\"y\",\"domain\":[0.0,1.0],\"title\":{\"text\":\"location\"}},\"yaxis\":{\"anchor\":\"x\",\"domain\":[0.0,1.0],\"title\":{\"text\":\"Count\"}},\"legend\":{\"title\":{\"text\":\"color\"},\"tracegroupgap\":0},\"title\":{\"text\":\"Cost category breakdown by location Analysis\",\"x\":0.5},\"barmode\":\"relative\"},                        {\"responsive\": true}                    ).then(function(){\n",
       "                            \n",
       "var gd = document.getElementById('c8e9ea94-986e-4750-92ed-385afca2078e');\n",
       "var x = new MutationObserver(function (mutations, observer) {{\n",
       "        var display = window.getComputedStyle(gd).display;\n",
       "        if (!display || display === 'none') {{\n",
       "            console.log([gd, 'removed!']);\n",
       "            Plotly.purge(gd);\n",
       "            observer.disconnect();\n",
       "        }}\n",
       "}});\n",
       "\n",
       "// Listen for the removal of the full notebook cells\n",
       "var notebookContainer = gd.closest('#notebook-container');\n",
       "if (notebookContainer) {{\n",
       "    x.observe(notebookContainer, {childList: true});\n",
       "}}\n",
       "\n",
       "// Listen for the clearing of the current output cell\n",
       "var outputEl = gd.closest('.output');\n",
       "if (outputEl) {{\n",
       "    x.observe(outputEl, {childList: true});\n",
       "}}\n",
       "\n",
       "                        })                };                });            </script>        </div>"
      ]
     },
     "metadata": {},
     "output_type": "display_data"
    },
    {
     "name": "stdout",
     "output_type": "stream",
     "text": [
      "The location that has maximum service count is : الغزاوي\n",
      "The Cost Category that has maximum service count is : 0001:0050\n",
      "The maximum service count is : 385\n"
     ]
    }
   ],
   "source": [
    "location_costCategory = df.groupby(['location','cost_category']).size().reset_index(name='Count').sort_values(by=['location'])\n",
    "myPlot1(location_costCategory,'location','Count','cost_category','bar','Cost category breakdown by location', sort_by=None, ascending=True)\n",
    "Maximum_row = location_costCategory.loc[location_costCategory['Count'].idxmax()]\n",
    "print('The location that has maximum service count is :',Maximum_row['location'])\n",
    "print('The Cost Category that has maximum service count is :',Maximum_row['cost_category'])\n",
    "print('The maximum service count is :',Maximum_row['Count'])"
   ]
  },
  {
   "cell_type": "code",
   "execution_count": 27,
   "id": "9525b452",
   "metadata": {},
   "outputs": [],
   "source": [
    "#### Trends in cost categories over time"
   ]
  },
  {
   "cell_type": "code",
   "execution_count": 71,
   "id": "5e6ce1da",
   "metadata": {},
   "outputs": [
    {
     "data": {
      "application/vnd.plotly.v1+json": {
       "config": {
        "plotlyServerURL": "https://plot.ly"
       },
       "data": [
        {
         "hovertemplate": "color=0001:0050<br>x=%{x}<br>y=%{y}<extra></extra>",
         "legendgroup": "0001:0050",
         "line": {
          "color": "#636efa",
          "dash": "solid"
         },
         "marker": {
          "symbol": "circle"
         },
         "mode": "lines",
         "name": "0001:0050",
         "orientation": "v",
         "showlegend": true,
         "type": "scatter",
         "x": [
          "2015_01",
          "2015_02",
          "2015_03",
          "2015_04",
          "2015_05",
          "2015_06",
          "2015_07",
          "2015_08",
          "2015_09",
          "2015_10",
          "2015_11",
          "2015_12",
          "2016_01",
          "2016_02"
         ],
         "xaxis": "x",
         "y": [
          61,
          36,
          53,
          59,
          79,
          70,
          50,
          78,
          85,
          48,
          25,
          15,
          65,
          7
         ],
         "yaxis": "y"
        },
        {
         "hovertemplate": "color=0050:0100<br>x=%{x}<br>y=%{y}<extra></extra>",
         "legendgroup": "0050:0100",
         "line": {
          "color": "#EF553B",
          "dash": "solid"
         },
         "marker": {
          "symbol": "circle"
         },
         "mode": "lines",
         "name": "0050:0100",
         "orientation": "v",
         "showlegend": true,
         "type": "scatter",
         "x": [
          "2015_01",
          "2015_02",
          "2015_03",
          "2015_04",
          "2015_05",
          "2015_06",
          "2015_07",
          "2015_08",
          "2015_09",
          "2015_10",
          "2015_11",
          "2015_12",
          "2016_01",
          "2016_02"
         ],
         "xaxis": "x",
         "y": [
          8,
          12,
          10,
          10,
          35,
          29,
          23,
          34,
          28,
          40,
          39,
          22,
          17,
          1
         ],
         "yaxis": "y"
        },
        {
         "hovertemplate": "color=0100:0150<br>x=%{x}<br>y=%{y}<extra></extra>",
         "legendgroup": "0100:0150",
         "line": {
          "color": "#00cc96",
          "dash": "solid"
         },
         "marker": {
          "symbol": "circle"
         },
         "mode": "lines",
         "name": "0100:0150",
         "orientation": "v",
         "showlegend": true,
         "type": "scatter",
         "x": [
          "2015_01",
          "2015_02",
          "2015_03",
          "2015_04",
          "2015_05",
          "2015_06",
          "2015_07",
          "2015_08",
          "2015_09",
          "2015_10",
          "2015_11",
          "2015_12",
          "2016_01"
         ],
         "xaxis": "x",
         "y": [
          2,
          6,
          5,
          6,
          14,
          14,
          13,
          10,
          7,
          9,
          52,
          18,
          8
         ],
         "yaxis": "y"
        },
        {
         "hovertemplate": "color=0150:0200<br>x=%{x}<br>y=%{y}<extra></extra>",
         "legendgroup": "0150:0200",
         "line": {
          "color": "#ab63fa",
          "dash": "solid"
         },
         "marker": {
          "symbol": "circle"
         },
         "mode": "lines",
         "name": "0150:0200",
         "orientation": "v",
         "showlegend": true,
         "type": "scatter",
         "x": [
          "2015_01",
          "2015_02",
          "2015_03",
          "2015_04",
          "2015_05",
          "2015_06",
          "2015_07",
          "2015_08",
          "2015_09",
          "2015_11",
          "2015_12",
          "2016_01"
         ],
         "xaxis": "x",
         "y": [
          1,
          1,
          8,
          1,
          4,
          5,
          3,
          1,
          2,
          2,
          1,
          1
         ],
         "yaxis": "y"
        },
        {
         "hovertemplate": "color=0200:0300<br>x=%{x}<br>y=%{y}<extra></extra>",
         "legendgroup": "0200:0300",
         "line": {
          "color": "#FFA15A",
          "dash": "solid"
         },
         "marker": {
          "symbol": "circle"
         },
         "mode": "lines",
         "name": "0200:0300",
         "orientation": "v",
         "showlegend": true,
         "type": "scatter",
         "x": [
          "2015_01",
          "2015_02",
          "2015_03",
          "2015_04",
          "2015_05",
          "2015_06",
          "2015_07",
          "2015_08",
          "2015_09",
          "2015_10",
          "2015_11",
          "2015_12",
          "2016_01",
          "2016_02"
         ],
         "xaxis": "x",
         "y": [
          6,
          3,
          10,
          9,
          19,
          13,
          15,
          10,
          10,
          7,
          10,
          38,
          5,
          2
         ],
         "yaxis": "y"
        },
        {
         "hovertemplate": "color=0300:0400<br>x=%{x}<br>y=%{y}<extra></extra>",
         "legendgroup": "0300:0400",
         "line": {
          "color": "#19d3f3",
          "dash": "solid"
         },
         "marker": {
          "symbol": "circle"
         },
         "mode": "lines",
         "name": "0300:0400",
         "orientation": "v",
         "showlegend": true,
         "type": "scatter",
         "x": [
          "2015_01",
          "2015_03",
          "2015_04",
          "2015_05",
          "2015_06",
          "2015_07",
          "2015_08",
          "2015_09",
          "2015_10",
          "2015_11",
          "2015_12",
          "2016_01"
         ],
         "xaxis": "x",
         "y": [
          1,
          4,
          1,
          6,
          3,
          4,
          8,
          1,
          1,
          2,
          1,
          5
         ],
         "yaxis": "y"
        },
        {
         "hovertemplate": "color=0500:0600<br>x=%{x}<br>y=%{y}<extra></extra>",
         "legendgroup": "0500:0600",
         "line": {
          "color": "#FF6692",
          "dash": "solid"
         },
         "marker": {
          "symbol": "circle"
         },
         "mode": "lines",
         "name": "0500:0600",
         "orientation": "v",
         "showlegend": true,
         "type": "scatter",
         "x": [
          "2015_01",
          "2015_02",
          "2015_03",
          "2015_04",
          "2015_05",
          "2015_06",
          "2015_07",
          "2015_08",
          "2015_10",
          "2016_01"
         ],
         "xaxis": "x",
         "y": [
          1,
          3,
          2,
          2,
          1,
          1,
          3,
          2,
          2,
          3
         ],
         "yaxis": "y"
        },
        {
         "hovertemplate": "color=0600:0700<br>x=%{x}<br>y=%{y}<extra></extra>",
         "legendgroup": "0600:0700",
         "line": {
          "color": "#B6E880",
          "dash": "solid"
         },
         "marker": {
          "symbol": "circle"
         },
         "mode": "lines",
         "name": "0600:0700",
         "orientation": "v",
         "showlegend": true,
         "type": "scatter",
         "x": [
          "2015_01",
          "2015_02",
          "2015_05",
          "2015_06",
          "2015_07",
          "2015_08",
          "2015_12",
          "2016_01"
         ],
         "xaxis": "x",
         "y": [
          1,
          3,
          1,
          1,
          1,
          1,
          1,
          1
         ],
         "yaxis": "y"
        },
        {
         "hovertemplate": "color=0400:0500<br>x=%{x}<br>y=%{y}<extra></extra>",
         "legendgroup": "0400:0500",
         "line": {
          "color": "#FF97FF",
          "dash": "solid"
         },
         "marker": {
          "symbol": "circle"
         },
         "mode": "lines",
         "name": "0400:0500",
         "orientation": "v",
         "showlegend": true,
         "type": "scatter",
         "x": [
          "2015_02",
          "2015_03",
          "2015_04",
          "2015_05",
          "2015_06",
          "2015_07",
          "2015_08",
          "2015_09",
          "2015_10",
          "2015_11",
          "2016_01"
         ],
         "xaxis": "x",
         "y": [
          1,
          1,
          2,
          2,
          5,
          4,
          6,
          2,
          1,
          1,
          1
         ],
         "yaxis": "y"
        },
        {
         "hovertemplate": "color=2000:3000<br>x=%{x}<br>y=%{y}<extra></extra>",
         "legendgroup": "2000:3000",
         "line": {
          "color": "#FECB52",
          "dash": "solid"
         },
         "marker": {
          "symbol": "circle"
         },
         "mode": "lines",
         "name": "2000:3000",
         "orientation": "v",
         "showlegend": true,
         "type": "scatter",
         "x": [
          "2015_03"
         ],
         "xaxis": "x",
         "y": [
          2
         ],
         "yaxis": "y"
        },
        {
         "hovertemplate": "color=1000:1500<br>x=%{x}<br>y=%{y}<extra></extra>",
         "legendgroup": "1000:1500",
         "line": {
          "color": "#636efa",
          "dash": "solid"
         },
         "marker": {
          "symbol": "circle"
         },
         "mode": "lines",
         "name": "1000:1500",
         "orientation": "v",
         "showlegend": true,
         "type": "scatter",
         "x": [
          "2015_03",
          "2015_07",
          "2016_01"
         ],
         "xaxis": "x",
         "y": [
          2,
          1,
          3
         ],
         "yaxis": "y"
        },
        {
         "hovertemplate": "color=0800:0900<br>x=%{x}<br>y=%{y}<extra></extra>",
         "legendgroup": "0800:0900",
         "line": {
          "color": "#EF553B",
          "dash": "solid"
         },
         "marker": {
          "symbol": "circle"
         },
         "mode": "lines",
         "name": "0800:0900",
         "orientation": "v",
         "showlegend": true,
         "type": "scatter",
         "x": [
          "2015_05"
         ],
         "xaxis": "x",
         "y": [
          1
         ],
         "yaxis": "y"
        },
        {
         "hovertemplate": "color=0700:0800<br>x=%{x}<br>y=%{y}<extra></extra>",
         "legendgroup": "0700:0800",
         "line": {
          "color": "#00cc96",
          "dash": "solid"
         },
         "marker": {
          "symbol": "circle"
         },
         "mode": "lines",
         "name": "0700:0800",
         "orientation": "v",
         "showlegend": true,
         "type": "scatter",
         "x": [
          "2015_07",
          "2015_08",
          "2016_01",
          "2016_02"
         ],
         "xaxis": "x",
         "y": [
          1,
          1,
          2,
          1
         ],
         "yaxis": "y"
        },
        {
         "hovertemplate": "color=0900:1000<br>x=%{x}<br>y=%{y}<extra></extra>",
         "legendgroup": "0900:1000",
         "line": {
          "color": "#ab63fa",
          "dash": "solid"
         },
         "marker": {
          "symbol": "circle"
         },
         "mode": "lines",
         "name": "0900:1000",
         "orientation": "v",
         "showlegend": true,
         "type": "scatter",
         "x": [
          "2015_07"
         ],
         "xaxis": "x",
         "y": [
          1
         ],
         "yaxis": "y"
        },
        {
         "hovertemplate": "color=1500:2000<br>x=%{x}<br>y=%{y}<extra></extra>",
         "legendgroup": "1500:2000",
         "line": {
          "color": "#FFA15A",
          "dash": "solid"
         },
         "marker": {
          "symbol": "circle"
         },
         "mode": "lines",
         "name": "1500:2000",
         "orientation": "v",
         "showlegend": true,
         "type": "scatter",
         "x": [
          "2016_01"
         ],
         "xaxis": "x",
         "y": [
          1
         ],
         "yaxis": "y"
        }
       ],
       "layout": {
        "legend": {
         "title": {
          "text": "color"
         },
         "tracegroupgap": 0
        },
        "template": {
         "data": {
          "bar": [
           {
            "error_x": {
             "color": "#2a3f5f"
            },
            "error_y": {
             "color": "#2a3f5f"
            },
            "marker": {
             "line": {
              "color": "#E5ECF6",
              "width": 0.5
             },
             "pattern": {
              "fillmode": "overlay",
              "size": 10,
              "solidity": 0.2
             }
            },
            "type": "bar"
           }
          ],
          "barpolar": [
           {
            "marker": {
             "line": {
              "color": "#E5ECF6",
              "width": 0.5
             },
             "pattern": {
              "fillmode": "overlay",
              "size": 10,
              "solidity": 0.2
             }
            },
            "type": "barpolar"
           }
          ],
          "carpet": [
           {
            "aaxis": {
             "endlinecolor": "#2a3f5f",
             "gridcolor": "white",
             "linecolor": "white",
             "minorgridcolor": "white",
             "startlinecolor": "#2a3f5f"
            },
            "baxis": {
             "endlinecolor": "#2a3f5f",
             "gridcolor": "white",
             "linecolor": "white",
             "minorgridcolor": "white",
             "startlinecolor": "#2a3f5f"
            },
            "type": "carpet"
           }
          ],
          "choropleth": [
           {
            "colorbar": {
             "outlinewidth": 0,
             "ticks": ""
            },
            "type": "choropleth"
           }
          ],
          "contour": [
           {
            "colorbar": {
             "outlinewidth": 0,
             "ticks": ""
            },
            "colorscale": [
             [
              0,
              "#0d0887"
             ],
             [
              0.1111111111111111,
              "#46039f"
             ],
             [
              0.2222222222222222,
              "#7201a8"
             ],
             [
              0.3333333333333333,
              "#9c179e"
             ],
             [
              0.4444444444444444,
              "#bd3786"
             ],
             [
              0.5555555555555556,
              "#d8576b"
             ],
             [
              0.6666666666666666,
              "#ed7953"
             ],
             [
              0.7777777777777778,
              "#fb9f3a"
             ],
             [
              0.8888888888888888,
              "#fdca26"
             ],
             [
              1,
              "#f0f921"
             ]
            ],
            "type": "contour"
           }
          ],
          "contourcarpet": [
           {
            "colorbar": {
             "outlinewidth": 0,
             "ticks": ""
            },
            "type": "contourcarpet"
           }
          ],
          "heatmap": [
           {
            "colorbar": {
             "outlinewidth": 0,
             "ticks": ""
            },
            "colorscale": [
             [
              0,
              "#0d0887"
             ],
             [
              0.1111111111111111,
              "#46039f"
             ],
             [
              0.2222222222222222,
              "#7201a8"
             ],
             [
              0.3333333333333333,
              "#9c179e"
             ],
             [
              0.4444444444444444,
              "#bd3786"
             ],
             [
              0.5555555555555556,
              "#d8576b"
             ],
             [
              0.6666666666666666,
              "#ed7953"
             ],
             [
              0.7777777777777778,
              "#fb9f3a"
             ],
             [
              0.8888888888888888,
              "#fdca26"
             ],
             [
              1,
              "#f0f921"
             ]
            ],
            "type": "heatmap"
           }
          ],
          "heatmapgl": [
           {
            "colorbar": {
             "outlinewidth": 0,
             "ticks": ""
            },
            "colorscale": [
             [
              0,
              "#0d0887"
             ],
             [
              0.1111111111111111,
              "#46039f"
             ],
             [
              0.2222222222222222,
              "#7201a8"
             ],
             [
              0.3333333333333333,
              "#9c179e"
             ],
             [
              0.4444444444444444,
              "#bd3786"
             ],
             [
              0.5555555555555556,
              "#d8576b"
             ],
             [
              0.6666666666666666,
              "#ed7953"
             ],
             [
              0.7777777777777778,
              "#fb9f3a"
             ],
             [
              0.8888888888888888,
              "#fdca26"
             ],
             [
              1,
              "#f0f921"
             ]
            ],
            "type": "heatmapgl"
           }
          ],
          "histogram": [
           {
            "marker": {
             "pattern": {
              "fillmode": "overlay",
              "size": 10,
              "solidity": 0.2
             }
            },
            "type": "histogram"
           }
          ],
          "histogram2d": [
           {
            "colorbar": {
             "outlinewidth": 0,
             "ticks": ""
            },
            "colorscale": [
             [
              0,
              "#0d0887"
             ],
             [
              0.1111111111111111,
              "#46039f"
             ],
             [
              0.2222222222222222,
              "#7201a8"
             ],
             [
              0.3333333333333333,
              "#9c179e"
             ],
             [
              0.4444444444444444,
              "#bd3786"
             ],
             [
              0.5555555555555556,
              "#d8576b"
             ],
             [
              0.6666666666666666,
              "#ed7953"
             ],
             [
              0.7777777777777778,
              "#fb9f3a"
             ],
             [
              0.8888888888888888,
              "#fdca26"
             ],
             [
              1,
              "#f0f921"
             ]
            ],
            "type": "histogram2d"
           }
          ],
          "histogram2dcontour": [
           {
            "colorbar": {
             "outlinewidth": 0,
             "ticks": ""
            },
            "colorscale": [
             [
              0,
              "#0d0887"
             ],
             [
              0.1111111111111111,
              "#46039f"
             ],
             [
              0.2222222222222222,
              "#7201a8"
             ],
             [
              0.3333333333333333,
              "#9c179e"
             ],
             [
              0.4444444444444444,
              "#bd3786"
             ],
             [
              0.5555555555555556,
              "#d8576b"
             ],
             [
              0.6666666666666666,
              "#ed7953"
             ],
             [
              0.7777777777777778,
              "#fb9f3a"
             ],
             [
              0.8888888888888888,
              "#fdca26"
             ],
             [
              1,
              "#f0f921"
             ]
            ],
            "type": "histogram2dcontour"
           }
          ],
          "mesh3d": [
           {
            "colorbar": {
             "outlinewidth": 0,
             "ticks": ""
            },
            "type": "mesh3d"
           }
          ],
          "parcoords": [
           {
            "line": {
             "colorbar": {
              "outlinewidth": 0,
              "ticks": ""
             }
            },
            "type": "parcoords"
           }
          ],
          "pie": [
           {
            "automargin": true,
            "type": "pie"
           }
          ],
          "scatter": [
           {
            "fillpattern": {
             "fillmode": "overlay",
             "size": 10,
             "solidity": 0.2
            },
            "type": "scatter"
           }
          ],
          "scatter3d": [
           {
            "line": {
             "colorbar": {
              "outlinewidth": 0,
              "ticks": ""
             }
            },
            "marker": {
             "colorbar": {
              "outlinewidth": 0,
              "ticks": ""
             }
            },
            "type": "scatter3d"
           }
          ],
          "scattercarpet": [
           {
            "marker": {
             "colorbar": {
              "outlinewidth": 0,
              "ticks": ""
             }
            },
            "type": "scattercarpet"
           }
          ],
          "scattergeo": [
           {
            "marker": {
             "colorbar": {
              "outlinewidth": 0,
              "ticks": ""
             }
            },
            "type": "scattergeo"
           }
          ],
          "scattergl": [
           {
            "marker": {
             "colorbar": {
              "outlinewidth": 0,
              "ticks": ""
             }
            },
            "type": "scattergl"
           }
          ],
          "scattermapbox": [
           {
            "marker": {
             "colorbar": {
              "outlinewidth": 0,
              "ticks": ""
             }
            },
            "type": "scattermapbox"
           }
          ],
          "scatterpolar": [
           {
            "marker": {
             "colorbar": {
              "outlinewidth": 0,
              "ticks": ""
             }
            },
            "type": "scatterpolar"
           }
          ],
          "scatterpolargl": [
           {
            "marker": {
             "colorbar": {
              "outlinewidth": 0,
              "ticks": ""
             }
            },
            "type": "scatterpolargl"
           }
          ],
          "scatterternary": [
           {
            "marker": {
             "colorbar": {
              "outlinewidth": 0,
              "ticks": ""
             }
            },
            "type": "scatterternary"
           }
          ],
          "surface": [
           {
            "colorbar": {
             "outlinewidth": 0,
             "ticks": ""
            },
            "colorscale": [
             [
              0,
              "#0d0887"
             ],
             [
              0.1111111111111111,
              "#46039f"
             ],
             [
              0.2222222222222222,
              "#7201a8"
             ],
             [
              0.3333333333333333,
              "#9c179e"
             ],
             [
              0.4444444444444444,
              "#bd3786"
             ],
             [
              0.5555555555555556,
              "#d8576b"
             ],
             [
              0.6666666666666666,
              "#ed7953"
             ],
             [
              0.7777777777777778,
              "#fb9f3a"
             ],
             [
              0.8888888888888888,
              "#fdca26"
             ],
             [
              1,
              "#f0f921"
             ]
            ],
            "type": "surface"
           }
          ],
          "table": [
           {
            "cells": {
             "fill": {
              "color": "#EBF0F8"
             },
             "line": {
              "color": "white"
             }
            },
            "header": {
             "fill": {
              "color": "#C8D4E3"
             },
             "line": {
              "color": "white"
             }
            },
            "type": "table"
           }
          ]
         },
         "layout": {
          "annotationdefaults": {
           "arrowcolor": "#2a3f5f",
           "arrowhead": 0,
           "arrowwidth": 1
          },
          "autotypenumbers": "strict",
          "coloraxis": {
           "colorbar": {
            "outlinewidth": 0,
            "ticks": ""
           }
          },
          "colorscale": {
           "diverging": [
            [
             0,
             "#8e0152"
            ],
            [
             0.1,
             "#c51b7d"
            ],
            [
             0.2,
             "#de77ae"
            ],
            [
             0.3,
             "#f1b6da"
            ],
            [
             0.4,
             "#fde0ef"
            ],
            [
             0.5,
             "#f7f7f7"
            ],
            [
             0.6,
             "#e6f5d0"
            ],
            [
             0.7,
             "#b8e186"
            ],
            [
             0.8,
             "#7fbc41"
            ],
            [
             0.9,
             "#4d9221"
            ],
            [
             1,
             "#276419"
            ]
           ],
           "sequential": [
            [
             0,
             "#0d0887"
            ],
            [
             0.1111111111111111,
             "#46039f"
            ],
            [
             0.2222222222222222,
             "#7201a8"
            ],
            [
             0.3333333333333333,
             "#9c179e"
            ],
            [
             0.4444444444444444,
             "#bd3786"
            ],
            [
             0.5555555555555556,
             "#d8576b"
            ],
            [
             0.6666666666666666,
             "#ed7953"
            ],
            [
             0.7777777777777778,
             "#fb9f3a"
            ],
            [
             0.8888888888888888,
             "#fdca26"
            ],
            [
             1,
             "#f0f921"
            ]
           ],
           "sequentialminus": [
            [
             0,
             "#0d0887"
            ],
            [
             0.1111111111111111,
             "#46039f"
            ],
            [
             0.2222222222222222,
             "#7201a8"
            ],
            [
             0.3333333333333333,
             "#9c179e"
            ],
            [
             0.4444444444444444,
             "#bd3786"
            ],
            [
             0.5555555555555556,
             "#d8576b"
            ],
            [
             0.6666666666666666,
             "#ed7953"
            ],
            [
             0.7777777777777778,
             "#fb9f3a"
            ],
            [
             0.8888888888888888,
             "#fdca26"
            ],
            [
             1,
             "#f0f921"
            ]
           ]
          },
          "colorway": [
           "#636efa",
           "#EF553B",
           "#00cc96",
           "#ab63fa",
           "#FFA15A",
           "#19d3f3",
           "#FF6692",
           "#B6E880",
           "#FF97FF",
           "#FECB52"
          ],
          "font": {
           "color": "#2a3f5f"
          },
          "geo": {
           "bgcolor": "white",
           "lakecolor": "white",
           "landcolor": "#E5ECF6",
           "showlakes": true,
           "showland": true,
           "subunitcolor": "white"
          },
          "hoverlabel": {
           "align": "left"
          },
          "hovermode": "closest",
          "mapbox": {
           "style": "light"
          },
          "paper_bgcolor": "white",
          "plot_bgcolor": "#E5ECF6",
          "polar": {
           "angularaxis": {
            "gridcolor": "white",
            "linecolor": "white",
            "ticks": ""
           },
           "bgcolor": "#E5ECF6",
           "radialaxis": {
            "gridcolor": "white",
            "linecolor": "white",
            "ticks": ""
           }
          },
          "scene": {
           "xaxis": {
            "backgroundcolor": "#E5ECF6",
            "gridcolor": "white",
            "gridwidth": 2,
            "linecolor": "white",
            "showbackground": true,
            "ticks": "",
            "zerolinecolor": "white"
           },
           "yaxis": {
            "backgroundcolor": "#E5ECF6",
            "gridcolor": "white",
            "gridwidth": 2,
            "linecolor": "white",
            "showbackground": true,
            "ticks": "",
            "zerolinecolor": "white"
           },
           "zaxis": {
            "backgroundcolor": "#E5ECF6",
            "gridcolor": "white",
            "gridwidth": 2,
            "linecolor": "white",
            "showbackground": true,
            "ticks": "",
            "zerolinecolor": "white"
           }
          },
          "shapedefaults": {
           "line": {
            "color": "#2a3f5f"
           }
          },
          "ternary": {
           "aaxis": {
            "gridcolor": "white",
            "linecolor": "white",
            "ticks": ""
           },
           "baxis": {
            "gridcolor": "white",
            "linecolor": "white",
            "ticks": ""
           },
           "bgcolor": "#E5ECF6",
           "caxis": {
            "gridcolor": "white",
            "linecolor": "white",
            "ticks": ""
           }
          },
          "title": {
           "x": 0.05
          },
          "xaxis": {
           "automargin": true,
           "gridcolor": "white",
           "linecolor": "white",
           "ticks": "",
           "title": {
            "standoff": 15
           },
           "zerolinecolor": "white",
           "zerolinewidth": 2
          },
          "yaxis": {
           "automargin": true,
           "gridcolor": "white",
           "linecolor": "white",
           "ticks": "",
           "title": {
            "standoff": 15
           },
           "zerolinecolor": "white",
           "zerolinewidth": 2
          }
         }
        },
        "title": {
         "text": "Trends in cost categories over time Analysis",
         "x": 0.5
        },
        "xaxis": {
         "anchor": "y",
         "domain": [
          0,
          1
         ],
         "title": {
          "text": "year_month"
         }
        },
        "yaxis": {
         "anchor": "x",
         "domain": [
          0,
          1
         ],
         "title": {
          "text": "Frequency"
         }
        }
       }
      },
      "text/html": [
       "<div>                            <div id=\"ac389a26-cce2-4344-8094-39a349d35c43\" class=\"plotly-graph-div\" style=\"height:525px; width:100%;\"></div>            <script type=\"text/javascript\">                require([\"plotly\"], function(Plotly) {                    window.PLOTLYENV=window.PLOTLYENV || {};                                    if (document.getElementById(\"ac389a26-cce2-4344-8094-39a349d35c43\")) {                    Plotly.newPlot(                        \"ac389a26-cce2-4344-8094-39a349d35c43\",                        [{\"hovertemplate\":\"color=0001:0050\\u003cbr\\u003ex=%{x}\\u003cbr\\u003ey=%{y}\\u003cextra\\u003e\\u003c\\u002fextra\\u003e\",\"legendgroup\":\"0001:0050\",\"line\":{\"color\":\"#636efa\",\"dash\":\"solid\"},\"marker\":{\"symbol\":\"circle\"},\"mode\":\"lines\",\"name\":\"0001:0050\",\"orientation\":\"v\",\"showlegend\":true,\"x\":[\"2015_01\",\"2015_02\",\"2015_03\",\"2015_04\",\"2015_05\",\"2015_06\",\"2015_07\",\"2015_08\",\"2015_09\",\"2015_10\",\"2015_11\",\"2015_12\",\"2016_01\",\"2016_02\"],\"xaxis\":\"x\",\"y\":[61,36,53,59,79,70,50,78,85,48,25,15,65,7],\"yaxis\":\"y\",\"type\":\"scatter\"},{\"hovertemplate\":\"color=0050:0100\\u003cbr\\u003ex=%{x}\\u003cbr\\u003ey=%{y}\\u003cextra\\u003e\\u003c\\u002fextra\\u003e\",\"legendgroup\":\"0050:0100\",\"line\":{\"color\":\"#EF553B\",\"dash\":\"solid\"},\"marker\":{\"symbol\":\"circle\"},\"mode\":\"lines\",\"name\":\"0050:0100\",\"orientation\":\"v\",\"showlegend\":true,\"x\":[\"2015_01\",\"2015_02\",\"2015_03\",\"2015_04\",\"2015_05\",\"2015_06\",\"2015_07\",\"2015_08\",\"2015_09\",\"2015_10\",\"2015_11\",\"2015_12\",\"2016_01\",\"2016_02\"],\"xaxis\":\"x\",\"y\":[8,12,10,10,35,29,23,34,28,40,39,22,17,1],\"yaxis\":\"y\",\"type\":\"scatter\"},{\"hovertemplate\":\"color=0100:0150\\u003cbr\\u003ex=%{x}\\u003cbr\\u003ey=%{y}\\u003cextra\\u003e\\u003c\\u002fextra\\u003e\",\"legendgroup\":\"0100:0150\",\"line\":{\"color\":\"#00cc96\",\"dash\":\"solid\"},\"marker\":{\"symbol\":\"circle\"},\"mode\":\"lines\",\"name\":\"0100:0150\",\"orientation\":\"v\",\"showlegend\":true,\"x\":[\"2015_01\",\"2015_02\",\"2015_03\",\"2015_04\",\"2015_05\",\"2015_06\",\"2015_07\",\"2015_08\",\"2015_09\",\"2015_10\",\"2015_11\",\"2015_12\",\"2016_01\"],\"xaxis\":\"x\",\"y\":[2,6,5,6,14,14,13,10,7,9,52,18,8],\"yaxis\":\"y\",\"type\":\"scatter\"},{\"hovertemplate\":\"color=0150:0200\\u003cbr\\u003ex=%{x}\\u003cbr\\u003ey=%{y}\\u003cextra\\u003e\\u003c\\u002fextra\\u003e\",\"legendgroup\":\"0150:0200\",\"line\":{\"color\":\"#ab63fa\",\"dash\":\"solid\"},\"marker\":{\"symbol\":\"circle\"},\"mode\":\"lines\",\"name\":\"0150:0200\",\"orientation\":\"v\",\"showlegend\":true,\"x\":[\"2015_01\",\"2015_02\",\"2015_03\",\"2015_04\",\"2015_05\",\"2015_06\",\"2015_07\",\"2015_08\",\"2015_09\",\"2015_11\",\"2015_12\",\"2016_01\"],\"xaxis\":\"x\",\"y\":[1,1,8,1,4,5,3,1,2,2,1,1],\"yaxis\":\"y\",\"type\":\"scatter\"},{\"hovertemplate\":\"color=0200:0300\\u003cbr\\u003ex=%{x}\\u003cbr\\u003ey=%{y}\\u003cextra\\u003e\\u003c\\u002fextra\\u003e\",\"legendgroup\":\"0200:0300\",\"line\":{\"color\":\"#FFA15A\",\"dash\":\"solid\"},\"marker\":{\"symbol\":\"circle\"},\"mode\":\"lines\",\"name\":\"0200:0300\",\"orientation\":\"v\",\"showlegend\":true,\"x\":[\"2015_01\",\"2015_02\",\"2015_03\",\"2015_04\",\"2015_05\",\"2015_06\",\"2015_07\",\"2015_08\",\"2015_09\",\"2015_10\",\"2015_11\",\"2015_12\",\"2016_01\",\"2016_02\"],\"xaxis\":\"x\",\"y\":[6,3,10,9,19,13,15,10,10,7,10,38,5,2],\"yaxis\":\"y\",\"type\":\"scatter\"},{\"hovertemplate\":\"color=0300:0400\\u003cbr\\u003ex=%{x}\\u003cbr\\u003ey=%{y}\\u003cextra\\u003e\\u003c\\u002fextra\\u003e\",\"legendgroup\":\"0300:0400\",\"line\":{\"color\":\"#19d3f3\",\"dash\":\"solid\"},\"marker\":{\"symbol\":\"circle\"},\"mode\":\"lines\",\"name\":\"0300:0400\",\"orientation\":\"v\",\"showlegend\":true,\"x\":[\"2015_01\",\"2015_03\",\"2015_04\",\"2015_05\",\"2015_06\",\"2015_07\",\"2015_08\",\"2015_09\",\"2015_10\",\"2015_11\",\"2015_12\",\"2016_01\"],\"xaxis\":\"x\",\"y\":[1,4,1,6,3,4,8,1,1,2,1,5],\"yaxis\":\"y\",\"type\":\"scatter\"},{\"hovertemplate\":\"color=0500:0600\\u003cbr\\u003ex=%{x}\\u003cbr\\u003ey=%{y}\\u003cextra\\u003e\\u003c\\u002fextra\\u003e\",\"legendgroup\":\"0500:0600\",\"line\":{\"color\":\"#FF6692\",\"dash\":\"solid\"},\"marker\":{\"symbol\":\"circle\"},\"mode\":\"lines\",\"name\":\"0500:0600\",\"orientation\":\"v\",\"showlegend\":true,\"x\":[\"2015_01\",\"2015_02\",\"2015_03\",\"2015_04\",\"2015_05\",\"2015_06\",\"2015_07\",\"2015_08\",\"2015_10\",\"2016_01\"],\"xaxis\":\"x\",\"y\":[1,3,2,2,1,1,3,2,2,3],\"yaxis\":\"y\",\"type\":\"scatter\"},{\"hovertemplate\":\"color=0600:0700\\u003cbr\\u003ex=%{x}\\u003cbr\\u003ey=%{y}\\u003cextra\\u003e\\u003c\\u002fextra\\u003e\",\"legendgroup\":\"0600:0700\",\"line\":{\"color\":\"#B6E880\",\"dash\":\"solid\"},\"marker\":{\"symbol\":\"circle\"},\"mode\":\"lines\",\"name\":\"0600:0700\",\"orientation\":\"v\",\"showlegend\":true,\"x\":[\"2015_01\",\"2015_02\",\"2015_05\",\"2015_06\",\"2015_07\",\"2015_08\",\"2015_12\",\"2016_01\"],\"xaxis\":\"x\",\"y\":[1,3,1,1,1,1,1,1],\"yaxis\":\"y\",\"type\":\"scatter\"},{\"hovertemplate\":\"color=0400:0500\\u003cbr\\u003ex=%{x}\\u003cbr\\u003ey=%{y}\\u003cextra\\u003e\\u003c\\u002fextra\\u003e\",\"legendgroup\":\"0400:0500\",\"line\":{\"color\":\"#FF97FF\",\"dash\":\"solid\"},\"marker\":{\"symbol\":\"circle\"},\"mode\":\"lines\",\"name\":\"0400:0500\",\"orientation\":\"v\",\"showlegend\":true,\"x\":[\"2015_02\",\"2015_03\",\"2015_04\",\"2015_05\",\"2015_06\",\"2015_07\",\"2015_08\",\"2015_09\",\"2015_10\",\"2015_11\",\"2016_01\"],\"xaxis\":\"x\",\"y\":[1,1,2,2,5,4,6,2,1,1,1],\"yaxis\":\"y\",\"type\":\"scatter\"},{\"hovertemplate\":\"color=2000:3000\\u003cbr\\u003ex=%{x}\\u003cbr\\u003ey=%{y}\\u003cextra\\u003e\\u003c\\u002fextra\\u003e\",\"legendgroup\":\"2000:3000\",\"line\":{\"color\":\"#FECB52\",\"dash\":\"solid\"},\"marker\":{\"symbol\":\"circle\"},\"mode\":\"lines\",\"name\":\"2000:3000\",\"orientation\":\"v\",\"showlegend\":true,\"x\":[\"2015_03\"],\"xaxis\":\"x\",\"y\":[2],\"yaxis\":\"y\",\"type\":\"scatter\"},{\"hovertemplate\":\"color=1000:1500\\u003cbr\\u003ex=%{x}\\u003cbr\\u003ey=%{y}\\u003cextra\\u003e\\u003c\\u002fextra\\u003e\",\"legendgroup\":\"1000:1500\",\"line\":{\"color\":\"#636efa\",\"dash\":\"solid\"},\"marker\":{\"symbol\":\"circle\"},\"mode\":\"lines\",\"name\":\"1000:1500\",\"orientation\":\"v\",\"showlegend\":true,\"x\":[\"2015_03\",\"2015_07\",\"2016_01\"],\"xaxis\":\"x\",\"y\":[2,1,3],\"yaxis\":\"y\",\"type\":\"scatter\"},{\"hovertemplate\":\"color=0800:0900\\u003cbr\\u003ex=%{x}\\u003cbr\\u003ey=%{y}\\u003cextra\\u003e\\u003c\\u002fextra\\u003e\",\"legendgroup\":\"0800:0900\",\"line\":{\"color\":\"#EF553B\",\"dash\":\"solid\"},\"marker\":{\"symbol\":\"circle\"},\"mode\":\"lines\",\"name\":\"0800:0900\",\"orientation\":\"v\",\"showlegend\":true,\"x\":[\"2015_05\"],\"xaxis\":\"x\",\"y\":[1],\"yaxis\":\"y\",\"type\":\"scatter\"},{\"hovertemplate\":\"color=0700:0800\\u003cbr\\u003ex=%{x}\\u003cbr\\u003ey=%{y}\\u003cextra\\u003e\\u003c\\u002fextra\\u003e\",\"legendgroup\":\"0700:0800\",\"line\":{\"color\":\"#00cc96\",\"dash\":\"solid\"},\"marker\":{\"symbol\":\"circle\"},\"mode\":\"lines\",\"name\":\"0700:0800\",\"orientation\":\"v\",\"showlegend\":true,\"x\":[\"2015_07\",\"2015_08\",\"2016_01\",\"2016_02\"],\"xaxis\":\"x\",\"y\":[1,1,2,1],\"yaxis\":\"y\",\"type\":\"scatter\"},{\"hovertemplate\":\"color=0900:1000\\u003cbr\\u003ex=%{x}\\u003cbr\\u003ey=%{y}\\u003cextra\\u003e\\u003c\\u002fextra\\u003e\",\"legendgroup\":\"0900:1000\",\"line\":{\"color\":\"#ab63fa\",\"dash\":\"solid\"},\"marker\":{\"symbol\":\"circle\"},\"mode\":\"lines\",\"name\":\"0900:1000\",\"orientation\":\"v\",\"showlegend\":true,\"x\":[\"2015_07\"],\"xaxis\":\"x\",\"y\":[1],\"yaxis\":\"y\",\"type\":\"scatter\"},{\"hovertemplate\":\"color=1500:2000\\u003cbr\\u003ex=%{x}\\u003cbr\\u003ey=%{y}\\u003cextra\\u003e\\u003c\\u002fextra\\u003e\",\"legendgroup\":\"1500:2000\",\"line\":{\"color\":\"#FFA15A\",\"dash\":\"solid\"},\"marker\":{\"symbol\":\"circle\"},\"mode\":\"lines\",\"name\":\"1500:2000\",\"orientation\":\"v\",\"showlegend\":true,\"x\":[\"2016_01\"],\"xaxis\":\"x\",\"y\":[1],\"yaxis\":\"y\",\"type\":\"scatter\"}],                        {\"template\":{\"data\":{\"histogram2dcontour\":[{\"type\":\"histogram2dcontour\",\"colorbar\":{\"outlinewidth\":0,\"ticks\":\"\"},\"colorscale\":[[0.0,\"#0d0887\"],[0.1111111111111111,\"#46039f\"],[0.2222222222222222,\"#7201a8\"],[0.3333333333333333,\"#9c179e\"],[0.4444444444444444,\"#bd3786\"],[0.5555555555555556,\"#d8576b\"],[0.6666666666666666,\"#ed7953\"],[0.7777777777777778,\"#fb9f3a\"],[0.8888888888888888,\"#fdca26\"],[1.0,\"#f0f921\"]]}],\"choropleth\":[{\"type\":\"choropleth\",\"colorbar\":{\"outlinewidth\":0,\"ticks\":\"\"}}],\"histogram2d\":[{\"type\":\"histogram2d\",\"colorbar\":{\"outlinewidth\":0,\"ticks\":\"\"},\"colorscale\":[[0.0,\"#0d0887\"],[0.1111111111111111,\"#46039f\"],[0.2222222222222222,\"#7201a8\"],[0.3333333333333333,\"#9c179e\"],[0.4444444444444444,\"#bd3786\"],[0.5555555555555556,\"#d8576b\"],[0.6666666666666666,\"#ed7953\"],[0.7777777777777778,\"#fb9f3a\"],[0.8888888888888888,\"#fdca26\"],[1.0,\"#f0f921\"]]}],\"heatmap\":[{\"type\":\"heatmap\",\"colorbar\":{\"outlinewidth\":0,\"ticks\":\"\"},\"colorscale\":[[0.0,\"#0d0887\"],[0.1111111111111111,\"#46039f\"],[0.2222222222222222,\"#7201a8\"],[0.3333333333333333,\"#9c179e\"],[0.4444444444444444,\"#bd3786\"],[0.5555555555555556,\"#d8576b\"],[0.6666666666666666,\"#ed7953\"],[0.7777777777777778,\"#fb9f3a\"],[0.8888888888888888,\"#fdca26\"],[1.0,\"#f0f921\"]]}],\"heatmapgl\":[{\"type\":\"heatmapgl\",\"colorbar\":{\"outlinewidth\":0,\"ticks\":\"\"},\"colorscale\":[[0.0,\"#0d0887\"],[0.1111111111111111,\"#46039f\"],[0.2222222222222222,\"#7201a8\"],[0.3333333333333333,\"#9c179e\"],[0.4444444444444444,\"#bd3786\"],[0.5555555555555556,\"#d8576b\"],[0.6666666666666666,\"#ed7953\"],[0.7777777777777778,\"#fb9f3a\"],[0.8888888888888888,\"#fdca26\"],[1.0,\"#f0f921\"]]}],\"contourcarpet\":[{\"type\":\"contourcarpet\",\"colorbar\":{\"outlinewidth\":0,\"ticks\":\"\"}}],\"contour\":[{\"type\":\"contour\",\"colorbar\":{\"outlinewidth\":0,\"ticks\":\"\"},\"colorscale\":[[0.0,\"#0d0887\"],[0.1111111111111111,\"#46039f\"],[0.2222222222222222,\"#7201a8\"],[0.3333333333333333,\"#9c179e\"],[0.4444444444444444,\"#bd3786\"],[0.5555555555555556,\"#d8576b\"],[0.6666666666666666,\"#ed7953\"],[0.7777777777777778,\"#fb9f3a\"],[0.8888888888888888,\"#fdca26\"],[1.0,\"#f0f921\"]]}],\"surface\":[{\"type\":\"surface\",\"colorbar\":{\"outlinewidth\":0,\"ticks\":\"\"},\"colorscale\":[[0.0,\"#0d0887\"],[0.1111111111111111,\"#46039f\"],[0.2222222222222222,\"#7201a8\"],[0.3333333333333333,\"#9c179e\"],[0.4444444444444444,\"#bd3786\"],[0.5555555555555556,\"#d8576b\"],[0.6666666666666666,\"#ed7953\"],[0.7777777777777778,\"#fb9f3a\"],[0.8888888888888888,\"#fdca26\"],[1.0,\"#f0f921\"]]}],\"mesh3d\":[{\"type\":\"mesh3d\",\"colorbar\":{\"outlinewidth\":0,\"ticks\":\"\"}}],\"scatter\":[{\"fillpattern\":{\"fillmode\":\"overlay\",\"size\":10,\"solidity\":0.2},\"type\":\"scatter\"}],\"parcoords\":[{\"type\":\"parcoords\",\"line\":{\"colorbar\":{\"outlinewidth\":0,\"ticks\":\"\"}}}],\"scatterpolargl\":[{\"type\":\"scatterpolargl\",\"marker\":{\"colorbar\":{\"outlinewidth\":0,\"ticks\":\"\"}}}],\"bar\":[{\"error_x\":{\"color\":\"#2a3f5f\"},\"error_y\":{\"color\":\"#2a3f5f\"},\"marker\":{\"line\":{\"color\":\"#E5ECF6\",\"width\":0.5},\"pattern\":{\"fillmode\":\"overlay\",\"size\":10,\"solidity\":0.2}},\"type\":\"bar\"}],\"scattergeo\":[{\"type\":\"scattergeo\",\"marker\":{\"colorbar\":{\"outlinewidth\":0,\"ticks\":\"\"}}}],\"scatterpolar\":[{\"type\":\"scatterpolar\",\"marker\":{\"colorbar\":{\"outlinewidth\":0,\"ticks\":\"\"}}}],\"histogram\":[{\"marker\":{\"pattern\":{\"fillmode\":\"overlay\",\"size\":10,\"solidity\":0.2}},\"type\":\"histogram\"}],\"scattergl\":[{\"type\":\"scattergl\",\"marker\":{\"colorbar\":{\"outlinewidth\":0,\"ticks\":\"\"}}}],\"scatter3d\":[{\"type\":\"scatter3d\",\"line\":{\"colorbar\":{\"outlinewidth\":0,\"ticks\":\"\"}},\"marker\":{\"colorbar\":{\"outlinewidth\":0,\"ticks\":\"\"}}}],\"scattermapbox\":[{\"type\":\"scattermapbox\",\"marker\":{\"colorbar\":{\"outlinewidth\":0,\"ticks\":\"\"}}}],\"scatterternary\":[{\"type\":\"scatterternary\",\"marker\":{\"colorbar\":{\"outlinewidth\":0,\"ticks\":\"\"}}}],\"scattercarpet\":[{\"type\":\"scattercarpet\",\"marker\":{\"colorbar\":{\"outlinewidth\":0,\"ticks\":\"\"}}}],\"carpet\":[{\"aaxis\":{\"endlinecolor\":\"#2a3f5f\",\"gridcolor\":\"white\",\"linecolor\":\"white\",\"minorgridcolor\":\"white\",\"startlinecolor\":\"#2a3f5f\"},\"baxis\":{\"endlinecolor\":\"#2a3f5f\",\"gridcolor\":\"white\",\"linecolor\":\"white\",\"minorgridcolor\":\"white\",\"startlinecolor\":\"#2a3f5f\"},\"type\":\"carpet\"}],\"table\":[{\"cells\":{\"fill\":{\"color\":\"#EBF0F8\"},\"line\":{\"color\":\"white\"}},\"header\":{\"fill\":{\"color\":\"#C8D4E3\"},\"line\":{\"color\":\"white\"}},\"type\":\"table\"}],\"barpolar\":[{\"marker\":{\"line\":{\"color\":\"#E5ECF6\",\"width\":0.5},\"pattern\":{\"fillmode\":\"overlay\",\"size\":10,\"solidity\":0.2}},\"type\":\"barpolar\"}],\"pie\":[{\"automargin\":true,\"type\":\"pie\"}]},\"layout\":{\"autotypenumbers\":\"strict\",\"colorway\":[\"#636efa\",\"#EF553B\",\"#00cc96\",\"#ab63fa\",\"#FFA15A\",\"#19d3f3\",\"#FF6692\",\"#B6E880\",\"#FF97FF\",\"#FECB52\"],\"font\":{\"color\":\"#2a3f5f\"},\"hovermode\":\"closest\",\"hoverlabel\":{\"align\":\"left\"},\"paper_bgcolor\":\"white\",\"plot_bgcolor\":\"#E5ECF6\",\"polar\":{\"bgcolor\":\"#E5ECF6\",\"angularaxis\":{\"gridcolor\":\"white\",\"linecolor\":\"white\",\"ticks\":\"\"},\"radialaxis\":{\"gridcolor\":\"white\",\"linecolor\":\"white\",\"ticks\":\"\"}},\"ternary\":{\"bgcolor\":\"#E5ECF6\",\"aaxis\":{\"gridcolor\":\"white\",\"linecolor\":\"white\",\"ticks\":\"\"},\"baxis\":{\"gridcolor\":\"white\",\"linecolor\":\"white\",\"ticks\":\"\"},\"caxis\":{\"gridcolor\":\"white\",\"linecolor\":\"white\",\"ticks\":\"\"}},\"coloraxis\":{\"colorbar\":{\"outlinewidth\":0,\"ticks\":\"\"}},\"colorscale\":{\"sequential\":[[0.0,\"#0d0887\"],[0.1111111111111111,\"#46039f\"],[0.2222222222222222,\"#7201a8\"],[0.3333333333333333,\"#9c179e\"],[0.4444444444444444,\"#bd3786\"],[0.5555555555555556,\"#d8576b\"],[0.6666666666666666,\"#ed7953\"],[0.7777777777777778,\"#fb9f3a\"],[0.8888888888888888,\"#fdca26\"],[1.0,\"#f0f921\"]],\"sequentialminus\":[[0.0,\"#0d0887\"],[0.1111111111111111,\"#46039f\"],[0.2222222222222222,\"#7201a8\"],[0.3333333333333333,\"#9c179e\"],[0.4444444444444444,\"#bd3786\"],[0.5555555555555556,\"#d8576b\"],[0.6666666666666666,\"#ed7953\"],[0.7777777777777778,\"#fb9f3a\"],[0.8888888888888888,\"#fdca26\"],[1.0,\"#f0f921\"]],\"diverging\":[[0,\"#8e0152\"],[0.1,\"#c51b7d\"],[0.2,\"#de77ae\"],[0.3,\"#f1b6da\"],[0.4,\"#fde0ef\"],[0.5,\"#f7f7f7\"],[0.6,\"#e6f5d0\"],[0.7,\"#b8e186\"],[0.8,\"#7fbc41\"],[0.9,\"#4d9221\"],[1,\"#276419\"]]},\"xaxis\":{\"gridcolor\":\"white\",\"linecolor\":\"white\",\"ticks\":\"\",\"title\":{\"standoff\":15},\"zerolinecolor\":\"white\",\"automargin\":true,\"zerolinewidth\":2},\"yaxis\":{\"gridcolor\":\"white\",\"linecolor\":\"white\",\"ticks\":\"\",\"title\":{\"standoff\":15},\"zerolinecolor\":\"white\",\"automargin\":true,\"zerolinewidth\":2},\"scene\":{\"xaxis\":{\"backgroundcolor\":\"#E5ECF6\",\"gridcolor\":\"white\",\"linecolor\":\"white\",\"showbackground\":true,\"ticks\":\"\",\"zerolinecolor\":\"white\",\"gridwidth\":2},\"yaxis\":{\"backgroundcolor\":\"#E5ECF6\",\"gridcolor\":\"white\",\"linecolor\":\"white\",\"showbackground\":true,\"ticks\":\"\",\"zerolinecolor\":\"white\",\"gridwidth\":2},\"zaxis\":{\"backgroundcolor\":\"#E5ECF6\",\"gridcolor\":\"white\",\"linecolor\":\"white\",\"showbackground\":true,\"ticks\":\"\",\"zerolinecolor\":\"white\",\"gridwidth\":2}},\"shapedefaults\":{\"line\":{\"color\":\"#2a3f5f\"}},\"annotationdefaults\":{\"arrowcolor\":\"#2a3f5f\",\"arrowhead\":0,\"arrowwidth\":1},\"geo\":{\"bgcolor\":\"white\",\"landcolor\":\"#E5ECF6\",\"subunitcolor\":\"white\",\"showland\":true,\"showlakes\":true,\"lakecolor\":\"white\"},\"title\":{\"x\":0.05},\"mapbox\":{\"style\":\"light\"}}},\"xaxis\":{\"anchor\":\"y\",\"domain\":[0.0,1.0],\"title\":{\"text\":\"year_month\"}},\"yaxis\":{\"anchor\":\"x\",\"domain\":[0.0,1.0],\"title\":{\"text\":\"Frequency\"}},\"legend\":{\"title\":{\"text\":\"color\"},\"tracegroupgap\":0},\"title\":{\"text\":\"Trends in cost categories over time Analysis\",\"x\":0.5}},                        {\"responsive\": true}                    ).then(function(){\n",
       "                            \n",
       "var gd = document.getElementById('ac389a26-cce2-4344-8094-39a349d35c43');\n",
       "var x = new MutationObserver(function (mutations, observer) {{\n",
       "        var display = window.getComputedStyle(gd).display;\n",
       "        if (!display || display === 'none') {{\n",
       "            console.log([gd, 'removed!']);\n",
       "            Plotly.purge(gd);\n",
       "            observer.disconnect();\n",
       "        }}\n",
       "}});\n",
       "\n",
       "// Listen for the removal of the full notebook cells\n",
       "var notebookContainer = gd.closest('#notebook-container');\n",
       "if (notebookContainer) {{\n",
       "    x.observe(notebookContainer, {childList: true});\n",
       "}}\n",
       "\n",
       "// Listen for the clearing of the current output cell\n",
       "var outputEl = gd.closest('.output');\n",
       "if (outputEl) {{\n",
       "    x.observe(outputEl, {childList: true});\n",
       "}}\n",
       "\n",
       "                        })                };                });            </script>        </div>"
      ]
     },
     "metadata": {},
     "output_type": "display_data"
    },
    {
     "name": "stdout",
     "output_type": "stream",
     "text": [
      "The year and month that has maximum cost category frequency is : 2015_09\n",
      "The Cost Category that has maximum frequency is : 0001:0050\n",
      "The maximum frequency is : 85\n"
     ]
    }
   ],
   "source": [
    "df['year_month'] = df['date ready'].dt.year.astype(str) + '_' + df['date ready'].dt.month.astype(str).str.zfill(2)\n",
    "date_costCategory = df.groupby(['year_month','cost_category']).size().reset_index(name='Frequency').sort_values(by='year_month')\n",
    "myPlot1(date_costCategory,'year_month','Frequency','cost_category','line','Trends in cost categories over time', sort_by=None, ascending=True)\n",
    "Maximum_row = date_costCategory.loc[date_costCategory['Frequency'].idxmax()]\n",
    "print('The year and month that has maximum cost category frequency is :',Maximum_row['year_month'])\n",
    "print('The Cost Category that has maximum frequency is :',Maximum_row['cost_category'])\n",
    "print('The maximum frequency is :',Maximum_row['Frequency'])"
   ]
  },
  {
   "cell_type": "code",
   "execution_count": null,
   "id": "b08b0ced",
   "metadata": {},
   "outputs": [],
   "source": []
  }
 ],
 "metadata": {
  "kernelspec": {
   "display_name": "Python 3 (ipykernel)",
   "language": "python",
   "name": "python3"
  },
  "language_info": {
   "codemirror_mode": {
    "name": "ipython",
    "version": 3
   },
   "file_extension": ".py",
   "mimetype": "text/x-python",
   "name": "python",
   "nbconvert_exporter": "python",
   "pygments_lexer": "ipython3",
   "version": "3.7.9"
  }
 },
 "nbformat": 4,
 "nbformat_minor": 5
}
