{
 "cells": [
  {
   "cell_type": "code",
   "execution_count": 4,
   "id": "556bbe23",
   "metadata": {},
   "outputs": [],
   "source": []
  },
  {
   "cell_type": "markdown",
   "id": "814e3a29",
   "metadata": {},
   "source": [
    "# Story Telling\""
   ]
  },
  {
   "cell_type": "markdown",
   "id": "a6471a82",
   "metadata": {},
   "source": [
    "![Investor Image](investor.png \"This is an investor image.\")"
   ]
  },
  {
   "cell_type": "markdown",
   "id": "ccf24d6f",
   "metadata": {},
   "source": [
    "# Ahmad is an investor\n",
    "#### Ahmad has established a company provides car service for different car damages, his company has a lot of locations in different cities in the country.\n",
    "#### Ahmad's company deals only with corporates not individuals.\n",
    "#### After one year, Ahmad felt that the profit generated from locations have problems, so he requested to do Data analysis with objective (maximizing the profit and minimizing any loss)\n",
    "#### Ahmad cannot control the damage happens to cars, and cannot control to which service location this damage in certain car should go.\n",
    "#### No information was provided with regard to location operational cost, employees salary, employees experience, the only available information is the provided dataset\n",
    "#### --------------------------------------------------------------------------------------------------------------------------------------------------------------------------------------\n",
    "#### The dataset provides various details such as car information, damage types, dates, service locations, fuel levels, and cost categories.\n",
    "### To address Ahmad's situation and maximize income while minimizing loss, here are a few key areas of analysis:\n",
    "1. Corporate Client Profitability\n",
    "2. Service Location Profitability\n",
    "3. Cost Category Optimization\n",
    "4. Damage Type and Service Strategy\n",
    "5. Service Duration Efficiency\n",
    "#### While we should start exploring the dataset and its fields, and the relation of these field with each other to beter understanding the dataset, at the end we will reach to the above 5 analysis and provide the suitable recommendation\n",
    "#### Follow us\n",
    "## Suhail Sallam"
   ]
  },
  {
   "cell_type": "code",
   "execution_count": null,
   "id": "711cc320",
   "metadata": {},
   "outputs": [],
   "source": []
  }
 ],
 "metadata": {
  "kernelspec": {
   "display_name": "Python 3 (ipykernel)",
   "language": "python",
   "name": "python3"
  },
  "language_info": {
   "codemirror_mode": {
    "name": "ipython",
    "version": 3
   },
   "file_extension": ".py",
   "mimetype": "text/x-python",
   "name": "python",
   "nbconvert_exporter": "python",
   "pygments_lexer": "ipython3",
   "version": "3.7.9"
  }
 },
 "nbformat": 4,
 "nbformat_minor": 5
}
