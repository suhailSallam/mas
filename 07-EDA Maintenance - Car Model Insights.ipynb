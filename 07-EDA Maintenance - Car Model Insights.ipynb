{
 "cells": [
  {
   "cell_type": "code",
   "execution_count": 55,
   "id": "861f804f",
   "metadata": {},
   "outputs": [],
   "source": [
    "# Import Libraries"
   ]
  },
  {
   "cell_type": "code",
   "execution_count": 56,
   "id": "6dc68dd5",
   "metadata": {},
   "outputs": [
    {
     "data": {
      "text/plain": [
       "'module://matplotlib_inline.backend_inline'"
      ]
     },
     "execution_count": 56,
     "metadata": {},
     "output_type": "execute_result"
    }
   ],
   "source": [
    "import pandas as pd\n",
    "import numpy as np\n",
    "import matplotlib.pyplot as plt\n",
    "import matplotlib\n",
    "import seaborn as sns\n",
    "import plotly.express as px\n",
    "import plotly.io as pio\n",
    "import plotly\n",
    "from ydata_profiling import  ProfileReport\n",
    "import PyQt5 as qt\n",
    "from IPython.display import display, Markdown\n",
    "#Enable graphing inside jupytor\n",
    "#pip install PyQt5 #Install it if not installed\n",
    "get_ipython().run_line_magic('matplotlib', 'inline')\n",
    "matplotlib.get_backend()"
   ]
  },
  {
   "cell_type": "code",
   "execution_count": 57,
   "id": "39a6fdd2",
   "metadata": {},
   "outputs": [],
   "source": [
    "# Load Data"
   ]
  },
  {
   "cell_type": "code",
   "execution_count": 58,
   "id": "41cba117",
   "metadata": {},
   "outputs": [],
   "source": [
    "df = pd.read_excel('maintenance_cleaned_extended.xlsx')"
   ]
  },
  {
   "cell_type": "code",
   "execution_count": 59,
   "id": "eab8cdb0",
   "metadata": {},
   "outputs": [],
   "source": [
    "# Visualization Functions"
   ]
  },
  {
   "cell_type": "code",
   "execution_count": 60,
   "id": "9b603a66",
   "metadata": {},
   "outputs": [],
   "source": [
    "## Bar, Scatter, Line charts"
   ]
  },
  {
   "cell_type": "code",
   "execution_count": 61,
   "id": "da59ec40",
   "metadata": {},
   "outputs": [],
   "source": [
    "def myPlot(data,plotType,title):\n",
    "    data = data.sort_values(ascending=True)\n",
    "    xs = data.index.astype(str)  \n",
    "    ys = data.values\n",
    "    if plotType == 'bar':\n",
    "        fig = px.bar(data_frame=data, x = xs, y = ys,color=ys,title=title+' Analysis')\n",
    "    elif plotType == 'scatter':\n",
    "        fig = px.scatter(data_frame=data, x = xs, y = ys,color=ys,title=title+' Analysis')\n",
    "    elif plotType == 'line':\n",
    "        fig = px.line(data_frame=data, x = xs, y = ys,title=title+' Analysis')\n",
    "    fig.update_layout(title_x=0.45)\n",
    "    fig.show()"
   ]
  },
  {
   "cell_type": "code",
   "execution_count": 62,
   "id": "d0bc1235",
   "metadata": {},
   "outputs": [],
   "source": [
    "def myPlot1(data,xs,ys,clr,plotType,title, sort_by=None, ascending=True):\n",
    "    if sort_by is not None:\n",
    "        data_sorted = data.sort_values(by=sort_by, ascending=ascending)\n",
    "    else:\n",
    "        data_sorted = data\n",
    "    xt=str(xs)\n",
    "    yt=str(ys)\n",
    "    xs = data_sorted[xs].astype(str)  \n",
    "    ys = data_sorted[ys]              \n",
    "    clr = data_sorted[clr].astype(str)\n",
    "    if plotType == 'bar':\n",
    "        fig = px.bar(data_frame=data_sorted, x = xs, y = ys,color=clr,title=title+' Analysis')\n",
    "    elif plotType == 'scatter':\n",
    "        fig = px.scatter(data_frame=data_sorted, x = xs, y = ys,color=clr,title=title+' Analysis')\n",
    "    elif plotType == 'line':\n",
    "        fig = px.line(data_frame=data_sorted, x = xs, y = ys,color=clr,title=title+' Analysis')\n",
    "    fig.update_layout(title_x=0.5)\n",
    "    fig.update_layout(\n",
    "        xaxis_title=xt,\n",
    "        yaxis_title=yt\n",
    ")\n",
    "    fig.show()"
   ]
  },
  {
   "cell_type": "code",
   "execution_count": 63,
   "id": "a013ee33",
   "metadata": {},
   "outputs": [],
   "source": [
    "def myPlot2(data, plotType, title):\n",
    "    xs = data.index.astype(str)  # Index (x-axis)\n",
    "    ys = data.values             # Values (y-axis)\n",
    "    # Plot based on the plotType\n",
    "    if plotType == 'bar':\n",
    "        fig = px.bar(x=xs, y=ys, color=ys, title=title + ' Analysis')\n",
    "    elif plotType == 'scatter':\n",
    "        fig = px.scatter(x=xs, y=ys, color=ys, title=title + ' Analysis')\n",
    "    elif plotType == 'line':\n",
    "        fig = px.line(x=xs, y=ys, title=title + ' Analysis')\n",
    "    # Center the title\n",
    "    fig.update_layout(title_x=0.5)\n",
    "    fig.show()"
   ]
  },
  {
   "cell_type": "code",
   "execution_count": 64,
   "id": "50aab377",
   "metadata": {},
   "outputs": [],
   "source": [
    "def myBoxPlot(data,x,y,color,title):\n",
    "    fig = px.box(data, x=x, y=y, color=color, title=title)\n",
    "    fig.update_layout(\n",
    "        title_x=0.5,\n",
    "        xaxis_title=str(x),\n",
    "        yaxis_title=str(y)\n",
    "    )\n",
    "    fig.show()"
   ]
  },
  {
   "cell_type": "code",
   "execution_count": 65,
   "id": "c3aff5bd",
   "metadata": {},
   "outputs": [],
   "source": [
    "## Sunburst chart"
   ]
  },
  {
   "cell_type": "code",
   "execution_count": 66,
   "id": "822f8364",
   "metadata": {},
   "outputs": [],
   "source": [
    "def mySunBurst(data, name, value, title):\n",
    "    fig = px.sunburst(\n",
    "        data_frame=data,\n",
    "        #path=['cost_category', 'damage type'],   # Add both cost_category and damage type to the hierarchy\n",
    "        path=name,\n",
    "        values=value,  # Define the values (damage_count)\n",
    "        title=title+' Analysis'\n",
    "    )\n",
    "    fig.update_layout(title_x=0.45)\n",
    "    fig.show()"
   ]
  },
  {
   "cell_type": "code",
   "execution_count": 67,
   "id": "f0612a04",
   "metadata": {},
   "outputs": [],
   "source": [
    "## Pie chart"
   ]
  },
  {
   "cell_type": "code",
   "execution_count": 68,
   "id": "4d908bb3",
   "metadata": {},
   "outputs": [],
   "source": [
    "def myPie(data,title_prefix):\n",
    "    name  = data.index\n",
    "    value = data.values\n",
    "    fig = px.pie(data_frame=data,\n",
    "                 names = name, \n",
    "                 values = value,\n",
    "                 title ='Top 5 '+ title_prefix +' Analysis'\n",
    "                )\n",
    "    fig.update_layout(title_x=0.5)\n",
    "\n",
    "    fig.show()"
   ]
  },
  {
   "cell_type": "code",
   "execution_count": 69,
   "id": "c7983e8c",
   "metadata": {},
   "outputs": [],
   "source": [
    "## Combine DataFrames"
   ]
  },
  {
   "cell_type": "code",
   "execution_count": 70,
   "id": "e2dbb00d",
   "metadata": {},
   "outputs": [],
   "source": [
    "def combine(data,first_field,first_field_count,field_grouped_on,resulting_field_value):\n",
    "    data_first_cat = data[first_field].value_counts().reset_index()\n",
    "    data_first_cat.columns = [first_field,first_field_count]\n",
    "    data_merged = data.groupby([first_field])[field_grouped_on].sum().reset_index(name=resulting_field_value)\n",
    "    data_merged = data_merged.merge(data_first_cat,on=first_field)\n",
    "    return first_field_count, resulting_field_value, data_merged"
   ]
  },
  {
   "cell_type": "code",
   "execution_count": 71,
   "id": "bcd4cbec",
   "metadata": {},
   "outputs": [],
   "source": [
    "## Bi - Variance Analysis"
   ]
  },
  {
   "cell_type": "code",
   "execution_count": 72,
   "id": "fe162242",
   "metadata": {},
   "outputs": [],
   "source": [
    "### Car Models Insights"
   ]
  },
  {
   "cell_type": "code",
   "execution_count": 73,
   "id": "3ffb4bbd",
   "metadata": {},
   "outputs": [],
   "source": [
    "#### Most frequently serviced car models"
   ]
  },
  {
   "cell_type": "code",
   "execution_count": 74,
   "id": "ccfa4791",
   "metadata": {},
   "outputs": [
    {
     "data": {
      "application/vnd.plotly.v1+json": {
       "config": {
        "plotlyServerURL": "https://plot.ly"
       },
       "data": [
        {
         "alignmentgroup": "True",
         "hovertemplate": "color=FORTUNER<br>x=%{x}<br>Frequecy of servecing=%{y}<extra></extra>",
         "legendgroup": "FORTUNER",
         "marker": {
          "color": "#636efa",
          "pattern": {
           "shape": ""
          }
         },
         "name": "FORTUNER",
         "offsetgroup": "FORTUNER",
         "orientation": "v",
         "showlegend": true,
         "textposition": "auto",
         "type": "bar",
         "x": [
          "FORTUNER"
         ],
         "xaxis": "x",
         "y": [
          232
         ],
         "yaxis": "y"
        },
        {
         "alignmentgroup": "True",
         "hovertemplate": "color=CERATO<br>x=%{x}<br>Frequecy of servecing=%{y}<extra></extra>",
         "legendgroup": "CERATO",
         "marker": {
          "color": "#EF553B",
          "pattern": {
           "shape": ""
          }
         },
         "name": "CERATO",
         "offsetgroup": "CERATO",
         "orientation": "v",
         "showlegend": true,
         "textposition": "auto",
         "type": "bar",
         "x": [
          "CERATO"
         ],
         "xaxis": "x",
         "y": [
          178
         ],
         "yaxis": "y"
        },
        {
         "alignmentgroup": "True",
         "hovertemplate": "color=COROLLA<br>x=%{x}<br>Frequecy of servecing=%{y}<extra></extra>",
         "legendgroup": "COROLLA",
         "marker": {
          "color": "#00cc96",
          "pattern": {
           "shape": ""
          }
         },
         "name": "COROLLA",
         "offsetgroup": "COROLLA",
         "orientation": "v",
         "showlegend": true,
         "textposition": "auto",
         "type": "bar",
         "x": [
          "COROLLA"
         ],
         "xaxis": "x",
         "y": [
          156
         ],
         "yaxis": "y"
        },
        {
         "alignmentgroup": "True",
         "hovertemplate": "color=H 1<br>x=%{x}<br>Frequecy of servecing=%{y}<extra></extra>",
         "legendgroup": "H 1",
         "marker": {
          "color": "#ab63fa",
          "pattern": {
           "shape": ""
          }
         },
         "name": "H 1",
         "offsetgroup": "H 1",
         "orientation": "v",
         "showlegend": true,
         "textposition": "auto",
         "type": "bar",
         "x": [
          "H 1"
         ],
         "xaxis": "x",
         "y": [
          101
         ],
         "yaxis": "y"
        },
        {
         "alignmentgroup": "True",
         "hovertemplate": "color=HILUX<br>x=%{x}<br>Frequecy of servecing=%{y}<extra></extra>",
         "legendgroup": "HILUX",
         "marker": {
          "color": "#FFA15A",
          "pattern": {
           "shape": ""
          }
         },
         "name": "HILUX",
         "offsetgroup": "HILUX",
         "orientation": "v",
         "showlegend": true,
         "textposition": "auto",
         "type": "bar",
         "x": [
          "HILUX"
         ],
         "xaxis": "x",
         "y": [
          97
         ],
         "yaxis": "y"
        },
        {
         "alignmentgroup": "True",
         "hovertemplate": "color=ELANTRA<br>x=%{x}<br>Frequecy of servecing=%{y}<extra></extra>",
         "legendgroup": "ELANTRA",
         "marker": {
          "color": "#19d3f3",
          "pattern": {
           "shape": ""
          }
         },
         "name": "ELANTRA",
         "offsetgroup": "ELANTRA",
         "orientation": "v",
         "showlegend": true,
         "textposition": "auto",
         "type": "bar",
         "x": [
          "ELANTRA"
         ],
         "xaxis": "x",
         "y": [
          87
         ],
         "yaxis": "y"
        },
        {
         "alignmentgroup": "True",
         "hovertemplate": "color=CAMRY<br>x=%{x}<br>Frequecy of servecing=%{y}<extra></extra>",
         "legendgroup": "CAMRY",
         "marker": {
          "color": "#FF6692",
          "pattern": {
           "shape": ""
          }
         },
         "name": "CAMRY",
         "offsetgroup": "CAMRY",
         "orientation": "v",
         "showlegend": true,
         "textposition": "auto",
         "type": "bar",
         "x": [
          "CAMRY"
         ],
         "xaxis": "x",
         "y": [
          86
         ],
         "yaxis": "y"
        },
        {
         "alignmentgroup": "True",
         "hovertemplate": "color=SPARK<br>x=%{x}<br>Frequecy of servecing=%{y}<extra></extra>",
         "legendgroup": "SPARK",
         "marker": {
          "color": "#B6E880",
          "pattern": {
           "shape": ""
          }
         },
         "name": "SPARK",
         "offsetgroup": "SPARK",
         "orientation": "v",
         "showlegend": true,
         "textposition": "auto",
         "type": "bar",
         "x": [
          "SPARK"
         ],
         "xaxis": "x",
         "y": [
          78
         ],
         "yaxis": "y"
        },
        {
         "alignmentgroup": "True",
         "hovertemplate": "color=RIO<br>x=%{x}<br>Frequecy of servecing=%{y}<extra></extra>",
         "legendgroup": "RIO",
         "marker": {
          "color": "#FF97FF",
          "pattern": {
           "shape": ""
          }
         },
         "name": "RIO",
         "offsetgroup": "RIO",
         "orientation": "v",
         "showlegend": true,
         "textposition": "auto",
         "type": "bar",
         "x": [
          "RIO"
         ],
         "xaxis": "x",
         "y": [
          70
         ],
         "yaxis": "y"
        },
        {
         "alignmentgroup": "True",
         "hovertemplate": "color=AVANZA<br>x=%{x}<br>Frequecy of servecing=%{y}<extra></extra>",
         "legendgroup": "AVANZA",
         "marker": {
          "color": "#FECB52",
          "pattern": {
           "shape": ""
          }
         },
         "name": "AVANZA",
         "offsetgroup": "AVANZA",
         "orientation": "v",
         "showlegend": true,
         "textposition": "auto",
         "type": "bar",
         "x": [
          "AVANZA"
         ],
         "xaxis": "x",
         "y": [
          62
         ],
         "yaxis": "y"
        },
        {
         "alignmentgroup": "True",
         "hovertemplate": "color=SPORTAGE<br>x=%{x}<br>Frequecy of servecing=%{y}<extra></extra>",
         "legendgroup": "SPORTAGE",
         "marker": {
          "color": "#636efa",
          "pattern": {
           "shape": ""
          }
         },
         "name": "SPORTAGE",
         "offsetgroup": "SPORTAGE",
         "orientation": "v",
         "showlegend": true,
         "textposition": "auto",
         "type": "bar",
         "x": [
          "SPORTAGE"
         ],
         "xaxis": "x",
         "y": [
          61
         ],
         "yaxis": "y"
        },
        {
         "alignmentgroup": "True",
         "hovertemplate": "color=YARIS<br>x=%{x}<br>Frequecy of servecing=%{y}<extra></extra>",
         "legendgroup": "YARIS",
         "marker": {
          "color": "#EF553B",
          "pattern": {
           "shape": ""
          }
         },
         "name": "YARIS",
         "offsetgroup": "YARIS",
         "orientation": "v",
         "showlegend": true,
         "textposition": "auto",
         "type": "bar",
         "x": [
          "YARIS"
         ],
         "xaxis": "x",
         "y": [
          56
         ],
         "yaxis": "y"
        },
        {
         "alignmentgroup": "True",
         "hovertemplate": "color=FLUENCE<br>x=%{x}<br>Frequecy of servecing=%{y}<extra></extra>",
         "legendgroup": "FLUENCE",
         "marker": {
          "color": "#00cc96",
          "pattern": {
           "shape": ""
          }
         },
         "name": "FLUENCE",
         "offsetgroup": "FLUENCE",
         "orientation": "v",
         "showlegend": true,
         "textposition": "auto",
         "type": "bar",
         "x": [
          "FLUENCE"
         ],
         "xaxis": "x",
         "y": [
          54
         ],
         "yaxis": "y"
        },
        {
         "alignmentgroup": "True",
         "hovertemplate": "color=CRUZE<br>x=%{x}<br>Frequecy of servecing=%{y}<extra></extra>",
         "legendgroup": "CRUZE",
         "marker": {
          "color": "#ab63fa",
          "pattern": {
           "shape": ""
          }
         },
         "name": "CRUZE",
         "offsetgroup": "CRUZE",
         "orientation": "v",
         "showlegend": true,
         "textposition": "auto",
         "type": "bar",
         "x": [
          "CRUZE"
         ],
         "xaxis": "x",
         "y": [
          44
         ],
         "yaxis": "y"
        },
        {
         "alignmentgroup": "True",
         "hovertemplate": "color=I 10<br>x=%{x}<br>Frequecy of servecing=%{y}<extra></extra>",
         "legendgroup": "I 10",
         "marker": {
          "color": "#FFA15A",
          "pattern": {
           "shape": ""
          }
         },
         "name": "I 10",
         "offsetgroup": "I 10",
         "orientation": "v",
         "showlegend": true,
         "textposition": "auto",
         "type": "bar",
         "x": [
          "I 10"
         ],
         "xaxis": "x",
         "y": [
          37
         ],
         "yaxis": "y"
        },
        {
         "alignmentgroup": "True",
         "hovertemplate": "color=SONIC<br>x=%{x}<br>Frequecy of servecing=%{y}<extra></extra>",
         "legendgroup": "SONIC",
         "marker": {
          "color": "#19d3f3",
          "pattern": {
           "shape": ""
          }
         },
         "name": "SONIC",
         "offsetgroup": "SONIC",
         "orientation": "v",
         "showlegend": true,
         "textposition": "auto",
         "type": "bar",
         "x": [
          "SONIC"
         ],
         "xaxis": "x",
         "y": [
          31
         ],
         "yaxis": "y"
        },
        {
         "alignmentgroup": "True",
         "hovertemplate": "color=PRADO<br>x=%{x}<br>Frequecy of servecing=%{y}<extra></extra>",
         "legendgroup": "PRADO",
         "marker": {
          "color": "#FF6692",
          "pattern": {
           "shape": ""
          }
         },
         "name": "PRADO",
         "offsetgroup": "PRADO",
         "orientation": "v",
         "showlegend": true,
         "textposition": "auto",
         "type": "bar",
         "x": [
          "PRADO"
         ],
         "xaxis": "x",
         "y": [
          19
         ],
         "yaxis": "y"
        },
        {
         "alignmentgroup": "True",
         "hovertemplate": "color=OPTIMA<br>x=%{x}<br>Frequecy of servecing=%{y}<extra></extra>",
         "legendgroup": "OPTIMA",
         "marker": {
          "color": "#B6E880",
          "pattern": {
           "shape": ""
          }
         },
         "name": "OPTIMA",
         "offsetgroup": "OPTIMA",
         "orientation": "v",
         "showlegend": true,
         "textposition": "auto",
         "type": "bar",
         "x": [
          "OPTIMA"
         ],
         "xaxis": "x",
         "y": [
          17
         ],
         "yaxis": "y"
        },
        {
         "alignmentgroup": "True",
         "hovertemplate": "color=TUCSAN<br>x=%{x}<br>Frequecy of servecing=%{y}<extra></extra>",
         "legendgroup": "TUCSAN",
         "marker": {
          "color": "#FF97FF",
          "pattern": {
           "shape": ""
          }
         },
         "name": "TUCSAN",
         "offsetgroup": "TUCSAN",
         "orientation": "v",
         "showlegend": true,
         "textposition": "auto",
         "type": "bar",
         "x": [
          "TUCSAN"
         ],
         "xaxis": "x",
         "y": [
          13
         ],
         "yaxis": "y"
        },
        {
         "alignmentgroup": "True",
         "hovertemplate": "color=RAV 4<br>x=%{x}<br>Frequecy of servecing=%{y}<extra></extra>",
         "legendgroup": "RAV 4",
         "marker": {
          "color": "#FECB52",
          "pattern": {
           "shape": ""
          }
         },
         "name": "RAV 4",
         "offsetgroup": "RAV 4",
         "orientation": "v",
         "showlegend": true,
         "textposition": "auto",
         "type": "bar",
         "x": [
          "RAV 4"
         ],
         "xaxis": "x",
         "y": [
          8
         ],
         "yaxis": "y"
        },
        {
         "alignmentgroup": "True",
         "hovertemplate": "color=PRIUS<br>x=%{x}<br>Frequecy of servecing=%{y}<extra></extra>",
         "legendgroup": "PRIUS",
         "marker": {
          "color": "#636efa",
          "pattern": {
           "shape": ""
          }
         },
         "name": "PRIUS",
         "offsetgroup": "PRIUS",
         "orientation": "v",
         "showlegend": true,
         "textposition": "auto",
         "type": "bar",
         "x": [
          "PRIUS"
         ],
         "xaxis": "x",
         "y": [
          6
         ],
         "yaxis": "y"
        },
        {
         "alignmentgroup": "True",
         "hovertemplate": "color=ACCENT<br>x=%{x}<br>Frequecy of servecing=%{y}<extra></extra>",
         "legendgroup": "ACCENT",
         "marker": {
          "color": "#EF553B",
          "pattern": {
           "shape": ""
          }
         },
         "name": "ACCENT",
         "offsetgroup": "ACCENT",
         "orientation": "v",
         "showlegend": true,
         "textposition": "auto",
         "type": "bar",
         "x": [
          "ACCENT"
         ],
         "xaxis": "x",
         "y": [
          3
         ],
         "yaxis": "y"
        },
        {
         "alignmentgroup": "True",
         "hovertemplate": "color=GUNSAYIL<br>x=%{x}<br>Frequecy of servecing=%{y}<extra></extra>",
         "legendgroup": "GUNSAYIL",
         "marker": {
          "color": "#00cc96",
          "pattern": {
           "shape": ""
          }
         },
         "name": "GUNSAYIL",
         "offsetgroup": "GUNSAYIL",
         "orientation": "v",
         "showlegend": true,
         "textposition": "auto",
         "type": "bar",
         "x": [
          "GUNSAYIL"
         ],
         "xaxis": "x",
         "y": [
          1
         ],
         "yaxis": "y"
        },
        {
         "alignmentgroup": "True",
         "hovertemplate": "color=PRUIS<br>x=%{x}<br>Frequecy of servecing=%{y}<extra></extra>",
         "legendgroup": "PRUIS",
         "marker": {
          "color": "#ab63fa",
          "pattern": {
           "shape": ""
          }
         },
         "name": "PRUIS",
         "offsetgroup": "PRUIS",
         "orientation": "v",
         "showlegend": true,
         "textposition": "auto",
         "type": "bar",
         "x": [
          "PRUIS"
         ],
         "xaxis": "x",
         "y": [
          1
         ],
         "yaxis": "y"
        },
        {
         "alignmentgroup": "True",
         "hovertemplate": "color=CITROEN<br>x=%{x}<br>Frequecy of servecing=%{y}<extra></extra>",
         "legendgroup": "CITROEN",
         "marker": {
          "color": "#FFA15A",
          "pattern": {
           "shape": ""
          }
         },
         "name": "CITROEN",
         "offsetgroup": "CITROEN",
         "orientation": "v",
         "showlegend": true,
         "textposition": "auto",
         "type": "bar",
         "x": [
          "CITROEN"
         ],
         "xaxis": "x",
         "y": [
          1
         ],
         "yaxis": "y"
        }
       ],
       "layout": {
        "barmode": "relative",
        "legend": {
         "title": {
          "text": "color"
         },
         "tracegroupgap": 0
        },
        "template": {
         "data": {
          "bar": [
           {
            "error_x": {
             "color": "#2a3f5f"
            },
            "error_y": {
             "color": "#2a3f5f"
            },
            "marker": {
             "line": {
              "color": "#E5ECF6",
              "width": 0.5
             },
             "pattern": {
              "fillmode": "overlay",
              "size": 10,
              "solidity": 0.2
             }
            },
            "type": "bar"
           }
          ],
          "barpolar": [
           {
            "marker": {
             "line": {
              "color": "#E5ECF6",
              "width": 0.5
             },
             "pattern": {
              "fillmode": "overlay",
              "size": 10,
              "solidity": 0.2
             }
            },
            "type": "barpolar"
           }
          ],
          "carpet": [
           {
            "aaxis": {
             "endlinecolor": "#2a3f5f",
             "gridcolor": "white",
             "linecolor": "white",
             "minorgridcolor": "white",
             "startlinecolor": "#2a3f5f"
            },
            "baxis": {
             "endlinecolor": "#2a3f5f",
             "gridcolor": "white",
             "linecolor": "white",
             "minorgridcolor": "white",
             "startlinecolor": "#2a3f5f"
            },
            "type": "carpet"
           }
          ],
          "choropleth": [
           {
            "colorbar": {
             "outlinewidth": 0,
             "ticks": ""
            },
            "type": "choropleth"
           }
          ],
          "contour": [
           {
            "colorbar": {
             "outlinewidth": 0,
             "ticks": ""
            },
            "colorscale": [
             [
              0,
              "#0d0887"
             ],
             [
              0.1111111111111111,
              "#46039f"
             ],
             [
              0.2222222222222222,
              "#7201a8"
             ],
             [
              0.3333333333333333,
              "#9c179e"
             ],
             [
              0.4444444444444444,
              "#bd3786"
             ],
             [
              0.5555555555555556,
              "#d8576b"
             ],
             [
              0.6666666666666666,
              "#ed7953"
             ],
             [
              0.7777777777777778,
              "#fb9f3a"
             ],
             [
              0.8888888888888888,
              "#fdca26"
             ],
             [
              1,
              "#f0f921"
             ]
            ],
            "type": "contour"
           }
          ],
          "contourcarpet": [
           {
            "colorbar": {
             "outlinewidth": 0,
             "ticks": ""
            },
            "type": "contourcarpet"
           }
          ],
          "heatmap": [
           {
            "colorbar": {
             "outlinewidth": 0,
             "ticks": ""
            },
            "colorscale": [
             [
              0,
              "#0d0887"
             ],
             [
              0.1111111111111111,
              "#46039f"
             ],
             [
              0.2222222222222222,
              "#7201a8"
             ],
             [
              0.3333333333333333,
              "#9c179e"
             ],
             [
              0.4444444444444444,
              "#bd3786"
             ],
             [
              0.5555555555555556,
              "#d8576b"
             ],
             [
              0.6666666666666666,
              "#ed7953"
             ],
             [
              0.7777777777777778,
              "#fb9f3a"
             ],
             [
              0.8888888888888888,
              "#fdca26"
             ],
             [
              1,
              "#f0f921"
             ]
            ],
            "type": "heatmap"
           }
          ],
          "heatmapgl": [
           {
            "colorbar": {
             "outlinewidth": 0,
             "ticks": ""
            },
            "colorscale": [
             [
              0,
              "#0d0887"
             ],
             [
              0.1111111111111111,
              "#46039f"
             ],
             [
              0.2222222222222222,
              "#7201a8"
             ],
             [
              0.3333333333333333,
              "#9c179e"
             ],
             [
              0.4444444444444444,
              "#bd3786"
             ],
             [
              0.5555555555555556,
              "#d8576b"
             ],
             [
              0.6666666666666666,
              "#ed7953"
             ],
             [
              0.7777777777777778,
              "#fb9f3a"
             ],
             [
              0.8888888888888888,
              "#fdca26"
             ],
             [
              1,
              "#f0f921"
             ]
            ],
            "type": "heatmapgl"
           }
          ],
          "histogram": [
           {
            "marker": {
             "pattern": {
              "fillmode": "overlay",
              "size": 10,
              "solidity": 0.2
             }
            },
            "type": "histogram"
           }
          ],
          "histogram2d": [
           {
            "colorbar": {
             "outlinewidth": 0,
             "ticks": ""
            },
            "colorscale": [
             [
              0,
              "#0d0887"
             ],
             [
              0.1111111111111111,
              "#46039f"
             ],
             [
              0.2222222222222222,
              "#7201a8"
             ],
             [
              0.3333333333333333,
              "#9c179e"
             ],
             [
              0.4444444444444444,
              "#bd3786"
             ],
             [
              0.5555555555555556,
              "#d8576b"
             ],
             [
              0.6666666666666666,
              "#ed7953"
             ],
             [
              0.7777777777777778,
              "#fb9f3a"
             ],
             [
              0.8888888888888888,
              "#fdca26"
             ],
             [
              1,
              "#f0f921"
             ]
            ],
            "type": "histogram2d"
           }
          ],
          "histogram2dcontour": [
           {
            "colorbar": {
             "outlinewidth": 0,
             "ticks": ""
            },
            "colorscale": [
             [
              0,
              "#0d0887"
             ],
             [
              0.1111111111111111,
              "#46039f"
             ],
             [
              0.2222222222222222,
              "#7201a8"
             ],
             [
              0.3333333333333333,
              "#9c179e"
             ],
             [
              0.4444444444444444,
              "#bd3786"
             ],
             [
              0.5555555555555556,
              "#d8576b"
             ],
             [
              0.6666666666666666,
              "#ed7953"
             ],
             [
              0.7777777777777778,
              "#fb9f3a"
             ],
             [
              0.8888888888888888,
              "#fdca26"
             ],
             [
              1,
              "#f0f921"
             ]
            ],
            "type": "histogram2dcontour"
           }
          ],
          "mesh3d": [
           {
            "colorbar": {
             "outlinewidth": 0,
             "ticks": ""
            },
            "type": "mesh3d"
           }
          ],
          "parcoords": [
           {
            "line": {
             "colorbar": {
              "outlinewidth": 0,
              "ticks": ""
             }
            },
            "type": "parcoords"
           }
          ],
          "pie": [
           {
            "automargin": true,
            "type": "pie"
           }
          ],
          "scatter": [
           {
            "fillpattern": {
             "fillmode": "overlay",
             "size": 10,
             "solidity": 0.2
            },
            "type": "scatter"
           }
          ],
          "scatter3d": [
           {
            "line": {
             "colorbar": {
              "outlinewidth": 0,
              "ticks": ""
             }
            },
            "marker": {
             "colorbar": {
              "outlinewidth": 0,
              "ticks": ""
             }
            },
            "type": "scatter3d"
           }
          ],
          "scattercarpet": [
           {
            "marker": {
             "colorbar": {
              "outlinewidth": 0,
              "ticks": ""
             }
            },
            "type": "scattercarpet"
           }
          ],
          "scattergeo": [
           {
            "marker": {
             "colorbar": {
              "outlinewidth": 0,
              "ticks": ""
             }
            },
            "type": "scattergeo"
           }
          ],
          "scattergl": [
           {
            "marker": {
             "colorbar": {
              "outlinewidth": 0,
              "ticks": ""
             }
            },
            "type": "scattergl"
           }
          ],
          "scattermapbox": [
           {
            "marker": {
             "colorbar": {
              "outlinewidth": 0,
              "ticks": ""
             }
            },
            "type": "scattermapbox"
           }
          ],
          "scatterpolar": [
           {
            "marker": {
             "colorbar": {
              "outlinewidth": 0,
              "ticks": ""
             }
            },
            "type": "scatterpolar"
           }
          ],
          "scatterpolargl": [
           {
            "marker": {
             "colorbar": {
              "outlinewidth": 0,
              "ticks": ""
             }
            },
            "type": "scatterpolargl"
           }
          ],
          "scatterternary": [
           {
            "marker": {
             "colorbar": {
              "outlinewidth": 0,
              "ticks": ""
             }
            },
            "type": "scatterternary"
           }
          ],
          "surface": [
           {
            "colorbar": {
             "outlinewidth": 0,
             "ticks": ""
            },
            "colorscale": [
             [
              0,
              "#0d0887"
             ],
             [
              0.1111111111111111,
              "#46039f"
             ],
             [
              0.2222222222222222,
              "#7201a8"
             ],
             [
              0.3333333333333333,
              "#9c179e"
             ],
             [
              0.4444444444444444,
              "#bd3786"
             ],
             [
              0.5555555555555556,
              "#d8576b"
             ],
             [
              0.6666666666666666,
              "#ed7953"
             ],
             [
              0.7777777777777778,
              "#fb9f3a"
             ],
             [
              0.8888888888888888,
              "#fdca26"
             ],
             [
              1,
              "#f0f921"
             ]
            ],
            "type": "surface"
           }
          ],
          "table": [
           {
            "cells": {
             "fill": {
              "color": "#EBF0F8"
             },
             "line": {
              "color": "white"
             }
            },
            "header": {
             "fill": {
              "color": "#C8D4E3"
             },
             "line": {
              "color": "white"
             }
            },
            "type": "table"
           }
          ]
         },
         "layout": {
          "annotationdefaults": {
           "arrowcolor": "#2a3f5f",
           "arrowhead": 0,
           "arrowwidth": 1
          },
          "autotypenumbers": "strict",
          "coloraxis": {
           "colorbar": {
            "outlinewidth": 0,
            "ticks": ""
           }
          },
          "colorscale": {
           "diverging": [
            [
             0,
             "#8e0152"
            ],
            [
             0.1,
             "#c51b7d"
            ],
            [
             0.2,
             "#de77ae"
            ],
            [
             0.3,
             "#f1b6da"
            ],
            [
             0.4,
             "#fde0ef"
            ],
            [
             0.5,
             "#f7f7f7"
            ],
            [
             0.6,
             "#e6f5d0"
            ],
            [
             0.7,
             "#b8e186"
            ],
            [
             0.8,
             "#7fbc41"
            ],
            [
             0.9,
             "#4d9221"
            ],
            [
             1,
             "#276419"
            ]
           ],
           "sequential": [
            [
             0,
             "#0d0887"
            ],
            [
             0.1111111111111111,
             "#46039f"
            ],
            [
             0.2222222222222222,
             "#7201a8"
            ],
            [
             0.3333333333333333,
             "#9c179e"
            ],
            [
             0.4444444444444444,
             "#bd3786"
            ],
            [
             0.5555555555555556,
             "#d8576b"
            ],
            [
             0.6666666666666666,
             "#ed7953"
            ],
            [
             0.7777777777777778,
             "#fb9f3a"
            ],
            [
             0.8888888888888888,
             "#fdca26"
            ],
            [
             1,
             "#f0f921"
            ]
           ],
           "sequentialminus": [
            [
             0,
             "#0d0887"
            ],
            [
             0.1111111111111111,
             "#46039f"
            ],
            [
             0.2222222222222222,
             "#7201a8"
            ],
            [
             0.3333333333333333,
             "#9c179e"
            ],
            [
             0.4444444444444444,
             "#bd3786"
            ],
            [
             0.5555555555555556,
             "#d8576b"
            ],
            [
             0.6666666666666666,
             "#ed7953"
            ],
            [
             0.7777777777777778,
             "#fb9f3a"
            ],
            [
             0.8888888888888888,
             "#fdca26"
            ],
            [
             1,
             "#f0f921"
            ]
           ]
          },
          "colorway": [
           "#636efa",
           "#EF553B",
           "#00cc96",
           "#ab63fa",
           "#FFA15A",
           "#19d3f3",
           "#FF6692",
           "#B6E880",
           "#FF97FF",
           "#FECB52"
          ],
          "font": {
           "color": "#2a3f5f"
          },
          "geo": {
           "bgcolor": "white",
           "lakecolor": "white",
           "landcolor": "#E5ECF6",
           "showlakes": true,
           "showland": true,
           "subunitcolor": "white"
          },
          "hoverlabel": {
           "align": "left"
          },
          "hovermode": "closest",
          "mapbox": {
           "style": "light"
          },
          "paper_bgcolor": "white",
          "plot_bgcolor": "#E5ECF6",
          "polar": {
           "angularaxis": {
            "gridcolor": "white",
            "linecolor": "white",
            "ticks": ""
           },
           "bgcolor": "#E5ECF6",
           "radialaxis": {
            "gridcolor": "white",
            "linecolor": "white",
            "ticks": ""
           }
          },
          "scene": {
           "xaxis": {
            "backgroundcolor": "#E5ECF6",
            "gridcolor": "white",
            "gridwidth": 2,
            "linecolor": "white",
            "showbackground": true,
            "ticks": "",
            "zerolinecolor": "white"
           },
           "yaxis": {
            "backgroundcolor": "#E5ECF6",
            "gridcolor": "white",
            "gridwidth": 2,
            "linecolor": "white",
            "showbackground": true,
            "ticks": "",
            "zerolinecolor": "white"
           },
           "zaxis": {
            "backgroundcolor": "#E5ECF6",
            "gridcolor": "white",
            "gridwidth": 2,
            "linecolor": "white",
            "showbackground": true,
            "ticks": "",
            "zerolinecolor": "white"
           }
          },
          "shapedefaults": {
           "line": {
            "color": "#2a3f5f"
           }
          },
          "ternary": {
           "aaxis": {
            "gridcolor": "white",
            "linecolor": "white",
            "ticks": ""
           },
           "baxis": {
            "gridcolor": "white",
            "linecolor": "white",
            "ticks": ""
           },
           "bgcolor": "#E5ECF6",
           "caxis": {
            "gridcolor": "white",
            "linecolor": "white",
            "ticks": ""
           }
          },
          "title": {
           "x": 0.05
          },
          "xaxis": {
           "automargin": true,
           "gridcolor": "white",
           "linecolor": "white",
           "ticks": "",
           "title": {
            "standoff": 15
           },
           "zerolinecolor": "white",
           "zerolinewidth": 2
          },
          "yaxis": {
           "automargin": true,
           "gridcolor": "white",
           "linecolor": "white",
           "ticks": "",
           "title": {
            "standoff": 15
           },
           "zerolinecolor": "white",
           "zerolinewidth": 2
          }
         }
        },
        "title": {
         "text": "Most frequently serviced car models Analysis",
         "x": 0.5
        },
        "xaxis": {
         "anchor": "y",
         "domain": [
          0,
          1
         ],
         "title": {
          "text": "car"
         }
        },
        "yaxis": {
         "anchor": "x",
         "domain": [
          0,
          1
         ],
         "title": {
          "text": "Frequecy of servecing"
         }
        }
       }
      },
      "text/html": [
       "<div>                            <div id=\"b2cf786c-9669-48c4-9815-c6ec51e383b3\" class=\"plotly-graph-div\" style=\"height:525px; width:100%;\"></div>            <script type=\"text/javascript\">                require([\"plotly\"], function(Plotly) {                    window.PLOTLYENV=window.PLOTLYENV || {};                                    if (document.getElementById(\"b2cf786c-9669-48c4-9815-c6ec51e383b3\")) {                    Plotly.newPlot(                        \"b2cf786c-9669-48c4-9815-c6ec51e383b3\",                        [{\"alignmentgroup\":\"True\",\"hovertemplate\":\"color=FORTUNER\\u003cbr\\u003ex=%{x}\\u003cbr\\u003eFrequecy of servecing=%{y}\\u003cextra\\u003e\\u003c\\u002fextra\\u003e\",\"legendgroup\":\"FORTUNER\",\"marker\":{\"color\":\"#636efa\",\"pattern\":{\"shape\":\"\"}},\"name\":\"FORTUNER\",\"offsetgroup\":\"FORTUNER\",\"orientation\":\"v\",\"showlegend\":true,\"textposition\":\"auto\",\"x\":[\"FORTUNER\"],\"xaxis\":\"x\",\"y\":[232],\"yaxis\":\"y\",\"type\":\"bar\"},{\"alignmentgroup\":\"True\",\"hovertemplate\":\"color=CERATO\\u003cbr\\u003ex=%{x}\\u003cbr\\u003eFrequecy of servecing=%{y}\\u003cextra\\u003e\\u003c\\u002fextra\\u003e\",\"legendgroup\":\"CERATO\",\"marker\":{\"color\":\"#EF553B\",\"pattern\":{\"shape\":\"\"}},\"name\":\"CERATO\",\"offsetgroup\":\"CERATO\",\"orientation\":\"v\",\"showlegend\":true,\"textposition\":\"auto\",\"x\":[\"CERATO\"],\"xaxis\":\"x\",\"y\":[178],\"yaxis\":\"y\",\"type\":\"bar\"},{\"alignmentgroup\":\"True\",\"hovertemplate\":\"color=COROLLA\\u003cbr\\u003ex=%{x}\\u003cbr\\u003eFrequecy of servecing=%{y}\\u003cextra\\u003e\\u003c\\u002fextra\\u003e\",\"legendgroup\":\"COROLLA\",\"marker\":{\"color\":\"#00cc96\",\"pattern\":{\"shape\":\"\"}},\"name\":\"COROLLA\",\"offsetgroup\":\"COROLLA\",\"orientation\":\"v\",\"showlegend\":true,\"textposition\":\"auto\",\"x\":[\"COROLLA\"],\"xaxis\":\"x\",\"y\":[156],\"yaxis\":\"y\",\"type\":\"bar\"},{\"alignmentgroup\":\"True\",\"hovertemplate\":\"color=H 1\\u003cbr\\u003ex=%{x}\\u003cbr\\u003eFrequecy of servecing=%{y}\\u003cextra\\u003e\\u003c\\u002fextra\\u003e\",\"legendgroup\":\"H 1\",\"marker\":{\"color\":\"#ab63fa\",\"pattern\":{\"shape\":\"\"}},\"name\":\"H 1\",\"offsetgroup\":\"H 1\",\"orientation\":\"v\",\"showlegend\":true,\"textposition\":\"auto\",\"x\":[\"H 1\"],\"xaxis\":\"x\",\"y\":[101],\"yaxis\":\"y\",\"type\":\"bar\"},{\"alignmentgroup\":\"True\",\"hovertemplate\":\"color=HILUX\\u003cbr\\u003ex=%{x}\\u003cbr\\u003eFrequecy of servecing=%{y}\\u003cextra\\u003e\\u003c\\u002fextra\\u003e\",\"legendgroup\":\"HILUX\",\"marker\":{\"color\":\"#FFA15A\",\"pattern\":{\"shape\":\"\"}},\"name\":\"HILUX\",\"offsetgroup\":\"HILUX\",\"orientation\":\"v\",\"showlegend\":true,\"textposition\":\"auto\",\"x\":[\"HILUX\"],\"xaxis\":\"x\",\"y\":[97],\"yaxis\":\"y\",\"type\":\"bar\"},{\"alignmentgroup\":\"True\",\"hovertemplate\":\"color=ELANTRA\\u003cbr\\u003ex=%{x}\\u003cbr\\u003eFrequecy of servecing=%{y}\\u003cextra\\u003e\\u003c\\u002fextra\\u003e\",\"legendgroup\":\"ELANTRA\",\"marker\":{\"color\":\"#19d3f3\",\"pattern\":{\"shape\":\"\"}},\"name\":\"ELANTRA\",\"offsetgroup\":\"ELANTRA\",\"orientation\":\"v\",\"showlegend\":true,\"textposition\":\"auto\",\"x\":[\"ELANTRA\"],\"xaxis\":\"x\",\"y\":[87],\"yaxis\":\"y\",\"type\":\"bar\"},{\"alignmentgroup\":\"True\",\"hovertemplate\":\"color=CAMRY\\u003cbr\\u003ex=%{x}\\u003cbr\\u003eFrequecy of servecing=%{y}\\u003cextra\\u003e\\u003c\\u002fextra\\u003e\",\"legendgroup\":\"CAMRY\",\"marker\":{\"color\":\"#FF6692\",\"pattern\":{\"shape\":\"\"}},\"name\":\"CAMRY\",\"offsetgroup\":\"CAMRY\",\"orientation\":\"v\",\"showlegend\":true,\"textposition\":\"auto\",\"x\":[\"CAMRY\"],\"xaxis\":\"x\",\"y\":[86],\"yaxis\":\"y\",\"type\":\"bar\"},{\"alignmentgroup\":\"True\",\"hovertemplate\":\"color=SPARK\\u003cbr\\u003ex=%{x}\\u003cbr\\u003eFrequecy of servecing=%{y}\\u003cextra\\u003e\\u003c\\u002fextra\\u003e\",\"legendgroup\":\"SPARK\",\"marker\":{\"color\":\"#B6E880\",\"pattern\":{\"shape\":\"\"}},\"name\":\"SPARK\",\"offsetgroup\":\"SPARK\",\"orientation\":\"v\",\"showlegend\":true,\"textposition\":\"auto\",\"x\":[\"SPARK\"],\"xaxis\":\"x\",\"y\":[78],\"yaxis\":\"y\",\"type\":\"bar\"},{\"alignmentgroup\":\"True\",\"hovertemplate\":\"color=RIO\\u003cbr\\u003ex=%{x}\\u003cbr\\u003eFrequecy of servecing=%{y}\\u003cextra\\u003e\\u003c\\u002fextra\\u003e\",\"legendgroup\":\"RIO\",\"marker\":{\"color\":\"#FF97FF\",\"pattern\":{\"shape\":\"\"}},\"name\":\"RIO\",\"offsetgroup\":\"RIO\",\"orientation\":\"v\",\"showlegend\":true,\"textposition\":\"auto\",\"x\":[\"RIO\"],\"xaxis\":\"x\",\"y\":[70],\"yaxis\":\"y\",\"type\":\"bar\"},{\"alignmentgroup\":\"True\",\"hovertemplate\":\"color=AVANZA\\u003cbr\\u003ex=%{x}\\u003cbr\\u003eFrequecy of servecing=%{y}\\u003cextra\\u003e\\u003c\\u002fextra\\u003e\",\"legendgroup\":\"AVANZA\",\"marker\":{\"color\":\"#FECB52\",\"pattern\":{\"shape\":\"\"}},\"name\":\"AVANZA\",\"offsetgroup\":\"AVANZA\",\"orientation\":\"v\",\"showlegend\":true,\"textposition\":\"auto\",\"x\":[\"AVANZA\"],\"xaxis\":\"x\",\"y\":[62],\"yaxis\":\"y\",\"type\":\"bar\"},{\"alignmentgroup\":\"True\",\"hovertemplate\":\"color=SPORTAGE\\u003cbr\\u003ex=%{x}\\u003cbr\\u003eFrequecy of servecing=%{y}\\u003cextra\\u003e\\u003c\\u002fextra\\u003e\",\"legendgroup\":\"SPORTAGE\",\"marker\":{\"color\":\"#636efa\",\"pattern\":{\"shape\":\"\"}},\"name\":\"SPORTAGE\",\"offsetgroup\":\"SPORTAGE\",\"orientation\":\"v\",\"showlegend\":true,\"textposition\":\"auto\",\"x\":[\"SPORTAGE\"],\"xaxis\":\"x\",\"y\":[61],\"yaxis\":\"y\",\"type\":\"bar\"},{\"alignmentgroup\":\"True\",\"hovertemplate\":\"color=YARIS\\u003cbr\\u003ex=%{x}\\u003cbr\\u003eFrequecy of servecing=%{y}\\u003cextra\\u003e\\u003c\\u002fextra\\u003e\",\"legendgroup\":\"YARIS\",\"marker\":{\"color\":\"#EF553B\",\"pattern\":{\"shape\":\"\"}},\"name\":\"YARIS\",\"offsetgroup\":\"YARIS\",\"orientation\":\"v\",\"showlegend\":true,\"textposition\":\"auto\",\"x\":[\"YARIS\"],\"xaxis\":\"x\",\"y\":[56],\"yaxis\":\"y\",\"type\":\"bar\"},{\"alignmentgroup\":\"True\",\"hovertemplate\":\"color=FLUENCE\\u003cbr\\u003ex=%{x}\\u003cbr\\u003eFrequecy of servecing=%{y}\\u003cextra\\u003e\\u003c\\u002fextra\\u003e\",\"legendgroup\":\"FLUENCE\",\"marker\":{\"color\":\"#00cc96\",\"pattern\":{\"shape\":\"\"}},\"name\":\"FLUENCE\",\"offsetgroup\":\"FLUENCE\",\"orientation\":\"v\",\"showlegend\":true,\"textposition\":\"auto\",\"x\":[\"FLUENCE\"],\"xaxis\":\"x\",\"y\":[54],\"yaxis\":\"y\",\"type\":\"bar\"},{\"alignmentgroup\":\"True\",\"hovertemplate\":\"color=CRUZE\\u003cbr\\u003ex=%{x}\\u003cbr\\u003eFrequecy of servecing=%{y}\\u003cextra\\u003e\\u003c\\u002fextra\\u003e\",\"legendgroup\":\"CRUZE\",\"marker\":{\"color\":\"#ab63fa\",\"pattern\":{\"shape\":\"\"}},\"name\":\"CRUZE\",\"offsetgroup\":\"CRUZE\",\"orientation\":\"v\",\"showlegend\":true,\"textposition\":\"auto\",\"x\":[\"CRUZE\"],\"xaxis\":\"x\",\"y\":[44],\"yaxis\":\"y\",\"type\":\"bar\"},{\"alignmentgroup\":\"True\",\"hovertemplate\":\"color=I 10\\u003cbr\\u003ex=%{x}\\u003cbr\\u003eFrequecy of servecing=%{y}\\u003cextra\\u003e\\u003c\\u002fextra\\u003e\",\"legendgroup\":\"I 10\",\"marker\":{\"color\":\"#FFA15A\",\"pattern\":{\"shape\":\"\"}},\"name\":\"I 10\",\"offsetgroup\":\"I 10\",\"orientation\":\"v\",\"showlegend\":true,\"textposition\":\"auto\",\"x\":[\"I 10\"],\"xaxis\":\"x\",\"y\":[37],\"yaxis\":\"y\",\"type\":\"bar\"},{\"alignmentgroup\":\"True\",\"hovertemplate\":\"color=SONIC\\u003cbr\\u003ex=%{x}\\u003cbr\\u003eFrequecy of servecing=%{y}\\u003cextra\\u003e\\u003c\\u002fextra\\u003e\",\"legendgroup\":\"SONIC\",\"marker\":{\"color\":\"#19d3f3\",\"pattern\":{\"shape\":\"\"}},\"name\":\"SONIC\",\"offsetgroup\":\"SONIC\",\"orientation\":\"v\",\"showlegend\":true,\"textposition\":\"auto\",\"x\":[\"SONIC\"],\"xaxis\":\"x\",\"y\":[31],\"yaxis\":\"y\",\"type\":\"bar\"},{\"alignmentgroup\":\"True\",\"hovertemplate\":\"color=PRADO\\u003cbr\\u003ex=%{x}\\u003cbr\\u003eFrequecy of servecing=%{y}\\u003cextra\\u003e\\u003c\\u002fextra\\u003e\",\"legendgroup\":\"PRADO\",\"marker\":{\"color\":\"#FF6692\",\"pattern\":{\"shape\":\"\"}},\"name\":\"PRADO\",\"offsetgroup\":\"PRADO\",\"orientation\":\"v\",\"showlegend\":true,\"textposition\":\"auto\",\"x\":[\"PRADO\"],\"xaxis\":\"x\",\"y\":[19],\"yaxis\":\"y\",\"type\":\"bar\"},{\"alignmentgroup\":\"True\",\"hovertemplate\":\"color=OPTIMA\\u003cbr\\u003ex=%{x}\\u003cbr\\u003eFrequecy of servecing=%{y}\\u003cextra\\u003e\\u003c\\u002fextra\\u003e\",\"legendgroup\":\"OPTIMA\",\"marker\":{\"color\":\"#B6E880\",\"pattern\":{\"shape\":\"\"}},\"name\":\"OPTIMA\",\"offsetgroup\":\"OPTIMA\",\"orientation\":\"v\",\"showlegend\":true,\"textposition\":\"auto\",\"x\":[\"OPTIMA\"],\"xaxis\":\"x\",\"y\":[17],\"yaxis\":\"y\",\"type\":\"bar\"},{\"alignmentgroup\":\"True\",\"hovertemplate\":\"color=TUCSAN\\u003cbr\\u003ex=%{x}\\u003cbr\\u003eFrequecy of servecing=%{y}\\u003cextra\\u003e\\u003c\\u002fextra\\u003e\",\"legendgroup\":\"TUCSAN\",\"marker\":{\"color\":\"#FF97FF\",\"pattern\":{\"shape\":\"\"}},\"name\":\"TUCSAN\",\"offsetgroup\":\"TUCSAN\",\"orientation\":\"v\",\"showlegend\":true,\"textposition\":\"auto\",\"x\":[\"TUCSAN\"],\"xaxis\":\"x\",\"y\":[13],\"yaxis\":\"y\",\"type\":\"bar\"},{\"alignmentgroup\":\"True\",\"hovertemplate\":\"color=RAV 4\\u003cbr\\u003ex=%{x}\\u003cbr\\u003eFrequecy of servecing=%{y}\\u003cextra\\u003e\\u003c\\u002fextra\\u003e\",\"legendgroup\":\"RAV 4\",\"marker\":{\"color\":\"#FECB52\",\"pattern\":{\"shape\":\"\"}},\"name\":\"RAV 4\",\"offsetgroup\":\"RAV 4\",\"orientation\":\"v\",\"showlegend\":true,\"textposition\":\"auto\",\"x\":[\"RAV 4\"],\"xaxis\":\"x\",\"y\":[8],\"yaxis\":\"y\",\"type\":\"bar\"},{\"alignmentgroup\":\"True\",\"hovertemplate\":\"color=PRIUS\\u003cbr\\u003ex=%{x}\\u003cbr\\u003eFrequecy of servecing=%{y}\\u003cextra\\u003e\\u003c\\u002fextra\\u003e\",\"legendgroup\":\"PRIUS\",\"marker\":{\"color\":\"#636efa\",\"pattern\":{\"shape\":\"\"}},\"name\":\"PRIUS\",\"offsetgroup\":\"PRIUS\",\"orientation\":\"v\",\"showlegend\":true,\"textposition\":\"auto\",\"x\":[\"PRIUS\"],\"xaxis\":\"x\",\"y\":[6],\"yaxis\":\"y\",\"type\":\"bar\"},{\"alignmentgroup\":\"True\",\"hovertemplate\":\"color=ACCENT\\u003cbr\\u003ex=%{x}\\u003cbr\\u003eFrequecy of servecing=%{y}\\u003cextra\\u003e\\u003c\\u002fextra\\u003e\",\"legendgroup\":\"ACCENT\",\"marker\":{\"color\":\"#EF553B\",\"pattern\":{\"shape\":\"\"}},\"name\":\"ACCENT\",\"offsetgroup\":\"ACCENT\",\"orientation\":\"v\",\"showlegend\":true,\"textposition\":\"auto\",\"x\":[\"ACCENT\"],\"xaxis\":\"x\",\"y\":[3],\"yaxis\":\"y\",\"type\":\"bar\"},{\"alignmentgroup\":\"True\",\"hovertemplate\":\"color=GUNSAYIL\\u003cbr\\u003ex=%{x}\\u003cbr\\u003eFrequecy of servecing=%{y}\\u003cextra\\u003e\\u003c\\u002fextra\\u003e\",\"legendgroup\":\"GUNSAYIL\",\"marker\":{\"color\":\"#00cc96\",\"pattern\":{\"shape\":\"\"}},\"name\":\"GUNSAYIL\",\"offsetgroup\":\"GUNSAYIL\",\"orientation\":\"v\",\"showlegend\":true,\"textposition\":\"auto\",\"x\":[\"GUNSAYIL\"],\"xaxis\":\"x\",\"y\":[1],\"yaxis\":\"y\",\"type\":\"bar\"},{\"alignmentgroup\":\"True\",\"hovertemplate\":\"color=PRUIS\\u003cbr\\u003ex=%{x}\\u003cbr\\u003eFrequecy of servecing=%{y}\\u003cextra\\u003e\\u003c\\u002fextra\\u003e\",\"legendgroup\":\"PRUIS\",\"marker\":{\"color\":\"#ab63fa\",\"pattern\":{\"shape\":\"\"}},\"name\":\"PRUIS\",\"offsetgroup\":\"PRUIS\",\"orientation\":\"v\",\"showlegend\":true,\"textposition\":\"auto\",\"x\":[\"PRUIS\"],\"xaxis\":\"x\",\"y\":[1],\"yaxis\":\"y\",\"type\":\"bar\"},{\"alignmentgroup\":\"True\",\"hovertemplate\":\"color=CITROEN\\u003cbr\\u003ex=%{x}\\u003cbr\\u003eFrequecy of servecing=%{y}\\u003cextra\\u003e\\u003c\\u002fextra\\u003e\",\"legendgroup\":\"CITROEN\",\"marker\":{\"color\":\"#FFA15A\",\"pattern\":{\"shape\":\"\"}},\"name\":\"CITROEN\",\"offsetgroup\":\"CITROEN\",\"orientation\":\"v\",\"showlegend\":true,\"textposition\":\"auto\",\"x\":[\"CITROEN\"],\"xaxis\":\"x\",\"y\":[1],\"yaxis\":\"y\",\"type\":\"bar\"}],                        {\"template\":{\"data\":{\"histogram2dcontour\":[{\"type\":\"histogram2dcontour\",\"colorbar\":{\"outlinewidth\":0,\"ticks\":\"\"},\"colorscale\":[[0.0,\"#0d0887\"],[0.1111111111111111,\"#46039f\"],[0.2222222222222222,\"#7201a8\"],[0.3333333333333333,\"#9c179e\"],[0.4444444444444444,\"#bd3786\"],[0.5555555555555556,\"#d8576b\"],[0.6666666666666666,\"#ed7953\"],[0.7777777777777778,\"#fb9f3a\"],[0.8888888888888888,\"#fdca26\"],[1.0,\"#f0f921\"]]}],\"choropleth\":[{\"type\":\"choropleth\",\"colorbar\":{\"outlinewidth\":0,\"ticks\":\"\"}}],\"histogram2d\":[{\"type\":\"histogram2d\",\"colorbar\":{\"outlinewidth\":0,\"ticks\":\"\"},\"colorscale\":[[0.0,\"#0d0887\"],[0.1111111111111111,\"#46039f\"],[0.2222222222222222,\"#7201a8\"],[0.3333333333333333,\"#9c179e\"],[0.4444444444444444,\"#bd3786\"],[0.5555555555555556,\"#d8576b\"],[0.6666666666666666,\"#ed7953\"],[0.7777777777777778,\"#fb9f3a\"],[0.8888888888888888,\"#fdca26\"],[1.0,\"#f0f921\"]]}],\"heatmap\":[{\"type\":\"heatmap\",\"colorbar\":{\"outlinewidth\":0,\"ticks\":\"\"},\"colorscale\":[[0.0,\"#0d0887\"],[0.1111111111111111,\"#46039f\"],[0.2222222222222222,\"#7201a8\"],[0.3333333333333333,\"#9c179e\"],[0.4444444444444444,\"#bd3786\"],[0.5555555555555556,\"#d8576b\"],[0.6666666666666666,\"#ed7953\"],[0.7777777777777778,\"#fb9f3a\"],[0.8888888888888888,\"#fdca26\"],[1.0,\"#f0f921\"]]}],\"heatmapgl\":[{\"type\":\"heatmapgl\",\"colorbar\":{\"outlinewidth\":0,\"ticks\":\"\"},\"colorscale\":[[0.0,\"#0d0887\"],[0.1111111111111111,\"#46039f\"],[0.2222222222222222,\"#7201a8\"],[0.3333333333333333,\"#9c179e\"],[0.4444444444444444,\"#bd3786\"],[0.5555555555555556,\"#d8576b\"],[0.6666666666666666,\"#ed7953\"],[0.7777777777777778,\"#fb9f3a\"],[0.8888888888888888,\"#fdca26\"],[1.0,\"#f0f921\"]]}],\"contourcarpet\":[{\"type\":\"contourcarpet\",\"colorbar\":{\"outlinewidth\":0,\"ticks\":\"\"}}],\"contour\":[{\"type\":\"contour\",\"colorbar\":{\"outlinewidth\":0,\"ticks\":\"\"},\"colorscale\":[[0.0,\"#0d0887\"],[0.1111111111111111,\"#46039f\"],[0.2222222222222222,\"#7201a8\"],[0.3333333333333333,\"#9c179e\"],[0.4444444444444444,\"#bd3786\"],[0.5555555555555556,\"#d8576b\"],[0.6666666666666666,\"#ed7953\"],[0.7777777777777778,\"#fb9f3a\"],[0.8888888888888888,\"#fdca26\"],[1.0,\"#f0f921\"]]}],\"surface\":[{\"type\":\"surface\",\"colorbar\":{\"outlinewidth\":0,\"ticks\":\"\"},\"colorscale\":[[0.0,\"#0d0887\"],[0.1111111111111111,\"#46039f\"],[0.2222222222222222,\"#7201a8\"],[0.3333333333333333,\"#9c179e\"],[0.4444444444444444,\"#bd3786\"],[0.5555555555555556,\"#d8576b\"],[0.6666666666666666,\"#ed7953\"],[0.7777777777777778,\"#fb9f3a\"],[0.8888888888888888,\"#fdca26\"],[1.0,\"#f0f921\"]]}],\"mesh3d\":[{\"type\":\"mesh3d\",\"colorbar\":{\"outlinewidth\":0,\"ticks\":\"\"}}],\"scatter\":[{\"fillpattern\":{\"fillmode\":\"overlay\",\"size\":10,\"solidity\":0.2},\"type\":\"scatter\"}],\"parcoords\":[{\"type\":\"parcoords\",\"line\":{\"colorbar\":{\"outlinewidth\":0,\"ticks\":\"\"}}}],\"scatterpolargl\":[{\"type\":\"scatterpolargl\",\"marker\":{\"colorbar\":{\"outlinewidth\":0,\"ticks\":\"\"}}}],\"bar\":[{\"error_x\":{\"color\":\"#2a3f5f\"},\"error_y\":{\"color\":\"#2a3f5f\"},\"marker\":{\"line\":{\"color\":\"#E5ECF6\",\"width\":0.5},\"pattern\":{\"fillmode\":\"overlay\",\"size\":10,\"solidity\":0.2}},\"type\":\"bar\"}],\"scattergeo\":[{\"type\":\"scattergeo\",\"marker\":{\"colorbar\":{\"outlinewidth\":0,\"ticks\":\"\"}}}],\"scatterpolar\":[{\"type\":\"scatterpolar\",\"marker\":{\"colorbar\":{\"outlinewidth\":0,\"ticks\":\"\"}}}],\"histogram\":[{\"marker\":{\"pattern\":{\"fillmode\":\"overlay\",\"size\":10,\"solidity\":0.2}},\"type\":\"histogram\"}],\"scattergl\":[{\"type\":\"scattergl\",\"marker\":{\"colorbar\":{\"outlinewidth\":0,\"ticks\":\"\"}}}],\"scatter3d\":[{\"type\":\"scatter3d\",\"line\":{\"colorbar\":{\"outlinewidth\":0,\"ticks\":\"\"}},\"marker\":{\"colorbar\":{\"outlinewidth\":0,\"ticks\":\"\"}}}],\"scattermapbox\":[{\"type\":\"scattermapbox\",\"marker\":{\"colorbar\":{\"outlinewidth\":0,\"ticks\":\"\"}}}],\"scatterternary\":[{\"type\":\"scatterternary\",\"marker\":{\"colorbar\":{\"outlinewidth\":0,\"ticks\":\"\"}}}],\"scattercarpet\":[{\"type\":\"scattercarpet\",\"marker\":{\"colorbar\":{\"outlinewidth\":0,\"ticks\":\"\"}}}],\"carpet\":[{\"aaxis\":{\"endlinecolor\":\"#2a3f5f\",\"gridcolor\":\"white\",\"linecolor\":\"white\",\"minorgridcolor\":\"white\",\"startlinecolor\":\"#2a3f5f\"},\"baxis\":{\"endlinecolor\":\"#2a3f5f\",\"gridcolor\":\"white\",\"linecolor\":\"white\",\"minorgridcolor\":\"white\",\"startlinecolor\":\"#2a3f5f\"},\"type\":\"carpet\"}],\"table\":[{\"cells\":{\"fill\":{\"color\":\"#EBF0F8\"},\"line\":{\"color\":\"white\"}},\"header\":{\"fill\":{\"color\":\"#C8D4E3\"},\"line\":{\"color\":\"white\"}},\"type\":\"table\"}],\"barpolar\":[{\"marker\":{\"line\":{\"color\":\"#E5ECF6\",\"width\":0.5},\"pattern\":{\"fillmode\":\"overlay\",\"size\":10,\"solidity\":0.2}},\"type\":\"barpolar\"}],\"pie\":[{\"automargin\":true,\"type\":\"pie\"}]},\"layout\":{\"autotypenumbers\":\"strict\",\"colorway\":[\"#636efa\",\"#EF553B\",\"#00cc96\",\"#ab63fa\",\"#FFA15A\",\"#19d3f3\",\"#FF6692\",\"#B6E880\",\"#FF97FF\",\"#FECB52\"],\"font\":{\"color\":\"#2a3f5f\"},\"hovermode\":\"closest\",\"hoverlabel\":{\"align\":\"left\"},\"paper_bgcolor\":\"white\",\"plot_bgcolor\":\"#E5ECF6\",\"polar\":{\"bgcolor\":\"#E5ECF6\",\"angularaxis\":{\"gridcolor\":\"white\",\"linecolor\":\"white\",\"ticks\":\"\"},\"radialaxis\":{\"gridcolor\":\"white\",\"linecolor\":\"white\",\"ticks\":\"\"}},\"ternary\":{\"bgcolor\":\"#E5ECF6\",\"aaxis\":{\"gridcolor\":\"white\",\"linecolor\":\"white\",\"ticks\":\"\"},\"baxis\":{\"gridcolor\":\"white\",\"linecolor\":\"white\",\"ticks\":\"\"},\"caxis\":{\"gridcolor\":\"white\",\"linecolor\":\"white\",\"ticks\":\"\"}},\"coloraxis\":{\"colorbar\":{\"outlinewidth\":0,\"ticks\":\"\"}},\"colorscale\":{\"sequential\":[[0.0,\"#0d0887\"],[0.1111111111111111,\"#46039f\"],[0.2222222222222222,\"#7201a8\"],[0.3333333333333333,\"#9c179e\"],[0.4444444444444444,\"#bd3786\"],[0.5555555555555556,\"#d8576b\"],[0.6666666666666666,\"#ed7953\"],[0.7777777777777778,\"#fb9f3a\"],[0.8888888888888888,\"#fdca26\"],[1.0,\"#f0f921\"]],\"sequentialminus\":[[0.0,\"#0d0887\"],[0.1111111111111111,\"#46039f\"],[0.2222222222222222,\"#7201a8\"],[0.3333333333333333,\"#9c179e\"],[0.4444444444444444,\"#bd3786\"],[0.5555555555555556,\"#d8576b\"],[0.6666666666666666,\"#ed7953\"],[0.7777777777777778,\"#fb9f3a\"],[0.8888888888888888,\"#fdca26\"],[1.0,\"#f0f921\"]],\"diverging\":[[0,\"#8e0152\"],[0.1,\"#c51b7d\"],[0.2,\"#de77ae\"],[0.3,\"#f1b6da\"],[0.4,\"#fde0ef\"],[0.5,\"#f7f7f7\"],[0.6,\"#e6f5d0\"],[0.7,\"#b8e186\"],[0.8,\"#7fbc41\"],[0.9,\"#4d9221\"],[1,\"#276419\"]]},\"xaxis\":{\"gridcolor\":\"white\",\"linecolor\":\"white\",\"ticks\":\"\",\"title\":{\"standoff\":15},\"zerolinecolor\":\"white\",\"automargin\":true,\"zerolinewidth\":2},\"yaxis\":{\"gridcolor\":\"white\",\"linecolor\":\"white\",\"ticks\":\"\",\"title\":{\"standoff\":15},\"zerolinecolor\":\"white\",\"automargin\":true,\"zerolinewidth\":2},\"scene\":{\"xaxis\":{\"backgroundcolor\":\"#E5ECF6\",\"gridcolor\":\"white\",\"linecolor\":\"white\",\"showbackground\":true,\"ticks\":\"\",\"zerolinecolor\":\"white\",\"gridwidth\":2},\"yaxis\":{\"backgroundcolor\":\"#E5ECF6\",\"gridcolor\":\"white\",\"linecolor\":\"white\",\"showbackground\":true,\"ticks\":\"\",\"zerolinecolor\":\"white\",\"gridwidth\":2},\"zaxis\":{\"backgroundcolor\":\"#E5ECF6\",\"gridcolor\":\"white\",\"linecolor\":\"white\",\"showbackground\":true,\"ticks\":\"\",\"zerolinecolor\":\"white\",\"gridwidth\":2}},\"shapedefaults\":{\"line\":{\"color\":\"#2a3f5f\"}},\"annotationdefaults\":{\"arrowcolor\":\"#2a3f5f\",\"arrowhead\":0,\"arrowwidth\":1},\"geo\":{\"bgcolor\":\"white\",\"landcolor\":\"#E5ECF6\",\"subunitcolor\":\"white\",\"showland\":true,\"showlakes\":true,\"lakecolor\":\"white\"},\"title\":{\"x\":0.05},\"mapbox\":{\"style\":\"light\"}}},\"xaxis\":{\"anchor\":\"y\",\"domain\":[0.0,1.0],\"title\":{\"text\":\"car\"}},\"yaxis\":{\"anchor\":\"x\",\"domain\":[0.0,1.0],\"title\":{\"text\":\"Frequecy of servecing\"}},\"legend\":{\"title\":{\"text\":\"color\"},\"tracegroupgap\":0},\"title\":{\"text\":\"Most frequently serviced car models Analysis\",\"x\":0.5},\"barmode\":\"relative\"},                        {\"responsive\": true}                    ).then(function(){\n",
       "                            \n",
       "var gd = document.getElementById('b2cf786c-9669-48c4-9815-c6ec51e383b3');\n",
       "var x = new MutationObserver(function (mutations, observer) {{\n",
       "        var display = window.getComputedStyle(gd).display;\n",
       "        if (!display || display === 'none') {{\n",
       "            console.log([gd, 'removed!']);\n",
       "            Plotly.purge(gd);\n",
       "            observer.disconnect();\n",
       "        }}\n",
       "}});\n",
       "\n",
       "// Listen for the removal of the full notebook cells\n",
       "var notebookContainer = gd.closest('#notebook-container');\n",
       "if (notebookContainer) {{\n",
       "    x.observe(notebookContainer, {childList: true});\n",
       "}}\n",
       "\n",
       "// Listen for the clearing of the current output cell\n",
       "var outputEl = gd.closest('.output');\n",
       "if (outputEl) {{\n",
       "    x.observe(outputEl, {childList: true});\n",
       "}}\n",
       "\n",
       "                        })                };                });            </script>        </div>"
      ]
     },
     "metadata": {},
     "output_type": "display_data"
    }
   ],
   "source": [
    "most_frequent_Serviced_car = df.groupby('car').size().sort_values(ascending=False).reset_index(name='Frequecy of servecing')\n",
    "myPlot1(most_frequent_Serviced_car,xs='car',ys='Frequecy of servecing',clr='car',plotType='bar',title='Most frequently serviced car models', sort_by=None, ascending=True)"
   ]
  },
  {
   "cell_type": "code",
   "execution_count": 75,
   "id": "51223dba",
   "metadata": {},
   "outputs": [],
   "source": [
    "#### Average repair cost per car model"
   ]
  },
  {
   "cell_type": "code",
   "execution_count": 76,
   "id": "eb7aca98",
   "metadata": {
    "scrolled": false
   },
   "outputs": [
    {
     "data": {
      "application/vnd.plotly.v1+json": {
       "config": {
        "plotlyServerURL": "https://plot.ly"
       },
       "data": [
        {
         "alignmentgroup": "True",
         "hovertemplate": "color=CITROEN<br>x=%{x}<br>Average Repait Cost=%{y}<extra></extra>",
         "legendgroup": "CITROEN",
         "marker": {
          "color": "#636efa",
          "pattern": {
           "shape": ""
          }
         },
         "name": "CITROEN",
         "offsetgroup": "CITROEN",
         "orientation": "v",
         "showlegend": true,
         "textposition": "auto",
         "type": "bar",
         "x": [
          "CITROEN"
         ],
         "xaxis": "x",
         "y": [
          281
         ],
         "yaxis": "y"
        },
        {
         "alignmentgroup": "True",
         "hovertemplate": "color=RAV 4<br>x=%{x}<br>Average Repait Cost=%{y}<extra></extra>",
         "legendgroup": "RAV 4",
         "marker": {
          "color": "#EF553B",
          "pattern": {
           "shape": ""
          }
         },
         "name": "RAV 4",
         "offsetgroup": "RAV 4",
         "orientation": "v",
         "showlegend": true,
         "textposition": "auto",
         "type": "bar",
         "x": [
          "RAV 4"
         ],
         "xaxis": "x",
         "y": [
          156.75
         ],
         "yaxis": "y"
        },
        {
         "alignmentgroup": "True",
         "hovertemplate": "color=CAMRY<br>x=%{x}<br>Average Repait Cost=%{y}<extra></extra>",
         "legendgroup": "CAMRY",
         "marker": {
          "color": "#00cc96",
          "pattern": {
           "shape": ""
          }
         },
         "name": "CAMRY",
         "offsetgroup": "CAMRY",
         "orientation": "v",
         "showlegend": true,
         "textposition": "auto",
         "type": "bar",
         "x": [
          "CAMRY"
         ],
         "xaxis": "x",
         "y": [
          151.1627906976744
         ],
         "yaxis": "y"
        },
        {
         "alignmentgroup": "True",
         "hovertemplate": "color=H 1<br>x=%{x}<br>Average Repait Cost=%{y}<extra></extra>",
         "legendgroup": "H 1",
         "marker": {
          "color": "#ab63fa",
          "pattern": {
           "shape": ""
          }
         },
         "name": "H 1",
         "offsetgroup": "H 1",
         "orientation": "v",
         "showlegend": true,
         "textposition": "auto",
         "type": "bar",
         "x": [
          "H 1"
         ],
         "xaxis": "x",
         "y": [
          148.30693069306932
         ],
         "yaxis": "y"
        },
        {
         "alignmentgroup": "True",
         "hovertemplate": "color=FORTUNER<br>x=%{x}<br>Average Repait Cost=%{y}<extra></extra>",
         "legendgroup": "FORTUNER",
         "marker": {
          "color": "#FFA15A",
          "pattern": {
           "shape": ""
          }
         },
         "name": "FORTUNER",
         "offsetgroup": "FORTUNER",
         "orientation": "v",
         "showlegend": true,
         "textposition": "auto",
         "type": "bar",
         "x": [
          "FORTUNER"
         ],
         "xaxis": "x",
         "y": [
          142.22413793103448
         ],
         "yaxis": "y"
        },
        {
         "alignmentgroup": "True",
         "hovertemplate": "color=PRIUS<br>x=%{x}<br>Average Repait Cost=%{y}<extra></extra>",
         "legendgroup": "PRIUS",
         "marker": {
          "color": "#19d3f3",
          "pattern": {
           "shape": ""
          }
         },
         "name": "PRIUS",
         "offsetgroup": "PRIUS",
         "orientation": "v",
         "showlegend": true,
         "textposition": "auto",
         "type": "bar",
         "x": [
          "PRIUS"
         ],
         "xaxis": "x",
         "y": [
          126
         ],
         "yaxis": "y"
        },
        {
         "alignmentgroup": "True",
         "hovertemplate": "color=HILUX<br>x=%{x}<br>Average Repait Cost=%{y}<extra></extra>",
         "legendgroup": "HILUX",
         "marker": {
          "color": "#FF6692",
          "pattern": {
           "shape": ""
          }
         },
         "name": "HILUX",
         "offsetgroup": "HILUX",
         "orientation": "v",
         "showlegend": true,
         "textposition": "auto",
         "type": "bar",
         "x": [
          "HILUX"
         ],
         "xaxis": "x",
         "y": [
          117.35051546391753
         ],
         "yaxis": "y"
        },
        {
         "alignmentgroup": "True",
         "hovertemplate": "color=ELANTRA<br>x=%{x}<br>Average Repait Cost=%{y}<extra></extra>",
         "legendgroup": "ELANTRA",
         "marker": {
          "color": "#B6E880",
          "pattern": {
           "shape": ""
          }
         },
         "name": "ELANTRA",
         "offsetgroup": "ELANTRA",
         "orientation": "v",
         "showlegend": true,
         "textposition": "auto",
         "type": "bar",
         "x": [
          "ELANTRA"
         ],
         "xaxis": "x",
         "y": [
          114.49425287356321
         ],
         "yaxis": "y"
        },
        {
         "alignmentgroup": "True",
         "hovertemplate": "color=TUCSAN<br>x=%{x}<br>Average Repait Cost=%{y}<extra></extra>",
         "legendgroup": "TUCSAN",
         "marker": {
          "color": "#FF97FF",
          "pattern": {
           "shape": ""
          }
         },
         "name": "TUCSAN",
         "offsetgroup": "TUCSAN",
         "orientation": "v",
         "showlegend": true,
         "textposition": "auto",
         "type": "bar",
         "x": [
          "TUCSAN"
         ],
         "xaxis": "x",
         "y": [
          113.76923076923077
         ],
         "yaxis": "y"
        },
        {
         "alignmentgroup": "True",
         "hovertemplate": "color=AVANZA<br>x=%{x}<br>Average Repait Cost=%{y}<extra></extra>",
         "legendgroup": "AVANZA",
         "marker": {
          "color": "#FECB52",
          "pattern": {
           "shape": ""
          }
         },
         "name": "AVANZA",
         "offsetgroup": "AVANZA",
         "orientation": "v",
         "showlegend": true,
         "textposition": "auto",
         "type": "bar",
         "x": [
          "AVANZA"
         ],
         "xaxis": "x",
         "y": [
          112.03225806451613
         ],
         "yaxis": "y"
        },
        {
         "alignmentgroup": "True",
         "hovertemplate": "color=OPTIMA<br>x=%{x}<br>Average Repait Cost=%{y}<extra></extra>",
         "legendgroup": "OPTIMA",
         "marker": {
          "color": "#636efa",
          "pattern": {
           "shape": ""
          }
         },
         "name": "OPTIMA",
         "offsetgroup": "OPTIMA",
         "orientation": "v",
         "showlegend": true,
         "textposition": "auto",
         "type": "bar",
         "x": [
          "OPTIMA"
         ],
         "xaxis": "x",
         "y": [
          108.82352941176471
         ],
         "yaxis": "y"
        },
        {
         "alignmentgroup": "True",
         "hovertemplate": "color=GUNSAYIL<br>x=%{x}<br>Average Repait Cost=%{y}<extra></extra>",
         "legendgroup": "GUNSAYIL",
         "marker": {
          "color": "#EF553B",
          "pattern": {
           "shape": ""
          }
         },
         "name": "GUNSAYIL",
         "offsetgroup": "GUNSAYIL",
         "orientation": "v",
         "showlegend": true,
         "textposition": "auto",
         "type": "bar",
         "x": [
          "GUNSAYIL"
         ],
         "xaxis": "x",
         "y": [
          102
         ],
         "yaxis": "y"
        },
        {
         "alignmentgroup": "True",
         "hovertemplate": "color=YARIS<br>x=%{x}<br>Average Repait Cost=%{y}<extra></extra>",
         "legendgroup": "YARIS",
         "marker": {
          "color": "#00cc96",
          "pattern": {
           "shape": ""
          }
         },
         "name": "YARIS",
         "offsetgroup": "YARIS",
         "orientation": "v",
         "showlegend": true,
         "textposition": "auto",
         "type": "bar",
         "x": [
          "YARIS"
         ],
         "xaxis": "x",
         "y": [
          100.96428571428571
         ],
         "yaxis": "y"
        },
        {
         "alignmentgroup": "True",
         "hovertemplate": "color=CERATO<br>x=%{x}<br>Average Repait Cost=%{y}<extra></extra>",
         "legendgroup": "CERATO",
         "marker": {
          "color": "#ab63fa",
          "pattern": {
           "shape": ""
          }
         },
         "name": "CERATO",
         "offsetgroup": "CERATO",
         "orientation": "v",
         "showlegend": true,
         "textposition": "auto",
         "type": "bar",
         "x": [
          "CERATO"
         ],
         "xaxis": "x",
         "y": [
          95.59550561797752
         ],
         "yaxis": "y"
        },
        {
         "alignmentgroup": "True",
         "hovertemplate": "color=FLUENCE<br>x=%{x}<br>Average Repait Cost=%{y}<extra></extra>",
         "legendgroup": "FLUENCE",
         "marker": {
          "color": "#FFA15A",
          "pattern": {
           "shape": ""
          }
         },
         "name": "FLUENCE",
         "offsetgroup": "FLUENCE",
         "orientation": "v",
         "showlegend": true,
         "textposition": "auto",
         "type": "bar",
         "x": [
          "FLUENCE"
         ],
         "xaxis": "x",
         "y": [
          90.61111111111111
         ],
         "yaxis": "y"
        },
        {
         "alignmentgroup": "True",
         "hovertemplate": "color=COROLLA<br>x=%{x}<br>Average Repait Cost=%{y}<extra></extra>",
         "legendgroup": "COROLLA",
         "marker": {
          "color": "#19d3f3",
          "pattern": {
           "shape": ""
          }
         },
         "name": "COROLLA",
         "offsetgroup": "COROLLA",
         "orientation": "v",
         "showlegend": true,
         "textposition": "auto",
         "type": "bar",
         "x": [
          "COROLLA"
         ],
         "xaxis": "x",
         "y": [
          90.03205128205128
         ],
         "yaxis": "y"
        },
        {
         "alignmentgroup": "True",
         "hovertemplate": "color=PRADO<br>x=%{x}<br>Average Repait Cost=%{y}<extra></extra>",
         "legendgroup": "PRADO",
         "marker": {
          "color": "#FF6692",
          "pattern": {
           "shape": ""
          }
         },
         "name": "PRADO",
         "offsetgroup": "PRADO",
         "orientation": "v",
         "showlegend": true,
         "textposition": "auto",
         "type": "bar",
         "x": [
          "PRADO"
         ],
         "xaxis": "x",
         "y": [
          89.94736842105263
         ],
         "yaxis": "y"
        },
        {
         "alignmentgroup": "True",
         "hovertemplate": "color=CRUZE<br>x=%{x}<br>Average Repait Cost=%{y}<extra></extra>",
         "legendgroup": "CRUZE",
         "marker": {
          "color": "#B6E880",
          "pattern": {
           "shape": ""
          }
         },
         "name": "CRUZE",
         "offsetgroup": "CRUZE",
         "orientation": "v",
         "showlegend": true,
         "textposition": "auto",
         "type": "bar",
         "x": [
          "CRUZE"
         ],
         "xaxis": "x",
         "y": [
          88.11363636363636
         ],
         "yaxis": "y"
        },
        {
         "alignmentgroup": "True",
         "hovertemplate": "color=SPORTAGE<br>x=%{x}<br>Average Repait Cost=%{y}<extra></extra>",
         "legendgroup": "SPORTAGE",
         "marker": {
          "color": "#FF97FF",
          "pattern": {
           "shape": ""
          }
         },
         "name": "SPORTAGE",
         "offsetgroup": "SPORTAGE",
         "orientation": "v",
         "showlegend": true,
         "textposition": "auto",
         "type": "bar",
         "x": [
          "SPORTAGE"
         ],
         "xaxis": "x",
         "y": [
          85.37704918032787
         ],
         "yaxis": "y"
        },
        {
         "alignmentgroup": "True",
         "hovertemplate": "color=SONIC<br>x=%{x}<br>Average Repait Cost=%{y}<extra></extra>",
         "legendgroup": "SONIC",
         "marker": {
          "color": "#FECB52",
          "pattern": {
           "shape": ""
          }
         },
         "name": "SONIC",
         "offsetgroup": "SONIC",
         "orientation": "v",
         "showlegend": true,
         "textposition": "auto",
         "type": "bar",
         "x": [
          "SONIC"
         ],
         "xaxis": "x",
         "y": [
          76.38709677419355
         ],
         "yaxis": "y"
        },
        {
         "alignmentgroup": "True",
         "hovertemplate": "color=SPARK<br>x=%{x}<br>Average Repait Cost=%{y}<extra></extra>",
         "legendgroup": "SPARK",
         "marker": {
          "color": "#636efa",
          "pattern": {
           "shape": ""
          }
         },
         "name": "SPARK",
         "offsetgroup": "SPARK",
         "orientation": "v",
         "showlegend": true,
         "textposition": "auto",
         "type": "bar",
         "x": [
          "SPARK"
         ],
         "xaxis": "x",
         "y": [
          70.8974358974359
         ],
         "yaxis": "y"
        },
        {
         "alignmentgroup": "True",
         "hovertemplate": "color=RIO<br>x=%{x}<br>Average Repait Cost=%{y}<extra></extra>",
         "legendgroup": "RIO",
         "marker": {
          "color": "#EF553B",
          "pattern": {
           "shape": ""
          }
         },
         "name": "RIO",
         "offsetgroup": "RIO",
         "orientation": "v",
         "showlegend": true,
         "textposition": "auto",
         "type": "bar",
         "x": [
          "RIO"
         ],
         "xaxis": "x",
         "y": [
          60.2
         ],
         "yaxis": "y"
        },
        {
         "alignmentgroup": "True",
         "hovertemplate": "color=PRUIS<br>x=%{x}<br>Average Repait Cost=%{y}<extra></extra>",
         "legendgroup": "PRUIS",
         "marker": {
          "color": "#00cc96",
          "pattern": {
           "shape": ""
          }
         },
         "name": "PRUIS",
         "offsetgroup": "PRUIS",
         "orientation": "v",
         "showlegend": true,
         "textposition": "auto",
         "type": "bar",
         "x": [
          "PRUIS"
         ],
         "xaxis": "x",
         "y": [
          60
         ],
         "yaxis": "y"
        },
        {
         "alignmentgroup": "True",
         "hovertemplate": "color=I 10<br>x=%{x}<br>Average Repait Cost=%{y}<extra></extra>",
         "legendgroup": "I 10",
         "marker": {
          "color": "#ab63fa",
          "pattern": {
           "shape": ""
          }
         },
         "name": "I 10",
         "offsetgroup": "I 10",
         "orientation": "v",
         "showlegend": true,
         "textposition": "auto",
         "type": "bar",
         "x": [
          "I 10"
         ],
         "xaxis": "x",
         "y": [
          59.13513513513514
         ],
         "yaxis": "y"
        },
        {
         "alignmentgroup": "True",
         "hovertemplate": "color=ACCENT<br>x=%{x}<br>Average Repait Cost=%{y}<extra></extra>",
         "legendgroup": "ACCENT",
         "marker": {
          "color": "#FFA15A",
          "pattern": {
           "shape": ""
          }
         },
         "name": "ACCENT",
         "offsetgroup": "ACCENT",
         "orientation": "v",
         "showlegend": true,
         "textposition": "auto",
         "type": "bar",
         "x": [
          "ACCENT"
         ],
         "xaxis": "x",
         "y": [
          21
         ],
         "yaxis": "y"
        }
       ],
       "layout": {
        "barmode": "relative",
        "legend": {
         "title": {
          "text": "color"
         },
         "tracegroupgap": 0
        },
        "template": {
         "data": {
          "bar": [
           {
            "error_x": {
             "color": "#2a3f5f"
            },
            "error_y": {
             "color": "#2a3f5f"
            },
            "marker": {
             "line": {
              "color": "#E5ECF6",
              "width": 0.5
             },
             "pattern": {
              "fillmode": "overlay",
              "size": 10,
              "solidity": 0.2
             }
            },
            "type": "bar"
           }
          ],
          "barpolar": [
           {
            "marker": {
             "line": {
              "color": "#E5ECF6",
              "width": 0.5
             },
             "pattern": {
              "fillmode": "overlay",
              "size": 10,
              "solidity": 0.2
             }
            },
            "type": "barpolar"
           }
          ],
          "carpet": [
           {
            "aaxis": {
             "endlinecolor": "#2a3f5f",
             "gridcolor": "white",
             "linecolor": "white",
             "minorgridcolor": "white",
             "startlinecolor": "#2a3f5f"
            },
            "baxis": {
             "endlinecolor": "#2a3f5f",
             "gridcolor": "white",
             "linecolor": "white",
             "minorgridcolor": "white",
             "startlinecolor": "#2a3f5f"
            },
            "type": "carpet"
           }
          ],
          "choropleth": [
           {
            "colorbar": {
             "outlinewidth": 0,
             "ticks": ""
            },
            "type": "choropleth"
           }
          ],
          "contour": [
           {
            "colorbar": {
             "outlinewidth": 0,
             "ticks": ""
            },
            "colorscale": [
             [
              0,
              "#0d0887"
             ],
             [
              0.1111111111111111,
              "#46039f"
             ],
             [
              0.2222222222222222,
              "#7201a8"
             ],
             [
              0.3333333333333333,
              "#9c179e"
             ],
             [
              0.4444444444444444,
              "#bd3786"
             ],
             [
              0.5555555555555556,
              "#d8576b"
             ],
             [
              0.6666666666666666,
              "#ed7953"
             ],
             [
              0.7777777777777778,
              "#fb9f3a"
             ],
             [
              0.8888888888888888,
              "#fdca26"
             ],
             [
              1,
              "#f0f921"
             ]
            ],
            "type": "contour"
           }
          ],
          "contourcarpet": [
           {
            "colorbar": {
             "outlinewidth": 0,
             "ticks": ""
            },
            "type": "contourcarpet"
           }
          ],
          "heatmap": [
           {
            "colorbar": {
             "outlinewidth": 0,
             "ticks": ""
            },
            "colorscale": [
             [
              0,
              "#0d0887"
             ],
             [
              0.1111111111111111,
              "#46039f"
             ],
             [
              0.2222222222222222,
              "#7201a8"
             ],
             [
              0.3333333333333333,
              "#9c179e"
             ],
             [
              0.4444444444444444,
              "#bd3786"
             ],
             [
              0.5555555555555556,
              "#d8576b"
             ],
             [
              0.6666666666666666,
              "#ed7953"
             ],
             [
              0.7777777777777778,
              "#fb9f3a"
             ],
             [
              0.8888888888888888,
              "#fdca26"
             ],
             [
              1,
              "#f0f921"
             ]
            ],
            "type": "heatmap"
           }
          ],
          "heatmapgl": [
           {
            "colorbar": {
             "outlinewidth": 0,
             "ticks": ""
            },
            "colorscale": [
             [
              0,
              "#0d0887"
             ],
             [
              0.1111111111111111,
              "#46039f"
             ],
             [
              0.2222222222222222,
              "#7201a8"
             ],
             [
              0.3333333333333333,
              "#9c179e"
             ],
             [
              0.4444444444444444,
              "#bd3786"
             ],
             [
              0.5555555555555556,
              "#d8576b"
             ],
             [
              0.6666666666666666,
              "#ed7953"
             ],
             [
              0.7777777777777778,
              "#fb9f3a"
             ],
             [
              0.8888888888888888,
              "#fdca26"
             ],
             [
              1,
              "#f0f921"
             ]
            ],
            "type": "heatmapgl"
           }
          ],
          "histogram": [
           {
            "marker": {
             "pattern": {
              "fillmode": "overlay",
              "size": 10,
              "solidity": 0.2
             }
            },
            "type": "histogram"
           }
          ],
          "histogram2d": [
           {
            "colorbar": {
             "outlinewidth": 0,
             "ticks": ""
            },
            "colorscale": [
             [
              0,
              "#0d0887"
             ],
             [
              0.1111111111111111,
              "#46039f"
             ],
             [
              0.2222222222222222,
              "#7201a8"
             ],
             [
              0.3333333333333333,
              "#9c179e"
             ],
             [
              0.4444444444444444,
              "#bd3786"
             ],
             [
              0.5555555555555556,
              "#d8576b"
             ],
             [
              0.6666666666666666,
              "#ed7953"
             ],
             [
              0.7777777777777778,
              "#fb9f3a"
             ],
             [
              0.8888888888888888,
              "#fdca26"
             ],
             [
              1,
              "#f0f921"
             ]
            ],
            "type": "histogram2d"
           }
          ],
          "histogram2dcontour": [
           {
            "colorbar": {
             "outlinewidth": 0,
             "ticks": ""
            },
            "colorscale": [
             [
              0,
              "#0d0887"
             ],
             [
              0.1111111111111111,
              "#46039f"
             ],
             [
              0.2222222222222222,
              "#7201a8"
             ],
             [
              0.3333333333333333,
              "#9c179e"
             ],
             [
              0.4444444444444444,
              "#bd3786"
             ],
             [
              0.5555555555555556,
              "#d8576b"
             ],
             [
              0.6666666666666666,
              "#ed7953"
             ],
             [
              0.7777777777777778,
              "#fb9f3a"
             ],
             [
              0.8888888888888888,
              "#fdca26"
             ],
             [
              1,
              "#f0f921"
             ]
            ],
            "type": "histogram2dcontour"
           }
          ],
          "mesh3d": [
           {
            "colorbar": {
             "outlinewidth": 0,
             "ticks": ""
            },
            "type": "mesh3d"
           }
          ],
          "parcoords": [
           {
            "line": {
             "colorbar": {
              "outlinewidth": 0,
              "ticks": ""
             }
            },
            "type": "parcoords"
           }
          ],
          "pie": [
           {
            "automargin": true,
            "type": "pie"
           }
          ],
          "scatter": [
           {
            "fillpattern": {
             "fillmode": "overlay",
             "size": 10,
             "solidity": 0.2
            },
            "type": "scatter"
           }
          ],
          "scatter3d": [
           {
            "line": {
             "colorbar": {
              "outlinewidth": 0,
              "ticks": ""
             }
            },
            "marker": {
             "colorbar": {
              "outlinewidth": 0,
              "ticks": ""
             }
            },
            "type": "scatter3d"
           }
          ],
          "scattercarpet": [
           {
            "marker": {
             "colorbar": {
              "outlinewidth": 0,
              "ticks": ""
             }
            },
            "type": "scattercarpet"
           }
          ],
          "scattergeo": [
           {
            "marker": {
             "colorbar": {
              "outlinewidth": 0,
              "ticks": ""
             }
            },
            "type": "scattergeo"
           }
          ],
          "scattergl": [
           {
            "marker": {
             "colorbar": {
              "outlinewidth": 0,
              "ticks": ""
             }
            },
            "type": "scattergl"
           }
          ],
          "scattermapbox": [
           {
            "marker": {
             "colorbar": {
              "outlinewidth": 0,
              "ticks": ""
             }
            },
            "type": "scattermapbox"
           }
          ],
          "scatterpolar": [
           {
            "marker": {
             "colorbar": {
              "outlinewidth": 0,
              "ticks": ""
             }
            },
            "type": "scatterpolar"
           }
          ],
          "scatterpolargl": [
           {
            "marker": {
             "colorbar": {
              "outlinewidth": 0,
              "ticks": ""
             }
            },
            "type": "scatterpolargl"
           }
          ],
          "scatterternary": [
           {
            "marker": {
             "colorbar": {
              "outlinewidth": 0,
              "ticks": ""
             }
            },
            "type": "scatterternary"
           }
          ],
          "surface": [
           {
            "colorbar": {
             "outlinewidth": 0,
             "ticks": ""
            },
            "colorscale": [
             [
              0,
              "#0d0887"
             ],
             [
              0.1111111111111111,
              "#46039f"
             ],
             [
              0.2222222222222222,
              "#7201a8"
             ],
             [
              0.3333333333333333,
              "#9c179e"
             ],
             [
              0.4444444444444444,
              "#bd3786"
             ],
             [
              0.5555555555555556,
              "#d8576b"
             ],
             [
              0.6666666666666666,
              "#ed7953"
             ],
             [
              0.7777777777777778,
              "#fb9f3a"
             ],
             [
              0.8888888888888888,
              "#fdca26"
             ],
             [
              1,
              "#f0f921"
             ]
            ],
            "type": "surface"
           }
          ],
          "table": [
           {
            "cells": {
             "fill": {
              "color": "#EBF0F8"
             },
             "line": {
              "color": "white"
             }
            },
            "header": {
             "fill": {
              "color": "#C8D4E3"
             },
             "line": {
              "color": "white"
             }
            },
            "type": "table"
           }
          ]
         },
         "layout": {
          "annotationdefaults": {
           "arrowcolor": "#2a3f5f",
           "arrowhead": 0,
           "arrowwidth": 1
          },
          "autotypenumbers": "strict",
          "coloraxis": {
           "colorbar": {
            "outlinewidth": 0,
            "ticks": ""
           }
          },
          "colorscale": {
           "diverging": [
            [
             0,
             "#8e0152"
            ],
            [
             0.1,
             "#c51b7d"
            ],
            [
             0.2,
             "#de77ae"
            ],
            [
             0.3,
             "#f1b6da"
            ],
            [
             0.4,
             "#fde0ef"
            ],
            [
             0.5,
             "#f7f7f7"
            ],
            [
             0.6,
             "#e6f5d0"
            ],
            [
             0.7,
             "#b8e186"
            ],
            [
             0.8,
             "#7fbc41"
            ],
            [
             0.9,
             "#4d9221"
            ],
            [
             1,
             "#276419"
            ]
           ],
           "sequential": [
            [
             0,
             "#0d0887"
            ],
            [
             0.1111111111111111,
             "#46039f"
            ],
            [
             0.2222222222222222,
             "#7201a8"
            ],
            [
             0.3333333333333333,
             "#9c179e"
            ],
            [
             0.4444444444444444,
             "#bd3786"
            ],
            [
             0.5555555555555556,
             "#d8576b"
            ],
            [
             0.6666666666666666,
             "#ed7953"
            ],
            [
             0.7777777777777778,
             "#fb9f3a"
            ],
            [
             0.8888888888888888,
             "#fdca26"
            ],
            [
             1,
             "#f0f921"
            ]
           ],
           "sequentialminus": [
            [
             0,
             "#0d0887"
            ],
            [
             0.1111111111111111,
             "#46039f"
            ],
            [
             0.2222222222222222,
             "#7201a8"
            ],
            [
             0.3333333333333333,
             "#9c179e"
            ],
            [
             0.4444444444444444,
             "#bd3786"
            ],
            [
             0.5555555555555556,
             "#d8576b"
            ],
            [
             0.6666666666666666,
             "#ed7953"
            ],
            [
             0.7777777777777778,
             "#fb9f3a"
            ],
            [
             0.8888888888888888,
             "#fdca26"
            ],
            [
             1,
             "#f0f921"
            ]
           ]
          },
          "colorway": [
           "#636efa",
           "#EF553B",
           "#00cc96",
           "#ab63fa",
           "#FFA15A",
           "#19d3f3",
           "#FF6692",
           "#B6E880",
           "#FF97FF",
           "#FECB52"
          ],
          "font": {
           "color": "#2a3f5f"
          },
          "geo": {
           "bgcolor": "white",
           "lakecolor": "white",
           "landcolor": "#E5ECF6",
           "showlakes": true,
           "showland": true,
           "subunitcolor": "white"
          },
          "hoverlabel": {
           "align": "left"
          },
          "hovermode": "closest",
          "mapbox": {
           "style": "light"
          },
          "paper_bgcolor": "white",
          "plot_bgcolor": "#E5ECF6",
          "polar": {
           "angularaxis": {
            "gridcolor": "white",
            "linecolor": "white",
            "ticks": ""
           },
           "bgcolor": "#E5ECF6",
           "radialaxis": {
            "gridcolor": "white",
            "linecolor": "white",
            "ticks": ""
           }
          },
          "scene": {
           "xaxis": {
            "backgroundcolor": "#E5ECF6",
            "gridcolor": "white",
            "gridwidth": 2,
            "linecolor": "white",
            "showbackground": true,
            "ticks": "",
            "zerolinecolor": "white"
           },
           "yaxis": {
            "backgroundcolor": "#E5ECF6",
            "gridcolor": "white",
            "gridwidth": 2,
            "linecolor": "white",
            "showbackground": true,
            "ticks": "",
            "zerolinecolor": "white"
           },
           "zaxis": {
            "backgroundcolor": "#E5ECF6",
            "gridcolor": "white",
            "gridwidth": 2,
            "linecolor": "white",
            "showbackground": true,
            "ticks": "",
            "zerolinecolor": "white"
           }
          },
          "shapedefaults": {
           "line": {
            "color": "#2a3f5f"
           }
          },
          "ternary": {
           "aaxis": {
            "gridcolor": "white",
            "linecolor": "white",
            "ticks": ""
           },
           "baxis": {
            "gridcolor": "white",
            "linecolor": "white",
            "ticks": ""
           },
           "bgcolor": "#E5ECF6",
           "caxis": {
            "gridcolor": "white",
            "linecolor": "white",
            "ticks": ""
           }
          },
          "title": {
           "x": 0.05
          },
          "xaxis": {
           "automargin": true,
           "gridcolor": "white",
           "linecolor": "white",
           "ticks": "",
           "title": {
            "standoff": 15
           },
           "zerolinecolor": "white",
           "zerolinewidth": 2
          },
          "yaxis": {
           "automargin": true,
           "gridcolor": "white",
           "linecolor": "white",
           "ticks": "",
           "title": {
            "standoff": 15
           },
           "zerolinecolor": "white",
           "zerolinewidth": 2
          }
         }
        },
        "title": {
         "text": "Average repair cost per car model Analysis",
         "x": 0.5
        },
        "xaxis": {
         "anchor": "y",
         "domain": [
          0,
          1
         ],
         "title": {
          "text": "car"
         }
        },
        "yaxis": {
         "anchor": "x",
         "domain": [
          0,
          1
         ],
         "title": {
          "text": "Average Repait Cost"
         }
        }
       }
      },
      "text/html": [
       "<div>                            <div id=\"37c7a559-14c7-4bdd-b4f9-c1e0b43ed988\" class=\"plotly-graph-div\" style=\"height:525px; width:100%;\"></div>            <script type=\"text/javascript\">                require([\"plotly\"], function(Plotly) {                    window.PLOTLYENV=window.PLOTLYENV || {};                                    if (document.getElementById(\"37c7a559-14c7-4bdd-b4f9-c1e0b43ed988\")) {                    Plotly.newPlot(                        \"37c7a559-14c7-4bdd-b4f9-c1e0b43ed988\",                        [{\"alignmentgroup\":\"True\",\"hovertemplate\":\"color=CITROEN\\u003cbr\\u003ex=%{x}\\u003cbr\\u003eAverage Repait Cost=%{y}\\u003cextra\\u003e\\u003c\\u002fextra\\u003e\",\"legendgroup\":\"CITROEN\",\"marker\":{\"color\":\"#636efa\",\"pattern\":{\"shape\":\"\"}},\"name\":\"CITROEN\",\"offsetgroup\":\"CITROEN\",\"orientation\":\"v\",\"showlegend\":true,\"textposition\":\"auto\",\"x\":[\"CITROEN\"],\"xaxis\":\"x\",\"y\":[281.0],\"yaxis\":\"y\",\"type\":\"bar\"},{\"alignmentgroup\":\"True\",\"hovertemplate\":\"color=RAV 4\\u003cbr\\u003ex=%{x}\\u003cbr\\u003eAverage Repait Cost=%{y}\\u003cextra\\u003e\\u003c\\u002fextra\\u003e\",\"legendgroup\":\"RAV 4\",\"marker\":{\"color\":\"#EF553B\",\"pattern\":{\"shape\":\"\"}},\"name\":\"RAV 4\",\"offsetgroup\":\"RAV 4\",\"orientation\":\"v\",\"showlegend\":true,\"textposition\":\"auto\",\"x\":[\"RAV 4\"],\"xaxis\":\"x\",\"y\":[156.75],\"yaxis\":\"y\",\"type\":\"bar\"},{\"alignmentgroup\":\"True\",\"hovertemplate\":\"color=CAMRY\\u003cbr\\u003ex=%{x}\\u003cbr\\u003eAverage Repait Cost=%{y}\\u003cextra\\u003e\\u003c\\u002fextra\\u003e\",\"legendgroup\":\"CAMRY\",\"marker\":{\"color\":\"#00cc96\",\"pattern\":{\"shape\":\"\"}},\"name\":\"CAMRY\",\"offsetgroup\":\"CAMRY\",\"orientation\":\"v\",\"showlegend\":true,\"textposition\":\"auto\",\"x\":[\"CAMRY\"],\"xaxis\":\"x\",\"y\":[151.1627906976744],\"yaxis\":\"y\",\"type\":\"bar\"},{\"alignmentgroup\":\"True\",\"hovertemplate\":\"color=H 1\\u003cbr\\u003ex=%{x}\\u003cbr\\u003eAverage Repait Cost=%{y}\\u003cextra\\u003e\\u003c\\u002fextra\\u003e\",\"legendgroup\":\"H 1\",\"marker\":{\"color\":\"#ab63fa\",\"pattern\":{\"shape\":\"\"}},\"name\":\"H 1\",\"offsetgroup\":\"H 1\",\"orientation\":\"v\",\"showlegend\":true,\"textposition\":\"auto\",\"x\":[\"H 1\"],\"xaxis\":\"x\",\"y\":[148.30693069306932],\"yaxis\":\"y\",\"type\":\"bar\"},{\"alignmentgroup\":\"True\",\"hovertemplate\":\"color=FORTUNER\\u003cbr\\u003ex=%{x}\\u003cbr\\u003eAverage Repait Cost=%{y}\\u003cextra\\u003e\\u003c\\u002fextra\\u003e\",\"legendgroup\":\"FORTUNER\",\"marker\":{\"color\":\"#FFA15A\",\"pattern\":{\"shape\":\"\"}},\"name\":\"FORTUNER\",\"offsetgroup\":\"FORTUNER\",\"orientation\":\"v\",\"showlegend\":true,\"textposition\":\"auto\",\"x\":[\"FORTUNER\"],\"xaxis\":\"x\",\"y\":[142.22413793103448],\"yaxis\":\"y\",\"type\":\"bar\"},{\"alignmentgroup\":\"True\",\"hovertemplate\":\"color=PRIUS\\u003cbr\\u003ex=%{x}\\u003cbr\\u003eAverage Repait Cost=%{y}\\u003cextra\\u003e\\u003c\\u002fextra\\u003e\",\"legendgroup\":\"PRIUS\",\"marker\":{\"color\":\"#19d3f3\",\"pattern\":{\"shape\":\"\"}},\"name\":\"PRIUS\",\"offsetgroup\":\"PRIUS\",\"orientation\":\"v\",\"showlegend\":true,\"textposition\":\"auto\",\"x\":[\"PRIUS\"],\"xaxis\":\"x\",\"y\":[126.0],\"yaxis\":\"y\",\"type\":\"bar\"},{\"alignmentgroup\":\"True\",\"hovertemplate\":\"color=HILUX\\u003cbr\\u003ex=%{x}\\u003cbr\\u003eAverage Repait Cost=%{y}\\u003cextra\\u003e\\u003c\\u002fextra\\u003e\",\"legendgroup\":\"HILUX\",\"marker\":{\"color\":\"#FF6692\",\"pattern\":{\"shape\":\"\"}},\"name\":\"HILUX\",\"offsetgroup\":\"HILUX\",\"orientation\":\"v\",\"showlegend\":true,\"textposition\":\"auto\",\"x\":[\"HILUX\"],\"xaxis\":\"x\",\"y\":[117.35051546391753],\"yaxis\":\"y\",\"type\":\"bar\"},{\"alignmentgroup\":\"True\",\"hovertemplate\":\"color=ELANTRA\\u003cbr\\u003ex=%{x}\\u003cbr\\u003eAverage Repait Cost=%{y}\\u003cextra\\u003e\\u003c\\u002fextra\\u003e\",\"legendgroup\":\"ELANTRA\",\"marker\":{\"color\":\"#B6E880\",\"pattern\":{\"shape\":\"\"}},\"name\":\"ELANTRA\",\"offsetgroup\":\"ELANTRA\",\"orientation\":\"v\",\"showlegend\":true,\"textposition\":\"auto\",\"x\":[\"ELANTRA\"],\"xaxis\":\"x\",\"y\":[114.49425287356321],\"yaxis\":\"y\",\"type\":\"bar\"},{\"alignmentgroup\":\"True\",\"hovertemplate\":\"color=TUCSAN\\u003cbr\\u003ex=%{x}\\u003cbr\\u003eAverage Repait Cost=%{y}\\u003cextra\\u003e\\u003c\\u002fextra\\u003e\",\"legendgroup\":\"TUCSAN\",\"marker\":{\"color\":\"#FF97FF\",\"pattern\":{\"shape\":\"\"}},\"name\":\"TUCSAN\",\"offsetgroup\":\"TUCSAN\",\"orientation\":\"v\",\"showlegend\":true,\"textposition\":\"auto\",\"x\":[\"TUCSAN\"],\"xaxis\":\"x\",\"y\":[113.76923076923077],\"yaxis\":\"y\",\"type\":\"bar\"},{\"alignmentgroup\":\"True\",\"hovertemplate\":\"color=AVANZA\\u003cbr\\u003ex=%{x}\\u003cbr\\u003eAverage Repait Cost=%{y}\\u003cextra\\u003e\\u003c\\u002fextra\\u003e\",\"legendgroup\":\"AVANZA\",\"marker\":{\"color\":\"#FECB52\",\"pattern\":{\"shape\":\"\"}},\"name\":\"AVANZA\",\"offsetgroup\":\"AVANZA\",\"orientation\":\"v\",\"showlegend\":true,\"textposition\":\"auto\",\"x\":[\"AVANZA\"],\"xaxis\":\"x\",\"y\":[112.03225806451613],\"yaxis\":\"y\",\"type\":\"bar\"},{\"alignmentgroup\":\"True\",\"hovertemplate\":\"color=OPTIMA\\u003cbr\\u003ex=%{x}\\u003cbr\\u003eAverage Repait Cost=%{y}\\u003cextra\\u003e\\u003c\\u002fextra\\u003e\",\"legendgroup\":\"OPTIMA\",\"marker\":{\"color\":\"#636efa\",\"pattern\":{\"shape\":\"\"}},\"name\":\"OPTIMA\",\"offsetgroup\":\"OPTIMA\",\"orientation\":\"v\",\"showlegend\":true,\"textposition\":\"auto\",\"x\":[\"OPTIMA\"],\"xaxis\":\"x\",\"y\":[108.82352941176471],\"yaxis\":\"y\",\"type\":\"bar\"},{\"alignmentgroup\":\"True\",\"hovertemplate\":\"color=GUNSAYIL\\u003cbr\\u003ex=%{x}\\u003cbr\\u003eAverage Repait Cost=%{y}\\u003cextra\\u003e\\u003c\\u002fextra\\u003e\",\"legendgroup\":\"GUNSAYIL\",\"marker\":{\"color\":\"#EF553B\",\"pattern\":{\"shape\":\"\"}},\"name\":\"GUNSAYIL\",\"offsetgroup\":\"GUNSAYIL\",\"orientation\":\"v\",\"showlegend\":true,\"textposition\":\"auto\",\"x\":[\"GUNSAYIL\"],\"xaxis\":\"x\",\"y\":[102.0],\"yaxis\":\"y\",\"type\":\"bar\"},{\"alignmentgroup\":\"True\",\"hovertemplate\":\"color=YARIS\\u003cbr\\u003ex=%{x}\\u003cbr\\u003eAverage Repait Cost=%{y}\\u003cextra\\u003e\\u003c\\u002fextra\\u003e\",\"legendgroup\":\"YARIS\",\"marker\":{\"color\":\"#00cc96\",\"pattern\":{\"shape\":\"\"}},\"name\":\"YARIS\",\"offsetgroup\":\"YARIS\",\"orientation\":\"v\",\"showlegend\":true,\"textposition\":\"auto\",\"x\":[\"YARIS\"],\"xaxis\":\"x\",\"y\":[100.96428571428571],\"yaxis\":\"y\",\"type\":\"bar\"},{\"alignmentgroup\":\"True\",\"hovertemplate\":\"color=CERATO\\u003cbr\\u003ex=%{x}\\u003cbr\\u003eAverage Repait Cost=%{y}\\u003cextra\\u003e\\u003c\\u002fextra\\u003e\",\"legendgroup\":\"CERATO\",\"marker\":{\"color\":\"#ab63fa\",\"pattern\":{\"shape\":\"\"}},\"name\":\"CERATO\",\"offsetgroup\":\"CERATO\",\"orientation\":\"v\",\"showlegend\":true,\"textposition\":\"auto\",\"x\":[\"CERATO\"],\"xaxis\":\"x\",\"y\":[95.59550561797752],\"yaxis\":\"y\",\"type\":\"bar\"},{\"alignmentgroup\":\"True\",\"hovertemplate\":\"color=FLUENCE\\u003cbr\\u003ex=%{x}\\u003cbr\\u003eAverage Repait Cost=%{y}\\u003cextra\\u003e\\u003c\\u002fextra\\u003e\",\"legendgroup\":\"FLUENCE\",\"marker\":{\"color\":\"#FFA15A\",\"pattern\":{\"shape\":\"\"}},\"name\":\"FLUENCE\",\"offsetgroup\":\"FLUENCE\",\"orientation\":\"v\",\"showlegend\":true,\"textposition\":\"auto\",\"x\":[\"FLUENCE\"],\"xaxis\":\"x\",\"y\":[90.61111111111111],\"yaxis\":\"y\",\"type\":\"bar\"},{\"alignmentgroup\":\"True\",\"hovertemplate\":\"color=COROLLA\\u003cbr\\u003ex=%{x}\\u003cbr\\u003eAverage Repait Cost=%{y}\\u003cextra\\u003e\\u003c\\u002fextra\\u003e\",\"legendgroup\":\"COROLLA\",\"marker\":{\"color\":\"#19d3f3\",\"pattern\":{\"shape\":\"\"}},\"name\":\"COROLLA\",\"offsetgroup\":\"COROLLA\",\"orientation\":\"v\",\"showlegend\":true,\"textposition\":\"auto\",\"x\":[\"COROLLA\"],\"xaxis\":\"x\",\"y\":[90.03205128205128],\"yaxis\":\"y\",\"type\":\"bar\"},{\"alignmentgroup\":\"True\",\"hovertemplate\":\"color=PRADO\\u003cbr\\u003ex=%{x}\\u003cbr\\u003eAverage Repait Cost=%{y}\\u003cextra\\u003e\\u003c\\u002fextra\\u003e\",\"legendgroup\":\"PRADO\",\"marker\":{\"color\":\"#FF6692\",\"pattern\":{\"shape\":\"\"}},\"name\":\"PRADO\",\"offsetgroup\":\"PRADO\",\"orientation\":\"v\",\"showlegend\":true,\"textposition\":\"auto\",\"x\":[\"PRADO\"],\"xaxis\":\"x\",\"y\":[89.94736842105263],\"yaxis\":\"y\",\"type\":\"bar\"},{\"alignmentgroup\":\"True\",\"hovertemplate\":\"color=CRUZE\\u003cbr\\u003ex=%{x}\\u003cbr\\u003eAverage Repait Cost=%{y}\\u003cextra\\u003e\\u003c\\u002fextra\\u003e\",\"legendgroup\":\"CRUZE\",\"marker\":{\"color\":\"#B6E880\",\"pattern\":{\"shape\":\"\"}},\"name\":\"CRUZE\",\"offsetgroup\":\"CRUZE\",\"orientation\":\"v\",\"showlegend\":true,\"textposition\":\"auto\",\"x\":[\"CRUZE\"],\"xaxis\":\"x\",\"y\":[88.11363636363636],\"yaxis\":\"y\",\"type\":\"bar\"},{\"alignmentgroup\":\"True\",\"hovertemplate\":\"color=SPORTAGE\\u003cbr\\u003ex=%{x}\\u003cbr\\u003eAverage Repait Cost=%{y}\\u003cextra\\u003e\\u003c\\u002fextra\\u003e\",\"legendgroup\":\"SPORTAGE\",\"marker\":{\"color\":\"#FF97FF\",\"pattern\":{\"shape\":\"\"}},\"name\":\"SPORTAGE\",\"offsetgroup\":\"SPORTAGE\",\"orientation\":\"v\",\"showlegend\":true,\"textposition\":\"auto\",\"x\":[\"SPORTAGE\"],\"xaxis\":\"x\",\"y\":[85.37704918032787],\"yaxis\":\"y\",\"type\":\"bar\"},{\"alignmentgroup\":\"True\",\"hovertemplate\":\"color=SONIC\\u003cbr\\u003ex=%{x}\\u003cbr\\u003eAverage Repait Cost=%{y}\\u003cextra\\u003e\\u003c\\u002fextra\\u003e\",\"legendgroup\":\"SONIC\",\"marker\":{\"color\":\"#FECB52\",\"pattern\":{\"shape\":\"\"}},\"name\":\"SONIC\",\"offsetgroup\":\"SONIC\",\"orientation\":\"v\",\"showlegend\":true,\"textposition\":\"auto\",\"x\":[\"SONIC\"],\"xaxis\":\"x\",\"y\":[76.38709677419355],\"yaxis\":\"y\",\"type\":\"bar\"},{\"alignmentgroup\":\"True\",\"hovertemplate\":\"color=SPARK\\u003cbr\\u003ex=%{x}\\u003cbr\\u003eAverage Repait Cost=%{y}\\u003cextra\\u003e\\u003c\\u002fextra\\u003e\",\"legendgroup\":\"SPARK\",\"marker\":{\"color\":\"#636efa\",\"pattern\":{\"shape\":\"\"}},\"name\":\"SPARK\",\"offsetgroup\":\"SPARK\",\"orientation\":\"v\",\"showlegend\":true,\"textposition\":\"auto\",\"x\":[\"SPARK\"],\"xaxis\":\"x\",\"y\":[70.8974358974359],\"yaxis\":\"y\",\"type\":\"bar\"},{\"alignmentgroup\":\"True\",\"hovertemplate\":\"color=RIO\\u003cbr\\u003ex=%{x}\\u003cbr\\u003eAverage Repait Cost=%{y}\\u003cextra\\u003e\\u003c\\u002fextra\\u003e\",\"legendgroup\":\"RIO\",\"marker\":{\"color\":\"#EF553B\",\"pattern\":{\"shape\":\"\"}},\"name\":\"RIO\",\"offsetgroup\":\"RIO\",\"orientation\":\"v\",\"showlegend\":true,\"textposition\":\"auto\",\"x\":[\"RIO\"],\"xaxis\":\"x\",\"y\":[60.2],\"yaxis\":\"y\",\"type\":\"bar\"},{\"alignmentgroup\":\"True\",\"hovertemplate\":\"color=PRUIS\\u003cbr\\u003ex=%{x}\\u003cbr\\u003eAverage Repait Cost=%{y}\\u003cextra\\u003e\\u003c\\u002fextra\\u003e\",\"legendgroup\":\"PRUIS\",\"marker\":{\"color\":\"#00cc96\",\"pattern\":{\"shape\":\"\"}},\"name\":\"PRUIS\",\"offsetgroup\":\"PRUIS\",\"orientation\":\"v\",\"showlegend\":true,\"textposition\":\"auto\",\"x\":[\"PRUIS\"],\"xaxis\":\"x\",\"y\":[60.0],\"yaxis\":\"y\",\"type\":\"bar\"},{\"alignmentgroup\":\"True\",\"hovertemplate\":\"color=I 10\\u003cbr\\u003ex=%{x}\\u003cbr\\u003eAverage Repait Cost=%{y}\\u003cextra\\u003e\\u003c\\u002fextra\\u003e\",\"legendgroup\":\"I 10\",\"marker\":{\"color\":\"#ab63fa\",\"pattern\":{\"shape\":\"\"}},\"name\":\"I 10\",\"offsetgroup\":\"I 10\",\"orientation\":\"v\",\"showlegend\":true,\"textposition\":\"auto\",\"x\":[\"I 10\"],\"xaxis\":\"x\",\"y\":[59.13513513513514],\"yaxis\":\"y\",\"type\":\"bar\"},{\"alignmentgroup\":\"True\",\"hovertemplate\":\"color=ACCENT\\u003cbr\\u003ex=%{x}\\u003cbr\\u003eAverage Repait Cost=%{y}\\u003cextra\\u003e\\u003c\\u002fextra\\u003e\",\"legendgroup\":\"ACCENT\",\"marker\":{\"color\":\"#FFA15A\",\"pattern\":{\"shape\":\"\"}},\"name\":\"ACCENT\",\"offsetgroup\":\"ACCENT\",\"orientation\":\"v\",\"showlegend\":true,\"textposition\":\"auto\",\"x\":[\"ACCENT\"],\"xaxis\":\"x\",\"y\":[21.0],\"yaxis\":\"y\",\"type\":\"bar\"}],                        {\"template\":{\"data\":{\"histogram2dcontour\":[{\"type\":\"histogram2dcontour\",\"colorbar\":{\"outlinewidth\":0,\"ticks\":\"\"},\"colorscale\":[[0.0,\"#0d0887\"],[0.1111111111111111,\"#46039f\"],[0.2222222222222222,\"#7201a8\"],[0.3333333333333333,\"#9c179e\"],[0.4444444444444444,\"#bd3786\"],[0.5555555555555556,\"#d8576b\"],[0.6666666666666666,\"#ed7953\"],[0.7777777777777778,\"#fb9f3a\"],[0.8888888888888888,\"#fdca26\"],[1.0,\"#f0f921\"]]}],\"choropleth\":[{\"type\":\"choropleth\",\"colorbar\":{\"outlinewidth\":0,\"ticks\":\"\"}}],\"histogram2d\":[{\"type\":\"histogram2d\",\"colorbar\":{\"outlinewidth\":0,\"ticks\":\"\"},\"colorscale\":[[0.0,\"#0d0887\"],[0.1111111111111111,\"#46039f\"],[0.2222222222222222,\"#7201a8\"],[0.3333333333333333,\"#9c179e\"],[0.4444444444444444,\"#bd3786\"],[0.5555555555555556,\"#d8576b\"],[0.6666666666666666,\"#ed7953\"],[0.7777777777777778,\"#fb9f3a\"],[0.8888888888888888,\"#fdca26\"],[1.0,\"#f0f921\"]]}],\"heatmap\":[{\"type\":\"heatmap\",\"colorbar\":{\"outlinewidth\":0,\"ticks\":\"\"},\"colorscale\":[[0.0,\"#0d0887\"],[0.1111111111111111,\"#46039f\"],[0.2222222222222222,\"#7201a8\"],[0.3333333333333333,\"#9c179e\"],[0.4444444444444444,\"#bd3786\"],[0.5555555555555556,\"#d8576b\"],[0.6666666666666666,\"#ed7953\"],[0.7777777777777778,\"#fb9f3a\"],[0.8888888888888888,\"#fdca26\"],[1.0,\"#f0f921\"]]}],\"heatmapgl\":[{\"type\":\"heatmapgl\",\"colorbar\":{\"outlinewidth\":0,\"ticks\":\"\"},\"colorscale\":[[0.0,\"#0d0887\"],[0.1111111111111111,\"#46039f\"],[0.2222222222222222,\"#7201a8\"],[0.3333333333333333,\"#9c179e\"],[0.4444444444444444,\"#bd3786\"],[0.5555555555555556,\"#d8576b\"],[0.6666666666666666,\"#ed7953\"],[0.7777777777777778,\"#fb9f3a\"],[0.8888888888888888,\"#fdca26\"],[1.0,\"#f0f921\"]]}],\"contourcarpet\":[{\"type\":\"contourcarpet\",\"colorbar\":{\"outlinewidth\":0,\"ticks\":\"\"}}],\"contour\":[{\"type\":\"contour\",\"colorbar\":{\"outlinewidth\":0,\"ticks\":\"\"},\"colorscale\":[[0.0,\"#0d0887\"],[0.1111111111111111,\"#46039f\"],[0.2222222222222222,\"#7201a8\"],[0.3333333333333333,\"#9c179e\"],[0.4444444444444444,\"#bd3786\"],[0.5555555555555556,\"#d8576b\"],[0.6666666666666666,\"#ed7953\"],[0.7777777777777778,\"#fb9f3a\"],[0.8888888888888888,\"#fdca26\"],[1.0,\"#f0f921\"]]}],\"surface\":[{\"type\":\"surface\",\"colorbar\":{\"outlinewidth\":0,\"ticks\":\"\"},\"colorscale\":[[0.0,\"#0d0887\"],[0.1111111111111111,\"#46039f\"],[0.2222222222222222,\"#7201a8\"],[0.3333333333333333,\"#9c179e\"],[0.4444444444444444,\"#bd3786\"],[0.5555555555555556,\"#d8576b\"],[0.6666666666666666,\"#ed7953\"],[0.7777777777777778,\"#fb9f3a\"],[0.8888888888888888,\"#fdca26\"],[1.0,\"#f0f921\"]]}],\"mesh3d\":[{\"type\":\"mesh3d\",\"colorbar\":{\"outlinewidth\":0,\"ticks\":\"\"}}],\"scatter\":[{\"fillpattern\":{\"fillmode\":\"overlay\",\"size\":10,\"solidity\":0.2},\"type\":\"scatter\"}],\"parcoords\":[{\"type\":\"parcoords\",\"line\":{\"colorbar\":{\"outlinewidth\":0,\"ticks\":\"\"}}}],\"scatterpolargl\":[{\"type\":\"scatterpolargl\",\"marker\":{\"colorbar\":{\"outlinewidth\":0,\"ticks\":\"\"}}}],\"bar\":[{\"error_x\":{\"color\":\"#2a3f5f\"},\"error_y\":{\"color\":\"#2a3f5f\"},\"marker\":{\"line\":{\"color\":\"#E5ECF6\",\"width\":0.5},\"pattern\":{\"fillmode\":\"overlay\",\"size\":10,\"solidity\":0.2}},\"type\":\"bar\"}],\"scattergeo\":[{\"type\":\"scattergeo\",\"marker\":{\"colorbar\":{\"outlinewidth\":0,\"ticks\":\"\"}}}],\"scatterpolar\":[{\"type\":\"scatterpolar\",\"marker\":{\"colorbar\":{\"outlinewidth\":0,\"ticks\":\"\"}}}],\"histogram\":[{\"marker\":{\"pattern\":{\"fillmode\":\"overlay\",\"size\":10,\"solidity\":0.2}},\"type\":\"histogram\"}],\"scattergl\":[{\"type\":\"scattergl\",\"marker\":{\"colorbar\":{\"outlinewidth\":0,\"ticks\":\"\"}}}],\"scatter3d\":[{\"type\":\"scatter3d\",\"line\":{\"colorbar\":{\"outlinewidth\":0,\"ticks\":\"\"}},\"marker\":{\"colorbar\":{\"outlinewidth\":0,\"ticks\":\"\"}}}],\"scattermapbox\":[{\"type\":\"scattermapbox\",\"marker\":{\"colorbar\":{\"outlinewidth\":0,\"ticks\":\"\"}}}],\"scatterternary\":[{\"type\":\"scatterternary\",\"marker\":{\"colorbar\":{\"outlinewidth\":0,\"ticks\":\"\"}}}],\"scattercarpet\":[{\"type\":\"scattercarpet\",\"marker\":{\"colorbar\":{\"outlinewidth\":0,\"ticks\":\"\"}}}],\"carpet\":[{\"aaxis\":{\"endlinecolor\":\"#2a3f5f\",\"gridcolor\":\"white\",\"linecolor\":\"white\",\"minorgridcolor\":\"white\",\"startlinecolor\":\"#2a3f5f\"},\"baxis\":{\"endlinecolor\":\"#2a3f5f\",\"gridcolor\":\"white\",\"linecolor\":\"white\",\"minorgridcolor\":\"white\",\"startlinecolor\":\"#2a3f5f\"},\"type\":\"carpet\"}],\"table\":[{\"cells\":{\"fill\":{\"color\":\"#EBF0F8\"},\"line\":{\"color\":\"white\"}},\"header\":{\"fill\":{\"color\":\"#C8D4E3\"},\"line\":{\"color\":\"white\"}},\"type\":\"table\"}],\"barpolar\":[{\"marker\":{\"line\":{\"color\":\"#E5ECF6\",\"width\":0.5},\"pattern\":{\"fillmode\":\"overlay\",\"size\":10,\"solidity\":0.2}},\"type\":\"barpolar\"}],\"pie\":[{\"automargin\":true,\"type\":\"pie\"}]},\"layout\":{\"autotypenumbers\":\"strict\",\"colorway\":[\"#636efa\",\"#EF553B\",\"#00cc96\",\"#ab63fa\",\"#FFA15A\",\"#19d3f3\",\"#FF6692\",\"#B6E880\",\"#FF97FF\",\"#FECB52\"],\"font\":{\"color\":\"#2a3f5f\"},\"hovermode\":\"closest\",\"hoverlabel\":{\"align\":\"left\"},\"paper_bgcolor\":\"white\",\"plot_bgcolor\":\"#E5ECF6\",\"polar\":{\"bgcolor\":\"#E5ECF6\",\"angularaxis\":{\"gridcolor\":\"white\",\"linecolor\":\"white\",\"ticks\":\"\"},\"radialaxis\":{\"gridcolor\":\"white\",\"linecolor\":\"white\",\"ticks\":\"\"}},\"ternary\":{\"bgcolor\":\"#E5ECF6\",\"aaxis\":{\"gridcolor\":\"white\",\"linecolor\":\"white\",\"ticks\":\"\"},\"baxis\":{\"gridcolor\":\"white\",\"linecolor\":\"white\",\"ticks\":\"\"},\"caxis\":{\"gridcolor\":\"white\",\"linecolor\":\"white\",\"ticks\":\"\"}},\"coloraxis\":{\"colorbar\":{\"outlinewidth\":0,\"ticks\":\"\"}},\"colorscale\":{\"sequential\":[[0.0,\"#0d0887\"],[0.1111111111111111,\"#46039f\"],[0.2222222222222222,\"#7201a8\"],[0.3333333333333333,\"#9c179e\"],[0.4444444444444444,\"#bd3786\"],[0.5555555555555556,\"#d8576b\"],[0.6666666666666666,\"#ed7953\"],[0.7777777777777778,\"#fb9f3a\"],[0.8888888888888888,\"#fdca26\"],[1.0,\"#f0f921\"]],\"sequentialminus\":[[0.0,\"#0d0887\"],[0.1111111111111111,\"#46039f\"],[0.2222222222222222,\"#7201a8\"],[0.3333333333333333,\"#9c179e\"],[0.4444444444444444,\"#bd3786\"],[0.5555555555555556,\"#d8576b\"],[0.6666666666666666,\"#ed7953\"],[0.7777777777777778,\"#fb9f3a\"],[0.8888888888888888,\"#fdca26\"],[1.0,\"#f0f921\"]],\"diverging\":[[0,\"#8e0152\"],[0.1,\"#c51b7d\"],[0.2,\"#de77ae\"],[0.3,\"#f1b6da\"],[0.4,\"#fde0ef\"],[0.5,\"#f7f7f7\"],[0.6,\"#e6f5d0\"],[0.7,\"#b8e186\"],[0.8,\"#7fbc41\"],[0.9,\"#4d9221\"],[1,\"#276419\"]]},\"xaxis\":{\"gridcolor\":\"white\",\"linecolor\":\"white\",\"ticks\":\"\",\"title\":{\"standoff\":15},\"zerolinecolor\":\"white\",\"automargin\":true,\"zerolinewidth\":2},\"yaxis\":{\"gridcolor\":\"white\",\"linecolor\":\"white\",\"ticks\":\"\",\"title\":{\"standoff\":15},\"zerolinecolor\":\"white\",\"automargin\":true,\"zerolinewidth\":2},\"scene\":{\"xaxis\":{\"backgroundcolor\":\"#E5ECF6\",\"gridcolor\":\"white\",\"linecolor\":\"white\",\"showbackground\":true,\"ticks\":\"\",\"zerolinecolor\":\"white\",\"gridwidth\":2},\"yaxis\":{\"backgroundcolor\":\"#E5ECF6\",\"gridcolor\":\"white\",\"linecolor\":\"white\",\"showbackground\":true,\"ticks\":\"\",\"zerolinecolor\":\"white\",\"gridwidth\":2},\"zaxis\":{\"backgroundcolor\":\"#E5ECF6\",\"gridcolor\":\"white\",\"linecolor\":\"white\",\"showbackground\":true,\"ticks\":\"\",\"zerolinecolor\":\"white\",\"gridwidth\":2}},\"shapedefaults\":{\"line\":{\"color\":\"#2a3f5f\"}},\"annotationdefaults\":{\"arrowcolor\":\"#2a3f5f\",\"arrowhead\":0,\"arrowwidth\":1},\"geo\":{\"bgcolor\":\"white\",\"landcolor\":\"#E5ECF6\",\"subunitcolor\":\"white\",\"showland\":true,\"showlakes\":true,\"lakecolor\":\"white\"},\"title\":{\"x\":0.05},\"mapbox\":{\"style\":\"light\"}}},\"xaxis\":{\"anchor\":\"y\",\"domain\":[0.0,1.0],\"title\":{\"text\":\"car\"}},\"yaxis\":{\"anchor\":\"x\",\"domain\":[0.0,1.0],\"title\":{\"text\":\"Average Repait Cost\"}},\"legend\":{\"title\":{\"text\":\"color\"},\"tracegroupgap\":0},\"title\":{\"text\":\"Average repair cost per car model Analysis\",\"x\":0.5},\"barmode\":\"relative\"},                        {\"responsive\": true}                    ).then(function(){\n",
       "                            \n",
       "var gd = document.getElementById('37c7a559-14c7-4bdd-b4f9-c1e0b43ed988');\n",
       "var x = new MutationObserver(function (mutations, observer) {{\n",
       "        var display = window.getComputedStyle(gd).display;\n",
       "        if (!display || display === 'none') {{\n",
       "            console.log([gd, 'removed!']);\n",
       "            Plotly.purge(gd);\n",
       "            observer.disconnect();\n",
       "        }}\n",
       "}});\n",
       "\n",
       "// Listen for the removal of the full notebook cells\n",
       "var notebookContainer = gd.closest('#notebook-container');\n",
       "if (notebookContainer) {{\n",
       "    x.observe(notebookContainer, {childList: true});\n",
       "}}\n",
       "\n",
       "// Listen for the clearing of the current output cell\n",
       "var outputEl = gd.closest('.output');\n",
       "if (outputEl) {{\n",
       "    x.observe(outputEl, {childList: true});\n",
       "}}\n",
       "\n",
       "                        })                };                });            </script>        </div>"
      ]
     },
     "metadata": {},
     "output_type": "display_data"
    }
   ],
   "source": [
    "average_cost_car = df.groupby('car')['cost'].mean().sort_values(ascending=False).reset_index(name='Average Repait Cost')\n",
    "myPlot1(average_cost_car,xs='car',ys='Average Repait Cost',clr='car',plotType='bar',title='Average repair cost per car model', sort_by=None, ascending=True)"
   ]
  },
  {
   "cell_type": "code",
   "execution_count": 77,
   "id": "f17adaef",
   "metadata": {},
   "outputs": [],
   "source": [
    "#### Total costs per car model across all damage types"
   ]
  },
  {
   "cell_type": "code",
   "execution_count": 78,
   "id": "9ef06c40",
   "metadata": {},
   "outputs": [
    {
     "data": {
      "application/vnd.plotly.v1+json": {
       "config": {
        "plotlyServerURL": "https://plot.ly"
       },
       "data": [
        {
         "alignmentgroup": "True",
         "hovertemplate": "color=اصلاح ميكانيك<br>x=%{x}<br>Total Costs=%{y}<extra></extra>",
         "legendgroup": "اصلاح ميكانيك",
         "marker": {
          "color": "#636efa",
          "pattern": {
           "shape": ""
          }
         },
         "name": "اصلاح ميكانيك",
         "offsetgroup": "اصلاح ميكانيك",
         "orientation": "v",
         "showlegend": true,
         "textposition": "auto",
         "type": "bar",
         "x": [
          "FORTUNER",
          "H 1",
          "ELANTRA",
          "CERATO",
          "COROLLA",
          "HILUX",
          "SPORTAGE",
          "SPARK",
          "AVANZA",
          "CAMRY",
          "CRUZE",
          "FLUENCE",
          "YARIS",
          "RIO",
          "I 10",
          "SONIC",
          "TUCSAN",
          "RAV 4",
          "PRADO",
          "OPTIMA",
          "PRIUS"
         ],
         "xaxis": "x",
         "y": [
          12702,
          4048,
          2825,
          2566,
          2553,
          2507,
          2368,
          1928,
          1667,
          1445,
          1255,
          1201,
          1199,
          1077,
          960,
          749,
          630,
          434,
          374,
          296,
          20
         ],
         "yaxis": "y"
        },
        {
         "alignmentgroup": "True",
         "hovertemplate": "color=اصلاح بودي<br>x=%{x}<br>Total Costs=%{y}<extra></extra>",
         "legendgroup": "اصلاح بودي",
         "marker": {
          "color": "#EF553B",
          "pattern": {
           "shape": ""
          }
         },
         "name": "اصلاح بودي",
         "offsetgroup": "اصلاح بودي",
         "orientation": "v",
         "showlegend": true,
         "textposition": "auto",
         "type": "bar",
         "x": [
          "FORTUNER",
          "CERATO",
          "CAMRY",
          "COROLLA",
          "H 1",
          "ELANTRA",
          "AVANZA",
          "HILUX",
          "YARIS",
          "FLUENCE",
          "CRUZE",
          "SPARK",
          "RIO",
          "SONIC",
          "PRADO",
          "OPTIMA",
          "I 10",
          "TUCSAN",
          "RAV 4",
          "CITROEN"
         ],
         "xaxis": "x",
         "y": [
          9133,
          8267,
          8062,
          7083,
          5345,
          5311,
          4429,
          3381,
          2492,
          1981,
          1942,
          1934,
          1769,
          767,
          642,
          501,
          496,
          300,
          281,
          281
         ],
         "yaxis": "y"
        },
        {
         "alignmentgroup": "True",
         "hovertemplate": "color=اصلاح كوشوك<br>x=%{x}<br>Total Costs=%{y}<extra></extra>",
         "legendgroup": "اصلاح كوشوك",
         "marker": {
          "color": "#00cc96",
          "pattern": {
           "shape": ""
          }
         },
         "name": "اصلاح كوشوك",
         "offsetgroup": "اصلاح كوشوك",
         "orientation": "v",
         "showlegend": true,
         "textposition": "auto",
         "type": "bar",
         "x": [
          "FORTUNER",
          "H 1",
          "CERATO",
          "HILUX",
          "CAMRY",
          "SPORTAGE",
          "COROLLA",
          "ELANTRA",
          "FLUENCE",
          "OPTIMA",
          "YARIS",
          "SPARK",
          "SONIC",
          "PRIUS",
          "I 10",
          "RAV 4",
          "TUCSAN",
          "CRUZE",
          "PRADO",
          "RIO"
         ],
         "xaxis": "x",
         "y": [
          7023,
          4058,
          2976,
          2797,
          2530,
          1665,
          1195,
          997,
          915,
          789,
          694,
          660,
          575,
          490,
          408,
          395,
          360,
          302,
          165,
          161
         ],
         "yaxis": "y"
        },
        {
         "alignmentgroup": "True",
         "hovertemplate": "color=غيار زيت<br>x=%{x}<br>Total Costs=%{y}<extra></extra>",
         "legendgroup": "غيار زيت",
         "marker": {
          "color": "#ab63fa",
          "pattern": {
           "shape": ""
          }
         },
         "name": "غيار زيت",
         "offsetgroup": "غيار زيت",
         "orientation": "v",
         "showlegend": true,
         "textposition": "auto",
         "type": "bar",
         "x": [
          "FORTUNER",
          "COROLLA",
          "HILUX",
          "CERATO",
          "YARIS",
          "H 1",
          "RIO",
          "AVANZA",
          "SPARK",
          "SPORTAGE",
          "FLUENCE",
          "CAMRY",
          "ELANTRA",
          "PRADO",
          "I 10",
          "CRUZE",
          "OPTIMA",
          "PRIUS",
          "SONIC",
          "RAV 4",
          "GUNSAYIL",
          "TUCSAN",
          "ACCENT"
         ],
         "xaxis": "x",
         "y": [
          3401,
          2603,
          2481,
          2106,
          1194,
          1117,
          1024,
          770,
          729,
          719,
          713,
          702,
          685,
          330,
          324,
          275,
          264,
          246,
          219,
          144,
          102,
          84,
          63
         ],
         "yaxis": "y"
        },
        {
         "alignmentgroup": "True",
         "hovertemplate": "color=اصلاح كهرباء<br>x=%{x}<br>Total Costs=%{y}<extra></extra>",
         "legendgroup": "اصلاح كهرباء",
         "marker": {
          "color": "#FFA15A",
          "pattern": {
           "shape": ""
          }
         },
         "name": "اصلاح كهرباء",
         "offsetgroup": "اصلاح كهرباء",
         "orientation": "v",
         "showlegend": true,
         "textposition": "auto",
         "type": "bar",
         "x": [
          "CERATO",
          "FORTUNER",
          "SPARK",
          "COROLLA",
          "CAMRY",
          "RIO",
          "H 1",
          "HILUX",
          "PRADO",
          "ELANTRA",
          "SPORTAGE",
          "SONIC",
          "FLUENCE",
          "AVANZA",
          "CRUZE",
          "YARIS"
         ],
         "xaxis": "x",
         "y": [
          511,
          436,
          279,
          251,
          185,
          158,
          128,
          127,
          108,
          108,
          98,
          58,
          58,
          55,
          55,
          50
         ],
         "yaxis": "y"
        },
        {
         "alignmentgroup": "True",
         "hovertemplate": "color=اصلاح زجاج<br>x=%{x}<br>Total Costs=%{y}<extra></extra>",
         "legendgroup": "اصلاح زجاج",
         "marker": {
          "color": "#19d3f3",
          "pattern": {
           "shape": ""
          }
         },
         "name": "اصلاح زجاج",
         "offsetgroup": "اصلاح زجاج",
         "orientation": "v",
         "showlegend": true,
         "textposition": "auto",
         "type": "bar",
         "x": [
          "CERATO",
          "COROLLA",
          "SPORTAGE",
          "TUCSAN",
          "H 1",
          "PRADO",
          "HILUX",
          "CAMRY",
          "FORTUNER",
          "RIO",
          "FLUENCE",
          "AVANZA"
         ],
         "xaxis": "x",
         "y": [
          485,
          340,
          185,
          105,
          100,
          90,
          90,
          76,
          45,
          25,
          25,
          25
         ],
         "yaxis": "y"
        },
        {
         "alignmentgroup": "True",
         "hovertemplate": "color=اصلاح فرش<br>x=%{x}<br>Total Costs=%{y}<extra></extra>",
         "legendgroup": "اصلاح فرش",
         "marker": {
          "color": "#FF6692",
          "pattern": {
           "shape": ""
          }
         },
         "name": "اصلاح فرش",
         "offsetgroup": "اصلاح فرش",
         "orientation": "v",
         "showlegend": true,
         "textposition": "auto",
         "type": "bar",
         "x": [
          "FORTUNER",
          "H 1",
          "SPORTAGE",
          "CERATO",
          "PRUIS",
          "CRUZE",
          "ELANTRA",
          "YARIS",
          "COROLLA"
         ],
         "xaxis": "x",
         "y": [
          256,
          183,
          173,
          105,
          60,
          48,
          35,
          25,
          20
         ],
         "yaxis": "y"
        }
       ],
       "layout": {
        "barmode": "relative",
        "legend": {
         "title": {
          "text": "color"
         },
         "tracegroupgap": 0
        },
        "template": {
         "data": {
          "bar": [
           {
            "error_x": {
             "color": "#2a3f5f"
            },
            "error_y": {
             "color": "#2a3f5f"
            },
            "marker": {
             "line": {
              "color": "#E5ECF6",
              "width": 0.5
             },
             "pattern": {
              "fillmode": "overlay",
              "size": 10,
              "solidity": 0.2
             }
            },
            "type": "bar"
           }
          ],
          "barpolar": [
           {
            "marker": {
             "line": {
              "color": "#E5ECF6",
              "width": 0.5
             },
             "pattern": {
              "fillmode": "overlay",
              "size": 10,
              "solidity": 0.2
             }
            },
            "type": "barpolar"
           }
          ],
          "carpet": [
           {
            "aaxis": {
             "endlinecolor": "#2a3f5f",
             "gridcolor": "white",
             "linecolor": "white",
             "minorgridcolor": "white",
             "startlinecolor": "#2a3f5f"
            },
            "baxis": {
             "endlinecolor": "#2a3f5f",
             "gridcolor": "white",
             "linecolor": "white",
             "minorgridcolor": "white",
             "startlinecolor": "#2a3f5f"
            },
            "type": "carpet"
           }
          ],
          "choropleth": [
           {
            "colorbar": {
             "outlinewidth": 0,
             "ticks": ""
            },
            "type": "choropleth"
           }
          ],
          "contour": [
           {
            "colorbar": {
             "outlinewidth": 0,
             "ticks": ""
            },
            "colorscale": [
             [
              0,
              "#0d0887"
             ],
             [
              0.1111111111111111,
              "#46039f"
             ],
             [
              0.2222222222222222,
              "#7201a8"
             ],
             [
              0.3333333333333333,
              "#9c179e"
             ],
             [
              0.4444444444444444,
              "#bd3786"
             ],
             [
              0.5555555555555556,
              "#d8576b"
             ],
             [
              0.6666666666666666,
              "#ed7953"
             ],
             [
              0.7777777777777778,
              "#fb9f3a"
             ],
             [
              0.8888888888888888,
              "#fdca26"
             ],
             [
              1,
              "#f0f921"
             ]
            ],
            "type": "contour"
           }
          ],
          "contourcarpet": [
           {
            "colorbar": {
             "outlinewidth": 0,
             "ticks": ""
            },
            "type": "contourcarpet"
           }
          ],
          "heatmap": [
           {
            "colorbar": {
             "outlinewidth": 0,
             "ticks": ""
            },
            "colorscale": [
             [
              0,
              "#0d0887"
             ],
             [
              0.1111111111111111,
              "#46039f"
             ],
             [
              0.2222222222222222,
              "#7201a8"
             ],
             [
              0.3333333333333333,
              "#9c179e"
             ],
             [
              0.4444444444444444,
              "#bd3786"
             ],
             [
              0.5555555555555556,
              "#d8576b"
             ],
             [
              0.6666666666666666,
              "#ed7953"
             ],
             [
              0.7777777777777778,
              "#fb9f3a"
             ],
             [
              0.8888888888888888,
              "#fdca26"
             ],
             [
              1,
              "#f0f921"
             ]
            ],
            "type": "heatmap"
           }
          ],
          "heatmapgl": [
           {
            "colorbar": {
             "outlinewidth": 0,
             "ticks": ""
            },
            "colorscale": [
             [
              0,
              "#0d0887"
             ],
             [
              0.1111111111111111,
              "#46039f"
             ],
             [
              0.2222222222222222,
              "#7201a8"
             ],
             [
              0.3333333333333333,
              "#9c179e"
             ],
             [
              0.4444444444444444,
              "#bd3786"
             ],
             [
              0.5555555555555556,
              "#d8576b"
             ],
             [
              0.6666666666666666,
              "#ed7953"
             ],
             [
              0.7777777777777778,
              "#fb9f3a"
             ],
             [
              0.8888888888888888,
              "#fdca26"
             ],
             [
              1,
              "#f0f921"
             ]
            ],
            "type": "heatmapgl"
           }
          ],
          "histogram": [
           {
            "marker": {
             "pattern": {
              "fillmode": "overlay",
              "size": 10,
              "solidity": 0.2
             }
            },
            "type": "histogram"
           }
          ],
          "histogram2d": [
           {
            "colorbar": {
             "outlinewidth": 0,
             "ticks": ""
            },
            "colorscale": [
             [
              0,
              "#0d0887"
             ],
             [
              0.1111111111111111,
              "#46039f"
             ],
             [
              0.2222222222222222,
              "#7201a8"
             ],
             [
              0.3333333333333333,
              "#9c179e"
             ],
             [
              0.4444444444444444,
              "#bd3786"
             ],
             [
              0.5555555555555556,
              "#d8576b"
             ],
             [
              0.6666666666666666,
              "#ed7953"
             ],
             [
              0.7777777777777778,
              "#fb9f3a"
             ],
             [
              0.8888888888888888,
              "#fdca26"
             ],
             [
              1,
              "#f0f921"
             ]
            ],
            "type": "histogram2d"
           }
          ],
          "histogram2dcontour": [
           {
            "colorbar": {
             "outlinewidth": 0,
             "ticks": ""
            },
            "colorscale": [
             [
              0,
              "#0d0887"
             ],
             [
              0.1111111111111111,
              "#46039f"
             ],
             [
              0.2222222222222222,
              "#7201a8"
             ],
             [
              0.3333333333333333,
              "#9c179e"
             ],
             [
              0.4444444444444444,
              "#bd3786"
             ],
             [
              0.5555555555555556,
              "#d8576b"
             ],
             [
              0.6666666666666666,
              "#ed7953"
             ],
             [
              0.7777777777777778,
              "#fb9f3a"
             ],
             [
              0.8888888888888888,
              "#fdca26"
             ],
             [
              1,
              "#f0f921"
             ]
            ],
            "type": "histogram2dcontour"
           }
          ],
          "mesh3d": [
           {
            "colorbar": {
             "outlinewidth": 0,
             "ticks": ""
            },
            "type": "mesh3d"
           }
          ],
          "parcoords": [
           {
            "line": {
             "colorbar": {
              "outlinewidth": 0,
              "ticks": ""
             }
            },
            "type": "parcoords"
           }
          ],
          "pie": [
           {
            "automargin": true,
            "type": "pie"
           }
          ],
          "scatter": [
           {
            "fillpattern": {
             "fillmode": "overlay",
             "size": 10,
             "solidity": 0.2
            },
            "type": "scatter"
           }
          ],
          "scatter3d": [
           {
            "line": {
             "colorbar": {
              "outlinewidth": 0,
              "ticks": ""
             }
            },
            "marker": {
             "colorbar": {
              "outlinewidth": 0,
              "ticks": ""
             }
            },
            "type": "scatter3d"
           }
          ],
          "scattercarpet": [
           {
            "marker": {
             "colorbar": {
              "outlinewidth": 0,
              "ticks": ""
             }
            },
            "type": "scattercarpet"
           }
          ],
          "scattergeo": [
           {
            "marker": {
             "colorbar": {
              "outlinewidth": 0,
              "ticks": ""
             }
            },
            "type": "scattergeo"
           }
          ],
          "scattergl": [
           {
            "marker": {
             "colorbar": {
              "outlinewidth": 0,
              "ticks": ""
             }
            },
            "type": "scattergl"
           }
          ],
          "scattermapbox": [
           {
            "marker": {
             "colorbar": {
              "outlinewidth": 0,
              "ticks": ""
             }
            },
            "type": "scattermapbox"
           }
          ],
          "scatterpolar": [
           {
            "marker": {
             "colorbar": {
              "outlinewidth": 0,
              "ticks": ""
             }
            },
            "type": "scatterpolar"
           }
          ],
          "scatterpolargl": [
           {
            "marker": {
             "colorbar": {
              "outlinewidth": 0,
              "ticks": ""
             }
            },
            "type": "scatterpolargl"
           }
          ],
          "scatterternary": [
           {
            "marker": {
             "colorbar": {
              "outlinewidth": 0,
              "ticks": ""
             }
            },
            "type": "scatterternary"
           }
          ],
          "surface": [
           {
            "colorbar": {
             "outlinewidth": 0,
             "ticks": ""
            },
            "colorscale": [
             [
              0,
              "#0d0887"
             ],
             [
              0.1111111111111111,
              "#46039f"
             ],
             [
              0.2222222222222222,
              "#7201a8"
             ],
             [
              0.3333333333333333,
              "#9c179e"
             ],
             [
              0.4444444444444444,
              "#bd3786"
             ],
             [
              0.5555555555555556,
              "#d8576b"
             ],
             [
              0.6666666666666666,
              "#ed7953"
             ],
             [
              0.7777777777777778,
              "#fb9f3a"
             ],
             [
              0.8888888888888888,
              "#fdca26"
             ],
             [
              1,
              "#f0f921"
             ]
            ],
            "type": "surface"
           }
          ],
          "table": [
           {
            "cells": {
             "fill": {
              "color": "#EBF0F8"
             },
             "line": {
              "color": "white"
             }
            },
            "header": {
             "fill": {
              "color": "#C8D4E3"
             },
             "line": {
              "color": "white"
             }
            },
            "type": "table"
           }
          ]
         },
         "layout": {
          "annotationdefaults": {
           "arrowcolor": "#2a3f5f",
           "arrowhead": 0,
           "arrowwidth": 1
          },
          "autotypenumbers": "strict",
          "coloraxis": {
           "colorbar": {
            "outlinewidth": 0,
            "ticks": ""
           }
          },
          "colorscale": {
           "diverging": [
            [
             0,
             "#8e0152"
            ],
            [
             0.1,
             "#c51b7d"
            ],
            [
             0.2,
             "#de77ae"
            ],
            [
             0.3,
             "#f1b6da"
            ],
            [
             0.4,
             "#fde0ef"
            ],
            [
             0.5,
             "#f7f7f7"
            ],
            [
             0.6,
             "#e6f5d0"
            ],
            [
             0.7,
             "#b8e186"
            ],
            [
             0.8,
             "#7fbc41"
            ],
            [
             0.9,
             "#4d9221"
            ],
            [
             1,
             "#276419"
            ]
           ],
           "sequential": [
            [
             0,
             "#0d0887"
            ],
            [
             0.1111111111111111,
             "#46039f"
            ],
            [
             0.2222222222222222,
             "#7201a8"
            ],
            [
             0.3333333333333333,
             "#9c179e"
            ],
            [
             0.4444444444444444,
             "#bd3786"
            ],
            [
             0.5555555555555556,
             "#d8576b"
            ],
            [
             0.6666666666666666,
             "#ed7953"
            ],
            [
             0.7777777777777778,
             "#fb9f3a"
            ],
            [
             0.8888888888888888,
             "#fdca26"
            ],
            [
             1,
             "#f0f921"
            ]
           ],
           "sequentialminus": [
            [
             0,
             "#0d0887"
            ],
            [
             0.1111111111111111,
             "#46039f"
            ],
            [
             0.2222222222222222,
             "#7201a8"
            ],
            [
             0.3333333333333333,
             "#9c179e"
            ],
            [
             0.4444444444444444,
             "#bd3786"
            ],
            [
             0.5555555555555556,
             "#d8576b"
            ],
            [
             0.6666666666666666,
             "#ed7953"
            ],
            [
             0.7777777777777778,
             "#fb9f3a"
            ],
            [
             0.8888888888888888,
             "#fdca26"
            ],
            [
             1,
             "#f0f921"
            ]
           ]
          },
          "colorway": [
           "#636efa",
           "#EF553B",
           "#00cc96",
           "#ab63fa",
           "#FFA15A",
           "#19d3f3",
           "#FF6692",
           "#B6E880",
           "#FF97FF",
           "#FECB52"
          ],
          "font": {
           "color": "#2a3f5f"
          },
          "geo": {
           "bgcolor": "white",
           "lakecolor": "white",
           "landcolor": "#E5ECF6",
           "showlakes": true,
           "showland": true,
           "subunitcolor": "white"
          },
          "hoverlabel": {
           "align": "left"
          },
          "hovermode": "closest",
          "mapbox": {
           "style": "light"
          },
          "paper_bgcolor": "white",
          "plot_bgcolor": "#E5ECF6",
          "polar": {
           "angularaxis": {
            "gridcolor": "white",
            "linecolor": "white",
            "ticks": ""
           },
           "bgcolor": "#E5ECF6",
           "radialaxis": {
            "gridcolor": "white",
            "linecolor": "white",
            "ticks": ""
           }
          },
          "scene": {
           "xaxis": {
            "backgroundcolor": "#E5ECF6",
            "gridcolor": "white",
            "gridwidth": 2,
            "linecolor": "white",
            "showbackground": true,
            "ticks": "",
            "zerolinecolor": "white"
           },
           "yaxis": {
            "backgroundcolor": "#E5ECF6",
            "gridcolor": "white",
            "gridwidth": 2,
            "linecolor": "white",
            "showbackground": true,
            "ticks": "",
            "zerolinecolor": "white"
           },
           "zaxis": {
            "backgroundcolor": "#E5ECF6",
            "gridcolor": "white",
            "gridwidth": 2,
            "linecolor": "white",
            "showbackground": true,
            "ticks": "",
            "zerolinecolor": "white"
           }
          },
          "shapedefaults": {
           "line": {
            "color": "#2a3f5f"
           }
          },
          "ternary": {
           "aaxis": {
            "gridcolor": "white",
            "linecolor": "white",
            "ticks": ""
           },
           "baxis": {
            "gridcolor": "white",
            "linecolor": "white",
            "ticks": ""
           },
           "bgcolor": "#E5ECF6",
           "caxis": {
            "gridcolor": "white",
            "linecolor": "white",
            "ticks": ""
           }
          },
          "title": {
           "x": 0.05
          },
          "xaxis": {
           "automargin": true,
           "gridcolor": "white",
           "linecolor": "white",
           "ticks": "",
           "title": {
            "standoff": 15
           },
           "zerolinecolor": "white",
           "zerolinewidth": 2
          },
          "yaxis": {
           "automargin": true,
           "gridcolor": "white",
           "linecolor": "white",
           "ticks": "",
           "title": {
            "standoff": 15
           },
           "zerolinecolor": "white",
           "zerolinewidth": 2
          }
         }
        },
        "title": {
         "text": "Total costs per car model across all damage types Analysis",
         "x": 0.5
        },
        "xaxis": {
         "anchor": "y",
         "domain": [
          0,
          1
         ],
         "title": {
          "text": "car"
         }
        },
        "yaxis": {
         "anchor": "x",
         "domain": [
          0,
          1
         ],
         "title": {
          "text": "Total Costs"
         }
        }
       }
      },
      "text/html": [
       "<div>                            <div id=\"d9082213-85a6-4efb-80de-1345c1e66ea5\" class=\"plotly-graph-div\" style=\"height:525px; width:100%;\"></div>            <script type=\"text/javascript\">                require([\"plotly\"], function(Plotly) {                    window.PLOTLYENV=window.PLOTLYENV || {};                                    if (document.getElementById(\"d9082213-85a6-4efb-80de-1345c1e66ea5\")) {                    Plotly.newPlot(                        \"d9082213-85a6-4efb-80de-1345c1e66ea5\",                        [{\"alignmentgroup\":\"True\",\"hovertemplate\":\"color=اصلاح ميكانيك\\u003cbr\\u003ex=%{x}\\u003cbr\\u003eTotal Costs=%{y}\\u003cextra\\u003e\\u003c\\u002fextra\\u003e\",\"legendgroup\":\"اصلاح ميكانيك\",\"marker\":{\"color\":\"#636efa\",\"pattern\":{\"shape\":\"\"}},\"name\":\"اصلاح ميكانيك\",\"offsetgroup\":\"اصلاح ميكانيك\",\"orientation\":\"v\",\"showlegend\":true,\"textposition\":\"auto\",\"x\":[\"FORTUNER\",\"H 1\",\"ELANTRA\",\"CERATO\",\"COROLLA\",\"HILUX\",\"SPORTAGE\",\"SPARK\",\"AVANZA\",\"CAMRY\",\"CRUZE\",\"FLUENCE\",\"YARIS\",\"RIO\",\"I 10\",\"SONIC\",\"TUCSAN\",\"RAV 4\",\"PRADO\",\"OPTIMA\",\"PRIUS\"],\"xaxis\":\"x\",\"y\":[12702,4048,2825,2566,2553,2507,2368,1928,1667,1445,1255,1201,1199,1077,960,749,630,434,374,296,20],\"yaxis\":\"y\",\"type\":\"bar\"},{\"alignmentgroup\":\"True\",\"hovertemplate\":\"color=اصلاح بودي\\u003cbr\\u003ex=%{x}\\u003cbr\\u003eTotal Costs=%{y}\\u003cextra\\u003e\\u003c\\u002fextra\\u003e\",\"legendgroup\":\"اصلاح بودي\",\"marker\":{\"color\":\"#EF553B\",\"pattern\":{\"shape\":\"\"}},\"name\":\"اصلاح بودي\",\"offsetgroup\":\"اصلاح بودي\",\"orientation\":\"v\",\"showlegend\":true,\"textposition\":\"auto\",\"x\":[\"FORTUNER\",\"CERATO\",\"CAMRY\",\"COROLLA\",\"H 1\",\"ELANTRA\",\"AVANZA\",\"HILUX\",\"YARIS\",\"FLUENCE\",\"CRUZE\",\"SPARK\",\"RIO\",\"SONIC\",\"PRADO\",\"OPTIMA\",\"I 10\",\"TUCSAN\",\"RAV 4\",\"CITROEN\"],\"xaxis\":\"x\",\"y\":[9133,8267,8062,7083,5345,5311,4429,3381,2492,1981,1942,1934,1769,767,642,501,496,300,281,281],\"yaxis\":\"y\",\"type\":\"bar\"},{\"alignmentgroup\":\"True\",\"hovertemplate\":\"color=اصلاح كوشوك\\u003cbr\\u003ex=%{x}\\u003cbr\\u003eTotal Costs=%{y}\\u003cextra\\u003e\\u003c\\u002fextra\\u003e\",\"legendgroup\":\"اصلاح كوشوك\",\"marker\":{\"color\":\"#00cc96\",\"pattern\":{\"shape\":\"\"}},\"name\":\"اصلاح كوشوك\",\"offsetgroup\":\"اصلاح كوشوك\",\"orientation\":\"v\",\"showlegend\":true,\"textposition\":\"auto\",\"x\":[\"FORTUNER\",\"H 1\",\"CERATO\",\"HILUX\",\"CAMRY\",\"SPORTAGE\",\"COROLLA\",\"ELANTRA\",\"FLUENCE\",\"OPTIMA\",\"YARIS\",\"SPARK\",\"SONIC\",\"PRIUS\",\"I 10\",\"RAV 4\",\"TUCSAN\",\"CRUZE\",\"PRADO\",\"RIO\"],\"xaxis\":\"x\",\"y\":[7023,4058,2976,2797,2530,1665,1195,997,915,789,694,660,575,490,408,395,360,302,165,161],\"yaxis\":\"y\",\"type\":\"bar\"},{\"alignmentgroup\":\"True\",\"hovertemplate\":\"color=غيار زيت\\u003cbr\\u003ex=%{x}\\u003cbr\\u003eTotal Costs=%{y}\\u003cextra\\u003e\\u003c\\u002fextra\\u003e\",\"legendgroup\":\"غيار زيت\",\"marker\":{\"color\":\"#ab63fa\",\"pattern\":{\"shape\":\"\"}},\"name\":\"غيار زيت\",\"offsetgroup\":\"غيار زيت\",\"orientation\":\"v\",\"showlegend\":true,\"textposition\":\"auto\",\"x\":[\"FORTUNER\",\"COROLLA\",\"HILUX\",\"CERATO\",\"YARIS\",\"H 1\",\"RIO\",\"AVANZA\",\"SPARK\",\"SPORTAGE\",\"FLUENCE\",\"CAMRY\",\"ELANTRA\",\"PRADO\",\"I 10\",\"CRUZE\",\"OPTIMA\",\"PRIUS\",\"SONIC\",\"RAV 4\",\"GUNSAYIL\",\"TUCSAN\",\"ACCENT\"],\"xaxis\":\"x\",\"y\":[3401,2603,2481,2106,1194,1117,1024,770,729,719,713,702,685,330,324,275,264,246,219,144,102,84,63],\"yaxis\":\"y\",\"type\":\"bar\"},{\"alignmentgroup\":\"True\",\"hovertemplate\":\"color=اصلاح كهرباء\\u003cbr\\u003ex=%{x}\\u003cbr\\u003eTotal Costs=%{y}\\u003cextra\\u003e\\u003c\\u002fextra\\u003e\",\"legendgroup\":\"اصلاح كهرباء\",\"marker\":{\"color\":\"#FFA15A\",\"pattern\":{\"shape\":\"\"}},\"name\":\"اصلاح كهرباء\",\"offsetgroup\":\"اصلاح كهرباء\",\"orientation\":\"v\",\"showlegend\":true,\"textposition\":\"auto\",\"x\":[\"CERATO\",\"FORTUNER\",\"SPARK\",\"COROLLA\",\"CAMRY\",\"RIO\",\"H 1\",\"HILUX\",\"PRADO\",\"ELANTRA\",\"SPORTAGE\",\"SONIC\",\"FLUENCE\",\"AVANZA\",\"CRUZE\",\"YARIS\"],\"xaxis\":\"x\",\"y\":[511,436,279,251,185,158,128,127,108,108,98,58,58,55,55,50],\"yaxis\":\"y\",\"type\":\"bar\"},{\"alignmentgroup\":\"True\",\"hovertemplate\":\"color=اصلاح زجاج\\u003cbr\\u003ex=%{x}\\u003cbr\\u003eTotal Costs=%{y}\\u003cextra\\u003e\\u003c\\u002fextra\\u003e\",\"legendgroup\":\"اصلاح زجاج\",\"marker\":{\"color\":\"#19d3f3\",\"pattern\":{\"shape\":\"\"}},\"name\":\"اصلاح زجاج\",\"offsetgroup\":\"اصلاح زجاج\",\"orientation\":\"v\",\"showlegend\":true,\"textposition\":\"auto\",\"x\":[\"CERATO\",\"COROLLA\",\"SPORTAGE\",\"TUCSAN\",\"H 1\",\"PRADO\",\"HILUX\",\"CAMRY\",\"FORTUNER\",\"RIO\",\"FLUENCE\",\"AVANZA\"],\"xaxis\":\"x\",\"y\":[485,340,185,105,100,90,90,76,45,25,25,25],\"yaxis\":\"y\",\"type\":\"bar\"},{\"alignmentgroup\":\"True\",\"hovertemplate\":\"color=اصلاح فرش\\u003cbr\\u003ex=%{x}\\u003cbr\\u003eTotal Costs=%{y}\\u003cextra\\u003e\\u003c\\u002fextra\\u003e\",\"legendgroup\":\"اصلاح فرش\",\"marker\":{\"color\":\"#FF6692\",\"pattern\":{\"shape\":\"\"}},\"name\":\"اصلاح فرش\",\"offsetgroup\":\"اصلاح فرش\",\"orientation\":\"v\",\"showlegend\":true,\"textposition\":\"auto\",\"x\":[\"FORTUNER\",\"H 1\",\"SPORTAGE\",\"CERATO\",\"PRUIS\",\"CRUZE\",\"ELANTRA\",\"YARIS\",\"COROLLA\"],\"xaxis\":\"x\",\"y\":[256,183,173,105,60,48,35,25,20],\"yaxis\":\"y\",\"type\":\"bar\"}],                        {\"template\":{\"data\":{\"histogram2dcontour\":[{\"type\":\"histogram2dcontour\",\"colorbar\":{\"outlinewidth\":0,\"ticks\":\"\"},\"colorscale\":[[0.0,\"#0d0887\"],[0.1111111111111111,\"#46039f\"],[0.2222222222222222,\"#7201a8\"],[0.3333333333333333,\"#9c179e\"],[0.4444444444444444,\"#bd3786\"],[0.5555555555555556,\"#d8576b\"],[0.6666666666666666,\"#ed7953\"],[0.7777777777777778,\"#fb9f3a\"],[0.8888888888888888,\"#fdca26\"],[1.0,\"#f0f921\"]]}],\"choropleth\":[{\"type\":\"choropleth\",\"colorbar\":{\"outlinewidth\":0,\"ticks\":\"\"}}],\"histogram2d\":[{\"type\":\"histogram2d\",\"colorbar\":{\"outlinewidth\":0,\"ticks\":\"\"},\"colorscale\":[[0.0,\"#0d0887\"],[0.1111111111111111,\"#46039f\"],[0.2222222222222222,\"#7201a8\"],[0.3333333333333333,\"#9c179e\"],[0.4444444444444444,\"#bd3786\"],[0.5555555555555556,\"#d8576b\"],[0.6666666666666666,\"#ed7953\"],[0.7777777777777778,\"#fb9f3a\"],[0.8888888888888888,\"#fdca26\"],[1.0,\"#f0f921\"]]}],\"heatmap\":[{\"type\":\"heatmap\",\"colorbar\":{\"outlinewidth\":0,\"ticks\":\"\"},\"colorscale\":[[0.0,\"#0d0887\"],[0.1111111111111111,\"#46039f\"],[0.2222222222222222,\"#7201a8\"],[0.3333333333333333,\"#9c179e\"],[0.4444444444444444,\"#bd3786\"],[0.5555555555555556,\"#d8576b\"],[0.6666666666666666,\"#ed7953\"],[0.7777777777777778,\"#fb9f3a\"],[0.8888888888888888,\"#fdca26\"],[1.0,\"#f0f921\"]]}],\"heatmapgl\":[{\"type\":\"heatmapgl\",\"colorbar\":{\"outlinewidth\":0,\"ticks\":\"\"},\"colorscale\":[[0.0,\"#0d0887\"],[0.1111111111111111,\"#46039f\"],[0.2222222222222222,\"#7201a8\"],[0.3333333333333333,\"#9c179e\"],[0.4444444444444444,\"#bd3786\"],[0.5555555555555556,\"#d8576b\"],[0.6666666666666666,\"#ed7953\"],[0.7777777777777778,\"#fb9f3a\"],[0.8888888888888888,\"#fdca26\"],[1.0,\"#f0f921\"]]}],\"contourcarpet\":[{\"type\":\"contourcarpet\",\"colorbar\":{\"outlinewidth\":0,\"ticks\":\"\"}}],\"contour\":[{\"type\":\"contour\",\"colorbar\":{\"outlinewidth\":0,\"ticks\":\"\"},\"colorscale\":[[0.0,\"#0d0887\"],[0.1111111111111111,\"#46039f\"],[0.2222222222222222,\"#7201a8\"],[0.3333333333333333,\"#9c179e\"],[0.4444444444444444,\"#bd3786\"],[0.5555555555555556,\"#d8576b\"],[0.6666666666666666,\"#ed7953\"],[0.7777777777777778,\"#fb9f3a\"],[0.8888888888888888,\"#fdca26\"],[1.0,\"#f0f921\"]]}],\"surface\":[{\"type\":\"surface\",\"colorbar\":{\"outlinewidth\":0,\"ticks\":\"\"},\"colorscale\":[[0.0,\"#0d0887\"],[0.1111111111111111,\"#46039f\"],[0.2222222222222222,\"#7201a8\"],[0.3333333333333333,\"#9c179e\"],[0.4444444444444444,\"#bd3786\"],[0.5555555555555556,\"#d8576b\"],[0.6666666666666666,\"#ed7953\"],[0.7777777777777778,\"#fb9f3a\"],[0.8888888888888888,\"#fdca26\"],[1.0,\"#f0f921\"]]}],\"mesh3d\":[{\"type\":\"mesh3d\",\"colorbar\":{\"outlinewidth\":0,\"ticks\":\"\"}}],\"scatter\":[{\"fillpattern\":{\"fillmode\":\"overlay\",\"size\":10,\"solidity\":0.2},\"type\":\"scatter\"}],\"parcoords\":[{\"type\":\"parcoords\",\"line\":{\"colorbar\":{\"outlinewidth\":0,\"ticks\":\"\"}}}],\"scatterpolargl\":[{\"type\":\"scatterpolargl\",\"marker\":{\"colorbar\":{\"outlinewidth\":0,\"ticks\":\"\"}}}],\"bar\":[{\"error_x\":{\"color\":\"#2a3f5f\"},\"error_y\":{\"color\":\"#2a3f5f\"},\"marker\":{\"line\":{\"color\":\"#E5ECF6\",\"width\":0.5},\"pattern\":{\"fillmode\":\"overlay\",\"size\":10,\"solidity\":0.2}},\"type\":\"bar\"}],\"scattergeo\":[{\"type\":\"scattergeo\",\"marker\":{\"colorbar\":{\"outlinewidth\":0,\"ticks\":\"\"}}}],\"scatterpolar\":[{\"type\":\"scatterpolar\",\"marker\":{\"colorbar\":{\"outlinewidth\":0,\"ticks\":\"\"}}}],\"histogram\":[{\"marker\":{\"pattern\":{\"fillmode\":\"overlay\",\"size\":10,\"solidity\":0.2}},\"type\":\"histogram\"}],\"scattergl\":[{\"type\":\"scattergl\",\"marker\":{\"colorbar\":{\"outlinewidth\":0,\"ticks\":\"\"}}}],\"scatter3d\":[{\"type\":\"scatter3d\",\"line\":{\"colorbar\":{\"outlinewidth\":0,\"ticks\":\"\"}},\"marker\":{\"colorbar\":{\"outlinewidth\":0,\"ticks\":\"\"}}}],\"scattermapbox\":[{\"type\":\"scattermapbox\",\"marker\":{\"colorbar\":{\"outlinewidth\":0,\"ticks\":\"\"}}}],\"scatterternary\":[{\"type\":\"scatterternary\",\"marker\":{\"colorbar\":{\"outlinewidth\":0,\"ticks\":\"\"}}}],\"scattercarpet\":[{\"type\":\"scattercarpet\",\"marker\":{\"colorbar\":{\"outlinewidth\":0,\"ticks\":\"\"}}}],\"carpet\":[{\"aaxis\":{\"endlinecolor\":\"#2a3f5f\",\"gridcolor\":\"white\",\"linecolor\":\"white\",\"minorgridcolor\":\"white\",\"startlinecolor\":\"#2a3f5f\"},\"baxis\":{\"endlinecolor\":\"#2a3f5f\",\"gridcolor\":\"white\",\"linecolor\":\"white\",\"minorgridcolor\":\"white\",\"startlinecolor\":\"#2a3f5f\"},\"type\":\"carpet\"}],\"table\":[{\"cells\":{\"fill\":{\"color\":\"#EBF0F8\"},\"line\":{\"color\":\"white\"}},\"header\":{\"fill\":{\"color\":\"#C8D4E3\"},\"line\":{\"color\":\"white\"}},\"type\":\"table\"}],\"barpolar\":[{\"marker\":{\"line\":{\"color\":\"#E5ECF6\",\"width\":0.5},\"pattern\":{\"fillmode\":\"overlay\",\"size\":10,\"solidity\":0.2}},\"type\":\"barpolar\"}],\"pie\":[{\"automargin\":true,\"type\":\"pie\"}]},\"layout\":{\"autotypenumbers\":\"strict\",\"colorway\":[\"#636efa\",\"#EF553B\",\"#00cc96\",\"#ab63fa\",\"#FFA15A\",\"#19d3f3\",\"#FF6692\",\"#B6E880\",\"#FF97FF\",\"#FECB52\"],\"font\":{\"color\":\"#2a3f5f\"},\"hovermode\":\"closest\",\"hoverlabel\":{\"align\":\"left\"},\"paper_bgcolor\":\"white\",\"plot_bgcolor\":\"#E5ECF6\",\"polar\":{\"bgcolor\":\"#E5ECF6\",\"angularaxis\":{\"gridcolor\":\"white\",\"linecolor\":\"white\",\"ticks\":\"\"},\"radialaxis\":{\"gridcolor\":\"white\",\"linecolor\":\"white\",\"ticks\":\"\"}},\"ternary\":{\"bgcolor\":\"#E5ECF6\",\"aaxis\":{\"gridcolor\":\"white\",\"linecolor\":\"white\",\"ticks\":\"\"},\"baxis\":{\"gridcolor\":\"white\",\"linecolor\":\"white\",\"ticks\":\"\"},\"caxis\":{\"gridcolor\":\"white\",\"linecolor\":\"white\",\"ticks\":\"\"}},\"coloraxis\":{\"colorbar\":{\"outlinewidth\":0,\"ticks\":\"\"}},\"colorscale\":{\"sequential\":[[0.0,\"#0d0887\"],[0.1111111111111111,\"#46039f\"],[0.2222222222222222,\"#7201a8\"],[0.3333333333333333,\"#9c179e\"],[0.4444444444444444,\"#bd3786\"],[0.5555555555555556,\"#d8576b\"],[0.6666666666666666,\"#ed7953\"],[0.7777777777777778,\"#fb9f3a\"],[0.8888888888888888,\"#fdca26\"],[1.0,\"#f0f921\"]],\"sequentialminus\":[[0.0,\"#0d0887\"],[0.1111111111111111,\"#46039f\"],[0.2222222222222222,\"#7201a8\"],[0.3333333333333333,\"#9c179e\"],[0.4444444444444444,\"#bd3786\"],[0.5555555555555556,\"#d8576b\"],[0.6666666666666666,\"#ed7953\"],[0.7777777777777778,\"#fb9f3a\"],[0.8888888888888888,\"#fdca26\"],[1.0,\"#f0f921\"]],\"diverging\":[[0,\"#8e0152\"],[0.1,\"#c51b7d\"],[0.2,\"#de77ae\"],[0.3,\"#f1b6da\"],[0.4,\"#fde0ef\"],[0.5,\"#f7f7f7\"],[0.6,\"#e6f5d0\"],[0.7,\"#b8e186\"],[0.8,\"#7fbc41\"],[0.9,\"#4d9221\"],[1,\"#276419\"]]},\"xaxis\":{\"gridcolor\":\"white\",\"linecolor\":\"white\",\"ticks\":\"\",\"title\":{\"standoff\":15},\"zerolinecolor\":\"white\",\"automargin\":true,\"zerolinewidth\":2},\"yaxis\":{\"gridcolor\":\"white\",\"linecolor\":\"white\",\"ticks\":\"\",\"title\":{\"standoff\":15},\"zerolinecolor\":\"white\",\"automargin\":true,\"zerolinewidth\":2},\"scene\":{\"xaxis\":{\"backgroundcolor\":\"#E5ECF6\",\"gridcolor\":\"white\",\"linecolor\":\"white\",\"showbackground\":true,\"ticks\":\"\",\"zerolinecolor\":\"white\",\"gridwidth\":2},\"yaxis\":{\"backgroundcolor\":\"#E5ECF6\",\"gridcolor\":\"white\",\"linecolor\":\"white\",\"showbackground\":true,\"ticks\":\"\",\"zerolinecolor\":\"white\",\"gridwidth\":2},\"zaxis\":{\"backgroundcolor\":\"#E5ECF6\",\"gridcolor\":\"white\",\"linecolor\":\"white\",\"showbackground\":true,\"ticks\":\"\",\"zerolinecolor\":\"white\",\"gridwidth\":2}},\"shapedefaults\":{\"line\":{\"color\":\"#2a3f5f\"}},\"annotationdefaults\":{\"arrowcolor\":\"#2a3f5f\",\"arrowhead\":0,\"arrowwidth\":1},\"geo\":{\"bgcolor\":\"white\",\"landcolor\":\"#E5ECF6\",\"subunitcolor\":\"white\",\"showland\":true,\"showlakes\":true,\"lakecolor\":\"white\"},\"title\":{\"x\":0.05},\"mapbox\":{\"style\":\"light\"}}},\"xaxis\":{\"anchor\":\"y\",\"domain\":[0.0,1.0],\"title\":{\"text\":\"car\"}},\"yaxis\":{\"anchor\":\"x\",\"domain\":[0.0,1.0],\"title\":{\"text\":\"Total Costs\"}},\"legend\":{\"title\":{\"text\":\"color\"},\"tracegroupgap\":0},\"title\":{\"text\":\"Total costs per car model across all damage types Analysis\",\"x\":0.5},\"barmode\":\"relative\"},                        {\"responsive\": true}                    ).then(function(){\n",
       "                            \n",
       "var gd = document.getElementById('d9082213-85a6-4efb-80de-1345c1e66ea5');\n",
       "var x = new MutationObserver(function (mutations, observer) {{\n",
       "        var display = window.getComputedStyle(gd).display;\n",
       "        if (!display || display === 'none') {{\n",
       "            console.log([gd, 'removed!']);\n",
       "            Plotly.purge(gd);\n",
       "            observer.disconnect();\n",
       "        }}\n",
       "}});\n",
       "\n",
       "// Listen for the removal of the full notebook cells\n",
       "var notebookContainer = gd.closest('#notebook-container');\n",
       "if (notebookContainer) {{\n",
       "    x.observe(notebookContainer, {childList: true});\n",
       "}}\n",
       "\n",
       "// Listen for the clearing of the current output cell\n",
       "var outputEl = gd.closest('.output');\n",
       "if (outputEl) {{\n",
       "    x.observe(outputEl, {childList: true});\n",
       "}}\n",
       "\n",
       "                        })                };                });            </script>        </div>"
      ]
     },
     "metadata": {},
     "output_type": "display_data"
    },
    {
     "data": {
      "application/vnd.plotly.v1+json": {
       "config": {
        "plotlyServerURL": "https://plot.ly"
       },
       "data": [
        {
         "branchvalues": "total",
         "domain": {
          "x": [
           0,
           1
          ],
          "y": [
           0,
           1
          ]
         },
         "hovertemplate": "labels=%{label}<br>Total Cost=%{value}<br>parent=%{parent}<br>id=%{id}<extra></extra>",
         "ids": [
          "CERATO/اصلاح بودي",
          "Citroen/اصلاح بودي",
          "ELANTRA/اصلاح بودي",
          "FLUENCE/اصلاح بودي",
          "FORTUNER/اصلاح بودي",
          "H 1/اصلاح بودي",
          "Hilux/اصلاح بودي",
          "I 10/اصلاح بودي",
          "I10/اصلاح بودي",
          "OPTIMA/اصلاح بودي",
          "Rav 4 /اصلاح بودي",
          "SPARK/اصلاح بودي",
          "TUCSAN/اصلاح بودي",
          "avanza/اصلاح بودي",
          "camry/اصلاح بودي",
          "cerato/اصلاح بودي",
          "corolla/اصلاح بودي",
          "cruze/اصلاح بودي",
          "prado/اصلاح بودي",
          "rio/اصلاح بودي",
          "sonic/اصلاح بودي",
          "spark/اصلاح بودي",
          "yaris/اصلاح بودي",
          "CERATO/اصلاح زجاج",
          "FLUENCE/اصلاح زجاج",
          "FORTUNER/اصلاح زجاج",
          "H 1/اصلاح زجاج",
          "Hilux/اصلاح زجاج",
          "SPORTAGE/اصلاح زجاج",
          "TUCSAN/اصلاح زجاج",
          "avanza/اصلاح زجاج",
          "camry/اصلاح زجاج",
          "cerato/اصلاح زجاج",
          "corolla/اصلاح زجاج",
          "prado/اصلاح زجاج",
          "rio/اصلاح زجاج",
          "CERATO/اصلاح فرش",
          "ELANTRA/اصلاح فرش",
          "FORTUNER/اصلاح فرش",
          "H 1/اصلاح فرش",
          "SPORTAGE/اصلاح فرش",
          "cerato/اصلاح فرش",
          "corolla/اصلاح فرش",
          "cruze/اصلاح فرش",
          "pruis/اصلاح فرش",
          "yaris/اصلاح فرش",
          "            Spark      /اصلاح كهرباء",
          "CERATO/اصلاح كهرباء",
          "ELANTRA/اصلاح كهرباء",
          "FLUENCE/اصلاح كهرباء",
          "FORTUNER/اصلاح كهرباء",
          "H 1/اصلاح كهرباء",
          "Hilux/اصلاح كهرباء",
          "SPORTAGE/اصلاح كهرباء",
          "avanza/اصلاح كهرباء",
          "camry/اصلاح كهرباء",
          "cerato/اصلاح كهرباء",
          "corolla/اصلاح كهرباء",
          "cruze/اصلاح كهرباء",
          "prado/اصلاح كهرباء",
          "rio/اصلاح كهرباء",
          "sonic/اصلاح كهرباء",
          "spark/اصلاح كهرباء",
          "yaris/اصلاح كهرباء",
          "CERATO/اصلاح كوشوك",
          "ELANTRA/اصلاح كوشوك",
          "FLUENCE/اصلاح كوشوك",
          "FORTUNER/اصلاح كوشوك",
          "H 1/اصلاح كوشوك",
          "Hilux/اصلاح كوشوك",
          "I 10/اصلاح كوشوك",
          "OPTIMA/اصلاح كوشوك",
          "Prius/اصلاح كوشوك",
          "Rav 4 /اصلاح كوشوك",
          "Rio/اصلاح كوشوك",
          "SPORTAGE/اصلاح كوشوك",
          "TUCSAN/اصلاح كوشوك",
          "camry/اصلاح كوشوك",
          "cerato/اصلاح كوشوك",
          "corolla/اصلاح كوشوك",
          "cruze/اصلاح كوشوك",
          "prado/اصلاح كوشوك",
          "rio/اصلاح كوشوك",
          "sonic/اصلاح كوشوك",
          "spark/اصلاح كوشوك",
          "yaris/اصلاح كوشوك",
          "CERATO/اصلاح ميكانيك",
          "ELANTRA/اصلاح ميكانيك",
          "FLUENCE/اصلاح ميكانيك",
          "FORTUNER/اصلاح ميكانيك",
          "H 1/اصلاح ميكانيك",
          "Hilux/اصلاح ميكانيك",
          "I 10/اصلاح ميكانيك",
          "OPTIMA/اصلاح ميكانيك",
          "Prius/اصلاح ميكانيك",
          "Rav 4/اصلاح ميكانيك",
          "Rav 4 /اصلاح ميكانيك",
          "SPORTAGE/اصلاح ميكانيك",
          "TUCSAN/اصلاح ميكانيك",
          "avanza/اصلاح ميكانيك",
          "camry/اصلاح ميكانيك",
          "cerato/اصلاح ميكانيك",
          "corolla/اصلاح ميكانيك",
          "cruze/اصلاح ميكانيك",
          "fortuner/اصلاح ميكانيك",
          "prado/اصلاح ميكانيك",
          "rio/اصلاح ميكانيك",
          "sonic/اصلاح ميكانيك",
          "spark/اصلاح ميكانيك",
          "yaris/اصلاح ميكانيك",
          " Gunsayil /غيار زيت",
          "CERATO/غيار زيت",
          "ELANTRA/غيار زيت",
          "FLUENCE/غيار زيت",
          "FORTUNER/غيار زيت",
          "H 1/غيار زيت",
          "Hilux/غيار زيت",
          "I 10/غيار زيت",
          "I10/غيار زيت",
          "OPTIMA/غيار زيت",
          "Prius/غيار زيت",
          "Rav 4/غيار زيت",
          "Rav 4 /غيار زيت",
          "SPORTAGE/غيار زيت",
          "TUCSAN/غيار زيت",
          "accent/غيار زيت",
          "avanza/غيار زيت",
          "camry/غيار زيت",
          "cerato/غيار زيت",
          "corolla/غيار زيت",
          "corolla /غيار زيت",
          "cruze/غيار زيت",
          "fortuner/غيار زيت",
          "optima/غيار زيت",
          "prado/غيار زيت",
          "rio/غيار زيت",
          "sonic/غيار زيت",
          "spark/غيار زيت",
          "tucsan/غيار زيت",
          "yaris/غيار زيت",
          "            Spark      ",
          " Gunsayil ",
          "CERATO",
          "Citroen",
          "ELANTRA",
          "FLUENCE",
          "FORTUNER",
          "H 1",
          "Hilux",
          "I 10",
          "I10",
          "OPTIMA",
          "Prius",
          "Rav 4",
          "Rav 4 ",
          "Rio",
          "SPARK",
          "SPORTAGE",
          "TUCSAN",
          "accent",
          "avanza",
          "camry",
          "cerato",
          "corolla",
          "corolla ",
          "cruze",
          "fortuner",
          "optima",
          "prado",
          "pruis",
          "rio",
          "sonic",
          "spark",
          "tucsan",
          "yaris"
         ],
         "labels": [
          "اصلاح بودي",
          "اصلاح بودي",
          "اصلاح بودي",
          "اصلاح بودي",
          "اصلاح بودي",
          "اصلاح بودي",
          "اصلاح بودي",
          "اصلاح بودي",
          "اصلاح بودي",
          "اصلاح بودي",
          "اصلاح بودي",
          "اصلاح بودي",
          "اصلاح بودي",
          "اصلاح بودي",
          "اصلاح بودي",
          "اصلاح بودي",
          "اصلاح بودي",
          "اصلاح بودي",
          "اصلاح بودي",
          "اصلاح بودي",
          "اصلاح بودي",
          "اصلاح بودي",
          "اصلاح بودي",
          "اصلاح زجاج",
          "اصلاح زجاج",
          "اصلاح زجاج",
          "اصلاح زجاج",
          "اصلاح زجاج",
          "اصلاح زجاج",
          "اصلاح زجاج",
          "اصلاح زجاج",
          "اصلاح زجاج",
          "اصلاح زجاج",
          "اصلاح زجاج",
          "اصلاح زجاج",
          "اصلاح زجاج",
          "اصلاح فرش",
          "اصلاح فرش",
          "اصلاح فرش",
          "اصلاح فرش",
          "اصلاح فرش",
          "اصلاح فرش",
          "اصلاح فرش",
          "اصلاح فرش",
          "اصلاح فرش",
          "اصلاح فرش",
          "اصلاح كهرباء",
          "اصلاح كهرباء",
          "اصلاح كهرباء",
          "اصلاح كهرباء",
          "اصلاح كهرباء",
          "اصلاح كهرباء",
          "اصلاح كهرباء",
          "اصلاح كهرباء",
          "اصلاح كهرباء",
          "اصلاح كهرباء",
          "اصلاح كهرباء",
          "اصلاح كهرباء",
          "اصلاح كهرباء",
          "اصلاح كهرباء",
          "اصلاح كهرباء",
          "اصلاح كهرباء",
          "اصلاح كهرباء",
          "اصلاح كهرباء",
          "اصلاح كوشوك",
          "اصلاح كوشوك",
          "اصلاح كوشوك",
          "اصلاح كوشوك",
          "اصلاح كوشوك",
          "اصلاح كوشوك",
          "اصلاح كوشوك",
          "اصلاح كوشوك",
          "اصلاح كوشوك",
          "اصلاح كوشوك",
          "اصلاح كوشوك",
          "اصلاح كوشوك",
          "اصلاح كوشوك",
          "اصلاح كوشوك",
          "اصلاح كوشوك",
          "اصلاح كوشوك",
          "اصلاح كوشوك",
          "اصلاح كوشوك",
          "اصلاح كوشوك",
          "اصلاح كوشوك",
          "اصلاح كوشوك",
          "اصلاح كوشوك",
          "اصلاح ميكانيك",
          "اصلاح ميكانيك",
          "اصلاح ميكانيك",
          "اصلاح ميكانيك",
          "اصلاح ميكانيك",
          "اصلاح ميكانيك",
          "اصلاح ميكانيك",
          "اصلاح ميكانيك",
          "اصلاح ميكانيك",
          "اصلاح ميكانيك",
          "اصلاح ميكانيك",
          "اصلاح ميكانيك",
          "اصلاح ميكانيك",
          "اصلاح ميكانيك",
          "اصلاح ميكانيك",
          "اصلاح ميكانيك",
          "اصلاح ميكانيك",
          "اصلاح ميكانيك",
          "اصلاح ميكانيك",
          "اصلاح ميكانيك",
          "اصلاح ميكانيك",
          "اصلاح ميكانيك",
          "اصلاح ميكانيك",
          "اصلاح ميكانيك",
          "غيار زيت",
          "غيار زيت",
          "غيار زيت",
          "غيار زيت",
          "غيار زيت",
          "غيار زيت",
          "غيار زيت",
          "غيار زيت",
          "غيار زيت",
          "غيار زيت",
          "غيار زيت",
          "غيار زيت",
          "غيار زيت",
          "غيار زيت",
          "غيار زيت",
          "غيار زيت",
          "غيار زيت",
          "غيار زيت",
          "غيار زيت",
          "غيار زيت",
          "غيار زيت",
          "غيار زيت",
          "غيار زيت",
          "غيار زيت",
          "غيار زيت",
          "غيار زيت",
          "غيار زيت",
          "غيار زيت",
          "غيار زيت",
          "غيار زيت",
          "            Spark      ",
          " Gunsayil ",
          "CERATO",
          "Citroen",
          "ELANTRA",
          "FLUENCE",
          "FORTUNER",
          "H 1",
          "Hilux",
          "I 10",
          "I10",
          "OPTIMA",
          "Prius",
          "Rav 4",
          "Rav 4 ",
          "Rio",
          "SPARK",
          "SPORTAGE",
          "TUCSAN",
          "accent",
          "avanza",
          "camry",
          "cerato",
          "corolla",
          "corolla ",
          "cruze",
          "fortuner",
          "optima",
          "prado",
          "pruis",
          "rio",
          "sonic",
          "spark",
          "tucsan",
          "yaris"
         ],
         "name": "",
         "parents": [
          "CERATO",
          "Citroen",
          "ELANTRA",
          "FLUENCE",
          "FORTUNER",
          "H 1",
          "Hilux",
          "I 10",
          "I10",
          "OPTIMA",
          "Rav 4 ",
          "SPARK",
          "TUCSAN",
          "avanza",
          "camry",
          "cerato",
          "corolla",
          "cruze",
          "prado",
          "rio",
          "sonic",
          "spark",
          "yaris",
          "CERATO",
          "FLUENCE",
          "FORTUNER",
          "H 1",
          "Hilux",
          "SPORTAGE",
          "TUCSAN",
          "avanza",
          "camry",
          "cerato",
          "corolla",
          "prado",
          "rio",
          "CERATO",
          "ELANTRA",
          "FORTUNER",
          "H 1",
          "SPORTAGE",
          "cerato",
          "corolla",
          "cruze",
          "pruis",
          "yaris",
          "            Spark      ",
          "CERATO",
          "ELANTRA",
          "FLUENCE",
          "FORTUNER",
          "H 1",
          "Hilux",
          "SPORTAGE",
          "avanza",
          "camry",
          "cerato",
          "corolla",
          "cruze",
          "prado",
          "rio",
          "sonic",
          "spark",
          "yaris",
          "CERATO",
          "ELANTRA",
          "FLUENCE",
          "FORTUNER",
          "H 1",
          "Hilux",
          "I 10",
          "OPTIMA",
          "Prius",
          "Rav 4 ",
          "Rio",
          "SPORTAGE",
          "TUCSAN",
          "camry",
          "cerato",
          "corolla",
          "cruze",
          "prado",
          "rio",
          "sonic",
          "spark",
          "yaris",
          "CERATO",
          "ELANTRA",
          "FLUENCE",
          "FORTUNER",
          "H 1",
          "Hilux",
          "I 10",
          "OPTIMA",
          "Prius",
          "Rav 4",
          "Rav 4 ",
          "SPORTAGE",
          "TUCSAN",
          "avanza",
          "camry",
          "cerato",
          "corolla",
          "cruze",
          "fortuner",
          "prado",
          "rio",
          "sonic",
          "spark",
          "yaris",
          " Gunsayil ",
          "CERATO",
          "ELANTRA",
          "FLUENCE",
          "FORTUNER",
          "H 1",
          "Hilux",
          "I 10",
          "I10",
          "OPTIMA",
          "Prius",
          "Rav 4",
          "Rav 4 ",
          "SPORTAGE",
          "TUCSAN",
          "accent",
          "avanza",
          "camry",
          "cerato",
          "corolla",
          "corolla ",
          "cruze",
          "fortuner",
          "optima",
          "prado",
          "rio",
          "sonic",
          "spark",
          "tucsan",
          "yaris",
          "",
          "",
          "",
          "",
          "",
          "",
          "",
          "",
          "",
          "",
          "",
          "",
          "",
          "",
          "",
          "",
          "",
          "",
          "",
          "",
          "",
          "",
          "",
          "",
          "",
          "",
          "",
          "",
          "",
          "",
          "",
          "",
          "",
          "",
          ""
         ],
         "type": "sunburst",
         "values": [
          5390,
          281,
          5311,
          1981,
          9133,
          5345,
          3381,
          436,
          60,
          501,
          281,
          80,
          300,
          4429,
          8062,
          2877,
          7083,
          1942,
          642,
          1769,
          767,
          1854,
          2492,
          275,
          25,
          45,
          100,
          90,
          185,
          105,
          25,
          76,
          210,
          340,
          90,
          25,
          35,
          35,
          256,
          183,
          173,
          70,
          20,
          48,
          60,
          25,
          50,
          337,
          108,
          58,
          436,
          128,
          127,
          98,
          55,
          185,
          174,
          251,
          55,
          108,
          158,
          58,
          229,
          50,
          741,
          997,
          915,
          7023,
          4058,
          2797,
          408,
          789,
          490,
          395,
          60,
          1665,
          360,
          2530,
          2235,
          1195,
          302,
          165,
          101,
          575,
          660,
          694,
          1303,
          2825,
          1201,
          11942,
          4048,
          2507,
          960,
          296,
          20,
          92,
          342,
          2368,
          630,
          1667,
          1445,
          1263,
          2553,
          1255,
          760,
          374,
          1077,
          749,
          1928,
          1199,
          102,
          956,
          685,
          713,
          3338,
          1117,
          2481,
          303,
          21,
          243,
          246,
          123,
          21,
          719,
          63,
          63,
          770,
          702,
          1150,
          2540,
          63,
          275,
          63,
          21,
          330,
          1024,
          219,
          729,
          21,
          1194,
          50,
          102,
          9037,
          281,
          9961,
          4893,
          32173,
          14979,
          11383,
          2107,
          81,
          1829,
          756,
          215,
          1039,
          60,
          80,
          5208,
          1458,
          63,
          6946,
          13000,
          7979,
          13982,
          63,
          3877,
          823,
          21,
          1709,
          60,
          4154,
          2368,
          5400,
          21,
          5654
         ]
        }
       ],
       "layout": {
        "legend": {
         "tracegroupgap": 0
        },
        "template": {
         "data": {
          "bar": [
           {
            "error_x": {
             "color": "#2a3f5f"
            },
            "error_y": {
             "color": "#2a3f5f"
            },
            "marker": {
             "line": {
              "color": "#E5ECF6",
              "width": 0.5
             },
             "pattern": {
              "fillmode": "overlay",
              "size": 10,
              "solidity": 0.2
             }
            },
            "type": "bar"
           }
          ],
          "barpolar": [
           {
            "marker": {
             "line": {
              "color": "#E5ECF6",
              "width": 0.5
             },
             "pattern": {
              "fillmode": "overlay",
              "size": 10,
              "solidity": 0.2
             }
            },
            "type": "barpolar"
           }
          ],
          "carpet": [
           {
            "aaxis": {
             "endlinecolor": "#2a3f5f",
             "gridcolor": "white",
             "linecolor": "white",
             "minorgridcolor": "white",
             "startlinecolor": "#2a3f5f"
            },
            "baxis": {
             "endlinecolor": "#2a3f5f",
             "gridcolor": "white",
             "linecolor": "white",
             "minorgridcolor": "white",
             "startlinecolor": "#2a3f5f"
            },
            "type": "carpet"
           }
          ],
          "choropleth": [
           {
            "colorbar": {
             "outlinewidth": 0,
             "ticks": ""
            },
            "type": "choropleth"
           }
          ],
          "contour": [
           {
            "colorbar": {
             "outlinewidth": 0,
             "ticks": ""
            },
            "colorscale": [
             [
              0,
              "#0d0887"
             ],
             [
              0.1111111111111111,
              "#46039f"
             ],
             [
              0.2222222222222222,
              "#7201a8"
             ],
             [
              0.3333333333333333,
              "#9c179e"
             ],
             [
              0.4444444444444444,
              "#bd3786"
             ],
             [
              0.5555555555555556,
              "#d8576b"
             ],
             [
              0.6666666666666666,
              "#ed7953"
             ],
             [
              0.7777777777777778,
              "#fb9f3a"
             ],
             [
              0.8888888888888888,
              "#fdca26"
             ],
             [
              1,
              "#f0f921"
             ]
            ],
            "type": "contour"
           }
          ],
          "contourcarpet": [
           {
            "colorbar": {
             "outlinewidth": 0,
             "ticks": ""
            },
            "type": "contourcarpet"
           }
          ],
          "heatmap": [
           {
            "colorbar": {
             "outlinewidth": 0,
             "ticks": ""
            },
            "colorscale": [
             [
              0,
              "#0d0887"
             ],
             [
              0.1111111111111111,
              "#46039f"
             ],
             [
              0.2222222222222222,
              "#7201a8"
             ],
             [
              0.3333333333333333,
              "#9c179e"
             ],
             [
              0.4444444444444444,
              "#bd3786"
             ],
             [
              0.5555555555555556,
              "#d8576b"
             ],
             [
              0.6666666666666666,
              "#ed7953"
             ],
             [
              0.7777777777777778,
              "#fb9f3a"
             ],
             [
              0.8888888888888888,
              "#fdca26"
             ],
             [
              1,
              "#f0f921"
             ]
            ],
            "type": "heatmap"
           }
          ],
          "heatmapgl": [
           {
            "colorbar": {
             "outlinewidth": 0,
             "ticks": ""
            },
            "colorscale": [
             [
              0,
              "#0d0887"
             ],
             [
              0.1111111111111111,
              "#46039f"
             ],
             [
              0.2222222222222222,
              "#7201a8"
             ],
             [
              0.3333333333333333,
              "#9c179e"
             ],
             [
              0.4444444444444444,
              "#bd3786"
             ],
             [
              0.5555555555555556,
              "#d8576b"
             ],
             [
              0.6666666666666666,
              "#ed7953"
             ],
             [
              0.7777777777777778,
              "#fb9f3a"
             ],
             [
              0.8888888888888888,
              "#fdca26"
             ],
             [
              1,
              "#f0f921"
             ]
            ],
            "type": "heatmapgl"
           }
          ],
          "histogram": [
           {
            "marker": {
             "pattern": {
              "fillmode": "overlay",
              "size": 10,
              "solidity": 0.2
             }
            },
            "type": "histogram"
           }
          ],
          "histogram2d": [
           {
            "colorbar": {
             "outlinewidth": 0,
             "ticks": ""
            },
            "colorscale": [
             [
              0,
              "#0d0887"
             ],
             [
              0.1111111111111111,
              "#46039f"
             ],
             [
              0.2222222222222222,
              "#7201a8"
             ],
             [
              0.3333333333333333,
              "#9c179e"
             ],
             [
              0.4444444444444444,
              "#bd3786"
             ],
             [
              0.5555555555555556,
              "#d8576b"
             ],
             [
              0.6666666666666666,
              "#ed7953"
             ],
             [
              0.7777777777777778,
              "#fb9f3a"
             ],
             [
              0.8888888888888888,
              "#fdca26"
             ],
             [
              1,
              "#f0f921"
             ]
            ],
            "type": "histogram2d"
           }
          ],
          "histogram2dcontour": [
           {
            "colorbar": {
             "outlinewidth": 0,
             "ticks": ""
            },
            "colorscale": [
             [
              0,
              "#0d0887"
             ],
             [
              0.1111111111111111,
              "#46039f"
             ],
             [
              0.2222222222222222,
              "#7201a8"
             ],
             [
              0.3333333333333333,
              "#9c179e"
             ],
             [
              0.4444444444444444,
              "#bd3786"
             ],
             [
              0.5555555555555556,
              "#d8576b"
             ],
             [
              0.6666666666666666,
              "#ed7953"
             ],
             [
              0.7777777777777778,
              "#fb9f3a"
             ],
             [
              0.8888888888888888,
              "#fdca26"
             ],
             [
              1,
              "#f0f921"
             ]
            ],
            "type": "histogram2dcontour"
           }
          ],
          "mesh3d": [
           {
            "colorbar": {
             "outlinewidth": 0,
             "ticks": ""
            },
            "type": "mesh3d"
           }
          ],
          "parcoords": [
           {
            "line": {
             "colorbar": {
              "outlinewidth": 0,
              "ticks": ""
             }
            },
            "type": "parcoords"
           }
          ],
          "pie": [
           {
            "automargin": true,
            "type": "pie"
           }
          ],
          "scatter": [
           {
            "fillpattern": {
             "fillmode": "overlay",
             "size": 10,
             "solidity": 0.2
            },
            "type": "scatter"
           }
          ],
          "scatter3d": [
           {
            "line": {
             "colorbar": {
              "outlinewidth": 0,
              "ticks": ""
             }
            },
            "marker": {
             "colorbar": {
              "outlinewidth": 0,
              "ticks": ""
             }
            },
            "type": "scatter3d"
           }
          ],
          "scattercarpet": [
           {
            "marker": {
             "colorbar": {
              "outlinewidth": 0,
              "ticks": ""
             }
            },
            "type": "scattercarpet"
           }
          ],
          "scattergeo": [
           {
            "marker": {
             "colorbar": {
              "outlinewidth": 0,
              "ticks": ""
             }
            },
            "type": "scattergeo"
           }
          ],
          "scattergl": [
           {
            "marker": {
             "colorbar": {
              "outlinewidth": 0,
              "ticks": ""
             }
            },
            "type": "scattergl"
           }
          ],
          "scattermapbox": [
           {
            "marker": {
             "colorbar": {
              "outlinewidth": 0,
              "ticks": ""
             }
            },
            "type": "scattermapbox"
           }
          ],
          "scatterpolar": [
           {
            "marker": {
             "colorbar": {
              "outlinewidth": 0,
              "ticks": ""
             }
            },
            "type": "scatterpolar"
           }
          ],
          "scatterpolargl": [
           {
            "marker": {
             "colorbar": {
              "outlinewidth": 0,
              "ticks": ""
             }
            },
            "type": "scatterpolargl"
           }
          ],
          "scatterternary": [
           {
            "marker": {
             "colorbar": {
              "outlinewidth": 0,
              "ticks": ""
             }
            },
            "type": "scatterternary"
           }
          ],
          "surface": [
           {
            "colorbar": {
             "outlinewidth": 0,
             "ticks": ""
            },
            "colorscale": [
             [
              0,
              "#0d0887"
             ],
             [
              0.1111111111111111,
              "#46039f"
             ],
             [
              0.2222222222222222,
              "#7201a8"
             ],
             [
              0.3333333333333333,
              "#9c179e"
             ],
             [
              0.4444444444444444,
              "#bd3786"
             ],
             [
              0.5555555555555556,
              "#d8576b"
             ],
             [
              0.6666666666666666,
              "#ed7953"
             ],
             [
              0.7777777777777778,
              "#fb9f3a"
             ],
             [
              0.8888888888888888,
              "#fdca26"
             ],
             [
              1,
              "#f0f921"
             ]
            ],
            "type": "surface"
           }
          ],
          "table": [
           {
            "cells": {
             "fill": {
              "color": "#EBF0F8"
             },
             "line": {
              "color": "white"
             }
            },
            "header": {
             "fill": {
              "color": "#C8D4E3"
             },
             "line": {
              "color": "white"
             }
            },
            "type": "table"
           }
          ]
         },
         "layout": {
          "annotationdefaults": {
           "arrowcolor": "#2a3f5f",
           "arrowhead": 0,
           "arrowwidth": 1
          },
          "autotypenumbers": "strict",
          "coloraxis": {
           "colorbar": {
            "outlinewidth": 0,
            "ticks": ""
           }
          },
          "colorscale": {
           "diverging": [
            [
             0,
             "#8e0152"
            ],
            [
             0.1,
             "#c51b7d"
            ],
            [
             0.2,
             "#de77ae"
            ],
            [
             0.3,
             "#f1b6da"
            ],
            [
             0.4,
             "#fde0ef"
            ],
            [
             0.5,
             "#f7f7f7"
            ],
            [
             0.6,
             "#e6f5d0"
            ],
            [
             0.7,
             "#b8e186"
            ],
            [
             0.8,
             "#7fbc41"
            ],
            [
             0.9,
             "#4d9221"
            ],
            [
             1,
             "#276419"
            ]
           ],
           "sequential": [
            [
             0,
             "#0d0887"
            ],
            [
             0.1111111111111111,
             "#46039f"
            ],
            [
             0.2222222222222222,
             "#7201a8"
            ],
            [
             0.3333333333333333,
             "#9c179e"
            ],
            [
             0.4444444444444444,
             "#bd3786"
            ],
            [
             0.5555555555555556,
             "#d8576b"
            ],
            [
             0.6666666666666666,
             "#ed7953"
            ],
            [
             0.7777777777777778,
             "#fb9f3a"
            ],
            [
             0.8888888888888888,
             "#fdca26"
            ],
            [
             1,
             "#f0f921"
            ]
           ],
           "sequentialminus": [
            [
             0,
             "#0d0887"
            ],
            [
             0.1111111111111111,
             "#46039f"
            ],
            [
             0.2222222222222222,
             "#7201a8"
            ],
            [
             0.3333333333333333,
             "#9c179e"
            ],
            [
             0.4444444444444444,
             "#bd3786"
            ],
            [
             0.5555555555555556,
             "#d8576b"
            ],
            [
             0.6666666666666666,
             "#ed7953"
            ],
            [
             0.7777777777777778,
             "#fb9f3a"
            ],
            [
             0.8888888888888888,
             "#fdca26"
            ],
            [
             1,
             "#f0f921"
            ]
           ]
          },
          "colorway": [
           "#636efa",
           "#EF553B",
           "#00cc96",
           "#ab63fa",
           "#FFA15A",
           "#19d3f3",
           "#FF6692",
           "#B6E880",
           "#FF97FF",
           "#FECB52"
          ],
          "font": {
           "color": "#2a3f5f"
          },
          "geo": {
           "bgcolor": "white",
           "lakecolor": "white",
           "landcolor": "#E5ECF6",
           "showlakes": true,
           "showland": true,
           "subunitcolor": "white"
          },
          "hoverlabel": {
           "align": "left"
          },
          "hovermode": "closest",
          "mapbox": {
           "style": "light"
          },
          "paper_bgcolor": "white",
          "plot_bgcolor": "#E5ECF6",
          "polar": {
           "angularaxis": {
            "gridcolor": "white",
            "linecolor": "white",
            "ticks": ""
           },
           "bgcolor": "#E5ECF6",
           "radialaxis": {
            "gridcolor": "white",
            "linecolor": "white",
            "ticks": ""
           }
          },
          "scene": {
           "xaxis": {
            "backgroundcolor": "#E5ECF6",
            "gridcolor": "white",
            "gridwidth": 2,
            "linecolor": "white",
            "showbackground": true,
            "ticks": "",
            "zerolinecolor": "white"
           },
           "yaxis": {
            "backgroundcolor": "#E5ECF6",
            "gridcolor": "white",
            "gridwidth": 2,
            "linecolor": "white",
            "showbackground": true,
            "ticks": "",
            "zerolinecolor": "white"
           },
           "zaxis": {
            "backgroundcolor": "#E5ECF6",
            "gridcolor": "white",
            "gridwidth": 2,
            "linecolor": "white",
            "showbackground": true,
            "ticks": "",
            "zerolinecolor": "white"
           }
          },
          "shapedefaults": {
           "line": {
            "color": "#2a3f5f"
           }
          },
          "ternary": {
           "aaxis": {
            "gridcolor": "white",
            "linecolor": "white",
            "ticks": ""
           },
           "baxis": {
            "gridcolor": "white",
            "linecolor": "white",
            "ticks": ""
           },
           "bgcolor": "#E5ECF6",
           "caxis": {
            "gridcolor": "white",
            "linecolor": "white",
            "ticks": ""
           }
          },
          "title": {
           "x": 0.05
          },
          "xaxis": {
           "automargin": true,
           "gridcolor": "white",
           "linecolor": "white",
           "ticks": "",
           "title": {
            "standoff": 15
           },
           "zerolinecolor": "white",
           "zerolinewidth": 2
          },
          "yaxis": {
           "automargin": true,
           "gridcolor": "white",
           "linecolor": "white",
           "ticks": "",
           "title": {
            "standoff": 15
           },
           "zerolinecolor": "white",
           "zerolinewidth": 2
          }
         }
        },
        "title": {
         "text": "Total costs per car model across all damage types Analysis",
         "x": 0.45
        }
       }
      },
      "text/html": [
       "<div>                            <div id=\"c867df2a-0cbc-4e75-ada3-b75004a5b275\" class=\"plotly-graph-div\" style=\"height:525px; width:100%;\"></div>            <script type=\"text/javascript\">                require([\"plotly\"], function(Plotly) {                    window.PLOTLYENV=window.PLOTLYENV || {};                                    if (document.getElementById(\"c867df2a-0cbc-4e75-ada3-b75004a5b275\")) {                    Plotly.newPlot(                        \"c867df2a-0cbc-4e75-ada3-b75004a5b275\",                        [{\"branchvalues\":\"total\",\"domain\":{\"x\":[0.0,1.0],\"y\":[0.0,1.0]},\"hovertemplate\":\"labels=%{label}\\u003cbr\\u003eTotal Cost=%{value}\\u003cbr\\u003eparent=%{parent}\\u003cbr\\u003eid=%{id}\\u003cextra\\u003e\\u003c\\u002fextra\\u003e\",\"ids\":[\"CERATO\\u002fاصلاح بودي\",\"Citroen\\u002fاصلاح بودي\",\"ELANTRA\\u002fاصلاح بودي\",\"FLUENCE\\u002fاصلاح بودي\",\"FORTUNER\\u002fاصلاح بودي\",\"H 1\\u002fاصلاح بودي\",\"Hilux\\u002fاصلاح بودي\",\"I 10\\u002fاصلاح بودي\",\"I10\\u002fاصلاح بودي\",\"OPTIMA\\u002fاصلاح بودي\",\"Rav 4 \\u002fاصلاح بودي\",\"SPARK\\u002fاصلاح بودي\",\"TUCSAN\\u002fاصلاح بودي\",\"avanza\\u002fاصلاح بودي\",\"camry\\u002fاصلاح بودي\",\"cerato\\u002fاصلاح بودي\",\"corolla\\u002fاصلاح بودي\",\"cruze\\u002fاصلاح بودي\",\"prado\\u002fاصلاح بودي\",\"rio\\u002fاصلاح بودي\",\"sonic\\u002fاصلاح بودي\",\"spark\\u002fاصلاح بودي\",\"yaris\\u002fاصلاح بودي\",\"CERATO\\u002fاصلاح زجاج\",\"FLUENCE\\u002fاصلاح زجاج\",\"FORTUNER\\u002fاصلاح زجاج\",\"H 1\\u002fاصلاح زجاج\",\"Hilux\\u002fاصلاح زجاج\",\"SPORTAGE\\u002fاصلاح زجاج\",\"TUCSAN\\u002fاصلاح زجاج\",\"avanza\\u002fاصلاح زجاج\",\"camry\\u002fاصلاح زجاج\",\"cerato\\u002fاصلاح زجاج\",\"corolla\\u002fاصلاح زجاج\",\"prado\\u002fاصلاح زجاج\",\"rio\\u002fاصلاح زجاج\",\"CERATO\\u002fاصلاح فرش\",\"ELANTRA\\u002fاصلاح فرش\",\"FORTUNER\\u002fاصلاح فرش\",\"H 1\\u002fاصلاح فرش\",\"SPORTAGE\\u002fاصلاح فرش\",\"cerato\\u002fاصلاح فرش\",\"corolla\\u002fاصلاح فرش\",\"cruze\\u002fاصلاح فرش\",\"pruis\\u002fاصلاح فرش\",\"yaris\\u002fاصلاح فرش\",\"            Spark      \\u002fاصلاح كهرباء\",\"CERATO\\u002fاصلاح كهرباء\",\"ELANTRA\\u002fاصلاح كهرباء\",\"FLUENCE\\u002fاصلاح كهرباء\",\"FORTUNER\\u002fاصلاح كهرباء\",\"H 1\\u002fاصلاح كهرباء\",\"Hilux\\u002fاصلاح كهرباء\",\"SPORTAGE\\u002fاصلاح كهرباء\",\"avanza\\u002fاصلاح كهرباء\",\"camry\\u002fاصلاح كهرباء\",\"cerato\\u002fاصلاح كهرباء\",\"corolla\\u002fاصلاح كهرباء\",\"cruze\\u002fاصلاح كهرباء\",\"prado\\u002fاصلاح كهرباء\",\"rio\\u002fاصلاح كهرباء\",\"sonic\\u002fاصلاح كهرباء\",\"spark\\u002fاصلاح كهرباء\",\"yaris\\u002fاصلاح كهرباء\",\"CERATO\\u002fاصلاح كوشوك\",\"ELANTRA\\u002fاصلاح كوشوك\",\"FLUENCE\\u002fاصلاح كوشوك\",\"FORTUNER\\u002fاصلاح كوشوك\",\"H 1\\u002fاصلاح كوشوك\",\"Hilux\\u002fاصلاح كوشوك\",\"I 10\\u002fاصلاح كوشوك\",\"OPTIMA\\u002fاصلاح كوشوك\",\"Prius\\u002fاصلاح كوشوك\",\"Rav 4 \\u002fاصلاح كوشوك\",\"Rio\\u002fاصلاح كوشوك\",\"SPORTAGE\\u002fاصلاح كوشوك\",\"TUCSAN\\u002fاصلاح كوشوك\",\"camry\\u002fاصلاح كوشوك\",\"cerato\\u002fاصلاح كوشوك\",\"corolla\\u002fاصلاح كوشوك\",\"cruze\\u002fاصلاح كوشوك\",\"prado\\u002fاصلاح كوشوك\",\"rio\\u002fاصلاح كوشوك\",\"sonic\\u002fاصلاح كوشوك\",\"spark\\u002fاصلاح كوشوك\",\"yaris\\u002fاصلاح كوشوك\",\"CERATO\\u002fاصلاح ميكانيك\",\"ELANTRA\\u002fاصلاح ميكانيك\",\"FLUENCE\\u002fاصلاح ميكانيك\",\"FORTUNER\\u002fاصلاح ميكانيك\",\"H 1\\u002fاصلاح ميكانيك\",\"Hilux\\u002fاصلاح ميكانيك\",\"I 10\\u002fاصلاح ميكانيك\",\"OPTIMA\\u002fاصلاح ميكانيك\",\"Prius\\u002fاصلاح ميكانيك\",\"Rav 4\\u002fاصلاح ميكانيك\",\"Rav 4 \\u002fاصلاح ميكانيك\",\"SPORTAGE\\u002fاصلاح ميكانيك\",\"TUCSAN\\u002fاصلاح ميكانيك\",\"avanza\\u002fاصلاح ميكانيك\",\"camry\\u002fاصلاح ميكانيك\",\"cerato\\u002fاصلاح ميكانيك\",\"corolla\\u002fاصلاح ميكانيك\",\"cruze\\u002fاصلاح ميكانيك\",\"fortuner\\u002fاصلاح ميكانيك\",\"prado\\u002fاصلاح ميكانيك\",\"rio\\u002fاصلاح ميكانيك\",\"sonic\\u002fاصلاح ميكانيك\",\"spark\\u002fاصلاح ميكانيك\",\"yaris\\u002fاصلاح ميكانيك\",\" Gunsayil \\u002fغيار زيت\",\"CERATO\\u002fغيار زيت\",\"ELANTRA\\u002fغيار زيت\",\"FLUENCE\\u002fغيار زيت\",\"FORTUNER\\u002fغيار زيت\",\"H 1\\u002fغيار زيت\",\"Hilux\\u002fغيار زيت\",\"I 10\\u002fغيار زيت\",\"I10\\u002fغيار زيت\",\"OPTIMA\\u002fغيار زيت\",\"Prius\\u002fغيار زيت\",\"Rav 4\\u002fغيار زيت\",\"Rav 4 \\u002fغيار زيت\",\"SPORTAGE\\u002fغيار زيت\",\"TUCSAN\\u002fغيار زيت\",\"accent\\u002fغيار زيت\",\"avanza\\u002fغيار زيت\",\"camry\\u002fغيار زيت\",\"cerato\\u002fغيار زيت\",\"corolla\\u002fغيار زيت\",\"corolla \\u002fغيار زيت\",\"cruze\\u002fغيار زيت\",\"fortuner\\u002fغيار زيت\",\"optima\\u002fغيار زيت\",\"prado\\u002fغيار زيت\",\"rio\\u002fغيار زيت\",\"sonic\\u002fغيار زيت\",\"spark\\u002fغيار زيت\",\"tucsan\\u002fغيار زيت\",\"yaris\\u002fغيار زيت\",\"            Spark      \",\" Gunsayil \",\"CERATO\",\"Citroen\",\"ELANTRA\",\"FLUENCE\",\"FORTUNER\",\"H 1\",\"Hilux\",\"I 10\",\"I10\",\"OPTIMA\",\"Prius\",\"Rav 4\",\"Rav 4 \",\"Rio\",\"SPARK\",\"SPORTAGE\",\"TUCSAN\",\"accent\",\"avanza\",\"camry\",\"cerato\",\"corolla\",\"corolla \",\"cruze\",\"fortuner\",\"optima\",\"prado\",\"pruis\",\"rio\",\"sonic\",\"spark\",\"tucsan\",\"yaris\"],\"labels\":[\"اصلاح بودي\",\"اصلاح بودي\",\"اصلاح بودي\",\"اصلاح بودي\",\"اصلاح بودي\",\"اصلاح بودي\",\"اصلاح بودي\",\"اصلاح بودي\",\"اصلاح بودي\",\"اصلاح بودي\",\"اصلاح بودي\",\"اصلاح بودي\",\"اصلاح بودي\",\"اصلاح بودي\",\"اصلاح بودي\",\"اصلاح بودي\",\"اصلاح بودي\",\"اصلاح بودي\",\"اصلاح بودي\",\"اصلاح بودي\",\"اصلاح بودي\",\"اصلاح بودي\",\"اصلاح بودي\",\"اصلاح زجاج\",\"اصلاح زجاج\",\"اصلاح زجاج\",\"اصلاح زجاج\",\"اصلاح زجاج\",\"اصلاح زجاج\",\"اصلاح زجاج\",\"اصلاح زجاج\",\"اصلاح زجاج\",\"اصلاح زجاج\",\"اصلاح زجاج\",\"اصلاح زجاج\",\"اصلاح زجاج\",\"اصلاح فرش\",\"اصلاح فرش\",\"اصلاح فرش\",\"اصلاح فرش\",\"اصلاح فرش\",\"اصلاح فرش\",\"اصلاح فرش\",\"اصلاح فرش\",\"اصلاح فرش\",\"اصلاح فرش\",\"اصلاح كهرباء\",\"اصلاح كهرباء\",\"اصلاح كهرباء\",\"اصلاح كهرباء\",\"اصلاح كهرباء\",\"اصلاح كهرباء\",\"اصلاح كهرباء\",\"اصلاح كهرباء\",\"اصلاح كهرباء\",\"اصلاح كهرباء\",\"اصلاح كهرباء\",\"اصلاح كهرباء\",\"اصلاح كهرباء\",\"اصلاح كهرباء\",\"اصلاح كهرباء\",\"اصلاح كهرباء\",\"اصلاح كهرباء\",\"اصلاح كهرباء\",\"اصلاح كوشوك\",\"اصلاح كوشوك\",\"اصلاح كوشوك\",\"اصلاح كوشوك\",\"اصلاح كوشوك\",\"اصلاح كوشوك\",\"اصلاح كوشوك\",\"اصلاح كوشوك\",\"اصلاح كوشوك\",\"اصلاح كوشوك\",\"اصلاح كوشوك\",\"اصلاح كوشوك\",\"اصلاح كوشوك\",\"اصلاح كوشوك\",\"اصلاح كوشوك\",\"اصلاح كوشوك\",\"اصلاح كوشوك\",\"اصلاح كوشوك\",\"اصلاح كوشوك\",\"اصلاح كوشوك\",\"اصلاح كوشوك\",\"اصلاح كوشوك\",\"اصلاح ميكانيك\",\"اصلاح ميكانيك\",\"اصلاح ميكانيك\",\"اصلاح ميكانيك\",\"اصلاح ميكانيك\",\"اصلاح ميكانيك\",\"اصلاح ميكانيك\",\"اصلاح ميكانيك\",\"اصلاح ميكانيك\",\"اصلاح ميكانيك\",\"اصلاح ميكانيك\",\"اصلاح ميكانيك\",\"اصلاح ميكانيك\",\"اصلاح ميكانيك\",\"اصلاح ميكانيك\",\"اصلاح ميكانيك\",\"اصلاح ميكانيك\",\"اصلاح ميكانيك\",\"اصلاح ميكانيك\",\"اصلاح ميكانيك\",\"اصلاح ميكانيك\",\"اصلاح ميكانيك\",\"اصلاح ميكانيك\",\"اصلاح ميكانيك\",\"غيار زيت\",\"غيار زيت\",\"غيار زيت\",\"غيار زيت\",\"غيار زيت\",\"غيار زيت\",\"غيار زيت\",\"غيار زيت\",\"غيار زيت\",\"غيار زيت\",\"غيار زيت\",\"غيار زيت\",\"غيار زيت\",\"غيار زيت\",\"غيار زيت\",\"غيار زيت\",\"غيار زيت\",\"غيار زيت\",\"غيار زيت\",\"غيار زيت\",\"غيار زيت\",\"غيار زيت\",\"غيار زيت\",\"غيار زيت\",\"غيار زيت\",\"غيار زيت\",\"غيار زيت\",\"غيار زيت\",\"غيار زيت\",\"غيار زيت\",\"            Spark      \",\" Gunsayil \",\"CERATO\",\"Citroen\",\"ELANTRA\",\"FLUENCE\",\"FORTUNER\",\"H 1\",\"Hilux\",\"I 10\",\"I10\",\"OPTIMA\",\"Prius\",\"Rav 4\",\"Rav 4 \",\"Rio\",\"SPARK\",\"SPORTAGE\",\"TUCSAN\",\"accent\",\"avanza\",\"camry\",\"cerato\",\"corolla\",\"corolla \",\"cruze\",\"fortuner\",\"optima\",\"prado\",\"pruis\",\"rio\",\"sonic\",\"spark\",\"tucsan\",\"yaris\"],\"name\":\"\",\"parents\":[\"CERATO\",\"Citroen\",\"ELANTRA\",\"FLUENCE\",\"FORTUNER\",\"H 1\",\"Hilux\",\"I 10\",\"I10\",\"OPTIMA\",\"Rav 4 \",\"SPARK\",\"TUCSAN\",\"avanza\",\"camry\",\"cerato\",\"corolla\",\"cruze\",\"prado\",\"rio\",\"sonic\",\"spark\",\"yaris\",\"CERATO\",\"FLUENCE\",\"FORTUNER\",\"H 1\",\"Hilux\",\"SPORTAGE\",\"TUCSAN\",\"avanza\",\"camry\",\"cerato\",\"corolla\",\"prado\",\"rio\",\"CERATO\",\"ELANTRA\",\"FORTUNER\",\"H 1\",\"SPORTAGE\",\"cerato\",\"corolla\",\"cruze\",\"pruis\",\"yaris\",\"            Spark      \",\"CERATO\",\"ELANTRA\",\"FLUENCE\",\"FORTUNER\",\"H 1\",\"Hilux\",\"SPORTAGE\",\"avanza\",\"camry\",\"cerato\",\"corolla\",\"cruze\",\"prado\",\"rio\",\"sonic\",\"spark\",\"yaris\",\"CERATO\",\"ELANTRA\",\"FLUENCE\",\"FORTUNER\",\"H 1\",\"Hilux\",\"I 10\",\"OPTIMA\",\"Prius\",\"Rav 4 \",\"Rio\",\"SPORTAGE\",\"TUCSAN\",\"camry\",\"cerato\",\"corolla\",\"cruze\",\"prado\",\"rio\",\"sonic\",\"spark\",\"yaris\",\"CERATO\",\"ELANTRA\",\"FLUENCE\",\"FORTUNER\",\"H 1\",\"Hilux\",\"I 10\",\"OPTIMA\",\"Prius\",\"Rav 4\",\"Rav 4 \",\"SPORTAGE\",\"TUCSAN\",\"avanza\",\"camry\",\"cerato\",\"corolla\",\"cruze\",\"fortuner\",\"prado\",\"rio\",\"sonic\",\"spark\",\"yaris\",\" Gunsayil \",\"CERATO\",\"ELANTRA\",\"FLUENCE\",\"FORTUNER\",\"H 1\",\"Hilux\",\"I 10\",\"I10\",\"OPTIMA\",\"Prius\",\"Rav 4\",\"Rav 4 \",\"SPORTAGE\",\"TUCSAN\",\"accent\",\"avanza\",\"camry\",\"cerato\",\"corolla\",\"corolla \",\"cruze\",\"fortuner\",\"optima\",\"prado\",\"rio\",\"sonic\",\"spark\",\"tucsan\",\"yaris\",\"\",\"\",\"\",\"\",\"\",\"\",\"\",\"\",\"\",\"\",\"\",\"\",\"\",\"\",\"\",\"\",\"\",\"\",\"\",\"\",\"\",\"\",\"\",\"\",\"\",\"\",\"\",\"\",\"\",\"\",\"\",\"\",\"\",\"\",\"\"],\"values\":[5390,281,5311,1981,9133,5345,3381,436,60,501,281,80,300,4429,8062,2877,7083,1942,642,1769,767,1854,2492,275,25,45,100,90,185,105,25,76,210,340,90,25,35,35,256,183,173,70,20,48,60,25,50,337,108,58,436,128,127,98,55,185,174,251,55,108,158,58,229,50,741,997,915,7023,4058,2797,408,789,490,395,60,1665,360,2530,2235,1195,302,165,101,575,660,694,1303,2825,1201,11942,4048,2507,960,296,20,92,342,2368,630,1667,1445,1263,2553,1255,760,374,1077,749,1928,1199,102,956,685,713,3338,1117,2481,303,21,243,246,123,21,719,63,63,770,702,1150,2540,63,275,63,21,330,1024,219,729,21,1194,50,102,9037,281,9961,4893,32173,14979,11383,2107,81,1829,756,215,1039,60,80,5208,1458,63,6946,13000,7979,13982,63,3877,823,21,1709,60,4154,2368,5400,21,5654],\"type\":\"sunburst\"}],                        {\"template\":{\"data\":{\"histogram2dcontour\":[{\"type\":\"histogram2dcontour\",\"colorbar\":{\"outlinewidth\":0,\"ticks\":\"\"},\"colorscale\":[[0.0,\"#0d0887\"],[0.1111111111111111,\"#46039f\"],[0.2222222222222222,\"#7201a8\"],[0.3333333333333333,\"#9c179e\"],[0.4444444444444444,\"#bd3786\"],[0.5555555555555556,\"#d8576b\"],[0.6666666666666666,\"#ed7953\"],[0.7777777777777778,\"#fb9f3a\"],[0.8888888888888888,\"#fdca26\"],[1.0,\"#f0f921\"]]}],\"choropleth\":[{\"type\":\"choropleth\",\"colorbar\":{\"outlinewidth\":0,\"ticks\":\"\"}}],\"histogram2d\":[{\"type\":\"histogram2d\",\"colorbar\":{\"outlinewidth\":0,\"ticks\":\"\"},\"colorscale\":[[0.0,\"#0d0887\"],[0.1111111111111111,\"#46039f\"],[0.2222222222222222,\"#7201a8\"],[0.3333333333333333,\"#9c179e\"],[0.4444444444444444,\"#bd3786\"],[0.5555555555555556,\"#d8576b\"],[0.6666666666666666,\"#ed7953\"],[0.7777777777777778,\"#fb9f3a\"],[0.8888888888888888,\"#fdca26\"],[1.0,\"#f0f921\"]]}],\"heatmap\":[{\"type\":\"heatmap\",\"colorbar\":{\"outlinewidth\":0,\"ticks\":\"\"},\"colorscale\":[[0.0,\"#0d0887\"],[0.1111111111111111,\"#46039f\"],[0.2222222222222222,\"#7201a8\"],[0.3333333333333333,\"#9c179e\"],[0.4444444444444444,\"#bd3786\"],[0.5555555555555556,\"#d8576b\"],[0.6666666666666666,\"#ed7953\"],[0.7777777777777778,\"#fb9f3a\"],[0.8888888888888888,\"#fdca26\"],[1.0,\"#f0f921\"]]}],\"heatmapgl\":[{\"type\":\"heatmapgl\",\"colorbar\":{\"outlinewidth\":0,\"ticks\":\"\"},\"colorscale\":[[0.0,\"#0d0887\"],[0.1111111111111111,\"#46039f\"],[0.2222222222222222,\"#7201a8\"],[0.3333333333333333,\"#9c179e\"],[0.4444444444444444,\"#bd3786\"],[0.5555555555555556,\"#d8576b\"],[0.6666666666666666,\"#ed7953\"],[0.7777777777777778,\"#fb9f3a\"],[0.8888888888888888,\"#fdca26\"],[1.0,\"#f0f921\"]]}],\"contourcarpet\":[{\"type\":\"contourcarpet\",\"colorbar\":{\"outlinewidth\":0,\"ticks\":\"\"}}],\"contour\":[{\"type\":\"contour\",\"colorbar\":{\"outlinewidth\":0,\"ticks\":\"\"},\"colorscale\":[[0.0,\"#0d0887\"],[0.1111111111111111,\"#46039f\"],[0.2222222222222222,\"#7201a8\"],[0.3333333333333333,\"#9c179e\"],[0.4444444444444444,\"#bd3786\"],[0.5555555555555556,\"#d8576b\"],[0.6666666666666666,\"#ed7953\"],[0.7777777777777778,\"#fb9f3a\"],[0.8888888888888888,\"#fdca26\"],[1.0,\"#f0f921\"]]}],\"surface\":[{\"type\":\"surface\",\"colorbar\":{\"outlinewidth\":0,\"ticks\":\"\"},\"colorscale\":[[0.0,\"#0d0887\"],[0.1111111111111111,\"#46039f\"],[0.2222222222222222,\"#7201a8\"],[0.3333333333333333,\"#9c179e\"],[0.4444444444444444,\"#bd3786\"],[0.5555555555555556,\"#d8576b\"],[0.6666666666666666,\"#ed7953\"],[0.7777777777777778,\"#fb9f3a\"],[0.8888888888888888,\"#fdca26\"],[1.0,\"#f0f921\"]]}],\"mesh3d\":[{\"type\":\"mesh3d\",\"colorbar\":{\"outlinewidth\":0,\"ticks\":\"\"}}],\"scatter\":[{\"fillpattern\":{\"fillmode\":\"overlay\",\"size\":10,\"solidity\":0.2},\"type\":\"scatter\"}],\"parcoords\":[{\"type\":\"parcoords\",\"line\":{\"colorbar\":{\"outlinewidth\":0,\"ticks\":\"\"}}}],\"scatterpolargl\":[{\"type\":\"scatterpolargl\",\"marker\":{\"colorbar\":{\"outlinewidth\":0,\"ticks\":\"\"}}}],\"bar\":[{\"error_x\":{\"color\":\"#2a3f5f\"},\"error_y\":{\"color\":\"#2a3f5f\"},\"marker\":{\"line\":{\"color\":\"#E5ECF6\",\"width\":0.5},\"pattern\":{\"fillmode\":\"overlay\",\"size\":10,\"solidity\":0.2}},\"type\":\"bar\"}],\"scattergeo\":[{\"type\":\"scattergeo\",\"marker\":{\"colorbar\":{\"outlinewidth\":0,\"ticks\":\"\"}}}],\"scatterpolar\":[{\"type\":\"scatterpolar\",\"marker\":{\"colorbar\":{\"outlinewidth\":0,\"ticks\":\"\"}}}],\"histogram\":[{\"marker\":{\"pattern\":{\"fillmode\":\"overlay\",\"size\":10,\"solidity\":0.2}},\"type\":\"histogram\"}],\"scattergl\":[{\"type\":\"scattergl\",\"marker\":{\"colorbar\":{\"outlinewidth\":0,\"ticks\":\"\"}}}],\"scatter3d\":[{\"type\":\"scatter3d\",\"line\":{\"colorbar\":{\"outlinewidth\":0,\"ticks\":\"\"}},\"marker\":{\"colorbar\":{\"outlinewidth\":0,\"ticks\":\"\"}}}],\"scattermapbox\":[{\"type\":\"scattermapbox\",\"marker\":{\"colorbar\":{\"outlinewidth\":0,\"ticks\":\"\"}}}],\"scatterternary\":[{\"type\":\"scatterternary\",\"marker\":{\"colorbar\":{\"outlinewidth\":0,\"ticks\":\"\"}}}],\"scattercarpet\":[{\"type\":\"scattercarpet\",\"marker\":{\"colorbar\":{\"outlinewidth\":0,\"ticks\":\"\"}}}],\"carpet\":[{\"aaxis\":{\"endlinecolor\":\"#2a3f5f\",\"gridcolor\":\"white\",\"linecolor\":\"white\",\"minorgridcolor\":\"white\",\"startlinecolor\":\"#2a3f5f\"},\"baxis\":{\"endlinecolor\":\"#2a3f5f\",\"gridcolor\":\"white\",\"linecolor\":\"white\",\"minorgridcolor\":\"white\",\"startlinecolor\":\"#2a3f5f\"},\"type\":\"carpet\"}],\"table\":[{\"cells\":{\"fill\":{\"color\":\"#EBF0F8\"},\"line\":{\"color\":\"white\"}},\"header\":{\"fill\":{\"color\":\"#C8D4E3\"},\"line\":{\"color\":\"white\"}},\"type\":\"table\"}],\"barpolar\":[{\"marker\":{\"line\":{\"color\":\"#E5ECF6\",\"width\":0.5},\"pattern\":{\"fillmode\":\"overlay\",\"size\":10,\"solidity\":0.2}},\"type\":\"barpolar\"}],\"pie\":[{\"automargin\":true,\"type\":\"pie\"}]},\"layout\":{\"autotypenumbers\":\"strict\",\"colorway\":[\"#636efa\",\"#EF553B\",\"#00cc96\",\"#ab63fa\",\"#FFA15A\",\"#19d3f3\",\"#FF6692\",\"#B6E880\",\"#FF97FF\",\"#FECB52\"],\"font\":{\"color\":\"#2a3f5f\"},\"hovermode\":\"closest\",\"hoverlabel\":{\"align\":\"left\"},\"paper_bgcolor\":\"white\",\"plot_bgcolor\":\"#E5ECF6\",\"polar\":{\"bgcolor\":\"#E5ECF6\",\"angularaxis\":{\"gridcolor\":\"white\",\"linecolor\":\"white\",\"ticks\":\"\"},\"radialaxis\":{\"gridcolor\":\"white\",\"linecolor\":\"white\",\"ticks\":\"\"}},\"ternary\":{\"bgcolor\":\"#E5ECF6\",\"aaxis\":{\"gridcolor\":\"white\",\"linecolor\":\"white\",\"ticks\":\"\"},\"baxis\":{\"gridcolor\":\"white\",\"linecolor\":\"white\",\"ticks\":\"\"},\"caxis\":{\"gridcolor\":\"white\",\"linecolor\":\"white\",\"ticks\":\"\"}},\"coloraxis\":{\"colorbar\":{\"outlinewidth\":0,\"ticks\":\"\"}},\"colorscale\":{\"sequential\":[[0.0,\"#0d0887\"],[0.1111111111111111,\"#46039f\"],[0.2222222222222222,\"#7201a8\"],[0.3333333333333333,\"#9c179e\"],[0.4444444444444444,\"#bd3786\"],[0.5555555555555556,\"#d8576b\"],[0.6666666666666666,\"#ed7953\"],[0.7777777777777778,\"#fb9f3a\"],[0.8888888888888888,\"#fdca26\"],[1.0,\"#f0f921\"]],\"sequentialminus\":[[0.0,\"#0d0887\"],[0.1111111111111111,\"#46039f\"],[0.2222222222222222,\"#7201a8\"],[0.3333333333333333,\"#9c179e\"],[0.4444444444444444,\"#bd3786\"],[0.5555555555555556,\"#d8576b\"],[0.6666666666666666,\"#ed7953\"],[0.7777777777777778,\"#fb9f3a\"],[0.8888888888888888,\"#fdca26\"],[1.0,\"#f0f921\"]],\"diverging\":[[0,\"#8e0152\"],[0.1,\"#c51b7d\"],[0.2,\"#de77ae\"],[0.3,\"#f1b6da\"],[0.4,\"#fde0ef\"],[0.5,\"#f7f7f7\"],[0.6,\"#e6f5d0\"],[0.7,\"#b8e186\"],[0.8,\"#7fbc41\"],[0.9,\"#4d9221\"],[1,\"#276419\"]]},\"xaxis\":{\"gridcolor\":\"white\",\"linecolor\":\"white\",\"ticks\":\"\",\"title\":{\"standoff\":15},\"zerolinecolor\":\"white\",\"automargin\":true,\"zerolinewidth\":2},\"yaxis\":{\"gridcolor\":\"white\",\"linecolor\":\"white\",\"ticks\":\"\",\"title\":{\"standoff\":15},\"zerolinecolor\":\"white\",\"automargin\":true,\"zerolinewidth\":2},\"scene\":{\"xaxis\":{\"backgroundcolor\":\"#E5ECF6\",\"gridcolor\":\"white\",\"linecolor\":\"white\",\"showbackground\":true,\"ticks\":\"\",\"zerolinecolor\":\"white\",\"gridwidth\":2},\"yaxis\":{\"backgroundcolor\":\"#E5ECF6\",\"gridcolor\":\"white\",\"linecolor\":\"white\",\"showbackground\":true,\"ticks\":\"\",\"zerolinecolor\":\"white\",\"gridwidth\":2},\"zaxis\":{\"backgroundcolor\":\"#E5ECF6\",\"gridcolor\":\"white\",\"linecolor\":\"white\",\"showbackground\":true,\"ticks\":\"\",\"zerolinecolor\":\"white\",\"gridwidth\":2}},\"shapedefaults\":{\"line\":{\"color\":\"#2a3f5f\"}},\"annotationdefaults\":{\"arrowcolor\":\"#2a3f5f\",\"arrowhead\":0,\"arrowwidth\":1},\"geo\":{\"bgcolor\":\"white\",\"landcolor\":\"#E5ECF6\",\"subunitcolor\":\"white\",\"showland\":true,\"showlakes\":true,\"lakecolor\":\"white\"},\"title\":{\"x\":0.05},\"mapbox\":{\"style\":\"light\"}}},\"legend\":{\"tracegroupgap\":0},\"title\":{\"text\":\"Total costs per car model across all damage types Analysis\",\"x\":0.45}},                        {\"responsive\": true}                    ).then(function(){\n",
       "                            \n",
       "var gd = document.getElementById('c867df2a-0cbc-4e75-ada3-b75004a5b275');\n",
       "var x = new MutationObserver(function (mutations, observer) {{\n",
       "        var display = window.getComputedStyle(gd).display;\n",
       "        if (!display || display === 'none') {{\n",
       "            console.log([gd, 'removed!']);\n",
       "            Plotly.purge(gd);\n",
       "            observer.disconnect();\n",
       "        }}\n",
       "}});\n",
       "\n",
       "// Listen for the removal of the full notebook cells\n",
       "var notebookContainer = gd.closest('#notebook-container');\n",
       "if (notebookContainer) {{\n",
       "    x.observe(notebookContainer, {childList: true});\n",
       "}}\n",
       "\n",
       "// Listen for the clearing of the current output cell\n",
       "var outputEl = gd.closest('.output');\n",
       "if (outputEl) {{\n",
       "    x.observe(outputEl, {childList: true});\n",
       "}}\n",
       "\n",
       "                        })                };                });            </script>        </div>"
      ]
     },
     "metadata": {},
     "output_type": "display_data"
    }
   ],
   "source": [
    "total_cost_damage_car = df.groupby(['car','damage type'])['cost'].sum().sort_values(ascending=False).reset_index(name='Total Costs')\n",
    "myPlot1(total_cost_damage_car,xs='car',ys='Total Costs',clr='damage type',plotType='bar',title='Total costs per car model across all damage types', sort_by=None, ascending=True)\n",
    "# Plot SunBurst chart\n",
    "mySunBurst(data=damage_total_cost_car, name=['car','damage type'], value='Total Cost', title='Total costs per car model across all damage types')"
   ]
  },
  {
   "cell_type": "code",
   "execution_count": 79,
   "id": "a8248c23",
   "metadata": {},
   "outputs": [],
   "source": [
    "#### Most common damage types for each car model"
   ]
  },
  {
   "cell_type": "code",
   "execution_count": 80,
   "id": "c645975c",
   "metadata": {},
   "outputs": [
    {
     "data": {
      "application/vnd.plotly.v1+json": {
       "config": {
        "plotlyServerURL": "https://plot.ly"
       },
       "data": [
        {
         "alignmentgroup": "True",
         "hovertemplate": "Damage Type=اصلاح بودي<br>Car Model=%{x}<br>Damage Frequency=%{y}<extra></extra>",
         "legendgroup": "اصلاح بودي",
         "marker": {
          "color": "#636efa",
          "pattern": {
           "shape": ""
          }
         },
         "name": "اصلاح بودي",
         "offsetgroup": "اصلاح بودي",
         "orientation": "v",
         "showlegend": true,
         "textposition": "auto",
         "type": "bar",
         "x": [
          "AVANZA",
          "CAMRY",
          "CERATO",
          "CITROEN",
          "COROLLA",
          "CRUZE",
          "ELANTRA",
          "FLUENCE",
          "FORTUNER",
          "H 1",
          "HILUX",
          "I 10",
          "OPTIMA",
          "PRADO",
          "RAV 4",
          "RIO",
          "SONIC",
          "SPARK",
          "TUCSAN",
          "YARIS"
         ],
         "xaxis": "x",
         "y": [
          16,
          26,
          31,
          1,
          28,
          13,
          19,
          8,
          19,
          20,
          5,
          4,
          3,
          3,
          1,
          9,
          5,
          9,
          3,
          6
         ],
         "yaxis": "y"
        },
        {
         "alignmentgroup": "True",
         "hovertemplate": "Damage Type=اصلاح زجاج<br>Car Model=%{x}<br>Damage Frequency=%{y}<extra></extra>",
         "legendgroup": "اصلاح زجاج",
         "marker": {
          "color": "#EF553B",
          "pattern": {
           "shape": ""
          }
         },
         "name": "اصلاح زجاج",
         "offsetgroup": "اصلاح زجاج",
         "orientation": "v",
         "showlegend": true,
         "textposition": "auto",
         "type": "bar",
         "x": [
          "AVANZA",
          "CAMRY",
          "CERATO",
          "COROLLA",
          "FLUENCE",
          "FORTUNER",
          "H 1",
          "HILUX",
          "PRADO",
          "RIO",
          "SPORTAGE",
          "TUCSAN"
         ],
         "xaxis": "x",
         "y": [
          1,
          1,
          6,
          3,
          1,
          1,
          2,
          1,
          1,
          1,
          2,
          1
         ],
         "yaxis": "y"
        },
        {
         "alignmentgroup": "True",
         "hovertemplate": "Damage Type=اصلاح فرش<br>Car Model=%{x}<br>Damage Frequency=%{y}<extra></extra>",
         "legendgroup": "اصلاح فرش",
         "marker": {
          "color": "#00cc96",
          "pattern": {
           "shape": ""
          }
         },
         "name": "اصلاح فرش",
         "offsetgroup": "اصلاح فرش",
         "orientation": "v",
         "showlegend": true,
         "textposition": "auto",
         "type": "bar",
         "x": [
          "CERATO",
          "COROLLA",
          "CRUZE",
          "ELANTRA",
          "FORTUNER",
          "H 1",
          "PRUIS",
          "SPORTAGE",
          "YARIS"
         ],
         "xaxis": "x",
         "y": [
          3,
          1,
          1,
          1,
          6,
          3,
          1,
          2,
          1
         ],
         "yaxis": "y"
        },
        {
         "alignmentgroup": "True",
         "hovertemplate": "Damage Type=اصلاح كهرباء<br>Car Model=%{x}<br>Damage Frequency=%{y}<extra></extra>",
         "legendgroup": "اصلاح كهرباء",
         "marker": {
          "color": "#ab63fa",
          "pattern": {
           "shape": ""
          }
         },
         "name": "اصلاح كهرباء",
         "offsetgroup": "اصلاح كهرباء",
         "orientation": "v",
         "showlegend": true,
         "textposition": "auto",
         "type": "bar",
         "x": [
          "AVANZA",
          "CAMRY",
          "CERATO",
          "COROLLA",
          "CRUZE",
          "ELANTRA",
          "FLUENCE",
          "FORTUNER",
          "H 1",
          "HILUX",
          "PRADO",
          "RIO",
          "SONIC",
          "SPARK",
          "SPORTAGE",
          "YARIS"
         ],
         "xaxis": "x",
         "y": [
          1,
          3,
          9,
          6,
          1,
          2,
          1,
          6,
          2,
          1,
          2,
          3,
          1,
          5,
          2,
          1
         ],
         "yaxis": "y"
        },
        {
         "alignmentgroup": "True",
         "hovertemplate": "Damage Type=اصلاح كوشوك<br>Car Model=%{x}<br>Damage Frequency=%{y}<extra></extra>",
         "legendgroup": "اصلاح كوشوك",
         "marker": {
          "color": "#FFA15A",
          "pattern": {
           "shape": ""
          }
         },
         "name": "اصلاح كوشوك",
         "offsetgroup": "اصلاح كوشوك",
         "orientation": "v",
         "showlegend": true,
         "textposition": "auto",
         "type": "bar",
         "x": [
          "CAMRY",
          "CERATO",
          "COROLLA",
          "CRUZE",
          "ELANTRA",
          "FLUENCE",
          "FORTUNER",
          "H 1",
          "HILUX",
          "I 10",
          "OPTIMA",
          "PRADO",
          "PRIUS",
          "RAV 4",
          "RIO",
          "SONIC",
          "SPARK",
          "SPORTAGE",
          "TUCSAN",
          "YARIS"
         ],
         "xaxis": "x",
         "y": [
          10,
          20,
          5,
          2,
          6,
          4,
          20,
          15,
          8,
          5,
          5,
          1,
          1,
          1,
          3,
          3,
          5,
          6,
          1,
          3
         ],
         "yaxis": "y"
        },
        {
         "alignmentgroup": "True",
         "hovertemplate": "Damage Type=اصلاح ميكانيك<br>Car Model=%{x}<br>Damage Frequency=%{y}<extra></extra>",
         "legendgroup": "اصلاح ميكانيك",
         "marker": {
          "color": "#19d3f3",
          "pattern": {
           "shape": ""
          }
         },
         "name": "اصلاح ميكانيك",
         "offsetgroup": "اصلاح ميكانيك",
         "orientation": "v",
         "showlegend": true,
         "textposition": "auto",
         "type": "bar",
         "x": [
          "AVANZA",
          "CAMRY",
          "CERATO",
          "COROLLA",
          "CRUZE",
          "ELANTRA",
          "FLUENCE",
          "FORTUNER",
          "H 1",
          "HILUX",
          "I 10",
          "OPTIMA",
          "PRADO",
          "PRIUS",
          "RAV 4",
          "RIO",
          "SONIC",
          "SPARK",
          "SPORTAGE",
          "TUCSAN",
          "YARIS"
         ],
         "xaxis": "x",
         "y": [
          18,
          14,
          46,
          37,
          16,
          34,
          18,
          90,
          27,
          34,
          14,
          4,
          4,
          1,
          3,
          17,
          13,
          29,
          24,
          4,
          19
         ],
         "yaxis": "y"
        },
        {
         "alignmentgroup": "True",
         "hovertemplate": "Damage Type=غيار زيت<br>Car Model=%{x}<br>Damage Frequency=%{y}<extra></extra>",
         "legendgroup": "غيار زيت",
         "marker": {
          "color": "#FF6692",
          "pattern": {
           "shape": ""
          }
         },
         "name": "غيار زيت",
         "offsetgroup": "غيار زيت",
         "orientation": "v",
         "showlegend": true,
         "textposition": "auto",
         "type": "bar",
         "x": [
          "ACCENT",
          "AVANZA",
          "CAMRY",
          "CERATO",
          "COROLLA",
          "CRUZE",
          "ELANTRA",
          "FLUENCE",
          "FORTUNER",
          "GUNSAYIL",
          "H 1",
          "HILUX",
          "I 10",
          "OPTIMA",
          "PRADO",
          "PRIUS",
          "RAV 4",
          "RIO",
          "SONIC",
          "SPARK",
          "SPORTAGE",
          "TUCSAN",
          "YARIS"
         ],
         "xaxis": "x",
         "y": [
          3,
          26,
          32,
          63,
          76,
          11,
          25,
          22,
          90,
          1,
          32,
          48,
          14,
          5,
          8,
          4,
          3,
          37,
          9,
          30,
          25,
          4,
          26
         ],
         "yaxis": "y"
        }
       ],
       "layout": {
        "barmode": "stack",
        "legend": {
         "title": {
          "text": "Damage Type"
         },
         "tracegroupgap": 0
        },
        "template": {
         "data": {
          "bar": [
           {
            "error_x": {
             "color": "#2a3f5f"
            },
            "error_y": {
             "color": "#2a3f5f"
            },
            "marker": {
             "line": {
              "color": "#E5ECF6",
              "width": 0.5
             },
             "pattern": {
              "fillmode": "overlay",
              "size": 10,
              "solidity": 0.2
             }
            },
            "type": "bar"
           }
          ],
          "barpolar": [
           {
            "marker": {
             "line": {
              "color": "#E5ECF6",
              "width": 0.5
             },
             "pattern": {
              "fillmode": "overlay",
              "size": 10,
              "solidity": 0.2
             }
            },
            "type": "barpolar"
           }
          ],
          "carpet": [
           {
            "aaxis": {
             "endlinecolor": "#2a3f5f",
             "gridcolor": "white",
             "linecolor": "white",
             "minorgridcolor": "white",
             "startlinecolor": "#2a3f5f"
            },
            "baxis": {
             "endlinecolor": "#2a3f5f",
             "gridcolor": "white",
             "linecolor": "white",
             "minorgridcolor": "white",
             "startlinecolor": "#2a3f5f"
            },
            "type": "carpet"
           }
          ],
          "choropleth": [
           {
            "colorbar": {
             "outlinewidth": 0,
             "ticks": ""
            },
            "type": "choropleth"
           }
          ],
          "contour": [
           {
            "colorbar": {
             "outlinewidth": 0,
             "ticks": ""
            },
            "colorscale": [
             [
              0,
              "#0d0887"
             ],
             [
              0.1111111111111111,
              "#46039f"
             ],
             [
              0.2222222222222222,
              "#7201a8"
             ],
             [
              0.3333333333333333,
              "#9c179e"
             ],
             [
              0.4444444444444444,
              "#bd3786"
             ],
             [
              0.5555555555555556,
              "#d8576b"
             ],
             [
              0.6666666666666666,
              "#ed7953"
             ],
             [
              0.7777777777777778,
              "#fb9f3a"
             ],
             [
              0.8888888888888888,
              "#fdca26"
             ],
             [
              1,
              "#f0f921"
             ]
            ],
            "type": "contour"
           }
          ],
          "contourcarpet": [
           {
            "colorbar": {
             "outlinewidth": 0,
             "ticks": ""
            },
            "type": "contourcarpet"
           }
          ],
          "heatmap": [
           {
            "colorbar": {
             "outlinewidth": 0,
             "ticks": ""
            },
            "colorscale": [
             [
              0,
              "#0d0887"
             ],
             [
              0.1111111111111111,
              "#46039f"
             ],
             [
              0.2222222222222222,
              "#7201a8"
             ],
             [
              0.3333333333333333,
              "#9c179e"
             ],
             [
              0.4444444444444444,
              "#bd3786"
             ],
             [
              0.5555555555555556,
              "#d8576b"
             ],
             [
              0.6666666666666666,
              "#ed7953"
             ],
             [
              0.7777777777777778,
              "#fb9f3a"
             ],
             [
              0.8888888888888888,
              "#fdca26"
             ],
             [
              1,
              "#f0f921"
             ]
            ],
            "type": "heatmap"
           }
          ],
          "heatmapgl": [
           {
            "colorbar": {
             "outlinewidth": 0,
             "ticks": ""
            },
            "colorscale": [
             [
              0,
              "#0d0887"
             ],
             [
              0.1111111111111111,
              "#46039f"
             ],
             [
              0.2222222222222222,
              "#7201a8"
             ],
             [
              0.3333333333333333,
              "#9c179e"
             ],
             [
              0.4444444444444444,
              "#bd3786"
             ],
             [
              0.5555555555555556,
              "#d8576b"
             ],
             [
              0.6666666666666666,
              "#ed7953"
             ],
             [
              0.7777777777777778,
              "#fb9f3a"
             ],
             [
              0.8888888888888888,
              "#fdca26"
             ],
             [
              1,
              "#f0f921"
             ]
            ],
            "type": "heatmapgl"
           }
          ],
          "histogram": [
           {
            "marker": {
             "pattern": {
              "fillmode": "overlay",
              "size": 10,
              "solidity": 0.2
             }
            },
            "type": "histogram"
           }
          ],
          "histogram2d": [
           {
            "colorbar": {
             "outlinewidth": 0,
             "ticks": ""
            },
            "colorscale": [
             [
              0,
              "#0d0887"
             ],
             [
              0.1111111111111111,
              "#46039f"
             ],
             [
              0.2222222222222222,
              "#7201a8"
             ],
             [
              0.3333333333333333,
              "#9c179e"
             ],
             [
              0.4444444444444444,
              "#bd3786"
             ],
             [
              0.5555555555555556,
              "#d8576b"
             ],
             [
              0.6666666666666666,
              "#ed7953"
             ],
             [
              0.7777777777777778,
              "#fb9f3a"
             ],
             [
              0.8888888888888888,
              "#fdca26"
             ],
             [
              1,
              "#f0f921"
             ]
            ],
            "type": "histogram2d"
           }
          ],
          "histogram2dcontour": [
           {
            "colorbar": {
             "outlinewidth": 0,
             "ticks": ""
            },
            "colorscale": [
             [
              0,
              "#0d0887"
             ],
             [
              0.1111111111111111,
              "#46039f"
             ],
             [
              0.2222222222222222,
              "#7201a8"
             ],
             [
              0.3333333333333333,
              "#9c179e"
             ],
             [
              0.4444444444444444,
              "#bd3786"
             ],
             [
              0.5555555555555556,
              "#d8576b"
             ],
             [
              0.6666666666666666,
              "#ed7953"
             ],
             [
              0.7777777777777778,
              "#fb9f3a"
             ],
             [
              0.8888888888888888,
              "#fdca26"
             ],
             [
              1,
              "#f0f921"
             ]
            ],
            "type": "histogram2dcontour"
           }
          ],
          "mesh3d": [
           {
            "colorbar": {
             "outlinewidth": 0,
             "ticks": ""
            },
            "type": "mesh3d"
           }
          ],
          "parcoords": [
           {
            "line": {
             "colorbar": {
              "outlinewidth": 0,
              "ticks": ""
             }
            },
            "type": "parcoords"
           }
          ],
          "pie": [
           {
            "automargin": true,
            "type": "pie"
           }
          ],
          "scatter": [
           {
            "fillpattern": {
             "fillmode": "overlay",
             "size": 10,
             "solidity": 0.2
            },
            "type": "scatter"
           }
          ],
          "scatter3d": [
           {
            "line": {
             "colorbar": {
              "outlinewidth": 0,
              "ticks": ""
             }
            },
            "marker": {
             "colorbar": {
              "outlinewidth": 0,
              "ticks": ""
             }
            },
            "type": "scatter3d"
           }
          ],
          "scattercarpet": [
           {
            "marker": {
             "colorbar": {
              "outlinewidth": 0,
              "ticks": ""
             }
            },
            "type": "scattercarpet"
           }
          ],
          "scattergeo": [
           {
            "marker": {
             "colorbar": {
              "outlinewidth": 0,
              "ticks": ""
             }
            },
            "type": "scattergeo"
           }
          ],
          "scattergl": [
           {
            "marker": {
             "colorbar": {
              "outlinewidth": 0,
              "ticks": ""
             }
            },
            "type": "scattergl"
           }
          ],
          "scattermapbox": [
           {
            "marker": {
             "colorbar": {
              "outlinewidth": 0,
              "ticks": ""
             }
            },
            "type": "scattermapbox"
           }
          ],
          "scatterpolar": [
           {
            "marker": {
             "colorbar": {
              "outlinewidth": 0,
              "ticks": ""
             }
            },
            "type": "scatterpolar"
           }
          ],
          "scatterpolargl": [
           {
            "marker": {
             "colorbar": {
              "outlinewidth": 0,
              "ticks": ""
             }
            },
            "type": "scatterpolargl"
           }
          ],
          "scatterternary": [
           {
            "marker": {
             "colorbar": {
              "outlinewidth": 0,
              "ticks": ""
             }
            },
            "type": "scatterternary"
           }
          ],
          "surface": [
           {
            "colorbar": {
             "outlinewidth": 0,
             "ticks": ""
            },
            "colorscale": [
             [
              0,
              "#0d0887"
             ],
             [
              0.1111111111111111,
              "#46039f"
             ],
             [
              0.2222222222222222,
              "#7201a8"
             ],
             [
              0.3333333333333333,
              "#9c179e"
             ],
             [
              0.4444444444444444,
              "#bd3786"
             ],
             [
              0.5555555555555556,
              "#d8576b"
             ],
             [
              0.6666666666666666,
              "#ed7953"
             ],
             [
              0.7777777777777778,
              "#fb9f3a"
             ],
             [
              0.8888888888888888,
              "#fdca26"
             ],
             [
              1,
              "#f0f921"
             ]
            ],
            "type": "surface"
           }
          ],
          "table": [
           {
            "cells": {
             "fill": {
              "color": "#EBF0F8"
             },
             "line": {
              "color": "white"
             }
            },
            "header": {
             "fill": {
              "color": "#C8D4E3"
             },
             "line": {
              "color": "white"
             }
            },
            "type": "table"
           }
          ]
         },
         "layout": {
          "annotationdefaults": {
           "arrowcolor": "#2a3f5f",
           "arrowhead": 0,
           "arrowwidth": 1
          },
          "autotypenumbers": "strict",
          "coloraxis": {
           "colorbar": {
            "outlinewidth": 0,
            "ticks": ""
           }
          },
          "colorscale": {
           "diverging": [
            [
             0,
             "#8e0152"
            ],
            [
             0.1,
             "#c51b7d"
            ],
            [
             0.2,
             "#de77ae"
            ],
            [
             0.3,
             "#f1b6da"
            ],
            [
             0.4,
             "#fde0ef"
            ],
            [
             0.5,
             "#f7f7f7"
            ],
            [
             0.6,
             "#e6f5d0"
            ],
            [
             0.7,
             "#b8e186"
            ],
            [
             0.8,
             "#7fbc41"
            ],
            [
             0.9,
             "#4d9221"
            ],
            [
             1,
             "#276419"
            ]
           ],
           "sequential": [
            [
             0,
             "#0d0887"
            ],
            [
             0.1111111111111111,
             "#46039f"
            ],
            [
             0.2222222222222222,
             "#7201a8"
            ],
            [
             0.3333333333333333,
             "#9c179e"
            ],
            [
             0.4444444444444444,
             "#bd3786"
            ],
            [
             0.5555555555555556,
             "#d8576b"
            ],
            [
             0.6666666666666666,
             "#ed7953"
            ],
            [
             0.7777777777777778,
             "#fb9f3a"
            ],
            [
             0.8888888888888888,
             "#fdca26"
            ],
            [
             1,
             "#f0f921"
            ]
           ],
           "sequentialminus": [
            [
             0,
             "#0d0887"
            ],
            [
             0.1111111111111111,
             "#46039f"
            ],
            [
             0.2222222222222222,
             "#7201a8"
            ],
            [
             0.3333333333333333,
             "#9c179e"
            ],
            [
             0.4444444444444444,
             "#bd3786"
            ],
            [
             0.5555555555555556,
             "#d8576b"
            ],
            [
             0.6666666666666666,
             "#ed7953"
            ],
            [
             0.7777777777777778,
             "#fb9f3a"
            ],
            [
             0.8888888888888888,
             "#fdca26"
            ],
            [
             1,
             "#f0f921"
            ]
           ]
          },
          "colorway": [
           "#636efa",
           "#EF553B",
           "#00cc96",
           "#ab63fa",
           "#FFA15A",
           "#19d3f3",
           "#FF6692",
           "#B6E880",
           "#FF97FF",
           "#FECB52"
          ],
          "font": {
           "color": "#2a3f5f"
          },
          "geo": {
           "bgcolor": "white",
           "lakecolor": "white",
           "landcolor": "#E5ECF6",
           "showlakes": true,
           "showland": true,
           "subunitcolor": "white"
          },
          "hoverlabel": {
           "align": "left"
          },
          "hovermode": "closest",
          "mapbox": {
           "style": "light"
          },
          "paper_bgcolor": "white",
          "plot_bgcolor": "#E5ECF6",
          "polar": {
           "angularaxis": {
            "gridcolor": "white",
            "linecolor": "white",
            "ticks": ""
           },
           "bgcolor": "#E5ECF6",
           "radialaxis": {
            "gridcolor": "white",
            "linecolor": "white",
            "ticks": ""
           }
          },
          "scene": {
           "xaxis": {
            "backgroundcolor": "#E5ECF6",
            "gridcolor": "white",
            "gridwidth": 2,
            "linecolor": "white",
            "showbackground": true,
            "ticks": "",
            "zerolinecolor": "white"
           },
           "yaxis": {
            "backgroundcolor": "#E5ECF6",
            "gridcolor": "white",
            "gridwidth": 2,
            "linecolor": "white",
            "showbackground": true,
            "ticks": "",
            "zerolinecolor": "white"
           },
           "zaxis": {
            "backgroundcolor": "#E5ECF6",
            "gridcolor": "white",
            "gridwidth": 2,
            "linecolor": "white",
            "showbackground": true,
            "ticks": "",
            "zerolinecolor": "white"
           }
          },
          "shapedefaults": {
           "line": {
            "color": "#2a3f5f"
           }
          },
          "ternary": {
           "aaxis": {
            "gridcolor": "white",
            "linecolor": "white",
            "ticks": ""
           },
           "baxis": {
            "gridcolor": "white",
            "linecolor": "white",
            "ticks": ""
           },
           "bgcolor": "#E5ECF6",
           "caxis": {
            "gridcolor": "white",
            "linecolor": "white",
            "ticks": ""
           }
          },
          "title": {
           "x": 0.05
          },
          "xaxis": {
           "automargin": true,
           "gridcolor": "white",
           "linecolor": "white",
           "ticks": "",
           "title": {
            "standoff": 15
           },
           "zerolinecolor": "white",
           "zerolinewidth": 2
          },
          "yaxis": {
           "automargin": true,
           "gridcolor": "white",
           "linecolor": "white",
           "ticks": "",
           "title": {
            "standoff": 15
           },
           "zerolinecolor": "white",
           "zerolinewidth": 2
          }
         }
        },
        "title": {
         "text": "Most common damage types for each car model",
         "x": 0.5
        },
        "xaxis": {
         "anchor": "y",
         "domain": [
          0,
          1
         ],
         "title": {
          "text": "Car Model"
         }
        },
        "yaxis": {
         "anchor": "x",
         "domain": [
          0,
          1
         ],
         "title": {
          "text": "Damage Frequency"
         }
        }
       }
      },
      "text/html": [
       "<div>                            <div id=\"27e89cea-86b6-4f97-860e-b380a4888106\" class=\"plotly-graph-div\" style=\"height:525px; width:100%;\"></div>            <script type=\"text/javascript\">                require([\"plotly\"], function(Plotly) {                    window.PLOTLYENV=window.PLOTLYENV || {};                                    if (document.getElementById(\"27e89cea-86b6-4f97-860e-b380a4888106\")) {                    Plotly.newPlot(                        \"27e89cea-86b6-4f97-860e-b380a4888106\",                        [{\"alignmentgroup\":\"True\",\"hovertemplate\":\"Damage Type=اصلاح بودي\\u003cbr\\u003eCar Model=%{x}\\u003cbr\\u003eDamage Frequency=%{y}\\u003cextra\\u003e\\u003c\\u002fextra\\u003e\",\"legendgroup\":\"اصلاح بودي\",\"marker\":{\"color\":\"#636efa\",\"pattern\":{\"shape\":\"\"}},\"name\":\"اصلاح بودي\",\"offsetgroup\":\"اصلاح بودي\",\"orientation\":\"v\",\"showlegend\":true,\"textposition\":\"auto\",\"x\":[\"AVANZA\",\"CAMRY\",\"CERATO\",\"CITROEN\",\"COROLLA\",\"CRUZE\",\"ELANTRA\",\"FLUENCE\",\"FORTUNER\",\"H 1\",\"HILUX\",\"I 10\",\"OPTIMA\",\"PRADO\",\"RAV 4\",\"RIO\",\"SONIC\",\"SPARK\",\"TUCSAN\",\"YARIS\"],\"xaxis\":\"x\",\"y\":[16,26,31,1,28,13,19,8,19,20,5,4,3,3,1,9,5,9,3,6],\"yaxis\":\"y\",\"type\":\"bar\"},{\"alignmentgroup\":\"True\",\"hovertemplate\":\"Damage Type=اصلاح زجاج\\u003cbr\\u003eCar Model=%{x}\\u003cbr\\u003eDamage Frequency=%{y}\\u003cextra\\u003e\\u003c\\u002fextra\\u003e\",\"legendgroup\":\"اصلاح زجاج\",\"marker\":{\"color\":\"#EF553B\",\"pattern\":{\"shape\":\"\"}},\"name\":\"اصلاح زجاج\",\"offsetgroup\":\"اصلاح زجاج\",\"orientation\":\"v\",\"showlegend\":true,\"textposition\":\"auto\",\"x\":[\"AVANZA\",\"CAMRY\",\"CERATO\",\"COROLLA\",\"FLUENCE\",\"FORTUNER\",\"H 1\",\"HILUX\",\"PRADO\",\"RIO\",\"SPORTAGE\",\"TUCSAN\"],\"xaxis\":\"x\",\"y\":[1,1,6,3,1,1,2,1,1,1,2,1],\"yaxis\":\"y\",\"type\":\"bar\"},{\"alignmentgroup\":\"True\",\"hovertemplate\":\"Damage Type=اصلاح فرش\\u003cbr\\u003eCar Model=%{x}\\u003cbr\\u003eDamage Frequency=%{y}\\u003cextra\\u003e\\u003c\\u002fextra\\u003e\",\"legendgroup\":\"اصلاح فرش\",\"marker\":{\"color\":\"#00cc96\",\"pattern\":{\"shape\":\"\"}},\"name\":\"اصلاح فرش\",\"offsetgroup\":\"اصلاح فرش\",\"orientation\":\"v\",\"showlegend\":true,\"textposition\":\"auto\",\"x\":[\"CERATO\",\"COROLLA\",\"CRUZE\",\"ELANTRA\",\"FORTUNER\",\"H 1\",\"PRUIS\",\"SPORTAGE\",\"YARIS\"],\"xaxis\":\"x\",\"y\":[3,1,1,1,6,3,1,2,1],\"yaxis\":\"y\",\"type\":\"bar\"},{\"alignmentgroup\":\"True\",\"hovertemplate\":\"Damage Type=اصلاح كهرباء\\u003cbr\\u003eCar Model=%{x}\\u003cbr\\u003eDamage Frequency=%{y}\\u003cextra\\u003e\\u003c\\u002fextra\\u003e\",\"legendgroup\":\"اصلاح كهرباء\",\"marker\":{\"color\":\"#ab63fa\",\"pattern\":{\"shape\":\"\"}},\"name\":\"اصلاح كهرباء\",\"offsetgroup\":\"اصلاح كهرباء\",\"orientation\":\"v\",\"showlegend\":true,\"textposition\":\"auto\",\"x\":[\"AVANZA\",\"CAMRY\",\"CERATO\",\"COROLLA\",\"CRUZE\",\"ELANTRA\",\"FLUENCE\",\"FORTUNER\",\"H 1\",\"HILUX\",\"PRADO\",\"RIO\",\"SONIC\",\"SPARK\",\"SPORTAGE\",\"YARIS\"],\"xaxis\":\"x\",\"y\":[1,3,9,6,1,2,1,6,2,1,2,3,1,5,2,1],\"yaxis\":\"y\",\"type\":\"bar\"},{\"alignmentgroup\":\"True\",\"hovertemplate\":\"Damage Type=اصلاح كوشوك\\u003cbr\\u003eCar Model=%{x}\\u003cbr\\u003eDamage Frequency=%{y}\\u003cextra\\u003e\\u003c\\u002fextra\\u003e\",\"legendgroup\":\"اصلاح كوشوك\",\"marker\":{\"color\":\"#FFA15A\",\"pattern\":{\"shape\":\"\"}},\"name\":\"اصلاح كوشوك\",\"offsetgroup\":\"اصلاح كوشوك\",\"orientation\":\"v\",\"showlegend\":true,\"textposition\":\"auto\",\"x\":[\"CAMRY\",\"CERATO\",\"COROLLA\",\"CRUZE\",\"ELANTRA\",\"FLUENCE\",\"FORTUNER\",\"H 1\",\"HILUX\",\"I 10\",\"OPTIMA\",\"PRADO\",\"PRIUS\",\"RAV 4\",\"RIO\",\"SONIC\",\"SPARK\",\"SPORTAGE\",\"TUCSAN\",\"YARIS\"],\"xaxis\":\"x\",\"y\":[10,20,5,2,6,4,20,15,8,5,5,1,1,1,3,3,5,6,1,3],\"yaxis\":\"y\",\"type\":\"bar\"},{\"alignmentgroup\":\"True\",\"hovertemplate\":\"Damage Type=اصلاح ميكانيك\\u003cbr\\u003eCar Model=%{x}\\u003cbr\\u003eDamage Frequency=%{y}\\u003cextra\\u003e\\u003c\\u002fextra\\u003e\",\"legendgroup\":\"اصلاح ميكانيك\",\"marker\":{\"color\":\"#19d3f3\",\"pattern\":{\"shape\":\"\"}},\"name\":\"اصلاح ميكانيك\",\"offsetgroup\":\"اصلاح ميكانيك\",\"orientation\":\"v\",\"showlegend\":true,\"textposition\":\"auto\",\"x\":[\"AVANZA\",\"CAMRY\",\"CERATO\",\"COROLLA\",\"CRUZE\",\"ELANTRA\",\"FLUENCE\",\"FORTUNER\",\"H 1\",\"HILUX\",\"I 10\",\"OPTIMA\",\"PRADO\",\"PRIUS\",\"RAV 4\",\"RIO\",\"SONIC\",\"SPARK\",\"SPORTAGE\",\"TUCSAN\",\"YARIS\"],\"xaxis\":\"x\",\"y\":[18,14,46,37,16,34,18,90,27,34,14,4,4,1,3,17,13,29,24,4,19],\"yaxis\":\"y\",\"type\":\"bar\"},{\"alignmentgroup\":\"True\",\"hovertemplate\":\"Damage Type=غيار زيت\\u003cbr\\u003eCar Model=%{x}\\u003cbr\\u003eDamage Frequency=%{y}\\u003cextra\\u003e\\u003c\\u002fextra\\u003e\",\"legendgroup\":\"غيار زيت\",\"marker\":{\"color\":\"#FF6692\",\"pattern\":{\"shape\":\"\"}},\"name\":\"غيار زيت\",\"offsetgroup\":\"غيار زيت\",\"orientation\":\"v\",\"showlegend\":true,\"textposition\":\"auto\",\"x\":[\"ACCENT\",\"AVANZA\",\"CAMRY\",\"CERATO\",\"COROLLA\",\"CRUZE\",\"ELANTRA\",\"FLUENCE\",\"FORTUNER\",\"GUNSAYIL\",\"H 1\",\"HILUX\",\"I 10\",\"OPTIMA\",\"PRADO\",\"PRIUS\",\"RAV 4\",\"RIO\",\"SONIC\",\"SPARK\",\"SPORTAGE\",\"TUCSAN\",\"YARIS\"],\"xaxis\":\"x\",\"y\":[3,26,32,63,76,11,25,22,90,1,32,48,14,5,8,4,3,37,9,30,25,4,26],\"yaxis\":\"y\",\"type\":\"bar\"}],                        {\"template\":{\"data\":{\"histogram2dcontour\":[{\"type\":\"histogram2dcontour\",\"colorbar\":{\"outlinewidth\":0,\"ticks\":\"\"},\"colorscale\":[[0.0,\"#0d0887\"],[0.1111111111111111,\"#46039f\"],[0.2222222222222222,\"#7201a8\"],[0.3333333333333333,\"#9c179e\"],[0.4444444444444444,\"#bd3786\"],[0.5555555555555556,\"#d8576b\"],[0.6666666666666666,\"#ed7953\"],[0.7777777777777778,\"#fb9f3a\"],[0.8888888888888888,\"#fdca26\"],[1.0,\"#f0f921\"]]}],\"choropleth\":[{\"type\":\"choropleth\",\"colorbar\":{\"outlinewidth\":0,\"ticks\":\"\"}}],\"histogram2d\":[{\"type\":\"histogram2d\",\"colorbar\":{\"outlinewidth\":0,\"ticks\":\"\"},\"colorscale\":[[0.0,\"#0d0887\"],[0.1111111111111111,\"#46039f\"],[0.2222222222222222,\"#7201a8\"],[0.3333333333333333,\"#9c179e\"],[0.4444444444444444,\"#bd3786\"],[0.5555555555555556,\"#d8576b\"],[0.6666666666666666,\"#ed7953\"],[0.7777777777777778,\"#fb9f3a\"],[0.8888888888888888,\"#fdca26\"],[1.0,\"#f0f921\"]]}],\"heatmap\":[{\"type\":\"heatmap\",\"colorbar\":{\"outlinewidth\":0,\"ticks\":\"\"},\"colorscale\":[[0.0,\"#0d0887\"],[0.1111111111111111,\"#46039f\"],[0.2222222222222222,\"#7201a8\"],[0.3333333333333333,\"#9c179e\"],[0.4444444444444444,\"#bd3786\"],[0.5555555555555556,\"#d8576b\"],[0.6666666666666666,\"#ed7953\"],[0.7777777777777778,\"#fb9f3a\"],[0.8888888888888888,\"#fdca26\"],[1.0,\"#f0f921\"]]}],\"heatmapgl\":[{\"type\":\"heatmapgl\",\"colorbar\":{\"outlinewidth\":0,\"ticks\":\"\"},\"colorscale\":[[0.0,\"#0d0887\"],[0.1111111111111111,\"#46039f\"],[0.2222222222222222,\"#7201a8\"],[0.3333333333333333,\"#9c179e\"],[0.4444444444444444,\"#bd3786\"],[0.5555555555555556,\"#d8576b\"],[0.6666666666666666,\"#ed7953\"],[0.7777777777777778,\"#fb9f3a\"],[0.8888888888888888,\"#fdca26\"],[1.0,\"#f0f921\"]]}],\"contourcarpet\":[{\"type\":\"contourcarpet\",\"colorbar\":{\"outlinewidth\":0,\"ticks\":\"\"}}],\"contour\":[{\"type\":\"contour\",\"colorbar\":{\"outlinewidth\":0,\"ticks\":\"\"},\"colorscale\":[[0.0,\"#0d0887\"],[0.1111111111111111,\"#46039f\"],[0.2222222222222222,\"#7201a8\"],[0.3333333333333333,\"#9c179e\"],[0.4444444444444444,\"#bd3786\"],[0.5555555555555556,\"#d8576b\"],[0.6666666666666666,\"#ed7953\"],[0.7777777777777778,\"#fb9f3a\"],[0.8888888888888888,\"#fdca26\"],[1.0,\"#f0f921\"]]}],\"surface\":[{\"type\":\"surface\",\"colorbar\":{\"outlinewidth\":0,\"ticks\":\"\"},\"colorscale\":[[0.0,\"#0d0887\"],[0.1111111111111111,\"#46039f\"],[0.2222222222222222,\"#7201a8\"],[0.3333333333333333,\"#9c179e\"],[0.4444444444444444,\"#bd3786\"],[0.5555555555555556,\"#d8576b\"],[0.6666666666666666,\"#ed7953\"],[0.7777777777777778,\"#fb9f3a\"],[0.8888888888888888,\"#fdca26\"],[1.0,\"#f0f921\"]]}],\"mesh3d\":[{\"type\":\"mesh3d\",\"colorbar\":{\"outlinewidth\":0,\"ticks\":\"\"}}],\"scatter\":[{\"fillpattern\":{\"fillmode\":\"overlay\",\"size\":10,\"solidity\":0.2},\"type\":\"scatter\"}],\"parcoords\":[{\"type\":\"parcoords\",\"line\":{\"colorbar\":{\"outlinewidth\":0,\"ticks\":\"\"}}}],\"scatterpolargl\":[{\"type\":\"scatterpolargl\",\"marker\":{\"colorbar\":{\"outlinewidth\":0,\"ticks\":\"\"}}}],\"bar\":[{\"error_x\":{\"color\":\"#2a3f5f\"},\"error_y\":{\"color\":\"#2a3f5f\"},\"marker\":{\"line\":{\"color\":\"#E5ECF6\",\"width\":0.5},\"pattern\":{\"fillmode\":\"overlay\",\"size\":10,\"solidity\":0.2}},\"type\":\"bar\"}],\"scattergeo\":[{\"type\":\"scattergeo\",\"marker\":{\"colorbar\":{\"outlinewidth\":0,\"ticks\":\"\"}}}],\"scatterpolar\":[{\"type\":\"scatterpolar\",\"marker\":{\"colorbar\":{\"outlinewidth\":0,\"ticks\":\"\"}}}],\"histogram\":[{\"marker\":{\"pattern\":{\"fillmode\":\"overlay\",\"size\":10,\"solidity\":0.2}},\"type\":\"histogram\"}],\"scattergl\":[{\"type\":\"scattergl\",\"marker\":{\"colorbar\":{\"outlinewidth\":0,\"ticks\":\"\"}}}],\"scatter3d\":[{\"type\":\"scatter3d\",\"line\":{\"colorbar\":{\"outlinewidth\":0,\"ticks\":\"\"}},\"marker\":{\"colorbar\":{\"outlinewidth\":0,\"ticks\":\"\"}}}],\"scattermapbox\":[{\"type\":\"scattermapbox\",\"marker\":{\"colorbar\":{\"outlinewidth\":0,\"ticks\":\"\"}}}],\"scatterternary\":[{\"type\":\"scatterternary\",\"marker\":{\"colorbar\":{\"outlinewidth\":0,\"ticks\":\"\"}}}],\"scattercarpet\":[{\"type\":\"scattercarpet\",\"marker\":{\"colorbar\":{\"outlinewidth\":0,\"ticks\":\"\"}}}],\"carpet\":[{\"aaxis\":{\"endlinecolor\":\"#2a3f5f\",\"gridcolor\":\"white\",\"linecolor\":\"white\",\"minorgridcolor\":\"white\",\"startlinecolor\":\"#2a3f5f\"},\"baxis\":{\"endlinecolor\":\"#2a3f5f\",\"gridcolor\":\"white\",\"linecolor\":\"white\",\"minorgridcolor\":\"white\",\"startlinecolor\":\"#2a3f5f\"},\"type\":\"carpet\"}],\"table\":[{\"cells\":{\"fill\":{\"color\":\"#EBF0F8\"},\"line\":{\"color\":\"white\"}},\"header\":{\"fill\":{\"color\":\"#C8D4E3\"},\"line\":{\"color\":\"white\"}},\"type\":\"table\"}],\"barpolar\":[{\"marker\":{\"line\":{\"color\":\"#E5ECF6\",\"width\":0.5},\"pattern\":{\"fillmode\":\"overlay\",\"size\":10,\"solidity\":0.2}},\"type\":\"barpolar\"}],\"pie\":[{\"automargin\":true,\"type\":\"pie\"}]},\"layout\":{\"autotypenumbers\":\"strict\",\"colorway\":[\"#636efa\",\"#EF553B\",\"#00cc96\",\"#ab63fa\",\"#FFA15A\",\"#19d3f3\",\"#FF6692\",\"#B6E880\",\"#FF97FF\",\"#FECB52\"],\"font\":{\"color\":\"#2a3f5f\"},\"hovermode\":\"closest\",\"hoverlabel\":{\"align\":\"left\"},\"paper_bgcolor\":\"white\",\"plot_bgcolor\":\"#E5ECF6\",\"polar\":{\"bgcolor\":\"#E5ECF6\",\"angularaxis\":{\"gridcolor\":\"white\",\"linecolor\":\"white\",\"ticks\":\"\"},\"radialaxis\":{\"gridcolor\":\"white\",\"linecolor\":\"white\",\"ticks\":\"\"}},\"ternary\":{\"bgcolor\":\"#E5ECF6\",\"aaxis\":{\"gridcolor\":\"white\",\"linecolor\":\"white\",\"ticks\":\"\"},\"baxis\":{\"gridcolor\":\"white\",\"linecolor\":\"white\",\"ticks\":\"\"},\"caxis\":{\"gridcolor\":\"white\",\"linecolor\":\"white\",\"ticks\":\"\"}},\"coloraxis\":{\"colorbar\":{\"outlinewidth\":0,\"ticks\":\"\"}},\"colorscale\":{\"sequential\":[[0.0,\"#0d0887\"],[0.1111111111111111,\"#46039f\"],[0.2222222222222222,\"#7201a8\"],[0.3333333333333333,\"#9c179e\"],[0.4444444444444444,\"#bd3786\"],[0.5555555555555556,\"#d8576b\"],[0.6666666666666666,\"#ed7953\"],[0.7777777777777778,\"#fb9f3a\"],[0.8888888888888888,\"#fdca26\"],[1.0,\"#f0f921\"]],\"sequentialminus\":[[0.0,\"#0d0887\"],[0.1111111111111111,\"#46039f\"],[0.2222222222222222,\"#7201a8\"],[0.3333333333333333,\"#9c179e\"],[0.4444444444444444,\"#bd3786\"],[0.5555555555555556,\"#d8576b\"],[0.6666666666666666,\"#ed7953\"],[0.7777777777777778,\"#fb9f3a\"],[0.8888888888888888,\"#fdca26\"],[1.0,\"#f0f921\"]],\"diverging\":[[0,\"#8e0152\"],[0.1,\"#c51b7d\"],[0.2,\"#de77ae\"],[0.3,\"#f1b6da\"],[0.4,\"#fde0ef\"],[0.5,\"#f7f7f7\"],[0.6,\"#e6f5d0\"],[0.7,\"#b8e186\"],[0.8,\"#7fbc41\"],[0.9,\"#4d9221\"],[1,\"#276419\"]]},\"xaxis\":{\"gridcolor\":\"white\",\"linecolor\":\"white\",\"ticks\":\"\",\"title\":{\"standoff\":15},\"zerolinecolor\":\"white\",\"automargin\":true,\"zerolinewidth\":2},\"yaxis\":{\"gridcolor\":\"white\",\"linecolor\":\"white\",\"ticks\":\"\",\"title\":{\"standoff\":15},\"zerolinecolor\":\"white\",\"automargin\":true,\"zerolinewidth\":2},\"scene\":{\"xaxis\":{\"backgroundcolor\":\"#E5ECF6\",\"gridcolor\":\"white\",\"linecolor\":\"white\",\"showbackground\":true,\"ticks\":\"\",\"zerolinecolor\":\"white\",\"gridwidth\":2},\"yaxis\":{\"backgroundcolor\":\"#E5ECF6\",\"gridcolor\":\"white\",\"linecolor\":\"white\",\"showbackground\":true,\"ticks\":\"\",\"zerolinecolor\":\"white\",\"gridwidth\":2},\"zaxis\":{\"backgroundcolor\":\"#E5ECF6\",\"gridcolor\":\"white\",\"linecolor\":\"white\",\"showbackground\":true,\"ticks\":\"\",\"zerolinecolor\":\"white\",\"gridwidth\":2}},\"shapedefaults\":{\"line\":{\"color\":\"#2a3f5f\"}},\"annotationdefaults\":{\"arrowcolor\":\"#2a3f5f\",\"arrowhead\":0,\"arrowwidth\":1},\"geo\":{\"bgcolor\":\"white\",\"landcolor\":\"#E5ECF6\",\"subunitcolor\":\"white\",\"showland\":true,\"showlakes\":true,\"lakecolor\":\"white\"},\"title\":{\"x\":0.05},\"mapbox\":{\"style\":\"light\"}}},\"xaxis\":{\"anchor\":\"y\",\"domain\":[0.0,1.0],\"title\":{\"text\":\"Car Model\"}},\"yaxis\":{\"anchor\":\"x\",\"domain\":[0.0,1.0],\"title\":{\"text\":\"Damage Frequency\"}},\"legend\":{\"title\":{\"text\":\"Damage Type\"},\"tracegroupgap\":0},\"title\":{\"text\":\"Most common damage types for each car model\",\"x\":0.5},\"barmode\":\"stack\"},                        {\"responsive\": true}                    ).then(function(){\n",
       "                            \n",
       "var gd = document.getElementById('27e89cea-86b6-4f97-860e-b380a4888106');\n",
       "var x = new MutationObserver(function (mutations, observer) {{\n",
       "        var display = window.getComputedStyle(gd).display;\n",
       "        if (!display || display === 'none') {{\n",
       "            console.log([gd, 'removed!']);\n",
       "            Plotly.purge(gd);\n",
       "            observer.disconnect();\n",
       "        }}\n",
       "}});\n",
       "\n",
       "// Listen for the removal of the full notebook cells\n",
       "var notebookContainer = gd.closest('#notebook-container');\n",
       "if (notebookContainer) {{\n",
       "    x.observe(notebookContainer, {childList: true});\n",
       "}}\n",
       "\n",
       "// Listen for the clearing of the current output cell\n",
       "var outputEl = gd.closest('.output');\n",
       "if (outputEl) {{\n",
       "    x.observe(outputEl, {childList: true});\n",
       "}}\n",
       "\n",
       "                        })                };                });            </script>        </div>"
      ]
     },
     "metadata": {},
     "output_type": "display_data"
    },
    {
     "data": {
      "application/vnd.plotly.v1+json": {
       "config": {
        "plotlyServerURL": "https://plot.ly"
       },
       "data": [
        {
         "alignmentgroup": "True",
         "hovertemplate": "Damage Type=اصلاح بودي<br>Car Model=%{x}<br>Damage Frequency=%{y}<extra></extra>",
         "legendgroup": "اصلاح بودي",
         "marker": {
          "color": "#636efa",
          "pattern": {
           "shape": ""
          }
         },
         "name": "اصلاح بودي",
         "offsetgroup": "اصلاح بودي",
         "orientation": "v",
         "showlegend": true,
         "textposition": "auto",
         "type": "bar",
         "x": [
          "AVANZA",
          "CAMRY",
          "CERATO",
          "CITROEN",
          "COROLLA",
          "CRUZE",
          "ELANTRA",
          "FLUENCE",
          "FORTUNER",
          "H 1",
          "HILUX",
          "I 10",
          "OPTIMA",
          "PRADO",
          "RAV 4",
          "RIO",
          "SONIC",
          "SPARK",
          "TUCSAN",
          "YARIS"
         ],
         "xaxis": "x",
         "y": [
          16,
          26,
          31,
          1,
          28,
          13,
          19,
          8,
          19,
          20,
          5,
          4,
          3,
          3,
          1,
          9,
          5,
          9,
          3,
          6
         ],
         "yaxis": "y"
        },
        {
         "alignmentgroup": "True",
         "hovertemplate": "Damage Type=اصلاح زجاج<br>Car Model=%{x}<br>Damage Frequency=%{y}<extra></extra>",
         "legendgroup": "اصلاح زجاج",
         "marker": {
          "color": "#EF553B",
          "pattern": {
           "shape": ""
          }
         },
         "name": "اصلاح زجاج",
         "offsetgroup": "اصلاح زجاج",
         "orientation": "v",
         "showlegend": true,
         "textposition": "auto",
         "type": "bar",
         "x": [
          "AVANZA",
          "CAMRY",
          "CERATO",
          "COROLLA",
          "FLUENCE",
          "FORTUNER",
          "H 1",
          "HILUX",
          "PRADO",
          "RIO",
          "SPORTAGE",
          "TUCSAN"
         ],
         "xaxis": "x",
         "y": [
          1,
          1,
          6,
          3,
          1,
          1,
          2,
          1,
          1,
          1,
          2,
          1
         ],
         "yaxis": "y"
        },
        {
         "alignmentgroup": "True",
         "hovertemplate": "Damage Type=اصلاح فرش<br>Car Model=%{x}<br>Damage Frequency=%{y}<extra></extra>",
         "legendgroup": "اصلاح فرش",
         "marker": {
          "color": "#00cc96",
          "pattern": {
           "shape": ""
          }
         },
         "name": "اصلاح فرش",
         "offsetgroup": "اصلاح فرش",
         "orientation": "v",
         "showlegend": true,
         "textposition": "auto",
         "type": "bar",
         "x": [
          "CERATO",
          "COROLLA",
          "CRUZE",
          "ELANTRA",
          "FORTUNER",
          "H 1",
          "PRUIS",
          "SPORTAGE",
          "YARIS"
         ],
         "xaxis": "x",
         "y": [
          3,
          1,
          1,
          1,
          6,
          3,
          1,
          2,
          1
         ],
         "yaxis": "y"
        },
        {
         "alignmentgroup": "True",
         "hovertemplate": "Damage Type=اصلاح كهرباء<br>Car Model=%{x}<br>Damage Frequency=%{y}<extra></extra>",
         "legendgroup": "اصلاح كهرباء",
         "marker": {
          "color": "#ab63fa",
          "pattern": {
           "shape": ""
          }
         },
         "name": "اصلاح كهرباء",
         "offsetgroup": "اصلاح كهرباء",
         "orientation": "v",
         "showlegend": true,
         "textposition": "auto",
         "type": "bar",
         "x": [
          "AVANZA",
          "CAMRY",
          "CERATO",
          "COROLLA",
          "CRUZE",
          "ELANTRA",
          "FLUENCE",
          "FORTUNER",
          "H 1",
          "HILUX",
          "PRADO",
          "RIO",
          "SONIC",
          "SPARK",
          "SPORTAGE",
          "YARIS"
         ],
         "xaxis": "x",
         "y": [
          1,
          3,
          9,
          6,
          1,
          2,
          1,
          6,
          2,
          1,
          2,
          3,
          1,
          5,
          2,
          1
         ],
         "yaxis": "y"
        },
        {
         "alignmentgroup": "True",
         "hovertemplate": "Damage Type=اصلاح كوشوك<br>Car Model=%{x}<br>Damage Frequency=%{y}<extra></extra>",
         "legendgroup": "اصلاح كوشوك",
         "marker": {
          "color": "#FFA15A",
          "pattern": {
           "shape": ""
          }
         },
         "name": "اصلاح كوشوك",
         "offsetgroup": "اصلاح كوشوك",
         "orientation": "v",
         "showlegend": true,
         "textposition": "auto",
         "type": "bar",
         "x": [
          "CAMRY",
          "CERATO",
          "COROLLA",
          "CRUZE",
          "ELANTRA",
          "FLUENCE",
          "FORTUNER",
          "H 1",
          "HILUX",
          "I 10",
          "OPTIMA",
          "PRADO",
          "PRIUS",
          "RAV 4",
          "RIO",
          "SONIC",
          "SPARK",
          "SPORTAGE",
          "TUCSAN",
          "YARIS"
         ],
         "xaxis": "x",
         "y": [
          10,
          20,
          5,
          2,
          6,
          4,
          20,
          15,
          8,
          5,
          5,
          1,
          1,
          1,
          3,
          3,
          5,
          6,
          1,
          3
         ],
         "yaxis": "y"
        },
        {
         "alignmentgroup": "True",
         "hovertemplate": "Damage Type=اصلاح ميكانيك<br>Car Model=%{x}<br>Damage Frequency=%{y}<extra></extra>",
         "legendgroup": "اصلاح ميكانيك",
         "marker": {
          "color": "#19d3f3",
          "pattern": {
           "shape": ""
          }
         },
         "name": "اصلاح ميكانيك",
         "offsetgroup": "اصلاح ميكانيك",
         "orientation": "v",
         "showlegend": true,
         "textposition": "auto",
         "type": "bar",
         "x": [
          "AVANZA",
          "CAMRY",
          "CERATO",
          "COROLLA",
          "CRUZE",
          "ELANTRA",
          "FLUENCE",
          "FORTUNER",
          "H 1",
          "HILUX",
          "I 10",
          "OPTIMA",
          "PRADO",
          "PRIUS",
          "RAV 4",
          "RIO",
          "SONIC",
          "SPARK",
          "SPORTAGE",
          "TUCSAN",
          "YARIS"
         ],
         "xaxis": "x",
         "y": [
          18,
          14,
          46,
          37,
          16,
          34,
          18,
          90,
          27,
          34,
          14,
          4,
          4,
          1,
          3,
          17,
          13,
          29,
          24,
          4,
          19
         ],
         "yaxis": "y"
        },
        {
         "alignmentgroup": "True",
         "hovertemplate": "Damage Type=غيار زيت<br>Car Model=%{x}<br>Damage Frequency=%{y}<extra></extra>",
         "legendgroup": "غيار زيت",
         "marker": {
          "color": "#FF6692",
          "pattern": {
           "shape": ""
          }
         },
         "name": "غيار زيت",
         "offsetgroup": "غيار زيت",
         "orientation": "v",
         "showlegend": true,
         "textposition": "auto",
         "type": "bar",
         "x": [
          "ACCENT",
          "AVANZA",
          "CAMRY",
          "CERATO",
          "COROLLA",
          "CRUZE",
          "ELANTRA",
          "FLUENCE",
          "FORTUNER",
          "GUNSAYIL",
          "H 1",
          "HILUX",
          "I 10",
          "OPTIMA",
          "PRADO",
          "PRIUS",
          "RAV 4",
          "RIO",
          "SONIC",
          "SPARK",
          "SPORTAGE",
          "TUCSAN",
          "YARIS"
         ],
         "xaxis": "x",
         "y": [
          3,
          26,
          32,
          63,
          76,
          11,
          25,
          22,
          90,
          1,
          32,
          48,
          14,
          5,
          8,
          4,
          3,
          37,
          9,
          30,
          25,
          4,
          26
         ],
         "yaxis": "y"
        }
       ],
       "layout": {
        "barmode": "group",
        "legend": {
         "title": {
          "text": "Damage Type"
         },
         "tracegroupgap": 0
        },
        "template": {
         "data": {
          "bar": [
           {
            "error_x": {
             "color": "#2a3f5f"
            },
            "error_y": {
             "color": "#2a3f5f"
            },
            "marker": {
             "line": {
              "color": "#E5ECF6",
              "width": 0.5
             },
             "pattern": {
              "fillmode": "overlay",
              "size": 10,
              "solidity": 0.2
             }
            },
            "type": "bar"
           }
          ],
          "barpolar": [
           {
            "marker": {
             "line": {
              "color": "#E5ECF6",
              "width": 0.5
             },
             "pattern": {
              "fillmode": "overlay",
              "size": 10,
              "solidity": 0.2
             }
            },
            "type": "barpolar"
           }
          ],
          "carpet": [
           {
            "aaxis": {
             "endlinecolor": "#2a3f5f",
             "gridcolor": "white",
             "linecolor": "white",
             "minorgridcolor": "white",
             "startlinecolor": "#2a3f5f"
            },
            "baxis": {
             "endlinecolor": "#2a3f5f",
             "gridcolor": "white",
             "linecolor": "white",
             "minorgridcolor": "white",
             "startlinecolor": "#2a3f5f"
            },
            "type": "carpet"
           }
          ],
          "choropleth": [
           {
            "colorbar": {
             "outlinewidth": 0,
             "ticks": ""
            },
            "type": "choropleth"
           }
          ],
          "contour": [
           {
            "colorbar": {
             "outlinewidth": 0,
             "ticks": ""
            },
            "colorscale": [
             [
              0,
              "#0d0887"
             ],
             [
              0.1111111111111111,
              "#46039f"
             ],
             [
              0.2222222222222222,
              "#7201a8"
             ],
             [
              0.3333333333333333,
              "#9c179e"
             ],
             [
              0.4444444444444444,
              "#bd3786"
             ],
             [
              0.5555555555555556,
              "#d8576b"
             ],
             [
              0.6666666666666666,
              "#ed7953"
             ],
             [
              0.7777777777777778,
              "#fb9f3a"
             ],
             [
              0.8888888888888888,
              "#fdca26"
             ],
             [
              1,
              "#f0f921"
             ]
            ],
            "type": "contour"
           }
          ],
          "contourcarpet": [
           {
            "colorbar": {
             "outlinewidth": 0,
             "ticks": ""
            },
            "type": "contourcarpet"
           }
          ],
          "heatmap": [
           {
            "colorbar": {
             "outlinewidth": 0,
             "ticks": ""
            },
            "colorscale": [
             [
              0,
              "#0d0887"
             ],
             [
              0.1111111111111111,
              "#46039f"
             ],
             [
              0.2222222222222222,
              "#7201a8"
             ],
             [
              0.3333333333333333,
              "#9c179e"
             ],
             [
              0.4444444444444444,
              "#bd3786"
             ],
             [
              0.5555555555555556,
              "#d8576b"
             ],
             [
              0.6666666666666666,
              "#ed7953"
             ],
             [
              0.7777777777777778,
              "#fb9f3a"
             ],
             [
              0.8888888888888888,
              "#fdca26"
             ],
             [
              1,
              "#f0f921"
             ]
            ],
            "type": "heatmap"
           }
          ],
          "heatmapgl": [
           {
            "colorbar": {
             "outlinewidth": 0,
             "ticks": ""
            },
            "colorscale": [
             [
              0,
              "#0d0887"
             ],
             [
              0.1111111111111111,
              "#46039f"
             ],
             [
              0.2222222222222222,
              "#7201a8"
             ],
             [
              0.3333333333333333,
              "#9c179e"
             ],
             [
              0.4444444444444444,
              "#bd3786"
             ],
             [
              0.5555555555555556,
              "#d8576b"
             ],
             [
              0.6666666666666666,
              "#ed7953"
             ],
             [
              0.7777777777777778,
              "#fb9f3a"
             ],
             [
              0.8888888888888888,
              "#fdca26"
             ],
             [
              1,
              "#f0f921"
             ]
            ],
            "type": "heatmapgl"
           }
          ],
          "histogram": [
           {
            "marker": {
             "pattern": {
              "fillmode": "overlay",
              "size": 10,
              "solidity": 0.2
             }
            },
            "type": "histogram"
           }
          ],
          "histogram2d": [
           {
            "colorbar": {
             "outlinewidth": 0,
             "ticks": ""
            },
            "colorscale": [
             [
              0,
              "#0d0887"
             ],
             [
              0.1111111111111111,
              "#46039f"
             ],
             [
              0.2222222222222222,
              "#7201a8"
             ],
             [
              0.3333333333333333,
              "#9c179e"
             ],
             [
              0.4444444444444444,
              "#bd3786"
             ],
             [
              0.5555555555555556,
              "#d8576b"
             ],
             [
              0.6666666666666666,
              "#ed7953"
             ],
             [
              0.7777777777777778,
              "#fb9f3a"
             ],
             [
              0.8888888888888888,
              "#fdca26"
             ],
             [
              1,
              "#f0f921"
             ]
            ],
            "type": "histogram2d"
           }
          ],
          "histogram2dcontour": [
           {
            "colorbar": {
             "outlinewidth": 0,
             "ticks": ""
            },
            "colorscale": [
             [
              0,
              "#0d0887"
             ],
             [
              0.1111111111111111,
              "#46039f"
             ],
             [
              0.2222222222222222,
              "#7201a8"
             ],
             [
              0.3333333333333333,
              "#9c179e"
             ],
             [
              0.4444444444444444,
              "#bd3786"
             ],
             [
              0.5555555555555556,
              "#d8576b"
             ],
             [
              0.6666666666666666,
              "#ed7953"
             ],
             [
              0.7777777777777778,
              "#fb9f3a"
             ],
             [
              0.8888888888888888,
              "#fdca26"
             ],
             [
              1,
              "#f0f921"
             ]
            ],
            "type": "histogram2dcontour"
           }
          ],
          "mesh3d": [
           {
            "colorbar": {
             "outlinewidth": 0,
             "ticks": ""
            },
            "type": "mesh3d"
           }
          ],
          "parcoords": [
           {
            "line": {
             "colorbar": {
              "outlinewidth": 0,
              "ticks": ""
             }
            },
            "type": "parcoords"
           }
          ],
          "pie": [
           {
            "automargin": true,
            "type": "pie"
           }
          ],
          "scatter": [
           {
            "fillpattern": {
             "fillmode": "overlay",
             "size": 10,
             "solidity": 0.2
            },
            "type": "scatter"
           }
          ],
          "scatter3d": [
           {
            "line": {
             "colorbar": {
              "outlinewidth": 0,
              "ticks": ""
             }
            },
            "marker": {
             "colorbar": {
              "outlinewidth": 0,
              "ticks": ""
             }
            },
            "type": "scatter3d"
           }
          ],
          "scattercarpet": [
           {
            "marker": {
             "colorbar": {
              "outlinewidth": 0,
              "ticks": ""
             }
            },
            "type": "scattercarpet"
           }
          ],
          "scattergeo": [
           {
            "marker": {
             "colorbar": {
              "outlinewidth": 0,
              "ticks": ""
             }
            },
            "type": "scattergeo"
           }
          ],
          "scattergl": [
           {
            "marker": {
             "colorbar": {
              "outlinewidth": 0,
              "ticks": ""
             }
            },
            "type": "scattergl"
           }
          ],
          "scattermapbox": [
           {
            "marker": {
             "colorbar": {
              "outlinewidth": 0,
              "ticks": ""
             }
            },
            "type": "scattermapbox"
           }
          ],
          "scatterpolar": [
           {
            "marker": {
             "colorbar": {
              "outlinewidth": 0,
              "ticks": ""
             }
            },
            "type": "scatterpolar"
           }
          ],
          "scatterpolargl": [
           {
            "marker": {
             "colorbar": {
              "outlinewidth": 0,
              "ticks": ""
             }
            },
            "type": "scatterpolargl"
           }
          ],
          "scatterternary": [
           {
            "marker": {
             "colorbar": {
              "outlinewidth": 0,
              "ticks": ""
             }
            },
            "type": "scatterternary"
           }
          ],
          "surface": [
           {
            "colorbar": {
             "outlinewidth": 0,
             "ticks": ""
            },
            "colorscale": [
             [
              0,
              "#0d0887"
             ],
             [
              0.1111111111111111,
              "#46039f"
             ],
             [
              0.2222222222222222,
              "#7201a8"
             ],
             [
              0.3333333333333333,
              "#9c179e"
             ],
             [
              0.4444444444444444,
              "#bd3786"
             ],
             [
              0.5555555555555556,
              "#d8576b"
             ],
             [
              0.6666666666666666,
              "#ed7953"
             ],
             [
              0.7777777777777778,
              "#fb9f3a"
             ],
             [
              0.8888888888888888,
              "#fdca26"
             ],
             [
              1,
              "#f0f921"
             ]
            ],
            "type": "surface"
           }
          ],
          "table": [
           {
            "cells": {
             "fill": {
              "color": "#EBF0F8"
             },
             "line": {
              "color": "white"
             }
            },
            "header": {
             "fill": {
              "color": "#C8D4E3"
             },
             "line": {
              "color": "white"
             }
            },
            "type": "table"
           }
          ]
         },
         "layout": {
          "annotationdefaults": {
           "arrowcolor": "#2a3f5f",
           "arrowhead": 0,
           "arrowwidth": 1
          },
          "autotypenumbers": "strict",
          "coloraxis": {
           "colorbar": {
            "outlinewidth": 0,
            "ticks": ""
           }
          },
          "colorscale": {
           "diverging": [
            [
             0,
             "#8e0152"
            ],
            [
             0.1,
             "#c51b7d"
            ],
            [
             0.2,
             "#de77ae"
            ],
            [
             0.3,
             "#f1b6da"
            ],
            [
             0.4,
             "#fde0ef"
            ],
            [
             0.5,
             "#f7f7f7"
            ],
            [
             0.6,
             "#e6f5d0"
            ],
            [
             0.7,
             "#b8e186"
            ],
            [
             0.8,
             "#7fbc41"
            ],
            [
             0.9,
             "#4d9221"
            ],
            [
             1,
             "#276419"
            ]
           ],
           "sequential": [
            [
             0,
             "#0d0887"
            ],
            [
             0.1111111111111111,
             "#46039f"
            ],
            [
             0.2222222222222222,
             "#7201a8"
            ],
            [
             0.3333333333333333,
             "#9c179e"
            ],
            [
             0.4444444444444444,
             "#bd3786"
            ],
            [
             0.5555555555555556,
             "#d8576b"
            ],
            [
             0.6666666666666666,
             "#ed7953"
            ],
            [
             0.7777777777777778,
             "#fb9f3a"
            ],
            [
             0.8888888888888888,
             "#fdca26"
            ],
            [
             1,
             "#f0f921"
            ]
           ],
           "sequentialminus": [
            [
             0,
             "#0d0887"
            ],
            [
             0.1111111111111111,
             "#46039f"
            ],
            [
             0.2222222222222222,
             "#7201a8"
            ],
            [
             0.3333333333333333,
             "#9c179e"
            ],
            [
             0.4444444444444444,
             "#bd3786"
            ],
            [
             0.5555555555555556,
             "#d8576b"
            ],
            [
             0.6666666666666666,
             "#ed7953"
            ],
            [
             0.7777777777777778,
             "#fb9f3a"
            ],
            [
             0.8888888888888888,
             "#fdca26"
            ],
            [
             1,
             "#f0f921"
            ]
           ]
          },
          "colorway": [
           "#636efa",
           "#EF553B",
           "#00cc96",
           "#ab63fa",
           "#FFA15A",
           "#19d3f3",
           "#FF6692",
           "#B6E880",
           "#FF97FF",
           "#FECB52"
          ],
          "font": {
           "color": "#2a3f5f"
          },
          "geo": {
           "bgcolor": "white",
           "lakecolor": "white",
           "landcolor": "#E5ECF6",
           "showlakes": true,
           "showland": true,
           "subunitcolor": "white"
          },
          "hoverlabel": {
           "align": "left"
          },
          "hovermode": "closest",
          "mapbox": {
           "style": "light"
          },
          "paper_bgcolor": "white",
          "plot_bgcolor": "#E5ECF6",
          "polar": {
           "angularaxis": {
            "gridcolor": "white",
            "linecolor": "white",
            "ticks": ""
           },
           "bgcolor": "#E5ECF6",
           "radialaxis": {
            "gridcolor": "white",
            "linecolor": "white",
            "ticks": ""
           }
          },
          "scene": {
           "xaxis": {
            "backgroundcolor": "#E5ECF6",
            "gridcolor": "white",
            "gridwidth": 2,
            "linecolor": "white",
            "showbackground": true,
            "ticks": "",
            "zerolinecolor": "white"
           },
           "yaxis": {
            "backgroundcolor": "#E5ECF6",
            "gridcolor": "white",
            "gridwidth": 2,
            "linecolor": "white",
            "showbackground": true,
            "ticks": "",
            "zerolinecolor": "white"
           },
           "zaxis": {
            "backgroundcolor": "#E5ECF6",
            "gridcolor": "white",
            "gridwidth": 2,
            "linecolor": "white",
            "showbackground": true,
            "ticks": "",
            "zerolinecolor": "white"
           }
          },
          "shapedefaults": {
           "line": {
            "color": "#2a3f5f"
           }
          },
          "ternary": {
           "aaxis": {
            "gridcolor": "white",
            "linecolor": "white",
            "ticks": ""
           },
           "baxis": {
            "gridcolor": "white",
            "linecolor": "white",
            "ticks": ""
           },
           "bgcolor": "#E5ECF6",
           "caxis": {
            "gridcolor": "white",
            "linecolor": "white",
            "ticks": ""
           }
          },
          "title": {
           "x": 0.05
          },
          "xaxis": {
           "automargin": true,
           "gridcolor": "white",
           "linecolor": "white",
           "ticks": "",
           "title": {
            "standoff": 15
           },
           "zerolinecolor": "white",
           "zerolinewidth": 2
          },
          "yaxis": {
           "automargin": true,
           "gridcolor": "white",
           "linecolor": "white",
           "ticks": "",
           "title": {
            "standoff": 15
           },
           "zerolinecolor": "white",
           "zerolinewidth": 2
          }
         }
        },
        "title": {
         "text": "Most common damage types for each car model",
         "x": 0.5
        },
        "xaxis": {
         "anchor": "y",
         "domain": [
          0,
          1
         ],
         "title": {
          "text": "Car Model"
         }
        },
        "yaxis": {
         "anchor": "x",
         "domain": [
          0,
          1
         ],
         "title": {
          "text": "Damage Frequency"
         }
        }
       }
      },
      "text/html": [
       "<div>                            <div id=\"3df35979-8c6c-4f04-a938-b2ddbb267308\" class=\"plotly-graph-div\" style=\"height:525px; width:100%;\"></div>            <script type=\"text/javascript\">                require([\"plotly\"], function(Plotly) {                    window.PLOTLYENV=window.PLOTLYENV || {};                                    if (document.getElementById(\"3df35979-8c6c-4f04-a938-b2ddbb267308\")) {                    Plotly.newPlot(                        \"3df35979-8c6c-4f04-a938-b2ddbb267308\",                        [{\"alignmentgroup\":\"True\",\"hovertemplate\":\"Damage Type=اصلاح بودي\\u003cbr\\u003eCar Model=%{x}\\u003cbr\\u003eDamage Frequency=%{y}\\u003cextra\\u003e\\u003c\\u002fextra\\u003e\",\"legendgroup\":\"اصلاح بودي\",\"marker\":{\"color\":\"#636efa\",\"pattern\":{\"shape\":\"\"}},\"name\":\"اصلاح بودي\",\"offsetgroup\":\"اصلاح بودي\",\"orientation\":\"v\",\"showlegend\":true,\"textposition\":\"auto\",\"x\":[\"AVANZA\",\"CAMRY\",\"CERATO\",\"CITROEN\",\"COROLLA\",\"CRUZE\",\"ELANTRA\",\"FLUENCE\",\"FORTUNER\",\"H 1\",\"HILUX\",\"I 10\",\"OPTIMA\",\"PRADO\",\"RAV 4\",\"RIO\",\"SONIC\",\"SPARK\",\"TUCSAN\",\"YARIS\"],\"xaxis\":\"x\",\"y\":[16,26,31,1,28,13,19,8,19,20,5,4,3,3,1,9,5,9,3,6],\"yaxis\":\"y\",\"type\":\"bar\"},{\"alignmentgroup\":\"True\",\"hovertemplate\":\"Damage Type=اصلاح زجاج\\u003cbr\\u003eCar Model=%{x}\\u003cbr\\u003eDamage Frequency=%{y}\\u003cextra\\u003e\\u003c\\u002fextra\\u003e\",\"legendgroup\":\"اصلاح زجاج\",\"marker\":{\"color\":\"#EF553B\",\"pattern\":{\"shape\":\"\"}},\"name\":\"اصلاح زجاج\",\"offsetgroup\":\"اصلاح زجاج\",\"orientation\":\"v\",\"showlegend\":true,\"textposition\":\"auto\",\"x\":[\"AVANZA\",\"CAMRY\",\"CERATO\",\"COROLLA\",\"FLUENCE\",\"FORTUNER\",\"H 1\",\"HILUX\",\"PRADO\",\"RIO\",\"SPORTAGE\",\"TUCSAN\"],\"xaxis\":\"x\",\"y\":[1,1,6,3,1,1,2,1,1,1,2,1],\"yaxis\":\"y\",\"type\":\"bar\"},{\"alignmentgroup\":\"True\",\"hovertemplate\":\"Damage Type=اصلاح فرش\\u003cbr\\u003eCar Model=%{x}\\u003cbr\\u003eDamage Frequency=%{y}\\u003cextra\\u003e\\u003c\\u002fextra\\u003e\",\"legendgroup\":\"اصلاح فرش\",\"marker\":{\"color\":\"#00cc96\",\"pattern\":{\"shape\":\"\"}},\"name\":\"اصلاح فرش\",\"offsetgroup\":\"اصلاح فرش\",\"orientation\":\"v\",\"showlegend\":true,\"textposition\":\"auto\",\"x\":[\"CERATO\",\"COROLLA\",\"CRUZE\",\"ELANTRA\",\"FORTUNER\",\"H 1\",\"PRUIS\",\"SPORTAGE\",\"YARIS\"],\"xaxis\":\"x\",\"y\":[3,1,1,1,6,3,1,2,1],\"yaxis\":\"y\",\"type\":\"bar\"},{\"alignmentgroup\":\"True\",\"hovertemplate\":\"Damage Type=اصلاح كهرباء\\u003cbr\\u003eCar Model=%{x}\\u003cbr\\u003eDamage Frequency=%{y}\\u003cextra\\u003e\\u003c\\u002fextra\\u003e\",\"legendgroup\":\"اصلاح كهرباء\",\"marker\":{\"color\":\"#ab63fa\",\"pattern\":{\"shape\":\"\"}},\"name\":\"اصلاح كهرباء\",\"offsetgroup\":\"اصلاح كهرباء\",\"orientation\":\"v\",\"showlegend\":true,\"textposition\":\"auto\",\"x\":[\"AVANZA\",\"CAMRY\",\"CERATO\",\"COROLLA\",\"CRUZE\",\"ELANTRA\",\"FLUENCE\",\"FORTUNER\",\"H 1\",\"HILUX\",\"PRADO\",\"RIO\",\"SONIC\",\"SPARK\",\"SPORTAGE\",\"YARIS\"],\"xaxis\":\"x\",\"y\":[1,3,9,6,1,2,1,6,2,1,2,3,1,5,2,1],\"yaxis\":\"y\",\"type\":\"bar\"},{\"alignmentgroup\":\"True\",\"hovertemplate\":\"Damage Type=اصلاح كوشوك\\u003cbr\\u003eCar Model=%{x}\\u003cbr\\u003eDamage Frequency=%{y}\\u003cextra\\u003e\\u003c\\u002fextra\\u003e\",\"legendgroup\":\"اصلاح كوشوك\",\"marker\":{\"color\":\"#FFA15A\",\"pattern\":{\"shape\":\"\"}},\"name\":\"اصلاح كوشوك\",\"offsetgroup\":\"اصلاح كوشوك\",\"orientation\":\"v\",\"showlegend\":true,\"textposition\":\"auto\",\"x\":[\"CAMRY\",\"CERATO\",\"COROLLA\",\"CRUZE\",\"ELANTRA\",\"FLUENCE\",\"FORTUNER\",\"H 1\",\"HILUX\",\"I 10\",\"OPTIMA\",\"PRADO\",\"PRIUS\",\"RAV 4\",\"RIO\",\"SONIC\",\"SPARK\",\"SPORTAGE\",\"TUCSAN\",\"YARIS\"],\"xaxis\":\"x\",\"y\":[10,20,5,2,6,4,20,15,8,5,5,1,1,1,3,3,5,6,1,3],\"yaxis\":\"y\",\"type\":\"bar\"},{\"alignmentgroup\":\"True\",\"hovertemplate\":\"Damage Type=اصلاح ميكانيك\\u003cbr\\u003eCar Model=%{x}\\u003cbr\\u003eDamage Frequency=%{y}\\u003cextra\\u003e\\u003c\\u002fextra\\u003e\",\"legendgroup\":\"اصلاح ميكانيك\",\"marker\":{\"color\":\"#19d3f3\",\"pattern\":{\"shape\":\"\"}},\"name\":\"اصلاح ميكانيك\",\"offsetgroup\":\"اصلاح ميكانيك\",\"orientation\":\"v\",\"showlegend\":true,\"textposition\":\"auto\",\"x\":[\"AVANZA\",\"CAMRY\",\"CERATO\",\"COROLLA\",\"CRUZE\",\"ELANTRA\",\"FLUENCE\",\"FORTUNER\",\"H 1\",\"HILUX\",\"I 10\",\"OPTIMA\",\"PRADO\",\"PRIUS\",\"RAV 4\",\"RIO\",\"SONIC\",\"SPARK\",\"SPORTAGE\",\"TUCSAN\",\"YARIS\"],\"xaxis\":\"x\",\"y\":[18,14,46,37,16,34,18,90,27,34,14,4,4,1,3,17,13,29,24,4,19],\"yaxis\":\"y\",\"type\":\"bar\"},{\"alignmentgroup\":\"True\",\"hovertemplate\":\"Damage Type=غيار زيت\\u003cbr\\u003eCar Model=%{x}\\u003cbr\\u003eDamage Frequency=%{y}\\u003cextra\\u003e\\u003c\\u002fextra\\u003e\",\"legendgroup\":\"غيار زيت\",\"marker\":{\"color\":\"#FF6692\",\"pattern\":{\"shape\":\"\"}},\"name\":\"غيار زيت\",\"offsetgroup\":\"غيار زيت\",\"orientation\":\"v\",\"showlegend\":true,\"textposition\":\"auto\",\"x\":[\"ACCENT\",\"AVANZA\",\"CAMRY\",\"CERATO\",\"COROLLA\",\"CRUZE\",\"ELANTRA\",\"FLUENCE\",\"FORTUNER\",\"GUNSAYIL\",\"H 1\",\"HILUX\",\"I 10\",\"OPTIMA\",\"PRADO\",\"PRIUS\",\"RAV 4\",\"RIO\",\"SONIC\",\"SPARK\",\"SPORTAGE\",\"TUCSAN\",\"YARIS\"],\"xaxis\":\"x\",\"y\":[3,26,32,63,76,11,25,22,90,1,32,48,14,5,8,4,3,37,9,30,25,4,26],\"yaxis\":\"y\",\"type\":\"bar\"}],                        {\"template\":{\"data\":{\"histogram2dcontour\":[{\"type\":\"histogram2dcontour\",\"colorbar\":{\"outlinewidth\":0,\"ticks\":\"\"},\"colorscale\":[[0.0,\"#0d0887\"],[0.1111111111111111,\"#46039f\"],[0.2222222222222222,\"#7201a8\"],[0.3333333333333333,\"#9c179e\"],[0.4444444444444444,\"#bd3786\"],[0.5555555555555556,\"#d8576b\"],[0.6666666666666666,\"#ed7953\"],[0.7777777777777778,\"#fb9f3a\"],[0.8888888888888888,\"#fdca26\"],[1.0,\"#f0f921\"]]}],\"choropleth\":[{\"type\":\"choropleth\",\"colorbar\":{\"outlinewidth\":0,\"ticks\":\"\"}}],\"histogram2d\":[{\"type\":\"histogram2d\",\"colorbar\":{\"outlinewidth\":0,\"ticks\":\"\"},\"colorscale\":[[0.0,\"#0d0887\"],[0.1111111111111111,\"#46039f\"],[0.2222222222222222,\"#7201a8\"],[0.3333333333333333,\"#9c179e\"],[0.4444444444444444,\"#bd3786\"],[0.5555555555555556,\"#d8576b\"],[0.6666666666666666,\"#ed7953\"],[0.7777777777777778,\"#fb9f3a\"],[0.8888888888888888,\"#fdca26\"],[1.0,\"#f0f921\"]]}],\"heatmap\":[{\"type\":\"heatmap\",\"colorbar\":{\"outlinewidth\":0,\"ticks\":\"\"},\"colorscale\":[[0.0,\"#0d0887\"],[0.1111111111111111,\"#46039f\"],[0.2222222222222222,\"#7201a8\"],[0.3333333333333333,\"#9c179e\"],[0.4444444444444444,\"#bd3786\"],[0.5555555555555556,\"#d8576b\"],[0.6666666666666666,\"#ed7953\"],[0.7777777777777778,\"#fb9f3a\"],[0.8888888888888888,\"#fdca26\"],[1.0,\"#f0f921\"]]}],\"heatmapgl\":[{\"type\":\"heatmapgl\",\"colorbar\":{\"outlinewidth\":0,\"ticks\":\"\"},\"colorscale\":[[0.0,\"#0d0887\"],[0.1111111111111111,\"#46039f\"],[0.2222222222222222,\"#7201a8\"],[0.3333333333333333,\"#9c179e\"],[0.4444444444444444,\"#bd3786\"],[0.5555555555555556,\"#d8576b\"],[0.6666666666666666,\"#ed7953\"],[0.7777777777777778,\"#fb9f3a\"],[0.8888888888888888,\"#fdca26\"],[1.0,\"#f0f921\"]]}],\"contourcarpet\":[{\"type\":\"contourcarpet\",\"colorbar\":{\"outlinewidth\":0,\"ticks\":\"\"}}],\"contour\":[{\"type\":\"contour\",\"colorbar\":{\"outlinewidth\":0,\"ticks\":\"\"},\"colorscale\":[[0.0,\"#0d0887\"],[0.1111111111111111,\"#46039f\"],[0.2222222222222222,\"#7201a8\"],[0.3333333333333333,\"#9c179e\"],[0.4444444444444444,\"#bd3786\"],[0.5555555555555556,\"#d8576b\"],[0.6666666666666666,\"#ed7953\"],[0.7777777777777778,\"#fb9f3a\"],[0.8888888888888888,\"#fdca26\"],[1.0,\"#f0f921\"]]}],\"surface\":[{\"type\":\"surface\",\"colorbar\":{\"outlinewidth\":0,\"ticks\":\"\"},\"colorscale\":[[0.0,\"#0d0887\"],[0.1111111111111111,\"#46039f\"],[0.2222222222222222,\"#7201a8\"],[0.3333333333333333,\"#9c179e\"],[0.4444444444444444,\"#bd3786\"],[0.5555555555555556,\"#d8576b\"],[0.6666666666666666,\"#ed7953\"],[0.7777777777777778,\"#fb9f3a\"],[0.8888888888888888,\"#fdca26\"],[1.0,\"#f0f921\"]]}],\"mesh3d\":[{\"type\":\"mesh3d\",\"colorbar\":{\"outlinewidth\":0,\"ticks\":\"\"}}],\"scatter\":[{\"fillpattern\":{\"fillmode\":\"overlay\",\"size\":10,\"solidity\":0.2},\"type\":\"scatter\"}],\"parcoords\":[{\"type\":\"parcoords\",\"line\":{\"colorbar\":{\"outlinewidth\":0,\"ticks\":\"\"}}}],\"scatterpolargl\":[{\"type\":\"scatterpolargl\",\"marker\":{\"colorbar\":{\"outlinewidth\":0,\"ticks\":\"\"}}}],\"bar\":[{\"error_x\":{\"color\":\"#2a3f5f\"},\"error_y\":{\"color\":\"#2a3f5f\"},\"marker\":{\"line\":{\"color\":\"#E5ECF6\",\"width\":0.5},\"pattern\":{\"fillmode\":\"overlay\",\"size\":10,\"solidity\":0.2}},\"type\":\"bar\"}],\"scattergeo\":[{\"type\":\"scattergeo\",\"marker\":{\"colorbar\":{\"outlinewidth\":0,\"ticks\":\"\"}}}],\"scatterpolar\":[{\"type\":\"scatterpolar\",\"marker\":{\"colorbar\":{\"outlinewidth\":0,\"ticks\":\"\"}}}],\"histogram\":[{\"marker\":{\"pattern\":{\"fillmode\":\"overlay\",\"size\":10,\"solidity\":0.2}},\"type\":\"histogram\"}],\"scattergl\":[{\"type\":\"scattergl\",\"marker\":{\"colorbar\":{\"outlinewidth\":0,\"ticks\":\"\"}}}],\"scatter3d\":[{\"type\":\"scatter3d\",\"line\":{\"colorbar\":{\"outlinewidth\":0,\"ticks\":\"\"}},\"marker\":{\"colorbar\":{\"outlinewidth\":0,\"ticks\":\"\"}}}],\"scattermapbox\":[{\"type\":\"scattermapbox\",\"marker\":{\"colorbar\":{\"outlinewidth\":0,\"ticks\":\"\"}}}],\"scatterternary\":[{\"type\":\"scatterternary\",\"marker\":{\"colorbar\":{\"outlinewidth\":0,\"ticks\":\"\"}}}],\"scattercarpet\":[{\"type\":\"scattercarpet\",\"marker\":{\"colorbar\":{\"outlinewidth\":0,\"ticks\":\"\"}}}],\"carpet\":[{\"aaxis\":{\"endlinecolor\":\"#2a3f5f\",\"gridcolor\":\"white\",\"linecolor\":\"white\",\"minorgridcolor\":\"white\",\"startlinecolor\":\"#2a3f5f\"},\"baxis\":{\"endlinecolor\":\"#2a3f5f\",\"gridcolor\":\"white\",\"linecolor\":\"white\",\"minorgridcolor\":\"white\",\"startlinecolor\":\"#2a3f5f\"},\"type\":\"carpet\"}],\"table\":[{\"cells\":{\"fill\":{\"color\":\"#EBF0F8\"},\"line\":{\"color\":\"white\"}},\"header\":{\"fill\":{\"color\":\"#C8D4E3\"},\"line\":{\"color\":\"white\"}},\"type\":\"table\"}],\"barpolar\":[{\"marker\":{\"line\":{\"color\":\"#E5ECF6\",\"width\":0.5},\"pattern\":{\"fillmode\":\"overlay\",\"size\":10,\"solidity\":0.2}},\"type\":\"barpolar\"}],\"pie\":[{\"automargin\":true,\"type\":\"pie\"}]},\"layout\":{\"autotypenumbers\":\"strict\",\"colorway\":[\"#636efa\",\"#EF553B\",\"#00cc96\",\"#ab63fa\",\"#FFA15A\",\"#19d3f3\",\"#FF6692\",\"#B6E880\",\"#FF97FF\",\"#FECB52\"],\"font\":{\"color\":\"#2a3f5f\"},\"hovermode\":\"closest\",\"hoverlabel\":{\"align\":\"left\"},\"paper_bgcolor\":\"white\",\"plot_bgcolor\":\"#E5ECF6\",\"polar\":{\"bgcolor\":\"#E5ECF6\",\"angularaxis\":{\"gridcolor\":\"white\",\"linecolor\":\"white\",\"ticks\":\"\"},\"radialaxis\":{\"gridcolor\":\"white\",\"linecolor\":\"white\",\"ticks\":\"\"}},\"ternary\":{\"bgcolor\":\"#E5ECF6\",\"aaxis\":{\"gridcolor\":\"white\",\"linecolor\":\"white\",\"ticks\":\"\"},\"baxis\":{\"gridcolor\":\"white\",\"linecolor\":\"white\",\"ticks\":\"\"},\"caxis\":{\"gridcolor\":\"white\",\"linecolor\":\"white\",\"ticks\":\"\"}},\"coloraxis\":{\"colorbar\":{\"outlinewidth\":0,\"ticks\":\"\"}},\"colorscale\":{\"sequential\":[[0.0,\"#0d0887\"],[0.1111111111111111,\"#46039f\"],[0.2222222222222222,\"#7201a8\"],[0.3333333333333333,\"#9c179e\"],[0.4444444444444444,\"#bd3786\"],[0.5555555555555556,\"#d8576b\"],[0.6666666666666666,\"#ed7953\"],[0.7777777777777778,\"#fb9f3a\"],[0.8888888888888888,\"#fdca26\"],[1.0,\"#f0f921\"]],\"sequentialminus\":[[0.0,\"#0d0887\"],[0.1111111111111111,\"#46039f\"],[0.2222222222222222,\"#7201a8\"],[0.3333333333333333,\"#9c179e\"],[0.4444444444444444,\"#bd3786\"],[0.5555555555555556,\"#d8576b\"],[0.6666666666666666,\"#ed7953\"],[0.7777777777777778,\"#fb9f3a\"],[0.8888888888888888,\"#fdca26\"],[1.0,\"#f0f921\"]],\"diverging\":[[0,\"#8e0152\"],[0.1,\"#c51b7d\"],[0.2,\"#de77ae\"],[0.3,\"#f1b6da\"],[0.4,\"#fde0ef\"],[0.5,\"#f7f7f7\"],[0.6,\"#e6f5d0\"],[0.7,\"#b8e186\"],[0.8,\"#7fbc41\"],[0.9,\"#4d9221\"],[1,\"#276419\"]]},\"xaxis\":{\"gridcolor\":\"white\",\"linecolor\":\"white\",\"ticks\":\"\",\"title\":{\"standoff\":15},\"zerolinecolor\":\"white\",\"automargin\":true,\"zerolinewidth\":2},\"yaxis\":{\"gridcolor\":\"white\",\"linecolor\":\"white\",\"ticks\":\"\",\"title\":{\"standoff\":15},\"zerolinecolor\":\"white\",\"automargin\":true,\"zerolinewidth\":2},\"scene\":{\"xaxis\":{\"backgroundcolor\":\"#E5ECF6\",\"gridcolor\":\"white\",\"linecolor\":\"white\",\"showbackground\":true,\"ticks\":\"\",\"zerolinecolor\":\"white\",\"gridwidth\":2},\"yaxis\":{\"backgroundcolor\":\"#E5ECF6\",\"gridcolor\":\"white\",\"linecolor\":\"white\",\"showbackground\":true,\"ticks\":\"\",\"zerolinecolor\":\"white\",\"gridwidth\":2},\"zaxis\":{\"backgroundcolor\":\"#E5ECF6\",\"gridcolor\":\"white\",\"linecolor\":\"white\",\"showbackground\":true,\"ticks\":\"\",\"zerolinecolor\":\"white\",\"gridwidth\":2}},\"shapedefaults\":{\"line\":{\"color\":\"#2a3f5f\"}},\"annotationdefaults\":{\"arrowcolor\":\"#2a3f5f\",\"arrowhead\":0,\"arrowwidth\":1},\"geo\":{\"bgcolor\":\"white\",\"landcolor\":\"#E5ECF6\",\"subunitcolor\":\"white\",\"showland\":true,\"showlakes\":true,\"lakecolor\":\"white\"},\"title\":{\"x\":0.05},\"mapbox\":{\"style\":\"light\"}}},\"xaxis\":{\"anchor\":\"y\",\"domain\":[0.0,1.0],\"title\":{\"text\":\"Car Model\"}},\"yaxis\":{\"anchor\":\"x\",\"domain\":[0.0,1.0],\"title\":{\"text\":\"Damage Frequency\"}},\"legend\":{\"title\":{\"text\":\"Damage Type\"},\"tracegroupgap\":0},\"title\":{\"text\":\"Most common damage types for each car model\",\"x\":0.5},\"barmode\":\"group\"},                        {\"responsive\": true}                    ).then(function(){\n",
       "                            \n",
       "var gd = document.getElementById('3df35979-8c6c-4f04-a938-b2ddbb267308');\n",
       "var x = new MutationObserver(function (mutations, observer) {{\n",
       "        var display = window.getComputedStyle(gd).display;\n",
       "        if (!display || display === 'none') {{\n",
       "            console.log([gd, 'removed!']);\n",
       "            Plotly.purge(gd);\n",
       "            observer.disconnect();\n",
       "        }}\n",
       "}});\n",
       "\n",
       "// Listen for the removal of the full notebook cells\n",
       "var notebookContainer = gd.closest('#notebook-container');\n",
       "if (notebookContainer) {{\n",
       "    x.observe(notebookContainer, {childList: true});\n",
       "}}\n",
       "\n",
       "// Listen for the clearing of the current output cell\n",
       "var outputEl = gd.closest('.output');\n",
       "if (outputEl) {{\n",
       "    x.observe(outputEl, {childList: true});\n",
       "}}\n",
       "\n",
       "                        })                };                });            </script>        </div>"
      ]
     },
     "metadata": {},
     "output_type": "display_data"
    }
   ],
   "source": [
    "damage_Type_car = df.groupby(['damage type','car'])['damage type'].count().reset_index(name='Frequency')\n",
    "# Plot stacked bar chart\n",
    "fig = px.bar(damage_Type_car, \n",
    "             x='car', \n",
    "             y='Frequency', \n",
    "             color='damage type',\n",
    "             barmode='stack',\n",
    "             title=\"Most common damage types for each car model\",\n",
    "             labels={'car': 'Car Model', 'Frequency': 'Damage Frequency', 'damage type': 'Damage Type'}\n",
    "            )\n",
    "fig.update_layout(title_x=0.5)\n",
    "fig.show()\n",
    "#st.plotly_chart(fig,theme=None, use_container_width=True)\n",
    "# Plot grouped bar chart\n",
    "fig = px.bar(damage_Type_car,\n",
    "            x='car', \n",
    "            y='Frequency', \n",
    "            color='damage type',\n",
    "            barmode='group',\n",
    "            title=\"Most common damage types for each car model\",\n",
    "            labels={'car': 'Car Model', 'Frequency': 'Damage Frequency', 'damage type': 'Damage Type'}\n",
    "            )\n",
    "fig.update_layout(title_x=0.5)\n",
    "fig.show()\n",
    "#st.plotly_chart(fig,theme=None, use_container_width=True)"
   ]
  },
  {
   "cell_type": "code",
   "execution_count": 81,
   "id": "1bf819b9",
   "metadata": {},
   "outputs": [],
   "source": [
    "#### Service duration per car model"
   ]
  },
  {
   "cell_type": "code",
   "execution_count": 83,
   "id": "89934aa7",
   "metadata": {
    "scrolled": false
   },
   "outputs": [
    {
     "data": {
      "application/vnd.plotly.v1+json": {
       "config": {
        "plotlyServerURL": "https://plot.ly"
       },
       "data": [
        {
         "alignmentgroup": "True",
         "hovertemplate": "damage type=اصلاح بودي<br>car=%{x}<br>service_duration=%{y}<extra></extra>",
         "legendgroup": "اصلاح بودي",
         "marker": {
          "color": "#636efa"
         },
         "name": "اصلاح بودي",
         "notched": false,
         "offsetgroup": "اصلاح بودي",
         "orientation": "v",
         "showlegend": true,
         "type": "box",
         "x": [
          "TUCSAN",
          "ELANTRA",
          "FLUENCE",
          "COROLLA",
          "CERATO",
          "RIO",
          "ELANTRA",
          "CERATO",
          "ELANTRA",
          "CERATO",
          "RIO",
          "CRUZE",
          "CRUZE",
          "CAMRY",
          "FLUENCE",
          "AVANZA",
          "FORTUNER",
          "COROLLA",
          "RAV 4",
          "RIO",
          "HILUX",
          "CERATO",
          "FORTUNER",
          "HILUX",
          "COROLLA",
          "SPARK",
          "COROLLA",
          "CRUZE",
          "CERATO",
          "FORTUNER",
          "CERATO",
          "YARIS",
          "CERATO",
          "COROLLA",
          "AVANZA",
          "CAMRY",
          "COROLLA",
          "COROLLA",
          "FORTUNER",
          "AVANZA",
          "COROLLA",
          "CERATO",
          "AVANZA",
          "ELANTRA",
          "COROLLA",
          "FORTUNER",
          "SPARK",
          "CAMRY",
          "SPARK",
          "ELANTRA",
          "H 1",
          "FORTUNER",
          "AVANZA",
          "ELANTRA",
          "FORTUNER",
          "COROLLA",
          "AVANZA",
          "RIO",
          "CAMRY",
          "SONIC",
          "SONIC",
          "COROLLA",
          "H 1",
          "AVANZA",
          "RIO",
          "ELANTRA",
          "H 1",
          "CERATO",
          "FORTUNER",
          "ELANTRA",
          "AVANZA",
          "ELANTRA",
          "PRADO",
          "CRUZE",
          "CAMRY",
          "CRUZE",
          "OPTIMA",
          "YARIS",
          "CERATO",
          "FLUENCE",
          "YARIS",
          "H 1",
          "SPARK",
          "CERATO",
          "CAMRY",
          "HILUX",
          "CAMRY",
          "ELANTRA",
          "CRUZE",
          "AVANZA",
          "AVANZA",
          "I 10",
          "AVANZA",
          "CAMRY",
          "YARIS",
          "ELANTRA",
          "COROLLA",
          "CRUZE",
          "CAMRY",
          "CRUZE",
          "OPTIMA",
          "YARIS",
          "CERATO",
          "CRUZE",
          "FLUENCE",
          "FORTUNER",
          "SPARK",
          "CAMRY",
          "CAMRY",
          "CAMRY",
          "CAMRY",
          "CAMRY",
          "FORTUNER",
          "H 1",
          "H 1",
          "H 1",
          "CERATO",
          "COROLLA",
          "TUCSAN",
          "CERATO",
          "FORTUNER",
          "CRUZE",
          "CERATO",
          "CRUZE",
          "FLUENCE",
          "CAMRY",
          "H 1",
          "H 1",
          "H 1",
          "SPARK",
          "RIO",
          "COROLLA",
          "H 1",
          "CRUZE",
          "TUCSAN",
          "CERATO",
          "FLUENCE",
          "H 1",
          "FORTUNER",
          "ELANTRA",
          "AVANZA",
          "ELANTRA",
          "SONIC",
          "FORTUNER",
          "YARIS",
          "COROLLA",
          "CAMRY",
          "I 10",
          "H 1",
          "CAMRY",
          "CAMRY",
          "CERATO",
          "ELANTRA",
          "COROLLA",
          "COROLLA",
          "PRADO",
          "COROLLA",
          "COROLLA",
          "FORTUNER",
          "OPTIMA",
          "AVANZA",
          "AVANZA",
          "SONIC",
          "CERATO",
          "FORTUNER",
          "PRADO",
          "AVANZA",
          "FLUENCE",
          "CERATO",
          "ELANTRA",
          "CERATO",
          "CERATO",
          "CAMRY",
          "CERATO",
          "COROLLA",
          "COROLLA",
          "FORTUNER",
          "SPARK",
          "RIO",
          "SONIC",
          "COROLLA",
          "CAMRY",
          "AVANZA",
          "H 1",
          "H 1",
          "H 1",
          "H 1",
          "COROLLA",
          "SPARK",
          "SPARK",
          "ELANTRA",
          "CITROEN",
          "HILUX",
          "CAMRY",
          "CERATO",
          "I 10",
          "FORTUNER",
          "COROLLA",
          "H 1",
          "CERATO",
          "CERATO",
          "CAMRY",
          "CAMRY",
          "FORTUNER",
          "FORTUNER",
          "CERATO",
          "COROLLA",
          "CERATO",
          "I 10",
          "ELANTRA",
          "COROLLA",
          "HILUX",
          "H 1",
          "CERATO",
          "FLUENCE",
          "CERATO",
          "CRUZE",
          "H 1",
          "ELANTRA",
          "CERATO",
          "CAMRY",
          "CERATO",
          "COROLLA",
          "CAMRY",
          "RIO",
          "ELANTRA",
          "RIO",
          "COROLLA",
          "CAMRY"
         ],
         "x0": " ",
         "xaxis": "x",
         "y": [
          5,
          5,
          6,
          8,
          4,
          3,
          1,
          6,
          9,
          1,
          1,
          1,
          1,
          4,
          12,
          1,
          30,
          4,
          11,
          14,
          11,
          5,
          18,
          5,
          4,
          4,
          5,
          3,
          6,
          4,
          4,
          3,
          3,
          7,
          2,
          5,
          8,
          4,
          5,
          3,
          3,
          1,
          11,
          9,
          3,
          7,
          3,
          10,
          3,
          7,
          14,
          3,
          7,
          11,
          6,
          7,
          5,
          5,
          8,
          3,
          1,
          1,
          7,
          6,
          7,
          8,
          4,
          7,
          2,
          1,
          8,
          6,
          5,
          11,
          11,
          6,
          6,
          14,
          6,
          6,
          1,
          4,
          5,
          5,
          5,
          1,
          5,
          1,
          4,
          7,
          6,
          4,
          7,
          24,
          1,
          7,
          3,
          3,
          6,
          7,
          4,
          11,
          7,
          4,
          1,
          7,
          1,
          5,
          6,
          6,
          6,
          1,
          8,
          9,
          8,
          1,
          5,
          1,
          4,
          3,
          4,
          4,
          5,
          6,
          5,
          12,
          7,
          7,
          7,
          1,
          8,
          6,
          9,
          5,
          4,
          6,
          4,
          1,
          1,
          1,
          1,
          1,
          1,
          4,
          5,
          1,
          5,
          6,
          1,
          5,
          5,
          5,
          5,
          4,
          4,
          5,
          6,
          5,
          5,
          1,
          4,
          3,
          5,
          5,
          6,
          4,
          4,
          4,
          3,
          4,
          5,
          4,
          4,
          5,
          4,
          5,
          4,
          4,
          5,
          3,
          1,
          1,
          5,
          7,
          7,
          8,
          6,
          5,
          5,
          4,
          5,
          5,
          4,
          5,
          6,
          7,
          1,
          1,
          5,
          4,
          1,
          6,
          8,
          11,
          11,
          6,
          6,
          7,
          8,
          9,
          5,
          4,
          11,
          7,
          8,
          8,
          8,
          7,
          6,
          1,
          9,
          6,
          7,
          7,
          8,
          9,
          1,
          8,
          4
         ],
         "y0": " ",
         "yaxis": "y"
        },
        {
         "alignmentgroup": "True",
         "hovertemplate": "damage type=اصلاح ميكانيك<br>car=%{x}<br>service_duration=%{y}<extra></extra>",
         "legendgroup": "اصلاح ميكانيك",
         "marker": {
          "color": "#EF553B"
         },
         "name": "اصلاح ميكانيك",
         "notched": false,
         "offsetgroup": "اصلاح ميكانيك",
         "orientation": "v",
         "showlegend": true,
         "type": "box",
         "x": [
          "AVANZA",
          "AVANZA",
          "SPARK",
          "ELANTRA",
          "CERATO",
          "SPORTAGE",
          "SONIC",
          "SPARK",
          "COROLLA",
          "FORTUNER",
          "CAMRY",
          "SPARK",
          "COROLLA",
          "COROLLA",
          "ELANTRA",
          "I 10",
          "CERATO",
          "ELANTRA",
          "FORTUNER",
          "H 1",
          "H 1",
          "H 1",
          "H 1",
          "SPORTAGE",
          "YARIS",
          "I 10",
          "SONIC",
          "FORTUNER",
          "FORTUNER",
          "FORTUNER",
          "COROLLA",
          "TUCSAN",
          "SPARK",
          "FORTUNER",
          "FLUENCE",
          "CAMRY",
          "FORTUNER",
          "FORTUNER",
          "YARIS",
          "CAMRY",
          "SPARK",
          "FORTUNER",
          "CERATO",
          "FORTUNER",
          "SPARK",
          "SPORTAGE",
          "CERATO",
          "FORTUNER",
          "RIO",
          "FORTUNER",
          "AVANZA",
          "COROLLA",
          "CERATO",
          "H 1",
          "SPARK",
          "FORTUNER",
          "I 10",
          "H 1",
          "AVANZA",
          "ELANTRA",
          "FORTUNER",
          "H 1",
          "H 1",
          "FORTUNER",
          "FORTUNER",
          "SPARK",
          "CAMRY",
          "RIO",
          "COROLLA",
          "COROLLA",
          "COROLLA",
          "COROLLA",
          "SONIC",
          "CERATO",
          "FORTUNER",
          "SPARK",
          "FLUENCE",
          "HILUX",
          "SONIC",
          "SONIC",
          "SPARK",
          "SPARK",
          "HILUX",
          "HILUX",
          "COROLLA",
          "FORTUNER",
          "SPARK",
          "FORTUNER",
          "CRUZE",
          "RAV 4",
          "FORTUNER",
          "CERATO",
          "H 1",
          "PRADO",
          "FORTUNER",
          "COROLLA",
          "FORTUNER",
          "RAV 4",
          "FORTUNER",
          "CAMRY",
          "FORTUNER",
          "H 1",
          "FORTUNER",
          "FORTUNER",
          "FORTUNER",
          "FORTUNER",
          "FORTUNER",
          "SPORTAGE",
          "CAMRY",
          "FLUENCE",
          "FLUENCE",
          "RIO",
          "FLUENCE",
          "FORTUNER",
          "CERATO",
          "CERATO",
          "YARIS",
          "ELANTRA",
          "CAMRY",
          "ELANTRA",
          "COROLLA",
          "COROLLA",
          "CERATO",
          "COROLLA",
          "COROLLA",
          "CERATO",
          "CERATO",
          "H 1",
          "I 10",
          "CERATO",
          "PRADO",
          "CERATO",
          "OPTIMA",
          "CERATO",
          "YARIS",
          "COROLLA",
          "ELANTRA",
          "CERATO",
          "SPORTAGE",
          "FLUENCE",
          "CERATO",
          "ELANTRA",
          "I 10",
          "ELANTRA",
          "FLUENCE",
          "CERATO",
          "CERATO",
          "FORTUNER",
          "I 10",
          "COROLLA",
          "SPARK",
          "FORTUNER",
          "FORTUNER",
          "CERATO",
          "SPARK",
          "HILUX",
          "FORTUNER",
          "AVANZA",
          "ELANTRA",
          "CERATO",
          "CERATO",
          "FORTUNER",
          "FORTUNER",
          "ELANTRA",
          "CRUZE",
          "SPORTAGE",
          "CRUZE",
          "CRUZE",
          "CAMRY",
          "FORTUNER",
          "CERATO",
          "COROLLA",
          "RIO",
          "SPORTAGE",
          "YARIS",
          "HILUX",
          "YARIS",
          "SPORTAGE",
          "FORTUNER",
          "CERATO",
          "SPARK",
          "HILUX",
          "AVANZA",
          "ELANTRA",
          "CERATO",
          "H 1",
          "ELANTRA",
          "SONIC",
          "H 1",
          "FLUENCE",
          "FORTUNER",
          "FORTUNER",
          "ELANTRA",
          "CERATO",
          "SPORTAGE",
          "CRUZE",
          "CERATO",
          "HILUX",
          "CERATO",
          "HILUX",
          "FORTUNER",
          "ELANTRA",
          "CRUZE",
          "SPORTAGE",
          "CRUZE",
          "FORTUNER",
          "FORTUNER",
          "CERATO",
          "SPORTAGE",
          "RIO",
          "SPORTAGE",
          "SPARK",
          "SPORTAGE",
          "ELANTRA",
          "SPARK",
          "FORTUNER",
          "CRUZE",
          "SPARK",
          "SPARK",
          "ELANTRA",
          "FORTUNER",
          "HILUX",
          "HILUX",
          "FORTUNER",
          "HILUX",
          "CERATO",
          "ELANTRA",
          "SPARK",
          "ELANTRA",
          "FLUENCE",
          "AVANZA",
          "FORTUNER",
          "HILUX",
          "HILUX",
          "CERATO",
          "COROLLA",
          "I 10",
          "CAMRY",
          "FORTUNER",
          "TUCSAN",
          "COROLLA",
          "FORTUNER",
          "AVANZA",
          "RIO",
          "COROLLA",
          "HILUX",
          "HILUX",
          "CRUZE",
          "ELANTRA",
          "SPARK",
          "TUCSAN",
          "FORTUNER",
          "HILUX",
          "SONIC",
          "AVANZA",
          "COROLLA",
          "FORTUNER",
          "HILUX",
          "ELANTRA",
          "I 10",
          "AVANZA",
          "CRUZE",
          "FORTUNER",
          "SPARK",
          "I 10",
          "H 1",
          "H 1",
          "SPORTAGE",
          "FORTUNER",
          "I 10",
          "H 1",
          "SPORTAGE",
          "RIO",
          "SPORTAGE",
          "ELANTRA",
          "AVANZA",
          "COROLLA",
          "COROLLA",
          "RIO",
          "FLUENCE",
          "SONIC",
          "SONIC",
          "YARIS",
          "YARIS",
          "YARIS",
          "YARIS",
          "YARIS",
          "YARIS",
          "YARIS",
          "YARIS",
          "YARIS",
          "COROLLA",
          "COROLLA",
          "FORTUNER",
          "SPORTAGE",
          "ELANTRA",
          "SONIC",
          "RIO",
          "FLUENCE",
          "I 10",
          "CERATO",
          "FORTUNER",
          "FORTUNER",
          "FORTUNER",
          "HILUX",
          "AVANZA",
          "FLUENCE",
          "AVANZA",
          "H 1",
          "SPARK",
          "HILUX",
          "H 1",
          "CRUZE",
          "ELANTRA",
          "HILUX",
          "CRUZE",
          "HILUX",
          "ELANTRA",
          "FORTUNER",
          "COROLLA",
          "RIO",
          "SPARK",
          "PRIUS",
          "AVANZA",
          "FORTUNER",
          "FORTUNER",
          "HILUX",
          "SPARK",
          "HILUX",
          "HILUX",
          "H 1",
          "SPARK",
          "COROLLA",
          "CERATO",
          "SPARK",
          "COROLLA",
          "H 1",
          "SPORTAGE",
          "SONIC",
          "FORTUNER",
          "CERATO",
          "HILUX",
          "HILUX",
          "H 1",
          "AVANZA",
          "FORTUNER",
          "FORTUNER",
          "HILUX",
          "FORTUNER",
          "FORTUNER",
          "FORTUNER",
          "SONIC",
          "AVANZA",
          "TUCSAN",
          "FORTUNER",
          "CERATO",
          "HILUX",
          "CAMRY",
          "FORTUNER",
          "H 1",
          "CAMRY",
          "FLUENCE",
          "FORTUNER",
          "CAMRY",
          "AVANZA",
          "FORTUNER",
          "FORTUNER",
          "PRADO",
          "CRUZE",
          "CAMRY",
          "FORTUNER",
          "COROLLA",
          "COROLLA",
          "SONIC",
          "RIO",
          "FORTUNER",
          "FORTUNER",
          "YARIS",
          "PRADO",
          "H 1",
          "ELANTRA",
          "H 1",
          "ELANTRA",
          "RIO",
          "FORTUNER",
          "OPTIMA",
          "CERATO",
          "RIO",
          "H 1",
          "I 10",
          "CERATO",
          "ELANTRA",
          "SPORTAGE",
          "H 1",
          "CRUZE",
          "CRUZE",
          "CERATO",
          "FORTUNER",
          "RIO",
          "RIO",
          "COROLLA",
          "SPARK",
          "FLUENCE",
          "H 1",
          "COROLLA",
          "CERATO",
          "FORTUNER",
          "FORTUNER",
          "FORTUNER",
          "FORTUNER",
          "SPORTAGE",
          "ELANTRA",
          "FORTUNER",
          "CRUZE",
          "FORTUNER",
          "SPARK",
          "ELANTRA",
          "RIO",
          "RAV 4",
          "AVANZA",
          "SPORTAGE",
          "ELANTRA",
          "CERATO",
          "OPTIMA",
          "CAMRY",
          "HILUX",
          "ELANTRA",
          "SPORTAGE",
          "ELANTRA",
          "COROLLA",
          "CERATO",
          "HILUX",
          "I 10",
          "FORTUNER",
          "OPTIMA",
          "CERATO",
          "YARIS",
          "ELANTRA",
          "COROLLA",
          "I 10",
          "FORTUNER",
          "FORTUNER",
          "FORTUNER",
          "HILUX",
          "RIO",
          "COROLLA",
          "HILUX",
          "FLUENCE",
          "CERATO",
          "COROLLA",
          "YARIS",
          "SPORTAGE",
          "SPORTAGE",
          "HILUX",
          "CERATO",
          "FORTUNER",
          "YARIS",
          "FORTUNER",
          "FORTUNER",
          "FORTUNER",
          "CERATO",
          "FLUENCE",
          "CERATO",
          "FLUENCE",
          "FLUENCE",
          "HILUX"
         ],
         "x0": " ",
         "xaxis": "x",
         "y": [
          11,
          6,
          1,
          1,
          1,
          1,
          1,
          1,
          1,
          1,
          1,
          1,
          2,
          1,
          17,
          1,
          1,
          1,
          4,
          1,
          1,
          1,
          1,
          1,
          1,
          1,
          1,
          1,
          1,
          1,
          1,
          1,
          1,
          3,
          1,
          1,
          8,
          70,
          2,
          3,
          1,
          1,
          1,
          1,
          57,
          1,
          2,
          2,
          1,
          1,
          2,
          1,
          1,
          1,
          1,
          1,
          1,
          1,
          1,
          1,
          1,
          1,
          1,
          1,
          1,
          1,
          1,
          1,
          1,
          1,
          1,
          1,
          1,
          1,
          1,
          1,
          1,
          1,
          1,
          1,
          1,
          1,
          1,
          1,
          1,
          1,
          1,
          1,
          1,
          1,
          1,
          1,
          1,
          1,
          1,
          1,
          1,
          1,
          1,
          1,
          1,
          2,
          2,
          2,
          1,
          1,
          1,
          1,
          1,
          1,
          1,
          1,
          1,
          1,
          1,
          1,
          4,
          1,
          4,
          1,
          1,
          1,
          2,
          1,
          1,
          2,
          1,
          1,
          2,
          1,
          1,
          2,
          1,
          1,
          1,
          1,
          2,
          2,
          2,
          1,
          3,
          1,
          1,
          1,
          1,
          2,
          1,
          2,
          3,
          2,
          1,
          1,
          1,
          1,
          2,
          1,
          1,
          1,
          1,
          1,
          1,
          1,
          1,
          1,
          2,
          1,
          1,
          1,
          1,
          2,
          1,
          1,
          1,
          2,
          2,
          1,
          1,
          2,
          1,
          1,
          1,
          1,
          1,
          1,
          1,
          2,
          1,
          1,
          2,
          1,
          1,
          1,
          1,
          1,
          2,
          1,
          1,
          1,
          1,
          1,
          1,
          1,
          1,
          1,
          1,
          1,
          1,
          1,
          1,
          1,
          1,
          1,
          1,
          1,
          1,
          1,
          1,
          1,
          1,
          1,
          1,
          1,
          1,
          1,
          1,
          1,
          1,
          1,
          1,
          1,
          1,
          1,
          1,
          1,
          1,
          1,
          1,
          1,
          1,
          1,
          1,
          1,
          1,
          1,
          1,
          1,
          1,
          1,
          1,
          1,
          1,
          1,
          1,
          1,
          1,
          1,
          1,
          1,
          1,
          1,
          1,
          1,
          1,
          1,
          1,
          1,
          1,
          1,
          1,
          1,
          1,
          1,
          1,
          1,
          3,
          1,
          1,
          1,
          1,
          1,
          1,
          1,
          1,
          1,
          1,
          1,
          1,
          1,
          1,
          1,
          1,
          1,
          1,
          1,
          1,
          1,
          1,
          1,
          1,
          1,
          1,
          1,
          1,
          1,
          1,
          1,
          1,
          1,
          1,
          1,
          1,
          1,
          1,
          1,
          1,
          1,
          1,
          1,
          1,
          1,
          1,
          1,
          1,
          1,
          1,
          1,
          1,
          1,
          1,
          1,
          1,
          1,
          1,
          1,
          1,
          1,
          1,
          1,
          1,
          1,
          1,
          1,
          1,
          1,
          1,
          1,
          1,
          1,
          1,
          1,
          1,
          2,
          1,
          1,
          1,
          1,
          1,
          1,
          1,
          1,
          1,
          1,
          1,
          1,
          1,
          1,
          1,
          1,
          1,
          1,
          1,
          1,
          1,
          1,
          1,
          1,
          1,
          1,
          1,
          1,
          1,
          1,
          1,
          1,
          1,
          1,
          1,
          1,
          1,
          1,
          1,
          1,
          1,
          1,
          1,
          1,
          1,
          1,
          1,
          1,
          1,
          1,
          1,
          1,
          1,
          1,
          1,
          1,
          1,
          1,
          1,
          1,
          1,
          1,
          1,
          1,
          1,
          1,
          1,
          1,
          1,
          1,
          1,
          1,
          1,
          1,
          1,
          1,
          1,
          1,
          1,
          1,
          1,
          1,
          1,
          1,
          1,
          1,
          1,
          1,
          1,
          1,
          1,
          1,
          1,
          1,
          1,
          1,
          1,
          1,
          1,
          1,
          1,
          1,
          1,
          1,
          1,
          1,
          1,
          1,
          1,
          1,
          1,
          1,
          1,
          1
         ],
         "y0": " ",
         "yaxis": "y"
        },
        {
         "alignmentgroup": "True",
         "hovertemplate": "damage type=غيار زيت<br>car=%{x}<br>service_duration=%{y}<extra></extra>",
         "legendgroup": "غيار زيت",
         "marker": {
          "color": "#00cc96"
         },
         "name": "غيار زيت",
         "notched": false,
         "offsetgroup": "غيار زيت",
         "orientation": "v",
         "showlegend": true,
         "type": "box",
         "x": [
          "FLUENCE",
          "FORTUNER",
          "PRADO",
          "FORTUNER",
          "SPORTAGE",
          "FORTUNER",
          "AVANZA",
          "AVANZA",
          "FORTUNER",
          "CERATO",
          "SPARK",
          "SPARK",
          "RIO",
          "I 10",
          "I 10",
          "COROLLA",
          "COROLLA",
          "CERATO",
          "CERATO",
          "FORTUNER",
          "SPARK",
          "COROLLA",
          "FLUENCE",
          "CRUZE",
          "COROLLA",
          "COROLLA",
          "CERATO",
          "CERATO",
          "FORTUNER",
          "ELANTRA",
          "CAMRY",
          "CAMRY",
          "SPARK",
          "SPARK",
          "SONIC",
          "SONIC",
          "RIO",
          "COROLLA",
          "CERATO",
          "CAMRY",
          "H 1",
          "FORTUNER",
          "AVANZA",
          "CERATO",
          "COROLLA",
          "SPARK",
          "SPARK",
          "RIO",
          "I 10",
          "I 10",
          "ACCENT",
          "COROLLA",
          "FORTUNER",
          "RIO",
          "CERATO",
          "COROLLA",
          "CERATO",
          "COROLLA",
          "CAMRY",
          "ELANTRA",
          "I 10",
          "OPTIMA",
          "SPORTAGE",
          "H 1",
          "H 1",
          "H 1",
          "CRUZE",
          "H 1",
          "FORTUNER",
          "FORTUNER",
          "AVANZA",
          "CERATO",
          "FORTUNER",
          "SPARK",
          "SPARK",
          "AVANZA",
          "AVANZA",
          "H 1",
          "RIO",
          "CAMRY",
          "CAMRY",
          "FORTUNER",
          "SPARK",
          "RIO",
          "CERATO",
          "COROLLA",
          "AVANZA",
          "FORTUNER",
          "COROLLA",
          "SONIC",
          "FORTUNER",
          "FLUENCE",
          "FORTUNER",
          "COROLLA",
          "COROLLA",
          "FORTUNER",
          "SPORTAGE",
          "HILUX",
          "FORTUNER",
          "FORTUNER",
          "FLUENCE",
          "FLUENCE",
          "FLUENCE",
          "SPARK",
          "AVANZA",
          "I 10",
          "CERATO",
          "SPORTAGE",
          "FORTUNER",
          "RIO",
          "CERATO",
          "FLUENCE",
          "ELANTRA",
          "OPTIMA",
          "CERATO",
          "CERATO",
          "SPORTAGE",
          "FORTUNER",
          "FORTUNER",
          "YARIS",
          "COROLLA",
          "FORTUNER",
          "SPARK",
          "COROLLA",
          "CERATO",
          "COROLLA",
          "FORTUNER",
          "COROLLA",
          "RIO",
          "FORTUNER",
          "FORTUNER",
          "SPORTAGE",
          "FORTUNER",
          "CERATO",
          "CERATO",
          "SPORTAGE",
          "FORTUNER",
          "COROLLA",
          "YARIS",
          "COROLLA",
          "FORTUNER",
          "SPARK",
          "COROLLA",
          "AVANZA",
          "SPORTAGE",
          "PRADO",
          "RIO",
          "CERATO",
          "CAMRY",
          "SPORTAGE",
          "CRUZE",
          "FORTUNER",
          "CERATO",
          "RIO",
          "FORTUNER",
          "CERATO",
          "CRUZE",
          "SPORTAGE",
          "FORTUNER",
          "AVANZA",
          "COROLLA",
          "FORTUNER",
          "COROLLA",
          "CAMRY",
          "CAMRY",
          "RIO",
          "FORTUNER",
          "AVANZA",
          "FORTUNER",
          "SPORTAGE",
          "FORTUNER",
          "FORTUNER",
          "COROLLA",
          "H 1",
          "COROLLA",
          "H 1",
          "ELANTRA",
          "CERATO",
          "CERATO",
          "H 1",
          "AVANZA",
          "RIO",
          "RIO",
          "YARIS",
          "FLUENCE",
          "SPARK",
          "SONIC",
          "RIO",
          "ELANTRA",
          "CAMRY",
          "CAMRY",
          "I 10",
          "CERATO",
          "AVANZA",
          "YARIS",
          "AVANZA",
          "I 10",
          "CERATO",
          "ACCENT",
          "COROLLA",
          "RIO",
          "RIO",
          "YARIS",
          "FORTUNER",
          "FORTUNER",
          "RIO",
          "CERATO",
          "CRUZE",
          "RIO",
          "AVANZA",
          "SPARK",
          "CAMRY",
          "CRUZE",
          "CERATO",
          "HILUX",
          "ELANTRA",
          "FORTUNER",
          "HILUX",
          "CERATO",
          "SPORTAGE",
          "ELANTRA",
          "H 1",
          "RIO",
          "FLUENCE",
          "ELANTRA",
          "CERATO",
          "ELANTRA",
          "FORTUNER",
          "I 10",
          "CAMRY",
          "CAMRY",
          "FLUENCE",
          "ELANTRA",
          "SPARK",
          "COROLLA",
          "COROLLA",
          "TUCSAN",
          "H 1",
          "RIO",
          "FLUENCE",
          "SONIC",
          "HILUX",
          "ELANTRA",
          "HILUX",
          "YARIS",
          "YARIS",
          "H 1",
          "CERATO",
          "SPORTAGE",
          "ELANTRA",
          "H 1",
          "RIO",
          "FLUENCE",
          "ELANTRA",
          "CERATO",
          "HILUX",
          "SPARK",
          "COROLLA",
          "COROLLA",
          "CAMRY",
          "SPORTAGE",
          "FLUENCE",
          "COROLLA",
          "COROLLA",
          "COROLLA",
          "COROLLA",
          "OPTIMA",
          "FLUENCE",
          "H 1",
          "RAV 4",
          "FORTUNER",
          "COROLLA",
          "FORTUNER",
          "FORTUNER",
          "RIO",
          "COROLLA",
          "FORTUNER",
          "HILUX",
          "HILUX",
          "FORTUNER",
          "FLUENCE",
          "FORTUNER",
          "H 1",
          "CAMRY",
          "COROLLA",
          "HILUX",
          "HILUX",
          "HILUX",
          "CERATO",
          "CERATO",
          "CERATO",
          "HILUX",
          "ELANTRA",
          "CAMRY",
          "AVANZA",
          "CERATO",
          "H 1",
          "FORTUNER",
          "RIO",
          "ELANTRA",
          "FORTUNER",
          "FORTUNER",
          "SPARK",
          "FORTUNER",
          "CAMRY",
          "COROLLA",
          "RAV 4",
          "YARIS",
          "FORTUNER",
          "COROLLA",
          "H 1",
          "CERATO",
          "FORTUNER",
          "COROLLA",
          "H 1",
          "CAMRY",
          "ELANTRA",
          "SPARK",
          "H 1",
          "FORTUNER",
          "SPORTAGE",
          "COROLLA",
          "H 1",
          "COROLLA",
          "COROLLA",
          "COROLLA",
          "CRUZE",
          "PRIUS",
          "COROLLA",
          "FORTUNER",
          "H 1",
          "AVANZA",
          "ELANTRA",
          "ELANTRA",
          "FORTUNER",
          "FLUENCE",
          "H 1",
          "COROLLA",
          "H 1",
          "COROLLA",
          "AVANZA",
          "RIO",
          "FORTUNER",
          "H 1",
          "FORTUNER",
          "CERATO",
          "SPORTAGE",
          "PRADO",
          "SPARK",
          "RIO",
          "CERATO",
          "CERATO",
          "SPARK",
          "AVANZA",
          "CERATO",
          "FORTUNER",
          "CERATO",
          "AVANZA",
          "CERATO",
          "CERATO",
          "COROLLA",
          "CAMRY",
          "FLUENCE",
          "COROLLA",
          "PRADO",
          "FORTUNER",
          "FORTUNER",
          "FORTUNER",
          "HILUX",
          "CAMRY",
          "SPORTAGE",
          "PRADO",
          "COROLLA",
          "HILUX",
          "HILUX",
          "COROLLA",
          "SONIC",
          "RIO",
          "FORTUNER",
          "HILUX",
          "SPORTAGE",
          "TUCSAN",
          "FORTUNER",
          "COROLLA",
          "AVANZA",
          "YARIS",
          "SPARK",
          "AVANZA",
          "CAMRY",
          "CRUZE",
          "H 1",
          "FORTUNER",
          "PRADO",
          "HILUX",
          "FORTUNER",
          "FORTUNER",
          "HILUX",
          "I 10",
          "FORTUNER",
          "HILUX",
          "CAMRY",
          "SONIC",
          "CERATO",
          "CRUZE",
          "CERATO",
          "SPARK",
          "YARIS",
          "COROLLA",
          "SPARK",
          "RIO",
          "FLUENCE",
          "SONIC",
          "YARIS",
          "CAMRY",
          "YARIS",
          "SPORTAGE",
          "YARIS",
          "RIO",
          "TUCSAN",
          "I 10",
          "RIO",
          "I 10",
          "I 10",
          "COROLLA",
          "CERATO",
          "CAMRY",
          "COROLLA",
          "CAMRY",
          "CERATO",
          "H 1",
          "CERATO",
          "ACCENT",
          "CAMRY",
          "FLUENCE",
          "HILUX",
          "COROLLA",
          "SPARK",
          "HILUX",
          "COROLLA",
          "FLUENCE",
          "SPORTAGE",
          "COROLLA",
          "FORTUNER",
          "FLUENCE",
          "HILUX",
          "FORTUNER",
          "CERATO",
          "H 1",
          "FORTUNER",
          "SPARK",
          "CAMRY",
          "FORTUNER",
          "SONIC",
          "CERATO",
          "FORTUNER",
          "YARIS",
          "OPTIMA",
          "FORTUNER",
          "CAMRY",
          "PRIUS",
          "FORTUNER",
          "CERATO",
          "HILUX",
          "HILUX",
          "HILUX",
          "COROLLA",
          "FORTUNER",
          "COROLLA",
          "RIO",
          "ELANTRA",
          "COROLLA",
          "CERATO",
          "COROLLA",
          "FORTUNER",
          "COROLLA",
          "CERATO",
          "FORTUNER",
          "HILUX",
          "YARIS",
          "CERATO",
          "CERATO",
          "HILUX",
          "HILUX",
          "COROLLA",
          "HILUX",
          "FORTUNER",
          "RAV 4",
          "COROLLA",
          "H 1",
          "HILUX",
          "COROLLA",
          "COROLLA",
          "AVANZA",
          "HILUX",
          "HILUX",
          "CERATO",
          "COROLLA",
          "FORTUNER",
          "RIO",
          "HILUX",
          "COROLLA",
          "PRADO",
          "PRADO",
          "HILUX",
          "HILUX",
          "HILUX",
          "SPORTAGE",
          "SPARK",
          "COROLLA",
          "YARIS",
          "H 1",
          "OPTIMA",
          "YARIS",
          "YARIS",
          "FORTUNER",
          "GUNSAYIL",
          "AVANZA",
          "HILUX",
          "RIO",
          "ELANTRA",
          "AVANZA",
          "PRIUS",
          "SPORTAGE",
          "HILUX",
          "H 1",
          "COROLLA",
          "YARIS",
          "HILUX",
          "YARIS",
          "FORTUNER",
          "HILUX",
          "RIO",
          "CAMRY",
          "CERATO",
          "CAMRY",
          "CERATO",
          "YARIS",
          "SPORTAGE",
          "SPORTAGE",
          "YARIS",
          "YARIS",
          "PRIUS",
          "RIO",
          "CAMRY",
          "FORTUNER",
          "CERATO",
          "FORTUNER",
          "YARIS",
          "FORTUNER",
          "CRUZE",
          "COROLLA",
          "HILUX",
          "CRUZE",
          "SPARK",
          "COROLLA",
          "FORTUNER",
          "ELANTRA",
          "ELANTRA",
          "CERATO",
          "HILUX",
          "SPARK",
          "RIO",
          "YARIS",
          "YARIS",
          "SPARK",
          "CERATO",
          "CERATO",
          "H 1",
          "H 1",
          "FORTUNER",
          "ELANTRA",
          "HILUX",
          "HILUX",
          "HILUX",
          "COROLLA",
          "FORTUNER",
          "FLUENCE",
          "FORTUNER",
          "COROLLA",
          "ELANTRA",
          "CERATO",
          "RIO",
          "FORTUNER",
          "I 10",
          "HILUX",
          "COROLLA",
          "HILUX",
          "AVANZA",
          "RIO",
          "HILUX",
          "ELANTRA",
          "SPORTAGE",
          "TUCSAN",
          "FORTUNER"
         ],
         "x0": " ",
         "xaxis": "x",
         "y": [
          6,
          1,
          1,
          1,
          1,
          1,
          1,
          1,
          1,
          1,
          1,
          1,
          1,
          1,
          1,
          1,
          1,
          1,
          1,
          1,
          1,
          1,
          1,
          1,
          1,
          1,
          1,
          1,
          1,
          1,
          1,
          1,
          1,
          1,
          1,
          1,
          1,
          1,
          1,
          1,
          1,
          1,
          1,
          1,
          1,
          1,
          1,
          1,
          1,
          1,
          1,
          1,
          1,
          1,
          1,
          1,
          1,
          1,
          1,
          1,
          1,
          1,
          1,
          1,
          1,
          1,
          1,
          1,
          1,
          1,
          1,
          1,
          1,
          1,
          1,
          1,
          1,
          1,
          1,
          1,
          1,
          1,
          1,
          1,
          1,
          1,
          1,
          1,
          1,
          1,
          1,
          1,
          1,
          1,
          1,
          1,
          1,
          1,
          2,
          1,
          1,
          1,
          1,
          1,
          1,
          1,
          1,
          1,
          1,
          1,
          1,
          1,
          1,
          1,
          1,
          1,
          1,
          1,
          1,
          1,
          1,
          1,
          1,
          1,
          1,
          1,
          1,
          1,
          1,
          1,
          1,
          1,
          1,
          1,
          1,
          1,
          1,
          1,
          1,
          1,
          1,
          1,
          1,
          1,
          1,
          1,
          1,
          1,
          1,
          1,
          1,
          1,
          1,
          1,
          1,
          1,
          1,
          1,
          1,
          1,
          1,
          1,
          1,
          1,
          1,
          1,
          1,
          1,
          1,
          1,
          2,
          1,
          1,
          1,
          1,
          1,
          1,
          1,
          1,
          1,
          1,
          1,
          1,
          1,
          1,
          1,
          1,
          1,
          1,
          1,
          1,
          1,
          1,
          1,
          1,
          1,
          1,
          1,
          1,
          1,
          1,
          1,
          1,
          1,
          1,
          1,
          1,
          1,
          1,
          1,
          1,
          1,
          1,
          1,
          1,
          1,
          1,
          1,
          1,
          2,
          1,
          1,
          1,
          1,
          1,
          1,
          1,
          1,
          1,
          1,
          1,
          1,
          1,
          1,
          1,
          1,
          1,
          1,
          1,
          1,
          1,
          1,
          1,
          1,
          1,
          1,
          1,
          1,
          1,
          1,
          1,
          1,
          1,
          1,
          1,
          1,
          1,
          1,
          1,
          1,
          1,
          1,
          1,
          1,
          1,
          1,
          1,
          1,
          1,
          1,
          1,
          1,
          1,
          1,
          1,
          1,
          1,
          1,
          1,
          1,
          1,
          1,
          1,
          1,
          1,
          1,
          1,
          1,
          1,
          1,
          1,
          1,
          1,
          1,
          1,
          1,
          1,
          1,
          1,
          1,
          1,
          1,
          1,
          1,
          1,
          1,
          1,
          1,
          1,
          1,
          1,
          1,
          1,
          1,
          1,
          1,
          1,
          1,
          1,
          1,
          1,
          1,
          1,
          1,
          1,
          1,
          1,
          1,
          1,
          1,
          1,
          1,
          1,
          1,
          1,
          1,
          1,
          1,
          1,
          1,
          1,
          1,
          1,
          1,
          7,
          1,
          1,
          1,
          1,
          1,
          1,
          1,
          1,
          1,
          1,
          1,
          1,
          1,
          1,
          1,
          1,
          1,
          1,
          1,
          1,
          1,
          1,
          1,
          1,
          1,
          1,
          1,
          1,
          1,
          1,
          1,
          1,
          1,
          1,
          1,
          1,
          1,
          1,
          1,
          1,
          1,
          1,
          1,
          1,
          1,
          1,
          1,
          1,
          1,
          1,
          1,
          1,
          1,
          1,
          1,
          1,
          1,
          1,
          1,
          1,
          1,
          1,
          1,
          1,
          1,
          1,
          1,
          1,
          1,
          1,
          1,
          1,
          1,
          1,
          1,
          1,
          1,
          1,
          1,
          1,
          1,
          1,
          1,
          1,
          1,
          1,
          1,
          1,
          1,
          1,
          1,
          1,
          1,
          1,
          1,
          1,
          1,
          1,
          1,
          1,
          1,
          1,
          1,
          1,
          1,
          1,
          1,
          1,
          1,
          1,
          1,
          1,
          1,
          1,
          1,
          1,
          1,
          1,
          1,
          1,
          1,
          1,
          1,
          1,
          1,
          1,
          1,
          1,
          1,
          1,
          1,
          1,
          1,
          1,
          1,
          1,
          1,
          1,
          1,
          1,
          1,
          1,
          1,
          1,
          1,
          1,
          1,
          1,
          1,
          1,
          1,
          1,
          1,
          1,
          1,
          1,
          1,
          1,
          1,
          1,
          1,
          1,
          1,
          1,
          1,
          1,
          1,
          1,
          1,
          1,
          1,
          1,
          1,
          1,
          1,
          1,
          1,
          1,
          1,
          1,
          1,
          1,
          1,
          1,
          1,
          1,
          1,
          1,
          1,
          1,
          1,
          1,
          1,
          1,
          1,
          1,
          1,
          1,
          1,
          1,
          1,
          1,
          1,
          1,
          1,
          1,
          1,
          1,
          1,
          1,
          1,
          1,
          1,
          1,
          1,
          1,
          1,
          1,
          1,
          1,
          1,
          1,
          1,
          1,
          1,
          1,
          1,
          1,
          1,
          1,
          1,
          1,
          1,
          1,
          1,
          1,
          1,
          1,
          1,
          1,
          1,
          1,
          1,
          1,
          1,
          1,
          1,
          1,
          1
         ],
         "y0": " ",
         "yaxis": "y"
        },
        {
         "alignmentgroup": "True",
         "hovertemplate": "damage type=اصلاح كوشوك<br>car=%{x}<br>service_duration=%{y}<extra></extra>",
         "legendgroup": "اصلاح كوشوك",
         "marker": {
          "color": "#ab63fa"
         },
         "name": "اصلاح كوشوك",
         "notched": false,
         "offsetgroup": "اصلاح كوشوك",
         "orientation": "v",
         "showlegend": true,
         "type": "box",
         "x": [
          "CAMRY",
          "ELANTRA",
          "COROLLA",
          "FORTUNER",
          "I 10",
          "OPTIMA",
          "H 1",
          "RIO",
          "FORTUNER",
          "OPTIMA",
          "SONIC",
          "FORTUNER",
          "FORTUNER",
          "PRADO",
          "I 10",
          "H 1",
          "H 1",
          "H 1",
          "H 1",
          "H 1",
          "SONIC",
          "CERATO",
          "FORTUNER",
          "FORTUNER",
          "OPTIMA",
          "CERATO",
          "FORTUNER",
          "FORTUNER",
          "CERATO",
          "SPORTAGE",
          "FLUENCE",
          "RIO",
          "CAMRY",
          "CAMRY",
          "CERATO",
          "ELANTRA",
          "SPORTAGE",
          "RAV 4",
          "CERATO",
          "CRUZE",
          "FORTUNER",
          "CRUZE",
          "RIO",
          "H 1",
          "CERATO",
          "I 10",
          "CERATO",
          "H 1",
          "YARIS",
          "HILUX",
          "CAMRY",
          "H 1",
          "YARIS",
          "HILUX",
          "HILUX",
          "CAMRY",
          "YARIS",
          "FORTUNER",
          "ELANTRA",
          "CERATO",
          "HILUX",
          "HILUX",
          "SPORTAGE",
          "FORTUNER",
          "CERATO",
          "CAMRY",
          "SONIC",
          "CERATO",
          "FORTUNER",
          "HILUX",
          "SPARK",
          "CERATO",
          "CERATO",
          "FORTUNER",
          "FORTUNER",
          "HILUX",
          "HILUX",
          "TUCSAN",
          "I 10",
          "SPARK",
          "CAMRY",
          "FLUENCE",
          "FLUENCE",
          "SPARK",
          "H 1",
          "FORTUNER",
          "FORTUNER",
          "ELANTRA",
          "CERATO",
          "COROLLA",
          "SPARK",
          "H 1",
          "H 1",
          "FORTUNER",
          "CERATO",
          "ELANTRA",
          "OPTIMA",
          "SPORTAGE",
          "SPARK",
          "SPORTAGE",
          "I 10",
          "PRIUS",
          "H 1",
          "CERATO",
          "H 1",
          "H 1",
          "FLUENCE",
          "CAMRY",
          "FORTUNER",
          "CERATO",
          "CAMRY",
          "CERATO",
          "COROLLA",
          "OPTIMA",
          "ELANTRA",
          "CERATO",
          "COROLLA",
          "CERATO",
          "FORTUNER",
          "SPORTAGE",
          "CAMRY",
          "FORTUNER",
          "CERATO",
          "COROLLA"
         ],
         "x0": " ",
         "xaxis": "x",
         "y": [
          1,
          1,
          1,
          1,
          1,
          1,
          1,
          1,
          1,
          4,
          1,
          1,
          1,
          1,
          1,
          1,
          1,
          1,
          1,
          1,
          1,
          1,
          1,
          32,
          1,
          1,
          1,
          1,
          1,
          1,
          1,
          1,
          1,
          1,
          1,
          1,
          1,
          1,
          1,
          1,
          1,
          1,
          1,
          1,
          1,
          1,
          1,
          1,
          1,
          1,
          1,
          1,
          1,
          1,
          1,
          1,
          1,
          1,
          1,
          1,
          1,
          1,
          1,
          1,
          1,
          1,
          1,
          1,
          1,
          1,
          1,
          1,
          1,
          1,
          1,
          1,
          1,
          1,
          1,
          1,
          1,
          1,
          1,
          1,
          1,
          1,
          1,
          1,
          1,
          1,
          1,
          1,
          1,
          1,
          1,
          1,
          1,
          1,
          1,
          1,
          1,
          1,
          1,
          1,
          1,
          1,
          1,
          1,
          1,
          1,
          1,
          1,
          1,
          1,
          1,
          1,
          1,
          1,
          1,
          1,
          1,
          1,
          1,
          1
         ],
         "y0": " ",
         "yaxis": "y"
        },
        {
         "alignmentgroup": "True",
         "hovertemplate": "damage type=اصلاح زجاج<br>car=%{x}<br>service_duration=%{y}<extra></extra>",
         "legendgroup": "اصلاح زجاج",
         "marker": {
          "color": "#FFA15A"
         },
         "name": "اصلاح زجاج",
         "notched": false,
         "offsetgroup": "اصلاح زجاج",
         "orientation": "v",
         "showlegend": true,
         "type": "box",
         "x": [
          "CAMRY",
          "HILUX",
          "PRADO",
          "CERATO",
          "CERATO",
          "COROLLA",
          "CERATO",
          "AVANZA",
          "H 1",
          "COROLLA",
          "CERATO",
          "TUCSAN",
          "CERATO",
          "SPORTAGE",
          "FLUENCE",
          "H 1",
          "RIO",
          "SPORTAGE",
          "CERATO",
          "FORTUNER",
          "COROLLA"
         ],
         "x0": " ",
         "xaxis": "x",
         "y": [
          2,
          1,
          1,
          1,
          1,
          1,
          1,
          1,
          1,
          1,
          1,
          1,
          1,
          1,
          1,
          1,
          1,
          1,
          1,
          1,
          1
         ],
         "y0": " ",
         "yaxis": "y"
        },
        {
         "alignmentgroup": "True",
         "hovertemplate": "damage type=اصلاح كهرباء<br>car=%{x}<br>service_duration=%{y}<extra></extra>",
         "legendgroup": "اصلاح كهرباء",
         "marker": {
          "color": "#19d3f3"
         },
         "name": "اصلاح كهرباء",
         "notched": false,
         "offsetgroup": "اصلاح كهرباء",
         "orientation": "v",
         "showlegend": true,
         "type": "box",
         "x": [
          "COROLLA",
          "SPORTAGE",
          "FORTUNER",
          "SONIC",
          "RIO",
          "YARIS",
          "CERATO",
          "CERATO",
          "COROLLA",
          "COROLLA",
          "PRADO",
          "CRUZE",
          "SPARK",
          "COROLLA",
          "CAMRY",
          "CERATO",
          "CERATO",
          "CERATO",
          "SPARK",
          "COROLLA",
          "SPARK",
          "CERATO",
          "ELANTRA",
          "RIO",
          "AVANZA",
          "ELANTRA",
          "RIO",
          "SPARK",
          "COROLLA",
          "FORTUNER",
          "SPARK",
          "CAMRY",
          "CAMRY",
          "FORTUNER",
          "FORTUNER",
          "SPORTAGE",
          "H 1",
          "CERATO",
          "CERATO",
          "H 1",
          "FLUENCE",
          "HILUX",
          "FORTUNER",
          "PRADO",
          "FORTUNER",
          "CERATO"
         ],
         "x0": " ",
         "xaxis": "x",
         "y": [
          1,
          10,
          13,
          2,
          1,
          1,
          1,
          1,
          1,
          3,
          1,
          1,
          1,
          1,
          1,
          1,
          1,
          1,
          1,
          1,
          1,
          1,
          1,
          1,
          1,
          1,
          1,
          1,
          1,
          1,
          1,
          1,
          1,
          1,
          1,
          1,
          1,
          1,
          1,
          17,
          1,
          1,
          1,
          1,
          1,
          1
         ],
         "y0": " ",
         "yaxis": "y"
        },
        {
         "alignmentgroup": "True",
         "hovertemplate": "damage type=اصلاح فرش<br>car=%{x}<br>service_duration=%{y}<extra></extra>",
         "legendgroup": "اصلاح فرش",
         "marker": {
          "color": "#FF6692"
         },
         "name": "اصلاح فرش",
         "notched": false,
         "offsetgroup": "اصلاح فرش",
         "orientation": "v",
         "showlegend": true,
         "type": "box",
         "x": [
          "YARIS",
          "FORTUNER",
          "FORTUNER",
          "H 1",
          "CERATO",
          "SPORTAGE",
          "CERATO",
          "H 1",
          "FORTUNER",
          "FORTUNER",
          "COROLLA",
          "ELANTRA",
          "CERATO",
          "FORTUNER",
          "SPORTAGE",
          "FORTUNER",
          "CRUZE",
          "H 1",
          "PRUIS"
         ],
         "x0": " ",
         "xaxis": "x",
         "y": [
          2,
          2,
          2,
          4,
          3,
          3,
          1,
          1,
          1,
          1,
          1,
          1,
          1,
          1,
          1,
          1,
          1,
          1,
          2
         ],
         "y0": " ",
         "yaxis": "y"
        }
       ],
       "layout": {
        "boxmode": "group",
        "legend": {
         "title": {
          "text": "damage type"
         },
         "tracegroupgap": 0
        },
        "template": {
         "data": {
          "bar": [
           {
            "error_x": {
             "color": "#2a3f5f"
            },
            "error_y": {
             "color": "#2a3f5f"
            },
            "marker": {
             "line": {
              "color": "#E5ECF6",
              "width": 0.5
             },
             "pattern": {
              "fillmode": "overlay",
              "size": 10,
              "solidity": 0.2
             }
            },
            "type": "bar"
           }
          ],
          "barpolar": [
           {
            "marker": {
             "line": {
              "color": "#E5ECF6",
              "width": 0.5
             },
             "pattern": {
              "fillmode": "overlay",
              "size": 10,
              "solidity": 0.2
             }
            },
            "type": "barpolar"
           }
          ],
          "carpet": [
           {
            "aaxis": {
             "endlinecolor": "#2a3f5f",
             "gridcolor": "white",
             "linecolor": "white",
             "minorgridcolor": "white",
             "startlinecolor": "#2a3f5f"
            },
            "baxis": {
             "endlinecolor": "#2a3f5f",
             "gridcolor": "white",
             "linecolor": "white",
             "minorgridcolor": "white",
             "startlinecolor": "#2a3f5f"
            },
            "type": "carpet"
           }
          ],
          "choropleth": [
           {
            "colorbar": {
             "outlinewidth": 0,
             "ticks": ""
            },
            "type": "choropleth"
           }
          ],
          "contour": [
           {
            "colorbar": {
             "outlinewidth": 0,
             "ticks": ""
            },
            "colorscale": [
             [
              0,
              "#0d0887"
             ],
             [
              0.1111111111111111,
              "#46039f"
             ],
             [
              0.2222222222222222,
              "#7201a8"
             ],
             [
              0.3333333333333333,
              "#9c179e"
             ],
             [
              0.4444444444444444,
              "#bd3786"
             ],
             [
              0.5555555555555556,
              "#d8576b"
             ],
             [
              0.6666666666666666,
              "#ed7953"
             ],
             [
              0.7777777777777778,
              "#fb9f3a"
             ],
             [
              0.8888888888888888,
              "#fdca26"
             ],
             [
              1,
              "#f0f921"
             ]
            ],
            "type": "contour"
           }
          ],
          "contourcarpet": [
           {
            "colorbar": {
             "outlinewidth": 0,
             "ticks": ""
            },
            "type": "contourcarpet"
           }
          ],
          "heatmap": [
           {
            "colorbar": {
             "outlinewidth": 0,
             "ticks": ""
            },
            "colorscale": [
             [
              0,
              "#0d0887"
             ],
             [
              0.1111111111111111,
              "#46039f"
             ],
             [
              0.2222222222222222,
              "#7201a8"
             ],
             [
              0.3333333333333333,
              "#9c179e"
             ],
             [
              0.4444444444444444,
              "#bd3786"
             ],
             [
              0.5555555555555556,
              "#d8576b"
             ],
             [
              0.6666666666666666,
              "#ed7953"
             ],
             [
              0.7777777777777778,
              "#fb9f3a"
             ],
             [
              0.8888888888888888,
              "#fdca26"
             ],
             [
              1,
              "#f0f921"
             ]
            ],
            "type": "heatmap"
           }
          ],
          "heatmapgl": [
           {
            "colorbar": {
             "outlinewidth": 0,
             "ticks": ""
            },
            "colorscale": [
             [
              0,
              "#0d0887"
             ],
             [
              0.1111111111111111,
              "#46039f"
             ],
             [
              0.2222222222222222,
              "#7201a8"
             ],
             [
              0.3333333333333333,
              "#9c179e"
             ],
             [
              0.4444444444444444,
              "#bd3786"
             ],
             [
              0.5555555555555556,
              "#d8576b"
             ],
             [
              0.6666666666666666,
              "#ed7953"
             ],
             [
              0.7777777777777778,
              "#fb9f3a"
             ],
             [
              0.8888888888888888,
              "#fdca26"
             ],
             [
              1,
              "#f0f921"
             ]
            ],
            "type": "heatmapgl"
           }
          ],
          "histogram": [
           {
            "marker": {
             "pattern": {
              "fillmode": "overlay",
              "size": 10,
              "solidity": 0.2
             }
            },
            "type": "histogram"
           }
          ],
          "histogram2d": [
           {
            "colorbar": {
             "outlinewidth": 0,
             "ticks": ""
            },
            "colorscale": [
             [
              0,
              "#0d0887"
             ],
             [
              0.1111111111111111,
              "#46039f"
             ],
             [
              0.2222222222222222,
              "#7201a8"
             ],
             [
              0.3333333333333333,
              "#9c179e"
             ],
             [
              0.4444444444444444,
              "#bd3786"
             ],
             [
              0.5555555555555556,
              "#d8576b"
             ],
             [
              0.6666666666666666,
              "#ed7953"
             ],
             [
              0.7777777777777778,
              "#fb9f3a"
             ],
             [
              0.8888888888888888,
              "#fdca26"
             ],
             [
              1,
              "#f0f921"
             ]
            ],
            "type": "histogram2d"
           }
          ],
          "histogram2dcontour": [
           {
            "colorbar": {
             "outlinewidth": 0,
             "ticks": ""
            },
            "colorscale": [
             [
              0,
              "#0d0887"
             ],
             [
              0.1111111111111111,
              "#46039f"
             ],
             [
              0.2222222222222222,
              "#7201a8"
             ],
             [
              0.3333333333333333,
              "#9c179e"
             ],
             [
              0.4444444444444444,
              "#bd3786"
             ],
             [
              0.5555555555555556,
              "#d8576b"
             ],
             [
              0.6666666666666666,
              "#ed7953"
             ],
             [
              0.7777777777777778,
              "#fb9f3a"
             ],
             [
              0.8888888888888888,
              "#fdca26"
             ],
             [
              1,
              "#f0f921"
             ]
            ],
            "type": "histogram2dcontour"
           }
          ],
          "mesh3d": [
           {
            "colorbar": {
             "outlinewidth": 0,
             "ticks": ""
            },
            "type": "mesh3d"
           }
          ],
          "parcoords": [
           {
            "line": {
             "colorbar": {
              "outlinewidth": 0,
              "ticks": ""
             }
            },
            "type": "parcoords"
           }
          ],
          "pie": [
           {
            "automargin": true,
            "type": "pie"
           }
          ],
          "scatter": [
           {
            "fillpattern": {
             "fillmode": "overlay",
             "size": 10,
             "solidity": 0.2
            },
            "type": "scatter"
           }
          ],
          "scatter3d": [
           {
            "line": {
             "colorbar": {
              "outlinewidth": 0,
              "ticks": ""
             }
            },
            "marker": {
             "colorbar": {
              "outlinewidth": 0,
              "ticks": ""
             }
            },
            "type": "scatter3d"
           }
          ],
          "scattercarpet": [
           {
            "marker": {
             "colorbar": {
              "outlinewidth": 0,
              "ticks": ""
             }
            },
            "type": "scattercarpet"
           }
          ],
          "scattergeo": [
           {
            "marker": {
             "colorbar": {
              "outlinewidth": 0,
              "ticks": ""
             }
            },
            "type": "scattergeo"
           }
          ],
          "scattergl": [
           {
            "marker": {
             "colorbar": {
              "outlinewidth": 0,
              "ticks": ""
             }
            },
            "type": "scattergl"
           }
          ],
          "scattermapbox": [
           {
            "marker": {
             "colorbar": {
              "outlinewidth": 0,
              "ticks": ""
             }
            },
            "type": "scattermapbox"
           }
          ],
          "scatterpolar": [
           {
            "marker": {
             "colorbar": {
              "outlinewidth": 0,
              "ticks": ""
             }
            },
            "type": "scatterpolar"
           }
          ],
          "scatterpolargl": [
           {
            "marker": {
             "colorbar": {
              "outlinewidth": 0,
              "ticks": ""
             }
            },
            "type": "scatterpolargl"
           }
          ],
          "scatterternary": [
           {
            "marker": {
             "colorbar": {
              "outlinewidth": 0,
              "ticks": ""
             }
            },
            "type": "scatterternary"
           }
          ],
          "surface": [
           {
            "colorbar": {
             "outlinewidth": 0,
             "ticks": ""
            },
            "colorscale": [
             [
              0,
              "#0d0887"
             ],
             [
              0.1111111111111111,
              "#46039f"
             ],
             [
              0.2222222222222222,
              "#7201a8"
             ],
             [
              0.3333333333333333,
              "#9c179e"
             ],
             [
              0.4444444444444444,
              "#bd3786"
             ],
             [
              0.5555555555555556,
              "#d8576b"
             ],
             [
              0.6666666666666666,
              "#ed7953"
             ],
             [
              0.7777777777777778,
              "#fb9f3a"
             ],
             [
              0.8888888888888888,
              "#fdca26"
             ],
             [
              1,
              "#f0f921"
             ]
            ],
            "type": "surface"
           }
          ],
          "table": [
           {
            "cells": {
             "fill": {
              "color": "#EBF0F8"
             },
             "line": {
              "color": "white"
             }
            },
            "header": {
             "fill": {
              "color": "#C8D4E3"
             },
             "line": {
              "color": "white"
             }
            },
            "type": "table"
           }
          ]
         },
         "layout": {
          "annotationdefaults": {
           "arrowcolor": "#2a3f5f",
           "arrowhead": 0,
           "arrowwidth": 1
          },
          "autotypenumbers": "strict",
          "coloraxis": {
           "colorbar": {
            "outlinewidth": 0,
            "ticks": ""
           }
          },
          "colorscale": {
           "diverging": [
            [
             0,
             "#8e0152"
            ],
            [
             0.1,
             "#c51b7d"
            ],
            [
             0.2,
             "#de77ae"
            ],
            [
             0.3,
             "#f1b6da"
            ],
            [
             0.4,
             "#fde0ef"
            ],
            [
             0.5,
             "#f7f7f7"
            ],
            [
             0.6,
             "#e6f5d0"
            ],
            [
             0.7,
             "#b8e186"
            ],
            [
             0.8,
             "#7fbc41"
            ],
            [
             0.9,
             "#4d9221"
            ],
            [
             1,
             "#276419"
            ]
           ],
           "sequential": [
            [
             0,
             "#0d0887"
            ],
            [
             0.1111111111111111,
             "#46039f"
            ],
            [
             0.2222222222222222,
             "#7201a8"
            ],
            [
             0.3333333333333333,
             "#9c179e"
            ],
            [
             0.4444444444444444,
             "#bd3786"
            ],
            [
             0.5555555555555556,
             "#d8576b"
            ],
            [
             0.6666666666666666,
             "#ed7953"
            ],
            [
             0.7777777777777778,
             "#fb9f3a"
            ],
            [
             0.8888888888888888,
             "#fdca26"
            ],
            [
             1,
             "#f0f921"
            ]
           ],
           "sequentialminus": [
            [
             0,
             "#0d0887"
            ],
            [
             0.1111111111111111,
             "#46039f"
            ],
            [
             0.2222222222222222,
             "#7201a8"
            ],
            [
             0.3333333333333333,
             "#9c179e"
            ],
            [
             0.4444444444444444,
             "#bd3786"
            ],
            [
             0.5555555555555556,
             "#d8576b"
            ],
            [
             0.6666666666666666,
             "#ed7953"
            ],
            [
             0.7777777777777778,
             "#fb9f3a"
            ],
            [
             0.8888888888888888,
             "#fdca26"
            ],
            [
             1,
             "#f0f921"
            ]
           ]
          },
          "colorway": [
           "#636efa",
           "#EF553B",
           "#00cc96",
           "#ab63fa",
           "#FFA15A",
           "#19d3f3",
           "#FF6692",
           "#B6E880",
           "#FF97FF",
           "#FECB52"
          ],
          "font": {
           "color": "#2a3f5f"
          },
          "geo": {
           "bgcolor": "white",
           "lakecolor": "white",
           "landcolor": "#E5ECF6",
           "showlakes": true,
           "showland": true,
           "subunitcolor": "white"
          },
          "hoverlabel": {
           "align": "left"
          },
          "hovermode": "closest",
          "mapbox": {
           "style": "light"
          },
          "paper_bgcolor": "white",
          "plot_bgcolor": "#E5ECF6",
          "polar": {
           "angularaxis": {
            "gridcolor": "white",
            "linecolor": "white",
            "ticks": ""
           },
           "bgcolor": "#E5ECF6",
           "radialaxis": {
            "gridcolor": "white",
            "linecolor": "white",
            "ticks": ""
           }
          },
          "scene": {
           "xaxis": {
            "backgroundcolor": "#E5ECF6",
            "gridcolor": "white",
            "gridwidth": 2,
            "linecolor": "white",
            "showbackground": true,
            "ticks": "",
            "zerolinecolor": "white"
           },
           "yaxis": {
            "backgroundcolor": "#E5ECF6",
            "gridcolor": "white",
            "gridwidth": 2,
            "linecolor": "white",
            "showbackground": true,
            "ticks": "",
            "zerolinecolor": "white"
           },
           "zaxis": {
            "backgroundcolor": "#E5ECF6",
            "gridcolor": "white",
            "gridwidth": 2,
            "linecolor": "white",
            "showbackground": true,
            "ticks": "",
            "zerolinecolor": "white"
           }
          },
          "shapedefaults": {
           "line": {
            "color": "#2a3f5f"
           }
          },
          "ternary": {
           "aaxis": {
            "gridcolor": "white",
            "linecolor": "white",
            "ticks": ""
           },
           "baxis": {
            "gridcolor": "white",
            "linecolor": "white",
            "ticks": ""
           },
           "bgcolor": "#E5ECF6",
           "caxis": {
            "gridcolor": "white",
            "linecolor": "white",
            "ticks": ""
           }
          },
          "title": {
           "x": 0.05
          },
          "xaxis": {
           "automargin": true,
           "gridcolor": "white",
           "linecolor": "white",
           "ticks": "",
           "title": {
            "standoff": 15
           },
           "zerolinecolor": "white",
           "zerolinewidth": 2
          },
          "yaxis": {
           "automargin": true,
           "gridcolor": "white",
           "linecolor": "white",
           "ticks": "",
           "title": {
            "standoff": 15
           },
           "zerolinecolor": "white",
           "zerolinewidth": 2
          }
         }
        },
        "title": {
         "text": "Service duration per car model",
         "x": 0.5
        },
        "xaxis": {
         "anchor": "y",
         "domain": [
          0,
          1
         ],
         "title": {
          "text": "car"
         }
        },
        "yaxis": {
         "anchor": "x",
         "domain": [
          0,
          1
         ],
         "title": {
          "text": "service_duration"
         }
        }
       }
      },
      "text/html": [
       "<div>                            <div id=\"6e527be8-d87b-4b13-928f-d70b3c8f880b\" class=\"plotly-graph-div\" style=\"height:525px; width:100%;\"></div>            <script type=\"text/javascript\">                require([\"plotly\"], function(Plotly) {                    window.PLOTLYENV=window.PLOTLYENV || {};                                    if (document.getElementById(\"6e527be8-d87b-4b13-928f-d70b3c8f880b\")) {                    Plotly.newPlot(                        \"6e527be8-d87b-4b13-928f-d70b3c8f880b\",                        [{\"alignmentgroup\":\"True\",\"hovertemplate\":\"damage type=اصلاح بودي\\u003cbr\\u003ecar=%{x}\\u003cbr\\u003eservice_duration=%{y}\\u003cextra\\u003e\\u003c\\u002fextra\\u003e\",\"legendgroup\":\"اصلاح بودي\",\"marker\":{\"color\":\"#636efa\"},\"name\":\"اصلاح بودي\",\"notched\":false,\"offsetgroup\":\"اصلاح بودي\",\"orientation\":\"v\",\"showlegend\":true,\"x\":[\"TUCSAN\",\"ELANTRA\",\"FLUENCE\",\"COROLLA\",\"CERATO\",\"RIO\",\"ELANTRA\",\"CERATO\",\"ELANTRA\",\"CERATO\",\"RIO\",\"CRUZE\",\"CRUZE\",\"CAMRY\",\"FLUENCE\",\"AVANZA\",\"FORTUNER\",\"COROLLA\",\"RAV 4\",\"RIO\",\"HILUX\",\"CERATO\",\"FORTUNER\",\"HILUX\",\"COROLLA\",\"SPARK\",\"COROLLA\",\"CRUZE\",\"CERATO\",\"FORTUNER\",\"CERATO\",\"YARIS\",\"CERATO\",\"COROLLA\",\"AVANZA\",\"CAMRY\",\"COROLLA\",\"COROLLA\",\"FORTUNER\",\"AVANZA\",\"COROLLA\",\"CERATO\",\"AVANZA\",\"ELANTRA\",\"COROLLA\",\"FORTUNER\",\"SPARK\",\"CAMRY\",\"SPARK\",\"ELANTRA\",\"H 1\",\"FORTUNER\",\"AVANZA\",\"ELANTRA\",\"FORTUNER\",\"COROLLA\",\"AVANZA\",\"RIO\",\"CAMRY\",\"SONIC\",\"SONIC\",\"COROLLA\",\"H 1\",\"AVANZA\",\"RIO\",\"ELANTRA\",\"H 1\",\"CERATO\",\"FORTUNER\",\"ELANTRA\",\"AVANZA\",\"ELANTRA\",\"PRADO\",\"CRUZE\",\"CAMRY\",\"CRUZE\",\"OPTIMA\",\"YARIS\",\"CERATO\",\"FLUENCE\",\"YARIS\",\"H 1\",\"SPARK\",\"CERATO\",\"CAMRY\",\"HILUX\",\"CAMRY\",\"ELANTRA\",\"CRUZE\",\"AVANZA\",\"AVANZA\",\"I 10\",\"AVANZA\",\"CAMRY\",\"YARIS\",\"ELANTRA\",\"COROLLA\",\"CRUZE\",\"CAMRY\",\"CRUZE\",\"OPTIMA\",\"YARIS\",\"CERATO\",\"CRUZE\",\"FLUENCE\",\"FORTUNER\",\"SPARK\",\"CAMRY\",\"CAMRY\",\"CAMRY\",\"CAMRY\",\"CAMRY\",\"FORTUNER\",\"H 1\",\"H 1\",\"H 1\",\"CERATO\",\"COROLLA\",\"TUCSAN\",\"CERATO\",\"FORTUNER\",\"CRUZE\",\"CERATO\",\"CRUZE\",\"FLUENCE\",\"CAMRY\",\"H 1\",\"H 1\",\"H 1\",\"SPARK\",\"RIO\",\"COROLLA\",\"H 1\",\"CRUZE\",\"TUCSAN\",\"CERATO\",\"FLUENCE\",\"H 1\",\"FORTUNER\",\"ELANTRA\",\"AVANZA\",\"ELANTRA\",\"SONIC\",\"FORTUNER\",\"YARIS\",\"COROLLA\",\"CAMRY\",\"I 10\",\"H 1\",\"CAMRY\",\"CAMRY\",\"CERATO\",\"ELANTRA\",\"COROLLA\",\"COROLLA\",\"PRADO\",\"COROLLA\",\"COROLLA\",\"FORTUNER\",\"OPTIMA\",\"AVANZA\",\"AVANZA\",\"SONIC\",\"CERATO\",\"FORTUNER\",\"PRADO\",\"AVANZA\",\"FLUENCE\",\"CERATO\",\"ELANTRA\",\"CERATO\",\"CERATO\",\"CAMRY\",\"CERATO\",\"COROLLA\",\"COROLLA\",\"FORTUNER\",\"SPARK\",\"RIO\",\"SONIC\",\"COROLLA\",\"CAMRY\",\"AVANZA\",\"H 1\",\"H 1\",\"H 1\",\"H 1\",\"COROLLA\",\"SPARK\",\"SPARK\",\"ELANTRA\",\"CITROEN\",\"HILUX\",\"CAMRY\",\"CERATO\",\"I 10\",\"FORTUNER\",\"COROLLA\",\"H 1\",\"CERATO\",\"CERATO\",\"CAMRY\",\"CAMRY\",\"FORTUNER\",\"FORTUNER\",\"CERATO\",\"COROLLA\",\"CERATO\",\"I 10\",\"ELANTRA\",\"COROLLA\",\"HILUX\",\"H 1\",\"CERATO\",\"FLUENCE\",\"CERATO\",\"CRUZE\",\"H 1\",\"ELANTRA\",\"CERATO\",\"CAMRY\",\"CERATO\",\"COROLLA\",\"CAMRY\",\"RIO\",\"ELANTRA\",\"RIO\",\"COROLLA\",\"CAMRY\"],\"x0\":\" \",\"xaxis\":\"x\",\"y\":[5,5,6,8,4,3,1,6,9,1,1,1,1,4,12,1,30,4,11,14,11,5,18,5,4,4,5,3,6,4,4,3,3,7,2,5,8,4,5,3,3,1,11,9,3,7,3,10,3,7,14,3,7,11,6,7,5,5,8,3,1,1,7,6,7,8,4,7,2,1,8,6,5,11,11,6,6,14,6,6,1,4,5,5,5,1,5,1,4,7,6,4,7,24,1,7,3,3,6,7,4,11,7,4,1,7,1,5,6,6,6,1,8,9,8,1,5,1,4,3,4,4,5,6,5,12,7,7,7,1,8,6,9,5,4,6,4,1,1,1,1,1,1,4,5,1,5,6,1,5,5,5,5,4,4,5,6,5,5,1,4,3,5,5,6,4,4,4,3,4,5,4,4,5,4,5,4,4,5,3,1,1,5,7,7,8,6,5,5,4,5,5,4,5,6,7,1,1,5,4,1,6,8,11,11,6,6,7,8,9,5,4,11,7,8,8,8,7,6,1,9,6,7,7,8,9,1,8,4],\"y0\":\" \",\"yaxis\":\"y\",\"type\":\"box\"},{\"alignmentgroup\":\"True\",\"hovertemplate\":\"damage type=اصلاح ميكانيك\\u003cbr\\u003ecar=%{x}\\u003cbr\\u003eservice_duration=%{y}\\u003cextra\\u003e\\u003c\\u002fextra\\u003e\",\"legendgroup\":\"اصلاح ميكانيك\",\"marker\":{\"color\":\"#EF553B\"},\"name\":\"اصلاح ميكانيك\",\"notched\":false,\"offsetgroup\":\"اصلاح ميكانيك\",\"orientation\":\"v\",\"showlegend\":true,\"x\":[\"AVANZA\",\"AVANZA\",\"SPARK\",\"ELANTRA\",\"CERATO\",\"SPORTAGE\",\"SONIC\",\"SPARK\",\"COROLLA\",\"FORTUNER\",\"CAMRY\",\"SPARK\",\"COROLLA\",\"COROLLA\",\"ELANTRA\",\"I 10\",\"CERATO\",\"ELANTRA\",\"FORTUNER\",\"H 1\",\"H 1\",\"H 1\",\"H 1\",\"SPORTAGE\",\"YARIS\",\"I 10\",\"SONIC\",\"FORTUNER\",\"FORTUNER\",\"FORTUNER\",\"COROLLA\",\"TUCSAN\",\"SPARK\",\"FORTUNER\",\"FLUENCE\",\"CAMRY\",\"FORTUNER\",\"FORTUNER\",\"YARIS\",\"CAMRY\",\"SPARK\",\"FORTUNER\",\"CERATO\",\"FORTUNER\",\"SPARK\",\"SPORTAGE\",\"CERATO\",\"FORTUNER\",\"RIO\",\"FORTUNER\",\"AVANZA\",\"COROLLA\",\"CERATO\",\"H 1\",\"SPARK\",\"FORTUNER\",\"I 10\",\"H 1\",\"AVANZA\",\"ELANTRA\",\"FORTUNER\",\"H 1\",\"H 1\",\"FORTUNER\",\"FORTUNER\",\"SPARK\",\"CAMRY\",\"RIO\",\"COROLLA\",\"COROLLA\",\"COROLLA\",\"COROLLA\",\"SONIC\",\"CERATO\",\"FORTUNER\",\"SPARK\",\"FLUENCE\",\"HILUX\",\"SONIC\",\"SONIC\",\"SPARK\",\"SPARK\",\"HILUX\",\"HILUX\",\"COROLLA\",\"FORTUNER\",\"SPARK\",\"FORTUNER\",\"CRUZE\",\"RAV 4\",\"FORTUNER\",\"CERATO\",\"H 1\",\"PRADO\",\"FORTUNER\",\"COROLLA\",\"FORTUNER\",\"RAV 4\",\"FORTUNER\",\"CAMRY\",\"FORTUNER\",\"H 1\",\"FORTUNER\",\"FORTUNER\",\"FORTUNER\",\"FORTUNER\",\"FORTUNER\",\"SPORTAGE\",\"CAMRY\",\"FLUENCE\",\"FLUENCE\",\"RIO\",\"FLUENCE\",\"FORTUNER\",\"CERATO\",\"CERATO\",\"YARIS\",\"ELANTRA\",\"CAMRY\",\"ELANTRA\",\"COROLLA\",\"COROLLA\",\"CERATO\",\"COROLLA\",\"COROLLA\",\"CERATO\",\"CERATO\",\"H 1\",\"I 10\",\"CERATO\",\"PRADO\",\"CERATO\",\"OPTIMA\",\"CERATO\",\"YARIS\",\"COROLLA\",\"ELANTRA\",\"CERATO\",\"SPORTAGE\",\"FLUENCE\",\"CERATO\",\"ELANTRA\",\"I 10\",\"ELANTRA\",\"FLUENCE\",\"CERATO\",\"CERATO\",\"FORTUNER\",\"I 10\",\"COROLLA\",\"SPARK\",\"FORTUNER\",\"FORTUNER\",\"CERATO\",\"SPARK\",\"HILUX\",\"FORTUNER\",\"AVANZA\",\"ELANTRA\",\"CERATO\",\"CERATO\",\"FORTUNER\",\"FORTUNER\",\"ELANTRA\",\"CRUZE\",\"SPORTAGE\",\"CRUZE\",\"CRUZE\",\"CAMRY\",\"FORTUNER\",\"CERATO\",\"COROLLA\",\"RIO\",\"SPORTAGE\",\"YARIS\",\"HILUX\",\"YARIS\",\"SPORTAGE\",\"FORTUNER\",\"CERATO\",\"SPARK\",\"HILUX\",\"AVANZA\",\"ELANTRA\",\"CERATO\",\"H 1\",\"ELANTRA\",\"SONIC\",\"H 1\",\"FLUENCE\",\"FORTUNER\",\"FORTUNER\",\"ELANTRA\",\"CERATO\",\"SPORTAGE\",\"CRUZE\",\"CERATO\",\"HILUX\",\"CERATO\",\"HILUX\",\"FORTUNER\",\"ELANTRA\",\"CRUZE\",\"SPORTAGE\",\"CRUZE\",\"FORTUNER\",\"FORTUNER\",\"CERATO\",\"SPORTAGE\",\"RIO\",\"SPORTAGE\",\"SPARK\",\"SPORTAGE\",\"ELANTRA\",\"SPARK\",\"FORTUNER\",\"CRUZE\",\"SPARK\",\"SPARK\",\"ELANTRA\",\"FORTUNER\",\"HILUX\",\"HILUX\",\"FORTUNER\",\"HILUX\",\"CERATO\",\"ELANTRA\",\"SPARK\",\"ELANTRA\",\"FLUENCE\",\"AVANZA\",\"FORTUNER\",\"HILUX\",\"HILUX\",\"CERATO\",\"COROLLA\",\"I 10\",\"CAMRY\",\"FORTUNER\",\"TUCSAN\",\"COROLLA\",\"FORTUNER\",\"AVANZA\",\"RIO\",\"COROLLA\",\"HILUX\",\"HILUX\",\"CRUZE\",\"ELANTRA\",\"SPARK\",\"TUCSAN\",\"FORTUNER\",\"HILUX\",\"SONIC\",\"AVANZA\",\"COROLLA\",\"FORTUNER\",\"HILUX\",\"ELANTRA\",\"I 10\",\"AVANZA\",\"CRUZE\",\"FORTUNER\",\"SPARK\",\"I 10\",\"H 1\",\"H 1\",\"SPORTAGE\",\"FORTUNER\",\"I 10\",\"H 1\",\"SPORTAGE\",\"RIO\",\"SPORTAGE\",\"ELANTRA\",\"AVANZA\",\"COROLLA\",\"COROLLA\",\"RIO\",\"FLUENCE\",\"SONIC\",\"SONIC\",\"YARIS\",\"YARIS\",\"YARIS\",\"YARIS\",\"YARIS\",\"YARIS\",\"YARIS\",\"YARIS\",\"YARIS\",\"COROLLA\",\"COROLLA\",\"FORTUNER\",\"SPORTAGE\",\"ELANTRA\",\"SONIC\",\"RIO\",\"FLUENCE\",\"I 10\",\"CERATO\",\"FORTUNER\",\"FORTUNER\",\"FORTUNER\",\"HILUX\",\"AVANZA\",\"FLUENCE\",\"AVANZA\",\"H 1\",\"SPARK\",\"HILUX\",\"H 1\",\"CRUZE\",\"ELANTRA\",\"HILUX\",\"CRUZE\",\"HILUX\",\"ELANTRA\",\"FORTUNER\",\"COROLLA\",\"RIO\",\"SPARK\",\"PRIUS\",\"AVANZA\",\"FORTUNER\",\"FORTUNER\",\"HILUX\",\"SPARK\",\"HILUX\",\"HILUX\",\"H 1\",\"SPARK\",\"COROLLA\",\"CERATO\",\"SPARK\",\"COROLLA\",\"H 1\",\"SPORTAGE\",\"SONIC\",\"FORTUNER\",\"CERATO\",\"HILUX\",\"HILUX\",\"H 1\",\"AVANZA\",\"FORTUNER\",\"FORTUNER\",\"HILUX\",\"FORTUNER\",\"FORTUNER\",\"FORTUNER\",\"SONIC\",\"AVANZA\",\"TUCSAN\",\"FORTUNER\",\"CERATO\",\"HILUX\",\"CAMRY\",\"FORTUNER\",\"H 1\",\"CAMRY\",\"FLUENCE\",\"FORTUNER\",\"CAMRY\",\"AVANZA\",\"FORTUNER\",\"FORTUNER\",\"PRADO\",\"CRUZE\",\"CAMRY\",\"FORTUNER\",\"COROLLA\",\"COROLLA\",\"SONIC\",\"RIO\",\"FORTUNER\",\"FORTUNER\",\"YARIS\",\"PRADO\",\"H 1\",\"ELANTRA\",\"H 1\",\"ELANTRA\",\"RIO\",\"FORTUNER\",\"OPTIMA\",\"CERATO\",\"RIO\",\"H 1\",\"I 10\",\"CERATO\",\"ELANTRA\",\"SPORTAGE\",\"H 1\",\"CRUZE\",\"CRUZE\",\"CERATO\",\"FORTUNER\",\"RIO\",\"RIO\",\"COROLLA\",\"SPARK\",\"FLUENCE\",\"H 1\",\"COROLLA\",\"CERATO\",\"FORTUNER\",\"FORTUNER\",\"FORTUNER\",\"FORTUNER\",\"SPORTAGE\",\"ELANTRA\",\"FORTUNER\",\"CRUZE\",\"FORTUNER\",\"SPARK\",\"ELANTRA\",\"RIO\",\"RAV 4\",\"AVANZA\",\"SPORTAGE\",\"ELANTRA\",\"CERATO\",\"OPTIMA\",\"CAMRY\",\"HILUX\",\"ELANTRA\",\"SPORTAGE\",\"ELANTRA\",\"COROLLA\",\"CERATO\",\"HILUX\",\"I 10\",\"FORTUNER\",\"OPTIMA\",\"CERATO\",\"YARIS\",\"ELANTRA\",\"COROLLA\",\"I 10\",\"FORTUNER\",\"FORTUNER\",\"FORTUNER\",\"HILUX\",\"RIO\",\"COROLLA\",\"HILUX\",\"FLUENCE\",\"CERATO\",\"COROLLA\",\"YARIS\",\"SPORTAGE\",\"SPORTAGE\",\"HILUX\",\"CERATO\",\"FORTUNER\",\"YARIS\",\"FORTUNER\",\"FORTUNER\",\"FORTUNER\",\"CERATO\",\"FLUENCE\",\"CERATO\",\"FLUENCE\",\"FLUENCE\",\"HILUX\"],\"x0\":\" \",\"xaxis\":\"x\",\"y\":[11,6,1,1,1,1,1,1,1,1,1,1,2,1,17,1,1,1,4,1,1,1,1,1,1,1,1,1,1,1,1,1,1,3,1,1,8,70,2,3,1,1,1,1,57,1,2,2,1,1,2,1,1,1,1,1,1,1,1,1,1,1,1,1,1,1,1,1,1,1,1,1,1,1,1,1,1,1,1,1,1,1,1,1,1,1,1,1,1,1,1,1,1,1,1,1,1,1,1,1,1,2,2,2,1,1,1,1,1,1,1,1,1,1,1,1,4,1,4,1,1,1,2,1,1,2,1,1,2,1,1,2,1,1,1,1,2,2,2,1,3,1,1,1,1,2,1,2,3,2,1,1,1,1,2,1,1,1,1,1,1,1,1,1,2,1,1,1,1,2,1,1,1,2,2,1,1,2,1,1,1,1,1,1,1,2,1,1,2,1,1,1,1,1,2,1,1,1,1,1,1,1,1,1,1,1,1,1,1,1,1,1,1,1,1,1,1,1,1,1,1,1,1,1,1,1,1,1,1,1,1,1,1,1,1,1,1,1,1,1,1,1,1,1,1,1,1,1,1,1,1,1,1,1,1,1,1,1,1,1,1,1,1,1,1,1,1,1,1,1,1,1,1,1,3,1,1,1,1,1,1,1,1,1,1,1,1,1,1,1,1,1,1,1,1,1,1,1,1,1,1,1,1,1,1,1,1,1,1,1,1,1,1,1,1,1,1,1,1,1,1,1,1,1,1,1,1,1,1,1,1,1,1,1,1,1,1,1,1,1,1,1,1,1,1,1,1,1,1,1,1,2,1,1,1,1,1,1,1,1,1,1,1,1,1,1,1,1,1,1,1,1,1,1,1,1,1,1,1,1,1,1,1,1,1,1,1,1,1,1,1,1,1,1,1,1,1,1,1,1,1,1,1,1,1,1,1,1,1,1,1,1,1,1,1,1,1,1,1,1,1,1,1,1,1,1,1,1,1,1,1,1,1,1,1,1,1,1,1,1,1,1,1,1,1,1,1,1,1,1,1,1,1,1,1,1,1,1,1,1,1,1,1,1,1,1],\"y0\":\" \",\"yaxis\":\"y\",\"type\":\"box\"},{\"alignmentgroup\":\"True\",\"hovertemplate\":\"damage type=غيار زيت\\u003cbr\\u003ecar=%{x}\\u003cbr\\u003eservice_duration=%{y}\\u003cextra\\u003e\\u003c\\u002fextra\\u003e\",\"legendgroup\":\"غيار زيت\",\"marker\":{\"color\":\"#00cc96\"},\"name\":\"غيار زيت\",\"notched\":false,\"offsetgroup\":\"غيار زيت\",\"orientation\":\"v\",\"showlegend\":true,\"x\":[\"FLUENCE\",\"FORTUNER\",\"PRADO\",\"FORTUNER\",\"SPORTAGE\",\"FORTUNER\",\"AVANZA\",\"AVANZA\",\"FORTUNER\",\"CERATO\",\"SPARK\",\"SPARK\",\"RIO\",\"I 10\",\"I 10\",\"COROLLA\",\"COROLLA\",\"CERATO\",\"CERATO\",\"FORTUNER\",\"SPARK\",\"COROLLA\",\"FLUENCE\",\"CRUZE\",\"COROLLA\",\"COROLLA\",\"CERATO\",\"CERATO\",\"FORTUNER\",\"ELANTRA\",\"CAMRY\",\"CAMRY\",\"SPARK\",\"SPARK\",\"SONIC\",\"SONIC\",\"RIO\",\"COROLLA\",\"CERATO\",\"CAMRY\",\"H 1\",\"FORTUNER\",\"AVANZA\",\"CERATO\",\"COROLLA\",\"SPARK\",\"SPARK\",\"RIO\",\"I 10\",\"I 10\",\"ACCENT\",\"COROLLA\",\"FORTUNER\",\"RIO\",\"CERATO\",\"COROLLA\",\"CERATO\",\"COROLLA\",\"CAMRY\",\"ELANTRA\",\"I 10\",\"OPTIMA\",\"SPORTAGE\",\"H 1\",\"H 1\",\"H 1\",\"CRUZE\",\"H 1\",\"FORTUNER\",\"FORTUNER\",\"AVANZA\",\"CERATO\",\"FORTUNER\",\"SPARK\",\"SPARK\",\"AVANZA\",\"AVANZA\",\"H 1\",\"RIO\",\"CAMRY\",\"CAMRY\",\"FORTUNER\",\"SPARK\",\"RIO\",\"CERATO\",\"COROLLA\",\"AVANZA\",\"FORTUNER\",\"COROLLA\",\"SONIC\",\"FORTUNER\",\"FLUENCE\",\"FORTUNER\",\"COROLLA\",\"COROLLA\",\"FORTUNER\",\"SPORTAGE\",\"HILUX\",\"FORTUNER\",\"FORTUNER\",\"FLUENCE\",\"FLUENCE\",\"FLUENCE\",\"SPARK\",\"AVANZA\",\"I 10\",\"CERATO\",\"SPORTAGE\",\"FORTUNER\",\"RIO\",\"CERATO\",\"FLUENCE\",\"ELANTRA\",\"OPTIMA\",\"CERATO\",\"CERATO\",\"SPORTAGE\",\"FORTUNER\",\"FORTUNER\",\"YARIS\",\"COROLLA\",\"FORTUNER\",\"SPARK\",\"COROLLA\",\"CERATO\",\"COROLLA\",\"FORTUNER\",\"COROLLA\",\"RIO\",\"FORTUNER\",\"FORTUNER\",\"SPORTAGE\",\"FORTUNER\",\"CERATO\",\"CERATO\",\"SPORTAGE\",\"FORTUNER\",\"COROLLA\",\"YARIS\",\"COROLLA\",\"FORTUNER\",\"SPARK\",\"COROLLA\",\"AVANZA\",\"SPORTAGE\",\"PRADO\",\"RIO\",\"CERATO\",\"CAMRY\",\"SPORTAGE\",\"CRUZE\",\"FORTUNER\",\"CERATO\",\"RIO\",\"FORTUNER\",\"CERATO\",\"CRUZE\",\"SPORTAGE\",\"FORTUNER\",\"AVANZA\",\"COROLLA\",\"FORTUNER\",\"COROLLA\",\"CAMRY\",\"CAMRY\",\"RIO\",\"FORTUNER\",\"AVANZA\",\"FORTUNER\",\"SPORTAGE\",\"FORTUNER\",\"FORTUNER\",\"COROLLA\",\"H 1\",\"COROLLA\",\"H 1\",\"ELANTRA\",\"CERATO\",\"CERATO\",\"H 1\",\"AVANZA\",\"RIO\",\"RIO\",\"YARIS\",\"FLUENCE\",\"SPARK\",\"SONIC\",\"RIO\",\"ELANTRA\",\"CAMRY\",\"CAMRY\",\"I 10\",\"CERATO\",\"AVANZA\",\"YARIS\",\"AVANZA\",\"I 10\",\"CERATO\",\"ACCENT\",\"COROLLA\",\"RIO\",\"RIO\",\"YARIS\",\"FORTUNER\",\"FORTUNER\",\"RIO\",\"CERATO\",\"CRUZE\",\"RIO\",\"AVANZA\",\"SPARK\",\"CAMRY\",\"CRUZE\",\"CERATO\",\"HILUX\",\"ELANTRA\",\"FORTUNER\",\"HILUX\",\"CERATO\",\"SPORTAGE\",\"ELANTRA\",\"H 1\",\"RIO\",\"FLUENCE\",\"ELANTRA\",\"CERATO\",\"ELANTRA\",\"FORTUNER\",\"I 10\",\"CAMRY\",\"CAMRY\",\"FLUENCE\",\"ELANTRA\",\"SPARK\",\"COROLLA\",\"COROLLA\",\"TUCSAN\",\"H 1\",\"RIO\",\"FLUENCE\",\"SONIC\",\"HILUX\",\"ELANTRA\",\"HILUX\",\"YARIS\",\"YARIS\",\"H 1\",\"CERATO\",\"SPORTAGE\",\"ELANTRA\",\"H 1\",\"RIO\",\"FLUENCE\",\"ELANTRA\",\"CERATO\",\"HILUX\",\"SPARK\",\"COROLLA\",\"COROLLA\",\"CAMRY\",\"SPORTAGE\",\"FLUENCE\",\"COROLLA\",\"COROLLA\",\"COROLLA\",\"COROLLA\",\"OPTIMA\",\"FLUENCE\",\"H 1\",\"RAV 4\",\"FORTUNER\",\"COROLLA\",\"FORTUNER\",\"FORTUNER\",\"RIO\",\"COROLLA\",\"FORTUNER\",\"HILUX\",\"HILUX\",\"FORTUNER\",\"FLUENCE\",\"FORTUNER\",\"H 1\",\"CAMRY\",\"COROLLA\",\"HILUX\",\"HILUX\",\"HILUX\",\"CERATO\",\"CERATO\",\"CERATO\",\"HILUX\",\"ELANTRA\",\"CAMRY\",\"AVANZA\",\"CERATO\",\"H 1\",\"FORTUNER\",\"RIO\",\"ELANTRA\",\"FORTUNER\",\"FORTUNER\",\"SPARK\",\"FORTUNER\",\"CAMRY\",\"COROLLA\",\"RAV 4\",\"YARIS\",\"FORTUNER\",\"COROLLA\",\"H 1\",\"CERATO\",\"FORTUNER\",\"COROLLA\",\"H 1\",\"CAMRY\",\"ELANTRA\",\"SPARK\",\"H 1\",\"FORTUNER\",\"SPORTAGE\",\"COROLLA\",\"H 1\",\"COROLLA\",\"COROLLA\",\"COROLLA\",\"CRUZE\",\"PRIUS\",\"COROLLA\",\"FORTUNER\",\"H 1\",\"AVANZA\",\"ELANTRA\",\"ELANTRA\",\"FORTUNER\",\"FLUENCE\",\"H 1\",\"COROLLA\",\"H 1\",\"COROLLA\",\"AVANZA\",\"RIO\",\"FORTUNER\",\"H 1\",\"FORTUNER\",\"CERATO\",\"SPORTAGE\",\"PRADO\",\"SPARK\",\"RIO\",\"CERATO\",\"CERATO\",\"SPARK\",\"AVANZA\",\"CERATO\",\"FORTUNER\",\"CERATO\",\"AVANZA\",\"CERATO\",\"CERATO\",\"COROLLA\",\"CAMRY\",\"FLUENCE\",\"COROLLA\",\"PRADO\",\"FORTUNER\",\"FORTUNER\",\"FORTUNER\",\"HILUX\",\"CAMRY\",\"SPORTAGE\",\"PRADO\",\"COROLLA\",\"HILUX\",\"HILUX\",\"COROLLA\",\"SONIC\",\"RIO\",\"FORTUNER\",\"HILUX\",\"SPORTAGE\",\"TUCSAN\",\"FORTUNER\",\"COROLLA\",\"AVANZA\",\"YARIS\",\"SPARK\",\"AVANZA\",\"CAMRY\",\"CRUZE\",\"H 1\",\"FORTUNER\",\"PRADO\",\"HILUX\",\"FORTUNER\",\"FORTUNER\",\"HILUX\",\"I 10\",\"FORTUNER\",\"HILUX\",\"CAMRY\",\"SONIC\",\"CERATO\",\"CRUZE\",\"CERATO\",\"SPARK\",\"YARIS\",\"COROLLA\",\"SPARK\",\"RIO\",\"FLUENCE\",\"SONIC\",\"YARIS\",\"CAMRY\",\"YARIS\",\"SPORTAGE\",\"YARIS\",\"RIO\",\"TUCSAN\",\"I 10\",\"RIO\",\"I 10\",\"I 10\",\"COROLLA\",\"CERATO\",\"CAMRY\",\"COROLLA\",\"CAMRY\",\"CERATO\",\"H 1\",\"CERATO\",\"ACCENT\",\"CAMRY\",\"FLUENCE\",\"HILUX\",\"COROLLA\",\"SPARK\",\"HILUX\",\"COROLLA\",\"FLUENCE\",\"SPORTAGE\",\"COROLLA\",\"FORTUNER\",\"FLUENCE\",\"HILUX\",\"FORTUNER\",\"CERATO\",\"H 1\",\"FORTUNER\",\"SPARK\",\"CAMRY\",\"FORTUNER\",\"SONIC\",\"CERATO\",\"FORTUNER\",\"YARIS\",\"OPTIMA\",\"FORTUNER\",\"CAMRY\",\"PRIUS\",\"FORTUNER\",\"CERATO\",\"HILUX\",\"HILUX\",\"HILUX\",\"COROLLA\",\"FORTUNER\",\"COROLLA\",\"RIO\",\"ELANTRA\",\"COROLLA\",\"CERATO\",\"COROLLA\",\"FORTUNER\",\"COROLLA\",\"CERATO\",\"FORTUNER\",\"HILUX\",\"YARIS\",\"CERATO\",\"CERATO\",\"HILUX\",\"HILUX\",\"COROLLA\",\"HILUX\",\"FORTUNER\",\"RAV 4\",\"COROLLA\",\"H 1\",\"HILUX\",\"COROLLA\",\"COROLLA\",\"AVANZA\",\"HILUX\",\"HILUX\",\"CERATO\",\"COROLLA\",\"FORTUNER\",\"RIO\",\"HILUX\",\"COROLLA\",\"PRADO\",\"PRADO\",\"HILUX\",\"HILUX\",\"HILUX\",\"SPORTAGE\",\"SPARK\",\"COROLLA\",\"YARIS\",\"H 1\",\"OPTIMA\",\"YARIS\",\"YARIS\",\"FORTUNER\",\"GUNSAYIL\",\"AVANZA\",\"HILUX\",\"RIO\",\"ELANTRA\",\"AVANZA\",\"PRIUS\",\"SPORTAGE\",\"HILUX\",\"H 1\",\"COROLLA\",\"YARIS\",\"HILUX\",\"YARIS\",\"FORTUNER\",\"HILUX\",\"RIO\",\"CAMRY\",\"CERATO\",\"CAMRY\",\"CERATO\",\"YARIS\",\"SPORTAGE\",\"SPORTAGE\",\"YARIS\",\"YARIS\",\"PRIUS\",\"RIO\",\"CAMRY\",\"FORTUNER\",\"CERATO\",\"FORTUNER\",\"YARIS\",\"FORTUNER\",\"CRUZE\",\"COROLLA\",\"HILUX\",\"CRUZE\",\"SPARK\",\"COROLLA\",\"FORTUNER\",\"ELANTRA\",\"ELANTRA\",\"CERATO\",\"HILUX\",\"SPARK\",\"RIO\",\"YARIS\",\"YARIS\",\"SPARK\",\"CERATO\",\"CERATO\",\"H 1\",\"H 1\",\"FORTUNER\",\"ELANTRA\",\"HILUX\",\"HILUX\",\"HILUX\",\"COROLLA\",\"FORTUNER\",\"FLUENCE\",\"FORTUNER\",\"COROLLA\",\"ELANTRA\",\"CERATO\",\"RIO\",\"FORTUNER\",\"I 10\",\"HILUX\",\"COROLLA\",\"HILUX\",\"AVANZA\",\"RIO\",\"HILUX\",\"ELANTRA\",\"SPORTAGE\",\"TUCSAN\",\"FORTUNER\"],\"x0\":\" \",\"xaxis\":\"x\",\"y\":[6,1,1,1,1,1,1,1,1,1,1,1,1,1,1,1,1,1,1,1,1,1,1,1,1,1,1,1,1,1,1,1,1,1,1,1,1,1,1,1,1,1,1,1,1,1,1,1,1,1,1,1,1,1,1,1,1,1,1,1,1,1,1,1,1,1,1,1,1,1,1,1,1,1,1,1,1,1,1,1,1,1,1,1,1,1,1,1,1,1,1,1,1,1,1,1,1,1,2,1,1,1,1,1,1,1,1,1,1,1,1,1,1,1,1,1,1,1,1,1,1,1,1,1,1,1,1,1,1,1,1,1,1,1,1,1,1,1,1,1,1,1,1,1,1,1,1,1,1,1,1,1,1,1,1,1,1,1,1,1,1,1,1,1,1,1,1,1,1,1,2,1,1,1,1,1,1,1,1,1,1,1,1,1,1,1,1,1,1,1,1,1,1,1,1,1,1,1,1,1,1,1,1,1,1,1,1,1,1,1,1,1,1,1,1,1,1,1,1,2,1,1,1,1,1,1,1,1,1,1,1,1,1,1,1,1,1,1,1,1,1,1,1,1,1,1,1,1,1,1,1,1,1,1,1,1,1,1,1,1,1,1,1,1,1,1,1,1,1,1,1,1,1,1,1,1,1,1,1,1,1,1,1,1,1,1,1,1,1,1,1,1,1,1,1,1,1,1,1,1,1,1,1,1,1,1,1,1,1,1,1,1,1,1,1,1,1,1,1,1,1,1,1,1,1,1,1,1,1,1,1,1,1,1,1,1,1,1,1,1,1,1,1,1,7,1,1,1,1,1,1,1,1,1,1,1,1,1,1,1,1,1,1,1,1,1,1,1,1,1,1,1,1,1,1,1,1,1,1,1,1,1,1,1,1,1,1,1,1,1,1,1,1,1,1,1,1,1,1,1,1,1,1,1,1,1,1,1,1,1,1,1,1,1,1,1,1,1,1,1,1,1,1,1,1,1,1,1,1,1,1,1,1,1,1,1,1,1,1,1,1,1,1,1,1,1,1,1,1,1,1,1,1,1,1,1,1,1,1,1,1,1,1,1,1,1,1,1,1,1,1,1,1,1,1,1,1,1,1,1,1,1,1,1,1,1,1,1,1,1,1,1,1,1,1,1,1,1,1,1,1,1,1,1,1,1,1,1,1,1,1,1,1,1,1,1,1,1,1,1,1,1,1,1,1,1,1,1,1,1,1,1,1,1,1,1,1,1,1,1,1,1,1,1,1,1,1,1,1,1,1,1,1,1,1,1,1,1,1,1,1,1,1,1,1,1,1,1,1,1,1,1,1,1,1,1,1,1,1,1,1,1,1,1,1,1,1,1,1,1,1,1,1,1],\"y0\":\" \",\"yaxis\":\"y\",\"type\":\"box\"},{\"alignmentgroup\":\"True\",\"hovertemplate\":\"damage type=اصلاح كوشوك\\u003cbr\\u003ecar=%{x}\\u003cbr\\u003eservice_duration=%{y}\\u003cextra\\u003e\\u003c\\u002fextra\\u003e\",\"legendgroup\":\"اصلاح كوشوك\",\"marker\":{\"color\":\"#ab63fa\"},\"name\":\"اصلاح كوشوك\",\"notched\":false,\"offsetgroup\":\"اصلاح كوشوك\",\"orientation\":\"v\",\"showlegend\":true,\"x\":[\"CAMRY\",\"ELANTRA\",\"COROLLA\",\"FORTUNER\",\"I 10\",\"OPTIMA\",\"H 1\",\"RIO\",\"FORTUNER\",\"OPTIMA\",\"SONIC\",\"FORTUNER\",\"FORTUNER\",\"PRADO\",\"I 10\",\"H 1\",\"H 1\",\"H 1\",\"H 1\",\"H 1\",\"SONIC\",\"CERATO\",\"FORTUNER\",\"FORTUNER\",\"OPTIMA\",\"CERATO\",\"FORTUNER\",\"FORTUNER\",\"CERATO\",\"SPORTAGE\",\"FLUENCE\",\"RIO\",\"CAMRY\",\"CAMRY\",\"CERATO\",\"ELANTRA\",\"SPORTAGE\",\"RAV 4\",\"CERATO\",\"CRUZE\",\"FORTUNER\",\"CRUZE\",\"RIO\",\"H 1\",\"CERATO\",\"I 10\",\"CERATO\",\"H 1\",\"YARIS\",\"HILUX\",\"CAMRY\",\"H 1\",\"YARIS\",\"HILUX\",\"HILUX\",\"CAMRY\",\"YARIS\",\"FORTUNER\",\"ELANTRA\",\"CERATO\",\"HILUX\",\"HILUX\",\"SPORTAGE\",\"FORTUNER\",\"CERATO\",\"CAMRY\",\"SONIC\",\"CERATO\",\"FORTUNER\",\"HILUX\",\"SPARK\",\"CERATO\",\"CERATO\",\"FORTUNER\",\"FORTUNER\",\"HILUX\",\"HILUX\",\"TUCSAN\",\"I 10\",\"SPARK\",\"CAMRY\",\"FLUENCE\",\"FLUENCE\",\"SPARK\",\"H 1\",\"FORTUNER\",\"FORTUNER\",\"ELANTRA\",\"CERATO\",\"COROLLA\",\"SPARK\",\"H 1\",\"H 1\",\"FORTUNER\",\"CERATO\",\"ELANTRA\",\"OPTIMA\",\"SPORTAGE\",\"SPARK\",\"SPORTAGE\",\"I 10\",\"PRIUS\",\"H 1\",\"CERATO\",\"H 1\",\"H 1\",\"FLUENCE\",\"CAMRY\",\"FORTUNER\",\"CERATO\",\"CAMRY\",\"CERATO\",\"COROLLA\",\"OPTIMA\",\"ELANTRA\",\"CERATO\",\"COROLLA\",\"CERATO\",\"FORTUNER\",\"SPORTAGE\",\"CAMRY\",\"FORTUNER\",\"CERATO\",\"COROLLA\"],\"x0\":\" \",\"xaxis\":\"x\",\"y\":[1,1,1,1,1,1,1,1,1,4,1,1,1,1,1,1,1,1,1,1,1,1,1,32,1,1,1,1,1,1,1,1,1,1,1,1,1,1,1,1,1,1,1,1,1,1,1,1,1,1,1,1,1,1,1,1,1,1,1,1,1,1,1,1,1,1,1,1,1,1,1,1,1,1,1,1,1,1,1,1,1,1,1,1,1,1,1,1,1,1,1,1,1,1,1,1,1,1,1,1,1,1,1,1,1,1,1,1,1,1,1,1,1,1,1,1,1,1,1,1,1,1,1,1],\"y0\":\" \",\"yaxis\":\"y\",\"type\":\"box\"},{\"alignmentgroup\":\"True\",\"hovertemplate\":\"damage type=اصلاح زجاج\\u003cbr\\u003ecar=%{x}\\u003cbr\\u003eservice_duration=%{y}\\u003cextra\\u003e\\u003c\\u002fextra\\u003e\",\"legendgroup\":\"اصلاح زجاج\",\"marker\":{\"color\":\"#FFA15A\"},\"name\":\"اصلاح زجاج\",\"notched\":false,\"offsetgroup\":\"اصلاح زجاج\",\"orientation\":\"v\",\"showlegend\":true,\"x\":[\"CAMRY\",\"HILUX\",\"PRADO\",\"CERATO\",\"CERATO\",\"COROLLA\",\"CERATO\",\"AVANZA\",\"H 1\",\"COROLLA\",\"CERATO\",\"TUCSAN\",\"CERATO\",\"SPORTAGE\",\"FLUENCE\",\"H 1\",\"RIO\",\"SPORTAGE\",\"CERATO\",\"FORTUNER\",\"COROLLA\"],\"x0\":\" \",\"xaxis\":\"x\",\"y\":[2,1,1,1,1,1,1,1,1,1,1,1,1,1,1,1,1,1,1,1,1],\"y0\":\" \",\"yaxis\":\"y\",\"type\":\"box\"},{\"alignmentgroup\":\"True\",\"hovertemplate\":\"damage type=اصلاح كهرباء\\u003cbr\\u003ecar=%{x}\\u003cbr\\u003eservice_duration=%{y}\\u003cextra\\u003e\\u003c\\u002fextra\\u003e\",\"legendgroup\":\"اصلاح كهرباء\",\"marker\":{\"color\":\"#19d3f3\"},\"name\":\"اصلاح كهرباء\",\"notched\":false,\"offsetgroup\":\"اصلاح كهرباء\",\"orientation\":\"v\",\"showlegend\":true,\"x\":[\"COROLLA\",\"SPORTAGE\",\"FORTUNER\",\"SONIC\",\"RIO\",\"YARIS\",\"CERATO\",\"CERATO\",\"COROLLA\",\"COROLLA\",\"PRADO\",\"CRUZE\",\"SPARK\",\"COROLLA\",\"CAMRY\",\"CERATO\",\"CERATO\",\"CERATO\",\"SPARK\",\"COROLLA\",\"SPARK\",\"CERATO\",\"ELANTRA\",\"RIO\",\"AVANZA\",\"ELANTRA\",\"RIO\",\"SPARK\",\"COROLLA\",\"FORTUNER\",\"SPARK\",\"CAMRY\",\"CAMRY\",\"FORTUNER\",\"FORTUNER\",\"SPORTAGE\",\"H 1\",\"CERATO\",\"CERATO\",\"H 1\",\"FLUENCE\",\"HILUX\",\"FORTUNER\",\"PRADO\",\"FORTUNER\",\"CERATO\"],\"x0\":\" \",\"xaxis\":\"x\",\"y\":[1,10,13,2,1,1,1,1,1,3,1,1,1,1,1,1,1,1,1,1,1,1,1,1,1,1,1,1,1,1,1,1,1,1,1,1,1,1,1,17,1,1,1,1,1,1],\"y0\":\" \",\"yaxis\":\"y\",\"type\":\"box\"},{\"alignmentgroup\":\"True\",\"hovertemplate\":\"damage type=اصلاح فرش\\u003cbr\\u003ecar=%{x}\\u003cbr\\u003eservice_duration=%{y}\\u003cextra\\u003e\\u003c\\u002fextra\\u003e\",\"legendgroup\":\"اصلاح فرش\",\"marker\":{\"color\":\"#FF6692\"},\"name\":\"اصلاح فرش\",\"notched\":false,\"offsetgroup\":\"اصلاح فرش\",\"orientation\":\"v\",\"showlegend\":true,\"x\":[\"YARIS\",\"FORTUNER\",\"FORTUNER\",\"H 1\",\"CERATO\",\"SPORTAGE\",\"CERATO\",\"H 1\",\"FORTUNER\",\"FORTUNER\",\"COROLLA\",\"ELANTRA\",\"CERATO\",\"FORTUNER\",\"SPORTAGE\",\"FORTUNER\",\"CRUZE\",\"H 1\",\"PRUIS\"],\"x0\":\" \",\"xaxis\":\"x\",\"y\":[2,2,2,4,3,3,1,1,1,1,1,1,1,1,1,1,1,1,2],\"y0\":\" \",\"yaxis\":\"y\",\"type\":\"box\"}],                        {\"template\":{\"data\":{\"histogram2dcontour\":[{\"type\":\"histogram2dcontour\",\"colorbar\":{\"outlinewidth\":0,\"ticks\":\"\"},\"colorscale\":[[0.0,\"#0d0887\"],[0.1111111111111111,\"#46039f\"],[0.2222222222222222,\"#7201a8\"],[0.3333333333333333,\"#9c179e\"],[0.4444444444444444,\"#bd3786\"],[0.5555555555555556,\"#d8576b\"],[0.6666666666666666,\"#ed7953\"],[0.7777777777777778,\"#fb9f3a\"],[0.8888888888888888,\"#fdca26\"],[1.0,\"#f0f921\"]]}],\"choropleth\":[{\"type\":\"choropleth\",\"colorbar\":{\"outlinewidth\":0,\"ticks\":\"\"}}],\"histogram2d\":[{\"type\":\"histogram2d\",\"colorbar\":{\"outlinewidth\":0,\"ticks\":\"\"},\"colorscale\":[[0.0,\"#0d0887\"],[0.1111111111111111,\"#46039f\"],[0.2222222222222222,\"#7201a8\"],[0.3333333333333333,\"#9c179e\"],[0.4444444444444444,\"#bd3786\"],[0.5555555555555556,\"#d8576b\"],[0.6666666666666666,\"#ed7953\"],[0.7777777777777778,\"#fb9f3a\"],[0.8888888888888888,\"#fdca26\"],[1.0,\"#f0f921\"]]}],\"heatmap\":[{\"type\":\"heatmap\",\"colorbar\":{\"outlinewidth\":0,\"ticks\":\"\"},\"colorscale\":[[0.0,\"#0d0887\"],[0.1111111111111111,\"#46039f\"],[0.2222222222222222,\"#7201a8\"],[0.3333333333333333,\"#9c179e\"],[0.4444444444444444,\"#bd3786\"],[0.5555555555555556,\"#d8576b\"],[0.6666666666666666,\"#ed7953\"],[0.7777777777777778,\"#fb9f3a\"],[0.8888888888888888,\"#fdca26\"],[1.0,\"#f0f921\"]]}],\"heatmapgl\":[{\"type\":\"heatmapgl\",\"colorbar\":{\"outlinewidth\":0,\"ticks\":\"\"},\"colorscale\":[[0.0,\"#0d0887\"],[0.1111111111111111,\"#46039f\"],[0.2222222222222222,\"#7201a8\"],[0.3333333333333333,\"#9c179e\"],[0.4444444444444444,\"#bd3786\"],[0.5555555555555556,\"#d8576b\"],[0.6666666666666666,\"#ed7953\"],[0.7777777777777778,\"#fb9f3a\"],[0.8888888888888888,\"#fdca26\"],[1.0,\"#f0f921\"]]}],\"contourcarpet\":[{\"type\":\"contourcarpet\",\"colorbar\":{\"outlinewidth\":0,\"ticks\":\"\"}}],\"contour\":[{\"type\":\"contour\",\"colorbar\":{\"outlinewidth\":0,\"ticks\":\"\"},\"colorscale\":[[0.0,\"#0d0887\"],[0.1111111111111111,\"#46039f\"],[0.2222222222222222,\"#7201a8\"],[0.3333333333333333,\"#9c179e\"],[0.4444444444444444,\"#bd3786\"],[0.5555555555555556,\"#d8576b\"],[0.6666666666666666,\"#ed7953\"],[0.7777777777777778,\"#fb9f3a\"],[0.8888888888888888,\"#fdca26\"],[1.0,\"#f0f921\"]]}],\"surface\":[{\"type\":\"surface\",\"colorbar\":{\"outlinewidth\":0,\"ticks\":\"\"},\"colorscale\":[[0.0,\"#0d0887\"],[0.1111111111111111,\"#46039f\"],[0.2222222222222222,\"#7201a8\"],[0.3333333333333333,\"#9c179e\"],[0.4444444444444444,\"#bd3786\"],[0.5555555555555556,\"#d8576b\"],[0.6666666666666666,\"#ed7953\"],[0.7777777777777778,\"#fb9f3a\"],[0.8888888888888888,\"#fdca26\"],[1.0,\"#f0f921\"]]}],\"mesh3d\":[{\"type\":\"mesh3d\",\"colorbar\":{\"outlinewidth\":0,\"ticks\":\"\"}}],\"scatter\":[{\"fillpattern\":{\"fillmode\":\"overlay\",\"size\":10,\"solidity\":0.2},\"type\":\"scatter\"}],\"parcoords\":[{\"type\":\"parcoords\",\"line\":{\"colorbar\":{\"outlinewidth\":0,\"ticks\":\"\"}}}],\"scatterpolargl\":[{\"type\":\"scatterpolargl\",\"marker\":{\"colorbar\":{\"outlinewidth\":0,\"ticks\":\"\"}}}],\"bar\":[{\"error_x\":{\"color\":\"#2a3f5f\"},\"error_y\":{\"color\":\"#2a3f5f\"},\"marker\":{\"line\":{\"color\":\"#E5ECF6\",\"width\":0.5},\"pattern\":{\"fillmode\":\"overlay\",\"size\":10,\"solidity\":0.2}},\"type\":\"bar\"}],\"scattergeo\":[{\"type\":\"scattergeo\",\"marker\":{\"colorbar\":{\"outlinewidth\":0,\"ticks\":\"\"}}}],\"scatterpolar\":[{\"type\":\"scatterpolar\",\"marker\":{\"colorbar\":{\"outlinewidth\":0,\"ticks\":\"\"}}}],\"histogram\":[{\"marker\":{\"pattern\":{\"fillmode\":\"overlay\",\"size\":10,\"solidity\":0.2}},\"type\":\"histogram\"}],\"scattergl\":[{\"type\":\"scattergl\",\"marker\":{\"colorbar\":{\"outlinewidth\":0,\"ticks\":\"\"}}}],\"scatter3d\":[{\"type\":\"scatter3d\",\"line\":{\"colorbar\":{\"outlinewidth\":0,\"ticks\":\"\"}},\"marker\":{\"colorbar\":{\"outlinewidth\":0,\"ticks\":\"\"}}}],\"scattermapbox\":[{\"type\":\"scattermapbox\",\"marker\":{\"colorbar\":{\"outlinewidth\":0,\"ticks\":\"\"}}}],\"scatterternary\":[{\"type\":\"scatterternary\",\"marker\":{\"colorbar\":{\"outlinewidth\":0,\"ticks\":\"\"}}}],\"scattercarpet\":[{\"type\":\"scattercarpet\",\"marker\":{\"colorbar\":{\"outlinewidth\":0,\"ticks\":\"\"}}}],\"carpet\":[{\"aaxis\":{\"endlinecolor\":\"#2a3f5f\",\"gridcolor\":\"white\",\"linecolor\":\"white\",\"minorgridcolor\":\"white\",\"startlinecolor\":\"#2a3f5f\"},\"baxis\":{\"endlinecolor\":\"#2a3f5f\",\"gridcolor\":\"white\",\"linecolor\":\"white\",\"minorgridcolor\":\"white\",\"startlinecolor\":\"#2a3f5f\"},\"type\":\"carpet\"}],\"table\":[{\"cells\":{\"fill\":{\"color\":\"#EBF0F8\"},\"line\":{\"color\":\"white\"}},\"header\":{\"fill\":{\"color\":\"#C8D4E3\"},\"line\":{\"color\":\"white\"}},\"type\":\"table\"}],\"barpolar\":[{\"marker\":{\"line\":{\"color\":\"#E5ECF6\",\"width\":0.5},\"pattern\":{\"fillmode\":\"overlay\",\"size\":10,\"solidity\":0.2}},\"type\":\"barpolar\"}],\"pie\":[{\"automargin\":true,\"type\":\"pie\"}]},\"layout\":{\"autotypenumbers\":\"strict\",\"colorway\":[\"#636efa\",\"#EF553B\",\"#00cc96\",\"#ab63fa\",\"#FFA15A\",\"#19d3f3\",\"#FF6692\",\"#B6E880\",\"#FF97FF\",\"#FECB52\"],\"font\":{\"color\":\"#2a3f5f\"},\"hovermode\":\"closest\",\"hoverlabel\":{\"align\":\"left\"},\"paper_bgcolor\":\"white\",\"plot_bgcolor\":\"#E5ECF6\",\"polar\":{\"bgcolor\":\"#E5ECF6\",\"angularaxis\":{\"gridcolor\":\"white\",\"linecolor\":\"white\",\"ticks\":\"\"},\"radialaxis\":{\"gridcolor\":\"white\",\"linecolor\":\"white\",\"ticks\":\"\"}},\"ternary\":{\"bgcolor\":\"#E5ECF6\",\"aaxis\":{\"gridcolor\":\"white\",\"linecolor\":\"white\",\"ticks\":\"\"},\"baxis\":{\"gridcolor\":\"white\",\"linecolor\":\"white\",\"ticks\":\"\"},\"caxis\":{\"gridcolor\":\"white\",\"linecolor\":\"white\",\"ticks\":\"\"}},\"coloraxis\":{\"colorbar\":{\"outlinewidth\":0,\"ticks\":\"\"}},\"colorscale\":{\"sequential\":[[0.0,\"#0d0887\"],[0.1111111111111111,\"#46039f\"],[0.2222222222222222,\"#7201a8\"],[0.3333333333333333,\"#9c179e\"],[0.4444444444444444,\"#bd3786\"],[0.5555555555555556,\"#d8576b\"],[0.6666666666666666,\"#ed7953\"],[0.7777777777777778,\"#fb9f3a\"],[0.8888888888888888,\"#fdca26\"],[1.0,\"#f0f921\"]],\"sequentialminus\":[[0.0,\"#0d0887\"],[0.1111111111111111,\"#46039f\"],[0.2222222222222222,\"#7201a8\"],[0.3333333333333333,\"#9c179e\"],[0.4444444444444444,\"#bd3786\"],[0.5555555555555556,\"#d8576b\"],[0.6666666666666666,\"#ed7953\"],[0.7777777777777778,\"#fb9f3a\"],[0.8888888888888888,\"#fdca26\"],[1.0,\"#f0f921\"]],\"diverging\":[[0,\"#8e0152\"],[0.1,\"#c51b7d\"],[0.2,\"#de77ae\"],[0.3,\"#f1b6da\"],[0.4,\"#fde0ef\"],[0.5,\"#f7f7f7\"],[0.6,\"#e6f5d0\"],[0.7,\"#b8e186\"],[0.8,\"#7fbc41\"],[0.9,\"#4d9221\"],[1,\"#276419\"]]},\"xaxis\":{\"gridcolor\":\"white\",\"linecolor\":\"white\",\"ticks\":\"\",\"title\":{\"standoff\":15},\"zerolinecolor\":\"white\",\"automargin\":true,\"zerolinewidth\":2},\"yaxis\":{\"gridcolor\":\"white\",\"linecolor\":\"white\",\"ticks\":\"\",\"title\":{\"standoff\":15},\"zerolinecolor\":\"white\",\"automargin\":true,\"zerolinewidth\":2},\"scene\":{\"xaxis\":{\"backgroundcolor\":\"#E5ECF6\",\"gridcolor\":\"white\",\"linecolor\":\"white\",\"showbackground\":true,\"ticks\":\"\",\"zerolinecolor\":\"white\",\"gridwidth\":2},\"yaxis\":{\"backgroundcolor\":\"#E5ECF6\",\"gridcolor\":\"white\",\"linecolor\":\"white\",\"showbackground\":true,\"ticks\":\"\",\"zerolinecolor\":\"white\",\"gridwidth\":2},\"zaxis\":{\"backgroundcolor\":\"#E5ECF6\",\"gridcolor\":\"white\",\"linecolor\":\"white\",\"showbackground\":true,\"ticks\":\"\",\"zerolinecolor\":\"white\",\"gridwidth\":2}},\"shapedefaults\":{\"line\":{\"color\":\"#2a3f5f\"}},\"annotationdefaults\":{\"arrowcolor\":\"#2a3f5f\",\"arrowhead\":0,\"arrowwidth\":1},\"geo\":{\"bgcolor\":\"white\",\"landcolor\":\"#E5ECF6\",\"subunitcolor\":\"white\",\"showland\":true,\"showlakes\":true,\"lakecolor\":\"white\"},\"title\":{\"x\":0.05},\"mapbox\":{\"style\":\"light\"}}},\"xaxis\":{\"anchor\":\"y\",\"domain\":[0.0,1.0],\"title\":{\"text\":\"car\"}},\"yaxis\":{\"anchor\":\"x\",\"domain\":[0.0,1.0],\"title\":{\"text\":\"service_duration\"}},\"legend\":{\"title\":{\"text\":\"damage type\"},\"tracegroupgap\":0},\"title\":{\"text\":\"Service duration per car model\",\"x\":0.5},\"boxmode\":\"group\"},                        {\"responsive\": true}                    ).then(function(){\n",
       "                            \n",
       "var gd = document.getElementById('6e527be8-d87b-4b13-928f-d70b3c8f880b');\n",
       "var x = new MutationObserver(function (mutations, observer) {{\n",
       "        var display = window.getComputedStyle(gd).display;\n",
       "        if (!display || display === 'none') {{\n",
       "            console.log([gd, 'removed!']);\n",
       "            Plotly.purge(gd);\n",
       "            observer.disconnect();\n",
       "        }}\n",
       "}});\n",
       "\n",
       "// Listen for the removal of the full notebook cells\n",
       "var notebookContainer = gd.closest('#notebook-container');\n",
       "if (notebookContainer) {{\n",
       "    x.observe(notebookContainer, {childList: true});\n",
       "}}\n",
       "\n",
       "// Listen for the clearing of the current output cell\n",
       "var outputEl = gd.closest('.output');\n",
       "if (outputEl) {{\n",
       "    x.observe(outputEl, {childList: true});\n",
       "}}\n",
       "\n",
       "                        })                };                });            </script>        </div>"
      ]
     },
     "metadata": {},
     "output_type": "display_data"
    }
   ],
   "source": [
    "myBoxPlot(df,x='car',y='service_duration',color='damage type',title='Service duration per car model')"
   ]
  },
  {
   "cell_type": "code",
   "execution_count": 84,
   "id": "7c40c236",
   "metadata": {},
   "outputs": [],
   "source": [
    "#### Kilometers driven (KMs diff) by car model"
   ]
  },
  {
   "cell_type": "code",
   "execution_count": 86,
   "id": "0f0e6d8f",
   "metadata": {
    "scrolled": false
   },
   "outputs": [
    {
     "data": {
      "application/vnd.plotly.v1+json": {
       "config": {
        "plotlyServerURL": "https://plot.ly"
       },
       "data": [
        {
         "alignmentgroup": "True",
         "hovertemplate": "color=FORTUNER<br>x=%{x}<br>KMs Difference=%{y}<extra></extra>",
         "legendgroup": "FORTUNER",
         "marker": {
          "color": "#636efa",
          "pattern": {
           "shape": ""
          }
         },
         "name": "FORTUNER",
         "offsetgroup": "FORTUNER",
         "orientation": "v",
         "showlegend": true,
         "textposition": "auto",
         "type": "bar",
         "x": [
          "FORTUNER"
         ],
         "xaxis": "x",
         "y": [
          232
         ],
         "yaxis": "y"
        },
        {
         "alignmentgroup": "True",
         "hovertemplate": "color=CERATO<br>x=%{x}<br>KMs Difference=%{y}<extra></extra>",
         "legendgroup": "CERATO",
         "marker": {
          "color": "#EF553B",
          "pattern": {
           "shape": ""
          }
         },
         "name": "CERATO",
         "offsetgroup": "CERATO",
         "orientation": "v",
         "showlegend": true,
         "textposition": "auto",
         "type": "bar",
         "x": [
          "CERATO"
         ],
         "xaxis": "x",
         "y": [
          178
         ],
         "yaxis": "y"
        },
        {
         "alignmentgroup": "True",
         "hovertemplate": "color=COROLLA<br>x=%{x}<br>KMs Difference=%{y}<extra></extra>",
         "legendgroup": "COROLLA",
         "marker": {
          "color": "#00cc96",
          "pattern": {
           "shape": ""
          }
         },
         "name": "COROLLA",
         "offsetgroup": "COROLLA",
         "orientation": "v",
         "showlegend": true,
         "textposition": "auto",
         "type": "bar",
         "x": [
          "COROLLA"
         ],
         "xaxis": "x",
         "y": [
          156
         ],
         "yaxis": "y"
        },
        {
         "alignmentgroup": "True",
         "hovertemplate": "color=H 1<br>x=%{x}<br>KMs Difference=%{y}<extra></extra>",
         "legendgroup": "H 1",
         "marker": {
          "color": "#ab63fa",
          "pattern": {
           "shape": ""
          }
         },
         "name": "H 1",
         "offsetgroup": "H 1",
         "orientation": "v",
         "showlegend": true,
         "textposition": "auto",
         "type": "bar",
         "x": [
          "H 1"
         ],
         "xaxis": "x",
         "y": [
          101
         ],
         "yaxis": "y"
        },
        {
         "alignmentgroup": "True",
         "hovertemplate": "color=HILUX<br>x=%{x}<br>KMs Difference=%{y}<extra></extra>",
         "legendgroup": "HILUX",
         "marker": {
          "color": "#FFA15A",
          "pattern": {
           "shape": ""
          }
         },
         "name": "HILUX",
         "offsetgroup": "HILUX",
         "orientation": "v",
         "showlegend": true,
         "textposition": "auto",
         "type": "bar",
         "x": [
          "HILUX"
         ],
         "xaxis": "x",
         "y": [
          97
         ],
         "yaxis": "y"
        },
        {
         "alignmentgroup": "True",
         "hovertemplate": "color=ELANTRA<br>x=%{x}<br>KMs Difference=%{y}<extra></extra>",
         "legendgroup": "ELANTRA",
         "marker": {
          "color": "#19d3f3",
          "pattern": {
           "shape": ""
          }
         },
         "name": "ELANTRA",
         "offsetgroup": "ELANTRA",
         "orientation": "v",
         "showlegend": true,
         "textposition": "auto",
         "type": "bar",
         "x": [
          "ELANTRA"
         ],
         "xaxis": "x",
         "y": [
          87
         ],
         "yaxis": "y"
        },
        {
         "alignmentgroup": "True",
         "hovertemplate": "color=CAMRY<br>x=%{x}<br>KMs Difference=%{y}<extra></extra>",
         "legendgroup": "CAMRY",
         "marker": {
          "color": "#FF6692",
          "pattern": {
           "shape": ""
          }
         },
         "name": "CAMRY",
         "offsetgroup": "CAMRY",
         "orientation": "v",
         "showlegend": true,
         "textposition": "auto",
         "type": "bar",
         "x": [
          "CAMRY"
         ],
         "xaxis": "x",
         "y": [
          86
         ],
         "yaxis": "y"
        },
        {
         "alignmentgroup": "True",
         "hovertemplate": "color=SPARK<br>x=%{x}<br>KMs Difference=%{y}<extra></extra>",
         "legendgroup": "SPARK",
         "marker": {
          "color": "#B6E880",
          "pattern": {
           "shape": ""
          }
         },
         "name": "SPARK",
         "offsetgroup": "SPARK",
         "orientation": "v",
         "showlegend": true,
         "textposition": "auto",
         "type": "bar",
         "x": [
          "SPARK"
         ],
         "xaxis": "x",
         "y": [
          78
         ],
         "yaxis": "y"
        },
        {
         "alignmentgroup": "True",
         "hovertemplate": "color=RIO<br>x=%{x}<br>KMs Difference=%{y}<extra></extra>",
         "legendgroup": "RIO",
         "marker": {
          "color": "#FF97FF",
          "pattern": {
           "shape": ""
          }
         },
         "name": "RIO",
         "offsetgroup": "RIO",
         "orientation": "v",
         "showlegend": true,
         "textposition": "auto",
         "type": "bar",
         "x": [
          "RIO"
         ],
         "xaxis": "x",
         "y": [
          70
         ],
         "yaxis": "y"
        },
        {
         "alignmentgroup": "True",
         "hovertemplate": "color=AVANZA<br>x=%{x}<br>KMs Difference=%{y}<extra></extra>",
         "legendgroup": "AVANZA",
         "marker": {
          "color": "#FECB52",
          "pattern": {
           "shape": ""
          }
         },
         "name": "AVANZA",
         "offsetgroup": "AVANZA",
         "orientation": "v",
         "showlegend": true,
         "textposition": "auto",
         "type": "bar",
         "x": [
          "AVANZA"
         ],
         "xaxis": "x",
         "y": [
          62
         ],
         "yaxis": "y"
        },
        {
         "alignmentgroup": "True",
         "hovertemplate": "color=SPORTAGE<br>x=%{x}<br>KMs Difference=%{y}<extra></extra>",
         "legendgroup": "SPORTAGE",
         "marker": {
          "color": "#636efa",
          "pattern": {
           "shape": ""
          }
         },
         "name": "SPORTAGE",
         "offsetgroup": "SPORTAGE",
         "orientation": "v",
         "showlegend": true,
         "textposition": "auto",
         "type": "bar",
         "x": [
          "SPORTAGE"
         ],
         "xaxis": "x",
         "y": [
          61
         ],
         "yaxis": "y"
        },
        {
         "alignmentgroup": "True",
         "hovertemplate": "color=YARIS<br>x=%{x}<br>KMs Difference=%{y}<extra></extra>",
         "legendgroup": "YARIS",
         "marker": {
          "color": "#EF553B",
          "pattern": {
           "shape": ""
          }
         },
         "name": "YARIS",
         "offsetgroup": "YARIS",
         "orientation": "v",
         "showlegend": true,
         "textposition": "auto",
         "type": "bar",
         "x": [
          "YARIS"
         ],
         "xaxis": "x",
         "y": [
          56
         ],
         "yaxis": "y"
        },
        {
         "alignmentgroup": "True",
         "hovertemplate": "color=FLUENCE<br>x=%{x}<br>KMs Difference=%{y}<extra></extra>",
         "legendgroup": "FLUENCE",
         "marker": {
          "color": "#00cc96",
          "pattern": {
           "shape": ""
          }
         },
         "name": "FLUENCE",
         "offsetgroup": "FLUENCE",
         "orientation": "v",
         "showlegend": true,
         "textposition": "auto",
         "type": "bar",
         "x": [
          "FLUENCE"
         ],
         "xaxis": "x",
         "y": [
          54
         ],
         "yaxis": "y"
        },
        {
         "alignmentgroup": "True",
         "hovertemplate": "color=CRUZE<br>x=%{x}<br>KMs Difference=%{y}<extra></extra>",
         "legendgroup": "CRUZE",
         "marker": {
          "color": "#ab63fa",
          "pattern": {
           "shape": ""
          }
         },
         "name": "CRUZE",
         "offsetgroup": "CRUZE",
         "orientation": "v",
         "showlegend": true,
         "textposition": "auto",
         "type": "bar",
         "x": [
          "CRUZE"
         ],
         "xaxis": "x",
         "y": [
          44
         ],
         "yaxis": "y"
        },
        {
         "alignmentgroup": "True",
         "hovertemplate": "color=I 10<br>x=%{x}<br>KMs Difference=%{y}<extra></extra>",
         "legendgroup": "I 10",
         "marker": {
          "color": "#FFA15A",
          "pattern": {
           "shape": ""
          }
         },
         "name": "I 10",
         "offsetgroup": "I 10",
         "orientation": "v",
         "showlegend": true,
         "textposition": "auto",
         "type": "bar",
         "x": [
          "I 10"
         ],
         "xaxis": "x",
         "y": [
          37
         ],
         "yaxis": "y"
        },
        {
         "alignmentgroup": "True",
         "hovertemplate": "color=SONIC<br>x=%{x}<br>KMs Difference=%{y}<extra></extra>",
         "legendgroup": "SONIC",
         "marker": {
          "color": "#19d3f3",
          "pattern": {
           "shape": ""
          }
         },
         "name": "SONIC",
         "offsetgroup": "SONIC",
         "orientation": "v",
         "showlegend": true,
         "textposition": "auto",
         "type": "bar",
         "x": [
          "SONIC"
         ],
         "xaxis": "x",
         "y": [
          31
         ],
         "yaxis": "y"
        },
        {
         "alignmentgroup": "True",
         "hovertemplate": "color=PRADO<br>x=%{x}<br>KMs Difference=%{y}<extra></extra>",
         "legendgroup": "PRADO",
         "marker": {
          "color": "#FF6692",
          "pattern": {
           "shape": ""
          }
         },
         "name": "PRADO",
         "offsetgroup": "PRADO",
         "orientation": "v",
         "showlegend": true,
         "textposition": "auto",
         "type": "bar",
         "x": [
          "PRADO"
         ],
         "xaxis": "x",
         "y": [
          19
         ],
         "yaxis": "y"
        },
        {
         "alignmentgroup": "True",
         "hovertemplate": "color=OPTIMA<br>x=%{x}<br>KMs Difference=%{y}<extra></extra>",
         "legendgroup": "OPTIMA",
         "marker": {
          "color": "#B6E880",
          "pattern": {
           "shape": ""
          }
         },
         "name": "OPTIMA",
         "offsetgroup": "OPTIMA",
         "orientation": "v",
         "showlegend": true,
         "textposition": "auto",
         "type": "bar",
         "x": [
          "OPTIMA"
         ],
         "xaxis": "x",
         "y": [
          17
         ],
         "yaxis": "y"
        },
        {
         "alignmentgroup": "True",
         "hovertemplate": "color=TUCSAN<br>x=%{x}<br>KMs Difference=%{y}<extra></extra>",
         "legendgroup": "TUCSAN",
         "marker": {
          "color": "#FF97FF",
          "pattern": {
           "shape": ""
          }
         },
         "name": "TUCSAN",
         "offsetgroup": "TUCSAN",
         "orientation": "v",
         "showlegend": true,
         "textposition": "auto",
         "type": "bar",
         "x": [
          "TUCSAN"
         ],
         "xaxis": "x",
         "y": [
          13
         ],
         "yaxis": "y"
        },
        {
         "alignmentgroup": "True",
         "hovertemplate": "color=RAV 4<br>x=%{x}<br>KMs Difference=%{y}<extra></extra>",
         "legendgroup": "RAV 4",
         "marker": {
          "color": "#FECB52",
          "pattern": {
           "shape": ""
          }
         },
         "name": "RAV 4",
         "offsetgroup": "RAV 4",
         "orientation": "v",
         "showlegend": true,
         "textposition": "auto",
         "type": "bar",
         "x": [
          "RAV 4"
         ],
         "xaxis": "x",
         "y": [
          8
         ],
         "yaxis": "y"
        },
        {
         "alignmentgroup": "True",
         "hovertemplate": "color=PRIUS<br>x=%{x}<br>KMs Difference=%{y}<extra></extra>",
         "legendgroup": "PRIUS",
         "marker": {
          "color": "#636efa",
          "pattern": {
           "shape": ""
          }
         },
         "name": "PRIUS",
         "offsetgroup": "PRIUS",
         "orientation": "v",
         "showlegend": true,
         "textposition": "auto",
         "type": "bar",
         "x": [
          "PRIUS"
         ],
         "xaxis": "x",
         "y": [
          6
         ],
         "yaxis": "y"
        },
        {
         "alignmentgroup": "True",
         "hovertemplate": "color=ACCENT<br>x=%{x}<br>KMs Difference=%{y}<extra></extra>",
         "legendgroup": "ACCENT",
         "marker": {
          "color": "#EF553B",
          "pattern": {
           "shape": ""
          }
         },
         "name": "ACCENT",
         "offsetgroup": "ACCENT",
         "orientation": "v",
         "showlegend": true,
         "textposition": "auto",
         "type": "bar",
         "x": [
          "ACCENT"
         ],
         "xaxis": "x",
         "y": [
          3
         ],
         "yaxis": "y"
        },
        {
         "alignmentgroup": "True",
         "hovertemplate": "color=GUNSAYIL<br>x=%{x}<br>KMs Difference=%{y}<extra></extra>",
         "legendgroup": "GUNSAYIL",
         "marker": {
          "color": "#00cc96",
          "pattern": {
           "shape": ""
          }
         },
         "name": "GUNSAYIL",
         "offsetgroup": "GUNSAYIL",
         "orientation": "v",
         "showlegend": true,
         "textposition": "auto",
         "type": "bar",
         "x": [
          "GUNSAYIL"
         ],
         "xaxis": "x",
         "y": [
          1
         ],
         "yaxis": "y"
        },
        {
         "alignmentgroup": "True",
         "hovertemplate": "color=PRUIS<br>x=%{x}<br>KMs Difference=%{y}<extra></extra>",
         "legendgroup": "PRUIS",
         "marker": {
          "color": "#ab63fa",
          "pattern": {
           "shape": ""
          }
         },
         "name": "PRUIS",
         "offsetgroup": "PRUIS",
         "orientation": "v",
         "showlegend": true,
         "textposition": "auto",
         "type": "bar",
         "x": [
          "PRUIS"
         ],
         "xaxis": "x",
         "y": [
          1
         ],
         "yaxis": "y"
        },
        {
         "alignmentgroup": "True",
         "hovertemplate": "color=CITROEN<br>x=%{x}<br>KMs Difference=%{y}<extra></extra>",
         "legendgroup": "CITROEN",
         "marker": {
          "color": "#FFA15A",
          "pattern": {
           "shape": ""
          }
         },
         "name": "CITROEN",
         "offsetgroup": "CITROEN",
         "orientation": "v",
         "showlegend": true,
         "textposition": "auto",
         "type": "bar",
         "x": [
          "CITROEN"
         ],
         "xaxis": "x",
         "y": [
          1
         ],
         "yaxis": "y"
        }
       ],
       "layout": {
        "barmode": "relative",
        "legend": {
         "title": {
          "text": "color"
         },
         "tracegroupgap": 0
        },
        "template": {
         "data": {
          "bar": [
           {
            "error_x": {
             "color": "#2a3f5f"
            },
            "error_y": {
             "color": "#2a3f5f"
            },
            "marker": {
             "line": {
              "color": "#E5ECF6",
              "width": 0.5
             },
             "pattern": {
              "fillmode": "overlay",
              "size": 10,
              "solidity": 0.2
             }
            },
            "type": "bar"
           }
          ],
          "barpolar": [
           {
            "marker": {
             "line": {
              "color": "#E5ECF6",
              "width": 0.5
             },
             "pattern": {
              "fillmode": "overlay",
              "size": 10,
              "solidity": 0.2
             }
            },
            "type": "barpolar"
           }
          ],
          "carpet": [
           {
            "aaxis": {
             "endlinecolor": "#2a3f5f",
             "gridcolor": "white",
             "linecolor": "white",
             "minorgridcolor": "white",
             "startlinecolor": "#2a3f5f"
            },
            "baxis": {
             "endlinecolor": "#2a3f5f",
             "gridcolor": "white",
             "linecolor": "white",
             "minorgridcolor": "white",
             "startlinecolor": "#2a3f5f"
            },
            "type": "carpet"
           }
          ],
          "choropleth": [
           {
            "colorbar": {
             "outlinewidth": 0,
             "ticks": ""
            },
            "type": "choropleth"
           }
          ],
          "contour": [
           {
            "colorbar": {
             "outlinewidth": 0,
             "ticks": ""
            },
            "colorscale": [
             [
              0,
              "#0d0887"
             ],
             [
              0.1111111111111111,
              "#46039f"
             ],
             [
              0.2222222222222222,
              "#7201a8"
             ],
             [
              0.3333333333333333,
              "#9c179e"
             ],
             [
              0.4444444444444444,
              "#bd3786"
             ],
             [
              0.5555555555555556,
              "#d8576b"
             ],
             [
              0.6666666666666666,
              "#ed7953"
             ],
             [
              0.7777777777777778,
              "#fb9f3a"
             ],
             [
              0.8888888888888888,
              "#fdca26"
             ],
             [
              1,
              "#f0f921"
             ]
            ],
            "type": "contour"
           }
          ],
          "contourcarpet": [
           {
            "colorbar": {
             "outlinewidth": 0,
             "ticks": ""
            },
            "type": "contourcarpet"
           }
          ],
          "heatmap": [
           {
            "colorbar": {
             "outlinewidth": 0,
             "ticks": ""
            },
            "colorscale": [
             [
              0,
              "#0d0887"
             ],
             [
              0.1111111111111111,
              "#46039f"
             ],
             [
              0.2222222222222222,
              "#7201a8"
             ],
             [
              0.3333333333333333,
              "#9c179e"
             ],
             [
              0.4444444444444444,
              "#bd3786"
             ],
             [
              0.5555555555555556,
              "#d8576b"
             ],
             [
              0.6666666666666666,
              "#ed7953"
             ],
             [
              0.7777777777777778,
              "#fb9f3a"
             ],
             [
              0.8888888888888888,
              "#fdca26"
             ],
             [
              1,
              "#f0f921"
             ]
            ],
            "type": "heatmap"
           }
          ],
          "heatmapgl": [
           {
            "colorbar": {
             "outlinewidth": 0,
             "ticks": ""
            },
            "colorscale": [
             [
              0,
              "#0d0887"
             ],
             [
              0.1111111111111111,
              "#46039f"
             ],
             [
              0.2222222222222222,
              "#7201a8"
             ],
             [
              0.3333333333333333,
              "#9c179e"
             ],
             [
              0.4444444444444444,
              "#bd3786"
             ],
             [
              0.5555555555555556,
              "#d8576b"
             ],
             [
              0.6666666666666666,
              "#ed7953"
             ],
             [
              0.7777777777777778,
              "#fb9f3a"
             ],
             [
              0.8888888888888888,
              "#fdca26"
             ],
             [
              1,
              "#f0f921"
             ]
            ],
            "type": "heatmapgl"
           }
          ],
          "histogram": [
           {
            "marker": {
             "pattern": {
              "fillmode": "overlay",
              "size": 10,
              "solidity": 0.2
             }
            },
            "type": "histogram"
           }
          ],
          "histogram2d": [
           {
            "colorbar": {
             "outlinewidth": 0,
             "ticks": ""
            },
            "colorscale": [
             [
              0,
              "#0d0887"
             ],
             [
              0.1111111111111111,
              "#46039f"
             ],
             [
              0.2222222222222222,
              "#7201a8"
             ],
             [
              0.3333333333333333,
              "#9c179e"
             ],
             [
              0.4444444444444444,
              "#bd3786"
             ],
             [
              0.5555555555555556,
              "#d8576b"
             ],
             [
              0.6666666666666666,
              "#ed7953"
             ],
             [
              0.7777777777777778,
              "#fb9f3a"
             ],
             [
              0.8888888888888888,
              "#fdca26"
             ],
             [
              1,
              "#f0f921"
             ]
            ],
            "type": "histogram2d"
           }
          ],
          "histogram2dcontour": [
           {
            "colorbar": {
             "outlinewidth": 0,
             "ticks": ""
            },
            "colorscale": [
             [
              0,
              "#0d0887"
             ],
             [
              0.1111111111111111,
              "#46039f"
             ],
             [
              0.2222222222222222,
              "#7201a8"
             ],
             [
              0.3333333333333333,
              "#9c179e"
             ],
             [
              0.4444444444444444,
              "#bd3786"
             ],
             [
              0.5555555555555556,
              "#d8576b"
             ],
             [
              0.6666666666666666,
              "#ed7953"
             ],
             [
              0.7777777777777778,
              "#fb9f3a"
             ],
             [
              0.8888888888888888,
              "#fdca26"
             ],
             [
              1,
              "#f0f921"
             ]
            ],
            "type": "histogram2dcontour"
           }
          ],
          "mesh3d": [
           {
            "colorbar": {
             "outlinewidth": 0,
             "ticks": ""
            },
            "type": "mesh3d"
           }
          ],
          "parcoords": [
           {
            "line": {
             "colorbar": {
              "outlinewidth": 0,
              "ticks": ""
             }
            },
            "type": "parcoords"
           }
          ],
          "pie": [
           {
            "automargin": true,
            "type": "pie"
           }
          ],
          "scatter": [
           {
            "fillpattern": {
             "fillmode": "overlay",
             "size": 10,
             "solidity": 0.2
            },
            "type": "scatter"
           }
          ],
          "scatter3d": [
           {
            "line": {
             "colorbar": {
              "outlinewidth": 0,
              "ticks": ""
             }
            },
            "marker": {
             "colorbar": {
              "outlinewidth": 0,
              "ticks": ""
             }
            },
            "type": "scatter3d"
           }
          ],
          "scattercarpet": [
           {
            "marker": {
             "colorbar": {
              "outlinewidth": 0,
              "ticks": ""
             }
            },
            "type": "scattercarpet"
           }
          ],
          "scattergeo": [
           {
            "marker": {
             "colorbar": {
              "outlinewidth": 0,
              "ticks": ""
             }
            },
            "type": "scattergeo"
           }
          ],
          "scattergl": [
           {
            "marker": {
             "colorbar": {
              "outlinewidth": 0,
              "ticks": ""
             }
            },
            "type": "scattergl"
           }
          ],
          "scattermapbox": [
           {
            "marker": {
             "colorbar": {
              "outlinewidth": 0,
              "ticks": ""
             }
            },
            "type": "scattermapbox"
           }
          ],
          "scatterpolar": [
           {
            "marker": {
             "colorbar": {
              "outlinewidth": 0,
              "ticks": ""
             }
            },
            "type": "scatterpolar"
           }
          ],
          "scatterpolargl": [
           {
            "marker": {
             "colorbar": {
              "outlinewidth": 0,
              "ticks": ""
             }
            },
            "type": "scatterpolargl"
           }
          ],
          "scatterternary": [
           {
            "marker": {
             "colorbar": {
              "outlinewidth": 0,
              "ticks": ""
             }
            },
            "type": "scatterternary"
           }
          ],
          "surface": [
           {
            "colorbar": {
             "outlinewidth": 0,
             "ticks": ""
            },
            "colorscale": [
             [
              0,
              "#0d0887"
             ],
             [
              0.1111111111111111,
              "#46039f"
             ],
             [
              0.2222222222222222,
              "#7201a8"
             ],
             [
              0.3333333333333333,
              "#9c179e"
             ],
             [
              0.4444444444444444,
              "#bd3786"
             ],
             [
              0.5555555555555556,
              "#d8576b"
             ],
             [
              0.6666666666666666,
              "#ed7953"
             ],
             [
              0.7777777777777778,
              "#fb9f3a"
             ],
             [
              0.8888888888888888,
              "#fdca26"
             ],
             [
              1,
              "#f0f921"
             ]
            ],
            "type": "surface"
           }
          ],
          "table": [
           {
            "cells": {
             "fill": {
              "color": "#EBF0F8"
             },
             "line": {
              "color": "white"
             }
            },
            "header": {
             "fill": {
              "color": "#C8D4E3"
             },
             "line": {
              "color": "white"
             }
            },
            "type": "table"
           }
          ]
         },
         "layout": {
          "annotationdefaults": {
           "arrowcolor": "#2a3f5f",
           "arrowhead": 0,
           "arrowwidth": 1
          },
          "autotypenumbers": "strict",
          "coloraxis": {
           "colorbar": {
            "outlinewidth": 0,
            "ticks": ""
           }
          },
          "colorscale": {
           "diverging": [
            [
             0,
             "#8e0152"
            ],
            [
             0.1,
             "#c51b7d"
            ],
            [
             0.2,
             "#de77ae"
            ],
            [
             0.3,
             "#f1b6da"
            ],
            [
             0.4,
             "#fde0ef"
            ],
            [
             0.5,
             "#f7f7f7"
            ],
            [
             0.6,
             "#e6f5d0"
            ],
            [
             0.7,
             "#b8e186"
            ],
            [
             0.8,
             "#7fbc41"
            ],
            [
             0.9,
             "#4d9221"
            ],
            [
             1,
             "#276419"
            ]
           ],
           "sequential": [
            [
             0,
             "#0d0887"
            ],
            [
             0.1111111111111111,
             "#46039f"
            ],
            [
             0.2222222222222222,
             "#7201a8"
            ],
            [
             0.3333333333333333,
             "#9c179e"
            ],
            [
             0.4444444444444444,
             "#bd3786"
            ],
            [
             0.5555555555555556,
             "#d8576b"
            ],
            [
             0.6666666666666666,
             "#ed7953"
            ],
            [
             0.7777777777777778,
             "#fb9f3a"
            ],
            [
             0.8888888888888888,
             "#fdca26"
            ],
            [
             1,
             "#f0f921"
            ]
           ],
           "sequentialminus": [
            [
             0,
             "#0d0887"
            ],
            [
             0.1111111111111111,
             "#46039f"
            ],
            [
             0.2222222222222222,
             "#7201a8"
            ],
            [
             0.3333333333333333,
             "#9c179e"
            ],
            [
             0.4444444444444444,
             "#bd3786"
            ],
            [
             0.5555555555555556,
             "#d8576b"
            ],
            [
             0.6666666666666666,
             "#ed7953"
            ],
            [
             0.7777777777777778,
             "#fb9f3a"
            ],
            [
             0.8888888888888888,
             "#fdca26"
            ],
            [
             1,
             "#f0f921"
            ]
           ]
          },
          "colorway": [
           "#636efa",
           "#EF553B",
           "#00cc96",
           "#ab63fa",
           "#FFA15A",
           "#19d3f3",
           "#FF6692",
           "#B6E880",
           "#FF97FF",
           "#FECB52"
          ],
          "font": {
           "color": "#2a3f5f"
          },
          "geo": {
           "bgcolor": "white",
           "lakecolor": "white",
           "landcolor": "#E5ECF6",
           "showlakes": true,
           "showland": true,
           "subunitcolor": "white"
          },
          "hoverlabel": {
           "align": "left"
          },
          "hovermode": "closest",
          "mapbox": {
           "style": "light"
          },
          "paper_bgcolor": "white",
          "plot_bgcolor": "#E5ECF6",
          "polar": {
           "angularaxis": {
            "gridcolor": "white",
            "linecolor": "white",
            "ticks": ""
           },
           "bgcolor": "#E5ECF6",
           "radialaxis": {
            "gridcolor": "white",
            "linecolor": "white",
            "ticks": ""
           }
          },
          "scene": {
           "xaxis": {
            "backgroundcolor": "#E5ECF6",
            "gridcolor": "white",
            "gridwidth": 2,
            "linecolor": "white",
            "showbackground": true,
            "ticks": "",
            "zerolinecolor": "white"
           },
           "yaxis": {
            "backgroundcolor": "#E5ECF6",
            "gridcolor": "white",
            "gridwidth": 2,
            "linecolor": "white",
            "showbackground": true,
            "ticks": "",
            "zerolinecolor": "white"
           },
           "zaxis": {
            "backgroundcolor": "#E5ECF6",
            "gridcolor": "white",
            "gridwidth": 2,
            "linecolor": "white",
            "showbackground": true,
            "ticks": "",
            "zerolinecolor": "white"
           }
          },
          "shapedefaults": {
           "line": {
            "color": "#2a3f5f"
           }
          },
          "ternary": {
           "aaxis": {
            "gridcolor": "white",
            "linecolor": "white",
            "ticks": ""
           },
           "baxis": {
            "gridcolor": "white",
            "linecolor": "white",
            "ticks": ""
           },
           "bgcolor": "#E5ECF6",
           "caxis": {
            "gridcolor": "white",
            "linecolor": "white",
            "ticks": ""
           }
          },
          "title": {
           "x": 0.05
          },
          "xaxis": {
           "automargin": true,
           "gridcolor": "white",
           "linecolor": "white",
           "ticks": "",
           "title": {
            "standoff": 15
           },
           "zerolinecolor": "white",
           "zerolinewidth": 2
          },
          "yaxis": {
           "automargin": true,
           "gridcolor": "white",
           "linecolor": "white",
           "ticks": "",
           "title": {
            "standoff": 15
           },
           "zerolinecolor": "white",
           "zerolinewidth": 2
          }
         }
        },
        "title": {
         "text": "Kilometers driven (KMs diff) by car model Analysis",
         "x": 0.5
        },
        "xaxis": {
         "anchor": "y",
         "domain": [
          0,
          1
         ],
         "title": {
          "text": "car"
         }
        },
        "yaxis": {
         "anchor": "x",
         "domain": [
          0,
          1
         ],
         "title": {
          "text": "KMs Difference"
         }
        }
       }
      },
      "text/html": [
       "<div>                            <div id=\"ffb86469-5be8-4100-9cad-2b1e5148b083\" class=\"plotly-graph-div\" style=\"height:525px; width:100%;\"></div>            <script type=\"text/javascript\">                require([\"plotly\"], function(Plotly) {                    window.PLOTLYENV=window.PLOTLYENV || {};                                    if (document.getElementById(\"ffb86469-5be8-4100-9cad-2b1e5148b083\")) {                    Plotly.newPlot(                        \"ffb86469-5be8-4100-9cad-2b1e5148b083\",                        [{\"alignmentgroup\":\"True\",\"hovertemplate\":\"color=FORTUNER\\u003cbr\\u003ex=%{x}\\u003cbr\\u003eKMs Difference=%{y}\\u003cextra\\u003e\\u003c\\u002fextra\\u003e\",\"legendgroup\":\"FORTUNER\",\"marker\":{\"color\":\"#636efa\",\"pattern\":{\"shape\":\"\"}},\"name\":\"FORTUNER\",\"offsetgroup\":\"FORTUNER\",\"orientation\":\"v\",\"showlegend\":true,\"textposition\":\"auto\",\"x\":[\"FORTUNER\"],\"xaxis\":\"x\",\"y\":[232],\"yaxis\":\"y\",\"type\":\"bar\"},{\"alignmentgroup\":\"True\",\"hovertemplate\":\"color=CERATO\\u003cbr\\u003ex=%{x}\\u003cbr\\u003eKMs Difference=%{y}\\u003cextra\\u003e\\u003c\\u002fextra\\u003e\",\"legendgroup\":\"CERATO\",\"marker\":{\"color\":\"#EF553B\",\"pattern\":{\"shape\":\"\"}},\"name\":\"CERATO\",\"offsetgroup\":\"CERATO\",\"orientation\":\"v\",\"showlegend\":true,\"textposition\":\"auto\",\"x\":[\"CERATO\"],\"xaxis\":\"x\",\"y\":[178],\"yaxis\":\"y\",\"type\":\"bar\"},{\"alignmentgroup\":\"True\",\"hovertemplate\":\"color=COROLLA\\u003cbr\\u003ex=%{x}\\u003cbr\\u003eKMs Difference=%{y}\\u003cextra\\u003e\\u003c\\u002fextra\\u003e\",\"legendgroup\":\"COROLLA\",\"marker\":{\"color\":\"#00cc96\",\"pattern\":{\"shape\":\"\"}},\"name\":\"COROLLA\",\"offsetgroup\":\"COROLLA\",\"orientation\":\"v\",\"showlegend\":true,\"textposition\":\"auto\",\"x\":[\"COROLLA\"],\"xaxis\":\"x\",\"y\":[156],\"yaxis\":\"y\",\"type\":\"bar\"},{\"alignmentgroup\":\"True\",\"hovertemplate\":\"color=H 1\\u003cbr\\u003ex=%{x}\\u003cbr\\u003eKMs Difference=%{y}\\u003cextra\\u003e\\u003c\\u002fextra\\u003e\",\"legendgroup\":\"H 1\",\"marker\":{\"color\":\"#ab63fa\",\"pattern\":{\"shape\":\"\"}},\"name\":\"H 1\",\"offsetgroup\":\"H 1\",\"orientation\":\"v\",\"showlegend\":true,\"textposition\":\"auto\",\"x\":[\"H 1\"],\"xaxis\":\"x\",\"y\":[101],\"yaxis\":\"y\",\"type\":\"bar\"},{\"alignmentgroup\":\"True\",\"hovertemplate\":\"color=HILUX\\u003cbr\\u003ex=%{x}\\u003cbr\\u003eKMs Difference=%{y}\\u003cextra\\u003e\\u003c\\u002fextra\\u003e\",\"legendgroup\":\"HILUX\",\"marker\":{\"color\":\"#FFA15A\",\"pattern\":{\"shape\":\"\"}},\"name\":\"HILUX\",\"offsetgroup\":\"HILUX\",\"orientation\":\"v\",\"showlegend\":true,\"textposition\":\"auto\",\"x\":[\"HILUX\"],\"xaxis\":\"x\",\"y\":[97],\"yaxis\":\"y\",\"type\":\"bar\"},{\"alignmentgroup\":\"True\",\"hovertemplate\":\"color=ELANTRA\\u003cbr\\u003ex=%{x}\\u003cbr\\u003eKMs Difference=%{y}\\u003cextra\\u003e\\u003c\\u002fextra\\u003e\",\"legendgroup\":\"ELANTRA\",\"marker\":{\"color\":\"#19d3f3\",\"pattern\":{\"shape\":\"\"}},\"name\":\"ELANTRA\",\"offsetgroup\":\"ELANTRA\",\"orientation\":\"v\",\"showlegend\":true,\"textposition\":\"auto\",\"x\":[\"ELANTRA\"],\"xaxis\":\"x\",\"y\":[87],\"yaxis\":\"y\",\"type\":\"bar\"},{\"alignmentgroup\":\"True\",\"hovertemplate\":\"color=CAMRY\\u003cbr\\u003ex=%{x}\\u003cbr\\u003eKMs Difference=%{y}\\u003cextra\\u003e\\u003c\\u002fextra\\u003e\",\"legendgroup\":\"CAMRY\",\"marker\":{\"color\":\"#FF6692\",\"pattern\":{\"shape\":\"\"}},\"name\":\"CAMRY\",\"offsetgroup\":\"CAMRY\",\"orientation\":\"v\",\"showlegend\":true,\"textposition\":\"auto\",\"x\":[\"CAMRY\"],\"xaxis\":\"x\",\"y\":[86],\"yaxis\":\"y\",\"type\":\"bar\"},{\"alignmentgroup\":\"True\",\"hovertemplate\":\"color=SPARK\\u003cbr\\u003ex=%{x}\\u003cbr\\u003eKMs Difference=%{y}\\u003cextra\\u003e\\u003c\\u002fextra\\u003e\",\"legendgroup\":\"SPARK\",\"marker\":{\"color\":\"#B6E880\",\"pattern\":{\"shape\":\"\"}},\"name\":\"SPARK\",\"offsetgroup\":\"SPARK\",\"orientation\":\"v\",\"showlegend\":true,\"textposition\":\"auto\",\"x\":[\"SPARK\"],\"xaxis\":\"x\",\"y\":[78],\"yaxis\":\"y\",\"type\":\"bar\"},{\"alignmentgroup\":\"True\",\"hovertemplate\":\"color=RIO\\u003cbr\\u003ex=%{x}\\u003cbr\\u003eKMs Difference=%{y}\\u003cextra\\u003e\\u003c\\u002fextra\\u003e\",\"legendgroup\":\"RIO\",\"marker\":{\"color\":\"#FF97FF\",\"pattern\":{\"shape\":\"\"}},\"name\":\"RIO\",\"offsetgroup\":\"RIO\",\"orientation\":\"v\",\"showlegend\":true,\"textposition\":\"auto\",\"x\":[\"RIO\"],\"xaxis\":\"x\",\"y\":[70],\"yaxis\":\"y\",\"type\":\"bar\"},{\"alignmentgroup\":\"True\",\"hovertemplate\":\"color=AVANZA\\u003cbr\\u003ex=%{x}\\u003cbr\\u003eKMs Difference=%{y}\\u003cextra\\u003e\\u003c\\u002fextra\\u003e\",\"legendgroup\":\"AVANZA\",\"marker\":{\"color\":\"#FECB52\",\"pattern\":{\"shape\":\"\"}},\"name\":\"AVANZA\",\"offsetgroup\":\"AVANZA\",\"orientation\":\"v\",\"showlegend\":true,\"textposition\":\"auto\",\"x\":[\"AVANZA\"],\"xaxis\":\"x\",\"y\":[62],\"yaxis\":\"y\",\"type\":\"bar\"},{\"alignmentgroup\":\"True\",\"hovertemplate\":\"color=SPORTAGE\\u003cbr\\u003ex=%{x}\\u003cbr\\u003eKMs Difference=%{y}\\u003cextra\\u003e\\u003c\\u002fextra\\u003e\",\"legendgroup\":\"SPORTAGE\",\"marker\":{\"color\":\"#636efa\",\"pattern\":{\"shape\":\"\"}},\"name\":\"SPORTAGE\",\"offsetgroup\":\"SPORTAGE\",\"orientation\":\"v\",\"showlegend\":true,\"textposition\":\"auto\",\"x\":[\"SPORTAGE\"],\"xaxis\":\"x\",\"y\":[61],\"yaxis\":\"y\",\"type\":\"bar\"},{\"alignmentgroup\":\"True\",\"hovertemplate\":\"color=YARIS\\u003cbr\\u003ex=%{x}\\u003cbr\\u003eKMs Difference=%{y}\\u003cextra\\u003e\\u003c\\u002fextra\\u003e\",\"legendgroup\":\"YARIS\",\"marker\":{\"color\":\"#EF553B\",\"pattern\":{\"shape\":\"\"}},\"name\":\"YARIS\",\"offsetgroup\":\"YARIS\",\"orientation\":\"v\",\"showlegend\":true,\"textposition\":\"auto\",\"x\":[\"YARIS\"],\"xaxis\":\"x\",\"y\":[56],\"yaxis\":\"y\",\"type\":\"bar\"},{\"alignmentgroup\":\"True\",\"hovertemplate\":\"color=FLUENCE\\u003cbr\\u003ex=%{x}\\u003cbr\\u003eKMs Difference=%{y}\\u003cextra\\u003e\\u003c\\u002fextra\\u003e\",\"legendgroup\":\"FLUENCE\",\"marker\":{\"color\":\"#00cc96\",\"pattern\":{\"shape\":\"\"}},\"name\":\"FLUENCE\",\"offsetgroup\":\"FLUENCE\",\"orientation\":\"v\",\"showlegend\":true,\"textposition\":\"auto\",\"x\":[\"FLUENCE\"],\"xaxis\":\"x\",\"y\":[54],\"yaxis\":\"y\",\"type\":\"bar\"},{\"alignmentgroup\":\"True\",\"hovertemplate\":\"color=CRUZE\\u003cbr\\u003ex=%{x}\\u003cbr\\u003eKMs Difference=%{y}\\u003cextra\\u003e\\u003c\\u002fextra\\u003e\",\"legendgroup\":\"CRUZE\",\"marker\":{\"color\":\"#ab63fa\",\"pattern\":{\"shape\":\"\"}},\"name\":\"CRUZE\",\"offsetgroup\":\"CRUZE\",\"orientation\":\"v\",\"showlegend\":true,\"textposition\":\"auto\",\"x\":[\"CRUZE\"],\"xaxis\":\"x\",\"y\":[44],\"yaxis\":\"y\",\"type\":\"bar\"},{\"alignmentgroup\":\"True\",\"hovertemplate\":\"color=I 10\\u003cbr\\u003ex=%{x}\\u003cbr\\u003eKMs Difference=%{y}\\u003cextra\\u003e\\u003c\\u002fextra\\u003e\",\"legendgroup\":\"I 10\",\"marker\":{\"color\":\"#FFA15A\",\"pattern\":{\"shape\":\"\"}},\"name\":\"I 10\",\"offsetgroup\":\"I 10\",\"orientation\":\"v\",\"showlegend\":true,\"textposition\":\"auto\",\"x\":[\"I 10\"],\"xaxis\":\"x\",\"y\":[37],\"yaxis\":\"y\",\"type\":\"bar\"},{\"alignmentgroup\":\"True\",\"hovertemplate\":\"color=SONIC\\u003cbr\\u003ex=%{x}\\u003cbr\\u003eKMs Difference=%{y}\\u003cextra\\u003e\\u003c\\u002fextra\\u003e\",\"legendgroup\":\"SONIC\",\"marker\":{\"color\":\"#19d3f3\",\"pattern\":{\"shape\":\"\"}},\"name\":\"SONIC\",\"offsetgroup\":\"SONIC\",\"orientation\":\"v\",\"showlegend\":true,\"textposition\":\"auto\",\"x\":[\"SONIC\"],\"xaxis\":\"x\",\"y\":[31],\"yaxis\":\"y\",\"type\":\"bar\"},{\"alignmentgroup\":\"True\",\"hovertemplate\":\"color=PRADO\\u003cbr\\u003ex=%{x}\\u003cbr\\u003eKMs Difference=%{y}\\u003cextra\\u003e\\u003c\\u002fextra\\u003e\",\"legendgroup\":\"PRADO\",\"marker\":{\"color\":\"#FF6692\",\"pattern\":{\"shape\":\"\"}},\"name\":\"PRADO\",\"offsetgroup\":\"PRADO\",\"orientation\":\"v\",\"showlegend\":true,\"textposition\":\"auto\",\"x\":[\"PRADO\"],\"xaxis\":\"x\",\"y\":[19],\"yaxis\":\"y\",\"type\":\"bar\"},{\"alignmentgroup\":\"True\",\"hovertemplate\":\"color=OPTIMA\\u003cbr\\u003ex=%{x}\\u003cbr\\u003eKMs Difference=%{y}\\u003cextra\\u003e\\u003c\\u002fextra\\u003e\",\"legendgroup\":\"OPTIMA\",\"marker\":{\"color\":\"#B6E880\",\"pattern\":{\"shape\":\"\"}},\"name\":\"OPTIMA\",\"offsetgroup\":\"OPTIMA\",\"orientation\":\"v\",\"showlegend\":true,\"textposition\":\"auto\",\"x\":[\"OPTIMA\"],\"xaxis\":\"x\",\"y\":[17],\"yaxis\":\"y\",\"type\":\"bar\"},{\"alignmentgroup\":\"True\",\"hovertemplate\":\"color=TUCSAN\\u003cbr\\u003ex=%{x}\\u003cbr\\u003eKMs Difference=%{y}\\u003cextra\\u003e\\u003c\\u002fextra\\u003e\",\"legendgroup\":\"TUCSAN\",\"marker\":{\"color\":\"#FF97FF\",\"pattern\":{\"shape\":\"\"}},\"name\":\"TUCSAN\",\"offsetgroup\":\"TUCSAN\",\"orientation\":\"v\",\"showlegend\":true,\"textposition\":\"auto\",\"x\":[\"TUCSAN\"],\"xaxis\":\"x\",\"y\":[13],\"yaxis\":\"y\",\"type\":\"bar\"},{\"alignmentgroup\":\"True\",\"hovertemplate\":\"color=RAV 4\\u003cbr\\u003ex=%{x}\\u003cbr\\u003eKMs Difference=%{y}\\u003cextra\\u003e\\u003c\\u002fextra\\u003e\",\"legendgroup\":\"RAV 4\",\"marker\":{\"color\":\"#FECB52\",\"pattern\":{\"shape\":\"\"}},\"name\":\"RAV 4\",\"offsetgroup\":\"RAV 4\",\"orientation\":\"v\",\"showlegend\":true,\"textposition\":\"auto\",\"x\":[\"RAV 4\"],\"xaxis\":\"x\",\"y\":[8],\"yaxis\":\"y\",\"type\":\"bar\"},{\"alignmentgroup\":\"True\",\"hovertemplate\":\"color=PRIUS\\u003cbr\\u003ex=%{x}\\u003cbr\\u003eKMs Difference=%{y}\\u003cextra\\u003e\\u003c\\u002fextra\\u003e\",\"legendgroup\":\"PRIUS\",\"marker\":{\"color\":\"#636efa\",\"pattern\":{\"shape\":\"\"}},\"name\":\"PRIUS\",\"offsetgroup\":\"PRIUS\",\"orientation\":\"v\",\"showlegend\":true,\"textposition\":\"auto\",\"x\":[\"PRIUS\"],\"xaxis\":\"x\",\"y\":[6],\"yaxis\":\"y\",\"type\":\"bar\"},{\"alignmentgroup\":\"True\",\"hovertemplate\":\"color=ACCENT\\u003cbr\\u003ex=%{x}\\u003cbr\\u003eKMs Difference=%{y}\\u003cextra\\u003e\\u003c\\u002fextra\\u003e\",\"legendgroup\":\"ACCENT\",\"marker\":{\"color\":\"#EF553B\",\"pattern\":{\"shape\":\"\"}},\"name\":\"ACCENT\",\"offsetgroup\":\"ACCENT\",\"orientation\":\"v\",\"showlegend\":true,\"textposition\":\"auto\",\"x\":[\"ACCENT\"],\"xaxis\":\"x\",\"y\":[3],\"yaxis\":\"y\",\"type\":\"bar\"},{\"alignmentgroup\":\"True\",\"hovertemplate\":\"color=GUNSAYIL\\u003cbr\\u003ex=%{x}\\u003cbr\\u003eKMs Difference=%{y}\\u003cextra\\u003e\\u003c\\u002fextra\\u003e\",\"legendgroup\":\"GUNSAYIL\",\"marker\":{\"color\":\"#00cc96\",\"pattern\":{\"shape\":\"\"}},\"name\":\"GUNSAYIL\",\"offsetgroup\":\"GUNSAYIL\",\"orientation\":\"v\",\"showlegend\":true,\"textposition\":\"auto\",\"x\":[\"GUNSAYIL\"],\"xaxis\":\"x\",\"y\":[1],\"yaxis\":\"y\",\"type\":\"bar\"},{\"alignmentgroup\":\"True\",\"hovertemplate\":\"color=PRUIS\\u003cbr\\u003ex=%{x}\\u003cbr\\u003eKMs Difference=%{y}\\u003cextra\\u003e\\u003c\\u002fextra\\u003e\",\"legendgroup\":\"PRUIS\",\"marker\":{\"color\":\"#ab63fa\",\"pattern\":{\"shape\":\"\"}},\"name\":\"PRUIS\",\"offsetgroup\":\"PRUIS\",\"orientation\":\"v\",\"showlegend\":true,\"textposition\":\"auto\",\"x\":[\"PRUIS\"],\"xaxis\":\"x\",\"y\":[1],\"yaxis\":\"y\",\"type\":\"bar\"},{\"alignmentgroup\":\"True\",\"hovertemplate\":\"color=CITROEN\\u003cbr\\u003ex=%{x}\\u003cbr\\u003eKMs Difference=%{y}\\u003cextra\\u003e\\u003c\\u002fextra\\u003e\",\"legendgroup\":\"CITROEN\",\"marker\":{\"color\":\"#FFA15A\",\"pattern\":{\"shape\":\"\"}},\"name\":\"CITROEN\",\"offsetgroup\":\"CITROEN\",\"orientation\":\"v\",\"showlegend\":true,\"textposition\":\"auto\",\"x\":[\"CITROEN\"],\"xaxis\":\"x\",\"y\":[1],\"yaxis\":\"y\",\"type\":\"bar\"}],                        {\"template\":{\"data\":{\"histogram2dcontour\":[{\"type\":\"histogram2dcontour\",\"colorbar\":{\"outlinewidth\":0,\"ticks\":\"\"},\"colorscale\":[[0.0,\"#0d0887\"],[0.1111111111111111,\"#46039f\"],[0.2222222222222222,\"#7201a8\"],[0.3333333333333333,\"#9c179e\"],[0.4444444444444444,\"#bd3786\"],[0.5555555555555556,\"#d8576b\"],[0.6666666666666666,\"#ed7953\"],[0.7777777777777778,\"#fb9f3a\"],[0.8888888888888888,\"#fdca26\"],[1.0,\"#f0f921\"]]}],\"choropleth\":[{\"type\":\"choropleth\",\"colorbar\":{\"outlinewidth\":0,\"ticks\":\"\"}}],\"histogram2d\":[{\"type\":\"histogram2d\",\"colorbar\":{\"outlinewidth\":0,\"ticks\":\"\"},\"colorscale\":[[0.0,\"#0d0887\"],[0.1111111111111111,\"#46039f\"],[0.2222222222222222,\"#7201a8\"],[0.3333333333333333,\"#9c179e\"],[0.4444444444444444,\"#bd3786\"],[0.5555555555555556,\"#d8576b\"],[0.6666666666666666,\"#ed7953\"],[0.7777777777777778,\"#fb9f3a\"],[0.8888888888888888,\"#fdca26\"],[1.0,\"#f0f921\"]]}],\"heatmap\":[{\"type\":\"heatmap\",\"colorbar\":{\"outlinewidth\":0,\"ticks\":\"\"},\"colorscale\":[[0.0,\"#0d0887\"],[0.1111111111111111,\"#46039f\"],[0.2222222222222222,\"#7201a8\"],[0.3333333333333333,\"#9c179e\"],[0.4444444444444444,\"#bd3786\"],[0.5555555555555556,\"#d8576b\"],[0.6666666666666666,\"#ed7953\"],[0.7777777777777778,\"#fb9f3a\"],[0.8888888888888888,\"#fdca26\"],[1.0,\"#f0f921\"]]}],\"heatmapgl\":[{\"type\":\"heatmapgl\",\"colorbar\":{\"outlinewidth\":0,\"ticks\":\"\"},\"colorscale\":[[0.0,\"#0d0887\"],[0.1111111111111111,\"#46039f\"],[0.2222222222222222,\"#7201a8\"],[0.3333333333333333,\"#9c179e\"],[0.4444444444444444,\"#bd3786\"],[0.5555555555555556,\"#d8576b\"],[0.6666666666666666,\"#ed7953\"],[0.7777777777777778,\"#fb9f3a\"],[0.8888888888888888,\"#fdca26\"],[1.0,\"#f0f921\"]]}],\"contourcarpet\":[{\"type\":\"contourcarpet\",\"colorbar\":{\"outlinewidth\":0,\"ticks\":\"\"}}],\"contour\":[{\"type\":\"contour\",\"colorbar\":{\"outlinewidth\":0,\"ticks\":\"\"},\"colorscale\":[[0.0,\"#0d0887\"],[0.1111111111111111,\"#46039f\"],[0.2222222222222222,\"#7201a8\"],[0.3333333333333333,\"#9c179e\"],[0.4444444444444444,\"#bd3786\"],[0.5555555555555556,\"#d8576b\"],[0.6666666666666666,\"#ed7953\"],[0.7777777777777778,\"#fb9f3a\"],[0.8888888888888888,\"#fdca26\"],[1.0,\"#f0f921\"]]}],\"surface\":[{\"type\":\"surface\",\"colorbar\":{\"outlinewidth\":0,\"ticks\":\"\"},\"colorscale\":[[0.0,\"#0d0887\"],[0.1111111111111111,\"#46039f\"],[0.2222222222222222,\"#7201a8\"],[0.3333333333333333,\"#9c179e\"],[0.4444444444444444,\"#bd3786\"],[0.5555555555555556,\"#d8576b\"],[0.6666666666666666,\"#ed7953\"],[0.7777777777777778,\"#fb9f3a\"],[0.8888888888888888,\"#fdca26\"],[1.0,\"#f0f921\"]]}],\"mesh3d\":[{\"type\":\"mesh3d\",\"colorbar\":{\"outlinewidth\":0,\"ticks\":\"\"}}],\"scatter\":[{\"fillpattern\":{\"fillmode\":\"overlay\",\"size\":10,\"solidity\":0.2},\"type\":\"scatter\"}],\"parcoords\":[{\"type\":\"parcoords\",\"line\":{\"colorbar\":{\"outlinewidth\":0,\"ticks\":\"\"}}}],\"scatterpolargl\":[{\"type\":\"scatterpolargl\",\"marker\":{\"colorbar\":{\"outlinewidth\":0,\"ticks\":\"\"}}}],\"bar\":[{\"error_x\":{\"color\":\"#2a3f5f\"},\"error_y\":{\"color\":\"#2a3f5f\"},\"marker\":{\"line\":{\"color\":\"#E5ECF6\",\"width\":0.5},\"pattern\":{\"fillmode\":\"overlay\",\"size\":10,\"solidity\":0.2}},\"type\":\"bar\"}],\"scattergeo\":[{\"type\":\"scattergeo\",\"marker\":{\"colorbar\":{\"outlinewidth\":0,\"ticks\":\"\"}}}],\"scatterpolar\":[{\"type\":\"scatterpolar\",\"marker\":{\"colorbar\":{\"outlinewidth\":0,\"ticks\":\"\"}}}],\"histogram\":[{\"marker\":{\"pattern\":{\"fillmode\":\"overlay\",\"size\":10,\"solidity\":0.2}},\"type\":\"histogram\"}],\"scattergl\":[{\"type\":\"scattergl\",\"marker\":{\"colorbar\":{\"outlinewidth\":0,\"ticks\":\"\"}}}],\"scatter3d\":[{\"type\":\"scatter3d\",\"line\":{\"colorbar\":{\"outlinewidth\":0,\"ticks\":\"\"}},\"marker\":{\"colorbar\":{\"outlinewidth\":0,\"ticks\":\"\"}}}],\"scattermapbox\":[{\"type\":\"scattermapbox\",\"marker\":{\"colorbar\":{\"outlinewidth\":0,\"ticks\":\"\"}}}],\"scatterternary\":[{\"type\":\"scatterternary\",\"marker\":{\"colorbar\":{\"outlinewidth\":0,\"ticks\":\"\"}}}],\"scattercarpet\":[{\"type\":\"scattercarpet\",\"marker\":{\"colorbar\":{\"outlinewidth\":0,\"ticks\":\"\"}}}],\"carpet\":[{\"aaxis\":{\"endlinecolor\":\"#2a3f5f\",\"gridcolor\":\"white\",\"linecolor\":\"white\",\"minorgridcolor\":\"white\",\"startlinecolor\":\"#2a3f5f\"},\"baxis\":{\"endlinecolor\":\"#2a3f5f\",\"gridcolor\":\"white\",\"linecolor\":\"white\",\"minorgridcolor\":\"white\",\"startlinecolor\":\"#2a3f5f\"},\"type\":\"carpet\"}],\"table\":[{\"cells\":{\"fill\":{\"color\":\"#EBF0F8\"},\"line\":{\"color\":\"white\"}},\"header\":{\"fill\":{\"color\":\"#C8D4E3\"},\"line\":{\"color\":\"white\"}},\"type\":\"table\"}],\"barpolar\":[{\"marker\":{\"line\":{\"color\":\"#E5ECF6\",\"width\":0.5},\"pattern\":{\"fillmode\":\"overlay\",\"size\":10,\"solidity\":0.2}},\"type\":\"barpolar\"}],\"pie\":[{\"automargin\":true,\"type\":\"pie\"}]},\"layout\":{\"autotypenumbers\":\"strict\",\"colorway\":[\"#636efa\",\"#EF553B\",\"#00cc96\",\"#ab63fa\",\"#FFA15A\",\"#19d3f3\",\"#FF6692\",\"#B6E880\",\"#FF97FF\",\"#FECB52\"],\"font\":{\"color\":\"#2a3f5f\"},\"hovermode\":\"closest\",\"hoverlabel\":{\"align\":\"left\"},\"paper_bgcolor\":\"white\",\"plot_bgcolor\":\"#E5ECF6\",\"polar\":{\"bgcolor\":\"#E5ECF6\",\"angularaxis\":{\"gridcolor\":\"white\",\"linecolor\":\"white\",\"ticks\":\"\"},\"radialaxis\":{\"gridcolor\":\"white\",\"linecolor\":\"white\",\"ticks\":\"\"}},\"ternary\":{\"bgcolor\":\"#E5ECF6\",\"aaxis\":{\"gridcolor\":\"white\",\"linecolor\":\"white\",\"ticks\":\"\"},\"baxis\":{\"gridcolor\":\"white\",\"linecolor\":\"white\",\"ticks\":\"\"},\"caxis\":{\"gridcolor\":\"white\",\"linecolor\":\"white\",\"ticks\":\"\"}},\"coloraxis\":{\"colorbar\":{\"outlinewidth\":0,\"ticks\":\"\"}},\"colorscale\":{\"sequential\":[[0.0,\"#0d0887\"],[0.1111111111111111,\"#46039f\"],[0.2222222222222222,\"#7201a8\"],[0.3333333333333333,\"#9c179e\"],[0.4444444444444444,\"#bd3786\"],[0.5555555555555556,\"#d8576b\"],[0.6666666666666666,\"#ed7953\"],[0.7777777777777778,\"#fb9f3a\"],[0.8888888888888888,\"#fdca26\"],[1.0,\"#f0f921\"]],\"sequentialminus\":[[0.0,\"#0d0887\"],[0.1111111111111111,\"#46039f\"],[0.2222222222222222,\"#7201a8\"],[0.3333333333333333,\"#9c179e\"],[0.4444444444444444,\"#bd3786\"],[0.5555555555555556,\"#d8576b\"],[0.6666666666666666,\"#ed7953\"],[0.7777777777777778,\"#fb9f3a\"],[0.8888888888888888,\"#fdca26\"],[1.0,\"#f0f921\"]],\"diverging\":[[0,\"#8e0152\"],[0.1,\"#c51b7d\"],[0.2,\"#de77ae\"],[0.3,\"#f1b6da\"],[0.4,\"#fde0ef\"],[0.5,\"#f7f7f7\"],[0.6,\"#e6f5d0\"],[0.7,\"#b8e186\"],[0.8,\"#7fbc41\"],[0.9,\"#4d9221\"],[1,\"#276419\"]]},\"xaxis\":{\"gridcolor\":\"white\",\"linecolor\":\"white\",\"ticks\":\"\",\"title\":{\"standoff\":15},\"zerolinecolor\":\"white\",\"automargin\":true,\"zerolinewidth\":2},\"yaxis\":{\"gridcolor\":\"white\",\"linecolor\":\"white\",\"ticks\":\"\",\"title\":{\"standoff\":15},\"zerolinecolor\":\"white\",\"automargin\":true,\"zerolinewidth\":2},\"scene\":{\"xaxis\":{\"backgroundcolor\":\"#E5ECF6\",\"gridcolor\":\"white\",\"linecolor\":\"white\",\"showbackground\":true,\"ticks\":\"\",\"zerolinecolor\":\"white\",\"gridwidth\":2},\"yaxis\":{\"backgroundcolor\":\"#E5ECF6\",\"gridcolor\":\"white\",\"linecolor\":\"white\",\"showbackground\":true,\"ticks\":\"\",\"zerolinecolor\":\"white\",\"gridwidth\":2},\"zaxis\":{\"backgroundcolor\":\"#E5ECF6\",\"gridcolor\":\"white\",\"linecolor\":\"white\",\"showbackground\":true,\"ticks\":\"\",\"zerolinecolor\":\"white\",\"gridwidth\":2}},\"shapedefaults\":{\"line\":{\"color\":\"#2a3f5f\"}},\"annotationdefaults\":{\"arrowcolor\":\"#2a3f5f\",\"arrowhead\":0,\"arrowwidth\":1},\"geo\":{\"bgcolor\":\"white\",\"landcolor\":\"#E5ECF6\",\"subunitcolor\":\"white\",\"showland\":true,\"showlakes\":true,\"lakecolor\":\"white\"},\"title\":{\"x\":0.05},\"mapbox\":{\"style\":\"light\"}}},\"xaxis\":{\"anchor\":\"y\",\"domain\":[0.0,1.0],\"title\":{\"text\":\"car\"}},\"yaxis\":{\"anchor\":\"x\",\"domain\":[0.0,1.0],\"title\":{\"text\":\"KMs Difference\"}},\"legend\":{\"title\":{\"text\":\"color\"},\"tracegroupgap\":0},\"title\":{\"text\":\"Kilometers driven (KMs diff) by car model Analysis\",\"x\":0.5},\"barmode\":\"relative\"},                        {\"responsive\": true}                    ).then(function(){\n",
       "                            \n",
       "var gd = document.getElementById('ffb86469-5be8-4100-9cad-2b1e5148b083');\n",
       "var x = new MutationObserver(function (mutations, observer) {{\n",
       "        var display = window.getComputedStyle(gd).display;\n",
       "        if (!display || display === 'none') {{\n",
       "            console.log([gd, 'removed!']);\n",
       "            Plotly.purge(gd);\n",
       "            observer.disconnect();\n",
       "        }}\n",
       "}});\n",
       "\n",
       "// Listen for the removal of the full notebook cells\n",
       "var notebookContainer = gd.closest('#notebook-container');\n",
       "if (notebookContainer) {{\n",
       "    x.observe(notebookContainer, {childList: true});\n",
       "}}\n",
       "\n",
       "// Listen for the clearing of the current output cell\n",
       "var outputEl = gd.closest('.output');\n",
       "if (outputEl) {{\n",
       "    x.observe(outputEl, {childList: true});\n",
       "}}\n",
       "\n",
       "                        })                };                });            </script>        </div>"
      ]
     },
     "metadata": {},
     "output_type": "display_data"
    }
   ],
   "source": [
    "KMsDiff_car = df.groupby(['car'])['KMs Diff'].size().sort_values(ascending=False).reset_index(name='KMs Difference')\n",
    "myPlot1(KMsDiff_car,xs='car',ys='KMs Difference',clr='car',plotType='bar',title='Kilometers driven (KMs diff) by car model', sort_by=None, ascending=True)"
   ]
  },
  {
   "cell_type": "code",
   "execution_count": null,
   "id": "e757ae2f",
   "metadata": {},
   "outputs": [],
   "source": [
    "#### Car model distribution by service location"
   ]
  },
  {
   "cell_type": "code",
   "execution_count": 108,
   "id": "9d271025",
   "metadata": {},
   "outputs": [
    {
     "data": {
      "application/vnd.plotly.v1+json": {
       "config": {
        "plotlyServerURL": "https://plot.ly"
       },
       "data": [
        {
         "alignmentgroup": "True",
         "hovertemplate": "car=AVANZA<br>Service Location=%{x}<br>Count=%{y}<extra></extra>",
         "legendgroup": "AVANZA",
         "marker": {
          "color": "#636efa",
          "pattern": {
           "shape": ""
          }
         },
         "name": "AVANZA",
         "offsetgroup": "AVANZA",
         "orientation": "v",
         "showlegend": true,
         "textposition": "auto",
         "type": "bar",
         "x": [
          "4 جيد",
          "ابو نعمه",
          "الغزاوي",
          "القسطل",
          "المحطه",
          "المركزية",
          "المركزيه+زكي",
          "امجد العطاري",
          "تم التركيب ف صويلح",
          "شارلي",
          "غزاوي",
          "مشربش"
         ],
         "xaxis": "x",
         "y": [
          1,
          1,
          26,
          11,
          1,
          14,
          2,
          1,
          1,
          1,
          2,
          1
         ],
         "yaxis": "y"
        },
        {
         "alignmentgroup": "True",
         "hovertemplate": "car=CAMRY<br>Service Location=%{x}<br>Count=%{y}<extra></extra>",
         "legendgroup": "CAMRY",
         "marker": {
          "color": "#EF553B",
          "pattern": {
           "shape": ""
          }
         },
         "name": "CAMRY",
         "offsetgroup": "CAMRY",
         "orientation": "v",
         "showlegend": true,
         "textposition": "auto",
         "type": "bar",
         "x": [
          "4 جيد",
          "ابو نعمه",
          "الغزاوي",
          "الغزاوي+معاذ",
          "القسطل",
          "المركزية",
          "المركزيه+زكي",
          "المسة الذهبية",
          "اليادودة",
          "شارلي",
          "غزاوي",
          "قسطل",
          "كيا",
          "معاذ عليان",
          "هانكونك"
         ],
         "xaxis": "x",
         "y": [
          11,
          2,
          20,
          2,
          14,
          12,
          1,
          1,
          1,
          6,
          4,
          3,
          1,
          7,
          1
         ],
         "yaxis": "y"
        },
        {
         "alignmentgroup": "True",
         "hovertemplate": "car=CERATO<br>Service Location=%{x}<br>Count=%{y}<extra></extra>",
         "legendgroup": "CERATO",
         "marker": {
          "color": "#00cc96",
          "pattern": {
           "shape": ""
          }
         },
         "name": "CERATO",
         "offsetgroup": "CERATO",
         "orientation": "v",
         "showlegend": true,
         "textposition": "auto",
         "type": "bar",
         "x": [
          "4 جيد",
          "ابو خضر",
          "ابو نعمه",
          "الصالحي",
          "الغزاوي",
          "القسطل",
          "الماسيه زجاج سيارات",
          "المركزية",
          "المركزيه+زكي",
          "المكتب",
          "اليادودة",
          "امجد العطاري",
          "جلاسكو",
          "ريمان",
          "زكي البهو",
          "غزاوي",
          "فهر",
          "قسطل",
          "قفيشة",
          "كيا",
          "محطة الرشاد",
          "مشربش",
          "معاذ عليان"
         ],
         "xaxis": "x",
         "y": [
          17,
          1,
          4,
          1,
          52,
          31,
          2,
          10,
          4,
          1,
          2,
          4,
          3,
          1,
          2,
          12,
          2,
          2,
          2,
          1,
          2,
          4,
          18
         ],
         "yaxis": "y"
        },
        {
         "alignmentgroup": "True",
         "hovertemplate": "car=COROLLA<br>Service Location=%{x}<br>Count=%{y}<extra></extra>",
         "legendgroup": "COROLLA",
         "marker": {
          "color": "#ab63fa",
          "pattern": {
           "shape": ""
          }
         },
         "name": "COROLLA",
         "offsetgroup": "COROLLA",
         "orientation": "v",
         "showlegend": true,
         "textposition": "auto",
         "type": "bar",
         "x": [
          "4 جيد",
          "ابو خضر",
          "ابو نعمه",
          "العبدلي",
          "العمله",
          "الغزاوي",
          "الغزاوي+معاذ",
          "القسطل",
          "المحطه",
          "المركزية",
          "المركزيه+زكي",
          "المسة الذهبية",
          "المفرق",
          "المكتب",
          "امجد العطاري",
          "جلاسكو",
          "زكي البهو",
          "غزاوي",
          "في الطفيله",
          "قسطل",
          "محطة الرشاد",
          "مشربش",
          "معاذ عليان",
          "هانكونك"
         ],
         "xaxis": "x",
         "y": [
          6,
          1,
          3,
          1,
          1,
          58,
          3,
          24,
          1,
          19,
          1,
          1,
          2,
          2,
          6,
          1,
          1,
          14,
          1,
          2,
          1,
          2,
          4,
          1
         ],
         "yaxis": "y"
        },
        {
         "alignmentgroup": "True",
         "hovertemplate": "car=CRUZE<br>Service Location=%{x}<br>Count=%{y}<extra></extra>",
         "legendgroup": "CRUZE",
         "marker": {
          "color": "#FFA15A",
          "pattern": {
           "shape": ""
          }
         },
         "name": "CRUZE",
         "offsetgroup": "CRUZE",
         "orientation": "v",
         "showlegend": true,
         "textposition": "auto",
         "type": "bar",
         "x": [
          "4 جيد",
          "ابو نعمه",
          "الغزاوي",
          "القسطل",
          "المركزية",
          "المسة الذهبية",
          "امجد العطاري",
          "تم التركيب ف صويلح",
          "زكي البهو",
          "شارلي",
          "غزاوي",
          "معاذ عليان"
         ],
         "xaxis": "x",
         "y": [
          4,
          2,
          15,
          4,
          8,
          1,
          1,
          1,
          1,
          1,
          2,
          4
         ],
         "yaxis": "y"
        },
        {
         "alignmentgroup": "True",
         "hovertemplate": "car=ELANTRA<br>Service Location=%{x}<br>Count=%{y}<extra></extra>",
         "legendgroup": "ELANTRA",
         "marker": {
          "color": "#19d3f3",
          "pattern": {
           "shape": ""
          }
         },
         "name": "ELANTRA",
         "offsetgroup": "ELANTRA",
         "orientation": "v",
         "showlegend": true,
         "textposition": "auto",
         "type": "bar",
         "x": [
          "4 جيد",
          "ابو نعمه",
          "الصالحي",
          "الغزاوي",
          "الغزاوي+معاذ",
          "القسطل",
          "المحطه",
          "المركزية",
          "المركزيه+زكي",
          "امجد العطاري",
          "تم التركيب ف صويلح",
          "زكي البهو",
          "شارلي",
          "غزاوي",
          "قسطل",
          "معاذ عليان",
          "هانكونك"
         ],
         "xaxis": "x",
         "y": [
          5,
          1,
          1,
          38,
          2,
          7,
          1,
          11,
          1,
          6,
          1,
          1,
          1,
          4,
          1,
          5,
          1
         ],
         "yaxis": "y"
        },
        {
         "alignmentgroup": "True",
         "hovertemplate": "car=FLUENCE<br>Service Location=%{x}<br>Count=%{y}<extra></extra>",
         "legendgroup": "FLUENCE",
         "marker": {
          "color": "#FF6692",
          "pattern": {
           "shape": ""
          }
         },
         "name": "FLUENCE",
         "offsetgroup": "FLUENCE",
         "orientation": "v",
         "showlegend": true,
         "textposition": "auto",
         "type": "bar",
         "x": [
          "4 جيد",
          "ابو خضر",
          "العبدلي",
          "الغزاوي",
          "القسطل",
          "المركزية",
          "تم التركيب ف صويلح",
          "ريمان",
          "زكي البهو",
          "شارلي",
          "غزاوي",
          "فهر",
          "في الطفيله",
          "معاذ عليان"
         ],
         "xaxis": "x",
         "y": [
          2,
          1,
          1,
          23,
          5,
          6,
          1,
          1,
          1,
          1,
          6,
          1,
          1,
          4
         ],
         "yaxis": "y"
        },
        {
         "alignmentgroup": "True",
         "hovertemplate": "car=FORTUNER<br>Service Location=%{x}<br>Count=%{y}<extra></extra>",
         "legendgroup": "FORTUNER",
         "marker": {
          "color": "#B6E880",
          "pattern": {
           "shape": ""
          }
         },
         "name": "FORTUNER",
         "offsetgroup": "FORTUNER",
         "orientation": "v",
         "showlegend": true,
         "textposition": "auto",
         "type": "bar",
         "x": [
          "4 جيد",
          "ابو خضر",
          "ابو نعمه",
          "الصالحي",
          "العمله",
          "الغزاوي",
          "الغزاوي+معاذ",
          "القسطل",
          "المركزية",
          "المركزيه+زكي",
          "المفرق",
          "المكتب",
          "اليادودة",
          "امجد العطاري",
          "جلاسكو",
          "ريمان",
          "زكي البهو",
          "شارلي",
          "غزاوي",
          "في الطفيله",
          "مشربش",
          "معاذ عليان",
          "هانكونك"
         ],
         "xaxis": "x",
         "y": [
          4,
          2,
          2,
          2,
          1,
          107,
          1,
          21,
          25,
          1,
          1,
          1,
          2,
          5,
          1,
          2,
          1,
          2,
          24,
          3,
          1,
          17,
          6
         ],
         "yaxis": "y"
        },
        {
         "alignmentgroup": "True",
         "hovertemplate": "car=H 1<br>Service Location=%{x}<br>Count=%{y}<extra></extra>",
         "legendgroup": "H 1",
         "marker": {
          "color": "#FF97FF",
          "pattern": {
           "shape": ""
          }
         },
         "name": "H 1",
         "offsetgroup": "H 1",
         "orientation": "v",
         "showlegend": true,
         "textposition": "auto",
         "type": "bar",
         "x": [
          "4 جيد",
          "العبدلي",
          "الغزاوي",
          "القسطل",
          "الماسيه زجاج سيارات",
          "المركزية",
          "المركزيه+زكي",
          "امجد العطاري",
          "ريمان",
          "شارلي",
          "غزاوي",
          "قسطل",
          "مشربش",
          "معاذ عليان",
          "هانكونك"
         ],
         "xaxis": "x",
         "y": [
          11,
          2,
          42,
          4,
          1,
          9,
          1,
          3,
          1,
          1,
          7,
          2,
          2,
          10,
          5
         ],
         "yaxis": "y"
        },
        {
         "alignmentgroup": "True",
         "hovertemplate": "car=OPTIMA<br>Service Location=%{x}<br>Count=%{y}<extra></extra>",
         "legendgroup": "OPTIMA",
         "marker": {
          "color": "#FECB52",
          "pattern": {
           "shape": ""
          }
         },
         "name": "OPTIMA",
         "offsetgroup": "OPTIMA",
         "orientation": "v",
         "showlegend": true,
         "textposition": "auto",
         "type": "bar",
         "x": [
          "4 جيد",
          "الغزاوي",
          "القسطل",
          "المركزية",
          "غزاوي",
          "قسطل",
          "معاذ عليان",
          "هانكونك"
         ],
         "xaxis": "x",
         "y": [
          1,
          5,
          1,
          2,
          2,
          1,
          3,
          2
         ],
         "yaxis": "y"
        },
        {
         "alignmentgroup": "True",
         "hovertemplate": "car=RIO<br>Service Location=%{x}<br>Count=%{y}<extra></extra>",
         "legendgroup": "RIO",
         "marker": {
          "color": "#636efa",
          "pattern": {
           "shape": ""
          }
         },
         "name": "RIO",
         "offsetgroup": "RIO",
         "orientation": "v",
         "showlegend": true,
         "textposition": "auto",
         "type": "bar",
         "x": [
          "4 جيد",
          "ابو نعمه",
          "العمله",
          "الغزاوي",
          "الغزاوي+معاذ",
          "القسطل",
          "المركزية",
          "المركزيه+زكي",
          "امجد العطاري",
          "زكي البهو",
          "شارلي",
          "غزاوي",
          "قسطل",
          "مشربش",
          "معاذ عليان",
          "هانكونك"
         ],
         "xaxis": "x",
         "y": [
          3,
          2,
          1,
          20,
          1,
          20,
          4,
          1,
          2,
          1,
          3,
          5,
          2,
          1,
          3,
          1
         ],
         "yaxis": "y"
        },
        {
         "alignmentgroup": "True",
         "hovertemplate": "car=SONIC<br>Service Location=%{x}<br>Count=%{y}<extra></extra>",
         "legendgroup": "SONIC",
         "marker": {
          "color": "#EF553B",
          "pattern": {
           "shape": ""
          }
         },
         "name": "SONIC",
         "offsetgroup": "SONIC",
         "orientation": "v",
         "showlegend": true,
         "textposition": "auto",
         "type": "bar",
         "x": [
          "4 جيد",
          "ابو خضر",
          "الغزاوي",
          "القسطل",
          "المركزية",
          "المركزيه+زكي",
          "شارلي",
          "غزاوي",
          "معاذ عليان",
          "هانكونك"
         ],
         "xaxis": "x",
         "y": [
          4,
          2,
          11,
          6,
          1,
          1,
          1,
          2,
          2,
          1
         ],
         "yaxis": "y"
        },
        {
         "alignmentgroup": "True",
         "hovertemplate": "car=SPARK<br>Service Location=%{x}<br>Count=%{y}<extra></extra>",
         "legendgroup": "SPARK",
         "marker": {
          "color": "#00cc96",
          "pattern": {
           "shape": ""
          }
         },
         "name": "SPARK",
         "offsetgroup": "SPARK",
         "orientation": "v",
         "showlegend": true,
         "textposition": "auto",
         "type": "bar",
         "x": [
          "4 جيد",
          "ابو خضر",
          "ابو نعمه",
          "الغزاوي",
          "الغزاوي+معاذ",
          "القسطل",
          "المركزية",
          "المركزيه+زكي",
          "شارلي",
          "غزاوي",
          "قسطل",
          "معاذ عليان"
         ],
         "xaxis": "x",
         "y": [
          5,
          1,
          3,
          30,
          1,
          19,
          4,
          1,
          3,
          5,
          1,
          5
         ],
         "yaxis": "y"
        },
        {
         "alignmentgroup": "True",
         "hovertemplate": "car=SPORTAGE<br>Service Location=%{x}<br>Count=%{y}<extra></extra>",
         "legendgroup": "SPORTAGE",
         "marker": {
          "color": "#ab63fa",
          "pattern": {
           "shape": ""
          }
         },
         "name": "SPORTAGE",
         "offsetgroup": "SPORTAGE",
         "orientation": "v",
         "showlegend": true,
         "textposition": "auto",
         "type": "bar",
         "x": [
          "4 جيد",
          "الغزاوي",
          "القسطل",
          "المركزية",
          "امجد العطاري",
          "جلاسكو",
          "زكي البهو",
          "شارلي",
          "غزاوي",
          "قسطل",
          "كيا",
          "مشربش",
          "معاذ عليان"
         ],
         "xaxis": "x",
         "y": [
          1,
          29,
          8,
          1,
          2,
          2,
          1,
          2,
          5,
          2,
          2,
          1,
          5
         ],
         "yaxis": "y"
        },
        {
         "alignmentgroup": "True",
         "hovertemplate": "car=TUCSAN<br>Service Location=%{x}<br>Count=%{y}<extra></extra>",
         "legendgroup": "TUCSAN",
         "marker": {
          "color": "#FFA15A",
          "pattern": {
           "shape": ""
          }
         },
         "name": "TUCSAN",
         "offsetgroup": "TUCSAN",
         "orientation": "v",
         "showlegend": true,
         "textposition": "auto",
         "type": "bar",
         "x": [
          "4 جيد",
          "العمله",
          "الغزاوي",
          "القسطل",
          "المركزية",
          "شارلي",
          "مشربش",
          "معاذ عليان",
          "هانكونك"
         ],
         "xaxis": "x",
         "y": [
          1,
          1,
          4,
          2,
          1,
          1,
          1,
          1,
          1
         ],
         "yaxis": "y"
        },
        {
         "alignmentgroup": "True",
         "hovertemplate": "car=YARIS<br>Service Location=%{x}<br>Count=%{y}<extra></extra>",
         "legendgroup": "YARIS",
         "marker": {
          "color": "#19d3f3",
          "pattern": {
           "shape": ""
          }
         },
         "name": "YARIS",
         "offsetgroup": "YARIS",
         "orientation": "v",
         "showlegend": true,
         "textposition": "auto",
         "type": "bar",
         "x": [
          "4 جيد",
          "ابو نعمه",
          "العبدلي",
          "الغزاوي",
          "القسطل",
          "المركزية",
          "امجد العطاري",
          "غزاوي",
          "قسطل",
          "قفيشة",
          "معاذ عليان"
         ],
         "xaxis": "x",
         "y": [
          5,
          1,
          1,
          16,
          9,
          6,
          2,
          4,
          6,
          1,
          5
         ],
         "yaxis": "y"
        },
        {
         "alignmentgroup": "True",
         "hovertemplate": "car=PRADO<br>Service Location=%{x}<br>Count=%{y}<extra></extra>",
         "legendgroup": "PRADO",
         "marker": {
          "color": "#FF6692",
          "pattern": {
           "shape": ""
          }
         },
         "name": "PRADO",
         "offsetgroup": "PRADO",
         "orientation": "v",
         "showlegend": true,
         "textposition": "auto",
         "type": "bar",
         "x": [
          "ابو نعمه",
          "الغزاوي",
          "القسطل",
          "المركزية",
          "امجد العطاري",
          "غزاوي",
          "مشربش",
          "معاذ عليان"
         ],
         "xaxis": "x",
         "y": [
          1,
          7,
          2,
          3,
          3,
          1,
          1,
          1
         ],
         "yaxis": "y"
        },
        {
         "alignmentgroup": "True",
         "hovertemplate": "car=HILUX<br>Service Location=%{x}<br>Count=%{y}<extra></extra>",
         "legendgroup": "HILUX",
         "marker": {
          "color": "#B6E880",
          "pattern": {
           "shape": ""
          }
         },
         "name": "HILUX",
         "offsetgroup": "HILUX",
         "orientation": "v",
         "showlegend": true,
         "textposition": "auto",
         "type": "bar",
         "x": [
          "العبدلي",
          "الغزاوي",
          "الغزاوي+معاذ",
          "الماسيه زجاج سيارات",
          "المحطه",
          "المركزية",
          "المسة الذهبية",
          "المفرق",
          "المكتب",
          "امجد العطاري",
          "شارلي",
          "غزاوي",
          "فهر",
          "في الطفيله",
          "قفيشة",
          "محطة الرشاد",
          "مشربش",
          "معاذ عليان"
         ],
         "xaxis": "x",
         "y": [
          1,
          47,
          2,
          1,
          2,
          8,
          1,
          1,
          1,
          7,
          2,
          11,
          1,
          1,
          1,
          1,
          1,
          8
         ],
         "yaxis": "y"
        },
        {
         "alignmentgroup": "True",
         "hovertemplate": "car=I 10<br>Service Location=%{x}<br>Count=%{y}<extra></extra>",
         "legendgroup": "I 10",
         "marker": {
          "color": "#FF97FF",
          "pattern": {
           "shape": ""
          }
         },
         "name": "I 10",
         "offsetgroup": "I 10",
         "orientation": "v",
         "showlegend": true,
         "textposition": "auto",
         "type": "bar",
         "x": [
          "الغزاوي",
          "القسطل",
          "المركزية",
          "امجد العطاري",
          "زكي البهو",
          "شارلي",
          "غزاوي",
          "معاذ عليان",
          "هانكونك"
         ],
         "xaxis": "x",
         "y": [
          10,
          12,
          3,
          2,
          2,
          1,
          1,
          5,
          1
         ],
         "yaxis": "y"
        },
        {
         "alignmentgroup": "True",
         "hovertemplate": "car=PRIUS<br>Service Location=%{x}<br>Count=%{y}<extra></extra>",
         "legendgroup": "PRIUS",
         "marker": {
          "color": "#FECB52",
          "pattern": {
           "shape": ""
          }
         },
         "name": "PRIUS",
         "offsetgroup": "PRIUS",
         "orientation": "v",
         "showlegend": true,
         "textposition": "auto",
         "type": "bar",
         "x": [
          "الغزاوي",
          "امجد العطاري",
          "غزاوي",
          "قسطل",
          "معاذ عليان"
         ],
         "xaxis": "x",
         "y": [
          2,
          1,
          1,
          1,
          1
         ],
         "yaxis": "y"
        },
        {
         "alignmentgroup": "True",
         "hovertemplate": "car=RAV 4<br>Service Location=%{x}<br>Count=%{y}<extra></extra>",
         "legendgroup": "RAV 4",
         "marker": {
          "color": "#636efa",
          "pattern": {
           "shape": ""
          }
         },
         "name": "RAV 4",
         "offsetgroup": "RAV 4",
         "orientation": "v",
         "showlegend": true,
         "textposition": "auto",
         "type": "bar",
         "x": [
          "الغزاوي",
          "الغزاوي+معاذ",
          "المركزية",
          "غزاوي",
          "معاذ عليان"
         ],
         "xaxis": "x",
         "y": [
          4,
          1,
          1,
          1,
          1
         ],
         "yaxis": "y"
        },
        {
         "alignmentgroup": "True",
         "hovertemplate": "car=PRUIS<br>Service Location=%{x}<br>Count=%{y}<extra></extra>",
         "legendgroup": "PRUIS",
         "marker": {
          "color": "#EF553B",
          "pattern": {
           "shape": ""
          }
         },
         "name": "PRUIS",
         "offsetgroup": "PRUIS",
         "orientation": "v",
         "showlegend": true,
         "textposition": "auto",
         "type": "bar",
         "x": [
          "الغزاوي+معاذ"
         ],
         "xaxis": "x",
         "y": [
          1
         ],
         "yaxis": "y"
        },
        {
         "alignmentgroup": "True",
         "hovertemplate": "car=ACCENT<br>Service Location=%{x}<br>Count=%{y}<extra></extra>",
         "legendgroup": "ACCENT",
         "marker": {
          "color": "#00cc96",
          "pattern": {
           "shape": ""
          }
         },
         "name": "ACCENT",
         "offsetgroup": "ACCENT",
         "orientation": "v",
         "showlegend": true,
         "textposition": "auto",
         "type": "bar",
         "x": [
          "القسطل",
          "غزاوي"
         ],
         "xaxis": "x",
         "y": [
          2,
          1
         ],
         "yaxis": "y"
        },
        {
         "alignmentgroup": "True",
         "hovertemplate": "car=CITROEN<br>Service Location=%{x}<br>Count=%{y}<extra></extra>",
         "legendgroup": "CITROEN",
         "marker": {
          "color": "#ab63fa",
          "pattern": {
           "shape": ""
          }
         },
         "name": "CITROEN",
         "offsetgroup": "CITROEN",
         "orientation": "v",
         "showlegend": true,
         "textposition": "auto",
         "type": "bar",
         "x": [
          "المركزية"
         ],
         "xaxis": "x",
         "y": [
          1
         ],
         "yaxis": "y"
        },
        {
         "alignmentgroup": "True",
         "hovertemplate": "car=GUNSAYIL<br>Service Location=%{x}<br>Count=%{y}<extra></extra>",
         "legendgroup": "GUNSAYIL",
         "marker": {
          "color": "#FFA15A",
          "pattern": {
           "shape": ""
          }
         },
         "name": "GUNSAYIL",
         "offsetgroup": "GUNSAYIL",
         "orientation": "v",
         "showlegend": true,
         "textposition": "auto",
         "type": "bar",
         "x": [
          "امجد العطاري"
         ],
         "xaxis": "x",
         "y": [
          1
         ],
         "yaxis": "y"
        }
       ],
       "layout": {
        "barmode": "stack",
        "legend": {
         "title": {
          "text": "car"
         },
         "tracegroupgap": 0
        },
        "template": {
         "data": {
          "bar": [
           {
            "error_x": {
             "color": "#2a3f5f"
            },
            "error_y": {
             "color": "#2a3f5f"
            },
            "marker": {
             "line": {
              "color": "#E5ECF6",
              "width": 0.5
             },
             "pattern": {
              "fillmode": "overlay",
              "size": 10,
              "solidity": 0.2
             }
            },
            "type": "bar"
           }
          ],
          "barpolar": [
           {
            "marker": {
             "line": {
              "color": "#E5ECF6",
              "width": 0.5
             },
             "pattern": {
              "fillmode": "overlay",
              "size": 10,
              "solidity": 0.2
             }
            },
            "type": "barpolar"
           }
          ],
          "carpet": [
           {
            "aaxis": {
             "endlinecolor": "#2a3f5f",
             "gridcolor": "white",
             "linecolor": "white",
             "minorgridcolor": "white",
             "startlinecolor": "#2a3f5f"
            },
            "baxis": {
             "endlinecolor": "#2a3f5f",
             "gridcolor": "white",
             "linecolor": "white",
             "minorgridcolor": "white",
             "startlinecolor": "#2a3f5f"
            },
            "type": "carpet"
           }
          ],
          "choropleth": [
           {
            "colorbar": {
             "outlinewidth": 0,
             "ticks": ""
            },
            "type": "choropleth"
           }
          ],
          "contour": [
           {
            "colorbar": {
             "outlinewidth": 0,
             "ticks": ""
            },
            "colorscale": [
             [
              0,
              "#0d0887"
             ],
             [
              0.1111111111111111,
              "#46039f"
             ],
             [
              0.2222222222222222,
              "#7201a8"
             ],
             [
              0.3333333333333333,
              "#9c179e"
             ],
             [
              0.4444444444444444,
              "#bd3786"
             ],
             [
              0.5555555555555556,
              "#d8576b"
             ],
             [
              0.6666666666666666,
              "#ed7953"
             ],
             [
              0.7777777777777778,
              "#fb9f3a"
             ],
             [
              0.8888888888888888,
              "#fdca26"
             ],
             [
              1,
              "#f0f921"
             ]
            ],
            "type": "contour"
           }
          ],
          "contourcarpet": [
           {
            "colorbar": {
             "outlinewidth": 0,
             "ticks": ""
            },
            "type": "contourcarpet"
           }
          ],
          "heatmap": [
           {
            "colorbar": {
             "outlinewidth": 0,
             "ticks": ""
            },
            "colorscale": [
             [
              0,
              "#0d0887"
             ],
             [
              0.1111111111111111,
              "#46039f"
             ],
             [
              0.2222222222222222,
              "#7201a8"
             ],
             [
              0.3333333333333333,
              "#9c179e"
             ],
             [
              0.4444444444444444,
              "#bd3786"
             ],
             [
              0.5555555555555556,
              "#d8576b"
             ],
             [
              0.6666666666666666,
              "#ed7953"
             ],
             [
              0.7777777777777778,
              "#fb9f3a"
             ],
             [
              0.8888888888888888,
              "#fdca26"
             ],
             [
              1,
              "#f0f921"
             ]
            ],
            "type": "heatmap"
           }
          ],
          "heatmapgl": [
           {
            "colorbar": {
             "outlinewidth": 0,
             "ticks": ""
            },
            "colorscale": [
             [
              0,
              "#0d0887"
             ],
             [
              0.1111111111111111,
              "#46039f"
             ],
             [
              0.2222222222222222,
              "#7201a8"
             ],
             [
              0.3333333333333333,
              "#9c179e"
             ],
             [
              0.4444444444444444,
              "#bd3786"
             ],
             [
              0.5555555555555556,
              "#d8576b"
             ],
             [
              0.6666666666666666,
              "#ed7953"
             ],
             [
              0.7777777777777778,
              "#fb9f3a"
             ],
             [
              0.8888888888888888,
              "#fdca26"
             ],
             [
              1,
              "#f0f921"
             ]
            ],
            "type": "heatmapgl"
           }
          ],
          "histogram": [
           {
            "marker": {
             "pattern": {
              "fillmode": "overlay",
              "size": 10,
              "solidity": 0.2
             }
            },
            "type": "histogram"
           }
          ],
          "histogram2d": [
           {
            "colorbar": {
             "outlinewidth": 0,
             "ticks": ""
            },
            "colorscale": [
             [
              0,
              "#0d0887"
             ],
             [
              0.1111111111111111,
              "#46039f"
             ],
             [
              0.2222222222222222,
              "#7201a8"
             ],
             [
              0.3333333333333333,
              "#9c179e"
             ],
             [
              0.4444444444444444,
              "#bd3786"
             ],
             [
              0.5555555555555556,
              "#d8576b"
             ],
             [
              0.6666666666666666,
              "#ed7953"
             ],
             [
              0.7777777777777778,
              "#fb9f3a"
             ],
             [
              0.8888888888888888,
              "#fdca26"
             ],
             [
              1,
              "#f0f921"
             ]
            ],
            "type": "histogram2d"
           }
          ],
          "histogram2dcontour": [
           {
            "colorbar": {
             "outlinewidth": 0,
             "ticks": ""
            },
            "colorscale": [
             [
              0,
              "#0d0887"
             ],
             [
              0.1111111111111111,
              "#46039f"
             ],
             [
              0.2222222222222222,
              "#7201a8"
             ],
             [
              0.3333333333333333,
              "#9c179e"
             ],
             [
              0.4444444444444444,
              "#bd3786"
             ],
             [
              0.5555555555555556,
              "#d8576b"
             ],
             [
              0.6666666666666666,
              "#ed7953"
             ],
             [
              0.7777777777777778,
              "#fb9f3a"
             ],
             [
              0.8888888888888888,
              "#fdca26"
             ],
             [
              1,
              "#f0f921"
             ]
            ],
            "type": "histogram2dcontour"
           }
          ],
          "mesh3d": [
           {
            "colorbar": {
             "outlinewidth": 0,
             "ticks": ""
            },
            "type": "mesh3d"
           }
          ],
          "parcoords": [
           {
            "line": {
             "colorbar": {
              "outlinewidth": 0,
              "ticks": ""
             }
            },
            "type": "parcoords"
           }
          ],
          "pie": [
           {
            "automargin": true,
            "type": "pie"
           }
          ],
          "scatter": [
           {
            "fillpattern": {
             "fillmode": "overlay",
             "size": 10,
             "solidity": 0.2
            },
            "type": "scatter"
           }
          ],
          "scatter3d": [
           {
            "line": {
             "colorbar": {
              "outlinewidth": 0,
              "ticks": ""
             }
            },
            "marker": {
             "colorbar": {
              "outlinewidth": 0,
              "ticks": ""
             }
            },
            "type": "scatter3d"
           }
          ],
          "scattercarpet": [
           {
            "marker": {
             "colorbar": {
              "outlinewidth": 0,
              "ticks": ""
             }
            },
            "type": "scattercarpet"
           }
          ],
          "scattergeo": [
           {
            "marker": {
             "colorbar": {
              "outlinewidth": 0,
              "ticks": ""
             }
            },
            "type": "scattergeo"
           }
          ],
          "scattergl": [
           {
            "marker": {
             "colorbar": {
              "outlinewidth": 0,
              "ticks": ""
             }
            },
            "type": "scattergl"
           }
          ],
          "scattermapbox": [
           {
            "marker": {
             "colorbar": {
              "outlinewidth": 0,
              "ticks": ""
             }
            },
            "type": "scattermapbox"
           }
          ],
          "scatterpolar": [
           {
            "marker": {
             "colorbar": {
              "outlinewidth": 0,
              "ticks": ""
             }
            },
            "type": "scatterpolar"
           }
          ],
          "scatterpolargl": [
           {
            "marker": {
             "colorbar": {
              "outlinewidth": 0,
              "ticks": ""
             }
            },
            "type": "scatterpolargl"
           }
          ],
          "scatterternary": [
           {
            "marker": {
             "colorbar": {
              "outlinewidth": 0,
              "ticks": ""
             }
            },
            "type": "scatterternary"
           }
          ],
          "surface": [
           {
            "colorbar": {
             "outlinewidth": 0,
             "ticks": ""
            },
            "colorscale": [
             [
              0,
              "#0d0887"
             ],
             [
              0.1111111111111111,
              "#46039f"
             ],
             [
              0.2222222222222222,
              "#7201a8"
             ],
             [
              0.3333333333333333,
              "#9c179e"
             ],
             [
              0.4444444444444444,
              "#bd3786"
             ],
             [
              0.5555555555555556,
              "#d8576b"
             ],
             [
              0.6666666666666666,
              "#ed7953"
             ],
             [
              0.7777777777777778,
              "#fb9f3a"
             ],
             [
              0.8888888888888888,
              "#fdca26"
             ],
             [
              1,
              "#f0f921"
             ]
            ],
            "type": "surface"
           }
          ],
          "table": [
           {
            "cells": {
             "fill": {
              "color": "#EBF0F8"
             },
             "line": {
              "color": "white"
             }
            },
            "header": {
             "fill": {
              "color": "#C8D4E3"
             },
             "line": {
              "color": "white"
             }
            },
            "type": "table"
           }
          ]
         },
         "layout": {
          "annotationdefaults": {
           "arrowcolor": "#2a3f5f",
           "arrowhead": 0,
           "arrowwidth": 1
          },
          "autotypenumbers": "strict",
          "coloraxis": {
           "colorbar": {
            "outlinewidth": 0,
            "ticks": ""
           }
          },
          "colorscale": {
           "diverging": [
            [
             0,
             "#8e0152"
            ],
            [
             0.1,
             "#c51b7d"
            ],
            [
             0.2,
             "#de77ae"
            ],
            [
             0.3,
             "#f1b6da"
            ],
            [
             0.4,
             "#fde0ef"
            ],
            [
             0.5,
             "#f7f7f7"
            ],
            [
             0.6,
             "#e6f5d0"
            ],
            [
             0.7,
             "#b8e186"
            ],
            [
             0.8,
             "#7fbc41"
            ],
            [
             0.9,
             "#4d9221"
            ],
            [
             1,
             "#276419"
            ]
           ],
           "sequential": [
            [
             0,
             "#0d0887"
            ],
            [
             0.1111111111111111,
             "#46039f"
            ],
            [
             0.2222222222222222,
             "#7201a8"
            ],
            [
             0.3333333333333333,
             "#9c179e"
            ],
            [
             0.4444444444444444,
             "#bd3786"
            ],
            [
             0.5555555555555556,
             "#d8576b"
            ],
            [
             0.6666666666666666,
             "#ed7953"
            ],
            [
             0.7777777777777778,
             "#fb9f3a"
            ],
            [
             0.8888888888888888,
             "#fdca26"
            ],
            [
             1,
             "#f0f921"
            ]
           ],
           "sequentialminus": [
            [
             0,
             "#0d0887"
            ],
            [
             0.1111111111111111,
             "#46039f"
            ],
            [
             0.2222222222222222,
             "#7201a8"
            ],
            [
             0.3333333333333333,
             "#9c179e"
            ],
            [
             0.4444444444444444,
             "#bd3786"
            ],
            [
             0.5555555555555556,
             "#d8576b"
            ],
            [
             0.6666666666666666,
             "#ed7953"
            ],
            [
             0.7777777777777778,
             "#fb9f3a"
            ],
            [
             0.8888888888888888,
             "#fdca26"
            ],
            [
             1,
             "#f0f921"
            ]
           ]
          },
          "colorway": [
           "#636efa",
           "#EF553B",
           "#00cc96",
           "#ab63fa",
           "#FFA15A",
           "#19d3f3",
           "#FF6692",
           "#B6E880",
           "#FF97FF",
           "#FECB52"
          ],
          "font": {
           "color": "#2a3f5f"
          },
          "geo": {
           "bgcolor": "white",
           "lakecolor": "white",
           "landcolor": "#E5ECF6",
           "showlakes": true,
           "showland": true,
           "subunitcolor": "white"
          },
          "hoverlabel": {
           "align": "left"
          },
          "hovermode": "closest",
          "mapbox": {
           "style": "light"
          },
          "paper_bgcolor": "white",
          "plot_bgcolor": "#E5ECF6",
          "polar": {
           "angularaxis": {
            "gridcolor": "white",
            "linecolor": "white",
            "ticks": ""
           },
           "bgcolor": "#E5ECF6",
           "radialaxis": {
            "gridcolor": "white",
            "linecolor": "white",
            "ticks": ""
           }
          },
          "scene": {
           "xaxis": {
            "backgroundcolor": "#E5ECF6",
            "gridcolor": "white",
            "gridwidth": 2,
            "linecolor": "white",
            "showbackground": true,
            "ticks": "",
            "zerolinecolor": "white"
           },
           "yaxis": {
            "backgroundcolor": "#E5ECF6",
            "gridcolor": "white",
            "gridwidth": 2,
            "linecolor": "white",
            "showbackground": true,
            "ticks": "",
            "zerolinecolor": "white"
           },
           "zaxis": {
            "backgroundcolor": "#E5ECF6",
            "gridcolor": "white",
            "gridwidth": 2,
            "linecolor": "white",
            "showbackground": true,
            "ticks": "",
            "zerolinecolor": "white"
           }
          },
          "shapedefaults": {
           "line": {
            "color": "#2a3f5f"
           }
          },
          "ternary": {
           "aaxis": {
            "gridcolor": "white",
            "linecolor": "white",
            "ticks": ""
           },
           "baxis": {
            "gridcolor": "white",
            "linecolor": "white",
            "ticks": ""
           },
           "bgcolor": "#E5ECF6",
           "caxis": {
            "gridcolor": "white",
            "linecolor": "white",
            "ticks": ""
           }
          },
          "title": {
           "x": 0.05
          },
          "xaxis": {
           "automargin": true,
           "gridcolor": "white",
           "linecolor": "white",
           "ticks": "",
           "title": {
            "standoff": 15
           },
           "zerolinecolor": "white",
           "zerolinewidth": 2
          },
          "yaxis": {
           "automargin": true,
           "gridcolor": "white",
           "linecolor": "white",
           "ticks": "",
           "title": {
            "standoff": 15
           },
           "zerolinecolor": "white",
           "zerolinewidth": 2
          }
         }
        },
        "title": {
         "text": "Car Model Distribution by Service Location",
         "x": 0.5
        },
        "xaxis": {
         "anchor": "y",
         "domain": [
          0,
          1
         ],
         "title": {
          "text": "Service Location"
         }
        },
        "yaxis": {
         "anchor": "x",
         "domain": [
          0,
          1
         ],
         "title": {
          "text": "Count"
         }
        }
       }
      },
      "text/html": [
       "<div>                            <div id=\"85d747c0-c2ce-47f4-934b-7c4a8c48eeb7\" class=\"plotly-graph-div\" style=\"height:525px; width:100%;\"></div>            <script type=\"text/javascript\">                require([\"plotly\"], function(Plotly) {                    window.PLOTLYENV=window.PLOTLYENV || {};                                    if (document.getElementById(\"85d747c0-c2ce-47f4-934b-7c4a8c48eeb7\")) {                    Plotly.newPlot(                        \"85d747c0-c2ce-47f4-934b-7c4a8c48eeb7\",                        [{\"alignmentgroup\":\"True\",\"hovertemplate\":\"car=AVANZA\\u003cbr\\u003eService Location=%{x}\\u003cbr\\u003eCount=%{y}\\u003cextra\\u003e\\u003c\\u002fextra\\u003e\",\"legendgroup\":\"AVANZA\",\"marker\":{\"color\":\"#636efa\",\"pattern\":{\"shape\":\"\"}},\"name\":\"AVANZA\",\"offsetgroup\":\"AVANZA\",\"orientation\":\"v\",\"showlegend\":true,\"textposition\":\"auto\",\"x\":[\"4 جيد\",\"ابو نعمه\",\"الغزاوي\",\"القسطل\",\"المحطه\",\"المركزية\",\"المركزيه+زكي\",\"امجد العطاري\",\"تم التركيب ف صويلح\",\"شارلي\",\"غزاوي\",\"مشربش\"],\"xaxis\":\"x\",\"y\":[1,1,26,11,1,14,2,1,1,1,2,1],\"yaxis\":\"y\",\"type\":\"bar\"},{\"alignmentgroup\":\"True\",\"hovertemplate\":\"car=CAMRY\\u003cbr\\u003eService Location=%{x}\\u003cbr\\u003eCount=%{y}\\u003cextra\\u003e\\u003c\\u002fextra\\u003e\",\"legendgroup\":\"CAMRY\",\"marker\":{\"color\":\"#EF553B\",\"pattern\":{\"shape\":\"\"}},\"name\":\"CAMRY\",\"offsetgroup\":\"CAMRY\",\"orientation\":\"v\",\"showlegend\":true,\"textposition\":\"auto\",\"x\":[\"4 جيد\",\"ابو نعمه\",\"الغزاوي\",\"الغزاوي+معاذ\",\"القسطل\",\"المركزية\",\"المركزيه+زكي\",\"المسة الذهبية\",\"اليادودة\",\"شارلي\",\"غزاوي\",\"قسطل\",\"كيا\",\"معاذ عليان\",\"هانكونك\"],\"xaxis\":\"x\",\"y\":[11,2,20,2,14,12,1,1,1,6,4,3,1,7,1],\"yaxis\":\"y\",\"type\":\"bar\"},{\"alignmentgroup\":\"True\",\"hovertemplate\":\"car=CERATO\\u003cbr\\u003eService Location=%{x}\\u003cbr\\u003eCount=%{y}\\u003cextra\\u003e\\u003c\\u002fextra\\u003e\",\"legendgroup\":\"CERATO\",\"marker\":{\"color\":\"#00cc96\",\"pattern\":{\"shape\":\"\"}},\"name\":\"CERATO\",\"offsetgroup\":\"CERATO\",\"orientation\":\"v\",\"showlegend\":true,\"textposition\":\"auto\",\"x\":[\"4 جيد\",\"ابو خضر\",\"ابو نعمه\",\"الصالحي\",\"الغزاوي\",\"القسطل\",\"الماسيه زجاج سيارات\",\"المركزية\",\"المركزيه+زكي\",\"المكتب\",\"اليادودة\",\"امجد العطاري\",\"جلاسكو\",\"ريمان\",\"زكي البهو\",\"غزاوي\",\"فهر\",\"قسطل\",\"قفيشة\",\"كيا\",\"محطة الرشاد\",\"مشربش\",\"معاذ عليان\"],\"xaxis\":\"x\",\"y\":[17,1,4,1,52,31,2,10,4,1,2,4,3,1,2,12,2,2,2,1,2,4,18],\"yaxis\":\"y\",\"type\":\"bar\"},{\"alignmentgroup\":\"True\",\"hovertemplate\":\"car=COROLLA\\u003cbr\\u003eService Location=%{x}\\u003cbr\\u003eCount=%{y}\\u003cextra\\u003e\\u003c\\u002fextra\\u003e\",\"legendgroup\":\"COROLLA\",\"marker\":{\"color\":\"#ab63fa\",\"pattern\":{\"shape\":\"\"}},\"name\":\"COROLLA\",\"offsetgroup\":\"COROLLA\",\"orientation\":\"v\",\"showlegend\":true,\"textposition\":\"auto\",\"x\":[\"4 جيد\",\"ابو خضر\",\"ابو نعمه\",\"العبدلي\",\"العمله\",\"الغزاوي\",\"الغزاوي+معاذ\",\"القسطل\",\"المحطه\",\"المركزية\",\"المركزيه+زكي\",\"المسة الذهبية\",\"المفرق\",\"المكتب\",\"امجد العطاري\",\"جلاسكو\",\"زكي البهو\",\"غزاوي\",\"في الطفيله\",\"قسطل\",\"محطة الرشاد\",\"مشربش\",\"معاذ عليان\",\"هانكونك\"],\"xaxis\":\"x\",\"y\":[6,1,3,1,1,58,3,24,1,19,1,1,2,2,6,1,1,14,1,2,1,2,4,1],\"yaxis\":\"y\",\"type\":\"bar\"},{\"alignmentgroup\":\"True\",\"hovertemplate\":\"car=CRUZE\\u003cbr\\u003eService Location=%{x}\\u003cbr\\u003eCount=%{y}\\u003cextra\\u003e\\u003c\\u002fextra\\u003e\",\"legendgroup\":\"CRUZE\",\"marker\":{\"color\":\"#FFA15A\",\"pattern\":{\"shape\":\"\"}},\"name\":\"CRUZE\",\"offsetgroup\":\"CRUZE\",\"orientation\":\"v\",\"showlegend\":true,\"textposition\":\"auto\",\"x\":[\"4 جيد\",\"ابو نعمه\",\"الغزاوي\",\"القسطل\",\"المركزية\",\"المسة الذهبية\",\"امجد العطاري\",\"تم التركيب ف صويلح\",\"زكي البهو\",\"شارلي\",\"غزاوي\",\"معاذ عليان\"],\"xaxis\":\"x\",\"y\":[4,2,15,4,8,1,1,1,1,1,2,4],\"yaxis\":\"y\",\"type\":\"bar\"},{\"alignmentgroup\":\"True\",\"hovertemplate\":\"car=ELANTRA\\u003cbr\\u003eService Location=%{x}\\u003cbr\\u003eCount=%{y}\\u003cextra\\u003e\\u003c\\u002fextra\\u003e\",\"legendgroup\":\"ELANTRA\",\"marker\":{\"color\":\"#19d3f3\",\"pattern\":{\"shape\":\"\"}},\"name\":\"ELANTRA\",\"offsetgroup\":\"ELANTRA\",\"orientation\":\"v\",\"showlegend\":true,\"textposition\":\"auto\",\"x\":[\"4 جيد\",\"ابو نعمه\",\"الصالحي\",\"الغزاوي\",\"الغزاوي+معاذ\",\"القسطل\",\"المحطه\",\"المركزية\",\"المركزيه+زكي\",\"امجد العطاري\",\"تم التركيب ف صويلح\",\"زكي البهو\",\"شارلي\",\"غزاوي\",\"قسطل\",\"معاذ عليان\",\"هانكونك\"],\"xaxis\":\"x\",\"y\":[5,1,1,38,2,7,1,11,1,6,1,1,1,4,1,5,1],\"yaxis\":\"y\",\"type\":\"bar\"},{\"alignmentgroup\":\"True\",\"hovertemplate\":\"car=FLUENCE\\u003cbr\\u003eService Location=%{x}\\u003cbr\\u003eCount=%{y}\\u003cextra\\u003e\\u003c\\u002fextra\\u003e\",\"legendgroup\":\"FLUENCE\",\"marker\":{\"color\":\"#FF6692\",\"pattern\":{\"shape\":\"\"}},\"name\":\"FLUENCE\",\"offsetgroup\":\"FLUENCE\",\"orientation\":\"v\",\"showlegend\":true,\"textposition\":\"auto\",\"x\":[\"4 جيد\",\"ابو خضر\",\"العبدلي\",\"الغزاوي\",\"القسطل\",\"المركزية\",\"تم التركيب ف صويلح\",\"ريمان\",\"زكي البهو\",\"شارلي\",\"غزاوي\",\"فهر\",\"في الطفيله\",\"معاذ عليان\"],\"xaxis\":\"x\",\"y\":[2,1,1,23,5,6,1,1,1,1,6,1,1,4],\"yaxis\":\"y\",\"type\":\"bar\"},{\"alignmentgroup\":\"True\",\"hovertemplate\":\"car=FORTUNER\\u003cbr\\u003eService Location=%{x}\\u003cbr\\u003eCount=%{y}\\u003cextra\\u003e\\u003c\\u002fextra\\u003e\",\"legendgroup\":\"FORTUNER\",\"marker\":{\"color\":\"#B6E880\",\"pattern\":{\"shape\":\"\"}},\"name\":\"FORTUNER\",\"offsetgroup\":\"FORTUNER\",\"orientation\":\"v\",\"showlegend\":true,\"textposition\":\"auto\",\"x\":[\"4 جيد\",\"ابو خضر\",\"ابو نعمه\",\"الصالحي\",\"العمله\",\"الغزاوي\",\"الغزاوي+معاذ\",\"القسطل\",\"المركزية\",\"المركزيه+زكي\",\"المفرق\",\"المكتب\",\"اليادودة\",\"امجد العطاري\",\"جلاسكو\",\"ريمان\",\"زكي البهو\",\"شارلي\",\"غزاوي\",\"في الطفيله\",\"مشربش\",\"معاذ عليان\",\"هانكونك\"],\"xaxis\":\"x\",\"y\":[4,2,2,2,1,107,1,21,25,1,1,1,2,5,1,2,1,2,24,3,1,17,6],\"yaxis\":\"y\",\"type\":\"bar\"},{\"alignmentgroup\":\"True\",\"hovertemplate\":\"car=H 1\\u003cbr\\u003eService Location=%{x}\\u003cbr\\u003eCount=%{y}\\u003cextra\\u003e\\u003c\\u002fextra\\u003e\",\"legendgroup\":\"H 1\",\"marker\":{\"color\":\"#FF97FF\",\"pattern\":{\"shape\":\"\"}},\"name\":\"H 1\",\"offsetgroup\":\"H 1\",\"orientation\":\"v\",\"showlegend\":true,\"textposition\":\"auto\",\"x\":[\"4 جيد\",\"العبدلي\",\"الغزاوي\",\"القسطل\",\"الماسيه زجاج سيارات\",\"المركزية\",\"المركزيه+زكي\",\"امجد العطاري\",\"ريمان\",\"شارلي\",\"غزاوي\",\"قسطل\",\"مشربش\",\"معاذ عليان\",\"هانكونك\"],\"xaxis\":\"x\",\"y\":[11,2,42,4,1,9,1,3,1,1,7,2,2,10,5],\"yaxis\":\"y\",\"type\":\"bar\"},{\"alignmentgroup\":\"True\",\"hovertemplate\":\"car=OPTIMA\\u003cbr\\u003eService Location=%{x}\\u003cbr\\u003eCount=%{y}\\u003cextra\\u003e\\u003c\\u002fextra\\u003e\",\"legendgroup\":\"OPTIMA\",\"marker\":{\"color\":\"#FECB52\",\"pattern\":{\"shape\":\"\"}},\"name\":\"OPTIMA\",\"offsetgroup\":\"OPTIMA\",\"orientation\":\"v\",\"showlegend\":true,\"textposition\":\"auto\",\"x\":[\"4 جيد\",\"الغزاوي\",\"القسطل\",\"المركزية\",\"غزاوي\",\"قسطل\",\"معاذ عليان\",\"هانكونك\"],\"xaxis\":\"x\",\"y\":[1,5,1,2,2,1,3,2],\"yaxis\":\"y\",\"type\":\"bar\"},{\"alignmentgroup\":\"True\",\"hovertemplate\":\"car=RIO\\u003cbr\\u003eService Location=%{x}\\u003cbr\\u003eCount=%{y}\\u003cextra\\u003e\\u003c\\u002fextra\\u003e\",\"legendgroup\":\"RIO\",\"marker\":{\"color\":\"#636efa\",\"pattern\":{\"shape\":\"\"}},\"name\":\"RIO\",\"offsetgroup\":\"RIO\",\"orientation\":\"v\",\"showlegend\":true,\"textposition\":\"auto\",\"x\":[\"4 جيد\",\"ابو نعمه\",\"العمله\",\"الغزاوي\",\"الغزاوي+معاذ\",\"القسطل\",\"المركزية\",\"المركزيه+زكي\",\"امجد العطاري\",\"زكي البهو\",\"شارلي\",\"غزاوي\",\"قسطل\",\"مشربش\",\"معاذ عليان\",\"هانكونك\"],\"xaxis\":\"x\",\"y\":[3,2,1,20,1,20,4,1,2,1,3,5,2,1,3,1],\"yaxis\":\"y\",\"type\":\"bar\"},{\"alignmentgroup\":\"True\",\"hovertemplate\":\"car=SONIC\\u003cbr\\u003eService Location=%{x}\\u003cbr\\u003eCount=%{y}\\u003cextra\\u003e\\u003c\\u002fextra\\u003e\",\"legendgroup\":\"SONIC\",\"marker\":{\"color\":\"#EF553B\",\"pattern\":{\"shape\":\"\"}},\"name\":\"SONIC\",\"offsetgroup\":\"SONIC\",\"orientation\":\"v\",\"showlegend\":true,\"textposition\":\"auto\",\"x\":[\"4 جيد\",\"ابو خضر\",\"الغزاوي\",\"القسطل\",\"المركزية\",\"المركزيه+زكي\",\"شارلي\",\"غزاوي\",\"معاذ عليان\",\"هانكونك\"],\"xaxis\":\"x\",\"y\":[4,2,11,6,1,1,1,2,2,1],\"yaxis\":\"y\",\"type\":\"bar\"},{\"alignmentgroup\":\"True\",\"hovertemplate\":\"car=SPARK\\u003cbr\\u003eService Location=%{x}\\u003cbr\\u003eCount=%{y}\\u003cextra\\u003e\\u003c\\u002fextra\\u003e\",\"legendgroup\":\"SPARK\",\"marker\":{\"color\":\"#00cc96\",\"pattern\":{\"shape\":\"\"}},\"name\":\"SPARK\",\"offsetgroup\":\"SPARK\",\"orientation\":\"v\",\"showlegend\":true,\"textposition\":\"auto\",\"x\":[\"4 جيد\",\"ابو خضر\",\"ابو نعمه\",\"الغزاوي\",\"الغزاوي+معاذ\",\"القسطل\",\"المركزية\",\"المركزيه+زكي\",\"شارلي\",\"غزاوي\",\"قسطل\",\"معاذ عليان\"],\"xaxis\":\"x\",\"y\":[5,1,3,30,1,19,4,1,3,5,1,5],\"yaxis\":\"y\",\"type\":\"bar\"},{\"alignmentgroup\":\"True\",\"hovertemplate\":\"car=SPORTAGE\\u003cbr\\u003eService Location=%{x}\\u003cbr\\u003eCount=%{y}\\u003cextra\\u003e\\u003c\\u002fextra\\u003e\",\"legendgroup\":\"SPORTAGE\",\"marker\":{\"color\":\"#ab63fa\",\"pattern\":{\"shape\":\"\"}},\"name\":\"SPORTAGE\",\"offsetgroup\":\"SPORTAGE\",\"orientation\":\"v\",\"showlegend\":true,\"textposition\":\"auto\",\"x\":[\"4 جيد\",\"الغزاوي\",\"القسطل\",\"المركزية\",\"امجد العطاري\",\"جلاسكو\",\"زكي البهو\",\"شارلي\",\"غزاوي\",\"قسطل\",\"كيا\",\"مشربش\",\"معاذ عليان\"],\"xaxis\":\"x\",\"y\":[1,29,8,1,2,2,1,2,5,2,2,1,5],\"yaxis\":\"y\",\"type\":\"bar\"},{\"alignmentgroup\":\"True\",\"hovertemplate\":\"car=TUCSAN\\u003cbr\\u003eService Location=%{x}\\u003cbr\\u003eCount=%{y}\\u003cextra\\u003e\\u003c\\u002fextra\\u003e\",\"legendgroup\":\"TUCSAN\",\"marker\":{\"color\":\"#FFA15A\",\"pattern\":{\"shape\":\"\"}},\"name\":\"TUCSAN\",\"offsetgroup\":\"TUCSAN\",\"orientation\":\"v\",\"showlegend\":true,\"textposition\":\"auto\",\"x\":[\"4 جيد\",\"العمله\",\"الغزاوي\",\"القسطل\",\"المركزية\",\"شارلي\",\"مشربش\",\"معاذ عليان\",\"هانكونك\"],\"xaxis\":\"x\",\"y\":[1,1,4,2,1,1,1,1,1],\"yaxis\":\"y\",\"type\":\"bar\"},{\"alignmentgroup\":\"True\",\"hovertemplate\":\"car=YARIS\\u003cbr\\u003eService Location=%{x}\\u003cbr\\u003eCount=%{y}\\u003cextra\\u003e\\u003c\\u002fextra\\u003e\",\"legendgroup\":\"YARIS\",\"marker\":{\"color\":\"#19d3f3\",\"pattern\":{\"shape\":\"\"}},\"name\":\"YARIS\",\"offsetgroup\":\"YARIS\",\"orientation\":\"v\",\"showlegend\":true,\"textposition\":\"auto\",\"x\":[\"4 جيد\",\"ابو نعمه\",\"العبدلي\",\"الغزاوي\",\"القسطل\",\"المركزية\",\"امجد العطاري\",\"غزاوي\",\"قسطل\",\"قفيشة\",\"معاذ عليان\"],\"xaxis\":\"x\",\"y\":[5,1,1,16,9,6,2,4,6,1,5],\"yaxis\":\"y\",\"type\":\"bar\"},{\"alignmentgroup\":\"True\",\"hovertemplate\":\"car=PRADO\\u003cbr\\u003eService Location=%{x}\\u003cbr\\u003eCount=%{y}\\u003cextra\\u003e\\u003c\\u002fextra\\u003e\",\"legendgroup\":\"PRADO\",\"marker\":{\"color\":\"#FF6692\",\"pattern\":{\"shape\":\"\"}},\"name\":\"PRADO\",\"offsetgroup\":\"PRADO\",\"orientation\":\"v\",\"showlegend\":true,\"textposition\":\"auto\",\"x\":[\"ابو نعمه\",\"الغزاوي\",\"القسطل\",\"المركزية\",\"امجد العطاري\",\"غزاوي\",\"مشربش\",\"معاذ عليان\"],\"xaxis\":\"x\",\"y\":[1,7,2,3,3,1,1,1],\"yaxis\":\"y\",\"type\":\"bar\"},{\"alignmentgroup\":\"True\",\"hovertemplate\":\"car=HILUX\\u003cbr\\u003eService Location=%{x}\\u003cbr\\u003eCount=%{y}\\u003cextra\\u003e\\u003c\\u002fextra\\u003e\",\"legendgroup\":\"HILUX\",\"marker\":{\"color\":\"#B6E880\",\"pattern\":{\"shape\":\"\"}},\"name\":\"HILUX\",\"offsetgroup\":\"HILUX\",\"orientation\":\"v\",\"showlegend\":true,\"textposition\":\"auto\",\"x\":[\"العبدلي\",\"الغزاوي\",\"الغزاوي+معاذ\",\"الماسيه زجاج سيارات\",\"المحطه\",\"المركزية\",\"المسة الذهبية\",\"المفرق\",\"المكتب\",\"امجد العطاري\",\"شارلي\",\"غزاوي\",\"فهر\",\"في الطفيله\",\"قفيشة\",\"محطة الرشاد\",\"مشربش\",\"معاذ عليان\"],\"xaxis\":\"x\",\"y\":[1,47,2,1,2,8,1,1,1,7,2,11,1,1,1,1,1,8],\"yaxis\":\"y\",\"type\":\"bar\"},{\"alignmentgroup\":\"True\",\"hovertemplate\":\"car=I 10\\u003cbr\\u003eService Location=%{x}\\u003cbr\\u003eCount=%{y}\\u003cextra\\u003e\\u003c\\u002fextra\\u003e\",\"legendgroup\":\"I 10\",\"marker\":{\"color\":\"#FF97FF\",\"pattern\":{\"shape\":\"\"}},\"name\":\"I 10\",\"offsetgroup\":\"I 10\",\"orientation\":\"v\",\"showlegend\":true,\"textposition\":\"auto\",\"x\":[\"الغزاوي\",\"القسطل\",\"المركزية\",\"امجد العطاري\",\"زكي البهو\",\"شارلي\",\"غزاوي\",\"معاذ عليان\",\"هانكونك\"],\"xaxis\":\"x\",\"y\":[10,12,3,2,2,1,1,5,1],\"yaxis\":\"y\",\"type\":\"bar\"},{\"alignmentgroup\":\"True\",\"hovertemplate\":\"car=PRIUS\\u003cbr\\u003eService Location=%{x}\\u003cbr\\u003eCount=%{y}\\u003cextra\\u003e\\u003c\\u002fextra\\u003e\",\"legendgroup\":\"PRIUS\",\"marker\":{\"color\":\"#FECB52\",\"pattern\":{\"shape\":\"\"}},\"name\":\"PRIUS\",\"offsetgroup\":\"PRIUS\",\"orientation\":\"v\",\"showlegend\":true,\"textposition\":\"auto\",\"x\":[\"الغزاوي\",\"امجد العطاري\",\"غزاوي\",\"قسطل\",\"معاذ عليان\"],\"xaxis\":\"x\",\"y\":[2,1,1,1,1],\"yaxis\":\"y\",\"type\":\"bar\"},{\"alignmentgroup\":\"True\",\"hovertemplate\":\"car=RAV 4\\u003cbr\\u003eService Location=%{x}\\u003cbr\\u003eCount=%{y}\\u003cextra\\u003e\\u003c\\u002fextra\\u003e\",\"legendgroup\":\"RAV 4\",\"marker\":{\"color\":\"#636efa\",\"pattern\":{\"shape\":\"\"}},\"name\":\"RAV 4\",\"offsetgroup\":\"RAV 4\",\"orientation\":\"v\",\"showlegend\":true,\"textposition\":\"auto\",\"x\":[\"الغزاوي\",\"الغزاوي+معاذ\",\"المركزية\",\"غزاوي\",\"معاذ عليان\"],\"xaxis\":\"x\",\"y\":[4,1,1,1,1],\"yaxis\":\"y\",\"type\":\"bar\"},{\"alignmentgroup\":\"True\",\"hovertemplate\":\"car=PRUIS\\u003cbr\\u003eService Location=%{x}\\u003cbr\\u003eCount=%{y}\\u003cextra\\u003e\\u003c\\u002fextra\\u003e\",\"legendgroup\":\"PRUIS\",\"marker\":{\"color\":\"#EF553B\",\"pattern\":{\"shape\":\"\"}},\"name\":\"PRUIS\",\"offsetgroup\":\"PRUIS\",\"orientation\":\"v\",\"showlegend\":true,\"textposition\":\"auto\",\"x\":[\"الغزاوي+معاذ\"],\"xaxis\":\"x\",\"y\":[1],\"yaxis\":\"y\",\"type\":\"bar\"},{\"alignmentgroup\":\"True\",\"hovertemplate\":\"car=ACCENT\\u003cbr\\u003eService Location=%{x}\\u003cbr\\u003eCount=%{y}\\u003cextra\\u003e\\u003c\\u002fextra\\u003e\",\"legendgroup\":\"ACCENT\",\"marker\":{\"color\":\"#00cc96\",\"pattern\":{\"shape\":\"\"}},\"name\":\"ACCENT\",\"offsetgroup\":\"ACCENT\",\"orientation\":\"v\",\"showlegend\":true,\"textposition\":\"auto\",\"x\":[\"القسطل\",\"غزاوي\"],\"xaxis\":\"x\",\"y\":[2,1],\"yaxis\":\"y\",\"type\":\"bar\"},{\"alignmentgroup\":\"True\",\"hovertemplate\":\"car=CITROEN\\u003cbr\\u003eService Location=%{x}\\u003cbr\\u003eCount=%{y}\\u003cextra\\u003e\\u003c\\u002fextra\\u003e\",\"legendgroup\":\"CITROEN\",\"marker\":{\"color\":\"#ab63fa\",\"pattern\":{\"shape\":\"\"}},\"name\":\"CITROEN\",\"offsetgroup\":\"CITROEN\",\"orientation\":\"v\",\"showlegend\":true,\"textposition\":\"auto\",\"x\":[\"المركزية\"],\"xaxis\":\"x\",\"y\":[1],\"yaxis\":\"y\",\"type\":\"bar\"},{\"alignmentgroup\":\"True\",\"hovertemplate\":\"car=GUNSAYIL\\u003cbr\\u003eService Location=%{x}\\u003cbr\\u003eCount=%{y}\\u003cextra\\u003e\\u003c\\u002fextra\\u003e\",\"legendgroup\":\"GUNSAYIL\",\"marker\":{\"color\":\"#FFA15A\",\"pattern\":{\"shape\":\"\"}},\"name\":\"GUNSAYIL\",\"offsetgroup\":\"GUNSAYIL\",\"orientation\":\"v\",\"showlegend\":true,\"textposition\":\"auto\",\"x\":[\"امجد العطاري\"],\"xaxis\":\"x\",\"y\":[1],\"yaxis\":\"y\",\"type\":\"bar\"}],                        {\"template\":{\"data\":{\"histogram2dcontour\":[{\"type\":\"histogram2dcontour\",\"colorbar\":{\"outlinewidth\":0,\"ticks\":\"\"},\"colorscale\":[[0.0,\"#0d0887\"],[0.1111111111111111,\"#46039f\"],[0.2222222222222222,\"#7201a8\"],[0.3333333333333333,\"#9c179e\"],[0.4444444444444444,\"#bd3786\"],[0.5555555555555556,\"#d8576b\"],[0.6666666666666666,\"#ed7953\"],[0.7777777777777778,\"#fb9f3a\"],[0.8888888888888888,\"#fdca26\"],[1.0,\"#f0f921\"]]}],\"choropleth\":[{\"type\":\"choropleth\",\"colorbar\":{\"outlinewidth\":0,\"ticks\":\"\"}}],\"histogram2d\":[{\"type\":\"histogram2d\",\"colorbar\":{\"outlinewidth\":0,\"ticks\":\"\"},\"colorscale\":[[0.0,\"#0d0887\"],[0.1111111111111111,\"#46039f\"],[0.2222222222222222,\"#7201a8\"],[0.3333333333333333,\"#9c179e\"],[0.4444444444444444,\"#bd3786\"],[0.5555555555555556,\"#d8576b\"],[0.6666666666666666,\"#ed7953\"],[0.7777777777777778,\"#fb9f3a\"],[0.8888888888888888,\"#fdca26\"],[1.0,\"#f0f921\"]]}],\"heatmap\":[{\"type\":\"heatmap\",\"colorbar\":{\"outlinewidth\":0,\"ticks\":\"\"},\"colorscale\":[[0.0,\"#0d0887\"],[0.1111111111111111,\"#46039f\"],[0.2222222222222222,\"#7201a8\"],[0.3333333333333333,\"#9c179e\"],[0.4444444444444444,\"#bd3786\"],[0.5555555555555556,\"#d8576b\"],[0.6666666666666666,\"#ed7953\"],[0.7777777777777778,\"#fb9f3a\"],[0.8888888888888888,\"#fdca26\"],[1.0,\"#f0f921\"]]}],\"heatmapgl\":[{\"type\":\"heatmapgl\",\"colorbar\":{\"outlinewidth\":0,\"ticks\":\"\"},\"colorscale\":[[0.0,\"#0d0887\"],[0.1111111111111111,\"#46039f\"],[0.2222222222222222,\"#7201a8\"],[0.3333333333333333,\"#9c179e\"],[0.4444444444444444,\"#bd3786\"],[0.5555555555555556,\"#d8576b\"],[0.6666666666666666,\"#ed7953\"],[0.7777777777777778,\"#fb9f3a\"],[0.8888888888888888,\"#fdca26\"],[1.0,\"#f0f921\"]]}],\"contourcarpet\":[{\"type\":\"contourcarpet\",\"colorbar\":{\"outlinewidth\":0,\"ticks\":\"\"}}],\"contour\":[{\"type\":\"contour\",\"colorbar\":{\"outlinewidth\":0,\"ticks\":\"\"},\"colorscale\":[[0.0,\"#0d0887\"],[0.1111111111111111,\"#46039f\"],[0.2222222222222222,\"#7201a8\"],[0.3333333333333333,\"#9c179e\"],[0.4444444444444444,\"#bd3786\"],[0.5555555555555556,\"#d8576b\"],[0.6666666666666666,\"#ed7953\"],[0.7777777777777778,\"#fb9f3a\"],[0.8888888888888888,\"#fdca26\"],[1.0,\"#f0f921\"]]}],\"surface\":[{\"type\":\"surface\",\"colorbar\":{\"outlinewidth\":0,\"ticks\":\"\"},\"colorscale\":[[0.0,\"#0d0887\"],[0.1111111111111111,\"#46039f\"],[0.2222222222222222,\"#7201a8\"],[0.3333333333333333,\"#9c179e\"],[0.4444444444444444,\"#bd3786\"],[0.5555555555555556,\"#d8576b\"],[0.6666666666666666,\"#ed7953\"],[0.7777777777777778,\"#fb9f3a\"],[0.8888888888888888,\"#fdca26\"],[1.0,\"#f0f921\"]]}],\"mesh3d\":[{\"type\":\"mesh3d\",\"colorbar\":{\"outlinewidth\":0,\"ticks\":\"\"}}],\"scatter\":[{\"fillpattern\":{\"fillmode\":\"overlay\",\"size\":10,\"solidity\":0.2},\"type\":\"scatter\"}],\"parcoords\":[{\"type\":\"parcoords\",\"line\":{\"colorbar\":{\"outlinewidth\":0,\"ticks\":\"\"}}}],\"scatterpolargl\":[{\"type\":\"scatterpolargl\",\"marker\":{\"colorbar\":{\"outlinewidth\":0,\"ticks\":\"\"}}}],\"bar\":[{\"error_x\":{\"color\":\"#2a3f5f\"},\"error_y\":{\"color\":\"#2a3f5f\"},\"marker\":{\"line\":{\"color\":\"#E5ECF6\",\"width\":0.5},\"pattern\":{\"fillmode\":\"overlay\",\"size\":10,\"solidity\":0.2}},\"type\":\"bar\"}],\"scattergeo\":[{\"type\":\"scattergeo\",\"marker\":{\"colorbar\":{\"outlinewidth\":0,\"ticks\":\"\"}}}],\"scatterpolar\":[{\"type\":\"scatterpolar\",\"marker\":{\"colorbar\":{\"outlinewidth\":0,\"ticks\":\"\"}}}],\"histogram\":[{\"marker\":{\"pattern\":{\"fillmode\":\"overlay\",\"size\":10,\"solidity\":0.2}},\"type\":\"histogram\"}],\"scattergl\":[{\"type\":\"scattergl\",\"marker\":{\"colorbar\":{\"outlinewidth\":0,\"ticks\":\"\"}}}],\"scatter3d\":[{\"type\":\"scatter3d\",\"line\":{\"colorbar\":{\"outlinewidth\":0,\"ticks\":\"\"}},\"marker\":{\"colorbar\":{\"outlinewidth\":0,\"ticks\":\"\"}}}],\"scattermapbox\":[{\"type\":\"scattermapbox\",\"marker\":{\"colorbar\":{\"outlinewidth\":0,\"ticks\":\"\"}}}],\"scatterternary\":[{\"type\":\"scatterternary\",\"marker\":{\"colorbar\":{\"outlinewidth\":0,\"ticks\":\"\"}}}],\"scattercarpet\":[{\"type\":\"scattercarpet\",\"marker\":{\"colorbar\":{\"outlinewidth\":0,\"ticks\":\"\"}}}],\"carpet\":[{\"aaxis\":{\"endlinecolor\":\"#2a3f5f\",\"gridcolor\":\"white\",\"linecolor\":\"white\",\"minorgridcolor\":\"white\",\"startlinecolor\":\"#2a3f5f\"},\"baxis\":{\"endlinecolor\":\"#2a3f5f\",\"gridcolor\":\"white\",\"linecolor\":\"white\",\"minorgridcolor\":\"white\",\"startlinecolor\":\"#2a3f5f\"},\"type\":\"carpet\"}],\"table\":[{\"cells\":{\"fill\":{\"color\":\"#EBF0F8\"},\"line\":{\"color\":\"white\"}},\"header\":{\"fill\":{\"color\":\"#C8D4E3\"},\"line\":{\"color\":\"white\"}},\"type\":\"table\"}],\"barpolar\":[{\"marker\":{\"line\":{\"color\":\"#E5ECF6\",\"width\":0.5},\"pattern\":{\"fillmode\":\"overlay\",\"size\":10,\"solidity\":0.2}},\"type\":\"barpolar\"}],\"pie\":[{\"automargin\":true,\"type\":\"pie\"}]},\"layout\":{\"autotypenumbers\":\"strict\",\"colorway\":[\"#636efa\",\"#EF553B\",\"#00cc96\",\"#ab63fa\",\"#FFA15A\",\"#19d3f3\",\"#FF6692\",\"#B6E880\",\"#FF97FF\",\"#FECB52\"],\"font\":{\"color\":\"#2a3f5f\"},\"hovermode\":\"closest\",\"hoverlabel\":{\"align\":\"left\"},\"paper_bgcolor\":\"white\",\"plot_bgcolor\":\"#E5ECF6\",\"polar\":{\"bgcolor\":\"#E5ECF6\",\"angularaxis\":{\"gridcolor\":\"white\",\"linecolor\":\"white\",\"ticks\":\"\"},\"radialaxis\":{\"gridcolor\":\"white\",\"linecolor\":\"white\",\"ticks\":\"\"}},\"ternary\":{\"bgcolor\":\"#E5ECF6\",\"aaxis\":{\"gridcolor\":\"white\",\"linecolor\":\"white\",\"ticks\":\"\"},\"baxis\":{\"gridcolor\":\"white\",\"linecolor\":\"white\",\"ticks\":\"\"},\"caxis\":{\"gridcolor\":\"white\",\"linecolor\":\"white\",\"ticks\":\"\"}},\"coloraxis\":{\"colorbar\":{\"outlinewidth\":0,\"ticks\":\"\"}},\"colorscale\":{\"sequential\":[[0.0,\"#0d0887\"],[0.1111111111111111,\"#46039f\"],[0.2222222222222222,\"#7201a8\"],[0.3333333333333333,\"#9c179e\"],[0.4444444444444444,\"#bd3786\"],[0.5555555555555556,\"#d8576b\"],[0.6666666666666666,\"#ed7953\"],[0.7777777777777778,\"#fb9f3a\"],[0.8888888888888888,\"#fdca26\"],[1.0,\"#f0f921\"]],\"sequentialminus\":[[0.0,\"#0d0887\"],[0.1111111111111111,\"#46039f\"],[0.2222222222222222,\"#7201a8\"],[0.3333333333333333,\"#9c179e\"],[0.4444444444444444,\"#bd3786\"],[0.5555555555555556,\"#d8576b\"],[0.6666666666666666,\"#ed7953\"],[0.7777777777777778,\"#fb9f3a\"],[0.8888888888888888,\"#fdca26\"],[1.0,\"#f0f921\"]],\"diverging\":[[0,\"#8e0152\"],[0.1,\"#c51b7d\"],[0.2,\"#de77ae\"],[0.3,\"#f1b6da\"],[0.4,\"#fde0ef\"],[0.5,\"#f7f7f7\"],[0.6,\"#e6f5d0\"],[0.7,\"#b8e186\"],[0.8,\"#7fbc41\"],[0.9,\"#4d9221\"],[1,\"#276419\"]]},\"xaxis\":{\"gridcolor\":\"white\",\"linecolor\":\"white\",\"ticks\":\"\",\"title\":{\"standoff\":15},\"zerolinecolor\":\"white\",\"automargin\":true,\"zerolinewidth\":2},\"yaxis\":{\"gridcolor\":\"white\",\"linecolor\":\"white\",\"ticks\":\"\",\"title\":{\"standoff\":15},\"zerolinecolor\":\"white\",\"automargin\":true,\"zerolinewidth\":2},\"scene\":{\"xaxis\":{\"backgroundcolor\":\"#E5ECF6\",\"gridcolor\":\"white\",\"linecolor\":\"white\",\"showbackground\":true,\"ticks\":\"\",\"zerolinecolor\":\"white\",\"gridwidth\":2},\"yaxis\":{\"backgroundcolor\":\"#E5ECF6\",\"gridcolor\":\"white\",\"linecolor\":\"white\",\"showbackground\":true,\"ticks\":\"\",\"zerolinecolor\":\"white\",\"gridwidth\":2},\"zaxis\":{\"backgroundcolor\":\"#E5ECF6\",\"gridcolor\":\"white\",\"linecolor\":\"white\",\"showbackground\":true,\"ticks\":\"\",\"zerolinecolor\":\"white\",\"gridwidth\":2}},\"shapedefaults\":{\"line\":{\"color\":\"#2a3f5f\"}},\"annotationdefaults\":{\"arrowcolor\":\"#2a3f5f\",\"arrowhead\":0,\"arrowwidth\":1},\"geo\":{\"bgcolor\":\"white\",\"landcolor\":\"#E5ECF6\",\"subunitcolor\":\"white\",\"showland\":true,\"showlakes\":true,\"lakecolor\":\"white\"},\"title\":{\"x\":0.05},\"mapbox\":{\"style\":\"light\"}}},\"xaxis\":{\"anchor\":\"y\",\"domain\":[0.0,1.0],\"title\":{\"text\":\"Service Location\"}},\"yaxis\":{\"anchor\":\"x\",\"domain\":[0.0,1.0],\"title\":{\"text\":\"Count\"}},\"legend\":{\"title\":{\"text\":\"car\"},\"tracegroupgap\":0},\"title\":{\"text\":\"Car Model Distribution by Service Location\",\"x\":0.5},\"barmode\":\"stack\"},                        {\"responsive\": true}                    ).then(function(){\n",
       "                            \n",
       "var gd = document.getElementById('85d747c0-c2ce-47f4-934b-7c4a8c48eeb7');\n",
       "var x = new MutationObserver(function (mutations, observer) {{\n",
       "        var display = window.getComputedStyle(gd).display;\n",
       "        if (!display || display === 'none') {{\n",
       "            console.log([gd, 'removed!']);\n",
       "            Plotly.purge(gd);\n",
       "            observer.disconnect();\n",
       "        }}\n",
       "}});\n",
       "\n",
       "// Listen for the removal of the full notebook cells\n",
       "var notebookContainer = gd.closest('#notebook-container');\n",
       "if (notebookContainer) {{\n",
       "    x.observe(notebookContainer, {childList: true});\n",
       "}}\n",
       "\n",
       "// Listen for the clearing of the current output cell\n",
       "var outputEl = gd.closest('.output');\n",
       "if (outputEl) {{\n",
       "    x.observe(outputEl, {childList: true});\n",
       "}}\n",
       "\n",
       "                        })                };                });            </script>        </div>"
      ]
     },
     "metadata": {},
     "output_type": "display_data"
    }
   ],
   "source": [
    "# Group by location and car model, and count the occurrences\n",
    "location_car = df.groupby(['location', 'car']).size().reset_index(name='Count')\n",
    "\n",
    "# Plot stacked bar chart\n",
    "fig = px.bar(location_car, \n",
    "             x='location', \n",
    "             y='Count', \n",
    "             color='car',\n",
    "             barmode='stack',\n",
    "             title='Car Model Distribution by Service Location',\n",
    "             labels={'count': 'Number of Cars', 'location': 'Service Location'}\n",
    "            )\n",
    "\n",
    "fig.update_layout(title_x=0.5)\n",
    "fig.show()"
   ]
  },
  {
   "cell_type": "code",
   "execution_count": null,
   "id": "cd94b273",
   "metadata": {},
   "outputs": [],
   "source": []
  }
 ],
 "metadata": {
  "kernelspec": {
   "display_name": "Python 3 (ipykernel)",
   "language": "python",
   "name": "python3"
  },
  "language_info": {
   "codemirror_mode": {
    "name": "ipython",
    "version": 3
   },
   "file_extension": ".py",
   "mimetype": "text/x-python",
   "name": "python",
   "nbconvert_exporter": "python",
   "pygments_lexer": "ipython3",
   "version": "3.7.9"
  }
 },
 "nbformat": 4,
 "nbformat_minor": 5
}
