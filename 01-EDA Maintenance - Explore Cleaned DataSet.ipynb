{
 "cells": [
  {
   "cell_type": "code",
   "execution_count": 1,
   "id": "988ff84c",
   "metadata": {},
   "outputs": [],
   "source": [
    "# Import Libraries"
   ]
  },
  {
   "cell_type": "code",
   "execution_count": 2,
   "id": "2c09cfd3",
   "metadata": {},
   "outputs": [
    {
     "data": {
      "text/plain": [
       "'module://matplotlib_inline.backend_inline'"
      ]
     },
     "execution_count": 2,
     "metadata": {},
     "output_type": "execute_result"
    }
   ],
   "source": [
    "import pandas as pd\n",
    "import numpy as np\n",
    "import matplotlib.pyplot as plt\n",
    "import matplotlib\n",
    "import seaborn as sns\n",
    "import plotly.express as px\n",
    "import plotly.io as pio\n",
    "import plotly\n",
    "from ydata_profiling import  ProfileReport\n",
    "import PyQt5 as qt\n",
    "from IPython.display import display, Markdown\n",
    "#Enable graphing inside jupytor\n",
    "#pip install PyQt5 #Install it if not installed\n",
    "get_ipython().run_line_magic('matplotlib', 'inline')\n",
    "matplotlib.get_backend()"
   ]
  },
  {
   "cell_type": "code",
   "execution_count": 3,
   "id": "3bd065ec",
   "metadata": {},
   "outputs": [],
   "source": [
    "# Load Data"
   ]
  },
  {
   "cell_type": "code",
   "execution_count": 4,
   "id": "a17718d0",
   "metadata": {},
   "outputs": [],
   "source": [
    "df = pd.read_excel('maintenance_cleaned.xlsx')"
   ]
  },
  {
   "cell_type": "code",
   "execution_count": 5,
   "id": "e6ab4b9f",
   "metadata": {},
   "outputs": [],
   "source": [
    "# Analyze DataSet function"
   ]
  },
  {
   "cell_type": "code",
   "execution_count": 6,
   "id": "2addf768",
   "metadata": {},
   "outputs": [],
   "source": [
    "def analyzeDataSet(DataSet,state):\n",
    "    print('Display data')\n",
    "    print(DataSet.head(3))\n",
    "    print('Data Info')\n",
    "    print(DataSet.info())\n",
    "    print('Describe Data')\n",
    "    print(DataSet.describe().round(2))\n",
    "    print('DataFrame for Information about Dataset')\n",
    "    information_DataSet = pd.DataFrame({\"name\": DataSet.columns,\n",
    "                     \"non-nulls\": len(DataSet)-DataSet.isnull().sum().values,\n",
    "                     \"nulls\": DataSet.isnull().sum().values,\n",
    "                     \"type\": DataSet.dtypes.values})\n",
    "    display(Markdown(information_DataSet.to_markdown()))\n",
    "    print(information_DataSet)\n",
    "    # Construct rows\n",
    "    info_list=[]\n",
    "    for column in DataSet.columns:\n",
    "        row = [column,\n",
    "               min(df[column]),\n",
    "               max(df[column]),\n",
    "               df[column].nunique(),\n",
    "               df[column].isna().sum(),\n",
    "               df.duplicated().sum()\n",
    "              ]\n",
    "        info_list.append(row)\n",
    "    print('DataFrame for information about Dataset Values') \n",
    "    # Convert List to DataFrame\n",
    "    info_df = pd.DataFrame(data = info_list,\n",
    "                            columns=['Column_name',\n",
    "                                     'Minimum_value',\n",
    "                                     'Maximum_value',\n",
    "                                     'Number_of_unique_records',\n",
    "                                     'Number_of_null_records',\n",
    "                                     'Number_of_duplicated_records'\n",
    "                                    ])\n",
    "    display(Markdown(info_df.to_markdown()))\n",
    "    print(info_df)\n",
    "    print('show data types')\n",
    "    print(info_df.dtypes)\n",
    "    print('Remove comment character if you want to proceed Running Ydata Report')\n",
    "    #pf = ProfileReport(df)\n",
    "    #if state == 'pre':\n",
    "    #    pf.to_file('maintenance_BEFORE_pre_process.html')\n",
    "    #elif state == 'post':\n",
    "    #    pf.to_file('maintenance_AFTER_pre_process.html')\n",
    "    #else :\n",
    "    #    print('for state of analysis, use \"pre\" or \"post\"')"
   ]
  },
  {
   "cell_type": "code",
   "execution_count": 7,
   "id": "1d74a0a6",
   "metadata": {},
   "outputs": [],
   "source": [
    "# Analyze DataSet before pre processing"
   ]
  },
  {
   "cell_type": "code",
   "execution_count": 8,
   "id": "cd0c083b",
   "metadata": {
    "scrolled": false
   },
   "outputs": [
    {
     "name": "stdout",
     "output_type": "stream",
     "text": [
      "Display data\n",
      "   # plate number      car    damage type    date in  KMs IN  Fuel in  \\\n",
      "0  1     70-29280   TUCSAN     اصلاح بودي 2015-01-14   23015     0.13   \n",
      "1  2     70-26587  ELANTRA     اصلاح بودي 2015-01-14   43638     0.38   \n",
      "2  3     70-25180   avanza  اصلاح مكانيك  2015-01-14   39880     0.38   \n",
      "\n",
      "  date ready  KMs out  KMs Diff  Fuel out  Fuel Diff  cost  location  \\\n",
      "0 2015-01-18    23030        15      0.13       0.00   150  المركزية   \n",
      "1 2015-01-18    43638         0      0.38       0.00   281  المركزية   \n",
      "2 2015-01-24    39889         9      0.75       0.37    92  المركزية   \n",
      "\n",
      "  corporate delivered by returned by                                   notes  \n",
      "0       Xe       omar m      omar m   اصلاح بودي ضربة باب خلفي شمال المركزية  \n",
      "1       Xe         maen        maen        اصلاح بودي ضربة مرش يمين المركزية  \n",
      "2       Xe     mohamad j   mohamad j                    اصلاح حميان المركزية  \n",
      "Data Info\n",
      "<class 'pandas.core.frame.DataFrame'>\n",
      "RangeIndex: 1499 entries, 0 to 1498\n",
      "Data columns (total 18 columns):\n",
      " #   Column        Non-Null Count  Dtype         \n",
      "---  ------        --------------  -----         \n",
      " 0   #             1499 non-null   int64         \n",
      " 1   plate number  1499 non-null   object        \n",
      " 2   car           1499 non-null   object        \n",
      " 3   damage type   1499 non-null   object        \n",
      " 4   date in       1499 non-null   datetime64[ns]\n",
      " 5   KMs IN        1499 non-null   int64         \n",
      " 6   Fuel in       1499 non-null   float64       \n",
      " 7   date ready    1499 non-null   datetime64[ns]\n",
      " 8   KMs out       1499 non-null   int64         \n",
      " 9   KMs Diff      1499 non-null   int64         \n",
      " 10  Fuel out      1499 non-null   float64       \n",
      " 11  Fuel Diff     1499 non-null   float64       \n",
      " 12  cost          1499 non-null   int64         \n",
      " 13  location      1499 non-null   object        \n",
      " 14  corporate     1499 non-null   object        \n",
      " 15  delivered by  1499 non-null   object        \n",
      " 16  returned by   1499 non-null   object        \n",
      " 17  notes         1499 non-null   object        \n",
      "dtypes: datetime64[ns](2), float64(3), int64(5), object(8)\n",
      "memory usage: 210.9+ KB\n",
      "None\n",
      "Describe Data\n",
      "             #     KMs IN  Fuel in    KMs out  KMs Diff  Fuel out  Fuel Diff  \\\n",
      "count  1499.00    1499.00  1499.00    1499.00   1499.00   1499.00    1499.00   \n",
      "mean    750.00   63581.83     0.31   63590.73      8.90      0.31       0.01   \n",
      "std     432.87   40221.63     0.11   40221.53      4.84      0.12       0.04   \n",
      "min       1.00     390.00     0.00     400.00      0.00      0.00      -0.38   \n",
      "25%     375.50   43710.50     0.25   43724.50      6.00      0.25       0.00   \n",
      "50%     750.00   65890.00     0.25   65897.00      9.00      0.25       0.00   \n",
      "75%    1124.50   82080.00     0.38   82088.00     10.00      0.38       0.00   \n",
      "max    1499.00  754935.00     1.00  754945.00     71.00      1.00       0.38   \n",
      "\n",
      "          cost  \n",
      "count  1499.00  \n",
      "mean    107.95  \n",
      "std     166.28  \n",
      "min       2.00  \n",
      "25%      21.00  \n",
      "50%      50.00  \n",
      "75%     102.00  \n",
      "max    2500.00  \n",
      "DataFrame for Information about Dataset\n"
     ]
    },
    {
     "data": {
      "text/markdown": [
       "|    | name         |   non-nulls |   nulls | type           |\n",
       "|---:|:-------------|------------:|--------:|:---------------|\n",
       "|  0 | #            |        1499 |       0 | int64          |\n",
       "|  1 | plate number |        1499 |       0 | object         |\n",
       "|  2 | car          |        1499 |       0 | object         |\n",
       "|  3 | damage type  |        1499 |       0 | object         |\n",
       "|  4 | date in      |        1499 |       0 | datetime64[ns] |\n",
       "|  5 | KMs IN       |        1499 |       0 | int64          |\n",
       "|  6 | Fuel in      |        1499 |       0 | float64        |\n",
       "|  7 | date ready   |        1499 |       0 | datetime64[ns] |\n",
       "|  8 | KMs out      |        1499 |       0 | int64          |\n",
       "|  9 | KMs Diff     |        1499 |       0 | int64          |\n",
       "| 10 | Fuel out     |        1499 |       0 | float64        |\n",
       "| 11 | Fuel Diff    |        1499 |       0 | float64        |\n",
       "| 12 | cost         |        1499 |       0 | int64          |\n",
       "| 13 | location     |        1499 |       0 | object         |\n",
       "| 14 | corporate    |        1499 |       0 | object         |\n",
       "| 15 | delivered by |        1499 |       0 | object         |\n",
       "| 16 | returned by  |        1499 |       0 | object         |\n",
       "| 17 | notes        |        1499 |       0 | object         |"
      ],
      "text/plain": [
       "<IPython.core.display.Markdown object>"
      ]
     },
     "metadata": {},
     "output_type": "display_data"
    },
    {
     "name": "stdout",
     "output_type": "stream",
     "text": [
      "            name  non-nulls  nulls            type\n",
      "0              #       1499      0           int64\n",
      "1   plate number       1499      0          object\n",
      "2            car       1499      0          object\n",
      "3    damage type       1499      0          object\n",
      "4        date in       1499      0  datetime64[ns]\n",
      "5         KMs IN       1499      0           int64\n",
      "6        Fuel in       1499      0         float64\n",
      "7     date ready       1499      0  datetime64[ns]\n",
      "8        KMs out       1499      0           int64\n",
      "9       KMs Diff       1499      0           int64\n",
      "10      Fuel out       1499      0         float64\n",
      "11     Fuel Diff       1499      0         float64\n",
      "12          cost       1499      0           int64\n",
      "13      location       1499      0          object\n",
      "14     corporate       1499      0          object\n",
      "15  delivered by       1499      0          object\n",
      "16   returned by       1499      0          object\n",
      "17         notes       1499      0          object\n",
      "DataFrame for information about Dataset Values\n"
     ]
    },
    {
     "data": {
      "text/markdown": [
       "|    | Column_name   | Minimum_value                        | Maximum_value               |   Number_of_unique_records |   Number_of_null_records |   Number_of_duplicated_records |\n",
       "|---:|:--------------|:-------------------------------------|:----------------------------|---------------------------:|-------------------------:|-------------------------------:|\n",
       "|  0 | #             | 1                                    | 1499                        |                       1499 |                        0 |                              0 |\n",
       "|  1 | plate number  | 70-24337                             | 70-91371                    |                        337 |                        0 |                              0 |\n",
       "|  2 | car           | Spark                                | yaris                       |                         35 |                        0 |                              0 |\n",
       "|  3 | damage type   | اصلاح بودي                           | غيار زيت                    |                          8 |                        0 |                              0 |\n",
       "|  4 | date in       | 2015-01-01 00:00:00                  | 2016-02-03 00:00:00         |                        301 |                        0 |                              0 |\n",
       "|  5 | KMs IN        | 390                                  | 754935                      |                       1423 |                        0 |                              0 |\n",
       "|  6 | Fuel in       | 0.0                                  | 1.0                         |                         10 |                        0 |                              0 |\n",
       "|  7 | date ready    | 2015-01-01 00:00:00                  | 2016-02-03 00:00:00         |                        320 |                        0 |                              0 |\n",
       "|  8 | KMs out       | 400                                  | 754945                      |                       1427 |                        0 |                              0 |\n",
       "|  9 | KMs Diff      | 0                                    | 71                          |                         39 |                        0 |                              0 |\n",
       "| 10 | Fuel out      | 0.0                                  | 1.0                         |                          9 |                        0 |                              0 |\n",
       "| 11 | Fuel Diff     | -0.38                                | 0.38                        |                         11 |                        0 |                              0 |\n",
       "| 12 | cost          | 2                                    | 2500                        |                        166 |                        0 |                              0 |\n",
       "| 13 | location      | 4 جيد                                | هانكونك                     |                         39 |                        0 |                              0 |\n",
       "| 14 | corporate     | AIG                                  | شركه الهندسه الكهروميكانكيه |                         68 |                        0 |                              0 |\n",
       "| 15 | delivered by  | ABDALLA                              | omar m                      |                         61 |                        0 |                              0 |\n",
       "| 16 | returned by   | AHMAD                                | omar m                      |                         70 |                        0 |                              0 |\n",
       "| 17 | notes         | غيار زيت +فلتر هواء +فلتر كندشن+بريك | ويل بلنس / ترصيص            |                        666 |                        0 |                              0 |"
      ],
      "text/plain": [
       "<IPython.core.display.Markdown object>"
      ]
     },
     "metadata": {},
     "output_type": "display_data"
    },
    {
     "name": "stdout",
     "output_type": "stream",
     "text": [
      "     Column_name                                      Minimum_value  \\\n",
      "0              #                                                  1   \n",
      "1   plate number                                         70-24337     \n",
      "2            car                                        Spark         \n",
      "3    damage type                                         اصلاح بودي   \n",
      "4        date in                                2015-01-01 00:00:00   \n",
      "5         KMs IN                                                390   \n",
      "6        Fuel in                                                0.0   \n",
      "7     date ready                                2015-01-01 00:00:00   \n",
      "8        KMs out                                                400   \n",
      "9       KMs Diff                                                  0   \n",
      "10      Fuel out                                                0.0   \n",
      "11     Fuel Diff                                              -0.38   \n",
      "12          cost                                                  2   \n",
      "13      location                                              4 جيد   \n",
      "14     corporate                                               AIG    \n",
      "15  delivered by                                           ABDALLA    \n",
      "16   returned by                                             AHMAD    \n",
      "17         notes                                                ...   \n",
      "\n",
      "                  Maximum_value  Number_of_unique_records  \\\n",
      "0                          1499                      1499   \n",
      "1                      70-91371                       337   \n",
      "2                         yaris                        35   \n",
      "3                      غيار زيت                         8   \n",
      "4           2016-02-03 00:00:00                       301   \n",
      "5                        754935                      1423   \n",
      "6                           1.0                        10   \n",
      "7           2016-02-03 00:00:00                       320   \n",
      "8                        754945                      1427   \n",
      "9                            71                        39   \n",
      "10                          1.0                         9   \n",
      "11                         0.38                        11   \n",
      "12                         2500                       166   \n",
      "13                      هانكونك                        39   \n",
      "14  شركه الهندسه الكهروميكانكيه                        68   \n",
      "15                       omar m                        61   \n",
      "16                       omar m                        70   \n",
      "17             ويل بلنس / ترصيص                       666   \n",
      "\n",
      "    Number_of_null_records  Number_of_duplicated_records  \n",
      "0                        0                             0  \n",
      "1                        0                             0  \n",
      "2                        0                             0  \n",
      "3                        0                             0  \n",
      "4                        0                             0  \n",
      "5                        0                             0  \n",
      "6                        0                             0  \n",
      "7                        0                             0  \n",
      "8                        0                             0  \n",
      "9                        0                             0  \n",
      "10                       0                             0  \n",
      "11                       0                             0  \n",
      "12                       0                             0  \n",
      "13                       0                             0  \n",
      "14                       0                             0  \n",
      "15                       0                             0  \n",
      "16                       0                             0  \n",
      "17                       0                             0  \n",
      "show data types\n",
      "Column_name                     object\n",
      "Minimum_value                   object\n",
      "Maximum_value                   object\n",
      "Number_of_unique_records         int64\n",
      "Number_of_null_records           int64\n",
      "Number_of_duplicated_records     int64\n",
      "dtype: object\n",
      "Remove comment character if you want to proceed Running Ydata Report\n"
     ]
    }
   ],
   "source": [
    "analyzeDataSet(df,'pre')"
   ]
  },
  {
   "cell_type": "code",
   "execution_count": null,
   "id": "8367ccb6",
   "metadata": {},
   "outputs": [],
   "source": []
  }
 ],
 "metadata": {
  "kernelspec": {
   "display_name": "Python 3 (ipykernel)",
   "language": "python",
   "name": "python3"
  },
  "language_info": {
   "codemirror_mode": {
    "name": "ipython",
    "version": 3
   },
   "file_extension": ".py",
   "mimetype": "text/x-python",
   "name": "python",
   "nbconvert_exporter": "python",
   "pygments_lexer": "ipython3",
   "version": "3.7.9"
  }
 },
 "nbformat": 4,
 "nbformat_minor": 5
}
