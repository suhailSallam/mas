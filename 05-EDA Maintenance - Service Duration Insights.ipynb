{
 "cells": [
  {
   "cell_type": "code",
   "execution_count": 1,
   "id": "861f804f",
   "metadata": {},
   "outputs": [],
   "source": [
    "# Import Libraries"
   ]
  },
  {
   "cell_type": "code",
   "execution_count": 2,
   "id": "6dc68dd5",
   "metadata": {},
   "outputs": [
    {
     "data": {
      "text/plain": [
       "'module://matplotlib_inline.backend_inline'"
      ]
     },
     "execution_count": 2,
     "metadata": {},
     "output_type": "execute_result"
    }
   ],
   "source": [
    "import pandas as pd\n",
    "import numpy as np\n",
    "import matplotlib.pyplot as plt\n",
    "import matplotlib\n",
    "import seaborn as sns\n",
    "import plotly.express as px\n",
    "import plotly.io as pio\n",
    "import plotly\n",
    "from ydata_profiling import  ProfileReport\n",
    "import PyQt5 as qt\n",
    "from IPython.display import display, Markdown\n",
    "#Enable graphing inside jupytor\n",
    "#pip install PyQt5 #Install it if not installed\n",
    "get_ipython().run_line_magic('matplotlib', 'inline')\n",
    "matplotlib.get_backend()"
   ]
  },
  {
   "cell_type": "code",
   "execution_count": 3,
   "id": "39a6fdd2",
   "metadata": {},
   "outputs": [],
   "source": [
    "# Load Data"
   ]
  },
  {
   "cell_type": "code",
   "execution_count": 62,
   "id": "41cba117",
   "metadata": {},
   "outputs": [],
   "source": [
    "df = pd.read_excel('maintenance_cleaned_extended.xlsx')"
   ]
  },
  {
   "cell_type": "code",
   "execution_count": 5,
   "id": "eab8cdb0",
   "metadata": {},
   "outputs": [],
   "source": [
    "# Visualization Functions"
   ]
  },
  {
   "cell_type": "code",
   "execution_count": 6,
   "id": "9b603a66",
   "metadata": {},
   "outputs": [],
   "source": [
    "## Bar, Scatter, Line charts"
   ]
  },
  {
   "cell_type": "code",
   "execution_count": 79,
   "id": "da59ec40",
   "metadata": {},
   "outputs": [],
   "source": [
    "def myPlot(data,plotType,title):\n",
    "    data = data.sort_values(by='',ascending=True)\n",
    "    xs = data.index.astype(str)  \n",
    "    ys = data.values\n",
    "    if plotType == 'bar':\n",
    "        fig = px.bar(data_frame=data, x = xs, y = ys,color=ys,title=title+' Analysis')\n",
    "    elif plotType == 'scatter':\n",
    "        fig = px.scatter(data_frame=data, x = xs, y = ys,color=ys,title=title+' Analysis')\n",
    "    elif plotType == 'line':\n",
    "        fig = px.line(data_frame=data, x = xs, y = ys,title=title+' Analysis')\n",
    "    fig.update_layout(title_x=0.45)\n",
    "    fig.show()"
   ]
  },
  {
   "cell_type": "code",
   "execution_count": 5,
   "id": "d0bc1235",
   "metadata": {},
   "outputs": [],
   "source": [
    "def myPlot1(data,xs,ys,clr,plotType,title, sort_by=None, ascending=True):\n",
    "    if sort_by is not None:\n",
    "        data_sorted = data.sort_values(by=sort_by, ascending=ascending)\n",
    "    else:\n",
    "        data_sorted = data\n",
    "    xt=str(xs)\n",
    "    yt=str(ys)\n",
    "    xs = data_sorted[xs].astype(str)  \n",
    "    ys = data_sorted[ys]              \n",
    "    clr = data_sorted[clr].astype(str)\n",
    "    if plotType == 'bar':\n",
    "        fig = px.bar(data_frame=data_sorted, x = xs, y = ys,color=clr,title=title+' Analysis')\n",
    "    elif plotType == 'scatter':\n",
    "        fig = px.scatter(data_frame=data_sorted, x = xs, y = ys,color=clr,title=title+' Analysis')\n",
    "    elif plotType == 'line':\n",
    "        fig = px.line(data_frame=data_sorted, x = xs, y = ys,color=clr,title=title+' Analysis')\n",
    "    fig.update_layout(title_x=0.5)\n",
    "    fig.update_layout(\n",
    "        xaxis_title=xt,\n",
    "        yaxis_title=yt\n",
    ")\n",
    "    fig.show()"
   ]
  },
  {
   "cell_type": "code",
   "execution_count": 6,
   "id": "50aab377",
   "metadata": {},
   "outputs": [],
   "source": [
    "def myBoxPlot(data,x,y,color,title):\n",
    "    fig = px.box(data, x=x, y=y, color=color, title=title)\n",
    "    fig.update_layout(\n",
    "        title_x=0.5,\n",
    "        xaxis_title=str(x),\n",
    "        yaxis_title=str(y)\n",
    "    )\n",
    "    fig.show()"
   ]
  },
  {
   "cell_type": "code",
   "execution_count": 7,
   "id": "c3aff5bd",
   "metadata": {},
   "outputs": [],
   "source": [
    "## Sunburst chart"
   ]
  },
  {
   "cell_type": "code",
   "execution_count": 8,
   "id": "822f8364",
   "metadata": {},
   "outputs": [],
   "source": [
    "def mySunBurst(data, name, value, title):\n",
    "    fig = px.sunburst(\n",
    "        data_frame=data,\n",
    "        #path=['cost_category', 'damage type'],   # Add both cost_category and damage type to the hierarchy\n",
    "        path=name,\n",
    "        values=value,  # Define the values (damage_count)\n",
    "        title=title+' Analysis'\n",
    "    )\n",
    "    fig.update_layout(title_x=0.45)\n",
    "    fig.show()"
   ]
  },
  {
   "cell_type": "code",
   "execution_count": 9,
   "id": "f0612a04",
   "metadata": {},
   "outputs": [],
   "source": [
    "## Pie chart"
   ]
  },
  {
   "cell_type": "code",
   "execution_count": 10,
   "id": "4d908bb3",
   "metadata": {},
   "outputs": [],
   "source": [
    "def myPie(data,title_prefix):\n",
    "    name  = data.index\n",
    "    value = data.values\n",
    "    fig = px.pie(data_frame=data,\n",
    "                 names = name, \n",
    "                 values = value,\n",
    "                 title ='Top 5 '+ title_prefix +' Analysis'\n",
    "                )\n",
    "    fig.update_layout(title_x=0.5)\n",
    "\n",
    "    fig.show()"
   ]
  },
  {
   "cell_type": "code",
   "execution_count": 11,
   "id": "c7983e8c",
   "metadata": {},
   "outputs": [],
   "source": [
    "## Combine DataFrames"
   ]
  },
  {
   "cell_type": "code",
   "execution_count": 12,
   "id": "e2dbb00d",
   "metadata": {},
   "outputs": [],
   "source": [
    "def combine(data,first_field,first_field_count,field_grouped_on,resulting_field_value):\n",
    "    data_first_cat = data[first_field].value_counts().reset_index()\n",
    "    data_first_cat.columns = [first_field,first_field_count]\n",
    "    data_merged = data.groupby([first_field])[field_grouped_on].sum().reset_index(name=resulting_field_value)\n",
    "    data_merged = data_merged.merge(data_first_cat,on=first_field)\n",
    "    return first_field_count, resulting_field_value, data_merged"
   ]
  },
  {
   "cell_type": "code",
   "execution_count": 13,
   "id": "bcd4cbec",
   "metadata": {},
   "outputs": [],
   "source": [
    "## Bi - Variance Analysis"
   ]
  },
  {
   "cell_type": "code",
   "execution_count": 14,
   "id": "7370e613",
   "metadata": {},
   "outputs": [],
   "source": [
    "### Service Duration Analysis"
   ]
  },
  {
   "cell_type": "code",
   "execution_count": 15,
   "id": "134d35d7",
   "metadata": {},
   "outputs": [],
   "source": [
    "#### What is the Average Service Duration by Damage Type"
   ]
  },
  {
   "cell_type": "code",
   "execution_count": 36,
   "id": "04b5f37b",
   "metadata": {},
   "outputs": [
    {
     "data": {
      "application/vnd.plotly.v1+json": {
       "config": {
        "plotlyServerURL": "https://plot.ly"
       },
       "data": [
        {
         "branchvalues": "total",
         "domain": {
          "x": [
           0,
           1
          ],
          "y": [
           0,
           1
          ]
         },
         "hovertemplate": "labels=%{label}<br>AverageServiceDuration=%{value}<br>parent=%{parent}<br>id=%{id}<extra></extra>",
         "ids": [
          "اصلاح بودي",
          "اصلاح زجاج",
          "اصلاح فرش",
          "اصلاح كهرباء",
          "اصلاح كوشوك",
          "اصلاح ميكانيك",
          "غيار زيت"
         ],
         "labels": [
          "اصلاح بودي",
          "اصلاح زجاج",
          "اصلاح فرش",
          "اصلاح كهرباء",
          "اصلاح كوشوك",
          "اصلاح ميكانيك",
          "غيار زيت"
         ],
         "name": "",
         "parents": [
          "",
          "",
          "",
          "",
          "",
          "",
          ""
         ],
         "type": "sunburst",
         "values": [
          5.4,
          1,
          1.6,
          1.9,
          1.3,
          1.5,
          1
         ]
        }
       ],
       "layout": {
        "legend": {
         "tracegroupgap": 0
        },
        "template": {
         "data": {
          "bar": [
           {
            "error_x": {
             "color": "#2a3f5f"
            },
            "error_y": {
             "color": "#2a3f5f"
            },
            "marker": {
             "line": {
              "color": "#E5ECF6",
              "width": 0.5
             },
             "pattern": {
              "fillmode": "overlay",
              "size": 10,
              "solidity": 0.2
             }
            },
            "type": "bar"
           }
          ],
          "barpolar": [
           {
            "marker": {
             "line": {
              "color": "#E5ECF6",
              "width": 0.5
             },
             "pattern": {
              "fillmode": "overlay",
              "size": 10,
              "solidity": 0.2
             }
            },
            "type": "barpolar"
           }
          ],
          "carpet": [
           {
            "aaxis": {
             "endlinecolor": "#2a3f5f",
             "gridcolor": "white",
             "linecolor": "white",
             "minorgridcolor": "white",
             "startlinecolor": "#2a3f5f"
            },
            "baxis": {
             "endlinecolor": "#2a3f5f",
             "gridcolor": "white",
             "linecolor": "white",
             "minorgridcolor": "white",
             "startlinecolor": "#2a3f5f"
            },
            "type": "carpet"
           }
          ],
          "choropleth": [
           {
            "colorbar": {
             "outlinewidth": 0,
             "ticks": ""
            },
            "type": "choropleth"
           }
          ],
          "contour": [
           {
            "colorbar": {
             "outlinewidth": 0,
             "ticks": ""
            },
            "colorscale": [
             [
              0,
              "#0d0887"
             ],
             [
              0.1111111111111111,
              "#46039f"
             ],
             [
              0.2222222222222222,
              "#7201a8"
             ],
             [
              0.3333333333333333,
              "#9c179e"
             ],
             [
              0.4444444444444444,
              "#bd3786"
             ],
             [
              0.5555555555555556,
              "#d8576b"
             ],
             [
              0.6666666666666666,
              "#ed7953"
             ],
             [
              0.7777777777777778,
              "#fb9f3a"
             ],
             [
              0.8888888888888888,
              "#fdca26"
             ],
             [
              1,
              "#f0f921"
             ]
            ],
            "type": "contour"
           }
          ],
          "contourcarpet": [
           {
            "colorbar": {
             "outlinewidth": 0,
             "ticks": ""
            },
            "type": "contourcarpet"
           }
          ],
          "heatmap": [
           {
            "colorbar": {
             "outlinewidth": 0,
             "ticks": ""
            },
            "colorscale": [
             [
              0,
              "#0d0887"
             ],
             [
              0.1111111111111111,
              "#46039f"
             ],
             [
              0.2222222222222222,
              "#7201a8"
             ],
             [
              0.3333333333333333,
              "#9c179e"
             ],
             [
              0.4444444444444444,
              "#bd3786"
             ],
             [
              0.5555555555555556,
              "#d8576b"
             ],
             [
              0.6666666666666666,
              "#ed7953"
             ],
             [
              0.7777777777777778,
              "#fb9f3a"
             ],
             [
              0.8888888888888888,
              "#fdca26"
             ],
             [
              1,
              "#f0f921"
             ]
            ],
            "type": "heatmap"
           }
          ],
          "heatmapgl": [
           {
            "colorbar": {
             "outlinewidth": 0,
             "ticks": ""
            },
            "colorscale": [
             [
              0,
              "#0d0887"
             ],
             [
              0.1111111111111111,
              "#46039f"
             ],
             [
              0.2222222222222222,
              "#7201a8"
             ],
             [
              0.3333333333333333,
              "#9c179e"
             ],
             [
              0.4444444444444444,
              "#bd3786"
             ],
             [
              0.5555555555555556,
              "#d8576b"
             ],
             [
              0.6666666666666666,
              "#ed7953"
             ],
             [
              0.7777777777777778,
              "#fb9f3a"
             ],
             [
              0.8888888888888888,
              "#fdca26"
             ],
             [
              1,
              "#f0f921"
             ]
            ],
            "type": "heatmapgl"
           }
          ],
          "histogram": [
           {
            "marker": {
             "pattern": {
              "fillmode": "overlay",
              "size": 10,
              "solidity": 0.2
             }
            },
            "type": "histogram"
           }
          ],
          "histogram2d": [
           {
            "colorbar": {
             "outlinewidth": 0,
             "ticks": ""
            },
            "colorscale": [
             [
              0,
              "#0d0887"
             ],
             [
              0.1111111111111111,
              "#46039f"
             ],
             [
              0.2222222222222222,
              "#7201a8"
             ],
             [
              0.3333333333333333,
              "#9c179e"
             ],
             [
              0.4444444444444444,
              "#bd3786"
             ],
             [
              0.5555555555555556,
              "#d8576b"
             ],
             [
              0.6666666666666666,
              "#ed7953"
             ],
             [
              0.7777777777777778,
              "#fb9f3a"
             ],
             [
              0.8888888888888888,
              "#fdca26"
             ],
             [
              1,
              "#f0f921"
             ]
            ],
            "type": "histogram2d"
           }
          ],
          "histogram2dcontour": [
           {
            "colorbar": {
             "outlinewidth": 0,
             "ticks": ""
            },
            "colorscale": [
             [
              0,
              "#0d0887"
             ],
             [
              0.1111111111111111,
              "#46039f"
             ],
             [
              0.2222222222222222,
              "#7201a8"
             ],
             [
              0.3333333333333333,
              "#9c179e"
             ],
             [
              0.4444444444444444,
              "#bd3786"
             ],
             [
              0.5555555555555556,
              "#d8576b"
             ],
             [
              0.6666666666666666,
              "#ed7953"
             ],
             [
              0.7777777777777778,
              "#fb9f3a"
             ],
             [
              0.8888888888888888,
              "#fdca26"
             ],
             [
              1,
              "#f0f921"
             ]
            ],
            "type": "histogram2dcontour"
           }
          ],
          "mesh3d": [
           {
            "colorbar": {
             "outlinewidth": 0,
             "ticks": ""
            },
            "type": "mesh3d"
           }
          ],
          "parcoords": [
           {
            "line": {
             "colorbar": {
              "outlinewidth": 0,
              "ticks": ""
             }
            },
            "type": "parcoords"
           }
          ],
          "pie": [
           {
            "automargin": true,
            "type": "pie"
           }
          ],
          "scatter": [
           {
            "fillpattern": {
             "fillmode": "overlay",
             "size": 10,
             "solidity": 0.2
            },
            "type": "scatter"
           }
          ],
          "scatter3d": [
           {
            "line": {
             "colorbar": {
              "outlinewidth": 0,
              "ticks": ""
             }
            },
            "marker": {
             "colorbar": {
              "outlinewidth": 0,
              "ticks": ""
             }
            },
            "type": "scatter3d"
           }
          ],
          "scattercarpet": [
           {
            "marker": {
             "colorbar": {
              "outlinewidth": 0,
              "ticks": ""
             }
            },
            "type": "scattercarpet"
           }
          ],
          "scattergeo": [
           {
            "marker": {
             "colorbar": {
              "outlinewidth": 0,
              "ticks": ""
             }
            },
            "type": "scattergeo"
           }
          ],
          "scattergl": [
           {
            "marker": {
             "colorbar": {
              "outlinewidth": 0,
              "ticks": ""
             }
            },
            "type": "scattergl"
           }
          ],
          "scattermapbox": [
           {
            "marker": {
             "colorbar": {
              "outlinewidth": 0,
              "ticks": ""
             }
            },
            "type": "scattermapbox"
           }
          ],
          "scatterpolar": [
           {
            "marker": {
             "colorbar": {
              "outlinewidth": 0,
              "ticks": ""
             }
            },
            "type": "scatterpolar"
           }
          ],
          "scatterpolargl": [
           {
            "marker": {
             "colorbar": {
              "outlinewidth": 0,
              "ticks": ""
             }
            },
            "type": "scatterpolargl"
           }
          ],
          "scatterternary": [
           {
            "marker": {
             "colorbar": {
              "outlinewidth": 0,
              "ticks": ""
             }
            },
            "type": "scatterternary"
           }
          ],
          "surface": [
           {
            "colorbar": {
             "outlinewidth": 0,
             "ticks": ""
            },
            "colorscale": [
             [
              0,
              "#0d0887"
             ],
             [
              0.1111111111111111,
              "#46039f"
             ],
             [
              0.2222222222222222,
              "#7201a8"
             ],
             [
              0.3333333333333333,
              "#9c179e"
             ],
             [
              0.4444444444444444,
              "#bd3786"
             ],
             [
              0.5555555555555556,
              "#d8576b"
             ],
             [
              0.6666666666666666,
              "#ed7953"
             ],
             [
              0.7777777777777778,
              "#fb9f3a"
             ],
             [
              0.8888888888888888,
              "#fdca26"
             ],
             [
              1,
              "#f0f921"
             ]
            ],
            "type": "surface"
           }
          ],
          "table": [
           {
            "cells": {
             "fill": {
              "color": "#EBF0F8"
             },
             "line": {
              "color": "white"
             }
            },
            "header": {
             "fill": {
              "color": "#C8D4E3"
             },
             "line": {
              "color": "white"
             }
            },
            "type": "table"
           }
          ]
         },
         "layout": {
          "annotationdefaults": {
           "arrowcolor": "#2a3f5f",
           "arrowhead": 0,
           "arrowwidth": 1
          },
          "autotypenumbers": "strict",
          "coloraxis": {
           "colorbar": {
            "outlinewidth": 0,
            "ticks": ""
           }
          },
          "colorscale": {
           "diverging": [
            [
             0,
             "#8e0152"
            ],
            [
             0.1,
             "#c51b7d"
            ],
            [
             0.2,
             "#de77ae"
            ],
            [
             0.3,
             "#f1b6da"
            ],
            [
             0.4,
             "#fde0ef"
            ],
            [
             0.5,
             "#f7f7f7"
            ],
            [
             0.6,
             "#e6f5d0"
            ],
            [
             0.7,
             "#b8e186"
            ],
            [
             0.8,
             "#7fbc41"
            ],
            [
             0.9,
             "#4d9221"
            ],
            [
             1,
             "#276419"
            ]
           ],
           "sequential": [
            [
             0,
             "#0d0887"
            ],
            [
             0.1111111111111111,
             "#46039f"
            ],
            [
             0.2222222222222222,
             "#7201a8"
            ],
            [
             0.3333333333333333,
             "#9c179e"
            ],
            [
             0.4444444444444444,
             "#bd3786"
            ],
            [
             0.5555555555555556,
             "#d8576b"
            ],
            [
             0.6666666666666666,
             "#ed7953"
            ],
            [
             0.7777777777777778,
             "#fb9f3a"
            ],
            [
             0.8888888888888888,
             "#fdca26"
            ],
            [
             1,
             "#f0f921"
            ]
           ],
           "sequentialminus": [
            [
             0,
             "#0d0887"
            ],
            [
             0.1111111111111111,
             "#46039f"
            ],
            [
             0.2222222222222222,
             "#7201a8"
            ],
            [
             0.3333333333333333,
             "#9c179e"
            ],
            [
             0.4444444444444444,
             "#bd3786"
            ],
            [
             0.5555555555555556,
             "#d8576b"
            ],
            [
             0.6666666666666666,
             "#ed7953"
            ],
            [
             0.7777777777777778,
             "#fb9f3a"
            ],
            [
             0.8888888888888888,
             "#fdca26"
            ],
            [
             1,
             "#f0f921"
            ]
           ]
          },
          "colorway": [
           "#636efa",
           "#EF553B",
           "#00cc96",
           "#ab63fa",
           "#FFA15A",
           "#19d3f3",
           "#FF6692",
           "#B6E880",
           "#FF97FF",
           "#FECB52"
          ],
          "font": {
           "color": "#2a3f5f"
          },
          "geo": {
           "bgcolor": "white",
           "lakecolor": "white",
           "landcolor": "#E5ECF6",
           "showlakes": true,
           "showland": true,
           "subunitcolor": "white"
          },
          "hoverlabel": {
           "align": "left"
          },
          "hovermode": "closest",
          "mapbox": {
           "style": "light"
          },
          "paper_bgcolor": "white",
          "plot_bgcolor": "#E5ECF6",
          "polar": {
           "angularaxis": {
            "gridcolor": "white",
            "linecolor": "white",
            "ticks": ""
           },
           "bgcolor": "#E5ECF6",
           "radialaxis": {
            "gridcolor": "white",
            "linecolor": "white",
            "ticks": ""
           }
          },
          "scene": {
           "xaxis": {
            "backgroundcolor": "#E5ECF6",
            "gridcolor": "white",
            "gridwidth": 2,
            "linecolor": "white",
            "showbackground": true,
            "ticks": "",
            "zerolinecolor": "white"
           },
           "yaxis": {
            "backgroundcolor": "#E5ECF6",
            "gridcolor": "white",
            "gridwidth": 2,
            "linecolor": "white",
            "showbackground": true,
            "ticks": "",
            "zerolinecolor": "white"
           },
           "zaxis": {
            "backgroundcolor": "#E5ECF6",
            "gridcolor": "white",
            "gridwidth": 2,
            "linecolor": "white",
            "showbackground": true,
            "ticks": "",
            "zerolinecolor": "white"
           }
          },
          "shapedefaults": {
           "line": {
            "color": "#2a3f5f"
           }
          },
          "ternary": {
           "aaxis": {
            "gridcolor": "white",
            "linecolor": "white",
            "ticks": ""
           },
           "baxis": {
            "gridcolor": "white",
            "linecolor": "white",
            "ticks": ""
           },
           "bgcolor": "#E5ECF6",
           "caxis": {
            "gridcolor": "white",
            "linecolor": "white",
            "ticks": ""
           }
          },
          "title": {
           "x": 0.05
          },
          "xaxis": {
           "automargin": true,
           "gridcolor": "white",
           "linecolor": "white",
           "ticks": "",
           "title": {
            "standoff": 15
           },
           "zerolinecolor": "white",
           "zerolinewidth": 2
          },
          "yaxis": {
           "automargin": true,
           "gridcolor": "white",
           "linecolor": "white",
           "ticks": "",
           "title": {
            "standoff": 15
           },
           "zerolinecolor": "white",
           "zerolinewidth": 2
          }
         }
        },
        "title": {
         "text": "Average Service Duration by Damage Type Analysis",
         "x": 0.45
        }
       }
      },
      "text/html": [
       "<div>                            <div id=\"850a0b41-5b04-4644-879e-9d9f442e8391\" class=\"plotly-graph-div\" style=\"height:525px; width:100%;\"></div>            <script type=\"text/javascript\">                require([\"plotly\"], function(Plotly) {                    window.PLOTLYENV=window.PLOTLYENV || {};                                    if (document.getElementById(\"850a0b41-5b04-4644-879e-9d9f442e8391\")) {                    Plotly.newPlot(                        \"850a0b41-5b04-4644-879e-9d9f442e8391\",                        [{\"branchvalues\":\"total\",\"domain\":{\"x\":[0.0,1.0],\"y\":[0.0,1.0]},\"hovertemplate\":\"labels=%{label}\\u003cbr\\u003eAverageServiceDuration=%{value}\\u003cbr\\u003eparent=%{parent}\\u003cbr\\u003eid=%{id}\\u003cextra\\u003e\\u003c\\u002fextra\\u003e\",\"ids\":[\"اصلاح بودي\",\"اصلاح زجاج\",\"اصلاح فرش\",\"اصلاح كهرباء\",\"اصلاح كوشوك\",\"اصلاح ميكانيك\",\"غيار زيت\"],\"labels\":[\"اصلاح بودي\",\"اصلاح زجاج\",\"اصلاح فرش\",\"اصلاح كهرباء\",\"اصلاح كوشوك\",\"اصلاح ميكانيك\",\"غيار زيت\"],\"name\":\"\",\"parents\":[\"\",\"\",\"\",\"\",\"\",\"\",\"\"],\"values\":[5.4,1.0,1.6,1.9,1.3,1.5,1.0],\"type\":\"sunburst\"}],                        {\"template\":{\"data\":{\"histogram2dcontour\":[{\"type\":\"histogram2dcontour\",\"colorbar\":{\"outlinewidth\":0,\"ticks\":\"\"},\"colorscale\":[[0.0,\"#0d0887\"],[0.1111111111111111,\"#46039f\"],[0.2222222222222222,\"#7201a8\"],[0.3333333333333333,\"#9c179e\"],[0.4444444444444444,\"#bd3786\"],[0.5555555555555556,\"#d8576b\"],[0.6666666666666666,\"#ed7953\"],[0.7777777777777778,\"#fb9f3a\"],[0.8888888888888888,\"#fdca26\"],[1.0,\"#f0f921\"]]}],\"choropleth\":[{\"type\":\"choropleth\",\"colorbar\":{\"outlinewidth\":0,\"ticks\":\"\"}}],\"histogram2d\":[{\"type\":\"histogram2d\",\"colorbar\":{\"outlinewidth\":0,\"ticks\":\"\"},\"colorscale\":[[0.0,\"#0d0887\"],[0.1111111111111111,\"#46039f\"],[0.2222222222222222,\"#7201a8\"],[0.3333333333333333,\"#9c179e\"],[0.4444444444444444,\"#bd3786\"],[0.5555555555555556,\"#d8576b\"],[0.6666666666666666,\"#ed7953\"],[0.7777777777777778,\"#fb9f3a\"],[0.8888888888888888,\"#fdca26\"],[1.0,\"#f0f921\"]]}],\"heatmap\":[{\"type\":\"heatmap\",\"colorbar\":{\"outlinewidth\":0,\"ticks\":\"\"},\"colorscale\":[[0.0,\"#0d0887\"],[0.1111111111111111,\"#46039f\"],[0.2222222222222222,\"#7201a8\"],[0.3333333333333333,\"#9c179e\"],[0.4444444444444444,\"#bd3786\"],[0.5555555555555556,\"#d8576b\"],[0.6666666666666666,\"#ed7953\"],[0.7777777777777778,\"#fb9f3a\"],[0.8888888888888888,\"#fdca26\"],[1.0,\"#f0f921\"]]}],\"heatmapgl\":[{\"type\":\"heatmapgl\",\"colorbar\":{\"outlinewidth\":0,\"ticks\":\"\"},\"colorscale\":[[0.0,\"#0d0887\"],[0.1111111111111111,\"#46039f\"],[0.2222222222222222,\"#7201a8\"],[0.3333333333333333,\"#9c179e\"],[0.4444444444444444,\"#bd3786\"],[0.5555555555555556,\"#d8576b\"],[0.6666666666666666,\"#ed7953\"],[0.7777777777777778,\"#fb9f3a\"],[0.8888888888888888,\"#fdca26\"],[1.0,\"#f0f921\"]]}],\"contourcarpet\":[{\"type\":\"contourcarpet\",\"colorbar\":{\"outlinewidth\":0,\"ticks\":\"\"}}],\"contour\":[{\"type\":\"contour\",\"colorbar\":{\"outlinewidth\":0,\"ticks\":\"\"},\"colorscale\":[[0.0,\"#0d0887\"],[0.1111111111111111,\"#46039f\"],[0.2222222222222222,\"#7201a8\"],[0.3333333333333333,\"#9c179e\"],[0.4444444444444444,\"#bd3786\"],[0.5555555555555556,\"#d8576b\"],[0.6666666666666666,\"#ed7953\"],[0.7777777777777778,\"#fb9f3a\"],[0.8888888888888888,\"#fdca26\"],[1.0,\"#f0f921\"]]}],\"surface\":[{\"type\":\"surface\",\"colorbar\":{\"outlinewidth\":0,\"ticks\":\"\"},\"colorscale\":[[0.0,\"#0d0887\"],[0.1111111111111111,\"#46039f\"],[0.2222222222222222,\"#7201a8\"],[0.3333333333333333,\"#9c179e\"],[0.4444444444444444,\"#bd3786\"],[0.5555555555555556,\"#d8576b\"],[0.6666666666666666,\"#ed7953\"],[0.7777777777777778,\"#fb9f3a\"],[0.8888888888888888,\"#fdca26\"],[1.0,\"#f0f921\"]]}],\"mesh3d\":[{\"type\":\"mesh3d\",\"colorbar\":{\"outlinewidth\":0,\"ticks\":\"\"}}],\"scatter\":[{\"fillpattern\":{\"fillmode\":\"overlay\",\"size\":10,\"solidity\":0.2},\"type\":\"scatter\"}],\"parcoords\":[{\"type\":\"parcoords\",\"line\":{\"colorbar\":{\"outlinewidth\":0,\"ticks\":\"\"}}}],\"scatterpolargl\":[{\"type\":\"scatterpolargl\",\"marker\":{\"colorbar\":{\"outlinewidth\":0,\"ticks\":\"\"}}}],\"bar\":[{\"error_x\":{\"color\":\"#2a3f5f\"},\"error_y\":{\"color\":\"#2a3f5f\"},\"marker\":{\"line\":{\"color\":\"#E5ECF6\",\"width\":0.5},\"pattern\":{\"fillmode\":\"overlay\",\"size\":10,\"solidity\":0.2}},\"type\":\"bar\"}],\"scattergeo\":[{\"type\":\"scattergeo\",\"marker\":{\"colorbar\":{\"outlinewidth\":0,\"ticks\":\"\"}}}],\"scatterpolar\":[{\"type\":\"scatterpolar\",\"marker\":{\"colorbar\":{\"outlinewidth\":0,\"ticks\":\"\"}}}],\"histogram\":[{\"marker\":{\"pattern\":{\"fillmode\":\"overlay\",\"size\":10,\"solidity\":0.2}},\"type\":\"histogram\"}],\"scattergl\":[{\"type\":\"scattergl\",\"marker\":{\"colorbar\":{\"outlinewidth\":0,\"ticks\":\"\"}}}],\"scatter3d\":[{\"type\":\"scatter3d\",\"line\":{\"colorbar\":{\"outlinewidth\":0,\"ticks\":\"\"}},\"marker\":{\"colorbar\":{\"outlinewidth\":0,\"ticks\":\"\"}}}],\"scattermapbox\":[{\"type\":\"scattermapbox\",\"marker\":{\"colorbar\":{\"outlinewidth\":0,\"ticks\":\"\"}}}],\"scatterternary\":[{\"type\":\"scatterternary\",\"marker\":{\"colorbar\":{\"outlinewidth\":0,\"ticks\":\"\"}}}],\"scattercarpet\":[{\"type\":\"scattercarpet\",\"marker\":{\"colorbar\":{\"outlinewidth\":0,\"ticks\":\"\"}}}],\"carpet\":[{\"aaxis\":{\"endlinecolor\":\"#2a3f5f\",\"gridcolor\":\"white\",\"linecolor\":\"white\",\"minorgridcolor\":\"white\",\"startlinecolor\":\"#2a3f5f\"},\"baxis\":{\"endlinecolor\":\"#2a3f5f\",\"gridcolor\":\"white\",\"linecolor\":\"white\",\"minorgridcolor\":\"white\",\"startlinecolor\":\"#2a3f5f\"},\"type\":\"carpet\"}],\"table\":[{\"cells\":{\"fill\":{\"color\":\"#EBF0F8\"},\"line\":{\"color\":\"white\"}},\"header\":{\"fill\":{\"color\":\"#C8D4E3\"},\"line\":{\"color\":\"white\"}},\"type\":\"table\"}],\"barpolar\":[{\"marker\":{\"line\":{\"color\":\"#E5ECF6\",\"width\":0.5},\"pattern\":{\"fillmode\":\"overlay\",\"size\":10,\"solidity\":0.2}},\"type\":\"barpolar\"}],\"pie\":[{\"automargin\":true,\"type\":\"pie\"}]},\"layout\":{\"autotypenumbers\":\"strict\",\"colorway\":[\"#636efa\",\"#EF553B\",\"#00cc96\",\"#ab63fa\",\"#FFA15A\",\"#19d3f3\",\"#FF6692\",\"#B6E880\",\"#FF97FF\",\"#FECB52\"],\"font\":{\"color\":\"#2a3f5f\"},\"hovermode\":\"closest\",\"hoverlabel\":{\"align\":\"left\"},\"paper_bgcolor\":\"white\",\"plot_bgcolor\":\"#E5ECF6\",\"polar\":{\"bgcolor\":\"#E5ECF6\",\"angularaxis\":{\"gridcolor\":\"white\",\"linecolor\":\"white\",\"ticks\":\"\"},\"radialaxis\":{\"gridcolor\":\"white\",\"linecolor\":\"white\",\"ticks\":\"\"}},\"ternary\":{\"bgcolor\":\"#E5ECF6\",\"aaxis\":{\"gridcolor\":\"white\",\"linecolor\":\"white\",\"ticks\":\"\"},\"baxis\":{\"gridcolor\":\"white\",\"linecolor\":\"white\",\"ticks\":\"\"},\"caxis\":{\"gridcolor\":\"white\",\"linecolor\":\"white\",\"ticks\":\"\"}},\"coloraxis\":{\"colorbar\":{\"outlinewidth\":0,\"ticks\":\"\"}},\"colorscale\":{\"sequential\":[[0.0,\"#0d0887\"],[0.1111111111111111,\"#46039f\"],[0.2222222222222222,\"#7201a8\"],[0.3333333333333333,\"#9c179e\"],[0.4444444444444444,\"#bd3786\"],[0.5555555555555556,\"#d8576b\"],[0.6666666666666666,\"#ed7953\"],[0.7777777777777778,\"#fb9f3a\"],[0.8888888888888888,\"#fdca26\"],[1.0,\"#f0f921\"]],\"sequentialminus\":[[0.0,\"#0d0887\"],[0.1111111111111111,\"#46039f\"],[0.2222222222222222,\"#7201a8\"],[0.3333333333333333,\"#9c179e\"],[0.4444444444444444,\"#bd3786\"],[0.5555555555555556,\"#d8576b\"],[0.6666666666666666,\"#ed7953\"],[0.7777777777777778,\"#fb9f3a\"],[0.8888888888888888,\"#fdca26\"],[1.0,\"#f0f921\"]],\"diverging\":[[0,\"#8e0152\"],[0.1,\"#c51b7d\"],[0.2,\"#de77ae\"],[0.3,\"#f1b6da\"],[0.4,\"#fde0ef\"],[0.5,\"#f7f7f7\"],[0.6,\"#e6f5d0\"],[0.7,\"#b8e186\"],[0.8,\"#7fbc41\"],[0.9,\"#4d9221\"],[1,\"#276419\"]]},\"xaxis\":{\"gridcolor\":\"white\",\"linecolor\":\"white\",\"ticks\":\"\",\"title\":{\"standoff\":15},\"zerolinecolor\":\"white\",\"automargin\":true,\"zerolinewidth\":2},\"yaxis\":{\"gridcolor\":\"white\",\"linecolor\":\"white\",\"ticks\":\"\",\"title\":{\"standoff\":15},\"zerolinecolor\":\"white\",\"automargin\":true,\"zerolinewidth\":2},\"scene\":{\"xaxis\":{\"backgroundcolor\":\"#E5ECF6\",\"gridcolor\":\"white\",\"linecolor\":\"white\",\"showbackground\":true,\"ticks\":\"\",\"zerolinecolor\":\"white\",\"gridwidth\":2},\"yaxis\":{\"backgroundcolor\":\"#E5ECF6\",\"gridcolor\":\"white\",\"linecolor\":\"white\",\"showbackground\":true,\"ticks\":\"\",\"zerolinecolor\":\"white\",\"gridwidth\":2},\"zaxis\":{\"backgroundcolor\":\"#E5ECF6\",\"gridcolor\":\"white\",\"linecolor\":\"white\",\"showbackground\":true,\"ticks\":\"\",\"zerolinecolor\":\"white\",\"gridwidth\":2}},\"shapedefaults\":{\"line\":{\"color\":\"#2a3f5f\"}},\"annotationdefaults\":{\"arrowcolor\":\"#2a3f5f\",\"arrowhead\":0,\"arrowwidth\":1},\"geo\":{\"bgcolor\":\"white\",\"landcolor\":\"#E5ECF6\",\"subunitcolor\":\"white\",\"showland\":true,\"showlakes\":true,\"lakecolor\":\"white\"},\"title\":{\"x\":0.05},\"mapbox\":{\"style\":\"light\"}}},\"legend\":{\"tracegroupgap\":0},\"title\":{\"text\":\"Average Service Duration by Damage Type Analysis\",\"x\":0.45}},                        {\"responsive\": true}                    ).then(function(){\n",
       "                            \n",
       "var gd = document.getElementById('850a0b41-5b04-4644-879e-9d9f442e8391');\n",
       "var x = new MutationObserver(function (mutations, observer) {{\n",
       "        var display = window.getComputedStyle(gd).display;\n",
       "        if (!display || display === 'none') {{\n",
       "            console.log([gd, 'removed!']);\n",
       "            Plotly.purge(gd);\n",
       "            observer.disconnect();\n",
       "        }}\n",
       "}});\n",
       "\n",
       "// Listen for the removal of the full notebook cells\n",
       "var notebookContainer = gd.closest('#notebook-container');\n",
       "if (notebookContainer) {{\n",
       "    x.observe(notebookContainer, {childList: true});\n",
       "}}\n",
       "\n",
       "// Listen for the clearing of the current output cell\n",
       "var outputEl = gd.closest('.output');\n",
       "if (outputEl) {{\n",
       "    x.observe(outputEl, {childList: true});\n",
       "}}\n",
       "\n",
       "                        })                };                });            </script>        </div>"
      ]
     },
     "metadata": {},
     "output_type": "display_data"
    }
   ],
   "source": [
    "avg_service_duration_by_damage = df.groupby('damage type')['service_duration'].mean().round(1).sort_values().reset_index(name='AverageServiceDuration')\n",
    "mySunBurst(avg_service_duration_by_damage, name=['damage type'], value='AverageServiceDuration',title='Average Service Duration by Damage Type')"
   ]
  },
  {
   "cell_type": "code",
   "execution_count": null,
   "id": "24ebae02",
   "metadata": {},
   "outputs": [],
   "source": [
    "#### Damage Type vs. Service Duration"
   ]
  },
  {
   "cell_type": "code",
   "execution_count": 40,
   "id": "a5aab6c4",
   "metadata": {},
   "outputs": [],
   "source": [
    "#### Which damage types tend to require the longest service durations?"
   ]
  },
  {
   "cell_type": "code",
   "execution_count": 38,
   "id": "a9ce980f",
   "metadata": {},
   "outputs": [
    {
     "data": {
      "application/vnd.plotly.v1+json": {
       "config": {
        "plotlyServerURL": "https://plot.ly"
       },
       "data": [
        {
         "alignmentgroup": "True",
         "hovertemplate": "damage type=%{x}<br>service_duration=%{y}<extra></extra>",
         "legendgroup": "اصلاح بودي",
         "marker": {
          "color": "#636efa"
         },
         "name": "اصلاح بودي",
         "notched": false,
         "offsetgroup": "اصلاح بودي",
         "orientation": "v",
         "showlegend": true,
         "type": "box",
         "x": [
          "اصلاح بودي",
          "اصلاح بودي",
          "اصلاح بودي",
          "اصلاح بودي",
          "اصلاح بودي",
          "اصلاح بودي",
          "اصلاح بودي",
          "اصلاح بودي",
          "اصلاح بودي",
          "اصلاح بودي",
          "اصلاح بودي",
          "اصلاح بودي",
          "اصلاح بودي",
          "اصلاح بودي",
          "اصلاح بودي",
          "اصلاح بودي",
          "اصلاح بودي",
          "اصلاح بودي",
          "اصلاح بودي",
          "اصلاح بودي",
          "اصلاح بودي",
          "اصلاح بودي",
          "اصلاح بودي",
          "اصلاح بودي",
          "اصلاح بودي",
          "اصلاح بودي",
          "اصلاح بودي",
          "اصلاح بودي",
          "اصلاح بودي",
          "اصلاح بودي",
          "اصلاح بودي",
          "اصلاح بودي",
          "اصلاح بودي",
          "اصلاح بودي",
          "اصلاح بودي",
          "اصلاح بودي",
          "اصلاح بودي",
          "اصلاح بودي",
          "اصلاح بودي",
          "اصلاح بودي",
          "اصلاح بودي",
          "اصلاح بودي",
          "اصلاح بودي",
          "اصلاح بودي",
          "اصلاح بودي",
          "اصلاح بودي",
          "اصلاح بودي",
          "اصلاح بودي",
          "اصلاح بودي",
          "اصلاح بودي",
          "اصلاح بودي",
          "اصلاح بودي",
          "اصلاح بودي",
          "اصلاح بودي",
          "اصلاح بودي",
          "اصلاح بودي",
          "اصلاح بودي",
          "اصلاح بودي",
          "اصلاح بودي",
          "اصلاح بودي",
          "اصلاح بودي",
          "اصلاح بودي",
          "اصلاح بودي",
          "اصلاح بودي",
          "اصلاح بودي",
          "اصلاح بودي",
          "اصلاح بودي",
          "اصلاح بودي",
          "اصلاح بودي",
          "اصلاح بودي",
          "اصلاح بودي",
          "اصلاح بودي",
          "اصلاح بودي",
          "اصلاح بودي",
          "اصلاح بودي",
          "اصلاح بودي",
          "اصلاح بودي",
          "اصلاح بودي",
          "اصلاح بودي",
          "اصلاح بودي",
          "اصلاح بودي",
          "اصلاح بودي",
          "اصلاح بودي",
          "اصلاح بودي",
          "اصلاح بودي",
          "اصلاح بودي",
          "اصلاح بودي",
          "اصلاح بودي",
          "اصلاح بودي",
          "اصلاح بودي",
          "اصلاح بودي",
          "اصلاح بودي",
          "اصلاح بودي",
          "اصلاح بودي",
          "اصلاح بودي",
          "اصلاح بودي",
          "اصلاح بودي",
          "اصلاح بودي",
          "اصلاح بودي",
          "اصلاح بودي",
          "اصلاح بودي",
          "اصلاح بودي",
          "اصلاح بودي",
          "اصلاح بودي",
          "اصلاح بودي",
          "اصلاح بودي",
          "اصلاح بودي",
          "اصلاح بودي",
          "اصلاح بودي",
          "اصلاح بودي",
          "اصلاح بودي",
          "اصلاح بودي",
          "اصلاح بودي",
          "اصلاح بودي",
          "اصلاح بودي",
          "اصلاح بودي",
          "اصلاح بودي",
          "اصلاح بودي",
          "اصلاح بودي",
          "اصلاح بودي",
          "اصلاح بودي",
          "اصلاح بودي",
          "اصلاح بودي",
          "اصلاح بودي",
          "اصلاح بودي",
          "اصلاح بودي",
          "اصلاح بودي",
          "اصلاح بودي",
          "اصلاح بودي",
          "اصلاح بودي",
          "اصلاح بودي",
          "اصلاح بودي",
          "اصلاح بودي",
          "اصلاح بودي",
          "اصلاح بودي",
          "اصلاح بودي",
          "اصلاح بودي",
          "اصلاح بودي",
          "اصلاح بودي",
          "اصلاح بودي",
          "اصلاح بودي",
          "اصلاح بودي",
          "اصلاح بودي",
          "اصلاح بودي",
          "اصلاح بودي",
          "اصلاح بودي",
          "اصلاح بودي",
          "اصلاح بودي",
          "اصلاح بودي",
          "اصلاح بودي",
          "اصلاح بودي",
          "اصلاح بودي",
          "اصلاح بودي",
          "اصلاح بودي",
          "اصلاح بودي",
          "اصلاح بودي",
          "اصلاح بودي",
          "اصلاح بودي",
          "اصلاح بودي",
          "اصلاح بودي",
          "اصلاح بودي",
          "اصلاح بودي",
          "اصلاح بودي",
          "اصلاح بودي",
          "اصلاح بودي",
          "اصلاح بودي",
          "اصلاح بودي",
          "اصلاح بودي",
          "اصلاح بودي",
          "اصلاح بودي",
          "اصلاح بودي",
          "اصلاح بودي",
          "اصلاح بودي",
          "اصلاح بودي",
          "اصلاح بودي",
          "اصلاح بودي",
          "اصلاح بودي",
          "اصلاح بودي",
          "اصلاح بودي",
          "اصلاح بودي",
          "اصلاح بودي",
          "اصلاح بودي",
          "اصلاح بودي",
          "اصلاح بودي",
          "اصلاح بودي",
          "اصلاح بودي",
          "اصلاح بودي",
          "اصلاح بودي",
          "اصلاح بودي",
          "اصلاح بودي",
          "اصلاح بودي",
          "اصلاح بودي",
          "اصلاح بودي",
          "اصلاح بودي",
          "اصلاح بودي",
          "اصلاح بودي",
          "اصلاح بودي",
          "اصلاح بودي",
          "اصلاح بودي",
          "اصلاح بودي",
          "اصلاح بودي",
          "اصلاح بودي",
          "اصلاح بودي",
          "اصلاح بودي",
          "اصلاح بودي",
          "اصلاح بودي",
          "اصلاح بودي",
          "اصلاح بودي",
          "اصلاح بودي",
          "اصلاح بودي",
          "اصلاح بودي",
          "اصلاح بودي",
          "اصلاح بودي",
          "اصلاح بودي",
          "اصلاح بودي",
          "اصلاح بودي",
          "اصلاح بودي",
          "اصلاح بودي",
          "اصلاح بودي",
          "اصلاح بودي",
          "اصلاح بودي",
          "اصلاح بودي",
          "اصلاح بودي",
          "اصلاح بودي",
          "اصلاح بودي",
          "اصلاح بودي",
          "اصلاح بودي",
          "اصلاح بودي",
          "اصلاح بودي"
         ],
         "x0": " ",
         "xaxis": "x",
         "y": [
          5,
          5,
          6,
          8,
          4,
          3,
          1,
          6,
          9,
          1,
          1,
          1,
          1,
          4,
          12,
          1,
          30,
          4,
          11,
          14,
          11,
          5,
          18,
          5,
          4,
          4,
          5,
          3,
          6,
          4,
          4,
          3,
          3,
          7,
          2,
          5,
          8,
          4,
          5,
          3,
          3,
          1,
          11,
          9,
          3,
          7,
          3,
          10,
          3,
          7,
          14,
          3,
          7,
          11,
          6,
          7,
          5,
          5,
          8,
          3,
          1,
          1,
          7,
          6,
          7,
          8,
          4,
          7,
          2,
          1,
          8,
          6,
          5,
          11,
          11,
          6,
          6,
          14,
          6,
          6,
          1,
          4,
          5,
          5,
          5,
          1,
          5,
          1,
          4,
          7,
          6,
          4,
          7,
          24,
          1,
          7,
          3,
          3,
          6,
          7,
          4,
          11,
          7,
          4,
          1,
          7,
          1,
          5,
          6,
          6,
          6,
          1,
          8,
          9,
          8,
          1,
          5,
          1,
          4,
          3,
          4,
          4,
          5,
          6,
          5,
          12,
          7,
          7,
          7,
          1,
          8,
          6,
          9,
          5,
          4,
          6,
          4,
          1,
          1,
          1,
          1,
          1,
          1,
          4,
          5,
          1,
          5,
          6,
          1,
          5,
          5,
          5,
          5,
          4,
          4,
          5,
          6,
          5,
          5,
          1,
          4,
          3,
          5,
          5,
          6,
          4,
          4,
          4,
          3,
          4,
          5,
          4,
          4,
          5,
          4,
          5,
          4,
          4,
          5,
          3,
          1,
          1,
          5,
          7,
          7,
          8,
          6,
          5,
          5,
          4,
          5,
          5,
          4,
          5,
          6,
          7,
          1,
          1,
          5,
          4,
          1,
          6,
          8,
          11,
          11,
          6,
          6,
          7,
          8,
          9,
          5,
          4,
          11,
          7,
          8,
          8,
          8,
          7,
          6,
          1,
          9,
          6,
          7,
          7,
          8,
          9,
          1,
          8,
          4
         ],
         "y0": " ",
         "yaxis": "y"
        },
        {
         "alignmentgroup": "True",
         "hovertemplate": "damage type=%{x}<br>service_duration=%{y}<extra></extra>",
         "legendgroup": "اصلاح ميكانيك",
         "marker": {
          "color": "#EF553B"
         },
         "name": "اصلاح ميكانيك",
         "notched": false,
         "offsetgroup": "اصلاح ميكانيك",
         "orientation": "v",
         "showlegend": true,
         "type": "box",
         "x": [
          "اصلاح ميكانيك",
          "اصلاح ميكانيك",
          "اصلاح ميكانيك",
          "اصلاح ميكانيك",
          "اصلاح ميكانيك",
          "اصلاح ميكانيك",
          "اصلاح ميكانيك",
          "اصلاح ميكانيك",
          "اصلاح ميكانيك",
          "اصلاح ميكانيك",
          "اصلاح ميكانيك",
          "اصلاح ميكانيك",
          "اصلاح ميكانيك",
          "اصلاح ميكانيك",
          "اصلاح ميكانيك",
          "اصلاح ميكانيك",
          "اصلاح ميكانيك",
          "اصلاح ميكانيك",
          "اصلاح ميكانيك",
          "اصلاح ميكانيك",
          "اصلاح ميكانيك",
          "اصلاح ميكانيك",
          "اصلاح ميكانيك",
          "اصلاح ميكانيك",
          "اصلاح ميكانيك",
          "اصلاح ميكانيك",
          "اصلاح ميكانيك",
          "اصلاح ميكانيك",
          "اصلاح ميكانيك",
          "اصلاح ميكانيك",
          "اصلاح ميكانيك",
          "اصلاح ميكانيك",
          "اصلاح ميكانيك",
          "اصلاح ميكانيك",
          "اصلاح ميكانيك",
          "اصلاح ميكانيك",
          "اصلاح ميكانيك",
          "اصلاح ميكانيك",
          "اصلاح ميكانيك",
          "اصلاح ميكانيك",
          "اصلاح ميكانيك",
          "اصلاح ميكانيك",
          "اصلاح ميكانيك",
          "اصلاح ميكانيك",
          "اصلاح ميكانيك",
          "اصلاح ميكانيك",
          "اصلاح ميكانيك",
          "اصلاح ميكانيك",
          "اصلاح ميكانيك",
          "اصلاح ميكانيك",
          "اصلاح ميكانيك",
          "اصلاح ميكانيك",
          "اصلاح ميكانيك",
          "اصلاح ميكانيك",
          "اصلاح ميكانيك",
          "اصلاح ميكانيك",
          "اصلاح ميكانيك",
          "اصلاح ميكانيك",
          "اصلاح ميكانيك",
          "اصلاح ميكانيك",
          "اصلاح ميكانيك",
          "اصلاح ميكانيك",
          "اصلاح ميكانيك",
          "اصلاح ميكانيك",
          "اصلاح ميكانيك",
          "اصلاح ميكانيك",
          "اصلاح ميكانيك",
          "اصلاح ميكانيك",
          "اصلاح ميكانيك",
          "اصلاح ميكانيك",
          "اصلاح ميكانيك",
          "اصلاح ميكانيك",
          "اصلاح ميكانيك",
          "اصلاح ميكانيك",
          "اصلاح ميكانيك",
          "اصلاح ميكانيك",
          "اصلاح ميكانيك",
          "اصلاح ميكانيك",
          "اصلاح ميكانيك",
          "اصلاح ميكانيك",
          "اصلاح ميكانيك",
          "اصلاح ميكانيك",
          "اصلاح ميكانيك",
          "اصلاح ميكانيك",
          "اصلاح ميكانيك",
          "اصلاح ميكانيك",
          "اصلاح ميكانيك",
          "اصلاح ميكانيك",
          "اصلاح ميكانيك",
          "اصلاح ميكانيك",
          "اصلاح ميكانيك",
          "اصلاح ميكانيك",
          "اصلاح ميكانيك",
          "اصلاح ميكانيك",
          "اصلاح ميكانيك",
          "اصلاح ميكانيك",
          "اصلاح ميكانيك",
          "اصلاح ميكانيك",
          "اصلاح ميكانيك",
          "اصلاح ميكانيك",
          "اصلاح ميكانيك",
          "اصلاح ميكانيك",
          "اصلاح ميكانيك",
          "اصلاح ميكانيك",
          "اصلاح ميكانيك",
          "اصلاح ميكانيك",
          "اصلاح ميكانيك",
          "اصلاح ميكانيك",
          "اصلاح ميكانيك",
          "اصلاح ميكانيك",
          "اصلاح ميكانيك",
          "اصلاح ميكانيك",
          "اصلاح ميكانيك",
          "اصلاح ميكانيك",
          "اصلاح ميكانيك",
          "اصلاح ميكانيك",
          "اصلاح ميكانيك",
          "اصلاح ميكانيك",
          "اصلاح ميكانيك",
          "اصلاح ميكانيك",
          "اصلاح ميكانيك",
          "اصلاح ميكانيك",
          "اصلاح ميكانيك",
          "اصلاح ميكانيك",
          "اصلاح ميكانيك",
          "اصلاح ميكانيك",
          "اصلاح ميكانيك",
          "اصلاح ميكانيك",
          "اصلاح ميكانيك",
          "اصلاح ميكانيك",
          "اصلاح ميكانيك",
          "اصلاح ميكانيك",
          "اصلاح ميكانيك",
          "اصلاح ميكانيك",
          "اصلاح ميكانيك",
          "اصلاح ميكانيك",
          "اصلاح ميكانيك",
          "اصلاح ميكانيك",
          "اصلاح ميكانيك",
          "اصلاح ميكانيك",
          "اصلاح ميكانيك",
          "اصلاح ميكانيك",
          "اصلاح ميكانيك",
          "اصلاح ميكانيك",
          "اصلاح ميكانيك",
          "اصلاح ميكانيك",
          "اصلاح ميكانيك",
          "اصلاح ميكانيك",
          "اصلاح ميكانيك",
          "اصلاح ميكانيك",
          "اصلاح ميكانيك",
          "اصلاح ميكانيك",
          "اصلاح ميكانيك",
          "اصلاح ميكانيك",
          "اصلاح ميكانيك",
          "اصلاح ميكانيك",
          "اصلاح ميكانيك",
          "اصلاح ميكانيك",
          "اصلاح ميكانيك",
          "اصلاح ميكانيك",
          "اصلاح ميكانيك",
          "اصلاح ميكانيك",
          "اصلاح ميكانيك",
          "اصلاح ميكانيك",
          "اصلاح ميكانيك",
          "اصلاح ميكانيك",
          "اصلاح ميكانيك",
          "اصلاح ميكانيك",
          "اصلاح ميكانيك",
          "اصلاح ميكانيك",
          "اصلاح ميكانيك",
          "اصلاح ميكانيك",
          "اصلاح ميكانيك",
          "اصلاح ميكانيك",
          "اصلاح ميكانيك",
          "اصلاح ميكانيك",
          "اصلاح ميكانيك",
          "اصلاح ميكانيك",
          "اصلاح ميكانيك",
          "اصلاح ميكانيك",
          "اصلاح ميكانيك",
          "اصلاح ميكانيك",
          "اصلاح ميكانيك",
          "اصلاح ميكانيك",
          "اصلاح ميكانيك",
          "اصلاح ميكانيك",
          "اصلاح ميكانيك",
          "اصلاح ميكانيك",
          "اصلاح ميكانيك",
          "اصلاح ميكانيك",
          "اصلاح ميكانيك",
          "اصلاح ميكانيك",
          "اصلاح ميكانيك",
          "اصلاح ميكانيك",
          "اصلاح ميكانيك",
          "اصلاح ميكانيك",
          "اصلاح ميكانيك",
          "اصلاح ميكانيك",
          "اصلاح ميكانيك",
          "اصلاح ميكانيك",
          "اصلاح ميكانيك",
          "اصلاح ميكانيك",
          "اصلاح ميكانيك",
          "اصلاح ميكانيك",
          "اصلاح ميكانيك",
          "اصلاح ميكانيك",
          "اصلاح ميكانيك",
          "اصلاح ميكانيك",
          "اصلاح ميكانيك",
          "اصلاح ميكانيك",
          "اصلاح ميكانيك",
          "اصلاح ميكانيك",
          "اصلاح ميكانيك",
          "اصلاح ميكانيك",
          "اصلاح ميكانيك",
          "اصلاح ميكانيك",
          "اصلاح ميكانيك",
          "اصلاح ميكانيك",
          "اصلاح ميكانيك",
          "اصلاح ميكانيك",
          "اصلاح ميكانيك",
          "اصلاح ميكانيك",
          "اصلاح ميكانيك",
          "اصلاح ميكانيك",
          "اصلاح ميكانيك",
          "اصلاح ميكانيك",
          "اصلاح ميكانيك",
          "اصلاح ميكانيك",
          "اصلاح ميكانيك",
          "اصلاح ميكانيك",
          "اصلاح ميكانيك",
          "اصلاح ميكانيك",
          "اصلاح ميكانيك",
          "اصلاح ميكانيك",
          "اصلاح ميكانيك",
          "اصلاح ميكانيك",
          "اصلاح ميكانيك",
          "اصلاح ميكانيك",
          "اصلاح ميكانيك",
          "اصلاح ميكانيك",
          "اصلاح ميكانيك",
          "اصلاح ميكانيك",
          "اصلاح ميكانيك",
          "اصلاح ميكانيك",
          "اصلاح ميكانيك",
          "اصلاح ميكانيك",
          "اصلاح ميكانيك",
          "اصلاح ميكانيك",
          "اصلاح ميكانيك",
          "اصلاح ميكانيك",
          "اصلاح ميكانيك",
          "اصلاح ميكانيك",
          "اصلاح ميكانيك",
          "اصلاح ميكانيك",
          "اصلاح ميكانيك",
          "اصلاح ميكانيك",
          "اصلاح ميكانيك",
          "اصلاح ميكانيك",
          "اصلاح ميكانيك",
          "اصلاح ميكانيك",
          "اصلاح ميكانيك",
          "اصلاح ميكانيك",
          "اصلاح ميكانيك",
          "اصلاح ميكانيك",
          "اصلاح ميكانيك",
          "اصلاح ميكانيك",
          "اصلاح ميكانيك",
          "اصلاح ميكانيك",
          "اصلاح ميكانيك",
          "اصلاح ميكانيك",
          "اصلاح ميكانيك",
          "اصلاح ميكانيك",
          "اصلاح ميكانيك",
          "اصلاح ميكانيك",
          "اصلاح ميكانيك",
          "اصلاح ميكانيك",
          "اصلاح ميكانيك",
          "اصلاح ميكانيك",
          "اصلاح ميكانيك",
          "اصلاح ميكانيك",
          "اصلاح ميكانيك",
          "اصلاح ميكانيك",
          "اصلاح ميكانيك",
          "اصلاح ميكانيك",
          "اصلاح ميكانيك",
          "اصلاح ميكانيك",
          "اصلاح ميكانيك",
          "اصلاح ميكانيك",
          "اصلاح ميكانيك",
          "اصلاح ميكانيك",
          "اصلاح ميكانيك",
          "اصلاح ميكانيك",
          "اصلاح ميكانيك",
          "اصلاح ميكانيك",
          "اصلاح ميكانيك",
          "اصلاح ميكانيك",
          "اصلاح ميكانيك",
          "اصلاح ميكانيك",
          "اصلاح ميكانيك",
          "اصلاح ميكانيك",
          "اصلاح ميكانيك",
          "اصلاح ميكانيك",
          "اصلاح ميكانيك",
          "اصلاح ميكانيك",
          "اصلاح ميكانيك",
          "اصلاح ميكانيك",
          "اصلاح ميكانيك",
          "اصلاح ميكانيك",
          "اصلاح ميكانيك",
          "اصلاح ميكانيك",
          "اصلاح ميكانيك",
          "اصلاح ميكانيك",
          "اصلاح ميكانيك",
          "اصلاح ميكانيك",
          "اصلاح ميكانيك",
          "اصلاح ميكانيك",
          "اصلاح ميكانيك",
          "اصلاح ميكانيك",
          "اصلاح ميكانيك",
          "اصلاح ميكانيك",
          "اصلاح ميكانيك",
          "اصلاح ميكانيك",
          "اصلاح ميكانيك",
          "اصلاح ميكانيك",
          "اصلاح ميكانيك",
          "اصلاح ميكانيك",
          "اصلاح ميكانيك",
          "اصلاح ميكانيك",
          "اصلاح ميكانيك",
          "اصلاح ميكانيك",
          "اصلاح ميكانيك",
          "اصلاح ميكانيك",
          "اصلاح ميكانيك",
          "اصلاح ميكانيك",
          "اصلاح ميكانيك",
          "اصلاح ميكانيك",
          "اصلاح ميكانيك",
          "اصلاح ميكانيك",
          "اصلاح ميكانيك",
          "اصلاح ميكانيك",
          "اصلاح ميكانيك",
          "اصلاح ميكانيك",
          "اصلاح ميكانيك",
          "اصلاح ميكانيك",
          "اصلاح ميكانيك",
          "اصلاح ميكانيك",
          "اصلاح ميكانيك",
          "اصلاح ميكانيك",
          "اصلاح ميكانيك",
          "اصلاح ميكانيك",
          "اصلاح ميكانيك",
          "اصلاح ميكانيك",
          "اصلاح ميكانيك",
          "اصلاح ميكانيك",
          "اصلاح ميكانيك",
          "اصلاح ميكانيك",
          "اصلاح ميكانيك",
          "اصلاح ميكانيك",
          "اصلاح ميكانيك",
          "اصلاح ميكانيك",
          "اصلاح ميكانيك",
          "اصلاح ميكانيك",
          "اصلاح ميكانيك",
          "اصلاح ميكانيك",
          "اصلاح ميكانيك",
          "اصلاح ميكانيك",
          "اصلاح ميكانيك",
          "اصلاح ميكانيك",
          "اصلاح ميكانيك",
          "اصلاح ميكانيك",
          "اصلاح ميكانيك",
          "اصلاح ميكانيك",
          "اصلاح ميكانيك",
          "اصلاح ميكانيك",
          "اصلاح ميكانيك",
          "اصلاح ميكانيك",
          "اصلاح ميكانيك",
          "اصلاح ميكانيك",
          "اصلاح ميكانيك",
          "اصلاح ميكانيك",
          "اصلاح ميكانيك",
          "اصلاح ميكانيك",
          "اصلاح ميكانيك",
          "اصلاح ميكانيك",
          "اصلاح ميكانيك",
          "اصلاح ميكانيك",
          "اصلاح ميكانيك",
          "اصلاح ميكانيك",
          "اصلاح ميكانيك",
          "اصلاح ميكانيك",
          "اصلاح ميكانيك",
          "اصلاح ميكانيك",
          "اصلاح ميكانيك",
          "اصلاح ميكانيك",
          "اصلاح ميكانيك",
          "اصلاح ميكانيك",
          "اصلاح ميكانيك",
          "اصلاح ميكانيك",
          "اصلاح ميكانيك",
          "اصلاح ميكانيك",
          "اصلاح ميكانيك",
          "اصلاح ميكانيك",
          "اصلاح ميكانيك",
          "اصلاح ميكانيك",
          "اصلاح ميكانيك",
          "اصلاح ميكانيك",
          "اصلاح ميكانيك",
          "اصلاح ميكانيك",
          "اصلاح ميكانيك",
          "اصلاح ميكانيك",
          "اصلاح ميكانيك",
          "اصلاح ميكانيك",
          "اصلاح ميكانيك",
          "اصلاح ميكانيك",
          "اصلاح ميكانيك",
          "اصلاح ميكانيك",
          "اصلاح ميكانيك",
          "اصلاح ميكانيك",
          "اصلاح ميكانيك",
          "اصلاح ميكانيك",
          "اصلاح ميكانيك",
          "اصلاح ميكانيك",
          "اصلاح ميكانيك",
          "اصلاح ميكانيك",
          "اصلاح ميكانيك",
          "اصلاح ميكانيك",
          "اصلاح ميكانيك",
          "اصلاح ميكانيك",
          "اصلاح ميكانيك",
          "اصلاح ميكانيك",
          "اصلاح ميكانيك",
          "اصلاح ميكانيك",
          "اصلاح ميكانيك",
          "اصلاح ميكانيك",
          "اصلاح ميكانيك",
          "اصلاح ميكانيك",
          "اصلاح ميكانيك",
          "اصلاح ميكانيك",
          "اصلاح ميكانيك",
          "اصلاح ميكانيك",
          "اصلاح ميكانيك",
          "اصلاح ميكانيك",
          "اصلاح ميكانيك",
          "اصلاح ميكانيك",
          "اصلاح ميكانيك",
          "اصلاح ميكانيك",
          "اصلاح ميكانيك",
          "اصلاح ميكانيك",
          "اصلاح ميكانيك",
          "اصلاح ميكانيك",
          "اصلاح ميكانيك",
          "اصلاح ميكانيك",
          "اصلاح ميكانيك",
          "اصلاح ميكانيك",
          "اصلاح ميكانيك",
          "اصلاح ميكانيك",
          "اصلاح ميكانيك",
          "اصلاح ميكانيك",
          "اصلاح ميكانيك",
          "اصلاح ميكانيك",
          "اصلاح ميكانيك",
          "اصلاح ميكانيك",
          "اصلاح ميكانيك",
          "اصلاح ميكانيك",
          "اصلاح ميكانيك",
          "اصلاح ميكانيك"
         ],
         "x0": " ",
         "xaxis": "x",
         "y": [
          11,
          6,
          1,
          1,
          1,
          1,
          1,
          1,
          1,
          1,
          1,
          1,
          2,
          1,
          17,
          1,
          1,
          1,
          4,
          1,
          1,
          1,
          1,
          1,
          1,
          1,
          1,
          1,
          1,
          1,
          1,
          1,
          1,
          3,
          1,
          1,
          8,
          70,
          2,
          3,
          1,
          1,
          1,
          1,
          57,
          1,
          2,
          2,
          1,
          1,
          2,
          1,
          1,
          1,
          1,
          1,
          1,
          1,
          1,
          1,
          1,
          1,
          1,
          1,
          1,
          1,
          1,
          1,
          1,
          1,
          1,
          1,
          1,
          1,
          1,
          1,
          1,
          1,
          1,
          1,
          1,
          1,
          1,
          1,
          1,
          1,
          1,
          1,
          1,
          1,
          1,
          1,
          1,
          1,
          1,
          1,
          1,
          1,
          1,
          1,
          1,
          2,
          2,
          2,
          1,
          1,
          1,
          1,
          1,
          1,
          1,
          1,
          1,
          1,
          1,
          1,
          4,
          1,
          4,
          1,
          1,
          1,
          2,
          1,
          1,
          2,
          1,
          1,
          2,
          1,
          1,
          2,
          1,
          1,
          1,
          1,
          2,
          2,
          2,
          1,
          3,
          1,
          1,
          1,
          1,
          2,
          1,
          2,
          3,
          2,
          1,
          1,
          1,
          1,
          2,
          1,
          1,
          1,
          1,
          1,
          1,
          1,
          1,
          1,
          2,
          1,
          1,
          1,
          1,
          2,
          1,
          1,
          1,
          2,
          2,
          1,
          1,
          2,
          1,
          1,
          1,
          1,
          1,
          1,
          1,
          2,
          1,
          1,
          2,
          1,
          1,
          1,
          1,
          1,
          2,
          1,
          1,
          1,
          1,
          1,
          1,
          1,
          1,
          1,
          1,
          1,
          1,
          1,
          1,
          1,
          1,
          1,
          1,
          1,
          1,
          1,
          1,
          1,
          1,
          1,
          1,
          1,
          1,
          1,
          1,
          1,
          1,
          1,
          1,
          1,
          1,
          1,
          1,
          1,
          1,
          1,
          1,
          1,
          1,
          1,
          1,
          1,
          1,
          1,
          1,
          1,
          1,
          1,
          1,
          1,
          1,
          1,
          1,
          1,
          1,
          1,
          1,
          1,
          1,
          1,
          1,
          1,
          1,
          1,
          1,
          1,
          1,
          1,
          1,
          1,
          1,
          1,
          1,
          1,
          3,
          1,
          1,
          1,
          1,
          1,
          1,
          1,
          1,
          1,
          1,
          1,
          1,
          1,
          1,
          1,
          1,
          1,
          1,
          1,
          1,
          1,
          1,
          1,
          1,
          1,
          1,
          1,
          1,
          1,
          1,
          1,
          1,
          1,
          1,
          1,
          1,
          1,
          1,
          1,
          1,
          1,
          1,
          1,
          1,
          1,
          1,
          1,
          1,
          1,
          1,
          1,
          1,
          1,
          1,
          1,
          1,
          1,
          1,
          1,
          1,
          1,
          1,
          1,
          1,
          1,
          1,
          1,
          1,
          1,
          1,
          1,
          1,
          1,
          1,
          1,
          1,
          2,
          1,
          1,
          1,
          1,
          1,
          1,
          1,
          1,
          1,
          1,
          1,
          1,
          1,
          1,
          1,
          1,
          1,
          1,
          1,
          1,
          1,
          1,
          1,
          1,
          1,
          1,
          1,
          1,
          1,
          1,
          1,
          1,
          1,
          1,
          1,
          1,
          1,
          1,
          1,
          1,
          1,
          1,
          1,
          1,
          1,
          1,
          1,
          1,
          1,
          1,
          1,
          1,
          1,
          1,
          1,
          1,
          1,
          1,
          1,
          1,
          1,
          1,
          1,
          1,
          1,
          1,
          1,
          1,
          1,
          1,
          1,
          1,
          1,
          1,
          1,
          1,
          1,
          1,
          1,
          1,
          1,
          1,
          1,
          1,
          1,
          1,
          1,
          1,
          1,
          1,
          1,
          1,
          1,
          1,
          1,
          1,
          1,
          1,
          1,
          1,
          1,
          1,
          1,
          1,
          1,
          1,
          1,
          1,
          1,
          1,
          1,
          1,
          1,
          1
         ],
         "y0": " ",
         "yaxis": "y"
        },
        {
         "alignmentgroup": "True",
         "hovertemplate": "damage type=%{x}<br>service_duration=%{y}<extra></extra>",
         "legendgroup": "غيار زيت",
         "marker": {
          "color": "#00cc96"
         },
         "name": "غيار زيت",
         "notched": false,
         "offsetgroup": "غيار زيت",
         "orientation": "v",
         "showlegend": true,
         "type": "box",
         "x": [
          "غيار زيت",
          "غيار زيت",
          "غيار زيت",
          "غيار زيت",
          "غيار زيت",
          "غيار زيت",
          "غيار زيت",
          "غيار زيت",
          "غيار زيت",
          "غيار زيت",
          "غيار زيت",
          "غيار زيت",
          "غيار زيت",
          "غيار زيت",
          "غيار زيت",
          "غيار زيت",
          "غيار زيت",
          "غيار زيت",
          "غيار زيت",
          "غيار زيت",
          "غيار زيت",
          "غيار زيت",
          "غيار زيت",
          "غيار زيت",
          "غيار زيت",
          "غيار زيت",
          "غيار زيت",
          "غيار زيت",
          "غيار زيت",
          "غيار زيت",
          "غيار زيت",
          "غيار زيت",
          "غيار زيت",
          "غيار زيت",
          "غيار زيت",
          "غيار زيت",
          "غيار زيت",
          "غيار زيت",
          "غيار زيت",
          "غيار زيت",
          "غيار زيت",
          "غيار زيت",
          "غيار زيت",
          "غيار زيت",
          "غيار زيت",
          "غيار زيت",
          "غيار زيت",
          "غيار زيت",
          "غيار زيت",
          "غيار زيت",
          "غيار زيت",
          "غيار زيت",
          "غيار زيت",
          "غيار زيت",
          "غيار زيت",
          "غيار زيت",
          "غيار زيت",
          "غيار زيت",
          "غيار زيت",
          "غيار زيت",
          "غيار زيت",
          "غيار زيت",
          "غيار زيت",
          "غيار زيت",
          "غيار زيت",
          "غيار زيت",
          "غيار زيت",
          "غيار زيت",
          "غيار زيت",
          "غيار زيت",
          "غيار زيت",
          "غيار زيت",
          "غيار زيت",
          "غيار زيت",
          "غيار زيت",
          "غيار زيت",
          "غيار زيت",
          "غيار زيت",
          "غيار زيت",
          "غيار زيت",
          "غيار زيت",
          "غيار زيت",
          "غيار زيت",
          "غيار زيت",
          "غيار زيت",
          "غيار زيت",
          "غيار زيت",
          "غيار زيت",
          "غيار زيت",
          "غيار زيت",
          "غيار زيت",
          "غيار زيت",
          "غيار زيت",
          "غيار زيت",
          "غيار زيت",
          "غيار زيت",
          "غيار زيت",
          "غيار زيت",
          "غيار زيت",
          "غيار زيت",
          "غيار زيت",
          "غيار زيت",
          "غيار زيت",
          "غيار زيت",
          "غيار زيت",
          "غيار زيت",
          "غيار زيت",
          "غيار زيت",
          "غيار زيت",
          "غيار زيت",
          "غيار زيت",
          "غيار زيت",
          "غيار زيت",
          "غيار زيت",
          "غيار زيت",
          "غيار زيت",
          "غيار زيت",
          "غيار زيت",
          "غيار زيت",
          "غيار زيت",
          "غيار زيت",
          "غيار زيت",
          "غيار زيت",
          "غيار زيت",
          "غيار زيت",
          "غيار زيت",
          "غيار زيت",
          "غيار زيت",
          "غيار زيت",
          "غيار زيت",
          "غيار زيت",
          "غيار زيت",
          "غيار زيت",
          "غيار زيت",
          "غيار زيت",
          "غيار زيت",
          "غيار زيت",
          "غيار زيت",
          "غيار زيت",
          "غيار زيت",
          "غيار زيت",
          "غيار زيت",
          "غيار زيت",
          "غيار زيت",
          "غيار زيت",
          "غيار زيت",
          "غيار زيت",
          "غيار زيت",
          "غيار زيت",
          "غيار زيت",
          "غيار زيت",
          "غيار زيت",
          "غيار زيت",
          "غيار زيت",
          "غيار زيت",
          "غيار زيت",
          "غيار زيت",
          "غيار زيت",
          "غيار زيت",
          "غيار زيت",
          "غيار زيت",
          "غيار زيت",
          "غيار زيت",
          "غيار زيت",
          "غيار زيت",
          "غيار زيت",
          "غيار زيت",
          "غيار زيت",
          "غيار زيت",
          "غيار زيت",
          "غيار زيت",
          "غيار زيت",
          "غيار زيت",
          "غيار زيت",
          "غيار زيت",
          "غيار زيت",
          "غيار زيت",
          "غيار زيت",
          "غيار زيت",
          "غيار زيت",
          "غيار زيت",
          "غيار زيت",
          "غيار زيت",
          "غيار زيت",
          "غيار زيت",
          "غيار زيت",
          "غيار زيت",
          "غيار زيت",
          "غيار زيت",
          "غيار زيت",
          "غيار زيت",
          "غيار زيت",
          "غيار زيت",
          "غيار زيت",
          "غيار زيت",
          "غيار زيت",
          "غيار زيت",
          "غيار زيت",
          "غيار زيت",
          "غيار زيت",
          "غيار زيت",
          "غيار زيت",
          "غيار زيت",
          "غيار زيت",
          "غيار زيت",
          "غيار زيت",
          "غيار زيت",
          "غيار زيت",
          "غيار زيت",
          "غيار زيت",
          "غيار زيت",
          "غيار زيت",
          "غيار زيت",
          "غيار زيت",
          "غيار زيت",
          "غيار زيت",
          "غيار زيت",
          "غيار زيت",
          "غيار زيت",
          "غيار زيت",
          "غيار زيت",
          "غيار زيت",
          "غيار زيت",
          "غيار زيت",
          "غيار زيت",
          "غيار زيت",
          "غيار زيت",
          "غيار زيت",
          "غيار زيت",
          "غيار زيت",
          "غيار زيت",
          "غيار زيت",
          "غيار زيت",
          "غيار زيت",
          "غيار زيت",
          "غيار زيت",
          "غيار زيت",
          "غيار زيت",
          "غيار زيت",
          "غيار زيت",
          "غيار زيت",
          "غيار زيت",
          "غيار زيت",
          "غيار زيت",
          "غيار زيت",
          "غيار زيت",
          "غيار زيت",
          "غيار زيت",
          "غيار زيت",
          "غيار زيت",
          "غيار زيت",
          "غيار زيت",
          "غيار زيت",
          "غيار زيت",
          "غيار زيت",
          "غيار زيت",
          "غيار زيت",
          "غيار زيت",
          "غيار زيت",
          "غيار زيت",
          "غيار زيت",
          "غيار زيت",
          "غيار زيت",
          "غيار زيت",
          "غيار زيت",
          "غيار زيت",
          "غيار زيت",
          "غيار زيت",
          "غيار زيت",
          "غيار زيت",
          "غيار زيت",
          "غيار زيت",
          "غيار زيت",
          "غيار زيت",
          "غيار زيت",
          "غيار زيت",
          "غيار زيت",
          "غيار زيت",
          "غيار زيت",
          "غيار زيت",
          "غيار زيت",
          "غيار زيت",
          "غيار زيت",
          "غيار زيت",
          "غيار زيت",
          "غيار زيت",
          "غيار زيت",
          "غيار زيت",
          "غيار زيت",
          "غيار زيت",
          "غيار زيت",
          "غيار زيت",
          "غيار زيت",
          "غيار زيت",
          "غيار زيت",
          "غيار زيت",
          "غيار زيت",
          "غيار زيت",
          "غيار زيت",
          "غيار زيت",
          "غيار زيت",
          "غيار زيت",
          "غيار زيت",
          "غيار زيت",
          "غيار زيت",
          "غيار زيت",
          "غيار زيت",
          "غيار زيت",
          "غيار زيت",
          "غيار زيت",
          "غيار زيت",
          "غيار زيت",
          "غيار زيت",
          "غيار زيت",
          "غيار زيت",
          "غيار زيت",
          "غيار زيت",
          "غيار زيت",
          "غيار زيت",
          "غيار زيت",
          "غيار زيت",
          "غيار زيت",
          "غيار زيت",
          "غيار زيت",
          "غيار زيت",
          "غيار زيت",
          "غيار زيت",
          "غيار زيت",
          "غيار زيت",
          "غيار زيت",
          "غيار زيت",
          "غيار زيت",
          "غيار زيت",
          "غيار زيت",
          "غيار زيت",
          "غيار زيت",
          "غيار زيت",
          "غيار زيت",
          "غيار زيت",
          "غيار زيت",
          "غيار زيت",
          "غيار زيت",
          "غيار زيت",
          "غيار زيت",
          "غيار زيت",
          "غيار زيت",
          "غيار زيت",
          "غيار زيت",
          "غيار زيت",
          "غيار زيت",
          "غيار زيت",
          "غيار زيت",
          "غيار زيت",
          "غيار زيت",
          "غيار زيت",
          "غيار زيت",
          "غيار زيت",
          "غيار زيت",
          "غيار زيت",
          "غيار زيت",
          "غيار زيت",
          "غيار زيت",
          "غيار زيت",
          "غيار زيت",
          "غيار زيت",
          "غيار زيت",
          "غيار زيت",
          "غيار زيت",
          "غيار زيت",
          "غيار زيت",
          "غيار زيت",
          "غيار زيت",
          "غيار زيت",
          "غيار زيت",
          "غيار زيت",
          "غيار زيت",
          "غيار زيت",
          "غيار زيت",
          "غيار زيت",
          "غيار زيت",
          "غيار زيت",
          "غيار زيت",
          "غيار زيت",
          "غيار زيت",
          "غيار زيت",
          "غيار زيت",
          "غيار زيت",
          "غيار زيت",
          "غيار زيت",
          "غيار زيت",
          "غيار زيت",
          "غيار زيت",
          "غيار زيت",
          "غيار زيت",
          "غيار زيت",
          "غيار زيت",
          "غيار زيت",
          "غيار زيت",
          "غيار زيت",
          "غيار زيت",
          "غيار زيت",
          "غيار زيت",
          "غيار زيت",
          "غيار زيت",
          "غيار زيت",
          "غيار زيت",
          "غيار زيت",
          "غيار زيت",
          "غيار زيت",
          "غيار زيت",
          "غيار زيت",
          "غيار زيت",
          "غيار زيت",
          "غيار زيت",
          "غيار زيت",
          "غيار زيت",
          "غيار زيت",
          "غيار زيت",
          "غيار زيت",
          "غيار زيت",
          "غيار زيت",
          "غيار زيت",
          "غيار زيت",
          "غيار زيت",
          "غيار زيت",
          "غيار زيت",
          "غيار زيت",
          "غيار زيت",
          "غيار زيت",
          "غيار زيت",
          "غيار زيت",
          "غيار زيت",
          "غيار زيت",
          "غيار زيت",
          "غيار زيت",
          "غيار زيت",
          "غيار زيت",
          "غيار زيت",
          "غيار زيت",
          "غيار زيت",
          "غيار زيت",
          "غيار زيت",
          "غيار زيت",
          "غيار زيت",
          "غيار زيت",
          "غيار زيت",
          "غيار زيت",
          "غيار زيت",
          "غيار زيت",
          "غيار زيت",
          "غيار زيت",
          "غيار زيت",
          "غيار زيت",
          "غيار زيت",
          "غيار زيت",
          "غيار زيت",
          "غيار زيت",
          "غيار زيت",
          "غيار زيت",
          "غيار زيت",
          "غيار زيت",
          "غيار زيت",
          "غيار زيت",
          "غيار زيت",
          "غيار زيت",
          "غيار زيت",
          "غيار زيت",
          "غيار زيت",
          "غيار زيت",
          "غيار زيت",
          "غيار زيت",
          "غيار زيت",
          "غيار زيت",
          "غيار زيت",
          "غيار زيت",
          "غيار زيت",
          "غيار زيت",
          "غيار زيت",
          "غيار زيت",
          "غيار زيت",
          "غيار زيت",
          "غيار زيت",
          "غيار زيت",
          "غيار زيت",
          "غيار زيت",
          "غيار زيت",
          "غيار زيت",
          "غيار زيت",
          "غيار زيت",
          "غيار زيت",
          "غيار زيت",
          "غيار زيت",
          "غيار زيت",
          "غيار زيت",
          "غيار زيت",
          "غيار زيت",
          "غيار زيت",
          "غيار زيت",
          "غيار زيت",
          "غيار زيت",
          "غيار زيت",
          "غيار زيت",
          "غيار زيت",
          "غيار زيت",
          "غيار زيت",
          "غيار زيت",
          "غيار زيت",
          "غيار زيت",
          "غيار زيت",
          "غيار زيت",
          "غيار زيت",
          "غيار زيت",
          "غيار زيت",
          "غيار زيت",
          "غيار زيت",
          "غيار زيت",
          "غيار زيت",
          "غيار زيت",
          "غيار زيت",
          "غيار زيت",
          "غيار زيت",
          "غيار زيت",
          "غيار زيت",
          "غيار زيت",
          "غيار زيت",
          "غيار زيت",
          "غيار زيت",
          "غيار زيت",
          "غيار زيت",
          "غيار زيت",
          "غيار زيت",
          "غيار زيت",
          "غيار زيت",
          "غيار زيت",
          "غيار زيت",
          "غيار زيت",
          "غيار زيت",
          "غيار زيت",
          "غيار زيت",
          "غيار زيت",
          "غيار زيت",
          "غيار زيت",
          "غيار زيت",
          "غيار زيت",
          "غيار زيت",
          "غيار زيت",
          "غيار زيت",
          "غيار زيت",
          "غيار زيت",
          "غيار زيت",
          "غيار زيت",
          "غيار زيت",
          "غيار زيت",
          "غيار زيت",
          "غيار زيت",
          "غيار زيت",
          "غيار زيت",
          "غيار زيت",
          "غيار زيت",
          "غيار زيت",
          "غيار زيت",
          "غيار زيت",
          "غيار زيت",
          "غيار زيت",
          "غيار زيت",
          "غيار زيت",
          "غيار زيت",
          "غيار زيت",
          "غيار زيت",
          "غيار زيت",
          "غيار زيت",
          "غيار زيت",
          "غيار زيت",
          "غيار زيت",
          "غيار زيت",
          "غيار زيت",
          "غيار زيت",
          "غيار زيت",
          "غيار زيت",
          "غيار زيت",
          "غيار زيت",
          "غيار زيت",
          "غيار زيت",
          "غيار زيت",
          "غيار زيت",
          "غيار زيت",
          "غيار زيت",
          "غيار زيت",
          "غيار زيت",
          "غيار زيت",
          "غيار زيت",
          "غيار زيت",
          "غيار زيت",
          "غيار زيت"
         ],
         "x0": " ",
         "xaxis": "x",
         "y": [
          6,
          1,
          1,
          1,
          1,
          1,
          1,
          1,
          1,
          1,
          1,
          1,
          1,
          1,
          1,
          1,
          1,
          1,
          1,
          1,
          1,
          1,
          1,
          1,
          1,
          1,
          1,
          1,
          1,
          1,
          1,
          1,
          1,
          1,
          1,
          1,
          1,
          1,
          1,
          1,
          1,
          1,
          1,
          1,
          1,
          1,
          1,
          1,
          1,
          1,
          1,
          1,
          1,
          1,
          1,
          1,
          1,
          1,
          1,
          1,
          1,
          1,
          1,
          1,
          1,
          1,
          1,
          1,
          1,
          1,
          1,
          1,
          1,
          1,
          1,
          1,
          1,
          1,
          1,
          1,
          1,
          1,
          1,
          1,
          1,
          1,
          1,
          1,
          1,
          1,
          1,
          1,
          1,
          1,
          1,
          1,
          1,
          1,
          2,
          1,
          1,
          1,
          1,
          1,
          1,
          1,
          1,
          1,
          1,
          1,
          1,
          1,
          1,
          1,
          1,
          1,
          1,
          1,
          1,
          1,
          1,
          1,
          1,
          1,
          1,
          1,
          1,
          1,
          1,
          1,
          1,
          1,
          1,
          1,
          1,
          1,
          1,
          1,
          1,
          1,
          1,
          1,
          1,
          1,
          1,
          1,
          1,
          1,
          1,
          1,
          1,
          1,
          1,
          1,
          1,
          1,
          1,
          1,
          1,
          1,
          1,
          1,
          1,
          1,
          1,
          1,
          1,
          1,
          1,
          1,
          2,
          1,
          1,
          1,
          1,
          1,
          1,
          1,
          1,
          1,
          1,
          1,
          1,
          1,
          1,
          1,
          1,
          1,
          1,
          1,
          1,
          1,
          1,
          1,
          1,
          1,
          1,
          1,
          1,
          1,
          1,
          1,
          1,
          1,
          1,
          1,
          1,
          1,
          1,
          1,
          1,
          1,
          1,
          1,
          1,
          1,
          1,
          1,
          1,
          2,
          1,
          1,
          1,
          1,
          1,
          1,
          1,
          1,
          1,
          1,
          1,
          1,
          1,
          1,
          1,
          1,
          1,
          1,
          1,
          1,
          1,
          1,
          1,
          1,
          1,
          1,
          1,
          1,
          1,
          1,
          1,
          1,
          1,
          1,
          1,
          1,
          1,
          1,
          1,
          1,
          1,
          1,
          1,
          1,
          1,
          1,
          1,
          1,
          1,
          1,
          1,
          1,
          1,
          1,
          1,
          1,
          1,
          1,
          1,
          1,
          1,
          1,
          1,
          1,
          1,
          1,
          1,
          1,
          1,
          1,
          1,
          1,
          1,
          1,
          1,
          1,
          1,
          1,
          1,
          1,
          1,
          1,
          1,
          1,
          1,
          1,
          1,
          1,
          1,
          1,
          1,
          1,
          1,
          1,
          1,
          1,
          1,
          1,
          1,
          1,
          1,
          1,
          1,
          1,
          1,
          1,
          1,
          1,
          1,
          1,
          1,
          1,
          1,
          1,
          1,
          1,
          1,
          1,
          1,
          1,
          1,
          1,
          1,
          1,
          7,
          1,
          1,
          1,
          1,
          1,
          1,
          1,
          1,
          1,
          1,
          1,
          1,
          1,
          1,
          1,
          1,
          1,
          1,
          1,
          1,
          1,
          1,
          1,
          1,
          1,
          1,
          1,
          1,
          1,
          1,
          1,
          1,
          1,
          1,
          1,
          1,
          1,
          1,
          1,
          1,
          1,
          1,
          1,
          1,
          1,
          1,
          1,
          1,
          1,
          1,
          1,
          1,
          1,
          1,
          1,
          1,
          1,
          1,
          1,
          1,
          1,
          1,
          1,
          1,
          1,
          1,
          1,
          1,
          1,
          1,
          1,
          1,
          1,
          1,
          1,
          1,
          1,
          1,
          1,
          1,
          1,
          1,
          1,
          1,
          1,
          1,
          1,
          1,
          1,
          1,
          1,
          1,
          1,
          1,
          1,
          1,
          1,
          1,
          1,
          1,
          1,
          1,
          1,
          1,
          1,
          1,
          1,
          1,
          1,
          1,
          1,
          1,
          1,
          1,
          1,
          1,
          1,
          1,
          1,
          1,
          1,
          1,
          1,
          1,
          1,
          1,
          1,
          1,
          1,
          1,
          1,
          1,
          1,
          1,
          1,
          1,
          1,
          1,
          1,
          1,
          1,
          1,
          1,
          1,
          1,
          1,
          1,
          1,
          1,
          1,
          1,
          1,
          1,
          1,
          1,
          1,
          1,
          1,
          1,
          1,
          1,
          1,
          1,
          1,
          1,
          1,
          1,
          1,
          1,
          1,
          1,
          1,
          1,
          1,
          1,
          1,
          1,
          1,
          1,
          1,
          1,
          1,
          1,
          1,
          1,
          1,
          1,
          1,
          1,
          1,
          1,
          1,
          1,
          1,
          1,
          1,
          1,
          1,
          1,
          1,
          1,
          1,
          1,
          1,
          1,
          1,
          1,
          1,
          1,
          1,
          1,
          1,
          1,
          1,
          1,
          1,
          1,
          1,
          1,
          1,
          1,
          1,
          1,
          1,
          1,
          1,
          1,
          1,
          1,
          1,
          1,
          1,
          1,
          1,
          1,
          1,
          1,
          1,
          1,
          1,
          1,
          1,
          1,
          1,
          1,
          1,
          1,
          1,
          1
         ],
         "y0": " ",
         "yaxis": "y"
        },
        {
         "alignmentgroup": "True",
         "hovertemplate": "damage type=%{x}<br>service_duration=%{y}<extra></extra>",
         "legendgroup": "اصلاح كوشوك",
         "marker": {
          "color": "#ab63fa"
         },
         "name": "اصلاح كوشوك",
         "notched": false,
         "offsetgroup": "اصلاح كوشوك",
         "orientation": "v",
         "showlegend": true,
         "type": "box",
         "x": [
          "اصلاح كوشوك",
          "اصلاح كوشوك",
          "اصلاح كوشوك",
          "اصلاح كوشوك",
          "اصلاح كوشوك",
          "اصلاح كوشوك",
          "اصلاح كوشوك",
          "اصلاح كوشوك",
          "اصلاح كوشوك",
          "اصلاح كوشوك",
          "اصلاح كوشوك",
          "اصلاح كوشوك",
          "اصلاح كوشوك",
          "اصلاح كوشوك",
          "اصلاح كوشوك",
          "اصلاح كوشوك",
          "اصلاح كوشوك",
          "اصلاح كوشوك",
          "اصلاح كوشوك",
          "اصلاح كوشوك",
          "اصلاح كوشوك",
          "اصلاح كوشوك",
          "اصلاح كوشوك",
          "اصلاح كوشوك",
          "اصلاح كوشوك",
          "اصلاح كوشوك",
          "اصلاح كوشوك",
          "اصلاح كوشوك",
          "اصلاح كوشوك",
          "اصلاح كوشوك",
          "اصلاح كوشوك",
          "اصلاح كوشوك",
          "اصلاح كوشوك",
          "اصلاح كوشوك",
          "اصلاح كوشوك",
          "اصلاح كوشوك",
          "اصلاح كوشوك",
          "اصلاح كوشوك",
          "اصلاح كوشوك",
          "اصلاح كوشوك",
          "اصلاح كوشوك",
          "اصلاح كوشوك",
          "اصلاح كوشوك",
          "اصلاح كوشوك",
          "اصلاح كوشوك",
          "اصلاح كوشوك",
          "اصلاح كوشوك",
          "اصلاح كوشوك",
          "اصلاح كوشوك",
          "اصلاح كوشوك",
          "اصلاح كوشوك",
          "اصلاح كوشوك",
          "اصلاح كوشوك",
          "اصلاح كوشوك",
          "اصلاح كوشوك",
          "اصلاح كوشوك",
          "اصلاح كوشوك",
          "اصلاح كوشوك",
          "اصلاح كوشوك",
          "اصلاح كوشوك",
          "اصلاح كوشوك",
          "اصلاح كوشوك",
          "اصلاح كوشوك",
          "اصلاح كوشوك",
          "اصلاح كوشوك",
          "اصلاح كوشوك",
          "اصلاح كوشوك",
          "اصلاح كوشوك",
          "اصلاح كوشوك",
          "اصلاح كوشوك",
          "اصلاح كوشوك",
          "اصلاح كوشوك",
          "اصلاح كوشوك",
          "اصلاح كوشوك",
          "اصلاح كوشوك",
          "اصلاح كوشوك",
          "اصلاح كوشوك",
          "اصلاح كوشوك",
          "اصلاح كوشوك",
          "اصلاح كوشوك",
          "اصلاح كوشوك",
          "اصلاح كوشوك",
          "اصلاح كوشوك",
          "اصلاح كوشوك",
          "اصلاح كوشوك",
          "اصلاح كوشوك",
          "اصلاح كوشوك",
          "اصلاح كوشوك",
          "اصلاح كوشوك",
          "اصلاح كوشوك",
          "اصلاح كوشوك",
          "اصلاح كوشوك",
          "اصلاح كوشوك",
          "اصلاح كوشوك",
          "اصلاح كوشوك",
          "اصلاح كوشوك",
          "اصلاح كوشوك",
          "اصلاح كوشوك",
          "اصلاح كوشوك",
          "اصلاح كوشوك",
          "اصلاح كوشوك",
          "اصلاح كوشوك",
          "اصلاح كوشوك",
          "اصلاح كوشوك",
          "اصلاح كوشوك",
          "اصلاح كوشوك",
          "اصلاح كوشوك",
          "اصلاح كوشوك",
          "اصلاح كوشوك",
          "اصلاح كوشوك",
          "اصلاح كوشوك",
          "اصلاح كوشوك",
          "اصلاح كوشوك",
          "اصلاح كوشوك",
          "اصلاح كوشوك",
          "اصلاح كوشوك",
          "اصلاح كوشوك",
          "اصلاح كوشوك",
          "اصلاح كوشوك",
          "اصلاح كوشوك",
          "اصلاح كوشوك",
          "اصلاح كوشوك",
          "اصلاح كوشوك",
          "اصلاح كوشوك"
         ],
         "x0": " ",
         "xaxis": "x",
         "y": [
          1,
          1,
          1,
          1,
          1,
          1,
          1,
          1,
          1,
          4,
          1,
          1,
          1,
          1,
          1,
          1,
          1,
          1,
          1,
          1,
          1,
          1,
          1,
          32,
          1,
          1,
          1,
          1,
          1,
          1,
          1,
          1,
          1,
          1,
          1,
          1,
          1,
          1,
          1,
          1,
          1,
          1,
          1,
          1,
          1,
          1,
          1,
          1,
          1,
          1,
          1,
          1,
          1,
          1,
          1,
          1,
          1,
          1,
          1,
          1,
          1,
          1,
          1,
          1,
          1,
          1,
          1,
          1,
          1,
          1,
          1,
          1,
          1,
          1,
          1,
          1,
          1,
          1,
          1,
          1,
          1,
          1,
          1,
          1,
          1,
          1,
          1,
          1,
          1,
          1,
          1,
          1,
          1,
          1,
          1,
          1,
          1,
          1,
          1,
          1,
          1,
          1,
          1,
          1,
          1,
          1,
          1,
          1,
          1,
          1,
          1,
          1,
          1,
          1,
          1,
          1,
          1,
          1,
          1,
          1,
          1,
          1,
          1,
          1
         ],
         "y0": " ",
         "yaxis": "y"
        },
        {
         "alignmentgroup": "True",
         "hovertemplate": "damage type=%{x}<br>service_duration=%{y}<extra></extra>",
         "legendgroup": "اصلاح زجاج",
         "marker": {
          "color": "#FFA15A"
         },
         "name": "اصلاح زجاج",
         "notched": false,
         "offsetgroup": "اصلاح زجاج",
         "orientation": "v",
         "showlegend": true,
         "type": "box",
         "x": [
          "اصلاح زجاج",
          "اصلاح زجاج",
          "اصلاح زجاج",
          "اصلاح زجاج",
          "اصلاح زجاج",
          "اصلاح زجاج",
          "اصلاح زجاج",
          "اصلاح زجاج",
          "اصلاح زجاج",
          "اصلاح زجاج",
          "اصلاح زجاج",
          "اصلاح زجاج",
          "اصلاح زجاج",
          "اصلاح زجاج",
          "اصلاح زجاج",
          "اصلاح زجاج",
          "اصلاح زجاج",
          "اصلاح زجاج",
          "اصلاح زجاج",
          "اصلاح زجاج",
          "اصلاح زجاج"
         ],
         "x0": " ",
         "xaxis": "x",
         "y": [
          2,
          1,
          1,
          1,
          1,
          1,
          1,
          1,
          1,
          1,
          1,
          1,
          1,
          1,
          1,
          1,
          1,
          1,
          1,
          1,
          1
         ],
         "y0": " ",
         "yaxis": "y"
        },
        {
         "alignmentgroup": "True",
         "hovertemplate": "damage type=%{x}<br>service_duration=%{y}<extra></extra>",
         "legendgroup": "اصلاح كهرباء",
         "marker": {
          "color": "#19d3f3"
         },
         "name": "اصلاح كهرباء",
         "notched": false,
         "offsetgroup": "اصلاح كهرباء",
         "orientation": "v",
         "showlegend": true,
         "type": "box",
         "x": [
          "اصلاح كهرباء",
          "اصلاح كهرباء",
          "اصلاح كهرباء",
          "اصلاح كهرباء",
          "اصلاح كهرباء",
          "اصلاح كهرباء",
          "اصلاح كهرباء",
          "اصلاح كهرباء",
          "اصلاح كهرباء",
          "اصلاح كهرباء",
          "اصلاح كهرباء",
          "اصلاح كهرباء",
          "اصلاح كهرباء",
          "اصلاح كهرباء",
          "اصلاح كهرباء",
          "اصلاح كهرباء",
          "اصلاح كهرباء",
          "اصلاح كهرباء",
          "اصلاح كهرباء",
          "اصلاح كهرباء",
          "اصلاح كهرباء",
          "اصلاح كهرباء",
          "اصلاح كهرباء",
          "اصلاح كهرباء",
          "اصلاح كهرباء",
          "اصلاح كهرباء",
          "اصلاح كهرباء",
          "اصلاح كهرباء",
          "اصلاح كهرباء",
          "اصلاح كهرباء",
          "اصلاح كهرباء",
          "اصلاح كهرباء",
          "اصلاح كهرباء",
          "اصلاح كهرباء",
          "اصلاح كهرباء",
          "اصلاح كهرباء",
          "اصلاح كهرباء",
          "اصلاح كهرباء",
          "اصلاح كهرباء",
          "اصلاح كهرباء",
          "اصلاح كهرباء",
          "اصلاح كهرباء",
          "اصلاح كهرباء",
          "اصلاح كهرباء",
          "اصلاح كهرباء",
          "اصلاح كهرباء"
         ],
         "x0": " ",
         "xaxis": "x",
         "y": [
          1,
          10,
          13,
          2,
          1,
          1,
          1,
          1,
          1,
          3,
          1,
          1,
          1,
          1,
          1,
          1,
          1,
          1,
          1,
          1,
          1,
          1,
          1,
          1,
          1,
          1,
          1,
          1,
          1,
          1,
          1,
          1,
          1,
          1,
          1,
          1,
          1,
          1,
          1,
          17,
          1,
          1,
          1,
          1,
          1,
          1
         ],
         "y0": " ",
         "yaxis": "y"
        },
        {
         "alignmentgroup": "True",
         "hovertemplate": "damage type=%{x}<br>service_duration=%{y}<extra></extra>",
         "legendgroup": "اصلاح فرش",
         "marker": {
          "color": "#FF6692"
         },
         "name": "اصلاح فرش",
         "notched": false,
         "offsetgroup": "اصلاح فرش",
         "orientation": "v",
         "showlegend": true,
         "type": "box",
         "x": [
          "اصلاح فرش",
          "اصلاح فرش",
          "اصلاح فرش",
          "اصلاح فرش",
          "اصلاح فرش",
          "اصلاح فرش",
          "اصلاح فرش",
          "اصلاح فرش",
          "اصلاح فرش",
          "اصلاح فرش",
          "اصلاح فرش",
          "اصلاح فرش",
          "اصلاح فرش",
          "اصلاح فرش",
          "اصلاح فرش",
          "اصلاح فرش",
          "اصلاح فرش",
          "اصلاح فرش",
          "اصلاح فرش"
         ],
         "x0": " ",
         "xaxis": "x",
         "y": [
          2,
          2,
          2,
          4,
          3,
          3,
          1,
          1,
          1,
          1,
          1,
          1,
          1,
          1,
          1,
          1,
          1,
          1,
          2
         ],
         "y0": " ",
         "yaxis": "y"
        }
       ],
       "layout": {
        "boxmode": "overlay",
        "legend": {
         "title": {
          "text": "damage type"
         },
         "tracegroupgap": 0
        },
        "template": {
         "data": {
          "bar": [
           {
            "error_x": {
             "color": "#2a3f5f"
            },
            "error_y": {
             "color": "#2a3f5f"
            },
            "marker": {
             "line": {
              "color": "#E5ECF6",
              "width": 0.5
             },
             "pattern": {
              "fillmode": "overlay",
              "size": 10,
              "solidity": 0.2
             }
            },
            "type": "bar"
           }
          ],
          "barpolar": [
           {
            "marker": {
             "line": {
              "color": "#E5ECF6",
              "width": 0.5
             },
             "pattern": {
              "fillmode": "overlay",
              "size": 10,
              "solidity": 0.2
             }
            },
            "type": "barpolar"
           }
          ],
          "carpet": [
           {
            "aaxis": {
             "endlinecolor": "#2a3f5f",
             "gridcolor": "white",
             "linecolor": "white",
             "minorgridcolor": "white",
             "startlinecolor": "#2a3f5f"
            },
            "baxis": {
             "endlinecolor": "#2a3f5f",
             "gridcolor": "white",
             "linecolor": "white",
             "minorgridcolor": "white",
             "startlinecolor": "#2a3f5f"
            },
            "type": "carpet"
           }
          ],
          "choropleth": [
           {
            "colorbar": {
             "outlinewidth": 0,
             "ticks": ""
            },
            "type": "choropleth"
           }
          ],
          "contour": [
           {
            "colorbar": {
             "outlinewidth": 0,
             "ticks": ""
            },
            "colorscale": [
             [
              0,
              "#0d0887"
             ],
             [
              0.1111111111111111,
              "#46039f"
             ],
             [
              0.2222222222222222,
              "#7201a8"
             ],
             [
              0.3333333333333333,
              "#9c179e"
             ],
             [
              0.4444444444444444,
              "#bd3786"
             ],
             [
              0.5555555555555556,
              "#d8576b"
             ],
             [
              0.6666666666666666,
              "#ed7953"
             ],
             [
              0.7777777777777778,
              "#fb9f3a"
             ],
             [
              0.8888888888888888,
              "#fdca26"
             ],
             [
              1,
              "#f0f921"
             ]
            ],
            "type": "contour"
           }
          ],
          "contourcarpet": [
           {
            "colorbar": {
             "outlinewidth": 0,
             "ticks": ""
            },
            "type": "contourcarpet"
           }
          ],
          "heatmap": [
           {
            "colorbar": {
             "outlinewidth": 0,
             "ticks": ""
            },
            "colorscale": [
             [
              0,
              "#0d0887"
             ],
             [
              0.1111111111111111,
              "#46039f"
             ],
             [
              0.2222222222222222,
              "#7201a8"
             ],
             [
              0.3333333333333333,
              "#9c179e"
             ],
             [
              0.4444444444444444,
              "#bd3786"
             ],
             [
              0.5555555555555556,
              "#d8576b"
             ],
             [
              0.6666666666666666,
              "#ed7953"
             ],
             [
              0.7777777777777778,
              "#fb9f3a"
             ],
             [
              0.8888888888888888,
              "#fdca26"
             ],
             [
              1,
              "#f0f921"
             ]
            ],
            "type": "heatmap"
           }
          ],
          "heatmapgl": [
           {
            "colorbar": {
             "outlinewidth": 0,
             "ticks": ""
            },
            "colorscale": [
             [
              0,
              "#0d0887"
             ],
             [
              0.1111111111111111,
              "#46039f"
             ],
             [
              0.2222222222222222,
              "#7201a8"
             ],
             [
              0.3333333333333333,
              "#9c179e"
             ],
             [
              0.4444444444444444,
              "#bd3786"
             ],
             [
              0.5555555555555556,
              "#d8576b"
             ],
             [
              0.6666666666666666,
              "#ed7953"
             ],
             [
              0.7777777777777778,
              "#fb9f3a"
             ],
             [
              0.8888888888888888,
              "#fdca26"
             ],
             [
              1,
              "#f0f921"
             ]
            ],
            "type": "heatmapgl"
           }
          ],
          "histogram": [
           {
            "marker": {
             "pattern": {
              "fillmode": "overlay",
              "size": 10,
              "solidity": 0.2
             }
            },
            "type": "histogram"
           }
          ],
          "histogram2d": [
           {
            "colorbar": {
             "outlinewidth": 0,
             "ticks": ""
            },
            "colorscale": [
             [
              0,
              "#0d0887"
             ],
             [
              0.1111111111111111,
              "#46039f"
             ],
             [
              0.2222222222222222,
              "#7201a8"
             ],
             [
              0.3333333333333333,
              "#9c179e"
             ],
             [
              0.4444444444444444,
              "#bd3786"
             ],
             [
              0.5555555555555556,
              "#d8576b"
             ],
             [
              0.6666666666666666,
              "#ed7953"
             ],
             [
              0.7777777777777778,
              "#fb9f3a"
             ],
             [
              0.8888888888888888,
              "#fdca26"
             ],
             [
              1,
              "#f0f921"
             ]
            ],
            "type": "histogram2d"
           }
          ],
          "histogram2dcontour": [
           {
            "colorbar": {
             "outlinewidth": 0,
             "ticks": ""
            },
            "colorscale": [
             [
              0,
              "#0d0887"
             ],
             [
              0.1111111111111111,
              "#46039f"
             ],
             [
              0.2222222222222222,
              "#7201a8"
             ],
             [
              0.3333333333333333,
              "#9c179e"
             ],
             [
              0.4444444444444444,
              "#bd3786"
             ],
             [
              0.5555555555555556,
              "#d8576b"
             ],
             [
              0.6666666666666666,
              "#ed7953"
             ],
             [
              0.7777777777777778,
              "#fb9f3a"
             ],
             [
              0.8888888888888888,
              "#fdca26"
             ],
             [
              1,
              "#f0f921"
             ]
            ],
            "type": "histogram2dcontour"
           }
          ],
          "mesh3d": [
           {
            "colorbar": {
             "outlinewidth": 0,
             "ticks": ""
            },
            "type": "mesh3d"
           }
          ],
          "parcoords": [
           {
            "line": {
             "colorbar": {
              "outlinewidth": 0,
              "ticks": ""
             }
            },
            "type": "parcoords"
           }
          ],
          "pie": [
           {
            "automargin": true,
            "type": "pie"
           }
          ],
          "scatter": [
           {
            "fillpattern": {
             "fillmode": "overlay",
             "size": 10,
             "solidity": 0.2
            },
            "type": "scatter"
           }
          ],
          "scatter3d": [
           {
            "line": {
             "colorbar": {
              "outlinewidth": 0,
              "ticks": ""
             }
            },
            "marker": {
             "colorbar": {
              "outlinewidth": 0,
              "ticks": ""
             }
            },
            "type": "scatter3d"
           }
          ],
          "scattercarpet": [
           {
            "marker": {
             "colorbar": {
              "outlinewidth": 0,
              "ticks": ""
             }
            },
            "type": "scattercarpet"
           }
          ],
          "scattergeo": [
           {
            "marker": {
             "colorbar": {
              "outlinewidth": 0,
              "ticks": ""
             }
            },
            "type": "scattergeo"
           }
          ],
          "scattergl": [
           {
            "marker": {
             "colorbar": {
              "outlinewidth": 0,
              "ticks": ""
             }
            },
            "type": "scattergl"
           }
          ],
          "scattermapbox": [
           {
            "marker": {
             "colorbar": {
              "outlinewidth": 0,
              "ticks": ""
             }
            },
            "type": "scattermapbox"
           }
          ],
          "scatterpolar": [
           {
            "marker": {
             "colorbar": {
              "outlinewidth": 0,
              "ticks": ""
             }
            },
            "type": "scatterpolar"
           }
          ],
          "scatterpolargl": [
           {
            "marker": {
             "colorbar": {
              "outlinewidth": 0,
              "ticks": ""
             }
            },
            "type": "scatterpolargl"
           }
          ],
          "scatterternary": [
           {
            "marker": {
             "colorbar": {
              "outlinewidth": 0,
              "ticks": ""
             }
            },
            "type": "scatterternary"
           }
          ],
          "surface": [
           {
            "colorbar": {
             "outlinewidth": 0,
             "ticks": ""
            },
            "colorscale": [
             [
              0,
              "#0d0887"
             ],
             [
              0.1111111111111111,
              "#46039f"
             ],
             [
              0.2222222222222222,
              "#7201a8"
             ],
             [
              0.3333333333333333,
              "#9c179e"
             ],
             [
              0.4444444444444444,
              "#bd3786"
             ],
             [
              0.5555555555555556,
              "#d8576b"
             ],
             [
              0.6666666666666666,
              "#ed7953"
             ],
             [
              0.7777777777777778,
              "#fb9f3a"
             ],
             [
              0.8888888888888888,
              "#fdca26"
             ],
             [
              1,
              "#f0f921"
             ]
            ],
            "type": "surface"
           }
          ],
          "table": [
           {
            "cells": {
             "fill": {
              "color": "#EBF0F8"
             },
             "line": {
              "color": "white"
             }
            },
            "header": {
             "fill": {
              "color": "#C8D4E3"
             },
             "line": {
              "color": "white"
             }
            },
            "type": "table"
           }
          ]
         },
         "layout": {
          "annotationdefaults": {
           "arrowcolor": "#2a3f5f",
           "arrowhead": 0,
           "arrowwidth": 1
          },
          "autotypenumbers": "strict",
          "coloraxis": {
           "colorbar": {
            "outlinewidth": 0,
            "ticks": ""
           }
          },
          "colorscale": {
           "diverging": [
            [
             0,
             "#8e0152"
            ],
            [
             0.1,
             "#c51b7d"
            ],
            [
             0.2,
             "#de77ae"
            ],
            [
             0.3,
             "#f1b6da"
            ],
            [
             0.4,
             "#fde0ef"
            ],
            [
             0.5,
             "#f7f7f7"
            ],
            [
             0.6,
             "#e6f5d0"
            ],
            [
             0.7,
             "#b8e186"
            ],
            [
             0.8,
             "#7fbc41"
            ],
            [
             0.9,
             "#4d9221"
            ],
            [
             1,
             "#276419"
            ]
           ],
           "sequential": [
            [
             0,
             "#0d0887"
            ],
            [
             0.1111111111111111,
             "#46039f"
            ],
            [
             0.2222222222222222,
             "#7201a8"
            ],
            [
             0.3333333333333333,
             "#9c179e"
            ],
            [
             0.4444444444444444,
             "#bd3786"
            ],
            [
             0.5555555555555556,
             "#d8576b"
            ],
            [
             0.6666666666666666,
             "#ed7953"
            ],
            [
             0.7777777777777778,
             "#fb9f3a"
            ],
            [
             0.8888888888888888,
             "#fdca26"
            ],
            [
             1,
             "#f0f921"
            ]
           ],
           "sequentialminus": [
            [
             0,
             "#0d0887"
            ],
            [
             0.1111111111111111,
             "#46039f"
            ],
            [
             0.2222222222222222,
             "#7201a8"
            ],
            [
             0.3333333333333333,
             "#9c179e"
            ],
            [
             0.4444444444444444,
             "#bd3786"
            ],
            [
             0.5555555555555556,
             "#d8576b"
            ],
            [
             0.6666666666666666,
             "#ed7953"
            ],
            [
             0.7777777777777778,
             "#fb9f3a"
            ],
            [
             0.8888888888888888,
             "#fdca26"
            ],
            [
             1,
             "#f0f921"
            ]
           ]
          },
          "colorway": [
           "#636efa",
           "#EF553B",
           "#00cc96",
           "#ab63fa",
           "#FFA15A",
           "#19d3f3",
           "#FF6692",
           "#B6E880",
           "#FF97FF",
           "#FECB52"
          ],
          "font": {
           "color": "#2a3f5f"
          },
          "geo": {
           "bgcolor": "white",
           "lakecolor": "white",
           "landcolor": "#E5ECF6",
           "showlakes": true,
           "showland": true,
           "subunitcolor": "white"
          },
          "hoverlabel": {
           "align": "left"
          },
          "hovermode": "closest",
          "mapbox": {
           "style": "light"
          },
          "paper_bgcolor": "white",
          "plot_bgcolor": "#E5ECF6",
          "polar": {
           "angularaxis": {
            "gridcolor": "white",
            "linecolor": "white",
            "ticks": ""
           },
           "bgcolor": "#E5ECF6",
           "radialaxis": {
            "gridcolor": "white",
            "linecolor": "white",
            "ticks": ""
           }
          },
          "scene": {
           "xaxis": {
            "backgroundcolor": "#E5ECF6",
            "gridcolor": "white",
            "gridwidth": 2,
            "linecolor": "white",
            "showbackground": true,
            "ticks": "",
            "zerolinecolor": "white"
           },
           "yaxis": {
            "backgroundcolor": "#E5ECF6",
            "gridcolor": "white",
            "gridwidth": 2,
            "linecolor": "white",
            "showbackground": true,
            "ticks": "",
            "zerolinecolor": "white"
           },
           "zaxis": {
            "backgroundcolor": "#E5ECF6",
            "gridcolor": "white",
            "gridwidth": 2,
            "linecolor": "white",
            "showbackground": true,
            "ticks": "",
            "zerolinecolor": "white"
           }
          },
          "shapedefaults": {
           "line": {
            "color": "#2a3f5f"
           }
          },
          "ternary": {
           "aaxis": {
            "gridcolor": "white",
            "linecolor": "white",
            "ticks": ""
           },
           "baxis": {
            "gridcolor": "white",
            "linecolor": "white",
            "ticks": ""
           },
           "bgcolor": "#E5ECF6",
           "caxis": {
            "gridcolor": "white",
            "linecolor": "white",
            "ticks": ""
           }
          },
          "title": {
           "x": 0.05
          },
          "xaxis": {
           "automargin": true,
           "gridcolor": "white",
           "linecolor": "white",
           "ticks": "",
           "title": {
            "standoff": 15
           },
           "zerolinecolor": "white",
           "zerolinewidth": 2
          },
          "yaxis": {
           "automargin": true,
           "gridcolor": "white",
           "linecolor": "white",
           "ticks": "",
           "title": {
            "standoff": 15
           },
           "zerolinecolor": "white",
           "zerolinewidth": 2
          }
         }
        },
        "title": {
         "text": "Service Duration distributed within each damage type",
         "x": 0.5
        },
        "xaxis": {
         "anchor": "y",
         "categoryarray": [
          "اصلاح بودي",
          "اصلاح ميكانيك",
          "غيار زيت",
          "اصلاح كوشوك",
          "اصلاح زجاج",
          "اصلاح كهرباء",
          "اصلاح فرش"
         ],
         "categoryorder": "array",
         "domain": [
          0,
          1
         ],
         "title": {
          "text": "damage type"
         }
        },
        "yaxis": {
         "anchor": "x",
         "domain": [
          0,
          1
         ],
         "title": {
          "text": "service_duration"
         }
        }
       }
      },
      "text/html": [
       "<div>                            <div id=\"7a1b14a4-aaed-4a77-b825-977961783be8\" class=\"plotly-graph-div\" style=\"height:525px; width:100%;\"></div>            <script type=\"text/javascript\">                require([\"plotly\"], function(Plotly) {                    window.PLOTLYENV=window.PLOTLYENV || {};                                    if (document.getElementById(\"7a1b14a4-aaed-4a77-b825-977961783be8\")) {                    Plotly.newPlot(                        \"7a1b14a4-aaed-4a77-b825-977961783be8\",                        [{\"alignmentgroup\":\"True\",\"hovertemplate\":\"damage type=%{x}\\u003cbr\\u003eservice_duration=%{y}\\u003cextra\\u003e\\u003c\\u002fextra\\u003e\",\"legendgroup\":\"اصلاح بودي\",\"marker\":{\"color\":\"#636efa\"},\"name\":\"اصلاح بودي\",\"notched\":false,\"offsetgroup\":\"اصلاح بودي\",\"orientation\":\"v\",\"showlegend\":true,\"x\":[\"اصلاح بودي\",\"اصلاح بودي\",\"اصلاح بودي\",\"اصلاح بودي\",\"اصلاح بودي\",\"اصلاح بودي\",\"اصلاح بودي\",\"اصلاح بودي\",\"اصلاح بودي\",\"اصلاح بودي\",\"اصلاح بودي\",\"اصلاح بودي\",\"اصلاح بودي\",\"اصلاح بودي\",\"اصلاح بودي\",\"اصلاح بودي\",\"اصلاح بودي\",\"اصلاح بودي\",\"اصلاح بودي\",\"اصلاح بودي\",\"اصلاح بودي\",\"اصلاح بودي\",\"اصلاح بودي\",\"اصلاح بودي\",\"اصلاح بودي\",\"اصلاح بودي\",\"اصلاح بودي\",\"اصلاح بودي\",\"اصلاح بودي\",\"اصلاح بودي\",\"اصلاح بودي\",\"اصلاح بودي\",\"اصلاح بودي\",\"اصلاح بودي\",\"اصلاح بودي\",\"اصلاح بودي\",\"اصلاح بودي\",\"اصلاح بودي\",\"اصلاح بودي\",\"اصلاح بودي\",\"اصلاح بودي\",\"اصلاح بودي\",\"اصلاح بودي\",\"اصلاح بودي\",\"اصلاح بودي\",\"اصلاح بودي\",\"اصلاح بودي\",\"اصلاح بودي\",\"اصلاح بودي\",\"اصلاح بودي\",\"اصلاح بودي\",\"اصلاح بودي\",\"اصلاح بودي\",\"اصلاح بودي\",\"اصلاح بودي\",\"اصلاح بودي\",\"اصلاح بودي\",\"اصلاح بودي\",\"اصلاح بودي\",\"اصلاح بودي\",\"اصلاح بودي\",\"اصلاح بودي\",\"اصلاح بودي\",\"اصلاح بودي\",\"اصلاح بودي\",\"اصلاح بودي\",\"اصلاح بودي\",\"اصلاح بودي\",\"اصلاح بودي\",\"اصلاح بودي\",\"اصلاح بودي\",\"اصلاح بودي\",\"اصلاح بودي\",\"اصلاح بودي\",\"اصلاح بودي\",\"اصلاح بودي\",\"اصلاح بودي\",\"اصلاح بودي\",\"اصلاح بودي\",\"اصلاح بودي\",\"اصلاح بودي\",\"اصلاح بودي\",\"اصلاح بودي\",\"اصلاح بودي\",\"اصلاح بودي\",\"اصلاح بودي\",\"اصلاح بودي\",\"اصلاح بودي\",\"اصلاح بودي\",\"اصلاح بودي\",\"اصلاح بودي\",\"اصلاح بودي\",\"اصلاح بودي\",\"اصلاح بودي\",\"اصلاح بودي\",\"اصلاح بودي\",\"اصلاح بودي\",\"اصلاح بودي\",\"اصلاح بودي\",\"اصلاح بودي\",\"اصلاح بودي\",\"اصلاح بودي\",\"اصلاح بودي\",\"اصلاح بودي\",\"اصلاح بودي\",\"اصلاح بودي\",\"اصلاح بودي\",\"اصلاح بودي\",\"اصلاح بودي\",\"اصلاح بودي\",\"اصلاح بودي\",\"اصلاح بودي\",\"اصلاح بودي\",\"اصلاح بودي\",\"اصلاح بودي\",\"اصلاح بودي\",\"اصلاح بودي\",\"اصلاح بودي\",\"اصلاح بودي\",\"اصلاح بودي\",\"اصلاح بودي\",\"اصلاح بودي\",\"اصلاح بودي\",\"اصلاح بودي\",\"اصلاح بودي\",\"اصلاح بودي\",\"اصلاح بودي\",\"اصلاح بودي\",\"اصلاح بودي\",\"اصلاح بودي\",\"اصلاح بودي\",\"اصلاح بودي\",\"اصلاح بودي\",\"اصلاح بودي\",\"اصلاح بودي\",\"اصلاح بودي\",\"اصلاح بودي\",\"اصلاح بودي\",\"اصلاح بودي\",\"اصلاح بودي\",\"اصلاح بودي\",\"اصلاح بودي\",\"اصلاح بودي\",\"اصلاح بودي\",\"اصلاح بودي\",\"اصلاح بودي\",\"اصلاح بودي\",\"اصلاح بودي\",\"اصلاح بودي\",\"اصلاح بودي\",\"اصلاح بودي\",\"اصلاح بودي\",\"اصلاح بودي\",\"اصلاح بودي\",\"اصلاح بودي\",\"اصلاح بودي\",\"اصلاح بودي\",\"اصلاح بودي\",\"اصلاح بودي\",\"اصلاح بودي\",\"اصلاح بودي\",\"اصلاح بودي\",\"اصلاح بودي\",\"اصلاح بودي\",\"اصلاح بودي\",\"اصلاح بودي\",\"اصلاح بودي\",\"اصلاح بودي\",\"اصلاح بودي\",\"اصلاح بودي\",\"اصلاح بودي\",\"اصلاح بودي\",\"اصلاح بودي\",\"اصلاح بودي\",\"اصلاح بودي\",\"اصلاح بودي\",\"اصلاح بودي\",\"اصلاح بودي\",\"اصلاح بودي\",\"اصلاح بودي\",\"اصلاح بودي\",\"اصلاح بودي\",\"اصلاح بودي\",\"اصلاح بودي\",\"اصلاح بودي\",\"اصلاح بودي\",\"اصلاح بودي\",\"اصلاح بودي\",\"اصلاح بودي\",\"اصلاح بودي\",\"اصلاح بودي\",\"اصلاح بودي\",\"اصلاح بودي\",\"اصلاح بودي\",\"اصلاح بودي\",\"اصلاح بودي\",\"اصلاح بودي\",\"اصلاح بودي\",\"اصلاح بودي\",\"اصلاح بودي\",\"اصلاح بودي\",\"اصلاح بودي\",\"اصلاح بودي\",\"اصلاح بودي\",\"اصلاح بودي\",\"اصلاح بودي\",\"اصلاح بودي\",\"اصلاح بودي\",\"اصلاح بودي\",\"اصلاح بودي\",\"اصلاح بودي\",\"اصلاح بودي\",\"اصلاح بودي\",\"اصلاح بودي\",\"اصلاح بودي\",\"اصلاح بودي\",\"اصلاح بودي\",\"اصلاح بودي\",\"اصلاح بودي\",\"اصلاح بودي\",\"اصلاح بودي\",\"اصلاح بودي\",\"اصلاح بودي\",\"اصلاح بودي\",\"اصلاح بودي\",\"اصلاح بودي\",\"اصلاح بودي\",\"اصلاح بودي\",\"اصلاح بودي\"],\"x0\":\" \",\"xaxis\":\"x\",\"y\":[5,5,6,8,4,3,1,6,9,1,1,1,1,4,12,1,30,4,11,14,11,5,18,5,4,4,5,3,6,4,4,3,3,7,2,5,8,4,5,3,3,1,11,9,3,7,3,10,3,7,14,3,7,11,6,7,5,5,8,3,1,1,7,6,7,8,4,7,2,1,8,6,5,11,11,6,6,14,6,6,1,4,5,5,5,1,5,1,4,7,6,4,7,24,1,7,3,3,6,7,4,11,7,4,1,7,1,5,6,6,6,1,8,9,8,1,5,1,4,3,4,4,5,6,5,12,7,7,7,1,8,6,9,5,4,6,4,1,1,1,1,1,1,4,5,1,5,6,1,5,5,5,5,4,4,5,6,5,5,1,4,3,5,5,6,4,4,4,3,4,5,4,4,5,4,5,4,4,5,3,1,1,5,7,7,8,6,5,5,4,5,5,4,5,6,7,1,1,5,4,1,6,8,11,11,6,6,7,8,9,5,4,11,7,8,8,8,7,6,1,9,6,7,7,8,9,1,8,4],\"y0\":\" \",\"yaxis\":\"y\",\"type\":\"box\"},{\"alignmentgroup\":\"True\",\"hovertemplate\":\"damage type=%{x}\\u003cbr\\u003eservice_duration=%{y}\\u003cextra\\u003e\\u003c\\u002fextra\\u003e\",\"legendgroup\":\"اصلاح ميكانيك\",\"marker\":{\"color\":\"#EF553B\"},\"name\":\"اصلاح ميكانيك\",\"notched\":false,\"offsetgroup\":\"اصلاح ميكانيك\",\"orientation\":\"v\",\"showlegend\":true,\"x\":[\"اصلاح ميكانيك\",\"اصلاح ميكانيك\",\"اصلاح ميكانيك\",\"اصلاح ميكانيك\",\"اصلاح ميكانيك\",\"اصلاح ميكانيك\",\"اصلاح ميكانيك\",\"اصلاح ميكانيك\",\"اصلاح ميكانيك\",\"اصلاح ميكانيك\",\"اصلاح ميكانيك\",\"اصلاح ميكانيك\",\"اصلاح ميكانيك\",\"اصلاح ميكانيك\",\"اصلاح ميكانيك\",\"اصلاح ميكانيك\",\"اصلاح ميكانيك\",\"اصلاح ميكانيك\",\"اصلاح ميكانيك\",\"اصلاح ميكانيك\",\"اصلاح ميكانيك\",\"اصلاح ميكانيك\",\"اصلاح ميكانيك\",\"اصلاح ميكانيك\",\"اصلاح ميكانيك\",\"اصلاح ميكانيك\",\"اصلاح ميكانيك\",\"اصلاح ميكانيك\",\"اصلاح ميكانيك\",\"اصلاح ميكانيك\",\"اصلاح ميكانيك\",\"اصلاح ميكانيك\",\"اصلاح ميكانيك\",\"اصلاح ميكانيك\",\"اصلاح ميكانيك\",\"اصلاح ميكانيك\",\"اصلاح ميكانيك\",\"اصلاح ميكانيك\",\"اصلاح ميكانيك\",\"اصلاح ميكانيك\",\"اصلاح ميكانيك\",\"اصلاح ميكانيك\",\"اصلاح ميكانيك\",\"اصلاح ميكانيك\",\"اصلاح ميكانيك\",\"اصلاح ميكانيك\",\"اصلاح ميكانيك\",\"اصلاح ميكانيك\",\"اصلاح ميكانيك\",\"اصلاح ميكانيك\",\"اصلاح ميكانيك\",\"اصلاح ميكانيك\",\"اصلاح ميكانيك\",\"اصلاح ميكانيك\",\"اصلاح ميكانيك\",\"اصلاح ميكانيك\",\"اصلاح ميكانيك\",\"اصلاح ميكانيك\",\"اصلاح ميكانيك\",\"اصلاح ميكانيك\",\"اصلاح ميكانيك\",\"اصلاح ميكانيك\",\"اصلاح ميكانيك\",\"اصلاح ميكانيك\",\"اصلاح ميكانيك\",\"اصلاح ميكانيك\",\"اصلاح ميكانيك\",\"اصلاح ميكانيك\",\"اصلاح ميكانيك\",\"اصلاح ميكانيك\",\"اصلاح ميكانيك\",\"اصلاح ميكانيك\",\"اصلاح ميكانيك\",\"اصلاح ميكانيك\",\"اصلاح ميكانيك\",\"اصلاح ميكانيك\",\"اصلاح ميكانيك\",\"اصلاح ميكانيك\",\"اصلاح ميكانيك\",\"اصلاح ميكانيك\",\"اصلاح ميكانيك\",\"اصلاح ميكانيك\",\"اصلاح ميكانيك\",\"اصلاح ميكانيك\",\"اصلاح ميكانيك\",\"اصلاح ميكانيك\",\"اصلاح ميكانيك\",\"اصلاح ميكانيك\",\"اصلاح ميكانيك\",\"اصلاح ميكانيك\",\"اصلاح ميكانيك\",\"اصلاح ميكانيك\",\"اصلاح ميكانيك\",\"اصلاح ميكانيك\",\"اصلاح ميكانيك\",\"اصلاح ميكانيك\",\"اصلاح ميكانيك\",\"اصلاح ميكانيك\",\"اصلاح ميكانيك\",\"اصلاح ميكانيك\",\"اصلاح ميكانيك\",\"اصلاح ميكانيك\",\"اصلاح ميكانيك\",\"اصلاح ميكانيك\",\"اصلاح ميكانيك\",\"اصلاح ميكانيك\",\"اصلاح ميكانيك\",\"اصلاح ميكانيك\",\"اصلاح ميكانيك\",\"اصلاح ميكانيك\",\"اصلاح ميكانيك\",\"اصلاح ميكانيك\",\"اصلاح ميكانيك\",\"اصلاح ميكانيك\",\"اصلاح ميكانيك\",\"اصلاح ميكانيك\",\"اصلاح ميكانيك\",\"اصلاح ميكانيك\",\"اصلاح ميكانيك\",\"اصلاح ميكانيك\",\"اصلاح ميكانيك\",\"اصلاح ميكانيك\",\"اصلاح ميكانيك\",\"اصلاح ميكانيك\",\"اصلاح ميكانيك\",\"اصلاح ميكانيك\",\"اصلاح ميكانيك\",\"اصلاح ميكانيك\",\"اصلاح ميكانيك\",\"اصلاح ميكانيك\",\"اصلاح ميكانيك\",\"اصلاح ميكانيك\",\"اصلاح ميكانيك\",\"اصلاح ميكانيك\",\"اصلاح ميكانيك\",\"اصلاح ميكانيك\",\"اصلاح ميكانيك\",\"اصلاح ميكانيك\",\"اصلاح ميكانيك\",\"اصلاح ميكانيك\",\"اصلاح ميكانيك\",\"اصلاح ميكانيك\",\"اصلاح ميكانيك\",\"اصلاح ميكانيك\",\"اصلاح ميكانيك\",\"اصلاح ميكانيك\",\"اصلاح ميكانيك\",\"اصلاح ميكانيك\",\"اصلاح ميكانيك\",\"اصلاح ميكانيك\",\"اصلاح ميكانيك\",\"اصلاح ميكانيك\",\"اصلاح ميكانيك\",\"اصلاح ميكانيك\",\"اصلاح ميكانيك\",\"اصلاح ميكانيك\",\"اصلاح ميكانيك\",\"اصلاح ميكانيك\",\"اصلاح ميكانيك\",\"اصلاح ميكانيك\",\"اصلاح ميكانيك\",\"اصلاح ميكانيك\",\"اصلاح ميكانيك\",\"اصلاح ميكانيك\",\"اصلاح ميكانيك\",\"اصلاح ميكانيك\",\"اصلاح ميكانيك\",\"اصلاح ميكانيك\",\"اصلاح ميكانيك\",\"اصلاح ميكانيك\",\"اصلاح ميكانيك\",\"اصلاح ميكانيك\",\"اصلاح ميكانيك\",\"اصلاح ميكانيك\",\"اصلاح ميكانيك\",\"اصلاح ميكانيك\",\"اصلاح ميكانيك\",\"اصلاح ميكانيك\",\"اصلاح ميكانيك\",\"اصلاح ميكانيك\",\"اصلاح ميكانيك\",\"اصلاح ميكانيك\",\"اصلاح ميكانيك\",\"اصلاح ميكانيك\",\"اصلاح ميكانيك\",\"اصلاح ميكانيك\",\"اصلاح ميكانيك\",\"اصلاح ميكانيك\",\"اصلاح ميكانيك\",\"اصلاح ميكانيك\",\"اصلاح ميكانيك\",\"اصلاح ميكانيك\",\"اصلاح ميكانيك\",\"اصلاح ميكانيك\",\"اصلاح ميكانيك\",\"اصلاح ميكانيك\",\"اصلاح ميكانيك\",\"اصلاح ميكانيك\",\"اصلاح ميكانيك\",\"اصلاح ميكانيك\",\"اصلاح ميكانيك\",\"اصلاح ميكانيك\",\"اصلاح ميكانيك\",\"اصلاح ميكانيك\",\"اصلاح ميكانيك\",\"اصلاح ميكانيك\",\"اصلاح ميكانيك\",\"اصلاح ميكانيك\",\"اصلاح ميكانيك\",\"اصلاح ميكانيك\",\"اصلاح ميكانيك\",\"اصلاح ميكانيك\",\"اصلاح ميكانيك\",\"اصلاح ميكانيك\",\"اصلاح ميكانيك\",\"اصلاح ميكانيك\",\"اصلاح ميكانيك\",\"اصلاح ميكانيك\",\"اصلاح ميكانيك\",\"اصلاح ميكانيك\",\"اصلاح ميكانيك\",\"اصلاح ميكانيك\",\"اصلاح ميكانيك\",\"اصلاح ميكانيك\",\"اصلاح ميكانيك\",\"اصلاح ميكانيك\",\"اصلاح ميكانيك\",\"اصلاح ميكانيك\",\"اصلاح ميكانيك\",\"اصلاح ميكانيك\",\"اصلاح ميكانيك\",\"اصلاح ميكانيك\",\"اصلاح ميكانيك\",\"اصلاح ميكانيك\",\"اصلاح ميكانيك\",\"اصلاح ميكانيك\",\"اصلاح ميكانيك\",\"اصلاح ميكانيك\",\"اصلاح ميكانيك\",\"اصلاح ميكانيك\",\"اصلاح ميكانيك\",\"اصلاح ميكانيك\",\"اصلاح ميكانيك\",\"اصلاح ميكانيك\",\"اصلاح ميكانيك\",\"اصلاح ميكانيك\",\"اصلاح ميكانيك\",\"اصلاح ميكانيك\",\"اصلاح ميكانيك\",\"اصلاح ميكانيك\",\"اصلاح ميكانيك\",\"اصلاح ميكانيك\",\"اصلاح ميكانيك\",\"اصلاح ميكانيك\",\"اصلاح ميكانيك\",\"اصلاح ميكانيك\",\"اصلاح ميكانيك\",\"اصلاح ميكانيك\",\"اصلاح ميكانيك\",\"اصلاح ميكانيك\",\"اصلاح ميكانيك\",\"اصلاح ميكانيك\",\"اصلاح ميكانيك\",\"اصلاح ميكانيك\",\"اصلاح ميكانيك\",\"اصلاح ميكانيك\",\"اصلاح ميكانيك\",\"اصلاح ميكانيك\",\"اصلاح ميكانيك\",\"اصلاح ميكانيك\",\"اصلاح ميكانيك\",\"اصلاح ميكانيك\",\"اصلاح ميكانيك\",\"اصلاح ميكانيك\",\"اصلاح ميكانيك\",\"اصلاح ميكانيك\",\"اصلاح ميكانيك\",\"اصلاح ميكانيك\",\"اصلاح ميكانيك\",\"اصلاح ميكانيك\",\"اصلاح ميكانيك\",\"اصلاح ميكانيك\",\"اصلاح ميكانيك\",\"اصلاح ميكانيك\",\"اصلاح ميكانيك\",\"اصلاح ميكانيك\",\"اصلاح ميكانيك\",\"اصلاح ميكانيك\",\"اصلاح ميكانيك\",\"اصلاح ميكانيك\",\"اصلاح ميكانيك\",\"اصلاح ميكانيك\",\"اصلاح ميكانيك\",\"اصلاح ميكانيك\",\"اصلاح ميكانيك\",\"اصلاح ميكانيك\",\"اصلاح ميكانيك\",\"اصلاح ميكانيك\",\"اصلاح ميكانيك\",\"اصلاح ميكانيك\",\"اصلاح ميكانيك\",\"اصلاح ميكانيك\",\"اصلاح ميكانيك\",\"اصلاح ميكانيك\",\"اصلاح ميكانيك\",\"اصلاح ميكانيك\",\"اصلاح ميكانيك\",\"اصلاح ميكانيك\",\"اصلاح ميكانيك\",\"اصلاح ميكانيك\",\"اصلاح ميكانيك\",\"اصلاح ميكانيك\",\"اصلاح ميكانيك\",\"اصلاح ميكانيك\",\"اصلاح ميكانيك\",\"اصلاح ميكانيك\",\"اصلاح ميكانيك\",\"اصلاح ميكانيك\",\"اصلاح ميكانيك\",\"اصلاح ميكانيك\",\"اصلاح ميكانيك\",\"اصلاح ميكانيك\",\"اصلاح ميكانيك\",\"اصلاح ميكانيك\",\"اصلاح ميكانيك\",\"اصلاح ميكانيك\",\"اصلاح ميكانيك\",\"اصلاح ميكانيك\",\"اصلاح ميكانيك\",\"اصلاح ميكانيك\",\"اصلاح ميكانيك\",\"اصلاح ميكانيك\",\"اصلاح ميكانيك\",\"اصلاح ميكانيك\",\"اصلاح ميكانيك\",\"اصلاح ميكانيك\",\"اصلاح ميكانيك\",\"اصلاح ميكانيك\",\"اصلاح ميكانيك\",\"اصلاح ميكانيك\",\"اصلاح ميكانيك\",\"اصلاح ميكانيك\",\"اصلاح ميكانيك\",\"اصلاح ميكانيك\",\"اصلاح ميكانيك\",\"اصلاح ميكانيك\",\"اصلاح ميكانيك\",\"اصلاح ميكانيك\",\"اصلاح ميكانيك\",\"اصلاح ميكانيك\",\"اصلاح ميكانيك\",\"اصلاح ميكانيك\",\"اصلاح ميكانيك\",\"اصلاح ميكانيك\",\"اصلاح ميكانيك\",\"اصلاح ميكانيك\",\"اصلاح ميكانيك\",\"اصلاح ميكانيك\",\"اصلاح ميكانيك\",\"اصلاح ميكانيك\",\"اصلاح ميكانيك\",\"اصلاح ميكانيك\",\"اصلاح ميكانيك\",\"اصلاح ميكانيك\",\"اصلاح ميكانيك\",\"اصلاح ميكانيك\",\"اصلاح ميكانيك\",\"اصلاح ميكانيك\",\"اصلاح ميكانيك\",\"اصلاح ميكانيك\",\"اصلاح ميكانيك\",\"اصلاح ميكانيك\",\"اصلاح ميكانيك\",\"اصلاح ميكانيك\",\"اصلاح ميكانيك\",\"اصلاح ميكانيك\",\"اصلاح ميكانيك\",\"اصلاح ميكانيك\",\"اصلاح ميكانيك\",\"اصلاح ميكانيك\",\"اصلاح ميكانيك\",\"اصلاح ميكانيك\",\"اصلاح ميكانيك\",\"اصلاح ميكانيك\",\"اصلاح ميكانيك\",\"اصلاح ميكانيك\",\"اصلاح ميكانيك\",\"اصلاح ميكانيك\",\"اصلاح ميكانيك\",\"اصلاح ميكانيك\",\"اصلاح ميكانيك\",\"اصلاح ميكانيك\",\"اصلاح ميكانيك\",\"اصلاح ميكانيك\",\"اصلاح ميكانيك\",\"اصلاح ميكانيك\",\"اصلاح ميكانيك\",\"اصلاح ميكانيك\",\"اصلاح ميكانيك\",\"اصلاح ميكانيك\",\"اصلاح ميكانيك\",\"اصلاح ميكانيك\",\"اصلاح ميكانيك\",\"اصلاح ميكانيك\",\"اصلاح ميكانيك\",\"اصلاح ميكانيك\",\"اصلاح ميكانيك\",\"اصلاح ميكانيك\",\"اصلاح ميكانيك\",\"اصلاح ميكانيك\",\"اصلاح ميكانيك\",\"اصلاح ميكانيك\",\"اصلاح ميكانيك\",\"اصلاح ميكانيك\",\"اصلاح ميكانيك\",\"اصلاح ميكانيك\",\"اصلاح ميكانيك\",\"اصلاح ميكانيك\",\"اصلاح ميكانيك\",\"اصلاح ميكانيك\",\"اصلاح ميكانيك\",\"اصلاح ميكانيك\",\"اصلاح ميكانيك\",\"اصلاح ميكانيك\",\"اصلاح ميكانيك\",\"اصلاح ميكانيك\",\"اصلاح ميكانيك\",\"اصلاح ميكانيك\",\"اصلاح ميكانيك\",\"اصلاح ميكانيك\",\"اصلاح ميكانيك\",\"اصلاح ميكانيك\",\"اصلاح ميكانيك\",\"اصلاح ميكانيك\",\"اصلاح ميكانيك\",\"اصلاح ميكانيك\",\"اصلاح ميكانيك\",\"اصلاح ميكانيك\",\"اصلاح ميكانيك\",\"اصلاح ميكانيك\",\"اصلاح ميكانيك\",\"اصلاح ميكانيك\",\"اصلاح ميكانيك\",\"اصلاح ميكانيك\",\"اصلاح ميكانيك\",\"اصلاح ميكانيك\",\"اصلاح ميكانيك\",\"اصلاح ميكانيك\",\"اصلاح ميكانيك\",\"اصلاح ميكانيك\",\"اصلاح ميكانيك\",\"اصلاح ميكانيك\",\"اصلاح ميكانيك\",\"اصلاح ميكانيك\",\"اصلاح ميكانيك\",\"اصلاح ميكانيك\",\"اصلاح ميكانيك\",\"اصلاح ميكانيك\",\"اصلاح ميكانيك\",\"اصلاح ميكانيك\",\"اصلاح ميكانيك\",\"اصلاح ميكانيك\",\"اصلاح ميكانيك\",\"اصلاح ميكانيك\",\"اصلاح ميكانيك\",\"اصلاح ميكانيك\"],\"x0\":\" \",\"xaxis\":\"x\",\"y\":[11,6,1,1,1,1,1,1,1,1,1,1,2,1,17,1,1,1,4,1,1,1,1,1,1,1,1,1,1,1,1,1,1,3,1,1,8,70,2,3,1,1,1,1,57,1,2,2,1,1,2,1,1,1,1,1,1,1,1,1,1,1,1,1,1,1,1,1,1,1,1,1,1,1,1,1,1,1,1,1,1,1,1,1,1,1,1,1,1,1,1,1,1,1,1,1,1,1,1,1,1,2,2,2,1,1,1,1,1,1,1,1,1,1,1,1,4,1,4,1,1,1,2,1,1,2,1,1,2,1,1,2,1,1,1,1,2,2,2,1,3,1,1,1,1,2,1,2,3,2,1,1,1,1,2,1,1,1,1,1,1,1,1,1,2,1,1,1,1,2,1,1,1,2,2,1,1,2,1,1,1,1,1,1,1,2,1,1,2,1,1,1,1,1,2,1,1,1,1,1,1,1,1,1,1,1,1,1,1,1,1,1,1,1,1,1,1,1,1,1,1,1,1,1,1,1,1,1,1,1,1,1,1,1,1,1,1,1,1,1,1,1,1,1,1,1,1,1,1,1,1,1,1,1,1,1,1,1,1,1,1,1,1,1,1,1,1,1,1,1,1,1,1,1,3,1,1,1,1,1,1,1,1,1,1,1,1,1,1,1,1,1,1,1,1,1,1,1,1,1,1,1,1,1,1,1,1,1,1,1,1,1,1,1,1,1,1,1,1,1,1,1,1,1,1,1,1,1,1,1,1,1,1,1,1,1,1,1,1,1,1,1,1,1,1,1,1,1,1,1,1,2,1,1,1,1,1,1,1,1,1,1,1,1,1,1,1,1,1,1,1,1,1,1,1,1,1,1,1,1,1,1,1,1,1,1,1,1,1,1,1,1,1,1,1,1,1,1,1,1,1,1,1,1,1,1,1,1,1,1,1,1,1,1,1,1,1,1,1,1,1,1,1,1,1,1,1,1,1,1,1,1,1,1,1,1,1,1,1,1,1,1,1,1,1,1,1,1,1,1,1,1,1,1,1,1,1,1,1,1,1,1,1,1,1,1],\"y0\":\" \",\"yaxis\":\"y\",\"type\":\"box\"},{\"alignmentgroup\":\"True\",\"hovertemplate\":\"damage type=%{x}\\u003cbr\\u003eservice_duration=%{y}\\u003cextra\\u003e\\u003c\\u002fextra\\u003e\",\"legendgroup\":\"غيار زيت\",\"marker\":{\"color\":\"#00cc96\"},\"name\":\"غيار زيت\",\"notched\":false,\"offsetgroup\":\"غيار زيت\",\"orientation\":\"v\",\"showlegend\":true,\"x\":[\"غيار زيت\",\"غيار زيت\",\"غيار زيت\",\"غيار زيت\",\"غيار زيت\",\"غيار زيت\",\"غيار زيت\",\"غيار زيت\",\"غيار زيت\",\"غيار زيت\",\"غيار زيت\",\"غيار زيت\",\"غيار زيت\",\"غيار زيت\",\"غيار زيت\",\"غيار زيت\",\"غيار زيت\",\"غيار زيت\",\"غيار زيت\",\"غيار زيت\",\"غيار زيت\",\"غيار زيت\",\"غيار زيت\",\"غيار زيت\",\"غيار زيت\",\"غيار زيت\",\"غيار زيت\",\"غيار زيت\",\"غيار زيت\",\"غيار زيت\",\"غيار زيت\",\"غيار زيت\",\"غيار زيت\",\"غيار زيت\",\"غيار زيت\",\"غيار زيت\",\"غيار زيت\",\"غيار زيت\",\"غيار زيت\",\"غيار زيت\",\"غيار زيت\",\"غيار زيت\",\"غيار زيت\",\"غيار زيت\",\"غيار زيت\",\"غيار زيت\",\"غيار زيت\",\"غيار زيت\",\"غيار زيت\",\"غيار زيت\",\"غيار زيت\",\"غيار زيت\",\"غيار زيت\",\"غيار زيت\",\"غيار زيت\",\"غيار زيت\",\"غيار زيت\",\"غيار زيت\",\"غيار زيت\",\"غيار زيت\",\"غيار زيت\",\"غيار زيت\",\"غيار زيت\",\"غيار زيت\",\"غيار زيت\",\"غيار زيت\",\"غيار زيت\",\"غيار زيت\",\"غيار زيت\",\"غيار زيت\",\"غيار زيت\",\"غيار زيت\",\"غيار زيت\",\"غيار زيت\",\"غيار زيت\",\"غيار زيت\",\"غيار زيت\",\"غيار زيت\",\"غيار زيت\",\"غيار زيت\",\"غيار زيت\",\"غيار زيت\",\"غيار زيت\",\"غيار زيت\",\"غيار زيت\",\"غيار زيت\",\"غيار زيت\",\"غيار زيت\",\"غيار زيت\",\"غيار زيت\",\"غيار زيت\",\"غيار زيت\",\"غيار زيت\",\"غيار زيت\",\"غيار زيت\",\"غيار زيت\",\"غيار زيت\",\"غيار زيت\",\"غيار زيت\",\"غيار زيت\",\"غيار زيت\",\"غيار زيت\",\"غيار زيت\",\"غيار زيت\",\"غيار زيت\",\"غيار زيت\",\"غيار زيت\",\"غيار زيت\",\"غيار زيت\",\"غيار زيت\",\"غيار زيت\",\"غيار زيت\",\"غيار زيت\",\"غيار زيت\",\"غيار زيت\",\"غيار زيت\",\"غيار زيت\",\"غيار زيت\",\"غيار زيت\",\"غيار زيت\",\"غيار زيت\",\"غيار زيت\",\"غيار زيت\",\"غيار زيت\",\"غيار زيت\",\"غيار زيت\",\"غيار زيت\",\"غيار زيت\",\"غيار زيت\",\"غيار زيت\",\"غيار زيت\",\"غيار زيت\",\"غيار زيت\",\"غيار زيت\",\"غيار زيت\",\"غيار زيت\",\"غيار زيت\",\"غيار زيت\",\"غيار زيت\",\"غيار زيت\",\"غيار زيت\",\"غيار زيت\",\"غيار زيت\",\"غيار زيت\",\"غيار زيت\",\"غيار زيت\",\"غيار زيت\",\"غيار زيت\",\"غيار زيت\",\"غيار زيت\",\"غيار زيت\",\"غيار زيت\",\"غيار زيت\",\"غيار زيت\",\"غيار زيت\",\"غيار زيت\",\"غيار زيت\",\"غيار زيت\",\"غيار زيت\",\"غيار زيت\",\"غيار زيت\",\"غيار زيت\",\"غيار زيت\",\"غيار زيت\",\"غيار زيت\",\"غيار زيت\",\"غيار زيت\",\"غيار زيت\",\"غيار زيت\",\"غيار زيت\",\"غيار زيت\",\"غيار زيت\",\"غيار زيت\",\"غيار زيت\",\"غيار زيت\",\"غيار زيت\",\"غيار زيت\",\"غيار زيت\",\"غيار زيت\",\"غيار زيت\",\"غيار زيت\",\"غيار زيت\",\"غيار زيت\",\"غيار زيت\",\"غيار زيت\",\"غيار زيت\",\"غيار زيت\",\"غيار زيت\",\"غيار زيت\",\"غيار زيت\",\"غيار زيت\",\"غيار زيت\",\"غيار زيت\",\"غيار زيت\",\"غيار زيت\",\"غيار زيت\",\"غيار زيت\",\"غيار زيت\",\"غيار زيت\",\"غيار زيت\",\"غيار زيت\",\"غيار زيت\",\"غيار زيت\",\"غيار زيت\",\"غيار زيت\",\"غيار زيت\",\"غيار زيت\",\"غيار زيت\",\"غيار زيت\",\"غيار زيت\",\"غيار زيت\",\"غيار زيت\",\"غيار زيت\",\"غيار زيت\",\"غيار زيت\",\"غيار زيت\",\"غيار زيت\",\"غيار زيت\",\"غيار زيت\",\"غيار زيت\",\"غيار زيت\",\"غيار زيت\",\"غيار زيت\",\"غيار زيت\",\"غيار زيت\",\"غيار زيت\",\"غيار زيت\",\"غيار زيت\",\"غيار زيت\",\"غيار زيت\",\"غيار زيت\",\"غيار زيت\",\"غيار زيت\",\"غيار زيت\",\"غيار زيت\",\"غيار زيت\",\"غيار زيت\",\"غيار زيت\",\"غيار زيت\",\"غيار زيت\",\"غيار زيت\",\"غيار زيت\",\"غيار زيت\",\"غيار زيت\",\"غيار زيت\",\"غيار زيت\",\"غيار زيت\",\"غيار زيت\",\"غيار زيت\",\"غيار زيت\",\"غيار زيت\",\"غيار زيت\",\"غيار زيت\",\"غيار زيت\",\"غيار زيت\",\"غيار زيت\",\"غيار زيت\",\"غيار زيت\",\"غيار زيت\",\"غيار زيت\",\"غيار زيت\",\"غيار زيت\",\"غيار زيت\",\"غيار زيت\",\"غيار زيت\",\"غيار زيت\",\"غيار زيت\",\"غيار زيت\",\"غيار زيت\",\"غيار زيت\",\"غيار زيت\",\"غيار زيت\",\"غيار زيت\",\"غيار زيت\",\"غيار زيت\",\"غيار زيت\",\"غيار زيت\",\"غيار زيت\",\"غيار زيت\",\"غيار زيت\",\"غيار زيت\",\"غيار زيت\",\"غيار زيت\",\"غيار زيت\",\"غيار زيت\",\"غيار زيت\",\"غيار زيت\",\"غيار زيت\",\"غيار زيت\",\"غيار زيت\",\"غيار زيت\",\"غيار زيت\",\"غيار زيت\",\"غيار زيت\",\"غيار زيت\",\"غيار زيت\",\"غيار زيت\",\"غيار زيت\",\"غيار زيت\",\"غيار زيت\",\"غيار زيت\",\"غيار زيت\",\"غيار زيت\",\"غيار زيت\",\"غيار زيت\",\"غيار زيت\",\"غيار زيت\",\"غيار زيت\",\"غيار زيت\",\"غيار زيت\",\"غيار زيت\",\"غيار زيت\",\"غيار زيت\",\"غيار زيت\",\"غيار زيت\",\"غيار زيت\",\"غيار زيت\",\"غيار زيت\",\"غيار زيت\",\"غيار زيت\",\"غيار زيت\",\"غيار زيت\",\"غيار زيت\",\"غيار زيت\",\"غيار زيت\",\"غيار زيت\",\"غيار زيت\",\"غيار زيت\",\"غيار زيت\",\"غيار زيت\",\"غيار زيت\",\"غيار زيت\",\"غيار زيت\",\"غيار زيت\",\"غيار زيت\",\"غيار زيت\",\"غيار زيت\",\"غيار زيت\",\"غيار زيت\",\"غيار زيت\",\"غيار زيت\",\"غيار زيت\",\"غيار زيت\",\"غيار زيت\",\"غيار زيت\",\"غيار زيت\",\"غيار زيت\",\"غيار زيت\",\"غيار زيت\",\"غيار زيت\",\"غيار زيت\",\"غيار زيت\",\"غيار زيت\",\"غيار زيت\",\"غيار زيت\",\"غيار زيت\",\"غيار زيت\",\"غيار زيت\",\"غيار زيت\",\"غيار زيت\",\"غيار زيت\",\"غيار زيت\",\"غيار زيت\",\"غيار زيت\",\"غيار زيت\",\"غيار زيت\",\"غيار زيت\",\"غيار زيت\",\"غيار زيت\",\"غيار زيت\",\"غيار زيت\",\"غيار زيت\",\"غيار زيت\",\"غيار زيت\",\"غيار زيت\",\"غيار زيت\",\"غيار زيت\",\"غيار زيت\",\"غيار زيت\",\"غيار زيت\",\"غيار زيت\",\"غيار زيت\",\"غيار زيت\",\"غيار زيت\",\"غيار زيت\",\"غيار زيت\",\"غيار زيت\",\"غيار زيت\",\"غيار زيت\",\"غيار زيت\",\"غيار زيت\",\"غيار زيت\",\"غيار زيت\",\"غيار زيت\",\"غيار زيت\",\"غيار زيت\",\"غيار زيت\",\"غيار زيت\",\"غيار زيت\",\"غيار زيت\",\"غيار زيت\",\"غيار زيت\",\"غيار زيت\",\"غيار زيت\",\"غيار زيت\",\"غيار زيت\",\"غيار زيت\",\"غيار زيت\",\"غيار زيت\",\"غيار زيت\",\"غيار زيت\",\"غيار زيت\",\"غيار زيت\",\"غيار زيت\",\"غيار زيت\",\"غيار زيت\",\"غيار زيت\",\"غيار زيت\",\"غيار زيت\",\"غيار زيت\",\"غيار زيت\",\"غيار زيت\",\"غيار زيت\",\"غيار زيت\",\"غيار زيت\",\"غيار زيت\",\"غيار زيت\",\"غيار زيت\",\"غيار زيت\",\"غيار زيت\",\"غيار زيت\",\"غيار زيت\",\"غيار زيت\",\"غيار زيت\",\"غيار زيت\",\"غيار زيت\",\"غيار زيت\",\"غيار زيت\",\"غيار زيت\",\"غيار زيت\",\"غيار زيت\",\"غيار زيت\",\"غيار زيت\",\"غيار زيت\",\"غيار زيت\",\"غيار زيت\",\"غيار زيت\",\"غيار زيت\",\"غيار زيت\",\"غيار زيت\",\"غيار زيت\",\"غيار زيت\",\"غيار زيت\",\"غيار زيت\",\"غيار زيت\",\"غيار زيت\",\"غيار زيت\",\"غيار زيت\",\"غيار زيت\",\"غيار زيت\",\"غيار زيت\",\"غيار زيت\",\"غيار زيت\",\"غيار زيت\",\"غيار زيت\",\"غيار زيت\",\"غيار زيت\",\"غيار زيت\",\"غيار زيت\",\"غيار زيت\",\"غيار زيت\",\"غيار زيت\",\"غيار زيت\",\"غيار زيت\",\"غيار زيت\",\"غيار زيت\",\"غيار زيت\",\"غيار زيت\",\"غيار زيت\",\"غيار زيت\",\"غيار زيت\",\"غيار زيت\",\"غيار زيت\",\"غيار زيت\",\"غيار زيت\",\"غيار زيت\",\"غيار زيت\",\"غيار زيت\",\"غيار زيت\",\"غيار زيت\",\"غيار زيت\",\"غيار زيت\",\"غيار زيت\",\"غيار زيت\",\"غيار زيت\",\"غيار زيت\",\"غيار زيت\",\"غيار زيت\",\"غيار زيت\",\"غيار زيت\",\"غيار زيت\",\"غيار زيت\",\"غيار زيت\",\"غيار زيت\",\"غيار زيت\",\"غيار زيت\",\"غيار زيت\",\"غيار زيت\",\"غيار زيت\",\"غيار زيت\",\"غيار زيت\",\"غيار زيت\",\"غيار زيت\",\"غيار زيت\",\"غيار زيت\",\"غيار زيت\",\"غيار زيت\",\"غيار زيت\",\"غيار زيت\",\"غيار زيت\",\"غيار زيت\",\"غيار زيت\",\"غيار زيت\",\"غيار زيت\",\"غيار زيت\",\"غيار زيت\",\"غيار زيت\",\"غيار زيت\",\"غيار زيت\",\"غيار زيت\",\"غيار زيت\",\"غيار زيت\",\"غيار زيت\",\"غيار زيت\",\"غيار زيت\",\"غيار زيت\",\"غيار زيت\",\"غيار زيت\",\"غيار زيت\",\"غيار زيت\",\"غيار زيت\",\"غيار زيت\",\"غيار زيت\",\"غيار زيت\",\"غيار زيت\",\"غيار زيت\",\"غيار زيت\",\"غيار زيت\",\"غيار زيت\",\"غيار زيت\",\"غيار زيت\",\"غيار زيت\",\"غيار زيت\",\"غيار زيت\",\"غيار زيت\",\"غيار زيت\",\"غيار زيت\",\"غيار زيت\",\"غيار زيت\",\"غيار زيت\",\"غيار زيت\",\"غيار زيت\",\"غيار زيت\",\"غيار زيت\",\"غيار زيت\",\"غيار زيت\",\"غيار زيت\",\"غيار زيت\",\"غيار زيت\",\"غيار زيت\",\"غيار زيت\",\"غيار زيت\",\"غيار زيت\",\"غيار زيت\",\"غيار زيت\",\"غيار زيت\",\"غيار زيت\",\"غيار زيت\",\"غيار زيت\",\"غيار زيت\",\"غيار زيت\",\"غيار زيت\",\"غيار زيت\",\"غيار زيت\",\"غيار زيت\",\"غيار زيت\",\"غيار زيت\",\"غيار زيت\",\"غيار زيت\",\"غيار زيت\",\"غيار زيت\",\"غيار زيت\",\"غيار زيت\",\"غيار زيت\"],\"x0\":\" \",\"xaxis\":\"x\",\"y\":[6,1,1,1,1,1,1,1,1,1,1,1,1,1,1,1,1,1,1,1,1,1,1,1,1,1,1,1,1,1,1,1,1,1,1,1,1,1,1,1,1,1,1,1,1,1,1,1,1,1,1,1,1,1,1,1,1,1,1,1,1,1,1,1,1,1,1,1,1,1,1,1,1,1,1,1,1,1,1,1,1,1,1,1,1,1,1,1,1,1,1,1,1,1,1,1,1,1,2,1,1,1,1,1,1,1,1,1,1,1,1,1,1,1,1,1,1,1,1,1,1,1,1,1,1,1,1,1,1,1,1,1,1,1,1,1,1,1,1,1,1,1,1,1,1,1,1,1,1,1,1,1,1,1,1,1,1,1,1,1,1,1,1,1,1,1,1,1,1,1,2,1,1,1,1,1,1,1,1,1,1,1,1,1,1,1,1,1,1,1,1,1,1,1,1,1,1,1,1,1,1,1,1,1,1,1,1,1,1,1,1,1,1,1,1,1,1,1,1,2,1,1,1,1,1,1,1,1,1,1,1,1,1,1,1,1,1,1,1,1,1,1,1,1,1,1,1,1,1,1,1,1,1,1,1,1,1,1,1,1,1,1,1,1,1,1,1,1,1,1,1,1,1,1,1,1,1,1,1,1,1,1,1,1,1,1,1,1,1,1,1,1,1,1,1,1,1,1,1,1,1,1,1,1,1,1,1,1,1,1,1,1,1,1,1,1,1,1,1,1,1,1,1,1,1,1,1,1,1,1,1,1,1,1,1,1,1,1,1,1,1,1,1,1,7,1,1,1,1,1,1,1,1,1,1,1,1,1,1,1,1,1,1,1,1,1,1,1,1,1,1,1,1,1,1,1,1,1,1,1,1,1,1,1,1,1,1,1,1,1,1,1,1,1,1,1,1,1,1,1,1,1,1,1,1,1,1,1,1,1,1,1,1,1,1,1,1,1,1,1,1,1,1,1,1,1,1,1,1,1,1,1,1,1,1,1,1,1,1,1,1,1,1,1,1,1,1,1,1,1,1,1,1,1,1,1,1,1,1,1,1,1,1,1,1,1,1,1,1,1,1,1,1,1,1,1,1,1,1,1,1,1,1,1,1,1,1,1,1,1,1,1,1,1,1,1,1,1,1,1,1,1,1,1,1,1,1,1,1,1,1,1,1,1,1,1,1,1,1,1,1,1,1,1,1,1,1,1,1,1,1,1,1,1,1,1,1,1,1,1,1,1,1,1,1,1,1,1,1,1,1,1,1,1,1,1,1,1,1,1,1,1,1,1,1,1,1,1,1,1,1,1,1,1,1,1,1,1,1,1,1,1,1,1,1,1,1,1,1,1,1,1,1,1],\"y0\":\" \",\"yaxis\":\"y\",\"type\":\"box\"},{\"alignmentgroup\":\"True\",\"hovertemplate\":\"damage type=%{x}\\u003cbr\\u003eservice_duration=%{y}\\u003cextra\\u003e\\u003c\\u002fextra\\u003e\",\"legendgroup\":\"اصلاح كوشوك\",\"marker\":{\"color\":\"#ab63fa\"},\"name\":\"اصلاح كوشوك\",\"notched\":false,\"offsetgroup\":\"اصلاح كوشوك\",\"orientation\":\"v\",\"showlegend\":true,\"x\":[\"اصلاح كوشوك\",\"اصلاح كوشوك\",\"اصلاح كوشوك\",\"اصلاح كوشوك\",\"اصلاح كوشوك\",\"اصلاح كوشوك\",\"اصلاح كوشوك\",\"اصلاح كوشوك\",\"اصلاح كوشوك\",\"اصلاح كوشوك\",\"اصلاح كوشوك\",\"اصلاح كوشوك\",\"اصلاح كوشوك\",\"اصلاح كوشوك\",\"اصلاح كوشوك\",\"اصلاح كوشوك\",\"اصلاح كوشوك\",\"اصلاح كوشوك\",\"اصلاح كوشوك\",\"اصلاح كوشوك\",\"اصلاح كوشوك\",\"اصلاح كوشوك\",\"اصلاح كوشوك\",\"اصلاح كوشوك\",\"اصلاح كوشوك\",\"اصلاح كوشوك\",\"اصلاح كوشوك\",\"اصلاح كوشوك\",\"اصلاح كوشوك\",\"اصلاح كوشوك\",\"اصلاح كوشوك\",\"اصلاح كوشوك\",\"اصلاح كوشوك\",\"اصلاح كوشوك\",\"اصلاح كوشوك\",\"اصلاح كوشوك\",\"اصلاح كوشوك\",\"اصلاح كوشوك\",\"اصلاح كوشوك\",\"اصلاح كوشوك\",\"اصلاح كوشوك\",\"اصلاح كوشوك\",\"اصلاح كوشوك\",\"اصلاح كوشوك\",\"اصلاح كوشوك\",\"اصلاح كوشوك\",\"اصلاح كوشوك\",\"اصلاح كوشوك\",\"اصلاح كوشوك\",\"اصلاح كوشوك\",\"اصلاح كوشوك\",\"اصلاح كوشوك\",\"اصلاح كوشوك\",\"اصلاح كوشوك\",\"اصلاح كوشوك\",\"اصلاح كوشوك\",\"اصلاح كوشوك\",\"اصلاح كوشوك\",\"اصلاح كوشوك\",\"اصلاح كوشوك\",\"اصلاح كوشوك\",\"اصلاح كوشوك\",\"اصلاح كوشوك\",\"اصلاح كوشوك\",\"اصلاح كوشوك\",\"اصلاح كوشوك\",\"اصلاح كوشوك\",\"اصلاح كوشوك\",\"اصلاح كوشوك\",\"اصلاح كوشوك\",\"اصلاح كوشوك\",\"اصلاح كوشوك\",\"اصلاح كوشوك\",\"اصلاح كوشوك\",\"اصلاح كوشوك\",\"اصلاح كوشوك\",\"اصلاح كوشوك\",\"اصلاح كوشوك\",\"اصلاح كوشوك\",\"اصلاح كوشوك\",\"اصلاح كوشوك\",\"اصلاح كوشوك\",\"اصلاح كوشوك\",\"اصلاح كوشوك\",\"اصلاح كوشوك\",\"اصلاح كوشوك\",\"اصلاح كوشوك\",\"اصلاح كوشوك\",\"اصلاح كوشوك\",\"اصلاح كوشوك\",\"اصلاح كوشوك\",\"اصلاح كوشوك\",\"اصلاح كوشوك\",\"اصلاح كوشوك\",\"اصلاح كوشوك\",\"اصلاح كوشوك\",\"اصلاح كوشوك\",\"اصلاح كوشوك\",\"اصلاح كوشوك\",\"اصلاح كوشوك\",\"اصلاح كوشوك\",\"اصلاح كوشوك\",\"اصلاح كوشوك\",\"اصلاح كوشوك\",\"اصلاح كوشوك\",\"اصلاح كوشوك\",\"اصلاح كوشوك\",\"اصلاح كوشوك\",\"اصلاح كوشوك\",\"اصلاح كوشوك\",\"اصلاح كوشوك\",\"اصلاح كوشوك\",\"اصلاح كوشوك\",\"اصلاح كوشوك\",\"اصلاح كوشوك\",\"اصلاح كوشوك\",\"اصلاح كوشوك\",\"اصلاح كوشوك\",\"اصلاح كوشوك\",\"اصلاح كوشوك\",\"اصلاح كوشوك\",\"اصلاح كوشوك\",\"اصلاح كوشوك\",\"اصلاح كوشوك\"],\"x0\":\" \",\"xaxis\":\"x\",\"y\":[1,1,1,1,1,1,1,1,1,4,1,1,1,1,1,1,1,1,1,1,1,1,1,32,1,1,1,1,1,1,1,1,1,1,1,1,1,1,1,1,1,1,1,1,1,1,1,1,1,1,1,1,1,1,1,1,1,1,1,1,1,1,1,1,1,1,1,1,1,1,1,1,1,1,1,1,1,1,1,1,1,1,1,1,1,1,1,1,1,1,1,1,1,1,1,1,1,1,1,1,1,1,1,1,1,1,1,1,1,1,1,1,1,1,1,1,1,1,1,1,1,1,1,1],\"y0\":\" \",\"yaxis\":\"y\",\"type\":\"box\"},{\"alignmentgroup\":\"True\",\"hovertemplate\":\"damage type=%{x}\\u003cbr\\u003eservice_duration=%{y}\\u003cextra\\u003e\\u003c\\u002fextra\\u003e\",\"legendgroup\":\"اصلاح زجاج\",\"marker\":{\"color\":\"#FFA15A\"},\"name\":\"اصلاح زجاج\",\"notched\":false,\"offsetgroup\":\"اصلاح زجاج\",\"orientation\":\"v\",\"showlegend\":true,\"x\":[\"اصلاح زجاج\",\"اصلاح زجاج\",\"اصلاح زجاج\",\"اصلاح زجاج\",\"اصلاح زجاج\",\"اصلاح زجاج\",\"اصلاح زجاج\",\"اصلاح زجاج\",\"اصلاح زجاج\",\"اصلاح زجاج\",\"اصلاح زجاج\",\"اصلاح زجاج\",\"اصلاح زجاج\",\"اصلاح زجاج\",\"اصلاح زجاج\",\"اصلاح زجاج\",\"اصلاح زجاج\",\"اصلاح زجاج\",\"اصلاح زجاج\",\"اصلاح زجاج\",\"اصلاح زجاج\"],\"x0\":\" \",\"xaxis\":\"x\",\"y\":[2,1,1,1,1,1,1,1,1,1,1,1,1,1,1,1,1,1,1,1,1],\"y0\":\" \",\"yaxis\":\"y\",\"type\":\"box\"},{\"alignmentgroup\":\"True\",\"hovertemplate\":\"damage type=%{x}\\u003cbr\\u003eservice_duration=%{y}\\u003cextra\\u003e\\u003c\\u002fextra\\u003e\",\"legendgroup\":\"اصلاح كهرباء\",\"marker\":{\"color\":\"#19d3f3\"},\"name\":\"اصلاح كهرباء\",\"notched\":false,\"offsetgroup\":\"اصلاح كهرباء\",\"orientation\":\"v\",\"showlegend\":true,\"x\":[\"اصلاح كهرباء\",\"اصلاح كهرباء\",\"اصلاح كهرباء\",\"اصلاح كهرباء\",\"اصلاح كهرباء\",\"اصلاح كهرباء\",\"اصلاح كهرباء\",\"اصلاح كهرباء\",\"اصلاح كهرباء\",\"اصلاح كهرباء\",\"اصلاح كهرباء\",\"اصلاح كهرباء\",\"اصلاح كهرباء\",\"اصلاح كهرباء\",\"اصلاح كهرباء\",\"اصلاح كهرباء\",\"اصلاح كهرباء\",\"اصلاح كهرباء\",\"اصلاح كهرباء\",\"اصلاح كهرباء\",\"اصلاح كهرباء\",\"اصلاح كهرباء\",\"اصلاح كهرباء\",\"اصلاح كهرباء\",\"اصلاح كهرباء\",\"اصلاح كهرباء\",\"اصلاح كهرباء\",\"اصلاح كهرباء\",\"اصلاح كهرباء\",\"اصلاح كهرباء\",\"اصلاح كهرباء\",\"اصلاح كهرباء\",\"اصلاح كهرباء\",\"اصلاح كهرباء\",\"اصلاح كهرباء\",\"اصلاح كهرباء\",\"اصلاح كهرباء\",\"اصلاح كهرباء\",\"اصلاح كهرباء\",\"اصلاح كهرباء\",\"اصلاح كهرباء\",\"اصلاح كهرباء\",\"اصلاح كهرباء\",\"اصلاح كهرباء\",\"اصلاح كهرباء\",\"اصلاح كهرباء\"],\"x0\":\" \",\"xaxis\":\"x\",\"y\":[1,10,13,2,1,1,1,1,1,3,1,1,1,1,1,1,1,1,1,1,1,1,1,1,1,1,1,1,1,1,1,1,1,1,1,1,1,1,1,17,1,1,1,1,1,1],\"y0\":\" \",\"yaxis\":\"y\",\"type\":\"box\"},{\"alignmentgroup\":\"True\",\"hovertemplate\":\"damage type=%{x}\\u003cbr\\u003eservice_duration=%{y}\\u003cextra\\u003e\\u003c\\u002fextra\\u003e\",\"legendgroup\":\"اصلاح فرش\",\"marker\":{\"color\":\"#FF6692\"},\"name\":\"اصلاح فرش\",\"notched\":false,\"offsetgroup\":\"اصلاح فرش\",\"orientation\":\"v\",\"showlegend\":true,\"x\":[\"اصلاح فرش\",\"اصلاح فرش\",\"اصلاح فرش\",\"اصلاح فرش\",\"اصلاح فرش\",\"اصلاح فرش\",\"اصلاح فرش\",\"اصلاح فرش\",\"اصلاح فرش\",\"اصلاح فرش\",\"اصلاح فرش\",\"اصلاح فرش\",\"اصلاح فرش\",\"اصلاح فرش\",\"اصلاح فرش\",\"اصلاح فرش\",\"اصلاح فرش\",\"اصلاح فرش\",\"اصلاح فرش\"],\"x0\":\" \",\"xaxis\":\"x\",\"y\":[2,2,2,4,3,3,1,1,1,1,1,1,1,1,1,1,1,1,2],\"y0\":\" \",\"yaxis\":\"y\",\"type\":\"box\"}],                        {\"template\":{\"data\":{\"histogram2dcontour\":[{\"type\":\"histogram2dcontour\",\"colorbar\":{\"outlinewidth\":0,\"ticks\":\"\"},\"colorscale\":[[0.0,\"#0d0887\"],[0.1111111111111111,\"#46039f\"],[0.2222222222222222,\"#7201a8\"],[0.3333333333333333,\"#9c179e\"],[0.4444444444444444,\"#bd3786\"],[0.5555555555555556,\"#d8576b\"],[0.6666666666666666,\"#ed7953\"],[0.7777777777777778,\"#fb9f3a\"],[0.8888888888888888,\"#fdca26\"],[1.0,\"#f0f921\"]]}],\"choropleth\":[{\"type\":\"choropleth\",\"colorbar\":{\"outlinewidth\":0,\"ticks\":\"\"}}],\"histogram2d\":[{\"type\":\"histogram2d\",\"colorbar\":{\"outlinewidth\":0,\"ticks\":\"\"},\"colorscale\":[[0.0,\"#0d0887\"],[0.1111111111111111,\"#46039f\"],[0.2222222222222222,\"#7201a8\"],[0.3333333333333333,\"#9c179e\"],[0.4444444444444444,\"#bd3786\"],[0.5555555555555556,\"#d8576b\"],[0.6666666666666666,\"#ed7953\"],[0.7777777777777778,\"#fb9f3a\"],[0.8888888888888888,\"#fdca26\"],[1.0,\"#f0f921\"]]}],\"heatmap\":[{\"type\":\"heatmap\",\"colorbar\":{\"outlinewidth\":0,\"ticks\":\"\"},\"colorscale\":[[0.0,\"#0d0887\"],[0.1111111111111111,\"#46039f\"],[0.2222222222222222,\"#7201a8\"],[0.3333333333333333,\"#9c179e\"],[0.4444444444444444,\"#bd3786\"],[0.5555555555555556,\"#d8576b\"],[0.6666666666666666,\"#ed7953\"],[0.7777777777777778,\"#fb9f3a\"],[0.8888888888888888,\"#fdca26\"],[1.0,\"#f0f921\"]]}],\"heatmapgl\":[{\"type\":\"heatmapgl\",\"colorbar\":{\"outlinewidth\":0,\"ticks\":\"\"},\"colorscale\":[[0.0,\"#0d0887\"],[0.1111111111111111,\"#46039f\"],[0.2222222222222222,\"#7201a8\"],[0.3333333333333333,\"#9c179e\"],[0.4444444444444444,\"#bd3786\"],[0.5555555555555556,\"#d8576b\"],[0.6666666666666666,\"#ed7953\"],[0.7777777777777778,\"#fb9f3a\"],[0.8888888888888888,\"#fdca26\"],[1.0,\"#f0f921\"]]}],\"contourcarpet\":[{\"type\":\"contourcarpet\",\"colorbar\":{\"outlinewidth\":0,\"ticks\":\"\"}}],\"contour\":[{\"type\":\"contour\",\"colorbar\":{\"outlinewidth\":0,\"ticks\":\"\"},\"colorscale\":[[0.0,\"#0d0887\"],[0.1111111111111111,\"#46039f\"],[0.2222222222222222,\"#7201a8\"],[0.3333333333333333,\"#9c179e\"],[0.4444444444444444,\"#bd3786\"],[0.5555555555555556,\"#d8576b\"],[0.6666666666666666,\"#ed7953\"],[0.7777777777777778,\"#fb9f3a\"],[0.8888888888888888,\"#fdca26\"],[1.0,\"#f0f921\"]]}],\"surface\":[{\"type\":\"surface\",\"colorbar\":{\"outlinewidth\":0,\"ticks\":\"\"},\"colorscale\":[[0.0,\"#0d0887\"],[0.1111111111111111,\"#46039f\"],[0.2222222222222222,\"#7201a8\"],[0.3333333333333333,\"#9c179e\"],[0.4444444444444444,\"#bd3786\"],[0.5555555555555556,\"#d8576b\"],[0.6666666666666666,\"#ed7953\"],[0.7777777777777778,\"#fb9f3a\"],[0.8888888888888888,\"#fdca26\"],[1.0,\"#f0f921\"]]}],\"mesh3d\":[{\"type\":\"mesh3d\",\"colorbar\":{\"outlinewidth\":0,\"ticks\":\"\"}}],\"scatter\":[{\"fillpattern\":{\"fillmode\":\"overlay\",\"size\":10,\"solidity\":0.2},\"type\":\"scatter\"}],\"parcoords\":[{\"type\":\"parcoords\",\"line\":{\"colorbar\":{\"outlinewidth\":0,\"ticks\":\"\"}}}],\"scatterpolargl\":[{\"type\":\"scatterpolargl\",\"marker\":{\"colorbar\":{\"outlinewidth\":0,\"ticks\":\"\"}}}],\"bar\":[{\"error_x\":{\"color\":\"#2a3f5f\"},\"error_y\":{\"color\":\"#2a3f5f\"},\"marker\":{\"line\":{\"color\":\"#E5ECF6\",\"width\":0.5},\"pattern\":{\"fillmode\":\"overlay\",\"size\":10,\"solidity\":0.2}},\"type\":\"bar\"}],\"scattergeo\":[{\"type\":\"scattergeo\",\"marker\":{\"colorbar\":{\"outlinewidth\":0,\"ticks\":\"\"}}}],\"scatterpolar\":[{\"type\":\"scatterpolar\",\"marker\":{\"colorbar\":{\"outlinewidth\":0,\"ticks\":\"\"}}}],\"histogram\":[{\"marker\":{\"pattern\":{\"fillmode\":\"overlay\",\"size\":10,\"solidity\":0.2}},\"type\":\"histogram\"}],\"scattergl\":[{\"type\":\"scattergl\",\"marker\":{\"colorbar\":{\"outlinewidth\":0,\"ticks\":\"\"}}}],\"scatter3d\":[{\"type\":\"scatter3d\",\"line\":{\"colorbar\":{\"outlinewidth\":0,\"ticks\":\"\"}},\"marker\":{\"colorbar\":{\"outlinewidth\":0,\"ticks\":\"\"}}}],\"scattermapbox\":[{\"type\":\"scattermapbox\",\"marker\":{\"colorbar\":{\"outlinewidth\":0,\"ticks\":\"\"}}}],\"scatterternary\":[{\"type\":\"scatterternary\",\"marker\":{\"colorbar\":{\"outlinewidth\":0,\"ticks\":\"\"}}}],\"scattercarpet\":[{\"type\":\"scattercarpet\",\"marker\":{\"colorbar\":{\"outlinewidth\":0,\"ticks\":\"\"}}}],\"carpet\":[{\"aaxis\":{\"endlinecolor\":\"#2a3f5f\",\"gridcolor\":\"white\",\"linecolor\":\"white\",\"minorgridcolor\":\"white\",\"startlinecolor\":\"#2a3f5f\"},\"baxis\":{\"endlinecolor\":\"#2a3f5f\",\"gridcolor\":\"white\",\"linecolor\":\"white\",\"minorgridcolor\":\"white\",\"startlinecolor\":\"#2a3f5f\"},\"type\":\"carpet\"}],\"table\":[{\"cells\":{\"fill\":{\"color\":\"#EBF0F8\"},\"line\":{\"color\":\"white\"}},\"header\":{\"fill\":{\"color\":\"#C8D4E3\"},\"line\":{\"color\":\"white\"}},\"type\":\"table\"}],\"barpolar\":[{\"marker\":{\"line\":{\"color\":\"#E5ECF6\",\"width\":0.5},\"pattern\":{\"fillmode\":\"overlay\",\"size\":10,\"solidity\":0.2}},\"type\":\"barpolar\"}],\"pie\":[{\"automargin\":true,\"type\":\"pie\"}]},\"layout\":{\"autotypenumbers\":\"strict\",\"colorway\":[\"#636efa\",\"#EF553B\",\"#00cc96\",\"#ab63fa\",\"#FFA15A\",\"#19d3f3\",\"#FF6692\",\"#B6E880\",\"#FF97FF\",\"#FECB52\"],\"font\":{\"color\":\"#2a3f5f\"},\"hovermode\":\"closest\",\"hoverlabel\":{\"align\":\"left\"},\"paper_bgcolor\":\"white\",\"plot_bgcolor\":\"#E5ECF6\",\"polar\":{\"bgcolor\":\"#E5ECF6\",\"angularaxis\":{\"gridcolor\":\"white\",\"linecolor\":\"white\",\"ticks\":\"\"},\"radialaxis\":{\"gridcolor\":\"white\",\"linecolor\":\"white\",\"ticks\":\"\"}},\"ternary\":{\"bgcolor\":\"#E5ECF6\",\"aaxis\":{\"gridcolor\":\"white\",\"linecolor\":\"white\",\"ticks\":\"\"},\"baxis\":{\"gridcolor\":\"white\",\"linecolor\":\"white\",\"ticks\":\"\"},\"caxis\":{\"gridcolor\":\"white\",\"linecolor\":\"white\",\"ticks\":\"\"}},\"coloraxis\":{\"colorbar\":{\"outlinewidth\":0,\"ticks\":\"\"}},\"colorscale\":{\"sequential\":[[0.0,\"#0d0887\"],[0.1111111111111111,\"#46039f\"],[0.2222222222222222,\"#7201a8\"],[0.3333333333333333,\"#9c179e\"],[0.4444444444444444,\"#bd3786\"],[0.5555555555555556,\"#d8576b\"],[0.6666666666666666,\"#ed7953\"],[0.7777777777777778,\"#fb9f3a\"],[0.8888888888888888,\"#fdca26\"],[1.0,\"#f0f921\"]],\"sequentialminus\":[[0.0,\"#0d0887\"],[0.1111111111111111,\"#46039f\"],[0.2222222222222222,\"#7201a8\"],[0.3333333333333333,\"#9c179e\"],[0.4444444444444444,\"#bd3786\"],[0.5555555555555556,\"#d8576b\"],[0.6666666666666666,\"#ed7953\"],[0.7777777777777778,\"#fb9f3a\"],[0.8888888888888888,\"#fdca26\"],[1.0,\"#f0f921\"]],\"diverging\":[[0,\"#8e0152\"],[0.1,\"#c51b7d\"],[0.2,\"#de77ae\"],[0.3,\"#f1b6da\"],[0.4,\"#fde0ef\"],[0.5,\"#f7f7f7\"],[0.6,\"#e6f5d0\"],[0.7,\"#b8e186\"],[0.8,\"#7fbc41\"],[0.9,\"#4d9221\"],[1,\"#276419\"]]},\"xaxis\":{\"gridcolor\":\"white\",\"linecolor\":\"white\",\"ticks\":\"\",\"title\":{\"standoff\":15},\"zerolinecolor\":\"white\",\"automargin\":true,\"zerolinewidth\":2},\"yaxis\":{\"gridcolor\":\"white\",\"linecolor\":\"white\",\"ticks\":\"\",\"title\":{\"standoff\":15},\"zerolinecolor\":\"white\",\"automargin\":true,\"zerolinewidth\":2},\"scene\":{\"xaxis\":{\"backgroundcolor\":\"#E5ECF6\",\"gridcolor\":\"white\",\"linecolor\":\"white\",\"showbackground\":true,\"ticks\":\"\",\"zerolinecolor\":\"white\",\"gridwidth\":2},\"yaxis\":{\"backgroundcolor\":\"#E5ECF6\",\"gridcolor\":\"white\",\"linecolor\":\"white\",\"showbackground\":true,\"ticks\":\"\",\"zerolinecolor\":\"white\",\"gridwidth\":2},\"zaxis\":{\"backgroundcolor\":\"#E5ECF6\",\"gridcolor\":\"white\",\"linecolor\":\"white\",\"showbackground\":true,\"ticks\":\"\",\"zerolinecolor\":\"white\",\"gridwidth\":2}},\"shapedefaults\":{\"line\":{\"color\":\"#2a3f5f\"}},\"annotationdefaults\":{\"arrowcolor\":\"#2a3f5f\",\"arrowhead\":0,\"arrowwidth\":1},\"geo\":{\"bgcolor\":\"white\",\"landcolor\":\"#E5ECF6\",\"subunitcolor\":\"white\",\"showland\":true,\"showlakes\":true,\"lakecolor\":\"white\"},\"title\":{\"x\":0.05},\"mapbox\":{\"style\":\"light\"}}},\"xaxis\":{\"anchor\":\"y\",\"domain\":[0.0,1.0],\"title\":{\"text\":\"damage type\"},\"categoryorder\":\"array\",\"categoryarray\":[\"اصلاح بودي\",\"اصلاح ميكانيك\",\"غيار زيت\",\"اصلاح كوشوك\",\"اصلاح زجاج\",\"اصلاح كهرباء\",\"اصلاح فرش\"]},\"yaxis\":{\"anchor\":\"x\",\"domain\":[0.0,1.0],\"title\":{\"text\":\"service_duration\"}},\"legend\":{\"title\":{\"text\":\"damage type\"},\"tracegroupgap\":0},\"title\":{\"text\":\"Service Duration distributed within each damage type\",\"x\":0.5},\"boxmode\":\"overlay\"},                        {\"responsive\": true}                    ).then(function(){\n",
       "                            \n",
       "var gd = document.getElementById('7a1b14a4-aaed-4a77-b825-977961783be8');\n",
       "var x = new MutationObserver(function (mutations, observer) {{\n",
       "        var display = window.getComputedStyle(gd).display;\n",
       "        if (!display || display === 'none') {{\n",
       "            console.log([gd, 'removed!']);\n",
       "            Plotly.purge(gd);\n",
       "            observer.disconnect();\n",
       "        }}\n",
       "}});\n",
       "\n",
       "// Listen for the removal of the full notebook cells\n",
       "var notebookContainer = gd.closest('#notebook-container');\n",
       "if (notebookContainer) {{\n",
       "    x.observe(notebookContainer, {childList: true});\n",
       "}}\n",
       "\n",
       "// Listen for the clearing of the current output cell\n",
       "var outputEl = gd.closest('.output');\n",
       "if (outputEl) {{\n",
       "    x.observe(outputEl, {childList: true});\n",
       "}}\n",
       "\n",
       "                        })                };                });            </script>        </div>"
      ]
     },
     "metadata": {},
     "output_type": "display_data"
    }
   ],
   "source": [
    "myBoxPlot(df, x='damage type', y='service_duration',color='damage type',title='Service Duration distributed within each damage type')"
   ]
  },
  {
   "cell_type": "code",
   "execution_count": null,
   "id": "79c4d9a6",
   "metadata": {},
   "outputs": [],
   "source": [
    "#### Service duration by car model"
   ]
  },
  {
   "cell_type": "code",
   "execution_count": 46,
   "id": "0f769511",
   "metadata": {},
   "outputs": [
    {
     "data": {
      "application/vnd.plotly.v1+json": {
       "config": {
        "plotlyServerURL": "https://plot.ly"
       },
       "data": [
        {
         "alignmentgroup": "True",
         "hovertemplate": "car=%{x}<br>service_duration=%{y}<extra></extra>",
         "legendgroup": "TUCSAN",
         "marker": {
          "color": "#636efa"
         },
         "name": "TUCSAN",
         "notched": false,
         "offsetgroup": "TUCSAN",
         "orientation": "v",
         "showlegend": true,
         "type": "box",
         "x": [
          "TUCSAN",
          "TUCSAN",
          "TUCSAN",
          "TUCSAN",
          "TUCSAN",
          "TUCSAN",
          "TUCSAN",
          "TUCSAN",
          "TUCSAN",
          "TUCSAN",
          "TUCSAN",
          "TUCSAN"
         ],
         "x0": " ",
         "xaxis": "x",
         "y": [
          5,
          1,
          1,
          1,
          4,
          1,
          1,
          1,
          4,
          1,
          1,
          1
         ],
         "y0": " ",
         "yaxis": "y"
        },
        {
         "alignmentgroup": "True",
         "hovertemplate": "car=%{x}<br>service_duration=%{y}<extra></extra>",
         "legendgroup": "ELANTRA",
         "marker": {
          "color": "#EF553B"
         },
         "name": "ELANTRA",
         "notched": false,
         "offsetgroup": "ELANTRA",
         "orientation": "v",
         "showlegend": true,
         "type": "box",
         "x": [
          "ELANTRA",
          "ELANTRA",
          "ELANTRA",
          "ELANTRA",
          "ELANTRA",
          "ELANTRA",
          "ELANTRA",
          "ELANTRA",
          "ELANTRA",
          "ELANTRA",
          "ELANTRA",
          "ELANTRA",
          "ELANTRA",
          "ELANTRA",
          "ELANTRA",
          "ELANTRA",
          "ELANTRA",
          "ELANTRA",
          "ELANTRA",
          "ELANTRA",
          "ELANTRA",
          "ELANTRA",
          "ELANTRA",
          "ELANTRA",
          "ELANTRA",
          "ELANTRA",
          "ELANTRA",
          "ELANTRA",
          "ELANTRA",
          "ELANTRA",
          "ELANTRA",
          "ELANTRA",
          "ELANTRA",
          "ELANTRA",
          "ELANTRA",
          "ELANTRA",
          "ELANTRA",
          "ELANTRA",
          "ELANTRA",
          "ELANTRA",
          "ELANTRA",
          "ELANTRA",
          "ELANTRA",
          "ELANTRA",
          "ELANTRA",
          "ELANTRA",
          "ELANTRA",
          "ELANTRA",
          "ELANTRA",
          "ELANTRA",
          "ELANTRA",
          "ELANTRA",
          "ELANTRA",
          "ELANTRA",
          "ELANTRA",
          "ELANTRA",
          "ELANTRA",
          "ELANTRA",
          "ELANTRA",
          "ELANTRA",
          "ELANTRA",
          "ELANTRA",
          "ELANTRA",
          "ELANTRA",
          "ELANTRA",
          "ELANTRA",
          "ELANTRA",
          "ELANTRA",
          "ELANTRA",
          "ELANTRA",
          "ELANTRA",
          "ELANTRA",
          "ELANTRA",
          "ELANTRA",
          "ELANTRA",
          "ELANTRA",
          "ELANTRA",
          "ELANTRA",
          "ELANTRA",
          "ELANTRA",
          "ELANTRA",
          "ELANTRA",
          "ELANTRA",
          "ELANTRA",
          "ELANTRA",
          "ELANTRA",
          "ELANTRA"
         ],
         "x0": " ",
         "xaxis": "x",
         "y": [
          5,
          1,
          1,
          1,
          17,
          1,
          1,
          1,
          9,
          1,
          1,
          9,
          1,
          7,
          11,
          1,
          1,
          2,
          8,
          1,
          1,
          1,
          1,
          6,
          1,
          1,
          1,
          1,
          1,
          1,
          1,
          1,
          1,
          1,
          1,
          1,
          7,
          1,
          1,
          1,
          1,
          1,
          1,
          1,
          1,
          1,
          1,
          1,
          1,
          1,
          1,
          1,
          3,
          1,
          1,
          1,
          1,
          1,
          1,
          1,
          1,
          1,
          1,
          1,
          5,
          1,
          1,
          1,
          1,
          1,
          1,
          1,
          1,
          1,
          1,
          1,
          4,
          5,
          1,
          1,
          1,
          1,
          9,
          1,
          6,
          9,
          1
         ],
         "y0": " ",
         "yaxis": "y"
        },
        {
         "alignmentgroup": "True",
         "hovertemplate": "car=%{x}<br>service_duration=%{y}<extra></extra>",
         "legendgroup": "avanza",
         "marker": {
          "color": "#00cc96"
         },
         "name": "avanza",
         "notched": false,
         "offsetgroup": "avanza",
         "orientation": "v",
         "showlegend": true,
         "type": "box",
         "x": [
          "avanza",
          "avanza",
          "avanza",
          "avanza",
          "avanza",
          "avanza",
          "avanza",
          "avanza",
          "avanza",
          "avanza",
          "avanza",
          "avanza",
          "avanza",
          "avanza",
          "avanza",
          "avanza",
          "avanza",
          "avanza",
          "avanza",
          "avanza",
          "avanza",
          "avanza",
          "avanza",
          "avanza",
          "avanza",
          "avanza",
          "avanza",
          "avanza",
          "avanza",
          "avanza",
          "avanza",
          "avanza",
          "avanza",
          "avanza",
          "avanza",
          "avanza",
          "avanza",
          "avanza",
          "avanza",
          "avanza",
          "avanza",
          "avanza",
          "avanza",
          "avanza",
          "avanza",
          "avanza",
          "avanza",
          "avanza",
          "avanza",
          "avanza",
          "avanza",
          "avanza",
          "avanza",
          "avanza",
          "avanza",
          "avanza",
          "avanza",
          "avanza",
          "avanza",
          "avanza",
          "avanza",
          "avanza"
         ],
         "x0": " ",
         "xaxis": "x",
         "y": [
          11,
          6,
          1,
          1,
          1,
          1,
          1,
          1,
          1,
          1,
          2,
          1,
          1,
          2,
          3,
          1,
          1,
          11,
          1,
          7,
          5,
          6,
          1,
          8,
          1,
          1,
          1,
          1,
          1,
          1,
          7,
          6,
          7,
          1,
          1,
          1,
          1,
          1,
          1,
          1,
          1,
          1,
          1,
          1,
          1,
          1,
          1,
          1,
          1,
          1,
          1,
          1,
          1,
          1,
          1,
          1,
          1,
          4,
          3,
          4,
          5,
          1
         ],
         "y0": " ",
         "yaxis": "y"
        },
        {
         "alignmentgroup": "True",
         "hovertemplate": "car=%{x}<br>service_duration=%{y}<extra></extra>",
         "legendgroup": "FLUENCE",
         "marker": {
          "color": "#ab63fa"
         },
         "name": "FLUENCE",
         "notched": false,
         "offsetgroup": "FLUENCE",
         "orientation": "v",
         "showlegend": true,
         "type": "box",
         "x": [
          "FLUENCE",
          "FLUENCE",
          "FLUENCE",
          "FLUENCE",
          "FLUENCE",
          "FLUENCE",
          "FLUENCE",
          "FLUENCE",
          "FLUENCE",
          "FLUENCE",
          "FLUENCE",
          "FLUENCE",
          "FLUENCE",
          "FLUENCE",
          "FLUENCE",
          "FLUENCE",
          "FLUENCE",
          "FLUENCE",
          "FLUENCE",
          "FLUENCE",
          "FLUENCE",
          "FLUENCE",
          "FLUENCE",
          "FLUENCE",
          "FLUENCE",
          "FLUENCE",
          "FLUENCE",
          "FLUENCE",
          "FLUENCE",
          "FLUENCE",
          "FLUENCE",
          "FLUENCE",
          "FLUENCE",
          "FLUENCE",
          "FLUENCE",
          "FLUENCE",
          "FLUENCE",
          "FLUENCE",
          "FLUENCE",
          "FLUENCE",
          "FLUENCE",
          "FLUENCE",
          "FLUENCE",
          "FLUENCE",
          "FLUENCE",
          "FLUENCE",
          "FLUENCE",
          "FLUENCE",
          "FLUENCE",
          "FLUENCE",
          "FLUENCE",
          "FLUENCE",
          "FLUENCE",
          "FLUENCE"
         ],
         "x0": " ",
         "xaxis": "x",
         "y": [
          6,
          6,
          1,
          12,
          1,
          1,
          1,
          1,
          1,
          1,
          1,
          1,
          1,
          1,
          1,
          1,
          1,
          1,
          6,
          1,
          1,
          1,
          1,
          1,
          1,
          1,
          1,
          1,
          1,
          5,
          1,
          1,
          1,
          1,
          4,
          1,
          1,
          1,
          1,
          1,
          1,
          1,
          1,
          1,
          1,
          1,
          4,
          1,
          1,
          1,
          8,
          1,
          1,
          1
         ],
         "y0": " ",
         "yaxis": "y"
        },
        {
         "alignmentgroup": "True",
         "hovertemplate": "car=%{x}<br>service_duration=%{y}<extra></extra>",
         "legendgroup": "corolla",
         "marker": {
          "color": "#FFA15A"
         },
         "name": "corolla",
         "notched": false,
         "offsetgroup": "corolla",
         "orientation": "v",
         "showlegend": true,
         "type": "box",
         "x": [
          "corolla",
          "corolla",
          "corolla",
          "corolla",
          "corolla",
          "corolla",
          "corolla",
          "corolla",
          "corolla",
          "corolla",
          "corolla",
          "corolla",
          "corolla",
          "corolla",
          "corolla",
          "corolla",
          "corolla",
          "corolla",
          "corolla",
          "corolla",
          "corolla",
          "corolla",
          "corolla",
          "corolla",
          "corolla",
          "corolla",
          "corolla",
          "corolla",
          "corolla",
          "corolla",
          "corolla",
          "corolla",
          "corolla",
          "corolla",
          "corolla",
          "corolla",
          "corolla",
          "corolla",
          "corolla",
          "corolla",
          "corolla",
          "corolla",
          "corolla",
          "corolla",
          "corolla",
          "corolla",
          "corolla",
          "corolla",
          "corolla",
          "corolla",
          "corolla",
          "corolla",
          "corolla",
          "corolla",
          "corolla",
          "corolla",
          "corolla",
          "corolla",
          "corolla",
          "corolla",
          "corolla",
          "corolla",
          "corolla",
          "corolla",
          "corolla",
          "corolla",
          "corolla",
          "corolla",
          "corolla",
          "corolla",
          "corolla",
          "corolla",
          "corolla",
          "corolla",
          "corolla",
          "corolla",
          "corolla",
          "corolla",
          "corolla",
          "corolla",
          "corolla",
          "corolla",
          "corolla",
          "corolla",
          "corolla",
          "corolla",
          "corolla",
          "corolla",
          "corolla",
          "corolla",
          "corolla",
          "corolla",
          "corolla",
          "corolla",
          "corolla",
          "corolla",
          "corolla",
          "corolla",
          "corolla",
          "corolla",
          "corolla",
          "corolla",
          "corolla",
          "corolla",
          "corolla",
          "corolla",
          "corolla",
          "corolla",
          "corolla",
          "corolla",
          "corolla",
          "corolla",
          "corolla",
          "corolla",
          "corolla",
          "corolla",
          "corolla",
          "corolla",
          "corolla",
          "corolla",
          "corolla",
          "corolla",
          "corolla",
          "corolla",
          "corolla",
          "corolla",
          "corolla",
          "corolla",
          "corolla",
          "corolla",
          "corolla",
          "corolla",
          "corolla",
          "corolla",
          "corolla",
          "corolla",
          "corolla",
          "corolla",
          "corolla",
          "corolla",
          "corolla",
          "corolla",
          "corolla",
          "corolla",
          "corolla",
          "corolla",
          "corolla",
          "corolla",
          "corolla",
          "corolla",
          "corolla",
          "corolla",
          "corolla"
         ],
         "x0": " ",
         "xaxis": "x",
         "y": [
          8,
          1,
          1,
          1,
          1,
          1,
          2,
          1,
          1,
          1,
          1,
          1,
          1,
          1,
          1,
          4,
          1,
          1,
          4,
          1,
          1,
          5,
          1,
          1,
          3,
          7,
          8,
          1,
          1,
          4,
          1,
          1,
          1,
          1,
          1,
          1,
          3,
          1,
          1,
          1,
          1,
          1,
          3,
          1,
          1,
          1,
          7,
          1,
          1,
          1,
          1,
          1,
          1,
          1,
          1,
          1,
          1,
          2,
          1,
          1,
          1,
          1,
          3,
          1,
          1,
          1,
          1,
          1,
          1,
          1,
          1,
          1,
          1,
          1,
          1,
          1,
          1,
          1,
          1,
          1,
          1,
          6,
          1,
          1,
          1,
          1,
          1,
          1,
          1,
          1,
          1,
          1,
          1,
          1,
          1,
          1,
          1,
          1,
          1,
          1,
          1,
          1,
          1,
          1,
          1,
          1,
          1,
          1,
          1,
          1,
          1,
          1,
          1,
          1,
          1,
          1,
          4,
          4,
          1,
          1,
          1,
          1,
          1,
          1,
          1,
          6,
          1,
          1,
          1,
          1,
          5,
          1,
          4,
          5,
          1,
          1,
          5,
          1,
          1,
          1,
          1,
          1,
          1,
          1,
          1,
          6,
          1,
          5,
          1,
          7,
          1,
          1,
          8
         ],
         "y0": " ",
         "yaxis": "y"
        },
        {
         "alignmentgroup": "True",
         "hovertemplate": "car=%{x}<br>service_duration=%{y}<extra></extra>",
         "legendgroup": "camry",
         "marker": {
          "color": "#19d3f3"
         },
         "name": "camry",
         "notched": false,
         "offsetgroup": "camry",
         "orientation": "v",
         "showlegend": true,
         "type": "box",
         "x": [
          "camry",
          "camry",
          "camry",
          "camry",
          "camry",
          "camry",
          "camry",
          "camry",
          "camry",
          "camry",
          "camry",
          "camry",
          "camry",
          "camry",
          "camry",
          "camry",
          "camry",
          "camry",
          "camry",
          "camry",
          "camry",
          "camry",
          "camry",
          "camry",
          "camry",
          "camry",
          "camry",
          "camry",
          "camry",
          "camry",
          "camry",
          "camry",
          "camry",
          "camry",
          "camry",
          "camry",
          "camry",
          "camry",
          "camry",
          "camry",
          "camry",
          "camry",
          "camry",
          "camry",
          "camry",
          "camry",
          "camry",
          "camry",
          "camry",
          "camry",
          "camry",
          "camry",
          "camry",
          "camry",
          "camry",
          "camry",
          "camry",
          "camry",
          "camry",
          "camry",
          "camry",
          "camry",
          "camry",
          "camry",
          "camry",
          "camry",
          "camry",
          "camry",
          "camry",
          "camry",
          "camry",
          "camry",
          "camry",
          "camry",
          "camry",
          "camry",
          "camry",
          "camry",
          "camry",
          "camry",
          "camry",
          "camry",
          "camry",
          "camry",
          "camry",
          "camry"
         ],
         "x0": " ",
         "xaxis": "x",
         "y": [
          1,
          2,
          1,
          1,
          1,
          1,
          1,
          4,
          1,
          1,
          1,
          3,
          5,
          1,
          1,
          1,
          1,
          1,
          10,
          1,
          8,
          1,
          4,
          1,
          1,
          1,
          1,
          1,
          11,
          1,
          1,
          1,
          5,
          5,
          1,
          1,
          24,
          6,
          5,
          6,
          1,
          1,
          6,
          6,
          1,
          1,
          1,
          12,
          1,
          1,
          1,
          1,
          1,
          1,
          5,
          1,
          5,
          1,
          1,
          1,
          1,
          1,
          1,
          5,
          1,
          1,
          1,
          1,
          1,
          1,
          1,
          1,
          1,
          1,
          4,
          1,
          5,
          1,
          1,
          1,
          6,
          8,
          1,
          9,
          7,
          4
         ],
         "y0": " ",
         "yaxis": "y"
        },
        {
         "alignmentgroup": "True",
         "hovertemplate": "car=%{x}<br>service_duration=%{y}<extra></extra>",
         "legendgroup": "FORTUNER",
         "marker": {
          "color": "#FF6692"
         },
         "name": "FORTUNER",
         "notched": false,
         "offsetgroup": "FORTUNER",
         "orientation": "v",
         "showlegend": true,
         "type": "box",
         "x": [
          "FORTUNER",
          "FORTUNER",
          "FORTUNER",
          "FORTUNER",
          "FORTUNER",
          "FORTUNER",
          "FORTUNER",
          "FORTUNER",
          "FORTUNER",
          "FORTUNER",
          "FORTUNER",
          "FORTUNER",
          "FORTUNER",
          "FORTUNER",
          "FORTUNER",
          "FORTUNER",
          "FORTUNER",
          "FORTUNER",
          "FORTUNER",
          "FORTUNER",
          "FORTUNER",
          "FORTUNER",
          "FORTUNER",
          "FORTUNER",
          "FORTUNER",
          "FORTUNER",
          "FORTUNER",
          "FORTUNER",
          "FORTUNER",
          "FORTUNER",
          "FORTUNER",
          "FORTUNER",
          "FORTUNER",
          "FORTUNER",
          "FORTUNER",
          "FORTUNER",
          "FORTUNER",
          "FORTUNER",
          "FORTUNER",
          "FORTUNER",
          "FORTUNER",
          "FORTUNER",
          "FORTUNER",
          "FORTUNER",
          "FORTUNER",
          "FORTUNER",
          "FORTUNER",
          "FORTUNER",
          "FORTUNER",
          "FORTUNER",
          "FORTUNER",
          "FORTUNER",
          "FORTUNER",
          "FORTUNER",
          "FORTUNER",
          "FORTUNER",
          "FORTUNER",
          "FORTUNER",
          "FORTUNER",
          "FORTUNER",
          "FORTUNER",
          "FORTUNER",
          "FORTUNER",
          "FORTUNER",
          "FORTUNER",
          "FORTUNER",
          "FORTUNER",
          "FORTUNER",
          "FORTUNER",
          "FORTUNER",
          "FORTUNER",
          "FORTUNER",
          "FORTUNER",
          "FORTUNER",
          "FORTUNER",
          "FORTUNER",
          "FORTUNER",
          "FORTUNER",
          "FORTUNER",
          "FORTUNER",
          "FORTUNER",
          "FORTUNER",
          "FORTUNER",
          "FORTUNER",
          "FORTUNER",
          "FORTUNER",
          "FORTUNER",
          "FORTUNER",
          "FORTUNER",
          "FORTUNER",
          "FORTUNER",
          "FORTUNER",
          "FORTUNER",
          "FORTUNER",
          "FORTUNER",
          "FORTUNER",
          "FORTUNER",
          "FORTUNER",
          "FORTUNER",
          "FORTUNER",
          "FORTUNER",
          "FORTUNER",
          "FORTUNER",
          "FORTUNER",
          "FORTUNER",
          "FORTUNER",
          "FORTUNER",
          "FORTUNER",
          "FORTUNER",
          "FORTUNER",
          "FORTUNER",
          "FORTUNER",
          "FORTUNER",
          "FORTUNER",
          "FORTUNER",
          "FORTUNER",
          "FORTUNER",
          "FORTUNER",
          "FORTUNER",
          "FORTUNER",
          "FORTUNER",
          "FORTUNER",
          "FORTUNER",
          "FORTUNER",
          "FORTUNER",
          "FORTUNER",
          "FORTUNER",
          "FORTUNER",
          "FORTUNER",
          "FORTUNER",
          "FORTUNER",
          "FORTUNER",
          "FORTUNER",
          "FORTUNER",
          "FORTUNER",
          "FORTUNER",
          "FORTUNER",
          "FORTUNER",
          "FORTUNER",
          "FORTUNER",
          "FORTUNER",
          "FORTUNER",
          "FORTUNER",
          "FORTUNER",
          "FORTUNER",
          "FORTUNER",
          "FORTUNER",
          "FORTUNER",
          "FORTUNER",
          "FORTUNER",
          "FORTUNER",
          "FORTUNER",
          "FORTUNER",
          "FORTUNER",
          "FORTUNER",
          "FORTUNER",
          "FORTUNER",
          "FORTUNER",
          "FORTUNER",
          "FORTUNER",
          "FORTUNER",
          "FORTUNER",
          "FORTUNER",
          "FORTUNER",
          "FORTUNER",
          "FORTUNER",
          "FORTUNER",
          "FORTUNER",
          "FORTUNER",
          "FORTUNER",
          "FORTUNER",
          "FORTUNER",
          "FORTUNER",
          "FORTUNER",
          "FORTUNER",
          "FORTUNER",
          "FORTUNER",
          "FORTUNER",
          "FORTUNER",
          "FORTUNER",
          "FORTUNER",
          "FORTUNER",
          "FORTUNER",
          "FORTUNER",
          "FORTUNER",
          "FORTUNER",
          "FORTUNER",
          "FORTUNER",
          "FORTUNER",
          "FORTUNER",
          "FORTUNER",
          "FORTUNER",
          "FORTUNER",
          "FORTUNER",
          "FORTUNER",
          "FORTUNER",
          "FORTUNER",
          "FORTUNER",
          "FORTUNER",
          "FORTUNER",
          "FORTUNER",
          "FORTUNER",
          "FORTUNER",
          "FORTUNER",
          "FORTUNER",
          "FORTUNER",
          "FORTUNER",
          "FORTUNER",
          "FORTUNER",
          "FORTUNER",
          "FORTUNER",
          "FORTUNER",
          "FORTUNER",
          "FORTUNER",
          "FORTUNER",
          "FORTUNER",
          "FORTUNER",
          "FORTUNER",
          "FORTUNER",
          "FORTUNER"
         ],
         "x0": " ",
         "xaxis": "x",
         "y": [
          1,
          1,
          1,
          1,
          1,
          1,
          13,
          1,
          1,
          1,
          4,
          1,
          1,
          1,
          1,
          1,
          1,
          1,
          1,
          3,
          30,
          1,
          1,
          8,
          70,
          18,
          1,
          1,
          1,
          1,
          1,
          1,
          1,
          2,
          2,
          1,
          1,
          1,
          4,
          1,
          1,
          1,
          1,
          1,
          1,
          1,
          5,
          1,
          1,
          32,
          1,
          1,
          1,
          1,
          1,
          1,
          1,
          1,
          1,
          1,
          7,
          2,
          1,
          1,
          1,
          1,
          1,
          1,
          1,
          2,
          2,
          1,
          1,
          2,
          1,
          1,
          1,
          3,
          6,
          1,
          1,
          1,
          1,
          2,
          1,
          2,
          2,
          1,
          1,
          1,
          1,
          1,
          1,
          1,
          1,
          2,
          1,
          1,
          7,
          1,
          1,
          1,
          1,
          1,
          8,
          1,
          1,
          4,
          1,
          1,
          1,
          1,
          1,
          1,
          1,
          1,
          1,
          1,
          1,
          1,
          1,
          1,
          1,
          1,
          1,
          1,
          1,
          1,
          1,
          1,
          1,
          1,
          7,
          1,
          1,
          1,
          4,
          1,
          1,
          1,
          1,
          1,
          1,
          1,
          1,
          1,
          1,
          1,
          1,
          1,
          1,
          1,
          1,
          1,
          1,
          1,
          1,
          1,
          1,
          1,
          1,
          1,
          1,
          1,
          1,
          1,
          1,
          1,
          1,
          1,
          1,
          1,
          1,
          1,
          1,
          1,
          1,
          1,
          1,
          1,
          1,
          1,
          1,
          1,
          1,
          1,
          1,
          1,
          1,
          1,
          1,
          1,
          5,
          6,
          4,
          1,
          1,
          1,
          1,
          1,
          1,
          1,
          1,
          1,
          1,
          1,
          11,
          11,
          1,
          1,
          1,
          1,
          1,
          1,
          1,
          1,
          1,
          1,
          1,
          1
         ],
         "y0": " ",
         "yaxis": "y"
        },
        {
         "alignmentgroup": "True",
         "hovertemplate": "car=%{x}<br>service_duration=%{y}<extra></extra>",
         "legendgroup": "prado",
         "marker": {
          "color": "#B6E880"
         },
         "name": "prado",
         "notched": false,
         "offsetgroup": "prado",
         "orientation": "v",
         "showlegend": true,
         "type": "box",
         "x": [
          "prado",
          "prado",
          "prado",
          "prado",
          "prado",
          "prado",
          "prado",
          "prado",
          "prado",
          "prado",
          "prado",
          "prado",
          "prado",
          "prado",
          "prado",
          "prado",
          "prado",
          "prado",
          "prado"
         ],
         "x0": " ",
         "xaxis": "x",
         "y": [
          1,
          1,
          1,
          1,
          1,
          1,
          1,
          5,
          1,
          1,
          1,
          1,
          1,
          1,
          5,
          1,
          1,
          4,
          1
         ],
         "y0": " ",
         "yaxis": "y"
        },
        {
         "alignmentgroup": "True",
         "hovertemplate": "car=%{x}<br>service_duration=%{y}<extra></extra>",
         "legendgroup": "SPORTAGE",
         "marker": {
          "color": "#FF97FF"
         },
         "name": "SPORTAGE",
         "notched": false,
         "offsetgroup": "SPORTAGE",
         "orientation": "v",
         "showlegend": true,
         "type": "box",
         "x": [
          "SPORTAGE",
          "SPORTAGE",
          "SPORTAGE",
          "SPORTAGE",
          "SPORTAGE",
          "SPORTAGE",
          "SPORTAGE",
          "SPORTAGE",
          "SPORTAGE",
          "SPORTAGE",
          "SPORTAGE",
          "SPORTAGE",
          "SPORTAGE",
          "SPORTAGE",
          "SPORTAGE",
          "SPORTAGE",
          "SPORTAGE",
          "SPORTAGE",
          "SPORTAGE",
          "SPORTAGE",
          "SPORTAGE",
          "SPORTAGE",
          "SPORTAGE",
          "SPORTAGE",
          "SPORTAGE",
          "SPORTAGE",
          "SPORTAGE",
          "SPORTAGE",
          "SPORTAGE",
          "SPORTAGE",
          "SPORTAGE",
          "SPORTAGE",
          "SPORTAGE",
          "SPORTAGE",
          "SPORTAGE",
          "SPORTAGE",
          "SPORTAGE",
          "SPORTAGE",
          "SPORTAGE",
          "SPORTAGE",
          "SPORTAGE",
          "SPORTAGE",
          "SPORTAGE",
          "SPORTAGE",
          "SPORTAGE",
          "SPORTAGE",
          "SPORTAGE",
          "SPORTAGE",
          "SPORTAGE",
          "SPORTAGE",
          "SPORTAGE",
          "SPORTAGE",
          "SPORTAGE",
          "SPORTAGE",
          "SPORTAGE",
          "SPORTAGE",
          "SPORTAGE",
          "SPORTAGE",
          "SPORTAGE",
          "SPORTAGE",
          "SPORTAGE"
         ],
         "x0": " ",
         "xaxis": "x",
         "y": [
          1,
          10,
          1,
          1,
          1,
          1,
          1,
          1,
          1,
          1,
          1,
          1,
          1,
          1,
          1,
          1,
          1,
          2,
          1,
          1,
          3,
          2,
          2,
          2,
          2,
          1,
          1,
          1,
          1,
          1,
          1,
          1,
          1,
          1,
          1,
          1,
          1,
          1,
          1,
          1,
          1,
          1,
          1,
          1,
          1,
          1,
          1,
          1,
          1,
          1,
          1,
          1,
          1,
          1,
          1,
          1,
          1,
          1,
          1,
          1,
          1
         ],
         "y0": " ",
         "yaxis": "y"
        },
        {
         "alignmentgroup": "True",
         "hovertemplate": "car=%{x}<br>service_duration=%{y}<extra></extra>",
         "legendgroup": "CERATO",
         "marker": {
          "color": "#FECB52"
         },
         "name": "CERATO",
         "notched": false,
         "offsetgroup": "CERATO",
         "orientation": "v",
         "showlegend": true,
         "type": "box",
         "x": [
          "CERATO",
          "CERATO",
          "CERATO",
          "CERATO",
          "CERATO",
          "CERATO",
          "CERATO",
          "CERATO",
          "CERATO",
          "CERATO",
          "CERATO",
          "CERATO",
          "CERATO",
          "CERATO",
          "CERATO",
          "CERATO",
          "CERATO",
          "CERATO",
          "CERATO",
          "CERATO",
          "CERATO",
          "CERATO",
          "CERATO",
          "CERATO",
          "CERATO",
          "CERATO",
          "CERATO",
          "CERATO",
          "CERATO",
          "CERATO",
          "CERATO",
          "CERATO",
          "CERATO",
          "CERATO",
          "CERATO",
          "CERATO",
          "CERATO",
          "CERATO",
          "CERATO",
          "CERATO",
          "CERATO",
          "CERATO",
          "CERATO",
          "CERATO",
          "CERATO",
          "CERATO",
          "CERATO",
          "CERATO",
          "CERATO",
          "CERATO",
          "CERATO",
          "CERATO",
          "CERATO",
          "CERATO",
          "CERATO",
          "CERATO",
          "CERATO",
          "CERATO",
          "CERATO",
          "CERATO",
          "CERATO",
          "CERATO",
          "CERATO",
          "CERATO",
          "CERATO",
          "CERATO",
          "CERATO",
          "CERATO",
          "CERATO",
          "CERATO",
          "CERATO",
          "CERATO",
          "CERATO",
          "CERATO",
          "CERATO",
          "CERATO",
          "CERATO",
          "CERATO",
          "CERATO",
          "CERATO",
          "CERATO",
          "CERATO",
          "CERATO",
          "CERATO",
          "CERATO",
          "CERATO",
          "CERATO",
          "CERATO",
          "CERATO",
          "CERATO",
          "CERATO",
          "CERATO",
          "CERATO",
          "CERATO",
          "CERATO",
          "CERATO",
          "CERATO",
          "CERATO",
          "CERATO",
          "CERATO",
          "CERATO",
          "CERATO"
         ],
         "x0": " ",
         "xaxis": "x",
         "y": [
          4,
          1,
          1,
          1,
          1,
          1,
          1,
          1,
          1,
          1,
          1,
          1,
          6,
          1,
          1,
          1,
          1,
          1,
          1,
          5,
          1,
          1,
          2,
          1,
          1,
          6,
          4,
          3,
          1,
          1,
          1,
          1,
          1,
          1,
          1,
          1,
          1,
          1,
          1,
          1,
          1,
          1,
          1,
          1,
          1,
          1,
          1,
          1,
          1,
          2,
          2,
          1,
          1,
          1,
          1,
          2,
          1,
          2,
          3,
          7,
          2,
          1,
          1,
          1,
          1,
          1,
          1,
          1,
          1,
          1,
          1,
          1,
          3,
          1,
          6,
          1,
          1,
          5,
          1,
          1,
          1,
          1,
          1,
          1,
          4,
          1,
          1,
          1,
          1,
          1,
          6,
          7,
          1,
          7,
          1,
          8,
          1,
          1,
          1,
          1,
          6,
          1
         ],
         "y0": " ",
         "yaxis": "y"
        },
        {
         "alignmentgroup": "True",
         "hovertemplate": "car=%{x}<br>service_duration=%{y}<extra></extra>",
         "legendgroup": "spark",
         "marker": {
          "color": "#636efa"
         },
         "name": "spark",
         "notched": false,
         "offsetgroup": "spark",
         "orientation": "v",
         "showlegend": true,
         "type": "box",
         "x": [
          "spark",
          "spark",
          "spark",
          "spark",
          "spark",
          "spark",
          "spark",
          "spark",
          "spark",
          "spark",
          "spark",
          "spark",
          "spark",
          "spark",
          "spark",
          "spark",
          "spark",
          "spark",
          "spark",
          "spark",
          "spark",
          "spark",
          "spark",
          "spark",
          "spark",
          "spark",
          "spark",
          "spark",
          "spark",
          "spark",
          "spark",
          "spark",
          "spark",
          "spark",
          "spark",
          "spark",
          "spark",
          "spark",
          "spark",
          "spark",
          "spark",
          "spark",
          "spark",
          "spark",
          "spark",
          "spark",
          "spark",
          "spark",
          "spark",
          "spark",
          "spark",
          "spark",
          "spark",
          "spark",
          "spark",
          "spark",
          "spark",
          "spark",
          "spark",
          "spark",
          "spark",
          "spark",
          "spark",
          "spark",
          "spark",
          "spark",
          "spark",
          "spark",
          "spark",
          "spark",
          "spark",
          "spark",
          "spark",
          "spark",
          "spark",
          "spark"
         ],
         "x0": " ",
         "xaxis": "x",
         "y": [
          1,
          1,
          1,
          1,
          1,
          1,
          1,
          1,
          1,
          1,
          1,
          1,
          1,
          1,
          1,
          4,
          57,
          1,
          1,
          1,
          1,
          1,
          1,
          1,
          1,
          1,
          3,
          1,
          1,
          2,
          1,
          1,
          5,
          1,
          1,
          1,
          1,
          1,
          1,
          1,
          1,
          1,
          1,
          1,
          1,
          1,
          1,
          1,
          1,
          1,
          1,
          1,
          1,
          1,
          1,
          1,
          1,
          1,
          1,
          1,
          1,
          1,
          1,
          1,
          1,
          1,
          1,
          1,
          1,
          1,
          4,
          5,
          4,
          1,
          1,
          1
         ],
         "y0": " ",
         "yaxis": "y"
        },
        {
         "alignmentgroup": "True",
         "hovertemplate": "car=%{x}<br>service_duration=%{y}<extra></extra>",
         "legendgroup": "sonic",
         "marker": {
          "color": "#EF553B"
         },
         "name": "sonic",
         "notched": false,
         "offsetgroup": "sonic",
         "orientation": "v",
         "showlegend": true,
         "type": "box",
         "x": [
          "sonic",
          "sonic",
          "sonic",
          "sonic",
          "sonic",
          "sonic",
          "sonic",
          "sonic",
          "sonic",
          "sonic",
          "sonic",
          "sonic",
          "sonic",
          "sonic",
          "sonic",
          "sonic",
          "sonic",
          "sonic",
          "sonic",
          "sonic",
          "sonic",
          "sonic",
          "sonic",
          "sonic",
          "sonic",
          "sonic",
          "sonic",
          "sonic",
          "sonic",
          "sonic",
          "sonic"
         ],
         "x0": " ",
         "xaxis": "x",
         "y": [
          1,
          1,
          1,
          2,
          1,
          1,
          1,
          1,
          1,
          1,
          1,
          3,
          1,
          1,
          1,
          1,
          1,
          1,
          1,
          1,
          1,
          1,
          1,
          1,
          2,
          1,
          1,
          1,
          1,
          5,
          3
         ],
         "y0": " ",
         "yaxis": "y"
        },
        {
         "alignmentgroup": "True",
         "hovertemplate": "car=%{x}<br>service_duration=%{y}<extra></extra>",
         "legendgroup": "rio",
         "marker": {
          "color": "#00cc96"
         },
         "name": "rio",
         "notched": false,
         "offsetgroup": "rio",
         "orientation": "v",
         "showlegend": true,
         "type": "box",
         "x": [
          "rio",
          "rio",
          "rio",
          "rio",
          "rio",
          "rio",
          "rio",
          "rio",
          "rio",
          "rio",
          "rio",
          "rio",
          "rio",
          "rio",
          "rio",
          "rio",
          "rio",
          "rio",
          "rio",
          "rio",
          "rio",
          "rio",
          "rio",
          "rio",
          "rio",
          "rio",
          "rio",
          "rio",
          "rio",
          "rio",
          "rio",
          "rio",
          "rio",
          "rio",
          "rio",
          "rio",
          "rio",
          "rio",
          "rio",
          "rio",
          "rio",
          "rio",
          "rio",
          "rio",
          "rio",
          "rio",
          "rio",
          "rio",
          "rio",
          "rio",
          "rio",
          "rio",
          "rio",
          "rio",
          "rio",
          "rio",
          "rio",
          "rio",
          "rio",
          "rio",
          "rio",
          "rio",
          "rio",
          "rio",
          "rio",
          "rio",
          "rio",
          "rio",
          "rio"
         ],
         "x0": " ",
         "xaxis": "x",
         "y": [
          1,
          1,
          3,
          1,
          1,
          1,
          1,
          1,
          1,
          14,
          1,
          1,
          1,
          1,
          1,
          1,
          1,
          5,
          1,
          1,
          1,
          7,
          1,
          1,
          1,
          1,
          1,
          1,
          1,
          1,
          1,
          1,
          1,
          1,
          1,
          1,
          1,
          1,
          8,
          1,
          1,
          1,
          1,
          1,
          1,
          1,
          1,
          1,
          1,
          1,
          1,
          1,
          1,
          1,
          1,
          1,
          1,
          1,
          1,
          1,
          5,
          1,
          1,
          1,
          1,
          1,
          8,
          1,
          1
         ],
         "y0": " ",
         "yaxis": "y"
        },
        {
         "alignmentgroup": "True",
         "hovertemplate": "car=%{x}<br>service_duration=%{y}<extra></extra>",
         "legendgroup": "I 10",
         "marker": {
          "color": "#ab63fa"
         },
         "name": "I 10",
         "notched": false,
         "offsetgroup": "I 10",
         "orientation": "v",
         "showlegend": true,
         "type": "box",
         "x": [
          "I 10",
          "I 10",
          "I 10",
          "I 10",
          "I 10",
          "I 10",
          "I 10",
          "I 10",
          "I 10",
          "I 10",
          "I 10",
          "I 10",
          "I 10",
          "I 10",
          "I 10",
          "I 10",
          "I 10",
          "I 10",
          "I 10",
          "I 10",
          "I 10",
          "I 10",
          "I 10",
          "I 10",
          "I 10",
          "I 10",
          "I 10",
          "I 10",
          "I 10",
          "I 10",
          "I 10",
          "I 10",
          "I 10",
          "I 10",
          "I 10"
         ],
         "x0": " ",
         "xaxis": "x",
         "y": [
          1,
          1,
          1,
          1,
          1,
          1,
          1,
          1,
          1,
          1,
          1,
          2,
          1,
          3,
          1,
          1,
          1,
          1,
          4,
          1,
          1,
          1,
          1,
          1,
          1,
          6,
          1,
          1,
          1,
          1,
          1,
          1,
          1,
          1,
          7
         ],
         "y0": " ",
         "yaxis": "y"
        },
        {
         "alignmentgroup": "True",
         "hovertemplate": "car=%{x}<br>service_duration=%{y}<extra></extra>",
         "legendgroup": "corolla ",
         "marker": {
          "color": "#FFA15A"
         },
         "name": "corolla ",
         "notched": false,
         "offsetgroup": "corolla ",
         "orientation": "v",
         "showlegend": true,
         "type": "box",
         "x": [
          "corolla ",
          "corolla ",
          "corolla "
         ],
         "x0": " ",
         "xaxis": "x",
         "y": [
          1,
          1,
          1
         ],
         "y0": " ",
         "yaxis": "y"
        },
        {
         "alignmentgroup": "True",
         "hovertemplate": "car=%{x}<br>service_duration=%{y}<extra></extra>",
         "legendgroup": "cruze",
         "marker": {
          "color": "#19d3f3"
         },
         "name": "cruze",
         "notched": false,
         "offsetgroup": "cruze",
         "orientation": "v",
         "showlegend": true,
         "type": "box",
         "x": [
          "cruze",
          "cruze",
          "cruze",
          "cruze",
          "cruze",
          "cruze",
          "cruze",
          "cruze",
          "cruze",
          "cruze",
          "cruze",
          "cruze",
          "cruze",
          "cruze",
          "cruze",
          "cruze",
          "cruze",
          "cruze",
          "cruze",
          "cruze",
          "cruze",
          "cruze",
          "cruze",
          "cruze",
          "cruze",
          "cruze",
          "cruze",
          "cruze",
          "cruze",
          "cruze",
          "cruze",
          "cruze",
          "cruze",
          "cruze",
          "cruze",
          "cruze",
          "cruze",
          "cruze",
          "cruze",
          "cruze",
          "cruze",
          "cruze",
          "cruze",
          "cruze"
         ],
         "x0": " ",
         "xaxis": "x",
         "y": [
          1,
          1,
          1,
          1,
          3,
          1,
          1,
          1,
          1,
          1,
          1,
          11,
          1,
          1,
          6,
          2,
          1,
          1,
          4,
          3,
          1,
          7,
          1,
          1,
          4,
          1,
          4,
          6,
          1,
          1,
          1,
          5,
          1,
          1,
          1,
          1,
          1,
          1,
          1,
          1,
          1,
          1,
          1,
          8
         ],
         "y0": " ",
         "yaxis": "y"
        },
        {
         "alignmentgroup": "True",
         "hovertemplate": "car=%{x}<br>service_duration=%{y}<extra></extra>",
         "legendgroup": "Hilux",
         "marker": {
          "color": "#FF6692"
         },
         "name": "Hilux",
         "notched": false,
         "offsetgroup": "Hilux",
         "orientation": "v",
         "showlegend": true,
         "type": "box",
         "x": [
          "Hilux",
          "Hilux",
          "Hilux",
          "Hilux",
          "Hilux",
          "Hilux",
          "Hilux",
          "Hilux",
          "Hilux",
          "Hilux",
          "Hilux",
          "Hilux",
          "Hilux",
          "Hilux",
          "Hilux",
          "Hilux",
          "Hilux",
          "Hilux",
          "Hilux",
          "Hilux",
          "Hilux",
          "Hilux",
          "Hilux",
          "Hilux",
          "Hilux",
          "Hilux",
          "Hilux",
          "Hilux",
          "Hilux",
          "Hilux",
          "Hilux",
          "Hilux",
          "Hilux",
          "Hilux",
          "Hilux",
          "Hilux",
          "Hilux",
          "Hilux",
          "Hilux",
          "Hilux",
          "Hilux",
          "Hilux",
          "Hilux",
          "Hilux",
          "Hilux",
          "Hilux",
          "Hilux",
          "Hilux",
          "Hilux",
          "Hilux",
          "Hilux",
          "Hilux",
          "Hilux",
          "Hilux",
          "Hilux",
          "Hilux",
          "Hilux",
          "Hilux",
          "Hilux",
          "Hilux",
          "Hilux",
          "Hilux",
          "Hilux",
          "Hilux",
          "Hilux",
          "Hilux",
          "Hilux",
          "Hilux",
          "Hilux",
          "Hilux",
          "Hilux",
          "Hilux",
          "Hilux",
          "Hilux",
          "Hilux",
          "Hilux",
          "Hilux",
          "Hilux",
          "Hilux",
          "Hilux",
          "Hilux",
          "Hilux",
          "Hilux",
          "Hilux",
          "Hilux",
          "Hilux",
          "Hilux",
          "Hilux",
          "Hilux",
          "Hilux",
          "Hilux",
          "Hilux",
          "Hilux",
          "Hilux",
          "Hilux",
          "Hilux",
          "Hilux"
         ],
         "x0": " ",
         "xaxis": "x",
         "y": [
          1,
          11,
          5,
          1,
          1,
          1,
          1,
          1,
          1,
          1,
          1,
          1,
          1,
          1,
          1,
          1,
          1,
          1,
          1,
          1,
          1,
          1,
          1,
          1,
          1,
          1,
          1,
          1,
          1,
          1,
          1,
          1,
          1,
          1,
          1,
          1,
          1,
          1,
          1,
          1,
          1,
          1,
          1,
          1,
          1,
          1,
          1,
          1,
          1,
          1,
          1,
          1,
          1,
          1,
          1,
          1,
          1,
          1,
          1,
          1,
          1,
          1,
          1,
          1,
          1,
          1,
          1,
          1,
          1,
          1,
          1,
          1,
          1,
          1,
          1,
          1,
          1,
          1,
          1,
          1,
          4,
          1,
          1,
          1,
          1,
          1,
          1,
          1,
          1,
          1,
          1,
          1,
          4,
          1,
          1,
          1,
          1
         ],
         "y0": " ",
         "yaxis": "y"
        },
        {
         "alignmentgroup": "True",
         "hovertemplate": "car=%{x}<br>service_duration=%{y}<extra></extra>",
         "legendgroup": "H 1",
         "marker": {
          "color": "#B6E880"
         },
         "name": "H 1",
         "notched": false,
         "offsetgroup": "H 1",
         "orientation": "v",
         "showlegend": true,
         "type": "box",
         "x": [
          "H 1",
          "H 1",
          "H 1",
          "H 1",
          "H 1",
          "H 1",
          "H 1",
          "H 1",
          "H 1",
          "H 1",
          "H 1",
          "H 1",
          "H 1",
          "H 1",
          "H 1",
          "H 1",
          "H 1",
          "H 1",
          "H 1",
          "H 1",
          "H 1",
          "H 1",
          "H 1",
          "H 1",
          "H 1",
          "H 1",
          "H 1",
          "H 1",
          "H 1",
          "H 1",
          "H 1",
          "H 1",
          "H 1",
          "H 1",
          "H 1",
          "H 1",
          "H 1",
          "H 1",
          "H 1",
          "H 1",
          "H 1",
          "H 1",
          "H 1",
          "H 1",
          "H 1",
          "H 1",
          "H 1",
          "H 1",
          "H 1",
          "H 1",
          "H 1",
          "H 1",
          "H 1",
          "H 1",
          "H 1",
          "H 1",
          "H 1",
          "H 1",
          "H 1",
          "H 1",
          "H 1",
          "H 1",
          "H 1",
          "H 1",
          "H 1",
          "H 1",
          "H 1",
          "H 1",
          "H 1",
          "H 1",
          "H 1",
          "H 1",
          "H 1",
          "H 1",
          "H 1",
          "H 1",
          "H 1",
          "H 1",
          "H 1",
          "H 1",
          "H 1",
          "H 1",
          "H 1",
          "H 1",
          "H 1",
          "H 1",
          "H 1",
          "H 1",
          "H 1",
          "H 1",
          "H 1",
          "H 1",
          "H 1",
          "H 1",
          "H 1",
          "H 1",
          "H 1",
          "H 1",
          "H 1",
          "H 1",
          "H 1"
         ],
         "x0": " ",
         "xaxis": "x",
         "y": [
          1,
          1,
          1,
          1,
          1,
          1,
          1,
          1,
          1,
          1,
          1,
          1,
          1,
          1,
          1,
          1,
          1,
          1,
          1,
          1,
          1,
          1,
          2,
          14,
          4,
          1,
          1,
          7,
          4,
          1,
          1,
          1,
          1,
          1,
          4,
          1,
          1,
          2,
          2,
          1,
          1,
          1,
          1,
          9,
          8,
          1,
          1,
          7,
          7,
          7,
          1,
          1,
          1,
          1,
          1,
          1,
          1,
          1,
          1,
          1,
          9,
          1,
          1,
          1,
          1,
          1,
          1,
          1,
          1,
          1,
          1,
          1,
          1,
          1,
          1,
          1,
          1,
          1,
          1,
          1,
          1,
          1,
          1,
          1,
          1,
          1,
          1,
          1,
          1,
          1,
          7,
          7,
          8,
          6,
          1,
          17,
          5,
          1,
          1,
          11,
          7
         ],
         "y0": " ",
         "yaxis": "y"
        },
        {
         "alignmentgroup": "True",
         "hovertemplate": "car=%{x}<br>service_duration=%{y}<extra></extra>",
         "legendgroup": "OPTIMA",
         "marker": {
          "color": "#FF97FF"
         },
         "name": "OPTIMA",
         "notched": false,
         "offsetgroup": "OPTIMA",
         "orientation": "v",
         "showlegend": true,
         "type": "box",
         "x": [
          "OPTIMA",
          "OPTIMA",
          "OPTIMA",
          "OPTIMA",
          "OPTIMA",
          "OPTIMA",
          "OPTIMA",
          "OPTIMA",
          "OPTIMA",
          "OPTIMA",
          "OPTIMA",
          "OPTIMA",
          "OPTIMA",
          "OPTIMA",
          "OPTIMA",
          "OPTIMA"
         ],
         "x0": " ",
         "xaxis": "x",
         "y": [
          1,
          1,
          4,
          1,
          1,
          1,
          6,
          4,
          1,
          1,
          1,
          1,
          1,
          1,
          1,
          1
         ],
         "y0": " ",
         "yaxis": "y"
        },
        {
         "alignmentgroup": "True",
         "hovertemplate": "car=%{x}<br>service_duration=%{y}<extra></extra>",
         "legendgroup": "accent",
         "marker": {
          "color": "#FECB52"
         },
         "name": "accent",
         "notched": false,
         "offsetgroup": "accent",
         "orientation": "v",
         "showlegend": true,
         "type": "box",
         "x": [
          "accent",
          "accent",
          "accent"
         ],
         "x0": " ",
         "xaxis": "x",
         "y": [
          1,
          1,
          1
         ],
         "y0": " ",
         "yaxis": "y"
        },
        {
         "alignmentgroup": "True",
         "hovertemplate": "car=%{x}<br>service_duration=%{y}<extra></extra>",
         "legendgroup": "yaris",
         "marker": {
          "color": "#636efa"
         },
         "name": "yaris",
         "notched": false,
         "offsetgroup": "yaris",
         "orientation": "v",
         "showlegend": true,
         "type": "box",
         "x": [
          "yaris",
          "yaris",
          "yaris",
          "yaris",
          "yaris",
          "yaris",
          "yaris",
          "yaris",
          "yaris",
          "yaris",
          "yaris",
          "yaris",
          "yaris",
          "yaris",
          "yaris",
          "yaris",
          "yaris",
          "yaris",
          "yaris",
          "yaris",
          "yaris",
          "yaris",
          "yaris",
          "yaris",
          "yaris",
          "yaris",
          "yaris",
          "yaris",
          "yaris",
          "yaris",
          "yaris",
          "yaris",
          "yaris",
          "yaris",
          "yaris",
          "yaris",
          "yaris",
          "yaris",
          "yaris",
          "yaris",
          "yaris",
          "yaris",
          "yaris",
          "yaris",
          "yaris",
          "yaris",
          "yaris",
          "yaris",
          "yaris",
          "yaris",
          "yaris",
          "yaris",
          "yaris",
          "yaris",
          "yaris",
          "yaris"
         ],
         "x0": " ",
         "xaxis": "x",
         "y": [
          1,
          1,
          2,
          2,
          3,
          1,
          1,
          4,
          1,
          1,
          1,
          1,
          1,
          14,
          1,
          1,
          1,
          2,
          1,
          1,
          11,
          1,
          1,
          1,
          1,
          1,
          1,
          1,
          1,
          1,
          1,
          1,
          1,
          5,
          1,
          1,
          1,
          1,
          1,
          1,
          1,
          1,
          1,
          1,
          1,
          1,
          1,
          1,
          1,
          1,
          1,
          1,
          1,
          1,
          1,
          1
         ],
         "y0": " ",
         "yaxis": "y"
        },
        {
         "alignmentgroup": "True",
         "hovertemplate": "car=%{x}<br>service_duration=%{y}<extra></extra>",
         "legendgroup": "Rav 4 ",
         "marker": {
          "color": "#EF553B"
         },
         "name": "Rav 4 ",
         "notched": false,
         "offsetgroup": "Rav 4 ",
         "orientation": "v",
         "showlegend": true,
         "type": "box",
         "x": [
          "Rav 4 ",
          "Rav 4 ",
          "Rav 4 ",
          "Rav 4 ",
          "Rav 4 "
         ],
         "x0": " ",
         "xaxis": "x",
         "y": [
          11,
          1,
          1,
          1,
          1
         ],
         "y0": " ",
         "yaxis": "y"
        },
        {
         "alignmentgroup": "True",
         "hovertemplate": "car=%{x}<br>service_duration=%{y}<extra></extra>",
         "legendgroup": "            Spark      ",
         "marker": {
          "color": "#00cc96"
         },
         "name": "            Spark      ",
         "notched": false,
         "offsetgroup": "            Spark      ",
         "orientation": "v",
         "showlegend": true,
         "type": "box",
         "x": [
          "            Spark      "
         ],
         "x0": " ",
         "xaxis": "x",
         "y": [
          1
         ],
         "y0": " ",
         "yaxis": "y"
        },
        {
         "alignmentgroup": "True",
         "hovertemplate": "car=%{x}<br>service_duration=%{y}<extra></extra>",
         "legendgroup": "SPARK",
         "marker": {
          "color": "#ab63fa"
         },
         "name": "SPARK",
         "notched": false,
         "offsetgroup": "SPARK",
         "orientation": "v",
         "showlegend": true,
         "type": "box",
         "x": [
          "SPARK"
         ],
         "x0": " ",
         "xaxis": "x",
         "y": [
          3
         ],
         "y0": " ",
         "yaxis": "y"
        },
        {
         "alignmentgroup": "True",
         "hovertemplate": "car=%{x}<br>service_duration=%{y}<extra></extra>",
         "legendgroup": "Rio",
         "marker": {
          "color": "#FFA15A"
         },
         "name": "Rio",
         "notched": false,
         "offsetgroup": "Rio",
         "orientation": "v",
         "showlegend": true,
         "type": "box",
         "x": [
          "Rio"
         ],
         "x0": " ",
         "xaxis": "x",
         "y": [
          1
         ],
         "y0": " ",
         "yaxis": "y"
        },
        {
         "alignmentgroup": "True",
         "hovertemplate": "car=%{x}<br>service_duration=%{y}<extra></extra>",
         "legendgroup": "cerato",
         "marker": {
          "color": "#19d3f3"
         },
         "name": "cerato",
         "notched": false,
         "offsetgroup": "cerato",
         "orientation": "v",
         "showlegend": true,
         "type": "box",
         "x": [
          "cerato",
          "cerato",
          "cerato",
          "cerato",
          "cerato",
          "cerato",
          "cerato",
          "cerato",
          "cerato",
          "cerato",
          "cerato",
          "cerato",
          "cerato",
          "cerato",
          "cerato",
          "cerato",
          "cerato",
          "cerato",
          "cerato",
          "cerato",
          "cerato",
          "cerato",
          "cerato",
          "cerato",
          "cerato",
          "cerato",
          "cerato",
          "cerato",
          "cerato",
          "cerato",
          "cerato",
          "cerato",
          "cerato",
          "cerato",
          "cerato",
          "cerato",
          "cerato",
          "cerato",
          "cerato",
          "cerato",
          "cerato",
          "cerato",
          "cerato",
          "cerato",
          "cerato",
          "cerato",
          "cerato",
          "cerato",
          "cerato",
          "cerato",
          "cerato",
          "cerato",
          "cerato",
          "cerato",
          "cerato",
          "cerato",
          "cerato",
          "cerato",
          "cerato",
          "cerato",
          "cerato",
          "cerato",
          "cerato",
          "cerato",
          "cerato",
          "cerato",
          "cerato",
          "cerato",
          "cerato",
          "cerato",
          "cerato",
          "cerato",
          "cerato",
          "cerato",
          "cerato",
          "cerato"
         ],
         "x0": " ",
         "xaxis": "x",
         "y": [
          1,
          1,
          1,
          1,
          1,
          1,
          1,
          7,
          1,
          1,
          1,
          1,
          1,
          1,
          1,
          1,
          1,
          5,
          3,
          1,
          5,
          1,
          1,
          1,
          6,
          1,
          1,
          1,
          1,
          1,
          1,
          1,
          1,
          1,
          1,
          1,
          1,
          1,
          1,
          1,
          1,
          1,
          1,
          1,
          1,
          1,
          5,
          1,
          1,
          1,
          1,
          1,
          1,
          1,
          1,
          1,
          1,
          1,
          1,
          1,
          1,
          1,
          1,
          5,
          3,
          5,
          4,
          5,
          1,
          1,
          1,
          1,
          1,
          6,
          1,
          1
         ],
         "y0": " ",
         "yaxis": "y"
        },
        {
         "alignmentgroup": "True",
         "hovertemplate": "car=%{x}<br>service_duration=%{y}<extra></extra>",
         "legendgroup": "fortuner",
         "marker": {
          "color": "#FF6692"
         },
         "name": "fortuner",
         "notched": false,
         "offsetgroup": "fortuner",
         "orientation": "v",
         "showlegend": true,
         "type": "box",
         "x": [
          "fortuner",
          "fortuner",
          "fortuner",
          "fortuner",
          "fortuner",
          "fortuner",
          "fortuner",
          "fortuner",
          "fortuner",
          "fortuner",
          "fortuner",
          "fortuner"
         ],
         "x0": " ",
         "xaxis": "x",
         "y": [
          1,
          1,
          1,
          1,
          1,
          1,
          1,
          1,
          1,
          1,
          1,
          1
         ],
         "y0": " ",
         "yaxis": "y"
        },
        {
         "alignmentgroup": "True",
         "hovertemplate": "car=%{x}<br>service_duration=%{y}<extra></extra>",
         "legendgroup": "optima",
         "marker": {
          "color": "#B6E880"
         },
         "name": "optima",
         "notched": false,
         "offsetgroup": "optima",
         "orientation": "v",
         "showlegend": true,
         "type": "box",
         "x": [
          "optima"
         ],
         "x0": " ",
         "xaxis": "x",
         "y": [
          1
         ],
         "y0": " ",
         "yaxis": "y"
        },
        {
         "alignmentgroup": "True",
         "hovertemplate": "car=%{x}<br>service_duration=%{y}<extra></extra>",
         "legendgroup": "Rav 4",
         "marker": {
          "color": "#FF97FF"
         },
         "name": "Rav 4",
         "notched": false,
         "offsetgroup": "Rav 4",
         "orientation": "v",
         "showlegend": true,
         "type": "box",
         "x": [
          "Rav 4",
          "Rav 4",
          "Rav 4"
         ],
         "x0": " ",
         "xaxis": "x",
         "y": [
          1,
          1,
          1
         ],
         "y0": " ",
         "yaxis": "y"
        },
        {
         "alignmentgroup": "True",
         "hovertemplate": "car=%{x}<br>service_duration=%{y}<extra></extra>",
         "legendgroup": "Prius",
         "marker": {
          "color": "#FECB52"
         },
         "name": "Prius",
         "notched": false,
         "offsetgroup": "Prius",
         "orientation": "v",
         "showlegend": true,
         "type": "box",
         "x": [
          "Prius",
          "Prius",
          "Prius",
          "Prius",
          "Prius",
          "Prius"
         ],
         "x0": " ",
         "xaxis": "x",
         "y": [
          1,
          1,
          1,
          1,
          1,
          1
         ],
         "y0": " ",
         "yaxis": "y"
        },
        {
         "alignmentgroup": "True",
         "hovertemplate": "car=%{x}<br>service_duration=%{y}<extra></extra>",
         "legendgroup": " Gunsayil ",
         "marker": {
          "color": "#636efa"
         },
         "name": " Gunsayil ",
         "notched": false,
         "offsetgroup": " Gunsayil ",
         "orientation": "v",
         "showlegend": true,
         "type": "box",
         "x": [
          " Gunsayil "
         ],
         "x0": " ",
         "xaxis": "x",
         "y": [
          1
         ],
         "y0": " ",
         "yaxis": "y"
        },
        {
         "alignmentgroup": "True",
         "hovertemplate": "car=%{x}<br>service_duration=%{y}<extra></extra>",
         "legendgroup": "Citroen",
         "marker": {
          "color": "#EF553B"
         },
         "name": "Citroen",
         "notched": false,
         "offsetgroup": "Citroen",
         "orientation": "v",
         "showlegend": true,
         "type": "box",
         "x": [
          "Citroen"
         ],
         "x0": " ",
         "xaxis": "x",
         "y": [
          5
         ],
         "y0": " ",
         "yaxis": "y"
        },
        {
         "alignmentgroup": "True",
         "hovertemplate": "car=%{x}<br>service_duration=%{y}<extra></extra>",
         "legendgroup": "I10",
         "marker": {
          "color": "#00cc96"
         },
         "name": "I10",
         "notched": false,
         "offsetgroup": "I10",
         "orientation": "v",
         "showlegend": true,
         "type": "box",
         "x": [
          "I10",
          "I10"
         ],
         "x0": " ",
         "xaxis": "x",
         "y": [
          8,
          1
         ],
         "y0": " ",
         "yaxis": "y"
        },
        {
         "alignmentgroup": "True",
         "hovertemplate": "car=%{x}<br>service_duration=%{y}<extra></extra>",
         "legendgroup": "pruis",
         "marker": {
          "color": "#ab63fa"
         },
         "name": "pruis",
         "notched": false,
         "offsetgroup": "pruis",
         "orientation": "v",
         "showlegend": true,
         "type": "box",
         "x": [
          "pruis"
         ],
         "x0": " ",
         "xaxis": "x",
         "y": [
          2
         ],
         "y0": " ",
         "yaxis": "y"
        },
        {
         "alignmentgroup": "True",
         "hovertemplate": "car=%{x}<br>service_duration=%{y}<extra></extra>",
         "legendgroup": "tucsan",
         "marker": {
          "color": "#FFA15A"
         },
         "name": "tucsan",
         "notched": false,
         "offsetgroup": "tucsan",
         "orientation": "v",
         "showlegend": true,
         "type": "box",
         "x": [
          "tucsan"
         ],
         "x0": " ",
         "xaxis": "x",
         "y": [
          1
         ],
         "y0": " ",
         "yaxis": "y"
        }
       ],
       "layout": {
        "boxmode": "overlay",
        "legend": {
         "title": {
          "text": "car"
         },
         "tracegroupgap": 0
        },
        "template": {
         "data": {
          "bar": [
           {
            "error_x": {
             "color": "#2a3f5f"
            },
            "error_y": {
             "color": "#2a3f5f"
            },
            "marker": {
             "line": {
              "color": "#E5ECF6",
              "width": 0.5
             },
             "pattern": {
              "fillmode": "overlay",
              "size": 10,
              "solidity": 0.2
             }
            },
            "type": "bar"
           }
          ],
          "barpolar": [
           {
            "marker": {
             "line": {
              "color": "#E5ECF6",
              "width": 0.5
             },
             "pattern": {
              "fillmode": "overlay",
              "size": 10,
              "solidity": 0.2
             }
            },
            "type": "barpolar"
           }
          ],
          "carpet": [
           {
            "aaxis": {
             "endlinecolor": "#2a3f5f",
             "gridcolor": "white",
             "linecolor": "white",
             "minorgridcolor": "white",
             "startlinecolor": "#2a3f5f"
            },
            "baxis": {
             "endlinecolor": "#2a3f5f",
             "gridcolor": "white",
             "linecolor": "white",
             "minorgridcolor": "white",
             "startlinecolor": "#2a3f5f"
            },
            "type": "carpet"
           }
          ],
          "choropleth": [
           {
            "colorbar": {
             "outlinewidth": 0,
             "ticks": ""
            },
            "type": "choropleth"
           }
          ],
          "contour": [
           {
            "colorbar": {
             "outlinewidth": 0,
             "ticks": ""
            },
            "colorscale": [
             [
              0,
              "#0d0887"
             ],
             [
              0.1111111111111111,
              "#46039f"
             ],
             [
              0.2222222222222222,
              "#7201a8"
             ],
             [
              0.3333333333333333,
              "#9c179e"
             ],
             [
              0.4444444444444444,
              "#bd3786"
             ],
             [
              0.5555555555555556,
              "#d8576b"
             ],
             [
              0.6666666666666666,
              "#ed7953"
             ],
             [
              0.7777777777777778,
              "#fb9f3a"
             ],
             [
              0.8888888888888888,
              "#fdca26"
             ],
             [
              1,
              "#f0f921"
             ]
            ],
            "type": "contour"
           }
          ],
          "contourcarpet": [
           {
            "colorbar": {
             "outlinewidth": 0,
             "ticks": ""
            },
            "type": "contourcarpet"
           }
          ],
          "heatmap": [
           {
            "colorbar": {
             "outlinewidth": 0,
             "ticks": ""
            },
            "colorscale": [
             [
              0,
              "#0d0887"
             ],
             [
              0.1111111111111111,
              "#46039f"
             ],
             [
              0.2222222222222222,
              "#7201a8"
             ],
             [
              0.3333333333333333,
              "#9c179e"
             ],
             [
              0.4444444444444444,
              "#bd3786"
             ],
             [
              0.5555555555555556,
              "#d8576b"
             ],
             [
              0.6666666666666666,
              "#ed7953"
             ],
             [
              0.7777777777777778,
              "#fb9f3a"
             ],
             [
              0.8888888888888888,
              "#fdca26"
             ],
             [
              1,
              "#f0f921"
             ]
            ],
            "type": "heatmap"
           }
          ],
          "heatmapgl": [
           {
            "colorbar": {
             "outlinewidth": 0,
             "ticks": ""
            },
            "colorscale": [
             [
              0,
              "#0d0887"
             ],
             [
              0.1111111111111111,
              "#46039f"
             ],
             [
              0.2222222222222222,
              "#7201a8"
             ],
             [
              0.3333333333333333,
              "#9c179e"
             ],
             [
              0.4444444444444444,
              "#bd3786"
             ],
             [
              0.5555555555555556,
              "#d8576b"
             ],
             [
              0.6666666666666666,
              "#ed7953"
             ],
             [
              0.7777777777777778,
              "#fb9f3a"
             ],
             [
              0.8888888888888888,
              "#fdca26"
             ],
             [
              1,
              "#f0f921"
             ]
            ],
            "type": "heatmapgl"
           }
          ],
          "histogram": [
           {
            "marker": {
             "pattern": {
              "fillmode": "overlay",
              "size": 10,
              "solidity": 0.2
             }
            },
            "type": "histogram"
           }
          ],
          "histogram2d": [
           {
            "colorbar": {
             "outlinewidth": 0,
             "ticks": ""
            },
            "colorscale": [
             [
              0,
              "#0d0887"
             ],
             [
              0.1111111111111111,
              "#46039f"
             ],
             [
              0.2222222222222222,
              "#7201a8"
             ],
             [
              0.3333333333333333,
              "#9c179e"
             ],
             [
              0.4444444444444444,
              "#bd3786"
             ],
             [
              0.5555555555555556,
              "#d8576b"
             ],
             [
              0.6666666666666666,
              "#ed7953"
             ],
             [
              0.7777777777777778,
              "#fb9f3a"
             ],
             [
              0.8888888888888888,
              "#fdca26"
             ],
             [
              1,
              "#f0f921"
             ]
            ],
            "type": "histogram2d"
           }
          ],
          "histogram2dcontour": [
           {
            "colorbar": {
             "outlinewidth": 0,
             "ticks": ""
            },
            "colorscale": [
             [
              0,
              "#0d0887"
             ],
             [
              0.1111111111111111,
              "#46039f"
             ],
             [
              0.2222222222222222,
              "#7201a8"
             ],
             [
              0.3333333333333333,
              "#9c179e"
             ],
             [
              0.4444444444444444,
              "#bd3786"
             ],
             [
              0.5555555555555556,
              "#d8576b"
             ],
             [
              0.6666666666666666,
              "#ed7953"
             ],
             [
              0.7777777777777778,
              "#fb9f3a"
             ],
             [
              0.8888888888888888,
              "#fdca26"
             ],
             [
              1,
              "#f0f921"
             ]
            ],
            "type": "histogram2dcontour"
           }
          ],
          "mesh3d": [
           {
            "colorbar": {
             "outlinewidth": 0,
             "ticks": ""
            },
            "type": "mesh3d"
           }
          ],
          "parcoords": [
           {
            "line": {
             "colorbar": {
              "outlinewidth": 0,
              "ticks": ""
             }
            },
            "type": "parcoords"
           }
          ],
          "pie": [
           {
            "automargin": true,
            "type": "pie"
           }
          ],
          "scatter": [
           {
            "fillpattern": {
             "fillmode": "overlay",
             "size": 10,
             "solidity": 0.2
            },
            "type": "scatter"
           }
          ],
          "scatter3d": [
           {
            "line": {
             "colorbar": {
              "outlinewidth": 0,
              "ticks": ""
             }
            },
            "marker": {
             "colorbar": {
              "outlinewidth": 0,
              "ticks": ""
             }
            },
            "type": "scatter3d"
           }
          ],
          "scattercarpet": [
           {
            "marker": {
             "colorbar": {
              "outlinewidth": 0,
              "ticks": ""
             }
            },
            "type": "scattercarpet"
           }
          ],
          "scattergeo": [
           {
            "marker": {
             "colorbar": {
              "outlinewidth": 0,
              "ticks": ""
             }
            },
            "type": "scattergeo"
           }
          ],
          "scattergl": [
           {
            "marker": {
             "colorbar": {
              "outlinewidth": 0,
              "ticks": ""
             }
            },
            "type": "scattergl"
           }
          ],
          "scattermapbox": [
           {
            "marker": {
             "colorbar": {
              "outlinewidth": 0,
              "ticks": ""
             }
            },
            "type": "scattermapbox"
           }
          ],
          "scatterpolar": [
           {
            "marker": {
             "colorbar": {
              "outlinewidth": 0,
              "ticks": ""
             }
            },
            "type": "scatterpolar"
           }
          ],
          "scatterpolargl": [
           {
            "marker": {
             "colorbar": {
              "outlinewidth": 0,
              "ticks": ""
             }
            },
            "type": "scatterpolargl"
           }
          ],
          "scatterternary": [
           {
            "marker": {
             "colorbar": {
              "outlinewidth": 0,
              "ticks": ""
             }
            },
            "type": "scatterternary"
           }
          ],
          "surface": [
           {
            "colorbar": {
             "outlinewidth": 0,
             "ticks": ""
            },
            "colorscale": [
             [
              0,
              "#0d0887"
             ],
             [
              0.1111111111111111,
              "#46039f"
             ],
             [
              0.2222222222222222,
              "#7201a8"
             ],
             [
              0.3333333333333333,
              "#9c179e"
             ],
             [
              0.4444444444444444,
              "#bd3786"
             ],
             [
              0.5555555555555556,
              "#d8576b"
             ],
             [
              0.6666666666666666,
              "#ed7953"
             ],
             [
              0.7777777777777778,
              "#fb9f3a"
             ],
             [
              0.8888888888888888,
              "#fdca26"
             ],
             [
              1,
              "#f0f921"
             ]
            ],
            "type": "surface"
           }
          ],
          "table": [
           {
            "cells": {
             "fill": {
              "color": "#EBF0F8"
             },
             "line": {
              "color": "white"
             }
            },
            "header": {
             "fill": {
              "color": "#C8D4E3"
             },
             "line": {
              "color": "white"
             }
            },
            "type": "table"
           }
          ]
         },
         "layout": {
          "annotationdefaults": {
           "arrowcolor": "#2a3f5f",
           "arrowhead": 0,
           "arrowwidth": 1
          },
          "autotypenumbers": "strict",
          "coloraxis": {
           "colorbar": {
            "outlinewidth": 0,
            "ticks": ""
           }
          },
          "colorscale": {
           "diverging": [
            [
             0,
             "#8e0152"
            ],
            [
             0.1,
             "#c51b7d"
            ],
            [
             0.2,
             "#de77ae"
            ],
            [
             0.3,
             "#f1b6da"
            ],
            [
             0.4,
             "#fde0ef"
            ],
            [
             0.5,
             "#f7f7f7"
            ],
            [
             0.6,
             "#e6f5d0"
            ],
            [
             0.7,
             "#b8e186"
            ],
            [
             0.8,
             "#7fbc41"
            ],
            [
             0.9,
             "#4d9221"
            ],
            [
             1,
             "#276419"
            ]
           ],
           "sequential": [
            [
             0,
             "#0d0887"
            ],
            [
             0.1111111111111111,
             "#46039f"
            ],
            [
             0.2222222222222222,
             "#7201a8"
            ],
            [
             0.3333333333333333,
             "#9c179e"
            ],
            [
             0.4444444444444444,
             "#bd3786"
            ],
            [
             0.5555555555555556,
             "#d8576b"
            ],
            [
             0.6666666666666666,
             "#ed7953"
            ],
            [
             0.7777777777777778,
             "#fb9f3a"
            ],
            [
             0.8888888888888888,
             "#fdca26"
            ],
            [
             1,
             "#f0f921"
            ]
           ],
           "sequentialminus": [
            [
             0,
             "#0d0887"
            ],
            [
             0.1111111111111111,
             "#46039f"
            ],
            [
             0.2222222222222222,
             "#7201a8"
            ],
            [
             0.3333333333333333,
             "#9c179e"
            ],
            [
             0.4444444444444444,
             "#bd3786"
            ],
            [
             0.5555555555555556,
             "#d8576b"
            ],
            [
             0.6666666666666666,
             "#ed7953"
            ],
            [
             0.7777777777777778,
             "#fb9f3a"
            ],
            [
             0.8888888888888888,
             "#fdca26"
            ],
            [
             1,
             "#f0f921"
            ]
           ]
          },
          "colorway": [
           "#636efa",
           "#EF553B",
           "#00cc96",
           "#ab63fa",
           "#FFA15A",
           "#19d3f3",
           "#FF6692",
           "#B6E880",
           "#FF97FF",
           "#FECB52"
          ],
          "font": {
           "color": "#2a3f5f"
          },
          "geo": {
           "bgcolor": "white",
           "lakecolor": "white",
           "landcolor": "#E5ECF6",
           "showlakes": true,
           "showland": true,
           "subunitcolor": "white"
          },
          "hoverlabel": {
           "align": "left"
          },
          "hovermode": "closest",
          "mapbox": {
           "style": "light"
          },
          "paper_bgcolor": "white",
          "plot_bgcolor": "#E5ECF6",
          "polar": {
           "angularaxis": {
            "gridcolor": "white",
            "linecolor": "white",
            "ticks": ""
           },
           "bgcolor": "#E5ECF6",
           "radialaxis": {
            "gridcolor": "white",
            "linecolor": "white",
            "ticks": ""
           }
          },
          "scene": {
           "xaxis": {
            "backgroundcolor": "#E5ECF6",
            "gridcolor": "white",
            "gridwidth": 2,
            "linecolor": "white",
            "showbackground": true,
            "ticks": "",
            "zerolinecolor": "white"
           },
           "yaxis": {
            "backgroundcolor": "#E5ECF6",
            "gridcolor": "white",
            "gridwidth": 2,
            "linecolor": "white",
            "showbackground": true,
            "ticks": "",
            "zerolinecolor": "white"
           },
           "zaxis": {
            "backgroundcolor": "#E5ECF6",
            "gridcolor": "white",
            "gridwidth": 2,
            "linecolor": "white",
            "showbackground": true,
            "ticks": "",
            "zerolinecolor": "white"
           }
          },
          "shapedefaults": {
           "line": {
            "color": "#2a3f5f"
           }
          },
          "ternary": {
           "aaxis": {
            "gridcolor": "white",
            "linecolor": "white",
            "ticks": ""
           },
           "baxis": {
            "gridcolor": "white",
            "linecolor": "white",
            "ticks": ""
           },
           "bgcolor": "#E5ECF6",
           "caxis": {
            "gridcolor": "white",
            "linecolor": "white",
            "ticks": ""
           }
          },
          "title": {
           "x": 0.05
          },
          "xaxis": {
           "automargin": true,
           "gridcolor": "white",
           "linecolor": "white",
           "ticks": "",
           "title": {
            "standoff": 15
           },
           "zerolinecolor": "white",
           "zerolinewidth": 2
          },
          "yaxis": {
           "automargin": true,
           "gridcolor": "white",
           "linecolor": "white",
           "ticks": "",
           "title": {
            "standoff": 15
           },
           "zerolinecolor": "white",
           "zerolinewidth": 2
          }
         }
        },
        "title": {
         "text": "Service duration by car model",
         "x": 0.5
        },
        "xaxis": {
         "anchor": "y",
         "categoryarray": [
          "TUCSAN",
          "ELANTRA",
          "avanza",
          "FLUENCE",
          "corolla",
          "camry",
          "FORTUNER",
          "prado",
          "SPORTAGE",
          "CERATO",
          "spark",
          "sonic",
          "rio",
          "I 10",
          "corolla ",
          "cruze",
          "Hilux",
          "H 1",
          "OPTIMA",
          "accent",
          "yaris",
          "Rav 4 ",
          "            Spark      ",
          "SPARK",
          "Rio",
          "cerato",
          "fortuner",
          "optima",
          "Rav 4",
          "Prius",
          " Gunsayil ",
          "Citroen",
          "I10",
          "pruis",
          "tucsan"
         ],
         "categoryorder": "array",
         "domain": [
          0,
          1
         ],
         "title": {
          "text": "car"
         }
        },
        "yaxis": {
         "anchor": "x",
         "domain": [
          0,
          1
         ],
         "title": {
          "text": "service_duration"
         }
        }
       }
      },
      "text/html": [
       "<div>                            <div id=\"83ab4637-b131-4138-a851-15988a6790a7\" class=\"plotly-graph-div\" style=\"height:525px; width:100%;\"></div>            <script type=\"text/javascript\">                require([\"plotly\"], function(Plotly) {                    window.PLOTLYENV=window.PLOTLYENV || {};                                    if (document.getElementById(\"83ab4637-b131-4138-a851-15988a6790a7\")) {                    Plotly.newPlot(                        \"83ab4637-b131-4138-a851-15988a6790a7\",                        [{\"alignmentgroup\":\"True\",\"hovertemplate\":\"car=%{x}\\u003cbr\\u003eservice_duration=%{y}\\u003cextra\\u003e\\u003c\\u002fextra\\u003e\",\"legendgroup\":\"TUCSAN\",\"marker\":{\"color\":\"#636efa\"},\"name\":\"TUCSAN\",\"notched\":false,\"offsetgroup\":\"TUCSAN\",\"orientation\":\"v\",\"showlegend\":true,\"x\":[\"TUCSAN\",\"TUCSAN\",\"TUCSAN\",\"TUCSAN\",\"TUCSAN\",\"TUCSAN\",\"TUCSAN\",\"TUCSAN\",\"TUCSAN\",\"TUCSAN\",\"TUCSAN\",\"TUCSAN\"],\"x0\":\" \",\"xaxis\":\"x\",\"y\":[5,1,1,1,4,1,1,1,4,1,1,1],\"y0\":\" \",\"yaxis\":\"y\",\"type\":\"box\"},{\"alignmentgroup\":\"True\",\"hovertemplate\":\"car=%{x}\\u003cbr\\u003eservice_duration=%{y}\\u003cextra\\u003e\\u003c\\u002fextra\\u003e\",\"legendgroup\":\"ELANTRA\",\"marker\":{\"color\":\"#EF553B\"},\"name\":\"ELANTRA\",\"notched\":false,\"offsetgroup\":\"ELANTRA\",\"orientation\":\"v\",\"showlegend\":true,\"x\":[\"ELANTRA\",\"ELANTRA\",\"ELANTRA\",\"ELANTRA\",\"ELANTRA\",\"ELANTRA\",\"ELANTRA\",\"ELANTRA\",\"ELANTRA\",\"ELANTRA\",\"ELANTRA\",\"ELANTRA\",\"ELANTRA\",\"ELANTRA\",\"ELANTRA\",\"ELANTRA\",\"ELANTRA\",\"ELANTRA\",\"ELANTRA\",\"ELANTRA\",\"ELANTRA\",\"ELANTRA\",\"ELANTRA\",\"ELANTRA\",\"ELANTRA\",\"ELANTRA\",\"ELANTRA\",\"ELANTRA\",\"ELANTRA\",\"ELANTRA\",\"ELANTRA\",\"ELANTRA\",\"ELANTRA\",\"ELANTRA\",\"ELANTRA\",\"ELANTRA\",\"ELANTRA\",\"ELANTRA\",\"ELANTRA\",\"ELANTRA\",\"ELANTRA\",\"ELANTRA\",\"ELANTRA\",\"ELANTRA\",\"ELANTRA\",\"ELANTRA\",\"ELANTRA\",\"ELANTRA\",\"ELANTRA\",\"ELANTRA\",\"ELANTRA\",\"ELANTRA\",\"ELANTRA\",\"ELANTRA\",\"ELANTRA\",\"ELANTRA\",\"ELANTRA\",\"ELANTRA\",\"ELANTRA\",\"ELANTRA\",\"ELANTRA\",\"ELANTRA\",\"ELANTRA\",\"ELANTRA\",\"ELANTRA\",\"ELANTRA\",\"ELANTRA\",\"ELANTRA\",\"ELANTRA\",\"ELANTRA\",\"ELANTRA\",\"ELANTRA\",\"ELANTRA\",\"ELANTRA\",\"ELANTRA\",\"ELANTRA\",\"ELANTRA\",\"ELANTRA\",\"ELANTRA\",\"ELANTRA\",\"ELANTRA\",\"ELANTRA\",\"ELANTRA\",\"ELANTRA\",\"ELANTRA\",\"ELANTRA\",\"ELANTRA\"],\"x0\":\" \",\"xaxis\":\"x\",\"y\":[5,1,1,1,17,1,1,1,9,1,1,9,1,7,11,1,1,2,8,1,1,1,1,6,1,1,1,1,1,1,1,1,1,1,1,1,7,1,1,1,1,1,1,1,1,1,1,1,1,1,1,1,3,1,1,1,1,1,1,1,1,1,1,1,5,1,1,1,1,1,1,1,1,1,1,1,4,5,1,1,1,1,9,1,6,9,1],\"y0\":\" \",\"yaxis\":\"y\",\"type\":\"box\"},{\"alignmentgroup\":\"True\",\"hovertemplate\":\"car=%{x}\\u003cbr\\u003eservice_duration=%{y}\\u003cextra\\u003e\\u003c\\u002fextra\\u003e\",\"legendgroup\":\"avanza\",\"marker\":{\"color\":\"#00cc96\"},\"name\":\"avanza\",\"notched\":false,\"offsetgroup\":\"avanza\",\"orientation\":\"v\",\"showlegend\":true,\"x\":[\"avanza\",\"avanza\",\"avanza\",\"avanza\",\"avanza\",\"avanza\",\"avanza\",\"avanza\",\"avanza\",\"avanza\",\"avanza\",\"avanza\",\"avanza\",\"avanza\",\"avanza\",\"avanza\",\"avanza\",\"avanza\",\"avanza\",\"avanza\",\"avanza\",\"avanza\",\"avanza\",\"avanza\",\"avanza\",\"avanza\",\"avanza\",\"avanza\",\"avanza\",\"avanza\",\"avanza\",\"avanza\",\"avanza\",\"avanza\",\"avanza\",\"avanza\",\"avanza\",\"avanza\",\"avanza\",\"avanza\",\"avanza\",\"avanza\",\"avanza\",\"avanza\",\"avanza\",\"avanza\",\"avanza\",\"avanza\",\"avanza\",\"avanza\",\"avanza\",\"avanza\",\"avanza\",\"avanza\",\"avanza\",\"avanza\",\"avanza\",\"avanza\",\"avanza\",\"avanza\",\"avanza\",\"avanza\"],\"x0\":\" \",\"xaxis\":\"x\",\"y\":[11,6,1,1,1,1,1,1,1,1,2,1,1,2,3,1,1,11,1,7,5,6,1,8,1,1,1,1,1,1,7,6,7,1,1,1,1,1,1,1,1,1,1,1,1,1,1,1,1,1,1,1,1,1,1,1,1,4,3,4,5,1],\"y0\":\" \",\"yaxis\":\"y\",\"type\":\"box\"},{\"alignmentgroup\":\"True\",\"hovertemplate\":\"car=%{x}\\u003cbr\\u003eservice_duration=%{y}\\u003cextra\\u003e\\u003c\\u002fextra\\u003e\",\"legendgroup\":\"FLUENCE\",\"marker\":{\"color\":\"#ab63fa\"},\"name\":\"FLUENCE\",\"notched\":false,\"offsetgroup\":\"FLUENCE\",\"orientation\":\"v\",\"showlegend\":true,\"x\":[\"FLUENCE\",\"FLUENCE\",\"FLUENCE\",\"FLUENCE\",\"FLUENCE\",\"FLUENCE\",\"FLUENCE\",\"FLUENCE\",\"FLUENCE\",\"FLUENCE\",\"FLUENCE\",\"FLUENCE\",\"FLUENCE\",\"FLUENCE\",\"FLUENCE\",\"FLUENCE\",\"FLUENCE\",\"FLUENCE\",\"FLUENCE\",\"FLUENCE\",\"FLUENCE\",\"FLUENCE\",\"FLUENCE\",\"FLUENCE\",\"FLUENCE\",\"FLUENCE\",\"FLUENCE\",\"FLUENCE\",\"FLUENCE\",\"FLUENCE\",\"FLUENCE\",\"FLUENCE\",\"FLUENCE\",\"FLUENCE\",\"FLUENCE\",\"FLUENCE\",\"FLUENCE\",\"FLUENCE\",\"FLUENCE\",\"FLUENCE\",\"FLUENCE\",\"FLUENCE\",\"FLUENCE\",\"FLUENCE\",\"FLUENCE\",\"FLUENCE\",\"FLUENCE\",\"FLUENCE\",\"FLUENCE\",\"FLUENCE\",\"FLUENCE\",\"FLUENCE\",\"FLUENCE\",\"FLUENCE\"],\"x0\":\" \",\"xaxis\":\"x\",\"y\":[6,6,1,12,1,1,1,1,1,1,1,1,1,1,1,1,1,1,6,1,1,1,1,1,1,1,1,1,1,5,1,1,1,1,4,1,1,1,1,1,1,1,1,1,1,1,4,1,1,1,8,1,1,1],\"y0\":\" \",\"yaxis\":\"y\",\"type\":\"box\"},{\"alignmentgroup\":\"True\",\"hovertemplate\":\"car=%{x}\\u003cbr\\u003eservice_duration=%{y}\\u003cextra\\u003e\\u003c\\u002fextra\\u003e\",\"legendgroup\":\"corolla\",\"marker\":{\"color\":\"#FFA15A\"},\"name\":\"corolla\",\"notched\":false,\"offsetgroup\":\"corolla\",\"orientation\":\"v\",\"showlegend\":true,\"x\":[\"corolla\",\"corolla\",\"corolla\",\"corolla\",\"corolla\",\"corolla\",\"corolla\",\"corolla\",\"corolla\",\"corolla\",\"corolla\",\"corolla\",\"corolla\",\"corolla\",\"corolla\",\"corolla\",\"corolla\",\"corolla\",\"corolla\",\"corolla\",\"corolla\",\"corolla\",\"corolla\",\"corolla\",\"corolla\",\"corolla\",\"corolla\",\"corolla\",\"corolla\",\"corolla\",\"corolla\",\"corolla\",\"corolla\",\"corolla\",\"corolla\",\"corolla\",\"corolla\",\"corolla\",\"corolla\",\"corolla\",\"corolla\",\"corolla\",\"corolla\",\"corolla\",\"corolla\",\"corolla\",\"corolla\",\"corolla\",\"corolla\",\"corolla\",\"corolla\",\"corolla\",\"corolla\",\"corolla\",\"corolla\",\"corolla\",\"corolla\",\"corolla\",\"corolla\",\"corolla\",\"corolla\",\"corolla\",\"corolla\",\"corolla\",\"corolla\",\"corolla\",\"corolla\",\"corolla\",\"corolla\",\"corolla\",\"corolla\",\"corolla\",\"corolla\",\"corolla\",\"corolla\",\"corolla\",\"corolla\",\"corolla\",\"corolla\",\"corolla\",\"corolla\",\"corolla\",\"corolla\",\"corolla\",\"corolla\",\"corolla\",\"corolla\",\"corolla\",\"corolla\",\"corolla\",\"corolla\",\"corolla\",\"corolla\",\"corolla\",\"corolla\",\"corolla\",\"corolla\",\"corolla\",\"corolla\",\"corolla\",\"corolla\",\"corolla\",\"corolla\",\"corolla\",\"corolla\",\"corolla\",\"corolla\",\"corolla\",\"corolla\",\"corolla\",\"corolla\",\"corolla\",\"corolla\",\"corolla\",\"corolla\",\"corolla\",\"corolla\",\"corolla\",\"corolla\",\"corolla\",\"corolla\",\"corolla\",\"corolla\",\"corolla\",\"corolla\",\"corolla\",\"corolla\",\"corolla\",\"corolla\",\"corolla\",\"corolla\",\"corolla\",\"corolla\",\"corolla\",\"corolla\",\"corolla\",\"corolla\",\"corolla\",\"corolla\",\"corolla\",\"corolla\",\"corolla\",\"corolla\",\"corolla\",\"corolla\",\"corolla\",\"corolla\",\"corolla\",\"corolla\",\"corolla\",\"corolla\",\"corolla\",\"corolla\"],\"x0\":\" \",\"xaxis\":\"x\",\"y\":[8,1,1,1,1,1,2,1,1,1,1,1,1,1,1,4,1,1,4,1,1,5,1,1,3,7,8,1,1,4,1,1,1,1,1,1,3,1,1,1,1,1,3,1,1,1,7,1,1,1,1,1,1,1,1,1,1,2,1,1,1,1,3,1,1,1,1,1,1,1,1,1,1,1,1,1,1,1,1,1,1,6,1,1,1,1,1,1,1,1,1,1,1,1,1,1,1,1,1,1,1,1,1,1,1,1,1,1,1,1,1,1,1,1,1,1,4,4,1,1,1,1,1,1,1,6,1,1,1,1,5,1,4,5,1,1,5,1,1,1,1,1,1,1,1,6,1,5,1,7,1,1,8],\"y0\":\" \",\"yaxis\":\"y\",\"type\":\"box\"},{\"alignmentgroup\":\"True\",\"hovertemplate\":\"car=%{x}\\u003cbr\\u003eservice_duration=%{y}\\u003cextra\\u003e\\u003c\\u002fextra\\u003e\",\"legendgroup\":\"camry\",\"marker\":{\"color\":\"#19d3f3\"},\"name\":\"camry\",\"notched\":false,\"offsetgroup\":\"camry\",\"orientation\":\"v\",\"showlegend\":true,\"x\":[\"camry\",\"camry\",\"camry\",\"camry\",\"camry\",\"camry\",\"camry\",\"camry\",\"camry\",\"camry\",\"camry\",\"camry\",\"camry\",\"camry\",\"camry\",\"camry\",\"camry\",\"camry\",\"camry\",\"camry\",\"camry\",\"camry\",\"camry\",\"camry\",\"camry\",\"camry\",\"camry\",\"camry\",\"camry\",\"camry\",\"camry\",\"camry\",\"camry\",\"camry\",\"camry\",\"camry\",\"camry\",\"camry\",\"camry\",\"camry\",\"camry\",\"camry\",\"camry\",\"camry\",\"camry\",\"camry\",\"camry\",\"camry\",\"camry\",\"camry\",\"camry\",\"camry\",\"camry\",\"camry\",\"camry\",\"camry\",\"camry\",\"camry\",\"camry\",\"camry\",\"camry\",\"camry\",\"camry\",\"camry\",\"camry\",\"camry\",\"camry\",\"camry\",\"camry\",\"camry\",\"camry\",\"camry\",\"camry\",\"camry\",\"camry\",\"camry\",\"camry\",\"camry\",\"camry\",\"camry\",\"camry\",\"camry\",\"camry\",\"camry\",\"camry\",\"camry\"],\"x0\":\" \",\"xaxis\":\"x\",\"y\":[1,2,1,1,1,1,1,4,1,1,1,3,5,1,1,1,1,1,10,1,8,1,4,1,1,1,1,1,11,1,1,1,5,5,1,1,24,6,5,6,1,1,6,6,1,1,1,12,1,1,1,1,1,1,5,1,5,1,1,1,1,1,1,5,1,1,1,1,1,1,1,1,1,1,4,1,5,1,1,1,6,8,1,9,7,4],\"y0\":\" \",\"yaxis\":\"y\",\"type\":\"box\"},{\"alignmentgroup\":\"True\",\"hovertemplate\":\"car=%{x}\\u003cbr\\u003eservice_duration=%{y}\\u003cextra\\u003e\\u003c\\u002fextra\\u003e\",\"legendgroup\":\"FORTUNER\",\"marker\":{\"color\":\"#FF6692\"},\"name\":\"FORTUNER\",\"notched\":false,\"offsetgroup\":\"FORTUNER\",\"orientation\":\"v\",\"showlegend\":true,\"x\":[\"FORTUNER\",\"FORTUNER\",\"FORTUNER\",\"FORTUNER\",\"FORTUNER\",\"FORTUNER\",\"FORTUNER\",\"FORTUNER\",\"FORTUNER\",\"FORTUNER\",\"FORTUNER\",\"FORTUNER\",\"FORTUNER\",\"FORTUNER\",\"FORTUNER\",\"FORTUNER\",\"FORTUNER\",\"FORTUNER\",\"FORTUNER\",\"FORTUNER\",\"FORTUNER\",\"FORTUNER\",\"FORTUNER\",\"FORTUNER\",\"FORTUNER\",\"FORTUNER\",\"FORTUNER\",\"FORTUNER\",\"FORTUNER\",\"FORTUNER\",\"FORTUNER\",\"FORTUNER\",\"FORTUNER\",\"FORTUNER\",\"FORTUNER\",\"FORTUNER\",\"FORTUNER\",\"FORTUNER\",\"FORTUNER\",\"FORTUNER\",\"FORTUNER\",\"FORTUNER\",\"FORTUNER\",\"FORTUNER\",\"FORTUNER\",\"FORTUNER\",\"FORTUNER\",\"FORTUNER\",\"FORTUNER\",\"FORTUNER\",\"FORTUNER\",\"FORTUNER\",\"FORTUNER\",\"FORTUNER\",\"FORTUNER\",\"FORTUNER\",\"FORTUNER\",\"FORTUNER\",\"FORTUNER\",\"FORTUNER\",\"FORTUNER\",\"FORTUNER\",\"FORTUNER\",\"FORTUNER\",\"FORTUNER\",\"FORTUNER\",\"FORTUNER\",\"FORTUNER\",\"FORTUNER\",\"FORTUNER\",\"FORTUNER\",\"FORTUNER\",\"FORTUNER\",\"FORTUNER\",\"FORTUNER\",\"FORTUNER\",\"FORTUNER\",\"FORTUNER\",\"FORTUNER\",\"FORTUNER\",\"FORTUNER\",\"FORTUNER\",\"FORTUNER\",\"FORTUNER\",\"FORTUNER\",\"FORTUNER\",\"FORTUNER\",\"FORTUNER\",\"FORTUNER\",\"FORTUNER\",\"FORTUNER\",\"FORTUNER\",\"FORTUNER\",\"FORTUNER\",\"FORTUNER\",\"FORTUNER\",\"FORTUNER\",\"FORTUNER\",\"FORTUNER\",\"FORTUNER\",\"FORTUNER\",\"FORTUNER\",\"FORTUNER\",\"FORTUNER\",\"FORTUNER\",\"FORTUNER\",\"FORTUNER\",\"FORTUNER\",\"FORTUNER\",\"FORTUNER\",\"FORTUNER\",\"FORTUNER\",\"FORTUNER\",\"FORTUNER\",\"FORTUNER\",\"FORTUNER\",\"FORTUNER\",\"FORTUNER\",\"FORTUNER\",\"FORTUNER\",\"FORTUNER\",\"FORTUNER\",\"FORTUNER\",\"FORTUNER\",\"FORTUNER\",\"FORTUNER\",\"FORTUNER\",\"FORTUNER\",\"FORTUNER\",\"FORTUNER\",\"FORTUNER\",\"FORTUNER\",\"FORTUNER\",\"FORTUNER\",\"FORTUNER\",\"FORTUNER\",\"FORTUNER\",\"FORTUNER\",\"FORTUNER\",\"FORTUNER\",\"FORTUNER\",\"FORTUNER\",\"FORTUNER\",\"FORTUNER\",\"FORTUNER\",\"FORTUNER\",\"FORTUNER\",\"FORTUNER\",\"FORTUNER\",\"FORTUNER\",\"FORTUNER\",\"FORTUNER\",\"FORTUNER\",\"FORTUNER\",\"FORTUNER\",\"FORTUNER\",\"FORTUNER\",\"FORTUNER\",\"FORTUNER\",\"FORTUNER\",\"FORTUNER\",\"FORTUNER\",\"FORTUNER\",\"FORTUNER\",\"FORTUNER\",\"FORTUNER\",\"FORTUNER\",\"FORTUNER\",\"FORTUNER\",\"FORTUNER\",\"FORTUNER\",\"FORTUNER\",\"FORTUNER\",\"FORTUNER\",\"FORTUNER\",\"FORTUNER\",\"FORTUNER\",\"FORTUNER\",\"FORTUNER\",\"FORTUNER\",\"FORTUNER\",\"FORTUNER\",\"FORTUNER\",\"FORTUNER\",\"FORTUNER\",\"FORTUNER\",\"FORTUNER\",\"FORTUNER\",\"FORTUNER\",\"FORTUNER\",\"FORTUNER\",\"FORTUNER\",\"FORTUNER\",\"FORTUNER\",\"FORTUNER\",\"FORTUNER\",\"FORTUNER\",\"FORTUNER\",\"FORTUNER\",\"FORTUNER\",\"FORTUNER\",\"FORTUNER\",\"FORTUNER\",\"FORTUNER\",\"FORTUNER\",\"FORTUNER\",\"FORTUNER\",\"FORTUNER\",\"FORTUNER\",\"FORTUNER\",\"FORTUNER\",\"FORTUNER\",\"FORTUNER\",\"FORTUNER\",\"FORTUNER\",\"FORTUNER\",\"FORTUNER\",\"FORTUNER\",\"FORTUNER\",\"FORTUNER\"],\"x0\":\" \",\"xaxis\":\"x\",\"y\":[1,1,1,1,1,1,13,1,1,1,4,1,1,1,1,1,1,1,1,3,30,1,1,8,70,18,1,1,1,1,1,1,1,2,2,1,1,1,4,1,1,1,1,1,1,1,5,1,1,32,1,1,1,1,1,1,1,1,1,1,7,2,1,1,1,1,1,1,1,2,2,1,1,2,1,1,1,3,6,1,1,1,1,2,1,2,2,1,1,1,1,1,1,1,1,2,1,1,7,1,1,1,1,1,8,1,1,4,1,1,1,1,1,1,1,1,1,1,1,1,1,1,1,1,1,1,1,1,1,1,1,1,7,1,1,1,4,1,1,1,1,1,1,1,1,1,1,1,1,1,1,1,1,1,1,1,1,1,1,1,1,1,1,1,1,1,1,1,1,1,1,1,1,1,1,1,1,1,1,1,1,1,1,1,1,1,1,1,1,1,1,1,5,6,4,1,1,1,1,1,1,1,1,1,1,1,11,11,1,1,1,1,1,1,1,1,1,1,1,1],\"y0\":\" \",\"yaxis\":\"y\",\"type\":\"box\"},{\"alignmentgroup\":\"True\",\"hovertemplate\":\"car=%{x}\\u003cbr\\u003eservice_duration=%{y}\\u003cextra\\u003e\\u003c\\u002fextra\\u003e\",\"legendgroup\":\"prado\",\"marker\":{\"color\":\"#B6E880\"},\"name\":\"prado\",\"notched\":false,\"offsetgroup\":\"prado\",\"orientation\":\"v\",\"showlegend\":true,\"x\":[\"prado\",\"prado\",\"prado\",\"prado\",\"prado\",\"prado\",\"prado\",\"prado\",\"prado\",\"prado\",\"prado\",\"prado\",\"prado\",\"prado\",\"prado\",\"prado\",\"prado\",\"prado\",\"prado\"],\"x0\":\" \",\"xaxis\":\"x\",\"y\":[1,1,1,1,1,1,1,5,1,1,1,1,1,1,5,1,1,4,1],\"y0\":\" \",\"yaxis\":\"y\",\"type\":\"box\"},{\"alignmentgroup\":\"True\",\"hovertemplate\":\"car=%{x}\\u003cbr\\u003eservice_duration=%{y}\\u003cextra\\u003e\\u003c\\u002fextra\\u003e\",\"legendgroup\":\"SPORTAGE\",\"marker\":{\"color\":\"#FF97FF\"},\"name\":\"SPORTAGE\",\"notched\":false,\"offsetgroup\":\"SPORTAGE\",\"orientation\":\"v\",\"showlegend\":true,\"x\":[\"SPORTAGE\",\"SPORTAGE\",\"SPORTAGE\",\"SPORTAGE\",\"SPORTAGE\",\"SPORTAGE\",\"SPORTAGE\",\"SPORTAGE\",\"SPORTAGE\",\"SPORTAGE\",\"SPORTAGE\",\"SPORTAGE\",\"SPORTAGE\",\"SPORTAGE\",\"SPORTAGE\",\"SPORTAGE\",\"SPORTAGE\",\"SPORTAGE\",\"SPORTAGE\",\"SPORTAGE\",\"SPORTAGE\",\"SPORTAGE\",\"SPORTAGE\",\"SPORTAGE\",\"SPORTAGE\",\"SPORTAGE\",\"SPORTAGE\",\"SPORTAGE\",\"SPORTAGE\",\"SPORTAGE\",\"SPORTAGE\",\"SPORTAGE\",\"SPORTAGE\",\"SPORTAGE\",\"SPORTAGE\",\"SPORTAGE\",\"SPORTAGE\",\"SPORTAGE\",\"SPORTAGE\",\"SPORTAGE\",\"SPORTAGE\",\"SPORTAGE\",\"SPORTAGE\",\"SPORTAGE\",\"SPORTAGE\",\"SPORTAGE\",\"SPORTAGE\",\"SPORTAGE\",\"SPORTAGE\",\"SPORTAGE\",\"SPORTAGE\",\"SPORTAGE\",\"SPORTAGE\",\"SPORTAGE\",\"SPORTAGE\",\"SPORTAGE\",\"SPORTAGE\",\"SPORTAGE\",\"SPORTAGE\",\"SPORTAGE\",\"SPORTAGE\"],\"x0\":\" \",\"xaxis\":\"x\",\"y\":[1,10,1,1,1,1,1,1,1,1,1,1,1,1,1,1,1,2,1,1,3,2,2,2,2,1,1,1,1,1,1,1,1,1,1,1,1,1,1,1,1,1,1,1,1,1,1,1,1,1,1,1,1,1,1,1,1,1,1,1,1],\"y0\":\" \",\"yaxis\":\"y\",\"type\":\"box\"},{\"alignmentgroup\":\"True\",\"hovertemplate\":\"car=%{x}\\u003cbr\\u003eservice_duration=%{y}\\u003cextra\\u003e\\u003c\\u002fextra\\u003e\",\"legendgroup\":\"CERATO\",\"marker\":{\"color\":\"#FECB52\"},\"name\":\"CERATO\",\"notched\":false,\"offsetgroup\":\"CERATO\",\"orientation\":\"v\",\"showlegend\":true,\"x\":[\"CERATO\",\"CERATO\",\"CERATO\",\"CERATO\",\"CERATO\",\"CERATO\",\"CERATO\",\"CERATO\",\"CERATO\",\"CERATO\",\"CERATO\",\"CERATO\",\"CERATO\",\"CERATO\",\"CERATO\",\"CERATO\",\"CERATO\",\"CERATO\",\"CERATO\",\"CERATO\",\"CERATO\",\"CERATO\",\"CERATO\",\"CERATO\",\"CERATO\",\"CERATO\",\"CERATO\",\"CERATO\",\"CERATO\",\"CERATO\",\"CERATO\",\"CERATO\",\"CERATO\",\"CERATO\",\"CERATO\",\"CERATO\",\"CERATO\",\"CERATO\",\"CERATO\",\"CERATO\",\"CERATO\",\"CERATO\",\"CERATO\",\"CERATO\",\"CERATO\",\"CERATO\",\"CERATO\",\"CERATO\",\"CERATO\",\"CERATO\",\"CERATO\",\"CERATO\",\"CERATO\",\"CERATO\",\"CERATO\",\"CERATO\",\"CERATO\",\"CERATO\",\"CERATO\",\"CERATO\",\"CERATO\",\"CERATO\",\"CERATO\",\"CERATO\",\"CERATO\",\"CERATO\",\"CERATO\",\"CERATO\",\"CERATO\",\"CERATO\",\"CERATO\",\"CERATO\",\"CERATO\",\"CERATO\",\"CERATO\",\"CERATO\",\"CERATO\",\"CERATO\",\"CERATO\",\"CERATO\",\"CERATO\",\"CERATO\",\"CERATO\",\"CERATO\",\"CERATO\",\"CERATO\",\"CERATO\",\"CERATO\",\"CERATO\",\"CERATO\",\"CERATO\",\"CERATO\",\"CERATO\",\"CERATO\",\"CERATO\",\"CERATO\",\"CERATO\",\"CERATO\",\"CERATO\",\"CERATO\",\"CERATO\",\"CERATO\"],\"x0\":\" \",\"xaxis\":\"x\",\"y\":[4,1,1,1,1,1,1,1,1,1,1,1,6,1,1,1,1,1,1,5,1,1,2,1,1,6,4,3,1,1,1,1,1,1,1,1,1,1,1,1,1,1,1,1,1,1,1,1,1,2,2,1,1,1,1,2,1,2,3,7,2,1,1,1,1,1,1,1,1,1,1,1,3,1,6,1,1,5,1,1,1,1,1,1,4,1,1,1,1,1,6,7,1,7,1,8,1,1,1,1,6,1],\"y0\":\" \",\"yaxis\":\"y\",\"type\":\"box\"},{\"alignmentgroup\":\"True\",\"hovertemplate\":\"car=%{x}\\u003cbr\\u003eservice_duration=%{y}\\u003cextra\\u003e\\u003c\\u002fextra\\u003e\",\"legendgroup\":\"spark\",\"marker\":{\"color\":\"#636efa\"},\"name\":\"spark\",\"notched\":false,\"offsetgroup\":\"spark\",\"orientation\":\"v\",\"showlegend\":true,\"x\":[\"spark\",\"spark\",\"spark\",\"spark\",\"spark\",\"spark\",\"spark\",\"spark\",\"spark\",\"spark\",\"spark\",\"spark\",\"spark\",\"spark\",\"spark\",\"spark\",\"spark\",\"spark\",\"spark\",\"spark\",\"spark\",\"spark\",\"spark\",\"spark\",\"spark\",\"spark\",\"spark\",\"spark\",\"spark\",\"spark\",\"spark\",\"spark\",\"spark\",\"spark\",\"spark\",\"spark\",\"spark\",\"spark\",\"spark\",\"spark\",\"spark\",\"spark\",\"spark\",\"spark\",\"spark\",\"spark\",\"spark\",\"spark\",\"spark\",\"spark\",\"spark\",\"spark\",\"spark\",\"spark\",\"spark\",\"spark\",\"spark\",\"spark\",\"spark\",\"spark\",\"spark\",\"spark\",\"spark\",\"spark\",\"spark\",\"spark\",\"spark\",\"spark\",\"spark\",\"spark\",\"spark\",\"spark\",\"spark\",\"spark\",\"spark\",\"spark\"],\"x0\":\" \",\"xaxis\":\"x\",\"y\":[1,1,1,1,1,1,1,1,1,1,1,1,1,1,1,4,57,1,1,1,1,1,1,1,1,1,3,1,1,2,1,1,5,1,1,1,1,1,1,1,1,1,1,1,1,1,1,1,1,1,1,1,1,1,1,1,1,1,1,1,1,1,1,1,1,1,1,1,1,1,4,5,4,1,1,1],\"y0\":\" \",\"yaxis\":\"y\",\"type\":\"box\"},{\"alignmentgroup\":\"True\",\"hovertemplate\":\"car=%{x}\\u003cbr\\u003eservice_duration=%{y}\\u003cextra\\u003e\\u003c\\u002fextra\\u003e\",\"legendgroup\":\"sonic\",\"marker\":{\"color\":\"#EF553B\"},\"name\":\"sonic\",\"notched\":false,\"offsetgroup\":\"sonic\",\"orientation\":\"v\",\"showlegend\":true,\"x\":[\"sonic\",\"sonic\",\"sonic\",\"sonic\",\"sonic\",\"sonic\",\"sonic\",\"sonic\",\"sonic\",\"sonic\",\"sonic\",\"sonic\",\"sonic\",\"sonic\",\"sonic\",\"sonic\",\"sonic\",\"sonic\",\"sonic\",\"sonic\",\"sonic\",\"sonic\",\"sonic\",\"sonic\",\"sonic\",\"sonic\",\"sonic\",\"sonic\",\"sonic\",\"sonic\",\"sonic\"],\"x0\":\" \",\"xaxis\":\"x\",\"y\":[1,1,1,2,1,1,1,1,1,1,1,3,1,1,1,1,1,1,1,1,1,1,1,1,2,1,1,1,1,5,3],\"y0\":\" \",\"yaxis\":\"y\",\"type\":\"box\"},{\"alignmentgroup\":\"True\",\"hovertemplate\":\"car=%{x}\\u003cbr\\u003eservice_duration=%{y}\\u003cextra\\u003e\\u003c\\u002fextra\\u003e\",\"legendgroup\":\"rio\",\"marker\":{\"color\":\"#00cc96\"},\"name\":\"rio\",\"notched\":false,\"offsetgroup\":\"rio\",\"orientation\":\"v\",\"showlegend\":true,\"x\":[\"rio\",\"rio\",\"rio\",\"rio\",\"rio\",\"rio\",\"rio\",\"rio\",\"rio\",\"rio\",\"rio\",\"rio\",\"rio\",\"rio\",\"rio\",\"rio\",\"rio\",\"rio\",\"rio\",\"rio\",\"rio\",\"rio\",\"rio\",\"rio\",\"rio\",\"rio\",\"rio\",\"rio\",\"rio\",\"rio\",\"rio\",\"rio\",\"rio\",\"rio\",\"rio\",\"rio\",\"rio\",\"rio\",\"rio\",\"rio\",\"rio\",\"rio\",\"rio\",\"rio\",\"rio\",\"rio\",\"rio\",\"rio\",\"rio\",\"rio\",\"rio\",\"rio\",\"rio\",\"rio\",\"rio\",\"rio\",\"rio\",\"rio\",\"rio\",\"rio\",\"rio\",\"rio\",\"rio\",\"rio\",\"rio\",\"rio\",\"rio\",\"rio\",\"rio\"],\"x0\":\" \",\"xaxis\":\"x\",\"y\":[1,1,3,1,1,1,1,1,1,14,1,1,1,1,1,1,1,5,1,1,1,7,1,1,1,1,1,1,1,1,1,1,1,1,1,1,1,1,8,1,1,1,1,1,1,1,1,1,1,1,1,1,1,1,1,1,1,1,1,1,5,1,1,1,1,1,8,1,1],\"y0\":\" \",\"yaxis\":\"y\",\"type\":\"box\"},{\"alignmentgroup\":\"True\",\"hovertemplate\":\"car=%{x}\\u003cbr\\u003eservice_duration=%{y}\\u003cextra\\u003e\\u003c\\u002fextra\\u003e\",\"legendgroup\":\"I 10\",\"marker\":{\"color\":\"#ab63fa\"},\"name\":\"I 10\",\"notched\":false,\"offsetgroup\":\"I 10\",\"orientation\":\"v\",\"showlegend\":true,\"x\":[\"I 10\",\"I 10\",\"I 10\",\"I 10\",\"I 10\",\"I 10\",\"I 10\",\"I 10\",\"I 10\",\"I 10\",\"I 10\",\"I 10\",\"I 10\",\"I 10\",\"I 10\",\"I 10\",\"I 10\",\"I 10\",\"I 10\",\"I 10\",\"I 10\",\"I 10\",\"I 10\",\"I 10\",\"I 10\",\"I 10\",\"I 10\",\"I 10\",\"I 10\",\"I 10\",\"I 10\",\"I 10\",\"I 10\",\"I 10\",\"I 10\"],\"x0\":\" \",\"xaxis\":\"x\",\"y\":[1,1,1,1,1,1,1,1,1,1,1,2,1,3,1,1,1,1,4,1,1,1,1,1,1,6,1,1,1,1,1,1,1,1,7],\"y0\":\" \",\"yaxis\":\"y\",\"type\":\"box\"},{\"alignmentgroup\":\"True\",\"hovertemplate\":\"car=%{x}\\u003cbr\\u003eservice_duration=%{y}\\u003cextra\\u003e\\u003c\\u002fextra\\u003e\",\"legendgroup\":\"corolla \",\"marker\":{\"color\":\"#FFA15A\"},\"name\":\"corolla \",\"notched\":false,\"offsetgroup\":\"corolla \",\"orientation\":\"v\",\"showlegend\":true,\"x\":[\"corolla \",\"corolla \",\"corolla \"],\"x0\":\" \",\"xaxis\":\"x\",\"y\":[1,1,1],\"y0\":\" \",\"yaxis\":\"y\",\"type\":\"box\"},{\"alignmentgroup\":\"True\",\"hovertemplate\":\"car=%{x}\\u003cbr\\u003eservice_duration=%{y}\\u003cextra\\u003e\\u003c\\u002fextra\\u003e\",\"legendgroup\":\"cruze\",\"marker\":{\"color\":\"#19d3f3\"},\"name\":\"cruze\",\"notched\":false,\"offsetgroup\":\"cruze\",\"orientation\":\"v\",\"showlegend\":true,\"x\":[\"cruze\",\"cruze\",\"cruze\",\"cruze\",\"cruze\",\"cruze\",\"cruze\",\"cruze\",\"cruze\",\"cruze\",\"cruze\",\"cruze\",\"cruze\",\"cruze\",\"cruze\",\"cruze\",\"cruze\",\"cruze\",\"cruze\",\"cruze\",\"cruze\",\"cruze\",\"cruze\",\"cruze\",\"cruze\",\"cruze\",\"cruze\",\"cruze\",\"cruze\",\"cruze\",\"cruze\",\"cruze\",\"cruze\",\"cruze\",\"cruze\",\"cruze\",\"cruze\",\"cruze\",\"cruze\",\"cruze\",\"cruze\",\"cruze\",\"cruze\",\"cruze\"],\"x0\":\" \",\"xaxis\":\"x\",\"y\":[1,1,1,1,3,1,1,1,1,1,1,11,1,1,6,2,1,1,4,3,1,7,1,1,4,1,4,6,1,1,1,5,1,1,1,1,1,1,1,1,1,1,1,8],\"y0\":\" \",\"yaxis\":\"y\",\"type\":\"box\"},{\"alignmentgroup\":\"True\",\"hovertemplate\":\"car=%{x}\\u003cbr\\u003eservice_duration=%{y}\\u003cextra\\u003e\\u003c\\u002fextra\\u003e\",\"legendgroup\":\"Hilux\",\"marker\":{\"color\":\"#FF6692\"},\"name\":\"Hilux\",\"notched\":false,\"offsetgroup\":\"Hilux\",\"orientation\":\"v\",\"showlegend\":true,\"x\":[\"Hilux\",\"Hilux\",\"Hilux\",\"Hilux\",\"Hilux\",\"Hilux\",\"Hilux\",\"Hilux\",\"Hilux\",\"Hilux\",\"Hilux\",\"Hilux\",\"Hilux\",\"Hilux\",\"Hilux\",\"Hilux\",\"Hilux\",\"Hilux\",\"Hilux\",\"Hilux\",\"Hilux\",\"Hilux\",\"Hilux\",\"Hilux\",\"Hilux\",\"Hilux\",\"Hilux\",\"Hilux\",\"Hilux\",\"Hilux\",\"Hilux\",\"Hilux\",\"Hilux\",\"Hilux\",\"Hilux\",\"Hilux\",\"Hilux\",\"Hilux\",\"Hilux\",\"Hilux\",\"Hilux\",\"Hilux\",\"Hilux\",\"Hilux\",\"Hilux\",\"Hilux\",\"Hilux\",\"Hilux\",\"Hilux\",\"Hilux\",\"Hilux\",\"Hilux\",\"Hilux\",\"Hilux\",\"Hilux\",\"Hilux\",\"Hilux\",\"Hilux\",\"Hilux\",\"Hilux\",\"Hilux\",\"Hilux\",\"Hilux\",\"Hilux\",\"Hilux\",\"Hilux\",\"Hilux\",\"Hilux\",\"Hilux\",\"Hilux\",\"Hilux\",\"Hilux\",\"Hilux\",\"Hilux\",\"Hilux\",\"Hilux\",\"Hilux\",\"Hilux\",\"Hilux\",\"Hilux\",\"Hilux\",\"Hilux\",\"Hilux\",\"Hilux\",\"Hilux\",\"Hilux\",\"Hilux\",\"Hilux\",\"Hilux\",\"Hilux\",\"Hilux\",\"Hilux\",\"Hilux\",\"Hilux\",\"Hilux\",\"Hilux\",\"Hilux\"],\"x0\":\" \",\"xaxis\":\"x\",\"y\":[1,11,5,1,1,1,1,1,1,1,1,1,1,1,1,1,1,1,1,1,1,1,1,1,1,1,1,1,1,1,1,1,1,1,1,1,1,1,1,1,1,1,1,1,1,1,1,1,1,1,1,1,1,1,1,1,1,1,1,1,1,1,1,1,1,1,1,1,1,1,1,1,1,1,1,1,1,1,1,1,4,1,1,1,1,1,1,1,1,1,1,1,4,1,1,1,1],\"y0\":\" \",\"yaxis\":\"y\",\"type\":\"box\"},{\"alignmentgroup\":\"True\",\"hovertemplate\":\"car=%{x}\\u003cbr\\u003eservice_duration=%{y}\\u003cextra\\u003e\\u003c\\u002fextra\\u003e\",\"legendgroup\":\"H 1\",\"marker\":{\"color\":\"#B6E880\"},\"name\":\"H 1\",\"notched\":false,\"offsetgroup\":\"H 1\",\"orientation\":\"v\",\"showlegend\":true,\"x\":[\"H 1\",\"H 1\",\"H 1\",\"H 1\",\"H 1\",\"H 1\",\"H 1\",\"H 1\",\"H 1\",\"H 1\",\"H 1\",\"H 1\",\"H 1\",\"H 1\",\"H 1\",\"H 1\",\"H 1\",\"H 1\",\"H 1\",\"H 1\",\"H 1\",\"H 1\",\"H 1\",\"H 1\",\"H 1\",\"H 1\",\"H 1\",\"H 1\",\"H 1\",\"H 1\",\"H 1\",\"H 1\",\"H 1\",\"H 1\",\"H 1\",\"H 1\",\"H 1\",\"H 1\",\"H 1\",\"H 1\",\"H 1\",\"H 1\",\"H 1\",\"H 1\",\"H 1\",\"H 1\",\"H 1\",\"H 1\",\"H 1\",\"H 1\",\"H 1\",\"H 1\",\"H 1\",\"H 1\",\"H 1\",\"H 1\",\"H 1\",\"H 1\",\"H 1\",\"H 1\",\"H 1\",\"H 1\",\"H 1\",\"H 1\",\"H 1\",\"H 1\",\"H 1\",\"H 1\",\"H 1\",\"H 1\",\"H 1\",\"H 1\",\"H 1\",\"H 1\",\"H 1\",\"H 1\",\"H 1\",\"H 1\",\"H 1\",\"H 1\",\"H 1\",\"H 1\",\"H 1\",\"H 1\",\"H 1\",\"H 1\",\"H 1\",\"H 1\",\"H 1\",\"H 1\",\"H 1\",\"H 1\",\"H 1\",\"H 1\",\"H 1\",\"H 1\",\"H 1\",\"H 1\",\"H 1\",\"H 1\",\"H 1\"],\"x0\":\" \",\"xaxis\":\"x\",\"y\":[1,1,1,1,1,1,1,1,1,1,1,1,1,1,1,1,1,1,1,1,1,1,2,14,4,1,1,7,4,1,1,1,1,1,4,1,1,2,2,1,1,1,1,9,8,1,1,7,7,7,1,1,1,1,1,1,1,1,1,1,9,1,1,1,1,1,1,1,1,1,1,1,1,1,1,1,1,1,1,1,1,1,1,1,1,1,1,1,1,1,7,7,8,6,1,17,5,1,1,11,7],\"y0\":\" \",\"yaxis\":\"y\",\"type\":\"box\"},{\"alignmentgroup\":\"True\",\"hovertemplate\":\"car=%{x}\\u003cbr\\u003eservice_duration=%{y}\\u003cextra\\u003e\\u003c\\u002fextra\\u003e\",\"legendgroup\":\"OPTIMA\",\"marker\":{\"color\":\"#FF97FF\"},\"name\":\"OPTIMA\",\"notched\":false,\"offsetgroup\":\"OPTIMA\",\"orientation\":\"v\",\"showlegend\":true,\"x\":[\"OPTIMA\",\"OPTIMA\",\"OPTIMA\",\"OPTIMA\",\"OPTIMA\",\"OPTIMA\",\"OPTIMA\",\"OPTIMA\",\"OPTIMA\",\"OPTIMA\",\"OPTIMA\",\"OPTIMA\",\"OPTIMA\",\"OPTIMA\",\"OPTIMA\",\"OPTIMA\"],\"x0\":\" \",\"xaxis\":\"x\",\"y\":[1,1,4,1,1,1,6,4,1,1,1,1,1,1,1,1],\"y0\":\" \",\"yaxis\":\"y\",\"type\":\"box\"},{\"alignmentgroup\":\"True\",\"hovertemplate\":\"car=%{x}\\u003cbr\\u003eservice_duration=%{y}\\u003cextra\\u003e\\u003c\\u002fextra\\u003e\",\"legendgroup\":\"accent\",\"marker\":{\"color\":\"#FECB52\"},\"name\":\"accent\",\"notched\":false,\"offsetgroup\":\"accent\",\"orientation\":\"v\",\"showlegend\":true,\"x\":[\"accent\",\"accent\",\"accent\"],\"x0\":\" \",\"xaxis\":\"x\",\"y\":[1,1,1],\"y0\":\" \",\"yaxis\":\"y\",\"type\":\"box\"},{\"alignmentgroup\":\"True\",\"hovertemplate\":\"car=%{x}\\u003cbr\\u003eservice_duration=%{y}\\u003cextra\\u003e\\u003c\\u002fextra\\u003e\",\"legendgroup\":\"yaris\",\"marker\":{\"color\":\"#636efa\"},\"name\":\"yaris\",\"notched\":false,\"offsetgroup\":\"yaris\",\"orientation\":\"v\",\"showlegend\":true,\"x\":[\"yaris\",\"yaris\",\"yaris\",\"yaris\",\"yaris\",\"yaris\",\"yaris\",\"yaris\",\"yaris\",\"yaris\",\"yaris\",\"yaris\",\"yaris\",\"yaris\",\"yaris\",\"yaris\",\"yaris\",\"yaris\",\"yaris\",\"yaris\",\"yaris\",\"yaris\",\"yaris\",\"yaris\",\"yaris\",\"yaris\",\"yaris\",\"yaris\",\"yaris\",\"yaris\",\"yaris\",\"yaris\",\"yaris\",\"yaris\",\"yaris\",\"yaris\",\"yaris\",\"yaris\",\"yaris\",\"yaris\",\"yaris\",\"yaris\",\"yaris\",\"yaris\",\"yaris\",\"yaris\",\"yaris\",\"yaris\",\"yaris\",\"yaris\",\"yaris\",\"yaris\",\"yaris\",\"yaris\",\"yaris\",\"yaris\"],\"x0\":\" \",\"xaxis\":\"x\",\"y\":[1,1,2,2,3,1,1,4,1,1,1,1,1,14,1,1,1,2,1,1,11,1,1,1,1,1,1,1,1,1,1,1,1,5,1,1,1,1,1,1,1,1,1,1,1,1,1,1,1,1,1,1,1,1,1,1],\"y0\":\" \",\"yaxis\":\"y\",\"type\":\"box\"},{\"alignmentgroup\":\"True\",\"hovertemplate\":\"car=%{x}\\u003cbr\\u003eservice_duration=%{y}\\u003cextra\\u003e\\u003c\\u002fextra\\u003e\",\"legendgroup\":\"Rav 4 \",\"marker\":{\"color\":\"#EF553B\"},\"name\":\"Rav 4 \",\"notched\":false,\"offsetgroup\":\"Rav 4 \",\"orientation\":\"v\",\"showlegend\":true,\"x\":[\"Rav 4 \",\"Rav 4 \",\"Rav 4 \",\"Rav 4 \",\"Rav 4 \"],\"x0\":\" \",\"xaxis\":\"x\",\"y\":[11,1,1,1,1],\"y0\":\" \",\"yaxis\":\"y\",\"type\":\"box\"},{\"alignmentgroup\":\"True\",\"hovertemplate\":\"car=%{x}\\u003cbr\\u003eservice_duration=%{y}\\u003cextra\\u003e\\u003c\\u002fextra\\u003e\",\"legendgroup\":\"            Spark      \",\"marker\":{\"color\":\"#00cc96\"},\"name\":\"            Spark      \",\"notched\":false,\"offsetgroup\":\"            Spark      \",\"orientation\":\"v\",\"showlegend\":true,\"x\":[\"            Spark      \"],\"x0\":\" \",\"xaxis\":\"x\",\"y\":[1],\"y0\":\" \",\"yaxis\":\"y\",\"type\":\"box\"},{\"alignmentgroup\":\"True\",\"hovertemplate\":\"car=%{x}\\u003cbr\\u003eservice_duration=%{y}\\u003cextra\\u003e\\u003c\\u002fextra\\u003e\",\"legendgroup\":\"SPARK\",\"marker\":{\"color\":\"#ab63fa\"},\"name\":\"SPARK\",\"notched\":false,\"offsetgroup\":\"SPARK\",\"orientation\":\"v\",\"showlegend\":true,\"x\":[\"SPARK\"],\"x0\":\" \",\"xaxis\":\"x\",\"y\":[3],\"y0\":\" \",\"yaxis\":\"y\",\"type\":\"box\"},{\"alignmentgroup\":\"True\",\"hovertemplate\":\"car=%{x}\\u003cbr\\u003eservice_duration=%{y}\\u003cextra\\u003e\\u003c\\u002fextra\\u003e\",\"legendgroup\":\"Rio\",\"marker\":{\"color\":\"#FFA15A\"},\"name\":\"Rio\",\"notched\":false,\"offsetgroup\":\"Rio\",\"orientation\":\"v\",\"showlegend\":true,\"x\":[\"Rio\"],\"x0\":\" \",\"xaxis\":\"x\",\"y\":[1],\"y0\":\" \",\"yaxis\":\"y\",\"type\":\"box\"},{\"alignmentgroup\":\"True\",\"hovertemplate\":\"car=%{x}\\u003cbr\\u003eservice_duration=%{y}\\u003cextra\\u003e\\u003c\\u002fextra\\u003e\",\"legendgroup\":\"cerato\",\"marker\":{\"color\":\"#19d3f3\"},\"name\":\"cerato\",\"notched\":false,\"offsetgroup\":\"cerato\",\"orientation\":\"v\",\"showlegend\":true,\"x\":[\"cerato\",\"cerato\",\"cerato\",\"cerato\",\"cerato\",\"cerato\",\"cerato\",\"cerato\",\"cerato\",\"cerato\",\"cerato\",\"cerato\",\"cerato\",\"cerato\",\"cerato\",\"cerato\",\"cerato\",\"cerato\",\"cerato\",\"cerato\",\"cerato\",\"cerato\",\"cerato\",\"cerato\",\"cerato\",\"cerato\",\"cerato\",\"cerato\",\"cerato\",\"cerato\",\"cerato\",\"cerato\",\"cerato\",\"cerato\",\"cerato\",\"cerato\",\"cerato\",\"cerato\",\"cerato\",\"cerato\",\"cerato\",\"cerato\",\"cerato\",\"cerato\",\"cerato\",\"cerato\",\"cerato\",\"cerato\",\"cerato\",\"cerato\",\"cerato\",\"cerato\",\"cerato\",\"cerato\",\"cerato\",\"cerato\",\"cerato\",\"cerato\",\"cerato\",\"cerato\",\"cerato\",\"cerato\",\"cerato\",\"cerato\",\"cerato\",\"cerato\",\"cerato\",\"cerato\",\"cerato\",\"cerato\",\"cerato\",\"cerato\",\"cerato\",\"cerato\",\"cerato\",\"cerato\"],\"x0\":\" \",\"xaxis\":\"x\",\"y\":[1,1,1,1,1,1,1,7,1,1,1,1,1,1,1,1,1,5,3,1,5,1,1,1,6,1,1,1,1,1,1,1,1,1,1,1,1,1,1,1,1,1,1,1,1,1,5,1,1,1,1,1,1,1,1,1,1,1,1,1,1,1,1,5,3,5,4,5,1,1,1,1,1,6,1,1],\"y0\":\" \",\"yaxis\":\"y\",\"type\":\"box\"},{\"alignmentgroup\":\"True\",\"hovertemplate\":\"car=%{x}\\u003cbr\\u003eservice_duration=%{y}\\u003cextra\\u003e\\u003c\\u002fextra\\u003e\",\"legendgroup\":\"fortuner\",\"marker\":{\"color\":\"#FF6692\"},\"name\":\"fortuner\",\"notched\":false,\"offsetgroup\":\"fortuner\",\"orientation\":\"v\",\"showlegend\":true,\"x\":[\"fortuner\",\"fortuner\",\"fortuner\",\"fortuner\",\"fortuner\",\"fortuner\",\"fortuner\",\"fortuner\",\"fortuner\",\"fortuner\",\"fortuner\",\"fortuner\"],\"x0\":\" \",\"xaxis\":\"x\",\"y\":[1,1,1,1,1,1,1,1,1,1,1,1],\"y0\":\" \",\"yaxis\":\"y\",\"type\":\"box\"},{\"alignmentgroup\":\"True\",\"hovertemplate\":\"car=%{x}\\u003cbr\\u003eservice_duration=%{y}\\u003cextra\\u003e\\u003c\\u002fextra\\u003e\",\"legendgroup\":\"optima\",\"marker\":{\"color\":\"#B6E880\"},\"name\":\"optima\",\"notched\":false,\"offsetgroup\":\"optima\",\"orientation\":\"v\",\"showlegend\":true,\"x\":[\"optima\"],\"x0\":\" \",\"xaxis\":\"x\",\"y\":[1],\"y0\":\" \",\"yaxis\":\"y\",\"type\":\"box\"},{\"alignmentgroup\":\"True\",\"hovertemplate\":\"car=%{x}\\u003cbr\\u003eservice_duration=%{y}\\u003cextra\\u003e\\u003c\\u002fextra\\u003e\",\"legendgroup\":\"Rav 4\",\"marker\":{\"color\":\"#FF97FF\"},\"name\":\"Rav 4\",\"notched\":false,\"offsetgroup\":\"Rav 4\",\"orientation\":\"v\",\"showlegend\":true,\"x\":[\"Rav 4\",\"Rav 4\",\"Rav 4\"],\"x0\":\" \",\"xaxis\":\"x\",\"y\":[1,1,1],\"y0\":\" \",\"yaxis\":\"y\",\"type\":\"box\"},{\"alignmentgroup\":\"True\",\"hovertemplate\":\"car=%{x}\\u003cbr\\u003eservice_duration=%{y}\\u003cextra\\u003e\\u003c\\u002fextra\\u003e\",\"legendgroup\":\"Prius\",\"marker\":{\"color\":\"#FECB52\"},\"name\":\"Prius\",\"notched\":false,\"offsetgroup\":\"Prius\",\"orientation\":\"v\",\"showlegend\":true,\"x\":[\"Prius\",\"Prius\",\"Prius\",\"Prius\",\"Prius\",\"Prius\"],\"x0\":\" \",\"xaxis\":\"x\",\"y\":[1,1,1,1,1,1],\"y0\":\" \",\"yaxis\":\"y\",\"type\":\"box\"},{\"alignmentgroup\":\"True\",\"hovertemplate\":\"car=%{x}\\u003cbr\\u003eservice_duration=%{y}\\u003cextra\\u003e\\u003c\\u002fextra\\u003e\",\"legendgroup\":\" Gunsayil \",\"marker\":{\"color\":\"#636efa\"},\"name\":\" Gunsayil \",\"notched\":false,\"offsetgroup\":\" Gunsayil \",\"orientation\":\"v\",\"showlegend\":true,\"x\":[\" Gunsayil \"],\"x0\":\" \",\"xaxis\":\"x\",\"y\":[1],\"y0\":\" \",\"yaxis\":\"y\",\"type\":\"box\"},{\"alignmentgroup\":\"True\",\"hovertemplate\":\"car=%{x}\\u003cbr\\u003eservice_duration=%{y}\\u003cextra\\u003e\\u003c\\u002fextra\\u003e\",\"legendgroup\":\"Citroen\",\"marker\":{\"color\":\"#EF553B\"},\"name\":\"Citroen\",\"notched\":false,\"offsetgroup\":\"Citroen\",\"orientation\":\"v\",\"showlegend\":true,\"x\":[\"Citroen\"],\"x0\":\" \",\"xaxis\":\"x\",\"y\":[5],\"y0\":\" \",\"yaxis\":\"y\",\"type\":\"box\"},{\"alignmentgroup\":\"True\",\"hovertemplate\":\"car=%{x}\\u003cbr\\u003eservice_duration=%{y}\\u003cextra\\u003e\\u003c\\u002fextra\\u003e\",\"legendgroup\":\"I10\",\"marker\":{\"color\":\"#00cc96\"},\"name\":\"I10\",\"notched\":false,\"offsetgroup\":\"I10\",\"orientation\":\"v\",\"showlegend\":true,\"x\":[\"I10\",\"I10\"],\"x0\":\" \",\"xaxis\":\"x\",\"y\":[8,1],\"y0\":\" \",\"yaxis\":\"y\",\"type\":\"box\"},{\"alignmentgroup\":\"True\",\"hovertemplate\":\"car=%{x}\\u003cbr\\u003eservice_duration=%{y}\\u003cextra\\u003e\\u003c\\u002fextra\\u003e\",\"legendgroup\":\"pruis\",\"marker\":{\"color\":\"#ab63fa\"},\"name\":\"pruis\",\"notched\":false,\"offsetgroup\":\"pruis\",\"orientation\":\"v\",\"showlegend\":true,\"x\":[\"pruis\"],\"x0\":\" \",\"xaxis\":\"x\",\"y\":[2],\"y0\":\" \",\"yaxis\":\"y\",\"type\":\"box\"},{\"alignmentgroup\":\"True\",\"hovertemplate\":\"car=%{x}\\u003cbr\\u003eservice_duration=%{y}\\u003cextra\\u003e\\u003c\\u002fextra\\u003e\",\"legendgroup\":\"tucsan\",\"marker\":{\"color\":\"#FFA15A\"},\"name\":\"tucsan\",\"notched\":false,\"offsetgroup\":\"tucsan\",\"orientation\":\"v\",\"showlegend\":true,\"x\":[\"tucsan\"],\"x0\":\" \",\"xaxis\":\"x\",\"y\":[1],\"y0\":\" \",\"yaxis\":\"y\",\"type\":\"box\"}],                        {\"template\":{\"data\":{\"histogram2dcontour\":[{\"type\":\"histogram2dcontour\",\"colorbar\":{\"outlinewidth\":0,\"ticks\":\"\"},\"colorscale\":[[0.0,\"#0d0887\"],[0.1111111111111111,\"#46039f\"],[0.2222222222222222,\"#7201a8\"],[0.3333333333333333,\"#9c179e\"],[0.4444444444444444,\"#bd3786\"],[0.5555555555555556,\"#d8576b\"],[0.6666666666666666,\"#ed7953\"],[0.7777777777777778,\"#fb9f3a\"],[0.8888888888888888,\"#fdca26\"],[1.0,\"#f0f921\"]]}],\"choropleth\":[{\"type\":\"choropleth\",\"colorbar\":{\"outlinewidth\":0,\"ticks\":\"\"}}],\"histogram2d\":[{\"type\":\"histogram2d\",\"colorbar\":{\"outlinewidth\":0,\"ticks\":\"\"},\"colorscale\":[[0.0,\"#0d0887\"],[0.1111111111111111,\"#46039f\"],[0.2222222222222222,\"#7201a8\"],[0.3333333333333333,\"#9c179e\"],[0.4444444444444444,\"#bd3786\"],[0.5555555555555556,\"#d8576b\"],[0.6666666666666666,\"#ed7953\"],[0.7777777777777778,\"#fb9f3a\"],[0.8888888888888888,\"#fdca26\"],[1.0,\"#f0f921\"]]}],\"heatmap\":[{\"type\":\"heatmap\",\"colorbar\":{\"outlinewidth\":0,\"ticks\":\"\"},\"colorscale\":[[0.0,\"#0d0887\"],[0.1111111111111111,\"#46039f\"],[0.2222222222222222,\"#7201a8\"],[0.3333333333333333,\"#9c179e\"],[0.4444444444444444,\"#bd3786\"],[0.5555555555555556,\"#d8576b\"],[0.6666666666666666,\"#ed7953\"],[0.7777777777777778,\"#fb9f3a\"],[0.8888888888888888,\"#fdca26\"],[1.0,\"#f0f921\"]]}],\"heatmapgl\":[{\"type\":\"heatmapgl\",\"colorbar\":{\"outlinewidth\":0,\"ticks\":\"\"},\"colorscale\":[[0.0,\"#0d0887\"],[0.1111111111111111,\"#46039f\"],[0.2222222222222222,\"#7201a8\"],[0.3333333333333333,\"#9c179e\"],[0.4444444444444444,\"#bd3786\"],[0.5555555555555556,\"#d8576b\"],[0.6666666666666666,\"#ed7953\"],[0.7777777777777778,\"#fb9f3a\"],[0.8888888888888888,\"#fdca26\"],[1.0,\"#f0f921\"]]}],\"contourcarpet\":[{\"type\":\"contourcarpet\",\"colorbar\":{\"outlinewidth\":0,\"ticks\":\"\"}}],\"contour\":[{\"type\":\"contour\",\"colorbar\":{\"outlinewidth\":0,\"ticks\":\"\"},\"colorscale\":[[0.0,\"#0d0887\"],[0.1111111111111111,\"#46039f\"],[0.2222222222222222,\"#7201a8\"],[0.3333333333333333,\"#9c179e\"],[0.4444444444444444,\"#bd3786\"],[0.5555555555555556,\"#d8576b\"],[0.6666666666666666,\"#ed7953\"],[0.7777777777777778,\"#fb9f3a\"],[0.8888888888888888,\"#fdca26\"],[1.0,\"#f0f921\"]]}],\"surface\":[{\"type\":\"surface\",\"colorbar\":{\"outlinewidth\":0,\"ticks\":\"\"},\"colorscale\":[[0.0,\"#0d0887\"],[0.1111111111111111,\"#46039f\"],[0.2222222222222222,\"#7201a8\"],[0.3333333333333333,\"#9c179e\"],[0.4444444444444444,\"#bd3786\"],[0.5555555555555556,\"#d8576b\"],[0.6666666666666666,\"#ed7953\"],[0.7777777777777778,\"#fb9f3a\"],[0.8888888888888888,\"#fdca26\"],[1.0,\"#f0f921\"]]}],\"mesh3d\":[{\"type\":\"mesh3d\",\"colorbar\":{\"outlinewidth\":0,\"ticks\":\"\"}}],\"scatter\":[{\"fillpattern\":{\"fillmode\":\"overlay\",\"size\":10,\"solidity\":0.2},\"type\":\"scatter\"}],\"parcoords\":[{\"type\":\"parcoords\",\"line\":{\"colorbar\":{\"outlinewidth\":0,\"ticks\":\"\"}}}],\"scatterpolargl\":[{\"type\":\"scatterpolargl\",\"marker\":{\"colorbar\":{\"outlinewidth\":0,\"ticks\":\"\"}}}],\"bar\":[{\"error_x\":{\"color\":\"#2a3f5f\"},\"error_y\":{\"color\":\"#2a3f5f\"},\"marker\":{\"line\":{\"color\":\"#E5ECF6\",\"width\":0.5},\"pattern\":{\"fillmode\":\"overlay\",\"size\":10,\"solidity\":0.2}},\"type\":\"bar\"}],\"scattergeo\":[{\"type\":\"scattergeo\",\"marker\":{\"colorbar\":{\"outlinewidth\":0,\"ticks\":\"\"}}}],\"scatterpolar\":[{\"type\":\"scatterpolar\",\"marker\":{\"colorbar\":{\"outlinewidth\":0,\"ticks\":\"\"}}}],\"histogram\":[{\"marker\":{\"pattern\":{\"fillmode\":\"overlay\",\"size\":10,\"solidity\":0.2}},\"type\":\"histogram\"}],\"scattergl\":[{\"type\":\"scattergl\",\"marker\":{\"colorbar\":{\"outlinewidth\":0,\"ticks\":\"\"}}}],\"scatter3d\":[{\"type\":\"scatter3d\",\"line\":{\"colorbar\":{\"outlinewidth\":0,\"ticks\":\"\"}},\"marker\":{\"colorbar\":{\"outlinewidth\":0,\"ticks\":\"\"}}}],\"scattermapbox\":[{\"type\":\"scattermapbox\",\"marker\":{\"colorbar\":{\"outlinewidth\":0,\"ticks\":\"\"}}}],\"scatterternary\":[{\"type\":\"scatterternary\",\"marker\":{\"colorbar\":{\"outlinewidth\":0,\"ticks\":\"\"}}}],\"scattercarpet\":[{\"type\":\"scattercarpet\",\"marker\":{\"colorbar\":{\"outlinewidth\":0,\"ticks\":\"\"}}}],\"carpet\":[{\"aaxis\":{\"endlinecolor\":\"#2a3f5f\",\"gridcolor\":\"white\",\"linecolor\":\"white\",\"minorgridcolor\":\"white\",\"startlinecolor\":\"#2a3f5f\"},\"baxis\":{\"endlinecolor\":\"#2a3f5f\",\"gridcolor\":\"white\",\"linecolor\":\"white\",\"minorgridcolor\":\"white\",\"startlinecolor\":\"#2a3f5f\"},\"type\":\"carpet\"}],\"table\":[{\"cells\":{\"fill\":{\"color\":\"#EBF0F8\"},\"line\":{\"color\":\"white\"}},\"header\":{\"fill\":{\"color\":\"#C8D4E3\"},\"line\":{\"color\":\"white\"}},\"type\":\"table\"}],\"barpolar\":[{\"marker\":{\"line\":{\"color\":\"#E5ECF6\",\"width\":0.5},\"pattern\":{\"fillmode\":\"overlay\",\"size\":10,\"solidity\":0.2}},\"type\":\"barpolar\"}],\"pie\":[{\"automargin\":true,\"type\":\"pie\"}]},\"layout\":{\"autotypenumbers\":\"strict\",\"colorway\":[\"#636efa\",\"#EF553B\",\"#00cc96\",\"#ab63fa\",\"#FFA15A\",\"#19d3f3\",\"#FF6692\",\"#B6E880\",\"#FF97FF\",\"#FECB52\"],\"font\":{\"color\":\"#2a3f5f\"},\"hovermode\":\"closest\",\"hoverlabel\":{\"align\":\"left\"},\"paper_bgcolor\":\"white\",\"plot_bgcolor\":\"#E5ECF6\",\"polar\":{\"bgcolor\":\"#E5ECF6\",\"angularaxis\":{\"gridcolor\":\"white\",\"linecolor\":\"white\",\"ticks\":\"\"},\"radialaxis\":{\"gridcolor\":\"white\",\"linecolor\":\"white\",\"ticks\":\"\"}},\"ternary\":{\"bgcolor\":\"#E5ECF6\",\"aaxis\":{\"gridcolor\":\"white\",\"linecolor\":\"white\",\"ticks\":\"\"},\"baxis\":{\"gridcolor\":\"white\",\"linecolor\":\"white\",\"ticks\":\"\"},\"caxis\":{\"gridcolor\":\"white\",\"linecolor\":\"white\",\"ticks\":\"\"}},\"coloraxis\":{\"colorbar\":{\"outlinewidth\":0,\"ticks\":\"\"}},\"colorscale\":{\"sequential\":[[0.0,\"#0d0887\"],[0.1111111111111111,\"#46039f\"],[0.2222222222222222,\"#7201a8\"],[0.3333333333333333,\"#9c179e\"],[0.4444444444444444,\"#bd3786\"],[0.5555555555555556,\"#d8576b\"],[0.6666666666666666,\"#ed7953\"],[0.7777777777777778,\"#fb9f3a\"],[0.8888888888888888,\"#fdca26\"],[1.0,\"#f0f921\"]],\"sequentialminus\":[[0.0,\"#0d0887\"],[0.1111111111111111,\"#46039f\"],[0.2222222222222222,\"#7201a8\"],[0.3333333333333333,\"#9c179e\"],[0.4444444444444444,\"#bd3786\"],[0.5555555555555556,\"#d8576b\"],[0.6666666666666666,\"#ed7953\"],[0.7777777777777778,\"#fb9f3a\"],[0.8888888888888888,\"#fdca26\"],[1.0,\"#f0f921\"]],\"diverging\":[[0,\"#8e0152\"],[0.1,\"#c51b7d\"],[0.2,\"#de77ae\"],[0.3,\"#f1b6da\"],[0.4,\"#fde0ef\"],[0.5,\"#f7f7f7\"],[0.6,\"#e6f5d0\"],[0.7,\"#b8e186\"],[0.8,\"#7fbc41\"],[0.9,\"#4d9221\"],[1,\"#276419\"]]},\"xaxis\":{\"gridcolor\":\"white\",\"linecolor\":\"white\",\"ticks\":\"\",\"title\":{\"standoff\":15},\"zerolinecolor\":\"white\",\"automargin\":true,\"zerolinewidth\":2},\"yaxis\":{\"gridcolor\":\"white\",\"linecolor\":\"white\",\"ticks\":\"\",\"title\":{\"standoff\":15},\"zerolinecolor\":\"white\",\"automargin\":true,\"zerolinewidth\":2},\"scene\":{\"xaxis\":{\"backgroundcolor\":\"#E5ECF6\",\"gridcolor\":\"white\",\"linecolor\":\"white\",\"showbackground\":true,\"ticks\":\"\",\"zerolinecolor\":\"white\",\"gridwidth\":2},\"yaxis\":{\"backgroundcolor\":\"#E5ECF6\",\"gridcolor\":\"white\",\"linecolor\":\"white\",\"showbackground\":true,\"ticks\":\"\",\"zerolinecolor\":\"white\",\"gridwidth\":2},\"zaxis\":{\"backgroundcolor\":\"#E5ECF6\",\"gridcolor\":\"white\",\"linecolor\":\"white\",\"showbackground\":true,\"ticks\":\"\",\"zerolinecolor\":\"white\",\"gridwidth\":2}},\"shapedefaults\":{\"line\":{\"color\":\"#2a3f5f\"}},\"annotationdefaults\":{\"arrowcolor\":\"#2a3f5f\",\"arrowhead\":0,\"arrowwidth\":1},\"geo\":{\"bgcolor\":\"white\",\"landcolor\":\"#E5ECF6\",\"subunitcolor\":\"white\",\"showland\":true,\"showlakes\":true,\"lakecolor\":\"white\"},\"title\":{\"x\":0.05},\"mapbox\":{\"style\":\"light\"}}},\"xaxis\":{\"anchor\":\"y\",\"domain\":[0.0,1.0],\"title\":{\"text\":\"car\"},\"categoryorder\":\"array\",\"categoryarray\":[\"TUCSAN\",\"ELANTRA\",\"avanza\",\"FLUENCE\",\"corolla\",\"camry\",\"FORTUNER\",\"prado\",\"SPORTAGE\",\"CERATO\",\"spark\",\"sonic\",\"rio\",\"I 10\",\"corolla \",\"cruze\",\"Hilux\",\"H 1\",\"OPTIMA\",\"accent\",\"yaris\",\"Rav 4 \",\"            Spark      \",\"SPARK\",\"Rio\",\"cerato\",\"fortuner\",\"optima\",\"Rav 4\",\"Prius\",\" Gunsayil \",\"Citroen\",\"I10\",\"pruis\",\"tucsan\"]},\"yaxis\":{\"anchor\":\"x\",\"domain\":[0.0,1.0],\"title\":{\"text\":\"service_duration\"}},\"legend\":{\"title\":{\"text\":\"car\"},\"tracegroupgap\":0},\"title\":{\"text\":\"Service duration by car model\",\"x\":0.5},\"boxmode\":\"overlay\"},                        {\"responsive\": true}                    ).then(function(){\n",
       "                            \n",
       "var gd = document.getElementById('83ab4637-b131-4138-a851-15988a6790a7');\n",
       "var x = new MutationObserver(function (mutations, observer) {{\n",
       "        var display = window.getComputedStyle(gd).display;\n",
       "        if (!display || display === 'none') {{\n",
       "            console.log([gd, 'removed!']);\n",
       "            Plotly.purge(gd);\n",
       "            observer.disconnect();\n",
       "        }}\n",
       "}});\n",
       "\n",
       "// Listen for the removal of the full notebook cells\n",
       "var notebookContainer = gd.closest('#notebook-container');\n",
       "if (notebookContainer) {{\n",
       "    x.observe(notebookContainer, {childList: true});\n",
       "}}\n",
       "\n",
       "// Listen for the clearing of the current output cell\n",
       "var outputEl = gd.closest('.output');\n",
       "if (outputEl) {{\n",
       "    x.observe(outputEl, {childList: true});\n",
       "}}\n",
       "\n",
       "                        })                };                });            </script>        </div>"
      ]
     },
     "metadata": {},
     "output_type": "display_data"
    }
   ],
   "source": [
    "myBoxPlot(df, x='car', y='service_duration',color='car',title='Service duration by car model')"
   ]
  },
  {
   "cell_type": "code",
   "execution_count": null,
   "id": "7c08c123",
   "metadata": {},
   "outputs": [],
   "source": [
    "#### Average Service duration by location"
   ]
  },
  {
   "cell_type": "code",
   "execution_count": 96,
   "id": "10aa6f2d",
   "metadata": {
    "scrolled": false
   },
   "outputs": [
    {
     "data": {
      "application/vnd.plotly.v1+json": {
       "config": {
        "plotlyServerURL": "https://plot.ly"
       },
       "data": [
        {
         "alignmentgroup": "True",
         "hovertemplate": "color=في الطفيله<br>x=%{x}<br>AverageServiceDuration=%{y}<extra></extra>",
         "legendgroup": "في الطفيله",
         "marker": {
          "color": "#636efa",
          "pattern": {
           "shape": ""
          }
         },
         "name": "في الطفيله",
         "offsetgroup": "في الطفيله",
         "orientation": "v",
         "showlegend": true,
         "textposition": "auto",
         "type": "bar",
         "x": [
          "في الطفيله"
         ],
         "xaxis": "x",
         "y": [
          1
         ],
         "yaxis": "y"
        },
        {
         "alignmentgroup": "True",
         "hovertemplate": "color=تم التركيب ف صويلح<br>x=%{x}<br>AverageServiceDuration=%{y}<extra></extra>",
         "legendgroup": "تم التركيب ف صويلح",
         "marker": {
          "color": "#EF553B",
          "pattern": {
           "shape": ""
          }
         },
         "name": "تم التركيب ف صويلح",
         "offsetgroup": "تم التركيب ف صويلح",
         "orientation": "v",
         "showlegend": true,
         "textposition": "auto",
         "type": "bar",
         "x": [
          "تم التركيب ف صويلح"
         ],
         "xaxis": "x",
         "y": [
          1
         ],
         "yaxis": "y"
        },
        {
         "alignmentgroup": "True",
         "hovertemplate": "color=المكتب<br>x=%{x}<br>AverageServiceDuration=%{y}<extra></extra>",
         "legendgroup": "المكتب",
         "marker": {
          "color": "#00cc96",
          "pattern": {
           "shape": ""
          }
         },
         "name": "المكتب",
         "offsetgroup": "المكتب",
         "orientation": "v",
         "showlegend": true,
         "textposition": "auto",
         "type": "bar",
         "x": [
          "المكتب"
         ],
         "xaxis": "x",
         "y": [
          1
         ],
         "yaxis": "y"
        },
        {
         "alignmentgroup": "True",
         "hovertemplate": "color=جلاسكو<br>x=%{x}<br>AverageServiceDuration=%{y}<extra></extra>",
         "legendgroup": "جلاسكو",
         "marker": {
          "color": "#ab63fa",
          "pattern": {
           "shape": ""
          }
         },
         "name": "جلاسكو",
         "offsetgroup": "جلاسكو",
         "orientation": "v",
         "showlegend": true,
         "textposition": "auto",
         "type": "bar",
         "x": [
          "جلاسكو"
         ],
         "xaxis": "x",
         "y": [
          1
         ],
         "yaxis": "y"
        },
        {
         "alignmentgroup": "True",
         "hovertemplate": "color=القسطل<br>x=%{x}<br>AverageServiceDuration=%{y}<extra></extra>",
         "legendgroup": "القسطل",
         "marker": {
          "color": "#FFA15A",
          "pattern": {
           "shape": ""
          }
         },
         "name": "القسطل",
         "offsetgroup": "القسطل",
         "orientation": "v",
         "showlegend": true,
         "textposition": "auto",
         "type": "bar",
         "x": [
          "القسطل"
         ],
         "xaxis": "x",
         "y": [
          1
         ],
         "yaxis": "y"
        },
        {
         "alignmentgroup": "True",
         "hovertemplate": "color=ريمان<br>x=%{x}<br>AverageServiceDuration=%{y}<extra></extra>",
         "legendgroup": "ريمان",
         "marker": {
          "color": "#19d3f3",
          "pattern": {
           "shape": ""
          }
         },
         "name": "ريمان",
         "offsetgroup": "ريمان",
         "orientation": "v",
         "showlegend": true,
         "textposition": "auto",
         "type": "bar",
         "x": [
          "ريمان"
         ],
         "xaxis": "x",
         "y": [
          1
         ],
         "yaxis": "y"
        },
        {
         "alignmentgroup": "True",
         "hovertemplate": "color=الصالحي<br>x=%{x}<br>AverageServiceDuration=%{y}<extra></extra>",
         "legendgroup": "الصالحي",
         "marker": {
          "color": "#FF6692",
          "pattern": {
           "shape": ""
          }
         },
         "name": "الصالحي",
         "offsetgroup": "الصالحي",
         "orientation": "v",
         "showlegend": true,
         "textposition": "auto",
         "type": "bar",
         "x": [
          "الصالحي"
         ],
         "xaxis": "x",
         "y": [
          1
         ],
         "yaxis": "y"
        },
        {
         "alignmentgroup": "True",
         "hovertemplate": "color=غزاوي<br>x=%{x}<br>AverageServiceDuration=%{y}<extra></extra>",
         "legendgroup": "غزاوي",
         "marker": {
          "color": "#B6E880",
          "pattern": {
           "shape": ""
          }
         },
         "name": "غزاوي",
         "offsetgroup": "غزاوي",
         "orientation": "v",
         "showlegend": true,
         "textposition": "auto",
         "type": "bar",
         "x": [
          "غزاوي"
         ],
         "xaxis": "x",
         "y": [
          1.1
         ],
         "yaxis": "y"
        },
        {
         "alignmentgroup": "True",
         "hovertemplate": "color=امجد العطاري<br>x=%{x}<br>AverageServiceDuration=%{y}<extra></extra>",
         "legendgroup": "امجد العطاري",
         "marker": {
          "color": "#FF97FF",
          "pattern": {
           "shape": ""
          }
         },
         "name": "امجد العطاري",
         "offsetgroup": "امجد العطاري",
         "orientation": "v",
         "showlegend": true,
         "textposition": "auto",
         "type": "bar",
         "x": [
          "امجد العطاري"
         ],
         "xaxis": "x",
         "y": [
          1.1
         ],
         "yaxis": "y"
        },
        {
         "alignmentgroup": "True",
         "hovertemplate": "color=الغزاوي<br>x=%{x}<br>AverageServiceDuration=%{y}<extra></extra>",
         "legendgroup": "الغزاوي",
         "marker": {
          "color": "#FECB52",
          "pattern": {
           "shape": ""
          }
         },
         "name": "الغزاوي",
         "offsetgroup": "الغزاوي",
         "orientation": "v",
         "showlegend": true,
         "textposition": "auto",
         "type": "bar",
         "x": [
          "الغزاوي"
         ],
         "xaxis": "x",
         "y": [
          1.2
         ],
         "yaxis": "y"
        },
        {
         "alignmentgroup": "True",
         "hovertemplate": "color=شارلي<br>x=%{x}<br>AverageServiceDuration=%{y}<extra></extra>",
         "legendgroup": "شارلي",
         "marker": {
          "color": "#636efa",
          "pattern": {
           "shape": ""
          }
         },
         "name": "شارلي",
         "offsetgroup": "شارلي",
         "orientation": "v",
         "showlegend": true,
         "textposition": "auto",
         "type": "bar",
         "x": [
          "شارلي"
         ],
         "xaxis": "x",
         "y": [
          1.2
         ],
         "yaxis": "y"
        },
        {
         "alignmentgroup": "True",
         "hovertemplate": "color=ابو نعمه<br>x=%{x}<br>AverageServiceDuration=%{y}<extra></extra>",
         "legendgroup": "ابو نعمه",
         "marker": {
          "color": "#EF553B",
          "pattern": {
           "shape": ""
          }
         },
         "name": "ابو نعمه",
         "offsetgroup": "ابو نعمه",
         "orientation": "v",
         "showlegend": true,
         "textposition": "auto",
         "type": "bar",
         "x": [
          "ابو نعمه"
         ],
         "xaxis": "x",
         "y": [
          1.3
         ],
         "yaxis": "y"
        },
        {
         "alignmentgroup": "True",
         "hovertemplate": "color=مشربش<br>x=%{x}<br>AverageServiceDuration=%{y}<extra></extra>",
         "legendgroup": "مشربش",
         "marker": {
          "color": "#00cc96",
          "pattern": {
           "shape": ""
          }
         },
         "name": "مشربش",
         "offsetgroup": "مشربش",
         "orientation": "v",
         "showlegend": true,
         "textposition": "auto",
         "type": "bar",
         "x": [
          "مشربش"
         ],
         "xaxis": "x",
         "y": [
          1.3
         ],
         "yaxis": "y"
        },
        {
         "alignmentgroup": "True",
         "hovertemplate": "color=قسطل<br>x=%{x}<br>AverageServiceDuration=%{y}<extra></extra>",
         "legendgroup": "قسطل",
         "marker": {
          "color": "#ab63fa",
          "pattern": {
           "shape": ""
          }
         },
         "name": "قسطل",
         "offsetgroup": "قسطل",
         "orientation": "v",
         "showlegend": true,
         "textposition": "auto",
         "type": "bar",
         "x": [
          "قسطل"
         ],
         "xaxis": "x",
         "y": [
          1.3
         ],
         "yaxis": "y"
        },
        {
         "alignmentgroup": "True",
         "hovertemplate": "color=الغزاوي+معاذ<br>x=%{x}<br>AverageServiceDuration=%{y}<extra></extra>",
         "legendgroup": "الغزاوي+معاذ",
         "marker": {
          "color": "#FFA15A",
          "pattern": {
           "shape": ""
          }
         },
         "name": "الغزاوي+معاذ",
         "offsetgroup": "الغزاوي+معاذ",
         "orientation": "v",
         "showlegend": true,
         "textposition": "auto",
         "type": "bar",
         "x": [
          "الغزاوي+معاذ"
         ],
         "xaxis": "x",
         "y": [
          1.4
         ],
         "yaxis": "y"
        },
        {
         "alignmentgroup": "True",
         "hovertemplate": "color=معاذ عليان<br>x=%{x}<br>AverageServiceDuration=%{y}<extra></extra>",
         "legendgroup": "معاذ عليان",
         "marker": {
          "color": "#19d3f3",
          "pattern": {
           "shape": ""
          }
         },
         "name": "معاذ عليان",
         "offsetgroup": "معاذ عليان",
         "orientation": "v",
         "showlegend": true,
         "textposition": "auto",
         "type": "bar",
         "x": [
          "معاذ عليان"
         ],
         "xaxis": "x",
         "y": [
          1.4
         ],
         "yaxis": "y"
        },
        {
         "alignmentgroup": "True",
         "hovertemplate": "color=هانكونك<br>x=%{x}<br>AverageServiceDuration=%{y}<extra></extra>",
         "legendgroup": "هانكونك",
         "marker": {
          "color": "#FF6692",
          "pattern": {
           "shape": ""
          }
         },
         "name": "هانكونك",
         "offsetgroup": "هانكونك",
         "orientation": "v",
         "showlegend": true,
         "textposition": "auto",
         "type": "bar",
         "x": [
          "هانكونك"
         ],
         "xaxis": "x",
         "y": [
          1.6
         ],
         "yaxis": "y"
        },
        {
         "alignmentgroup": "True",
         "hovertemplate": "color=قفيشة<br>x=%{x}<br>AverageServiceDuration=%{y}<extra></extra>",
         "legendgroup": "قفيشة",
         "marker": {
          "color": "#B6E880",
          "pattern": {
           "shape": ""
          }
         },
         "name": "قفيشة",
         "offsetgroup": "قفيشة",
         "orientation": "v",
         "showlegend": true,
         "textposition": "auto",
         "type": "bar",
         "x": [
          "قفيشة"
         ],
         "xaxis": "x",
         "y": [
          1.8
         ],
         "yaxis": "y"
        },
        {
         "alignmentgroup": "True",
         "hovertemplate": "color=الماسيه زجاج سيارات<br>x=%{x}<br>AverageServiceDuration=%{y}<extra></extra>",
         "legendgroup": "الماسيه زجاج سيارات",
         "marker": {
          "color": "#FF97FF",
          "pattern": {
           "shape": ""
          }
         },
         "name": "الماسيه زجاج سيارات",
         "offsetgroup": "الماسيه زجاج سيارات",
         "orientation": "v",
         "showlegend": true,
         "textposition": "auto",
         "type": "bar",
         "x": [
          "الماسيه زجاج سيارات"
         ],
         "xaxis": "x",
         "y": [
          2
         ],
         "yaxis": "y"
        },
        {
         "alignmentgroup": "True",
         "hovertemplate": "color=المفرق<br>x=%{x}<br>AverageServiceDuration=%{y}<extra></extra>",
         "legendgroup": "المفرق",
         "marker": {
          "color": "#FECB52",
          "pattern": {
           "shape": ""
          }
         },
         "name": "المفرق",
         "offsetgroup": "المفرق",
         "orientation": "v",
         "showlegend": true,
         "textposition": "auto",
         "type": "bar",
         "x": [
          "المفرق"
         ],
         "xaxis": "x",
         "y": [
          2
         ],
         "yaxis": "y"
        },
        {
         "alignmentgroup": "True",
         "hovertemplate": "color=فهر<br>x=%{x}<br>AverageServiceDuration=%{y}<extra></extra>",
         "legendgroup": "فهر",
         "marker": {
          "color": "#636efa",
          "pattern": {
           "shape": ""
          }
         },
         "name": "فهر",
         "offsetgroup": "فهر",
         "orientation": "v",
         "showlegend": true,
         "textposition": "auto",
         "type": "bar",
         "x": [
          "فهر"
         ],
         "xaxis": "x",
         "y": [
          2.2
         ],
         "yaxis": "y"
        },
        {
         "alignmentgroup": "True",
         "hovertemplate": "color=اليادودة<br>x=%{x}<br>AverageServiceDuration=%{y}<extra></extra>",
         "legendgroup": "اليادودة",
         "marker": {
          "color": "#EF553B",
          "pattern": {
           "shape": ""
          }
         },
         "name": "اليادودة",
         "offsetgroup": "اليادودة",
         "orientation": "v",
         "showlegend": true,
         "textposition": "auto",
         "type": "bar",
         "x": [
          "اليادودة"
         ],
         "xaxis": "x",
         "y": [
          2.2
         ],
         "yaxis": "y"
        },
        {
         "alignmentgroup": "True",
         "hovertemplate": "color=زكي البهو<br>x=%{x}<br>AverageServiceDuration=%{y}<extra></extra>",
         "legendgroup": "زكي البهو",
         "marker": {
          "color": "#00cc96",
          "pattern": {
           "shape": ""
          }
         },
         "name": "زكي البهو",
         "offsetgroup": "زكي البهو",
         "orientation": "v",
         "showlegend": true,
         "textposition": "auto",
         "type": "bar",
         "x": [
          "زكي البهو"
         ],
         "xaxis": "x",
         "y": [
          2.4
         ],
         "yaxis": "y"
        },
        {
         "alignmentgroup": "True",
         "hovertemplate": "color=محطة الرشاد<br>x=%{x}<br>AverageServiceDuration=%{y}<extra></extra>",
         "legendgroup": "محطة الرشاد",
         "marker": {
          "color": "#ab63fa",
          "pattern": {
           "shape": ""
          }
         },
         "name": "محطة الرشاد",
         "offsetgroup": "محطة الرشاد",
         "orientation": "v",
         "showlegend": true,
         "textposition": "auto",
         "type": "bar",
         "x": [
          "محطة الرشاد"
         ],
         "xaxis": "x",
         "y": [
          2.5
         ],
         "yaxis": "y"
        },
        {
         "alignmentgroup": "True",
         "hovertemplate": "color=المسة الذهبية<br>x=%{x}<br>AverageServiceDuration=%{y}<extra></extra>",
         "legendgroup": "المسة الذهبية",
         "marker": {
          "color": "#FFA15A",
          "pattern": {
           "shape": ""
          }
         },
         "name": "المسة الذهبية",
         "offsetgroup": "المسة الذهبية",
         "orientation": "v",
         "showlegend": true,
         "textposition": "auto",
         "type": "bar",
         "x": [
          "المسة الذهبية"
         ],
         "xaxis": "x",
         "y": [
          3
         ],
         "yaxis": "y"
        },
        {
         "alignmentgroup": "True",
         "hovertemplate": "color=ابو خضر<br>x=%{x}<br>AverageServiceDuration=%{y}<extra></extra>",
         "legendgroup": "ابو خضر",
         "marker": {
          "color": "#19d3f3",
          "pattern": {
           "shape": ""
          }
         },
         "name": "ابو خضر",
         "offsetgroup": "ابو خضر",
         "orientation": "v",
         "showlegend": true,
         "textposition": "auto",
         "type": "bar",
         "x": [
          "ابو خضر"
         ],
         "xaxis": "x",
         "y": [
          3
         ],
         "yaxis": "y"
        },
        {
         "alignmentgroup": "True",
         "hovertemplate": "color=المحطه<br>x=%{x}<br>AverageServiceDuration=%{y}<extra></extra>",
         "legendgroup": "المحطه",
         "marker": {
          "color": "#FF6692",
          "pattern": {
           "shape": ""
          }
         },
         "name": "المحطه",
         "offsetgroup": "المحطه",
         "orientation": "v",
         "showlegend": true,
         "textposition": "auto",
         "type": "bar",
         "x": [
          "المحطه"
         ],
         "xaxis": "x",
         "y": [
          3.2
         ],
         "yaxis": "y"
        },
        {
         "alignmentgroup": "True",
         "hovertemplate": "color=العمله<br>x=%{x}<br>AverageServiceDuration=%{y}<extra></extra>",
         "legendgroup": "العمله",
         "marker": {
          "color": "#B6E880",
          "pattern": {
           "shape": ""
          }
         },
         "name": "العمله",
         "offsetgroup": "العمله",
         "orientation": "v",
         "showlegend": true,
         "textposition": "auto",
         "type": "bar",
         "x": [
          "العمله"
         ],
         "xaxis": "x",
         "y": [
          3.5
         ],
         "yaxis": "y"
        },
        {
         "alignmentgroup": "True",
         "hovertemplate": "color=4 جيد<br>x=%{x}<br>AverageServiceDuration=%{y}<extra></extra>",
         "legendgroup": "4 جيد",
         "marker": {
          "color": "#FF97FF",
          "pattern": {
           "shape": ""
          }
         },
         "name": "4 جيد",
         "offsetgroup": "4 جيد",
         "orientation": "v",
         "showlegend": true,
         "textposition": "auto",
         "type": "bar",
         "x": [
          "4 جيد"
         ],
         "xaxis": "x",
         "y": [
          3.6
         ],
         "yaxis": "y"
        },
        {
         "alignmentgroup": "True",
         "hovertemplate": "color=كيا<br>x=%{x}<br>AverageServiceDuration=%{y}<extra></extra>",
         "legendgroup": "كيا",
         "marker": {
          "color": "#FECB52",
          "pattern": {
           "shape": ""
          }
         },
         "name": "كيا",
         "offsetgroup": "كيا",
         "orientation": "v",
         "showlegend": true,
         "textposition": "auto",
         "type": "bar",
         "x": [
          "كيا"
         ],
         "xaxis": "x",
         "y": [
          4.2
         ],
         "yaxis": "y"
        },
        {
         "alignmentgroup": "True",
         "hovertemplate": "color=المركزيه+زكي<br>x=%{x}<br>AverageServiceDuration=%{y}<extra></extra>",
         "legendgroup": "المركزيه+زكي",
         "marker": {
          "color": "#636efa",
          "pattern": {
           "shape": ""
          }
         },
         "name": "المركزيه+زكي",
         "offsetgroup": "المركزيه+زكي",
         "orientation": "v",
         "showlegend": true,
         "textposition": "auto",
         "type": "bar",
         "x": [
          "المركزيه+زكي"
         ],
         "xaxis": "x",
         "y": [
          4.4
         ],
         "yaxis": "y"
        },
        {
         "alignmentgroup": "True",
         "hovertemplate": "color=العبدلي<br>x=%{x}<br>AverageServiceDuration=%{y}<extra></extra>",
         "legendgroup": "العبدلي",
         "marker": {
          "color": "#EF553B",
          "pattern": {
           "shape": ""
          }
         },
         "name": "العبدلي",
         "offsetgroup": "العبدلي",
         "orientation": "v",
         "showlegend": true,
         "textposition": "auto",
         "type": "bar",
         "x": [
          "العبدلي"
         ],
         "xaxis": "x",
         "y": [
          4.5
         ],
         "yaxis": "y"
        },
        {
         "alignmentgroup": "True",
         "hovertemplate": "color=المركزية<br>x=%{x}<br>AverageServiceDuration=%{y}<extra></extra>",
         "legendgroup": "المركزية",
         "marker": {
          "color": "#00cc96",
          "pattern": {
           "shape": ""
          }
         },
         "name": "المركزية",
         "offsetgroup": "المركزية",
         "orientation": "v",
         "showlegend": true,
         "textposition": "auto",
         "type": "bar",
         "x": [
          "المركزية"
         ],
         "xaxis": "x",
         "y": [
          5.8
         ],
         "yaxis": "y"
        }
       ],
       "layout": {
        "barmode": "relative",
        "legend": {
         "title": {
          "text": "color"
         },
         "tracegroupgap": 0
        },
        "template": {
         "data": {
          "bar": [
           {
            "error_x": {
             "color": "#2a3f5f"
            },
            "error_y": {
             "color": "#2a3f5f"
            },
            "marker": {
             "line": {
              "color": "#E5ECF6",
              "width": 0.5
             },
             "pattern": {
              "fillmode": "overlay",
              "size": 10,
              "solidity": 0.2
             }
            },
            "type": "bar"
           }
          ],
          "barpolar": [
           {
            "marker": {
             "line": {
              "color": "#E5ECF6",
              "width": 0.5
             },
             "pattern": {
              "fillmode": "overlay",
              "size": 10,
              "solidity": 0.2
             }
            },
            "type": "barpolar"
           }
          ],
          "carpet": [
           {
            "aaxis": {
             "endlinecolor": "#2a3f5f",
             "gridcolor": "white",
             "linecolor": "white",
             "minorgridcolor": "white",
             "startlinecolor": "#2a3f5f"
            },
            "baxis": {
             "endlinecolor": "#2a3f5f",
             "gridcolor": "white",
             "linecolor": "white",
             "minorgridcolor": "white",
             "startlinecolor": "#2a3f5f"
            },
            "type": "carpet"
           }
          ],
          "choropleth": [
           {
            "colorbar": {
             "outlinewidth": 0,
             "ticks": ""
            },
            "type": "choropleth"
           }
          ],
          "contour": [
           {
            "colorbar": {
             "outlinewidth": 0,
             "ticks": ""
            },
            "colorscale": [
             [
              0,
              "#0d0887"
             ],
             [
              0.1111111111111111,
              "#46039f"
             ],
             [
              0.2222222222222222,
              "#7201a8"
             ],
             [
              0.3333333333333333,
              "#9c179e"
             ],
             [
              0.4444444444444444,
              "#bd3786"
             ],
             [
              0.5555555555555556,
              "#d8576b"
             ],
             [
              0.6666666666666666,
              "#ed7953"
             ],
             [
              0.7777777777777778,
              "#fb9f3a"
             ],
             [
              0.8888888888888888,
              "#fdca26"
             ],
             [
              1,
              "#f0f921"
             ]
            ],
            "type": "contour"
           }
          ],
          "contourcarpet": [
           {
            "colorbar": {
             "outlinewidth": 0,
             "ticks": ""
            },
            "type": "contourcarpet"
           }
          ],
          "heatmap": [
           {
            "colorbar": {
             "outlinewidth": 0,
             "ticks": ""
            },
            "colorscale": [
             [
              0,
              "#0d0887"
             ],
             [
              0.1111111111111111,
              "#46039f"
             ],
             [
              0.2222222222222222,
              "#7201a8"
             ],
             [
              0.3333333333333333,
              "#9c179e"
             ],
             [
              0.4444444444444444,
              "#bd3786"
             ],
             [
              0.5555555555555556,
              "#d8576b"
             ],
             [
              0.6666666666666666,
              "#ed7953"
             ],
             [
              0.7777777777777778,
              "#fb9f3a"
             ],
             [
              0.8888888888888888,
              "#fdca26"
             ],
             [
              1,
              "#f0f921"
             ]
            ],
            "type": "heatmap"
           }
          ],
          "heatmapgl": [
           {
            "colorbar": {
             "outlinewidth": 0,
             "ticks": ""
            },
            "colorscale": [
             [
              0,
              "#0d0887"
             ],
             [
              0.1111111111111111,
              "#46039f"
             ],
             [
              0.2222222222222222,
              "#7201a8"
             ],
             [
              0.3333333333333333,
              "#9c179e"
             ],
             [
              0.4444444444444444,
              "#bd3786"
             ],
             [
              0.5555555555555556,
              "#d8576b"
             ],
             [
              0.6666666666666666,
              "#ed7953"
             ],
             [
              0.7777777777777778,
              "#fb9f3a"
             ],
             [
              0.8888888888888888,
              "#fdca26"
             ],
             [
              1,
              "#f0f921"
             ]
            ],
            "type": "heatmapgl"
           }
          ],
          "histogram": [
           {
            "marker": {
             "pattern": {
              "fillmode": "overlay",
              "size": 10,
              "solidity": 0.2
             }
            },
            "type": "histogram"
           }
          ],
          "histogram2d": [
           {
            "colorbar": {
             "outlinewidth": 0,
             "ticks": ""
            },
            "colorscale": [
             [
              0,
              "#0d0887"
             ],
             [
              0.1111111111111111,
              "#46039f"
             ],
             [
              0.2222222222222222,
              "#7201a8"
             ],
             [
              0.3333333333333333,
              "#9c179e"
             ],
             [
              0.4444444444444444,
              "#bd3786"
             ],
             [
              0.5555555555555556,
              "#d8576b"
             ],
             [
              0.6666666666666666,
              "#ed7953"
             ],
             [
              0.7777777777777778,
              "#fb9f3a"
             ],
             [
              0.8888888888888888,
              "#fdca26"
             ],
             [
              1,
              "#f0f921"
             ]
            ],
            "type": "histogram2d"
           }
          ],
          "histogram2dcontour": [
           {
            "colorbar": {
             "outlinewidth": 0,
             "ticks": ""
            },
            "colorscale": [
             [
              0,
              "#0d0887"
             ],
             [
              0.1111111111111111,
              "#46039f"
             ],
             [
              0.2222222222222222,
              "#7201a8"
             ],
             [
              0.3333333333333333,
              "#9c179e"
             ],
             [
              0.4444444444444444,
              "#bd3786"
             ],
             [
              0.5555555555555556,
              "#d8576b"
             ],
             [
              0.6666666666666666,
              "#ed7953"
             ],
             [
              0.7777777777777778,
              "#fb9f3a"
             ],
             [
              0.8888888888888888,
              "#fdca26"
             ],
             [
              1,
              "#f0f921"
             ]
            ],
            "type": "histogram2dcontour"
           }
          ],
          "mesh3d": [
           {
            "colorbar": {
             "outlinewidth": 0,
             "ticks": ""
            },
            "type": "mesh3d"
           }
          ],
          "parcoords": [
           {
            "line": {
             "colorbar": {
              "outlinewidth": 0,
              "ticks": ""
             }
            },
            "type": "parcoords"
           }
          ],
          "pie": [
           {
            "automargin": true,
            "type": "pie"
           }
          ],
          "scatter": [
           {
            "fillpattern": {
             "fillmode": "overlay",
             "size": 10,
             "solidity": 0.2
            },
            "type": "scatter"
           }
          ],
          "scatter3d": [
           {
            "line": {
             "colorbar": {
              "outlinewidth": 0,
              "ticks": ""
             }
            },
            "marker": {
             "colorbar": {
              "outlinewidth": 0,
              "ticks": ""
             }
            },
            "type": "scatter3d"
           }
          ],
          "scattercarpet": [
           {
            "marker": {
             "colorbar": {
              "outlinewidth": 0,
              "ticks": ""
             }
            },
            "type": "scattercarpet"
           }
          ],
          "scattergeo": [
           {
            "marker": {
             "colorbar": {
              "outlinewidth": 0,
              "ticks": ""
             }
            },
            "type": "scattergeo"
           }
          ],
          "scattergl": [
           {
            "marker": {
             "colorbar": {
              "outlinewidth": 0,
              "ticks": ""
             }
            },
            "type": "scattergl"
           }
          ],
          "scattermapbox": [
           {
            "marker": {
             "colorbar": {
              "outlinewidth": 0,
              "ticks": ""
             }
            },
            "type": "scattermapbox"
           }
          ],
          "scatterpolar": [
           {
            "marker": {
             "colorbar": {
              "outlinewidth": 0,
              "ticks": ""
             }
            },
            "type": "scatterpolar"
           }
          ],
          "scatterpolargl": [
           {
            "marker": {
             "colorbar": {
              "outlinewidth": 0,
              "ticks": ""
             }
            },
            "type": "scatterpolargl"
           }
          ],
          "scatterternary": [
           {
            "marker": {
             "colorbar": {
              "outlinewidth": 0,
              "ticks": ""
             }
            },
            "type": "scatterternary"
           }
          ],
          "surface": [
           {
            "colorbar": {
             "outlinewidth": 0,
             "ticks": ""
            },
            "colorscale": [
             [
              0,
              "#0d0887"
             ],
             [
              0.1111111111111111,
              "#46039f"
             ],
             [
              0.2222222222222222,
              "#7201a8"
             ],
             [
              0.3333333333333333,
              "#9c179e"
             ],
             [
              0.4444444444444444,
              "#bd3786"
             ],
             [
              0.5555555555555556,
              "#d8576b"
             ],
             [
              0.6666666666666666,
              "#ed7953"
             ],
             [
              0.7777777777777778,
              "#fb9f3a"
             ],
             [
              0.8888888888888888,
              "#fdca26"
             ],
             [
              1,
              "#f0f921"
             ]
            ],
            "type": "surface"
           }
          ],
          "table": [
           {
            "cells": {
             "fill": {
              "color": "#EBF0F8"
             },
             "line": {
              "color": "white"
             }
            },
            "header": {
             "fill": {
              "color": "#C8D4E3"
             },
             "line": {
              "color": "white"
             }
            },
            "type": "table"
           }
          ]
         },
         "layout": {
          "annotationdefaults": {
           "arrowcolor": "#2a3f5f",
           "arrowhead": 0,
           "arrowwidth": 1
          },
          "autotypenumbers": "strict",
          "coloraxis": {
           "colorbar": {
            "outlinewidth": 0,
            "ticks": ""
           }
          },
          "colorscale": {
           "diverging": [
            [
             0,
             "#8e0152"
            ],
            [
             0.1,
             "#c51b7d"
            ],
            [
             0.2,
             "#de77ae"
            ],
            [
             0.3,
             "#f1b6da"
            ],
            [
             0.4,
             "#fde0ef"
            ],
            [
             0.5,
             "#f7f7f7"
            ],
            [
             0.6,
             "#e6f5d0"
            ],
            [
             0.7,
             "#b8e186"
            ],
            [
             0.8,
             "#7fbc41"
            ],
            [
             0.9,
             "#4d9221"
            ],
            [
             1,
             "#276419"
            ]
           ],
           "sequential": [
            [
             0,
             "#0d0887"
            ],
            [
             0.1111111111111111,
             "#46039f"
            ],
            [
             0.2222222222222222,
             "#7201a8"
            ],
            [
             0.3333333333333333,
             "#9c179e"
            ],
            [
             0.4444444444444444,
             "#bd3786"
            ],
            [
             0.5555555555555556,
             "#d8576b"
            ],
            [
             0.6666666666666666,
             "#ed7953"
            ],
            [
             0.7777777777777778,
             "#fb9f3a"
            ],
            [
             0.8888888888888888,
             "#fdca26"
            ],
            [
             1,
             "#f0f921"
            ]
           ],
           "sequentialminus": [
            [
             0,
             "#0d0887"
            ],
            [
             0.1111111111111111,
             "#46039f"
            ],
            [
             0.2222222222222222,
             "#7201a8"
            ],
            [
             0.3333333333333333,
             "#9c179e"
            ],
            [
             0.4444444444444444,
             "#bd3786"
            ],
            [
             0.5555555555555556,
             "#d8576b"
            ],
            [
             0.6666666666666666,
             "#ed7953"
            ],
            [
             0.7777777777777778,
             "#fb9f3a"
            ],
            [
             0.8888888888888888,
             "#fdca26"
            ],
            [
             1,
             "#f0f921"
            ]
           ]
          },
          "colorway": [
           "#636efa",
           "#EF553B",
           "#00cc96",
           "#ab63fa",
           "#FFA15A",
           "#19d3f3",
           "#FF6692",
           "#B6E880",
           "#FF97FF",
           "#FECB52"
          ],
          "font": {
           "color": "#2a3f5f"
          },
          "geo": {
           "bgcolor": "white",
           "lakecolor": "white",
           "landcolor": "#E5ECF6",
           "showlakes": true,
           "showland": true,
           "subunitcolor": "white"
          },
          "hoverlabel": {
           "align": "left"
          },
          "hovermode": "closest",
          "mapbox": {
           "style": "light"
          },
          "paper_bgcolor": "white",
          "plot_bgcolor": "#E5ECF6",
          "polar": {
           "angularaxis": {
            "gridcolor": "white",
            "linecolor": "white",
            "ticks": ""
           },
           "bgcolor": "#E5ECF6",
           "radialaxis": {
            "gridcolor": "white",
            "linecolor": "white",
            "ticks": ""
           }
          },
          "scene": {
           "xaxis": {
            "backgroundcolor": "#E5ECF6",
            "gridcolor": "white",
            "gridwidth": 2,
            "linecolor": "white",
            "showbackground": true,
            "ticks": "",
            "zerolinecolor": "white"
           },
           "yaxis": {
            "backgroundcolor": "#E5ECF6",
            "gridcolor": "white",
            "gridwidth": 2,
            "linecolor": "white",
            "showbackground": true,
            "ticks": "",
            "zerolinecolor": "white"
           },
           "zaxis": {
            "backgroundcolor": "#E5ECF6",
            "gridcolor": "white",
            "gridwidth": 2,
            "linecolor": "white",
            "showbackground": true,
            "ticks": "",
            "zerolinecolor": "white"
           }
          },
          "shapedefaults": {
           "line": {
            "color": "#2a3f5f"
           }
          },
          "ternary": {
           "aaxis": {
            "gridcolor": "white",
            "linecolor": "white",
            "ticks": ""
           },
           "baxis": {
            "gridcolor": "white",
            "linecolor": "white",
            "ticks": ""
           },
           "bgcolor": "#E5ECF6",
           "caxis": {
            "gridcolor": "white",
            "linecolor": "white",
            "ticks": ""
           }
          },
          "title": {
           "x": 0.05
          },
          "xaxis": {
           "automargin": true,
           "gridcolor": "white",
           "linecolor": "white",
           "ticks": "",
           "title": {
            "standoff": 15
           },
           "zerolinecolor": "white",
           "zerolinewidth": 2
          },
          "yaxis": {
           "automargin": true,
           "gridcolor": "white",
           "linecolor": "white",
           "ticks": "",
           "title": {
            "standoff": 15
           },
           "zerolinecolor": "white",
           "zerolinewidth": 2
          }
         }
        },
        "title": {
         "text": "Average service duration by location Analysis",
         "x": 0.5
        },
        "xaxis": {
         "anchor": "y",
         "domain": [
          0,
          1
         ],
         "title": {
          "text": "location"
         }
        },
        "yaxis": {
         "anchor": "x",
         "domain": [
          0,
          1
         ],
         "title": {
          "text": "AverageServiceDuration"
         }
        }
       }
      },
      "text/html": [
       "<div>                            <div id=\"12ce4bae-62c9-4688-a1df-d4cb2e660ffe\" class=\"plotly-graph-div\" style=\"height:525px; width:100%;\"></div>            <script type=\"text/javascript\">                require([\"plotly\"], function(Plotly) {                    window.PLOTLYENV=window.PLOTLYENV || {};                                    if (document.getElementById(\"12ce4bae-62c9-4688-a1df-d4cb2e660ffe\")) {                    Plotly.newPlot(                        \"12ce4bae-62c9-4688-a1df-d4cb2e660ffe\",                        [{\"alignmentgroup\":\"True\",\"hovertemplate\":\"color=في الطفيله\\u003cbr\\u003ex=%{x}\\u003cbr\\u003eAverageServiceDuration=%{y}\\u003cextra\\u003e\\u003c\\u002fextra\\u003e\",\"legendgroup\":\"في الطفيله\",\"marker\":{\"color\":\"#636efa\",\"pattern\":{\"shape\":\"\"}},\"name\":\"في الطفيله\",\"offsetgroup\":\"في الطفيله\",\"orientation\":\"v\",\"showlegend\":true,\"textposition\":\"auto\",\"x\":[\"في الطفيله\"],\"xaxis\":\"x\",\"y\":[1.0],\"yaxis\":\"y\",\"type\":\"bar\"},{\"alignmentgroup\":\"True\",\"hovertemplate\":\"color=تم التركيب ف صويلح\\u003cbr\\u003ex=%{x}\\u003cbr\\u003eAverageServiceDuration=%{y}\\u003cextra\\u003e\\u003c\\u002fextra\\u003e\",\"legendgroup\":\"تم التركيب ف صويلح\",\"marker\":{\"color\":\"#EF553B\",\"pattern\":{\"shape\":\"\"}},\"name\":\"تم التركيب ف صويلح\",\"offsetgroup\":\"تم التركيب ف صويلح\",\"orientation\":\"v\",\"showlegend\":true,\"textposition\":\"auto\",\"x\":[\"تم التركيب ف صويلح\"],\"xaxis\":\"x\",\"y\":[1.0],\"yaxis\":\"y\",\"type\":\"bar\"},{\"alignmentgroup\":\"True\",\"hovertemplate\":\"color=المكتب\\u003cbr\\u003ex=%{x}\\u003cbr\\u003eAverageServiceDuration=%{y}\\u003cextra\\u003e\\u003c\\u002fextra\\u003e\",\"legendgroup\":\"المكتب\",\"marker\":{\"color\":\"#00cc96\",\"pattern\":{\"shape\":\"\"}},\"name\":\"المكتب\",\"offsetgroup\":\"المكتب\",\"orientation\":\"v\",\"showlegend\":true,\"textposition\":\"auto\",\"x\":[\"المكتب\"],\"xaxis\":\"x\",\"y\":[1.0],\"yaxis\":\"y\",\"type\":\"bar\"},{\"alignmentgroup\":\"True\",\"hovertemplate\":\"color=جلاسكو\\u003cbr\\u003ex=%{x}\\u003cbr\\u003eAverageServiceDuration=%{y}\\u003cextra\\u003e\\u003c\\u002fextra\\u003e\",\"legendgroup\":\"جلاسكو\",\"marker\":{\"color\":\"#ab63fa\",\"pattern\":{\"shape\":\"\"}},\"name\":\"جلاسكو\",\"offsetgroup\":\"جلاسكو\",\"orientation\":\"v\",\"showlegend\":true,\"textposition\":\"auto\",\"x\":[\"جلاسكو\"],\"xaxis\":\"x\",\"y\":[1.0],\"yaxis\":\"y\",\"type\":\"bar\"},{\"alignmentgroup\":\"True\",\"hovertemplate\":\"color=القسطل\\u003cbr\\u003ex=%{x}\\u003cbr\\u003eAverageServiceDuration=%{y}\\u003cextra\\u003e\\u003c\\u002fextra\\u003e\",\"legendgroup\":\"القسطل\",\"marker\":{\"color\":\"#FFA15A\",\"pattern\":{\"shape\":\"\"}},\"name\":\"القسطل\",\"offsetgroup\":\"القسطل\",\"orientation\":\"v\",\"showlegend\":true,\"textposition\":\"auto\",\"x\":[\"القسطل\"],\"xaxis\":\"x\",\"y\":[1.0],\"yaxis\":\"y\",\"type\":\"bar\"},{\"alignmentgroup\":\"True\",\"hovertemplate\":\"color=ريمان\\u003cbr\\u003ex=%{x}\\u003cbr\\u003eAverageServiceDuration=%{y}\\u003cextra\\u003e\\u003c\\u002fextra\\u003e\",\"legendgroup\":\"ريمان\",\"marker\":{\"color\":\"#19d3f3\",\"pattern\":{\"shape\":\"\"}},\"name\":\"ريمان\",\"offsetgroup\":\"ريمان\",\"orientation\":\"v\",\"showlegend\":true,\"textposition\":\"auto\",\"x\":[\"ريمان\"],\"xaxis\":\"x\",\"y\":[1.0],\"yaxis\":\"y\",\"type\":\"bar\"},{\"alignmentgroup\":\"True\",\"hovertemplate\":\"color=الصالحي\\u003cbr\\u003ex=%{x}\\u003cbr\\u003eAverageServiceDuration=%{y}\\u003cextra\\u003e\\u003c\\u002fextra\\u003e\",\"legendgroup\":\"الصالحي\",\"marker\":{\"color\":\"#FF6692\",\"pattern\":{\"shape\":\"\"}},\"name\":\"الصالحي\",\"offsetgroup\":\"الصالحي\",\"orientation\":\"v\",\"showlegend\":true,\"textposition\":\"auto\",\"x\":[\"الصالحي\"],\"xaxis\":\"x\",\"y\":[1.0],\"yaxis\":\"y\",\"type\":\"bar\"},{\"alignmentgroup\":\"True\",\"hovertemplate\":\"color=غزاوي\\u003cbr\\u003ex=%{x}\\u003cbr\\u003eAverageServiceDuration=%{y}\\u003cextra\\u003e\\u003c\\u002fextra\\u003e\",\"legendgroup\":\"غزاوي\",\"marker\":{\"color\":\"#B6E880\",\"pattern\":{\"shape\":\"\"}},\"name\":\"غزاوي\",\"offsetgroup\":\"غزاوي\",\"orientation\":\"v\",\"showlegend\":true,\"textposition\":\"auto\",\"x\":[\"غزاوي\"],\"xaxis\":\"x\",\"y\":[1.1],\"yaxis\":\"y\",\"type\":\"bar\"},{\"alignmentgroup\":\"True\",\"hovertemplate\":\"color=امجد العطاري\\u003cbr\\u003ex=%{x}\\u003cbr\\u003eAverageServiceDuration=%{y}\\u003cextra\\u003e\\u003c\\u002fextra\\u003e\",\"legendgroup\":\"امجد العطاري\",\"marker\":{\"color\":\"#FF97FF\",\"pattern\":{\"shape\":\"\"}},\"name\":\"امجد العطاري\",\"offsetgroup\":\"امجد العطاري\",\"orientation\":\"v\",\"showlegend\":true,\"textposition\":\"auto\",\"x\":[\"امجد العطاري\"],\"xaxis\":\"x\",\"y\":[1.1],\"yaxis\":\"y\",\"type\":\"bar\"},{\"alignmentgroup\":\"True\",\"hovertemplate\":\"color=الغزاوي\\u003cbr\\u003ex=%{x}\\u003cbr\\u003eAverageServiceDuration=%{y}\\u003cextra\\u003e\\u003c\\u002fextra\\u003e\",\"legendgroup\":\"الغزاوي\",\"marker\":{\"color\":\"#FECB52\",\"pattern\":{\"shape\":\"\"}},\"name\":\"الغزاوي\",\"offsetgroup\":\"الغزاوي\",\"orientation\":\"v\",\"showlegend\":true,\"textposition\":\"auto\",\"x\":[\"الغزاوي\"],\"xaxis\":\"x\",\"y\":[1.2],\"yaxis\":\"y\",\"type\":\"bar\"},{\"alignmentgroup\":\"True\",\"hovertemplate\":\"color=شارلي\\u003cbr\\u003ex=%{x}\\u003cbr\\u003eAverageServiceDuration=%{y}\\u003cextra\\u003e\\u003c\\u002fextra\\u003e\",\"legendgroup\":\"شارلي\",\"marker\":{\"color\":\"#636efa\",\"pattern\":{\"shape\":\"\"}},\"name\":\"شارلي\",\"offsetgroup\":\"شارلي\",\"orientation\":\"v\",\"showlegend\":true,\"textposition\":\"auto\",\"x\":[\"شارلي\"],\"xaxis\":\"x\",\"y\":[1.2],\"yaxis\":\"y\",\"type\":\"bar\"},{\"alignmentgroup\":\"True\",\"hovertemplate\":\"color=ابو نعمه\\u003cbr\\u003ex=%{x}\\u003cbr\\u003eAverageServiceDuration=%{y}\\u003cextra\\u003e\\u003c\\u002fextra\\u003e\",\"legendgroup\":\"ابو نعمه\",\"marker\":{\"color\":\"#EF553B\",\"pattern\":{\"shape\":\"\"}},\"name\":\"ابو نعمه\",\"offsetgroup\":\"ابو نعمه\",\"orientation\":\"v\",\"showlegend\":true,\"textposition\":\"auto\",\"x\":[\"ابو نعمه\"],\"xaxis\":\"x\",\"y\":[1.3],\"yaxis\":\"y\",\"type\":\"bar\"},{\"alignmentgroup\":\"True\",\"hovertemplate\":\"color=مشربش\\u003cbr\\u003ex=%{x}\\u003cbr\\u003eAverageServiceDuration=%{y}\\u003cextra\\u003e\\u003c\\u002fextra\\u003e\",\"legendgroup\":\"مشربش\",\"marker\":{\"color\":\"#00cc96\",\"pattern\":{\"shape\":\"\"}},\"name\":\"مشربش\",\"offsetgroup\":\"مشربش\",\"orientation\":\"v\",\"showlegend\":true,\"textposition\":\"auto\",\"x\":[\"مشربش\"],\"xaxis\":\"x\",\"y\":[1.3],\"yaxis\":\"y\",\"type\":\"bar\"},{\"alignmentgroup\":\"True\",\"hovertemplate\":\"color=قسطل\\u003cbr\\u003ex=%{x}\\u003cbr\\u003eAverageServiceDuration=%{y}\\u003cextra\\u003e\\u003c\\u002fextra\\u003e\",\"legendgroup\":\"قسطل\",\"marker\":{\"color\":\"#ab63fa\",\"pattern\":{\"shape\":\"\"}},\"name\":\"قسطل\",\"offsetgroup\":\"قسطل\",\"orientation\":\"v\",\"showlegend\":true,\"textposition\":\"auto\",\"x\":[\"قسطل\"],\"xaxis\":\"x\",\"y\":[1.3],\"yaxis\":\"y\",\"type\":\"bar\"},{\"alignmentgroup\":\"True\",\"hovertemplate\":\"color=الغزاوي+معاذ\\u003cbr\\u003ex=%{x}\\u003cbr\\u003eAverageServiceDuration=%{y}\\u003cextra\\u003e\\u003c\\u002fextra\\u003e\",\"legendgroup\":\"الغزاوي+معاذ\",\"marker\":{\"color\":\"#FFA15A\",\"pattern\":{\"shape\":\"\"}},\"name\":\"الغزاوي+معاذ\",\"offsetgroup\":\"الغزاوي+معاذ\",\"orientation\":\"v\",\"showlegend\":true,\"textposition\":\"auto\",\"x\":[\"الغزاوي+معاذ\"],\"xaxis\":\"x\",\"y\":[1.4],\"yaxis\":\"y\",\"type\":\"bar\"},{\"alignmentgroup\":\"True\",\"hovertemplate\":\"color=معاذ عليان\\u003cbr\\u003ex=%{x}\\u003cbr\\u003eAverageServiceDuration=%{y}\\u003cextra\\u003e\\u003c\\u002fextra\\u003e\",\"legendgroup\":\"معاذ عليان\",\"marker\":{\"color\":\"#19d3f3\",\"pattern\":{\"shape\":\"\"}},\"name\":\"معاذ عليان\",\"offsetgroup\":\"معاذ عليان\",\"orientation\":\"v\",\"showlegend\":true,\"textposition\":\"auto\",\"x\":[\"معاذ عليان\"],\"xaxis\":\"x\",\"y\":[1.4],\"yaxis\":\"y\",\"type\":\"bar\"},{\"alignmentgroup\":\"True\",\"hovertemplate\":\"color=هانكونك\\u003cbr\\u003ex=%{x}\\u003cbr\\u003eAverageServiceDuration=%{y}\\u003cextra\\u003e\\u003c\\u002fextra\\u003e\",\"legendgroup\":\"هانكونك\",\"marker\":{\"color\":\"#FF6692\",\"pattern\":{\"shape\":\"\"}},\"name\":\"هانكونك\",\"offsetgroup\":\"هانكونك\",\"orientation\":\"v\",\"showlegend\":true,\"textposition\":\"auto\",\"x\":[\"هانكونك\"],\"xaxis\":\"x\",\"y\":[1.6],\"yaxis\":\"y\",\"type\":\"bar\"},{\"alignmentgroup\":\"True\",\"hovertemplate\":\"color=قفيشة\\u003cbr\\u003ex=%{x}\\u003cbr\\u003eAverageServiceDuration=%{y}\\u003cextra\\u003e\\u003c\\u002fextra\\u003e\",\"legendgroup\":\"قفيشة\",\"marker\":{\"color\":\"#B6E880\",\"pattern\":{\"shape\":\"\"}},\"name\":\"قفيشة\",\"offsetgroup\":\"قفيشة\",\"orientation\":\"v\",\"showlegend\":true,\"textposition\":\"auto\",\"x\":[\"قفيشة\"],\"xaxis\":\"x\",\"y\":[1.8],\"yaxis\":\"y\",\"type\":\"bar\"},{\"alignmentgroup\":\"True\",\"hovertemplate\":\"color=الماسيه زجاج سيارات\\u003cbr\\u003ex=%{x}\\u003cbr\\u003eAverageServiceDuration=%{y}\\u003cextra\\u003e\\u003c\\u002fextra\\u003e\",\"legendgroup\":\"الماسيه زجاج سيارات\",\"marker\":{\"color\":\"#FF97FF\",\"pattern\":{\"shape\":\"\"}},\"name\":\"الماسيه زجاج سيارات\",\"offsetgroup\":\"الماسيه زجاج سيارات\",\"orientation\":\"v\",\"showlegend\":true,\"textposition\":\"auto\",\"x\":[\"الماسيه زجاج سيارات\"],\"xaxis\":\"x\",\"y\":[2.0],\"yaxis\":\"y\",\"type\":\"bar\"},{\"alignmentgroup\":\"True\",\"hovertemplate\":\"color=المفرق\\u003cbr\\u003ex=%{x}\\u003cbr\\u003eAverageServiceDuration=%{y}\\u003cextra\\u003e\\u003c\\u002fextra\\u003e\",\"legendgroup\":\"المفرق\",\"marker\":{\"color\":\"#FECB52\",\"pattern\":{\"shape\":\"\"}},\"name\":\"المفرق\",\"offsetgroup\":\"المفرق\",\"orientation\":\"v\",\"showlegend\":true,\"textposition\":\"auto\",\"x\":[\"المفرق\"],\"xaxis\":\"x\",\"y\":[2.0],\"yaxis\":\"y\",\"type\":\"bar\"},{\"alignmentgroup\":\"True\",\"hovertemplate\":\"color=فهر\\u003cbr\\u003ex=%{x}\\u003cbr\\u003eAverageServiceDuration=%{y}\\u003cextra\\u003e\\u003c\\u002fextra\\u003e\",\"legendgroup\":\"فهر\",\"marker\":{\"color\":\"#636efa\",\"pattern\":{\"shape\":\"\"}},\"name\":\"فهر\",\"offsetgroup\":\"فهر\",\"orientation\":\"v\",\"showlegend\":true,\"textposition\":\"auto\",\"x\":[\"فهر\"],\"xaxis\":\"x\",\"y\":[2.2],\"yaxis\":\"y\",\"type\":\"bar\"},{\"alignmentgroup\":\"True\",\"hovertemplate\":\"color=اليادودة\\u003cbr\\u003ex=%{x}\\u003cbr\\u003eAverageServiceDuration=%{y}\\u003cextra\\u003e\\u003c\\u002fextra\\u003e\",\"legendgroup\":\"اليادودة\",\"marker\":{\"color\":\"#EF553B\",\"pattern\":{\"shape\":\"\"}},\"name\":\"اليادودة\",\"offsetgroup\":\"اليادودة\",\"orientation\":\"v\",\"showlegend\":true,\"textposition\":\"auto\",\"x\":[\"اليادودة\"],\"xaxis\":\"x\",\"y\":[2.2],\"yaxis\":\"y\",\"type\":\"bar\"},{\"alignmentgroup\":\"True\",\"hovertemplate\":\"color=زكي البهو\\u003cbr\\u003ex=%{x}\\u003cbr\\u003eAverageServiceDuration=%{y}\\u003cextra\\u003e\\u003c\\u002fextra\\u003e\",\"legendgroup\":\"زكي البهو\",\"marker\":{\"color\":\"#00cc96\",\"pattern\":{\"shape\":\"\"}},\"name\":\"زكي البهو\",\"offsetgroup\":\"زكي البهو\",\"orientation\":\"v\",\"showlegend\":true,\"textposition\":\"auto\",\"x\":[\"زكي البهو\"],\"xaxis\":\"x\",\"y\":[2.4],\"yaxis\":\"y\",\"type\":\"bar\"},{\"alignmentgroup\":\"True\",\"hovertemplate\":\"color=محطة الرشاد\\u003cbr\\u003ex=%{x}\\u003cbr\\u003eAverageServiceDuration=%{y}\\u003cextra\\u003e\\u003c\\u002fextra\\u003e\",\"legendgroup\":\"محطة الرشاد\",\"marker\":{\"color\":\"#ab63fa\",\"pattern\":{\"shape\":\"\"}},\"name\":\"محطة الرشاد\",\"offsetgroup\":\"محطة الرشاد\",\"orientation\":\"v\",\"showlegend\":true,\"textposition\":\"auto\",\"x\":[\"محطة الرشاد\"],\"xaxis\":\"x\",\"y\":[2.5],\"yaxis\":\"y\",\"type\":\"bar\"},{\"alignmentgroup\":\"True\",\"hovertemplate\":\"color=المسة الذهبية\\u003cbr\\u003ex=%{x}\\u003cbr\\u003eAverageServiceDuration=%{y}\\u003cextra\\u003e\\u003c\\u002fextra\\u003e\",\"legendgroup\":\"المسة الذهبية\",\"marker\":{\"color\":\"#FFA15A\",\"pattern\":{\"shape\":\"\"}},\"name\":\"المسة الذهبية\",\"offsetgroup\":\"المسة الذهبية\",\"orientation\":\"v\",\"showlegend\":true,\"textposition\":\"auto\",\"x\":[\"المسة الذهبية\"],\"xaxis\":\"x\",\"y\":[3.0],\"yaxis\":\"y\",\"type\":\"bar\"},{\"alignmentgroup\":\"True\",\"hovertemplate\":\"color=ابو خضر\\u003cbr\\u003ex=%{x}\\u003cbr\\u003eAverageServiceDuration=%{y}\\u003cextra\\u003e\\u003c\\u002fextra\\u003e\",\"legendgroup\":\"ابو خضر\",\"marker\":{\"color\":\"#19d3f3\",\"pattern\":{\"shape\":\"\"}},\"name\":\"ابو خضر\",\"offsetgroup\":\"ابو خضر\",\"orientation\":\"v\",\"showlegend\":true,\"textposition\":\"auto\",\"x\":[\"ابو خضر\"],\"xaxis\":\"x\",\"y\":[3.0],\"yaxis\":\"y\",\"type\":\"bar\"},{\"alignmentgroup\":\"True\",\"hovertemplate\":\"color=المحطه\\u003cbr\\u003ex=%{x}\\u003cbr\\u003eAverageServiceDuration=%{y}\\u003cextra\\u003e\\u003c\\u002fextra\\u003e\",\"legendgroup\":\"المحطه\",\"marker\":{\"color\":\"#FF6692\",\"pattern\":{\"shape\":\"\"}},\"name\":\"المحطه\",\"offsetgroup\":\"المحطه\",\"orientation\":\"v\",\"showlegend\":true,\"textposition\":\"auto\",\"x\":[\"المحطه\"],\"xaxis\":\"x\",\"y\":[3.2],\"yaxis\":\"y\",\"type\":\"bar\"},{\"alignmentgroup\":\"True\",\"hovertemplate\":\"color=العمله\\u003cbr\\u003ex=%{x}\\u003cbr\\u003eAverageServiceDuration=%{y}\\u003cextra\\u003e\\u003c\\u002fextra\\u003e\",\"legendgroup\":\"العمله\",\"marker\":{\"color\":\"#B6E880\",\"pattern\":{\"shape\":\"\"}},\"name\":\"العمله\",\"offsetgroup\":\"العمله\",\"orientation\":\"v\",\"showlegend\":true,\"textposition\":\"auto\",\"x\":[\"العمله\"],\"xaxis\":\"x\",\"y\":[3.5],\"yaxis\":\"y\",\"type\":\"bar\"},{\"alignmentgroup\":\"True\",\"hovertemplate\":\"color=4 جيد\\u003cbr\\u003ex=%{x}\\u003cbr\\u003eAverageServiceDuration=%{y}\\u003cextra\\u003e\\u003c\\u002fextra\\u003e\",\"legendgroup\":\"4 جيد\",\"marker\":{\"color\":\"#FF97FF\",\"pattern\":{\"shape\":\"\"}},\"name\":\"4 جيد\",\"offsetgroup\":\"4 جيد\",\"orientation\":\"v\",\"showlegend\":true,\"textposition\":\"auto\",\"x\":[\"4 جيد\"],\"xaxis\":\"x\",\"y\":[3.6],\"yaxis\":\"y\",\"type\":\"bar\"},{\"alignmentgroup\":\"True\",\"hovertemplate\":\"color=كيا\\u003cbr\\u003ex=%{x}\\u003cbr\\u003eAverageServiceDuration=%{y}\\u003cextra\\u003e\\u003c\\u002fextra\\u003e\",\"legendgroup\":\"كيا\",\"marker\":{\"color\":\"#FECB52\",\"pattern\":{\"shape\":\"\"}},\"name\":\"كيا\",\"offsetgroup\":\"كيا\",\"orientation\":\"v\",\"showlegend\":true,\"textposition\":\"auto\",\"x\":[\"كيا\"],\"xaxis\":\"x\",\"y\":[4.2],\"yaxis\":\"y\",\"type\":\"bar\"},{\"alignmentgroup\":\"True\",\"hovertemplate\":\"color=المركزيه+زكي\\u003cbr\\u003ex=%{x}\\u003cbr\\u003eAverageServiceDuration=%{y}\\u003cextra\\u003e\\u003c\\u002fextra\\u003e\",\"legendgroup\":\"المركزيه+زكي\",\"marker\":{\"color\":\"#636efa\",\"pattern\":{\"shape\":\"\"}},\"name\":\"المركزيه+زكي\",\"offsetgroup\":\"المركزيه+زكي\",\"orientation\":\"v\",\"showlegend\":true,\"textposition\":\"auto\",\"x\":[\"المركزيه+زكي\"],\"xaxis\":\"x\",\"y\":[4.4],\"yaxis\":\"y\",\"type\":\"bar\"},{\"alignmentgroup\":\"True\",\"hovertemplate\":\"color=العبدلي\\u003cbr\\u003ex=%{x}\\u003cbr\\u003eAverageServiceDuration=%{y}\\u003cextra\\u003e\\u003c\\u002fextra\\u003e\",\"legendgroup\":\"العبدلي\",\"marker\":{\"color\":\"#EF553B\",\"pattern\":{\"shape\":\"\"}},\"name\":\"العبدلي\",\"offsetgroup\":\"العبدلي\",\"orientation\":\"v\",\"showlegend\":true,\"textposition\":\"auto\",\"x\":[\"العبدلي\"],\"xaxis\":\"x\",\"y\":[4.5],\"yaxis\":\"y\",\"type\":\"bar\"},{\"alignmentgroup\":\"True\",\"hovertemplate\":\"color=المركزية\\u003cbr\\u003ex=%{x}\\u003cbr\\u003eAverageServiceDuration=%{y}\\u003cextra\\u003e\\u003c\\u002fextra\\u003e\",\"legendgroup\":\"المركزية\",\"marker\":{\"color\":\"#00cc96\",\"pattern\":{\"shape\":\"\"}},\"name\":\"المركزية\",\"offsetgroup\":\"المركزية\",\"orientation\":\"v\",\"showlegend\":true,\"textposition\":\"auto\",\"x\":[\"المركزية\"],\"xaxis\":\"x\",\"y\":[5.8],\"yaxis\":\"y\",\"type\":\"bar\"}],                        {\"template\":{\"data\":{\"histogram2dcontour\":[{\"type\":\"histogram2dcontour\",\"colorbar\":{\"outlinewidth\":0,\"ticks\":\"\"},\"colorscale\":[[0.0,\"#0d0887\"],[0.1111111111111111,\"#46039f\"],[0.2222222222222222,\"#7201a8\"],[0.3333333333333333,\"#9c179e\"],[0.4444444444444444,\"#bd3786\"],[0.5555555555555556,\"#d8576b\"],[0.6666666666666666,\"#ed7953\"],[0.7777777777777778,\"#fb9f3a\"],[0.8888888888888888,\"#fdca26\"],[1.0,\"#f0f921\"]]}],\"choropleth\":[{\"type\":\"choropleth\",\"colorbar\":{\"outlinewidth\":0,\"ticks\":\"\"}}],\"histogram2d\":[{\"type\":\"histogram2d\",\"colorbar\":{\"outlinewidth\":0,\"ticks\":\"\"},\"colorscale\":[[0.0,\"#0d0887\"],[0.1111111111111111,\"#46039f\"],[0.2222222222222222,\"#7201a8\"],[0.3333333333333333,\"#9c179e\"],[0.4444444444444444,\"#bd3786\"],[0.5555555555555556,\"#d8576b\"],[0.6666666666666666,\"#ed7953\"],[0.7777777777777778,\"#fb9f3a\"],[0.8888888888888888,\"#fdca26\"],[1.0,\"#f0f921\"]]}],\"heatmap\":[{\"type\":\"heatmap\",\"colorbar\":{\"outlinewidth\":0,\"ticks\":\"\"},\"colorscale\":[[0.0,\"#0d0887\"],[0.1111111111111111,\"#46039f\"],[0.2222222222222222,\"#7201a8\"],[0.3333333333333333,\"#9c179e\"],[0.4444444444444444,\"#bd3786\"],[0.5555555555555556,\"#d8576b\"],[0.6666666666666666,\"#ed7953\"],[0.7777777777777778,\"#fb9f3a\"],[0.8888888888888888,\"#fdca26\"],[1.0,\"#f0f921\"]]}],\"heatmapgl\":[{\"type\":\"heatmapgl\",\"colorbar\":{\"outlinewidth\":0,\"ticks\":\"\"},\"colorscale\":[[0.0,\"#0d0887\"],[0.1111111111111111,\"#46039f\"],[0.2222222222222222,\"#7201a8\"],[0.3333333333333333,\"#9c179e\"],[0.4444444444444444,\"#bd3786\"],[0.5555555555555556,\"#d8576b\"],[0.6666666666666666,\"#ed7953\"],[0.7777777777777778,\"#fb9f3a\"],[0.8888888888888888,\"#fdca26\"],[1.0,\"#f0f921\"]]}],\"contourcarpet\":[{\"type\":\"contourcarpet\",\"colorbar\":{\"outlinewidth\":0,\"ticks\":\"\"}}],\"contour\":[{\"type\":\"contour\",\"colorbar\":{\"outlinewidth\":0,\"ticks\":\"\"},\"colorscale\":[[0.0,\"#0d0887\"],[0.1111111111111111,\"#46039f\"],[0.2222222222222222,\"#7201a8\"],[0.3333333333333333,\"#9c179e\"],[0.4444444444444444,\"#bd3786\"],[0.5555555555555556,\"#d8576b\"],[0.6666666666666666,\"#ed7953\"],[0.7777777777777778,\"#fb9f3a\"],[0.8888888888888888,\"#fdca26\"],[1.0,\"#f0f921\"]]}],\"surface\":[{\"type\":\"surface\",\"colorbar\":{\"outlinewidth\":0,\"ticks\":\"\"},\"colorscale\":[[0.0,\"#0d0887\"],[0.1111111111111111,\"#46039f\"],[0.2222222222222222,\"#7201a8\"],[0.3333333333333333,\"#9c179e\"],[0.4444444444444444,\"#bd3786\"],[0.5555555555555556,\"#d8576b\"],[0.6666666666666666,\"#ed7953\"],[0.7777777777777778,\"#fb9f3a\"],[0.8888888888888888,\"#fdca26\"],[1.0,\"#f0f921\"]]}],\"mesh3d\":[{\"type\":\"mesh3d\",\"colorbar\":{\"outlinewidth\":0,\"ticks\":\"\"}}],\"scatter\":[{\"fillpattern\":{\"fillmode\":\"overlay\",\"size\":10,\"solidity\":0.2},\"type\":\"scatter\"}],\"parcoords\":[{\"type\":\"parcoords\",\"line\":{\"colorbar\":{\"outlinewidth\":0,\"ticks\":\"\"}}}],\"scatterpolargl\":[{\"type\":\"scatterpolargl\",\"marker\":{\"colorbar\":{\"outlinewidth\":0,\"ticks\":\"\"}}}],\"bar\":[{\"error_x\":{\"color\":\"#2a3f5f\"},\"error_y\":{\"color\":\"#2a3f5f\"},\"marker\":{\"line\":{\"color\":\"#E5ECF6\",\"width\":0.5},\"pattern\":{\"fillmode\":\"overlay\",\"size\":10,\"solidity\":0.2}},\"type\":\"bar\"}],\"scattergeo\":[{\"type\":\"scattergeo\",\"marker\":{\"colorbar\":{\"outlinewidth\":0,\"ticks\":\"\"}}}],\"scatterpolar\":[{\"type\":\"scatterpolar\",\"marker\":{\"colorbar\":{\"outlinewidth\":0,\"ticks\":\"\"}}}],\"histogram\":[{\"marker\":{\"pattern\":{\"fillmode\":\"overlay\",\"size\":10,\"solidity\":0.2}},\"type\":\"histogram\"}],\"scattergl\":[{\"type\":\"scattergl\",\"marker\":{\"colorbar\":{\"outlinewidth\":0,\"ticks\":\"\"}}}],\"scatter3d\":[{\"type\":\"scatter3d\",\"line\":{\"colorbar\":{\"outlinewidth\":0,\"ticks\":\"\"}},\"marker\":{\"colorbar\":{\"outlinewidth\":0,\"ticks\":\"\"}}}],\"scattermapbox\":[{\"type\":\"scattermapbox\",\"marker\":{\"colorbar\":{\"outlinewidth\":0,\"ticks\":\"\"}}}],\"scatterternary\":[{\"type\":\"scatterternary\",\"marker\":{\"colorbar\":{\"outlinewidth\":0,\"ticks\":\"\"}}}],\"scattercarpet\":[{\"type\":\"scattercarpet\",\"marker\":{\"colorbar\":{\"outlinewidth\":0,\"ticks\":\"\"}}}],\"carpet\":[{\"aaxis\":{\"endlinecolor\":\"#2a3f5f\",\"gridcolor\":\"white\",\"linecolor\":\"white\",\"minorgridcolor\":\"white\",\"startlinecolor\":\"#2a3f5f\"},\"baxis\":{\"endlinecolor\":\"#2a3f5f\",\"gridcolor\":\"white\",\"linecolor\":\"white\",\"minorgridcolor\":\"white\",\"startlinecolor\":\"#2a3f5f\"},\"type\":\"carpet\"}],\"table\":[{\"cells\":{\"fill\":{\"color\":\"#EBF0F8\"},\"line\":{\"color\":\"white\"}},\"header\":{\"fill\":{\"color\":\"#C8D4E3\"},\"line\":{\"color\":\"white\"}},\"type\":\"table\"}],\"barpolar\":[{\"marker\":{\"line\":{\"color\":\"#E5ECF6\",\"width\":0.5},\"pattern\":{\"fillmode\":\"overlay\",\"size\":10,\"solidity\":0.2}},\"type\":\"barpolar\"}],\"pie\":[{\"automargin\":true,\"type\":\"pie\"}]},\"layout\":{\"autotypenumbers\":\"strict\",\"colorway\":[\"#636efa\",\"#EF553B\",\"#00cc96\",\"#ab63fa\",\"#FFA15A\",\"#19d3f3\",\"#FF6692\",\"#B6E880\",\"#FF97FF\",\"#FECB52\"],\"font\":{\"color\":\"#2a3f5f\"},\"hovermode\":\"closest\",\"hoverlabel\":{\"align\":\"left\"},\"paper_bgcolor\":\"white\",\"plot_bgcolor\":\"#E5ECF6\",\"polar\":{\"bgcolor\":\"#E5ECF6\",\"angularaxis\":{\"gridcolor\":\"white\",\"linecolor\":\"white\",\"ticks\":\"\"},\"radialaxis\":{\"gridcolor\":\"white\",\"linecolor\":\"white\",\"ticks\":\"\"}},\"ternary\":{\"bgcolor\":\"#E5ECF6\",\"aaxis\":{\"gridcolor\":\"white\",\"linecolor\":\"white\",\"ticks\":\"\"},\"baxis\":{\"gridcolor\":\"white\",\"linecolor\":\"white\",\"ticks\":\"\"},\"caxis\":{\"gridcolor\":\"white\",\"linecolor\":\"white\",\"ticks\":\"\"}},\"coloraxis\":{\"colorbar\":{\"outlinewidth\":0,\"ticks\":\"\"}},\"colorscale\":{\"sequential\":[[0.0,\"#0d0887\"],[0.1111111111111111,\"#46039f\"],[0.2222222222222222,\"#7201a8\"],[0.3333333333333333,\"#9c179e\"],[0.4444444444444444,\"#bd3786\"],[0.5555555555555556,\"#d8576b\"],[0.6666666666666666,\"#ed7953\"],[0.7777777777777778,\"#fb9f3a\"],[0.8888888888888888,\"#fdca26\"],[1.0,\"#f0f921\"]],\"sequentialminus\":[[0.0,\"#0d0887\"],[0.1111111111111111,\"#46039f\"],[0.2222222222222222,\"#7201a8\"],[0.3333333333333333,\"#9c179e\"],[0.4444444444444444,\"#bd3786\"],[0.5555555555555556,\"#d8576b\"],[0.6666666666666666,\"#ed7953\"],[0.7777777777777778,\"#fb9f3a\"],[0.8888888888888888,\"#fdca26\"],[1.0,\"#f0f921\"]],\"diverging\":[[0,\"#8e0152\"],[0.1,\"#c51b7d\"],[0.2,\"#de77ae\"],[0.3,\"#f1b6da\"],[0.4,\"#fde0ef\"],[0.5,\"#f7f7f7\"],[0.6,\"#e6f5d0\"],[0.7,\"#b8e186\"],[0.8,\"#7fbc41\"],[0.9,\"#4d9221\"],[1,\"#276419\"]]},\"xaxis\":{\"gridcolor\":\"white\",\"linecolor\":\"white\",\"ticks\":\"\",\"title\":{\"standoff\":15},\"zerolinecolor\":\"white\",\"automargin\":true,\"zerolinewidth\":2},\"yaxis\":{\"gridcolor\":\"white\",\"linecolor\":\"white\",\"ticks\":\"\",\"title\":{\"standoff\":15},\"zerolinecolor\":\"white\",\"automargin\":true,\"zerolinewidth\":2},\"scene\":{\"xaxis\":{\"backgroundcolor\":\"#E5ECF6\",\"gridcolor\":\"white\",\"linecolor\":\"white\",\"showbackground\":true,\"ticks\":\"\",\"zerolinecolor\":\"white\",\"gridwidth\":2},\"yaxis\":{\"backgroundcolor\":\"#E5ECF6\",\"gridcolor\":\"white\",\"linecolor\":\"white\",\"showbackground\":true,\"ticks\":\"\",\"zerolinecolor\":\"white\",\"gridwidth\":2},\"zaxis\":{\"backgroundcolor\":\"#E5ECF6\",\"gridcolor\":\"white\",\"linecolor\":\"white\",\"showbackground\":true,\"ticks\":\"\",\"zerolinecolor\":\"white\",\"gridwidth\":2}},\"shapedefaults\":{\"line\":{\"color\":\"#2a3f5f\"}},\"annotationdefaults\":{\"arrowcolor\":\"#2a3f5f\",\"arrowhead\":0,\"arrowwidth\":1},\"geo\":{\"bgcolor\":\"white\",\"landcolor\":\"#E5ECF6\",\"subunitcolor\":\"white\",\"showland\":true,\"showlakes\":true,\"lakecolor\":\"white\"},\"title\":{\"x\":0.05},\"mapbox\":{\"style\":\"light\"}}},\"xaxis\":{\"anchor\":\"y\",\"domain\":[0.0,1.0],\"title\":{\"text\":\"location\"}},\"yaxis\":{\"anchor\":\"x\",\"domain\":[0.0,1.0],\"title\":{\"text\":\"AverageServiceDuration\"}},\"legend\":{\"title\":{\"text\":\"color\"},\"tracegroupgap\":0},\"title\":{\"text\":\"Average service duration by location Analysis\",\"x\":0.5},\"barmode\":\"relative\"},                        {\"responsive\": true}                    ).then(function(){\n",
       "                            \n",
       "var gd = document.getElementById('12ce4bae-62c9-4688-a1df-d4cb2e660ffe');\n",
       "var x = new MutationObserver(function (mutations, observer) {{\n",
       "        var display = window.getComputedStyle(gd).display;\n",
       "        if (!display || display === 'none') {{\n",
       "            console.log([gd, 'removed!']);\n",
       "            Plotly.purge(gd);\n",
       "            observer.disconnect();\n",
       "        }}\n",
       "}});\n",
       "\n",
       "// Listen for the removal of the full notebook cells\n",
       "var notebookContainer = gd.closest('#notebook-container');\n",
       "if (notebookContainer) {{\n",
       "    x.observe(notebookContainer, {childList: true});\n",
       "}}\n",
       "\n",
       "// Listen for the clearing of the current output cell\n",
       "var outputEl = gd.closest('.output');\n",
       "if (outputEl) {{\n",
       "    x.observe(outputEl, {childList: true});\n",
       "}}\n",
       "\n",
       "                        })                };                });            </script>        </div>"
      ]
     },
     "metadata": {},
     "output_type": "display_data"
    }
   ],
   "source": [
    "avg_service_duration_by_damage = df.groupby('location')['service_duration'].mean().round(1).sort_index().reset_index(name='AverageServiceDuration')\n",
    "myPlot1(avg_service_duration_by_damage,'location','AverageServiceDuration','location','bar','Average service duration by location', sort_by='AverageServiceDuration', ascending=True)"
   ]
  },
  {
   "cell_type": "code",
   "execution_count": null,
   "id": "a35775e5",
   "metadata": {},
   "outputs": [],
   "source": [
    "#### Service duration trends by  year - month "
   ]
  },
  {
   "cell_type": "code",
   "execution_count": 107,
   "id": "f1ad4e8e",
   "metadata": {},
   "outputs": [
    {
     "data": {
      "application/vnd.plotly.v1+json": {
       "config": {
        "plotlyServerURL": "https://plot.ly"
       },
       "data": [
        {
         "hovertemplate": "color=2015<br>x=%{x}<br>ServiceDurationDateReady=%{y}<extra></extra>",
         "legendgroup": "2015",
         "line": {
          "color": "#636efa",
          "dash": "solid"
         },
         "marker": {
          "symbol": "circle"
         },
         "mode": "lines",
         "name": "2015",
         "orientation": "v",
         "showlegend": true,
         "type": "scatter",
         "x": [
          "1",
          "2",
          "3",
          "4",
          "5",
          "6",
          "7",
          "8",
          "9",
          "10",
          "11",
          "12"
         ],
         "xaxis": "x",
         "y": [
          1.8,
          1.6,
          4.1,
          1.8,
          1.6,
          1.9,
          2.3,
          1.4,
          1.2,
          1.2,
          1.1,
          2.4
         ],
         "yaxis": "y"
        },
        {
         "hovertemplate": "color=2016<br>x=%{x}<br>ServiceDurationDateReady=%{y}<extra></extra>",
         "legendgroup": "2016",
         "line": {
          "color": "#EF553B",
          "dash": "solid"
         },
         "marker": {
          "symbol": "circle"
         },
         "mode": "lines",
         "name": "2016",
         "orientation": "v",
         "showlegend": true,
         "type": "scatter",
         "x": [
          "1",
          "2"
         ],
         "xaxis": "x",
         "y": [
          2.6,
          2.6
         ],
         "yaxis": "y"
        }
       ],
       "layout": {
        "legend": {
         "title": {
          "text": "color"
         },
         "tracegroupgap": 0
        },
        "template": {
         "data": {
          "bar": [
           {
            "error_x": {
             "color": "#2a3f5f"
            },
            "error_y": {
             "color": "#2a3f5f"
            },
            "marker": {
             "line": {
              "color": "#E5ECF6",
              "width": 0.5
             },
             "pattern": {
              "fillmode": "overlay",
              "size": 10,
              "solidity": 0.2
             }
            },
            "type": "bar"
           }
          ],
          "barpolar": [
           {
            "marker": {
             "line": {
              "color": "#E5ECF6",
              "width": 0.5
             },
             "pattern": {
              "fillmode": "overlay",
              "size": 10,
              "solidity": 0.2
             }
            },
            "type": "barpolar"
           }
          ],
          "carpet": [
           {
            "aaxis": {
             "endlinecolor": "#2a3f5f",
             "gridcolor": "white",
             "linecolor": "white",
             "minorgridcolor": "white",
             "startlinecolor": "#2a3f5f"
            },
            "baxis": {
             "endlinecolor": "#2a3f5f",
             "gridcolor": "white",
             "linecolor": "white",
             "minorgridcolor": "white",
             "startlinecolor": "#2a3f5f"
            },
            "type": "carpet"
           }
          ],
          "choropleth": [
           {
            "colorbar": {
             "outlinewidth": 0,
             "ticks": ""
            },
            "type": "choropleth"
           }
          ],
          "contour": [
           {
            "colorbar": {
             "outlinewidth": 0,
             "ticks": ""
            },
            "colorscale": [
             [
              0,
              "#0d0887"
             ],
             [
              0.1111111111111111,
              "#46039f"
             ],
             [
              0.2222222222222222,
              "#7201a8"
             ],
             [
              0.3333333333333333,
              "#9c179e"
             ],
             [
              0.4444444444444444,
              "#bd3786"
             ],
             [
              0.5555555555555556,
              "#d8576b"
             ],
             [
              0.6666666666666666,
              "#ed7953"
             ],
             [
              0.7777777777777778,
              "#fb9f3a"
             ],
             [
              0.8888888888888888,
              "#fdca26"
             ],
             [
              1,
              "#f0f921"
             ]
            ],
            "type": "contour"
           }
          ],
          "contourcarpet": [
           {
            "colorbar": {
             "outlinewidth": 0,
             "ticks": ""
            },
            "type": "contourcarpet"
           }
          ],
          "heatmap": [
           {
            "colorbar": {
             "outlinewidth": 0,
             "ticks": ""
            },
            "colorscale": [
             [
              0,
              "#0d0887"
             ],
             [
              0.1111111111111111,
              "#46039f"
             ],
             [
              0.2222222222222222,
              "#7201a8"
             ],
             [
              0.3333333333333333,
              "#9c179e"
             ],
             [
              0.4444444444444444,
              "#bd3786"
             ],
             [
              0.5555555555555556,
              "#d8576b"
             ],
             [
              0.6666666666666666,
              "#ed7953"
             ],
             [
              0.7777777777777778,
              "#fb9f3a"
             ],
             [
              0.8888888888888888,
              "#fdca26"
             ],
             [
              1,
              "#f0f921"
             ]
            ],
            "type": "heatmap"
           }
          ],
          "heatmapgl": [
           {
            "colorbar": {
             "outlinewidth": 0,
             "ticks": ""
            },
            "colorscale": [
             [
              0,
              "#0d0887"
             ],
             [
              0.1111111111111111,
              "#46039f"
             ],
             [
              0.2222222222222222,
              "#7201a8"
             ],
             [
              0.3333333333333333,
              "#9c179e"
             ],
             [
              0.4444444444444444,
              "#bd3786"
             ],
             [
              0.5555555555555556,
              "#d8576b"
             ],
             [
              0.6666666666666666,
              "#ed7953"
             ],
             [
              0.7777777777777778,
              "#fb9f3a"
             ],
             [
              0.8888888888888888,
              "#fdca26"
             ],
             [
              1,
              "#f0f921"
             ]
            ],
            "type": "heatmapgl"
           }
          ],
          "histogram": [
           {
            "marker": {
             "pattern": {
              "fillmode": "overlay",
              "size": 10,
              "solidity": 0.2
             }
            },
            "type": "histogram"
           }
          ],
          "histogram2d": [
           {
            "colorbar": {
             "outlinewidth": 0,
             "ticks": ""
            },
            "colorscale": [
             [
              0,
              "#0d0887"
             ],
             [
              0.1111111111111111,
              "#46039f"
             ],
             [
              0.2222222222222222,
              "#7201a8"
             ],
             [
              0.3333333333333333,
              "#9c179e"
             ],
             [
              0.4444444444444444,
              "#bd3786"
             ],
             [
              0.5555555555555556,
              "#d8576b"
             ],
             [
              0.6666666666666666,
              "#ed7953"
             ],
             [
              0.7777777777777778,
              "#fb9f3a"
             ],
             [
              0.8888888888888888,
              "#fdca26"
             ],
             [
              1,
              "#f0f921"
             ]
            ],
            "type": "histogram2d"
           }
          ],
          "histogram2dcontour": [
           {
            "colorbar": {
             "outlinewidth": 0,
             "ticks": ""
            },
            "colorscale": [
             [
              0,
              "#0d0887"
             ],
             [
              0.1111111111111111,
              "#46039f"
             ],
             [
              0.2222222222222222,
              "#7201a8"
             ],
             [
              0.3333333333333333,
              "#9c179e"
             ],
             [
              0.4444444444444444,
              "#bd3786"
             ],
             [
              0.5555555555555556,
              "#d8576b"
             ],
             [
              0.6666666666666666,
              "#ed7953"
             ],
             [
              0.7777777777777778,
              "#fb9f3a"
             ],
             [
              0.8888888888888888,
              "#fdca26"
             ],
             [
              1,
              "#f0f921"
             ]
            ],
            "type": "histogram2dcontour"
           }
          ],
          "mesh3d": [
           {
            "colorbar": {
             "outlinewidth": 0,
             "ticks": ""
            },
            "type": "mesh3d"
           }
          ],
          "parcoords": [
           {
            "line": {
             "colorbar": {
              "outlinewidth": 0,
              "ticks": ""
             }
            },
            "type": "parcoords"
           }
          ],
          "pie": [
           {
            "automargin": true,
            "type": "pie"
           }
          ],
          "scatter": [
           {
            "fillpattern": {
             "fillmode": "overlay",
             "size": 10,
             "solidity": 0.2
            },
            "type": "scatter"
           }
          ],
          "scatter3d": [
           {
            "line": {
             "colorbar": {
              "outlinewidth": 0,
              "ticks": ""
             }
            },
            "marker": {
             "colorbar": {
              "outlinewidth": 0,
              "ticks": ""
             }
            },
            "type": "scatter3d"
           }
          ],
          "scattercarpet": [
           {
            "marker": {
             "colorbar": {
              "outlinewidth": 0,
              "ticks": ""
             }
            },
            "type": "scattercarpet"
           }
          ],
          "scattergeo": [
           {
            "marker": {
             "colorbar": {
              "outlinewidth": 0,
              "ticks": ""
             }
            },
            "type": "scattergeo"
           }
          ],
          "scattergl": [
           {
            "marker": {
             "colorbar": {
              "outlinewidth": 0,
              "ticks": ""
             }
            },
            "type": "scattergl"
           }
          ],
          "scattermapbox": [
           {
            "marker": {
             "colorbar": {
              "outlinewidth": 0,
              "ticks": ""
             }
            },
            "type": "scattermapbox"
           }
          ],
          "scatterpolar": [
           {
            "marker": {
             "colorbar": {
              "outlinewidth": 0,
              "ticks": ""
             }
            },
            "type": "scatterpolar"
           }
          ],
          "scatterpolargl": [
           {
            "marker": {
             "colorbar": {
              "outlinewidth": 0,
              "ticks": ""
             }
            },
            "type": "scatterpolargl"
           }
          ],
          "scatterternary": [
           {
            "marker": {
             "colorbar": {
              "outlinewidth": 0,
              "ticks": ""
             }
            },
            "type": "scatterternary"
           }
          ],
          "surface": [
           {
            "colorbar": {
             "outlinewidth": 0,
             "ticks": ""
            },
            "colorscale": [
             [
              0,
              "#0d0887"
             ],
             [
              0.1111111111111111,
              "#46039f"
             ],
             [
              0.2222222222222222,
              "#7201a8"
             ],
             [
              0.3333333333333333,
              "#9c179e"
             ],
             [
              0.4444444444444444,
              "#bd3786"
             ],
             [
              0.5555555555555556,
              "#d8576b"
             ],
             [
              0.6666666666666666,
              "#ed7953"
             ],
             [
              0.7777777777777778,
              "#fb9f3a"
             ],
             [
              0.8888888888888888,
              "#fdca26"
             ],
             [
              1,
              "#f0f921"
             ]
            ],
            "type": "surface"
           }
          ],
          "table": [
           {
            "cells": {
             "fill": {
              "color": "#EBF0F8"
             },
             "line": {
              "color": "white"
             }
            },
            "header": {
             "fill": {
              "color": "#C8D4E3"
             },
             "line": {
              "color": "white"
             }
            },
            "type": "table"
           }
          ]
         },
         "layout": {
          "annotationdefaults": {
           "arrowcolor": "#2a3f5f",
           "arrowhead": 0,
           "arrowwidth": 1
          },
          "autotypenumbers": "strict",
          "coloraxis": {
           "colorbar": {
            "outlinewidth": 0,
            "ticks": ""
           }
          },
          "colorscale": {
           "diverging": [
            [
             0,
             "#8e0152"
            ],
            [
             0.1,
             "#c51b7d"
            ],
            [
             0.2,
             "#de77ae"
            ],
            [
             0.3,
             "#f1b6da"
            ],
            [
             0.4,
             "#fde0ef"
            ],
            [
             0.5,
             "#f7f7f7"
            ],
            [
             0.6,
             "#e6f5d0"
            ],
            [
             0.7,
             "#b8e186"
            ],
            [
             0.8,
             "#7fbc41"
            ],
            [
             0.9,
             "#4d9221"
            ],
            [
             1,
             "#276419"
            ]
           ],
           "sequential": [
            [
             0,
             "#0d0887"
            ],
            [
             0.1111111111111111,
             "#46039f"
            ],
            [
             0.2222222222222222,
             "#7201a8"
            ],
            [
             0.3333333333333333,
             "#9c179e"
            ],
            [
             0.4444444444444444,
             "#bd3786"
            ],
            [
             0.5555555555555556,
             "#d8576b"
            ],
            [
             0.6666666666666666,
             "#ed7953"
            ],
            [
             0.7777777777777778,
             "#fb9f3a"
            ],
            [
             0.8888888888888888,
             "#fdca26"
            ],
            [
             1,
             "#f0f921"
            ]
           ],
           "sequentialminus": [
            [
             0,
             "#0d0887"
            ],
            [
             0.1111111111111111,
             "#46039f"
            ],
            [
             0.2222222222222222,
             "#7201a8"
            ],
            [
             0.3333333333333333,
             "#9c179e"
            ],
            [
             0.4444444444444444,
             "#bd3786"
            ],
            [
             0.5555555555555556,
             "#d8576b"
            ],
            [
             0.6666666666666666,
             "#ed7953"
            ],
            [
             0.7777777777777778,
             "#fb9f3a"
            ],
            [
             0.8888888888888888,
             "#fdca26"
            ],
            [
             1,
             "#f0f921"
            ]
           ]
          },
          "colorway": [
           "#636efa",
           "#EF553B",
           "#00cc96",
           "#ab63fa",
           "#FFA15A",
           "#19d3f3",
           "#FF6692",
           "#B6E880",
           "#FF97FF",
           "#FECB52"
          ],
          "font": {
           "color": "#2a3f5f"
          },
          "geo": {
           "bgcolor": "white",
           "lakecolor": "white",
           "landcolor": "#E5ECF6",
           "showlakes": true,
           "showland": true,
           "subunitcolor": "white"
          },
          "hoverlabel": {
           "align": "left"
          },
          "hovermode": "closest",
          "mapbox": {
           "style": "light"
          },
          "paper_bgcolor": "white",
          "plot_bgcolor": "#E5ECF6",
          "polar": {
           "angularaxis": {
            "gridcolor": "white",
            "linecolor": "white",
            "ticks": ""
           },
           "bgcolor": "#E5ECF6",
           "radialaxis": {
            "gridcolor": "white",
            "linecolor": "white",
            "ticks": ""
           }
          },
          "scene": {
           "xaxis": {
            "backgroundcolor": "#E5ECF6",
            "gridcolor": "white",
            "gridwidth": 2,
            "linecolor": "white",
            "showbackground": true,
            "ticks": "",
            "zerolinecolor": "white"
           },
           "yaxis": {
            "backgroundcolor": "#E5ECF6",
            "gridcolor": "white",
            "gridwidth": 2,
            "linecolor": "white",
            "showbackground": true,
            "ticks": "",
            "zerolinecolor": "white"
           },
           "zaxis": {
            "backgroundcolor": "#E5ECF6",
            "gridcolor": "white",
            "gridwidth": 2,
            "linecolor": "white",
            "showbackground": true,
            "ticks": "",
            "zerolinecolor": "white"
           }
          },
          "shapedefaults": {
           "line": {
            "color": "#2a3f5f"
           }
          },
          "ternary": {
           "aaxis": {
            "gridcolor": "white",
            "linecolor": "white",
            "ticks": ""
           },
           "baxis": {
            "gridcolor": "white",
            "linecolor": "white",
            "ticks": ""
           },
           "bgcolor": "#E5ECF6",
           "caxis": {
            "gridcolor": "white",
            "linecolor": "white",
            "ticks": ""
           }
          },
          "title": {
           "x": 0.05
          },
          "xaxis": {
           "automargin": true,
           "gridcolor": "white",
           "linecolor": "white",
           "ticks": "",
           "title": {
            "standoff": 15
           },
           "zerolinecolor": "white",
           "zerolinewidth": 2
          },
          "yaxis": {
           "automargin": true,
           "gridcolor": "white",
           "linecolor": "white",
           "ticks": "",
           "title": {
            "standoff": 15
           },
           "zerolinecolor": "white",
           "zerolinewidth": 2
          }
         }
        },
        "title": {
         "text": "Average Service duration trends by year - month Analysis",
         "x": 0.5
        },
        "xaxis": {
         "anchor": "y",
         "domain": [
          0,
          1
         ],
         "title": {
          "text": "monthReady"
         }
        },
        "yaxis": {
         "anchor": "x",
         "domain": [
          0,
          1
         ],
         "title": {
          "text": "ServiceDurationDateReady"
         }
        }
       }
      },
      "text/html": [
       "<div>                            <div id=\"a30b4c09-7cdb-493b-87f7-c20e7d58fca3\" class=\"plotly-graph-div\" style=\"height:525px; width:100%;\"></div>            <script type=\"text/javascript\">                require([\"plotly\"], function(Plotly) {                    window.PLOTLYENV=window.PLOTLYENV || {};                                    if (document.getElementById(\"a30b4c09-7cdb-493b-87f7-c20e7d58fca3\")) {                    Plotly.newPlot(                        \"a30b4c09-7cdb-493b-87f7-c20e7d58fca3\",                        [{\"hovertemplate\":\"color=2015\\u003cbr\\u003ex=%{x}\\u003cbr\\u003eServiceDurationDateReady=%{y}\\u003cextra\\u003e\\u003c\\u002fextra\\u003e\",\"legendgroup\":\"2015\",\"line\":{\"color\":\"#636efa\",\"dash\":\"solid\"},\"marker\":{\"symbol\":\"circle\"},\"mode\":\"lines\",\"name\":\"2015\",\"orientation\":\"v\",\"showlegend\":true,\"x\":[\"1\",\"2\",\"3\",\"4\",\"5\",\"6\",\"7\",\"8\",\"9\",\"10\",\"11\",\"12\"],\"xaxis\":\"x\",\"y\":[1.8,1.6,4.1,1.8,1.6,1.9,2.3,1.4,1.2,1.2,1.1,2.4],\"yaxis\":\"y\",\"type\":\"scatter\"},{\"hovertemplate\":\"color=2016\\u003cbr\\u003ex=%{x}\\u003cbr\\u003eServiceDurationDateReady=%{y}\\u003cextra\\u003e\\u003c\\u002fextra\\u003e\",\"legendgroup\":\"2016\",\"line\":{\"color\":\"#EF553B\",\"dash\":\"solid\"},\"marker\":{\"symbol\":\"circle\"},\"mode\":\"lines\",\"name\":\"2016\",\"orientation\":\"v\",\"showlegend\":true,\"x\":[\"1\",\"2\"],\"xaxis\":\"x\",\"y\":[2.6,2.6],\"yaxis\":\"y\",\"type\":\"scatter\"}],                        {\"template\":{\"data\":{\"histogram2dcontour\":[{\"type\":\"histogram2dcontour\",\"colorbar\":{\"outlinewidth\":0,\"ticks\":\"\"},\"colorscale\":[[0.0,\"#0d0887\"],[0.1111111111111111,\"#46039f\"],[0.2222222222222222,\"#7201a8\"],[0.3333333333333333,\"#9c179e\"],[0.4444444444444444,\"#bd3786\"],[0.5555555555555556,\"#d8576b\"],[0.6666666666666666,\"#ed7953\"],[0.7777777777777778,\"#fb9f3a\"],[0.8888888888888888,\"#fdca26\"],[1.0,\"#f0f921\"]]}],\"choropleth\":[{\"type\":\"choropleth\",\"colorbar\":{\"outlinewidth\":0,\"ticks\":\"\"}}],\"histogram2d\":[{\"type\":\"histogram2d\",\"colorbar\":{\"outlinewidth\":0,\"ticks\":\"\"},\"colorscale\":[[0.0,\"#0d0887\"],[0.1111111111111111,\"#46039f\"],[0.2222222222222222,\"#7201a8\"],[0.3333333333333333,\"#9c179e\"],[0.4444444444444444,\"#bd3786\"],[0.5555555555555556,\"#d8576b\"],[0.6666666666666666,\"#ed7953\"],[0.7777777777777778,\"#fb9f3a\"],[0.8888888888888888,\"#fdca26\"],[1.0,\"#f0f921\"]]}],\"heatmap\":[{\"type\":\"heatmap\",\"colorbar\":{\"outlinewidth\":0,\"ticks\":\"\"},\"colorscale\":[[0.0,\"#0d0887\"],[0.1111111111111111,\"#46039f\"],[0.2222222222222222,\"#7201a8\"],[0.3333333333333333,\"#9c179e\"],[0.4444444444444444,\"#bd3786\"],[0.5555555555555556,\"#d8576b\"],[0.6666666666666666,\"#ed7953\"],[0.7777777777777778,\"#fb9f3a\"],[0.8888888888888888,\"#fdca26\"],[1.0,\"#f0f921\"]]}],\"heatmapgl\":[{\"type\":\"heatmapgl\",\"colorbar\":{\"outlinewidth\":0,\"ticks\":\"\"},\"colorscale\":[[0.0,\"#0d0887\"],[0.1111111111111111,\"#46039f\"],[0.2222222222222222,\"#7201a8\"],[0.3333333333333333,\"#9c179e\"],[0.4444444444444444,\"#bd3786\"],[0.5555555555555556,\"#d8576b\"],[0.6666666666666666,\"#ed7953\"],[0.7777777777777778,\"#fb9f3a\"],[0.8888888888888888,\"#fdca26\"],[1.0,\"#f0f921\"]]}],\"contourcarpet\":[{\"type\":\"contourcarpet\",\"colorbar\":{\"outlinewidth\":0,\"ticks\":\"\"}}],\"contour\":[{\"type\":\"contour\",\"colorbar\":{\"outlinewidth\":0,\"ticks\":\"\"},\"colorscale\":[[0.0,\"#0d0887\"],[0.1111111111111111,\"#46039f\"],[0.2222222222222222,\"#7201a8\"],[0.3333333333333333,\"#9c179e\"],[0.4444444444444444,\"#bd3786\"],[0.5555555555555556,\"#d8576b\"],[0.6666666666666666,\"#ed7953\"],[0.7777777777777778,\"#fb9f3a\"],[0.8888888888888888,\"#fdca26\"],[1.0,\"#f0f921\"]]}],\"surface\":[{\"type\":\"surface\",\"colorbar\":{\"outlinewidth\":0,\"ticks\":\"\"},\"colorscale\":[[0.0,\"#0d0887\"],[0.1111111111111111,\"#46039f\"],[0.2222222222222222,\"#7201a8\"],[0.3333333333333333,\"#9c179e\"],[0.4444444444444444,\"#bd3786\"],[0.5555555555555556,\"#d8576b\"],[0.6666666666666666,\"#ed7953\"],[0.7777777777777778,\"#fb9f3a\"],[0.8888888888888888,\"#fdca26\"],[1.0,\"#f0f921\"]]}],\"mesh3d\":[{\"type\":\"mesh3d\",\"colorbar\":{\"outlinewidth\":0,\"ticks\":\"\"}}],\"scatter\":[{\"fillpattern\":{\"fillmode\":\"overlay\",\"size\":10,\"solidity\":0.2},\"type\":\"scatter\"}],\"parcoords\":[{\"type\":\"parcoords\",\"line\":{\"colorbar\":{\"outlinewidth\":0,\"ticks\":\"\"}}}],\"scatterpolargl\":[{\"type\":\"scatterpolargl\",\"marker\":{\"colorbar\":{\"outlinewidth\":0,\"ticks\":\"\"}}}],\"bar\":[{\"error_x\":{\"color\":\"#2a3f5f\"},\"error_y\":{\"color\":\"#2a3f5f\"},\"marker\":{\"line\":{\"color\":\"#E5ECF6\",\"width\":0.5},\"pattern\":{\"fillmode\":\"overlay\",\"size\":10,\"solidity\":0.2}},\"type\":\"bar\"}],\"scattergeo\":[{\"type\":\"scattergeo\",\"marker\":{\"colorbar\":{\"outlinewidth\":0,\"ticks\":\"\"}}}],\"scatterpolar\":[{\"type\":\"scatterpolar\",\"marker\":{\"colorbar\":{\"outlinewidth\":0,\"ticks\":\"\"}}}],\"histogram\":[{\"marker\":{\"pattern\":{\"fillmode\":\"overlay\",\"size\":10,\"solidity\":0.2}},\"type\":\"histogram\"}],\"scattergl\":[{\"type\":\"scattergl\",\"marker\":{\"colorbar\":{\"outlinewidth\":0,\"ticks\":\"\"}}}],\"scatter3d\":[{\"type\":\"scatter3d\",\"line\":{\"colorbar\":{\"outlinewidth\":0,\"ticks\":\"\"}},\"marker\":{\"colorbar\":{\"outlinewidth\":0,\"ticks\":\"\"}}}],\"scattermapbox\":[{\"type\":\"scattermapbox\",\"marker\":{\"colorbar\":{\"outlinewidth\":0,\"ticks\":\"\"}}}],\"scatterternary\":[{\"type\":\"scatterternary\",\"marker\":{\"colorbar\":{\"outlinewidth\":0,\"ticks\":\"\"}}}],\"scattercarpet\":[{\"type\":\"scattercarpet\",\"marker\":{\"colorbar\":{\"outlinewidth\":0,\"ticks\":\"\"}}}],\"carpet\":[{\"aaxis\":{\"endlinecolor\":\"#2a3f5f\",\"gridcolor\":\"white\",\"linecolor\":\"white\",\"minorgridcolor\":\"white\",\"startlinecolor\":\"#2a3f5f\"},\"baxis\":{\"endlinecolor\":\"#2a3f5f\",\"gridcolor\":\"white\",\"linecolor\":\"white\",\"minorgridcolor\":\"white\",\"startlinecolor\":\"#2a3f5f\"},\"type\":\"carpet\"}],\"table\":[{\"cells\":{\"fill\":{\"color\":\"#EBF0F8\"},\"line\":{\"color\":\"white\"}},\"header\":{\"fill\":{\"color\":\"#C8D4E3\"},\"line\":{\"color\":\"white\"}},\"type\":\"table\"}],\"barpolar\":[{\"marker\":{\"line\":{\"color\":\"#E5ECF6\",\"width\":0.5},\"pattern\":{\"fillmode\":\"overlay\",\"size\":10,\"solidity\":0.2}},\"type\":\"barpolar\"}],\"pie\":[{\"automargin\":true,\"type\":\"pie\"}]},\"layout\":{\"autotypenumbers\":\"strict\",\"colorway\":[\"#636efa\",\"#EF553B\",\"#00cc96\",\"#ab63fa\",\"#FFA15A\",\"#19d3f3\",\"#FF6692\",\"#B6E880\",\"#FF97FF\",\"#FECB52\"],\"font\":{\"color\":\"#2a3f5f\"},\"hovermode\":\"closest\",\"hoverlabel\":{\"align\":\"left\"},\"paper_bgcolor\":\"white\",\"plot_bgcolor\":\"#E5ECF6\",\"polar\":{\"bgcolor\":\"#E5ECF6\",\"angularaxis\":{\"gridcolor\":\"white\",\"linecolor\":\"white\",\"ticks\":\"\"},\"radialaxis\":{\"gridcolor\":\"white\",\"linecolor\":\"white\",\"ticks\":\"\"}},\"ternary\":{\"bgcolor\":\"#E5ECF6\",\"aaxis\":{\"gridcolor\":\"white\",\"linecolor\":\"white\",\"ticks\":\"\"},\"baxis\":{\"gridcolor\":\"white\",\"linecolor\":\"white\",\"ticks\":\"\"},\"caxis\":{\"gridcolor\":\"white\",\"linecolor\":\"white\",\"ticks\":\"\"}},\"coloraxis\":{\"colorbar\":{\"outlinewidth\":0,\"ticks\":\"\"}},\"colorscale\":{\"sequential\":[[0.0,\"#0d0887\"],[0.1111111111111111,\"#46039f\"],[0.2222222222222222,\"#7201a8\"],[0.3333333333333333,\"#9c179e\"],[0.4444444444444444,\"#bd3786\"],[0.5555555555555556,\"#d8576b\"],[0.6666666666666666,\"#ed7953\"],[0.7777777777777778,\"#fb9f3a\"],[0.8888888888888888,\"#fdca26\"],[1.0,\"#f0f921\"]],\"sequentialminus\":[[0.0,\"#0d0887\"],[0.1111111111111111,\"#46039f\"],[0.2222222222222222,\"#7201a8\"],[0.3333333333333333,\"#9c179e\"],[0.4444444444444444,\"#bd3786\"],[0.5555555555555556,\"#d8576b\"],[0.6666666666666666,\"#ed7953\"],[0.7777777777777778,\"#fb9f3a\"],[0.8888888888888888,\"#fdca26\"],[1.0,\"#f0f921\"]],\"diverging\":[[0,\"#8e0152\"],[0.1,\"#c51b7d\"],[0.2,\"#de77ae\"],[0.3,\"#f1b6da\"],[0.4,\"#fde0ef\"],[0.5,\"#f7f7f7\"],[0.6,\"#e6f5d0\"],[0.7,\"#b8e186\"],[0.8,\"#7fbc41\"],[0.9,\"#4d9221\"],[1,\"#276419\"]]},\"xaxis\":{\"gridcolor\":\"white\",\"linecolor\":\"white\",\"ticks\":\"\",\"title\":{\"standoff\":15},\"zerolinecolor\":\"white\",\"automargin\":true,\"zerolinewidth\":2},\"yaxis\":{\"gridcolor\":\"white\",\"linecolor\":\"white\",\"ticks\":\"\",\"title\":{\"standoff\":15},\"zerolinecolor\":\"white\",\"automargin\":true,\"zerolinewidth\":2},\"scene\":{\"xaxis\":{\"backgroundcolor\":\"#E5ECF6\",\"gridcolor\":\"white\",\"linecolor\":\"white\",\"showbackground\":true,\"ticks\":\"\",\"zerolinecolor\":\"white\",\"gridwidth\":2},\"yaxis\":{\"backgroundcolor\":\"#E5ECF6\",\"gridcolor\":\"white\",\"linecolor\":\"white\",\"showbackground\":true,\"ticks\":\"\",\"zerolinecolor\":\"white\",\"gridwidth\":2},\"zaxis\":{\"backgroundcolor\":\"#E5ECF6\",\"gridcolor\":\"white\",\"linecolor\":\"white\",\"showbackground\":true,\"ticks\":\"\",\"zerolinecolor\":\"white\",\"gridwidth\":2}},\"shapedefaults\":{\"line\":{\"color\":\"#2a3f5f\"}},\"annotationdefaults\":{\"arrowcolor\":\"#2a3f5f\",\"arrowhead\":0,\"arrowwidth\":1},\"geo\":{\"bgcolor\":\"white\",\"landcolor\":\"#E5ECF6\",\"subunitcolor\":\"white\",\"showland\":true,\"showlakes\":true,\"lakecolor\":\"white\"},\"title\":{\"x\":0.05},\"mapbox\":{\"style\":\"light\"}}},\"xaxis\":{\"anchor\":\"y\",\"domain\":[0.0,1.0],\"title\":{\"text\":\"monthReady\"}},\"yaxis\":{\"anchor\":\"x\",\"domain\":[0.0,1.0],\"title\":{\"text\":\"ServiceDurationDateReady\"}},\"legend\":{\"title\":{\"text\":\"color\"},\"tracegroupgap\":0},\"title\":{\"text\":\"Average Service duration trends by year - month Analysis\",\"x\":0.5}},                        {\"responsive\": true}                    ).then(function(){\n",
       "                            \n",
       "var gd = document.getElementById('a30b4c09-7cdb-493b-87f7-c20e7d58fca3');\n",
       "var x = new MutationObserver(function (mutations, observer) {{\n",
       "        var display = window.getComputedStyle(gd).display;\n",
       "        if (!display || display === 'none') {{\n",
       "            console.log([gd, 'removed!']);\n",
       "            Plotly.purge(gd);\n",
       "            observer.disconnect();\n",
       "        }}\n",
       "}});\n",
       "\n",
       "// Listen for the removal of the full notebook cells\n",
       "var notebookContainer = gd.closest('#notebook-container');\n",
       "if (notebookContainer) {{\n",
       "    x.observe(notebookContainer, {childList: true});\n",
       "}}\n",
       "\n",
       "// Listen for the clearing of the current output cell\n",
       "var outputEl = gd.closest('.output');\n",
       "if (outputEl) {{\n",
       "    x.observe(outputEl, {childList: true});\n",
       "}}\n",
       "\n",
       "                        })                };                });            </script>        </div>"
      ]
     },
     "metadata": {},
     "output_type": "display_data"
    }
   ],
   "source": [
    "service_duration_by_dateReady = df.groupby(['yearReady','monthReady'])['service_duration'].mean().round(1).sort_values().reset_index(name='ServiceDurationDateReady')\n",
    "myPlot1(service_duration_by_dateReady,'monthReady','ServiceDurationDateReady','yearReady','line','Average Service duration trends by year - month', sort_by='monthReady', ascending=True)"
   ]
  },
  {
   "cell_type": "code",
   "execution_count": null,
   "id": "3de8a468",
   "metadata": {},
   "outputs": [],
   "source": [
    "#### Correlation between service duration and cost"
   ]
  },
  {
   "cell_type": "code",
   "execution_count": 100,
   "id": "47091691",
   "metadata": {},
   "outputs": [],
   "source": [
    "#### Is there a correlation between the service duration and the cost of repair?"
   ]
  },
  {
   "cell_type": "code",
   "execution_count": 44,
   "id": "27f0fe3a",
   "metadata": {},
   "outputs": [
    {
     "data": {
      "application/vnd.plotly.v1+json": {
       "config": {
        "plotlyServerURL": "https://plot.ly"
       },
       "data": [
        {
         "hovertemplate": "service_duration=%{marker.color}<br>cost=%{y}<extra></extra>",
         "legendgroup": "",
         "marker": {
          "color": [
           5,
           5,
           11,
           6,
           6,
           8,
           1,
           1,
           1,
           1,
           1,
           2,
           4,
           1,
           10,
           6,
           1,
           1,
           1,
           1,
           1,
           1,
           1,
           1,
           1,
           1,
           1,
           1,
           1,
           1,
           1,
           1,
           1,
           1,
           1,
           1,
           1,
           1,
           1,
           1,
           1,
           1,
           1,
           1,
           1,
           1,
           1,
           1,
           1,
           1,
           1,
           1,
           1,
           1,
           1,
           1,
           1,
           13,
           1,
           1,
           1,
           1,
           2,
           1,
           1,
           1,
           1,
           1,
           1,
           1,
           1,
           3,
           1,
           17,
           1,
           1,
           2,
           1,
           1,
           1,
           4,
           1,
           1,
           1,
           1,
           1,
           1,
           1,
           1,
           1,
           1,
           1,
           1,
           1,
           1,
           1,
           1,
           1,
           1,
           1,
           1,
           1,
           1,
           1,
           1,
           1,
           1,
           1,
           1,
           1,
           1,
           1,
           1,
           1,
           1,
           1,
           1,
           1,
           1,
           1,
           6,
           1,
           9,
           1,
           1,
           1,
           1,
           1,
           1,
           1,
           1,
           1,
           1,
           1,
           1,
           1,
           1,
           4,
           1,
           1,
           1,
           12,
           1,
           1,
           1,
           1,
           1,
           4,
           3,
           1,
           30,
           1,
           1,
           1,
           4,
           11,
           1,
           1,
           1,
           1,
           1,
           1,
           1,
           14,
           8,
           1,
           1,
           70,
           1,
           11,
           5,
           18,
           2,
           5,
           1,
           1,
           1,
           1,
           1,
           1,
           1,
           1,
           1,
           1,
           1,
           4,
           1,
           3,
           1,
           1,
           1,
           1,
           1,
           1,
           1,
           1,
           1,
           1,
           4,
           1,
           5,
           1,
           57,
           1,
           2,
           2,
           2,
           1,
           1,
           3,
           1,
           2,
           1,
           2,
           1,
           1,
           1,
           1,
           1,
           1,
           1,
           1,
           1,
           1,
           1,
           6,
           1,
           4,
           1,
           1,
           1,
           4,
           1,
           3,
           1,
           1,
           1,
           3,
           3,
           7,
           1,
           1,
           2,
           1,
           1,
           1,
           1,
           5,
           1,
           1,
           8,
           1,
           1,
           1,
           1,
           1,
           1,
           1,
           1,
           1,
           1,
           1,
           1,
           1,
           1,
           1,
           1,
           1,
           1,
           4,
           5,
           1,
           1,
           1,
           1,
           1,
           1,
           1,
           1,
           1,
           1,
           32,
           3,
           1,
           1,
           1,
           1,
           1,
           1,
           1,
           1,
           1,
           3,
           1,
           1,
           1,
           1,
           1,
           1,
           1,
           1,
           1,
           1,
           1,
           1,
           1,
           1,
           1,
           1,
           1,
           1,
           1,
           1,
           1,
           1,
           1,
           1,
           1,
           1,
           1,
           1,
           1,
           11,
           1,
           1,
           9,
           1,
           1,
           1,
           1,
           1,
           1,
           1,
           1,
           1,
           3,
           7,
           3,
           2,
           1,
           1,
           1,
           1,
           1,
           1,
           1,
           1,
           1,
           1,
           1,
           1,
           1,
           1,
           1,
           1,
           1,
           1,
           1,
           1,
           1,
           1,
           1,
           1,
           1,
           10,
           1,
           1,
           1,
           1,
           1,
           2,
           3,
           1,
           1,
           2,
           2,
           1,
           1,
           1,
           2,
           7,
           1,
           1,
           1,
           1,
           1,
           1,
           1,
           14,
           3,
           7,
           11,
           6,
           7,
           5,
           5,
           8,
           1,
           1,
           1,
           1,
           1,
           1,
           1,
           1,
           1,
           4,
           1,
           1,
           3,
           4,
           1,
           1,
           4,
           1,
           1,
           1,
           1,
           1,
           2,
           1,
           1,
           1,
           2,
           1,
           1,
           1,
           1,
           2,
           1,
           1,
           1,
           1,
           2,
           1,
           1,
           1,
           1,
           1,
           1,
           1,
           1,
           2,
           2,
           7,
           6,
           7,
           1,
           1,
           2,
           1,
           1,
           8,
           1,
           2,
           1,
           3,
           4,
           1,
           1,
           1,
           7,
           1,
           1,
           1,
           2,
           1,
           1,
           2,
           1,
           2,
           3,
           2,
           1,
           1,
           8,
           1,
           1,
           1,
           1,
           1,
           1,
           1,
           1,
           1,
           2,
           1,
           1,
           1,
           1,
           6,
           1,
           1,
           1,
           5,
           11,
           1,
           1,
           1,
           1,
           1,
           1,
           1,
           1,
           1,
           1,
           1,
           1,
           1,
           1,
           1,
           1,
           1,
           1,
           1,
           1,
           1,
           1,
           1,
           1,
           1,
           1,
           1,
           1,
           1,
           1,
           1,
           1,
           1,
           1,
           1,
           3,
           11,
           1,
           6,
           6,
           1,
           1,
           1,
           1,
           1,
           1,
           14,
           2,
           1,
           1,
           6,
           1,
           1,
           1,
           1,
           1,
           1,
           1,
           1,
           1,
           1,
           1,
           6,
           3,
           1,
           4,
           2,
           1,
           1,
           1,
           2,
           1,
           1,
           1,
           1,
           1,
           1,
           2,
           2,
           5,
           5,
           1,
           1,
           5,
           1,
           1,
           1,
           5,
           1,
           1,
           1,
           2,
           1,
           1,
           1,
           1,
           1,
           1,
           1,
           1,
           1,
           1,
           1,
           1,
           1,
           1,
           1,
           1,
           1,
           1,
           1,
           1,
           4,
           2,
           7,
           1,
           1,
           1,
           1,
           6,
           4,
           7,
           2,
           24,
           1,
           1,
           7,
           3,
           3,
           1,
           1,
           1,
           1,
           2,
           1,
           1,
           1,
           1,
           1,
           6,
           1,
           7,
           4,
           1,
           1,
           1,
           1,
           11,
           1,
           1,
           1,
           7,
           4,
           1,
           1,
           1,
           1,
           1,
           1,
           1,
           1,
           1,
           1,
           7,
           1,
           1,
           1,
           1,
           1,
           1,
           1,
           1,
           1,
           1,
           1,
           1,
           1,
           1,
           1,
           1,
           5,
           6,
           1,
           1,
           1,
           1,
           1,
           1,
           1,
           1,
           1,
           1,
           1,
           1,
           1,
           1,
           1,
           1,
           1,
           1,
           1,
           1,
           1,
           1,
           1,
           1,
           1,
           1,
           6,
           1,
           6,
           1,
           1,
           1,
           1,
           1,
           1,
           1,
           1,
           1,
           1,
           8,
           1,
           1,
           9,
           8,
           1,
           1,
           1,
           1,
           1,
           1,
           1,
           1,
           1,
           1,
           1,
           1,
           1,
           1,
           1,
           1,
           1,
           1,
           5,
           1,
           1,
           1,
           1,
           1,
           1,
           4,
           1,
           1,
           3,
           4,
           1,
           1,
           4,
           1,
           1,
           1,
           1,
           1,
           1,
           1,
           1,
           1,
           1,
           1,
           5,
           6,
           5,
           1,
           1,
           1,
           1,
           1,
           1,
           1,
           1,
           1,
           1,
           1,
           1,
           1,
           1,
           1,
           1,
           1,
           1,
           1,
           1,
           1,
           12,
           7,
           7,
           1,
           7,
           1,
           1,
           1,
           1,
           1,
           1,
           1,
           1,
           1,
           1,
           1,
           1,
           1,
           1,
           1,
           1,
           1,
           1,
           1,
           1,
           1,
           1,
           1,
           1,
           1,
           1,
           1,
           1,
           1,
           1,
           1,
           1,
           1,
           1,
           1,
           1,
           1,
           1,
           1,
           1,
           1,
           1,
           1,
           1,
           1,
           1,
           1,
           1,
           1,
           1,
           1,
           1,
           1,
           1,
           1,
           1,
           1,
           1,
           1,
           1,
           8,
           1,
           1,
           1,
           6,
           1,
           1,
           1,
           1,
           9,
           1,
           1,
           1,
           1,
           1,
           3,
           1,
           1,
           1,
           1,
           1,
           1,
           1,
           1,
           1,
           1,
           1,
           5,
           1,
           1,
           1,
           1,
           1,
           1,
           1,
           1,
           1,
           1,
           4,
           6,
           1,
           1,
           1,
           1,
           4,
           1,
           1,
           1,
           1,
           1,
           1,
           1,
           1,
           1,
           1,
           1,
           1,
           1,
           1,
           1,
           1,
           1,
           1,
           1,
           1,
           1,
           1,
           1,
           1,
           1,
           1,
           7,
           1,
           1,
           1,
           1,
           1,
           1,
           1,
           1,
           1,
           1,
           1,
           1,
           1,
           1,
           1,
           1,
           1,
           1,
           1,
           1,
           1,
           1,
           1,
           1,
           1,
           1,
           1,
           1,
           1,
           1,
           1,
           1,
           1,
           4,
           1,
           1,
           1,
           1,
           1,
           1,
           1,
           1,
           1,
           1,
           1,
           1,
           1,
           1,
           1,
           1,
           1,
           1,
           1,
           1,
           1,
           1,
           1,
           1,
           5,
           1,
           1,
           1,
           1,
           1,
           1,
           1,
           1,
           1,
           1,
           1,
           1,
           1,
           1,
           1,
           1,
           1,
           1,
           1,
           1,
           1,
           1,
           1,
           1,
           1,
           1,
           1,
           1,
           1,
           1,
           1,
           1,
           1,
           1,
           1,
           5,
           1,
           1,
           1,
           1,
           1,
           1,
           1,
           1,
           1,
           1,
           1,
           1,
           1,
           1,
           1,
           6,
           1,
           1,
           1,
           1,
           1,
           1,
           1,
           1,
           1,
           1,
           1,
           5,
           1,
           2,
           1,
           1,
           1,
           1,
           1,
           1,
           1,
           1,
           1,
           1,
           1,
           1,
           1,
           1,
           1,
           1,
           1,
           1,
           1,
           1,
           1,
           1,
           1,
           1,
           1,
           1,
           1,
           1,
           1,
           1,
           1,
           1,
           1,
           1,
           1,
           1,
           1,
           1,
           1,
           1,
           1,
           1,
           1,
           1,
           1,
           1,
           1,
           1,
           1,
           1,
           5,
           5,
           1,
           1,
           1,
           1,
           1,
           1,
           1,
           1,
           1,
           1,
           1,
           1,
           1,
           1,
           1,
           1,
           1,
           1,
           1,
           1,
           1,
           1,
           1,
           1,
           1,
           1,
           1,
           1,
           1,
           1,
           1,
           1,
           1,
           1,
           1,
           1,
           1,
           5,
           1,
           1,
           1,
           1,
           1,
           1,
           1,
           1,
           1,
           1,
           1,
           1,
           1,
           1,
           1,
           1,
           1,
           1,
           1,
           1,
           1,
           1,
           1,
           1,
           1,
           1,
           1,
           1,
           1,
           1,
           1,
           1,
           1,
           1,
           1,
           1,
           1,
           1,
           1,
           1,
           1,
           1,
           1,
           1,
           1,
           1,
           1,
           1,
           1,
           1,
           1,
           1,
           1,
           1,
           4,
           4,
           1,
           1,
           1,
           1,
           1,
           1,
           1,
           1,
           1,
           1,
           1,
           1,
           1,
           1,
           1,
           1,
           1,
           1,
           1,
           1,
           1,
           1,
           1,
           5,
           1,
           1,
           1,
           1,
           1,
           1,
           1,
           1,
           1,
           1,
           1,
           1,
           1,
           1,
           1,
           1,
           1,
           1,
           1,
           1,
           1,
           1,
           6,
           1,
           1,
           1,
           1,
           1,
           1,
           1,
           1,
           1,
           1,
           1,
           1,
           1,
           1,
           1,
           1,
           1,
           1,
           1,
           1,
           1,
           1,
           1,
           1,
           1,
           1,
           1,
           1,
           1,
           1,
           1,
           1,
           1,
           1,
           1,
           1,
           1,
           1,
           1,
           1,
           5,
           1,
           1,
           1,
           1,
           1,
           1,
           1,
           1,
           5,
           1,
           1,
           1,
           1,
           1,
           1,
           1,
           1,
           4,
           3,
           5,
           5,
           6,
           4,
           4,
           4,
           3,
           4,
           5,
           4,
           4,
           5,
           4,
           5,
           4,
           4,
           5,
           3,
           1,
           1,
           1,
           1,
           1,
           1,
           1,
           5,
           7,
           7,
           8,
           6,
           1,
           1,
           5,
           1,
           5,
           4,
           1,
           1,
           5,
           5,
           4,
           1,
           1,
           1,
           1,
           1,
           1,
           1,
           1,
           1,
           1,
           1,
           1,
           1,
           1,
           5,
           6,
           7,
           1,
           1,
           1,
           1,
           1,
           1,
           1,
           1,
           1,
           1,
           1,
           1,
           1,
           1,
           1,
           1,
           1,
           1,
           1,
           1,
           1,
           1,
           1,
           1,
           1,
           1,
           1,
           1,
           1,
           17,
           5,
           4,
           1,
           1,
           1,
           1,
           1,
           1,
           1,
           1,
           6,
           1,
           1,
           1,
           1,
           1,
           1,
           1,
           1,
           1,
           8,
           1,
           1,
           11,
           11,
           1,
           1,
           1,
           1,
           1,
           6,
           6,
           1,
           1,
           1,
           1,
           1,
           7,
           1,
           1,
           1,
           1,
           1,
           1,
           1,
           1,
           1,
           8,
           1,
           1,
           1,
           1,
           1,
           1,
           9,
           5,
           4,
           2,
           11,
           7,
           1,
           1,
           1,
           1,
           1,
           1,
           1,
           1,
           1,
           1,
           8,
           8,
           8,
           7,
           6,
           1,
           1,
           1,
           1,
           1,
           9,
           6,
           7,
           7,
           8,
           1,
           1,
           1,
           1,
           1,
           1,
           1,
           1,
           1,
           1,
           9,
           1,
           1,
           1,
           1,
           1,
           1,
           1,
           8,
           4,
           1
          ],
          "coloraxis": "coloraxis",
          "symbol": "circle"
         },
         "mode": "markers",
         "name": "",
         "showlegend": false,
         "type": "scattergl",
         "x": [
          5,
          5,
          11,
          6,
          6,
          8,
          1,
          1,
          1,
          1,
          1,
          2,
          4,
          1,
          10,
          6,
          1,
          1,
          1,
          1,
          1,
          1,
          1,
          1,
          1,
          1,
          1,
          1,
          1,
          1,
          1,
          1,
          1,
          1,
          1,
          1,
          1,
          1,
          1,
          1,
          1,
          1,
          1,
          1,
          1,
          1,
          1,
          1,
          1,
          1,
          1,
          1,
          1,
          1,
          1,
          1,
          1,
          13,
          1,
          1,
          1,
          1,
          2,
          1,
          1,
          1,
          1,
          1,
          1,
          1,
          1,
          3,
          1,
          17,
          1,
          1,
          2,
          1,
          1,
          1,
          4,
          1,
          1,
          1,
          1,
          1,
          1,
          1,
          1,
          1,
          1,
          1,
          1,
          1,
          1,
          1,
          1,
          1,
          1,
          1,
          1,
          1,
          1,
          1,
          1,
          1,
          1,
          1,
          1,
          1,
          1,
          1,
          1,
          1,
          1,
          1,
          1,
          1,
          1,
          1,
          6,
          1,
          9,
          1,
          1,
          1,
          1,
          1,
          1,
          1,
          1,
          1,
          1,
          1,
          1,
          1,
          1,
          4,
          1,
          1,
          1,
          12,
          1,
          1,
          1,
          1,
          1,
          4,
          3,
          1,
          30,
          1,
          1,
          1,
          4,
          11,
          1,
          1,
          1,
          1,
          1,
          1,
          1,
          14,
          8,
          1,
          1,
          70,
          1,
          11,
          5,
          18,
          2,
          5,
          1,
          1,
          1,
          1,
          1,
          1,
          1,
          1,
          1,
          1,
          1,
          4,
          1,
          3,
          1,
          1,
          1,
          1,
          1,
          1,
          1,
          1,
          1,
          1,
          4,
          1,
          5,
          1,
          57,
          1,
          2,
          2,
          2,
          1,
          1,
          3,
          1,
          2,
          1,
          2,
          1,
          1,
          1,
          1,
          1,
          1,
          1,
          1,
          1,
          1,
          1,
          6,
          1,
          4,
          1,
          1,
          1,
          4,
          1,
          3,
          1,
          1,
          1,
          3,
          3,
          7,
          1,
          1,
          2,
          1,
          1,
          1,
          1,
          5,
          1,
          1,
          8,
          1,
          1,
          1,
          1,
          1,
          1,
          1,
          1,
          1,
          1,
          1,
          1,
          1,
          1,
          1,
          1,
          1,
          1,
          4,
          5,
          1,
          1,
          1,
          1,
          1,
          1,
          1,
          1,
          1,
          1,
          32,
          3,
          1,
          1,
          1,
          1,
          1,
          1,
          1,
          1,
          1,
          3,
          1,
          1,
          1,
          1,
          1,
          1,
          1,
          1,
          1,
          1,
          1,
          1,
          1,
          1,
          1,
          1,
          1,
          1,
          1,
          1,
          1,
          1,
          1,
          1,
          1,
          1,
          1,
          1,
          1,
          11,
          1,
          1,
          9,
          1,
          1,
          1,
          1,
          1,
          1,
          1,
          1,
          1,
          3,
          7,
          3,
          2,
          1,
          1,
          1,
          1,
          1,
          1,
          1,
          1,
          1,
          1,
          1,
          1,
          1,
          1,
          1,
          1,
          1,
          1,
          1,
          1,
          1,
          1,
          1,
          1,
          1,
          10,
          1,
          1,
          1,
          1,
          1,
          2,
          3,
          1,
          1,
          2,
          2,
          1,
          1,
          1,
          2,
          7,
          1,
          1,
          1,
          1,
          1,
          1,
          1,
          14,
          3,
          7,
          11,
          6,
          7,
          5,
          5,
          8,
          1,
          1,
          1,
          1,
          1,
          1,
          1,
          1,
          1,
          4,
          1,
          1,
          3,
          4,
          1,
          1,
          4,
          1,
          1,
          1,
          1,
          1,
          2,
          1,
          1,
          1,
          2,
          1,
          1,
          1,
          1,
          2,
          1,
          1,
          1,
          1,
          2,
          1,
          1,
          1,
          1,
          1,
          1,
          1,
          1,
          2,
          2,
          7,
          6,
          7,
          1,
          1,
          2,
          1,
          1,
          8,
          1,
          2,
          1,
          3,
          4,
          1,
          1,
          1,
          7,
          1,
          1,
          1,
          2,
          1,
          1,
          2,
          1,
          2,
          3,
          2,
          1,
          1,
          8,
          1,
          1,
          1,
          1,
          1,
          1,
          1,
          1,
          1,
          2,
          1,
          1,
          1,
          1,
          6,
          1,
          1,
          1,
          5,
          11,
          1,
          1,
          1,
          1,
          1,
          1,
          1,
          1,
          1,
          1,
          1,
          1,
          1,
          1,
          1,
          1,
          1,
          1,
          1,
          1,
          1,
          1,
          1,
          1,
          1,
          1,
          1,
          1,
          1,
          1,
          1,
          1,
          1,
          1,
          1,
          3,
          11,
          1,
          6,
          6,
          1,
          1,
          1,
          1,
          1,
          1,
          14,
          2,
          1,
          1,
          6,
          1,
          1,
          1,
          1,
          1,
          1,
          1,
          1,
          1,
          1,
          1,
          6,
          3,
          1,
          4,
          2,
          1,
          1,
          1,
          2,
          1,
          1,
          1,
          1,
          1,
          1,
          2,
          2,
          5,
          5,
          1,
          1,
          5,
          1,
          1,
          1,
          5,
          1,
          1,
          1,
          2,
          1,
          1,
          1,
          1,
          1,
          1,
          1,
          1,
          1,
          1,
          1,
          1,
          1,
          1,
          1,
          1,
          1,
          1,
          1,
          1,
          4,
          2,
          7,
          1,
          1,
          1,
          1,
          6,
          4,
          7,
          2,
          24,
          1,
          1,
          7,
          3,
          3,
          1,
          1,
          1,
          1,
          2,
          1,
          1,
          1,
          1,
          1,
          6,
          1,
          7,
          4,
          1,
          1,
          1,
          1,
          11,
          1,
          1,
          1,
          7,
          4,
          1,
          1,
          1,
          1,
          1,
          1,
          1,
          1,
          1,
          1,
          7,
          1,
          1,
          1,
          1,
          1,
          1,
          1,
          1,
          1,
          1,
          1,
          1,
          1,
          1,
          1,
          1,
          5,
          6,
          1,
          1,
          1,
          1,
          1,
          1,
          1,
          1,
          1,
          1,
          1,
          1,
          1,
          1,
          1,
          1,
          1,
          1,
          1,
          1,
          1,
          1,
          1,
          1,
          1,
          1,
          6,
          1,
          6,
          1,
          1,
          1,
          1,
          1,
          1,
          1,
          1,
          1,
          1,
          8,
          1,
          1,
          9,
          8,
          1,
          1,
          1,
          1,
          1,
          1,
          1,
          1,
          1,
          1,
          1,
          1,
          1,
          1,
          1,
          1,
          1,
          1,
          5,
          1,
          1,
          1,
          1,
          1,
          1,
          4,
          1,
          1,
          3,
          4,
          1,
          1,
          4,
          1,
          1,
          1,
          1,
          1,
          1,
          1,
          1,
          1,
          1,
          1,
          5,
          6,
          5,
          1,
          1,
          1,
          1,
          1,
          1,
          1,
          1,
          1,
          1,
          1,
          1,
          1,
          1,
          1,
          1,
          1,
          1,
          1,
          1,
          1,
          12,
          7,
          7,
          1,
          7,
          1,
          1,
          1,
          1,
          1,
          1,
          1,
          1,
          1,
          1,
          1,
          1,
          1,
          1,
          1,
          1,
          1,
          1,
          1,
          1,
          1,
          1,
          1,
          1,
          1,
          1,
          1,
          1,
          1,
          1,
          1,
          1,
          1,
          1,
          1,
          1,
          1,
          1,
          1,
          1,
          1,
          1,
          1,
          1,
          1,
          1,
          1,
          1,
          1,
          1,
          1,
          1,
          1,
          1,
          1,
          1,
          1,
          1,
          1,
          1,
          8,
          1,
          1,
          1,
          6,
          1,
          1,
          1,
          1,
          9,
          1,
          1,
          1,
          1,
          1,
          3,
          1,
          1,
          1,
          1,
          1,
          1,
          1,
          1,
          1,
          1,
          1,
          5,
          1,
          1,
          1,
          1,
          1,
          1,
          1,
          1,
          1,
          1,
          4,
          6,
          1,
          1,
          1,
          1,
          4,
          1,
          1,
          1,
          1,
          1,
          1,
          1,
          1,
          1,
          1,
          1,
          1,
          1,
          1,
          1,
          1,
          1,
          1,
          1,
          1,
          1,
          1,
          1,
          1,
          1,
          1,
          7,
          1,
          1,
          1,
          1,
          1,
          1,
          1,
          1,
          1,
          1,
          1,
          1,
          1,
          1,
          1,
          1,
          1,
          1,
          1,
          1,
          1,
          1,
          1,
          1,
          1,
          1,
          1,
          1,
          1,
          1,
          1,
          1,
          1,
          4,
          1,
          1,
          1,
          1,
          1,
          1,
          1,
          1,
          1,
          1,
          1,
          1,
          1,
          1,
          1,
          1,
          1,
          1,
          1,
          1,
          1,
          1,
          1,
          1,
          5,
          1,
          1,
          1,
          1,
          1,
          1,
          1,
          1,
          1,
          1,
          1,
          1,
          1,
          1,
          1,
          1,
          1,
          1,
          1,
          1,
          1,
          1,
          1,
          1,
          1,
          1,
          1,
          1,
          1,
          1,
          1,
          1,
          1,
          1,
          1,
          5,
          1,
          1,
          1,
          1,
          1,
          1,
          1,
          1,
          1,
          1,
          1,
          1,
          1,
          1,
          1,
          6,
          1,
          1,
          1,
          1,
          1,
          1,
          1,
          1,
          1,
          1,
          1,
          5,
          1,
          2,
          1,
          1,
          1,
          1,
          1,
          1,
          1,
          1,
          1,
          1,
          1,
          1,
          1,
          1,
          1,
          1,
          1,
          1,
          1,
          1,
          1,
          1,
          1,
          1,
          1,
          1,
          1,
          1,
          1,
          1,
          1,
          1,
          1,
          1,
          1,
          1,
          1,
          1,
          1,
          1,
          1,
          1,
          1,
          1,
          1,
          1,
          1,
          1,
          1,
          1,
          5,
          5,
          1,
          1,
          1,
          1,
          1,
          1,
          1,
          1,
          1,
          1,
          1,
          1,
          1,
          1,
          1,
          1,
          1,
          1,
          1,
          1,
          1,
          1,
          1,
          1,
          1,
          1,
          1,
          1,
          1,
          1,
          1,
          1,
          1,
          1,
          1,
          1,
          1,
          5,
          1,
          1,
          1,
          1,
          1,
          1,
          1,
          1,
          1,
          1,
          1,
          1,
          1,
          1,
          1,
          1,
          1,
          1,
          1,
          1,
          1,
          1,
          1,
          1,
          1,
          1,
          1,
          1,
          1,
          1,
          1,
          1,
          1,
          1,
          1,
          1,
          1,
          1,
          1,
          1,
          1,
          1,
          1,
          1,
          1,
          1,
          1,
          1,
          1,
          1,
          1,
          1,
          1,
          1,
          4,
          4,
          1,
          1,
          1,
          1,
          1,
          1,
          1,
          1,
          1,
          1,
          1,
          1,
          1,
          1,
          1,
          1,
          1,
          1,
          1,
          1,
          1,
          1,
          1,
          5,
          1,
          1,
          1,
          1,
          1,
          1,
          1,
          1,
          1,
          1,
          1,
          1,
          1,
          1,
          1,
          1,
          1,
          1,
          1,
          1,
          1,
          1,
          6,
          1,
          1,
          1,
          1,
          1,
          1,
          1,
          1,
          1,
          1,
          1,
          1,
          1,
          1,
          1,
          1,
          1,
          1,
          1,
          1,
          1,
          1,
          1,
          1,
          1,
          1,
          1,
          1,
          1,
          1,
          1,
          1,
          1,
          1,
          1,
          1,
          1,
          1,
          1,
          1,
          5,
          1,
          1,
          1,
          1,
          1,
          1,
          1,
          1,
          5,
          1,
          1,
          1,
          1,
          1,
          1,
          1,
          1,
          4,
          3,
          5,
          5,
          6,
          4,
          4,
          4,
          3,
          4,
          5,
          4,
          4,
          5,
          4,
          5,
          4,
          4,
          5,
          3,
          1,
          1,
          1,
          1,
          1,
          1,
          1,
          5,
          7,
          7,
          8,
          6,
          1,
          1,
          5,
          1,
          5,
          4,
          1,
          1,
          5,
          5,
          4,
          1,
          1,
          1,
          1,
          1,
          1,
          1,
          1,
          1,
          1,
          1,
          1,
          1,
          1,
          5,
          6,
          7,
          1,
          1,
          1,
          1,
          1,
          1,
          1,
          1,
          1,
          1,
          1,
          1,
          1,
          1,
          1,
          1,
          1,
          1,
          1,
          1,
          1,
          1,
          1,
          1,
          1,
          1,
          1,
          1,
          1,
          17,
          5,
          4,
          1,
          1,
          1,
          1,
          1,
          1,
          1,
          1,
          6,
          1,
          1,
          1,
          1,
          1,
          1,
          1,
          1,
          1,
          8,
          1,
          1,
          11,
          11,
          1,
          1,
          1,
          1,
          1,
          6,
          6,
          1,
          1,
          1,
          1,
          1,
          7,
          1,
          1,
          1,
          1,
          1,
          1,
          1,
          1,
          1,
          8,
          1,
          1,
          1,
          1,
          1,
          1,
          9,
          5,
          4,
          2,
          11,
          7,
          1,
          1,
          1,
          1,
          1,
          1,
          1,
          1,
          1,
          1,
          8,
          8,
          8,
          7,
          6,
          1,
          1,
          1,
          1,
          1,
          9,
          6,
          7,
          7,
          8,
          1,
          1,
          1,
          1,
          1,
          1,
          1,
          1,
          1,
          1,
          9,
          1,
          1,
          1,
          1,
          1,
          1,
          1,
          8,
          4,
          1
         ],
         "xaxis": "x",
         "y": [
          150,
          281,
          92,
          250,
          253,
          650,
          320,
          21,
          21,
          21,
          21,
          76,
          281,
          58,
          40,
          110,
          21,
          20,
          100,
          14,
          14,
          25,
          60,
          40,
          23,
          20,
          16,
          21,
          21,
          21,
          21,
          21,
          21,
          21,
          21,
          21,
          21,
          21,
          21,
          21,
          21,
          21,
          21,
          21,
          21,
          21,
          21,
          21,
          21,
          21,
          21,
          21,
          21,
          21,
          21,
          27,
          5,
          200,
          90,
          92,
          21,
          25,
          15,
          240,
          20,
          36,
          90,
          21,
          23,
          16,
          20,
          525,
          42,
          538,
          274,
          650,
          58,
          27,
          22,
          41,
          92,
          90,
          21,
          21,
          21,
          21,
          21,
          21,
          21,
          21,
          21,
          21,
          21,
          21,
          21,
          21,
          21,
          21,
          21,
          21,
          21,
          21,
          40,
          40,
          15,
          21,
          50,
          20,
          50,
          400,
          21,
          45,
          13,
          30,
          50,
          21,
          21,
          21,
          21,
          102,
          281,
          116,
          650,
          50,
          40,
          21,
          21,
          77,
          21,
          104,
          30,
          21,
          20,
          15,
          105,
          50,
          30,
          281,
          55,
          163,
          99,
          200,
          25,
          21,
          21,
          1000,
          21,
          170,
          92,
          235,
          2500,
          21,
          120,
          21,
          70,
          281,
          4,
          440,
          165,
          40,
          21,
          85,
          155,
          21,
          92,
          21,
          21,
          2100,
          109,
          350,
          281,
          281,
          20,
          350,
          21,
          21,
          21,
          21,
          21,
          21,
          21,
          21,
          21,
          41,
          21,
          150,
          530,
          150,
          109,
          20,
          30,
          15,
          21,
          22,
          21,
          20,
          525,
          45,
          150,
          21,
          281,
          19,
          550,
          45,
          21,
          270,
          514,
          110,
          92,
          220,
          35,
          25,
          22,
          15,
          21,
          21,
          24,
          21,
          21,
          17,
          17,
          21,
          21,
          25,
          35,
          281,
          120,
          281,
          50,
          50,
          36,
          120,
          150,
          15,
          15,
          50,
          13,
          250,
          120,
          250,
          63,
          63,
          35,
          72,
          55,
          21,
          21,
          421,
          650,
          425,
          281,
          21,
          18,
          21,
          21,
          21,
          25,
          25,
          21,
          21,
          25,
          21,
          21,
          60,
          70,
          70,
          22,
          100,
          40,
          281,
          281,
          131,
          105,
          105,
          105,
          326,
          21,
          35,
          28,
          28,
          49,
          504,
          281,
          35,
          22,
          35,
          55,
          25,
          21,
          21,
          25,
          30,
          120,
          70,
          20,
          20,
          20,
          20,
          20,
          20,
          20,
          20,
          21,
          21,
          21,
          21,
          21,
          21,
          21,
          21,
          21,
          21,
          21,
          21,
          21,
          21,
          21,
          21,
          21,
          29,
          550,
          55,
          281,
          180,
          35,
          281,
          50,
          21,
          21,
          55,
          650,
          80,
          470,
          35,
          21,
          281,
          281,
          80,
          50,
          100,
          90,
          55,
          373,
          480,
          50,
          41,
          21,
          340,
          60,
          140,
          360,
          400,
          40,
          160,
          222,
          553,
          395,
          53,
          126,
          43,
          242,
          122,
          224,
          21,
          800,
          90,
          21,
          21,
          30,
          221,
          1000,
          80,
          21,
          66,
          50,
          252,
          339,
          247,
          31,
          60,
          130,
          21,
          130,
          10,
          21,
          150,
          21,
          120,
          350,
          281,
          281,
          281,
          281,
          281,
          281,
          281,
          100,
          55,
          311,
          21,
          15,
          15,
          20,
          15,
          46,
          21,
          130,
          40,
          40,
          52,
          150,
          78,
          33,
          171,
          63,
          63,
          21,
          51,
          21,
          121,
          140,
          31,
          98,
          50,
          50,
          60,
          53,
          59,
          70,
          55,
          35,
          50,
          80,
          50,
          20,
          55,
          25,
          8,
          30,
          360,
          27,
          21,
          70,
          90,
          150,
          281,
          281,
          15,
          21,
          110,
          21,
          20,
          150,
          43,
          71,
          21,
          50,
          237,
          45,
          95,
          50,
          280,
          21,
          21,
          30,
          50,
          54,
          50,
          300,
          20,
          70,
          250,
          150,
          21,
          70,
          281,
          40,
          50,
          400,
          58,
          130,
          104,
          15,
          120,
          2,
          60,
          80,
          50,
          65,
          232,
          150,
          25,
          90,
          100,
          80,
          300,
          51,
          21,
          21,
          21,
          21,
          21,
          21,
          21,
          21,
          21,
          21,
          21,
          21,
          21,
          21,
          21,
          21,
          21,
          21,
          21,
          21,
          21,
          21,
          21,
          21,
          21,
          21,
          21,
          21,
          21,
          21,
          21,
          21,
          21,
          21,
          35,
          470,
          20,
          70,
          100,
          400,
          35,
          140,
          40,
          275,
          20,
          900,
          22,
          125,
          80,
          170,
          85,
          232,
          19,
          472,
          25,
          220,
          21,
          100,
          19,
          230,
          60,
          281,
          125,
          281,
          281,
          85,
          15,
          35,
          21,
          21,
          21,
          21,
          21,
          21,
          21,
          22,
          85,
          105,
          150,
          281,
          58,
          21,
          120,
          1150,
          21,
          70,
          200,
          420,
          40,
          65,
          80,
          21,
          21,
          21,
          21,
          21,
          21,
          21,
          21,
          21,
          120,
          120,
          15,
          40,
          2,
          85,
          110,
          105,
          60,
          25,
          100,
          150,
          25,
          100,
          15,
          200,
          21,
          21,
          120,
          100,
          600,
          100,
          150,
          45,
          281,
          200,
          30,
          80,
          80,
          21,
          22,
          22,
          530,
          80,
          21,
          22,
          80,
          35,
          280,
          22,
          60,
          120,
          450,
          89,
          5,
          30,
          700,
          45,
          80,
          70,
          120,
          90,
          19,
          450,
          20,
          21,
          100,
          19,
          21,
          70,
          500,
          102,
          281,
          81,
          80,
          21,
          21,
          100,
          21,
          21,
          40,
          21,
          21,
          21,
          21,
          80,
          281,
          20,
          21,
          90,
          350,
          500,
          19,
          90,
          21,
          21,
          21,
          10,
          21,
          21,
          21,
          50,
          70,
          105,
          280,
          360,
          21,
          220,
          280,
          500,
          300,
          35,
          20,
          30,
          21,
          21,
          21,
          120,
          21,
          100,
          50,
          80,
          350,
          21,
          21,
          150,
          85,
          200,
          120,
          60,
          400,
          25,
          21,
          281,
          200,
          21,
          22,
          32,
          21,
          70,
          40,
          55,
          21,
          21,
          21,
          21,
          490,
          260,
          21,
          281,
          21,
          22,
          30,
          60,
          21,
          21,
          12,
          19,
          80,
          200,
          90,
          85,
          120,
          80,
          281,
          35,
          19,
          220,
          21,
          40,
          21,
          21,
          600,
          120,
          80,
          50,
          21,
          70,
          85,
          281,
          281,
          80,
          21,
          21,
          35,
          15,
          70,
          450,
          450,
          250,
          600,
          21,
          21,
          21,
          19,
          470,
          470,
          360,
          19,
          19,
          21,
          21,
          60,
          750,
          350,
          200,
          21,
          281,
          20,
          65,
          19,
          21,
          21,
          21,
          21,
          21,
          21,
          21,
          21,
          21,
          21,
          21,
          21,
          21,
          21,
          21,
          25,
          21,
          63,
          21,
          21,
          21,
          21,
          21,
          45,
          350,
          40,
          21,
          21,
          80,
          65,
          21,
          21,
          70,
          110,
          21,
          21,
          260,
          130,
          21,
          25,
          80,
          10,
          21,
          21,
          21,
          30,
          25,
          210,
          50,
          26,
          360,
          60,
          125,
          500,
          80,
          21,
          500,
          250,
          25,
          25,
          120,
          350,
          21,
          21,
          21,
          21,
          350,
          105,
          35,
          21,
          90,
          220,
          145,
          50,
          45,
          45,
          40,
          21,
          21,
          15,
          21,
          25,
          92,
          30,
          281,
          60,
          60,
          60,
          60,
          60,
          60,
          60,
          60,
          60,
          60,
          60,
          400,
          21,
          21,
          21,
          58,
          200,
          50,
          80,
          15,
          20,
          35,
          21,
          20,
          100,
          20,
          21,
          281,
          21,
          45,
          45,
          210,
          21,
          21,
          21,
          100,
          21,
          35,
          15,
          25,
          24,
          21,
          21,
          21,
          21,
          21,
          21,
          21,
          21,
          21,
          21,
          21,
          21,
          21,
          21,
          21,
          21,
          21,
          21,
          21,
          65,
          120,
          125,
          125,
          19,
          21,
          40,
          70,
          21,
          45,
          50,
          150,
          300,
          45,
          19,
          100,
          21,
          281,
          425,
          45,
          120,
          240,
          265,
          19,
          20,
          35,
          55,
          21,
          185,
          50,
          80,
          21,
          21,
          21,
          19,
          21,
          21,
          285,
          21,
          21,
          385,
          45,
          80,
          350,
          45,
          20,
          19,
          19,
          440,
          21,
          40,
          21,
          480,
          260,
          21,
          75,
          40,
          80,
          21,
          45,
          19,
          90,
          21,
          55,
          350,
          21,
          240,
          60,
          70,
          27,
          92,
          21,
          90,
          110,
          21,
          95,
          21,
          21,
          100,
          21,
          200,
          55,
          21,
          50,
          100,
          21,
          21,
          20,
          21,
          21,
          260,
          60,
          24,
          22,
          55,
          80,
          595,
          585,
          220,
          21,
          21,
          21,
          80,
          250,
          75,
          92,
          85,
          200,
          60,
          80,
          45,
          21,
          52,
          20,
          55,
          55,
          240,
          490,
          21,
          22,
          95,
          21,
          75,
          120,
          21,
          21,
          21,
          21,
          21,
          21,
          21,
          21,
          21,
          21,
          21,
          21,
          21,
          21,
          21,
          21,
          21,
          21,
          21,
          21,
          21,
          21,
          21,
          21,
          21,
          21,
          21,
          21,
          21,
          21,
          105,
          21,
          28,
          21,
          50,
          35,
          250,
          21,
          50,
          21,
          55,
          55,
          21,
          45,
          100,
          360,
          40,
          50,
          21,
          21,
          50,
          92,
          92,
          92,
          92,
          65,
          92,
          92,
          92,
          58,
          92,
          21,
          21,
          92,
          92,
          58,
          65,
          92,
          42,
          92,
          58,
          58,
          92,
          46,
          281,
          150,
          58,
          30,
          180,
          48,
          76,
          55,
          92,
          21,
          15,
          92,
          92,
          21,
          92,
          58,
          92,
          92,
          39,
          80,
          29,
          29,
          92,
          51,
          102,
          50,
          92,
          102,
          102,
          92,
          102,
          102,
          21,
          102,
          102,
          235,
          65,
          102,
          102,
          102,
          102,
          102,
          65,
          102,
          58,
          92,
          102,
          102,
          92,
          102,
          102,
          102,
          102,
          58,
          100,
          281,
          281,
          92,
          92,
          102,
          92,
          102,
          102,
          160,
          92,
          102,
          92,
          102,
          92,
          92,
          102,
          102,
          102,
          92,
          102,
          92,
          48,
          55,
          102,
          102,
          281,
          58,
          102,
          102,
          102,
          21,
          120,
          235,
          200,
          320,
          235,
          22,
          92,
          25,
          92,
          92,
          102,
          92,
          92,
          92,
          102,
          102,
          102,
          281,
          102,
          92,
          102,
          102,
          102,
          102,
          102,
          102,
          92,
          21,
          92,
          92,
          102,
          102,
          102,
          102,
          102,
          92,
          92,
          92,
          92,
          102,
          92,
          48,
          92,
          92,
          235,
          102,
          102,
          102,
          21,
          102,
          102,
          102,
          102,
          102,
          235,
          92,
          60,
          102,
          350,
          92,
          102,
          92,
          102,
          92,
          58,
          48,
          102,
          281,
          235,
          92,
          48,
          92,
          281,
          58,
          102,
          102,
          281,
          281,
          281,
          281,
          281,
          281,
          281,
          600,
          281,
          281,
          281,
          281,
          250,
          281,
          281,
          281,
          281,
          281,
          281,
          281,
          102,
          235,
          92,
          281,
          350,
          102,
          235,
          30,
          281,
          281,
          281,
          281,
          235,
          102,
          281,
          102,
          281,
          281,
          92,
          92,
          281,
          281,
          281,
          102,
          92,
          92,
          102,
          92,
          102,
          92,
          92,
          92,
          92,
          92,
          58,
          102,
          102,
          180,
          281,
          281,
          21,
          21,
          21,
          21,
          21,
          21,
          21,
          21,
          21,
          21,
          21,
          21,
          21,
          21,
          21,
          21,
          65,
          55,
          130,
          40,
          21,
          30,
          21,
          21,
          100,
          92,
          281,
          21,
          21,
          70,
          650,
          35,
          21,
          58,
          21,
          321,
          21,
          500,
          5,
          21,
          700,
          30,
          15,
          21,
          21,
          19,
          440,
          17,
          21,
          21,
          700,
          21,
          21,
          1110,
          1140,
          21,
          21,
          21,
          21,
          19,
          250,
          140,
          19,
          22,
          19,
          35,
          15,
          1500,
          52,
          127,
          21,
          23,
          25,
          108,
          140,
          220,
          60,
          60,
          21,
          44,
          19,
          20,
          92,
          19,
          310,
          240,
          1250,
          60,
          360,
          80,
          92,
          92,
          21,
          92,
          48,
          2,
          21,
          21,
          21,
          21,
          300,
          80,
          110,
          70,
          105,
          10,
          30,
          180,
          20,
          13,
          500,
          250,
          300,
          500,
          80,
          21,
          21,
          21,
          21,
          30,
          30,
          21,
          21,
          21,
          21,
          750,
          21,
          15,
          21,
          20,
          20,
          245,
          21,
          200,
          80,
          21
         ],
         "yaxis": "y"
        }
       ],
       "layout": {
        "coloraxis": {
         "colorbar": {
          "title": {
           "text": "service_duration"
          }
         },
         "colorscale": [
          [
           0,
           "#0d0887"
          ],
          [
           0.1111111111111111,
           "#46039f"
          ],
          [
           0.2222222222222222,
           "#7201a8"
          ],
          [
           0.3333333333333333,
           "#9c179e"
          ],
          [
           0.4444444444444444,
           "#bd3786"
          ],
          [
           0.5555555555555556,
           "#d8576b"
          ],
          [
           0.6666666666666666,
           "#ed7953"
          ],
          [
           0.7777777777777778,
           "#fb9f3a"
          ],
          [
           0.8888888888888888,
           "#fdca26"
          ],
          [
           1,
           "#f0f921"
          ]
         ]
        },
        "legend": {
         "tracegroupgap": 0
        },
        "template": {
         "data": {
          "bar": [
           {
            "error_x": {
             "color": "#2a3f5f"
            },
            "error_y": {
             "color": "#2a3f5f"
            },
            "marker": {
             "line": {
              "color": "#E5ECF6",
              "width": 0.5
             },
             "pattern": {
              "fillmode": "overlay",
              "size": 10,
              "solidity": 0.2
             }
            },
            "type": "bar"
           }
          ],
          "barpolar": [
           {
            "marker": {
             "line": {
              "color": "#E5ECF6",
              "width": 0.5
             },
             "pattern": {
              "fillmode": "overlay",
              "size": 10,
              "solidity": 0.2
             }
            },
            "type": "barpolar"
           }
          ],
          "carpet": [
           {
            "aaxis": {
             "endlinecolor": "#2a3f5f",
             "gridcolor": "white",
             "linecolor": "white",
             "minorgridcolor": "white",
             "startlinecolor": "#2a3f5f"
            },
            "baxis": {
             "endlinecolor": "#2a3f5f",
             "gridcolor": "white",
             "linecolor": "white",
             "minorgridcolor": "white",
             "startlinecolor": "#2a3f5f"
            },
            "type": "carpet"
           }
          ],
          "choropleth": [
           {
            "colorbar": {
             "outlinewidth": 0,
             "ticks": ""
            },
            "type": "choropleth"
           }
          ],
          "contour": [
           {
            "colorbar": {
             "outlinewidth": 0,
             "ticks": ""
            },
            "colorscale": [
             [
              0,
              "#0d0887"
             ],
             [
              0.1111111111111111,
              "#46039f"
             ],
             [
              0.2222222222222222,
              "#7201a8"
             ],
             [
              0.3333333333333333,
              "#9c179e"
             ],
             [
              0.4444444444444444,
              "#bd3786"
             ],
             [
              0.5555555555555556,
              "#d8576b"
             ],
             [
              0.6666666666666666,
              "#ed7953"
             ],
             [
              0.7777777777777778,
              "#fb9f3a"
             ],
             [
              0.8888888888888888,
              "#fdca26"
             ],
             [
              1,
              "#f0f921"
             ]
            ],
            "type": "contour"
           }
          ],
          "contourcarpet": [
           {
            "colorbar": {
             "outlinewidth": 0,
             "ticks": ""
            },
            "type": "contourcarpet"
           }
          ],
          "heatmap": [
           {
            "colorbar": {
             "outlinewidth": 0,
             "ticks": ""
            },
            "colorscale": [
             [
              0,
              "#0d0887"
             ],
             [
              0.1111111111111111,
              "#46039f"
             ],
             [
              0.2222222222222222,
              "#7201a8"
             ],
             [
              0.3333333333333333,
              "#9c179e"
             ],
             [
              0.4444444444444444,
              "#bd3786"
             ],
             [
              0.5555555555555556,
              "#d8576b"
             ],
             [
              0.6666666666666666,
              "#ed7953"
             ],
             [
              0.7777777777777778,
              "#fb9f3a"
             ],
             [
              0.8888888888888888,
              "#fdca26"
             ],
             [
              1,
              "#f0f921"
             ]
            ],
            "type": "heatmap"
           }
          ],
          "heatmapgl": [
           {
            "colorbar": {
             "outlinewidth": 0,
             "ticks": ""
            },
            "colorscale": [
             [
              0,
              "#0d0887"
             ],
             [
              0.1111111111111111,
              "#46039f"
             ],
             [
              0.2222222222222222,
              "#7201a8"
             ],
             [
              0.3333333333333333,
              "#9c179e"
             ],
             [
              0.4444444444444444,
              "#bd3786"
             ],
             [
              0.5555555555555556,
              "#d8576b"
             ],
             [
              0.6666666666666666,
              "#ed7953"
             ],
             [
              0.7777777777777778,
              "#fb9f3a"
             ],
             [
              0.8888888888888888,
              "#fdca26"
             ],
             [
              1,
              "#f0f921"
             ]
            ],
            "type": "heatmapgl"
           }
          ],
          "histogram": [
           {
            "marker": {
             "pattern": {
              "fillmode": "overlay",
              "size": 10,
              "solidity": 0.2
             }
            },
            "type": "histogram"
           }
          ],
          "histogram2d": [
           {
            "colorbar": {
             "outlinewidth": 0,
             "ticks": ""
            },
            "colorscale": [
             [
              0,
              "#0d0887"
             ],
             [
              0.1111111111111111,
              "#46039f"
             ],
             [
              0.2222222222222222,
              "#7201a8"
             ],
             [
              0.3333333333333333,
              "#9c179e"
             ],
             [
              0.4444444444444444,
              "#bd3786"
             ],
             [
              0.5555555555555556,
              "#d8576b"
             ],
             [
              0.6666666666666666,
              "#ed7953"
             ],
             [
              0.7777777777777778,
              "#fb9f3a"
             ],
             [
              0.8888888888888888,
              "#fdca26"
             ],
             [
              1,
              "#f0f921"
             ]
            ],
            "type": "histogram2d"
           }
          ],
          "histogram2dcontour": [
           {
            "colorbar": {
             "outlinewidth": 0,
             "ticks": ""
            },
            "colorscale": [
             [
              0,
              "#0d0887"
             ],
             [
              0.1111111111111111,
              "#46039f"
             ],
             [
              0.2222222222222222,
              "#7201a8"
             ],
             [
              0.3333333333333333,
              "#9c179e"
             ],
             [
              0.4444444444444444,
              "#bd3786"
             ],
             [
              0.5555555555555556,
              "#d8576b"
             ],
             [
              0.6666666666666666,
              "#ed7953"
             ],
             [
              0.7777777777777778,
              "#fb9f3a"
             ],
             [
              0.8888888888888888,
              "#fdca26"
             ],
             [
              1,
              "#f0f921"
             ]
            ],
            "type": "histogram2dcontour"
           }
          ],
          "mesh3d": [
           {
            "colorbar": {
             "outlinewidth": 0,
             "ticks": ""
            },
            "type": "mesh3d"
           }
          ],
          "parcoords": [
           {
            "line": {
             "colorbar": {
              "outlinewidth": 0,
              "ticks": ""
             }
            },
            "type": "parcoords"
           }
          ],
          "pie": [
           {
            "automargin": true,
            "type": "pie"
           }
          ],
          "scatter": [
           {
            "fillpattern": {
             "fillmode": "overlay",
             "size": 10,
             "solidity": 0.2
            },
            "type": "scatter"
           }
          ],
          "scatter3d": [
           {
            "line": {
             "colorbar": {
              "outlinewidth": 0,
              "ticks": ""
             }
            },
            "marker": {
             "colorbar": {
              "outlinewidth": 0,
              "ticks": ""
             }
            },
            "type": "scatter3d"
           }
          ],
          "scattercarpet": [
           {
            "marker": {
             "colorbar": {
              "outlinewidth": 0,
              "ticks": ""
             }
            },
            "type": "scattercarpet"
           }
          ],
          "scattergeo": [
           {
            "marker": {
             "colorbar": {
              "outlinewidth": 0,
              "ticks": ""
             }
            },
            "type": "scattergeo"
           }
          ],
          "scattergl": [
           {
            "marker": {
             "colorbar": {
              "outlinewidth": 0,
              "ticks": ""
             }
            },
            "type": "scattergl"
           }
          ],
          "scattermapbox": [
           {
            "marker": {
             "colorbar": {
              "outlinewidth": 0,
              "ticks": ""
             }
            },
            "type": "scattermapbox"
           }
          ],
          "scatterpolar": [
           {
            "marker": {
             "colorbar": {
              "outlinewidth": 0,
              "ticks": ""
             }
            },
            "type": "scatterpolar"
           }
          ],
          "scatterpolargl": [
           {
            "marker": {
             "colorbar": {
              "outlinewidth": 0,
              "ticks": ""
             }
            },
            "type": "scatterpolargl"
           }
          ],
          "scatterternary": [
           {
            "marker": {
             "colorbar": {
              "outlinewidth": 0,
              "ticks": ""
             }
            },
            "type": "scatterternary"
           }
          ],
          "surface": [
           {
            "colorbar": {
             "outlinewidth": 0,
             "ticks": ""
            },
            "colorscale": [
             [
              0,
              "#0d0887"
             ],
             [
              0.1111111111111111,
              "#46039f"
             ],
             [
              0.2222222222222222,
              "#7201a8"
             ],
             [
              0.3333333333333333,
              "#9c179e"
             ],
             [
              0.4444444444444444,
              "#bd3786"
             ],
             [
              0.5555555555555556,
              "#d8576b"
             ],
             [
              0.6666666666666666,
              "#ed7953"
             ],
             [
              0.7777777777777778,
              "#fb9f3a"
             ],
             [
              0.8888888888888888,
              "#fdca26"
             ],
             [
              1,
              "#f0f921"
             ]
            ],
            "type": "surface"
           }
          ],
          "table": [
           {
            "cells": {
             "fill": {
              "color": "#EBF0F8"
             },
             "line": {
              "color": "white"
             }
            },
            "header": {
             "fill": {
              "color": "#C8D4E3"
             },
             "line": {
              "color": "white"
             }
            },
            "type": "table"
           }
          ]
         },
         "layout": {
          "annotationdefaults": {
           "arrowcolor": "#2a3f5f",
           "arrowhead": 0,
           "arrowwidth": 1
          },
          "autotypenumbers": "strict",
          "coloraxis": {
           "colorbar": {
            "outlinewidth": 0,
            "ticks": ""
           }
          },
          "colorscale": {
           "diverging": [
            [
             0,
             "#8e0152"
            ],
            [
             0.1,
             "#c51b7d"
            ],
            [
             0.2,
             "#de77ae"
            ],
            [
             0.3,
             "#f1b6da"
            ],
            [
             0.4,
             "#fde0ef"
            ],
            [
             0.5,
             "#f7f7f7"
            ],
            [
             0.6,
             "#e6f5d0"
            ],
            [
             0.7,
             "#b8e186"
            ],
            [
             0.8,
             "#7fbc41"
            ],
            [
             0.9,
             "#4d9221"
            ],
            [
             1,
             "#276419"
            ]
           ],
           "sequential": [
            [
             0,
             "#0d0887"
            ],
            [
             0.1111111111111111,
             "#46039f"
            ],
            [
             0.2222222222222222,
             "#7201a8"
            ],
            [
             0.3333333333333333,
             "#9c179e"
            ],
            [
             0.4444444444444444,
             "#bd3786"
            ],
            [
             0.5555555555555556,
             "#d8576b"
            ],
            [
             0.6666666666666666,
             "#ed7953"
            ],
            [
             0.7777777777777778,
             "#fb9f3a"
            ],
            [
             0.8888888888888888,
             "#fdca26"
            ],
            [
             1,
             "#f0f921"
            ]
           ],
           "sequentialminus": [
            [
             0,
             "#0d0887"
            ],
            [
             0.1111111111111111,
             "#46039f"
            ],
            [
             0.2222222222222222,
             "#7201a8"
            ],
            [
             0.3333333333333333,
             "#9c179e"
            ],
            [
             0.4444444444444444,
             "#bd3786"
            ],
            [
             0.5555555555555556,
             "#d8576b"
            ],
            [
             0.6666666666666666,
             "#ed7953"
            ],
            [
             0.7777777777777778,
             "#fb9f3a"
            ],
            [
             0.8888888888888888,
             "#fdca26"
            ],
            [
             1,
             "#f0f921"
            ]
           ]
          },
          "colorway": [
           "#636efa",
           "#EF553B",
           "#00cc96",
           "#ab63fa",
           "#FFA15A",
           "#19d3f3",
           "#FF6692",
           "#B6E880",
           "#FF97FF",
           "#FECB52"
          ],
          "font": {
           "color": "#2a3f5f"
          },
          "geo": {
           "bgcolor": "white",
           "lakecolor": "white",
           "landcolor": "#E5ECF6",
           "showlakes": true,
           "showland": true,
           "subunitcolor": "white"
          },
          "hoverlabel": {
           "align": "left"
          },
          "hovermode": "closest",
          "mapbox": {
           "style": "light"
          },
          "paper_bgcolor": "white",
          "plot_bgcolor": "#E5ECF6",
          "polar": {
           "angularaxis": {
            "gridcolor": "white",
            "linecolor": "white",
            "ticks": ""
           },
           "bgcolor": "#E5ECF6",
           "radialaxis": {
            "gridcolor": "white",
            "linecolor": "white",
            "ticks": ""
           }
          },
          "scene": {
           "xaxis": {
            "backgroundcolor": "#E5ECF6",
            "gridcolor": "white",
            "gridwidth": 2,
            "linecolor": "white",
            "showbackground": true,
            "ticks": "",
            "zerolinecolor": "white"
           },
           "yaxis": {
            "backgroundcolor": "#E5ECF6",
            "gridcolor": "white",
            "gridwidth": 2,
            "linecolor": "white",
            "showbackground": true,
            "ticks": "",
            "zerolinecolor": "white"
           },
           "zaxis": {
            "backgroundcolor": "#E5ECF6",
            "gridcolor": "white",
            "gridwidth": 2,
            "linecolor": "white",
            "showbackground": true,
            "ticks": "",
            "zerolinecolor": "white"
           }
          },
          "shapedefaults": {
           "line": {
            "color": "#2a3f5f"
           }
          },
          "ternary": {
           "aaxis": {
            "gridcolor": "white",
            "linecolor": "white",
            "ticks": ""
           },
           "baxis": {
            "gridcolor": "white",
            "linecolor": "white",
            "ticks": ""
           },
           "bgcolor": "#E5ECF6",
           "caxis": {
            "gridcolor": "white",
            "linecolor": "white",
            "ticks": ""
           }
          },
          "title": {
           "x": 0.05
          },
          "xaxis": {
           "automargin": true,
           "gridcolor": "white",
           "linecolor": "white",
           "ticks": "",
           "title": {
            "standoff": 15
           },
           "zerolinecolor": "white",
           "zerolinewidth": 2
          },
          "yaxis": {
           "automargin": true,
           "gridcolor": "white",
           "linecolor": "white",
           "ticks": "",
           "title": {
            "standoff": 15
           },
           "zerolinecolor": "white",
           "zerolinewidth": 2
          }
         }
        },
        "title": {
         "text": "Cost vs. Service Duration",
         "x": 0.5
        },
        "xaxis": {
         "anchor": "y",
         "domain": [
          0,
          1
         ],
         "title": {
          "text": "service_duration"
         }
        },
        "yaxis": {
         "anchor": "x",
         "domain": [
          0,
          1
         ],
         "title": {
          "text": "cost"
         }
        }
       }
      },
      "text/html": [
       "<div>                            <div id=\"8691283a-8520-46c4-a322-020254e2dbbe\" class=\"plotly-graph-div\" style=\"height:525px; width:100%;\"></div>            <script type=\"text/javascript\">                require([\"plotly\"], function(Plotly) {                    window.PLOTLYENV=window.PLOTLYENV || {};                                    if (document.getElementById(\"8691283a-8520-46c4-a322-020254e2dbbe\")) {                    Plotly.newPlot(                        \"8691283a-8520-46c4-a322-020254e2dbbe\",                        [{\"hovertemplate\":\"service_duration=%{marker.color}\\u003cbr\\u003ecost=%{y}\\u003cextra\\u003e\\u003c\\u002fextra\\u003e\",\"legendgroup\":\"\",\"marker\":{\"color\":[5,5,11,6,6,8,1,1,1,1,1,2,4,1,10,6,1,1,1,1,1,1,1,1,1,1,1,1,1,1,1,1,1,1,1,1,1,1,1,1,1,1,1,1,1,1,1,1,1,1,1,1,1,1,1,1,1,13,1,1,1,1,2,1,1,1,1,1,1,1,1,3,1,17,1,1,2,1,1,1,4,1,1,1,1,1,1,1,1,1,1,1,1,1,1,1,1,1,1,1,1,1,1,1,1,1,1,1,1,1,1,1,1,1,1,1,1,1,1,1,6,1,9,1,1,1,1,1,1,1,1,1,1,1,1,1,1,4,1,1,1,12,1,1,1,1,1,4,3,1,30,1,1,1,4,11,1,1,1,1,1,1,1,14,8,1,1,70,1,11,5,18,2,5,1,1,1,1,1,1,1,1,1,1,1,4,1,3,1,1,1,1,1,1,1,1,1,1,4,1,5,1,57,1,2,2,2,1,1,3,1,2,1,2,1,1,1,1,1,1,1,1,1,1,1,6,1,4,1,1,1,4,1,3,1,1,1,3,3,7,1,1,2,1,1,1,1,5,1,1,8,1,1,1,1,1,1,1,1,1,1,1,1,1,1,1,1,1,1,4,5,1,1,1,1,1,1,1,1,1,1,32,3,1,1,1,1,1,1,1,1,1,3,1,1,1,1,1,1,1,1,1,1,1,1,1,1,1,1,1,1,1,1,1,1,1,1,1,1,1,1,1,11,1,1,9,1,1,1,1,1,1,1,1,1,3,7,3,2,1,1,1,1,1,1,1,1,1,1,1,1,1,1,1,1,1,1,1,1,1,1,1,1,1,10,1,1,1,1,1,2,3,1,1,2,2,1,1,1,2,7,1,1,1,1,1,1,1,14,3,7,11,6,7,5,5,8,1,1,1,1,1,1,1,1,1,4,1,1,3,4,1,1,4,1,1,1,1,1,2,1,1,1,2,1,1,1,1,2,1,1,1,1,2,1,1,1,1,1,1,1,1,2,2,7,6,7,1,1,2,1,1,8,1,2,1,3,4,1,1,1,7,1,1,1,2,1,1,2,1,2,3,2,1,1,8,1,1,1,1,1,1,1,1,1,2,1,1,1,1,6,1,1,1,5,11,1,1,1,1,1,1,1,1,1,1,1,1,1,1,1,1,1,1,1,1,1,1,1,1,1,1,1,1,1,1,1,1,1,1,1,3,11,1,6,6,1,1,1,1,1,1,14,2,1,1,6,1,1,1,1,1,1,1,1,1,1,1,6,3,1,4,2,1,1,1,2,1,1,1,1,1,1,2,2,5,5,1,1,5,1,1,1,5,1,1,1,2,1,1,1,1,1,1,1,1,1,1,1,1,1,1,1,1,1,1,1,1,4,2,7,1,1,1,1,6,4,7,2,24,1,1,7,3,3,1,1,1,1,2,1,1,1,1,1,6,1,7,4,1,1,1,1,11,1,1,1,7,4,1,1,1,1,1,1,1,1,1,1,7,1,1,1,1,1,1,1,1,1,1,1,1,1,1,1,1,5,6,1,1,1,1,1,1,1,1,1,1,1,1,1,1,1,1,1,1,1,1,1,1,1,1,1,1,6,1,6,1,1,1,1,1,1,1,1,1,1,8,1,1,9,8,1,1,1,1,1,1,1,1,1,1,1,1,1,1,1,1,1,1,5,1,1,1,1,1,1,4,1,1,3,4,1,1,4,1,1,1,1,1,1,1,1,1,1,1,5,6,5,1,1,1,1,1,1,1,1,1,1,1,1,1,1,1,1,1,1,1,1,1,12,7,7,1,7,1,1,1,1,1,1,1,1,1,1,1,1,1,1,1,1,1,1,1,1,1,1,1,1,1,1,1,1,1,1,1,1,1,1,1,1,1,1,1,1,1,1,1,1,1,1,1,1,1,1,1,1,1,1,1,1,1,1,1,1,8,1,1,1,6,1,1,1,1,9,1,1,1,1,1,3,1,1,1,1,1,1,1,1,1,1,1,5,1,1,1,1,1,1,1,1,1,1,4,6,1,1,1,1,4,1,1,1,1,1,1,1,1,1,1,1,1,1,1,1,1,1,1,1,1,1,1,1,1,1,1,7,1,1,1,1,1,1,1,1,1,1,1,1,1,1,1,1,1,1,1,1,1,1,1,1,1,1,1,1,1,1,1,1,1,4,1,1,1,1,1,1,1,1,1,1,1,1,1,1,1,1,1,1,1,1,1,1,1,1,5,1,1,1,1,1,1,1,1,1,1,1,1,1,1,1,1,1,1,1,1,1,1,1,1,1,1,1,1,1,1,1,1,1,1,1,5,1,1,1,1,1,1,1,1,1,1,1,1,1,1,1,6,1,1,1,1,1,1,1,1,1,1,1,5,1,2,1,1,1,1,1,1,1,1,1,1,1,1,1,1,1,1,1,1,1,1,1,1,1,1,1,1,1,1,1,1,1,1,1,1,1,1,1,1,1,1,1,1,1,1,1,1,1,1,1,1,5,5,1,1,1,1,1,1,1,1,1,1,1,1,1,1,1,1,1,1,1,1,1,1,1,1,1,1,1,1,1,1,1,1,1,1,1,1,1,5,1,1,1,1,1,1,1,1,1,1,1,1,1,1,1,1,1,1,1,1,1,1,1,1,1,1,1,1,1,1,1,1,1,1,1,1,1,1,1,1,1,1,1,1,1,1,1,1,1,1,1,1,1,1,4,4,1,1,1,1,1,1,1,1,1,1,1,1,1,1,1,1,1,1,1,1,1,1,1,5,1,1,1,1,1,1,1,1,1,1,1,1,1,1,1,1,1,1,1,1,1,1,6,1,1,1,1,1,1,1,1,1,1,1,1,1,1,1,1,1,1,1,1,1,1,1,1,1,1,1,1,1,1,1,1,1,1,1,1,1,1,1,1,5,1,1,1,1,1,1,1,1,5,1,1,1,1,1,1,1,1,4,3,5,5,6,4,4,4,3,4,5,4,4,5,4,5,4,4,5,3,1,1,1,1,1,1,1,5,7,7,8,6,1,1,5,1,5,4,1,1,5,5,4,1,1,1,1,1,1,1,1,1,1,1,1,1,1,5,6,7,1,1,1,1,1,1,1,1,1,1,1,1,1,1,1,1,1,1,1,1,1,1,1,1,1,1,1,1,1,17,5,4,1,1,1,1,1,1,1,1,6,1,1,1,1,1,1,1,1,1,8,1,1,11,11,1,1,1,1,1,6,6,1,1,1,1,1,7,1,1,1,1,1,1,1,1,1,8,1,1,1,1,1,1,9,5,4,2,11,7,1,1,1,1,1,1,1,1,1,1,8,8,8,7,6,1,1,1,1,1,9,6,7,7,8,1,1,1,1,1,1,1,1,1,1,9,1,1,1,1,1,1,1,8,4,1],\"coloraxis\":\"coloraxis\",\"symbol\":\"circle\"},\"mode\":\"markers\",\"name\":\"\",\"showlegend\":false,\"x\":[5,5,11,6,6,8,1,1,1,1,1,2,4,1,10,6,1,1,1,1,1,1,1,1,1,1,1,1,1,1,1,1,1,1,1,1,1,1,1,1,1,1,1,1,1,1,1,1,1,1,1,1,1,1,1,1,1,13,1,1,1,1,2,1,1,1,1,1,1,1,1,3,1,17,1,1,2,1,1,1,4,1,1,1,1,1,1,1,1,1,1,1,1,1,1,1,1,1,1,1,1,1,1,1,1,1,1,1,1,1,1,1,1,1,1,1,1,1,1,1,6,1,9,1,1,1,1,1,1,1,1,1,1,1,1,1,1,4,1,1,1,12,1,1,1,1,1,4,3,1,30,1,1,1,4,11,1,1,1,1,1,1,1,14,8,1,1,70,1,11,5,18,2,5,1,1,1,1,1,1,1,1,1,1,1,4,1,3,1,1,1,1,1,1,1,1,1,1,4,1,5,1,57,1,2,2,2,1,1,3,1,2,1,2,1,1,1,1,1,1,1,1,1,1,1,6,1,4,1,1,1,4,1,3,1,1,1,3,3,7,1,1,2,1,1,1,1,5,1,1,8,1,1,1,1,1,1,1,1,1,1,1,1,1,1,1,1,1,1,4,5,1,1,1,1,1,1,1,1,1,1,32,3,1,1,1,1,1,1,1,1,1,3,1,1,1,1,1,1,1,1,1,1,1,1,1,1,1,1,1,1,1,1,1,1,1,1,1,1,1,1,1,11,1,1,9,1,1,1,1,1,1,1,1,1,3,7,3,2,1,1,1,1,1,1,1,1,1,1,1,1,1,1,1,1,1,1,1,1,1,1,1,1,1,10,1,1,1,1,1,2,3,1,1,2,2,1,1,1,2,7,1,1,1,1,1,1,1,14,3,7,11,6,7,5,5,8,1,1,1,1,1,1,1,1,1,4,1,1,3,4,1,1,4,1,1,1,1,1,2,1,1,1,2,1,1,1,1,2,1,1,1,1,2,1,1,1,1,1,1,1,1,2,2,7,6,7,1,1,2,1,1,8,1,2,1,3,4,1,1,1,7,1,1,1,2,1,1,2,1,2,3,2,1,1,8,1,1,1,1,1,1,1,1,1,2,1,1,1,1,6,1,1,1,5,11,1,1,1,1,1,1,1,1,1,1,1,1,1,1,1,1,1,1,1,1,1,1,1,1,1,1,1,1,1,1,1,1,1,1,1,3,11,1,6,6,1,1,1,1,1,1,14,2,1,1,6,1,1,1,1,1,1,1,1,1,1,1,6,3,1,4,2,1,1,1,2,1,1,1,1,1,1,2,2,5,5,1,1,5,1,1,1,5,1,1,1,2,1,1,1,1,1,1,1,1,1,1,1,1,1,1,1,1,1,1,1,1,4,2,7,1,1,1,1,6,4,7,2,24,1,1,7,3,3,1,1,1,1,2,1,1,1,1,1,6,1,7,4,1,1,1,1,11,1,1,1,7,4,1,1,1,1,1,1,1,1,1,1,7,1,1,1,1,1,1,1,1,1,1,1,1,1,1,1,1,5,6,1,1,1,1,1,1,1,1,1,1,1,1,1,1,1,1,1,1,1,1,1,1,1,1,1,1,6,1,6,1,1,1,1,1,1,1,1,1,1,8,1,1,9,8,1,1,1,1,1,1,1,1,1,1,1,1,1,1,1,1,1,1,5,1,1,1,1,1,1,4,1,1,3,4,1,1,4,1,1,1,1,1,1,1,1,1,1,1,5,6,5,1,1,1,1,1,1,1,1,1,1,1,1,1,1,1,1,1,1,1,1,1,12,7,7,1,7,1,1,1,1,1,1,1,1,1,1,1,1,1,1,1,1,1,1,1,1,1,1,1,1,1,1,1,1,1,1,1,1,1,1,1,1,1,1,1,1,1,1,1,1,1,1,1,1,1,1,1,1,1,1,1,1,1,1,1,1,8,1,1,1,6,1,1,1,1,9,1,1,1,1,1,3,1,1,1,1,1,1,1,1,1,1,1,5,1,1,1,1,1,1,1,1,1,1,4,6,1,1,1,1,4,1,1,1,1,1,1,1,1,1,1,1,1,1,1,1,1,1,1,1,1,1,1,1,1,1,1,7,1,1,1,1,1,1,1,1,1,1,1,1,1,1,1,1,1,1,1,1,1,1,1,1,1,1,1,1,1,1,1,1,1,4,1,1,1,1,1,1,1,1,1,1,1,1,1,1,1,1,1,1,1,1,1,1,1,1,5,1,1,1,1,1,1,1,1,1,1,1,1,1,1,1,1,1,1,1,1,1,1,1,1,1,1,1,1,1,1,1,1,1,1,1,5,1,1,1,1,1,1,1,1,1,1,1,1,1,1,1,6,1,1,1,1,1,1,1,1,1,1,1,5,1,2,1,1,1,1,1,1,1,1,1,1,1,1,1,1,1,1,1,1,1,1,1,1,1,1,1,1,1,1,1,1,1,1,1,1,1,1,1,1,1,1,1,1,1,1,1,1,1,1,1,1,5,5,1,1,1,1,1,1,1,1,1,1,1,1,1,1,1,1,1,1,1,1,1,1,1,1,1,1,1,1,1,1,1,1,1,1,1,1,1,5,1,1,1,1,1,1,1,1,1,1,1,1,1,1,1,1,1,1,1,1,1,1,1,1,1,1,1,1,1,1,1,1,1,1,1,1,1,1,1,1,1,1,1,1,1,1,1,1,1,1,1,1,1,1,4,4,1,1,1,1,1,1,1,1,1,1,1,1,1,1,1,1,1,1,1,1,1,1,1,5,1,1,1,1,1,1,1,1,1,1,1,1,1,1,1,1,1,1,1,1,1,1,6,1,1,1,1,1,1,1,1,1,1,1,1,1,1,1,1,1,1,1,1,1,1,1,1,1,1,1,1,1,1,1,1,1,1,1,1,1,1,1,1,5,1,1,1,1,1,1,1,1,5,1,1,1,1,1,1,1,1,4,3,5,5,6,4,4,4,3,4,5,4,4,5,4,5,4,4,5,3,1,1,1,1,1,1,1,5,7,7,8,6,1,1,5,1,5,4,1,1,5,5,4,1,1,1,1,1,1,1,1,1,1,1,1,1,1,5,6,7,1,1,1,1,1,1,1,1,1,1,1,1,1,1,1,1,1,1,1,1,1,1,1,1,1,1,1,1,1,17,5,4,1,1,1,1,1,1,1,1,6,1,1,1,1,1,1,1,1,1,8,1,1,11,11,1,1,1,1,1,6,6,1,1,1,1,1,7,1,1,1,1,1,1,1,1,1,8,1,1,1,1,1,1,9,5,4,2,11,7,1,1,1,1,1,1,1,1,1,1,8,8,8,7,6,1,1,1,1,1,9,6,7,7,8,1,1,1,1,1,1,1,1,1,1,9,1,1,1,1,1,1,1,8,4,1],\"xaxis\":\"x\",\"y\":[150,281,92,250,253,650,320,21,21,21,21,76,281,58,40,110,21,20,100,14,14,25,60,40,23,20,16,21,21,21,21,21,21,21,21,21,21,21,21,21,21,21,21,21,21,21,21,21,21,21,21,21,21,21,21,27,5,200,90,92,21,25,15,240,20,36,90,21,23,16,20,525,42,538,274,650,58,27,22,41,92,90,21,21,21,21,21,21,21,21,21,21,21,21,21,21,21,21,21,21,21,21,40,40,15,21,50,20,50,400,21,45,13,30,50,21,21,21,21,102,281,116,650,50,40,21,21,77,21,104,30,21,20,15,105,50,30,281,55,163,99,200,25,21,21,1000,21,170,92,235,2500,21,120,21,70,281,4,440,165,40,21,85,155,21,92,21,21,2100,109,350,281,281,20,350,21,21,21,21,21,21,21,21,21,41,21,150,530,150,109,20,30,15,21,22,21,20,525,45,150,21,281,19,550,45,21,270,514,110,92,220,35,25,22,15,21,21,24,21,21,17,17,21,21,25,35,281,120,281,50,50,36,120,150,15,15,50,13,250,120,250,63,63,35,72,55,21,21,421,650,425,281,21,18,21,21,21,25,25,21,21,25,21,21,60,70,70,22,100,40,281,281,131,105,105,105,326,21,35,28,28,49,504,281,35,22,35,55,25,21,21,25,30,120,70,20,20,20,20,20,20,20,20,21,21,21,21,21,21,21,21,21,21,21,21,21,21,21,21,21,29,550,55,281,180,35,281,50,21,21,55,650,80,470,35,21,281,281,80,50,100,90,55,373,480,50,41,21,340,60,140,360,400,40,160,222,553,395,53,126,43,242,122,224,21,800,90,21,21,30,221,1000,80,21,66,50,252,339,247,31,60,130,21,130,10,21,150,21,120,350,281,281,281,281,281,281,281,100,55,311,21,15,15,20,15,46,21,130,40,40,52,150,78,33,171,63,63,21,51,21,121,140,31,98,50,50,60,53,59,70,55,35,50,80,50,20,55,25,8,30,360,27,21,70,90,150,281,281,15,21,110,21,20,150,43,71,21,50,237,45,95,50,280,21,21,30,50,54,50,300,20,70,250,150,21,70,281,40,50,400,58,130,104,15,120,2,60,80,50,65,232,150,25,90,100,80,300,51,21,21,21,21,21,21,21,21,21,21,21,21,21,21,21,21,21,21,21,21,21,21,21,21,21,21,21,21,21,21,21,21,21,21,35,470,20,70,100,400,35,140,40,275,20,900,22,125,80,170,85,232,19,472,25,220,21,100,19,230,60,281,125,281,281,85,15,35,21,21,21,21,21,21,21,22,85,105,150,281,58,21,120,1150,21,70,200,420,40,65,80,21,21,21,21,21,21,21,21,21,120,120,15,40,2,85,110,105,60,25,100,150,25,100,15,200,21,21,120,100,600,100,150,45,281,200,30,80,80,21,22,22,530,80,21,22,80,35,280,22,60,120,450,89,5,30,700,45,80,70,120,90,19,450,20,21,100,19,21,70,500,102,281,81,80,21,21,100,21,21,40,21,21,21,21,80,281,20,21,90,350,500,19,90,21,21,21,10,21,21,21,50,70,105,280,360,21,220,280,500,300,35,20,30,21,21,21,120,21,100,50,80,350,21,21,150,85,200,120,60,400,25,21,281,200,21,22,32,21,70,40,55,21,21,21,21,490,260,21,281,21,22,30,60,21,21,12,19,80,200,90,85,120,80,281,35,19,220,21,40,21,21,600,120,80,50,21,70,85,281,281,80,21,21,35,15,70,450,450,250,600,21,21,21,19,470,470,360,19,19,21,21,60,750,350,200,21,281,20,65,19,21,21,21,21,21,21,21,21,21,21,21,21,21,21,21,25,21,63,21,21,21,21,21,45,350,40,21,21,80,65,21,21,70,110,21,21,260,130,21,25,80,10,21,21,21,30,25,210,50,26,360,60,125,500,80,21,500,250,25,25,120,350,21,21,21,21,350,105,35,21,90,220,145,50,45,45,40,21,21,15,21,25,92,30,281,60,60,60,60,60,60,60,60,60,60,60,400,21,21,21,58,200,50,80,15,20,35,21,20,100,20,21,281,21,45,45,210,21,21,21,100,21,35,15,25,24,21,21,21,21,21,21,21,21,21,21,21,21,21,21,21,21,21,21,21,65,120,125,125,19,21,40,70,21,45,50,150,300,45,19,100,21,281,425,45,120,240,265,19,20,35,55,21,185,50,80,21,21,21,19,21,21,285,21,21,385,45,80,350,45,20,19,19,440,21,40,21,480,260,21,75,40,80,21,45,19,90,21,55,350,21,240,60,70,27,92,21,90,110,21,95,21,21,100,21,200,55,21,50,100,21,21,20,21,21,260,60,24,22,55,80,595,585,220,21,21,21,80,250,75,92,85,200,60,80,45,21,52,20,55,55,240,490,21,22,95,21,75,120,21,21,21,21,21,21,21,21,21,21,21,21,21,21,21,21,21,21,21,21,21,21,21,21,21,21,21,21,21,21,105,21,28,21,50,35,250,21,50,21,55,55,21,45,100,360,40,50,21,21,50,92,92,92,92,65,92,92,92,58,92,21,21,92,92,58,65,92,42,92,58,58,92,46,281,150,58,30,180,48,76,55,92,21,15,92,92,21,92,58,92,92,39,80,29,29,92,51,102,50,92,102,102,92,102,102,21,102,102,235,65,102,102,102,102,102,65,102,58,92,102,102,92,102,102,102,102,58,100,281,281,92,92,102,92,102,102,160,92,102,92,102,92,92,102,102,102,92,102,92,48,55,102,102,281,58,102,102,102,21,120,235,200,320,235,22,92,25,92,92,102,92,92,92,102,102,102,281,102,92,102,102,102,102,102,102,92,21,92,92,102,102,102,102,102,92,92,92,92,102,92,48,92,92,235,102,102,102,21,102,102,102,102,102,235,92,60,102,350,92,102,92,102,92,58,48,102,281,235,92,48,92,281,58,102,102,281,281,281,281,281,281,281,600,281,281,281,281,250,281,281,281,281,281,281,281,102,235,92,281,350,102,235,30,281,281,281,281,235,102,281,102,281,281,92,92,281,281,281,102,92,92,102,92,102,92,92,92,92,92,58,102,102,180,281,281,21,21,21,21,21,21,21,21,21,21,21,21,21,21,21,21,65,55,130,40,21,30,21,21,100,92,281,21,21,70,650,35,21,58,21,321,21,500,5,21,700,30,15,21,21,19,440,17,21,21,700,21,21,1110,1140,21,21,21,21,19,250,140,19,22,19,35,15,1500,52,127,21,23,25,108,140,220,60,60,21,44,19,20,92,19,310,240,1250,60,360,80,92,92,21,92,48,2,21,21,21,21,300,80,110,70,105,10,30,180,20,13,500,250,300,500,80,21,21,21,21,30,30,21,21,21,21,750,21,15,21,20,20,245,21,200,80,21],\"yaxis\":\"y\",\"type\":\"scattergl\"}],                        {\"template\":{\"data\":{\"histogram2dcontour\":[{\"type\":\"histogram2dcontour\",\"colorbar\":{\"outlinewidth\":0,\"ticks\":\"\"},\"colorscale\":[[0.0,\"#0d0887\"],[0.1111111111111111,\"#46039f\"],[0.2222222222222222,\"#7201a8\"],[0.3333333333333333,\"#9c179e\"],[0.4444444444444444,\"#bd3786\"],[0.5555555555555556,\"#d8576b\"],[0.6666666666666666,\"#ed7953\"],[0.7777777777777778,\"#fb9f3a\"],[0.8888888888888888,\"#fdca26\"],[1.0,\"#f0f921\"]]}],\"choropleth\":[{\"type\":\"choropleth\",\"colorbar\":{\"outlinewidth\":0,\"ticks\":\"\"}}],\"histogram2d\":[{\"type\":\"histogram2d\",\"colorbar\":{\"outlinewidth\":0,\"ticks\":\"\"},\"colorscale\":[[0.0,\"#0d0887\"],[0.1111111111111111,\"#46039f\"],[0.2222222222222222,\"#7201a8\"],[0.3333333333333333,\"#9c179e\"],[0.4444444444444444,\"#bd3786\"],[0.5555555555555556,\"#d8576b\"],[0.6666666666666666,\"#ed7953\"],[0.7777777777777778,\"#fb9f3a\"],[0.8888888888888888,\"#fdca26\"],[1.0,\"#f0f921\"]]}],\"heatmap\":[{\"type\":\"heatmap\",\"colorbar\":{\"outlinewidth\":0,\"ticks\":\"\"},\"colorscale\":[[0.0,\"#0d0887\"],[0.1111111111111111,\"#46039f\"],[0.2222222222222222,\"#7201a8\"],[0.3333333333333333,\"#9c179e\"],[0.4444444444444444,\"#bd3786\"],[0.5555555555555556,\"#d8576b\"],[0.6666666666666666,\"#ed7953\"],[0.7777777777777778,\"#fb9f3a\"],[0.8888888888888888,\"#fdca26\"],[1.0,\"#f0f921\"]]}],\"heatmapgl\":[{\"type\":\"heatmapgl\",\"colorbar\":{\"outlinewidth\":0,\"ticks\":\"\"},\"colorscale\":[[0.0,\"#0d0887\"],[0.1111111111111111,\"#46039f\"],[0.2222222222222222,\"#7201a8\"],[0.3333333333333333,\"#9c179e\"],[0.4444444444444444,\"#bd3786\"],[0.5555555555555556,\"#d8576b\"],[0.6666666666666666,\"#ed7953\"],[0.7777777777777778,\"#fb9f3a\"],[0.8888888888888888,\"#fdca26\"],[1.0,\"#f0f921\"]]}],\"contourcarpet\":[{\"type\":\"contourcarpet\",\"colorbar\":{\"outlinewidth\":0,\"ticks\":\"\"}}],\"contour\":[{\"type\":\"contour\",\"colorbar\":{\"outlinewidth\":0,\"ticks\":\"\"},\"colorscale\":[[0.0,\"#0d0887\"],[0.1111111111111111,\"#46039f\"],[0.2222222222222222,\"#7201a8\"],[0.3333333333333333,\"#9c179e\"],[0.4444444444444444,\"#bd3786\"],[0.5555555555555556,\"#d8576b\"],[0.6666666666666666,\"#ed7953\"],[0.7777777777777778,\"#fb9f3a\"],[0.8888888888888888,\"#fdca26\"],[1.0,\"#f0f921\"]]}],\"surface\":[{\"type\":\"surface\",\"colorbar\":{\"outlinewidth\":0,\"ticks\":\"\"},\"colorscale\":[[0.0,\"#0d0887\"],[0.1111111111111111,\"#46039f\"],[0.2222222222222222,\"#7201a8\"],[0.3333333333333333,\"#9c179e\"],[0.4444444444444444,\"#bd3786\"],[0.5555555555555556,\"#d8576b\"],[0.6666666666666666,\"#ed7953\"],[0.7777777777777778,\"#fb9f3a\"],[0.8888888888888888,\"#fdca26\"],[1.0,\"#f0f921\"]]}],\"mesh3d\":[{\"type\":\"mesh3d\",\"colorbar\":{\"outlinewidth\":0,\"ticks\":\"\"}}],\"scatter\":[{\"fillpattern\":{\"fillmode\":\"overlay\",\"size\":10,\"solidity\":0.2},\"type\":\"scatter\"}],\"parcoords\":[{\"type\":\"parcoords\",\"line\":{\"colorbar\":{\"outlinewidth\":0,\"ticks\":\"\"}}}],\"scatterpolargl\":[{\"type\":\"scatterpolargl\",\"marker\":{\"colorbar\":{\"outlinewidth\":0,\"ticks\":\"\"}}}],\"bar\":[{\"error_x\":{\"color\":\"#2a3f5f\"},\"error_y\":{\"color\":\"#2a3f5f\"},\"marker\":{\"line\":{\"color\":\"#E5ECF6\",\"width\":0.5},\"pattern\":{\"fillmode\":\"overlay\",\"size\":10,\"solidity\":0.2}},\"type\":\"bar\"}],\"scattergeo\":[{\"type\":\"scattergeo\",\"marker\":{\"colorbar\":{\"outlinewidth\":0,\"ticks\":\"\"}}}],\"scatterpolar\":[{\"type\":\"scatterpolar\",\"marker\":{\"colorbar\":{\"outlinewidth\":0,\"ticks\":\"\"}}}],\"histogram\":[{\"marker\":{\"pattern\":{\"fillmode\":\"overlay\",\"size\":10,\"solidity\":0.2}},\"type\":\"histogram\"}],\"scattergl\":[{\"type\":\"scattergl\",\"marker\":{\"colorbar\":{\"outlinewidth\":0,\"ticks\":\"\"}}}],\"scatter3d\":[{\"type\":\"scatter3d\",\"line\":{\"colorbar\":{\"outlinewidth\":0,\"ticks\":\"\"}},\"marker\":{\"colorbar\":{\"outlinewidth\":0,\"ticks\":\"\"}}}],\"scattermapbox\":[{\"type\":\"scattermapbox\",\"marker\":{\"colorbar\":{\"outlinewidth\":0,\"ticks\":\"\"}}}],\"scatterternary\":[{\"type\":\"scatterternary\",\"marker\":{\"colorbar\":{\"outlinewidth\":0,\"ticks\":\"\"}}}],\"scattercarpet\":[{\"type\":\"scattercarpet\",\"marker\":{\"colorbar\":{\"outlinewidth\":0,\"ticks\":\"\"}}}],\"carpet\":[{\"aaxis\":{\"endlinecolor\":\"#2a3f5f\",\"gridcolor\":\"white\",\"linecolor\":\"white\",\"minorgridcolor\":\"white\",\"startlinecolor\":\"#2a3f5f\"},\"baxis\":{\"endlinecolor\":\"#2a3f5f\",\"gridcolor\":\"white\",\"linecolor\":\"white\",\"minorgridcolor\":\"white\",\"startlinecolor\":\"#2a3f5f\"},\"type\":\"carpet\"}],\"table\":[{\"cells\":{\"fill\":{\"color\":\"#EBF0F8\"},\"line\":{\"color\":\"white\"}},\"header\":{\"fill\":{\"color\":\"#C8D4E3\"},\"line\":{\"color\":\"white\"}},\"type\":\"table\"}],\"barpolar\":[{\"marker\":{\"line\":{\"color\":\"#E5ECF6\",\"width\":0.5},\"pattern\":{\"fillmode\":\"overlay\",\"size\":10,\"solidity\":0.2}},\"type\":\"barpolar\"}],\"pie\":[{\"automargin\":true,\"type\":\"pie\"}]},\"layout\":{\"autotypenumbers\":\"strict\",\"colorway\":[\"#636efa\",\"#EF553B\",\"#00cc96\",\"#ab63fa\",\"#FFA15A\",\"#19d3f3\",\"#FF6692\",\"#B6E880\",\"#FF97FF\",\"#FECB52\"],\"font\":{\"color\":\"#2a3f5f\"},\"hovermode\":\"closest\",\"hoverlabel\":{\"align\":\"left\"},\"paper_bgcolor\":\"white\",\"plot_bgcolor\":\"#E5ECF6\",\"polar\":{\"bgcolor\":\"#E5ECF6\",\"angularaxis\":{\"gridcolor\":\"white\",\"linecolor\":\"white\",\"ticks\":\"\"},\"radialaxis\":{\"gridcolor\":\"white\",\"linecolor\":\"white\",\"ticks\":\"\"}},\"ternary\":{\"bgcolor\":\"#E5ECF6\",\"aaxis\":{\"gridcolor\":\"white\",\"linecolor\":\"white\",\"ticks\":\"\"},\"baxis\":{\"gridcolor\":\"white\",\"linecolor\":\"white\",\"ticks\":\"\"},\"caxis\":{\"gridcolor\":\"white\",\"linecolor\":\"white\",\"ticks\":\"\"}},\"coloraxis\":{\"colorbar\":{\"outlinewidth\":0,\"ticks\":\"\"}},\"colorscale\":{\"sequential\":[[0.0,\"#0d0887\"],[0.1111111111111111,\"#46039f\"],[0.2222222222222222,\"#7201a8\"],[0.3333333333333333,\"#9c179e\"],[0.4444444444444444,\"#bd3786\"],[0.5555555555555556,\"#d8576b\"],[0.6666666666666666,\"#ed7953\"],[0.7777777777777778,\"#fb9f3a\"],[0.8888888888888888,\"#fdca26\"],[1.0,\"#f0f921\"]],\"sequentialminus\":[[0.0,\"#0d0887\"],[0.1111111111111111,\"#46039f\"],[0.2222222222222222,\"#7201a8\"],[0.3333333333333333,\"#9c179e\"],[0.4444444444444444,\"#bd3786\"],[0.5555555555555556,\"#d8576b\"],[0.6666666666666666,\"#ed7953\"],[0.7777777777777778,\"#fb9f3a\"],[0.8888888888888888,\"#fdca26\"],[1.0,\"#f0f921\"]],\"diverging\":[[0,\"#8e0152\"],[0.1,\"#c51b7d\"],[0.2,\"#de77ae\"],[0.3,\"#f1b6da\"],[0.4,\"#fde0ef\"],[0.5,\"#f7f7f7\"],[0.6,\"#e6f5d0\"],[0.7,\"#b8e186\"],[0.8,\"#7fbc41\"],[0.9,\"#4d9221\"],[1,\"#276419\"]]},\"xaxis\":{\"gridcolor\":\"white\",\"linecolor\":\"white\",\"ticks\":\"\",\"title\":{\"standoff\":15},\"zerolinecolor\":\"white\",\"automargin\":true,\"zerolinewidth\":2},\"yaxis\":{\"gridcolor\":\"white\",\"linecolor\":\"white\",\"ticks\":\"\",\"title\":{\"standoff\":15},\"zerolinecolor\":\"white\",\"automargin\":true,\"zerolinewidth\":2},\"scene\":{\"xaxis\":{\"backgroundcolor\":\"#E5ECF6\",\"gridcolor\":\"white\",\"linecolor\":\"white\",\"showbackground\":true,\"ticks\":\"\",\"zerolinecolor\":\"white\",\"gridwidth\":2},\"yaxis\":{\"backgroundcolor\":\"#E5ECF6\",\"gridcolor\":\"white\",\"linecolor\":\"white\",\"showbackground\":true,\"ticks\":\"\",\"zerolinecolor\":\"white\",\"gridwidth\":2},\"zaxis\":{\"backgroundcolor\":\"#E5ECF6\",\"gridcolor\":\"white\",\"linecolor\":\"white\",\"showbackground\":true,\"ticks\":\"\",\"zerolinecolor\":\"white\",\"gridwidth\":2}},\"shapedefaults\":{\"line\":{\"color\":\"#2a3f5f\"}},\"annotationdefaults\":{\"arrowcolor\":\"#2a3f5f\",\"arrowhead\":0,\"arrowwidth\":1},\"geo\":{\"bgcolor\":\"white\",\"landcolor\":\"#E5ECF6\",\"subunitcolor\":\"white\",\"showland\":true,\"showlakes\":true,\"lakecolor\":\"white\"},\"title\":{\"x\":0.05},\"mapbox\":{\"style\":\"light\"}}},\"xaxis\":{\"anchor\":\"y\",\"domain\":[0.0,1.0],\"title\":{\"text\":\"service_duration\"}},\"yaxis\":{\"anchor\":\"x\",\"domain\":[0.0,1.0],\"title\":{\"text\":\"cost\"}},\"coloraxis\":{\"colorbar\":{\"title\":{\"text\":\"service_duration\"}},\"colorscale\":[[0.0,\"#0d0887\"],[0.1111111111111111,\"#46039f\"],[0.2222222222222222,\"#7201a8\"],[0.3333333333333333,\"#9c179e\"],[0.4444444444444444,\"#bd3786\"],[0.5555555555555556,\"#d8576b\"],[0.6666666666666666,\"#ed7953\"],[0.7777777777777778,\"#fb9f3a\"],[0.8888888888888888,\"#fdca26\"],[1.0,\"#f0f921\"]]},\"legend\":{\"tracegroupgap\":0},\"title\":{\"text\":\"Cost vs. Service Duration\",\"x\":0.5}},                        {\"responsive\": true}                    ).then(function(){\n",
       "                            \n",
       "var gd = document.getElementById('8691283a-8520-46c4-a322-020254e2dbbe');\n",
       "var x = new MutationObserver(function (mutations, observer) {{\n",
       "        var display = window.getComputedStyle(gd).display;\n",
       "        if (!display || display === 'none') {{\n",
       "            console.log([gd, 'removed!']);\n",
       "            Plotly.purge(gd);\n",
       "            observer.disconnect();\n",
       "        }}\n",
       "}});\n",
       "\n",
       "// Listen for the removal of the full notebook cells\n",
       "var notebookContainer = gd.closest('#notebook-container');\n",
       "if (notebookContainer) {{\n",
       "    x.observe(notebookContainer, {childList: true});\n",
       "}}\n",
       "\n",
       "// Listen for the clearing of the current output cell\n",
       "var outputEl = gd.closest('.output');\n",
       "if (outputEl) {{\n",
       "    x.observe(outputEl, {childList: true});\n",
       "}}\n",
       "\n",
       "                        })                };                });            </script>        </div>"
      ]
     },
     "metadata": {},
     "output_type": "display_data"
    }
   ],
   "source": [
    "fig = px.scatter(df, x='service_duration', y='cost',color='service_duration', title='Correlation between service duration and cost')\n",
    "fig.update_layout(title_x=0.5)\n",
    "fig.show()"
   ]
  },
  {
   "cell_type": "code",
   "execution_count": null,
   "id": "672f642a",
   "metadata": {},
   "outputs": [],
   "source": [
    "#### Correlation between service duration and kilometers driven during repair period"
   ]
  },
  {
   "cell_type": "code",
   "execution_count": 108,
   "id": "3f3457a1",
   "metadata": {},
   "outputs": [
    {
     "data": {
      "application/vnd.plotly.v1+json": {
       "config": {
        "plotlyServerURL": "https://plot.ly"
       },
       "data": [
        {
         "hovertemplate": "KMs Diff=%{marker.color}<br>service_duration=%{y}<extra></extra>",
         "legendgroup": "",
         "marker": {
          "color": [
           15,
           0,
           9,
           20,
           15,
           10,
           11,
           8,
           16,
           11,
           10,
           19,
           22,
           9,
           6,
           9,
           12,
           13,
           11,
           22,
           17,
           9,
           6,
           13,
           5,
           5,
           3,
           9,
           5,
           5,
           5,
           5,
           5,
           5,
           5,
           5,
           5,
           5,
           5,
           5,
           5,
           5,
           5,
           5,
           5,
           5,
           5,
           5,
           5,
           5,
           5,
           5,
           5,
           5,
           5,
           5,
           5,
           5,
           5,
           5,
           5,
           5,
           5,
           9,
           5,
           5,
           5,
           6,
           5,
           5,
           5,
           5,
           5,
           10,
           13,
           9,
           41,
           12,
           14,
           32,
           7,
           6,
           10,
           9,
           10,
           10,
           10,
           10,
           10,
           10,
           10,
           10,
           10,
           10,
           10,
           10,
           10,
           9,
           10,
           10,
           10,
           10,
           13,
           10,
           9,
           10,
           13,
           8,
           10,
           13,
           10,
           7,
           14,
           18,
           19,
           18,
           9,
           13,
           14,
           11,
           5,
           17,
           16,
           5,
           5,
           12,
           12,
           15,
           12,
           16,
           27,
           12,
           12,
           11,
           9,
           6,
           23,
           7,
           9,
           71,
           11,
           9,
           13,
           15,
           9,
           8,
           18,
           16,
           9,
           20,
           9,
           17,
           11,
           5,
           13,
           23,
           10,
           9,
           9,
           14,
           9,
           15,
           13,
           14,
           10,
           5,
           8,
           18,
           22,
           9,
           25,
           7,
           38,
           20,
           6,
           7,
           4,
           5,
           9,
           14,
           11,
           11,
           10,
           14,
           10,
           8,
           22,
           9,
           22,
           14,
           10,
           10,
           16,
           10,
           7,
           10,
           24,
           8,
           5,
           19,
           30,
           8,
           8,
           19,
           11,
           4,
           15,
           24,
           16,
           9,
           55,
           5,
           9,
           9,
           14,
           10,
           9,
           10,
           10,
           10,
           10,
           10,
           10,
           10,
           14,
           16,
           23,
           6,
           15,
           28,
           16,
           38,
           9,
           16,
           30,
           15,
           17,
           4,
           8,
           9,
           19,
           9,
           10,
           29,
           17,
           12,
           15,
           9,
           18,
           6,
           15,
           13,
           15,
           10,
           10,
           10,
           9,
           10,
           10,
           10,
           10,
           10,
           10,
           10,
           9,
           9,
           9,
           9,
           9,
           9,
           9,
           9,
           9,
           9,
           9,
           9,
           9,
           9,
           9,
           9,
           19,
           9,
           9,
           9,
           9,
           9,
           9,
           9,
           9,
           9,
           9,
           9,
           9,
           9,
           9,
           9,
           9,
           9,
           9,
           9,
           9,
           9,
           9,
           9,
           9,
           9,
           9,
           9,
           9,
           9,
           9,
           9,
           9,
           9,
           9,
           9,
           9,
           9,
           9,
           7,
           6,
           5,
           15,
           4,
           5,
           9,
           6,
           7,
           8,
           4,
           9,
           9,
           8,
           6,
           5,
           6,
           9,
           9,
           10,
           8,
           5,
           5,
           13,
           8,
           7,
           5,
           32,
           8,
           8,
           8,
           8,
           6,
           9,
           6,
           6,
           8,
           8,
           6,
           8,
           8,
           8,
           8,
           8,
           10,
           6,
           13,
           8,
           7,
           9,
           8,
           10,
           7,
           8,
           8,
           9,
           8,
           7,
           58,
           8,
           10,
           9,
           9,
           11,
           9,
           8,
           19,
           5,
           11,
           17,
           9,
           9,
           9,
           9,
           10,
           10,
           8,
           9,
           10,
           9,
           14,
           9,
           10,
           13,
           10,
           7,
           8,
           5,
           7,
           7,
           7,
           5,
           9,
           11,
           11,
           11,
           9,
           7,
           9,
           14,
           12,
           14,
           10,
           11,
           8,
           8,
           10,
           10,
           8,
           9,
           10,
           7,
           9,
           8,
           7,
           9,
           7,
           6,
           14,
           17,
           30,
           9,
           11,
           12,
           7,
           16,
           15,
           19,
           17,
           9,
           10,
           11,
           16,
           6,
           6,
           7,
           4,
           4,
           14,
           5,
           5,
           5,
           5,
           5,
           12,
           8,
           5,
           5,
           14,
           9,
           5,
           5,
           9,
           8,
           9,
           9,
           5,
           7,
           7,
           9,
           5,
           6,
           7,
           5,
           5,
           4,
           5,
           5,
           7,
           3,
           5,
           5,
           7,
           8,
           9,
           6,
           7,
           10,
           9,
           9,
           10,
           9,
           9,
           9,
           9,
           9,
           9,
           9,
           9,
           9,
           9,
           9,
           9,
           9,
           9,
           9,
           9,
           9,
           9,
           10,
           9,
           9,
           9,
           9,
           9,
           9,
           9,
           9,
           9,
           9,
           9,
           9,
           5,
           5,
           7,
           9,
           4,
           5,
           6,
           5,
           5,
           10,
           8,
           8,
           5,
           9,
           9,
           8,
           6,
           9,
           14,
           5,
           6,
           7,
           9,
           6,
           6,
           8,
           4,
           9,
           12,
           6,
           8,
           10,
           9,
           10,
           5,
           9,
           5,
           7,
           6,
           11,
           5,
           5,
           7,
           6,
           7,
           9,
           5,
           8,
           7,
           12,
           10,
           10,
           7,
           25,
           10,
           10,
           10,
           7,
           6,
           4,
           9,
           5,
           9,
           9,
           9,
           9,
           5,
           5,
           5,
           9,
           6,
           5,
           5,
           4,
           5,
           7,
           9,
           7,
           10,
           6,
           9,
           9,
           5,
           9,
           5,
           6,
           7,
           15,
           4,
           5,
           7,
           7,
           5,
           5,
           5,
           5,
           4,
           5,
           5,
           7,
           5,
           5,
           6,
           6,
           15,
           6,
           8,
           8,
           5,
           5,
           6,
           6,
           9,
           5,
           6,
           6,
           7,
           4,
           6,
           5,
           4,
           6,
           4,
           6,
           7,
           5,
           6,
           9,
           4,
           8,
           10,
           10,
           9,
           6,
           9,
           6,
           9,
           7,
           9,
           9,
           7,
           5,
           11,
           10,
           7,
           6,
           7,
           10,
           8,
           5,
           8,
           9,
           9,
           7,
           5,
           5,
           8,
           8,
           6,
           8,
           5,
           9,
           9,
           6,
           5,
           7,
           6,
           8,
           7,
           3,
           5,
           9,
           6,
           7,
           4,
           10,
           9,
           5,
           7,
           6,
           8,
           9,
           7,
           9,
           8,
           6,
           8,
           8,
           5,
           7,
           6,
           5,
           7,
           6,
           7,
           6,
           9,
           7,
           5,
           10,
           5,
           4,
           8,
           4,
           6,
           6,
           7,
           6,
           6,
           5,
           4,
           6,
           7,
           9,
           7,
           5,
           5,
           7,
           4,
           4,
           8,
           7,
           6,
           9,
           6,
           5,
           9,
           6,
           7,
           7,
           7,
           8,
           5,
           8,
           6,
           4,
           4,
           12,
           11,
           13,
           4,
           10,
           8,
           7,
           6,
           7,
           7,
           6,
           9,
           9,
           9,
           7,
           5,
           8,
           8,
           7,
           6,
           9,
           6,
           6,
           4,
           9,
           10,
           7,
           5,
           10,
           9,
           7,
           8,
           8,
           7,
           8,
           5,
           8,
           6,
           5,
           4,
           6,
           4,
           7,
           8,
           7,
           5,
           7,
           8,
           6,
           7,
           9,
           5,
           6,
           6,
           8,
           5,
           6,
           6,
           5,
           6,
           6,
           5,
           8,
           8,
           8,
           5,
           7,
           5,
           5,
           8,
           5,
           6,
           4,
           5,
           7,
           7,
           6,
           9,
           7,
           5,
           7,
           7,
           7,
           5,
           7,
           5,
           8,
           6,
           7,
           6,
           7,
           7,
           6,
           4,
           7,
           6,
           6,
           5,
           6,
           7,
           7,
           9,
           9,
           9,
           7,
           9,
           10,
           6,
           9,
           7,
           7,
           5,
           6,
           6,
           7,
           7,
           7,
           7,
           6,
           6,
           5,
           6,
           7,
           7,
           8,
           6,
           9,
           6,
           8,
           8,
           7,
           9,
           8,
           8,
           9,
           8,
           6,
           6,
           5,
           5,
           5,
           8,
           7,
           9,
           5,
           9,
           12,
           7,
           9,
           9,
           7,
           5,
           7,
           7,
           7,
           6,
           8,
           5,
           5,
           5,
           5,
           5,
           5,
           5,
           5,
           5,
           6,
           9,
           6,
           6,
           5,
           6,
           9,
           7,
           8,
           5,
           10,
           8,
           9,
           6,
           9,
           13,
           9,
           8,
           9,
           7,
           8,
           7,
           10,
           7,
           9,
           8,
           7,
           7,
           9,
           5,
           9,
           10,
           11,
           8,
           8,
           9,
           7,
           10,
           9,
           11,
           9,
           12,
           9,
           8,
           9,
           8,
           11,
           7,
           9,
           8,
           8,
           6,
           9,
           50,
           9,
           9,
           9,
           8,
           9,
           10,
           8,
           10,
           9,
           9,
           9,
           9,
           9,
           8,
           13,
           10,
           10,
           8,
           7,
           6,
           7,
           9,
           8,
           18,
           9,
           10,
           11,
           9,
           8,
           6,
           6,
           9,
           7,
           10,
           7,
           9,
           11,
           7,
           12,
           6,
           9,
           9,
           9,
           9,
           9,
           10,
           8,
           11,
           7,
           9,
           6,
           6,
           8,
           8,
           10,
           10,
           9,
           9,
           9,
           10,
           10,
           14,
           9,
           5,
           13,
           8,
           9,
           7,
           9,
           8,
           10,
           9,
           9,
           10,
           9,
           9,
           11,
           9,
           10,
           9,
           9,
           9,
           9,
           9,
           9,
           7,
           10,
           10,
           9,
           12,
           11,
           12,
           8,
           10,
           10,
           9,
           9,
           12,
           10,
           12,
           10,
           9,
           8,
           10,
           7,
           8,
           10,
           8,
           8,
           8,
           11,
           9,
           9,
           8,
           10,
           9,
           14,
           8,
           8,
           9,
           13,
           9,
           7,
           11,
           11,
           7,
           6,
           8,
           9,
           9,
           7,
           9,
           8,
           9,
           6,
           9,
           10,
           8,
           11,
           2,
           9,
           8,
           9,
           7,
           11,
           10,
           13,
           7,
           6,
           7,
           7,
           8,
           7,
           10,
           8,
           9,
           7,
           8,
           15,
           11,
           7,
           9,
           8,
           7,
           8,
           11,
           10,
           10,
           8,
           9,
           9,
           10,
           9,
           10,
           9,
           10,
           9,
           10,
           9,
           10,
           10,
           10,
           10,
           8,
           10,
           10,
           9,
           9,
           9,
           9,
           11,
           9,
           15,
           8,
           9,
           11,
           11,
           12,
           11,
           6,
           8,
           11,
           7,
           7,
           12,
           12,
           9,
           10,
           8,
           8,
           7,
           9,
           8,
           10,
           8,
           9,
           9,
           7,
           11,
           9,
           10,
           9,
           8,
           9,
           9,
           8,
           7,
           8,
           13,
           9,
           15,
           11,
           9,
           7,
           9,
           8,
           11,
           9,
           8,
           10,
           8,
           8,
           10,
           9,
           7,
           10,
           10,
           11,
           8,
           8,
           11,
           9,
           8,
           8,
           7,
           6,
           8,
           14,
           9,
           11,
           5,
           8,
           9,
           12,
           8,
           7,
           9,
           9,
           9,
           9,
           11,
           7,
           9,
           8,
           9,
           7,
           9,
           8,
           9,
           7,
           8,
           9,
           8,
           7,
           13,
           7,
           7,
           9,
           8,
           11,
           9,
           9,
           11,
           11,
           9,
           9,
           9,
           10,
           7,
           8,
           8,
           11,
           10,
           7,
           9,
           8,
           5,
           8,
           7,
           10,
           7,
           8,
           11,
           13,
           8,
           9,
           9,
           9,
           9,
           12,
           9,
           10,
           9,
           8,
           7,
           8,
           5,
           9,
           7,
           10,
           11,
           6,
           8,
           10,
           8,
           11,
           9,
           9,
           7,
           9,
           8,
           7,
           8,
           9,
           7,
           8,
           5,
           9,
           7,
           12,
           7,
           8,
           7,
           6,
           9,
           7,
           9,
           15,
           7,
           8,
           10,
           6,
           8,
           7,
           11,
           6,
           7,
           8,
           10,
           6,
           9,
           10,
           7,
           10,
           16,
           6,
           6,
           6,
           6,
           6,
           6,
           6,
           9,
           6,
           6,
           5,
           4,
           7,
           19,
           9,
           3,
           12,
           3,
           26,
           9,
           9,
           9,
           4,
           11,
           24,
           15,
           17,
           20,
           4,
           3,
           5,
           12,
           5,
           20,
           5,
           8,
           4,
           12,
           8,
           4,
           10,
           9,
           6,
           4,
           4,
           9,
           7,
           9,
           5,
           5,
           8,
           5,
           9,
           12,
           8,
           3,
           5,
           5,
           4,
           9,
           11,
           9,
           15,
           8,
           9,
           34,
           4,
           9,
           9,
           9,
           13,
           9,
           18,
           17,
           6,
           8,
           7,
           8,
           7,
           9,
           23,
           5,
           9,
           9,
           6,
           18,
           9,
           42,
           7,
           7,
           9,
           9,
           9,
           9,
           4,
           4,
           8,
           4,
           2,
           4,
           7,
           18,
           9,
           9,
           10,
           12,
           9,
           6,
           4,
           4,
           8,
           8,
           32,
           11,
           11,
           4,
           15,
           3,
           29,
           1,
           9,
           3,
           4,
           4,
           3,
           15,
           4,
           25,
           4,
           9,
           15,
           3,
           4,
           5,
           8,
           8
          ],
          "coloraxis": "coloraxis",
          "symbol": "circle"
         },
         "mode": "markers",
         "name": "",
         "showlegend": false,
         "type": "scattergl",
         "x": [
          15,
          0,
          9,
          20,
          15,
          10,
          11,
          8,
          16,
          11,
          10,
          19,
          22,
          9,
          6,
          9,
          12,
          13,
          11,
          22,
          17,
          9,
          6,
          13,
          5,
          5,
          3,
          9,
          5,
          5,
          5,
          5,
          5,
          5,
          5,
          5,
          5,
          5,
          5,
          5,
          5,
          5,
          5,
          5,
          5,
          5,
          5,
          5,
          5,
          5,
          5,
          5,
          5,
          5,
          5,
          5,
          5,
          5,
          5,
          5,
          5,
          5,
          5,
          9,
          5,
          5,
          5,
          6,
          5,
          5,
          5,
          5,
          5,
          10,
          13,
          9,
          41,
          12,
          14,
          32,
          7,
          6,
          10,
          9,
          10,
          10,
          10,
          10,
          10,
          10,
          10,
          10,
          10,
          10,
          10,
          10,
          10,
          9,
          10,
          10,
          10,
          10,
          13,
          10,
          9,
          10,
          13,
          8,
          10,
          13,
          10,
          7,
          14,
          18,
          19,
          18,
          9,
          13,
          14,
          11,
          5,
          17,
          16,
          5,
          5,
          12,
          12,
          15,
          12,
          16,
          27,
          12,
          12,
          11,
          9,
          6,
          23,
          7,
          9,
          71,
          11,
          9,
          13,
          15,
          9,
          8,
          18,
          16,
          9,
          20,
          9,
          17,
          11,
          5,
          13,
          23,
          10,
          9,
          9,
          14,
          9,
          15,
          13,
          14,
          10,
          5,
          8,
          18,
          22,
          9,
          25,
          7,
          38,
          20,
          6,
          7,
          4,
          5,
          9,
          14,
          11,
          11,
          10,
          14,
          10,
          8,
          22,
          9,
          22,
          14,
          10,
          10,
          16,
          10,
          7,
          10,
          24,
          8,
          5,
          19,
          30,
          8,
          8,
          19,
          11,
          4,
          15,
          24,
          16,
          9,
          55,
          5,
          9,
          9,
          14,
          10,
          9,
          10,
          10,
          10,
          10,
          10,
          10,
          10,
          14,
          16,
          23,
          6,
          15,
          28,
          16,
          38,
          9,
          16,
          30,
          15,
          17,
          4,
          8,
          9,
          19,
          9,
          10,
          29,
          17,
          12,
          15,
          9,
          18,
          6,
          15,
          13,
          15,
          10,
          10,
          10,
          9,
          10,
          10,
          10,
          10,
          10,
          10,
          10,
          9,
          9,
          9,
          9,
          9,
          9,
          9,
          9,
          9,
          9,
          9,
          9,
          9,
          9,
          9,
          9,
          19,
          9,
          9,
          9,
          9,
          9,
          9,
          9,
          9,
          9,
          9,
          9,
          9,
          9,
          9,
          9,
          9,
          9,
          9,
          9,
          9,
          9,
          9,
          9,
          9,
          9,
          9,
          9,
          9,
          9,
          9,
          9,
          9,
          9,
          9,
          9,
          9,
          9,
          9,
          7,
          6,
          5,
          15,
          4,
          5,
          9,
          6,
          7,
          8,
          4,
          9,
          9,
          8,
          6,
          5,
          6,
          9,
          9,
          10,
          8,
          5,
          5,
          13,
          8,
          7,
          5,
          32,
          8,
          8,
          8,
          8,
          6,
          9,
          6,
          6,
          8,
          8,
          6,
          8,
          8,
          8,
          8,
          8,
          10,
          6,
          13,
          8,
          7,
          9,
          8,
          10,
          7,
          8,
          8,
          9,
          8,
          7,
          58,
          8,
          10,
          9,
          9,
          11,
          9,
          8,
          19,
          5,
          11,
          17,
          9,
          9,
          9,
          9,
          10,
          10,
          8,
          9,
          10,
          9,
          14,
          9,
          10,
          13,
          10,
          7,
          8,
          5,
          7,
          7,
          7,
          5,
          9,
          11,
          11,
          11,
          9,
          7,
          9,
          14,
          12,
          14,
          10,
          11,
          8,
          8,
          10,
          10,
          8,
          9,
          10,
          7,
          9,
          8,
          7,
          9,
          7,
          6,
          14,
          17,
          30,
          9,
          11,
          12,
          7,
          16,
          15,
          19,
          17,
          9,
          10,
          11,
          16,
          6,
          6,
          7,
          4,
          4,
          14,
          5,
          5,
          5,
          5,
          5,
          12,
          8,
          5,
          5,
          14,
          9,
          5,
          5,
          9,
          8,
          9,
          9,
          5,
          7,
          7,
          9,
          5,
          6,
          7,
          5,
          5,
          4,
          5,
          5,
          7,
          3,
          5,
          5,
          7,
          8,
          9,
          6,
          7,
          10,
          9,
          9,
          10,
          9,
          9,
          9,
          9,
          9,
          9,
          9,
          9,
          9,
          9,
          9,
          9,
          9,
          9,
          9,
          9,
          9,
          9,
          10,
          9,
          9,
          9,
          9,
          9,
          9,
          9,
          9,
          9,
          9,
          9,
          9,
          5,
          5,
          7,
          9,
          4,
          5,
          6,
          5,
          5,
          10,
          8,
          8,
          5,
          9,
          9,
          8,
          6,
          9,
          14,
          5,
          6,
          7,
          9,
          6,
          6,
          8,
          4,
          9,
          12,
          6,
          8,
          10,
          9,
          10,
          5,
          9,
          5,
          7,
          6,
          11,
          5,
          5,
          7,
          6,
          7,
          9,
          5,
          8,
          7,
          12,
          10,
          10,
          7,
          25,
          10,
          10,
          10,
          7,
          6,
          4,
          9,
          5,
          9,
          9,
          9,
          9,
          5,
          5,
          5,
          9,
          6,
          5,
          5,
          4,
          5,
          7,
          9,
          7,
          10,
          6,
          9,
          9,
          5,
          9,
          5,
          6,
          7,
          15,
          4,
          5,
          7,
          7,
          5,
          5,
          5,
          5,
          4,
          5,
          5,
          7,
          5,
          5,
          6,
          6,
          15,
          6,
          8,
          8,
          5,
          5,
          6,
          6,
          9,
          5,
          6,
          6,
          7,
          4,
          6,
          5,
          4,
          6,
          4,
          6,
          7,
          5,
          6,
          9,
          4,
          8,
          10,
          10,
          9,
          6,
          9,
          6,
          9,
          7,
          9,
          9,
          7,
          5,
          11,
          10,
          7,
          6,
          7,
          10,
          8,
          5,
          8,
          9,
          9,
          7,
          5,
          5,
          8,
          8,
          6,
          8,
          5,
          9,
          9,
          6,
          5,
          7,
          6,
          8,
          7,
          3,
          5,
          9,
          6,
          7,
          4,
          10,
          9,
          5,
          7,
          6,
          8,
          9,
          7,
          9,
          8,
          6,
          8,
          8,
          5,
          7,
          6,
          5,
          7,
          6,
          7,
          6,
          9,
          7,
          5,
          10,
          5,
          4,
          8,
          4,
          6,
          6,
          7,
          6,
          6,
          5,
          4,
          6,
          7,
          9,
          7,
          5,
          5,
          7,
          4,
          4,
          8,
          7,
          6,
          9,
          6,
          5,
          9,
          6,
          7,
          7,
          7,
          8,
          5,
          8,
          6,
          4,
          4,
          12,
          11,
          13,
          4,
          10,
          8,
          7,
          6,
          7,
          7,
          6,
          9,
          9,
          9,
          7,
          5,
          8,
          8,
          7,
          6,
          9,
          6,
          6,
          4,
          9,
          10,
          7,
          5,
          10,
          9,
          7,
          8,
          8,
          7,
          8,
          5,
          8,
          6,
          5,
          4,
          6,
          4,
          7,
          8,
          7,
          5,
          7,
          8,
          6,
          7,
          9,
          5,
          6,
          6,
          8,
          5,
          6,
          6,
          5,
          6,
          6,
          5,
          8,
          8,
          8,
          5,
          7,
          5,
          5,
          8,
          5,
          6,
          4,
          5,
          7,
          7,
          6,
          9,
          7,
          5,
          7,
          7,
          7,
          5,
          7,
          5,
          8,
          6,
          7,
          6,
          7,
          7,
          6,
          4,
          7,
          6,
          6,
          5,
          6,
          7,
          7,
          9,
          9,
          9,
          7,
          9,
          10,
          6,
          9,
          7,
          7,
          5,
          6,
          6,
          7,
          7,
          7,
          7,
          6,
          6,
          5,
          6,
          7,
          7,
          8,
          6,
          9,
          6,
          8,
          8,
          7,
          9,
          8,
          8,
          9,
          8,
          6,
          6,
          5,
          5,
          5,
          8,
          7,
          9,
          5,
          9,
          12,
          7,
          9,
          9,
          7,
          5,
          7,
          7,
          7,
          6,
          8,
          5,
          5,
          5,
          5,
          5,
          5,
          5,
          5,
          5,
          6,
          9,
          6,
          6,
          5,
          6,
          9,
          7,
          8,
          5,
          10,
          8,
          9,
          6,
          9,
          13,
          9,
          8,
          9,
          7,
          8,
          7,
          10,
          7,
          9,
          8,
          7,
          7,
          9,
          5,
          9,
          10,
          11,
          8,
          8,
          9,
          7,
          10,
          9,
          11,
          9,
          12,
          9,
          8,
          9,
          8,
          11,
          7,
          9,
          8,
          8,
          6,
          9,
          50,
          9,
          9,
          9,
          8,
          9,
          10,
          8,
          10,
          9,
          9,
          9,
          9,
          9,
          8,
          13,
          10,
          10,
          8,
          7,
          6,
          7,
          9,
          8,
          18,
          9,
          10,
          11,
          9,
          8,
          6,
          6,
          9,
          7,
          10,
          7,
          9,
          11,
          7,
          12,
          6,
          9,
          9,
          9,
          9,
          9,
          10,
          8,
          11,
          7,
          9,
          6,
          6,
          8,
          8,
          10,
          10,
          9,
          9,
          9,
          10,
          10,
          14,
          9,
          5,
          13,
          8,
          9,
          7,
          9,
          8,
          10,
          9,
          9,
          10,
          9,
          9,
          11,
          9,
          10,
          9,
          9,
          9,
          9,
          9,
          9,
          7,
          10,
          10,
          9,
          12,
          11,
          12,
          8,
          10,
          10,
          9,
          9,
          12,
          10,
          12,
          10,
          9,
          8,
          10,
          7,
          8,
          10,
          8,
          8,
          8,
          11,
          9,
          9,
          8,
          10,
          9,
          14,
          8,
          8,
          9,
          13,
          9,
          7,
          11,
          11,
          7,
          6,
          8,
          9,
          9,
          7,
          9,
          8,
          9,
          6,
          9,
          10,
          8,
          11,
          2,
          9,
          8,
          9,
          7,
          11,
          10,
          13,
          7,
          6,
          7,
          7,
          8,
          7,
          10,
          8,
          9,
          7,
          8,
          15,
          11,
          7,
          9,
          8,
          7,
          8,
          11,
          10,
          10,
          8,
          9,
          9,
          10,
          9,
          10,
          9,
          10,
          9,
          10,
          9,
          10,
          10,
          10,
          10,
          8,
          10,
          10,
          9,
          9,
          9,
          9,
          11,
          9,
          15,
          8,
          9,
          11,
          11,
          12,
          11,
          6,
          8,
          11,
          7,
          7,
          12,
          12,
          9,
          10,
          8,
          8,
          7,
          9,
          8,
          10,
          8,
          9,
          9,
          7,
          11,
          9,
          10,
          9,
          8,
          9,
          9,
          8,
          7,
          8,
          13,
          9,
          15,
          11,
          9,
          7,
          9,
          8,
          11,
          9,
          8,
          10,
          8,
          8,
          10,
          9,
          7,
          10,
          10,
          11,
          8,
          8,
          11,
          9,
          8,
          8,
          7,
          6,
          8,
          14,
          9,
          11,
          5,
          8,
          9,
          12,
          8,
          7,
          9,
          9,
          9,
          9,
          11,
          7,
          9,
          8,
          9,
          7,
          9,
          8,
          9,
          7,
          8,
          9,
          8,
          7,
          13,
          7,
          7,
          9,
          8,
          11,
          9,
          9,
          11,
          11,
          9,
          9,
          9,
          10,
          7,
          8,
          8,
          11,
          10,
          7,
          9,
          8,
          5,
          8,
          7,
          10,
          7,
          8,
          11,
          13,
          8,
          9,
          9,
          9,
          9,
          12,
          9,
          10,
          9,
          8,
          7,
          8,
          5,
          9,
          7,
          10,
          11,
          6,
          8,
          10,
          8,
          11,
          9,
          9,
          7,
          9,
          8,
          7,
          8,
          9,
          7,
          8,
          5,
          9,
          7,
          12,
          7,
          8,
          7,
          6,
          9,
          7,
          9,
          15,
          7,
          8,
          10,
          6,
          8,
          7,
          11,
          6,
          7,
          8,
          10,
          6,
          9,
          10,
          7,
          10,
          16,
          6,
          6,
          6,
          6,
          6,
          6,
          6,
          9,
          6,
          6,
          5,
          4,
          7,
          19,
          9,
          3,
          12,
          3,
          26,
          9,
          9,
          9,
          4,
          11,
          24,
          15,
          17,
          20,
          4,
          3,
          5,
          12,
          5,
          20,
          5,
          8,
          4,
          12,
          8,
          4,
          10,
          9,
          6,
          4,
          4,
          9,
          7,
          9,
          5,
          5,
          8,
          5,
          9,
          12,
          8,
          3,
          5,
          5,
          4,
          9,
          11,
          9,
          15,
          8,
          9,
          34,
          4,
          9,
          9,
          9,
          13,
          9,
          18,
          17,
          6,
          8,
          7,
          8,
          7,
          9,
          23,
          5,
          9,
          9,
          6,
          18,
          9,
          42,
          7,
          7,
          9,
          9,
          9,
          9,
          4,
          4,
          8,
          4,
          2,
          4,
          7,
          18,
          9,
          9,
          10,
          12,
          9,
          6,
          4,
          4,
          8,
          8,
          32,
          11,
          11,
          4,
          15,
          3,
          29,
          1,
          9,
          3,
          4,
          4,
          3,
          15,
          4,
          25,
          4,
          9,
          15,
          3,
          4,
          5,
          8,
          8
         ],
         "xaxis": "x",
         "y": [
          5,
          5,
          11,
          6,
          6,
          8,
          1,
          1,
          1,
          1,
          1,
          2,
          4,
          1,
          10,
          6,
          1,
          1,
          1,
          1,
          1,
          1,
          1,
          1,
          1,
          1,
          1,
          1,
          1,
          1,
          1,
          1,
          1,
          1,
          1,
          1,
          1,
          1,
          1,
          1,
          1,
          1,
          1,
          1,
          1,
          1,
          1,
          1,
          1,
          1,
          1,
          1,
          1,
          1,
          1,
          1,
          1,
          13,
          1,
          1,
          1,
          1,
          2,
          1,
          1,
          1,
          1,
          1,
          1,
          1,
          1,
          3,
          1,
          17,
          1,
          1,
          2,
          1,
          1,
          1,
          4,
          1,
          1,
          1,
          1,
          1,
          1,
          1,
          1,
          1,
          1,
          1,
          1,
          1,
          1,
          1,
          1,
          1,
          1,
          1,
          1,
          1,
          1,
          1,
          1,
          1,
          1,
          1,
          1,
          1,
          1,
          1,
          1,
          1,
          1,
          1,
          1,
          1,
          1,
          1,
          6,
          1,
          9,
          1,
          1,
          1,
          1,
          1,
          1,
          1,
          1,
          1,
          1,
          1,
          1,
          1,
          1,
          4,
          1,
          1,
          1,
          12,
          1,
          1,
          1,
          1,
          1,
          4,
          3,
          1,
          30,
          1,
          1,
          1,
          4,
          11,
          1,
          1,
          1,
          1,
          1,
          1,
          1,
          14,
          8,
          1,
          1,
          70,
          1,
          11,
          5,
          18,
          2,
          5,
          1,
          1,
          1,
          1,
          1,
          1,
          1,
          1,
          1,
          1,
          1,
          4,
          1,
          3,
          1,
          1,
          1,
          1,
          1,
          1,
          1,
          1,
          1,
          1,
          4,
          1,
          5,
          1,
          57,
          1,
          2,
          2,
          2,
          1,
          1,
          3,
          1,
          2,
          1,
          2,
          1,
          1,
          1,
          1,
          1,
          1,
          1,
          1,
          1,
          1,
          1,
          6,
          1,
          4,
          1,
          1,
          1,
          4,
          1,
          3,
          1,
          1,
          1,
          3,
          3,
          7,
          1,
          1,
          2,
          1,
          1,
          1,
          1,
          5,
          1,
          1,
          8,
          1,
          1,
          1,
          1,
          1,
          1,
          1,
          1,
          1,
          1,
          1,
          1,
          1,
          1,
          1,
          1,
          1,
          1,
          4,
          5,
          1,
          1,
          1,
          1,
          1,
          1,
          1,
          1,
          1,
          1,
          32,
          3,
          1,
          1,
          1,
          1,
          1,
          1,
          1,
          1,
          1,
          3,
          1,
          1,
          1,
          1,
          1,
          1,
          1,
          1,
          1,
          1,
          1,
          1,
          1,
          1,
          1,
          1,
          1,
          1,
          1,
          1,
          1,
          1,
          1,
          1,
          1,
          1,
          1,
          1,
          1,
          11,
          1,
          1,
          9,
          1,
          1,
          1,
          1,
          1,
          1,
          1,
          1,
          1,
          3,
          7,
          3,
          2,
          1,
          1,
          1,
          1,
          1,
          1,
          1,
          1,
          1,
          1,
          1,
          1,
          1,
          1,
          1,
          1,
          1,
          1,
          1,
          1,
          1,
          1,
          1,
          1,
          1,
          10,
          1,
          1,
          1,
          1,
          1,
          2,
          3,
          1,
          1,
          2,
          2,
          1,
          1,
          1,
          2,
          7,
          1,
          1,
          1,
          1,
          1,
          1,
          1,
          14,
          3,
          7,
          11,
          6,
          7,
          5,
          5,
          8,
          1,
          1,
          1,
          1,
          1,
          1,
          1,
          1,
          1,
          4,
          1,
          1,
          3,
          4,
          1,
          1,
          4,
          1,
          1,
          1,
          1,
          1,
          2,
          1,
          1,
          1,
          2,
          1,
          1,
          1,
          1,
          2,
          1,
          1,
          1,
          1,
          2,
          1,
          1,
          1,
          1,
          1,
          1,
          1,
          1,
          2,
          2,
          7,
          6,
          7,
          1,
          1,
          2,
          1,
          1,
          8,
          1,
          2,
          1,
          3,
          4,
          1,
          1,
          1,
          7,
          1,
          1,
          1,
          2,
          1,
          1,
          2,
          1,
          2,
          3,
          2,
          1,
          1,
          8,
          1,
          1,
          1,
          1,
          1,
          1,
          1,
          1,
          1,
          2,
          1,
          1,
          1,
          1,
          6,
          1,
          1,
          1,
          5,
          11,
          1,
          1,
          1,
          1,
          1,
          1,
          1,
          1,
          1,
          1,
          1,
          1,
          1,
          1,
          1,
          1,
          1,
          1,
          1,
          1,
          1,
          1,
          1,
          1,
          1,
          1,
          1,
          1,
          1,
          1,
          1,
          1,
          1,
          1,
          1,
          3,
          11,
          1,
          6,
          6,
          1,
          1,
          1,
          1,
          1,
          1,
          14,
          2,
          1,
          1,
          6,
          1,
          1,
          1,
          1,
          1,
          1,
          1,
          1,
          1,
          1,
          1,
          6,
          3,
          1,
          4,
          2,
          1,
          1,
          1,
          2,
          1,
          1,
          1,
          1,
          1,
          1,
          2,
          2,
          5,
          5,
          1,
          1,
          5,
          1,
          1,
          1,
          5,
          1,
          1,
          1,
          2,
          1,
          1,
          1,
          1,
          1,
          1,
          1,
          1,
          1,
          1,
          1,
          1,
          1,
          1,
          1,
          1,
          1,
          1,
          1,
          1,
          4,
          2,
          7,
          1,
          1,
          1,
          1,
          6,
          4,
          7,
          2,
          24,
          1,
          1,
          7,
          3,
          3,
          1,
          1,
          1,
          1,
          2,
          1,
          1,
          1,
          1,
          1,
          6,
          1,
          7,
          4,
          1,
          1,
          1,
          1,
          11,
          1,
          1,
          1,
          7,
          4,
          1,
          1,
          1,
          1,
          1,
          1,
          1,
          1,
          1,
          1,
          7,
          1,
          1,
          1,
          1,
          1,
          1,
          1,
          1,
          1,
          1,
          1,
          1,
          1,
          1,
          1,
          1,
          5,
          6,
          1,
          1,
          1,
          1,
          1,
          1,
          1,
          1,
          1,
          1,
          1,
          1,
          1,
          1,
          1,
          1,
          1,
          1,
          1,
          1,
          1,
          1,
          1,
          1,
          1,
          1,
          6,
          1,
          6,
          1,
          1,
          1,
          1,
          1,
          1,
          1,
          1,
          1,
          1,
          8,
          1,
          1,
          9,
          8,
          1,
          1,
          1,
          1,
          1,
          1,
          1,
          1,
          1,
          1,
          1,
          1,
          1,
          1,
          1,
          1,
          1,
          1,
          5,
          1,
          1,
          1,
          1,
          1,
          1,
          4,
          1,
          1,
          3,
          4,
          1,
          1,
          4,
          1,
          1,
          1,
          1,
          1,
          1,
          1,
          1,
          1,
          1,
          1,
          5,
          6,
          5,
          1,
          1,
          1,
          1,
          1,
          1,
          1,
          1,
          1,
          1,
          1,
          1,
          1,
          1,
          1,
          1,
          1,
          1,
          1,
          1,
          1,
          12,
          7,
          7,
          1,
          7,
          1,
          1,
          1,
          1,
          1,
          1,
          1,
          1,
          1,
          1,
          1,
          1,
          1,
          1,
          1,
          1,
          1,
          1,
          1,
          1,
          1,
          1,
          1,
          1,
          1,
          1,
          1,
          1,
          1,
          1,
          1,
          1,
          1,
          1,
          1,
          1,
          1,
          1,
          1,
          1,
          1,
          1,
          1,
          1,
          1,
          1,
          1,
          1,
          1,
          1,
          1,
          1,
          1,
          1,
          1,
          1,
          1,
          1,
          1,
          1,
          8,
          1,
          1,
          1,
          6,
          1,
          1,
          1,
          1,
          9,
          1,
          1,
          1,
          1,
          1,
          3,
          1,
          1,
          1,
          1,
          1,
          1,
          1,
          1,
          1,
          1,
          1,
          5,
          1,
          1,
          1,
          1,
          1,
          1,
          1,
          1,
          1,
          1,
          4,
          6,
          1,
          1,
          1,
          1,
          4,
          1,
          1,
          1,
          1,
          1,
          1,
          1,
          1,
          1,
          1,
          1,
          1,
          1,
          1,
          1,
          1,
          1,
          1,
          1,
          1,
          1,
          1,
          1,
          1,
          1,
          1,
          7,
          1,
          1,
          1,
          1,
          1,
          1,
          1,
          1,
          1,
          1,
          1,
          1,
          1,
          1,
          1,
          1,
          1,
          1,
          1,
          1,
          1,
          1,
          1,
          1,
          1,
          1,
          1,
          1,
          1,
          1,
          1,
          1,
          1,
          4,
          1,
          1,
          1,
          1,
          1,
          1,
          1,
          1,
          1,
          1,
          1,
          1,
          1,
          1,
          1,
          1,
          1,
          1,
          1,
          1,
          1,
          1,
          1,
          1,
          5,
          1,
          1,
          1,
          1,
          1,
          1,
          1,
          1,
          1,
          1,
          1,
          1,
          1,
          1,
          1,
          1,
          1,
          1,
          1,
          1,
          1,
          1,
          1,
          1,
          1,
          1,
          1,
          1,
          1,
          1,
          1,
          1,
          1,
          1,
          1,
          5,
          1,
          1,
          1,
          1,
          1,
          1,
          1,
          1,
          1,
          1,
          1,
          1,
          1,
          1,
          1,
          6,
          1,
          1,
          1,
          1,
          1,
          1,
          1,
          1,
          1,
          1,
          1,
          5,
          1,
          2,
          1,
          1,
          1,
          1,
          1,
          1,
          1,
          1,
          1,
          1,
          1,
          1,
          1,
          1,
          1,
          1,
          1,
          1,
          1,
          1,
          1,
          1,
          1,
          1,
          1,
          1,
          1,
          1,
          1,
          1,
          1,
          1,
          1,
          1,
          1,
          1,
          1,
          1,
          1,
          1,
          1,
          1,
          1,
          1,
          1,
          1,
          1,
          1,
          1,
          1,
          5,
          5,
          1,
          1,
          1,
          1,
          1,
          1,
          1,
          1,
          1,
          1,
          1,
          1,
          1,
          1,
          1,
          1,
          1,
          1,
          1,
          1,
          1,
          1,
          1,
          1,
          1,
          1,
          1,
          1,
          1,
          1,
          1,
          1,
          1,
          1,
          1,
          1,
          1,
          5,
          1,
          1,
          1,
          1,
          1,
          1,
          1,
          1,
          1,
          1,
          1,
          1,
          1,
          1,
          1,
          1,
          1,
          1,
          1,
          1,
          1,
          1,
          1,
          1,
          1,
          1,
          1,
          1,
          1,
          1,
          1,
          1,
          1,
          1,
          1,
          1,
          1,
          1,
          1,
          1,
          1,
          1,
          1,
          1,
          1,
          1,
          1,
          1,
          1,
          1,
          1,
          1,
          1,
          1,
          4,
          4,
          1,
          1,
          1,
          1,
          1,
          1,
          1,
          1,
          1,
          1,
          1,
          1,
          1,
          1,
          1,
          1,
          1,
          1,
          1,
          1,
          1,
          1,
          1,
          5,
          1,
          1,
          1,
          1,
          1,
          1,
          1,
          1,
          1,
          1,
          1,
          1,
          1,
          1,
          1,
          1,
          1,
          1,
          1,
          1,
          1,
          1,
          6,
          1,
          1,
          1,
          1,
          1,
          1,
          1,
          1,
          1,
          1,
          1,
          1,
          1,
          1,
          1,
          1,
          1,
          1,
          1,
          1,
          1,
          1,
          1,
          1,
          1,
          1,
          1,
          1,
          1,
          1,
          1,
          1,
          1,
          1,
          1,
          1,
          1,
          1,
          1,
          1,
          5,
          1,
          1,
          1,
          1,
          1,
          1,
          1,
          1,
          5,
          1,
          1,
          1,
          1,
          1,
          1,
          1,
          1,
          4,
          3,
          5,
          5,
          6,
          4,
          4,
          4,
          3,
          4,
          5,
          4,
          4,
          5,
          4,
          5,
          4,
          4,
          5,
          3,
          1,
          1,
          1,
          1,
          1,
          1,
          1,
          5,
          7,
          7,
          8,
          6,
          1,
          1,
          5,
          1,
          5,
          4,
          1,
          1,
          5,
          5,
          4,
          1,
          1,
          1,
          1,
          1,
          1,
          1,
          1,
          1,
          1,
          1,
          1,
          1,
          1,
          5,
          6,
          7,
          1,
          1,
          1,
          1,
          1,
          1,
          1,
          1,
          1,
          1,
          1,
          1,
          1,
          1,
          1,
          1,
          1,
          1,
          1,
          1,
          1,
          1,
          1,
          1,
          1,
          1,
          1,
          1,
          1,
          17,
          5,
          4,
          1,
          1,
          1,
          1,
          1,
          1,
          1,
          1,
          6,
          1,
          1,
          1,
          1,
          1,
          1,
          1,
          1,
          1,
          8,
          1,
          1,
          11,
          11,
          1,
          1,
          1,
          1,
          1,
          6,
          6,
          1,
          1,
          1,
          1,
          1,
          7,
          1,
          1,
          1,
          1,
          1,
          1,
          1,
          1,
          1,
          8,
          1,
          1,
          1,
          1,
          1,
          1,
          9,
          5,
          4,
          2,
          11,
          7,
          1,
          1,
          1,
          1,
          1,
          1,
          1,
          1,
          1,
          1,
          8,
          8,
          8,
          7,
          6,
          1,
          1,
          1,
          1,
          1,
          9,
          6,
          7,
          7,
          8,
          1,
          1,
          1,
          1,
          1,
          1,
          1,
          1,
          1,
          1,
          9,
          1,
          1,
          1,
          1,
          1,
          1,
          1,
          8,
          4,
          1
         ],
         "yaxis": "y"
        }
       ],
       "layout": {
        "coloraxis": {
         "colorbar": {
          "title": {
           "text": "KMs Diff"
          }
         },
         "colorscale": [
          [
           0,
           "#0d0887"
          ],
          [
           0.1111111111111111,
           "#46039f"
          ],
          [
           0.2222222222222222,
           "#7201a8"
          ],
          [
           0.3333333333333333,
           "#9c179e"
          ],
          [
           0.4444444444444444,
           "#bd3786"
          ],
          [
           0.5555555555555556,
           "#d8576b"
          ],
          [
           0.6666666666666666,
           "#ed7953"
          ],
          [
           0.7777777777777778,
           "#fb9f3a"
          ],
          [
           0.8888888888888888,
           "#fdca26"
          ],
          [
           1,
           "#f0f921"
          ]
         ]
        },
        "legend": {
         "tracegroupgap": 0
        },
        "template": {
         "data": {
          "bar": [
           {
            "error_x": {
             "color": "#2a3f5f"
            },
            "error_y": {
             "color": "#2a3f5f"
            },
            "marker": {
             "line": {
              "color": "#E5ECF6",
              "width": 0.5
             },
             "pattern": {
              "fillmode": "overlay",
              "size": 10,
              "solidity": 0.2
             }
            },
            "type": "bar"
           }
          ],
          "barpolar": [
           {
            "marker": {
             "line": {
              "color": "#E5ECF6",
              "width": 0.5
             },
             "pattern": {
              "fillmode": "overlay",
              "size": 10,
              "solidity": 0.2
             }
            },
            "type": "barpolar"
           }
          ],
          "carpet": [
           {
            "aaxis": {
             "endlinecolor": "#2a3f5f",
             "gridcolor": "white",
             "linecolor": "white",
             "minorgridcolor": "white",
             "startlinecolor": "#2a3f5f"
            },
            "baxis": {
             "endlinecolor": "#2a3f5f",
             "gridcolor": "white",
             "linecolor": "white",
             "minorgridcolor": "white",
             "startlinecolor": "#2a3f5f"
            },
            "type": "carpet"
           }
          ],
          "choropleth": [
           {
            "colorbar": {
             "outlinewidth": 0,
             "ticks": ""
            },
            "type": "choropleth"
           }
          ],
          "contour": [
           {
            "colorbar": {
             "outlinewidth": 0,
             "ticks": ""
            },
            "colorscale": [
             [
              0,
              "#0d0887"
             ],
             [
              0.1111111111111111,
              "#46039f"
             ],
             [
              0.2222222222222222,
              "#7201a8"
             ],
             [
              0.3333333333333333,
              "#9c179e"
             ],
             [
              0.4444444444444444,
              "#bd3786"
             ],
             [
              0.5555555555555556,
              "#d8576b"
             ],
             [
              0.6666666666666666,
              "#ed7953"
             ],
             [
              0.7777777777777778,
              "#fb9f3a"
             ],
             [
              0.8888888888888888,
              "#fdca26"
             ],
             [
              1,
              "#f0f921"
             ]
            ],
            "type": "contour"
           }
          ],
          "contourcarpet": [
           {
            "colorbar": {
             "outlinewidth": 0,
             "ticks": ""
            },
            "type": "contourcarpet"
           }
          ],
          "heatmap": [
           {
            "colorbar": {
             "outlinewidth": 0,
             "ticks": ""
            },
            "colorscale": [
             [
              0,
              "#0d0887"
             ],
             [
              0.1111111111111111,
              "#46039f"
             ],
             [
              0.2222222222222222,
              "#7201a8"
             ],
             [
              0.3333333333333333,
              "#9c179e"
             ],
             [
              0.4444444444444444,
              "#bd3786"
             ],
             [
              0.5555555555555556,
              "#d8576b"
             ],
             [
              0.6666666666666666,
              "#ed7953"
             ],
             [
              0.7777777777777778,
              "#fb9f3a"
             ],
             [
              0.8888888888888888,
              "#fdca26"
             ],
             [
              1,
              "#f0f921"
             ]
            ],
            "type": "heatmap"
           }
          ],
          "heatmapgl": [
           {
            "colorbar": {
             "outlinewidth": 0,
             "ticks": ""
            },
            "colorscale": [
             [
              0,
              "#0d0887"
             ],
             [
              0.1111111111111111,
              "#46039f"
             ],
             [
              0.2222222222222222,
              "#7201a8"
             ],
             [
              0.3333333333333333,
              "#9c179e"
             ],
             [
              0.4444444444444444,
              "#bd3786"
             ],
             [
              0.5555555555555556,
              "#d8576b"
             ],
             [
              0.6666666666666666,
              "#ed7953"
             ],
             [
              0.7777777777777778,
              "#fb9f3a"
             ],
             [
              0.8888888888888888,
              "#fdca26"
             ],
             [
              1,
              "#f0f921"
             ]
            ],
            "type": "heatmapgl"
           }
          ],
          "histogram": [
           {
            "marker": {
             "pattern": {
              "fillmode": "overlay",
              "size": 10,
              "solidity": 0.2
             }
            },
            "type": "histogram"
           }
          ],
          "histogram2d": [
           {
            "colorbar": {
             "outlinewidth": 0,
             "ticks": ""
            },
            "colorscale": [
             [
              0,
              "#0d0887"
             ],
             [
              0.1111111111111111,
              "#46039f"
             ],
             [
              0.2222222222222222,
              "#7201a8"
             ],
             [
              0.3333333333333333,
              "#9c179e"
             ],
             [
              0.4444444444444444,
              "#bd3786"
             ],
             [
              0.5555555555555556,
              "#d8576b"
             ],
             [
              0.6666666666666666,
              "#ed7953"
             ],
             [
              0.7777777777777778,
              "#fb9f3a"
             ],
             [
              0.8888888888888888,
              "#fdca26"
             ],
             [
              1,
              "#f0f921"
             ]
            ],
            "type": "histogram2d"
           }
          ],
          "histogram2dcontour": [
           {
            "colorbar": {
             "outlinewidth": 0,
             "ticks": ""
            },
            "colorscale": [
             [
              0,
              "#0d0887"
             ],
             [
              0.1111111111111111,
              "#46039f"
             ],
             [
              0.2222222222222222,
              "#7201a8"
             ],
             [
              0.3333333333333333,
              "#9c179e"
             ],
             [
              0.4444444444444444,
              "#bd3786"
             ],
             [
              0.5555555555555556,
              "#d8576b"
             ],
             [
              0.6666666666666666,
              "#ed7953"
             ],
             [
              0.7777777777777778,
              "#fb9f3a"
             ],
             [
              0.8888888888888888,
              "#fdca26"
             ],
             [
              1,
              "#f0f921"
             ]
            ],
            "type": "histogram2dcontour"
           }
          ],
          "mesh3d": [
           {
            "colorbar": {
             "outlinewidth": 0,
             "ticks": ""
            },
            "type": "mesh3d"
           }
          ],
          "parcoords": [
           {
            "line": {
             "colorbar": {
              "outlinewidth": 0,
              "ticks": ""
             }
            },
            "type": "parcoords"
           }
          ],
          "pie": [
           {
            "automargin": true,
            "type": "pie"
           }
          ],
          "scatter": [
           {
            "fillpattern": {
             "fillmode": "overlay",
             "size": 10,
             "solidity": 0.2
            },
            "type": "scatter"
           }
          ],
          "scatter3d": [
           {
            "line": {
             "colorbar": {
              "outlinewidth": 0,
              "ticks": ""
             }
            },
            "marker": {
             "colorbar": {
              "outlinewidth": 0,
              "ticks": ""
             }
            },
            "type": "scatter3d"
           }
          ],
          "scattercarpet": [
           {
            "marker": {
             "colorbar": {
              "outlinewidth": 0,
              "ticks": ""
             }
            },
            "type": "scattercarpet"
           }
          ],
          "scattergeo": [
           {
            "marker": {
             "colorbar": {
              "outlinewidth": 0,
              "ticks": ""
             }
            },
            "type": "scattergeo"
           }
          ],
          "scattergl": [
           {
            "marker": {
             "colorbar": {
              "outlinewidth": 0,
              "ticks": ""
             }
            },
            "type": "scattergl"
           }
          ],
          "scattermapbox": [
           {
            "marker": {
             "colorbar": {
              "outlinewidth": 0,
              "ticks": ""
             }
            },
            "type": "scattermapbox"
           }
          ],
          "scatterpolar": [
           {
            "marker": {
             "colorbar": {
              "outlinewidth": 0,
              "ticks": ""
             }
            },
            "type": "scatterpolar"
           }
          ],
          "scatterpolargl": [
           {
            "marker": {
             "colorbar": {
              "outlinewidth": 0,
              "ticks": ""
             }
            },
            "type": "scatterpolargl"
           }
          ],
          "scatterternary": [
           {
            "marker": {
             "colorbar": {
              "outlinewidth": 0,
              "ticks": ""
             }
            },
            "type": "scatterternary"
           }
          ],
          "surface": [
           {
            "colorbar": {
             "outlinewidth": 0,
             "ticks": ""
            },
            "colorscale": [
             [
              0,
              "#0d0887"
             ],
             [
              0.1111111111111111,
              "#46039f"
             ],
             [
              0.2222222222222222,
              "#7201a8"
             ],
             [
              0.3333333333333333,
              "#9c179e"
             ],
             [
              0.4444444444444444,
              "#bd3786"
             ],
             [
              0.5555555555555556,
              "#d8576b"
             ],
             [
              0.6666666666666666,
              "#ed7953"
             ],
             [
              0.7777777777777778,
              "#fb9f3a"
             ],
             [
              0.8888888888888888,
              "#fdca26"
             ],
             [
              1,
              "#f0f921"
             ]
            ],
            "type": "surface"
           }
          ],
          "table": [
           {
            "cells": {
             "fill": {
              "color": "#EBF0F8"
             },
             "line": {
              "color": "white"
             }
            },
            "header": {
             "fill": {
              "color": "#C8D4E3"
             },
             "line": {
              "color": "white"
             }
            },
            "type": "table"
           }
          ]
         },
         "layout": {
          "annotationdefaults": {
           "arrowcolor": "#2a3f5f",
           "arrowhead": 0,
           "arrowwidth": 1
          },
          "autotypenumbers": "strict",
          "coloraxis": {
           "colorbar": {
            "outlinewidth": 0,
            "ticks": ""
           }
          },
          "colorscale": {
           "diverging": [
            [
             0,
             "#8e0152"
            ],
            [
             0.1,
             "#c51b7d"
            ],
            [
             0.2,
             "#de77ae"
            ],
            [
             0.3,
             "#f1b6da"
            ],
            [
             0.4,
             "#fde0ef"
            ],
            [
             0.5,
             "#f7f7f7"
            ],
            [
             0.6,
             "#e6f5d0"
            ],
            [
             0.7,
             "#b8e186"
            ],
            [
             0.8,
             "#7fbc41"
            ],
            [
             0.9,
             "#4d9221"
            ],
            [
             1,
             "#276419"
            ]
           ],
           "sequential": [
            [
             0,
             "#0d0887"
            ],
            [
             0.1111111111111111,
             "#46039f"
            ],
            [
             0.2222222222222222,
             "#7201a8"
            ],
            [
             0.3333333333333333,
             "#9c179e"
            ],
            [
             0.4444444444444444,
             "#bd3786"
            ],
            [
             0.5555555555555556,
             "#d8576b"
            ],
            [
             0.6666666666666666,
             "#ed7953"
            ],
            [
             0.7777777777777778,
             "#fb9f3a"
            ],
            [
             0.8888888888888888,
             "#fdca26"
            ],
            [
             1,
             "#f0f921"
            ]
           ],
           "sequentialminus": [
            [
             0,
             "#0d0887"
            ],
            [
             0.1111111111111111,
             "#46039f"
            ],
            [
             0.2222222222222222,
             "#7201a8"
            ],
            [
             0.3333333333333333,
             "#9c179e"
            ],
            [
             0.4444444444444444,
             "#bd3786"
            ],
            [
             0.5555555555555556,
             "#d8576b"
            ],
            [
             0.6666666666666666,
             "#ed7953"
            ],
            [
             0.7777777777777778,
             "#fb9f3a"
            ],
            [
             0.8888888888888888,
             "#fdca26"
            ],
            [
             1,
             "#f0f921"
            ]
           ]
          },
          "colorway": [
           "#636efa",
           "#EF553B",
           "#00cc96",
           "#ab63fa",
           "#FFA15A",
           "#19d3f3",
           "#FF6692",
           "#B6E880",
           "#FF97FF",
           "#FECB52"
          ],
          "font": {
           "color": "#2a3f5f"
          },
          "geo": {
           "bgcolor": "white",
           "lakecolor": "white",
           "landcolor": "#E5ECF6",
           "showlakes": true,
           "showland": true,
           "subunitcolor": "white"
          },
          "hoverlabel": {
           "align": "left"
          },
          "hovermode": "closest",
          "mapbox": {
           "style": "light"
          },
          "paper_bgcolor": "white",
          "plot_bgcolor": "#E5ECF6",
          "polar": {
           "angularaxis": {
            "gridcolor": "white",
            "linecolor": "white",
            "ticks": ""
           },
           "bgcolor": "#E5ECF6",
           "radialaxis": {
            "gridcolor": "white",
            "linecolor": "white",
            "ticks": ""
           }
          },
          "scene": {
           "xaxis": {
            "backgroundcolor": "#E5ECF6",
            "gridcolor": "white",
            "gridwidth": 2,
            "linecolor": "white",
            "showbackground": true,
            "ticks": "",
            "zerolinecolor": "white"
           },
           "yaxis": {
            "backgroundcolor": "#E5ECF6",
            "gridcolor": "white",
            "gridwidth": 2,
            "linecolor": "white",
            "showbackground": true,
            "ticks": "",
            "zerolinecolor": "white"
           },
           "zaxis": {
            "backgroundcolor": "#E5ECF6",
            "gridcolor": "white",
            "gridwidth": 2,
            "linecolor": "white",
            "showbackground": true,
            "ticks": "",
            "zerolinecolor": "white"
           }
          },
          "shapedefaults": {
           "line": {
            "color": "#2a3f5f"
           }
          },
          "ternary": {
           "aaxis": {
            "gridcolor": "white",
            "linecolor": "white",
            "ticks": ""
           },
           "baxis": {
            "gridcolor": "white",
            "linecolor": "white",
            "ticks": ""
           },
           "bgcolor": "#E5ECF6",
           "caxis": {
            "gridcolor": "white",
            "linecolor": "white",
            "ticks": ""
           }
          },
          "title": {
           "x": 0.05
          },
          "xaxis": {
           "automargin": true,
           "gridcolor": "white",
           "linecolor": "white",
           "ticks": "",
           "title": {
            "standoff": 15
           },
           "zerolinecolor": "white",
           "zerolinewidth": 2
          },
          "yaxis": {
           "automargin": true,
           "gridcolor": "white",
           "linecolor": "white",
           "ticks": "",
           "title": {
            "standoff": 15
           },
           "zerolinecolor": "white",
           "zerolinewidth": 2
          }
         }
        },
        "title": {
         "text": "•\tCorrelation between service duration and kilometers driven during repair period",
         "x": 0.5
        },
        "xaxis": {
         "anchor": "y",
         "domain": [
          0,
          1
         ],
         "title": {
          "text": "KMs Diff"
         }
        },
        "yaxis": {
         "anchor": "x",
         "domain": [
          0,
          1
         ],
         "title": {
          "text": "service_duration"
         }
        }
       }
      },
      "text/html": [
       "<div>                            <div id=\"f0b2f7fb-b85a-47e9-b707-49bc3d766e89\" class=\"plotly-graph-div\" style=\"height:525px; width:100%;\"></div>            <script type=\"text/javascript\">                require([\"plotly\"], function(Plotly) {                    window.PLOTLYENV=window.PLOTLYENV || {};                                    if (document.getElementById(\"f0b2f7fb-b85a-47e9-b707-49bc3d766e89\")) {                    Plotly.newPlot(                        \"f0b2f7fb-b85a-47e9-b707-49bc3d766e89\",                        [{\"hovertemplate\":\"KMs Diff=%{marker.color}\\u003cbr\\u003eservice_duration=%{y}\\u003cextra\\u003e\\u003c\\u002fextra\\u003e\",\"legendgroup\":\"\",\"marker\":{\"color\":[15,0,9,20,15,10,11,8,16,11,10,19,22,9,6,9,12,13,11,22,17,9,6,13,5,5,3,9,5,5,5,5,5,5,5,5,5,5,5,5,5,5,5,5,5,5,5,5,5,5,5,5,5,5,5,5,5,5,5,5,5,5,5,9,5,5,5,6,5,5,5,5,5,10,13,9,41,12,14,32,7,6,10,9,10,10,10,10,10,10,10,10,10,10,10,10,10,9,10,10,10,10,13,10,9,10,13,8,10,13,10,7,14,18,19,18,9,13,14,11,5,17,16,5,5,12,12,15,12,16,27,12,12,11,9,6,23,7,9,71,11,9,13,15,9,8,18,16,9,20,9,17,11,5,13,23,10,9,9,14,9,15,13,14,10,5,8,18,22,9,25,7,38,20,6,7,4,5,9,14,11,11,10,14,10,8,22,9,22,14,10,10,16,10,7,10,24,8,5,19,30,8,8,19,11,4,15,24,16,9,55,5,9,9,14,10,9,10,10,10,10,10,10,10,14,16,23,6,15,28,16,38,9,16,30,15,17,4,8,9,19,9,10,29,17,12,15,9,18,6,15,13,15,10,10,10,9,10,10,10,10,10,10,10,9,9,9,9,9,9,9,9,9,9,9,9,9,9,9,9,19,9,9,9,9,9,9,9,9,9,9,9,9,9,9,9,9,9,9,9,9,9,9,9,9,9,9,9,9,9,9,9,9,9,9,9,9,9,9,7,6,5,15,4,5,9,6,7,8,4,9,9,8,6,5,6,9,9,10,8,5,5,13,8,7,5,32,8,8,8,8,6,9,6,6,8,8,6,8,8,8,8,8,10,6,13,8,7,9,8,10,7,8,8,9,8,7,58,8,10,9,9,11,9,8,19,5,11,17,9,9,9,9,10,10,8,9,10,9,14,9,10,13,10,7,8,5,7,7,7,5,9,11,11,11,9,7,9,14,12,14,10,11,8,8,10,10,8,9,10,7,9,8,7,9,7,6,14,17,30,9,11,12,7,16,15,19,17,9,10,11,16,6,6,7,4,4,14,5,5,5,5,5,12,8,5,5,14,9,5,5,9,8,9,9,5,7,7,9,5,6,7,5,5,4,5,5,7,3,5,5,7,8,9,6,7,10,9,9,10,9,9,9,9,9,9,9,9,9,9,9,9,9,9,9,9,9,9,10,9,9,9,9,9,9,9,9,9,9,9,9,5,5,7,9,4,5,6,5,5,10,8,8,5,9,9,8,6,9,14,5,6,7,9,6,6,8,4,9,12,6,8,10,9,10,5,9,5,7,6,11,5,5,7,6,7,9,5,8,7,12,10,10,7,25,10,10,10,7,6,4,9,5,9,9,9,9,5,5,5,9,6,5,5,4,5,7,9,7,10,6,9,9,5,9,5,6,7,15,4,5,7,7,5,5,5,5,4,5,5,7,5,5,6,6,15,6,8,8,5,5,6,6,9,5,6,6,7,4,6,5,4,6,4,6,7,5,6,9,4,8,10,10,9,6,9,6,9,7,9,9,7,5,11,10,7,6,7,10,8,5,8,9,9,7,5,5,8,8,6,8,5,9,9,6,5,7,6,8,7,3,5,9,6,7,4,10,9,5,7,6,8,9,7,9,8,6,8,8,5,7,6,5,7,6,7,6,9,7,5,10,5,4,8,4,6,6,7,6,6,5,4,6,7,9,7,5,5,7,4,4,8,7,6,9,6,5,9,6,7,7,7,8,5,8,6,4,4,12,11,13,4,10,8,7,6,7,7,6,9,9,9,7,5,8,8,7,6,9,6,6,4,9,10,7,5,10,9,7,8,8,7,8,5,8,6,5,4,6,4,7,8,7,5,7,8,6,7,9,5,6,6,8,5,6,6,5,6,6,5,8,8,8,5,7,5,5,8,5,6,4,5,7,7,6,9,7,5,7,7,7,5,7,5,8,6,7,6,7,7,6,4,7,6,6,5,6,7,7,9,9,9,7,9,10,6,9,7,7,5,6,6,7,7,7,7,6,6,5,6,7,7,8,6,9,6,8,8,7,9,8,8,9,8,6,6,5,5,5,8,7,9,5,9,12,7,9,9,7,5,7,7,7,6,8,5,5,5,5,5,5,5,5,5,6,9,6,6,5,6,9,7,8,5,10,8,9,6,9,13,9,8,9,7,8,7,10,7,9,8,7,7,9,5,9,10,11,8,8,9,7,10,9,11,9,12,9,8,9,8,11,7,9,8,8,6,9,50,9,9,9,8,9,10,8,10,9,9,9,9,9,8,13,10,10,8,7,6,7,9,8,18,9,10,11,9,8,6,6,9,7,10,7,9,11,7,12,6,9,9,9,9,9,10,8,11,7,9,6,6,8,8,10,10,9,9,9,10,10,14,9,5,13,8,9,7,9,8,10,9,9,10,9,9,11,9,10,9,9,9,9,9,9,7,10,10,9,12,11,12,8,10,10,9,9,12,10,12,10,9,8,10,7,8,10,8,8,8,11,9,9,8,10,9,14,8,8,9,13,9,7,11,11,7,6,8,9,9,7,9,8,9,6,9,10,8,11,2,9,8,9,7,11,10,13,7,6,7,7,8,7,10,8,9,7,8,15,11,7,9,8,7,8,11,10,10,8,9,9,10,9,10,9,10,9,10,9,10,10,10,10,8,10,10,9,9,9,9,11,9,15,8,9,11,11,12,11,6,8,11,7,7,12,12,9,10,8,8,7,9,8,10,8,9,9,7,11,9,10,9,8,9,9,8,7,8,13,9,15,11,9,7,9,8,11,9,8,10,8,8,10,9,7,10,10,11,8,8,11,9,8,8,7,6,8,14,9,11,5,8,9,12,8,7,9,9,9,9,11,7,9,8,9,7,9,8,9,7,8,9,8,7,13,7,7,9,8,11,9,9,11,11,9,9,9,10,7,8,8,11,10,7,9,8,5,8,7,10,7,8,11,13,8,9,9,9,9,12,9,10,9,8,7,8,5,9,7,10,11,6,8,10,8,11,9,9,7,9,8,7,8,9,7,8,5,9,7,12,7,8,7,6,9,7,9,15,7,8,10,6,8,7,11,6,7,8,10,6,9,10,7,10,16,6,6,6,6,6,6,6,9,6,6,5,4,7,19,9,3,12,3,26,9,9,9,4,11,24,15,17,20,4,3,5,12,5,20,5,8,4,12,8,4,10,9,6,4,4,9,7,9,5,5,8,5,9,12,8,3,5,5,4,9,11,9,15,8,9,34,4,9,9,9,13,9,18,17,6,8,7,8,7,9,23,5,9,9,6,18,9,42,7,7,9,9,9,9,4,4,8,4,2,4,7,18,9,9,10,12,9,6,4,4,8,8,32,11,11,4,15,3,29,1,9,3,4,4,3,15,4,25,4,9,15,3,4,5,8,8],\"coloraxis\":\"coloraxis\",\"symbol\":\"circle\"},\"mode\":\"markers\",\"name\":\"\",\"showlegend\":false,\"x\":[15,0,9,20,15,10,11,8,16,11,10,19,22,9,6,9,12,13,11,22,17,9,6,13,5,5,3,9,5,5,5,5,5,5,5,5,5,5,5,5,5,5,5,5,5,5,5,5,5,5,5,5,5,5,5,5,5,5,5,5,5,5,5,9,5,5,5,6,5,5,5,5,5,10,13,9,41,12,14,32,7,6,10,9,10,10,10,10,10,10,10,10,10,10,10,10,10,9,10,10,10,10,13,10,9,10,13,8,10,13,10,7,14,18,19,18,9,13,14,11,5,17,16,5,5,12,12,15,12,16,27,12,12,11,9,6,23,7,9,71,11,9,13,15,9,8,18,16,9,20,9,17,11,5,13,23,10,9,9,14,9,15,13,14,10,5,8,18,22,9,25,7,38,20,6,7,4,5,9,14,11,11,10,14,10,8,22,9,22,14,10,10,16,10,7,10,24,8,5,19,30,8,8,19,11,4,15,24,16,9,55,5,9,9,14,10,9,10,10,10,10,10,10,10,14,16,23,6,15,28,16,38,9,16,30,15,17,4,8,9,19,9,10,29,17,12,15,9,18,6,15,13,15,10,10,10,9,10,10,10,10,10,10,10,9,9,9,9,9,9,9,9,9,9,9,9,9,9,9,9,19,9,9,9,9,9,9,9,9,9,9,9,9,9,9,9,9,9,9,9,9,9,9,9,9,9,9,9,9,9,9,9,9,9,9,9,9,9,9,7,6,5,15,4,5,9,6,7,8,4,9,9,8,6,5,6,9,9,10,8,5,5,13,8,7,5,32,8,8,8,8,6,9,6,6,8,8,6,8,8,8,8,8,10,6,13,8,7,9,8,10,7,8,8,9,8,7,58,8,10,9,9,11,9,8,19,5,11,17,9,9,9,9,10,10,8,9,10,9,14,9,10,13,10,7,8,5,7,7,7,5,9,11,11,11,9,7,9,14,12,14,10,11,8,8,10,10,8,9,10,7,9,8,7,9,7,6,14,17,30,9,11,12,7,16,15,19,17,9,10,11,16,6,6,7,4,4,14,5,5,5,5,5,12,8,5,5,14,9,5,5,9,8,9,9,5,7,7,9,5,6,7,5,5,4,5,5,7,3,5,5,7,8,9,6,7,10,9,9,10,9,9,9,9,9,9,9,9,9,9,9,9,9,9,9,9,9,9,10,9,9,9,9,9,9,9,9,9,9,9,9,5,5,7,9,4,5,6,5,5,10,8,8,5,9,9,8,6,9,14,5,6,7,9,6,6,8,4,9,12,6,8,10,9,10,5,9,5,7,6,11,5,5,7,6,7,9,5,8,7,12,10,10,7,25,10,10,10,7,6,4,9,5,9,9,9,9,5,5,5,9,6,5,5,4,5,7,9,7,10,6,9,9,5,9,5,6,7,15,4,5,7,7,5,5,5,5,4,5,5,7,5,5,6,6,15,6,8,8,5,5,6,6,9,5,6,6,7,4,6,5,4,6,4,6,7,5,6,9,4,8,10,10,9,6,9,6,9,7,9,9,7,5,11,10,7,6,7,10,8,5,8,9,9,7,5,5,8,8,6,8,5,9,9,6,5,7,6,8,7,3,5,9,6,7,4,10,9,5,7,6,8,9,7,9,8,6,8,8,5,7,6,5,7,6,7,6,9,7,5,10,5,4,8,4,6,6,7,6,6,5,4,6,7,9,7,5,5,7,4,4,8,7,6,9,6,5,9,6,7,7,7,8,5,8,6,4,4,12,11,13,4,10,8,7,6,7,7,6,9,9,9,7,5,8,8,7,6,9,6,6,4,9,10,7,5,10,9,7,8,8,7,8,5,8,6,5,4,6,4,7,8,7,5,7,8,6,7,9,5,6,6,8,5,6,6,5,6,6,5,8,8,8,5,7,5,5,8,5,6,4,5,7,7,6,9,7,5,7,7,7,5,7,5,8,6,7,6,7,7,6,4,7,6,6,5,6,7,7,9,9,9,7,9,10,6,9,7,7,5,6,6,7,7,7,7,6,6,5,6,7,7,8,6,9,6,8,8,7,9,8,8,9,8,6,6,5,5,5,8,7,9,5,9,12,7,9,9,7,5,7,7,7,6,8,5,5,5,5,5,5,5,5,5,6,9,6,6,5,6,9,7,8,5,10,8,9,6,9,13,9,8,9,7,8,7,10,7,9,8,7,7,9,5,9,10,11,8,8,9,7,10,9,11,9,12,9,8,9,8,11,7,9,8,8,6,9,50,9,9,9,8,9,10,8,10,9,9,9,9,9,8,13,10,10,8,7,6,7,9,8,18,9,10,11,9,8,6,6,9,7,10,7,9,11,7,12,6,9,9,9,9,9,10,8,11,7,9,6,6,8,8,10,10,9,9,9,10,10,14,9,5,13,8,9,7,9,8,10,9,9,10,9,9,11,9,10,9,9,9,9,9,9,7,10,10,9,12,11,12,8,10,10,9,9,12,10,12,10,9,8,10,7,8,10,8,8,8,11,9,9,8,10,9,14,8,8,9,13,9,7,11,11,7,6,8,9,9,7,9,8,9,6,9,10,8,11,2,9,8,9,7,11,10,13,7,6,7,7,8,7,10,8,9,7,8,15,11,7,9,8,7,8,11,10,10,8,9,9,10,9,10,9,10,9,10,9,10,10,10,10,8,10,10,9,9,9,9,11,9,15,8,9,11,11,12,11,6,8,11,7,7,12,12,9,10,8,8,7,9,8,10,8,9,9,7,11,9,10,9,8,9,9,8,7,8,13,9,15,11,9,7,9,8,11,9,8,10,8,8,10,9,7,10,10,11,8,8,11,9,8,8,7,6,8,14,9,11,5,8,9,12,8,7,9,9,9,9,11,7,9,8,9,7,9,8,9,7,8,9,8,7,13,7,7,9,8,11,9,9,11,11,9,9,9,10,7,8,8,11,10,7,9,8,5,8,7,10,7,8,11,13,8,9,9,9,9,12,9,10,9,8,7,8,5,9,7,10,11,6,8,10,8,11,9,9,7,9,8,7,8,9,7,8,5,9,7,12,7,8,7,6,9,7,9,15,7,8,10,6,8,7,11,6,7,8,10,6,9,10,7,10,16,6,6,6,6,6,6,6,9,6,6,5,4,7,19,9,3,12,3,26,9,9,9,4,11,24,15,17,20,4,3,5,12,5,20,5,8,4,12,8,4,10,9,6,4,4,9,7,9,5,5,8,5,9,12,8,3,5,5,4,9,11,9,15,8,9,34,4,9,9,9,13,9,18,17,6,8,7,8,7,9,23,5,9,9,6,18,9,42,7,7,9,9,9,9,4,4,8,4,2,4,7,18,9,9,10,12,9,6,4,4,8,8,32,11,11,4,15,3,29,1,9,3,4,4,3,15,4,25,4,9,15,3,4,5,8,8],\"xaxis\":\"x\",\"y\":[5,5,11,6,6,8,1,1,1,1,1,2,4,1,10,6,1,1,1,1,1,1,1,1,1,1,1,1,1,1,1,1,1,1,1,1,1,1,1,1,1,1,1,1,1,1,1,1,1,1,1,1,1,1,1,1,1,13,1,1,1,1,2,1,1,1,1,1,1,1,1,3,1,17,1,1,2,1,1,1,4,1,1,1,1,1,1,1,1,1,1,1,1,1,1,1,1,1,1,1,1,1,1,1,1,1,1,1,1,1,1,1,1,1,1,1,1,1,1,1,6,1,9,1,1,1,1,1,1,1,1,1,1,1,1,1,1,4,1,1,1,12,1,1,1,1,1,4,3,1,30,1,1,1,4,11,1,1,1,1,1,1,1,14,8,1,1,70,1,11,5,18,2,5,1,1,1,1,1,1,1,1,1,1,1,4,1,3,1,1,1,1,1,1,1,1,1,1,4,1,5,1,57,1,2,2,2,1,1,3,1,2,1,2,1,1,1,1,1,1,1,1,1,1,1,6,1,4,1,1,1,4,1,3,1,1,1,3,3,7,1,1,2,1,1,1,1,5,1,1,8,1,1,1,1,1,1,1,1,1,1,1,1,1,1,1,1,1,1,4,5,1,1,1,1,1,1,1,1,1,1,32,3,1,1,1,1,1,1,1,1,1,3,1,1,1,1,1,1,1,1,1,1,1,1,1,1,1,1,1,1,1,1,1,1,1,1,1,1,1,1,1,11,1,1,9,1,1,1,1,1,1,1,1,1,3,7,3,2,1,1,1,1,1,1,1,1,1,1,1,1,1,1,1,1,1,1,1,1,1,1,1,1,1,10,1,1,1,1,1,2,3,1,1,2,2,1,1,1,2,7,1,1,1,1,1,1,1,14,3,7,11,6,7,5,5,8,1,1,1,1,1,1,1,1,1,4,1,1,3,4,1,1,4,1,1,1,1,1,2,1,1,1,2,1,1,1,1,2,1,1,1,1,2,1,1,1,1,1,1,1,1,2,2,7,6,7,1,1,2,1,1,8,1,2,1,3,4,1,1,1,7,1,1,1,2,1,1,2,1,2,3,2,1,1,8,1,1,1,1,1,1,1,1,1,2,1,1,1,1,6,1,1,1,5,11,1,1,1,1,1,1,1,1,1,1,1,1,1,1,1,1,1,1,1,1,1,1,1,1,1,1,1,1,1,1,1,1,1,1,1,3,11,1,6,6,1,1,1,1,1,1,14,2,1,1,6,1,1,1,1,1,1,1,1,1,1,1,6,3,1,4,2,1,1,1,2,1,1,1,1,1,1,2,2,5,5,1,1,5,1,1,1,5,1,1,1,2,1,1,1,1,1,1,1,1,1,1,1,1,1,1,1,1,1,1,1,1,4,2,7,1,1,1,1,6,4,7,2,24,1,1,7,3,3,1,1,1,1,2,1,1,1,1,1,6,1,7,4,1,1,1,1,11,1,1,1,7,4,1,1,1,1,1,1,1,1,1,1,7,1,1,1,1,1,1,1,1,1,1,1,1,1,1,1,1,5,6,1,1,1,1,1,1,1,1,1,1,1,1,1,1,1,1,1,1,1,1,1,1,1,1,1,1,6,1,6,1,1,1,1,1,1,1,1,1,1,8,1,1,9,8,1,1,1,1,1,1,1,1,1,1,1,1,1,1,1,1,1,1,5,1,1,1,1,1,1,4,1,1,3,4,1,1,4,1,1,1,1,1,1,1,1,1,1,1,5,6,5,1,1,1,1,1,1,1,1,1,1,1,1,1,1,1,1,1,1,1,1,1,12,7,7,1,7,1,1,1,1,1,1,1,1,1,1,1,1,1,1,1,1,1,1,1,1,1,1,1,1,1,1,1,1,1,1,1,1,1,1,1,1,1,1,1,1,1,1,1,1,1,1,1,1,1,1,1,1,1,1,1,1,1,1,1,1,8,1,1,1,6,1,1,1,1,9,1,1,1,1,1,3,1,1,1,1,1,1,1,1,1,1,1,5,1,1,1,1,1,1,1,1,1,1,4,6,1,1,1,1,4,1,1,1,1,1,1,1,1,1,1,1,1,1,1,1,1,1,1,1,1,1,1,1,1,1,1,7,1,1,1,1,1,1,1,1,1,1,1,1,1,1,1,1,1,1,1,1,1,1,1,1,1,1,1,1,1,1,1,1,1,4,1,1,1,1,1,1,1,1,1,1,1,1,1,1,1,1,1,1,1,1,1,1,1,1,5,1,1,1,1,1,1,1,1,1,1,1,1,1,1,1,1,1,1,1,1,1,1,1,1,1,1,1,1,1,1,1,1,1,1,1,5,1,1,1,1,1,1,1,1,1,1,1,1,1,1,1,6,1,1,1,1,1,1,1,1,1,1,1,5,1,2,1,1,1,1,1,1,1,1,1,1,1,1,1,1,1,1,1,1,1,1,1,1,1,1,1,1,1,1,1,1,1,1,1,1,1,1,1,1,1,1,1,1,1,1,1,1,1,1,1,1,5,5,1,1,1,1,1,1,1,1,1,1,1,1,1,1,1,1,1,1,1,1,1,1,1,1,1,1,1,1,1,1,1,1,1,1,1,1,1,5,1,1,1,1,1,1,1,1,1,1,1,1,1,1,1,1,1,1,1,1,1,1,1,1,1,1,1,1,1,1,1,1,1,1,1,1,1,1,1,1,1,1,1,1,1,1,1,1,1,1,1,1,1,1,4,4,1,1,1,1,1,1,1,1,1,1,1,1,1,1,1,1,1,1,1,1,1,1,1,5,1,1,1,1,1,1,1,1,1,1,1,1,1,1,1,1,1,1,1,1,1,1,6,1,1,1,1,1,1,1,1,1,1,1,1,1,1,1,1,1,1,1,1,1,1,1,1,1,1,1,1,1,1,1,1,1,1,1,1,1,1,1,1,5,1,1,1,1,1,1,1,1,5,1,1,1,1,1,1,1,1,4,3,5,5,6,4,4,4,3,4,5,4,4,5,4,5,4,4,5,3,1,1,1,1,1,1,1,5,7,7,8,6,1,1,5,1,5,4,1,1,5,5,4,1,1,1,1,1,1,1,1,1,1,1,1,1,1,5,6,7,1,1,1,1,1,1,1,1,1,1,1,1,1,1,1,1,1,1,1,1,1,1,1,1,1,1,1,1,1,17,5,4,1,1,1,1,1,1,1,1,6,1,1,1,1,1,1,1,1,1,8,1,1,11,11,1,1,1,1,1,6,6,1,1,1,1,1,7,1,1,1,1,1,1,1,1,1,8,1,1,1,1,1,1,9,5,4,2,11,7,1,1,1,1,1,1,1,1,1,1,8,8,8,7,6,1,1,1,1,1,9,6,7,7,8,1,1,1,1,1,1,1,1,1,1,9,1,1,1,1,1,1,1,8,4,1],\"yaxis\":\"y\",\"type\":\"scattergl\"}],                        {\"template\":{\"data\":{\"histogram2dcontour\":[{\"type\":\"histogram2dcontour\",\"colorbar\":{\"outlinewidth\":0,\"ticks\":\"\"},\"colorscale\":[[0.0,\"#0d0887\"],[0.1111111111111111,\"#46039f\"],[0.2222222222222222,\"#7201a8\"],[0.3333333333333333,\"#9c179e\"],[0.4444444444444444,\"#bd3786\"],[0.5555555555555556,\"#d8576b\"],[0.6666666666666666,\"#ed7953\"],[0.7777777777777778,\"#fb9f3a\"],[0.8888888888888888,\"#fdca26\"],[1.0,\"#f0f921\"]]}],\"choropleth\":[{\"type\":\"choropleth\",\"colorbar\":{\"outlinewidth\":0,\"ticks\":\"\"}}],\"histogram2d\":[{\"type\":\"histogram2d\",\"colorbar\":{\"outlinewidth\":0,\"ticks\":\"\"},\"colorscale\":[[0.0,\"#0d0887\"],[0.1111111111111111,\"#46039f\"],[0.2222222222222222,\"#7201a8\"],[0.3333333333333333,\"#9c179e\"],[0.4444444444444444,\"#bd3786\"],[0.5555555555555556,\"#d8576b\"],[0.6666666666666666,\"#ed7953\"],[0.7777777777777778,\"#fb9f3a\"],[0.8888888888888888,\"#fdca26\"],[1.0,\"#f0f921\"]]}],\"heatmap\":[{\"type\":\"heatmap\",\"colorbar\":{\"outlinewidth\":0,\"ticks\":\"\"},\"colorscale\":[[0.0,\"#0d0887\"],[0.1111111111111111,\"#46039f\"],[0.2222222222222222,\"#7201a8\"],[0.3333333333333333,\"#9c179e\"],[0.4444444444444444,\"#bd3786\"],[0.5555555555555556,\"#d8576b\"],[0.6666666666666666,\"#ed7953\"],[0.7777777777777778,\"#fb9f3a\"],[0.8888888888888888,\"#fdca26\"],[1.0,\"#f0f921\"]]}],\"heatmapgl\":[{\"type\":\"heatmapgl\",\"colorbar\":{\"outlinewidth\":0,\"ticks\":\"\"},\"colorscale\":[[0.0,\"#0d0887\"],[0.1111111111111111,\"#46039f\"],[0.2222222222222222,\"#7201a8\"],[0.3333333333333333,\"#9c179e\"],[0.4444444444444444,\"#bd3786\"],[0.5555555555555556,\"#d8576b\"],[0.6666666666666666,\"#ed7953\"],[0.7777777777777778,\"#fb9f3a\"],[0.8888888888888888,\"#fdca26\"],[1.0,\"#f0f921\"]]}],\"contourcarpet\":[{\"type\":\"contourcarpet\",\"colorbar\":{\"outlinewidth\":0,\"ticks\":\"\"}}],\"contour\":[{\"type\":\"contour\",\"colorbar\":{\"outlinewidth\":0,\"ticks\":\"\"},\"colorscale\":[[0.0,\"#0d0887\"],[0.1111111111111111,\"#46039f\"],[0.2222222222222222,\"#7201a8\"],[0.3333333333333333,\"#9c179e\"],[0.4444444444444444,\"#bd3786\"],[0.5555555555555556,\"#d8576b\"],[0.6666666666666666,\"#ed7953\"],[0.7777777777777778,\"#fb9f3a\"],[0.8888888888888888,\"#fdca26\"],[1.0,\"#f0f921\"]]}],\"surface\":[{\"type\":\"surface\",\"colorbar\":{\"outlinewidth\":0,\"ticks\":\"\"},\"colorscale\":[[0.0,\"#0d0887\"],[0.1111111111111111,\"#46039f\"],[0.2222222222222222,\"#7201a8\"],[0.3333333333333333,\"#9c179e\"],[0.4444444444444444,\"#bd3786\"],[0.5555555555555556,\"#d8576b\"],[0.6666666666666666,\"#ed7953\"],[0.7777777777777778,\"#fb9f3a\"],[0.8888888888888888,\"#fdca26\"],[1.0,\"#f0f921\"]]}],\"mesh3d\":[{\"type\":\"mesh3d\",\"colorbar\":{\"outlinewidth\":0,\"ticks\":\"\"}}],\"scatter\":[{\"fillpattern\":{\"fillmode\":\"overlay\",\"size\":10,\"solidity\":0.2},\"type\":\"scatter\"}],\"parcoords\":[{\"type\":\"parcoords\",\"line\":{\"colorbar\":{\"outlinewidth\":0,\"ticks\":\"\"}}}],\"scatterpolargl\":[{\"type\":\"scatterpolargl\",\"marker\":{\"colorbar\":{\"outlinewidth\":0,\"ticks\":\"\"}}}],\"bar\":[{\"error_x\":{\"color\":\"#2a3f5f\"},\"error_y\":{\"color\":\"#2a3f5f\"},\"marker\":{\"line\":{\"color\":\"#E5ECF6\",\"width\":0.5},\"pattern\":{\"fillmode\":\"overlay\",\"size\":10,\"solidity\":0.2}},\"type\":\"bar\"}],\"scattergeo\":[{\"type\":\"scattergeo\",\"marker\":{\"colorbar\":{\"outlinewidth\":0,\"ticks\":\"\"}}}],\"scatterpolar\":[{\"type\":\"scatterpolar\",\"marker\":{\"colorbar\":{\"outlinewidth\":0,\"ticks\":\"\"}}}],\"histogram\":[{\"marker\":{\"pattern\":{\"fillmode\":\"overlay\",\"size\":10,\"solidity\":0.2}},\"type\":\"histogram\"}],\"scattergl\":[{\"type\":\"scattergl\",\"marker\":{\"colorbar\":{\"outlinewidth\":0,\"ticks\":\"\"}}}],\"scatter3d\":[{\"type\":\"scatter3d\",\"line\":{\"colorbar\":{\"outlinewidth\":0,\"ticks\":\"\"}},\"marker\":{\"colorbar\":{\"outlinewidth\":0,\"ticks\":\"\"}}}],\"scattermapbox\":[{\"type\":\"scattermapbox\",\"marker\":{\"colorbar\":{\"outlinewidth\":0,\"ticks\":\"\"}}}],\"scatterternary\":[{\"type\":\"scatterternary\",\"marker\":{\"colorbar\":{\"outlinewidth\":0,\"ticks\":\"\"}}}],\"scattercarpet\":[{\"type\":\"scattercarpet\",\"marker\":{\"colorbar\":{\"outlinewidth\":0,\"ticks\":\"\"}}}],\"carpet\":[{\"aaxis\":{\"endlinecolor\":\"#2a3f5f\",\"gridcolor\":\"white\",\"linecolor\":\"white\",\"minorgridcolor\":\"white\",\"startlinecolor\":\"#2a3f5f\"},\"baxis\":{\"endlinecolor\":\"#2a3f5f\",\"gridcolor\":\"white\",\"linecolor\":\"white\",\"minorgridcolor\":\"white\",\"startlinecolor\":\"#2a3f5f\"},\"type\":\"carpet\"}],\"table\":[{\"cells\":{\"fill\":{\"color\":\"#EBF0F8\"},\"line\":{\"color\":\"white\"}},\"header\":{\"fill\":{\"color\":\"#C8D4E3\"},\"line\":{\"color\":\"white\"}},\"type\":\"table\"}],\"barpolar\":[{\"marker\":{\"line\":{\"color\":\"#E5ECF6\",\"width\":0.5},\"pattern\":{\"fillmode\":\"overlay\",\"size\":10,\"solidity\":0.2}},\"type\":\"barpolar\"}],\"pie\":[{\"automargin\":true,\"type\":\"pie\"}]},\"layout\":{\"autotypenumbers\":\"strict\",\"colorway\":[\"#636efa\",\"#EF553B\",\"#00cc96\",\"#ab63fa\",\"#FFA15A\",\"#19d3f3\",\"#FF6692\",\"#B6E880\",\"#FF97FF\",\"#FECB52\"],\"font\":{\"color\":\"#2a3f5f\"},\"hovermode\":\"closest\",\"hoverlabel\":{\"align\":\"left\"},\"paper_bgcolor\":\"white\",\"plot_bgcolor\":\"#E5ECF6\",\"polar\":{\"bgcolor\":\"#E5ECF6\",\"angularaxis\":{\"gridcolor\":\"white\",\"linecolor\":\"white\",\"ticks\":\"\"},\"radialaxis\":{\"gridcolor\":\"white\",\"linecolor\":\"white\",\"ticks\":\"\"}},\"ternary\":{\"bgcolor\":\"#E5ECF6\",\"aaxis\":{\"gridcolor\":\"white\",\"linecolor\":\"white\",\"ticks\":\"\"},\"baxis\":{\"gridcolor\":\"white\",\"linecolor\":\"white\",\"ticks\":\"\"},\"caxis\":{\"gridcolor\":\"white\",\"linecolor\":\"white\",\"ticks\":\"\"}},\"coloraxis\":{\"colorbar\":{\"outlinewidth\":0,\"ticks\":\"\"}},\"colorscale\":{\"sequential\":[[0.0,\"#0d0887\"],[0.1111111111111111,\"#46039f\"],[0.2222222222222222,\"#7201a8\"],[0.3333333333333333,\"#9c179e\"],[0.4444444444444444,\"#bd3786\"],[0.5555555555555556,\"#d8576b\"],[0.6666666666666666,\"#ed7953\"],[0.7777777777777778,\"#fb9f3a\"],[0.8888888888888888,\"#fdca26\"],[1.0,\"#f0f921\"]],\"sequentialminus\":[[0.0,\"#0d0887\"],[0.1111111111111111,\"#46039f\"],[0.2222222222222222,\"#7201a8\"],[0.3333333333333333,\"#9c179e\"],[0.4444444444444444,\"#bd3786\"],[0.5555555555555556,\"#d8576b\"],[0.6666666666666666,\"#ed7953\"],[0.7777777777777778,\"#fb9f3a\"],[0.8888888888888888,\"#fdca26\"],[1.0,\"#f0f921\"]],\"diverging\":[[0,\"#8e0152\"],[0.1,\"#c51b7d\"],[0.2,\"#de77ae\"],[0.3,\"#f1b6da\"],[0.4,\"#fde0ef\"],[0.5,\"#f7f7f7\"],[0.6,\"#e6f5d0\"],[0.7,\"#b8e186\"],[0.8,\"#7fbc41\"],[0.9,\"#4d9221\"],[1,\"#276419\"]]},\"xaxis\":{\"gridcolor\":\"white\",\"linecolor\":\"white\",\"ticks\":\"\",\"title\":{\"standoff\":15},\"zerolinecolor\":\"white\",\"automargin\":true,\"zerolinewidth\":2},\"yaxis\":{\"gridcolor\":\"white\",\"linecolor\":\"white\",\"ticks\":\"\",\"title\":{\"standoff\":15},\"zerolinecolor\":\"white\",\"automargin\":true,\"zerolinewidth\":2},\"scene\":{\"xaxis\":{\"backgroundcolor\":\"#E5ECF6\",\"gridcolor\":\"white\",\"linecolor\":\"white\",\"showbackground\":true,\"ticks\":\"\",\"zerolinecolor\":\"white\",\"gridwidth\":2},\"yaxis\":{\"backgroundcolor\":\"#E5ECF6\",\"gridcolor\":\"white\",\"linecolor\":\"white\",\"showbackground\":true,\"ticks\":\"\",\"zerolinecolor\":\"white\",\"gridwidth\":2},\"zaxis\":{\"backgroundcolor\":\"#E5ECF6\",\"gridcolor\":\"white\",\"linecolor\":\"white\",\"showbackground\":true,\"ticks\":\"\",\"zerolinecolor\":\"white\",\"gridwidth\":2}},\"shapedefaults\":{\"line\":{\"color\":\"#2a3f5f\"}},\"annotationdefaults\":{\"arrowcolor\":\"#2a3f5f\",\"arrowhead\":0,\"arrowwidth\":1},\"geo\":{\"bgcolor\":\"white\",\"landcolor\":\"#E5ECF6\",\"subunitcolor\":\"white\",\"showland\":true,\"showlakes\":true,\"lakecolor\":\"white\"},\"title\":{\"x\":0.05},\"mapbox\":{\"style\":\"light\"}}},\"xaxis\":{\"anchor\":\"y\",\"domain\":[0.0,1.0],\"title\":{\"text\":\"KMs Diff\"}},\"yaxis\":{\"anchor\":\"x\",\"domain\":[0.0,1.0],\"title\":{\"text\":\"service_duration\"}},\"coloraxis\":{\"colorbar\":{\"title\":{\"text\":\"KMs Diff\"}},\"colorscale\":[[0.0,\"#0d0887\"],[0.1111111111111111,\"#46039f\"],[0.2222222222222222,\"#7201a8\"],[0.3333333333333333,\"#9c179e\"],[0.4444444444444444,\"#bd3786\"],[0.5555555555555556,\"#d8576b\"],[0.6666666666666666,\"#ed7953\"],[0.7777777777777778,\"#fb9f3a\"],[0.8888888888888888,\"#fdca26\"],[1.0,\"#f0f921\"]]},\"legend\":{\"tracegroupgap\":0},\"title\":{\"text\":\"•\\tCorrelation between service duration and kilometers driven during repair period\",\"x\":0.5}},                        {\"responsive\": true}                    ).then(function(){\n",
       "                            \n",
       "var gd = document.getElementById('f0b2f7fb-b85a-47e9-b707-49bc3d766e89');\n",
       "var x = new MutationObserver(function (mutations, observer) {{\n",
       "        var display = window.getComputedStyle(gd).display;\n",
       "        if (!display || display === 'none') {{\n",
       "            console.log([gd, 'removed!']);\n",
       "            Plotly.purge(gd);\n",
       "            observer.disconnect();\n",
       "        }}\n",
       "}});\n",
       "\n",
       "// Listen for the removal of the full notebook cells\n",
       "var notebookContainer = gd.closest('#notebook-container');\n",
       "if (notebookContainer) {{\n",
       "    x.observe(notebookContainer, {childList: true});\n",
       "}}\n",
       "\n",
       "// Listen for the clearing of the current output cell\n",
       "var outputEl = gd.closest('.output');\n",
       "if (outputEl) {{\n",
       "    x.observe(outputEl, {childList: true});\n",
       "}}\n",
       "\n",
       "                        })                };                });            </script>        </div>"
      ]
     },
     "metadata": {},
     "output_type": "display_data"
    }
   ],
   "source": [
    "fig = px.scatter(df, x='KMs Diff', y='service_duration',color='KMs Diff', title='Correlation between service duration and kilometers driven during repair period')\n",
    "fig.update_layout(title_x=0.5)\n",
    "fig.show()"
   ]
  },
  {
   "cell_type": "code",
   "execution_count": null,
   "id": "da0b39a3",
   "metadata": {},
   "outputs": [],
   "source": [
    "#### Fuel Diff vs. Service Duration"
   ]
  },
  {
   "cell_type": "code",
   "execution_count": null,
   "id": "0681cd06",
   "metadata": {},
   "outputs": [],
   "source": [
    "#### Does the fuel difference (amount of fuel used) relate to the service duration?"
   ]
  },
  {
   "cell_type": "code",
   "execution_count": 45,
   "id": "08af5768",
   "metadata": {},
   "outputs": [
    {
     "data": {
      "application/vnd.plotly.v1+json": {
       "config": {
        "plotlyServerURL": "https://plot.ly"
       },
       "data": [
        {
         "hovertemplate": "Fuel Diff=%{x}<br>service_duration=%{marker.color}<extra></extra>",
         "legendgroup": "",
         "marker": {
          "color": [
           5,
           5,
           11,
           6,
           6,
           8,
           1,
           1,
           1,
           1,
           1,
           2,
           4,
           1,
           10,
           6,
           1,
           1,
           1,
           1,
           1,
           1,
           1,
           1,
           1,
           1,
           1,
           1,
           1,
           1,
           1,
           1,
           1,
           1,
           1,
           1,
           1,
           1,
           1,
           1,
           1,
           1,
           1,
           1,
           1,
           1,
           1,
           1,
           1,
           1,
           1,
           1,
           1,
           1,
           1,
           1,
           1,
           13,
           1,
           1,
           1,
           1,
           2,
           1,
           1,
           1,
           1,
           1,
           1,
           1,
           1,
           3,
           1,
           17,
           1,
           1,
           2,
           1,
           1,
           1,
           4,
           1,
           1,
           1,
           1,
           1,
           1,
           1,
           1,
           1,
           1,
           1,
           1,
           1,
           1,
           1,
           1,
           1,
           1,
           1,
           1,
           1,
           1,
           1,
           1,
           1,
           1,
           1,
           1,
           1,
           1,
           1,
           1,
           1,
           1,
           1,
           1,
           1,
           1,
           1,
           6,
           1,
           9,
           1,
           1,
           1,
           1,
           1,
           1,
           1,
           1,
           1,
           1,
           1,
           1,
           1,
           1,
           4,
           1,
           1,
           1,
           12,
           1,
           1,
           1,
           1,
           1,
           4,
           3,
           1,
           30,
           1,
           1,
           1,
           4,
           11,
           1,
           1,
           1,
           1,
           1,
           1,
           1,
           14,
           8,
           1,
           1,
           70,
           1,
           11,
           5,
           18,
           2,
           5,
           1,
           1,
           1,
           1,
           1,
           1,
           1,
           1,
           1,
           1,
           1,
           4,
           1,
           3,
           1,
           1,
           1,
           1,
           1,
           1,
           1,
           1,
           1,
           1,
           4,
           1,
           5,
           1,
           57,
           1,
           2,
           2,
           2,
           1,
           1,
           3,
           1,
           2,
           1,
           2,
           1,
           1,
           1,
           1,
           1,
           1,
           1,
           1,
           1,
           1,
           1,
           6,
           1,
           4,
           1,
           1,
           1,
           4,
           1,
           3,
           1,
           1,
           1,
           3,
           3,
           7,
           1,
           1,
           2,
           1,
           1,
           1,
           1,
           5,
           1,
           1,
           8,
           1,
           1,
           1,
           1,
           1,
           1,
           1,
           1,
           1,
           1,
           1,
           1,
           1,
           1,
           1,
           1,
           1,
           1,
           4,
           5,
           1,
           1,
           1,
           1,
           1,
           1,
           1,
           1,
           1,
           1,
           32,
           3,
           1,
           1,
           1,
           1,
           1,
           1,
           1,
           1,
           1,
           3,
           1,
           1,
           1,
           1,
           1,
           1,
           1,
           1,
           1,
           1,
           1,
           1,
           1,
           1,
           1,
           1,
           1,
           1,
           1,
           1,
           1,
           1,
           1,
           1,
           1,
           1,
           1,
           1,
           1,
           11,
           1,
           1,
           9,
           1,
           1,
           1,
           1,
           1,
           1,
           1,
           1,
           1,
           3,
           7,
           3,
           2,
           1,
           1,
           1,
           1,
           1,
           1,
           1,
           1,
           1,
           1,
           1,
           1,
           1,
           1,
           1,
           1,
           1,
           1,
           1,
           1,
           1,
           1,
           1,
           1,
           1,
           10,
           1,
           1,
           1,
           1,
           1,
           2,
           3,
           1,
           1,
           2,
           2,
           1,
           1,
           1,
           2,
           7,
           1,
           1,
           1,
           1,
           1,
           1,
           1,
           14,
           3,
           7,
           11,
           6,
           7,
           5,
           5,
           8,
           1,
           1,
           1,
           1,
           1,
           1,
           1,
           1,
           1,
           4,
           1,
           1,
           3,
           4,
           1,
           1,
           4,
           1,
           1,
           1,
           1,
           1,
           2,
           1,
           1,
           1,
           2,
           1,
           1,
           1,
           1,
           2,
           1,
           1,
           1,
           1,
           2,
           1,
           1,
           1,
           1,
           1,
           1,
           1,
           1,
           2,
           2,
           7,
           6,
           7,
           1,
           1,
           2,
           1,
           1,
           8,
           1,
           2,
           1,
           3,
           4,
           1,
           1,
           1,
           7,
           1,
           1,
           1,
           2,
           1,
           1,
           2,
           1,
           2,
           3,
           2,
           1,
           1,
           8,
           1,
           1,
           1,
           1,
           1,
           1,
           1,
           1,
           1,
           2,
           1,
           1,
           1,
           1,
           6,
           1,
           1,
           1,
           5,
           11,
           1,
           1,
           1,
           1,
           1,
           1,
           1,
           1,
           1,
           1,
           1,
           1,
           1,
           1,
           1,
           1,
           1,
           1,
           1,
           1,
           1,
           1,
           1,
           1,
           1,
           1,
           1,
           1,
           1,
           1,
           1,
           1,
           1,
           1,
           1,
           3,
           11,
           1,
           6,
           6,
           1,
           1,
           1,
           1,
           1,
           1,
           14,
           2,
           1,
           1,
           6,
           1,
           1,
           1,
           1,
           1,
           1,
           1,
           1,
           1,
           1,
           1,
           6,
           3,
           1,
           4,
           2,
           1,
           1,
           1,
           2,
           1,
           1,
           1,
           1,
           1,
           1,
           2,
           2,
           5,
           5,
           1,
           1,
           5,
           1,
           1,
           1,
           5,
           1,
           1,
           1,
           2,
           1,
           1,
           1,
           1,
           1,
           1,
           1,
           1,
           1,
           1,
           1,
           1,
           1,
           1,
           1,
           1,
           1,
           1,
           1,
           1,
           4,
           2,
           7,
           1,
           1,
           1,
           1,
           6,
           4,
           7,
           2,
           24,
           1,
           1,
           7,
           3,
           3,
           1,
           1,
           1,
           1,
           2,
           1,
           1,
           1,
           1,
           1,
           6,
           1,
           7,
           4,
           1,
           1,
           1,
           1,
           11,
           1,
           1,
           1,
           7,
           4,
           1,
           1,
           1,
           1,
           1,
           1,
           1,
           1,
           1,
           1,
           7,
           1,
           1,
           1,
           1,
           1,
           1,
           1,
           1,
           1,
           1,
           1,
           1,
           1,
           1,
           1,
           1,
           5,
           6,
           1,
           1,
           1,
           1,
           1,
           1,
           1,
           1,
           1,
           1,
           1,
           1,
           1,
           1,
           1,
           1,
           1,
           1,
           1,
           1,
           1,
           1,
           1,
           1,
           1,
           1,
           6,
           1,
           6,
           1,
           1,
           1,
           1,
           1,
           1,
           1,
           1,
           1,
           1,
           8,
           1,
           1,
           9,
           8,
           1,
           1,
           1,
           1,
           1,
           1,
           1,
           1,
           1,
           1,
           1,
           1,
           1,
           1,
           1,
           1,
           1,
           1,
           5,
           1,
           1,
           1,
           1,
           1,
           1,
           4,
           1,
           1,
           3,
           4,
           1,
           1,
           4,
           1,
           1,
           1,
           1,
           1,
           1,
           1,
           1,
           1,
           1,
           1,
           5,
           6,
           5,
           1,
           1,
           1,
           1,
           1,
           1,
           1,
           1,
           1,
           1,
           1,
           1,
           1,
           1,
           1,
           1,
           1,
           1,
           1,
           1,
           1,
           12,
           7,
           7,
           1,
           7,
           1,
           1,
           1,
           1,
           1,
           1,
           1,
           1,
           1,
           1,
           1,
           1,
           1,
           1,
           1,
           1,
           1,
           1,
           1,
           1,
           1,
           1,
           1,
           1,
           1,
           1,
           1,
           1,
           1,
           1,
           1,
           1,
           1,
           1,
           1,
           1,
           1,
           1,
           1,
           1,
           1,
           1,
           1,
           1,
           1,
           1,
           1,
           1,
           1,
           1,
           1,
           1,
           1,
           1,
           1,
           1,
           1,
           1,
           1,
           1,
           8,
           1,
           1,
           1,
           6,
           1,
           1,
           1,
           1,
           9,
           1,
           1,
           1,
           1,
           1,
           3,
           1,
           1,
           1,
           1,
           1,
           1,
           1,
           1,
           1,
           1,
           1,
           5,
           1,
           1,
           1,
           1,
           1,
           1,
           1,
           1,
           1,
           1,
           4,
           6,
           1,
           1,
           1,
           1,
           4,
           1,
           1,
           1,
           1,
           1,
           1,
           1,
           1,
           1,
           1,
           1,
           1,
           1,
           1,
           1,
           1,
           1,
           1,
           1,
           1,
           1,
           1,
           1,
           1,
           1,
           1,
           7,
           1,
           1,
           1,
           1,
           1,
           1,
           1,
           1,
           1,
           1,
           1,
           1,
           1,
           1,
           1,
           1,
           1,
           1,
           1,
           1,
           1,
           1,
           1,
           1,
           1,
           1,
           1,
           1,
           1,
           1,
           1,
           1,
           1,
           4,
           1,
           1,
           1,
           1,
           1,
           1,
           1,
           1,
           1,
           1,
           1,
           1,
           1,
           1,
           1,
           1,
           1,
           1,
           1,
           1,
           1,
           1,
           1,
           1,
           5,
           1,
           1,
           1,
           1,
           1,
           1,
           1,
           1,
           1,
           1,
           1,
           1,
           1,
           1,
           1,
           1,
           1,
           1,
           1,
           1,
           1,
           1,
           1,
           1,
           1,
           1,
           1,
           1,
           1,
           1,
           1,
           1,
           1,
           1,
           1,
           5,
           1,
           1,
           1,
           1,
           1,
           1,
           1,
           1,
           1,
           1,
           1,
           1,
           1,
           1,
           1,
           6,
           1,
           1,
           1,
           1,
           1,
           1,
           1,
           1,
           1,
           1,
           1,
           5,
           1,
           2,
           1,
           1,
           1,
           1,
           1,
           1,
           1,
           1,
           1,
           1,
           1,
           1,
           1,
           1,
           1,
           1,
           1,
           1,
           1,
           1,
           1,
           1,
           1,
           1,
           1,
           1,
           1,
           1,
           1,
           1,
           1,
           1,
           1,
           1,
           1,
           1,
           1,
           1,
           1,
           1,
           1,
           1,
           1,
           1,
           1,
           1,
           1,
           1,
           1,
           1,
           5,
           5,
           1,
           1,
           1,
           1,
           1,
           1,
           1,
           1,
           1,
           1,
           1,
           1,
           1,
           1,
           1,
           1,
           1,
           1,
           1,
           1,
           1,
           1,
           1,
           1,
           1,
           1,
           1,
           1,
           1,
           1,
           1,
           1,
           1,
           1,
           1,
           1,
           1,
           5,
           1,
           1,
           1,
           1,
           1,
           1,
           1,
           1,
           1,
           1,
           1,
           1,
           1,
           1,
           1,
           1,
           1,
           1,
           1,
           1,
           1,
           1,
           1,
           1,
           1,
           1,
           1,
           1,
           1,
           1,
           1,
           1,
           1,
           1,
           1,
           1,
           1,
           1,
           1,
           1,
           1,
           1,
           1,
           1,
           1,
           1,
           1,
           1,
           1,
           1,
           1,
           1,
           1,
           1,
           4,
           4,
           1,
           1,
           1,
           1,
           1,
           1,
           1,
           1,
           1,
           1,
           1,
           1,
           1,
           1,
           1,
           1,
           1,
           1,
           1,
           1,
           1,
           1,
           1,
           5,
           1,
           1,
           1,
           1,
           1,
           1,
           1,
           1,
           1,
           1,
           1,
           1,
           1,
           1,
           1,
           1,
           1,
           1,
           1,
           1,
           1,
           1,
           6,
           1,
           1,
           1,
           1,
           1,
           1,
           1,
           1,
           1,
           1,
           1,
           1,
           1,
           1,
           1,
           1,
           1,
           1,
           1,
           1,
           1,
           1,
           1,
           1,
           1,
           1,
           1,
           1,
           1,
           1,
           1,
           1,
           1,
           1,
           1,
           1,
           1,
           1,
           1,
           1,
           5,
           1,
           1,
           1,
           1,
           1,
           1,
           1,
           1,
           5,
           1,
           1,
           1,
           1,
           1,
           1,
           1,
           1,
           4,
           3,
           5,
           5,
           6,
           4,
           4,
           4,
           3,
           4,
           5,
           4,
           4,
           5,
           4,
           5,
           4,
           4,
           5,
           3,
           1,
           1,
           1,
           1,
           1,
           1,
           1,
           5,
           7,
           7,
           8,
           6,
           1,
           1,
           5,
           1,
           5,
           4,
           1,
           1,
           5,
           5,
           4,
           1,
           1,
           1,
           1,
           1,
           1,
           1,
           1,
           1,
           1,
           1,
           1,
           1,
           1,
           5,
           6,
           7,
           1,
           1,
           1,
           1,
           1,
           1,
           1,
           1,
           1,
           1,
           1,
           1,
           1,
           1,
           1,
           1,
           1,
           1,
           1,
           1,
           1,
           1,
           1,
           1,
           1,
           1,
           1,
           1,
           1,
           17,
           5,
           4,
           1,
           1,
           1,
           1,
           1,
           1,
           1,
           1,
           6,
           1,
           1,
           1,
           1,
           1,
           1,
           1,
           1,
           1,
           8,
           1,
           1,
           11,
           11,
           1,
           1,
           1,
           1,
           1,
           6,
           6,
           1,
           1,
           1,
           1,
           1,
           7,
           1,
           1,
           1,
           1,
           1,
           1,
           1,
           1,
           1,
           8,
           1,
           1,
           1,
           1,
           1,
           1,
           9,
           5,
           4,
           2,
           11,
           7,
           1,
           1,
           1,
           1,
           1,
           1,
           1,
           1,
           1,
           1,
           8,
           8,
           8,
           7,
           6,
           1,
           1,
           1,
           1,
           1,
           9,
           6,
           7,
           7,
           8,
           1,
           1,
           1,
           1,
           1,
           1,
           1,
           1,
           1,
           1,
           9,
           1,
           1,
           1,
           1,
           1,
           1,
           1,
           8,
           4,
           1
          ],
          "coloraxis": "coloraxis",
          "symbol": "circle"
         },
         "mode": "markers",
         "name": "",
         "showlegend": false,
         "type": "scattergl",
         "x": [
          0,
          0,
          0.37,
          0.12,
          0,
          0,
          0,
          0.12,
          -0.13,
          0,
          0,
          0,
          0.13,
          0,
          0,
          0.13,
          0,
          0,
          0,
          0,
          -0.13,
          0,
          0,
          0,
          0,
          0,
          0,
          0,
          0,
          0,
          0,
          0,
          0,
          0,
          0,
          0,
          0,
          0,
          0,
          0,
          0,
          0,
          0,
          0,
          0,
          0,
          0,
          0,
          0,
          0,
          0,
          0,
          0,
          0,
          0,
          0,
          0,
          0,
          0,
          0,
          0,
          0,
          0,
          0,
          0,
          0,
          0,
          0,
          0,
          0,
          0,
          0,
          0,
          0.25,
          0,
          0.25,
          0.25,
          0.12,
          0.12,
          0,
          0,
          0,
          0,
          0,
          0,
          0,
          0,
          0,
          0,
          0,
          0,
          0,
          0,
          0,
          0,
          0,
          0,
          0,
          0,
          0,
          0,
          0,
          0,
          0,
          0,
          0,
          0,
          0,
          0,
          0,
          0,
          0,
          0,
          0,
          0.13,
          0,
          0,
          0,
          0,
          0,
          0,
          0.13,
          0,
          0,
          0,
          0,
          0,
          0,
          0,
          0.12,
          0,
          0.13,
          0,
          0.13,
          -0.13,
          0,
          -0.13,
          0,
          0,
          0.13,
          0,
          0.25,
          0,
          -0.38,
          0.13,
          0,
          0.13,
          -0.25,
          0,
          0.12,
          0,
          0,
          0,
          0,
          0.13,
          -0.12,
          0,
          0.12,
          0,
          0.13,
          0,
          0,
          0,
          0.12,
          0.13,
          0.12,
          0,
          0.12,
          0,
          0.12,
          0,
          0,
          0,
          0,
          0,
          0,
          0,
          0,
          0,
          0,
          0,
          0,
          0,
          0,
          0,
          0,
          0,
          0,
          0.12,
          0.13,
          0,
          0,
          0,
          0,
          0,
          0,
          0,
          0,
          0,
          0,
          0,
          0,
          -0.25,
          0.12,
          0,
          0,
          -0.13,
          0,
          0.12,
          0.25,
          0.13,
          0,
          0,
          0,
          0,
          0,
          0,
          0,
          0,
          0,
          0,
          0,
          0,
          0,
          0,
          0,
          0.12,
          0,
          0,
          0,
          0,
          0.38,
          0,
          0,
          0.13,
          0,
          0,
          0.12,
          0,
          -0.12,
          0,
          0,
          0.13,
          0.13,
          0,
          0,
          0,
          0,
          0,
          0,
          0,
          0,
          0,
          0,
          0,
          0,
          0,
          0,
          0,
          0,
          0,
          0,
          0,
          0.13,
          0,
          0,
          0.25,
          0,
          0,
          0,
          0,
          0,
          0,
          0,
          0,
          0,
          0,
          0,
          0,
          0,
          0,
          0,
          0,
          0,
          0,
          0,
          0,
          0,
          0,
          0,
          0,
          0,
          0,
          0,
          0,
          0,
          0,
          0,
          0,
          0,
          0,
          0,
          0,
          0,
          0,
          0,
          0,
          0,
          0,
          0,
          0,
          0,
          0,
          0,
          0,
          0,
          0,
          0,
          0,
          0,
          0,
          0,
          0,
          0,
          0,
          0,
          0,
          0,
          0,
          0,
          0,
          0,
          0,
          0,
          0,
          0,
          0,
          0,
          0,
          0,
          0,
          0,
          0,
          0,
          0,
          0,
          0.13,
          0,
          0,
          0.255,
          0,
          0,
          0,
          0,
          0,
          0,
          0,
          0,
          0,
          0,
          0,
          0,
          0,
          0,
          0,
          0,
          0,
          0,
          0,
          0,
          0,
          0,
          0,
          0,
          0,
          0,
          0,
          0,
          0,
          0,
          0,
          0,
          0,
          0,
          0,
          0,
          0,
          0,
          0.13,
          0,
          0,
          0,
          0,
          0,
          0,
          0,
          0,
          0,
          0,
          0,
          0,
          0,
          0,
          0,
          0,
          0,
          0,
          0,
          0,
          0,
          0,
          0,
          0,
          0,
          0,
          0,
          0,
          0,
          0,
          0,
          0,
          0,
          0,
          0,
          0,
          0,
          0,
          0,
          0,
          0,
          0,
          0,
          0,
          0,
          0,
          0,
          0,
          0,
          0,
          0.13,
          0,
          0,
          0,
          0,
          0.13,
          0,
          0,
          0,
          0,
          0,
          0,
          0,
          0,
          0,
          0,
          0,
          0,
          0.12,
          0,
          0,
          0,
          0,
          0,
          0,
          0,
          0,
          0,
          -0.12,
          0,
          0,
          0,
          0,
          0,
          0,
          0,
          0,
          0,
          0,
          0,
          0,
          0,
          0,
          0,
          0,
          0,
          0,
          0,
          0,
          0,
          0,
          0,
          0,
          0,
          0,
          0,
          0,
          0,
          0,
          0,
          0,
          0,
          0,
          0,
          0,
          0,
          0,
          0,
          0,
          0,
          0,
          0,
          0,
          0,
          0,
          0,
          0,
          0,
          0,
          0,
          0,
          0,
          0,
          0,
          0,
          0,
          0,
          0,
          0,
          0,
          0,
          0,
          0,
          0,
          0,
          0,
          0,
          0,
          0,
          0,
          0,
          0,
          0,
          0,
          0,
          0,
          0,
          0,
          0,
          0,
          0,
          0,
          0,
          0,
          0,
          0,
          0,
          0,
          0,
          0,
          0,
          0,
          0,
          0,
          0,
          0,
          0,
          0,
          0,
          0,
          0,
          0,
          0,
          0,
          0,
          0,
          0,
          0,
          0,
          0,
          0,
          0,
          0,
          0,
          0,
          0,
          0,
          0,
          0,
          0,
          0,
          0,
          0,
          0,
          0,
          0,
          0,
          0,
          0.12,
          0,
          0,
          0,
          0,
          0,
          0,
          0,
          0,
          0,
          0,
          0,
          0,
          0,
          0,
          0,
          0,
          0,
          0,
          0,
          0,
          0,
          0,
          0,
          0,
          0,
          0,
          0,
          0,
          0,
          0,
          0,
          0,
          0,
          0,
          0,
          0,
          0,
          0,
          0,
          0,
          0,
          0,
          0,
          0,
          0,
          0,
          0,
          0,
          0,
          0,
          0,
          0,
          0,
          0,
          0,
          0,
          0,
          0,
          0,
          0,
          0,
          0,
          0,
          0,
          0,
          0,
          0,
          0,
          0,
          0,
          0,
          0,
          0,
          0,
          0,
          0,
          0,
          0,
          0,
          0,
          0,
          0,
          0,
          0,
          0,
          0,
          0,
          0,
          0,
          0,
          0,
          0,
          0,
          0,
          0,
          0,
          0,
          0,
          0,
          0,
          0,
          0,
          0,
          0,
          0,
          0,
          0,
          0,
          0,
          0,
          0,
          0,
          0,
          0,
          0,
          0,
          0,
          0,
          0,
          0,
          0,
          0,
          0,
          0,
          0,
          0,
          0,
          0,
          0,
          0,
          0,
          0,
          0,
          0,
          0,
          0,
          0,
          0,
          0,
          0,
          0,
          0,
          0,
          0,
          0,
          0,
          0,
          0,
          0,
          0,
          0,
          0,
          0,
          0,
          0,
          0,
          0,
          0,
          0,
          0,
          0,
          0,
          0,
          0,
          0,
          0,
          0,
          0,
          0,
          0,
          0,
          0,
          0,
          0,
          0,
          0,
          0,
          0,
          0,
          0,
          0,
          0,
          0,
          0,
          0,
          0,
          0,
          0,
          0,
          0,
          0,
          0,
          0,
          0,
          0,
          0,
          0,
          0,
          0,
          0,
          0,
          0,
          0,
          0,
          0,
          0,
          0,
          0,
          0,
          0,
          0,
          0,
          0,
          0,
          0,
          0,
          0,
          0,
          0,
          0,
          0,
          0,
          0,
          0,
          0,
          0,
          0,
          0,
          0,
          0,
          0,
          0,
          0,
          0,
          0,
          0,
          0,
          0,
          0,
          0,
          0,
          0,
          0,
          0,
          0,
          0,
          0,
          0,
          0,
          0,
          0,
          0,
          0,
          0,
          0,
          0,
          0,
          0,
          0,
          0,
          0,
          0,
          0,
          0,
          0,
          0,
          0,
          0,
          0,
          0,
          0,
          0,
          0,
          0,
          0,
          0,
          0,
          0,
          0,
          0,
          0,
          0,
          0,
          0,
          0,
          0,
          0,
          0,
          0,
          0,
          0,
          0,
          0,
          0,
          0,
          0,
          0,
          0,
          0,
          0,
          0,
          0,
          0,
          0,
          0,
          0,
          0,
          0,
          0,
          0,
          0,
          0,
          0,
          0,
          0,
          0,
          0,
          0,
          0,
          0,
          0,
          0,
          0,
          0,
          0,
          0,
          0,
          0,
          0,
          0,
          0,
          0,
          0,
          0,
          0,
          0,
          0,
          0,
          0,
          0,
          0,
          0,
          0,
          0,
          0,
          0,
          0,
          0,
          0,
          0,
          0,
          0,
          0,
          0,
          0,
          0,
          0,
          0,
          0,
          0,
          0,
          0,
          0,
          0,
          0,
          0,
          0,
          0,
          0,
          0,
          0,
          0,
          0,
          0,
          0,
          0,
          0,
          0,
          0,
          0,
          0,
          0,
          0,
          0,
          0,
          0,
          0,
          0,
          0,
          0,
          0,
          0,
          0,
          0,
          0,
          0,
          0,
          0,
          0,
          0,
          0,
          0,
          0,
          0,
          0,
          0,
          0,
          0,
          0,
          0,
          0,
          0,
          0,
          0,
          0,
          0,
          0,
          0,
          0,
          0,
          0,
          0,
          0,
          0,
          0,
          0,
          0,
          0,
          0,
          0,
          0,
          0,
          0,
          0,
          0,
          0,
          0,
          0,
          0,
          0,
          0,
          0,
          0,
          0,
          0,
          0,
          0,
          0,
          0,
          0,
          0,
          0,
          0,
          0,
          0,
          0,
          0,
          0,
          0,
          0,
          0,
          0,
          0,
          0,
          0,
          0,
          0,
          0,
          0,
          0,
          0,
          0,
          0,
          0,
          0,
          0,
          0,
          0,
          0,
          0,
          0,
          0,
          0,
          0,
          0,
          0,
          0,
          0,
          0,
          0,
          0,
          0,
          0,
          0,
          0,
          0,
          0,
          0,
          0,
          0,
          0,
          0,
          0,
          0,
          0,
          0,
          0,
          0,
          0,
          0,
          0,
          0,
          0,
          0,
          0,
          0,
          0,
          0,
          0,
          0,
          0,
          0,
          0,
          0,
          0,
          0,
          0,
          0,
          0,
          0,
          0,
          0,
          0,
          0,
          0,
          0,
          0,
          0,
          0,
          0,
          0,
          0,
          0,
          0,
          0,
          0,
          0,
          0,
          0,
          0,
          0,
          0,
          0,
          0,
          0,
          0,
          0,
          0,
          0,
          0,
          0,
          0,
          0,
          0,
          0,
          0,
          0,
          0,
          0,
          0,
          0,
          0,
          0,
          0,
          0,
          0,
          0,
          0,
          0,
          0,
          0,
          0,
          0,
          0,
          0,
          0,
          0,
          0,
          0,
          0,
          0,
          0,
          0,
          0,
          0,
          0,
          0,
          0,
          0,
          0,
          0,
          0,
          0,
          0,
          0,
          0,
          0,
          0,
          0,
          0,
          0,
          0,
          0,
          0,
          0,
          0,
          0,
          0,
          0,
          0,
          0,
          0,
          0,
          0,
          0,
          0,
          0,
          0,
          0,
          0,
          0,
          0,
          0,
          0,
          0,
          0,
          0,
          0,
          0,
          0,
          0,
          0,
          0,
          0,
          0,
          0,
          0,
          0,
          0,
          0,
          0,
          0,
          0,
          0,
          0,
          0,
          0,
          0,
          0,
          0,
          0,
          0,
          0,
          0,
          0,
          0,
          0,
          0,
          0,
          0,
          0,
          0,
          0,
          0,
          0,
          0,
          0,
          0,
          0,
          0,
          0,
          0,
          0,
          0,
          0,
          0,
          0,
          0,
          0,
          0,
          0,
          0,
          0,
          0,
          0,
          0,
          0,
          0,
          0,
          0,
          0,
          0,
          0,
          0,
          0,
          0,
          0,
          0,
          0,
          0,
          0,
          0,
          0,
          0,
          0,
          0,
          0,
          0,
          0,
          0,
          0,
          0,
          0,
          0,
          0,
          0,
          0,
          0,
          0,
          0,
          0,
          0,
          0,
          0,
          0,
          0,
          0,
          0,
          0,
          0,
          0,
          0,
          0,
          0,
          0,
          0,
          0,
          0,
          0,
          0,
          0,
          0,
          0,
          0,
          0,
          0,
          0,
          0,
          0,
          0,
          0,
          0,
          0,
          0,
          0,
          0,
          0,
          0,
          0,
          0,
          0,
          0,
          0,
          0,
          0,
          0,
          0,
          0,
          0.13,
          0,
          0,
          0,
          0.13,
          0,
          0,
          0.13,
          0,
          0,
          0,
          -0.25,
          0.13,
          0,
          0.13,
          0,
          0,
          0,
          0,
          0,
          0.12,
          0,
          0,
          0,
          0,
          0,
          0,
          0,
          0,
          0,
          0,
          -0.13,
          0,
          0.13,
          0,
          0,
          0,
          0,
          0,
          0,
          0,
          0,
          0,
          0,
          0,
          0,
          0,
          0.25,
          0.13,
          0.12,
          0,
          0,
          -0.13,
          0,
          0.13,
          0,
          0,
          0,
          0,
          0.13,
          0,
          0.13,
          0,
          0,
          0.13,
          0,
          0,
          0,
          0,
          0,
          0,
          0,
          0,
          0.37,
          0,
          0.12,
          0,
          0,
          0,
          0,
          0,
          0,
          0,
          0,
          0,
          0,
          0,
          0,
          0.13,
          0,
          0,
          0,
          -0.13,
          0.13,
          0.12,
          0,
          0,
          0.13,
          0,
          0,
          -0.25,
          0.13,
          0,
          0,
          0.13,
          0.12,
          0,
          0,
          0,
          0,
          0,
          0,
          0,
          0,
          0.12,
          0,
          0,
          0,
          0,
          0,
          0.12,
          0.13,
          0
         ],
         "xaxis": "x",
         "y": [
          5,
          5,
          11,
          6,
          6,
          8,
          1,
          1,
          1,
          1,
          1,
          2,
          4,
          1,
          10,
          6,
          1,
          1,
          1,
          1,
          1,
          1,
          1,
          1,
          1,
          1,
          1,
          1,
          1,
          1,
          1,
          1,
          1,
          1,
          1,
          1,
          1,
          1,
          1,
          1,
          1,
          1,
          1,
          1,
          1,
          1,
          1,
          1,
          1,
          1,
          1,
          1,
          1,
          1,
          1,
          1,
          1,
          13,
          1,
          1,
          1,
          1,
          2,
          1,
          1,
          1,
          1,
          1,
          1,
          1,
          1,
          3,
          1,
          17,
          1,
          1,
          2,
          1,
          1,
          1,
          4,
          1,
          1,
          1,
          1,
          1,
          1,
          1,
          1,
          1,
          1,
          1,
          1,
          1,
          1,
          1,
          1,
          1,
          1,
          1,
          1,
          1,
          1,
          1,
          1,
          1,
          1,
          1,
          1,
          1,
          1,
          1,
          1,
          1,
          1,
          1,
          1,
          1,
          1,
          1,
          6,
          1,
          9,
          1,
          1,
          1,
          1,
          1,
          1,
          1,
          1,
          1,
          1,
          1,
          1,
          1,
          1,
          4,
          1,
          1,
          1,
          12,
          1,
          1,
          1,
          1,
          1,
          4,
          3,
          1,
          30,
          1,
          1,
          1,
          4,
          11,
          1,
          1,
          1,
          1,
          1,
          1,
          1,
          14,
          8,
          1,
          1,
          70,
          1,
          11,
          5,
          18,
          2,
          5,
          1,
          1,
          1,
          1,
          1,
          1,
          1,
          1,
          1,
          1,
          1,
          4,
          1,
          3,
          1,
          1,
          1,
          1,
          1,
          1,
          1,
          1,
          1,
          1,
          4,
          1,
          5,
          1,
          57,
          1,
          2,
          2,
          2,
          1,
          1,
          3,
          1,
          2,
          1,
          2,
          1,
          1,
          1,
          1,
          1,
          1,
          1,
          1,
          1,
          1,
          1,
          6,
          1,
          4,
          1,
          1,
          1,
          4,
          1,
          3,
          1,
          1,
          1,
          3,
          3,
          7,
          1,
          1,
          2,
          1,
          1,
          1,
          1,
          5,
          1,
          1,
          8,
          1,
          1,
          1,
          1,
          1,
          1,
          1,
          1,
          1,
          1,
          1,
          1,
          1,
          1,
          1,
          1,
          1,
          1,
          4,
          5,
          1,
          1,
          1,
          1,
          1,
          1,
          1,
          1,
          1,
          1,
          32,
          3,
          1,
          1,
          1,
          1,
          1,
          1,
          1,
          1,
          1,
          3,
          1,
          1,
          1,
          1,
          1,
          1,
          1,
          1,
          1,
          1,
          1,
          1,
          1,
          1,
          1,
          1,
          1,
          1,
          1,
          1,
          1,
          1,
          1,
          1,
          1,
          1,
          1,
          1,
          1,
          11,
          1,
          1,
          9,
          1,
          1,
          1,
          1,
          1,
          1,
          1,
          1,
          1,
          3,
          7,
          3,
          2,
          1,
          1,
          1,
          1,
          1,
          1,
          1,
          1,
          1,
          1,
          1,
          1,
          1,
          1,
          1,
          1,
          1,
          1,
          1,
          1,
          1,
          1,
          1,
          1,
          1,
          10,
          1,
          1,
          1,
          1,
          1,
          2,
          3,
          1,
          1,
          2,
          2,
          1,
          1,
          1,
          2,
          7,
          1,
          1,
          1,
          1,
          1,
          1,
          1,
          14,
          3,
          7,
          11,
          6,
          7,
          5,
          5,
          8,
          1,
          1,
          1,
          1,
          1,
          1,
          1,
          1,
          1,
          4,
          1,
          1,
          3,
          4,
          1,
          1,
          4,
          1,
          1,
          1,
          1,
          1,
          2,
          1,
          1,
          1,
          2,
          1,
          1,
          1,
          1,
          2,
          1,
          1,
          1,
          1,
          2,
          1,
          1,
          1,
          1,
          1,
          1,
          1,
          1,
          2,
          2,
          7,
          6,
          7,
          1,
          1,
          2,
          1,
          1,
          8,
          1,
          2,
          1,
          3,
          4,
          1,
          1,
          1,
          7,
          1,
          1,
          1,
          2,
          1,
          1,
          2,
          1,
          2,
          3,
          2,
          1,
          1,
          8,
          1,
          1,
          1,
          1,
          1,
          1,
          1,
          1,
          1,
          2,
          1,
          1,
          1,
          1,
          6,
          1,
          1,
          1,
          5,
          11,
          1,
          1,
          1,
          1,
          1,
          1,
          1,
          1,
          1,
          1,
          1,
          1,
          1,
          1,
          1,
          1,
          1,
          1,
          1,
          1,
          1,
          1,
          1,
          1,
          1,
          1,
          1,
          1,
          1,
          1,
          1,
          1,
          1,
          1,
          1,
          3,
          11,
          1,
          6,
          6,
          1,
          1,
          1,
          1,
          1,
          1,
          14,
          2,
          1,
          1,
          6,
          1,
          1,
          1,
          1,
          1,
          1,
          1,
          1,
          1,
          1,
          1,
          6,
          3,
          1,
          4,
          2,
          1,
          1,
          1,
          2,
          1,
          1,
          1,
          1,
          1,
          1,
          2,
          2,
          5,
          5,
          1,
          1,
          5,
          1,
          1,
          1,
          5,
          1,
          1,
          1,
          2,
          1,
          1,
          1,
          1,
          1,
          1,
          1,
          1,
          1,
          1,
          1,
          1,
          1,
          1,
          1,
          1,
          1,
          1,
          1,
          1,
          4,
          2,
          7,
          1,
          1,
          1,
          1,
          6,
          4,
          7,
          2,
          24,
          1,
          1,
          7,
          3,
          3,
          1,
          1,
          1,
          1,
          2,
          1,
          1,
          1,
          1,
          1,
          6,
          1,
          7,
          4,
          1,
          1,
          1,
          1,
          11,
          1,
          1,
          1,
          7,
          4,
          1,
          1,
          1,
          1,
          1,
          1,
          1,
          1,
          1,
          1,
          7,
          1,
          1,
          1,
          1,
          1,
          1,
          1,
          1,
          1,
          1,
          1,
          1,
          1,
          1,
          1,
          1,
          5,
          6,
          1,
          1,
          1,
          1,
          1,
          1,
          1,
          1,
          1,
          1,
          1,
          1,
          1,
          1,
          1,
          1,
          1,
          1,
          1,
          1,
          1,
          1,
          1,
          1,
          1,
          1,
          6,
          1,
          6,
          1,
          1,
          1,
          1,
          1,
          1,
          1,
          1,
          1,
          1,
          8,
          1,
          1,
          9,
          8,
          1,
          1,
          1,
          1,
          1,
          1,
          1,
          1,
          1,
          1,
          1,
          1,
          1,
          1,
          1,
          1,
          1,
          1,
          5,
          1,
          1,
          1,
          1,
          1,
          1,
          4,
          1,
          1,
          3,
          4,
          1,
          1,
          4,
          1,
          1,
          1,
          1,
          1,
          1,
          1,
          1,
          1,
          1,
          1,
          5,
          6,
          5,
          1,
          1,
          1,
          1,
          1,
          1,
          1,
          1,
          1,
          1,
          1,
          1,
          1,
          1,
          1,
          1,
          1,
          1,
          1,
          1,
          1,
          12,
          7,
          7,
          1,
          7,
          1,
          1,
          1,
          1,
          1,
          1,
          1,
          1,
          1,
          1,
          1,
          1,
          1,
          1,
          1,
          1,
          1,
          1,
          1,
          1,
          1,
          1,
          1,
          1,
          1,
          1,
          1,
          1,
          1,
          1,
          1,
          1,
          1,
          1,
          1,
          1,
          1,
          1,
          1,
          1,
          1,
          1,
          1,
          1,
          1,
          1,
          1,
          1,
          1,
          1,
          1,
          1,
          1,
          1,
          1,
          1,
          1,
          1,
          1,
          1,
          8,
          1,
          1,
          1,
          6,
          1,
          1,
          1,
          1,
          9,
          1,
          1,
          1,
          1,
          1,
          3,
          1,
          1,
          1,
          1,
          1,
          1,
          1,
          1,
          1,
          1,
          1,
          5,
          1,
          1,
          1,
          1,
          1,
          1,
          1,
          1,
          1,
          1,
          4,
          6,
          1,
          1,
          1,
          1,
          4,
          1,
          1,
          1,
          1,
          1,
          1,
          1,
          1,
          1,
          1,
          1,
          1,
          1,
          1,
          1,
          1,
          1,
          1,
          1,
          1,
          1,
          1,
          1,
          1,
          1,
          1,
          7,
          1,
          1,
          1,
          1,
          1,
          1,
          1,
          1,
          1,
          1,
          1,
          1,
          1,
          1,
          1,
          1,
          1,
          1,
          1,
          1,
          1,
          1,
          1,
          1,
          1,
          1,
          1,
          1,
          1,
          1,
          1,
          1,
          1,
          4,
          1,
          1,
          1,
          1,
          1,
          1,
          1,
          1,
          1,
          1,
          1,
          1,
          1,
          1,
          1,
          1,
          1,
          1,
          1,
          1,
          1,
          1,
          1,
          1,
          5,
          1,
          1,
          1,
          1,
          1,
          1,
          1,
          1,
          1,
          1,
          1,
          1,
          1,
          1,
          1,
          1,
          1,
          1,
          1,
          1,
          1,
          1,
          1,
          1,
          1,
          1,
          1,
          1,
          1,
          1,
          1,
          1,
          1,
          1,
          1,
          5,
          1,
          1,
          1,
          1,
          1,
          1,
          1,
          1,
          1,
          1,
          1,
          1,
          1,
          1,
          1,
          6,
          1,
          1,
          1,
          1,
          1,
          1,
          1,
          1,
          1,
          1,
          1,
          5,
          1,
          2,
          1,
          1,
          1,
          1,
          1,
          1,
          1,
          1,
          1,
          1,
          1,
          1,
          1,
          1,
          1,
          1,
          1,
          1,
          1,
          1,
          1,
          1,
          1,
          1,
          1,
          1,
          1,
          1,
          1,
          1,
          1,
          1,
          1,
          1,
          1,
          1,
          1,
          1,
          1,
          1,
          1,
          1,
          1,
          1,
          1,
          1,
          1,
          1,
          1,
          1,
          5,
          5,
          1,
          1,
          1,
          1,
          1,
          1,
          1,
          1,
          1,
          1,
          1,
          1,
          1,
          1,
          1,
          1,
          1,
          1,
          1,
          1,
          1,
          1,
          1,
          1,
          1,
          1,
          1,
          1,
          1,
          1,
          1,
          1,
          1,
          1,
          1,
          1,
          1,
          5,
          1,
          1,
          1,
          1,
          1,
          1,
          1,
          1,
          1,
          1,
          1,
          1,
          1,
          1,
          1,
          1,
          1,
          1,
          1,
          1,
          1,
          1,
          1,
          1,
          1,
          1,
          1,
          1,
          1,
          1,
          1,
          1,
          1,
          1,
          1,
          1,
          1,
          1,
          1,
          1,
          1,
          1,
          1,
          1,
          1,
          1,
          1,
          1,
          1,
          1,
          1,
          1,
          1,
          1,
          4,
          4,
          1,
          1,
          1,
          1,
          1,
          1,
          1,
          1,
          1,
          1,
          1,
          1,
          1,
          1,
          1,
          1,
          1,
          1,
          1,
          1,
          1,
          1,
          1,
          5,
          1,
          1,
          1,
          1,
          1,
          1,
          1,
          1,
          1,
          1,
          1,
          1,
          1,
          1,
          1,
          1,
          1,
          1,
          1,
          1,
          1,
          1,
          6,
          1,
          1,
          1,
          1,
          1,
          1,
          1,
          1,
          1,
          1,
          1,
          1,
          1,
          1,
          1,
          1,
          1,
          1,
          1,
          1,
          1,
          1,
          1,
          1,
          1,
          1,
          1,
          1,
          1,
          1,
          1,
          1,
          1,
          1,
          1,
          1,
          1,
          1,
          1,
          1,
          5,
          1,
          1,
          1,
          1,
          1,
          1,
          1,
          1,
          5,
          1,
          1,
          1,
          1,
          1,
          1,
          1,
          1,
          4,
          3,
          5,
          5,
          6,
          4,
          4,
          4,
          3,
          4,
          5,
          4,
          4,
          5,
          4,
          5,
          4,
          4,
          5,
          3,
          1,
          1,
          1,
          1,
          1,
          1,
          1,
          5,
          7,
          7,
          8,
          6,
          1,
          1,
          5,
          1,
          5,
          4,
          1,
          1,
          5,
          5,
          4,
          1,
          1,
          1,
          1,
          1,
          1,
          1,
          1,
          1,
          1,
          1,
          1,
          1,
          1,
          5,
          6,
          7,
          1,
          1,
          1,
          1,
          1,
          1,
          1,
          1,
          1,
          1,
          1,
          1,
          1,
          1,
          1,
          1,
          1,
          1,
          1,
          1,
          1,
          1,
          1,
          1,
          1,
          1,
          1,
          1,
          1,
          17,
          5,
          4,
          1,
          1,
          1,
          1,
          1,
          1,
          1,
          1,
          6,
          1,
          1,
          1,
          1,
          1,
          1,
          1,
          1,
          1,
          8,
          1,
          1,
          11,
          11,
          1,
          1,
          1,
          1,
          1,
          6,
          6,
          1,
          1,
          1,
          1,
          1,
          7,
          1,
          1,
          1,
          1,
          1,
          1,
          1,
          1,
          1,
          8,
          1,
          1,
          1,
          1,
          1,
          1,
          9,
          5,
          4,
          2,
          11,
          7,
          1,
          1,
          1,
          1,
          1,
          1,
          1,
          1,
          1,
          1,
          8,
          8,
          8,
          7,
          6,
          1,
          1,
          1,
          1,
          1,
          9,
          6,
          7,
          7,
          8,
          1,
          1,
          1,
          1,
          1,
          1,
          1,
          1,
          1,
          1,
          9,
          1,
          1,
          1,
          1,
          1,
          1,
          1,
          8,
          4,
          1
         ],
         "yaxis": "y"
        }
       ],
       "layout": {
        "coloraxis": {
         "colorbar": {
          "title": {
           "text": "service_duration"
          }
         },
         "colorscale": [
          [
           0,
           "#0d0887"
          ],
          [
           0.1111111111111111,
           "#46039f"
          ],
          [
           0.2222222222222222,
           "#7201a8"
          ],
          [
           0.3333333333333333,
           "#9c179e"
          ],
          [
           0.4444444444444444,
           "#bd3786"
          ],
          [
           0.5555555555555556,
           "#d8576b"
          ],
          [
           0.6666666666666666,
           "#ed7953"
          ],
          [
           0.7777777777777778,
           "#fb9f3a"
          ],
          [
           0.8888888888888888,
           "#fdca26"
          ],
          [
           1,
           "#f0f921"
          ]
         ]
        },
        "legend": {
         "tracegroupgap": 0
        },
        "template": {
         "data": {
          "bar": [
           {
            "error_x": {
             "color": "#2a3f5f"
            },
            "error_y": {
             "color": "#2a3f5f"
            },
            "marker": {
             "line": {
              "color": "#E5ECF6",
              "width": 0.5
             },
             "pattern": {
              "fillmode": "overlay",
              "size": 10,
              "solidity": 0.2
             }
            },
            "type": "bar"
           }
          ],
          "barpolar": [
           {
            "marker": {
             "line": {
              "color": "#E5ECF6",
              "width": 0.5
             },
             "pattern": {
              "fillmode": "overlay",
              "size": 10,
              "solidity": 0.2
             }
            },
            "type": "barpolar"
           }
          ],
          "carpet": [
           {
            "aaxis": {
             "endlinecolor": "#2a3f5f",
             "gridcolor": "white",
             "linecolor": "white",
             "minorgridcolor": "white",
             "startlinecolor": "#2a3f5f"
            },
            "baxis": {
             "endlinecolor": "#2a3f5f",
             "gridcolor": "white",
             "linecolor": "white",
             "minorgridcolor": "white",
             "startlinecolor": "#2a3f5f"
            },
            "type": "carpet"
           }
          ],
          "choropleth": [
           {
            "colorbar": {
             "outlinewidth": 0,
             "ticks": ""
            },
            "type": "choropleth"
           }
          ],
          "contour": [
           {
            "colorbar": {
             "outlinewidth": 0,
             "ticks": ""
            },
            "colorscale": [
             [
              0,
              "#0d0887"
             ],
             [
              0.1111111111111111,
              "#46039f"
             ],
             [
              0.2222222222222222,
              "#7201a8"
             ],
             [
              0.3333333333333333,
              "#9c179e"
             ],
             [
              0.4444444444444444,
              "#bd3786"
             ],
             [
              0.5555555555555556,
              "#d8576b"
             ],
             [
              0.6666666666666666,
              "#ed7953"
             ],
             [
              0.7777777777777778,
              "#fb9f3a"
             ],
             [
              0.8888888888888888,
              "#fdca26"
             ],
             [
              1,
              "#f0f921"
             ]
            ],
            "type": "contour"
           }
          ],
          "contourcarpet": [
           {
            "colorbar": {
             "outlinewidth": 0,
             "ticks": ""
            },
            "type": "contourcarpet"
           }
          ],
          "heatmap": [
           {
            "colorbar": {
             "outlinewidth": 0,
             "ticks": ""
            },
            "colorscale": [
             [
              0,
              "#0d0887"
             ],
             [
              0.1111111111111111,
              "#46039f"
             ],
             [
              0.2222222222222222,
              "#7201a8"
             ],
             [
              0.3333333333333333,
              "#9c179e"
             ],
             [
              0.4444444444444444,
              "#bd3786"
             ],
             [
              0.5555555555555556,
              "#d8576b"
             ],
             [
              0.6666666666666666,
              "#ed7953"
             ],
             [
              0.7777777777777778,
              "#fb9f3a"
             ],
             [
              0.8888888888888888,
              "#fdca26"
             ],
             [
              1,
              "#f0f921"
             ]
            ],
            "type": "heatmap"
           }
          ],
          "heatmapgl": [
           {
            "colorbar": {
             "outlinewidth": 0,
             "ticks": ""
            },
            "colorscale": [
             [
              0,
              "#0d0887"
             ],
             [
              0.1111111111111111,
              "#46039f"
             ],
             [
              0.2222222222222222,
              "#7201a8"
             ],
             [
              0.3333333333333333,
              "#9c179e"
             ],
             [
              0.4444444444444444,
              "#bd3786"
             ],
             [
              0.5555555555555556,
              "#d8576b"
             ],
             [
              0.6666666666666666,
              "#ed7953"
             ],
             [
              0.7777777777777778,
              "#fb9f3a"
             ],
             [
              0.8888888888888888,
              "#fdca26"
             ],
             [
              1,
              "#f0f921"
             ]
            ],
            "type": "heatmapgl"
           }
          ],
          "histogram": [
           {
            "marker": {
             "pattern": {
              "fillmode": "overlay",
              "size": 10,
              "solidity": 0.2
             }
            },
            "type": "histogram"
           }
          ],
          "histogram2d": [
           {
            "colorbar": {
             "outlinewidth": 0,
             "ticks": ""
            },
            "colorscale": [
             [
              0,
              "#0d0887"
             ],
             [
              0.1111111111111111,
              "#46039f"
             ],
             [
              0.2222222222222222,
              "#7201a8"
             ],
             [
              0.3333333333333333,
              "#9c179e"
             ],
             [
              0.4444444444444444,
              "#bd3786"
             ],
             [
              0.5555555555555556,
              "#d8576b"
             ],
             [
              0.6666666666666666,
              "#ed7953"
             ],
             [
              0.7777777777777778,
              "#fb9f3a"
             ],
             [
              0.8888888888888888,
              "#fdca26"
             ],
             [
              1,
              "#f0f921"
             ]
            ],
            "type": "histogram2d"
           }
          ],
          "histogram2dcontour": [
           {
            "colorbar": {
             "outlinewidth": 0,
             "ticks": ""
            },
            "colorscale": [
             [
              0,
              "#0d0887"
             ],
             [
              0.1111111111111111,
              "#46039f"
             ],
             [
              0.2222222222222222,
              "#7201a8"
             ],
             [
              0.3333333333333333,
              "#9c179e"
             ],
             [
              0.4444444444444444,
              "#bd3786"
             ],
             [
              0.5555555555555556,
              "#d8576b"
             ],
             [
              0.6666666666666666,
              "#ed7953"
             ],
             [
              0.7777777777777778,
              "#fb9f3a"
             ],
             [
              0.8888888888888888,
              "#fdca26"
             ],
             [
              1,
              "#f0f921"
             ]
            ],
            "type": "histogram2dcontour"
           }
          ],
          "mesh3d": [
           {
            "colorbar": {
             "outlinewidth": 0,
             "ticks": ""
            },
            "type": "mesh3d"
           }
          ],
          "parcoords": [
           {
            "line": {
             "colorbar": {
              "outlinewidth": 0,
              "ticks": ""
             }
            },
            "type": "parcoords"
           }
          ],
          "pie": [
           {
            "automargin": true,
            "type": "pie"
           }
          ],
          "scatter": [
           {
            "fillpattern": {
             "fillmode": "overlay",
             "size": 10,
             "solidity": 0.2
            },
            "type": "scatter"
           }
          ],
          "scatter3d": [
           {
            "line": {
             "colorbar": {
              "outlinewidth": 0,
              "ticks": ""
             }
            },
            "marker": {
             "colorbar": {
              "outlinewidth": 0,
              "ticks": ""
             }
            },
            "type": "scatter3d"
           }
          ],
          "scattercarpet": [
           {
            "marker": {
             "colorbar": {
              "outlinewidth": 0,
              "ticks": ""
             }
            },
            "type": "scattercarpet"
           }
          ],
          "scattergeo": [
           {
            "marker": {
             "colorbar": {
              "outlinewidth": 0,
              "ticks": ""
             }
            },
            "type": "scattergeo"
           }
          ],
          "scattergl": [
           {
            "marker": {
             "colorbar": {
              "outlinewidth": 0,
              "ticks": ""
             }
            },
            "type": "scattergl"
           }
          ],
          "scattermapbox": [
           {
            "marker": {
             "colorbar": {
              "outlinewidth": 0,
              "ticks": ""
             }
            },
            "type": "scattermapbox"
           }
          ],
          "scatterpolar": [
           {
            "marker": {
             "colorbar": {
              "outlinewidth": 0,
              "ticks": ""
             }
            },
            "type": "scatterpolar"
           }
          ],
          "scatterpolargl": [
           {
            "marker": {
             "colorbar": {
              "outlinewidth": 0,
              "ticks": ""
             }
            },
            "type": "scatterpolargl"
           }
          ],
          "scatterternary": [
           {
            "marker": {
             "colorbar": {
              "outlinewidth": 0,
              "ticks": ""
             }
            },
            "type": "scatterternary"
           }
          ],
          "surface": [
           {
            "colorbar": {
             "outlinewidth": 0,
             "ticks": ""
            },
            "colorscale": [
             [
              0,
              "#0d0887"
             ],
             [
              0.1111111111111111,
              "#46039f"
             ],
             [
              0.2222222222222222,
              "#7201a8"
             ],
             [
              0.3333333333333333,
              "#9c179e"
             ],
             [
              0.4444444444444444,
              "#bd3786"
             ],
             [
              0.5555555555555556,
              "#d8576b"
             ],
             [
              0.6666666666666666,
              "#ed7953"
             ],
             [
              0.7777777777777778,
              "#fb9f3a"
             ],
             [
              0.8888888888888888,
              "#fdca26"
             ],
             [
              1,
              "#f0f921"
             ]
            ],
            "type": "surface"
           }
          ],
          "table": [
           {
            "cells": {
             "fill": {
              "color": "#EBF0F8"
             },
             "line": {
              "color": "white"
             }
            },
            "header": {
             "fill": {
              "color": "#C8D4E3"
             },
             "line": {
              "color": "white"
             }
            },
            "type": "table"
           }
          ]
         },
         "layout": {
          "annotationdefaults": {
           "arrowcolor": "#2a3f5f",
           "arrowhead": 0,
           "arrowwidth": 1
          },
          "autotypenumbers": "strict",
          "coloraxis": {
           "colorbar": {
            "outlinewidth": 0,
            "ticks": ""
           }
          },
          "colorscale": {
           "diverging": [
            [
             0,
             "#8e0152"
            ],
            [
             0.1,
             "#c51b7d"
            ],
            [
             0.2,
             "#de77ae"
            ],
            [
             0.3,
             "#f1b6da"
            ],
            [
             0.4,
             "#fde0ef"
            ],
            [
             0.5,
             "#f7f7f7"
            ],
            [
             0.6,
             "#e6f5d0"
            ],
            [
             0.7,
             "#b8e186"
            ],
            [
             0.8,
             "#7fbc41"
            ],
            [
             0.9,
             "#4d9221"
            ],
            [
             1,
             "#276419"
            ]
           ],
           "sequential": [
            [
             0,
             "#0d0887"
            ],
            [
             0.1111111111111111,
             "#46039f"
            ],
            [
             0.2222222222222222,
             "#7201a8"
            ],
            [
             0.3333333333333333,
             "#9c179e"
            ],
            [
             0.4444444444444444,
             "#bd3786"
            ],
            [
             0.5555555555555556,
             "#d8576b"
            ],
            [
             0.6666666666666666,
             "#ed7953"
            ],
            [
             0.7777777777777778,
             "#fb9f3a"
            ],
            [
             0.8888888888888888,
             "#fdca26"
            ],
            [
             1,
             "#f0f921"
            ]
           ],
           "sequentialminus": [
            [
             0,
             "#0d0887"
            ],
            [
             0.1111111111111111,
             "#46039f"
            ],
            [
             0.2222222222222222,
             "#7201a8"
            ],
            [
             0.3333333333333333,
             "#9c179e"
            ],
            [
             0.4444444444444444,
             "#bd3786"
            ],
            [
             0.5555555555555556,
             "#d8576b"
            ],
            [
             0.6666666666666666,
             "#ed7953"
            ],
            [
             0.7777777777777778,
             "#fb9f3a"
            ],
            [
             0.8888888888888888,
             "#fdca26"
            ],
            [
             1,
             "#f0f921"
            ]
           ]
          },
          "colorway": [
           "#636efa",
           "#EF553B",
           "#00cc96",
           "#ab63fa",
           "#FFA15A",
           "#19d3f3",
           "#FF6692",
           "#B6E880",
           "#FF97FF",
           "#FECB52"
          ],
          "font": {
           "color": "#2a3f5f"
          },
          "geo": {
           "bgcolor": "white",
           "lakecolor": "white",
           "landcolor": "#E5ECF6",
           "showlakes": true,
           "showland": true,
           "subunitcolor": "white"
          },
          "hoverlabel": {
           "align": "left"
          },
          "hovermode": "closest",
          "mapbox": {
           "style": "light"
          },
          "paper_bgcolor": "white",
          "plot_bgcolor": "#E5ECF6",
          "polar": {
           "angularaxis": {
            "gridcolor": "white",
            "linecolor": "white",
            "ticks": ""
           },
           "bgcolor": "#E5ECF6",
           "radialaxis": {
            "gridcolor": "white",
            "linecolor": "white",
            "ticks": ""
           }
          },
          "scene": {
           "xaxis": {
            "backgroundcolor": "#E5ECF6",
            "gridcolor": "white",
            "gridwidth": 2,
            "linecolor": "white",
            "showbackground": true,
            "ticks": "",
            "zerolinecolor": "white"
           },
           "yaxis": {
            "backgroundcolor": "#E5ECF6",
            "gridcolor": "white",
            "gridwidth": 2,
            "linecolor": "white",
            "showbackground": true,
            "ticks": "",
            "zerolinecolor": "white"
           },
           "zaxis": {
            "backgroundcolor": "#E5ECF6",
            "gridcolor": "white",
            "gridwidth": 2,
            "linecolor": "white",
            "showbackground": true,
            "ticks": "",
            "zerolinecolor": "white"
           }
          },
          "shapedefaults": {
           "line": {
            "color": "#2a3f5f"
           }
          },
          "ternary": {
           "aaxis": {
            "gridcolor": "white",
            "linecolor": "white",
            "ticks": ""
           },
           "baxis": {
            "gridcolor": "white",
            "linecolor": "white",
            "ticks": ""
           },
           "bgcolor": "#E5ECF6",
           "caxis": {
            "gridcolor": "white",
            "linecolor": "white",
            "ticks": ""
           }
          },
          "title": {
           "x": 0.05
          },
          "xaxis": {
           "automargin": true,
           "gridcolor": "white",
           "linecolor": "white",
           "ticks": "",
           "title": {
            "standoff": 15
           },
           "zerolinecolor": "white",
           "zerolinewidth": 2
          },
          "yaxis": {
           "automargin": true,
           "gridcolor": "white",
           "linecolor": "white",
           "ticks": "",
           "title": {
            "standoff": 15
           },
           "zerolinecolor": "white",
           "zerolinewidth": 2
          }
         }
        },
        "title": {
         "text": "Fuel Difference vs. Service Duration",
         "x": 0.5
        },
        "xaxis": {
         "anchor": "y",
         "domain": [
          0,
          1
         ],
         "title": {
          "text": "Fuel Diff"
         }
        },
        "yaxis": {
         "anchor": "x",
         "domain": [
          0,
          1
         ],
         "title": {
          "text": "service_duration"
         }
        }
       }
      },
      "text/html": [
       "<div>                            <div id=\"01804fca-771c-4df7-9d3a-8ece910f6a97\" class=\"plotly-graph-div\" style=\"height:525px; width:100%;\"></div>            <script type=\"text/javascript\">                require([\"plotly\"], function(Plotly) {                    window.PLOTLYENV=window.PLOTLYENV || {};                                    if (document.getElementById(\"01804fca-771c-4df7-9d3a-8ece910f6a97\")) {                    Plotly.newPlot(                        \"01804fca-771c-4df7-9d3a-8ece910f6a97\",                        [{\"hovertemplate\":\"Fuel Diff=%{x}\\u003cbr\\u003eservice_duration=%{marker.color}\\u003cextra\\u003e\\u003c\\u002fextra\\u003e\",\"legendgroup\":\"\",\"marker\":{\"color\":[5,5,11,6,6,8,1,1,1,1,1,2,4,1,10,6,1,1,1,1,1,1,1,1,1,1,1,1,1,1,1,1,1,1,1,1,1,1,1,1,1,1,1,1,1,1,1,1,1,1,1,1,1,1,1,1,1,13,1,1,1,1,2,1,1,1,1,1,1,1,1,3,1,17,1,1,2,1,1,1,4,1,1,1,1,1,1,1,1,1,1,1,1,1,1,1,1,1,1,1,1,1,1,1,1,1,1,1,1,1,1,1,1,1,1,1,1,1,1,1,6,1,9,1,1,1,1,1,1,1,1,1,1,1,1,1,1,4,1,1,1,12,1,1,1,1,1,4,3,1,30,1,1,1,4,11,1,1,1,1,1,1,1,14,8,1,1,70,1,11,5,18,2,5,1,1,1,1,1,1,1,1,1,1,1,4,1,3,1,1,1,1,1,1,1,1,1,1,4,1,5,1,57,1,2,2,2,1,1,3,1,2,1,2,1,1,1,1,1,1,1,1,1,1,1,6,1,4,1,1,1,4,1,3,1,1,1,3,3,7,1,1,2,1,1,1,1,5,1,1,8,1,1,1,1,1,1,1,1,1,1,1,1,1,1,1,1,1,1,4,5,1,1,1,1,1,1,1,1,1,1,32,3,1,1,1,1,1,1,1,1,1,3,1,1,1,1,1,1,1,1,1,1,1,1,1,1,1,1,1,1,1,1,1,1,1,1,1,1,1,1,1,11,1,1,9,1,1,1,1,1,1,1,1,1,3,7,3,2,1,1,1,1,1,1,1,1,1,1,1,1,1,1,1,1,1,1,1,1,1,1,1,1,1,10,1,1,1,1,1,2,3,1,1,2,2,1,1,1,2,7,1,1,1,1,1,1,1,14,3,7,11,6,7,5,5,8,1,1,1,1,1,1,1,1,1,4,1,1,3,4,1,1,4,1,1,1,1,1,2,1,1,1,2,1,1,1,1,2,1,1,1,1,2,1,1,1,1,1,1,1,1,2,2,7,6,7,1,1,2,1,1,8,1,2,1,3,4,1,1,1,7,1,1,1,2,1,1,2,1,2,3,2,1,1,8,1,1,1,1,1,1,1,1,1,2,1,1,1,1,6,1,1,1,5,11,1,1,1,1,1,1,1,1,1,1,1,1,1,1,1,1,1,1,1,1,1,1,1,1,1,1,1,1,1,1,1,1,1,1,1,3,11,1,6,6,1,1,1,1,1,1,14,2,1,1,6,1,1,1,1,1,1,1,1,1,1,1,6,3,1,4,2,1,1,1,2,1,1,1,1,1,1,2,2,5,5,1,1,5,1,1,1,5,1,1,1,2,1,1,1,1,1,1,1,1,1,1,1,1,1,1,1,1,1,1,1,1,4,2,7,1,1,1,1,6,4,7,2,24,1,1,7,3,3,1,1,1,1,2,1,1,1,1,1,6,1,7,4,1,1,1,1,11,1,1,1,7,4,1,1,1,1,1,1,1,1,1,1,7,1,1,1,1,1,1,1,1,1,1,1,1,1,1,1,1,5,6,1,1,1,1,1,1,1,1,1,1,1,1,1,1,1,1,1,1,1,1,1,1,1,1,1,1,6,1,6,1,1,1,1,1,1,1,1,1,1,8,1,1,9,8,1,1,1,1,1,1,1,1,1,1,1,1,1,1,1,1,1,1,5,1,1,1,1,1,1,4,1,1,3,4,1,1,4,1,1,1,1,1,1,1,1,1,1,1,5,6,5,1,1,1,1,1,1,1,1,1,1,1,1,1,1,1,1,1,1,1,1,1,12,7,7,1,7,1,1,1,1,1,1,1,1,1,1,1,1,1,1,1,1,1,1,1,1,1,1,1,1,1,1,1,1,1,1,1,1,1,1,1,1,1,1,1,1,1,1,1,1,1,1,1,1,1,1,1,1,1,1,1,1,1,1,1,1,8,1,1,1,6,1,1,1,1,9,1,1,1,1,1,3,1,1,1,1,1,1,1,1,1,1,1,5,1,1,1,1,1,1,1,1,1,1,4,6,1,1,1,1,4,1,1,1,1,1,1,1,1,1,1,1,1,1,1,1,1,1,1,1,1,1,1,1,1,1,1,7,1,1,1,1,1,1,1,1,1,1,1,1,1,1,1,1,1,1,1,1,1,1,1,1,1,1,1,1,1,1,1,1,1,4,1,1,1,1,1,1,1,1,1,1,1,1,1,1,1,1,1,1,1,1,1,1,1,1,5,1,1,1,1,1,1,1,1,1,1,1,1,1,1,1,1,1,1,1,1,1,1,1,1,1,1,1,1,1,1,1,1,1,1,1,5,1,1,1,1,1,1,1,1,1,1,1,1,1,1,1,6,1,1,1,1,1,1,1,1,1,1,1,5,1,2,1,1,1,1,1,1,1,1,1,1,1,1,1,1,1,1,1,1,1,1,1,1,1,1,1,1,1,1,1,1,1,1,1,1,1,1,1,1,1,1,1,1,1,1,1,1,1,1,1,1,5,5,1,1,1,1,1,1,1,1,1,1,1,1,1,1,1,1,1,1,1,1,1,1,1,1,1,1,1,1,1,1,1,1,1,1,1,1,1,5,1,1,1,1,1,1,1,1,1,1,1,1,1,1,1,1,1,1,1,1,1,1,1,1,1,1,1,1,1,1,1,1,1,1,1,1,1,1,1,1,1,1,1,1,1,1,1,1,1,1,1,1,1,1,4,4,1,1,1,1,1,1,1,1,1,1,1,1,1,1,1,1,1,1,1,1,1,1,1,5,1,1,1,1,1,1,1,1,1,1,1,1,1,1,1,1,1,1,1,1,1,1,6,1,1,1,1,1,1,1,1,1,1,1,1,1,1,1,1,1,1,1,1,1,1,1,1,1,1,1,1,1,1,1,1,1,1,1,1,1,1,1,1,5,1,1,1,1,1,1,1,1,5,1,1,1,1,1,1,1,1,4,3,5,5,6,4,4,4,3,4,5,4,4,5,4,5,4,4,5,3,1,1,1,1,1,1,1,5,7,7,8,6,1,1,5,1,5,4,1,1,5,5,4,1,1,1,1,1,1,1,1,1,1,1,1,1,1,5,6,7,1,1,1,1,1,1,1,1,1,1,1,1,1,1,1,1,1,1,1,1,1,1,1,1,1,1,1,1,1,17,5,4,1,1,1,1,1,1,1,1,6,1,1,1,1,1,1,1,1,1,8,1,1,11,11,1,1,1,1,1,6,6,1,1,1,1,1,7,1,1,1,1,1,1,1,1,1,8,1,1,1,1,1,1,9,5,4,2,11,7,1,1,1,1,1,1,1,1,1,1,8,8,8,7,6,1,1,1,1,1,9,6,7,7,8,1,1,1,1,1,1,1,1,1,1,9,1,1,1,1,1,1,1,8,4,1],\"coloraxis\":\"coloraxis\",\"symbol\":\"circle\"},\"mode\":\"markers\",\"name\":\"\",\"showlegend\":false,\"x\":[0.0,0.0,0.37,0.12,0.0,0.0,0.0,0.12,-0.13,0.0,0.0,0.0,0.13,0.0,0.0,0.13,0.0,0.0,0.0,0.0,-0.13,0.0,0.0,0.0,0.0,0.0,0.0,0.0,0.0,0.0,0.0,0.0,0.0,0.0,0.0,0.0,0.0,0.0,0.0,0.0,0.0,0.0,0.0,0.0,0.0,0.0,0.0,0.0,0.0,0.0,0.0,0.0,0.0,0.0,0.0,0.0,0.0,0.0,0.0,0.0,0.0,0.0,0.0,0.0,0.0,0.0,0.0,0.0,0.0,0.0,0.0,0.0,0.0,0.25,0.0,0.25,0.25,0.12,0.12,0.0,0.0,0.0,0.0,0.0,0.0,0.0,0.0,0.0,0.0,0.0,0.0,0.0,0.0,0.0,0.0,0.0,0.0,0.0,0.0,0.0,0.0,0.0,0.0,0.0,0.0,0.0,0.0,0.0,0.0,0.0,0.0,0.0,0.0,0.0,0.13,0.0,0.0,0.0,0.0,0.0,0.0,0.13,0.0,0.0,0.0,0.0,0.0,0.0,0.0,0.12,0.0,0.13,0.0,0.13,-0.13,0.0,-0.13,0.0,0.0,0.13,0.0,0.25,0.0,-0.38,0.13,0.0,0.13,-0.25,0.0,0.12,0.0,0.0,0.0,0.0,0.13,-0.12,0.0,0.12,0.0,0.13,0.0,0.0,0.0,0.12,0.13,0.12,0.0,0.12,0.0,0.12,0.0,0.0,0.0,0.0,0.0,0.0,0.0,0.0,0.0,0.0,0.0,0.0,0.0,0.0,0.0,0.0,0.0,0.0,0.12,0.13,0.0,0.0,0.0,0.0,0.0,0.0,0.0,0.0,0.0,0.0,0.0,0.0,-0.25,0.12,0.0,0.0,-0.13,0.0,0.12,0.25,0.13,0.0,0.0,0.0,0.0,0.0,0.0,0.0,0.0,0.0,0.0,0.0,0.0,0.0,0.0,0.0,0.12,0.0,0.0,0.0,0.0,0.38,0.0,0.0,0.13,0.0,0.0,0.12,0.0,-0.12,0.0,0.0,0.13,0.13,0.0,0.0,0.0,0.0,0.0,0.0,0.0,0.0,0.0,0.0,0.0,0.0,0.0,0.0,0.0,0.0,0.0,0.0,0.0,0.13,0.0,0.0,0.25,0.0,0.0,0.0,0.0,0.0,0.0,0.0,0.0,0.0,0.0,0.0,0.0,0.0,0.0,0.0,0.0,0.0,0.0,0.0,0.0,0.0,0.0,0.0,0.0,0.0,0.0,0.0,0.0,0.0,0.0,0.0,0.0,0.0,0.0,0.0,0.0,0.0,0.0,0.0,0.0,0.0,0.0,0.0,0.0,0.0,0.0,0.0,0.0,0.0,0.0,0.0,0.0,0.0,0.0,0.0,0.0,0.0,0.0,0.0,0.0,0.0,0.0,0.0,0.0,0.0,0.0,0.0,0.0,0.0,0.0,0.0,0.0,0.0,0.0,0.0,0.0,0.0,0.0,0.0,0.13,0.0,0.0,0.255,0.0,0.0,0.0,0.0,0.0,0.0,0.0,0.0,0.0,0.0,0.0,0.0,0.0,0.0,0.0,0.0,0.0,0.0,0.0,0.0,0.0,0.0,0.0,0.0,0.0,0.0,0.0,0.0,0.0,0.0,0.0,0.0,0.0,0.0,0.0,0.0,0.0,0.0,0.13,0.0,0.0,0.0,0.0,0.0,0.0,0.0,0.0,0.0,0.0,0.0,0.0,0.0,0.0,0.0,0.0,0.0,0.0,0.0,0.0,0.0,0.0,0.0,0.0,0.0,0.0,0.0,0.0,0.0,0.0,0.0,0.0,0.0,0.0,0.0,0.0,0.0,0.0,0.0,0.0,0.0,0.0,0.0,0.0,0.0,0.0,0.0,0.0,0.0,0.0,0.13,0.0,0.0,0.0,0.0,0.13,0.0,0.0,0.0,0.0,0.0,0.0,0.0,0.0,0.0,0.0,0.0,0.0,0.12,0.0,0.0,0.0,0.0,0.0,0.0,0.0,0.0,0.0,-0.12,0.0,0.0,0.0,0.0,0.0,0.0,0.0,0.0,0.0,0.0,0.0,0.0,0.0,0.0,0.0,0.0,0.0,0.0,0.0,0.0,0.0,0.0,0.0,0.0,0.0,0.0,0.0,0.0,0.0,0.0,0.0,0.0,0.0,0.0,0.0,0.0,0.0,0.0,0.0,0.0,0.0,0.0,0.0,0.0,0.0,0.0,0.0,0.0,0.0,0.0,0.0,0.0,0.0,0.0,0.0,0.0,0.0,0.0,0.0,0.0,0.0,0.0,0.0,0.0,0.0,0.0,0.0,0.0,0.0,0.0,0.0,0.0,0.0,0.0,0.0,0.0,0.0,0.0,0.0,0.0,0.0,0.0,0.0,0.0,0.0,0.0,0.0,0.0,0.0,0.0,0.0,0.0,0.0,0.0,0.0,0.0,0.0,0.0,0.0,0.0,0.0,0.0,0.0,0.0,0.0,0.0,0.0,0.0,0.0,0.0,0.0,0.0,0.0,0.0,0.0,0.0,0.0,0.0,0.0,0.0,0.0,0.0,0.0,0.0,0.0,0.0,0.0,0.0,0.0,0.12,0.0,0.0,0.0,0.0,0.0,0.0,0.0,0.0,0.0,0.0,0.0,0.0,0.0,0.0,0.0,0.0,0.0,0.0,0.0,0.0,0.0,0.0,0.0,0.0,0.0,0.0,0.0,0.0,0.0,0.0,0.0,0.0,0.0,0.0,0.0,0.0,0.0,0.0,0.0,0.0,0.0,0.0,0.0,0.0,0.0,0.0,0.0,0.0,0.0,0.0,0.0,0.0,0.0,0.0,0.0,0.0,0.0,0.0,0.0,0.0,0.0,0.0,0.0,0.0,0.0,0.0,0.0,0.0,0.0,0.0,0.0,0.0,0.0,0.0,0.0,0.0,0.0,0.0,0.0,0.0,0.0,0.0,0.0,0.0,0.0,0.0,0.0,0.0,0.0,0.0,0.0,0.0,0.0,0.0,0.0,0.0,0.0,0.0,0.0,0.0,0.0,0.0,0.0,0.0,0.0,0.0,0.0,0.0,0.0,0.0,0.0,0.0,0.0,0.0,0.0,0.0,0.0,0.0,0.0,0.0,0.0,0.0,0.0,0.0,0.0,0.0,0.0,0.0,0.0,0.0,0.0,0.0,0.0,0.0,0.0,0.0,0.0,0.0,0.0,0.0,0.0,0.0,0.0,0.0,0.0,0.0,0.0,0.0,0.0,0.0,0.0,0.0,0.0,0.0,0.0,0.0,0.0,0.0,0.0,0.0,0.0,0.0,0.0,0.0,0.0,0.0,0.0,0.0,0.0,0.0,0.0,0.0,0.0,0.0,0.0,0.0,0.0,0.0,0.0,0.0,0.0,0.0,0.0,0.0,0.0,0.0,0.0,0.0,0.0,0.0,0.0,0.0,0.0,0.0,0.0,0.0,0.0,0.0,0.0,0.0,0.0,0.0,0.0,0.0,0.0,0.0,0.0,0.0,0.0,0.0,0.0,0.0,0.0,0.0,0.0,0.0,0.0,0.0,0.0,0.0,0.0,0.0,0.0,0.0,0.0,0.0,0.0,0.0,0.0,0.0,0.0,0.0,0.0,0.0,0.0,0.0,0.0,0.0,0.0,0.0,0.0,0.0,0.0,0.0,0.0,0.0,0.0,0.0,0.0,0.0,0.0,0.0,0.0,0.0,0.0,0.0,0.0,0.0,0.0,0.0,0.0,0.0,0.0,0.0,0.0,0.0,0.0,0.0,0.0,0.0,0.0,0.0,0.0,0.0,0.0,0.0,0.0,0.0,0.0,0.0,0.0,0.0,0.0,0.0,0.0,0.0,0.0,0.0,0.0,0.0,0.0,0.0,0.0,0.0,0.0,0.0,0.0,0.0,0.0,0.0,0.0,0.0,0.0,0.0,0.0,0.0,0.0,0.0,0.0,0.0,0.0,0.0,0.0,0.0,0.0,0.0,0.0,0.0,0.0,0.0,0.0,0.0,0.0,0.0,0.0,0.0,0.0,0.0,0.0,0.0,0.0,0.0,0.0,0.0,0.0,0.0,0.0,0.0,0.0,0.0,0.0,0.0,0.0,0.0,0.0,0.0,0.0,0.0,0.0,0.0,0.0,0.0,0.0,0.0,0.0,0.0,0.0,0.0,0.0,0.0,0.0,0.0,0.0,0.0,0.0,0.0,0.0,0.0,0.0,0.0,0.0,0.0,0.0,0.0,0.0,0.0,0.0,0.0,0.0,0.0,0.0,0.0,0.0,0.0,0.0,0.0,0.0,0.0,0.0,0.0,0.0,0.0,0.0,0.0,0.0,0.0,0.0,0.0,0.0,0.0,0.0,0.0,0.0,0.0,0.0,0.0,0.0,0.0,0.0,0.0,0.0,0.0,0.0,0.0,0.0,0.0,0.0,0.0,0.0,0.0,0.0,0.0,0.0,0.0,0.0,0.0,0.0,0.0,0.0,0.0,0.0,0.0,0.0,0.0,0.0,0.0,0.0,0.0,0.0,0.0,0.0,0.0,0.0,0.0,0.0,0.0,0.0,0.0,0.0,0.0,0.0,0.0,0.0,0.0,0.0,0.0,0.0,0.0,0.0,0.0,0.0,0.0,0.0,0.0,0.0,0.0,0.0,0.0,0.0,0.0,0.0,0.0,0.0,0.0,0.0,0.0,0.0,0.0,0.0,0.0,0.0,0.0,0.0,0.0,0.0,0.0,0.0,0.0,0.0,0.0,0.0,0.0,0.0,0.0,0.0,0.0,0.0,0.0,0.0,0.0,0.0,0.0,0.0,0.0,0.0,0.0,0.0,0.0,0.0,0.0,0.0,0.0,0.0,0.0,0.0,0.0,0.0,0.0,0.0,0.0,0.0,0.0,0.0,0.0,0.0,0.0,0.0,0.0,0.0,0.0,0.0,0.0,0.0,0.0,0.0,0.0,0.0,0.0,0.0,0.0,0.0,0.0,0.0,0.0,0.0,0.0,0.0,0.0,0.0,0.0,0.0,0.0,0.0,0.0,0.0,0.0,0.0,0.0,0.0,0.0,0.0,0.0,0.0,0.0,0.0,0.0,0.0,0.0,0.0,0.0,0.0,0.0,0.0,0.0,0.0,0.0,0.0,0.0,0.0,0.0,0.0,0.0,0.0,0.0,0.0,0.0,0.0,0.0,0.0,0.0,0.0,0.0,0.0,0.0,0.0,0.0,0.0,0.0,0.0,0.0,0.0,0.0,0.0,0.0,0.0,0.0,0.0,0.0,0.0,0.0,0.0,0.0,0.0,0.0,0.0,0.0,0.0,0.0,0.0,0.0,0.0,0.0,0.0,0.0,0.0,0.0,0.0,0.0,0.0,0.0,0.0,0.0,0.0,0.0,0.0,0.0,0.0,0.0,0.0,0.0,0.0,0.0,0.0,0.0,0.0,0.0,0.0,0.0,0.0,0.0,0.0,0.0,0.0,0.0,0.0,0.0,0.0,0.0,0.0,0.0,0.0,0.0,0.0,0.0,0.0,0.0,0.0,0.0,0.0,0.0,0.0,0.0,0.0,0.0,0.0,0.0,0.0,0.0,0.0,0.0,0.0,0.0,0.0,0.0,0.0,0.0,0.0,0.0,0.0,0.0,0.0,0.0,0.0,0.0,0.0,0.0,0.0,0.0,0.0,0.0,0.0,0.0,0.0,0.0,0.0,0.0,0.0,0.0,0.0,0.0,0.0,0.0,0.0,0.0,0.0,0.0,0.0,0.0,0.0,0.0,0.0,0.0,0.0,0.0,0.0,0.0,0.0,0.0,0.0,0.0,0.0,0.0,0.0,0.0,0.0,0.0,0.0,0.0,0.0,0.0,0.0,0.0,0.0,0.0,0.0,0.0,0.0,0.0,0.0,0.0,0.0,0.0,0.0,0.0,0.0,0.0,0.0,0.0,0.0,0.0,0.0,0.0,0.0,0.0,0.0,0.0,0.0,0.0,0.0,0.0,0.0,0.0,0.0,0.0,0.0,0.0,0.0,0.0,0.13,0.0,0.0,0.0,0.13,0.0,0.0,0.13,0.0,0.0,0.0,-0.25,0.13,0.0,0.13,0.0,0.0,0.0,0.0,0.0,0.12,0.0,0.0,0.0,0.0,0.0,0.0,0.0,0.0,0.0,0.0,-0.13,0.0,0.13,0.0,0.0,0.0,0.0,0.0,0.0,0.0,0.0,0.0,0.0,0.0,0.0,0.0,0.25,0.13,0.12,0.0,0.0,-0.13,0.0,0.13,0.0,0.0,0.0,0.0,0.13,0.0,0.13,0.0,0.0,0.13,0.0,0.0,0.0,0.0,0.0,0.0,0.0,0.0,0.37,0.0,0.12,0.0,0.0,0.0,0.0,0.0,0.0,0.0,0.0,0.0,0.0,0.0,0.0,0.13,0.0,0.0,0.0,-0.13,0.13,0.12,0.0,0.0,0.13,0.0,0.0,-0.25,0.13,0.0,0.0,0.13,0.12,0.0,0.0,0.0,0.0,0.0,0.0,0.0,0.0,0.12,0.0,0.0,0.0,0.0,0.0,0.12,0.13,0.0],\"xaxis\":\"x\",\"y\":[5,5,11,6,6,8,1,1,1,1,1,2,4,1,10,6,1,1,1,1,1,1,1,1,1,1,1,1,1,1,1,1,1,1,1,1,1,1,1,1,1,1,1,1,1,1,1,1,1,1,1,1,1,1,1,1,1,13,1,1,1,1,2,1,1,1,1,1,1,1,1,3,1,17,1,1,2,1,1,1,4,1,1,1,1,1,1,1,1,1,1,1,1,1,1,1,1,1,1,1,1,1,1,1,1,1,1,1,1,1,1,1,1,1,1,1,1,1,1,1,6,1,9,1,1,1,1,1,1,1,1,1,1,1,1,1,1,4,1,1,1,12,1,1,1,1,1,4,3,1,30,1,1,1,4,11,1,1,1,1,1,1,1,14,8,1,1,70,1,11,5,18,2,5,1,1,1,1,1,1,1,1,1,1,1,4,1,3,1,1,1,1,1,1,1,1,1,1,4,1,5,1,57,1,2,2,2,1,1,3,1,2,1,2,1,1,1,1,1,1,1,1,1,1,1,6,1,4,1,1,1,4,1,3,1,1,1,3,3,7,1,1,2,1,1,1,1,5,1,1,8,1,1,1,1,1,1,1,1,1,1,1,1,1,1,1,1,1,1,4,5,1,1,1,1,1,1,1,1,1,1,32,3,1,1,1,1,1,1,1,1,1,3,1,1,1,1,1,1,1,1,1,1,1,1,1,1,1,1,1,1,1,1,1,1,1,1,1,1,1,1,1,11,1,1,9,1,1,1,1,1,1,1,1,1,3,7,3,2,1,1,1,1,1,1,1,1,1,1,1,1,1,1,1,1,1,1,1,1,1,1,1,1,1,10,1,1,1,1,1,2,3,1,1,2,2,1,1,1,2,7,1,1,1,1,1,1,1,14,3,7,11,6,7,5,5,8,1,1,1,1,1,1,1,1,1,4,1,1,3,4,1,1,4,1,1,1,1,1,2,1,1,1,2,1,1,1,1,2,1,1,1,1,2,1,1,1,1,1,1,1,1,2,2,7,6,7,1,1,2,1,1,8,1,2,1,3,4,1,1,1,7,1,1,1,2,1,1,2,1,2,3,2,1,1,8,1,1,1,1,1,1,1,1,1,2,1,1,1,1,6,1,1,1,5,11,1,1,1,1,1,1,1,1,1,1,1,1,1,1,1,1,1,1,1,1,1,1,1,1,1,1,1,1,1,1,1,1,1,1,1,3,11,1,6,6,1,1,1,1,1,1,14,2,1,1,6,1,1,1,1,1,1,1,1,1,1,1,6,3,1,4,2,1,1,1,2,1,1,1,1,1,1,2,2,5,5,1,1,5,1,1,1,5,1,1,1,2,1,1,1,1,1,1,1,1,1,1,1,1,1,1,1,1,1,1,1,1,4,2,7,1,1,1,1,6,4,7,2,24,1,1,7,3,3,1,1,1,1,2,1,1,1,1,1,6,1,7,4,1,1,1,1,11,1,1,1,7,4,1,1,1,1,1,1,1,1,1,1,7,1,1,1,1,1,1,1,1,1,1,1,1,1,1,1,1,5,6,1,1,1,1,1,1,1,1,1,1,1,1,1,1,1,1,1,1,1,1,1,1,1,1,1,1,6,1,6,1,1,1,1,1,1,1,1,1,1,8,1,1,9,8,1,1,1,1,1,1,1,1,1,1,1,1,1,1,1,1,1,1,5,1,1,1,1,1,1,4,1,1,3,4,1,1,4,1,1,1,1,1,1,1,1,1,1,1,5,6,5,1,1,1,1,1,1,1,1,1,1,1,1,1,1,1,1,1,1,1,1,1,12,7,7,1,7,1,1,1,1,1,1,1,1,1,1,1,1,1,1,1,1,1,1,1,1,1,1,1,1,1,1,1,1,1,1,1,1,1,1,1,1,1,1,1,1,1,1,1,1,1,1,1,1,1,1,1,1,1,1,1,1,1,1,1,1,8,1,1,1,6,1,1,1,1,9,1,1,1,1,1,3,1,1,1,1,1,1,1,1,1,1,1,5,1,1,1,1,1,1,1,1,1,1,4,6,1,1,1,1,4,1,1,1,1,1,1,1,1,1,1,1,1,1,1,1,1,1,1,1,1,1,1,1,1,1,1,7,1,1,1,1,1,1,1,1,1,1,1,1,1,1,1,1,1,1,1,1,1,1,1,1,1,1,1,1,1,1,1,1,1,4,1,1,1,1,1,1,1,1,1,1,1,1,1,1,1,1,1,1,1,1,1,1,1,1,5,1,1,1,1,1,1,1,1,1,1,1,1,1,1,1,1,1,1,1,1,1,1,1,1,1,1,1,1,1,1,1,1,1,1,1,5,1,1,1,1,1,1,1,1,1,1,1,1,1,1,1,6,1,1,1,1,1,1,1,1,1,1,1,5,1,2,1,1,1,1,1,1,1,1,1,1,1,1,1,1,1,1,1,1,1,1,1,1,1,1,1,1,1,1,1,1,1,1,1,1,1,1,1,1,1,1,1,1,1,1,1,1,1,1,1,1,5,5,1,1,1,1,1,1,1,1,1,1,1,1,1,1,1,1,1,1,1,1,1,1,1,1,1,1,1,1,1,1,1,1,1,1,1,1,1,5,1,1,1,1,1,1,1,1,1,1,1,1,1,1,1,1,1,1,1,1,1,1,1,1,1,1,1,1,1,1,1,1,1,1,1,1,1,1,1,1,1,1,1,1,1,1,1,1,1,1,1,1,1,1,4,4,1,1,1,1,1,1,1,1,1,1,1,1,1,1,1,1,1,1,1,1,1,1,1,5,1,1,1,1,1,1,1,1,1,1,1,1,1,1,1,1,1,1,1,1,1,1,6,1,1,1,1,1,1,1,1,1,1,1,1,1,1,1,1,1,1,1,1,1,1,1,1,1,1,1,1,1,1,1,1,1,1,1,1,1,1,1,1,5,1,1,1,1,1,1,1,1,5,1,1,1,1,1,1,1,1,4,3,5,5,6,4,4,4,3,4,5,4,4,5,4,5,4,4,5,3,1,1,1,1,1,1,1,5,7,7,8,6,1,1,5,1,5,4,1,1,5,5,4,1,1,1,1,1,1,1,1,1,1,1,1,1,1,5,6,7,1,1,1,1,1,1,1,1,1,1,1,1,1,1,1,1,1,1,1,1,1,1,1,1,1,1,1,1,1,17,5,4,1,1,1,1,1,1,1,1,6,1,1,1,1,1,1,1,1,1,8,1,1,11,11,1,1,1,1,1,6,6,1,1,1,1,1,7,1,1,1,1,1,1,1,1,1,8,1,1,1,1,1,1,9,5,4,2,11,7,1,1,1,1,1,1,1,1,1,1,8,8,8,7,6,1,1,1,1,1,9,6,7,7,8,1,1,1,1,1,1,1,1,1,1,9,1,1,1,1,1,1,1,8,4,1],\"yaxis\":\"y\",\"type\":\"scattergl\"}],                        {\"template\":{\"data\":{\"histogram2dcontour\":[{\"type\":\"histogram2dcontour\",\"colorbar\":{\"outlinewidth\":0,\"ticks\":\"\"},\"colorscale\":[[0.0,\"#0d0887\"],[0.1111111111111111,\"#46039f\"],[0.2222222222222222,\"#7201a8\"],[0.3333333333333333,\"#9c179e\"],[0.4444444444444444,\"#bd3786\"],[0.5555555555555556,\"#d8576b\"],[0.6666666666666666,\"#ed7953\"],[0.7777777777777778,\"#fb9f3a\"],[0.8888888888888888,\"#fdca26\"],[1.0,\"#f0f921\"]]}],\"choropleth\":[{\"type\":\"choropleth\",\"colorbar\":{\"outlinewidth\":0,\"ticks\":\"\"}}],\"histogram2d\":[{\"type\":\"histogram2d\",\"colorbar\":{\"outlinewidth\":0,\"ticks\":\"\"},\"colorscale\":[[0.0,\"#0d0887\"],[0.1111111111111111,\"#46039f\"],[0.2222222222222222,\"#7201a8\"],[0.3333333333333333,\"#9c179e\"],[0.4444444444444444,\"#bd3786\"],[0.5555555555555556,\"#d8576b\"],[0.6666666666666666,\"#ed7953\"],[0.7777777777777778,\"#fb9f3a\"],[0.8888888888888888,\"#fdca26\"],[1.0,\"#f0f921\"]]}],\"heatmap\":[{\"type\":\"heatmap\",\"colorbar\":{\"outlinewidth\":0,\"ticks\":\"\"},\"colorscale\":[[0.0,\"#0d0887\"],[0.1111111111111111,\"#46039f\"],[0.2222222222222222,\"#7201a8\"],[0.3333333333333333,\"#9c179e\"],[0.4444444444444444,\"#bd3786\"],[0.5555555555555556,\"#d8576b\"],[0.6666666666666666,\"#ed7953\"],[0.7777777777777778,\"#fb9f3a\"],[0.8888888888888888,\"#fdca26\"],[1.0,\"#f0f921\"]]}],\"heatmapgl\":[{\"type\":\"heatmapgl\",\"colorbar\":{\"outlinewidth\":0,\"ticks\":\"\"},\"colorscale\":[[0.0,\"#0d0887\"],[0.1111111111111111,\"#46039f\"],[0.2222222222222222,\"#7201a8\"],[0.3333333333333333,\"#9c179e\"],[0.4444444444444444,\"#bd3786\"],[0.5555555555555556,\"#d8576b\"],[0.6666666666666666,\"#ed7953\"],[0.7777777777777778,\"#fb9f3a\"],[0.8888888888888888,\"#fdca26\"],[1.0,\"#f0f921\"]]}],\"contourcarpet\":[{\"type\":\"contourcarpet\",\"colorbar\":{\"outlinewidth\":0,\"ticks\":\"\"}}],\"contour\":[{\"type\":\"contour\",\"colorbar\":{\"outlinewidth\":0,\"ticks\":\"\"},\"colorscale\":[[0.0,\"#0d0887\"],[0.1111111111111111,\"#46039f\"],[0.2222222222222222,\"#7201a8\"],[0.3333333333333333,\"#9c179e\"],[0.4444444444444444,\"#bd3786\"],[0.5555555555555556,\"#d8576b\"],[0.6666666666666666,\"#ed7953\"],[0.7777777777777778,\"#fb9f3a\"],[0.8888888888888888,\"#fdca26\"],[1.0,\"#f0f921\"]]}],\"surface\":[{\"type\":\"surface\",\"colorbar\":{\"outlinewidth\":0,\"ticks\":\"\"},\"colorscale\":[[0.0,\"#0d0887\"],[0.1111111111111111,\"#46039f\"],[0.2222222222222222,\"#7201a8\"],[0.3333333333333333,\"#9c179e\"],[0.4444444444444444,\"#bd3786\"],[0.5555555555555556,\"#d8576b\"],[0.6666666666666666,\"#ed7953\"],[0.7777777777777778,\"#fb9f3a\"],[0.8888888888888888,\"#fdca26\"],[1.0,\"#f0f921\"]]}],\"mesh3d\":[{\"type\":\"mesh3d\",\"colorbar\":{\"outlinewidth\":0,\"ticks\":\"\"}}],\"scatter\":[{\"fillpattern\":{\"fillmode\":\"overlay\",\"size\":10,\"solidity\":0.2},\"type\":\"scatter\"}],\"parcoords\":[{\"type\":\"parcoords\",\"line\":{\"colorbar\":{\"outlinewidth\":0,\"ticks\":\"\"}}}],\"scatterpolargl\":[{\"type\":\"scatterpolargl\",\"marker\":{\"colorbar\":{\"outlinewidth\":0,\"ticks\":\"\"}}}],\"bar\":[{\"error_x\":{\"color\":\"#2a3f5f\"},\"error_y\":{\"color\":\"#2a3f5f\"},\"marker\":{\"line\":{\"color\":\"#E5ECF6\",\"width\":0.5},\"pattern\":{\"fillmode\":\"overlay\",\"size\":10,\"solidity\":0.2}},\"type\":\"bar\"}],\"scattergeo\":[{\"type\":\"scattergeo\",\"marker\":{\"colorbar\":{\"outlinewidth\":0,\"ticks\":\"\"}}}],\"scatterpolar\":[{\"type\":\"scatterpolar\",\"marker\":{\"colorbar\":{\"outlinewidth\":0,\"ticks\":\"\"}}}],\"histogram\":[{\"marker\":{\"pattern\":{\"fillmode\":\"overlay\",\"size\":10,\"solidity\":0.2}},\"type\":\"histogram\"}],\"scattergl\":[{\"type\":\"scattergl\",\"marker\":{\"colorbar\":{\"outlinewidth\":0,\"ticks\":\"\"}}}],\"scatter3d\":[{\"type\":\"scatter3d\",\"line\":{\"colorbar\":{\"outlinewidth\":0,\"ticks\":\"\"}},\"marker\":{\"colorbar\":{\"outlinewidth\":0,\"ticks\":\"\"}}}],\"scattermapbox\":[{\"type\":\"scattermapbox\",\"marker\":{\"colorbar\":{\"outlinewidth\":0,\"ticks\":\"\"}}}],\"scatterternary\":[{\"type\":\"scatterternary\",\"marker\":{\"colorbar\":{\"outlinewidth\":0,\"ticks\":\"\"}}}],\"scattercarpet\":[{\"type\":\"scattercarpet\",\"marker\":{\"colorbar\":{\"outlinewidth\":0,\"ticks\":\"\"}}}],\"carpet\":[{\"aaxis\":{\"endlinecolor\":\"#2a3f5f\",\"gridcolor\":\"white\",\"linecolor\":\"white\",\"minorgridcolor\":\"white\",\"startlinecolor\":\"#2a3f5f\"},\"baxis\":{\"endlinecolor\":\"#2a3f5f\",\"gridcolor\":\"white\",\"linecolor\":\"white\",\"minorgridcolor\":\"white\",\"startlinecolor\":\"#2a3f5f\"},\"type\":\"carpet\"}],\"table\":[{\"cells\":{\"fill\":{\"color\":\"#EBF0F8\"},\"line\":{\"color\":\"white\"}},\"header\":{\"fill\":{\"color\":\"#C8D4E3\"},\"line\":{\"color\":\"white\"}},\"type\":\"table\"}],\"barpolar\":[{\"marker\":{\"line\":{\"color\":\"#E5ECF6\",\"width\":0.5},\"pattern\":{\"fillmode\":\"overlay\",\"size\":10,\"solidity\":0.2}},\"type\":\"barpolar\"}],\"pie\":[{\"automargin\":true,\"type\":\"pie\"}]},\"layout\":{\"autotypenumbers\":\"strict\",\"colorway\":[\"#636efa\",\"#EF553B\",\"#00cc96\",\"#ab63fa\",\"#FFA15A\",\"#19d3f3\",\"#FF6692\",\"#B6E880\",\"#FF97FF\",\"#FECB52\"],\"font\":{\"color\":\"#2a3f5f\"},\"hovermode\":\"closest\",\"hoverlabel\":{\"align\":\"left\"},\"paper_bgcolor\":\"white\",\"plot_bgcolor\":\"#E5ECF6\",\"polar\":{\"bgcolor\":\"#E5ECF6\",\"angularaxis\":{\"gridcolor\":\"white\",\"linecolor\":\"white\",\"ticks\":\"\"},\"radialaxis\":{\"gridcolor\":\"white\",\"linecolor\":\"white\",\"ticks\":\"\"}},\"ternary\":{\"bgcolor\":\"#E5ECF6\",\"aaxis\":{\"gridcolor\":\"white\",\"linecolor\":\"white\",\"ticks\":\"\"},\"baxis\":{\"gridcolor\":\"white\",\"linecolor\":\"white\",\"ticks\":\"\"},\"caxis\":{\"gridcolor\":\"white\",\"linecolor\":\"white\",\"ticks\":\"\"}},\"coloraxis\":{\"colorbar\":{\"outlinewidth\":0,\"ticks\":\"\"}},\"colorscale\":{\"sequential\":[[0.0,\"#0d0887\"],[0.1111111111111111,\"#46039f\"],[0.2222222222222222,\"#7201a8\"],[0.3333333333333333,\"#9c179e\"],[0.4444444444444444,\"#bd3786\"],[0.5555555555555556,\"#d8576b\"],[0.6666666666666666,\"#ed7953\"],[0.7777777777777778,\"#fb9f3a\"],[0.8888888888888888,\"#fdca26\"],[1.0,\"#f0f921\"]],\"sequentialminus\":[[0.0,\"#0d0887\"],[0.1111111111111111,\"#46039f\"],[0.2222222222222222,\"#7201a8\"],[0.3333333333333333,\"#9c179e\"],[0.4444444444444444,\"#bd3786\"],[0.5555555555555556,\"#d8576b\"],[0.6666666666666666,\"#ed7953\"],[0.7777777777777778,\"#fb9f3a\"],[0.8888888888888888,\"#fdca26\"],[1.0,\"#f0f921\"]],\"diverging\":[[0,\"#8e0152\"],[0.1,\"#c51b7d\"],[0.2,\"#de77ae\"],[0.3,\"#f1b6da\"],[0.4,\"#fde0ef\"],[0.5,\"#f7f7f7\"],[0.6,\"#e6f5d0\"],[0.7,\"#b8e186\"],[0.8,\"#7fbc41\"],[0.9,\"#4d9221\"],[1,\"#276419\"]]},\"xaxis\":{\"gridcolor\":\"white\",\"linecolor\":\"white\",\"ticks\":\"\",\"title\":{\"standoff\":15},\"zerolinecolor\":\"white\",\"automargin\":true,\"zerolinewidth\":2},\"yaxis\":{\"gridcolor\":\"white\",\"linecolor\":\"white\",\"ticks\":\"\",\"title\":{\"standoff\":15},\"zerolinecolor\":\"white\",\"automargin\":true,\"zerolinewidth\":2},\"scene\":{\"xaxis\":{\"backgroundcolor\":\"#E5ECF6\",\"gridcolor\":\"white\",\"linecolor\":\"white\",\"showbackground\":true,\"ticks\":\"\",\"zerolinecolor\":\"white\",\"gridwidth\":2},\"yaxis\":{\"backgroundcolor\":\"#E5ECF6\",\"gridcolor\":\"white\",\"linecolor\":\"white\",\"showbackground\":true,\"ticks\":\"\",\"zerolinecolor\":\"white\",\"gridwidth\":2},\"zaxis\":{\"backgroundcolor\":\"#E5ECF6\",\"gridcolor\":\"white\",\"linecolor\":\"white\",\"showbackground\":true,\"ticks\":\"\",\"zerolinecolor\":\"white\",\"gridwidth\":2}},\"shapedefaults\":{\"line\":{\"color\":\"#2a3f5f\"}},\"annotationdefaults\":{\"arrowcolor\":\"#2a3f5f\",\"arrowhead\":0,\"arrowwidth\":1},\"geo\":{\"bgcolor\":\"white\",\"landcolor\":\"#E5ECF6\",\"subunitcolor\":\"white\",\"showland\":true,\"showlakes\":true,\"lakecolor\":\"white\"},\"title\":{\"x\":0.05},\"mapbox\":{\"style\":\"light\"}}},\"xaxis\":{\"anchor\":\"y\",\"domain\":[0.0,1.0],\"title\":{\"text\":\"Fuel Diff\"}},\"yaxis\":{\"anchor\":\"x\",\"domain\":[0.0,1.0],\"title\":{\"text\":\"service_duration\"}},\"coloraxis\":{\"colorbar\":{\"title\":{\"text\":\"service_duration\"}},\"colorscale\":[[0.0,\"#0d0887\"],[0.1111111111111111,\"#46039f\"],[0.2222222222222222,\"#7201a8\"],[0.3333333333333333,\"#9c179e\"],[0.4444444444444444,\"#bd3786\"],[0.5555555555555556,\"#d8576b\"],[0.6666666666666666,\"#ed7953\"],[0.7777777777777778,\"#fb9f3a\"],[0.8888888888888888,\"#fdca26\"],[1.0,\"#f0f921\"]]},\"legend\":{\"tracegroupgap\":0},\"title\":{\"text\":\"Fuel Difference vs. Service Duration\",\"x\":0.5}},                        {\"responsive\": true}                    ).then(function(){\n",
       "                            \n",
       "var gd = document.getElementById('01804fca-771c-4df7-9d3a-8ece910f6a97');\n",
       "var x = new MutationObserver(function (mutations, observer) {{\n",
       "        var display = window.getComputedStyle(gd).display;\n",
       "        if (!display || display === 'none') {{\n",
       "            console.log([gd, 'removed!']);\n",
       "            Plotly.purge(gd);\n",
       "            observer.disconnect();\n",
       "        }}\n",
       "}});\n",
       "\n",
       "// Listen for the removal of the full notebook cells\n",
       "var notebookContainer = gd.closest('#notebook-container');\n",
       "if (notebookContainer) {{\n",
       "    x.observe(notebookContainer, {childList: true});\n",
       "}}\n",
       "\n",
       "// Listen for the clearing of the current output cell\n",
       "var outputEl = gd.closest('.output');\n",
       "if (outputEl) {{\n",
       "    x.observe(outputEl, {childList: true});\n",
       "}}\n",
       "\n",
       "                        })                };                });            </script>        </div>"
      ]
     },
     "metadata": {},
     "output_type": "display_data"
    }
   ],
   "source": [
    "fig = px.scatter(df, x='Fuel Diff', y='service_duration',color='service_duration', title='Fuel Difference vs. Service Duration')\n",
    "fig.update_layout(title_x=0.5)\n",
    "fig.show()"
   ]
  },
  {
   "cell_type": "code",
   "execution_count": null,
   "id": "6ba42e02",
   "metadata": {},
   "outputs": [],
   "source": [
    "#### What is the average service duration by damage type and cost_category"
   ]
  },
  {
   "cell_type": "code",
   "execution_count": 39,
   "id": "42577b89",
   "metadata": {},
   "outputs": [
    {
     "data": {
      "application/vnd.plotly.v1+json": {
       "config": {
        "plotlyServerURL": "https://plot.ly"
       },
       "data": [
        {
         "branchvalues": "total",
         "domain": {
          "x": [
           0,
           1
          ],
          "y": [
           0,
           1
          ]
         },
         "hovertemplate": "labels=%{label}<br>AverageServiceDuration=%{value}<br>parent=%{parent}<br>id=%{id}<extra></extra>",
         "ids": [
          "اصلاح بودي/1000:1500",
          "اصلاح ميكانيك/1000:1500",
          "اصلاح بودي/100:150",
          "اصلاح زجاج/100:150",
          "اصلاح فرش/100:150",
          "اصلاح كهرباء/100:150",
          "اصلاح كوشوك/100:150",
          "اصلاح ميكانيك/100:150",
          "غيار زيت/100:150",
          "اصلاح بودي/1500:2000",
          "اصلاح بودي/150:200",
          "اصلاح كوشوك/150:200",
          "اصلاح ميكانيك/150:200",
          "اصلاح بودي/1:50",
          "اصلاح زجاج/1:50",
          "اصلاح فرش/1:50",
          "اصلاح كهرباء/1:50",
          "اصلاح كوشوك/1:50",
          "اصلاح ميكانيك/1:50",
          "غيار زيت/1:50",
          "اصلاح بودي/2000:3000",
          "اصلاح ميكانيك/2000:3000",
          "اصلاح بودي/200:300",
          "اصلاح كهرباء/200:300",
          "اصلاح كوشوك/200:300",
          "اصلاح ميكانيك/200:300",
          "غيار زيت/200:300",
          "اصلاح بودي/300:400",
          "اصلاح كوشوك/300:400",
          "اصلاح ميكانيك/300:400",
          "اصلاح بودي/400:500",
          "اصلاح كوشوك/400:500",
          "اصلاح ميكانيك/400:500",
          "اصلاح بودي/500:600",
          "اصلاح كوشوك/500:600",
          "اصلاح ميكانيك/500:600",
          "اصلاح بودي/50:100",
          "اصلاح زجاج/50:100",
          "اصلاح فرش/50:100",
          "اصلاح كهرباء/50:100",
          "اصلاح كوشوك/50:100",
          "اصلاح ميكانيك/50:100",
          "غيار زيت/50:100",
          "اصلاح بودي/600:700",
          "اصلاح كوشوك/600:700",
          "اصلاح ميكانيك/600:700",
          "اصلاح بودي/700:800",
          "اصلاح بودي/800:900",
          "اصلاح بودي/900:1000",
          "اصلاح بودي",
          "اصلاح زجاج",
          "اصلاح فرش",
          "اصلاح كهرباء",
          "اصلاح كوشوك",
          "اصلاح ميكانيك",
          "غيار زيت"
         ],
         "labels": [
          "1000:1500",
          "1000:1500",
          "100:150",
          "100:150",
          "100:150",
          "100:150",
          "100:150",
          "100:150",
          "100:150",
          "1500:2000",
          "150:200",
          "150:200",
          "150:200",
          "1:50",
          "1:50",
          "1:50",
          "1:50",
          "1:50",
          "1:50",
          "1:50",
          "2000:3000",
          "2000:3000",
          "200:300",
          "200:300",
          "200:300",
          "200:300",
          "200:300",
          "300:400",
          "300:400",
          "300:400",
          "400:500",
          "400:500",
          "400:500",
          "500:600",
          "500:600",
          "500:600",
          "50:100",
          "50:100",
          "50:100",
          "50:100",
          "50:100",
          "50:100",
          "50:100",
          "600:700",
          "600:700",
          "600:700",
          "700:800",
          "800:900",
          "900:1000",
          "اصلاح بودي",
          "اصلاح زجاج",
          "اصلاح فرش",
          "اصلاح كهرباء",
          "اصلاح كوشوك",
          "اصلاح ميكانيك",
          "غيار زيت"
         ],
         "name": "",
         "parents": [
          "اصلاح بودي",
          "اصلاح ميكانيك",
          "اصلاح بودي",
          "اصلاح زجاج",
          "اصلاح فرش",
          "اصلاح كهرباء",
          "اصلاح كوشوك",
          "اصلاح ميكانيك",
          "غيار زيت",
          "اصلاح بودي",
          "اصلاح بودي",
          "اصلاح كوشوك",
          "اصلاح ميكانيك",
          "اصلاح بودي",
          "اصلاح زجاج",
          "اصلاح فرش",
          "اصلاح كهرباء",
          "اصلاح كوشوك",
          "اصلاح ميكانيك",
          "غيار زيت",
          "اصلاح بودي",
          "اصلاح ميكانيك",
          "اصلاح بودي",
          "اصلاح كهرباء",
          "اصلاح كوشوك",
          "اصلاح ميكانيك",
          "غيار زيت",
          "اصلاح بودي",
          "اصلاح كوشوك",
          "اصلاح ميكانيك",
          "اصلاح بودي",
          "اصلاح كوشوك",
          "اصلاح ميكانيك",
          "اصلاح بودي",
          "اصلاح كوشوك",
          "اصلاح ميكانيك",
          "اصلاح بودي",
          "اصلاح زجاج",
          "اصلاح فرش",
          "اصلاح كهرباء",
          "اصلاح كوشوك",
          "اصلاح ميكانيك",
          "غيار زيت",
          "اصلاح بودي",
          "اصلاح كوشوك",
          "اصلاح ميكانيك",
          "اصلاح بودي",
          "اصلاح بودي",
          "اصلاح بودي",
          "",
          "",
          "",
          "",
          "",
          "",
          ""
         ],
         "type": "sunburst",
         "values": [
          5.6,
          2,
          5,
          1,
          3.5,
          1,
          1,
          1.3,
          1,
          7,
          7.1,
          1.4,
          1.8,
          2.9,
          1,
          1.2,
          2.8,
          1,
          1,
          1,
          30,
          70,
          5.3,
          13,
          1,
          1.2,
          3.5,
          6.1,
          1,
          1,
          7.5,
          1,
          1,
          4.2,
          4.9,
          11.6,
          4.3,
          1.1,
          2,
          1.4,
          1,
          1.2,
          1.1,
          5.7,
          1,
          1,
          9.2,
          10,
          14,
          123.9,
          3.1,
          6.7,
          18.2,
          13.3,
          93.1,
          6.6
         ]
        }
       ],
       "layout": {
        "legend": {
         "tracegroupgap": 0
        },
        "template": {
         "data": {
          "bar": [
           {
            "error_x": {
             "color": "#2a3f5f"
            },
            "error_y": {
             "color": "#2a3f5f"
            },
            "marker": {
             "line": {
              "color": "#E5ECF6",
              "width": 0.5
             },
             "pattern": {
              "fillmode": "overlay",
              "size": 10,
              "solidity": 0.2
             }
            },
            "type": "bar"
           }
          ],
          "barpolar": [
           {
            "marker": {
             "line": {
              "color": "#E5ECF6",
              "width": 0.5
             },
             "pattern": {
              "fillmode": "overlay",
              "size": 10,
              "solidity": 0.2
             }
            },
            "type": "barpolar"
           }
          ],
          "carpet": [
           {
            "aaxis": {
             "endlinecolor": "#2a3f5f",
             "gridcolor": "white",
             "linecolor": "white",
             "minorgridcolor": "white",
             "startlinecolor": "#2a3f5f"
            },
            "baxis": {
             "endlinecolor": "#2a3f5f",
             "gridcolor": "white",
             "linecolor": "white",
             "minorgridcolor": "white",
             "startlinecolor": "#2a3f5f"
            },
            "type": "carpet"
           }
          ],
          "choropleth": [
           {
            "colorbar": {
             "outlinewidth": 0,
             "ticks": ""
            },
            "type": "choropleth"
           }
          ],
          "contour": [
           {
            "colorbar": {
             "outlinewidth": 0,
             "ticks": ""
            },
            "colorscale": [
             [
              0,
              "#0d0887"
             ],
             [
              0.1111111111111111,
              "#46039f"
             ],
             [
              0.2222222222222222,
              "#7201a8"
             ],
             [
              0.3333333333333333,
              "#9c179e"
             ],
             [
              0.4444444444444444,
              "#bd3786"
             ],
             [
              0.5555555555555556,
              "#d8576b"
             ],
             [
              0.6666666666666666,
              "#ed7953"
             ],
             [
              0.7777777777777778,
              "#fb9f3a"
             ],
             [
              0.8888888888888888,
              "#fdca26"
             ],
             [
              1,
              "#f0f921"
             ]
            ],
            "type": "contour"
           }
          ],
          "contourcarpet": [
           {
            "colorbar": {
             "outlinewidth": 0,
             "ticks": ""
            },
            "type": "contourcarpet"
           }
          ],
          "heatmap": [
           {
            "colorbar": {
             "outlinewidth": 0,
             "ticks": ""
            },
            "colorscale": [
             [
              0,
              "#0d0887"
             ],
             [
              0.1111111111111111,
              "#46039f"
             ],
             [
              0.2222222222222222,
              "#7201a8"
             ],
             [
              0.3333333333333333,
              "#9c179e"
             ],
             [
              0.4444444444444444,
              "#bd3786"
             ],
             [
              0.5555555555555556,
              "#d8576b"
             ],
             [
              0.6666666666666666,
              "#ed7953"
             ],
             [
              0.7777777777777778,
              "#fb9f3a"
             ],
             [
              0.8888888888888888,
              "#fdca26"
             ],
             [
              1,
              "#f0f921"
             ]
            ],
            "type": "heatmap"
           }
          ],
          "heatmapgl": [
           {
            "colorbar": {
             "outlinewidth": 0,
             "ticks": ""
            },
            "colorscale": [
             [
              0,
              "#0d0887"
             ],
             [
              0.1111111111111111,
              "#46039f"
             ],
             [
              0.2222222222222222,
              "#7201a8"
             ],
             [
              0.3333333333333333,
              "#9c179e"
             ],
             [
              0.4444444444444444,
              "#bd3786"
             ],
             [
              0.5555555555555556,
              "#d8576b"
             ],
             [
              0.6666666666666666,
              "#ed7953"
             ],
             [
              0.7777777777777778,
              "#fb9f3a"
             ],
             [
              0.8888888888888888,
              "#fdca26"
             ],
             [
              1,
              "#f0f921"
             ]
            ],
            "type": "heatmapgl"
           }
          ],
          "histogram": [
           {
            "marker": {
             "pattern": {
              "fillmode": "overlay",
              "size": 10,
              "solidity": 0.2
             }
            },
            "type": "histogram"
           }
          ],
          "histogram2d": [
           {
            "colorbar": {
             "outlinewidth": 0,
             "ticks": ""
            },
            "colorscale": [
             [
              0,
              "#0d0887"
             ],
             [
              0.1111111111111111,
              "#46039f"
             ],
             [
              0.2222222222222222,
              "#7201a8"
             ],
             [
              0.3333333333333333,
              "#9c179e"
             ],
             [
              0.4444444444444444,
              "#bd3786"
             ],
             [
              0.5555555555555556,
              "#d8576b"
             ],
             [
              0.6666666666666666,
              "#ed7953"
             ],
             [
              0.7777777777777778,
              "#fb9f3a"
             ],
             [
              0.8888888888888888,
              "#fdca26"
             ],
             [
              1,
              "#f0f921"
             ]
            ],
            "type": "histogram2d"
           }
          ],
          "histogram2dcontour": [
           {
            "colorbar": {
             "outlinewidth": 0,
             "ticks": ""
            },
            "colorscale": [
             [
              0,
              "#0d0887"
             ],
             [
              0.1111111111111111,
              "#46039f"
             ],
             [
              0.2222222222222222,
              "#7201a8"
             ],
             [
              0.3333333333333333,
              "#9c179e"
             ],
             [
              0.4444444444444444,
              "#bd3786"
             ],
             [
              0.5555555555555556,
              "#d8576b"
             ],
             [
              0.6666666666666666,
              "#ed7953"
             ],
             [
              0.7777777777777778,
              "#fb9f3a"
             ],
             [
              0.8888888888888888,
              "#fdca26"
             ],
             [
              1,
              "#f0f921"
             ]
            ],
            "type": "histogram2dcontour"
           }
          ],
          "mesh3d": [
           {
            "colorbar": {
             "outlinewidth": 0,
             "ticks": ""
            },
            "type": "mesh3d"
           }
          ],
          "parcoords": [
           {
            "line": {
             "colorbar": {
              "outlinewidth": 0,
              "ticks": ""
             }
            },
            "type": "parcoords"
           }
          ],
          "pie": [
           {
            "automargin": true,
            "type": "pie"
           }
          ],
          "scatter": [
           {
            "fillpattern": {
             "fillmode": "overlay",
             "size": 10,
             "solidity": 0.2
            },
            "type": "scatter"
           }
          ],
          "scatter3d": [
           {
            "line": {
             "colorbar": {
              "outlinewidth": 0,
              "ticks": ""
             }
            },
            "marker": {
             "colorbar": {
              "outlinewidth": 0,
              "ticks": ""
             }
            },
            "type": "scatter3d"
           }
          ],
          "scattercarpet": [
           {
            "marker": {
             "colorbar": {
              "outlinewidth": 0,
              "ticks": ""
             }
            },
            "type": "scattercarpet"
           }
          ],
          "scattergeo": [
           {
            "marker": {
             "colorbar": {
              "outlinewidth": 0,
              "ticks": ""
             }
            },
            "type": "scattergeo"
           }
          ],
          "scattergl": [
           {
            "marker": {
             "colorbar": {
              "outlinewidth": 0,
              "ticks": ""
             }
            },
            "type": "scattergl"
           }
          ],
          "scattermapbox": [
           {
            "marker": {
             "colorbar": {
              "outlinewidth": 0,
              "ticks": ""
             }
            },
            "type": "scattermapbox"
           }
          ],
          "scatterpolar": [
           {
            "marker": {
             "colorbar": {
              "outlinewidth": 0,
              "ticks": ""
             }
            },
            "type": "scatterpolar"
           }
          ],
          "scatterpolargl": [
           {
            "marker": {
             "colorbar": {
              "outlinewidth": 0,
              "ticks": ""
             }
            },
            "type": "scatterpolargl"
           }
          ],
          "scatterternary": [
           {
            "marker": {
             "colorbar": {
              "outlinewidth": 0,
              "ticks": ""
             }
            },
            "type": "scatterternary"
           }
          ],
          "surface": [
           {
            "colorbar": {
             "outlinewidth": 0,
             "ticks": ""
            },
            "colorscale": [
             [
              0,
              "#0d0887"
             ],
             [
              0.1111111111111111,
              "#46039f"
             ],
             [
              0.2222222222222222,
              "#7201a8"
             ],
             [
              0.3333333333333333,
              "#9c179e"
             ],
             [
              0.4444444444444444,
              "#bd3786"
             ],
             [
              0.5555555555555556,
              "#d8576b"
             ],
             [
              0.6666666666666666,
              "#ed7953"
             ],
             [
              0.7777777777777778,
              "#fb9f3a"
             ],
             [
              0.8888888888888888,
              "#fdca26"
             ],
             [
              1,
              "#f0f921"
             ]
            ],
            "type": "surface"
           }
          ],
          "table": [
           {
            "cells": {
             "fill": {
              "color": "#EBF0F8"
             },
             "line": {
              "color": "white"
             }
            },
            "header": {
             "fill": {
              "color": "#C8D4E3"
             },
             "line": {
              "color": "white"
             }
            },
            "type": "table"
           }
          ]
         },
         "layout": {
          "annotationdefaults": {
           "arrowcolor": "#2a3f5f",
           "arrowhead": 0,
           "arrowwidth": 1
          },
          "autotypenumbers": "strict",
          "coloraxis": {
           "colorbar": {
            "outlinewidth": 0,
            "ticks": ""
           }
          },
          "colorscale": {
           "diverging": [
            [
             0,
             "#8e0152"
            ],
            [
             0.1,
             "#c51b7d"
            ],
            [
             0.2,
             "#de77ae"
            ],
            [
             0.3,
             "#f1b6da"
            ],
            [
             0.4,
             "#fde0ef"
            ],
            [
             0.5,
             "#f7f7f7"
            ],
            [
             0.6,
             "#e6f5d0"
            ],
            [
             0.7,
             "#b8e186"
            ],
            [
             0.8,
             "#7fbc41"
            ],
            [
             0.9,
             "#4d9221"
            ],
            [
             1,
             "#276419"
            ]
           ],
           "sequential": [
            [
             0,
             "#0d0887"
            ],
            [
             0.1111111111111111,
             "#46039f"
            ],
            [
             0.2222222222222222,
             "#7201a8"
            ],
            [
             0.3333333333333333,
             "#9c179e"
            ],
            [
             0.4444444444444444,
             "#bd3786"
            ],
            [
             0.5555555555555556,
             "#d8576b"
            ],
            [
             0.6666666666666666,
             "#ed7953"
            ],
            [
             0.7777777777777778,
             "#fb9f3a"
            ],
            [
             0.8888888888888888,
             "#fdca26"
            ],
            [
             1,
             "#f0f921"
            ]
           ],
           "sequentialminus": [
            [
             0,
             "#0d0887"
            ],
            [
             0.1111111111111111,
             "#46039f"
            ],
            [
             0.2222222222222222,
             "#7201a8"
            ],
            [
             0.3333333333333333,
             "#9c179e"
            ],
            [
             0.4444444444444444,
             "#bd3786"
            ],
            [
             0.5555555555555556,
             "#d8576b"
            ],
            [
             0.6666666666666666,
             "#ed7953"
            ],
            [
             0.7777777777777778,
             "#fb9f3a"
            ],
            [
             0.8888888888888888,
             "#fdca26"
            ],
            [
             1,
             "#f0f921"
            ]
           ]
          },
          "colorway": [
           "#636efa",
           "#EF553B",
           "#00cc96",
           "#ab63fa",
           "#FFA15A",
           "#19d3f3",
           "#FF6692",
           "#B6E880",
           "#FF97FF",
           "#FECB52"
          ],
          "font": {
           "color": "#2a3f5f"
          },
          "geo": {
           "bgcolor": "white",
           "lakecolor": "white",
           "landcolor": "#E5ECF6",
           "showlakes": true,
           "showland": true,
           "subunitcolor": "white"
          },
          "hoverlabel": {
           "align": "left"
          },
          "hovermode": "closest",
          "mapbox": {
           "style": "light"
          },
          "paper_bgcolor": "white",
          "plot_bgcolor": "#E5ECF6",
          "polar": {
           "angularaxis": {
            "gridcolor": "white",
            "linecolor": "white",
            "ticks": ""
           },
           "bgcolor": "#E5ECF6",
           "radialaxis": {
            "gridcolor": "white",
            "linecolor": "white",
            "ticks": ""
           }
          },
          "scene": {
           "xaxis": {
            "backgroundcolor": "#E5ECF6",
            "gridcolor": "white",
            "gridwidth": 2,
            "linecolor": "white",
            "showbackground": true,
            "ticks": "",
            "zerolinecolor": "white"
           },
           "yaxis": {
            "backgroundcolor": "#E5ECF6",
            "gridcolor": "white",
            "gridwidth": 2,
            "linecolor": "white",
            "showbackground": true,
            "ticks": "",
            "zerolinecolor": "white"
           },
           "zaxis": {
            "backgroundcolor": "#E5ECF6",
            "gridcolor": "white",
            "gridwidth": 2,
            "linecolor": "white",
            "showbackground": true,
            "ticks": "",
            "zerolinecolor": "white"
           }
          },
          "shapedefaults": {
           "line": {
            "color": "#2a3f5f"
           }
          },
          "ternary": {
           "aaxis": {
            "gridcolor": "white",
            "linecolor": "white",
            "ticks": ""
           },
           "baxis": {
            "gridcolor": "white",
            "linecolor": "white",
            "ticks": ""
           },
           "bgcolor": "#E5ECF6",
           "caxis": {
            "gridcolor": "white",
            "linecolor": "white",
            "ticks": ""
           }
          },
          "title": {
           "x": 0.05
          },
          "xaxis": {
           "automargin": true,
           "gridcolor": "white",
           "linecolor": "white",
           "ticks": "",
           "title": {
            "standoff": 15
           },
           "zerolinecolor": "white",
           "zerolinewidth": 2
          },
          "yaxis": {
           "automargin": true,
           "gridcolor": "white",
           "linecolor": "white",
           "ticks": "",
           "title": {
            "standoff": 15
           },
           "zerolinecolor": "white",
           "zerolinewidth": 2
          }
         }
        },
        "title": {
         "text": "Average Service Duration by Damage Type Analysis",
         "x": 0.45
        }
       }
      },
      "text/html": [
       "<div>                            <div id=\"76f12437-e822-4cb0-9ae3-d8293e49cf80\" class=\"plotly-graph-div\" style=\"height:525px; width:100%;\"></div>            <script type=\"text/javascript\">                require([\"plotly\"], function(Plotly) {                    window.PLOTLYENV=window.PLOTLYENV || {};                                    if (document.getElementById(\"76f12437-e822-4cb0-9ae3-d8293e49cf80\")) {                    Plotly.newPlot(                        \"76f12437-e822-4cb0-9ae3-d8293e49cf80\",                        [{\"branchvalues\":\"total\",\"domain\":{\"x\":[0.0,1.0],\"y\":[0.0,1.0]},\"hovertemplate\":\"labels=%{label}\\u003cbr\\u003eAverageServiceDuration=%{value}\\u003cbr\\u003eparent=%{parent}\\u003cbr\\u003eid=%{id}\\u003cextra\\u003e\\u003c\\u002fextra\\u003e\",\"ids\":[\"اصلاح بودي\\u002f1000:1500\",\"اصلاح ميكانيك\\u002f1000:1500\",\"اصلاح بودي\\u002f100:150\",\"اصلاح زجاج\\u002f100:150\",\"اصلاح فرش\\u002f100:150\",\"اصلاح كهرباء\\u002f100:150\",\"اصلاح كوشوك\\u002f100:150\",\"اصلاح ميكانيك\\u002f100:150\",\"غيار زيت\\u002f100:150\",\"اصلاح بودي\\u002f1500:2000\",\"اصلاح بودي\\u002f150:200\",\"اصلاح كوشوك\\u002f150:200\",\"اصلاح ميكانيك\\u002f150:200\",\"اصلاح بودي\\u002f1:50\",\"اصلاح زجاج\\u002f1:50\",\"اصلاح فرش\\u002f1:50\",\"اصلاح كهرباء\\u002f1:50\",\"اصلاح كوشوك\\u002f1:50\",\"اصلاح ميكانيك\\u002f1:50\",\"غيار زيت\\u002f1:50\",\"اصلاح بودي\\u002f2000:3000\",\"اصلاح ميكانيك\\u002f2000:3000\",\"اصلاح بودي\\u002f200:300\",\"اصلاح كهرباء\\u002f200:300\",\"اصلاح كوشوك\\u002f200:300\",\"اصلاح ميكانيك\\u002f200:300\",\"غيار زيت\\u002f200:300\",\"اصلاح بودي\\u002f300:400\",\"اصلاح كوشوك\\u002f300:400\",\"اصلاح ميكانيك\\u002f300:400\",\"اصلاح بودي\\u002f400:500\",\"اصلاح كوشوك\\u002f400:500\",\"اصلاح ميكانيك\\u002f400:500\",\"اصلاح بودي\\u002f500:600\",\"اصلاح كوشوك\\u002f500:600\",\"اصلاح ميكانيك\\u002f500:600\",\"اصلاح بودي\\u002f50:100\",\"اصلاح زجاج\\u002f50:100\",\"اصلاح فرش\\u002f50:100\",\"اصلاح كهرباء\\u002f50:100\",\"اصلاح كوشوك\\u002f50:100\",\"اصلاح ميكانيك\\u002f50:100\",\"غيار زيت\\u002f50:100\",\"اصلاح بودي\\u002f600:700\",\"اصلاح كوشوك\\u002f600:700\",\"اصلاح ميكانيك\\u002f600:700\",\"اصلاح بودي\\u002f700:800\",\"اصلاح بودي\\u002f800:900\",\"اصلاح بودي\\u002f900:1000\",\"اصلاح بودي\",\"اصلاح زجاج\",\"اصلاح فرش\",\"اصلاح كهرباء\",\"اصلاح كوشوك\",\"اصلاح ميكانيك\",\"غيار زيت\"],\"labels\":[\"1000:1500\",\"1000:1500\",\"100:150\",\"100:150\",\"100:150\",\"100:150\",\"100:150\",\"100:150\",\"100:150\",\"1500:2000\",\"150:200\",\"150:200\",\"150:200\",\"1:50\",\"1:50\",\"1:50\",\"1:50\",\"1:50\",\"1:50\",\"1:50\",\"2000:3000\",\"2000:3000\",\"200:300\",\"200:300\",\"200:300\",\"200:300\",\"200:300\",\"300:400\",\"300:400\",\"300:400\",\"400:500\",\"400:500\",\"400:500\",\"500:600\",\"500:600\",\"500:600\",\"50:100\",\"50:100\",\"50:100\",\"50:100\",\"50:100\",\"50:100\",\"50:100\",\"600:700\",\"600:700\",\"600:700\",\"700:800\",\"800:900\",\"900:1000\",\"اصلاح بودي\",\"اصلاح زجاج\",\"اصلاح فرش\",\"اصلاح كهرباء\",\"اصلاح كوشوك\",\"اصلاح ميكانيك\",\"غيار زيت\"],\"name\":\"\",\"parents\":[\"اصلاح بودي\",\"اصلاح ميكانيك\",\"اصلاح بودي\",\"اصلاح زجاج\",\"اصلاح فرش\",\"اصلاح كهرباء\",\"اصلاح كوشوك\",\"اصلاح ميكانيك\",\"غيار زيت\",\"اصلاح بودي\",\"اصلاح بودي\",\"اصلاح كوشوك\",\"اصلاح ميكانيك\",\"اصلاح بودي\",\"اصلاح زجاج\",\"اصلاح فرش\",\"اصلاح كهرباء\",\"اصلاح كوشوك\",\"اصلاح ميكانيك\",\"غيار زيت\",\"اصلاح بودي\",\"اصلاح ميكانيك\",\"اصلاح بودي\",\"اصلاح كهرباء\",\"اصلاح كوشوك\",\"اصلاح ميكانيك\",\"غيار زيت\",\"اصلاح بودي\",\"اصلاح كوشوك\",\"اصلاح ميكانيك\",\"اصلاح بودي\",\"اصلاح كوشوك\",\"اصلاح ميكانيك\",\"اصلاح بودي\",\"اصلاح كوشوك\",\"اصلاح ميكانيك\",\"اصلاح بودي\",\"اصلاح زجاج\",\"اصلاح فرش\",\"اصلاح كهرباء\",\"اصلاح كوشوك\",\"اصلاح ميكانيك\",\"غيار زيت\",\"اصلاح بودي\",\"اصلاح كوشوك\",\"اصلاح ميكانيك\",\"اصلاح بودي\",\"اصلاح بودي\",\"اصلاح بودي\",\"\",\"\",\"\",\"\",\"\",\"\",\"\"],\"values\":[5.6,2.0,5.0,1.0,3.5,1.0,1.0,1.3,1.0,7.0,7.1,1.4,1.8,2.9,1.0,1.2,2.8,1.0,1.0,1.0,30.0,70.0,5.3,13.0,1.0,1.2,3.5,6.1,1.0,1.0,7.5,1.0,1.0,4.2,4.9,11.6,4.3,1.1,2.0,1.4,1.0,1.2,1.1,5.7,1.0,1.0,9.2,10.0,14.0,123.9,3.1,6.7,18.2,13.3,93.1,6.6],\"type\":\"sunburst\"}],                        {\"template\":{\"data\":{\"histogram2dcontour\":[{\"type\":\"histogram2dcontour\",\"colorbar\":{\"outlinewidth\":0,\"ticks\":\"\"},\"colorscale\":[[0.0,\"#0d0887\"],[0.1111111111111111,\"#46039f\"],[0.2222222222222222,\"#7201a8\"],[0.3333333333333333,\"#9c179e\"],[0.4444444444444444,\"#bd3786\"],[0.5555555555555556,\"#d8576b\"],[0.6666666666666666,\"#ed7953\"],[0.7777777777777778,\"#fb9f3a\"],[0.8888888888888888,\"#fdca26\"],[1.0,\"#f0f921\"]]}],\"choropleth\":[{\"type\":\"choropleth\",\"colorbar\":{\"outlinewidth\":0,\"ticks\":\"\"}}],\"histogram2d\":[{\"type\":\"histogram2d\",\"colorbar\":{\"outlinewidth\":0,\"ticks\":\"\"},\"colorscale\":[[0.0,\"#0d0887\"],[0.1111111111111111,\"#46039f\"],[0.2222222222222222,\"#7201a8\"],[0.3333333333333333,\"#9c179e\"],[0.4444444444444444,\"#bd3786\"],[0.5555555555555556,\"#d8576b\"],[0.6666666666666666,\"#ed7953\"],[0.7777777777777778,\"#fb9f3a\"],[0.8888888888888888,\"#fdca26\"],[1.0,\"#f0f921\"]]}],\"heatmap\":[{\"type\":\"heatmap\",\"colorbar\":{\"outlinewidth\":0,\"ticks\":\"\"},\"colorscale\":[[0.0,\"#0d0887\"],[0.1111111111111111,\"#46039f\"],[0.2222222222222222,\"#7201a8\"],[0.3333333333333333,\"#9c179e\"],[0.4444444444444444,\"#bd3786\"],[0.5555555555555556,\"#d8576b\"],[0.6666666666666666,\"#ed7953\"],[0.7777777777777778,\"#fb9f3a\"],[0.8888888888888888,\"#fdca26\"],[1.0,\"#f0f921\"]]}],\"heatmapgl\":[{\"type\":\"heatmapgl\",\"colorbar\":{\"outlinewidth\":0,\"ticks\":\"\"},\"colorscale\":[[0.0,\"#0d0887\"],[0.1111111111111111,\"#46039f\"],[0.2222222222222222,\"#7201a8\"],[0.3333333333333333,\"#9c179e\"],[0.4444444444444444,\"#bd3786\"],[0.5555555555555556,\"#d8576b\"],[0.6666666666666666,\"#ed7953\"],[0.7777777777777778,\"#fb9f3a\"],[0.8888888888888888,\"#fdca26\"],[1.0,\"#f0f921\"]]}],\"contourcarpet\":[{\"type\":\"contourcarpet\",\"colorbar\":{\"outlinewidth\":0,\"ticks\":\"\"}}],\"contour\":[{\"type\":\"contour\",\"colorbar\":{\"outlinewidth\":0,\"ticks\":\"\"},\"colorscale\":[[0.0,\"#0d0887\"],[0.1111111111111111,\"#46039f\"],[0.2222222222222222,\"#7201a8\"],[0.3333333333333333,\"#9c179e\"],[0.4444444444444444,\"#bd3786\"],[0.5555555555555556,\"#d8576b\"],[0.6666666666666666,\"#ed7953\"],[0.7777777777777778,\"#fb9f3a\"],[0.8888888888888888,\"#fdca26\"],[1.0,\"#f0f921\"]]}],\"surface\":[{\"type\":\"surface\",\"colorbar\":{\"outlinewidth\":0,\"ticks\":\"\"},\"colorscale\":[[0.0,\"#0d0887\"],[0.1111111111111111,\"#46039f\"],[0.2222222222222222,\"#7201a8\"],[0.3333333333333333,\"#9c179e\"],[0.4444444444444444,\"#bd3786\"],[0.5555555555555556,\"#d8576b\"],[0.6666666666666666,\"#ed7953\"],[0.7777777777777778,\"#fb9f3a\"],[0.8888888888888888,\"#fdca26\"],[1.0,\"#f0f921\"]]}],\"mesh3d\":[{\"type\":\"mesh3d\",\"colorbar\":{\"outlinewidth\":0,\"ticks\":\"\"}}],\"scatter\":[{\"fillpattern\":{\"fillmode\":\"overlay\",\"size\":10,\"solidity\":0.2},\"type\":\"scatter\"}],\"parcoords\":[{\"type\":\"parcoords\",\"line\":{\"colorbar\":{\"outlinewidth\":0,\"ticks\":\"\"}}}],\"scatterpolargl\":[{\"type\":\"scatterpolargl\",\"marker\":{\"colorbar\":{\"outlinewidth\":0,\"ticks\":\"\"}}}],\"bar\":[{\"error_x\":{\"color\":\"#2a3f5f\"},\"error_y\":{\"color\":\"#2a3f5f\"},\"marker\":{\"line\":{\"color\":\"#E5ECF6\",\"width\":0.5},\"pattern\":{\"fillmode\":\"overlay\",\"size\":10,\"solidity\":0.2}},\"type\":\"bar\"}],\"scattergeo\":[{\"type\":\"scattergeo\",\"marker\":{\"colorbar\":{\"outlinewidth\":0,\"ticks\":\"\"}}}],\"scatterpolar\":[{\"type\":\"scatterpolar\",\"marker\":{\"colorbar\":{\"outlinewidth\":0,\"ticks\":\"\"}}}],\"histogram\":[{\"marker\":{\"pattern\":{\"fillmode\":\"overlay\",\"size\":10,\"solidity\":0.2}},\"type\":\"histogram\"}],\"scattergl\":[{\"type\":\"scattergl\",\"marker\":{\"colorbar\":{\"outlinewidth\":0,\"ticks\":\"\"}}}],\"scatter3d\":[{\"type\":\"scatter3d\",\"line\":{\"colorbar\":{\"outlinewidth\":0,\"ticks\":\"\"}},\"marker\":{\"colorbar\":{\"outlinewidth\":0,\"ticks\":\"\"}}}],\"scattermapbox\":[{\"type\":\"scattermapbox\",\"marker\":{\"colorbar\":{\"outlinewidth\":0,\"ticks\":\"\"}}}],\"scatterternary\":[{\"type\":\"scatterternary\",\"marker\":{\"colorbar\":{\"outlinewidth\":0,\"ticks\":\"\"}}}],\"scattercarpet\":[{\"type\":\"scattercarpet\",\"marker\":{\"colorbar\":{\"outlinewidth\":0,\"ticks\":\"\"}}}],\"carpet\":[{\"aaxis\":{\"endlinecolor\":\"#2a3f5f\",\"gridcolor\":\"white\",\"linecolor\":\"white\",\"minorgridcolor\":\"white\",\"startlinecolor\":\"#2a3f5f\"},\"baxis\":{\"endlinecolor\":\"#2a3f5f\",\"gridcolor\":\"white\",\"linecolor\":\"white\",\"minorgridcolor\":\"white\",\"startlinecolor\":\"#2a3f5f\"},\"type\":\"carpet\"}],\"table\":[{\"cells\":{\"fill\":{\"color\":\"#EBF0F8\"},\"line\":{\"color\":\"white\"}},\"header\":{\"fill\":{\"color\":\"#C8D4E3\"},\"line\":{\"color\":\"white\"}},\"type\":\"table\"}],\"barpolar\":[{\"marker\":{\"line\":{\"color\":\"#E5ECF6\",\"width\":0.5},\"pattern\":{\"fillmode\":\"overlay\",\"size\":10,\"solidity\":0.2}},\"type\":\"barpolar\"}],\"pie\":[{\"automargin\":true,\"type\":\"pie\"}]},\"layout\":{\"autotypenumbers\":\"strict\",\"colorway\":[\"#636efa\",\"#EF553B\",\"#00cc96\",\"#ab63fa\",\"#FFA15A\",\"#19d3f3\",\"#FF6692\",\"#B6E880\",\"#FF97FF\",\"#FECB52\"],\"font\":{\"color\":\"#2a3f5f\"},\"hovermode\":\"closest\",\"hoverlabel\":{\"align\":\"left\"},\"paper_bgcolor\":\"white\",\"plot_bgcolor\":\"#E5ECF6\",\"polar\":{\"bgcolor\":\"#E5ECF6\",\"angularaxis\":{\"gridcolor\":\"white\",\"linecolor\":\"white\",\"ticks\":\"\"},\"radialaxis\":{\"gridcolor\":\"white\",\"linecolor\":\"white\",\"ticks\":\"\"}},\"ternary\":{\"bgcolor\":\"#E5ECF6\",\"aaxis\":{\"gridcolor\":\"white\",\"linecolor\":\"white\",\"ticks\":\"\"},\"baxis\":{\"gridcolor\":\"white\",\"linecolor\":\"white\",\"ticks\":\"\"},\"caxis\":{\"gridcolor\":\"white\",\"linecolor\":\"white\",\"ticks\":\"\"}},\"coloraxis\":{\"colorbar\":{\"outlinewidth\":0,\"ticks\":\"\"}},\"colorscale\":{\"sequential\":[[0.0,\"#0d0887\"],[0.1111111111111111,\"#46039f\"],[0.2222222222222222,\"#7201a8\"],[0.3333333333333333,\"#9c179e\"],[0.4444444444444444,\"#bd3786\"],[0.5555555555555556,\"#d8576b\"],[0.6666666666666666,\"#ed7953\"],[0.7777777777777778,\"#fb9f3a\"],[0.8888888888888888,\"#fdca26\"],[1.0,\"#f0f921\"]],\"sequentialminus\":[[0.0,\"#0d0887\"],[0.1111111111111111,\"#46039f\"],[0.2222222222222222,\"#7201a8\"],[0.3333333333333333,\"#9c179e\"],[0.4444444444444444,\"#bd3786\"],[0.5555555555555556,\"#d8576b\"],[0.6666666666666666,\"#ed7953\"],[0.7777777777777778,\"#fb9f3a\"],[0.8888888888888888,\"#fdca26\"],[1.0,\"#f0f921\"]],\"diverging\":[[0,\"#8e0152\"],[0.1,\"#c51b7d\"],[0.2,\"#de77ae\"],[0.3,\"#f1b6da\"],[0.4,\"#fde0ef\"],[0.5,\"#f7f7f7\"],[0.6,\"#e6f5d0\"],[0.7,\"#b8e186\"],[0.8,\"#7fbc41\"],[0.9,\"#4d9221\"],[1,\"#276419\"]]},\"xaxis\":{\"gridcolor\":\"white\",\"linecolor\":\"white\",\"ticks\":\"\",\"title\":{\"standoff\":15},\"zerolinecolor\":\"white\",\"automargin\":true,\"zerolinewidth\":2},\"yaxis\":{\"gridcolor\":\"white\",\"linecolor\":\"white\",\"ticks\":\"\",\"title\":{\"standoff\":15},\"zerolinecolor\":\"white\",\"automargin\":true,\"zerolinewidth\":2},\"scene\":{\"xaxis\":{\"backgroundcolor\":\"#E5ECF6\",\"gridcolor\":\"white\",\"linecolor\":\"white\",\"showbackground\":true,\"ticks\":\"\",\"zerolinecolor\":\"white\",\"gridwidth\":2},\"yaxis\":{\"backgroundcolor\":\"#E5ECF6\",\"gridcolor\":\"white\",\"linecolor\":\"white\",\"showbackground\":true,\"ticks\":\"\",\"zerolinecolor\":\"white\",\"gridwidth\":2},\"zaxis\":{\"backgroundcolor\":\"#E5ECF6\",\"gridcolor\":\"white\",\"linecolor\":\"white\",\"showbackground\":true,\"ticks\":\"\",\"zerolinecolor\":\"white\",\"gridwidth\":2}},\"shapedefaults\":{\"line\":{\"color\":\"#2a3f5f\"}},\"annotationdefaults\":{\"arrowcolor\":\"#2a3f5f\",\"arrowhead\":0,\"arrowwidth\":1},\"geo\":{\"bgcolor\":\"white\",\"landcolor\":\"#E5ECF6\",\"subunitcolor\":\"white\",\"showland\":true,\"showlakes\":true,\"lakecolor\":\"white\"},\"title\":{\"x\":0.05},\"mapbox\":{\"style\":\"light\"}}},\"legend\":{\"tracegroupgap\":0},\"title\":{\"text\":\"Average Service Duration by Damage Type Analysis\",\"x\":0.45}},                        {\"responsive\": true}                    ).then(function(){\n",
       "                            \n",
       "var gd = document.getElementById('76f12437-e822-4cb0-9ae3-d8293e49cf80');\n",
       "var x = new MutationObserver(function (mutations, observer) {{\n",
       "        var display = window.getComputedStyle(gd).display;\n",
       "        if (!display || display === 'none') {{\n",
       "            console.log([gd, 'removed!']);\n",
       "            Plotly.purge(gd);\n",
       "            observer.disconnect();\n",
       "        }}\n",
       "}});\n",
       "\n",
       "// Listen for the removal of the full notebook cells\n",
       "var notebookContainer = gd.closest('#notebook-container');\n",
       "if (notebookContainer) {{\n",
       "    x.observe(notebookContainer, {childList: true});\n",
       "}}\n",
       "\n",
       "// Listen for the clearing of the current output cell\n",
       "var outputEl = gd.closest('.output');\n",
       "if (outputEl) {{\n",
       "    x.observe(outputEl, {childList: true});\n",
       "}}\n",
       "\n",
       "                        })                };                });            </script>        </div>"
      ]
     },
     "metadata": {},
     "output_type": "display_data"
    },
    {
     "data": {
      "application/vnd.plotly.v1+json": {
       "config": {
        "plotlyServerURL": "https://plot.ly"
       },
       "data": [
        {
         "alignmentgroup": "True",
         "hovertemplate": "color=1:50<br>x=%{x}<br>AverageServiceDuration=%{y}<extra></extra>",
         "legendgroup": "1:50",
         "marker": {
          "color": "#636efa",
          "pattern": {
           "shape": ""
          }
         },
         "name": "1:50",
         "offsetgroup": "1:50",
         "orientation": "v",
         "showlegend": true,
         "textposition": "auto",
         "type": "bar",
         "x": [
          "اصلاح بودي",
          "اصلاح زجاج",
          "اصلاح فرش",
          "اصلاح كهرباء",
          "اصلاح كوشوك",
          "اصلاح ميكانيك",
          "غيار زيت"
         ],
         "xaxis": "x",
         "y": [
          2.9,
          1,
          1.2,
          2.8,
          1,
          1,
          1
         ],
         "yaxis": "y"
        },
        {
         "alignmentgroup": "True",
         "hovertemplate": "color=500:600<br>x=%{x}<br>AverageServiceDuration=%{y}<extra></extra>",
         "legendgroup": "500:600",
         "marker": {
          "color": "#EF553B",
          "pattern": {
           "shape": ""
          }
         },
         "name": "500:600",
         "offsetgroup": "500:600",
         "orientation": "v",
         "showlegend": true,
         "textposition": "auto",
         "type": "bar",
         "x": [
          "اصلاح بودي",
          "اصلاح كوشوك",
          "اصلاح ميكانيك"
         ],
         "xaxis": "x",
         "y": [
          4.2,
          4.9,
          11.6
         ],
         "yaxis": "y"
        },
        {
         "alignmentgroup": "True",
         "hovertemplate": "color=50:100<br>x=%{x}<br>AverageServiceDuration=%{y}<extra></extra>",
         "legendgroup": "50:100",
         "marker": {
          "color": "#00cc96",
          "pattern": {
           "shape": ""
          }
         },
         "name": "50:100",
         "offsetgroup": "50:100",
         "orientation": "v",
         "showlegend": true,
         "textposition": "auto",
         "type": "bar",
         "x": [
          "اصلاح بودي",
          "اصلاح زجاج",
          "اصلاح فرش",
          "اصلاح كهرباء",
          "اصلاح كوشوك",
          "اصلاح ميكانيك",
          "غيار زيت"
         ],
         "xaxis": "x",
         "y": [
          4.3,
          1.1,
          2,
          1.4,
          1,
          1.2,
          1.1
         ],
         "yaxis": "y"
        },
        {
         "alignmentgroup": "True",
         "hovertemplate": "color=100:150<br>x=%{x}<br>AverageServiceDuration=%{y}<extra></extra>",
         "legendgroup": "100:150",
         "marker": {
          "color": "#ab63fa",
          "pattern": {
           "shape": ""
          }
         },
         "name": "100:150",
         "offsetgroup": "100:150",
         "orientation": "v",
         "showlegend": true,
         "textposition": "auto",
         "type": "bar",
         "x": [
          "اصلاح بودي",
          "اصلاح زجاج",
          "اصلاح فرش",
          "اصلاح كهرباء",
          "اصلاح كوشوك",
          "اصلاح ميكانيك",
          "غيار زيت"
         ],
         "xaxis": "x",
         "y": [
          5,
          1,
          3.5,
          1,
          1,
          1.3,
          1
         ],
         "yaxis": "y"
        },
        {
         "alignmentgroup": "True",
         "hovertemplate": "color=200:300<br>x=%{x}<br>AverageServiceDuration=%{y}<extra></extra>",
         "legendgroup": "200:300",
         "marker": {
          "color": "#FFA15A",
          "pattern": {
           "shape": ""
          }
         },
         "name": "200:300",
         "offsetgroup": "200:300",
         "orientation": "v",
         "showlegend": true,
         "textposition": "auto",
         "type": "bar",
         "x": [
          "اصلاح بودي",
          "اصلاح كهرباء",
          "اصلاح كوشوك",
          "اصلاح ميكانيك",
          "غيار زيت"
         ],
         "xaxis": "x",
         "y": [
          5.3,
          13,
          1,
          1.2,
          3.5
         ],
         "yaxis": "y"
        },
        {
         "alignmentgroup": "True",
         "hovertemplate": "color=1000:1500<br>x=%{x}<br>AverageServiceDuration=%{y}<extra></extra>",
         "legendgroup": "1000:1500",
         "marker": {
          "color": "#19d3f3",
          "pattern": {
           "shape": ""
          }
         },
         "name": "1000:1500",
         "offsetgroup": "1000:1500",
         "orientation": "v",
         "showlegend": true,
         "textposition": "auto",
         "type": "bar",
         "x": [
          "اصلاح بودي",
          "اصلاح ميكانيك"
         ],
         "xaxis": "x",
         "y": [
          5.6,
          2
         ],
         "yaxis": "y"
        },
        {
         "alignmentgroup": "True",
         "hovertemplate": "color=600:700<br>x=%{x}<br>AverageServiceDuration=%{y}<extra></extra>",
         "legendgroup": "600:700",
         "marker": {
          "color": "#FF6692",
          "pattern": {
           "shape": ""
          }
         },
         "name": "600:700",
         "offsetgroup": "600:700",
         "orientation": "v",
         "showlegend": true,
         "textposition": "auto",
         "type": "bar",
         "x": [
          "اصلاح بودي",
          "اصلاح كوشوك",
          "اصلاح ميكانيك"
         ],
         "xaxis": "x",
         "y": [
          5.7,
          1,
          1
         ],
         "yaxis": "y"
        },
        {
         "alignmentgroup": "True",
         "hovertemplate": "color=300:400<br>x=%{x}<br>AverageServiceDuration=%{y}<extra></extra>",
         "legendgroup": "300:400",
         "marker": {
          "color": "#B6E880",
          "pattern": {
           "shape": ""
          }
         },
         "name": "300:400",
         "offsetgroup": "300:400",
         "orientation": "v",
         "showlegend": true,
         "textposition": "auto",
         "type": "bar",
         "x": [
          "اصلاح بودي",
          "اصلاح كوشوك",
          "اصلاح ميكانيك"
         ],
         "xaxis": "x",
         "y": [
          6.1,
          1,
          1
         ],
         "yaxis": "y"
        },
        {
         "alignmentgroup": "True",
         "hovertemplate": "color=1500:2000<br>x=%{x}<br>AverageServiceDuration=%{y}<extra></extra>",
         "legendgroup": "1500:2000",
         "marker": {
          "color": "#FF97FF",
          "pattern": {
           "shape": ""
          }
         },
         "name": "1500:2000",
         "offsetgroup": "1500:2000",
         "orientation": "v",
         "showlegend": true,
         "textposition": "auto",
         "type": "bar",
         "x": [
          "اصلاح بودي"
         ],
         "xaxis": "x",
         "y": [
          7
         ],
         "yaxis": "y"
        },
        {
         "alignmentgroup": "True",
         "hovertemplate": "color=150:200<br>x=%{x}<br>AverageServiceDuration=%{y}<extra></extra>",
         "legendgroup": "150:200",
         "marker": {
          "color": "#FECB52",
          "pattern": {
           "shape": ""
          }
         },
         "name": "150:200",
         "offsetgroup": "150:200",
         "orientation": "v",
         "showlegend": true,
         "textposition": "auto",
         "type": "bar",
         "x": [
          "اصلاح بودي",
          "اصلاح كوشوك",
          "اصلاح ميكانيك"
         ],
         "xaxis": "x",
         "y": [
          7.1,
          1.4,
          1.8
         ],
         "yaxis": "y"
        },
        {
         "alignmentgroup": "True",
         "hovertemplate": "color=400:500<br>x=%{x}<br>AverageServiceDuration=%{y}<extra></extra>",
         "legendgroup": "400:500",
         "marker": {
          "color": "#636efa",
          "pattern": {
           "shape": ""
          }
         },
         "name": "400:500",
         "offsetgroup": "400:500",
         "orientation": "v",
         "showlegend": true,
         "textposition": "auto",
         "type": "bar",
         "x": [
          "اصلاح بودي",
          "اصلاح كوشوك",
          "اصلاح ميكانيك"
         ],
         "xaxis": "x",
         "y": [
          7.5,
          1,
          1
         ],
         "yaxis": "y"
        },
        {
         "alignmentgroup": "True",
         "hovertemplate": "color=700:800<br>x=%{x}<br>AverageServiceDuration=%{y}<extra></extra>",
         "legendgroup": "700:800",
         "marker": {
          "color": "#EF553B",
          "pattern": {
           "shape": ""
          }
         },
         "name": "700:800",
         "offsetgroup": "700:800",
         "orientation": "v",
         "showlegend": true,
         "textposition": "auto",
         "type": "bar",
         "x": [
          "اصلاح بودي"
         ],
         "xaxis": "x",
         "y": [
          9.2
         ],
         "yaxis": "y"
        },
        {
         "alignmentgroup": "True",
         "hovertemplate": "color=800:900<br>x=%{x}<br>AverageServiceDuration=%{y}<extra></extra>",
         "legendgroup": "800:900",
         "marker": {
          "color": "#00cc96",
          "pattern": {
           "shape": ""
          }
         },
         "name": "800:900",
         "offsetgroup": "800:900",
         "orientation": "v",
         "showlegend": true,
         "textposition": "auto",
         "type": "bar",
         "x": [
          "اصلاح بودي"
         ],
         "xaxis": "x",
         "y": [
          10
         ],
         "yaxis": "y"
        },
        {
         "alignmentgroup": "True",
         "hovertemplate": "color=900:1000<br>x=%{x}<br>AverageServiceDuration=%{y}<extra></extra>",
         "legendgroup": "900:1000",
         "marker": {
          "color": "#ab63fa",
          "pattern": {
           "shape": ""
          }
         },
         "name": "900:1000",
         "offsetgroup": "900:1000",
         "orientation": "v",
         "showlegend": true,
         "textposition": "auto",
         "type": "bar",
         "x": [
          "اصلاح بودي"
         ],
         "xaxis": "x",
         "y": [
          14
         ],
         "yaxis": "y"
        },
        {
         "alignmentgroup": "True",
         "hovertemplate": "color=2000:3000<br>x=%{x}<br>AverageServiceDuration=%{y}<extra></extra>",
         "legendgroup": "2000:3000",
         "marker": {
          "color": "#FFA15A",
          "pattern": {
           "shape": ""
          }
         },
         "name": "2000:3000",
         "offsetgroup": "2000:3000",
         "orientation": "v",
         "showlegend": true,
         "textposition": "auto",
         "type": "bar",
         "x": [
          "اصلاح بودي",
          "اصلاح ميكانيك"
         ],
         "xaxis": "x",
         "y": [
          30,
          70
         ],
         "yaxis": "y"
        }
       ],
       "layout": {
        "barmode": "relative",
        "legend": {
         "title": {
          "text": "color"
         },
         "tracegroupgap": 0
        },
        "template": {
         "data": {
          "bar": [
           {
            "error_x": {
             "color": "#2a3f5f"
            },
            "error_y": {
             "color": "#2a3f5f"
            },
            "marker": {
             "line": {
              "color": "#E5ECF6",
              "width": 0.5
             },
             "pattern": {
              "fillmode": "overlay",
              "size": 10,
              "solidity": 0.2
             }
            },
            "type": "bar"
           }
          ],
          "barpolar": [
           {
            "marker": {
             "line": {
              "color": "#E5ECF6",
              "width": 0.5
             },
             "pattern": {
              "fillmode": "overlay",
              "size": 10,
              "solidity": 0.2
             }
            },
            "type": "barpolar"
           }
          ],
          "carpet": [
           {
            "aaxis": {
             "endlinecolor": "#2a3f5f",
             "gridcolor": "white",
             "linecolor": "white",
             "minorgridcolor": "white",
             "startlinecolor": "#2a3f5f"
            },
            "baxis": {
             "endlinecolor": "#2a3f5f",
             "gridcolor": "white",
             "linecolor": "white",
             "minorgridcolor": "white",
             "startlinecolor": "#2a3f5f"
            },
            "type": "carpet"
           }
          ],
          "choropleth": [
           {
            "colorbar": {
             "outlinewidth": 0,
             "ticks": ""
            },
            "type": "choropleth"
           }
          ],
          "contour": [
           {
            "colorbar": {
             "outlinewidth": 0,
             "ticks": ""
            },
            "colorscale": [
             [
              0,
              "#0d0887"
             ],
             [
              0.1111111111111111,
              "#46039f"
             ],
             [
              0.2222222222222222,
              "#7201a8"
             ],
             [
              0.3333333333333333,
              "#9c179e"
             ],
             [
              0.4444444444444444,
              "#bd3786"
             ],
             [
              0.5555555555555556,
              "#d8576b"
             ],
             [
              0.6666666666666666,
              "#ed7953"
             ],
             [
              0.7777777777777778,
              "#fb9f3a"
             ],
             [
              0.8888888888888888,
              "#fdca26"
             ],
             [
              1,
              "#f0f921"
             ]
            ],
            "type": "contour"
           }
          ],
          "contourcarpet": [
           {
            "colorbar": {
             "outlinewidth": 0,
             "ticks": ""
            },
            "type": "contourcarpet"
           }
          ],
          "heatmap": [
           {
            "colorbar": {
             "outlinewidth": 0,
             "ticks": ""
            },
            "colorscale": [
             [
              0,
              "#0d0887"
             ],
             [
              0.1111111111111111,
              "#46039f"
             ],
             [
              0.2222222222222222,
              "#7201a8"
             ],
             [
              0.3333333333333333,
              "#9c179e"
             ],
             [
              0.4444444444444444,
              "#bd3786"
             ],
             [
              0.5555555555555556,
              "#d8576b"
             ],
             [
              0.6666666666666666,
              "#ed7953"
             ],
             [
              0.7777777777777778,
              "#fb9f3a"
             ],
             [
              0.8888888888888888,
              "#fdca26"
             ],
             [
              1,
              "#f0f921"
             ]
            ],
            "type": "heatmap"
           }
          ],
          "heatmapgl": [
           {
            "colorbar": {
             "outlinewidth": 0,
             "ticks": ""
            },
            "colorscale": [
             [
              0,
              "#0d0887"
             ],
             [
              0.1111111111111111,
              "#46039f"
             ],
             [
              0.2222222222222222,
              "#7201a8"
             ],
             [
              0.3333333333333333,
              "#9c179e"
             ],
             [
              0.4444444444444444,
              "#bd3786"
             ],
             [
              0.5555555555555556,
              "#d8576b"
             ],
             [
              0.6666666666666666,
              "#ed7953"
             ],
             [
              0.7777777777777778,
              "#fb9f3a"
             ],
             [
              0.8888888888888888,
              "#fdca26"
             ],
             [
              1,
              "#f0f921"
             ]
            ],
            "type": "heatmapgl"
           }
          ],
          "histogram": [
           {
            "marker": {
             "pattern": {
              "fillmode": "overlay",
              "size": 10,
              "solidity": 0.2
             }
            },
            "type": "histogram"
           }
          ],
          "histogram2d": [
           {
            "colorbar": {
             "outlinewidth": 0,
             "ticks": ""
            },
            "colorscale": [
             [
              0,
              "#0d0887"
             ],
             [
              0.1111111111111111,
              "#46039f"
             ],
             [
              0.2222222222222222,
              "#7201a8"
             ],
             [
              0.3333333333333333,
              "#9c179e"
             ],
             [
              0.4444444444444444,
              "#bd3786"
             ],
             [
              0.5555555555555556,
              "#d8576b"
             ],
             [
              0.6666666666666666,
              "#ed7953"
             ],
             [
              0.7777777777777778,
              "#fb9f3a"
             ],
             [
              0.8888888888888888,
              "#fdca26"
             ],
             [
              1,
              "#f0f921"
             ]
            ],
            "type": "histogram2d"
           }
          ],
          "histogram2dcontour": [
           {
            "colorbar": {
             "outlinewidth": 0,
             "ticks": ""
            },
            "colorscale": [
             [
              0,
              "#0d0887"
             ],
             [
              0.1111111111111111,
              "#46039f"
             ],
             [
              0.2222222222222222,
              "#7201a8"
             ],
             [
              0.3333333333333333,
              "#9c179e"
             ],
             [
              0.4444444444444444,
              "#bd3786"
             ],
             [
              0.5555555555555556,
              "#d8576b"
             ],
             [
              0.6666666666666666,
              "#ed7953"
             ],
             [
              0.7777777777777778,
              "#fb9f3a"
             ],
             [
              0.8888888888888888,
              "#fdca26"
             ],
             [
              1,
              "#f0f921"
             ]
            ],
            "type": "histogram2dcontour"
           }
          ],
          "mesh3d": [
           {
            "colorbar": {
             "outlinewidth": 0,
             "ticks": ""
            },
            "type": "mesh3d"
           }
          ],
          "parcoords": [
           {
            "line": {
             "colorbar": {
              "outlinewidth": 0,
              "ticks": ""
             }
            },
            "type": "parcoords"
           }
          ],
          "pie": [
           {
            "automargin": true,
            "type": "pie"
           }
          ],
          "scatter": [
           {
            "fillpattern": {
             "fillmode": "overlay",
             "size": 10,
             "solidity": 0.2
            },
            "type": "scatter"
           }
          ],
          "scatter3d": [
           {
            "line": {
             "colorbar": {
              "outlinewidth": 0,
              "ticks": ""
             }
            },
            "marker": {
             "colorbar": {
              "outlinewidth": 0,
              "ticks": ""
             }
            },
            "type": "scatter3d"
           }
          ],
          "scattercarpet": [
           {
            "marker": {
             "colorbar": {
              "outlinewidth": 0,
              "ticks": ""
             }
            },
            "type": "scattercarpet"
           }
          ],
          "scattergeo": [
           {
            "marker": {
             "colorbar": {
              "outlinewidth": 0,
              "ticks": ""
             }
            },
            "type": "scattergeo"
           }
          ],
          "scattergl": [
           {
            "marker": {
             "colorbar": {
              "outlinewidth": 0,
              "ticks": ""
             }
            },
            "type": "scattergl"
           }
          ],
          "scattermapbox": [
           {
            "marker": {
             "colorbar": {
              "outlinewidth": 0,
              "ticks": ""
             }
            },
            "type": "scattermapbox"
           }
          ],
          "scatterpolar": [
           {
            "marker": {
             "colorbar": {
              "outlinewidth": 0,
              "ticks": ""
             }
            },
            "type": "scatterpolar"
           }
          ],
          "scatterpolargl": [
           {
            "marker": {
             "colorbar": {
              "outlinewidth": 0,
              "ticks": ""
             }
            },
            "type": "scatterpolargl"
           }
          ],
          "scatterternary": [
           {
            "marker": {
             "colorbar": {
              "outlinewidth": 0,
              "ticks": ""
             }
            },
            "type": "scatterternary"
           }
          ],
          "surface": [
           {
            "colorbar": {
             "outlinewidth": 0,
             "ticks": ""
            },
            "colorscale": [
             [
              0,
              "#0d0887"
             ],
             [
              0.1111111111111111,
              "#46039f"
             ],
             [
              0.2222222222222222,
              "#7201a8"
             ],
             [
              0.3333333333333333,
              "#9c179e"
             ],
             [
              0.4444444444444444,
              "#bd3786"
             ],
             [
              0.5555555555555556,
              "#d8576b"
             ],
             [
              0.6666666666666666,
              "#ed7953"
             ],
             [
              0.7777777777777778,
              "#fb9f3a"
             ],
             [
              0.8888888888888888,
              "#fdca26"
             ],
             [
              1,
              "#f0f921"
             ]
            ],
            "type": "surface"
           }
          ],
          "table": [
           {
            "cells": {
             "fill": {
              "color": "#EBF0F8"
             },
             "line": {
              "color": "white"
             }
            },
            "header": {
             "fill": {
              "color": "#C8D4E3"
             },
             "line": {
              "color": "white"
             }
            },
            "type": "table"
           }
          ]
         },
         "layout": {
          "annotationdefaults": {
           "arrowcolor": "#2a3f5f",
           "arrowhead": 0,
           "arrowwidth": 1
          },
          "autotypenumbers": "strict",
          "coloraxis": {
           "colorbar": {
            "outlinewidth": 0,
            "ticks": ""
           }
          },
          "colorscale": {
           "diverging": [
            [
             0,
             "#8e0152"
            ],
            [
             0.1,
             "#c51b7d"
            ],
            [
             0.2,
             "#de77ae"
            ],
            [
             0.3,
             "#f1b6da"
            ],
            [
             0.4,
             "#fde0ef"
            ],
            [
             0.5,
             "#f7f7f7"
            ],
            [
             0.6,
             "#e6f5d0"
            ],
            [
             0.7,
             "#b8e186"
            ],
            [
             0.8,
             "#7fbc41"
            ],
            [
             0.9,
             "#4d9221"
            ],
            [
             1,
             "#276419"
            ]
           ],
           "sequential": [
            [
             0,
             "#0d0887"
            ],
            [
             0.1111111111111111,
             "#46039f"
            ],
            [
             0.2222222222222222,
             "#7201a8"
            ],
            [
             0.3333333333333333,
             "#9c179e"
            ],
            [
             0.4444444444444444,
             "#bd3786"
            ],
            [
             0.5555555555555556,
             "#d8576b"
            ],
            [
             0.6666666666666666,
             "#ed7953"
            ],
            [
             0.7777777777777778,
             "#fb9f3a"
            ],
            [
             0.8888888888888888,
             "#fdca26"
            ],
            [
             1,
             "#f0f921"
            ]
           ],
           "sequentialminus": [
            [
             0,
             "#0d0887"
            ],
            [
             0.1111111111111111,
             "#46039f"
            ],
            [
             0.2222222222222222,
             "#7201a8"
            ],
            [
             0.3333333333333333,
             "#9c179e"
            ],
            [
             0.4444444444444444,
             "#bd3786"
            ],
            [
             0.5555555555555556,
             "#d8576b"
            ],
            [
             0.6666666666666666,
             "#ed7953"
            ],
            [
             0.7777777777777778,
             "#fb9f3a"
            ],
            [
             0.8888888888888888,
             "#fdca26"
            ],
            [
             1,
             "#f0f921"
            ]
           ]
          },
          "colorway": [
           "#636efa",
           "#EF553B",
           "#00cc96",
           "#ab63fa",
           "#FFA15A",
           "#19d3f3",
           "#FF6692",
           "#B6E880",
           "#FF97FF",
           "#FECB52"
          ],
          "font": {
           "color": "#2a3f5f"
          },
          "geo": {
           "bgcolor": "white",
           "lakecolor": "white",
           "landcolor": "#E5ECF6",
           "showlakes": true,
           "showland": true,
           "subunitcolor": "white"
          },
          "hoverlabel": {
           "align": "left"
          },
          "hovermode": "closest",
          "mapbox": {
           "style": "light"
          },
          "paper_bgcolor": "white",
          "plot_bgcolor": "#E5ECF6",
          "polar": {
           "angularaxis": {
            "gridcolor": "white",
            "linecolor": "white",
            "ticks": ""
           },
           "bgcolor": "#E5ECF6",
           "radialaxis": {
            "gridcolor": "white",
            "linecolor": "white",
            "ticks": ""
           }
          },
          "scene": {
           "xaxis": {
            "backgroundcolor": "#E5ECF6",
            "gridcolor": "white",
            "gridwidth": 2,
            "linecolor": "white",
            "showbackground": true,
            "ticks": "",
            "zerolinecolor": "white"
           },
           "yaxis": {
            "backgroundcolor": "#E5ECF6",
            "gridcolor": "white",
            "gridwidth": 2,
            "linecolor": "white",
            "showbackground": true,
            "ticks": "",
            "zerolinecolor": "white"
           },
           "zaxis": {
            "backgroundcolor": "#E5ECF6",
            "gridcolor": "white",
            "gridwidth": 2,
            "linecolor": "white",
            "showbackground": true,
            "ticks": "",
            "zerolinecolor": "white"
           }
          },
          "shapedefaults": {
           "line": {
            "color": "#2a3f5f"
           }
          },
          "ternary": {
           "aaxis": {
            "gridcolor": "white",
            "linecolor": "white",
            "ticks": ""
           },
           "baxis": {
            "gridcolor": "white",
            "linecolor": "white",
            "ticks": ""
           },
           "bgcolor": "#E5ECF6",
           "caxis": {
            "gridcolor": "white",
            "linecolor": "white",
            "ticks": ""
           }
          },
          "title": {
           "x": 0.05
          },
          "xaxis": {
           "automargin": true,
           "gridcolor": "white",
           "linecolor": "white",
           "ticks": "",
           "title": {
            "standoff": 15
           },
           "zerolinecolor": "white",
           "zerolinewidth": 2
          },
          "yaxis": {
           "automargin": true,
           "gridcolor": "white",
           "linecolor": "white",
           "ticks": "",
           "title": {
            "standoff": 15
           },
           "zerolinecolor": "white",
           "zerolinewidth": 2
          }
         }
        },
        "title": {
         "text": "Average Service Duration by Damage Type and Cost Category Analysis",
         "x": 0.5
        },
        "xaxis": {
         "anchor": "y",
         "domain": [
          0,
          1
         ],
         "title": {
          "text": "damage type"
         }
        },
        "yaxis": {
         "anchor": "x",
         "domain": [
          0,
          1
         ],
         "title": {
          "text": "AverageServiceDuration"
         }
        }
       }
      },
      "text/html": [
       "<div>                            <div id=\"c39d262e-4c3a-46c3-b17a-7bccebe9fb4b\" class=\"plotly-graph-div\" style=\"height:525px; width:100%;\"></div>            <script type=\"text/javascript\">                require([\"plotly\"], function(Plotly) {                    window.PLOTLYENV=window.PLOTLYENV || {};                                    if (document.getElementById(\"c39d262e-4c3a-46c3-b17a-7bccebe9fb4b\")) {                    Plotly.newPlot(                        \"c39d262e-4c3a-46c3-b17a-7bccebe9fb4b\",                        [{\"alignmentgroup\":\"True\",\"hovertemplate\":\"color=1:50\\u003cbr\\u003ex=%{x}\\u003cbr\\u003eAverageServiceDuration=%{y}\\u003cextra\\u003e\\u003c\\u002fextra\\u003e\",\"legendgroup\":\"1:50\",\"marker\":{\"color\":\"#636efa\",\"pattern\":{\"shape\":\"\"}},\"name\":\"1:50\",\"offsetgroup\":\"1:50\",\"orientation\":\"v\",\"showlegend\":true,\"textposition\":\"auto\",\"x\":[\"اصلاح بودي\",\"اصلاح زجاج\",\"اصلاح فرش\",\"اصلاح كهرباء\",\"اصلاح كوشوك\",\"اصلاح ميكانيك\",\"غيار زيت\"],\"xaxis\":\"x\",\"y\":[2.9,1.0,1.2,2.8,1.0,1.0,1.0],\"yaxis\":\"y\",\"type\":\"bar\"},{\"alignmentgroup\":\"True\",\"hovertemplate\":\"color=500:600\\u003cbr\\u003ex=%{x}\\u003cbr\\u003eAverageServiceDuration=%{y}\\u003cextra\\u003e\\u003c\\u002fextra\\u003e\",\"legendgroup\":\"500:600\",\"marker\":{\"color\":\"#EF553B\",\"pattern\":{\"shape\":\"\"}},\"name\":\"500:600\",\"offsetgroup\":\"500:600\",\"orientation\":\"v\",\"showlegend\":true,\"textposition\":\"auto\",\"x\":[\"اصلاح بودي\",\"اصلاح كوشوك\",\"اصلاح ميكانيك\"],\"xaxis\":\"x\",\"y\":[4.2,4.9,11.6],\"yaxis\":\"y\",\"type\":\"bar\"},{\"alignmentgroup\":\"True\",\"hovertemplate\":\"color=50:100\\u003cbr\\u003ex=%{x}\\u003cbr\\u003eAverageServiceDuration=%{y}\\u003cextra\\u003e\\u003c\\u002fextra\\u003e\",\"legendgroup\":\"50:100\",\"marker\":{\"color\":\"#00cc96\",\"pattern\":{\"shape\":\"\"}},\"name\":\"50:100\",\"offsetgroup\":\"50:100\",\"orientation\":\"v\",\"showlegend\":true,\"textposition\":\"auto\",\"x\":[\"اصلاح بودي\",\"اصلاح زجاج\",\"اصلاح فرش\",\"اصلاح كهرباء\",\"اصلاح كوشوك\",\"اصلاح ميكانيك\",\"غيار زيت\"],\"xaxis\":\"x\",\"y\":[4.3,1.1,2.0,1.4,1.0,1.2,1.1],\"yaxis\":\"y\",\"type\":\"bar\"},{\"alignmentgroup\":\"True\",\"hovertemplate\":\"color=100:150\\u003cbr\\u003ex=%{x}\\u003cbr\\u003eAverageServiceDuration=%{y}\\u003cextra\\u003e\\u003c\\u002fextra\\u003e\",\"legendgroup\":\"100:150\",\"marker\":{\"color\":\"#ab63fa\",\"pattern\":{\"shape\":\"\"}},\"name\":\"100:150\",\"offsetgroup\":\"100:150\",\"orientation\":\"v\",\"showlegend\":true,\"textposition\":\"auto\",\"x\":[\"اصلاح بودي\",\"اصلاح زجاج\",\"اصلاح فرش\",\"اصلاح كهرباء\",\"اصلاح كوشوك\",\"اصلاح ميكانيك\",\"غيار زيت\"],\"xaxis\":\"x\",\"y\":[5.0,1.0,3.5,1.0,1.0,1.3,1.0],\"yaxis\":\"y\",\"type\":\"bar\"},{\"alignmentgroup\":\"True\",\"hovertemplate\":\"color=200:300\\u003cbr\\u003ex=%{x}\\u003cbr\\u003eAverageServiceDuration=%{y}\\u003cextra\\u003e\\u003c\\u002fextra\\u003e\",\"legendgroup\":\"200:300\",\"marker\":{\"color\":\"#FFA15A\",\"pattern\":{\"shape\":\"\"}},\"name\":\"200:300\",\"offsetgroup\":\"200:300\",\"orientation\":\"v\",\"showlegend\":true,\"textposition\":\"auto\",\"x\":[\"اصلاح بودي\",\"اصلاح كهرباء\",\"اصلاح كوشوك\",\"اصلاح ميكانيك\",\"غيار زيت\"],\"xaxis\":\"x\",\"y\":[5.3,13.0,1.0,1.2,3.5],\"yaxis\":\"y\",\"type\":\"bar\"},{\"alignmentgroup\":\"True\",\"hovertemplate\":\"color=1000:1500\\u003cbr\\u003ex=%{x}\\u003cbr\\u003eAverageServiceDuration=%{y}\\u003cextra\\u003e\\u003c\\u002fextra\\u003e\",\"legendgroup\":\"1000:1500\",\"marker\":{\"color\":\"#19d3f3\",\"pattern\":{\"shape\":\"\"}},\"name\":\"1000:1500\",\"offsetgroup\":\"1000:1500\",\"orientation\":\"v\",\"showlegend\":true,\"textposition\":\"auto\",\"x\":[\"اصلاح بودي\",\"اصلاح ميكانيك\"],\"xaxis\":\"x\",\"y\":[5.6,2.0],\"yaxis\":\"y\",\"type\":\"bar\"},{\"alignmentgroup\":\"True\",\"hovertemplate\":\"color=600:700\\u003cbr\\u003ex=%{x}\\u003cbr\\u003eAverageServiceDuration=%{y}\\u003cextra\\u003e\\u003c\\u002fextra\\u003e\",\"legendgroup\":\"600:700\",\"marker\":{\"color\":\"#FF6692\",\"pattern\":{\"shape\":\"\"}},\"name\":\"600:700\",\"offsetgroup\":\"600:700\",\"orientation\":\"v\",\"showlegend\":true,\"textposition\":\"auto\",\"x\":[\"اصلاح بودي\",\"اصلاح كوشوك\",\"اصلاح ميكانيك\"],\"xaxis\":\"x\",\"y\":[5.7,1.0,1.0],\"yaxis\":\"y\",\"type\":\"bar\"},{\"alignmentgroup\":\"True\",\"hovertemplate\":\"color=300:400\\u003cbr\\u003ex=%{x}\\u003cbr\\u003eAverageServiceDuration=%{y}\\u003cextra\\u003e\\u003c\\u002fextra\\u003e\",\"legendgroup\":\"300:400\",\"marker\":{\"color\":\"#B6E880\",\"pattern\":{\"shape\":\"\"}},\"name\":\"300:400\",\"offsetgroup\":\"300:400\",\"orientation\":\"v\",\"showlegend\":true,\"textposition\":\"auto\",\"x\":[\"اصلاح بودي\",\"اصلاح كوشوك\",\"اصلاح ميكانيك\"],\"xaxis\":\"x\",\"y\":[6.1,1.0,1.0],\"yaxis\":\"y\",\"type\":\"bar\"},{\"alignmentgroup\":\"True\",\"hovertemplate\":\"color=1500:2000\\u003cbr\\u003ex=%{x}\\u003cbr\\u003eAverageServiceDuration=%{y}\\u003cextra\\u003e\\u003c\\u002fextra\\u003e\",\"legendgroup\":\"1500:2000\",\"marker\":{\"color\":\"#FF97FF\",\"pattern\":{\"shape\":\"\"}},\"name\":\"1500:2000\",\"offsetgroup\":\"1500:2000\",\"orientation\":\"v\",\"showlegend\":true,\"textposition\":\"auto\",\"x\":[\"اصلاح بودي\"],\"xaxis\":\"x\",\"y\":[7.0],\"yaxis\":\"y\",\"type\":\"bar\"},{\"alignmentgroup\":\"True\",\"hovertemplate\":\"color=150:200\\u003cbr\\u003ex=%{x}\\u003cbr\\u003eAverageServiceDuration=%{y}\\u003cextra\\u003e\\u003c\\u002fextra\\u003e\",\"legendgroup\":\"150:200\",\"marker\":{\"color\":\"#FECB52\",\"pattern\":{\"shape\":\"\"}},\"name\":\"150:200\",\"offsetgroup\":\"150:200\",\"orientation\":\"v\",\"showlegend\":true,\"textposition\":\"auto\",\"x\":[\"اصلاح بودي\",\"اصلاح كوشوك\",\"اصلاح ميكانيك\"],\"xaxis\":\"x\",\"y\":[7.1,1.4,1.8],\"yaxis\":\"y\",\"type\":\"bar\"},{\"alignmentgroup\":\"True\",\"hovertemplate\":\"color=400:500\\u003cbr\\u003ex=%{x}\\u003cbr\\u003eAverageServiceDuration=%{y}\\u003cextra\\u003e\\u003c\\u002fextra\\u003e\",\"legendgroup\":\"400:500\",\"marker\":{\"color\":\"#636efa\",\"pattern\":{\"shape\":\"\"}},\"name\":\"400:500\",\"offsetgroup\":\"400:500\",\"orientation\":\"v\",\"showlegend\":true,\"textposition\":\"auto\",\"x\":[\"اصلاح بودي\",\"اصلاح كوشوك\",\"اصلاح ميكانيك\"],\"xaxis\":\"x\",\"y\":[7.5,1.0,1.0],\"yaxis\":\"y\",\"type\":\"bar\"},{\"alignmentgroup\":\"True\",\"hovertemplate\":\"color=700:800\\u003cbr\\u003ex=%{x}\\u003cbr\\u003eAverageServiceDuration=%{y}\\u003cextra\\u003e\\u003c\\u002fextra\\u003e\",\"legendgroup\":\"700:800\",\"marker\":{\"color\":\"#EF553B\",\"pattern\":{\"shape\":\"\"}},\"name\":\"700:800\",\"offsetgroup\":\"700:800\",\"orientation\":\"v\",\"showlegend\":true,\"textposition\":\"auto\",\"x\":[\"اصلاح بودي\"],\"xaxis\":\"x\",\"y\":[9.2],\"yaxis\":\"y\",\"type\":\"bar\"},{\"alignmentgroup\":\"True\",\"hovertemplate\":\"color=800:900\\u003cbr\\u003ex=%{x}\\u003cbr\\u003eAverageServiceDuration=%{y}\\u003cextra\\u003e\\u003c\\u002fextra\\u003e\",\"legendgroup\":\"800:900\",\"marker\":{\"color\":\"#00cc96\",\"pattern\":{\"shape\":\"\"}},\"name\":\"800:900\",\"offsetgroup\":\"800:900\",\"orientation\":\"v\",\"showlegend\":true,\"textposition\":\"auto\",\"x\":[\"اصلاح بودي\"],\"xaxis\":\"x\",\"y\":[10.0],\"yaxis\":\"y\",\"type\":\"bar\"},{\"alignmentgroup\":\"True\",\"hovertemplate\":\"color=900:1000\\u003cbr\\u003ex=%{x}\\u003cbr\\u003eAverageServiceDuration=%{y}\\u003cextra\\u003e\\u003c\\u002fextra\\u003e\",\"legendgroup\":\"900:1000\",\"marker\":{\"color\":\"#ab63fa\",\"pattern\":{\"shape\":\"\"}},\"name\":\"900:1000\",\"offsetgroup\":\"900:1000\",\"orientation\":\"v\",\"showlegend\":true,\"textposition\":\"auto\",\"x\":[\"اصلاح بودي\"],\"xaxis\":\"x\",\"y\":[14.0],\"yaxis\":\"y\",\"type\":\"bar\"},{\"alignmentgroup\":\"True\",\"hovertemplate\":\"color=2000:3000\\u003cbr\\u003ex=%{x}\\u003cbr\\u003eAverageServiceDuration=%{y}\\u003cextra\\u003e\\u003c\\u002fextra\\u003e\",\"legendgroup\":\"2000:3000\",\"marker\":{\"color\":\"#FFA15A\",\"pattern\":{\"shape\":\"\"}},\"name\":\"2000:3000\",\"offsetgroup\":\"2000:3000\",\"orientation\":\"v\",\"showlegend\":true,\"textposition\":\"auto\",\"x\":[\"اصلاح بودي\",\"اصلاح ميكانيك\"],\"xaxis\":\"x\",\"y\":[30.0,70.0],\"yaxis\":\"y\",\"type\":\"bar\"}],                        {\"template\":{\"data\":{\"histogram2dcontour\":[{\"type\":\"histogram2dcontour\",\"colorbar\":{\"outlinewidth\":0,\"ticks\":\"\"},\"colorscale\":[[0.0,\"#0d0887\"],[0.1111111111111111,\"#46039f\"],[0.2222222222222222,\"#7201a8\"],[0.3333333333333333,\"#9c179e\"],[0.4444444444444444,\"#bd3786\"],[0.5555555555555556,\"#d8576b\"],[0.6666666666666666,\"#ed7953\"],[0.7777777777777778,\"#fb9f3a\"],[0.8888888888888888,\"#fdca26\"],[1.0,\"#f0f921\"]]}],\"choropleth\":[{\"type\":\"choropleth\",\"colorbar\":{\"outlinewidth\":0,\"ticks\":\"\"}}],\"histogram2d\":[{\"type\":\"histogram2d\",\"colorbar\":{\"outlinewidth\":0,\"ticks\":\"\"},\"colorscale\":[[0.0,\"#0d0887\"],[0.1111111111111111,\"#46039f\"],[0.2222222222222222,\"#7201a8\"],[0.3333333333333333,\"#9c179e\"],[0.4444444444444444,\"#bd3786\"],[0.5555555555555556,\"#d8576b\"],[0.6666666666666666,\"#ed7953\"],[0.7777777777777778,\"#fb9f3a\"],[0.8888888888888888,\"#fdca26\"],[1.0,\"#f0f921\"]]}],\"heatmap\":[{\"type\":\"heatmap\",\"colorbar\":{\"outlinewidth\":0,\"ticks\":\"\"},\"colorscale\":[[0.0,\"#0d0887\"],[0.1111111111111111,\"#46039f\"],[0.2222222222222222,\"#7201a8\"],[0.3333333333333333,\"#9c179e\"],[0.4444444444444444,\"#bd3786\"],[0.5555555555555556,\"#d8576b\"],[0.6666666666666666,\"#ed7953\"],[0.7777777777777778,\"#fb9f3a\"],[0.8888888888888888,\"#fdca26\"],[1.0,\"#f0f921\"]]}],\"heatmapgl\":[{\"type\":\"heatmapgl\",\"colorbar\":{\"outlinewidth\":0,\"ticks\":\"\"},\"colorscale\":[[0.0,\"#0d0887\"],[0.1111111111111111,\"#46039f\"],[0.2222222222222222,\"#7201a8\"],[0.3333333333333333,\"#9c179e\"],[0.4444444444444444,\"#bd3786\"],[0.5555555555555556,\"#d8576b\"],[0.6666666666666666,\"#ed7953\"],[0.7777777777777778,\"#fb9f3a\"],[0.8888888888888888,\"#fdca26\"],[1.0,\"#f0f921\"]]}],\"contourcarpet\":[{\"type\":\"contourcarpet\",\"colorbar\":{\"outlinewidth\":0,\"ticks\":\"\"}}],\"contour\":[{\"type\":\"contour\",\"colorbar\":{\"outlinewidth\":0,\"ticks\":\"\"},\"colorscale\":[[0.0,\"#0d0887\"],[0.1111111111111111,\"#46039f\"],[0.2222222222222222,\"#7201a8\"],[0.3333333333333333,\"#9c179e\"],[0.4444444444444444,\"#bd3786\"],[0.5555555555555556,\"#d8576b\"],[0.6666666666666666,\"#ed7953\"],[0.7777777777777778,\"#fb9f3a\"],[0.8888888888888888,\"#fdca26\"],[1.0,\"#f0f921\"]]}],\"surface\":[{\"type\":\"surface\",\"colorbar\":{\"outlinewidth\":0,\"ticks\":\"\"},\"colorscale\":[[0.0,\"#0d0887\"],[0.1111111111111111,\"#46039f\"],[0.2222222222222222,\"#7201a8\"],[0.3333333333333333,\"#9c179e\"],[0.4444444444444444,\"#bd3786\"],[0.5555555555555556,\"#d8576b\"],[0.6666666666666666,\"#ed7953\"],[0.7777777777777778,\"#fb9f3a\"],[0.8888888888888888,\"#fdca26\"],[1.0,\"#f0f921\"]]}],\"mesh3d\":[{\"type\":\"mesh3d\",\"colorbar\":{\"outlinewidth\":0,\"ticks\":\"\"}}],\"scatter\":[{\"fillpattern\":{\"fillmode\":\"overlay\",\"size\":10,\"solidity\":0.2},\"type\":\"scatter\"}],\"parcoords\":[{\"type\":\"parcoords\",\"line\":{\"colorbar\":{\"outlinewidth\":0,\"ticks\":\"\"}}}],\"scatterpolargl\":[{\"type\":\"scatterpolargl\",\"marker\":{\"colorbar\":{\"outlinewidth\":0,\"ticks\":\"\"}}}],\"bar\":[{\"error_x\":{\"color\":\"#2a3f5f\"},\"error_y\":{\"color\":\"#2a3f5f\"},\"marker\":{\"line\":{\"color\":\"#E5ECF6\",\"width\":0.5},\"pattern\":{\"fillmode\":\"overlay\",\"size\":10,\"solidity\":0.2}},\"type\":\"bar\"}],\"scattergeo\":[{\"type\":\"scattergeo\",\"marker\":{\"colorbar\":{\"outlinewidth\":0,\"ticks\":\"\"}}}],\"scatterpolar\":[{\"type\":\"scatterpolar\",\"marker\":{\"colorbar\":{\"outlinewidth\":0,\"ticks\":\"\"}}}],\"histogram\":[{\"marker\":{\"pattern\":{\"fillmode\":\"overlay\",\"size\":10,\"solidity\":0.2}},\"type\":\"histogram\"}],\"scattergl\":[{\"type\":\"scattergl\",\"marker\":{\"colorbar\":{\"outlinewidth\":0,\"ticks\":\"\"}}}],\"scatter3d\":[{\"type\":\"scatter3d\",\"line\":{\"colorbar\":{\"outlinewidth\":0,\"ticks\":\"\"}},\"marker\":{\"colorbar\":{\"outlinewidth\":0,\"ticks\":\"\"}}}],\"scattermapbox\":[{\"type\":\"scattermapbox\",\"marker\":{\"colorbar\":{\"outlinewidth\":0,\"ticks\":\"\"}}}],\"scatterternary\":[{\"type\":\"scatterternary\",\"marker\":{\"colorbar\":{\"outlinewidth\":0,\"ticks\":\"\"}}}],\"scattercarpet\":[{\"type\":\"scattercarpet\",\"marker\":{\"colorbar\":{\"outlinewidth\":0,\"ticks\":\"\"}}}],\"carpet\":[{\"aaxis\":{\"endlinecolor\":\"#2a3f5f\",\"gridcolor\":\"white\",\"linecolor\":\"white\",\"minorgridcolor\":\"white\",\"startlinecolor\":\"#2a3f5f\"},\"baxis\":{\"endlinecolor\":\"#2a3f5f\",\"gridcolor\":\"white\",\"linecolor\":\"white\",\"minorgridcolor\":\"white\",\"startlinecolor\":\"#2a3f5f\"},\"type\":\"carpet\"}],\"table\":[{\"cells\":{\"fill\":{\"color\":\"#EBF0F8\"},\"line\":{\"color\":\"white\"}},\"header\":{\"fill\":{\"color\":\"#C8D4E3\"},\"line\":{\"color\":\"white\"}},\"type\":\"table\"}],\"barpolar\":[{\"marker\":{\"line\":{\"color\":\"#E5ECF6\",\"width\":0.5},\"pattern\":{\"fillmode\":\"overlay\",\"size\":10,\"solidity\":0.2}},\"type\":\"barpolar\"}],\"pie\":[{\"automargin\":true,\"type\":\"pie\"}]},\"layout\":{\"autotypenumbers\":\"strict\",\"colorway\":[\"#636efa\",\"#EF553B\",\"#00cc96\",\"#ab63fa\",\"#FFA15A\",\"#19d3f3\",\"#FF6692\",\"#B6E880\",\"#FF97FF\",\"#FECB52\"],\"font\":{\"color\":\"#2a3f5f\"},\"hovermode\":\"closest\",\"hoverlabel\":{\"align\":\"left\"},\"paper_bgcolor\":\"white\",\"plot_bgcolor\":\"#E5ECF6\",\"polar\":{\"bgcolor\":\"#E5ECF6\",\"angularaxis\":{\"gridcolor\":\"white\",\"linecolor\":\"white\",\"ticks\":\"\"},\"radialaxis\":{\"gridcolor\":\"white\",\"linecolor\":\"white\",\"ticks\":\"\"}},\"ternary\":{\"bgcolor\":\"#E5ECF6\",\"aaxis\":{\"gridcolor\":\"white\",\"linecolor\":\"white\",\"ticks\":\"\"},\"baxis\":{\"gridcolor\":\"white\",\"linecolor\":\"white\",\"ticks\":\"\"},\"caxis\":{\"gridcolor\":\"white\",\"linecolor\":\"white\",\"ticks\":\"\"}},\"coloraxis\":{\"colorbar\":{\"outlinewidth\":0,\"ticks\":\"\"}},\"colorscale\":{\"sequential\":[[0.0,\"#0d0887\"],[0.1111111111111111,\"#46039f\"],[0.2222222222222222,\"#7201a8\"],[0.3333333333333333,\"#9c179e\"],[0.4444444444444444,\"#bd3786\"],[0.5555555555555556,\"#d8576b\"],[0.6666666666666666,\"#ed7953\"],[0.7777777777777778,\"#fb9f3a\"],[0.8888888888888888,\"#fdca26\"],[1.0,\"#f0f921\"]],\"sequentialminus\":[[0.0,\"#0d0887\"],[0.1111111111111111,\"#46039f\"],[0.2222222222222222,\"#7201a8\"],[0.3333333333333333,\"#9c179e\"],[0.4444444444444444,\"#bd3786\"],[0.5555555555555556,\"#d8576b\"],[0.6666666666666666,\"#ed7953\"],[0.7777777777777778,\"#fb9f3a\"],[0.8888888888888888,\"#fdca26\"],[1.0,\"#f0f921\"]],\"diverging\":[[0,\"#8e0152\"],[0.1,\"#c51b7d\"],[0.2,\"#de77ae\"],[0.3,\"#f1b6da\"],[0.4,\"#fde0ef\"],[0.5,\"#f7f7f7\"],[0.6,\"#e6f5d0\"],[0.7,\"#b8e186\"],[0.8,\"#7fbc41\"],[0.9,\"#4d9221\"],[1,\"#276419\"]]},\"xaxis\":{\"gridcolor\":\"white\",\"linecolor\":\"white\",\"ticks\":\"\",\"title\":{\"standoff\":15},\"zerolinecolor\":\"white\",\"automargin\":true,\"zerolinewidth\":2},\"yaxis\":{\"gridcolor\":\"white\",\"linecolor\":\"white\",\"ticks\":\"\",\"title\":{\"standoff\":15},\"zerolinecolor\":\"white\",\"automargin\":true,\"zerolinewidth\":2},\"scene\":{\"xaxis\":{\"backgroundcolor\":\"#E5ECF6\",\"gridcolor\":\"white\",\"linecolor\":\"white\",\"showbackground\":true,\"ticks\":\"\",\"zerolinecolor\":\"white\",\"gridwidth\":2},\"yaxis\":{\"backgroundcolor\":\"#E5ECF6\",\"gridcolor\":\"white\",\"linecolor\":\"white\",\"showbackground\":true,\"ticks\":\"\",\"zerolinecolor\":\"white\",\"gridwidth\":2},\"zaxis\":{\"backgroundcolor\":\"#E5ECF6\",\"gridcolor\":\"white\",\"linecolor\":\"white\",\"showbackground\":true,\"ticks\":\"\",\"zerolinecolor\":\"white\",\"gridwidth\":2}},\"shapedefaults\":{\"line\":{\"color\":\"#2a3f5f\"}},\"annotationdefaults\":{\"arrowcolor\":\"#2a3f5f\",\"arrowhead\":0,\"arrowwidth\":1},\"geo\":{\"bgcolor\":\"white\",\"landcolor\":\"#E5ECF6\",\"subunitcolor\":\"white\",\"showland\":true,\"showlakes\":true,\"lakecolor\":\"white\"},\"title\":{\"x\":0.05},\"mapbox\":{\"style\":\"light\"}}},\"xaxis\":{\"anchor\":\"y\",\"domain\":[0.0,1.0],\"title\":{\"text\":\"damage type\"}},\"yaxis\":{\"anchor\":\"x\",\"domain\":[0.0,1.0],\"title\":{\"text\":\"AverageServiceDuration\"}},\"legend\":{\"title\":{\"text\":\"color\"},\"tracegroupgap\":0},\"title\":{\"text\":\"Average Service Duration by Damage Type and Cost Category Analysis\",\"x\":0.5},\"barmode\":\"relative\"},                        {\"responsive\": true}                    ).then(function(){\n",
       "                            \n",
       "var gd = document.getElementById('c39d262e-4c3a-46c3-b17a-7bccebe9fb4b');\n",
       "var x = new MutationObserver(function (mutations, observer) {{\n",
       "        var display = window.getComputedStyle(gd).display;\n",
       "        if (!display || display === 'none') {{\n",
       "            console.log([gd, 'removed!']);\n",
       "            Plotly.purge(gd);\n",
       "            observer.disconnect();\n",
       "        }}\n",
       "}});\n",
       "\n",
       "// Listen for the removal of the full notebook cells\n",
       "var notebookContainer = gd.closest('#notebook-container');\n",
       "if (notebookContainer) {{\n",
       "    x.observe(notebookContainer, {childList: true});\n",
       "}}\n",
       "\n",
       "// Listen for the clearing of the current output cell\n",
       "var outputEl = gd.closest('.output');\n",
       "if (outputEl) {{\n",
       "    x.observe(outputEl, {childList: true});\n",
       "}}\n",
       "\n",
       "                        })                };                });            </script>        </div>"
      ]
     },
     "metadata": {},
     "output_type": "display_data"
    },
    {
     "data": {
      "application/vnd.plotly.v1+json": {
       "config": {
        "plotlyServerURL": "https://plot.ly"
       },
       "data": [
        {
         "hovertemplate": "color=1000:1500<br>x=%{x}<br>AverageServiceDuration=%{y}<extra></extra>",
         "legendgroup": "1000:1500",
         "marker": {
          "color": "#636efa",
          "symbol": "circle"
         },
         "mode": "markers",
         "name": "1000:1500",
         "orientation": "v",
         "showlegend": true,
         "type": "scatter",
         "x": [
          "اصلاح بودي",
          "اصلاح ميكانيك"
         ],
         "xaxis": "x",
         "y": [
          5.6,
          2
         ],
         "yaxis": "y"
        },
        {
         "hovertemplate": "color=100:150<br>x=%{x}<br>AverageServiceDuration=%{y}<extra></extra>",
         "legendgroup": "100:150",
         "marker": {
          "color": "#EF553B",
          "symbol": "circle"
         },
         "mode": "markers",
         "name": "100:150",
         "orientation": "v",
         "showlegend": true,
         "type": "scatter",
         "x": [
          "اصلاح بودي",
          "اصلاح زجاج",
          "اصلاح فرش",
          "اصلاح كهرباء",
          "اصلاح كوشوك",
          "اصلاح ميكانيك",
          "غيار زيت"
         ],
         "xaxis": "x",
         "y": [
          5,
          1,
          3.5,
          1,
          1,
          1.3,
          1
         ],
         "yaxis": "y"
        },
        {
         "hovertemplate": "color=1500:2000<br>x=%{x}<br>AverageServiceDuration=%{y}<extra></extra>",
         "legendgroup": "1500:2000",
         "marker": {
          "color": "#00cc96",
          "symbol": "circle"
         },
         "mode": "markers",
         "name": "1500:2000",
         "orientation": "v",
         "showlegend": true,
         "type": "scatter",
         "x": [
          "اصلاح بودي"
         ],
         "xaxis": "x",
         "y": [
          7
         ],
         "yaxis": "y"
        },
        {
         "hovertemplate": "color=150:200<br>x=%{x}<br>AverageServiceDuration=%{y}<extra></extra>",
         "legendgroup": "150:200",
         "marker": {
          "color": "#ab63fa",
          "symbol": "circle"
         },
         "mode": "markers",
         "name": "150:200",
         "orientation": "v",
         "showlegend": true,
         "type": "scatter",
         "x": [
          "اصلاح بودي",
          "اصلاح كوشوك",
          "اصلاح ميكانيك"
         ],
         "xaxis": "x",
         "y": [
          7.1,
          1.4,
          1.8
         ],
         "yaxis": "y"
        },
        {
         "hovertemplate": "color=1:50<br>x=%{x}<br>AverageServiceDuration=%{y}<extra></extra>",
         "legendgroup": "1:50",
         "marker": {
          "color": "#FFA15A",
          "symbol": "circle"
         },
         "mode": "markers",
         "name": "1:50",
         "orientation": "v",
         "showlegend": true,
         "type": "scatter",
         "x": [
          "اصلاح بودي",
          "اصلاح زجاج",
          "اصلاح فرش",
          "اصلاح كهرباء",
          "اصلاح كوشوك",
          "اصلاح ميكانيك",
          "غيار زيت"
         ],
         "xaxis": "x",
         "y": [
          2.9,
          1,
          1.2,
          2.8,
          1,
          1,
          1
         ],
         "yaxis": "y"
        },
        {
         "hovertemplate": "color=2000:3000<br>x=%{x}<br>AverageServiceDuration=%{y}<extra></extra>",
         "legendgroup": "2000:3000",
         "marker": {
          "color": "#19d3f3",
          "symbol": "circle"
         },
         "mode": "markers",
         "name": "2000:3000",
         "orientation": "v",
         "showlegend": true,
         "type": "scatter",
         "x": [
          "اصلاح بودي",
          "اصلاح ميكانيك"
         ],
         "xaxis": "x",
         "y": [
          30,
          70
         ],
         "yaxis": "y"
        },
        {
         "hovertemplate": "color=200:300<br>x=%{x}<br>AverageServiceDuration=%{y}<extra></extra>",
         "legendgroup": "200:300",
         "marker": {
          "color": "#FF6692",
          "symbol": "circle"
         },
         "mode": "markers",
         "name": "200:300",
         "orientation": "v",
         "showlegend": true,
         "type": "scatter",
         "x": [
          "اصلاح بودي",
          "اصلاح كهرباء",
          "اصلاح كوشوك",
          "اصلاح ميكانيك",
          "غيار زيت"
         ],
         "xaxis": "x",
         "y": [
          5.3,
          13,
          1,
          1.2,
          3.5
         ],
         "yaxis": "y"
        },
        {
         "hovertemplate": "color=300:400<br>x=%{x}<br>AverageServiceDuration=%{y}<extra></extra>",
         "legendgroup": "300:400",
         "marker": {
          "color": "#B6E880",
          "symbol": "circle"
         },
         "mode": "markers",
         "name": "300:400",
         "orientation": "v",
         "showlegend": true,
         "type": "scatter",
         "x": [
          "اصلاح بودي",
          "اصلاح كوشوك",
          "اصلاح ميكانيك"
         ],
         "xaxis": "x",
         "y": [
          6.1,
          1,
          1
         ],
         "yaxis": "y"
        },
        {
         "hovertemplate": "color=400:500<br>x=%{x}<br>AverageServiceDuration=%{y}<extra></extra>",
         "legendgroup": "400:500",
         "marker": {
          "color": "#FF97FF",
          "symbol": "circle"
         },
         "mode": "markers",
         "name": "400:500",
         "orientation": "v",
         "showlegend": true,
         "type": "scatter",
         "x": [
          "اصلاح بودي",
          "اصلاح كوشوك",
          "اصلاح ميكانيك"
         ],
         "xaxis": "x",
         "y": [
          7.5,
          1,
          1
         ],
         "yaxis": "y"
        },
        {
         "hovertemplate": "color=500:600<br>x=%{x}<br>AverageServiceDuration=%{y}<extra></extra>",
         "legendgroup": "500:600",
         "marker": {
          "color": "#FECB52",
          "symbol": "circle"
         },
         "mode": "markers",
         "name": "500:600",
         "orientation": "v",
         "showlegend": true,
         "type": "scatter",
         "x": [
          "اصلاح بودي",
          "اصلاح كوشوك",
          "اصلاح ميكانيك"
         ],
         "xaxis": "x",
         "y": [
          4.2,
          4.9,
          11.6
         ],
         "yaxis": "y"
        },
        {
         "hovertemplate": "color=50:100<br>x=%{x}<br>AverageServiceDuration=%{y}<extra></extra>",
         "legendgroup": "50:100",
         "marker": {
          "color": "#636efa",
          "symbol": "circle"
         },
         "mode": "markers",
         "name": "50:100",
         "orientation": "v",
         "showlegend": true,
         "type": "scatter",
         "x": [
          "اصلاح بودي",
          "اصلاح زجاج",
          "اصلاح فرش",
          "اصلاح كهرباء",
          "اصلاح كوشوك",
          "اصلاح ميكانيك",
          "غيار زيت"
         ],
         "xaxis": "x",
         "y": [
          4.3,
          1.1,
          2,
          1.4,
          1,
          1.2,
          1.1
         ],
         "yaxis": "y"
        },
        {
         "hovertemplate": "color=600:700<br>x=%{x}<br>AverageServiceDuration=%{y}<extra></extra>",
         "legendgroup": "600:700",
         "marker": {
          "color": "#EF553B",
          "symbol": "circle"
         },
         "mode": "markers",
         "name": "600:700",
         "orientation": "v",
         "showlegend": true,
         "type": "scatter",
         "x": [
          "اصلاح بودي",
          "اصلاح كوشوك",
          "اصلاح ميكانيك"
         ],
         "xaxis": "x",
         "y": [
          5.7,
          1,
          1
         ],
         "yaxis": "y"
        },
        {
         "hovertemplate": "color=700:800<br>x=%{x}<br>AverageServiceDuration=%{y}<extra></extra>",
         "legendgroup": "700:800",
         "marker": {
          "color": "#00cc96",
          "symbol": "circle"
         },
         "mode": "markers",
         "name": "700:800",
         "orientation": "v",
         "showlegend": true,
         "type": "scatter",
         "x": [
          "اصلاح بودي"
         ],
         "xaxis": "x",
         "y": [
          9.2
         ],
         "yaxis": "y"
        },
        {
         "hovertemplate": "color=800:900<br>x=%{x}<br>AverageServiceDuration=%{y}<extra></extra>",
         "legendgroup": "800:900",
         "marker": {
          "color": "#ab63fa",
          "symbol": "circle"
         },
         "mode": "markers",
         "name": "800:900",
         "orientation": "v",
         "showlegend": true,
         "type": "scatter",
         "x": [
          "اصلاح بودي"
         ],
         "xaxis": "x",
         "y": [
          10
         ],
         "yaxis": "y"
        },
        {
         "hovertemplate": "color=900:1000<br>x=%{x}<br>AverageServiceDuration=%{y}<extra></extra>",
         "legendgroup": "900:1000",
         "marker": {
          "color": "#FFA15A",
          "symbol": "circle"
         },
         "mode": "markers",
         "name": "900:1000",
         "orientation": "v",
         "showlegend": true,
         "type": "scatter",
         "x": [
          "اصلاح بودي"
         ],
         "xaxis": "x",
         "y": [
          14
         ],
         "yaxis": "y"
        }
       ],
       "layout": {
        "legend": {
         "title": {
          "text": "color"
         },
         "tracegroupgap": 0
        },
        "template": {
         "data": {
          "bar": [
           {
            "error_x": {
             "color": "#2a3f5f"
            },
            "error_y": {
             "color": "#2a3f5f"
            },
            "marker": {
             "line": {
              "color": "#E5ECF6",
              "width": 0.5
             },
             "pattern": {
              "fillmode": "overlay",
              "size": 10,
              "solidity": 0.2
             }
            },
            "type": "bar"
           }
          ],
          "barpolar": [
           {
            "marker": {
             "line": {
              "color": "#E5ECF6",
              "width": 0.5
             },
             "pattern": {
              "fillmode": "overlay",
              "size": 10,
              "solidity": 0.2
             }
            },
            "type": "barpolar"
           }
          ],
          "carpet": [
           {
            "aaxis": {
             "endlinecolor": "#2a3f5f",
             "gridcolor": "white",
             "linecolor": "white",
             "minorgridcolor": "white",
             "startlinecolor": "#2a3f5f"
            },
            "baxis": {
             "endlinecolor": "#2a3f5f",
             "gridcolor": "white",
             "linecolor": "white",
             "minorgridcolor": "white",
             "startlinecolor": "#2a3f5f"
            },
            "type": "carpet"
           }
          ],
          "choropleth": [
           {
            "colorbar": {
             "outlinewidth": 0,
             "ticks": ""
            },
            "type": "choropleth"
           }
          ],
          "contour": [
           {
            "colorbar": {
             "outlinewidth": 0,
             "ticks": ""
            },
            "colorscale": [
             [
              0,
              "#0d0887"
             ],
             [
              0.1111111111111111,
              "#46039f"
             ],
             [
              0.2222222222222222,
              "#7201a8"
             ],
             [
              0.3333333333333333,
              "#9c179e"
             ],
             [
              0.4444444444444444,
              "#bd3786"
             ],
             [
              0.5555555555555556,
              "#d8576b"
             ],
             [
              0.6666666666666666,
              "#ed7953"
             ],
             [
              0.7777777777777778,
              "#fb9f3a"
             ],
             [
              0.8888888888888888,
              "#fdca26"
             ],
             [
              1,
              "#f0f921"
             ]
            ],
            "type": "contour"
           }
          ],
          "contourcarpet": [
           {
            "colorbar": {
             "outlinewidth": 0,
             "ticks": ""
            },
            "type": "contourcarpet"
           }
          ],
          "heatmap": [
           {
            "colorbar": {
             "outlinewidth": 0,
             "ticks": ""
            },
            "colorscale": [
             [
              0,
              "#0d0887"
             ],
             [
              0.1111111111111111,
              "#46039f"
             ],
             [
              0.2222222222222222,
              "#7201a8"
             ],
             [
              0.3333333333333333,
              "#9c179e"
             ],
             [
              0.4444444444444444,
              "#bd3786"
             ],
             [
              0.5555555555555556,
              "#d8576b"
             ],
             [
              0.6666666666666666,
              "#ed7953"
             ],
             [
              0.7777777777777778,
              "#fb9f3a"
             ],
             [
              0.8888888888888888,
              "#fdca26"
             ],
             [
              1,
              "#f0f921"
             ]
            ],
            "type": "heatmap"
           }
          ],
          "heatmapgl": [
           {
            "colorbar": {
             "outlinewidth": 0,
             "ticks": ""
            },
            "colorscale": [
             [
              0,
              "#0d0887"
             ],
             [
              0.1111111111111111,
              "#46039f"
             ],
             [
              0.2222222222222222,
              "#7201a8"
             ],
             [
              0.3333333333333333,
              "#9c179e"
             ],
             [
              0.4444444444444444,
              "#bd3786"
             ],
             [
              0.5555555555555556,
              "#d8576b"
             ],
             [
              0.6666666666666666,
              "#ed7953"
             ],
             [
              0.7777777777777778,
              "#fb9f3a"
             ],
             [
              0.8888888888888888,
              "#fdca26"
             ],
             [
              1,
              "#f0f921"
             ]
            ],
            "type": "heatmapgl"
           }
          ],
          "histogram": [
           {
            "marker": {
             "pattern": {
              "fillmode": "overlay",
              "size": 10,
              "solidity": 0.2
             }
            },
            "type": "histogram"
           }
          ],
          "histogram2d": [
           {
            "colorbar": {
             "outlinewidth": 0,
             "ticks": ""
            },
            "colorscale": [
             [
              0,
              "#0d0887"
             ],
             [
              0.1111111111111111,
              "#46039f"
             ],
             [
              0.2222222222222222,
              "#7201a8"
             ],
             [
              0.3333333333333333,
              "#9c179e"
             ],
             [
              0.4444444444444444,
              "#bd3786"
             ],
             [
              0.5555555555555556,
              "#d8576b"
             ],
             [
              0.6666666666666666,
              "#ed7953"
             ],
             [
              0.7777777777777778,
              "#fb9f3a"
             ],
             [
              0.8888888888888888,
              "#fdca26"
             ],
             [
              1,
              "#f0f921"
             ]
            ],
            "type": "histogram2d"
           }
          ],
          "histogram2dcontour": [
           {
            "colorbar": {
             "outlinewidth": 0,
             "ticks": ""
            },
            "colorscale": [
             [
              0,
              "#0d0887"
             ],
             [
              0.1111111111111111,
              "#46039f"
             ],
             [
              0.2222222222222222,
              "#7201a8"
             ],
             [
              0.3333333333333333,
              "#9c179e"
             ],
             [
              0.4444444444444444,
              "#bd3786"
             ],
             [
              0.5555555555555556,
              "#d8576b"
             ],
             [
              0.6666666666666666,
              "#ed7953"
             ],
             [
              0.7777777777777778,
              "#fb9f3a"
             ],
             [
              0.8888888888888888,
              "#fdca26"
             ],
             [
              1,
              "#f0f921"
             ]
            ],
            "type": "histogram2dcontour"
           }
          ],
          "mesh3d": [
           {
            "colorbar": {
             "outlinewidth": 0,
             "ticks": ""
            },
            "type": "mesh3d"
           }
          ],
          "parcoords": [
           {
            "line": {
             "colorbar": {
              "outlinewidth": 0,
              "ticks": ""
             }
            },
            "type": "parcoords"
           }
          ],
          "pie": [
           {
            "automargin": true,
            "type": "pie"
           }
          ],
          "scatter": [
           {
            "fillpattern": {
             "fillmode": "overlay",
             "size": 10,
             "solidity": 0.2
            },
            "type": "scatter"
           }
          ],
          "scatter3d": [
           {
            "line": {
             "colorbar": {
              "outlinewidth": 0,
              "ticks": ""
             }
            },
            "marker": {
             "colorbar": {
              "outlinewidth": 0,
              "ticks": ""
             }
            },
            "type": "scatter3d"
           }
          ],
          "scattercarpet": [
           {
            "marker": {
             "colorbar": {
              "outlinewidth": 0,
              "ticks": ""
             }
            },
            "type": "scattercarpet"
           }
          ],
          "scattergeo": [
           {
            "marker": {
             "colorbar": {
              "outlinewidth": 0,
              "ticks": ""
             }
            },
            "type": "scattergeo"
           }
          ],
          "scattergl": [
           {
            "marker": {
             "colorbar": {
              "outlinewidth": 0,
              "ticks": ""
             }
            },
            "type": "scattergl"
           }
          ],
          "scattermapbox": [
           {
            "marker": {
             "colorbar": {
              "outlinewidth": 0,
              "ticks": ""
             }
            },
            "type": "scattermapbox"
           }
          ],
          "scatterpolar": [
           {
            "marker": {
             "colorbar": {
              "outlinewidth": 0,
              "ticks": ""
             }
            },
            "type": "scatterpolar"
           }
          ],
          "scatterpolargl": [
           {
            "marker": {
             "colorbar": {
              "outlinewidth": 0,
              "ticks": ""
             }
            },
            "type": "scatterpolargl"
           }
          ],
          "scatterternary": [
           {
            "marker": {
             "colorbar": {
              "outlinewidth": 0,
              "ticks": ""
             }
            },
            "type": "scatterternary"
           }
          ],
          "surface": [
           {
            "colorbar": {
             "outlinewidth": 0,
             "ticks": ""
            },
            "colorscale": [
             [
              0,
              "#0d0887"
             ],
             [
              0.1111111111111111,
              "#46039f"
             ],
             [
              0.2222222222222222,
              "#7201a8"
             ],
             [
              0.3333333333333333,
              "#9c179e"
             ],
             [
              0.4444444444444444,
              "#bd3786"
             ],
             [
              0.5555555555555556,
              "#d8576b"
             ],
             [
              0.6666666666666666,
              "#ed7953"
             ],
             [
              0.7777777777777778,
              "#fb9f3a"
             ],
             [
              0.8888888888888888,
              "#fdca26"
             ],
             [
              1,
              "#f0f921"
             ]
            ],
            "type": "surface"
           }
          ],
          "table": [
           {
            "cells": {
             "fill": {
              "color": "#EBF0F8"
             },
             "line": {
              "color": "white"
             }
            },
            "header": {
             "fill": {
              "color": "#C8D4E3"
             },
             "line": {
              "color": "white"
             }
            },
            "type": "table"
           }
          ]
         },
         "layout": {
          "annotationdefaults": {
           "arrowcolor": "#2a3f5f",
           "arrowhead": 0,
           "arrowwidth": 1
          },
          "autotypenumbers": "strict",
          "coloraxis": {
           "colorbar": {
            "outlinewidth": 0,
            "ticks": ""
           }
          },
          "colorscale": {
           "diverging": [
            [
             0,
             "#8e0152"
            ],
            [
             0.1,
             "#c51b7d"
            ],
            [
             0.2,
             "#de77ae"
            ],
            [
             0.3,
             "#f1b6da"
            ],
            [
             0.4,
             "#fde0ef"
            ],
            [
             0.5,
             "#f7f7f7"
            ],
            [
             0.6,
             "#e6f5d0"
            ],
            [
             0.7,
             "#b8e186"
            ],
            [
             0.8,
             "#7fbc41"
            ],
            [
             0.9,
             "#4d9221"
            ],
            [
             1,
             "#276419"
            ]
           ],
           "sequential": [
            [
             0,
             "#0d0887"
            ],
            [
             0.1111111111111111,
             "#46039f"
            ],
            [
             0.2222222222222222,
             "#7201a8"
            ],
            [
             0.3333333333333333,
             "#9c179e"
            ],
            [
             0.4444444444444444,
             "#bd3786"
            ],
            [
             0.5555555555555556,
             "#d8576b"
            ],
            [
             0.6666666666666666,
             "#ed7953"
            ],
            [
             0.7777777777777778,
             "#fb9f3a"
            ],
            [
             0.8888888888888888,
             "#fdca26"
            ],
            [
             1,
             "#f0f921"
            ]
           ],
           "sequentialminus": [
            [
             0,
             "#0d0887"
            ],
            [
             0.1111111111111111,
             "#46039f"
            ],
            [
             0.2222222222222222,
             "#7201a8"
            ],
            [
             0.3333333333333333,
             "#9c179e"
            ],
            [
             0.4444444444444444,
             "#bd3786"
            ],
            [
             0.5555555555555556,
             "#d8576b"
            ],
            [
             0.6666666666666666,
             "#ed7953"
            ],
            [
             0.7777777777777778,
             "#fb9f3a"
            ],
            [
             0.8888888888888888,
             "#fdca26"
            ],
            [
             1,
             "#f0f921"
            ]
           ]
          },
          "colorway": [
           "#636efa",
           "#EF553B",
           "#00cc96",
           "#ab63fa",
           "#FFA15A",
           "#19d3f3",
           "#FF6692",
           "#B6E880",
           "#FF97FF",
           "#FECB52"
          ],
          "font": {
           "color": "#2a3f5f"
          },
          "geo": {
           "bgcolor": "white",
           "lakecolor": "white",
           "landcolor": "#E5ECF6",
           "showlakes": true,
           "showland": true,
           "subunitcolor": "white"
          },
          "hoverlabel": {
           "align": "left"
          },
          "hovermode": "closest",
          "mapbox": {
           "style": "light"
          },
          "paper_bgcolor": "white",
          "plot_bgcolor": "#E5ECF6",
          "polar": {
           "angularaxis": {
            "gridcolor": "white",
            "linecolor": "white",
            "ticks": ""
           },
           "bgcolor": "#E5ECF6",
           "radialaxis": {
            "gridcolor": "white",
            "linecolor": "white",
            "ticks": ""
           }
          },
          "scene": {
           "xaxis": {
            "backgroundcolor": "#E5ECF6",
            "gridcolor": "white",
            "gridwidth": 2,
            "linecolor": "white",
            "showbackground": true,
            "ticks": "",
            "zerolinecolor": "white"
           },
           "yaxis": {
            "backgroundcolor": "#E5ECF6",
            "gridcolor": "white",
            "gridwidth": 2,
            "linecolor": "white",
            "showbackground": true,
            "ticks": "",
            "zerolinecolor": "white"
           },
           "zaxis": {
            "backgroundcolor": "#E5ECF6",
            "gridcolor": "white",
            "gridwidth": 2,
            "linecolor": "white",
            "showbackground": true,
            "ticks": "",
            "zerolinecolor": "white"
           }
          },
          "shapedefaults": {
           "line": {
            "color": "#2a3f5f"
           }
          },
          "ternary": {
           "aaxis": {
            "gridcolor": "white",
            "linecolor": "white",
            "ticks": ""
           },
           "baxis": {
            "gridcolor": "white",
            "linecolor": "white",
            "ticks": ""
           },
           "bgcolor": "#E5ECF6",
           "caxis": {
            "gridcolor": "white",
            "linecolor": "white",
            "ticks": ""
           }
          },
          "title": {
           "x": 0.05
          },
          "xaxis": {
           "automargin": true,
           "gridcolor": "white",
           "linecolor": "white",
           "ticks": "",
           "title": {
            "standoff": 15
           },
           "zerolinecolor": "white",
           "zerolinewidth": 2
          },
          "yaxis": {
           "automargin": true,
           "gridcolor": "white",
           "linecolor": "white",
           "ticks": "",
           "title": {
            "standoff": 15
           },
           "zerolinecolor": "white",
           "zerolinewidth": 2
          }
         }
        },
        "title": {
         "text": "Average Service Duration by Damage Type and Cost Category Analysis",
         "x": 0.5
        },
        "xaxis": {
         "anchor": "y",
         "domain": [
          0,
          1
         ],
         "title": {
          "text": "damage type"
         }
        },
        "yaxis": {
         "anchor": "x",
         "domain": [
          0,
          1
         ],
         "title": {
          "text": "AverageServiceDuration"
         }
        }
       }
      },
      "text/html": [
       "<div>                            <div id=\"af12bf08-328b-421f-a0b3-cfd0a51bd0e9\" class=\"plotly-graph-div\" style=\"height:525px; width:100%;\"></div>            <script type=\"text/javascript\">                require([\"plotly\"], function(Plotly) {                    window.PLOTLYENV=window.PLOTLYENV || {};                                    if (document.getElementById(\"af12bf08-328b-421f-a0b3-cfd0a51bd0e9\")) {                    Plotly.newPlot(                        \"af12bf08-328b-421f-a0b3-cfd0a51bd0e9\",                        [{\"hovertemplate\":\"color=1000:1500\\u003cbr\\u003ex=%{x}\\u003cbr\\u003eAverageServiceDuration=%{y}\\u003cextra\\u003e\\u003c\\u002fextra\\u003e\",\"legendgroup\":\"1000:1500\",\"marker\":{\"color\":\"#636efa\",\"symbol\":\"circle\"},\"mode\":\"markers\",\"name\":\"1000:1500\",\"orientation\":\"v\",\"showlegend\":true,\"x\":[\"اصلاح بودي\",\"اصلاح ميكانيك\"],\"xaxis\":\"x\",\"y\":[5.6,2.0],\"yaxis\":\"y\",\"type\":\"scatter\"},{\"hovertemplate\":\"color=100:150\\u003cbr\\u003ex=%{x}\\u003cbr\\u003eAverageServiceDuration=%{y}\\u003cextra\\u003e\\u003c\\u002fextra\\u003e\",\"legendgroup\":\"100:150\",\"marker\":{\"color\":\"#EF553B\",\"symbol\":\"circle\"},\"mode\":\"markers\",\"name\":\"100:150\",\"orientation\":\"v\",\"showlegend\":true,\"x\":[\"اصلاح بودي\",\"اصلاح زجاج\",\"اصلاح فرش\",\"اصلاح كهرباء\",\"اصلاح كوشوك\",\"اصلاح ميكانيك\",\"غيار زيت\"],\"xaxis\":\"x\",\"y\":[5.0,1.0,3.5,1.0,1.0,1.3,1.0],\"yaxis\":\"y\",\"type\":\"scatter\"},{\"hovertemplate\":\"color=1500:2000\\u003cbr\\u003ex=%{x}\\u003cbr\\u003eAverageServiceDuration=%{y}\\u003cextra\\u003e\\u003c\\u002fextra\\u003e\",\"legendgroup\":\"1500:2000\",\"marker\":{\"color\":\"#00cc96\",\"symbol\":\"circle\"},\"mode\":\"markers\",\"name\":\"1500:2000\",\"orientation\":\"v\",\"showlegend\":true,\"x\":[\"اصلاح بودي\"],\"xaxis\":\"x\",\"y\":[7.0],\"yaxis\":\"y\",\"type\":\"scatter\"},{\"hovertemplate\":\"color=150:200\\u003cbr\\u003ex=%{x}\\u003cbr\\u003eAverageServiceDuration=%{y}\\u003cextra\\u003e\\u003c\\u002fextra\\u003e\",\"legendgroup\":\"150:200\",\"marker\":{\"color\":\"#ab63fa\",\"symbol\":\"circle\"},\"mode\":\"markers\",\"name\":\"150:200\",\"orientation\":\"v\",\"showlegend\":true,\"x\":[\"اصلاح بودي\",\"اصلاح كوشوك\",\"اصلاح ميكانيك\"],\"xaxis\":\"x\",\"y\":[7.1,1.4,1.8],\"yaxis\":\"y\",\"type\":\"scatter\"},{\"hovertemplate\":\"color=1:50\\u003cbr\\u003ex=%{x}\\u003cbr\\u003eAverageServiceDuration=%{y}\\u003cextra\\u003e\\u003c\\u002fextra\\u003e\",\"legendgroup\":\"1:50\",\"marker\":{\"color\":\"#FFA15A\",\"symbol\":\"circle\"},\"mode\":\"markers\",\"name\":\"1:50\",\"orientation\":\"v\",\"showlegend\":true,\"x\":[\"اصلاح بودي\",\"اصلاح زجاج\",\"اصلاح فرش\",\"اصلاح كهرباء\",\"اصلاح كوشوك\",\"اصلاح ميكانيك\",\"غيار زيت\"],\"xaxis\":\"x\",\"y\":[2.9,1.0,1.2,2.8,1.0,1.0,1.0],\"yaxis\":\"y\",\"type\":\"scatter\"},{\"hovertemplate\":\"color=2000:3000\\u003cbr\\u003ex=%{x}\\u003cbr\\u003eAverageServiceDuration=%{y}\\u003cextra\\u003e\\u003c\\u002fextra\\u003e\",\"legendgroup\":\"2000:3000\",\"marker\":{\"color\":\"#19d3f3\",\"symbol\":\"circle\"},\"mode\":\"markers\",\"name\":\"2000:3000\",\"orientation\":\"v\",\"showlegend\":true,\"x\":[\"اصلاح بودي\",\"اصلاح ميكانيك\"],\"xaxis\":\"x\",\"y\":[30.0,70.0],\"yaxis\":\"y\",\"type\":\"scatter\"},{\"hovertemplate\":\"color=200:300\\u003cbr\\u003ex=%{x}\\u003cbr\\u003eAverageServiceDuration=%{y}\\u003cextra\\u003e\\u003c\\u002fextra\\u003e\",\"legendgroup\":\"200:300\",\"marker\":{\"color\":\"#FF6692\",\"symbol\":\"circle\"},\"mode\":\"markers\",\"name\":\"200:300\",\"orientation\":\"v\",\"showlegend\":true,\"x\":[\"اصلاح بودي\",\"اصلاح كهرباء\",\"اصلاح كوشوك\",\"اصلاح ميكانيك\",\"غيار زيت\"],\"xaxis\":\"x\",\"y\":[5.3,13.0,1.0,1.2,3.5],\"yaxis\":\"y\",\"type\":\"scatter\"},{\"hovertemplate\":\"color=300:400\\u003cbr\\u003ex=%{x}\\u003cbr\\u003eAverageServiceDuration=%{y}\\u003cextra\\u003e\\u003c\\u002fextra\\u003e\",\"legendgroup\":\"300:400\",\"marker\":{\"color\":\"#B6E880\",\"symbol\":\"circle\"},\"mode\":\"markers\",\"name\":\"300:400\",\"orientation\":\"v\",\"showlegend\":true,\"x\":[\"اصلاح بودي\",\"اصلاح كوشوك\",\"اصلاح ميكانيك\"],\"xaxis\":\"x\",\"y\":[6.1,1.0,1.0],\"yaxis\":\"y\",\"type\":\"scatter\"},{\"hovertemplate\":\"color=400:500\\u003cbr\\u003ex=%{x}\\u003cbr\\u003eAverageServiceDuration=%{y}\\u003cextra\\u003e\\u003c\\u002fextra\\u003e\",\"legendgroup\":\"400:500\",\"marker\":{\"color\":\"#FF97FF\",\"symbol\":\"circle\"},\"mode\":\"markers\",\"name\":\"400:500\",\"orientation\":\"v\",\"showlegend\":true,\"x\":[\"اصلاح بودي\",\"اصلاح كوشوك\",\"اصلاح ميكانيك\"],\"xaxis\":\"x\",\"y\":[7.5,1.0,1.0],\"yaxis\":\"y\",\"type\":\"scatter\"},{\"hovertemplate\":\"color=500:600\\u003cbr\\u003ex=%{x}\\u003cbr\\u003eAverageServiceDuration=%{y}\\u003cextra\\u003e\\u003c\\u002fextra\\u003e\",\"legendgroup\":\"500:600\",\"marker\":{\"color\":\"#FECB52\",\"symbol\":\"circle\"},\"mode\":\"markers\",\"name\":\"500:600\",\"orientation\":\"v\",\"showlegend\":true,\"x\":[\"اصلاح بودي\",\"اصلاح كوشوك\",\"اصلاح ميكانيك\"],\"xaxis\":\"x\",\"y\":[4.2,4.9,11.6],\"yaxis\":\"y\",\"type\":\"scatter\"},{\"hovertemplate\":\"color=50:100\\u003cbr\\u003ex=%{x}\\u003cbr\\u003eAverageServiceDuration=%{y}\\u003cextra\\u003e\\u003c\\u002fextra\\u003e\",\"legendgroup\":\"50:100\",\"marker\":{\"color\":\"#636efa\",\"symbol\":\"circle\"},\"mode\":\"markers\",\"name\":\"50:100\",\"orientation\":\"v\",\"showlegend\":true,\"x\":[\"اصلاح بودي\",\"اصلاح زجاج\",\"اصلاح فرش\",\"اصلاح كهرباء\",\"اصلاح كوشوك\",\"اصلاح ميكانيك\",\"غيار زيت\"],\"xaxis\":\"x\",\"y\":[4.3,1.1,2.0,1.4,1.0,1.2,1.1],\"yaxis\":\"y\",\"type\":\"scatter\"},{\"hovertemplate\":\"color=600:700\\u003cbr\\u003ex=%{x}\\u003cbr\\u003eAverageServiceDuration=%{y}\\u003cextra\\u003e\\u003c\\u002fextra\\u003e\",\"legendgroup\":\"600:700\",\"marker\":{\"color\":\"#EF553B\",\"symbol\":\"circle\"},\"mode\":\"markers\",\"name\":\"600:700\",\"orientation\":\"v\",\"showlegend\":true,\"x\":[\"اصلاح بودي\",\"اصلاح كوشوك\",\"اصلاح ميكانيك\"],\"xaxis\":\"x\",\"y\":[5.7,1.0,1.0],\"yaxis\":\"y\",\"type\":\"scatter\"},{\"hovertemplate\":\"color=700:800\\u003cbr\\u003ex=%{x}\\u003cbr\\u003eAverageServiceDuration=%{y}\\u003cextra\\u003e\\u003c\\u002fextra\\u003e\",\"legendgroup\":\"700:800\",\"marker\":{\"color\":\"#00cc96\",\"symbol\":\"circle\"},\"mode\":\"markers\",\"name\":\"700:800\",\"orientation\":\"v\",\"showlegend\":true,\"x\":[\"اصلاح بودي\"],\"xaxis\":\"x\",\"y\":[9.2],\"yaxis\":\"y\",\"type\":\"scatter\"},{\"hovertemplate\":\"color=800:900\\u003cbr\\u003ex=%{x}\\u003cbr\\u003eAverageServiceDuration=%{y}\\u003cextra\\u003e\\u003c\\u002fextra\\u003e\",\"legendgroup\":\"800:900\",\"marker\":{\"color\":\"#ab63fa\",\"symbol\":\"circle\"},\"mode\":\"markers\",\"name\":\"800:900\",\"orientation\":\"v\",\"showlegend\":true,\"x\":[\"اصلاح بودي\"],\"xaxis\":\"x\",\"y\":[10.0],\"yaxis\":\"y\",\"type\":\"scatter\"},{\"hovertemplate\":\"color=900:1000\\u003cbr\\u003ex=%{x}\\u003cbr\\u003eAverageServiceDuration=%{y}\\u003cextra\\u003e\\u003c\\u002fextra\\u003e\",\"legendgroup\":\"900:1000\",\"marker\":{\"color\":\"#FFA15A\",\"symbol\":\"circle\"},\"mode\":\"markers\",\"name\":\"900:1000\",\"orientation\":\"v\",\"showlegend\":true,\"x\":[\"اصلاح بودي\"],\"xaxis\":\"x\",\"y\":[14.0],\"yaxis\":\"y\",\"type\":\"scatter\"}],                        {\"template\":{\"data\":{\"histogram2dcontour\":[{\"type\":\"histogram2dcontour\",\"colorbar\":{\"outlinewidth\":0,\"ticks\":\"\"},\"colorscale\":[[0.0,\"#0d0887\"],[0.1111111111111111,\"#46039f\"],[0.2222222222222222,\"#7201a8\"],[0.3333333333333333,\"#9c179e\"],[0.4444444444444444,\"#bd3786\"],[0.5555555555555556,\"#d8576b\"],[0.6666666666666666,\"#ed7953\"],[0.7777777777777778,\"#fb9f3a\"],[0.8888888888888888,\"#fdca26\"],[1.0,\"#f0f921\"]]}],\"choropleth\":[{\"type\":\"choropleth\",\"colorbar\":{\"outlinewidth\":0,\"ticks\":\"\"}}],\"histogram2d\":[{\"type\":\"histogram2d\",\"colorbar\":{\"outlinewidth\":0,\"ticks\":\"\"},\"colorscale\":[[0.0,\"#0d0887\"],[0.1111111111111111,\"#46039f\"],[0.2222222222222222,\"#7201a8\"],[0.3333333333333333,\"#9c179e\"],[0.4444444444444444,\"#bd3786\"],[0.5555555555555556,\"#d8576b\"],[0.6666666666666666,\"#ed7953\"],[0.7777777777777778,\"#fb9f3a\"],[0.8888888888888888,\"#fdca26\"],[1.0,\"#f0f921\"]]}],\"heatmap\":[{\"type\":\"heatmap\",\"colorbar\":{\"outlinewidth\":0,\"ticks\":\"\"},\"colorscale\":[[0.0,\"#0d0887\"],[0.1111111111111111,\"#46039f\"],[0.2222222222222222,\"#7201a8\"],[0.3333333333333333,\"#9c179e\"],[0.4444444444444444,\"#bd3786\"],[0.5555555555555556,\"#d8576b\"],[0.6666666666666666,\"#ed7953\"],[0.7777777777777778,\"#fb9f3a\"],[0.8888888888888888,\"#fdca26\"],[1.0,\"#f0f921\"]]}],\"heatmapgl\":[{\"type\":\"heatmapgl\",\"colorbar\":{\"outlinewidth\":0,\"ticks\":\"\"},\"colorscale\":[[0.0,\"#0d0887\"],[0.1111111111111111,\"#46039f\"],[0.2222222222222222,\"#7201a8\"],[0.3333333333333333,\"#9c179e\"],[0.4444444444444444,\"#bd3786\"],[0.5555555555555556,\"#d8576b\"],[0.6666666666666666,\"#ed7953\"],[0.7777777777777778,\"#fb9f3a\"],[0.8888888888888888,\"#fdca26\"],[1.0,\"#f0f921\"]]}],\"contourcarpet\":[{\"type\":\"contourcarpet\",\"colorbar\":{\"outlinewidth\":0,\"ticks\":\"\"}}],\"contour\":[{\"type\":\"contour\",\"colorbar\":{\"outlinewidth\":0,\"ticks\":\"\"},\"colorscale\":[[0.0,\"#0d0887\"],[0.1111111111111111,\"#46039f\"],[0.2222222222222222,\"#7201a8\"],[0.3333333333333333,\"#9c179e\"],[0.4444444444444444,\"#bd3786\"],[0.5555555555555556,\"#d8576b\"],[0.6666666666666666,\"#ed7953\"],[0.7777777777777778,\"#fb9f3a\"],[0.8888888888888888,\"#fdca26\"],[1.0,\"#f0f921\"]]}],\"surface\":[{\"type\":\"surface\",\"colorbar\":{\"outlinewidth\":0,\"ticks\":\"\"},\"colorscale\":[[0.0,\"#0d0887\"],[0.1111111111111111,\"#46039f\"],[0.2222222222222222,\"#7201a8\"],[0.3333333333333333,\"#9c179e\"],[0.4444444444444444,\"#bd3786\"],[0.5555555555555556,\"#d8576b\"],[0.6666666666666666,\"#ed7953\"],[0.7777777777777778,\"#fb9f3a\"],[0.8888888888888888,\"#fdca26\"],[1.0,\"#f0f921\"]]}],\"mesh3d\":[{\"type\":\"mesh3d\",\"colorbar\":{\"outlinewidth\":0,\"ticks\":\"\"}}],\"scatter\":[{\"fillpattern\":{\"fillmode\":\"overlay\",\"size\":10,\"solidity\":0.2},\"type\":\"scatter\"}],\"parcoords\":[{\"type\":\"parcoords\",\"line\":{\"colorbar\":{\"outlinewidth\":0,\"ticks\":\"\"}}}],\"scatterpolargl\":[{\"type\":\"scatterpolargl\",\"marker\":{\"colorbar\":{\"outlinewidth\":0,\"ticks\":\"\"}}}],\"bar\":[{\"error_x\":{\"color\":\"#2a3f5f\"},\"error_y\":{\"color\":\"#2a3f5f\"},\"marker\":{\"line\":{\"color\":\"#E5ECF6\",\"width\":0.5},\"pattern\":{\"fillmode\":\"overlay\",\"size\":10,\"solidity\":0.2}},\"type\":\"bar\"}],\"scattergeo\":[{\"type\":\"scattergeo\",\"marker\":{\"colorbar\":{\"outlinewidth\":0,\"ticks\":\"\"}}}],\"scatterpolar\":[{\"type\":\"scatterpolar\",\"marker\":{\"colorbar\":{\"outlinewidth\":0,\"ticks\":\"\"}}}],\"histogram\":[{\"marker\":{\"pattern\":{\"fillmode\":\"overlay\",\"size\":10,\"solidity\":0.2}},\"type\":\"histogram\"}],\"scattergl\":[{\"type\":\"scattergl\",\"marker\":{\"colorbar\":{\"outlinewidth\":0,\"ticks\":\"\"}}}],\"scatter3d\":[{\"type\":\"scatter3d\",\"line\":{\"colorbar\":{\"outlinewidth\":0,\"ticks\":\"\"}},\"marker\":{\"colorbar\":{\"outlinewidth\":0,\"ticks\":\"\"}}}],\"scattermapbox\":[{\"type\":\"scattermapbox\",\"marker\":{\"colorbar\":{\"outlinewidth\":0,\"ticks\":\"\"}}}],\"scatterternary\":[{\"type\":\"scatterternary\",\"marker\":{\"colorbar\":{\"outlinewidth\":0,\"ticks\":\"\"}}}],\"scattercarpet\":[{\"type\":\"scattercarpet\",\"marker\":{\"colorbar\":{\"outlinewidth\":0,\"ticks\":\"\"}}}],\"carpet\":[{\"aaxis\":{\"endlinecolor\":\"#2a3f5f\",\"gridcolor\":\"white\",\"linecolor\":\"white\",\"minorgridcolor\":\"white\",\"startlinecolor\":\"#2a3f5f\"},\"baxis\":{\"endlinecolor\":\"#2a3f5f\",\"gridcolor\":\"white\",\"linecolor\":\"white\",\"minorgridcolor\":\"white\",\"startlinecolor\":\"#2a3f5f\"},\"type\":\"carpet\"}],\"table\":[{\"cells\":{\"fill\":{\"color\":\"#EBF0F8\"},\"line\":{\"color\":\"white\"}},\"header\":{\"fill\":{\"color\":\"#C8D4E3\"},\"line\":{\"color\":\"white\"}},\"type\":\"table\"}],\"barpolar\":[{\"marker\":{\"line\":{\"color\":\"#E5ECF6\",\"width\":0.5},\"pattern\":{\"fillmode\":\"overlay\",\"size\":10,\"solidity\":0.2}},\"type\":\"barpolar\"}],\"pie\":[{\"automargin\":true,\"type\":\"pie\"}]},\"layout\":{\"autotypenumbers\":\"strict\",\"colorway\":[\"#636efa\",\"#EF553B\",\"#00cc96\",\"#ab63fa\",\"#FFA15A\",\"#19d3f3\",\"#FF6692\",\"#B6E880\",\"#FF97FF\",\"#FECB52\"],\"font\":{\"color\":\"#2a3f5f\"},\"hovermode\":\"closest\",\"hoverlabel\":{\"align\":\"left\"},\"paper_bgcolor\":\"white\",\"plot_bgcolor\":\"#E5ECF6\",\"polar\":{\"bgcolor\":\"#E5ECF6\",\"angularaxis\":{\"gridcolor\":\"white\",\"linecolor\":\"white\",\"ticks\":\"\"},\"radialaxis\":{\"gridcolor\":\"white\",\"linecolor\":\"white\",\"ticks\":\"\"}},\"ternary\":{\"bgcolor\":\"#E5ECF6\",\"aaxis\":{\"gridcolor\":\"white\",\"linecolor\":\"white\",\"ticks\":\"\"},\"baxis\":{\"gridcolor\":\"white\",\"linecolor\":\"white\",\"ticks\":\"\"},\"caxis\":{\"gridcolor\":\"white\",\"linecolor\":\"white\",\"ticks\":\"\"}},\"coloraxis\":{\"colorbar\":{\"outlinewidth\":0,\"ticks\":\"\"}},\"colorscale\":{\"sequential\":[[0.0,\"#0d0887\"],[0.1111111111111111,\"#46039f\"],[0.2222222222222222,\"#7201a8\"],[0.3333333333333333,\"#9c179e\"],[0.4444444444444444,\"#bd3786\"],[0.5555555555555556,\"#d8576b\"],[0.6666666666666666,\"#ed7953\"],[0.7777777777777778,\"#fb9f3a\"],[0.8888888888888888,\"#fdca26\"],[1.0,\"#f0f921\"]],\"sequentialminus\":[[0.0,\"#0d0887\"],[0.1111111111111111,\"#46039f\"],[0.2222222222222222,\"#7201a8\"],[0.3333333333333333,\"#9c179e\"],[0.4444444444444444,\"#bd3786\"],[0.5555555555555556,\"#d8576b\"],[0.6666666666666666,\"#ed7953\"],[0.7777777777777778,\"#fb9f3a\"],[0.8888888888888888,\"#fdca26\"],[1.0,\"#f0f921\"]],\"diverging\":[[0,\"#8e0152\"],[0.1,\"#c51b7d\"],[0.2,\"#de77ae\"],[0.3,\"#f1b6da\"],[0.4,\"#fde0ef\"],[0.5,\"#f7f7f7\"],[0.6,\"#e6f5d0\"],[0.7,\"#b8e186\"],[0.8,\"#7fbc41\"],[0.9,\"#4d9221\"],[1,\"#276419\"]]},\"xaxis\":{\"gridcolor\":\"white\",\"linecolor\":\"white\",\"ticks\":\"\",\"title\":{\"standoff\":15},\"zerolinecolor\":\"white\",\"automargin\":true,\"zerolinewidth\":2},\"yaxis\":{\"gridcolor\":\"white\",\"linecolor\":\"white\",\"ticks\":\"\",\"title\":{\"standoff\":15},\"zerolinecolor\":\"white\",\"automargin\":true,\"zerolinewidth\":2},\"scene\":{\"xaxis\":{\"backgroundcolor\":\"#E5ECF6\",\"gridcolor\":\"white\",\"linecolor\":\"white\",\"showbackground\":true,\"ticks\":\"\",\"zerolinecolor\":\"white\",\"gridwidth\":2},\"yaxis\":{\"backgroundcolor\":\"#E5ECF6\",\"gridcolor\":\"white\",\"linecolor\":\"white\",\"showbackground\":true,\"ticks\":\"\",\"zerolinecolor\":\"white\",\"gridwidth\":2},\"zaxis\":{\"backgroundcolor\":\"#E5ECF6\",\"gridcolor\":\"white\",\"linecolor\":\"white\",\"showbackground\":true,\"ticks\":\"\",\"zerolinecolor\":\"white\",\"gridwidth\":2}},\"shapedefaults\":{\"line\":{\"color\":\"#2a3f5f\"}},\"annotationdefaults\":{\"arrowcolor\":\"#2a3f5f\",\"arrowhead\":0,\"arrowwidth\":1},\"geo\":{\"bgcolor\":\"white\",\"landcolor\":\"#E5ECF6\",\"subunitcolor\":\"white\",\"showland\":true,\"showlakes\":true,\"lakecolor\":\"white\"},\"title\":{\"x\":0.05},\"mapbox\":{\"style\":\"light\"}}},\"xaxis\":{\"anchor\":\"y\",\"domain\":[0.0,1.0],\"title\":{\"text\":\"damage type\"}},\"yaxis\":{\"anchor\":\"x\",\"domain\":[0.0,1.0],\"title\":{\"text\":\"AverageServiceDuration\"}},\"legend\":{\"title\":{\"text\":\"color\"},\"tracegroupgap\":0},\"title\":{\"text\":\"Average Service Duration by Damage Type and Cost Category Analysis\",\"x\":0.5}},                        {\"responsive\": true}                    ).then(function(){\n",
       "                            \n",
       "var gd = document.getElementById('af12bf08-328b-421f-a0b3-cfd0a51bd0e9');\n",
       "var x = new MutationObserver(function (mutations, observer) {{\n",
       "        var display = window.getComputedStyle(gd).display;\n",
       "        if (!display || display === 'none') {{\n",
       "            console.log([gd, 'removed!']);\n",
       "            Plotly.purge(gd);\n",
       "            observer.disconnect();\n",
       "        }}\n",
       "}});\n",
       "\n",
       "// Listen for the removal of the full notebook cells\n",
       "var notebookContainer = gd.closest('#notebook-container');\n",
       "if (notebookContainer) {{\n",
       "    x.observe(notebookContainer, {childList: true});\n",
       "}}\n",
       "\n",
       "// Listen for the clearing of the current output cell\n",
       "var outputEl = gd.closest('.output');\n",
       "if (outputEl) {{\n",
       "    x.observe(outputEl, {childList: true});\n",
       "}}\n",
       "\n",
       "                        })                };                });            </script>        </div>"
      ]
     },
     "metadata": {},
     "output_type": "display_data"
    }
   ],
   "source": [
    "avg_service_duration_by_damage_cost_category = df.groupby(['damage type','cost_category'])['service_duration'].mean().round(1).sort_values().reset_index(name='AverageServiceDuration')\n",
    "mySunBurst(avg_service_duration_by_damage_cost_category, name=['damage type','cost_category'], value='AverageServiceDuration',title='Average Service Duration by Damage Type')\n",
    "#mydata = avg_service_duration_by_damage_cost_category\n",
    "#xs = mydata['damage type'].astype(str)\n",
    "#ys = mydata['AverageServiceDuration']\n",
    "#clr = mydata['cost_category'].astype(str)\n",
    "\n",
    "myPlot1(\n",
    "    data=avg_service_duration_by_damage_cost_category,\n",
    "    xs='damage type',\n",
    "    ys='AverageServiceDuration',\n",
    "    clr='cost_category',\n",
    "    plotType='bar',\n",
    "    title='Average Service Duration by Damage Type and Cost Category',\n",
    "    sort_by=['damage type','AverageServiceDuration'],\n",
    "    ascending=[True, True]\n",
    ")\n",
    "myPlot1(\n",
    "    data=avg_service_duration_by_damage_cost_category,\n",
    "    xs='damage type',\n",
    "    ys='AverageServiceDuration',\n",
    "    clr='cost_category',\n",
    "    plotType='scatter',\n",
    "    title='Average Service Duration by Damage Type and Cost Category',\n",
    "    sort_by=['cost_category', 'damage type'],\n",
    "    ascending=[True, True])"
   ]
  },
  {
   "cell_type": "code",
   "execution_count": null,
   "id": "01765f20",
   "metadata": {},
   "outputs": [],
   "source": []
  }
 ],
 "metadata": {
  "kernelspec": {
   "display_name": "Python 3 (ipykernel)",
   "language": "python",
   "name": "python3"
  },
  "language_info": {
   "codemirror_mode": {
    "name": "ipython",
    "version": 3
   },
   "file_extension": ".py",
   "mimetype": "text/x-python",
   "name": "python",
   "nbconvert_exporter": "python",
   "pygments_lexer": "ipython3",
   "version": "3.7.9"
  }
 },
 "nbformat": 4,
 "nbformat_minor": 5
}
